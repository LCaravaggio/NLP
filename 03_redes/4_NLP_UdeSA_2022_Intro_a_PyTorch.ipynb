{
  "cells": [
    {
      "cell_type": "markdown",
      "metadata": {
        "id": "view-in-github",
        "colab_type": "text"
      },
      "source": [
        "<a href=\"https://colab.research.google.com/github/LCaravaggio/NLP/blob/main/03_redes/4_NLP_UdeSA_2022_Intro_a_PyTorch.ipynb\" target=\"_parent\"><img src=\"https://colab.research.google.com/assets/colab-badge.svg\" alt=\"Open In Colab\"/></a>"
      ]
    },
    {
      "cell_type": "markdown",
      "metadata": {
        "id": "H6oqGiIXvrMl"
      },
      "source": [
        "# Tutorial de PyTorch \n",
        "### Basado en notebook del curso de Stanford CS224n (Dilara Soylu, Ethan Chi)\n",
        "\n",
        "\n",
        "\"Autor\": Juan Manuel Pérez + Google Translate\n",
        "Usado en su curso de Maestría UDESA"
      ]
    },
    {
      "cell_type": "code",
      "source": [
        "%%capture\n",
        "!pip install torch"
      ],
      "metadata": {
        "id": "CQl6d9nOIGdH"
      },
      "execution_count": null,
      "outputs": []
    },
    {
      "cell_type": "markdown",
      "metadata": {
        "id": "4gk1UKaNvrMv"
      },
      "source": [
        "## Introducción\n",
        "[PyTorch](https://pytorch.org/) es un framework de Deep Learning, uno más junto a TensorFlow, JaX, y Theano (QEPD)."
      ]
    },
    {
      "cell_type": "code",
      "execution_count": null,
      "metadata": {
        "id": "u0ukr7quvrMx"
      },
      "outputs": [],
      "source": [
        "import torch\n",
        "import torch.nn as nn\n",
        "\n",
        "# Import pprint, module we use for making our print statements prettier\n",
        "import pprint\n",
        "pp = pprint.PrettyPrinter()"
      ]
    },
    {
      "cell_type": "markdown",
      "metadata": {
        "id": "OLdSN9ZXvrM0"
      },
      "source": [
        "## Parte 1: Tensores\n",
        "\n",
        "Los **tensores** son la base de PyTorch. Cada tensor es una matriz multidimensional; por ejemplo, una imagen cuadrada de 256x256 podría estar representada por un tensor '3x256x256', donde la primera dimensión representa el color. Así es como se crea un tensor:\n"
      ]
    },
    {
      "cell_type": "code",
      "execution_count": null,
      "metadata": {
        "id": "hXD7cTLTh4oF",
        "colab": {
          "base_uri": "https://localhost:8080/"
        },
        "outputId": "ce18e4c2-389b-443a-e978-81c36d15d0d1"
      },
      "outputs": [
        {
          "output_type": "stream",
          "name": "stdout",
          "text": [
            "[[1, 2, 3], [4, 5, 6]]\n"
          ]
        }
      ],
      "source": [
        "list_of_lists = [\n",
        "  [1, 2, 3],\n",
        "  [4, 5, 6],\n",
        "]\n",
        "print(list_of_lists)"
      ]
    },
    {
      "cell_type": "code",
      "execution_count": null,
      "metadata": {
        "id": "-VLgHhj0n3LM",
        "colab": {
          "base_uri": "https://localhost:8080/"
        },
        "outputId": "81e4c0d0-d345-4527-a8e2-0818544a4e69"
      },
      "outputs": [
        {
          "output_type": "stream",
          "name": "stdout",
          "text": [
            "tensor([[0., 1.],\n",
            "        [2., 3.],\n",
            "        [4., 5.]])\n"
          ]
        }
      ],
      "source": [
        "# Initializing a tensor\n",
        "data = torch.tensor([\n",
        "                     [0.0, 1],    \n",
        "                     [2, 3],\n",
        "                     [4, 5]\n",
        "                    ])\n",
        "print(data)"
      ]
    },
    {
      "cell_type": "markdown",
      "metadata": {
        "id": "1i7vrR1_oO4I"
      },
      "source": [
        "Cada tensor tiene un **tipo de dato**: usaremos mayormente dos, los flotantes (`torch.float32`) y los enteros (`torch.int`). Se puede especificar el tipo de datos explícitamente cuando se crea el tensor:"
      ]
    },
    {
      "cell_type": "code",
      "execution_count": null,
      "metadata": {
        "id": "t7nMdqgMoLOa",
        "colab": {
          "base_uri": "https://localhost:8080/"
        },
        "outputId": "5f785563-c1dd-46e7-c7a3-c03818a7403e"
      },
      "outputs": [
        {
          "output_type": "stream",
          "name": "stdout",
          "text": [
            "tensor([[0., 1.],\n",
            "        [2., 3.],\n",
            "        [4., 5.]])\n"
          ]
        }
      ],
      "source": [
        "data = torch.tensor([\n",
        "                     [0, 1],    \n",
        "                     [2, 3],\n",
        "                     [4, 5]\n",
        "                    ], dtype=torch.float32)\n",
        "print(data)"
      ]
    },
    {
      "cell_type": "code",
      "execution_count": null,
      "metadata": {
        "id": "I4vr6EYbiOEJ",
        "colab": {
          "base_uri": "https://localhost:8080/"
        },
        "outputId": "71b66027-d0f6-41f6-b4a1-4e72e39f5788"
      },
      "outputs": [
        {
          "output_type": "stream",
          "name": "stdout",
          "text": [
            "tensor([[0.1111, 1.0000],\n",
            "        [2.0000, 3.0000],\n",
            "        [4.0000, 5.0000]])\n"
          ]
        }
      ],
      "source": [
        "\n",
        "data = torch.tensor([\n",
        "                     [0.11111111, 1],    \n",
        "                     [2, 3],\n",
        "                     [4, 5]\n",
        "                    ], dtype=torch.float32)\n",
        "print(data)"
      ]
    },
    {
      "cell_type": "markdown",
      "metadata": {
        "id": "aiGCmTsrpkP-"
      },
      "source": [
        "Podemos crear algunos tensores especiales con ciertas funciones"
      ]
    },
    {
      "cell_type": "code",
      "execution_count": null,
      "metadata": {
        "id": "0tn-N-z_qYj0",
        "colab": {
          "base_uri": "https://localhost:8080/"
        },
        "outputId": "b434b77c-1a28-45d9-e57f-08f55aac2c16"
      },
      "outputs": [
        {
          "output_type": "stream",
          "name": "stdout",
          "text": [
            "tensor([[0., 0., 0., 0., 0.],\n",
            "        [0., 0., 0., 0., 0.]])\n"
          ]
        }
      ],
      "source": [
        "zeros = torch.zeros(2, 5)  # a tensor of all zeros\n",
        "print(zeros) "
      ]
    },
    {
      "cell_type": "code",
      "execution_count": null,
      "metadata": {
        "id": "ue26M5Npqoe3",
        "colab": {
          "base_uri": "https://localhost:8080/"
        },
        "outputId": "33540dc6-3605-4a60-b11a-aa3fb7772204"
      },
      "outputs": [
        {
          "output_type": "stream",
          "name": "stdout",
          "text": [
            "tensor([[1., 1., 1., 1.],\n",
            "        [1., 1., 1., 1.],\n",
            "        [1., 1., 1., 1.]])\n"
          ]
        }
      ],
      "source": [
        "ones = torch.ones(3, 4)   # a tensor of all ones\n",
        "print(ones)"
      ]
    },
    {
      "cell_type": "code",
      "execution_count": null,
      "metadata": {
        "id": "hdvaujtvqokI",
        "colab": {
          "base_uri": "https://localhost:8080/"
        },
        "outputId": "2eb9cde8-fc58-4608-84b3-e8fc33b9fd9b"
      },
      "outputs": [
        {
          "output_type": "stream",
          "name": "stdout",
          "text": [
            "tensor([1, 2, 3, 4, 5, 6, 7, 8, 9])\n"
          ]
        }
      ],
      "source": [
        "rr = torch.arange(1, 10) # range from [1, 10) \n",
        "print(rr)"
      ]
    },
    {
      "cell_type": "markdown",
      "source": [
        "Podemos aplicar operaciones vectoriales, como sumar 2 a todos los elementos"
      ],
      "metadata": {
        "id": "U2OoRdJUmDjI"
      }
    },
    {
      "cell_type": "code",
      "execution_count": null,
      "metadata": {
        "id": "lK3q3LRHipHB",
        "colab": {
          "base_uri": "https://localhost:8080/"
        },
        "outputId": "1bc8158f-448f-4a72-d4de-9210250ad49d"
      },
      "outputs": [
        {
          "output_type": "execute_result",
          "data": {
            "text/plain": [
              "tensor([ 3,  4,  5,  6,  7,  8,  9, 10, 11])"
            ]
          },
          "metadata": {},
          "execution_count": 14
        }
      ],
      "source": [
        "rr + 2"
      ]
    },
    {
      "cell_type": "code",
      "execution_count": null,
      "metadata": {
        "id": "cDQ-v6AFiyco",
        "colab": {
          "base_uri": "https://localhost:8080/"
        },
        "outputId": "29015343-9590-4492-e5ff-7c7f3230d5f2"
      },
      "outputs": [
        {
          "output_type": "execute_result",
          "data": {
            "text/plain": [
              "tensor([ 2,  4,  6,  8, 10, 12, 14, 16, 18])"
            ]
          },
          "metadata": {},
          "execution_count": 15
        }
      ],
      "source": [
        "rr * 2"
      ]
    },
    {
      "cell_type": "code",
      "execution_count": null,
      "metadata": {
        "id": "OFcjwshvi3pC",
        "colab": {
          "base_uri": "https://localhost:8080/"
        },
        "outputId": "69109500-f0ae-434f-a8f4-59b3fed98cb7"
      },
      "outputs": [
        {
          "output_type": "stream",
          "name": "stdout",
          "text": [
            "A es tensor([[1, 2],\n",
            "        [2, 3],\n",
            "        [4, 5]])\n",
            "B es tensor([[1, 2, 3, 4],\n",
            "        [5, 6, 7, 8]])\n",
            "El producto matricial es tensor([[11, 14, 17, 20],\n",
            "        [17, 22, 27, 32],\n",
            "        [29, 38, 47, 56]])\n",
            "También lo podemos calcular como tensor([[11, 14, 17, 20],\n",
            "        [17, 22, 27, 32],\n",
            "        [29, 38, 47, 56]])\n"
          ]
        }
      ],
      "source": [
        "a = torch.tensor([[1, 2], [2, 3], [4, 5]])      # (3, 2)\n",
        "b = torch.tensor([[1, 2, 3, 4], [5, 6, 7, 8]])  # (2, 4)  (3, 4)\n",
        "\n",
        "print(\"A es\", a)\n",
        "print(\"B es\", b)\n",
        "print(\"El producto matricial es\", a.matmul(b))\n",
        "print(\"También lo podemos calcular como\", a @ b) # +, -, *, @"
      ]
    },
    {
      "cell_type": "markdown",
      "metadata": {
        "id": "SCS5z1lip9lq"
      },
      "source": [
        "La **dimensión** de un tensor (a la que se puede acceder mediante `.shape`) se define como las dimensiones de la matriz."
      ]
    },
    {
      "cell_type": "code",
      "execution_count": null,
      "metadata": {
        "id": "fMptIpZkq0da",
        "colab": {
          "base_uri": "https://localhost:8080/"
        },
        "outputId": "cf56aa6a-6a7e-4e4d-d0d2-f1544af00599"
      },
      "outputs": [
        {
          "output_type": "stream",
          "name": "stdout",
          "text": [
            "torch.Size([2, 3])\n",
            "tensor([[1, 2, 3],\n",
            "        [4, 5, 6]])\n"
          ]
        }
      ],
      "source": [
        "matr_2d = torch.tensor([\n",
        "                        [1, 2, 3], \n",
        "                        [4, 5, 6]])\n",
        "print(matr_2d.shape)\n",
        "print(matr_2d)"
      ]
    },
    {
      "cell_type": "code",
      "execution_count": null,
      "metadata": {
        "id": "aWjD7WjPqC6t",
        "colab": {
          "base_uri": "https://localhost:8080/"
        },
        "outputId": "fb5aa8bb-f090-4c11-826d-295115585916"
      },
      "outputs": [
        {
          "output_type": "stream",
          "name": "stdout",
          "text": [
            "tensor([[[ 1,  2,  3,  4],\n",
            "         [-2,  5,  6,  9]],\n",
            "\n",
            "        [[ 5,  6,  7,  2],\n",
            "         [ 8,  9, 10,  4]],\n",
            "\n",
            "        [[-3,  2,  2,  1],\n",
            "         [ 4,  6,  5,  9]]])\n",
            "torch.Size([3, 2, 4])\n"
          ]
        }
      ],
      "source": [
        "matr_3d = torch.tensor([[[1, 2, 3, 4], [-2, 5, 6, 9]], [[5, 6, 7, 2], [8, 9, 10, 4]], [[-3, 2, 2, 1], [4, 6, 5, 9]]])\n",
        "print(matr_3d)\n",
        "print(matr_3d.shape)"
      ]
    },
    {
      "cell_type": "markdown",
      "metadata": {
        "id": "7wKqP85rrF-P"
      },
      "source": [
        "Podemos cambiar la forma de los tensores para facilitar las operaciones sobre lotes (batches) aunque hay que tener cierto cuidado del ordne:"
      ]
    },
    {
      "cell_type": "code",
      "execution_count": null,
      "metadata": {
        "id": "HmUcqHYUrMu1",
        "colab": {
          "base_uri": "https://localhost:8080/"
        },
        "outputId": "eb897aa5-6ba5-4f40-92ec-a54afda67deb"
      },
      "outputs": [
        {
          "output_type": "stream",
          "name": "stdout",
          "text": [
            "The shape is currently torch.Size([15])\n",
            "The contents are currently tensor([ 1,  2,  3,  4,  5,  6,  7,  8,  9, 10, 11, 12, 13, 14, 15])\n",
            "\n",
            "After reshaping, the shape is currently torch.Size([5, 3])\n",
            "The contents are currently tensor([[ 1,  2,  3],\n",
            "        [ 4,  5,  6],\n",
            "        [ 7,  8,  9],\n",
            "        [10, 11, 12],\n",
            "        [13, 14, 15]])\n"
          ]
        }
      ],
      "source": [
        "rr = torch.arange(1, 16)\n",
        "print(\"The shape is currently\", rr.shape)\n",
        "print(\"The contents are currently\", rr)\n",
        "print()\n",
        "rr = rr.view(5, 3)\n",
        "print(\"After reshaping, the shape is currently\", rr.shape)\n",
        "print(\"The contents are currently\", rr)"
      ]
    },
    {
      "cell_type": "markdown",
      "metadata": {
        "id": "GaykBuhoou3M"
      },
      "source": [
        "Finally, you can also inter-convert tensors with **NumPy arrays**:"
      ]
    },
    {
      "cell_type": "code",
      "execution_count": null,
      "metadata": {
        "id": "ybbmD_OGIEwN",
        "colab": {
          "base_uri": "https://localhost:8080/"
        },
        "outputId": "64716ad9-6a9f-4867-e464-82255c949260"
      },
      "outputs": [
        {
          "output_type": "execute_result",
          "data": {
            "text/plain": [
              "tensor([[ 14,  32,  50,  68,  86],\n",
              "        [ 32,  77, 122, 167, 212],\n",
              "        [ 50, 122, 194, 266, 338],\n",
              "        [ 68, 167, 266, 365, 464],\n",
              "        [ 86, 212, 338, 464, 590]])"
            ]
          },
          "metadata": {},
          "execution_count": 28
        }
      ],
      "source": [
        "X = (rr @ rr.T)\n",
        "\n",
        "X"
      ]
    },
    {
      "cell_type": "code",
      "execution_count": null,
      "metadata": {
        "id": "ppYiPnlko1Ci",
        "colab": {
          "base_uri": "https://localhost:8080/"
        },
        "outputId": "1ce06be0-090a-4754-9e45-f0414c419164"
      },
      "outputs": [
        {
          "output_type": "stream",
          "name": "stdout",
          "text": [
            "This is a torch.tensor tensor([[1, 0, 5]])\n",
            "This is a np.ndarray [[1 0 5]]\n"
          ]
        }
      ],
      "source": [
        "import numpy as np\n",
        "\n",
        "# numpy.ndarray --> torch.Tensor:\n",
        "arr = np.array([[1, 0, 5]])\n",
        "data = torch.tensor(arr)\n",
        "print(\"This is a torch.tensor\", data)\n",
        "\n",
        "# torch.Tensor --> numpy.ndarray:\n",
        "new_arr = data.numpy()\n",
        "print(\"This is a np.ndarray\", new_arr)"
      ]
    },
    {
      "cell_type": "markdown",
      "metadata": {
        "id": "hyv1l431q9yA"
      },
      "source": [
        "Las ventajas de tener datos así es que las operaciones pueden \"vectorizarse\" y hacerse más rápidas"
      ]
    },
    {
      "cell_type": "code",
      "execution_count": null,
      "metadata": {
        "id": "Kas2MEFDsJWk",
        "colab": {
          "base_uri": "https://localhost:8080/"
        },
        "outputId": "a19cd02f-49f5-4942-8572-16c900f01815"
      },
      "outputs": [
        {
          "output_type": "stream",
          "name": "stdout",
          "text": [
            "Data is: tensor([[ 1.,  2.,  3.,  4.,  5.,  6.,  7.],\n",
            "        [ 8.,  9., 10., 11., 12., 13., 14.],\n",
            "        [15., 16., 17., 18., 19., 20., 21.],\n",
            "        [22., 23., 24., 25., 26., 27., 28.],\n",
            "        [29., 30., 31., 32., 33., 34., 35.]])\n",
            "Taking the sum over columns:\n",
            "tensor([ 75.,  80.,  85.,  90.,  95., 100., 105.])\n",
            "Taking thep sum over rows:\n",
            "tensor([ 28.,  77., 126., 175., 224.])\n",
            "Taking the stdev over rows:\n",
            "tensor([2.1602, 2.1602, 2.1602, 2.1602, 2.1602])\n"
          ]
        }
      ],
      "source": [
        "data = torch.arange(1, 36, dtype=torch.float32).reshape(5, 7)\n",
        "print(\"Data is:\", data)\n",
        "\n",
        "# We can perform operations like *sum* over each row...\n",
        "print(\"Taking the sum over columns:\")\n",
        "print(data.sum(dim=0))\n",
        "\n",
        "# or over each column.\n",
        "print(\"Taking thep sum over rows:\")\n",
        "print(data.sum(dim=1))\n",
        "\n",
        "# Other operations are available:\n",
        "print(\"Taking the stdev over rows:\")\n",
        "print(data.std(dim=1))\n"
      ]
    },
    {
      "cell_type": "code",
      "source": [
        "data.mean?"
      ],
      "metadata": {
        "id": "zOW2IDdyoybM"
      },
      "execution_count": null,
      "outputs": []
    },
    {
      "cell_type": "markdown",
      "metadata": {
        "id": "ROlwD0PuIEwO"
      },
      "source": [
        "### Indexación\n",
        "\n",
        "Puede acceder a elementos de un tensor utilizando el operador `[]`.\n"
      ]
    },
    {
      "cell_type": "code",
      "execution_count": null,
      "metadata": {
        "id": "fRJN7ovWDsKV",
        "colab": {
          "base_uri": "https://localhost:8080/"
        },
        "outputId": "9325d37f-6a26-4486-94d6-8138461be81e"
      },
      "outputs": [
        {
          "output_type": "execute_result",
          "data": {
            "text/plain": [
              "tensor([[[ 1.,  2.],\n",
              "         [ 3.,  4.]],\n",
              "\n",
              "        [[ 5.,  6.],\n",
              "         [ 7.,  8.]],\n",
              "\n",
              "        [[ 9., 10.],\n",
              "         [11., 12.]]])"
            ]
          },
          "metadata": {},
          "execution_count": 32
        }
      ],
      "source": [
        "# Initialize an example tensor\n",
        "x = torch.Tensor([\n",
        "                  [[1, 2], [3, 4]],\n",
        "                  [[5, 6], [7, 8]], \n",
        "                  [[9, 10], [11, 12]] \n",
        "                 ])\n",
        "x"
      ]
    },
    {
      "cell_type": "code",
      "execution_count": null,
      "metadata": {
        "id": "guXKE7m8AX1K",
        "colab": {
          "base_uri": "https://localhost:8080/"
        },
        "outputId": "4a967154-5b67-4bdc-e894-2459fbb07a25"
      },
      "outputs": [
        {
          "output_type": "execute_result",
          "data": {
            "text/plain": [
              "tensor([[1., 2.],\n",
              "        [3., 4.]])"
            ]
          },
          "metadata": {},
          "execution_count": 33
        }
      ],
      "source": [
        "# Access the 0th element, which is the first row\n",
        "x[0] # Equivalent to x[0, :]"
      ]
    },
    {
      "cell_type": "code",
      "execution_count": null,
      "metadata": {
        "id": "zn4pW2rkmXuj",
        "colab": {
          "base_uri": "https://localhost:8080/"
        },
        "outputId": "1e437719-6392-49ad-9731-6f12005aa171"
      },
      "outputs": [
        {
          "output_type": "execute_result",
          "data": {
            "text/plain": [
              "tensor([[ 1.,  2.],\n",
              "        [ 5.,  6.],\n",
              "        [ 9., 10.]])"
            ]
          },
          "metadata": {},
          "execution_count": 34
        }
      ],
      "source": [
        "x[:, 0]"
      ]
    },
    {
      "cell_type": "code",
      "execution_count": null,
      "metadata": {
        "id": "vvkHJ2pYmgMD",
        "colab": {
          "base_uri": "https://localhost:8080/"
        },
        "outputId": "a460a873-73c6-4d07-a50e-bf65f6dc83b2"
      },
      "outputs": [
        {
          "output_type": "stream",
          "name": "stdout",
          "text": [
            "tensor([[ 1,  2,  3],\n",
            "        [ 4,  5,  6],\n",
            "        [ 7,  8,  9],\n",
            "        [10, 11, 12],\n",
            "        [13, 14, 15]])\n"
          ]
        }
      ],
      "source": [
        "matr = torch.arange(1, 16).view(5, 3)\n",
        "print(matr)"
      ]
    },
    {
      "cell_type": "code",
      "execution_count": null,
      "metadata": {
        "id": "LXfgmuplmpmg",
        "colab": {
          "base_uri": "https://localhost:8080/"
        },
        "outputId": "15d5917d-7f69-41b2-a142-0065b783db8f"
      },
      "outputs": [
        {
          "output_type": "execute_result",
          "data": {
            "text/plain": [
              "tensor([1, 2, 3])"
            ]
          },
          "metadata": {},
          "execution_count": 36
        }
      ],
      "source": [
        "matr[0]"
      ]
    },
    {
      "cell_type": "code",
      "execution_count": null,
      "metadata": {
        "id": "rw_qQ9ponJV2",
        "colab": {
          "base_uri": "https://localhost:8080/"
        },
        "outputId": "5003177b-5789-431c-9008-6e6517442555"
      },
      "outputs": [
        {
          "output_type": "execute_result",
          "data": {
            "text/plain": [
              "tensor([1, 2, 3])"
            ]
          },
          "metadata": {},
          "execution_count": 37
        }
      ],
      "source": [
        "matr[0, :]"
      ]
    },
    {
      "cell_type": "code",
      "execution_count": null,
      "metadata": {
        "id": "Yw2H2WOcmuyz",
        "colab": {
          "base_uri": "https://localhost:8080/"
        },
        "outputId": "af1d8944-fc1b-4150-d168-de0c8e5e82c0"
      },
      "outputs": [
        {
          "output_type": "execute_result",
          "data": {
            "text/plain": [
              "tensor([ 1,  4,  7, 10, 13])"
            ]
          },
          "metadata": {},
          "execution_count": 38
        }
      ],
      "source": [
        "matr[:, 0]"
      ]
    },
    {
      "cell_type": "code",
      "execution_count": null,
      "metadata": {
        "id": "q9f0q9ZFmysw",
        "colab": {
          "base_uri": "https://localhost:8080/"
        },
        "outputId": "1c87fb3d-06f3-4d31-e08d-ab5e15f18fb7"
      },
      "outputs": [
        {
          "output_type": "execute_result",
          "data": {
            "text/plain": [
              "tensor([[1, 2, 3],\n",
              "        [4, 5, 6],\n",
              "        [7, 8, 9]])"
            ]
          },
          "metadata": {},
          "execution_count": 39
        }
      ],
      "source": [
        "matr[0:3]"
      ]
    },
    {
      "cell_type": "code",
      "execution_count": null,
      "metadata": {
        "id": "2Z6GFUcuEL85",
        "colab": {
          "base_uri": "https://localhost:8080/"
        },
        "outputId": "6741813e-c53e-46e4-f7d1-d97e3c94f21e"
      },
      "outputs": [
        {
          "output_type": "execute_result",
          "data": {
            "text/plain": [
              "tensor([1., 5., 9.])"
            ]
          },
          "metadata": {},
          "execution_count": 40
        }
      ],
      "source": [
        "# Get the top left element of each element in our tensor\n",
        "x[:, 0, 0]"
      ]
    },
    {
      "cell_type": "markdown",
      "metadata": {
        "id": "WAELXC--IHS7"
      },
      "source": [
        "Podemos obtener un valor escalar `Python` de un tensor con `item()`."
      ]
    },
    {
      "cell_type": "code",
      "source": [
        "matr"
      ],
      "metadata": {
        "colab": {
          "base_uri": "https://localhost:8080/"
        },
        "id": "IRFnReXCo_dE",
        "outputId": "48b775a4-8264-410b-c0fa-136636eb98de"
      },
      "execution_count": null,
      "outputs": [
        {
          "output_type": "execute_result",
          "data": {
            "text/plain": [
              "tensor([[ 1,  2,  3],\n",
              "        [ 4,  5,  6],\n",
              "        [ 7,  8,  9],\n",
              "        [10, 11, 12],\n",
              "        [13, 14, 15]])"
            ]
          },
          "metadata": {},
          "execution_count": 41
        }
      ]
    },
    {
      "cell_type": "code",
      "execution_count": null,
      "metadata": {
        "id": "BM-ZujN2IGaQ",
        "colab": {
          "base_uri": "https://localhost:8080/"
        },
        "outputId": "aebd2dff-743b-4a22-8298-19044c8303ef"
      },
      "outputs": [
        {
          "output_type": "execute_result",
          "data": {
            "text/plain": [
              "tensor(1.)"
            ]
          },
          "metadata": {},
          "execution_count": 43
        }
      ],
      "source": [
        "x[0, 0, 0]"
      ]
    },
    {
      "cell_type": "code",
      "execution_count": null,
      "metadata": {
        "id": "6NwxK7d_Ycgs",
        "colab": {
          "base_uri": "https://localhost:8080/"
        },
        "outputId": "1acad56c-9a6b-473b-e0ed-a764c4785b42"
      },
      "outputs": [
        {
          "output_type": "execute_result",
          "data": {
            "text/plain": [
              "1.0"
            ]
          },
          "metadata": {},
          "execution_count": 44
        }
      ],
      "source": [
        "x[0, 0, 0].item()"
      ]
    },
    {
      "cell_type": "markdown",
      "source": [
        "## Ejercicio: igualdad de tensores\n",
        "\n",
        "Para calcular la igualdad de tensores, utilizamos [torch.allclose](https://pytorch.org/docs/stable/generated/torch.allclose.html). ¿Qué pasa si usamos el operador `==`?\n",
        "\n",
        "Chequear con `torch.allclose` que X@X sea igual a:\n",
        "\n",
        "```python\n",
        "torch.tensor([\n",
        "    [ 1,  0,  0],\n",
        "    [ 3,  4,  0],\n",
        "    [ 6, 10,  9]])\n",
        "```"
      ],
      "metadata": {
        "id": "dImFHsMGqkGC"
      }
    },
    {
      "cell_type": "code",
      "source": [
        "X = torch.tensor([\n",
        "    [1, 0, 0],\n",
        "    [1, 2, 0],\n",
        "    [1, 2, 3],\n",
        "])\n",
        "\n",
        "expected = torch.tensor([\n",
        "    [ 1,  0,  0],\n",
        "    [ 3,  4,  0],\n",
        "    [ 6, 10,  9]])\n",
        "# TODO: completar\n",
        "torch.allclose(\n",
        "    X @ X,\n",
        "    expected\n",
        ")"
      ],
      "metadata": {
        "id": "Ad_81vTdqrQV",
        "colab": {
          "base_uri": "https://localhost:8080/"
        },
        "outputId": "639f9e9f-d999-4c9d-9370-e88cee38247f"
      },
      "execution_count": null,
      "outputs": [
        {
          "output_type": "execute_result",
          "data": {
            "text/plain": [
              "True"
            ]
          },
          "metadata": {},
          "execution_count": 45
        }
      ]
    },
    {
      "cell_type": "code",
      "source": [
        "(X @ X) == expected"
      ],
      "metadata": {
        "colab": {
          "base_uri": "https://localhost:8080/"
        },
        "id": "ysx_RxXpqPvu",
        "outputId": "dc88067c-2f62-4ed5-830c-072197cb2c4a"
      },
      "execution_count": null,
      "outputs": [
        {
          "output_type": "execute_result",
          "data": {
            "text/plain": [
              "tensor([[True, True, True],\n",
              "        [True, True, True],\n",
              "        [True, True, True]])"
            ]
          },
          "metadata": {},
          "execution_count": 46
        }
      ]
    },
    {
      "cell_type": "markdown",
      "source": [
        "## Ejercicio: multiplicación de tensores\n",
        "\n",
        "Una de las mayores virtudes de torch es la posibilidad de multiplicar de manera paralela muchísimas matrices \n",
        "\n",
        "`torch.bmm` permite multiplicar varias matrices de mismo tamaño apiladas en un tensor.\n",
        "\n",
        "\n",
        "Leer la documentación de [torch.bmm](https://pytorch.org/docs/stable/generated/torch.bmm.html), y hallar un tensor Y tal que \n",
        "```python\n",
        "np.allclose(torch.bmm(X, Y), torch.tensor([\n",
        "    [\n",
        "        [1, 0, 0],\n",
        "        [0, 1, 0],\n",
        "        [0, 0, 1], \n",
        "    ],\n",
        "    [\n",
        "        [4, 0, 0],\n",
        "        [0, 4, 0],\n",
        "        [0, 0, 4], \n",
        "    ],\n",
        "    [\n",
        "        [16, 0, 0],\n",
        "        [0, 16, 0],\n",
        "        [0, 0, 16], \n",
        "    ]\n",
        "])\n"
      ],
      "metadata": {
        "id": "Cgml9zqSnRo4"
      }
    },
    {
      "cell_type": "code",
      "source": [
        "\"\"\"\n",
        "TODO: completar\n",
        "\"\"\"\n",
        "X = torch.tensor([\n",
        "    [\n",
        "        [1, 0, 0],\n",
        "        [0, 1, 0],\n",
        "        [0, 0, 1], \n",
        "    ],\n",
        "    [\n",
        "        [2, 0, 0],\n",
        "        [0, 2, 0],\n",
        "        [0, 0, 2], \n",
        "    ],\n",
        "    [\n",
        "        [4, 0, 0],\n",
        "        [0, 4, 0],\n",
        "        [0, 0, 4], \n",
        "\n",
        "    ]\n",
        "])\n",
        "\n",
        "Y = X\n",
        "\n",
        "np.allclose(torch.bmm(X, Y), torch.tensor([\n",
        "    [\n",
        "        [1, 0, 0],\n",
        "        [0, 1, 0],\n",
        "        [0, 0, 1], \n",
        "    ],\n",
        "    [\n",
        "        [4, 0, 0],\n",
        "        [0, 4, 0],\n",
        "        [0, 0, 4], \n",
        "    ],\n",
        "    [\n",
        "        [16, 0, 0],\n",
        "        [0, 16, 0],\n",
        "        [0, 0, 16], \n",
        "    ]\n",
        "]))\n"
      ],
      "metadata": {
        "id": "Of6OAQERnVi4",
        "colab": {
          "base_uri": "https://localhost:8080/"
        },
        "outputId": "2f801e26-9df8-449e-984b-3dc7f87a04ea"
      },
      "execution_count": null,
      "outputs": [
        {
          "output_type": "execute_result",
          "data": {
            "text/plain": [
              "True"
            ]
          },
          "metadata": {},
          "execution_count": 48
        }
      ]
    },
    {
      "cell_type": "markdown",
      "metadata": {
        "id": "Re8xiL37eAja"
      },
      "source": [
        "## Autograd\n",
        "\n",
        "Pytorch es conocido por su función de diferenciación automática, lo que nos permite armar de manera fácil cualquier algoritmo de descenso por gradiente o similares. \n",
        "\n",
        "Podemos llamar al método `backward()` para pedirle a `PyTorch` que calcule los gradientes, que luego se almacenan en el atributo `grad`."
      ]
    },
    {
      "cell_type": "code",
      "execution_count": null,
      "metadata": {
        "id": "-oEvBJHWfn8H",
        "colab": {
          "base_uri": "https://localhost:8080/"
        },
        "outputId": "170322f4-eaa3-4225-f95f-dc26fe1fbf36"
      },
      "outputs": [
        {
          "output_type": "stream",
          "name": "stdout",
          "text": [
            "None\n"
          ]
        }
      ],
      "source": [
        "# Create an example tensor\n",
        "# requires_grad parameter tells PyTorch to store gradients\n",
        "x = torch.tensor([2.], requires_grad=True)\n",
        "\n",
        "# Print the gradient if it is calculated\n",
        "# Currently None since x is a scalar\n",
        "pp.pprint(x.grad)"
      ]
    },
    {
      "cell_type": "code",
      "execution_count": null,
      "metadata": {
        "id": "DTJazZXkgthP",
        "colab": {
          "base_uri": "https://localhost:8080/"
        },
        "outputId": "f87dfd93-225f-428f-a53a-6fad56efb0ac"
      },
      "outputs": [
        {
          "output_type": "stream",
          "name": "stdout",
          "text": [
            "tensor([12.])\n"
          ]
        }
      ],
      "source": [
        "# Calculating the gradient of y with respect to x\n",
        "y = x * x * 3 # 3x^2\n",
        "y.backward()\n",
        "pp.pprint(x.grad) # d(y)/d(x) = d(3x^2)/d(x) = 6x = 12"
      ]
    },
    {
      "cell_type": "markdown",
      "metadata": {
        "id": "3Hqc2oM3iV6a"
      },
      "source": [
        "Let's run backprop from a different tensor again to see what happens."
      ]
    },
    {
      "cell_type": "code",
      "execution_count": null,
      "metadata": {
        "id": "K--Az0Xiic_z",
        "colab": {
          "base_uri": "https://localhost:8080/"
        },
        "outputId": "eb553281-665e-47a6-d8da-7ea65ea87a4f"
      },
      "outputs": [
        {
          "output_type": "stream",
          "name": "stdout",
          "text": [
            "tensor([24.])\n"
          ]
        }
      ],
      "source": [
        "z = x * x * 3 # 3x^2\n",
        "z.backward()\n",
        "pp.pprint(x.grad)"
      ]
    },
    {
      "cell_type": "code",
      "execution_count": null,
      "metadata": {
        "id": "YHa-RJoMIEwS",
        "colab": {
          "base_uri": "https://localhost:8080/"
        },
        "outputId": "c4c97116-6464-446b-8b0e-a6db3226ff67"
      },
      "outputs": [
        {
          "output_type": "stream",
          "name": "stdout",
          "text": [
            "tensor([36.])\n"
          ]
        }
      ],
      "source": [
        "z = x * x * 3 # 3x^2\n",
        "z.backward()\n",
        "pp.pprint(x.grad)"
      ]
    },
    {
      "cell_type": "markdown",
      "metadata": {
        "id": "HhjPkiE6i7ja"
      },
      "source": [
        "¿Qué pasa acá?"
      ]
    },
    {
      "cell_type": "markdown",
      "metadata": {
        "id": "kvtIot5OIEwT"
      },
      "source": [
        "Probemos ahora con varias variables"
      ]
    },
    {
      "cell_type": "code",
      "execution_count": null,
      "metadata": {
        "id": "FFRfyxGGIEwT",
        "colab": {
          "base_uri": "https://localhost:8080/"
        },
        "outputId": "ebbbb386-9a0d-442a-fa0b-989d460b2e20"
      },
      "outputs": [
        {
          "output_type": "execute_result",
          "data": {
            "text/plain": [
              "tensor([-12.,  65.], grad_fn=<SubBackward0>)"
            ]
          },
          "metadata": {},
          "execution_count": 54
        }
      ],
      "source": [
        "import torch\n",
        "\n",
        "a = torch.tensor([2., 3.], requires_grad=True)\n",
        "b = torch.tensor([6., 4.], requires_grad=True)\n",
        "\n",
        "Q = 3*a**3 - b**2\n",
        "\n",
        "Q"
      ]
    },
    {
      "cell_type": "code",
      "execution_count": null,
      "metadata": {
        "id": "i-wBGPFqIEwT",
        "colab": {
          "base_uri": "https://localhost:8080/",
          "height": 329
        },
        "outputId": "314ccfcd-a925-46f6-eb35-bc52042974bb"
      },
      "outputs": [
        {
          "output_type": "error",
          "ename": "RuntimeError",
          "evalue": "ignored",
          "traceback": [
            "\u001b[0;31m---------------------------------------------------------------------------\u001b[0m",
            "\u001b[0;31mRuntimeError\u001b[0m                              Traceback (most recent call last)",
            "\u001b[0;32m<ipython-input-55-42395d6027c1>\u001b[0m in \u001b[0;36m<module>\u001b[0;34m()\u001b[0m\n\u001b[0;32m----> 1\u001b[0;31m \u001b[0mQ\u001b[0m\u001b[0;34m.\u001b[0m\u001b[0mbackward\u001b[0m\u001b[0;34m(\u001b[0m\u001b[0;34m)\u001b[0m\u001b[0;34m\u001b[0m\u001b[0;34m\u001b[0m\u001b[0m\n\u001b[0m",
            "\u001b[0;32m/usr/local/lib/python3.7/dist-packages/torch/_tensor.py\u001b[0m in \u001b[0;36mbackward\u001b[0;34m(self, gradient, retain_graph, create_graph, inputs)\u001b[0m\n\u001b[1;32m    361\u001b[0m                 \u001b[0mcreate_graph\u001b[0m\u001b[0;34m=\u001b[0m\u001b[0mcreate_graph\u001b[0m\u001b[0;34m,\u001b[0m\u001b[0;34m\u001b[0m\u001b[0;34m\u001b[0m\u001b[0m\n\u001b[1;32m    362\u001b[0m                 inputs=inputs)\n\u001b[0;32m--> 363\u001b[0;31m         \u001b[0mtorch\u001b[0m\u001b[0;34m.\u001b[0m\u001b[0mautograd\u001b[0m\u001b[0;34m.\u001b[0m\u001b[0mbackward\u001b[0m\u001b[0;34m(\u001b[0m\u001b[0mself\u001b[0m\u001b[0;34m,\u001b[0m \u001b[0mgradient\u001b[0m\u001b[0;34m,\u001b[0m \u001b[0mretain_graph\u001b[0m\u001b[0;34m,\u001b[0m \u001b[0mcreate_graph\u001b[0m\u001b[0;34m,\u001b[0m \u001b[0minputs\u001b[0m\u001b[0;34m=\u001b[0m\u001b[0minputs\u001b[0m\u001b[0;34m)\u001b[0m\u001b[0;34m\u001b[0m\u001b[0;34m\u001b[0m\u001b[0m\n\u001b[0m\u001b[1;32m    364\u001b[0m \u001b[0;34m\u001b[0m\u001b[0m\n\u001b[1;32m    365\u001b[0m     \u001b[0;32mdef\u001b[0m \u001b[0mregister_hook\u001b[0m\u001b[0;34m(\u001b[0m\u001b[0mself\u001b[0m\u001b[0;34m,\u001b[0m \u001b[0mhook\u001b[0m\u001b[0;34m)\u001b[0m\u001b[0;34m:\u001b[0m\u001b[0;34m\u001b[0m\u001b[0;34m\u001b[0m\u001b[0m\n",
            "\u001b[0;32m/usr/local/lib/python3.7/dist-packages/torch/autograd/__init__.py\u001b[0m in \u001b[0;36mbackward\u001b[0;34m(tensors, grad_tensors, retain_graph, create_graph, grad_variables, inputs)\u001b[0m\n\u001b[1;32m    164\u001b[0m \u001b[0;34m\u001b[0m\u001b[0m\n\u001b[1;32m    165\u001b[0m     \u001b[0mgrad_tensors_\u001b[0m \u001b[0;34m=\u001b[0m \u001b[0m_tensor_or_tensors_to_tuple\u001b[0m\u001b[0;34m(\u001b[0m\u001b[0mgrad_tensors\u001b[0m\u001b[0;34m,\u001b[0m \u001b[0mlen\u001b[0m\u001b[0;34m(\u001b[0m\u001b[0mtensors\u001b[0m\u001b[0;34m)\u001b[0m\u001b[0;34m)\u001b[0m\u001b[0;34m\u001b[0m\u001b[0;34m\u001b[0m\u001b[0m\n\u001b[0;32m--> 166\u001b[0;31m     \u001b[0mgrad_tensors_\u001b[0m \u001b[0;34m=\u001b[0m \u001b[0m_make_grads\u001b[0m\u001b[0;34m(\u001b[0m\u001b[0mtensors\u001b[0m\u001b[0;34m,\u001b[0m \u001b[0mgrad_tensors_\u001b[0m\u001b[0;34m,\u001b[0m \u001b[0mis_grads_batched\u001b[0m\u001b[0;34m=\u001b[0m\u001b[0;32mFalse\u001b[0m\u001b[0;34m)\u001b[0m\u001b[0;34m\u001b[0m\u001b[0;34m\u001b[0m\u001b[0m\n\u001b[0m\u001b[1;32m    167\u001b[0m     \u001b[0;32mif\u001b[0m \u001b[0mretain_graph\u001b[0m \u001b[0;32mis\u001b[0m \u001b[0;32mNone\u001b[0m\u001b[0;34m:\u001b[0m\u001b[0;34m\u001b[0m\u001b[0;34m\u001b[0m\u001b[0m\n\u001b[1;32m    168\u001b[0m         \u001b[0mretain_graph\u001b[0m \u001b[0;34m=\u001b[0m \u001b[0mcreate_graph\u001b[0m\u001b[0;34m\u001b[0m\u001b[0;34m\u001b[0m\u001b[0m\n",
            "\u001b[0;32m/usr/local/lib/python3.7/dist-packages/torch/autograd/__init__.py\u001b[0m in \u001b[0;36m_make_grads\u001b[0;34m(outputs, grads, is_grads_batched)\u001b[0m\n\u001b[1;32m     65\u001b[0m             \u001b[0;32mif\u001b[0m \u001b[0mout\u001b[0m\u001b[0;34m.\u001b[0m\u001b[0mrequires_grad\u001b[0m\u001b[0;34m:\u001b[0m\u001b[0;34m\u001b[0m\u001b[0;34m\u001b[0m\u001b[0m\n\u001b[1;32m     66\u001b[0m                 \u001b[0;32mif\u001b[0m \u001b[0mout\u001b[0m\u001b[0;34m.\u001b[0m\u001b[0mnumel\u001b[0m\u001b[0;34m(\u001b[0m\u001b[0;34m)\u001b[0m \u001b[0;34m!=\u001b[0m \u001b[0;36m1\u001b[0m\u001b[0;34m:\u001b[0m\u001b[0;34m\u001b[0m\u001b[0;34m\u001b[0m\u001b[0m\n\u001b[0;32m---> 67\u001b[0;31m                     \u001b[0;32mraise\u001b[0m \u001b[0mRuntimeError\u001b[0m\u001b[0;34m(\u001b[0m\u001b[0;34m\"grad can be implicitly created only for scalar outputs\"\u001b[0m\u001b[0;34m)\u001b[0m\u001b[0;34m\u001b[0m\u001b[0;34m\u001b[0m\u001b[0m\n\u001b[0m\u001b[1;32m     68\u001b[0m                 \u001b[0mnew_grads\u001b[0m\u001b[0;34m.\u001b[0m\u001b[0mappend\u001b[0m\u001b[0;34m(\u001b[0m\u001b[0mtorch\u001b[0m\u001b[0;34m.\u001b[0m\u001b[0mones_like\u001b[0m\u001b[0;34m(\u001b[0m\u001b[0mout\u001b[0m\u001b[0;34m,\u001b[0m \u001b[0mmemory_format\u001b[0m\u001b[0;34m=\u001b[0m\u001b[0mtorch\u001b[0m\u001b[0;34m.\u001b[0m\u001b[0mpreserve_format\u001b[0m\u001b[0;34m)\u001b[0m\u001b[0;34m)\u001b[0m\u001b[0;34m\u001b[0m\u001b[0;34m\u001b[0m\u001b[0m\n\u001b[1;32m     69\u001b[0m             \u001b[0;32melse\u001b[0m\u001b[0;34m:\u001b[0m\u001b[0;34m\u001b[0m\u001b[0;34m\u001b[0m\u001b[0m\n",
            "\u001b[0;31mRuntimeError\u001b[0m: grad can be implicitly created only for scalar outputs"
          ]
        }
      ],
      "source": [
        "Q.backward()"
      ]
    },
    {
      "cell_type": "markdown",
      "metadata": {
        "id": "7ZmvhFGEIEwT"
      },
      "source": [
        "Esto es porque `Q` es un vector! Para obtener $\\nabla{Q} = (\\frac{\\partial f}{\\partial a},  \\frac{\\partial f}{\\partial b})$"
      ]
    },
    {
      "cell_type": "code",
      "execution_count": null,
      "metadata": {
        "id": "2pO9XczeIEwT"
      },
      "outputs": [],
      "source": [
        "Q.backward(gradient=torch.Tensor([1, 1]))"
      ]
    },
    {
      "cell_type": "markdown",
      "metadata": {
        "id": "xlXkbBaCIEwU"
      },
      "source": [
        "Acá las derivadas parciales se guardan en `a.grad` y `b.grad`\n",
        "\n",
        "Como \n",
        "\n",
        "\\begin{align*}\n",
        "\\frac{\\partial f}{\\partial a} &= 9 a^2 \\\\\n",
        "\\frac{\\partial f}{\\partial b} &= -2 b\\\\\n",
        "\\end{align*}\n",
        "\n",
        "veamos si efectivamente pasó (recordar usar `allclose` para comparar floats)"
      ]
    },
    {
      "cell_type": "code",
      "execution_count": null,
      "metadata": {
        "id": "eeqDqyHVIEwU"
      },
      "outputs": [],
      "source": [
        "a.grad, b.grad\n",
        "\n",
        "assert a.grad.allclose(9 * a ** 2)\n",
        "assert b.grad.allclose(-2* b)"
      ]
    },
    {
      "cell_type": "markdown",
      "source": [
        "## Ejercicio\n",
        "\n",
        "Calcular la derivada de $sen^2(x)$ para $ x = \\pi $. Use la función `torch.sin`\n",
        "\n",
        "Calcúlela analíticamente y chequee el resultado. ¿Da igual?"
      ],
      "metadata": {
        "id": "w_7EVVKSmWBp"
      }
    },
    {
      "cell_type": "code",
      "source": [
        "\"\"\"\n",
        "TODO: completar\n",
        "\"\"\"\n",
        "x = torch.tensor([torch.pi], requires_grad=True)\n",
        "y = torch.sin(x) ** 2\n",
        "\n",
        "y.backward()"
      ],
      "metadata": {
        "id": "ecvi4Lk1s0Qt"
      },
      "execution_count": null,
      "outputs": []
    },
    {
      "cell_type": "code",
      "source": [
        "x.grad"
      ],
      "metadata": {
        "colab": {
          "base_uri": "https://localhost:8080/"
        },
        "id": "VZDkBZdZuGzu",
        "outputId": "a4e894a0-6c9f-467d-dcab-2dc9982ce0a6"
      },
      "execution_count": null,
      "outputs": [
        {
          "output_type": "execute_result",
          "data": {
            "text/plain": [
              "tensor([1.7485e-07])"
            ]
          },
          "metadata": {},
          "execution_count": 59
        }
      ]
    },
    {
      "cell_type": "markdown",
      "metadata": {
        "id": "pYLWqKIoaOyd"
      },
      "source": [
        "## Módulos de PyTorch\n",
        "\n",
        "Hasta ahora hemos analizado los tensores, sus propiedades y operaciones básicas sobre tensores. Estos son especialmente útiles para familiarizarse si estamos construyendo las capas de nuestra red desde cero. \n",
        "\n",
        "Vamos a utilizar ahora los módulos predefinidos de `torch.nn` de `PyTorch`. Luego uniremos estos bloques para crear redes complejas."
      ]
    },
    {
      "cell_type": "code",
      "execution_count": null,
      "metadata": {
        "id": "qUmrDpbhV4Tn"
      },
      "outputs": [],
      "source": [
        "import torch.nn as nn"
      ]
    },
    {
      "cell_type": "markdown",
      "metadata": {
        "id": "joGvRWjEbak0"
      },
      "source": [
        "### **Capa lineal**\n",
        "\n",
        "La base de las redes neuronales. \n",
        "\n",
        "Podemos usar `nn.Linear(H_in, H_out)` para crear una capa lineal, donde `H_in` es la dimensión de entrada y `H_out` la dimensión de salida.\n",
        "\n",
        "Esta capa tomará una matriz de dimensiones `(N, k, H_in)` y generará una matriz de `(N, k, H_out)`, con $k$ cualquier dimensión. \n",
        "\n",
        "La capa lineal realiza la operación `Ax+b`, donde `A` y `b` se inicializan aleatoriamente. Si no queremos que la capa lineal aprenda $b$ (la ordenada al origen o `bias`), podemos inicializar nuestra capa con `bias=False`."
      ]
    },
    {
      "cell_type": "code",
      "execution_count": null,
      "metadata": {
        "id": "6XfnKI4-a5j9",
        "colab": {
          "base_uri": "https://localhost:8080/"
        },
        "outputId": "69ab2889-4bb9-4db5-f239-09f48f22b1d7"
      },
      "outputs": [
        {
          "output_type": "execute_result",
          "data": {
            "text/plain": [
              "torch.Size([2, 3, 2])"
            ]
          },
          "metadata": {},
          "execution_count": 61
        }
      ],
      "source": [
        "# Create the inputs\n",
        "input = torch.ones(2,3,4)\n",
        "# Acá tenemos (2, 3, 4), siendo 4 la dimensión de entrada\n",
        "# Creemos una capa que tenga entrada 4 valores y los convierta a 2\n",
        "linear = nn.Linear(4, 2)\n",
        "\n",
        "\n",
        "linear_output = linear(input)\n",
        "\n",
        "# Ejercicio: qué dimensión tiene linear_output?\n",
        "linear_output.shape # => (2, 3, 2)"
      ]
    },
    {
      "cell_type": "code",
      "source": [
        "torch.relu(linear(input))"
      ],
      "metadata": {
        "colab": {
          "base_uri": "https://localhost:8080/"
        },
        "id": "eHRW1lEZwonx",
        "outputId": "3ba23f4a-af35-42b3-ec93-4cecdebc230c"
      },
      "execution_count": null,
      "outputs": [
        {
          "output_type": "execute_result",
          "data": {
            "text/plain": [
              "tensor([[[0.4518, 0.3999],\n",
              "         [0.4518, 0.3999],\n",
              "         [0.4518, 0.3999]],\n",
              "\n",
              "        [[0.4518, 0.3999],\n",
              "         [0.4518, 0.3999],\n",
              "         [0.4518, 0.3999]]], grad_fn=<ReluBackward0>)"
            ]
          },
          "metadata": {},
          "execution_count": 62
        }
      ]
    },
    {
      "cell_type": "code",
      "execution_count": null,
      "metadata": {
        "id": "0_9XKtAFYpdI"
      },
      "outputs": [],
      "source": [
        "list(linear.parameters()) # Ax + b"
      ]
    },
    {
      "cell_type": "markdown",
      "metadata": {
        "id": "jAXCCu9keUlW"
      },
      "source": [
        "## Otras capas\n",
        "Hay varias otras capas preconfiguradas en el módulo `nn`. Algunos ejemplos de uso común son `nn.Conv2d`, `nn.ConvTranspose2d`, `nn.BatchNorm1d`, `nn.BatchNorm2d`, `nn.Upsample` y `nn.MaxPool2d`, entre muchos otros. Aprenderemos más sobre esto a medida que avancemos en el curso. Por ahora, lo único importante para recordar es que podemos tratar cada una de estas capas como componentes plug and play: proporcionaremos las dimensiones requeridas y `PyTorch` se encargará de configurarlas y hacer toda la magia"
      ]
    },
    {
      "cell_type": "markdown",
      "metadata": {
        "id": "5SFB4xveIEwV"
      },
      "source": [
        ""
      ]
    },
    {
      "cell_type": "markdown",
      "metadata": {
        "id": "yslDOK66fYWn"
      },
      "source": [
        "### **Capa de función de activación**\n",
        "También podemos usar el módulo `nn` para aplicar funciones de activación a nuestros tensores. Las funciones de activación se utilizan para agregar no linealidad a nuestra red. Algunos ejemplos de funciones de activación son `nn.ReLU()`, `nn.Sigmoid()` y `nn.LeakyReLU()`. Las funciones de activación operan en cada elemento por separado, por lo que la forma de los tensores que obtenemos como salida es la misma que la que pasamos."
      ]
    },
    {
      "cell_type": "code",
      "execution_count": null,
      "metadata": {
        "id": "W9v5FjQtd4Ck",
        "colab": {
          "base_uri": "https://localhost:8080/"
        },
        "outputId": "2e8ee809-7edb-4d24-b687-acb55921db82"
      },
      "outputs": [
        {
          "output_type": "execute_result",
          "data": {
            "text/plain": [
              "tensor([[[0.6111, 0.5987],\n",
              "         [0.6111, 0.5987],\n",
              "         [0.6111, 0.5987]],\n",
              "\n",
              "        [[0.6111, 0.5987],\n",
              "         [0.6111, 0.5987],\n",
              "         [0.6111, 0.5987]]], grad_fn=<SigmoidBackward0>)"
            ]
          },
          "metadata": {},
          "execution_count": 63
        }
      ],
      "source": [
        "sigmoid = nn.Sigmoid()\n",
        "output = sigmoid(linear_output)\n",
        "output"
      ]
    },
    {
      "cell_type": "markdown",
      "source": [
        "En versiones más actuales de `torch`, podemos usar directamente `torch.sigmoid` o `torch.relu`"
      ],
      "metadata": {
        "id": "T1OS0oG4zF4K"
      }
    },
    {
      "cell_type": "code",
      "source": [
        "torch.relu(linear_output)"
      ],
      "metadata": {
        "id": "F_1jiEYEzLRg",
        "colab": {
          "base_uri": "https://localhost:8080/"
        },
        "outputId": "97bad413-3efd-4d46-94fa-52b3e2b6e418"
      },
      "execution_count": null,
      "outputs": [
        {
          "output_type": "execute_result",
          "data": {
            "text/plain": [
              "tensor([[[0.4518, 0.3999],\n",
              "         [0.4518, 0.3999],\n",
              "         [0.4518, 0.3999]],\n",
              "\n",
              "        [[0.4518, 0.3999],\n",
              "         [0.4518, 0.3999],\n",
              "         [0.4518, 0.3999]]], grad_fn=<ReluBackward0>)"
            ]
          },
          "metadata": {},
          "execution_count": 64
        }
      ]
    },
    {
      "cell_type": "code",
      "source": [
        "torch.sigmoid(linear_output)"
      ],
      "metadata": {
        "colab": {
          "base_uri": "https://localhost:8080/"
        },
        "id": "jIuPRroAw512",
        "outputId": "b46ca5f9-2275-4dbb-de72-38572273bc96"
      },
      "execution_count": null,
      "outputs": [
        {
          "output_type": "execute_result",
          "data": {
            "text/plain": [
              "tensor([[[0.6111, 0.5987],\n",
              "         [0.6111, 0.5987],\n",
              "         [0.6111, 0.5987]],\n",
              "\n",
              "        [[0.6111, 0.5987],\n",
              "         [0.6111, 0.5987],\n",
              "         [0.6111, 0.5987]]], grad_fn=<SigmoidBackward0>)"
            ]
          },
          "metadata": {},
          "execution_count": 65
        }
      ]
    },
    {
      "cell_type": "markdown",
      "source": [
        "¿Qué era la función ReLU?\n"
      ],
      "metadata": {
        "id": "eQ6N3zb00DOD"
      }
    },
    {
      "cell_type": "markdown",
      "metadata": {
        "id": "GkJ81p3GUVPM"
      },
      "source": [
        "### Módulos personalizados\n",
        "\n",
        "En lugar de utilizar los módulos predefinidos, también podemos crear los nuestros propios ampliando la clase `nn.Module`. Por ejemplo, podemos construir `nn.Linear` (que también extiende `nn.Module`) por nuestra cuenta usando el tensor presentado anteriormente. También podemos crear módulos nuevos y más complejos, como una red neuronal personalizada. \n",
        "\n",
        "Para crear un módulo personalizado, lo primero que tenemos que hacer es extender el `nn.Module`. Luego podemos inicializar nuestros parámetros en la función `__init__`, comenzando con una llamada a la función `__init__` de la superclase. Todos los atributos de clase que definimos, que son objetos de módulo `nn`, se tratan como parámetros, que se pueden aprender durante el entrenamiento. \n",
        "\n",
        "También se espera que todas las clases que extiendan `nn.Module` implementen una función `forward(x)`, donde `x` es un tensor. Esta es la función que se llama cuando se pasa un parámetro a nuestro módulo, como en `model(x)`."
      ]
    },
    {
      "cell_type": "code",
      "execution_count": null,
      "metadata": {
        "id": "9-lqhsqwViIk"
      },
      "outputs": [],
      "source": [
        "from torch.nn import functional as F\n",
        "\n",
        "class MultilayerPerceptron(nn.Module):\n",
        "\n",
        "  def __init__(self, input_size, hidden_size):\n",
        "    # Call to the __init__ function of the super class\n",
        "    super().__init__()\n",
        "    # Defining of our layers\n",
        "    self.linear = nn.Linear(input_size, hidden_size)\n",
        "    self.linear2 = nn.Linear(hidden_size, input_size)\n",
        "    \n",
        "  def forward(self, x):\n",
        "    linear = self.linear(x)\n",
        "    hidden = torch.relu(linear)\n",
        "    linear2 = self.linear2(hidden)\n",
        "    \n",
        "    return linear2"
      ]
    },
    {
      "cell_type": "code",
      "execution_count": null,
      "metadata": {
        "id": "cXi0T0FZbV0y",
        "colab": {
          "base_uri": "https://localhost:8080/"
        },
        "outputId": "3906c7ce-b918-4301-9558-4ed9ed848642"
      },
      "outputs": [
        {
          "output_type": "execute_result",
          "data": {
            "text/plain": [
              "tensor([[ 0.6273,  0.4350,  0.6156, -0.4774, -0.0627],\n",
              "        [ 0.3836, -0.3456,  0.3085, -0.7619, -0.2776]],\n",
              "       grad_fn=<AddmmBackward0>)"
            ]
          },
          "metadata": {},
          "execution_count": 67
        }
      ],
      "source": [
        "# Make a sample input\n",
        "input = torch.randn(2, 5)\n",
        "\n",
        "# Create our model\n",
        "model = MultilayerPerceptron(5, 3)\n",
        "\n",
        "# Pass our input through our model\n",
        "model(input).shape"
      ]
    },
    {
      "cell_type": "markdown",
      "metadata": {
        "id": "tCCbjc-Fb2-B"
      },
      "source": [
        "Podemos inspeccionar los parámetros de nuestro modelo con los métodos `named_parameters()` y `parameters()`."
      ]
    },
    {
      "cell_type": "code",
      "execution_count": null,
      "metadata": {
        "id": "7d23soYIb2WZ",
        "colab": {
          "base_uri": "https://localhost:8080/"
        },
        "outputId": "12d8d128-daa1-4094-a565-33c04b3bac15"
      },
      "outputs": [
        {
          "output_type": "execute_result",
          "data": {
            "text/plain": [
              "[('linear.weight', Parameter containing:\n",
              "  tensor([[-0.4433,  0.0630, -0.4351,  0.1178,  0.2064],\n",
              "          [ 0.0663,  0.0594, -0.1578, -0.0931, -0.1395],\n",
              "          [ 0.3878, -0.1586,  0.0323,  0.2516, -0.0278]], requires_grad=True)),\n",
              " ('linear.bias', Parameter containing:\n",
              "  tensor([-0.0422, -0.0523,  0.1850], requires_grad=True)),\n",
              " ('linear2.weight', Parameter containing:\n",
              "  tensor([[ 0.1524, -0.2727,  0.4581],\n",
              "          [ 0.5249, -0.5233, -0.1585],\n",
              "          [ 0.5717,  0.2840, -0.4711],\n",
              "          [ 0.2143, -0.1316, -0.2318],\n",
              "          [ 0.2245, -0.0786,  0.0862]], requires_grad=True)),\n",
              " ('linear2.bias', Parameter containing:\n",
              "  tensor([ 0.3795,  0.0766,  0.3103, -0.5761, -0.2599], requires_grad=True))]"
            ]
          },
          "metadata": {},
          "execution_count": 68
        }
      ],
      "source": [
        "list(model.named_parameters())"
      ]
    },
    {
      "cell_type": "markdown",
      "metadata": {
        "id": "x5JegycOdMFy"
      },
      "source": [
        "## Optimización\n",
        "\n",
        "Hemos mostrado cómo se calculan los gradientes con la función `backward()`. Tener los gradientes no es suficiente para que nuestros modelos aprendan. También necesitamos saber cómo actualizar los parámetros de nuestros modelos. Aquí es donde entran los optimizadores. \n",
        "\n",
        "El módulo `torch.optim` contiene varios optimizadores que podemos usar. Algunos ejemplos populares son `optim.SGD` y `optim.Adam`. Al inicializar los optimizadores, pasamos los parámetros de nuestro modelo, a los que se puede acceder con `model.parameters()`, indicando a los optimizadores qué valores optimizará. Optimizers también tiene un parámetro de tasa de aprendizaje (`lr`), que determina el tamaño de la actualización que se realizará en cada paso. Diferentes optimizadores también tienen diferentes hiperparámetros."
      ]
    },
    {
      "cell_type": "code",
      "execution_count": null,
      "metadata": {
        "id": "W0F-TvV0kk-I"
      },
      "outputs": [],
      "source": [
        "import torch.optim as optim"
      ]
    },
    {
      "cell_type": "markdown",
      "metadata": {
        "id": "wgak6o5dlQWF"
      },
      "source": [
        "Después de tener nuestra función de optimización, podemos definir una \"pérdida\" para la que queremos optimizar. Podemos definir la pérdida nosotros mismos o usar una de las funciones de pérdida predefinidas en `PyTorch`, como `nn.BCELoss()`. ¡Pongamos todo junto ahora! \n",
        "\n",
        "Vamos a hacer un ejemplo de juguete: aproximar la función `seno` entre -10 y 10"
      ]
    },
    {
      "cell_type": "code",
      "execution_count": null,
      "metadata": {
        "id": "dGYFiaT_vXBn",
        "colab": {
          "base_uri": "https://localhost:8080/",
          "height": 282
        },
        "outputId": "21e561ae-c63a-467d-b559-d73005194df5"
      },
      "outputs": [
        {
          "output_type": "execute_result",
          "data": {
            "text/plain": [
              "<matplotlib.collections.PathCollection at 0x7fdfeaa3bd10>"
            ]
          },
          "metadata": {},
          "execution_count": 70
        },
        {
          "output_type": "display_data",
          "data": {
            "text/plain": [
              "<Figure size 432x288 with 1 Axes>"
            ],
            "image/png": "[encoded data removed]"
          },
          "metadata": {
            "needs_background": "light"
          }
        }
      ],
      "source": [
        "# Create the y data\n",
        "#x = y + torch.randn_like(y)\n",
        "#y = torch.ones(10, 5)\n",
        "import matplotlib.pyplot as plt\n",
        "\n",
        "\n",
        "# Creo una distribución uniforme entre -10 y 10 (leer documentación de torch.rand)\n",
        "x = torch.rand(10_000, 1) * 20 - 10\n",
        "# x += 0.1 * torch.randn_like(x)\n",
        "\n",
        "y = torch.sin(x).reshape(-1, 1)\n",
        "#Agrego ruido normal\n",
        "y += 0.2 * torch.randn_like(y)\n",
        "\n",
        "# Add some noise to our goal y to generate our x\n",
        "# We want out model to predict our original data, albeit the noise\n",
        "plt.scatter(x, y)"
      ]
    },
    {
      "cell_type": "markdown",
      "metadata": {
        "id": "BEsiOdpWvfLj"
      },
      "source": [
        ""
      ]
    },
    {
      "cell_type": "markdown",
      "source": [
        "Vamos a intentar aproximarlo con una función\n",
        "\n",
        "$$\n",
        "h = ReLU(W_1 x + b_1) \\\\\n",
        "\\hat{y} = tanh(W_2 h + b_2)\n",
        "$$"
      ],
      "metadata": {
        "id": "jkYCFFor09Ho"
      }
    },
    {
      "cell_type": "code",
      "execution_count": null,
      "metadata": {
        "id": "7I3OUDB4IEwY"
      },
      "outputs": [],
      "source": [
        "from torch.nn import functional as F\n",
        "\n",
        "class MultilayerPerceptron(nn.Module):\n",
        "\n",
        "  def __init__(self, input_size, hidden_size):\n",
        "    # Call to the __init__ function of the super class\n",
        "    super().__init__()\n",
        "\n",
        "    # Bookkeeping: Saving the initialization parameters\n",
        "    self.input_size = input_size \n",
        "    self.hidden_size = hidden_size \n",
        "\n",
        "    # Defining of our layers\n",
        "    self.linear = nn.Linear(self.input_size, self.hidden_size)\n",
        "    self.linear2 = nn.Linear(self.hidden_size, self.input_size)\n",
        "    \n",
        "  def forward(self, x):\n",
        "    linear = self.linear(x)\n",
        "    hidden = torch.relu(linear)\n",
        "    linear2 = self.linear2(hidden)\n",
        "    \n",
        "    return torch.tanh(linear2)"
      ]
    },
    {
      "cell_type": "markdown",
      "source": [
        "Primero: definimos nuestra función de pérdida. Como es un problema de regresión, usamos la pérdida de cuadrados mínimos"
      ],
      "metadata": {
        "id": "522WYPJl1sxC"
      }
    },
    {
      "cell_type": "code",
      "source": [
        "\n",
        "# Define loss using a predefined loss function\n",
        "loss_function = nn.MSELoss()"
      ],
      "metadata": {
        "id": "xAuIQabo1pCG"
      },
      "execution_count": null,
      "outputs": []
    },
    {
      "cell_type": "markdown",
      "source": [
        "Creamos nuestro modelo"
      ],
      "metadata": {
        "id": "MBjin-te1yuB"
      }
    },
    {
      "cell_type": "code",
      "source": [
        "# Instantiate the model\n",
        "model = MultilayerPerceptron(1, 30)\n"
      ],
      "metadata": {
        "id": "P4_C0cCe1yAL"
      },
      "execution_count": null,
      "outputs": []
    },
    {
      "cell_type": "markdown",
      "source": [
        "Creamos el optimizador, que va a estar recibiendo como parámetros...los parámetros del modelo, y el learning rate"
      ],
      "metadata": {
        "id": "U5e-sdFX135M"
      }
    },
    {
      "cell_type": "code",
      "source": [
        "# Define the optimizer\n",
        "sgd = optim.SGD(model.parameters(), lr=3e-2)\n"
      ],
      "metadata": {
        "id": "DolgyhWu106k"
      },
      "execution_count": null,
      "outputs": []
    },
    {
      "cell_type": "markdown",
      "source": [
        "A ver qué tal está haciendo ahora:\n",
        "\n",
        "- Hacemos forward pass llamando al modelo con la entrada\n",
        "- Calculamos la pérdida"
      ],
      "metadata": {
        "id": "IL4isbSj1_C2"
      }
    },
    {
      "cell_type": "code",
      "source": [
        "\n",
        "\n",
        "\n",
        "# Calculate how our model is doing now\n",
        "y_pred = model(x)\n",
        "loss_function(y_pred, y).item()"
      ],
      "metadata": {
        "id": "2oA2XsdsbN8p",
        "colab": {
          "base_uri": "https://localhost:8080/"
        },
        "outputId": "1913dae7-5c49-4963-e375-54d1e2b754c8"
      },
      "execution_count": null,
      "outputs": [
        {
          "output_type": "execute_result",
          "data": {
            "text/plain": [
              "1.2579079866409302"
            ]
          },
          "metadata": {},
          "execution_count": 89
        }
      ]
    },
    {
      "cell_type": "code",
      "execution_count": null,
      "metadata": {
        "id": "c1M5oeeKIEwY",
        "colab": {
          "base_uri": "https://localhost:8080/"
        },
        "outputId": "1b7ceb45-38d3-4cff-823e-8336f38e47ce"
      },
      "outputs": [
        {
          "output_type": "execute_result",
          "data": {
            "text/plain": [
              "(torch.Size([32, 1]), torch.Size([32, 1]))"
            ]
          },
          "metadata": {},
          "execution_count": 90
        }
      ],
      "source": [
        "x.shape, y.shape"
      ]
    },
    {
      "cell_type": "markdown",
      "metadata": {
        "id": "3yFSNGllIEwY"
      },
      "source": [
        "Creo mi \"conjunto de train\" concatenando `x` e `y`"
      ]
    },
    {
      "cell_type": "code",
      "execution_count": null,
      "metadata": {
        "id": "8Ov-1t4xIEwY",
        "colab": {
          "base_uri": "https://localhost:8080/"
        },
        "outputId": "e4be8f5c-319e-4d4c-cfc8-eda651a4ea90"
      },
      "outputs": [
        {
          "output_type": "execute_result",
          "data": {
            "text/plain": [
              "tensor([[-0.6360, -0.7704],\n",
              "        [-5.6711,  0.6578],\n",
              "        [ 7.0288,  0.7910],\n",
              "        [-1.9894, -0.6073],\n",
              "        [ 0.8912,  0.5639],\n",
              "        [ 1.6653,  1.3826],\n",
              "        [-5.5041,  0.7643],\n",
              "        [ 3.2499,  0.4194],\n",
              "        [-8.4098, -0.7930],\n",
              "        [ 1.6378,  0.9221],\n",
              "        [ 5.4543, -0.9796],\n",
              "        [ 1.6981,  0.8567],\n",
              "        [ 7.2074,  0.8218],\n",
              "        [ 5.3098, -1.0778],\n",
              "        [-9.6790,  0.3497],\n",
              "        [ 0.9039,  0.9003],\n",
              "        [ 6.6985,  0.2110],\n",
              "        [ 4.4506, -0.9588],\n",
              "        [-0.2893, -0.3334],\n",
              "        [-8.3768, -0.7889],\n",
              "        [ 6.2231, -0.2377],\n",
              "        [-1.6435, -1.0692],\n",
              "        [-5.4538,  0.5664],\n",
              "        [-3.9117,  0.6356],\n",
              "        [-9.7245,  0.4114],\n",
              "        [-6.3255, -0.3832],\n",
              "        [-1.4261, -0.9955],\n",
              "        [-8.1363, -0.7689],\n",
              "        [-8.3461, -0.8619],\n",
              "        [-7.2530, -1.0342],\n",
              "        [-0.0786,  0.1360],\n",
              "        [ 9.9675, -0.5453]])"
            ]
          },
          "metadata": {},
          "execution_count": 91
        }
      ],
      "source": [
        "\n",
        "train_dataset = torch.cat([x, y], dim=1)\n",
        "\n",
        "train_dataset"
      ]
    },
    {
      "cell_type": "markdown",
      "source": [
        "## Batches\n",
        "\n",
        "¿Cómo separamos nuestros datos en lotes/batches? con `DataLoader`s!"
      ],
      "metadata": {
        "id": "Z3j7u7U16v6c"
      }
    },
    {
      "cell_type": "code",
      "source": [
        "from torch.utils.data import DataLoader\n",
        "train_dataloader = DataLoader(train_dataset, batch_size=32, shuffle=True)"
      ],
      "metadata": {
        "id": "kz5hDTDY6xcd"
      },
      "execution_count": null,
      "outputs": []
    },
    {
      "cell_type": "markdown",
      "source": [
        "Un dataloader es un iterable: podemos recorrerlo:"
      ],
      "metadata": {
        "id": "wiJSmDB_7Sf1"
      }
    },
    {
      "cell_type": "code",
      "source": [
        "for batch in train_dataloader:\n",
        "    print(batch.size())"
      ],
      "metadata": {
        "id": "qzxyS4mf7bZo",
        "colab": {
          "base_uri": "https://localhost:8080/"
        },
        "outputId": "870a50a4-6220-472c-aec7-2aef79e88ed1"
      },
      "execution_count": null,
      "outputs": [
        {
          "output_type": "stream",
          "name": "stdout",
          "text": [
            "torch.Size([32, 2])\n"
          ]
        }
      ]
    },
    {
      "cell_type": "markdown",
      "source": [
        "Si queremos ver qué pinta tiene un batch, podemos usar `next(iter(train_dataloader))` (!)"
      ],
      "metadata": {
        "id": "1CEAYhu-7gc5"
      }
    },
    {
      "cell_type": "code",
      "source": [
        "batch = next(iter(train_dataloader))\n",
        "\n",
        "\n",
        "batch"
      ],
      "metadata": {
        "id": "E2FlBcus7mpS",
        "colab": {
          "base_uri": "https://localhost:8080/"
        },
        "outputId": "985b6bdc-49b5-4220-dbb8-ae47da0db3df"
      },
      "execution_count": null,
      "outputs": [
        {
          "output_type": "execute_result",
          "data": {
            "text/plain": [
              "tensor([[ 1.6653,  1.3826],\n",
              "        [-1.6435, -1.0692],\n",
              "        [-8.4098, -0.7930],\n",
              "        [ 5.3098, -1.0778],\n",
              "        [-5.6711,  0.6578],\n",
              "        [ 1.6378,  0.9221],\n",
              "        [ 5.4543, -0.9796],\n",
              "        [-9.7245,  0.4114],\n",
              "        [ 1.6981,  0.8567],\n",
              "        [ 0.9039,  0.9003],\n",
              "        [-5.5041,  0.7643],\n",
              "        [-9.6790,  0.3497],\n",
              "        [ 4.4506, -0.9588],\n",
              "        [-0.0786,  0.1360],\n",
              "        [-1.9894, -0.6073],\n",
              "        [-8.1363, -0.7689],\n",
              "        [ 6.2231, -0.2377],\n",
              "        [-1.4261, -0.9955],\n",
              "        [-5.4538,  0.5664],\n",
              "        [ 6.6985,  0.2110],\n",
              "        [-0.6360, -0.7704],\n",
              "        [ 3.2499,  0.4194],\n",
              "        [ 9.9675, -0.5453],\n",
              "        [-8.3768, -0.7889],\n",
              "        [-8.3461, -0.8619],\n",
              "        [-7.2530, -1.0342],\n",
              "        [-6.3255, -0.3832],\n",
              "        [-3.9117,  0.6356],\n",
              "        [ 7.0288,  0.7910],\n",
              "        [-0.2893, -0.3334],\n",
              "        [ 0.8912,  0.5639],\n",
              "        [ 7.2074,  0.8218]])"
            ]
          },
          "metadata": {},
          "execution_count": 94
        }
      ]
    },
    {
      "cell_type": "markdown",
      "source": [
        "La entrada es la primer columna, así que nos quedamos con eso. Lo convertimos a una columna con `view`"
      ],
      "metadata": {
        "id": "Vxr9mQ6z7pPz"
      }
    },
    {
      "cell_type": "code",
      "source": [
        "batch"
      ],
      "metadata": {
        "colab": {
          "base_uri": "https://localhost:8080/"
        },
        "id": "MmZ-ilnj0pIp",
        "outputId": "efb3b3d4-4ae4-432a-dfd7-633bb5fe8937"
      },
      "execution_count": null,
      "outputs": [
        {
          "output_type": "execute_result",
          "data": {
            "text/plain": [
              "tensor([[ 1.6653,  1.3826],\n",
              "        [-1.6435, -1.0692],\n",
              "        [-8.4098, -0.7930],\n",
              "        [ 5.3098, -1.0778],\n",
              "        [-5.6711,  0.6578],\n",
              "        [ 1.6378,  0.9221],\n",
              "        [ 5.4543, -0.9796],\n",
              "        [-9.7245,  0.4114],\n",
              "        [ 1.6981,  0.8567],\n",
              "        [ 0.9039,  0.9003],\n",
              "        [-5.5041,  0.7643],\n",
              "        [-9.6790,  0.3497],\n",
              "        [ 4.4506, -0.9588],\n",
              "        [-0.0786,  0.1360],\n",
              "        [-1.9894, -0.6073],\n",
              "        [-8.1363, -0.7689],\n",
              "        [ 6.2231, -0.2377],\n",
              "        [-1.4261, -0.9955],\n",
              "        [-5.4538,  0.5664],\n",
              "        [ 6.6985,  0.2110],\n",
              "        [-0.6360, -0.7704],\n",
              "        [ 3.2499,  0.4194],\n",
              "        [ 9.9675, -0.5453],\n",
              "        [-8.3768, -0.7889],\n",
              "        [-8.3461, -0.8619],\n",
              "        [-7.2530, -1.0342],\n",
              "        [-6.3255, -0.3832],\n",
              "        [-3.9117,  0.6356],\n",
              "        [ 7.0288,  0.7910],\n",
              "        [-0.2893, -0.3334],\n",
              "        [ 0.8912,  0.5639],\n",
              "        [ 7.2074,  0.8218]])"
            ]
          },
          "metadata": {},
          "execution_count": 95
        }
      ]
    },
    {
      "cell_type": "code",
      "source": [
        "x = batch[:, 0].view(-1, 1)\n",
        "y = batch[:, 1].view(-1, 1)\n",
        "y_pred = model(x)"
      ],
      "metadata": {
        "id": "-x-069jD7uor"
      },
      "execution_count": null,
      "outputs": []
    },
    {
      "cell_type": "markdown",
      "source": [
        "Esa es nuestra predicción para el batch. Calculamos la pérdida con..."
      ],
      "metadata": {
        "id": "PJORFKUm73v0"
      }
    },
    {
      "cell_type": "code",
      "source": [
        "loss = loss_function(y_pred, y)\n",
        "\n",
        "loss"
      ],
      "metadata": {
        "id": "kunvLZ8w7_yU",
        "colab": {
          "base_uri": "https://localhost:8080/"
        },
        "outputId": "cc17e5ae-6d12-4a7e-ba7d-4f2c0f89b6a3"
      },
      "execution_count": null,
      "outputs": [
        {
          "output_type": "execute_result",
          "data": {
            "text/plain": [
              "tensor(1.2579, grad_fn=<MseLossBackward0>)"
            ]
          },
          "metadata": {},
          "execution_count": 97
        }
      ]
    },
    {
      "cell_type": "markdown",
      "source": [
        "## Entrenamiento\n",
        "\n",
        "Vamos a juntar todo esto: iteramos por todos los baches por 30 épocas y vamos ajustando el modelo"
      ],
      "metadata": {
        "id": "PvG2Lx-S8FM7"
      }
    },
    {
      "cell_type": "code",
      "execution_count": null,
      "metadata": {
        "id": "ogl6-Ctmuek6",
        "colab": {
          "base_uri": "https://localhost:8080/",
          "height": 1000
        },
        "outputId": "1a1eafe0-f915-4bd7-a1c3-4ec2008f2471"
      },
      "outputs": [
        {
          "output_type": "stream",
          "name": "stderr",
          "text": [
            "/usr/local/lib/python3.7/dist-packages/ipykernel_launcher.py:36: RuntimeWarning: More than 20 figures have been opened. Figures created through the pyplot interface (`matplotlib.pyplot.figure`) are retained until explicitly closed and may consume too much memory. (To control this warning, see the rcParam `figure.max_open_warning`).\n"
          ]
        },
        {
          "output_type": "display_data",
          "data": {
            "text/plain": [
              "<Figure size 432x288 with 1 Axes>"
            ],
            "image/png": "[encoded data removed]"
          },
          "metadata": {
            "needs_background": "light"
          }
        },
        {
          "output_type": "display_data",
          "data": {
            "text/plain": [
              "<Figure size 432x288 with 1 Axes>"
            ],
            "image/png": "[encoded data removed]"
          },
          "metadata": {
            "needs_background": "light"
          }
        },
        {
          "output_type": "display_data",
          "data": {
            "text/plain": [
              "<Figure size 432x288 with 1 Axes>"
            ],
            "image/png": "[encoded data removed]"
          },
          "metadata": {
            "needs_background": "light"
          }
        },
        {
          "output_type": "display_data",
          "data": {
            "text/plain": [
              "<Figure size 432x288 with 1 Axes>"
            ],
            "image/png": "[encoded data removed]"
          },
          "metadata": {
            "needs_background": "light"
          }
        },
        {
          "output_type": "display_data",
          "data": {
            "text/plain": [
              "<Figure size 432x288 with 1 Axes>"
            ],
            "image/png": "[encoded data removed]"
          },
          "metadata": {
            "needs_background": "light"
          }
        },
        {
          "output_type": "display_data",
          "data": {
            "text/plain": [
              "<Figure size 432x288 with 1 Axes>"
            ],
            "image/png": "[encoded data removed]"
          },
          "metadata": {
            "needs_background": "light"
          }
        },
        {
          "output_type": "display_data",
          "data": {
            "text/plain": [
              "<Figure size 432x288 with 1 Axes>"
            ],
            "image/png": "[encoded data removed]"
          },
          "metadata": {
            "needs_background": "light"
          }
        },
        {
          "output_type": "display_data",
          "data": {
            "text/plain": [
              "<Figure size 432x288 with 1 Axes>"
            ],
            "image/png": "[encoded data removed]"
          },
          "metadata": {
            "needs_background": "light"
          }
        },
        {
          "output_type": "display_data",
          "data": {
            "text/plain": [
              "<Figure size 432x288 with 1 Axes>"
            ],
            "image/png": "[encoded data removed]"
          },
          "metadata": {
            "needs_background": "light"
          }
        },
        {
          "output_type": "display_data",
          "data": {
            "text/plain": [
              "<Figure size 432x288 with 1 Axes>"
            ],
            "image/png": "[encoded data removed]"
          },
          "metadata": {
            "needs_background": "light"
          }
        },
        {
          "output_type": "display_data",
          "data": {
            "text/plain": [
              "<Figure size 432x288 with 1 Axes>"
            ],
            "image/png": "[encoded data removed]"
          },
          "metadata": {
            "needs_background": "light"
          }
        },
        {
          "output_type": "display_data",
          "data": {
            "text/plain": [
              "<Figure size 432x288 with 1 Axes>"
            ],
            "image/png": "[encoded data removed]"
          },
          "metadata": {
            "needs_background": "light"
          }
        },
        {
          "output_type": "display_data",
          "data": {
            "text/plain": [
              "<Figure size 432x288 with 1 Axes>"
            ],
            "image/png": "[encoded data removed]"
          },
          "metadata": {
            "needs_background": "light"
          }
        },
        {
          "output_type": "display_data",
          "data": {
            "text/plain": [
              "<Figure size 432x288 with 1 Axes>"
            ],
            "image/png": "[encoded data removed]"
          },
          "metadata": {
            "needs_background": "light"
          }
        },
        {
          "output_type": "display_data",
          "data": {
            "text/plain": [
              "<Figure size 432x288 with 1 Axes>"
            ],
            "image/png": "[encoded data removed]"
          },
          "metadata": {
            "needs_background": "light"
          }
        },
        {
          "output_type": "display_data",
          "data": {
            "text/plain": [
              "<Figure size 432x288 with 1 Axes>"
            ],
            "image/png": "[encoded data removed]"
          },
          "metadata": {
            "needs_background": "light"
          }
        },
        {
          "output_type": "display_data",
          "data": {
            "text/plain": [
              "<Figure size 432x288 with 1 Axes>"
            ],
            "image/png": "[encoded data removed]"
          },
          "metadata": {
            "needs_background": "light"
          }
        },
        {
          "output_type": "display_data",
          "data": {
            "text/plain": [
              "<Figure size 432x288 with 1 Axes>"
            ],
            "image/png": "[encoded data removed]"
          },
          "metadata": {
            "needs_background": "light"
          }
        },
        {
          "output_type": "display_data",
          "data": {
            "text/plain": [
              "<Figure size 432x288 with 1 Axes>"
            ],
            "image/png": "[encoded data removed]"
          },
          "metadata": {
            "needs_background": "light"
          }
        },
        {
          "output_type": "display_data",
          "data": {
            "text/plain": [
              "<Figure size 432x288 with 1 Axes>"
            ],
            "image/png": "[encoded data removed]"
          },
          "metadata": {
            "needs_background": "light"
          }
        },
        {
          "output_type": "display_data",
          "data": {
            "text/plain": [
              "<Figure size 432x288 with 1 Axes>"
            ],
            "image/png": "[encoded data removed]"
          },
          "metadata": {
            "needs_background": "light"
          }
        },
        {
          "output_type": "display_data",
          "data": {
            "text/plain": [
              "<Figure size 432x288 with 1 Axes>"
            ],
            "image/png": "[encoded data removed]"
          },
          "metadata": {
            "needs_background": "light"
          }
        },
        {
          "output_type": "display_data",
          "data": {
            "text/plain": [
              "<Figure size 432x288 with 1 Axes>"
            ],
            "image/png": "[encoded data removed]"
          },
          "metadata": {
            "needs_background": "light"
          }
        },
        {
          "output_type": "display_data",
          "data": {
            "text/plain": [
              "<Figure size 432x288 with 1 Axes>"
            ],
            "image/png": "[encoded data removed]"
          },
          "metadata": {
            "needs_background": "light"
          }
        },
        {
          "output_type": "display_data",
          "data": {
            "text/plain": [
              "<Figure size 432x288 with 1 Axes>"
            ],
            "image/png": "[encoded data removed]"
          },
          "metadata": {
            "needs_background": "light"
          }
        },
        {
          "output_type": "display_data",
          "data": {
            "text/plain": [
              "<Figure size 432x288 with 1 Axes>"
            ],
            "image/png": "[encoded data removed]"
          },
          "metadata": {
            "needs_background": "light"
          }
        },
        {
          "output_type": "display_data",
          "data": {
            "text/plain": [
              "<Figure size 432x288 with 1 Axes>"
            ],
            "image/png": "[encoded data removed]"
          },
          "metadata": {
            "needs_background": "light"
          }
        },
        {
          "output_type": "display_data",
          "data": {
            "text/plain": [
              "<Figure size 432x288 with 1 Axes>"
            ],
            "image/png": "[encoded data removed]"
          },
          "metadata": {
            "needs_background": "light"
          }
        },
        {
          "output_type": "display_data",
          "data": {
            "text/plain": [
              "<Figure size 432x288 with 1 Axes>"
            ],
            "image/png": "[encoded data removed]"
          },
          "metadata": {
            "needs_background": "light"
          }
        },
        {
          "output_type": "display_data",
          "data": {
            "text/plain": [
              "<Figure size 432x288 with 1 Axes>"
            ],
            "image/png": "[encoded data removed]"
          },
          "metadata": {
            "needs_background": "light"
          }
        }
      ],
      "source": [
        "from torch.utils.data import DataLoader\n",
        "\n",
        "\n",
        "\n",
        "# Dataloader: el que convierte nuestro conjunto de datos en pequeños lotes/batches\n",
        "\n",
        "train_dataloader = DataLoader(train_dataset, batch_size=32, shuffle=True)\n",
        "# Set the number of epoch, which determines the number of training iterations\n",
        "n_epoch = 30\n",
        "\n",
        "# Define loss using a predefined loss function\n",
        "loss_function = nn.MSELoss()\n",
        "\n",
        "for epoch in range(n_epoch):\n",
        "  avg_loss = 0.0\n",
        "  for batch in train_dataloader:\n",
        "    x_batch, y_batch = batch[:, 0].view(-1, 1), batch[:, 1].view(-1, 1)\n",
        "    # Set the gradients to 0\n",
        "    sgd.zero_grad()\n",
        "    # Get the model predictions\n",
        "    y_pred = model(x_batch)\n",
        "\n",
        "    # Get the loss\n",
        "    loss = loss_function(y_pred, y_batch)\n",
        "  # Compute the gradients\n",
        "    loss.backward()\n",
        "\n",
        "    avg_loss += loss.item() \n",
        "    # Take a step to optimize the weights\n",
        "    sgd.step()\n",
        "  \n",
        "  avg_loss /= len(train_dataloader)\n",
        "\n",
        "  \n",
        "\n",
        "  plt.figure()\n",
        "  y_pred = model(train_dataset[:, 0].view(-1, 1))\n",
        "  plt.scatter(train_dataset[:, 0].detach().cpu(), y_pred.detach().cpu().view(-1, 1))\n",
        "  plt.title(f\"Epoch {epoch} -- MSE {avg_loss:.4f}\")\n",
        "\n"
      ]
    },
    {
      "cell_type": "markdown",
      "source": [
        "Bastante bien!"
      ],
      "metadata": {
        "id": "5epPQOpq3ipi"
      }
    }
  ],
  "metadata": {
    "colab": {
      "collapsed_sections": [],
      "name": "4.  NLP UdeSA 2022: Intro a PyTorch.ipynb",
      "provenance": [],
      "include_colab_link": true
    },
    "interpreter": {
      "hash": "3386c84ec0532bab34ae70cc8f30d327d47697366efd1f0b040a1804279813d8"
    },
    "kernelspec": {
      "display_name": "Python 3.8.12 ('venv': venv)",
      "language": "python",
      "name": "python3"
    },
    "language_info": {
      "codemirror_mode": {
        "name": "ipython",
        "version": 3
      },
      "file_extension": ".py",
      "mimetype": "text/x-python",
      "name": "python",
      "nbconvert_exporter": "python",
      "pygments_lexer": "ipython3",
      "version": "3.8.12"
    }
  },
  "nbformat": 4,
  "nbformat_minor": 0
}
