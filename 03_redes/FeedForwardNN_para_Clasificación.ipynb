{
  "nbformat": 4,
  "nbformat_minor": 0,
  "metadata": {
    "colab": {
      "provenance": [],
      "authorship_tag": "ABX9TyP2Q0yYEMos0yU1Ggj3cgBG",
      "include_colab_link": true
    },
    "kernelspec": {
      "name": "python3",
      "display_name": "Python 3"
    },
    "language_info": {
      "name": "python"
    }
  },
  "cells": [
    {
      "cell_type": "markdown",
      "metadata": {
        "id": "view-in-github",
        "colab_type": "text"
      },
      "source": [
        "<a href=\"https://colab.research.google.com/github/LCaravaggio/NLP/blob/main/03_redes/FeedForwardNN_para_Clasificaci%C3%B3n.ipynb\" target=\"_parent\"><img src=\"https://colab.research.google.com/assets/colab-badge.svg\" alt=\"Open In Colab\"/></a>"
      ]
    },
    {
      "cell_type": "markdown",
      "source": [
        "Los datos originales salen de acá:\n",
        "https://www.kaggle.com/datasets/kazanova/sentiment140"
      ],
      "metadata": {
        "id": "E6TB3EOAR565"
      }
    },
    {
      "cell_type": "markdown",
      "source": [
        "# Carga de datos"
      ],
      "metadata": {
        "id": "fRboOB18F56s"
      }
    },
    {
      "cell_type": "code",
      "source": [
        "from google.colab import drive\n",
        "drive.mount('/content/drive')"
      ],
      "metadata": {
        "colab": {
          "base_uri": "https://localhost:8080/"
        },
        "id": "fkiul1AHF7MS",
        "outputId": "2bdd5d30-6be3-4cba-b3ad-705829c417e7"
      },
      "execution_count": 1,
      "outputs": [
        {
          "output_type": "stream",
          "name": "stdout",
          "text": [
            "Mounted at /content/drive\n"
          ]
        }
      ]
    },
    {
      "cell_type": "code",
      "source": [
        "import json\n",
        "from google.colab import drive\n",
        "\n",
        "!mkdir ~/.kaggle\n",
        "!touch ~/.kaggle/kaggle.json\n",
        "\n",
        "drive.mount('/content/drive', force_remount=True)\n",
        "with open(\"/content/drive/My Drive/kaggle.json\", 'r') as f:\n",
        "    api_token= json.load(f)\n",
        "\n",
        "with open('/root/.kaggle/kaggle.json', 'w') as file:\n",
        "    json.dump(api_token, file)\n",
        "\n",
        "!chmod 600 ~/.kaggle/kaggle.json\n",
        "\n",
        "!kaggle datasets download -d kazanova/sentiment140"
      ],
      "metadata": {
        "colab": {
          "base_uri": "https://localhost:8080/"
        },
        "id": "_B6hJY_cF-oV",
        "outputId": "ec967f13-0187-4d29-8d0b-7a7a63d040a7"
      },
      "execution_count": 2,
      "outputs": [
        {
          "output_type": "stream",
          "name": "stdout",
          "text": [
            "Mounted at /content/drive\n",
            "Downloading sentiment140.zip to /content\n",
            " 77% 62.0M/80.9M [00:00<00:00, 151MB/s]\n",
            "100% 80.9M/80.9M [00:00<00:00, 159MB/s]\n"
          ]
        }
      ]
    },
    {
      "cell_type": "code",
      "source": [
        "import zipfile\n",
        "import os\n",
        "\n",
        "os.listdir()\n",
        "\n",
        "for file in os.listdir():\n",
        "    if file.endswith('.zip'):\n",
        "      zip_ref = zipfile.ZipFile(file, 'r')\n",
        "      zip_ref.extractall()\n",
        "      zip_ref.close()"
      ],
      "metadata": {
        "id": "H0MQUgwAGDSr"
      },
      "execution_count": 3,
      "outputs": []
    },
    {
      "cell_type": "code",
      "source": [
        "import numpy as np\n",
        "import random\n",
        "import pandas as pd\n",
        "import re\n",
        "from tensorflow.keras import models\n",
        "from tensorflow.keras import layers\n",
        "import tensorflow_datasets as tfds\n",
        "import tensorflow as tf\n",
        "import nltk\n",
        "from nltk.corpus import stopwords\n",
        "from  nltk.stem import SnowballStemmer\n",
        "import matplotlib.pyplot as plt\n",
        "import seaborn as sns\n",
        "from collections import Counter\n",
        "from wordcloud import WordCloud, STOPWORDS\n",
        "import plotly.express as px\n",
        "import tensorflow as tf"
      ],
      "metadata": {
        "id": "vgL2jaTOGvzV"
      },
      "execution_count": 4,
      "outputs": []
    },
    {
      "cell_type": "code",
      "source": [
        "n = 1600000 #number of records in file\n",
        "s = 100000 #desired sample size\n",
        "filename = \"/content/training.1600000.processed.noemoticon.csv\"\n",
        "skip = sorted(random.sample(range(n),n-s))\n",
        "\n",
        "data = pd.read_csv(filename, skiprows=skip, header=None,engine='python',encoding='latin1')\n",
        "\n",
        "data.columns=['Sentiment','Id','Date','Query','User','Text']\n",
        "train_data=data.iloc[:,-1].values\n",
        "train_label=data.iloc[:,0].values"
      ],
      "metadata": {
        "id": "BVt_w__wG4ED"
      },
      "execution_count": 5,
      "outputs": []
    },
    {
      "cell_type": "code",
      "source": [
        "stemmer=SnowballStemmer('english')"
      ],
      "metadata": {
        "id": "BD7NC3ScHCdo"
      },
      "execution_count": 6,
      "outputs": []
    },
    {
      "cell_type": "code",
      "source": [
        "nltk.download('stopwords')"
      ],
      "metadata": {
        "colab": {
          "base_uri": "https://localhost:8080/"
        },
        "id": "xXCx2OJ5JtQG",
        "outputId": "26395baa-8cea-4e11-c72e-bd52b97ad2a3"
      },
      "execution_count": 7,
      "outputs": [
        {
          "output_type": "stream",
          "name": "stderr",
          "text": [
            "[nltk_data] Downloading package stopwords to /root/nltk_data...\n",
            "[nltk_data]   Unzipping corpora/stopwords.zip.\n"
          ]
        },
        {
          "output_type": "execute_result",
          "data": {
            "text/plain": [
              "True"
            ]
          },
          "metadata": {},
          "execution_count": 7
        }
      ]
    },
    {
      "cell_type": "code",
      "source": [
        "stopwords = stopwords.words('english')\n",
        "\n",
        "def tweet_clean(tweet):\n",
        "    tweet=re.sub(r'@[A-Za-z0-9]+',\" \",tweet) ##Removing the usernames\n",
        "    tweet=re.sub(r'^[A-Za-z0-9.!?]+',\" \",tweet) ##Removing digits and punctuations\n",
        "    tweet=re.sub(r'https?://[A-Za-z0-9./]+',\" \",tweet) ## removing links\n",
        "    tweet=re.sub(r' +',\" \",tweet)\n",
        "    tweet = tweet.lower()\n",
        "    tweet = re.sub(r\"\\'s\", \" \", tweet)\n",
        "    tweet = re.sub(r\"\\'ve\", \" have \", tweet)\n",
        "    tweet = re.sub(r\"can't\", \"cannot \", tweet)\n",
        "    tweet = re.sub(r\"n't\", \" not \", tweet)\n",
        "    tweet = re.sub(r\"\\'d\", \" would \", tweet)\n",
        "    tweet = re.sub(r\"\\'ll\", \" will \", tweet)\n",
        "    tweet = re.sub(r\"\\'scuse\", \" excuse \", tweet)\n",
        "    tweet = tweet.strip(' ')\n",
        "    tweet = tweet.strip('. .')\n",
        "    tweet = tweet.replace('.',' ')\n",
        "    tweet = tweet.replace('-',' ')\n",
        "    tweet = tweet.replace(\"’\", \"'\").replace(\"′\", \"'\").replace(\"%\", \" percent \").replace(\"₹\", \" rupee \").replace(\"$\", \" dollar \")\n",
        "    tweet = tweet.replace(\"won't\", \"will not\").replace(\"cannot\", \"can not\").replace(\"can't\", \"can not\")\n",
        "    tweet = tweet.replace(\"€\", \" euro \").replace(\"'ll\", \" will\")\n",
        "    tweet = tweet.replace(\"don't\", \"do not\").replace(\"didn't\", \"did not\").replace(\"im\",\"i am\").replace(\"it's\", \"it is\")\n",
        "    tweet = tweet.replace(\",000,000\", \"m\").replace(\"n't\", \" not\").replace(\"what's\", \"what is\")\n",
        "    tweet = tweet.replace(\",000\", \"k\").replace(\"'ve\", \" have\").replace(\"i'm\", \"i am\").replace(\"'re\", \" are\")\n",
        "    tweet = tweet.replace(\"he's\", \"he is\").replace(\"she's\", \"she is\").replace(\"'s\", \" own\")\n",
        "    tweet = re.sub('\\s+', ' ', tweet)\n",
        "    tweet=tweet.split()\n",
        "    tweet=[stemmer.stem(word) for word in tweet if word not in stopwords]\n",
        "    tweet=' '.join(word for word in tweet)\n",
        "\n",
        "\n",
        "    return tweet.lower()\n",
        "\n",
        "tweets_clean=[tweet_clean(tweet) for tweet in train_data]"
      ],
      "metadata": {
        "id": "QaWvrXyAJIsX"
      },
      "execution_count": 8,
      "outputs": []
    },
    {
      "cell_type": "code",
      "source": [
        "data['Text_clean']=tweets_clean\n",
        "data['No_of_Words']=[len(text.split()) for text in data['Text_clean']]"
      ],
      "metadata": {
        "id": "mFLfmVEPMGl6"
      },
      "execution_count": 9,
      "outputs": []
    },
    {
      "cell_type": "code",
      "source": [
        "train_label[train_label==4]=1  ##Resetting the labels for positive tweets to 1"
      ],
      "metadata": {
        "id": "jsUu3J_WMRvQ"
      },
      "execution_count": 10,
      "outputs": []
    },
    {
      "cell_type": "code",
      "source": [
        "negatives=data['Sentiment']==0\n",
        "positives=data['Sentiment']==1\n",
        "fig,ax =plt.subplots(nrows=1,ncols=2,figsize=(15,7.5))\n",
        "\n",
        "sns.countplot(x=data[positives]['No_of_Words'],label='Positive',ax=ax[0], color='navy')\n",
        "sns.countplot(x=data[negatives]['No_of_Words'],label='Negative',ax=ax[1], color='navy')\n",
        "ax[0].set_title('Number of words for positive comments')\n",
        "ax[1].set_title('Number of words for negative comments')\n",
        "plt.tight_layout()\n",
        "plt.show()"
      ],
      "metadata": {
        "colab": {
          "base_uri": "https://localhost:8080/",
          "height": 748
        },
        "id": "6RLNrlyiMTTv",
        "outputId": "e095cf4e-99b3-488e-b9cb-71dc178c7386"
      },
      "execution_count": 38,
      "outputs": [
        {
          "output_type": "display_data",
          "data": {
            "text/plain": [
              "<Figure size 1500x750 with 2 Axes>"
            ],
            "image/png": "[encoded data removed]"
          },
          "metadata": {}
        }
      ]
    },
    {
      "cell_type": "markdown",
      "source": [
        "# Tokenización"
      ],
      "metadata": {
        "id": "1p00pzuVOdE6"
      }
    },
    {
      "cell_type": "code",
      "source": [
        "import tensorflow_datasets as tfds\n",
        "\n",
        "# Build the tokenizer from your corpus\n",
        "tokenizer = tfds.deprecated.text.SubwordTextEncoder.build_from_corpus(\n",
        "    tweets_clean, target_vocab_size=2**16\n",
        ")\n",
        "\n",
        "# Save the tokenizer to a file for later use\n",
        "tokenizer.save_to_file('tokenizer_tweets')\n",
        "\n",
        "# Encode your data using the tokenizer\n",
        "data_inputs = [tokenizer.encode(sentence) for sentence in tweets_clean]"
      ],
      "metadata": {
        "id": "CuZHClKpOeip"
      },
      "execution_count": 12,
      "outputs": []
    },
    {
      "cell_type": "code",
      "source": [
        "Max_len=np.max([len(sentence) for sentence in data_inputs])\n",
        "\n",
        "### Padding with 0s at the end of the sentences since 0 has no value and it wouldn't change the meaning of our sentence\n",
        "data_inputs=tf.keras.preprocessing.sequence.pad_sequences(data_inputs,value=0,padding='post',maxlen=Max_len)"
      ],
      "metadata": {
        "id": "kg3o_HL8fAw5"
      },
      "execution_count": 13,
      "outputs": []
    },
    {
      "cell_type": "code",
      "source": [
        "from sklearn.model_selection import train_test_split\n",
        "\n",
        "X_train, X_test, y_train, y_test = train_test_split(data_inputs, train_label, test_size=0.5, random_state=42)"
      ],
      "metadata": {
        "id": "4tu5hbUgfS6k"
      },
      "execution_count": 14,
      "outputs": []
    },
    {
      "cell_type": "markdown",
      "source": [
        "# FFNN"
      ],
      "metadata": {
        "id": "yspP03tX7Oos"
      }
    },
    {
      "cell_type": "code",
      "source": [
        "import tensorflow as tf\n",
        "\n",
        "class SimpleFeedForwardNN(tf.keras.Model):\n",
        "    def __init__(self,\n",
        "                 vocab_size,\n",
        "                 emb_dim=128,\n",
        "                 FFN_units=256,\n",
        "                 nb_classes=2,\n",
        "                 dropout_rate=0.1,\n",
        "                 name='simple_ffnn'):\n",
        "        super(SimpleFeedForwardNN, self).__init__(name=name)\n",
        "\n",
        "        self.embeddings = tf.keras.layers.Embedding(vocab_size, emb_dim)\n",
        "        self.flatten = tf.keras.layers.Flatten()\n",
        "        self.dense_1 = tf.keras.layers.Dense(units=FFN_units, activation='relu')\n",
        "        self.dropout = tf.keras.layers.Dropout(rate=dropout_rate)\n",
        "\n",
        "        if nb_classes == 2:\n",
        "            self.dense_2 = tf.keras.layers.Dense(units=1, activation='sigmoid')\n",
        "        else:\n",
        "            self.dense_2 = tf.keras.layers.Dense(units=nb_classes, activation='softmax')\n",
        "\n",
        "    def call(self, inputs, training):\n",
        "        x = self.embeddings(inputs)\n",
        "        x = self.flatten(x)\n",
        "        x = self.dense_1(x)\n",
        "        x = self.dropout(x, training)\n",
        "        output = self.dense_2(x)\n",
        "\n",
        "        return output"
      ],
      "metadata": {
        "id": "5bwxmt9Afg0v"
      },
      "execution_count": 15,
      "outputs": []
    },
    {
      "cell_type": "code",
      "source": [
        "VOCAB_SIZE = tokenizer.vocab_size\n",
        "\n",
        "EMB_DIM = 100\n",
        "NB_FILTERS = 100\n",
        "FFN_UNITS = 256\n",
        "NB_CLASSES = 2 #len(set(train_labels))\n",
        "\n",
        "DROPOUT_RATE = 0.2\n",
        "\n",
        "BATCH_SIZE = 256\n",
        "NB_EPOCHS = 1"
      ],
      "metadata": {
        "id": "wMRleRL-fjRH"
      },
      "execution_count": 16,
      "outputs": []
    },
    {
      "cell_type": "code",
      "source": [
        "SimpleFeedForwardNN = SimpleFeedForwardNN(vocab_size=VOCAB_SIZE,\n",
        "            emb_dim=EMB_DIM,\n",
        "            FFN_units=FFN_UNITS,\n",
        "            nb_classes=NB_CLASSES,\n",
        "            dropout_rate=DROPOUT_RATE)\n",
        "\n",
        "if NB_CLASSES == 2:\n",
        "    SimpleFeedForwardNN.compile(loss=\"binary_crossentropy\",\n",
        "                 optimizer=\"adam\",\n",
        "                 metrics=[\"accuracy\"])\n",
        "else:\n",
        "    SimpleFeedForwardNN.compile(loss=\"sparse_categorical_crossentropy\",\n",
        "                 optimizer=\"adam\",\n",
        "                 metrics=[\"sparse_categorical_accuracy\"])"
      ],
      "metadata": {
        "id": "LUgfd_U6flAK"
      },
      "execution_count": 17,
      "outputs": []
    },
    {
      "cell_type": "code",
      "source": [
        "checkpoint_path = \"/content/\"\n",
        "\n",
        "ckpt = tf.train.Checkpoint(SimpleFeedForwardNN=SimpleFeedForwardNN)\n",
        "\n",
        "ckpt_manager = tf.train.CheckpointManager(ckpt, checkpoint_path, max_to_keep=5)\n",
        "\n",
        "if ckpt_manager.latest_checkpoint:\n",
        "    ckpt.restore(ckpt_manager.latest_checkpoint)\n",
        "    print(\"Latest checkpoint restored!!\")"
      ],
      "metadata": {
        "id": "ktq1H-k_fq3K"
      },
      "execution_count": 18,
      "outputs": []
    },
    {
      "cell_type": "code",
      "source": [
        "SimpleFeedForwardNN.fit(X_train,\n",
        "         y_train,\n",
        "         batch_size=BATCH_SIZE,\n",
        "         epochs=NB_EPOCHS)"
      ],
      "metadata": {
        "colab": {
          "base_uri": "https://localhost:8080/"
        },
        "id": "f8LX3ZzYfyjX",
        "outputId": "5a13d959-a4cb-4ba5-a99c-0e382839ee0b"
      },
      "execution_count": 19,
      "outputs": [
        {
          "output_type": "stream",
          "name": "stdout",
          "text": [
            "196/196 [==============================] - 70s 352ms/step - loss: 0.6051 - accuracy: 0.6637\n"
          ]
        },
        {
          "output_type": "execute_result",
          "data": {
            "text/plain": [
              "<keras.callbacks.History at 0x7ec2f41463e0>"
            ]
          },
          "metadata": {},
          "execution_count": 19
        }
      ]
    },
    {
      "cell_type": "markdown",
      "source": [
        "# Glove"
      ],
      "metadata": {
        "id": "hSMbUf_f3YlD"
      }
    },
    {
      "cell_type": "code",
      "source": [
        "!wget https://nlp.stanford.edu/data/glove.6B.zip"
      ],
      "metadata": {
        "colab": {
          "base_uri": "https://localhost:8080/"
        },
        "id": "qkuOMX-G4Vch",
        "outputId": "2185157a-ee3b-45fe-a1c1-8eaffe494d78"
      },
      "execution_count": 20,
      "outputs": [
        {
          "output_type": "stream",
          "name": "stdout",
          "text": [
            "--2023-09-07 14:04:34--  https://nlp.stanford.edu/data/glove.6B.zip\n",
            "Resolving nlp.stanford.edu (nlp.stanford.edu)... 171.64.67.140\n",
            "Connecting to nlp.stanford.edu (nlp.stanford.edu)|171.64.67.140|:443... connected.\n",
            "HTTP request sent, awaiting response... 301 Moved Permanently\n",
            "Location: https://downloads.cs.stanford.edu/nlp/data/glove.6B.zip [following]\n",
            "--2023-09-07 14:04:35--  https://downloads.cs.stanford.edu/nlp/data/glove.6B.zip\n",
            "Resolving downloads.cs.stanford.edu (downloads.cs.stanford.edu)... 171.64.64.22\n",
            "Connecting to downloads.cs.stanford.edu (downloads.cs.stanford.edu)|171.64.64.22|:443... connected.\n",
            "HTTP request sent, awaiting response... 200 OK\n",
            "Length: 862182613 (822M) [application/zip]\n",
            "Saving to: ‘glove.6B.zip’\n",
            "\n",
            "glove.6B.zip        100%[===================>] 822.24M  5.02MB/s    in 2m 39s  \n",
            "\n",
            "2023-09-07 14:07:14 (5.18 MB/s) - ‘glove.6B.zip’ saved [862182613/862182613]\n",
            "\n"
          ]
        }
      ]
    },
    {
      "cell_type": "code",
      "source": [
        "!unzip /content/glove.6B.zip"
      ],
      "metadata": {
        "colab": {
          "base_uri": "https://localhost:8080/"
        },
        "id": "MoNWazio4aGN",
        "outputId": "49d68446-a7e2-4ffc-8d2a-1ad257e5d73e"
      },
      "execution_count": 21,
      "outputs": [
        {
          "output_type": "stream",
          "name": "stdout",
          "text": [
            "Archive:  /content/glove.6B.zip\n",
            "  inflating: glove.6B.50d.txt        \n",
            "  inflating: glove.6B.100d.txt       \n",
            "  inflating: glove.6B.200d.txt       \n",
            "  inflating: glove.6B.300d.txt       \n"
          ]
        }
      ]
    },
    {
      "cell_type": "code",
      "source": [
        "import codecs\n",
        "#load embeddings\n",
        "print('loading word embeddings...')\n",
        "embeddings_index = {}\n",
        "f = codecs.open('/content/glove.6B.100d.txt', encoding='utf-8')\n",
        "for line in f:\n",
        "    values = line.rstrip().rsplit(' ')\n",
        "    word = values[0]\n",
        "    coefs = np.asarray(values[1:], dtype='float32')\n",
        "    embeddings_index[word] = coefs\n",
        "f.close()\n",
        "print('found %s word vectors' % len(embeddings_index))"
      ],
      "metadata": {
        "colab": {
          "base_uri": "https://localhost:8080/"
        },
        "id": "-00IEAsg38xN",
        "outputId": "bce5bee6-ec2e-4a9e-b4e3-8999d2f2d5ec"
      },
      "execution_count": 22,
      "outputs": [
        {
          "output_type": "stream",
          "name": "stdout",
          "text": [
            "loading word embeddings...\n",
            "found 400000 word vectors\n"
          ]
        }
      ]
    },
    {
      "cell_type": "code",
      "source": [
        "vocabulary = data_inputs\n",
        "emb_dim=100\n",
        "\n",
        "vocab_size = tokenizer.vocab_size\n",
        "embedding_dim = 100  # Use the appropriate dimension for your GloVe embeddings\n",
        "embedding_matrix = np.zeros((vocab_size, embedding_dim))\n",
        "\n",
        "# Fill the embedding matrix with GloVe embeddings\n",
        "for index in range(vocab_size):\n",
        "    word = tokenizer.decode([index]).replace(' ', '')  # Decode the subword to get the full word\n",
        "    embedding_vector = embeddings_index.get(word)\n",
        "    if embedding_vector is not None:\n",
        "        # Words found in GloVe embeddings\n",
        "        embedding_matrix[index] = embedding_vector"
      ],
      "metadata": {
        "id": "OpQTCzK97NiG"
      },
      "execution_count": 23,
      "outputs": []
    },
    {
      "cell_type": "code",
      "source": [
        "embedding_matrix.shape"
      ],
      "metadata": {
        "colab": {
          "base_uri": "https://localhost:8080/"
        },
        "id": "7L9PidfK8WNf",
        "outputId": "3557e408-9c09-4d99-a676-161ee49219d3"
      },
      "execution_count": 24,
      "outputs": [
        {
          "output_type": "execute_result",
          "data": {
            "text/plain": [
              "(64253, 100)"
            ]
          },
          "metadata": {},
          "execution_count": 24
        }
      ]
    },
    {
      "cell_type": "code",
      "source": [
        "import tensorflow as tf\n",
        "import numpy as np\n",
        "\n",
        "class SimpleFeedForwardNN(tf.keras.Model):\n",
        "    def __init__(self,\n",
        "                 vocab_size,\n",
        "                 emb_dim=128,\n",
        "                 FFN_units=256,\n",
        "                 nb_classes=2,\n",
        "                 dropout_rate=0.1,\n",
        "                 embedding_matrix=None,  # Pass the embedding matrix here.\n",
        "                 name='simple_ffnn'):\n",
        "        super(SimpleFeedForwardNN, self).__init__(name=name)\n",
        "\n",
        "        if embedding_matrix is not None:\n",
        "            self.embeddings = tf.keras.layers.Embedding(\n",
        "                input_dim=vocab_size,\n",
        "                output_dim=emb_dim,\n",
        "                weights=[embedding_matrix],  # Use the pre-trained embedding matrix.\n",
        "                trainable=False  # Freeze the embeddings.\n",
        "            )\n",
        "        else:\n",
        "            self.embeddings = tf.keras.layers.Embedding(vocab_size, emb_dim)\n",
        "\n",
        "        self.flatten = tf.keras.layers.Flatten()\n",
        "        self.dense_1 = tf.keras.layers.Dense(units=FFN_units, activation='relu')\n",
        "        self.dropout = tf.keras.layers.Dropout(rate=dropout_rate)\n",
        "\n",
        "        if nb_classes == 2:\n",
        "            self.dense_2 = tf.keras.layers.Dense(units=1, activation='sigmoid')\n",
        "        else:\n",
        "            self.dense_2 = tf.keras.layers.Dense(units=nb_classes, activation='softmax')\n",
        "\n",
        "    def call(self, inputs, training):\n",
        "        x = self.embeddings(inputs)\n",
        "        x = self.flatten(x)\n",
        "        x = self.dense_1(x)\n",
        "        x = self.dropout(x, training)\n",
        "        output = self.dense_2(x)\n",
        "\n",
        "        return output"
      ],
      "metadata": {
        "id": "eZOnKdF63a8v"
      },
      "execution_count": 25,
      "outputs": []
    },
    {
      "cell_type": "code",
      "source": [
        "SimpleFeedForwardNN = SimpleFeedForwardNN(vocab_size=VOCAB_SIZE,\n",
        "            emb_dim=EMB_DIM,\n",
        "            FFN_units=FFN_UNITS,\n",
        "            nb_classes=NB_CLASSES,\n",
        "            dropout_rate=DROPOUT_RATE)\n",
        "\n",
        "if NB_CLASSES == 2:\n",
        "    SimpleFeedForwardNN.compile(loss=\"binary_crossentropy\",\n",
        "                 optimizer=\"adam\",\n",
        "                 metrics=[\"accuracy\"])\n",
        "else:\n",
        "    SimpleFeedForwardNN.compile(loss=\"sparse_categorical_crossentropy\",\n",
        "                 optimizer=\"adam\",\n",
        "                 metrics=[\"sparse_categorical_accuracy\"])"
      ],
      "metadata": {
        "id": "Ta6HgkoZAXnB"
      },
      "execution_count": 26,
      "outputs": []
    },
    {
      "cell_type": "code",
      "source": [
        "SimpleFeedForwardNN.fit(X_train,\n",
        "         y_train,\n",
        "         batch_size=BATCH_SIZE,\n",
        "         epochs=NB_EPOCHS)"
      ],
      "metadata": {
        "colab": {
          "base_uri": "https://localhost:8080/"
        },
        "id": "7QrkMqQR8dl9",
        "outputId": "87b01e07-ec24-4753-9456-937b8f2a97bf"
      },
      "execution_count": 27,
      "outputs": [
        {
          "output_type": "stream",
          "name": "stdout",
          "text": [
            "196/196 [==============================] - 72s 360ms/step - loss: 0.6142 - accuracy: 0.6520\n"
          ]
        },
        {
          "output_type": "execute_result",
          "data": {
            "text/plain": [
              "<keras.callbacks.History at 0x7ec2aa64cd00>"
            ]
          },
          "metadata": {},
          "execution_count": 27
        }
      ]
    },
    {
      "cell_type": "markdown",
      "source": [
        "# Glove Not frezzed"
      ],
      "metadata": {
        "id": "V9eFbuPVAtya"
      }
    },
    {
      "cell_type": "code",
      "source": [
        "class SimpleFeedForwardNN(tf.keras.Model):\n",
        "    def __init__(self,\n",
        "                 vocab_size,\n",
        "                 emb_dim=128,\n",
        "                 FFN_units=256,\n",
        "                 nb_classes=2,\n",
        "                 dropout_rate=0.1,\n",
        "                 embedding_matrix=None,  # Pass the embedding matrix here.\n",
        "                 name='simple_ffnn'):\n",
        "        super(SimpleFeedForwardNN, self).__init__(name=name)\n",
        "\n",
        "        if embedding_matrix is not None:\n",
        "            self.embeddings = tf.keras.layers.Embedding(\n",
        "                input_dim=vocab_size,\n",
        "                output_dim=emb_dim,\n",
        "                weights=[embedding_matrix],  # Use the pre-trained embedding matrix.\n",
        "                trainable=True  # DONT Freeze the embeddings.\n",
        "            )\n",
        "        else:\n",
        "            self.embeddings = tf.keras.layers.Embedding(vocab_size, emb_dim)\n",
        "\n",
        "        self.flatten = tf.keras.layers.Flatten()\n",
        "        self.dense_1 = tf.keras.layers.Dense(units=FFN_units, activation='relu')\n",
        "        self.dropout = tf.keras.layers.Dropout(rate=dropout_rate)\n",
        "\n",
        "        if nb_classes == 2:\n",
        "            self.dense_2 = tf.keras.layers.Dense(units=1, activation='sigmoid')\n",
        "        else:\n",
        "            self.dense_2 = tf.keras.layers.Dense(units=nb_classes, activation='softmax')\n",
        "\n",
        "    def call(self, inputs, training):\n",
        "        x = self.embeddings(inputs)\n",
        "        x = self.flatten(x)\n",
        "        x = self.dense_1(x)\n",
        "        x = self.dropout(x, training)\n",
        "        output = self.dense_2(x)\n",
        "\n",
        "        return output"
      ],
      "metadata": {
        "id": "LyHleGUxAvxJ"
      },
      "execution_count": 28,
      "outputs": []
    },
    {
      "cell_type": "code",
      "source": [
        "SimpleFeedForwardNN = SimpleFeedForwardNN(vocab_size=VOCAB_SIZE,\n",
        "            emb_dim=EMB_DIM,\n",
        "            FFN_units=FFN_UNITS,\n",
        "            nb_classes=NB_CLASSES,\n",
        "            dropout_rate=DROPOUT_RATE)\n",
        "\n",
        "if NB_CLASSES == 2:\n",
        "    SimpleFeedForwardNN.compile(loss=\"binary_crossentropy\",\n",
        "                 optimizer=\"adam\",\n",
        "                 metrics=[\"accuracy\"])\n",
        "else:\n",
        "    SimpleFeedForwardNN.compile(loss=\"sparse_categorical_crossentropy\",\n",
        "                 optimizer=\"adam\",\n",
        "                 metrics=[\"sparse_categorical_accuracy\"])"
      ],
      "metadata": {
        "id": "Etf5SVYxAzVv"
      },
      "execution_count": 29,
      "outputs": []
    },
    {
      "cell_type": "code",
      "source": [
        "SimpleFeedForwardNN.fit(X_train,\n",
        "         y_train,\n",
        "         batch_size=BATCH_SIZE,\n",
        "         epochs=NB_EPOCHS)"
      ],
      "metadata": {
        "colab": {
          "base_uri": "https://localhost:8080/"
        },
        "id": "nXw-tD_OA0yw",
        "outputId": "d9b6af97-0e0c-46e6-95a3-3ae4077cef7c"
      },
      "execution_count": 30,
      "outputs": [
        {
          "output_type": "stream",
          "name": "stdout",
          "text": [
            "196/196 [==============================] - 73s 364ms/step - loss: 0.6330 - accuracy: 0.6294\n"
          ]
        },
        {
          "output_type": "execute_result",
          "data": {
            "text/plain": [
              "<keras.callbacks.History at 0x7ec2aa6c2fb0>"
            ]
          },
          "metadata": {},
          "execution_count": 30
        }
      ]
    }
  ]
}