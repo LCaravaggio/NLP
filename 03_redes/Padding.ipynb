{
  "nbformat": 4,
  "nbformat_minor": 0,
  "metadata": {
    "colab": {
      "provenance": [],
      "authorship_tag": "ABX9TyOMTiQSLABtpnM1kkutBUTW",
      "include_colab_link": true
    },
    "kernelspec": {
      "name": "python3",
      "display_name": "Python 3"
    },
    "language_info": {
      "name": "python"
    }
  },
  "cells": [
    {
      "cell_type": "markdown",
      "metadata": {
        "id": "view-in-github",
        "colab_type": "text"
      },
      "source": [
        "<a href=\"https://colab.research.google.com/github/LCaravaggio/NLP/blob/main/03_redes/Padding.ipynb\" target=\"_parent\"><img src=\"https://colab.research.google.com/assets/colab-badge.svg\" alt=\"Open In Colab\"/></a>"
      ]
    },
    {
      "cell_type": "code",
      "execution_count": 18,
      "metadata": {
        "id": "r6dKpqCfDuaq"
      },
      "outputs": [],
      "source": [
        "import tensorflow as tf\n",
        "from tensorflow import keras\n",
        "from tensorflow.keras.preprocessing.text import Tokenizer\n",
        "from tensorflow.keras.preprocessing.sequence import pad_sequences"
      ]
    },
    {
      "cell_type": "code",
      "source": [
        "oraciones=['A la grande le puse Cuca',\n",
        "'Soy intelectual, muy inteligente. Soy intelectual, muy inteligente, hay que bonito soy',\n",
        "'Vas a morir, Moe... wiii. Vas a morir, Moe... Wiii',\n",
        "'¿Usted no aprende, verdad?',\n",
        "'Tiene todo el dinero del mundo, pero hay algo que no puede comprar... un dinosaurio',\n",
        "'¡No vives de ensalada, no vives de ensalada!',\n",
        "'¡Que elegancia la de Francia!',\n",
        "'¡No se rían de mí, pueden tener un hijo igual!'\n",
        "]"
      ],
      "metadata": {
        "id": "iQvG1hQuEBXq"
      },
      "execution_count": 19,
      "outputs": []
    },
    {
      "cell_type": "code",
      "source": [
        "tokenizer=Tokenizer(num_words=100, oov_token=\"<OOV>\")\n",
        "tokenizer.fit_on_texts(oraciones)\n",
        "word_index=tokenizer.word_index"
      ],
      "metadata": {
        "id": "xvOP5xarEp26"
      },
      "execution_count": 20,
      "outputs": []
    },
    {
      "cell_type": "code",
      "source": [
        "word_index"
      ],
      "metadata": {
        "colab": {
          "base_uri": "https://localhost:8080/"
        },
        "id": "KlDIkxv0FDbL",
        "outputId": "f202219e-b128-45b4-d571-70439c305a83"
      },
      "execution_count": 21,
      "outputs": [
        {
          "output_type": "execute_result",
          "data": {
            "text/plain": [
              "{'<OOV>': 1,\n",
              " 'de': 2,\n",
              " 'a': 3,\n",
              " 'soy': 4,\n",
              " 'no': 5,\n",
              " 'la': 6,\n",
              " 'intelectual': 7,\n",
              " 'muy': 8,\n",
              " 'inteligente': 9,\n",
              " 'hay': 10,\n",
              " 'que': 11,\n",
              " 'vas': 12,\n",
              " 'morir': 13,\n",
              " 'moe': 14,\n",
              " 'wiii': 15,\n",
              " 'un': 16,\n",
              " '¡no': 17,\n",
              " 'vives': 18,\n",
              " 'ensalada': 19,\n",
              " 'grande': 20,\n",
              " 'le': 21,\n",
              " 'puse': 22,\n",
              " 'cuca': 23,\n",
              " 'bonito': 24,\n",
              " '¿usted': 25,\n",
              " 'aprende': 26,\n",
              " 'verdad': 27,\n",
              " 'tiene': 28,\n",
              " 'todo': 29,\n",
              " 'el': 30,\n",
              " 'dinero': 31,\n",
              " 'del': 32,\n",
              " 'mundo': 33,\n",
              " 'pero': 34,\n",
              " 'algo': 35,\n",
              " 'puede': 36,\n",
              " 'comprar': 37,\n",
              " 'dinosaurio': 38,\n",
              " '¡que': 39,\n",
              " 'elegancia': 40,\n",
              " 'francia': 41,\n",
              " 'se': 42,\n",
              " 'rían': 43,\n",
              " 'mí': 44,\n",
              " 'pueden': 45,\n",
              " 'tener': 46,\n",
              " 'hijo': 47,\n",
              " 'igual': 48}"
            ]
          },
          "metadata": {},
          "execution_count": 21
        }
      ]
    },
    {
      "cell_type": "code",
      "source": [
        "sequences=tokenizer.texts_to_sequences(oraciones)"
      ],
      "metadata": {
        "id": "_XyX0dErFKTV"
      },
      "execution_count": 22,
      "outputs": []
    },
    {
      "cell_type": "code",
      "source": [
        "sequences"
      ],
      "metadata": {
        "colab": {
          "base_uri": "https://localhost:8080/"
        },
        "id": "WjmXmAuwFaor",
        "outputId": "8c511731-5b6b-4ced-e407-e3d619cb7201"
      },
      "execution_count": 23,
      "outputs": [
        {
          "output_type": "execute_result",
          "data": {
            "text/plain": [
              "[[3, 6, 20, 21, 22, 23],\n",
              " [4, 7, 8, 9, 4, 7, 8, 9, 10, 11, 24, 4],\n",
              " [12, 3, 13, 14, 15, 12, 3, 13, 14, 15],\n",
              " [25, 5, 26, 27],\n",
              " [28, 29, 30, 31, 32, 33, 34, 10, 35, 11, 5, 36, 37, 16, 38],\n",
              " [17, 18, 2, 19, 5, 18, 2, 19],\n",
              " [39, 40, 6, 2, 41],\n",
              " [17, 42, 43, 2, 44, 45, 46, 16, 47, 48]]"
            ]
          },
          "metadata": {},
          "execution_count": 23
        }
      ]
    },
    {
      "cell_type": "code",
      "source": [
        "padded=pad_sequences(sequences)"
      ],
      "metadata": {
        "id": "oDsLTOPTFjzN"
      },
      "execution_count": 24,
      "outputs": []
    },
    {
      "cell_type": "code",
      "source": [
        "padded"
      ],
      "metadata": {
        "colab": {
          "base_uri": "https://localhost:8080/"
        },
        "id": "9S0rm8OyFrHM",
        "outputId": "3e232bda-8aa0-477b-a173-1598ef58ad52"
      },
      "execution_count": 25,
      "outputs": [
        {
          "output_type": "execute_result",
          "data": {
            "text/plain": [
              "array([[ 0,  0,  0,  0,  0,  0,  0,  0,  0,  3,  6, 20, 21, 22, 23],\n",
              "       [ 0,  0,  0,  4,  7,  8,  9,  4,  7,  8,  9, 10, 11, 24,  4],\n",
              "       [ 0,  0,  0,  0,  0, 12,  3, 13, 14, 15, 12,  3, 13, 14, 15],\n",
              "       [ 0,  0,  0,  0,  0,  0,  0,  0,  0,  0,  0, 25,  5, 26, 27],\n",
              "       [28, 29, 30, 31, 32, 33, 34, 10, 35, 11,  5, 36, 37, 16, 38],\n",
              "       [ 0,  0,  0,  0,  0,  0,  0, 17, 18,  2, 19,  5, 18,  2, 19],\n",
              "       [ 0,  0,  0,  0,  0,  0,  0,  0,  0,  0, 39, 40,  6,  2, 41],\n",
              "       [ 0,  0,  0,  0,  0, 17, 42, 43,  2, 44, 45, 46, 16, 47, 48]],\n",
              "      dtype=int32)"
            ]
          },
          "metadata": {},
          "execution_count": 25
        }
      ]
    }
  ]
}