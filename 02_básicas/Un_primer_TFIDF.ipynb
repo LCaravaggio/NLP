{
  "nbformat": 4,
  "nbformat_minor": 0,
  "metadata": {
    "colab": {
      "provenance": [],
      "authorship_tag": "ABX9TyOT02CCetxMzJPoGpV1t915",
      "include_colab_link": true
    },
    "kernelspec": {
      "name": "python3",
      "display_name": "Python 3"
    },
    "language_info": {
      "name": "python"
    }
  },
  "cells": [
    {
      "cell_type": "markdown",
      "metadata": {
        "id": "view-in-github",
        "colab_type": "text"
      },
      "source": [
        "<a href=\"https://colab.research.google.com/github/LCaravaggio/NLP/blob/main/02_b%C3%A1sicas/Un_primer_TFIDF.ipynb\" target=\"_parent\"><img src=\"https://colab.research.google.com/assets/colab-badge.svg\" alt=\"Open In Colab\"/></a>"
      ]
    },
    {
      "cell_type": "markdown",
      "source": [
        "# Carga de datos\n"
      ],
      "metadata": {
        "id": "xL8Czcb_6hUm"
      }
    },
    {
      "cell_type": "code",
      "execution_count": 1,
      "metadata": {
        "colab": {
          "base_uri": "https://localhost:8080/"
        },
        "id": "kp3ZeFLDroc4",
        "outputId": "be997129-44bf-4826-f7be-618676167d81"
      },
      "outputs": [
        {
          "output_type": "stream",
          "name": "stdout",
          "text": [
            "mkdir: cannot create directory ‘/root/.kaggle’: File exists\n",
            "Mounted at /content/drive\n",
            "reviews-of-best-wines.zip: Skipping, found more recently modified local copy (use --force to force download)\n"
          ]
        }
      ],
      "source": [
        "import pandas as pd\n",
        "import numpy as np\n",
        "     \n",
        "\n",
        "import json\n",
        "from google.colab import drive\n",
        "\n",
        "!mkdir ~/.kaggle\n",
        "!touch ~/.kaggle/kaggle.json\n",
        "\n",
        "drive.mount('/content/drive', force_remount=True)\n",
        "with open(\"/content/drive/My Drive/kaggle.json\", 'r') as f:\n",
        "    api_token= json.load(f)\n",
        "\n",
        "with open('/root/.kaggle/kaggle.json', 'w') as file:\n",
        "    json.dump(api_token, file)\n",
        "\n",
        "!chmod 600 ~/.kaggle/kaggle.json\n",
        "\n",
        "!kaggle datasets download -d michau96/reviews-of-best-wines"
      ]
    },
    {
      "cell_type": "code",
      "source": [
        "# Extraigo todos los archivos que están en el .zip que acabamos de \"bajar\". \n",
        "\n",
        "import zipfile\n",
        "import os\n",
        "\n",
        "os.listdir()\n",
        "\n",
        "for file in os.listdir():\n",
        "    if file.endswith('.zip'):\n",
        "      zip_ref = zipfile.ZipFile(file, 'r')\n",
        "      zip_ref.extractall()\n",
        "      zip_ref.close()"
      ],
      "metadata": {
        "id": "3CxxYbtrr9EI"
      },
      "execution_count": 2,
      "outputs": []
    },
    {
      "cell_type": "code",
      "source": [
        "# Vamos a trabajar con el Clean Data Set\n",
        "df = pd.read_csv('/content/Wine_Reviews_2023_01_16.csv')"
      ],
      "metadata": {
        "id": "VYINvinJr_MU"
      },
      "execution_count": 3,
      "outputs": []
    },
    {
      "cell_type": "code",
      "source": [
        "df"
      ],
      "metadata": {
        "colab": {
          "base_uri": "https://localhost:8080/",
          "height": 424
        },
        "id": "GhlI4LmesESG",
        "outputId": "9537e8d9-1b19-43fb-d67e-d5d6a7124aea"
      },
      "execution_count": 4,
      "outputs": [
        {
          "output_type": "execute_result",
          "data": {
            "text/plain": [
              "                                           Review_name  \\\n",
              "0    2019 Raymond Reserve Selection Cabernet Sauvignon   \n",
              "1      2018 Bodegas y Vinedos Pujanza Valdepoleo Rioja   \n",
              "2    2019 Gary Farrell Russian River Selection Pino...   \n",
              "3    2018 Antiche Terre Venete Amarone della Valpol...   \n",
              "4             2016 Canonica a Cerreto Chianti Classico   \n",
              "..                                                 ...   \n",
              "307                         2012 Freemark Abbey Merlot   \n",
              "308  A To Z Oregon Pinot Noir (A Vertical Tasting, ...   \n",
              "309                    2012 Neyers Carneros Chardonnay   \n",
              "310                  2013 Burgans Albarino Rias Baixas   \n",
              "311       2013 Chateau d’Esclans Whispering Angel Rose   \n",
              "\n",
              "                                        Review_content     Date_of_review  \\\n",
              "0    We’ve seen this bottle before in Costco store....  December 24, 2022   \n",
              "1    We love finding and trying new Riojas from Cos...  December 21, 2022   \n",
              "2    We picked this one up to have on hand for Than...  December 14, 2022   \n",
              "3    We thought it might be time to revisit this po...  November 26, 2022   \n",
              "4    This Chianti Classico had a few things going f...  November 19, 2022   \n",
              "..                                                 ...                ...   \n",
              "307  I’ve been slacking a bit on reviewing some Mer...     August 4, 2015   \n",
              "308  Reviewed by Josh . Recently I had the rare – a...      July 30, 2015   \n",
              "309  , I’m a big fan of this Chardonnay. It just hi...      July 21, 2015   \n",
              "310  Albarinos are perfect for breaking up the summ...      July 17, 2015   \n",
              "311  I’ve been meaning to get around to trying this...  September 6, 2014   \n",
              "\n",
              "           Type_of_wine  \n",
              "0    Cabernet Sauvignon  \n",
              "1             Other Red  \n",
              "2            Pinot Noir  \n",
              "3               Italian  \n",
              "4               Italian  \n",
              "..                  ...  \n",
              "307           Other Red  \n",
              "308           Other Red  \n",
              "309          Chardonnay  \n",
              "310         Other White  \n",
              "311              French  \n",
              "\n",
              "[312 rows x 4 columns]"
            ],
            "text/html": [
              "\n",
              "  <div id=\"df-9c86a73c-a049-4e1b-9506-10551efa1e3f\">\n",
              "    <div class=\"colab-df-container\">\n",
              "      <div>\n",
              "<style scoped>\n",
              "    .dataframe tbody tr th:only-of-type {\n",
              "        vertical-align: middle;\n",
              "    }\n",
              "\n",
              "    .dataframe tbody tr th {\n",
              "        vertical-align: top;\n",
              "    }\n",
              "\n",
              "    .dataframe thead th {\n",
              "        text-align: right;\n",
              "    }\n",
              "</style>\n",
              "<table border=\"1\" class=\"dataframe\">\n",
              "  <thead>\n",
              "    <tr style=\"text-align: right;\">\n",
              "      <th></th>\n",
              "      <th>Review_name</th>\n",
              "      <th>Review_content</th>\n",
              "      <th>Date_of_review</th>\n",
              "      <th>Type_of_wine</th>\n",
              "    </tr>\n",
              "  </thead>\n",
              "  <tbody>\n",
              "    <tr>\n",
              "      <th>0</th>\n",
              "      <td>2019 Raymond Reserve Selection Cabernet Sauvignon</td>\n",
              "      <td>We’ve seen this bottle before in Costco store....</td>\n",
              "      <td>December 24, 2022</td>\n",
              "      <td>Cabernet Sauvignon</td>\n",
              "    </tr>\n",
              "    <tr>\n",
              "      <th>1</th>\n",
              "      <td>2018 Bodegas y Vinedos Pujanza Valdepoleo Rioja</td>\n",
              "      <td>We love finding and trying new Riojas from Cos...</td>\n",
              "      <td>December 21, 2022</td>\n",
              "      <td>Other Red</td>\n",
              "    </tr>\n",
              "    <tr>\n",
              "      <th>2</th>\n",
              "      <td>2019 Gary Farrell Russian River Selection Pino...</td>\n",
              "      <td>We picked this one up to have on hand for Than...</td>\n",
              "      <td>December 14, 2022</td>\n",
              "      <td>Pinot Noir</td>\n",
              "    </tr>\n",
              "    <tr>\n",
              "      <th>3</th>\n",
              "      <td>2018 Antiche Terre Venete Amarone della Valpol...</td>\n",
              "      <td>We thought it might be time to revisit this po...</td>\n",
              "      <td>November 26, 2022</td>\n",
              "      <td>Italian</td>\n",
              "    </tr>\n",
              "    <tr>\n",
              "      <th>4</th>\n",
              "      <td>2016 Canonica a Cerreto Chianti Classico</td>\n",
              "      <td>This Chianti Classico had a few things going f...</td>\n",
              "      <td>November 19, 2022</td>\n",
              "      <td>Italian</td>\n",
              "    </tr>\n",
              "    <tr>\n",
              "      <th>...</th>\n",
              "      <td>...</td>\n",
              "      <td>...</td>\n",
              "      <td>...</td>\n",
              "      <td>...</td>\n",
              "    </tr>\n",
              "    <tr>\n",
              "      <th>307</th>\n",
              "      <td>2012 Freemark Abbey Merlot</td>\n",
              "      <td>I’ve been slacking a bit on reviewing some Mer...</td>\n",
              "      <td>August 4, 2015</td>\n",
              "      <td>Other Red</td>\n",
              "    </tr>\n",
              "    <tr>\n",
              "      <th>308</th>\n",
              "      <td>A To Z Oregon Pinot Noir (A Vertical Tasting, ...</td>\n",
              "      <td>Reviewed by Josh . Recently I had the rare – a...</td>\n",
              "      <td>July 30, 2015</td>\n",
              "      <td>Other Red</td>\n",
              "    </tr>\n",
              "    <tr>\n",
              "      <th>309</th>\n",
              "      <td>2012 Neyers Carneros Chardonnay</td>\n",
              "      <td>, I’m a big fan of this Chardonnay. It just hi...</td>\n",
              "      <td>July 21, 2015</td>\n",
              "      <td>Chardonnay</td>\n",
              "    </tr>\n",
              "    <tr>\n",
              "      <th>310</th>\n",
              "      <td>2013 Burgans Albarino Rias Baixas</td>\n",
              "      <td>Albarinos are perfect for breaking up the summ...</td>\n",
              "      <td>July 17, 2015</td>\n",
              "      <td>Other White</td>\n",
              "    </tr>\n",
              "    <tr>\n",
              "      <th>311</th>\n",
              "      <td>2013 Chateau d’Esclans Whispering Angel Rose</td>\n",
              "      <td>I’ve been meaning to get around to trying this...</td>\n",
              "      <td>September 6, 2014</td>\n",
              "      <td>French</td>\n",
              "    </tr>\n",
              "  </tbody>\n",
              "</table>\n",
              "<p>312 rows × 4 columns</p>\n",
              "</div>\n",
              "      <button class=\"colab-df-convert\" onclick=\"convertToInteractive('df-9c86a73c-a049-4e1b-9506-10551efa1e3f')\"\n",
              "              title=\"Convert this dataframe to an interactive table.\"\n",
              "              style=\"display:none;\">\n",
              "        \n",
              "  <svg xmlns=\"http://www.w3.org/2000/svg\" height=\"24px\"viewBox=\"0 0 24 24\"\n",
              "       width=\"24px\">\n",
              "    <path d=\"M0 0h24v24H0V0z\" fill=\"none\"/>\n",
              "    <path d=\"M18.56 5.44l.94 2.06.94-2.06 2.06-.94-2.06-.94-.94-2.06-.94 2.06-2.06.94zm-11 1L8.5 8.5l.94-2.06 2.06-.94-2.06-.94L8.5 2.5l-.94 2.06-2.06.94zm10 10l.94 2.06.94-2.06 2.06-.94-2.06-.94-.94-2.06-.94 2.06-2.06.94z\"/><path d=\"M17.41 7.96l-1.37-1.37c-.4-.4-.92-.59-1.43-.59-.52 0-1.04.2-1.43.59L10.3 9.45l-7.72 7.72c-.78.78-.78 2.05 0 2.83L4 21.41c.39.39.9.59 1.41.59.51 0 1.02-.2 1.41-.59l7.78-7.78 2.81-2.81c.8-.78.8-2.07 0-2.86zM5.41 20L4 18.59l7.72-7.72 1.47 1.35L5.41 20z\"/>\n",
              "  </svg>\n",
              "      </button>\n",
              "      \n",
              "  <style>\n",
              "    .colab-df-container {\n",
              "      display:flex;\n",
              "      flex-wrap:wrap;\n",
              "      gap: 12px;\n",
              "    }\n",
              "\n",
              "    .colab-df-convert {\n",
              "      background-color: #E8F0FE;\n",
              "      border: none;\n",
              "      border-radius: 50%;\n",
              "      cursor: pointer;\n",
              "      display: none;\n",
              "      fill: #1967D2;\n",
              "      height: 32px;\n",
              "      padding: 0 0 0 0;\n",
              "      width: 32px;\n",
              "    }\n",
              "\n",
              "    .colab-df-convert:hover {\n",
              "      background-color: #E2EBFA;\n",
              "      box-shadow: 0px 1px 2px rgba(60, 64, 67, 0.3), 0px 1px 3px 1px rgba(60, 64, 67, 0.15);\n",
              "      fill: #174EA6;\n",
              "    }\n",
              "\n",
              "    [theme=dark] .colab-df-convert {\n",
              "      background-color: #3B4455;\n",
              "      fill: #D2E3FC;\n",
              "    }\n",
              "\n",
              "    [theme=dark] .colab-df-convert:hover {\n",
              "      background-color: #434B5C;\n",
              "      box-shadow: 0px 1px 3px 1px rgba(0, 0, 0, 0.15);\n",
              "      filter: drop-shadow(0px 1px 2px rgba(0, 0, 0, 0.3));\n",
              "      fill: #FFFFFF;\n",
              "    }\n",
              "  </style>\n",
              "\n",
              "      <script>\n",
              "        const buttonEl =\n",
              "          document.querySelector('#df-9c86a73c-a049-4e1b-9506-10551efa1e3f button.colab-df-convert');\n",
              "        buttonEl.style.display =\n",
              "          google.colab.kernel.accessAllowed ? 'block' : 'none';\n",
              "\n",
              "        async function convertToInteractive(key) {\n",
              "          const element = document.querySelector('#df-9c86a73c-a049-4e1b-9506-10551efa1e3f');\n",
              "          const dataTable =\n",
              "            await google.colab.kernel.invokeFunction('convertToInteractive',\n",
              "                                                     [key], {});\n",
              "          if (!dataTable) return;\n",
              "\n",
              "          const docLinkHtml = 'Like what you see? Visit the ' +\n",
              "            '<a target=\"_blank\" href=https://colab.research.google.com/notebooks/data_table.ipynb>data table notebook</a>'\n",
              "            + ' to learn more about interactive tables.';\n",
              "          element.innerHTML = '';\n",
              "          dataTable['output_type'] = 'display_data';\n",
              "          await google.colab.output.renderOutput(dataTable, element);\n",
              "          const docLink = document.createElement('div');\n",
              "          docLink.innerHTML = docLinkHtml;\n",
              "          element.appendChild(docLink);\n",
              "        }\n",
              "      </script>\n",
              "    </div>\n",
              "  </div>\n",
              "  "
            ]
          },
          "metadata": {},
          "execution_count": 4
        }
      ]
    },
    {
      "cell_type": "markdown",
      "source": [
        "# CV"
      ],
      "metadata": {
        "id": "bSFOqGUmuIL4"
      }
    },
    {
      "cell_type": "code",
      "source": [
        "from sklearn.feature_extraction.text import CountVectorizer\n",
        "vect = CountVectorizer(ngram_range=[1,1])\n",
        "bow = vect.fit_transform(df['Review_content'])\n",
        "total_features = len(vect.vocabulary_)"
      ],
      "metadata": {
        "id": "mYpOK7rYuJS3"
      },
      "execution_count": 5,
      "outputs": []
    },
    {
      "cell_type": "code",
      "source": [
        "#Tamaño del vocabulario\n",
        "print(f'El vocabulario es: {vect.get_feature_names_out()}')\n",
        "print(f'El tamaño del vocabulario es: {len(vect.get_feature_names_out())}')"
      ],
      "metadata": {
        "colab": {
          "base_uri": "https://localhost:8080/"
        },
        "id": "Bx_zU4R8zsIj",
        "outputId": "ab900cb9-258e-4304-ea37-8105298dd1ac"
      },
      "execution_count": 6,
      "outputs": [
        {
          "output_type": "stream",
          "name": "stdout",
          "text": [
            "El vocabulario es: ['00' '000' '01' ... 'zolo' 'zorzettig' 'zuccardi']\n",
            "El tamaño del vocabulario es: 6180\n"
          ]
        }
      ]
    },
    {
      "cell_type": "code",
      "source": [
        "# Por ejemplo la palabra \"sign\" es la palabra 37946\n",
        "vect.get_feature_names_out()[5001]"
      ],
      "metadata": {
        "colab": {
          "base_uri": "https://localhost:8080/",
          "height": 35
        },
        "id": "-bVRBZmDzzmT",
        "outputId": "60b5f1fb-e40c-4451-a624-665213a57556"
      },
      "execution_count": 7,
      "outputs": [
        {
          "output_type": "execute_result",
          "data": {
            "text/plain": [
              "'sign'"
            ],
            "application/vnd.google.colaboratory.intrinsic+json": {
              "type": "string"
            }
          },
          "metadata": {},
          "execution_count": 7
        }
      ]
    },
    {
      "cell_type": "code",
      "source": [
        "print(bow)"
      ],
      "metadata": {
        "colab": {
          "base_uri": "https://localhost:8080/"
        },
        "id": "WFCH9dBe0DNt",
        "outputId": "85e79dab-9837-4c9e-b3ce-128a5ea33e4c"
      },
      "execution_count": 8,
      "outputs": [
        {
          "output_type": "stream",
          "name": "stdout",
          "text": [
            "  (0, 5977)\t7\n",
            "  (0, 5861)\t1\n",
            "  (0, 4895)\t1\n",
            "  (0, 5573)\t8\n",
            "  (0, 1037)\t3\n",
            "  (0, 898)\t1\n",
            "  (0, 2970)\t10\n",
            "  (0, 1624)\t8\n",
            "  (0, 5306)\t1\n",
            "  (0, 1154)\t1\n",
            "  (0, 3082)\t6\n",
            "  (0, 908)\t1\n",
            "  (0, 5546)\t11\n",
            "  (0, 2879)\t1\n",
            "  (0, 597)\t9\n",
            "  (0, 519)\t1\n",
            "  (0, 3141)\t5\n",
            "  (0, 1640)\t1\n",
            "  (0, 4616)\t1\n",
            "  (0, 5542)\t4\n",
            "  (0, 5870)\t1\n",
            "  (0, 4531)\t1\n",
            "  (0, 3197)\t1\n",
            "  (0, 687)\t1\n",
            "  (0, 5588)\t1\n",
            "  :\t:\n",
            "  (311, 2018)\t1\n",
            "  (311, 2509)\t1\n",
            "  (311, 1909)\t1\n",
            "  (311, 2605)\t1\n",
            "  (311, 5011)\t1\n",
            "  (311, 2333)\t1\n",
            "  (311, 3680)\t1\n",
            "  (311, 3547)\t1\n",
            "  (311, 4167)\t1\n",
            "  (311, 4544)\t1\n",
            "  (311, 4784)\t1\n",
            "  (311, 2701)\t2\n",
            "  (311, 926)\t1\n",
            "  (311, 3882)\t1\n",
            "  (311, 3754)\t1\n",
            "  (311, 1725)\t1\n",
            "  (311, 5639)\t1\n",
            "  (311, 783)\t1\n",
            "  (311, 604)\t1\n",
            "  (311, 508)\t1\n",
            "  (311, 5911)\t1\n",
            "  (311, 615)\t1\n",
            "  (311, 3054)\t1\n",
            "  (311, 4783)\t1\n",
            "  (311, 241)\t1\n"
          ]
        }
      ]
    },
    {
      "cell_type": "markdown",
      "source": [
        "# TF-IDF"
      ],
      "metadata": {
        "id": "l_MLQg7GtHvi"
      }
    },
    {
      "cell_type": "code",
      "source": [
        "from sklearn.feature_extraction.text import TfidfVectorizer\n",
        "vect = TfidfVectorizer(ngram_range=[1,1])\n",
        "bow = vect.fit_transform(df['Review_content'])\n",
        "total_features = len(vect.vocabulary_)"
      ],
      "metadata": {
        "id": "CuCJrQyttG6k"
      },
      "execution_count": 9,
      "outputs": []
    },
    {
      "cell_type": "code",
      "source": [
        "print(bow[0])"
      ],
      "metadata": {
        "colab": {
          "base_uri": "https://localhost:8080/"
        },
        "id": "_vQEv9cMtTFz",
        "outputId": "fb05b28a-fb7a-4d6d-afae-b14d14b44260"
      },
      "execution_count": 10,
      "outputs": [
        {
          "output_type": "stream",
          "name": "stdout",
          "text": [
            "  (0, 4659)\t0.04658618302983794\n",
            "  (0, 3663)\t0.024771382064227923\n",
            "  (0, 4489)\t0.04951895313234052\n",
            "  (0, 5798)\t0.026061250048806637\n",
            "  (0, 5007)\t0.05461240045939579\n",
            "  (0, 5536)\t0.05189034799917172\n",
            "  (0, 2203)\t0.048289324711779595\n",
            "  (0, 4950)\t0.05461240045939579\n",
            "  (0, 3921)\t0.031158746479428016\n",
            "  (0, 5166)\t0.05339629429321007\n",
            "  (0, 3784)\t0.03738598699127886\n",
            "  (0, 2388)\t0.05300812010286003\n",
            "  (0, 3889)\t0.019281290211637447\n",
            "  (0, 3185)\t0.036268214887590536\n",
            "  (0, 2406)\t0.038228032543350526\n",
            "  (0, 868)\t0.02302919834966898\n",
            "  (0, 96)\t0.030467255699723222\n",
            "  (0, 529)\t0.02460602137720754\n",
            "  (0, 3157)\t0.04405652459028707\n",
            "  (0, 2554)\t0.03151446670307707\n",
            "  (0, 746)\t0.02318094894305138\n",
            "  (0, 4412)\t0.021094161981652235\n",
            "  (0, 365)\t0.1041279825591453\n",
            "  (0, 3831)\t0.02069040293440502\n",
            "  (0, 3087)\t0.02003651905294616\n",
            "  :\t:\n",
            "  (0, 5588)\t0.08017233168753843\n",
            "  (0, 687)\t0.02754446895258458\n",
            "  (0, 3197)\t0.04983961500626881\n",
            "  (0, 4531)\t0.03187718514864881\n",
            "  (0, 5870)\t0.1041279825591453\n",
            "  (0, 5542)\t0.07762013164444741\n",
            "  (0, 4616)\t0.1041279825591453\n",
            "  (0, 1640)\t0.044294432317148386\n",
            "  (0, 3141)\t0.14066476363050745\n",
            "  (0, 519)\t0.08604385197574022\n",
            "  (0, 597)\t0.16593833712736944\n",
            "  (0, 2879)\t0.08387221630033644\n",
            "  (0, 5546)\t0.20281352315567377\n",
            "  (0, 908)\t0.05731541565100635\n",
            "  (0, 3082)\t0.11204841445964427\n",
            "  (0, 1154)\t0.022803888910290764\n",
            "  (0, 5306)\t0.0583122850721938\n",
            "  (0, 1624)\t0.14844626494142568\n",
            "  (0, 2970)\t0.18496593362144445\n",
            "  (0, 898)\t0.04920377292725419\n",
            "  (0, 1037)\t0.07791718202064597\n",
            "  (0, 5573)\t0.14750074411321729\n",
            "  (0, 4895)\t0.05016595260535017\n",
            "  (0, 5861)\t0.02991018634654131\n",
            "  (0, 5977)\t0.16995778644688325\n"
          ]
        }
      ]
    },
    {
      "cell_type": "code",
      "source": [
        "total_features"
      ],
      "metadata": {
        "colab": {
          "base_uri": "https://localhost:8080/"
        },
        "id": "f8Msmi7MtRML",
        "outputId": "857cbab4-1bfa-4c12-c3fe-6efcba4cce36"
      },
      "execution_count": 11,
      "outputs": [
        {
          "output_type": "execute_result",
          "data": {
            "text/plain": [
              "6180"
            ]
          },
          "metadata": {},
          "execution_count": 11
        }
      ]
    },
    {
      "cell_type": "markdown",
      "source": [
        "# Cálculo del Document Frecuency de cada palabra"
      ],
      "metadata": {
        "id": "qiXRPFDS0uQk"
      }
    },
    {
      "cell_type": "markdown",
      "source": [
        "<img src=\"https://github.com/deeplearning-itba/NLP-Tecnicas-Tradicionales/blob/master/tf.png?raw=1\" >\n",
        "<img src=\"https://github.com/deeplearning-itba/NLP-Tecnicas-Tradicionales/blob/master/idf.png?raw=1\" >\n",
        "<img src=\"https://github.com/deeplearning-itba/NLP-Tecnicas-Tradicionales/blob/master/tfidf.png?raw=1\" >"
      ],
      "metadata": {
        "id": "Cs7DPuy1119l"
      }
    },
    {
      "cell_type": "code",
      "source": [
        "cv = CountVectorizer(ngram_range=[1,1])\n",
        "bow = cv.fit_transform(df['Review_content'])\n",
        "doc_freq = np.array(bow.astype(bool).sum(axis=0)).flatten()"
      ],
      "metadata": {
        "id": "EorFNHJG0wrb"
      },
      "execution_count": 13,
      "outputs": []
    },
    {
      "cell_type": "code",
      "source": [
        "print(bow)"
      ],
      "metadata": {
        "colab": {
          "base_uri": "https://localhost:8080/"
        },
        "id": "M8PqMBcH4JIp",
        "outputId": "86243bff-36d3-4771-d0a4-4096d3acbc40"
      },
      "execution_count": 14,
      "outputs": [
        {
          "output_type": "stream",
          "name": "stdout",
          "text": [
            "  (0, 31)\t1\n",
            "  (0, 96)\t1\n",
            "  (0, 188)\t1\n",
            "  (0, 230)\t1\n",
            "  (0, 269)\t1\n",
            "  (0, 365)\t1\n",
            "  (0, 367)\t1\n",
            "  (0, 373)\t1\n",
            "  (0, 378)\t1\n",
            "  (0, 379)\t1\n",
            "  (0, 398)\t2\n",
            "  (0, 519)\t1\n",
            "  (0, 529)\t1\n",
            "  (0, 555)\t1\n",
            "  (0, 582)\t1\n",
            "  (0, 594)\t1\n",
            "  (0, 597)\t9\n",
            "  (0, 687)\t1\n",
            "  (0, 721)\t1\n",
            "  (0, 745)\t4\n",
            "  (0, 746)\t1\n",
            "  (0, 801)\t1\n",
            "  (0, 868)\t1\n",
            "  (0, 898)\t1\n",
            "  (0, 908)\t1\n",
            "  :\t:\n",
            "  (311, 5393)\t2\n",
            "  (311, 5404)\t1\n",
            "  (311, 5405)\t1\n",
            "  (311, 5435)\t1\n",
            "  (311, 5450)\t1\n",
            "  (311, 5542)\t2\n",
            "  (311, 5546)\t4\n",
            "  (311, 5570)\t1\n",
            "  (311, 5573)\t6\n",
            "  (311, 5625)\t8\n",
            "  (311, 5639)\t1\n",
            "  (311, 5649)\t1\n",
            "  (311, 5653)\t1\n",
            "  (311, 5725)\t1\n",
            "  (311, 5852)\t1\n",
            "  (311, 5861)\t2\n",
            "  (311, 5911)\t1\n",
            "  (311, 5967)\t4\n",
            "  (311, 5977)\t1\n",
            "  (311, 6017)\t1\n",
            "  (311, 6037)\t1\n",
            "  (311, 6045)\t1\n",
            "  (311, 6053)\t4\n",
            "  (311, 6081)\t4\n",
            "  (311, 6157)\t1\n"
          ]
        }
      ]
    },
    {
      "cell_type": "code",
      "source": [
        "# Así, en doc_freq tengo la cantidad de apariciones de cada una de las palabras\n",
        "doc_freq"
      ],
      "metadata": {
        "colab": {
          "base_uri": "https://localhost:8080/"
        },
        "id": "WQgW8rt41CY8",
        "outputId": "8daa2966-769e-4df0-be70-4e8d664baa67"
      },
      "execution_count": 15,
      "outputs": [
        {
          "output_type": "execute_result",
          "data": {
            "text/plain": [
              "array([2, 1, 1, ..., 1, 2, 2])"
            ]
          },
          "metadata": {},
          "execution_count": 15
        }
      ]
    },
    {
      "cell_type": "code",
      "source": [
        "len(cv.get_feature_names_out())"
      ],
      "metadata": {
        "colab": {
          "base_uri": "https://localhost:8080/"
        },
        "id": "1P4LogE81NiN",
        "outputId": "3075cc73-5289-4218-d493-40eb46613c9f"
      },
      "execution_count": 16,
      "outputs": [
        {
          "output_type": "execute_result",
          "data": {
            "text/plain": [
              "6180"
            ]
          },
          "metadata": {},
          "execution_count": 16
        }
      ]
    },
    {
      "cell_type": "code",
      "source": [
        "# El vacabulario es de 6180 palabras, pero en total hay 60727 palabras (porque algunas palabras se repiten)\n",
        "doc_freq.sum()"
      ],
      "metadata": {
        "colab": {
          "base_uri": "https://localhost:8080/"
        },
        "id": "9I00rlbi1Dpf",
        "outputId": "9110fe2b-cbbd-4ad0-bc9f-588612bea9d1"
      },
      "execution_count": 17,
      "outputs": [
        {
          "output_type": "execute_result",
          "data": {
            "text/plain": [
              "60727"
            ]
          },
          "metadata": {},
          "execution_count": 17
        }
      ]
    },
    {
      "cell_type": "code",
      "source": [
        "cv.get_feature_names_out()[1037]"
      ],
      "metadata": {
        "colab": {
          "base_uri": "https://localhost:8080/",
          "height": 35
        },
        "id": "Vria-3pN3QAX",
        "outputId": "f2123963-6115-496c-cc70-5ed68f3f2b33"
      },
      "execution_count": 18,
      "outputs": [
        {
          "output_type": "execute_result",
          "data": {
            "text/plain": [
              "'bottle'"
            ],
            "application/vnd.google.colaboratory.intrinsic+json": {
              "type": "string"
            }
          },
          "metadata": {},
          "execution_count": 18
        }
      ]
    },
    {
      "cell_type": "code",
      "source": [
        "# La palabra \"bottle\" aparece 207 veces en total\n",
        "sign=doc_freq[1037]\n",
        "print(sign)"
      ],
      "metadata": {
        "colab": {
          "base_uri": "https://localhost:8080/"
        },
        "id": "ygyUet5Z1WOA",
        "outputId": "2607c3d1-bebc-4396-deb2-84cfefd5dd99"
      },
      "execution_count": 19,
      "outputs": [
        {
          "output_type": "stream",
          "name": "stdout",
          "text": [
            "207\n"
          ]
        }
      ]
    },
    {
      "cell_type": "code",
      "source": [
        "# Hay en total 312 documentos (esto ya lo habíamos visto)\n",
        "N=len(df['Review_content'])\n",
        "print(N)"
      ],
      "metadata": {
        "colab": {
          "base_uri": "https://localhost:8080/"
        },
        "id": "r1sgmJJn2BUD",
        "outputId": "1c6bbfc3-5cc3-4221-db40-9e45d4d8c276"
      },
      "execution_count": 20,
      "outputs": [
        {
          "output_type": "stream",
          "name": "stdout",
          "text": [
            "312\n"
          ]
        }
      ]
    },
    {
      "cell_type": "code",
      "source": [
        "# La palabra \"reviews\" aparece en 235 de esos documentos\n",
        "dfrec=0\n",
        "name=cv.get_feature_names_out()[1037]\n",
        "for n in df['Review_content']: \n",
        "  if name in n: dfrec+=1\n",
        "print(dfrec)"
      ],
      "metadata": {
        "colab": {
          "base_uri": "https://localhost:8080/"
        },
        "id": "qp_dQkiD2LfA",
        "outputId": "91e47469-3736-49d2-9897-52512f847568"
      },
      "execution_count": 21,
      "outputs": [
        {
          "output_type": "stream",
          "name": "stdout",
          "text": [
            "235\n"
          ]
        }
      ]
    },
    {
      "cell_type": "code",
      "source": [
        "# El Inverse document frecuency es: \n",
        "idf = np.log(N/dfrec)\n",
        "print(idf)"
      ],
      "metadata": {
        "colab": {
          "base_uri": "https://localhost:8080/"
        },
        "id": "UwaTZzeh2fAJ",
        "outputId": "dec2a293-9b5f-4780-963f-59ca5f52f188"
      },
      "execution_count": 22,
      "outputs": [
        {
          "output_type": "stream",
          "name": "stdout",
          "text": [
            "0.28341767366532333\n"
          ]
        }
      ]
    },
    {
      "cell_type": "code",
      "source": [
        "# El documento 0 tiene 6180 términos diferentes\n",
        "print(bow[0].shape)"
      ],
      "metadata": {
        "colab": {
          "base_uri": "https://localhost:8080/"
        },
        "id": "xiPk5yfj4hkb",
        "outputId": "7969a65f-4a7a-4e85-924d-d8708f1e6664"
      },
      "execution_count": 23,
      "outputs": [
        {
          "output_type": "stream",
          "name": "stdout",
          "text": [
            "(1, 6180)\n"
          ]
        }
      ]
    },
    {
      "cell_type": "code",
      "source": [
        "# El término 1037 aparece 3 veces en el documento 1\n",
        "print(bow[0])"
      ],
      "metadata": {
        "colab": {
          "base_uri": "https://localhost:8080/"
        },
        "id": "5PDs2BSF5BZi",
        "outputId": "06c270b5-1966-43f6-d091-07d5c5ebfbe8"
      },
      "execution_count": 24,
      "outputs": [
        {
          "output_type": "stream",
          "name": "stdout",
          "text": [
            "  (0, 31)\t1\n",
            "  (0, 96)\t1\n",
            "  (0, 188)\t1\n",
            "  (0, 230)\t1\n",
            "  (0, 269)\t1\n",
            "  (0, 365)\t1\n",
            "  (0, 367)\t1\n",
            "  (0, 373)\t1\n",
            "  (0, 378)\t1\n",
            "  (0, 379)\t1\n",
            "  (0, 398)\t2\n",
            "  (0, 519)\t1\n",
            "  (0, 529)\t1\n",
            "  (0, 555)\t1\n",
            "  (0, 582)\t1\n",
            "  (0, 594)\t1\n",
            "  (0, 597)\t9\n",
            "  (0, 687)\t1\n",
            "  (0, 721)\t1\n",
            "  (0, 745)\t4\n",
            "  (0, 746)\t1\n",
            "  (0, 801)\t1\n",
            "  (0, 868)\t1\n",
            "  (0, 898)\t1\n",
            "  (0, 908)\t1\n",
            "  :\t:\n",
            "  (0, 5588)\t1\n",
            "  (0, 5610)\t1\n",
            "  (0, 5625)\t6\n",
            "  (0, 5649)\t1\n",
            "  (0, 5653)\t1\n",
            "  (0, 5665)\t1\n",
            "  (0, 5673)\t1\n",
            "  (0, 5705)\t1\n",
            "  (0, 5798)\t1\n",
            "  (0, 5852)\t1\n",
            "  (0, 5861)\t1\n",
            "  (0, 5870)\t1\n",
            "  (0, 5879)\t1\n",
            "  (0, 5894)\t2\n",
            "  (0, 5921)\t2\n",
            "  (0, 5954)\t2\n",
            "  (0, 5967)\t1\n",
            "  (0, 5977)\t7\n",
            "  (0, 6006)\t1\n",
            "  (0, 6017)\t1\n",
            "  (0, 6019)\t1\n",
            "  (0, 6053)\t6\n",
            "  (0, 6081)\t1\n",
            "  (0, 6152)\t3\n",
            "  (0, 6157)\t1\n"
          ]
        }
      ]
    },
    {
      "cell_type": "code",
      "source": [
        "# El TF es la cantidad de veces que aparece el término en el documento sobre la cantidad de palabras en el documento\n",
        "tf=3/6180\n",
        "print(tf)"
      ],
      "metadata": {
        "colab": {
          "base_uri": "https://localhost:8080/"
        },
        "id": "geB2jyVd2iU4",
        "outputId": "91fc298d-1e74-492c-b162-786b2fc70768"
      },
      "execution_count": 25,
      "outputs": [
        {
          "output_type": "stream",
          "name": "stdout",
          "text": [
            "0.0004854368932038835\n"
          ]
        }
      ]
    },
    {
      "cell_type": "code",
      "source": [
        "tfidf_manual=tf*idf\n",
        "print(tfidf_manual)"
      ],
      "metadata": {
        "colab": {
          "base_uri": "https://localhost:8080/"
        },
        "id": "dmp6TC075f1b",
        "outputId": "52c80791-6297-40a8-fe02-b08ae0b30d90"
      },
      "execution_count": 26,
      "outputs": [
        {
          "output_type": "stream",
          "name": "stdout",
          "text": [
            "0.00013758139498316665\n"
          ]
        }
      ]
    },
    {
      "cell_type": "markdown",
      "source": [
        "¿Por qué no coincide con lo que calcula Sklearn? \n",
        "Porque sklearn normaliza a la norma Euclidea\n",
        "\n",
        "<img src=\"https://miro.medium.com/max/630/1*nQVx6kHQRgz5B2-7TrI3LA.png\">\n",
        "\n",
        "Y ajusta con +1 la fórmula para evitar los casos igual a cero. \n",
        "\n",
        "<img src=\"https://miro.medium.com/max/290/1*ckcDta2x-ZskdzvG0gjD-A.png\">\n",
        "\n",
        "https://towardsdatascience.com/measure-text-weight-using-tf-idf-in-python-plain-code-and-scikit-learn-50cb1e4375ad"
      ],
      "metadata": {
        "id": "2oaPM8wl52-q"
      }
    }
  ]
}