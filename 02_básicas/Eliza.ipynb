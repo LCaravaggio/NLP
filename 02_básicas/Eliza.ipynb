{
  "nbformat": 4,
  "nbformat_minor": 0,
  "metadata": {
    "colab": {
      "provenance": [],
      "authorship_tag": "ABX9TyPyY+G7+5MDHXX8j0WHswsa",
      "include_colab_link": true
    },
    "kernelspec": {
      "name": "python3",
      "display_name": "Python 3"
    },
    "language_info": {
      "name": "python"
    }
  },
  "cells": [
    {
      "cell_type": "markdown",
      "metadata": {
        "id": "view-in-github",
        "colab_type": "text"
      },
      "source": [
        "<a href=\"https://colab.research.google.com/github/LCaravaggio/NLP/blob/main/02_b%C3%A1sicas/Eliza.ipynb\" target=\"_parent\"><img src=\"https://colab.research.google.com/assets/colab-badge.svg\" alt=\"Open In Colab\"/></a>"
      ]
    },
    {
      "cell_type": "markdown",
      "source": [
        "# Eliza"
      ],
      "metadata": {
        "id": "QDTbp7LUiSQH"
      }
    },
    {
      "cell_type": "markdown",
      "source": [
        "Instalamos las dependencias de https://github.com/wadetb/eliza/tree/master"
      ],
      "metadata": {
        "id": "KKfkQvjQiPDn"
      }
    },
    {
      "cell_type": "code",
      "source": [
        "%%capture\n",
        "!wget https://raw.githubusercontent.com/wadetb/eliza/master/eliza.py"
      ],
      "metadata": {
        "id": "W1a9L2_FWNbY"
      },
      "execution_count": 13,
      "outputs": []
    },
    {
      "cell_type": "markdown",
      "source": [
        "Clases Key y Decomp: Estas clases representan las claves y descomposiciones utilizadas por ELIZA para encontrar patrones en la entrada del usuario y generar respuestas.\n",
        "\n",
        "Clase Eliza: Esta clase contiene la lógica principal del chatbot ELIZA. Algunos de sus métodos clave son:\n",
        "\n",
        "load(path): Carga las reglas y respuestas predefinidas desde el archivo \"doctor.txt\".\n",
        "\n",
        "_match_key(words, key): Encuentra la clave que coincide con las palabras de entrada del usuario y genera una respuesta en consecuencia.\n",
        "\n",
        "respond(text): Procesa la entrada del usuario y genera una respuesta utilizando las funciones definidas anteriormente.\n",
        "\n",
        "run(): Inicia la interacción con el usuario y ejecuta el bucle principal del chatbot.\n",
        "\n",
        "Configuración de registro (logging.basicConfig()) en la parte superior del archivo: Establece la configuración básica para el registro de eventos durante la ejecución del programa."
      ],
      "metadata": {
        "id": "KtAQcq2OjGdk"
      }
    },
    {
      "cell_type": "code",
      "source": [
        "%%capture\n",
        "!wget https://raw.githubusercontent.com/wadetb/eliza/master/doctor.txt"
      ],
      "metadata": {
        "id": "vhTQe7sujEjy"
      },
      "execution_count": null,
      "outputs": []
    },
    {
      "cell_type": "markdown",
      "source": [
        "El archivo \"doctor.txt\" contiene las reglas y respuestas predefinidas utilizadas por ELIZA.\n",
        "\n",
        "initial: Estas son las frases de inicio que utiliza ELIZA para comenzar una conversación.\n",
        "\n",
        "final: Estas son las frases de despedida que utiliza ELIZA para finalizar una conversación.\n",
        "\n",
        "quit: Estas son las palabras o frases que el usuario puede usar para indicar que desea salir de la conversación.\n",
        "\n",
        "pre: Aquí se especifican las sustituciones que se aplican a ciertas palabras antes de procesar la entrada del usuario. Por ejemplo, \"dont\" se convierte en \"don't\".\n",
        "\n",
        "post: Aquí se especifican las sustituciones que se aplican a ciertas palabras después de procesar la entrada del usuario. Por ejemplo, \"am\" se convierte en \"are\".\n",
        "\n",
        "synon: Aquí se definen sinónimos para ciertas palabras, lo que permite a ELIZA reconocer variaciones de palabras clave en la entrada del usuario.\n",
        "\n",
        "key: Estas secciones definen las claves y sus descomposiciones asociadas, así como las posibles respuestas de reensamblaje. Cada clave tiene una o más descomposiciones, y cada descomposición tiene una o más respuestas de reensamblaje. Por ejemplo, la clave \"remember\" tiene dos descomposiciones diferentes, cada una con múltiples respuestas de reensamblaje. Cada descomposición está formada por partes, y la función de Eliza es encontrar la descomposición que mejor coincida con la entrada del usuario y generar una respuesta de reensamblaje correspondiente."
      ],
      "metadata": {
        "id": "KvJ0MXDqjBJS"
      }
    },
    {
      "cell_type": "code",
      "source": [
        "import eliza\n",
        "eliza = eliza.Eliza()\n",
        "eliza.load('doctor.txt')\n",
        "\n",
        "print(eliza.initial())\n",
        "while True:\n",
        "    said = input('> ')\n",
        "    response = eliza.respond(said)\n",
        "    if response is None:\n",
        "        break\n",
        "    print(response)\n",
        "print(eliza.final())"
      ],
      "metadata": {
        "colab": {
          "base_uri": "https://localhost:8080/"
        },
        "id": "UFET9APMWZv5",
        "outputId": "a3844026-492f-4be3-e19c-78c66537f292"
      },
      "execution_count": 17,
      "outputs": [
        {
          "output_type": "stream",
          "name": "stdout",
          "text": [
            "How do you do.  Please tell me your problem.\n",
            "> I'm feeling sad.\n",
            "I am sorry to hear that you are sad .\n",
            "> bye\n",
            "Goodbye.  Thank you for talking to me.\n"
          ]
        }
      ]
    },
    {
      "cell_type": "markdown",
      "source": [
        "Supongamos que el usuario escribe: \"I'm feeling sad.\"\n",
        "\n",
        "La entrada se divide en palabras y se realiza cualquier sustitución predefinida según las reglas en la sección pre. En este caso, la palabra \"I'm\" se convierte en \"I am\" y \"sad\" permanece igual.\n",
        "\n",
        "La entrada procesada se analiza en busca de palabras clave que coincidan con las claves definidas en el archivo \"doctor.txt\".\n",
        "\n",
        "Correspondencia de claves y descomposiciones:\n",
        "\n",
        "La palabra clave \"sad\" coincide con la clave \"i am * @sad *\" en la sección key. Esta clave tiene una descomposición que coincide con la entrada del usuario.\n",
        "Reensamblaje de la respuesta:\n",
        "\n",
        "Se elige una respuesta de reensamblaje de forma onsecutiva entre las respuestas disponibles para la descomposición coincidente.\n",
        "En una primera instancia la respuesta sería: \"I'm sorry to hear that you are sad.\""
      ],
      "metadata": {
        "id": "SDlkqS0ondun"
      }
    }
  ]
}