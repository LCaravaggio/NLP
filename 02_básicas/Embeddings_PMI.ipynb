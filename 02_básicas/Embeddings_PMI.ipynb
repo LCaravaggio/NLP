{
  "cells": [
    {
      "cell_type": "markdown",
      "metadata": {
        "id": "ATsVsal-3_IY"
      },
      "source": [
        "Medición de asociación semántica con word embeddings estáticos y con PMI.\n",
        "\n",
        "NOTE las preguntas/comentarios son sobre cosas que ya vieron en la parte teórica"
      ]
    },
    {
      "cell_type": "code",
      "source": [
        "%%capture\n",
        "!pip install watermark"
      ],
      "metadata": {
        "id": "7oVIWwPU4zjv"
      },
      "execution_count": 1,
      "outputs": []
    },
    {
      "cell_type": "code",
      "execution_count": 2,
      "metadata": {
        "id": "Jb7jxqdq3_Ih"
      },
      "outputs": [],
      "source": [
        "%load_ext watermark"
      ]
    },
    {
      "cell_type": "code",
      "execution_count": 3,
      "metadata": {
        "colab": {
          "base_uri": "https://localhost:8080/"
        },
        "id": "ftIeSonB3_Ik",
        "outputId": "ead2e25d-0562-454e-9653-f81fb527f9a2"
      },
      "outputs": [
        {
          "output_type": "stream",
          "name": "stdout",
          "text": [
            "Last updated: 2024-02-15\n",
            "\n",
            "Python implementation: CPython\n",
            "Python version       : 3.10.12\n",
            "IPython version      : 7.34.0\n",
            "\n",
            "gensim : 4.3.2\n",
            "nltk   : 3.8.1\n",
            "numpy  : 1.25.2\n",
            "pandas : 1.5.3\n",
            "sklearn: 1.2.2\n",
            "\n"
          ]
        }
      ],
      "source": [
        "%watermark -udvp gensim,nltk,numpy,pandas,sklearn"
      ]
    },
    {
      "cell_type": "markdown",
      "metadata": {
        "id": "PEWwVO2T3_Im"
      },
      "source": [
        "## Embeddings pre-entrenados vs. _from scratch_\n",
        "\n",
        "Vamos a empezar descargando un set de embeddings preentrenados de gensim (alguno chico)"
      ]
    },
    {
      "cell_type": "code",
      "execution_count": 4,
      "metadata": {
        "colab": {
          "base_uri": "https://localhost:8080/"
        },
        "id": "GrSb67zO3_In",
        "outputId": "82558c59-fd04-4087-c71c-3b3937626343"
      },
      "outputs": [
        {
          "output_type": "execute_result",
          "data": {
            "text/plain": [
              "dict_keys(['corpora', 'models'])"
            ]
          },
          "metadata": {},
          "execution_count": 4
        }
      ],
      "source": [
        "import gensim.downloader as api\n",
        "\n",
        "api.info().keys()"
      ]
    },
    {
      "cell_type": "code",
      "execution_count": 5,
      "metadata": {
        "colab": {
          "base_uri": "https://localhost:8080/"
        },
        "id": "NzdMGa6H3_Io",
        "outputId": "22a1c8f0-0564-4392-8b2b-25ce3f2841ac"
      },
      "outputs": [
        {
          "output_type": "execute_result",
          "data": {
            "text/plain": [
              "dict_keys(['fasttext-wiki-news-subwords-300', 'conceptnet-numberbatch-17-06-300', 'word2vec-ruscorpora-300', 'word2vec-google-news-300', 'glove-wiki-gigaword-50', 'glove-wiki-gigaword-100', 'glove-wiki-gigaword-200', 'glove-wiki-gigaword-300', 'glove-twitter-25', 'glove-twitter-50', 'glove-twitter-100', 'glove-twitter-200', '__testing_word2vec-matrix-synopsis'])"
            ]
          },
          "metadata": {},
          "execution_count": 5
        }
      ],
      "source": [
        "api.info()[\"models\"].keys() # modelos disponibles"
      ]
    },
    {
      "cell_type": "code",
      "execution_count": 6,
      "metadata": {
        "id": "GtSLXN3m3_Ip",
        "outputId": "5a46078a-0ce3-44ac-dff8-1a569005246d",
        "colab": {
          "base_uri": "https://localhost:8080/"
        }
      },
      "outputs": [
        {
          "output_type": "stream",
          "name": "stdout",
          "text": [
            "[==================================================] 100.0% 66.0/66.0MB downloaded\n"
          ]
        }
      ],
      "source": [
        "glove_wikig = api.load('glove-wiki-gigaword-50') # GloVe Wikipedia+Gigaword dim=50"
      ]
    },
    {
      "cell_type": "code",
      "execution_count": 7,
      "metadata": {
        "colab": {
          "base_uri": "https://localhost:8080/"
        },
        "id": "fMcCAhnV3_Ip",
        "outputId": "0de11e17-da88-4525-9015-181711155f04"
      },
      "outputs": [
        {
          "output_type": "execute_result",
          "data": {
            "text/plain": [
              "400000"
            ]
          },
          "metadata": {},
          "execution_count": 7
        }
      ],
      "source": [
        "len(glove_wikig.index_to_key)"
      ]
    },
    {
      "cell_type": "code",
      "source": [
        "glove_wikig.index_to_key[:10]"
      ],
      "metadata": {
        "colab": {
          "base_uri": "https://localhost:8080/"
        },
        "id": "9x9wDaVh-AAA",
        "outputId": "ca80eb26-6b67-4159-856f-96982da8100c"
      },
      "execution_count": 8,
      "outputs": [
        {
          "output_type": "execute_result",
          "data": {
            "text/plain": [
              "['the', ',', '.', 'of', 'to', 'and', 'in', 'a', '\"', \"'s\"]"
            ]
          },
          "metadata": {},
          "execution_count": 8
        }
      ]
    },
    {
      "cell_type": "code",
      "source": [
        "glove_wikig[\"hello\"]"
      ],
      "metadata": {
        "colab": {
          "base_uri": "https://localhost:8080/"
        },
        "id": "JgRWbCbX8yDd",
        "outputId": "c91e4ebd-d3c6-48ed-c3c9-b4d6657dcac0"
      },
      "execution_count": 9,
      "outputs": [
        {
          "output_type": "execute_result",
          "data": {
            "text/plain": [
              "array([-0.38497 ,  0.80092 ,  0.064106, -0.28355 , -0.026759, -0.34532 ,\n",
              "       -0.64253 , -0.11729 , -0.33257 ,  0.55243 , -0.087813,  0.9035  ,\n",
              "        0.47102 ,  0.56657 ,  0.6985  , -0.35229 , -0.86542 ,  0.90573 ,\n",
              "        0.03576 , -0.071705, -0.12327 ,  0.54923 ,  0.47005 ,  0.35572 ,\n",
              "        1.2611  , -0.67581 , -0.94983 ,  0.68666 ,  0.3871  , -1.3492  ,\n",
              "        0.63512 ,  0.46416 , -0.48814 ,  0.83827 , -0.9246  , -0.33722 ,\n",
              "        0.53741 , -1.0616  , -0.081403, -0.67111 ,  0.30923 , -0.3923  ,\n",
              "       -0.55002 , -0.68827 ,  0.58049 , -0.11626 ,  0.013139, -0.57654 ,\n",
              "        0.048833,  0.67204 ], dtype=float32)"
            ]
          },
          "metadata": {},
          "execution_count": 9
        }
      ]
    },
    {
      "cell_type": "code",
      "source": [
        "\"palabra_muy_rara\" in glove_wikig, \"the\" in glove_wikig"
      ],
      "metadata": {
        "colab": {
          "base_uri": "https://localhost:8080/"
        },
        "id": "5AbDET9w-DL4",
        "outputId": "96026cdb-dc8c-4029-d73b-9d0a681126f8"
      },
      "execution_count": 10,
      "outputs": [
        {
          "output_type": "execute_result",
          "data": {
            "text/plain": [
              "(False, True)"
            ]
          },
          "metadata": {},
          "execution_count": 10
        }
      ]
    },
    {
      "cell_type": "code",
      "source": [
        "# estan normalizados?\n",
        "import numpy as np\n",
        "\n",
        "np.linalg.norm(glove_wikig[\"hello\"])"
      ],
      "metadata": {
        "colab": {
          "base_uri": "https://localhost:8080/"
        },
        "id": "LxLatKNn94MS",
        "outputId": "5214ba0a-2cc5-487d-ae0a-48bb924462e2"
      },
      "execution_count": 11,
      "outputs": [
        {
          "output_type": "execute_result",
          "data": {
            "text/plain": [
              "4.2438774"
            ]
          },
          "metadata": {},
          "execution_count": 11
        }
      ]
    },
    {
      "cell_type": "markdown",
      "source": [
        "Vamos a entrenar embeddings en un corpus que nos pueda interesar: discursos presidenciales de EEUU (son corpora chiquitos, solo es ilustrativo)"
      ],
      "metadata": {
        "id": "yjD8So4M69Nm"
      }
    },
    {
      "cell_type": "code",
      "execution_count": 12,
      "metadata": {
        "colab": {
          "base_uri": "https://localhost:8080/"
        },
        "id": "u-d1bvC73_Iq",
        "outputId": "7f356d63-ac45-40f9-ec86-8d03b06b6f15"
      },
      "outputs": [
        {
          "output_type": "stream",
          "name": "stderr",
          "text": [
            "[nltk_data] Downloading package inaugural to /root/nltk_data...\n",
            "[nltk_data]   Unzipping corpora/inaugural.zip.\n"
          ]
        },
        {
          "output_type": "execute_result",
          "data": {
            "text/plain": [
              "True"
            ]
          },
          "metadata": {},
          "execution_count": 12
        }
      ],
      "source": [
        "# descargamos discursos:\n",
        "import nltk\n",
        "nltk.download('inaugural')"
      ]
    },
    {
      "cell_type": "code",
      "execution_count": 13,
      "metadata": {
        "colab": {
          "base_uri": "https://localhost:8080/"
        },
        "id": "zUgEef-P3_Ir",
        "outputId": "2ce66145-59f0-428f-e326-00d4e977f997"
      },
      "outputs": [
        {
          "output_type": "stream",
          "name": "stdout",
          "text": [
            "['1993-Clinton.txt', '1997-Clinton.txt', '2001-Bush.txt', '2005-Bush.txt', '2009-Obama.txt', '2013-Obama.txt', '2017-Trump.txt', '2021-Biden.txt']\n"
          ]
        }
      ],
      "source": [
        "from nltk.corpus import inaugural\n",
        "\n",
        "print(inaugural.fileids()[-8:])"
      ]
    },
    {
      "cell_type": "code",
      "execution_count": 14,
      "metadata": {
        "id": "whnnwUqK3_Ir"
      },
      "outputs": [],
      "source": [
        "# usamos bush hijo y obama:\n",
        "bush_corpus = inaugural.raw('2001-Bush.txt') + \"\\n\" + inaugural.raw('2005-Bush.txt')\n",
        "obama_corpus = inaugural.raw('2009-Obama.txt') + \"\\n\" + inaugural.raw('2013-Obama.txt')"
      ]
    },
    {
      "cell_type": "markdown",
      "metadata": {
        "id": "xMpmAyQ73_Ir"
      },
      "source": [
        "Atención al **preprocesamiento** que decidamos usar!\n",
        "\n",
        "Si se trata de una tarea supervisada, podemos probar distintas opciones y quedarnos con la mejor."
      ]
    },
    {
      "cell_type": "code",
      "source": [
        "nltk.download('punkt')"
      ],
      "metadata": {
        "colab": {
          "base_uri": "https://localhost:8080/"
        },
        "id": "06LqWcBh-ZnQ",
        "outputId": "ab2f1627-5632-4e5e-a198-2c2bb6e4425c"
      },
      "execution_count": 15,
      "outputs": [
        {
          "output_type": "stream",
          "name": "stderr",
          "text": [
            "[nltk_data] Downloading package punkt to /root/nltk_data...\n",
            "[nltk_data]   Unzipping tokenizers/punkt.zip.\n"
          ]
        },
        {
          "output_type": "execute_result",
          "data": {
            "text/plain": [
              "True"
            ]
          },
          "metadata": {},
          "execution_count": 15
        }
      ]
    },
    {
      "cell_type": "code",
      "execution_count": 16,
      "metadata": {
        "id": "aoTf69i_3_Is"
      },
      "outputs": [],
      "source": [
        "# Hacemos una lista de tokens para cada oracion. Las ventanas de coocurrencia\n",
        "# se van a formar dentro de los limites de las oraciones.\n",
        "from nltk.tokenize import sent_tokenize, word_tokenize\n",
        "from string import punctuation\n",
        "\n",
        "# Acá solamente eliminamos la puntuación y convertimos a minusc. a modo de ejemplo.\n",
        "bush_sentences = []\n",
        "for sentence in sent_tokenize(bush_corpus):\n",
        "    words_ = [word.lower() for word in word_tokenize(sentence) if word not in punctuation]\n",
        "    bush_sentences.append(words_)\n",
        "\n",
        "obama_sentences = []\n",
        "for sentence in sent_tokenize(obama_corpus):\n",
        "    words_ = [word.lower() for word in word_tokenize(sentence) if word not in punctuation]\n",
        "    obama_sentences.append(words_)"
      ]
    },
    {
      "cell_type": "code",
      "execution_count": 17,
      "metadata": {
        "colab": {
          "base_uri": "https://localhost:8080/"
        },
        "id": "UdtmsRrE3_Is",
        "outputId": "804884d3-7075-4a50-aa0f-8aa4f592334d"
      },
      "outputs": [
        {
          "output_type": "stream",
          "name": "stdout",
          "text": [
            "['may', 'god', 'bless', 'you', 'and', 'may', 'he', 'watch', 'over', 'the', 'united', 'states', 'of', 'america']\n",
            "['god', 'bless', 'you', 'and', 'may', 'he', 'forever', 'bless', 'these', 'united', 'states', 'of', 'america']\n"
          ]
        }
      ],
      "source": [
        "print(bush_sentences[-1])\n",
        "print(obama_sentences[-1])"
      ]
    },
    {
      "cell_type": "markdown",
      "metadata": {
        "id": "U7n-rXFs3_Is"
      },
      "source": [
        "Atención a los **hiperparámetros** que usamos! ¿Qué quiere decir cada uno?\n",
        "\n",
        "NOTE si no vieron alguno en detalle en la parte teórica, se puede explicar acá."
      ]
    },
    {
      "cell_type": "code",
      "execution_count": 18,
      "metadata": {
        "id": "Q3fEYYH23_It"
      },
      "outputs": [],
      "source": [
        "from gensim.models import Word2Vec\n",
        "\n",
        "params = {\n",
        "    \"vector_size\": 100,\n",
        "    \"alpha\": 0.025,\n",
        "    \"window\": 10, # igual que GloVe\n",
        "    \"min_count\": 5,\n",
        "    \"max_vocab_size\": None,\n",
        "    \"seed\": 33,\n",
        "    \"workers\": 2,\n",
        "    \"sg\": 1,\n",
        "    \"negative\": 5,\n",
        "    \"epochs\": 2,\n",
        "}"
      ]
    },
    {
      "cell_type": "code",
      "execution_count": 19,
      "metadata": {
        "id": "n-AcrWqx3_Iu"
      },
      "outputs": [],
      "source": [
        "w2v_bush = Word2Vec(bush_sentences, **params)\n",
        "w2v_obama = Word2Vec(obama_sentences, **params)\n",
        "# Para guardar:\n",
        "# w2v_obama.save(\"obama_w2v.model\")"
      ]
    },
    {
      "cell_type": "code",
      "execution_count": 20,
      "metadata": {
        "colab": {
          "base_uri": "https://localhost:8080/"
        },
        "id": "RMrdK6_G3_Iu",
        "outputId": "ab734bc1-decf-4ebf-b6fc-a363d6caf474"
      },
      "outputs": [
        {
          "output_type": "stream",
          "name": "stdout",
          "text": [
            "117 136\n"
          ]
        }
      ],
      "source": [
        "print(len(w2v_bush.wv.index_to_key), len(w2v_obama.wv.index_to_key))"
      ]
    },
    {
      "cell_type": "markdown",
      "metadata": {
        "id": "ZW2icwh33_Iv"
      },
      "source": [
        "¿Cómo medimos similitud?"
      ]
    },
    {
      "cell_type": "code",
      "execution_count": 21,
      "metadata": {
        "colab": {
          "base_uri": "https://localhost:8080/"
        },
        "id": "zoIRQA5w3_Iv",
        "outputId": "b52e1151-2d64-4706-c50e-99837fbb3d7b"
      },
      "outputs": [
        {
          "output_type": "stream",
          "name": "stdout",
          "text": [
            "america is in both vocabularies\n",
            "freedom is in both vocabularies\n",
            "hope is in both vocabularies\n",
            "god is in both vocabularies\n",
            "american is in both vocabularies\n",
            "citizens is in both vocabularies\n",
            "liberty is in both vocabularies\n",
            "nation is in both vocabularies\n"
          ]
        }
      ],
      "source": [
        "# algunas palabras interesantes:\n",
        "words = [\n",
        "    \"america\", \"freedom\", \"hope\", \"god\", \"american\", \"citizens\", \"democracy\",\n",
        "    \"liberty\", \"freedoms\", \"liberties\", \"rights\", \"justice\", \"equality\",\n",
        "    \"opportunity\", \"nation\", \"security\", \"peace\", \"war\",\n",
        "]\n",
        "\n",
        "for word in words:\n",
        "   if word in w2v_bush.wv and word in w2v_obama.wv:\n",
        "       print(f\"{word} is in both vocabularies\")"
      ]
    },
    {
      "cell_type": "code",
      "execution_count": 22,
      "metadata": {
        "colab": {
          "base_uri": "https://localhost:8080/"
        },
        "id": "wYONn_7Q3_Iv",
        "outputId": "9fb6c59d-bead-4de3-a814-54cac3381b86"
      },
      "outputs": [
        {
          "output_type": "stream",
          "name": "stdout",
          "text": [
            "0.9221342\n",
            "0.99276114\n"
          ]
        }
      ],
      "source": [
        "# con gensim:\n",
        "print(w2v_bush.wv.n_similarity([\"nation\"], [\"god\"]))\n",
        "print(w2v_obama.wv.n_similarity([\"nation\"], [\"god\"]))\n",
        "\n",
        "# OJO! podemos comparar valores de similitud entre modelos distintos??"
      ]
    },
    {
      "cell_type": "code",
      "execution_count": 23,
      "metadata": {
        "colab": {
          "base_uri": "https://localhost:8080/"
        },
        "id": "AfL3x4nC3_Iw",
        "outputId": "35c392a5-a866-478d-f331-c179566640af"
      },
      "outputs": [
        {
          "output_type": "stream",
          "name": "stdout",
          "text": [
            "0.9221342\n",
            "1.0\n"
          ]
        }
      ],
      "source": [
        "# a mano:\n",
        "import numpy as np\n",
        "from gensim.models import KeyedVectors\n",
        "\n",
        "def cossim(v1: np.ndarray, v2: np.ndarray) -> float:\n",
        "    return np.dot(v1, v2) / (np.linalg.norm(v1) * np.linalg.norm(v2))\n",
        "\n",
        "def get_vector(embeddings: KeyedVectors, word: str) -> np.ndarray:\n",
        "    return embeddings[word]\n",
        "\n",
        "def similarity(embeddings: KeyedVectors, word1: str, word2: str) -> float:\n",
        "    return cossim(get_vector(embeddings, word1), get_vector(embeddings, word2))\n",
        "\n",
        "print(similarity(w2v_bush.wv, \"nation\", \"god\"))\n",
        "print(similarity(w2v_bush.wv, \"god\", \"god\"))"
      ]
    },
    {
      "cell_type": "code",
      "execution_count": 24,
      "metadata": {
        "colab": {
          "base_uri": "https://localhost:8080/"
        },
        "id": "iO3TchkO3_Iw",
        "outputId": "f5595b46-8cd3-4100-b53a-5025d871853b"
      },
      "outputs": [
        {
          "output_type": "stream",
          "name": "stdout",
          "text": [
            "[('the', 0.9594517946243286), ('of', 0.9570308327674866), ('a', 0.9568242430686951), ('in', 0.9549646377563477), ('and', 0.9525467753410339), ('we', 0.9509894847869873), ('our', 0.9501854181289673), ('will', 0.948925793170929), ('justice', 0.947930097579956), ('because', 0.9462941884994507)]\n",
            "[('and', 0.9961374402046204), ('is', 0.9960247874259949), ('are', 0.9959288239479065), ('must', 0.9958963394165039), ('all', 0.9957402944564819), ('we', 0.9957396984100342), ('the', 0.9956983327865601), ('our', 0.9956619739532471), ('not', 0.9956296682357788), ('of', 0.9955527782440186)]\n"
          ]
        }
      ],
      "source": [
        "# las palabras más similares (con gensim):\n",
        "print(w2v_bush.wv.most_similar(\"god\"))\n",
        "print(w2v_obama.wv.most_similar(\"god\"))"
      ]
    },
    {
      "cell_type": "code",
      "execution_count": 25,
      "metadata": {
        "id": "y6KgrY893_Iw"
      },
      "outputs": [],
      "source": [
        "# a mano:\n",
        "def most_similar(\n",
        "        embeddings: KeyedVectors, word: str, topn: int = 10, remove_words: list = []\n",
        ") -> list:\n",
        "    word_vector = get_vector(embeddings, word)\n",
        "    words = embeddings.index_to_key\n",
        "    sims = []\n",
        "    for w in words:\n",
        "        if w not in remove_words + [word]:\n",
        "            sims.append((w, cossim(word_vector, get_vector(embeddings, w))))\n",
        "    return sorted(sims, key=lambda x: x[1], reverse=True)[:topn]"
      ]
    },
    {
      "cell_type": "code",
      "execution_count": 26,
      "metadata": {
        "colab": {
          "base_uri": "https://localhost:8080/"
        },
        "id": "t2DXejP93_Ix",
        "outputId": "40af1c56-3882-4be7-b602-a09ebe647c5b"
      },
      "outputs": [
        {
          "output_type": "stream",
          "name": "stderr",
          "text": [
            "[nltk_data] Downloading package stopwords to /root/nltk_data...\n",
            "[nltk_data]   Unzipping corpora/stopwords.zip.\n"
          ]
        },
        {
          "output_type": "execute_result",
          "data": {
            "text/plain": [
              "[('justice', 0.94793004),\n",
              " ('freedom', 0.9435305),\n",
              " ('history', 0.94246864),\n",
              " ('americans', 0.9399281),\n",
              " ('know', 0.9395295),\n",
              " ('liberty', 0.9385651),\n",
              " ('society', 0.93821764),\n",
              " ('one', 0.93680054),\n",
              " ('time', 0.93362),\n",
              " ('america', 0.93257916)]"
            ]
          },
          "metadata": {},
          "execution_count": 26
        }
      ],
      "source": [
        "nltk.download('stopwords')\n",
        "stopwords = nltk.corpus.stopwords.words('english')\n",
        "\n",
        "most_similar(w2v_bush.wv, \"god\", remove_words=stopwords)"
      ]
    },
    {
      "cell_type": "code",
      "execution_count": 27,
      "metadata": {
        "colab": {
          "base_uri": "https://localhost:8080/"
        },
        "id": "Dr5Mk0WB3_Ix",
        "outputId": "30b75d81-2c60-486e-c7ce-f85c219c6be0"
      },
      "outputs": [
        {
          "output_type": "execute_result",
          "data": {
            "text/plain": [
              "[('must', 0.99589634),\n",
              " ('us', 0.99531686),\n",
              " ('--', 0.995276),\n",
              " ('oath', 0.9950712),\n",
              " ('time', 0.994988),\n",
              " ('today', 0.994887),\n",
              " ('one', 0.99487513),\n",
              " ('freedom', 0.9947009),\n",
              " ('common', 0.9946429),\n",
              " ('every', 0.99462664)]"
            ]
          },
          "metadata": {},
          "execution_count": 27
        }
      ],
      "source": [
        "most_similar(w2v_obama.wv, \"god\", remove_words=stopwords)"
      ]
    },
    {
      "cell_type": "code",
      "execution_count": 28,
      "metadata": {
        "colab": {
          "base_uri": "https://localhost:8080/"
        },
        "id": "9_EijJay3_Ix",
        "outputId": "9e697179-064d-4ced-84eb-e2578d27d9e9"
      },
      "outputs": [
        {
          "output_type": "execute_result",
          "data": {
            "text/plain": [
              "[('divine', 0.8702991604804993),\n",
              " ('heaven', 0.840563178062439),\n",
              " ('christ', 0.8195050954818726),\n",
              " ('faith', 0.7931702733039856),\n",
              " ('allah', 0.7795287370681763),\n",
              " ('holy', 0.7723780870437622),\n",
              " ('sacred', 0.7701617479324341),\n",
              " ('true', 0.7637671828269958),\n",
              " ('jesus', 0.7632808685302734),\n",
              " ('gods', 0.7590562105178833)]"
            ]
          },
          "metadata": {},
          "execution_count": 28
        }
      ],
      "source": [
        "# en los embeddings preentrenados:\n",
        "glove_wikig.most_similar(\"god\")"
      ]
    },
    {
      "cell_type": "code",
      "execution_count": 29,
      "metadata": {
        "colab": {
          "base_uri": "https://localhost:8080/"
        },
        "id": "tyajvkeo3_Iy",
        "outputId": "f7ff640f-4103-439b-facc-da74d322d4ca"
      },
      "outputs": [
        {
          "output_type": "execute_result",
          "data": {
            "text/plain": [
              "[('uruguay', 0.8979324698448181),\n",
              " ('brazil', 0.8712695240974426),\n",
              " ('portugal', 0.8712440133094788),\n",
              " ('chile', 0.8661478757858276),\n",
              " ('paraguay', 0.8622300028800964),\n",
              " ('spain', 0.8610804080963135),\n",
              " ('costa', 0.8431476950645447),\n",
              " ('ecuador', 0.8335972428321838),\n",
              " ('rica', 0.8328091502189636),\n",
              " ('argentine', 0.8223130106925964)]"
            ]
          },
          "metadata": {},
          "execution_count": 29
        }
      ],
      "source": [
        "glove_wikig.most_similar(\"argentina\")"
      ]
    },
    {
      "cell_type": "code",
      "execution_count": 30,
      "metadata": {
        "colab": {
          "base_uri": "https://localhost:8080/"
        },
        "id": "g2LE28a33_Iy",
        "outputId": "e8503c05-b6e6-46a5-abf6-015e1aa29210"
      },
      "outputs": [
        {
          "output_type": "execute_result",
          "data": {
            "text/plain": [
              "0.039312582"
            ]
          },
          "metadata": {},
          "execution_count": 30
        }
      ],
      "source": [
        "# podemos promediar y luego calcular similitud:\n",
        "glove_wikig.n_similarity([\"fun\", \"funny\"], [\"argentina\"])"
      ]
    },
    {
      "cell_type": "code",
      "execution_count": 31,
      "metadata": {
        "colab": {
          "base_uri": "https://localhost:8080/"
        },
        "id": "dwSL36im3_Iy",
        "outputId": "d3e6a067-b56c-4151-9682-2608ca79fd90"
      },
      "outputs": [
        {
          "output_type": "execute_result",
          "data": {
            "text/plain": [
              "0.039312575"
            ]
          },
          "metadata": {},
          "execution_count": 31
        }
      ],
      "source": [
        "# a mano:\n",
        "def similarity_multiple(model, words1: list, words2: list) -> float:\n",
        "    # promedios:\n",
        "    v1 = np.mean([get_vector(model, w) for w in words1], axis=0)\n",
        "    v2 = np.mean([get_vector(model, w) for w in words2], axis=0)\n",
        "    # similitud:\n",
        "    return cossim(v1, v2)\n",
        "\n",
        "similarity_multiple(glove_wikig, [\"fun\", \"funny\"], [\"argentina\"])"
      ]
    },
    {
      "cell_type": "code",
      "execution_count": 32,
      "metadata": {
        "colab": {
          "base_uri": "https://localhost:8080/"
        },
        "id": "CjPFC4xk3_Iz",
        "outputId": "47815f5f-1344-4e13-92bc-be78fc250eb6"
      },
      "outputs": [
        {
          "output_type": "stream",
          "name": "stdout",
          "text": [
            "argentina: 0.16\n",
            "brazil: 0.24\n",
            "chile: 0.11\n",
            "mexico: 0.24\n",
            "peru: 0.09\n",
            "uruguay: 0.03\n",
            "venezuela: 0.12\n"
          ]
        }
      ],
      "source": [
        "paises = [\"argentina\", \"brazil\", \"chile\", \"mexico\", \"peru\", \"uruguay\", \"venezuela\"]\n",
        "target_words = [\"fun\", \"funny\", \"happy\", \"joy\", \"happiness\", \"cheerful\", \"party\"]\n",
        "for pais in paises:\n",
        "    sim_ = similarity_multiple(glove_wikig, [pais], target_words)\n",
        "    print(f\"{pais}: {sim_:.2f}\")"
      ]
    },
    {
      "cell_type": "code",
      "execution_count": 33,
      "metadata": {
        "id": "CDlB8UbX3_Iz"
      },
      "outputs": [],
      "source": [
        "# analogias\n",
        "def analogias(\n",
        "        embeddings: KeyedVectors, x1: str, x2: str, y1: str,\n",
        "        topn: int = 10, remove_words: list = []\n",
        ") -> list:\n",
        "    \"\"\"\n",
        "    \"x1\" es a \"x2\" lo que \"y1\" es a ...\n",
        "    \"\"\"\n",
        "    v_x1 = get_vector(embeddings, x1)\n",
        "    v_x2 = get_vector(embeddings, x2)\n",
        "    v_y1 = get_vector(embeddings, y1)\n",
        "    v_y2 = v_y1 + (v_x2 - v_x1)\n",
        "    # # version gensim (normaliza antes de sumar):\n",
        "    # v_x1_normalized = v_x1 / np.linalg.norm(v_x1)\n",
        "    # v_x2_normalized = v_x2 / np.linalg.norm(v_x2)\n",
        "    # v_y1_normalized = v_y1 / np.linalg.norm(v_y1)\n",
        "    # v_y2 = np.mean([v_y1_normalized, v_x2_normalized, -v_x1_normalized], axis=0)\n",
        "    words = embeddings.index_to_key\n",
        "    sims = []\n",
        "    for w in words:\n",
        "        if w not in [x1, x2, y1] + remove_words:\n",
        "            sims.append((w, cossim(v_y2, get_vector(embeddings, w))))\n",
        "    return sorted(sims, key=lambda x: x[1], reverse=True)[:topn]\n"
      ]
    },
    {
      "cell_type": "code",
      "source": [
        "analogias(glove_wikig, \"argentina\", \"tango\", \"brazil\", remove_words=stopwords)"
      ],
      "metadata": {
        "colab": {
          "base_uri": "https://localhost:8080/"
        },
        "id": "6e7cVMptFdKV",
        "outputId": "37729092-7151-4273-c1c6-38b059c146dd"
      },
      "execution_count": 34,
      "outputs": [
        {
          "output_type": "execute_result",
          "data": {
            "text/plain": [
              "[('flamenco', 0.70419997),\n",
              " ('vallenato', 0.6495547),\n",
              " ('dance', 0.6477156),\n",
              " ('capoeira', 0.6441592),\n",
              " ('vibe', 0.63394487),\n",
              " ('bossa', 0.62979794),\n",
              " ('dancing', 0.6267666),\n",
              " ('sanremo', 0.6194488),\n",
              " ('frevo', 0.6183353),\n",
              " ('samba', 0.61694306)]"
            ]
          },
          "metadata": {},
          "execution_count": 34
        }
      ]
    },
    {
      "cell_type": "code",
      "source": [
        "analogias(glove_wikig, \"cumbia\", \"argentina\", \"samba\", remove_words=stopwords)"
      ],
      "metadata": {
        "colab": {
          "base_uri": "https://localhost:8080/"
        },
        "id": "z67sz7bhE4YL",
        "outputId": "aeaf3c3f-7eaa-430e-948d-5661bdd6ea13"
      },
      "execution_count": 35,
      "outputs": [
        {
          "output_type": "execute_result",
          "data": {
            "text/plain": [
              "[('portugal', 0.75611746),\n",
              " ('brazil', 0.7116333),\n",
              " ('valencia', 0.70446074),\n",
              " ('porto', 0.7000426),\n",
              " ('rio', 0.6864369),\n",
              " ('spain', 0.67428696),\n",
              " ('madrid', 0.66925627),\n",
              " ('1-0', 0.6683855),\n",
              " ('costa', 0.66641146),\n",
              " ('barcelona', 0.66575617)]"
            ]
          },
          "metadata": {},
          "execution_count": 35
        }
      ]
    },
    {
      "cell_type": "code",
      "execution_count": 36,
      "metadata": {
        "colab": {
          "base_uri": "https://localhost:8080/"
        },
        "id": "_dSACASS3_Iz",
        "outputId": "bda7673c-4121-4184-f3ed-11f668de4d02"
      },
      "outputs": [
        {
          "output_type": "execute_result",
          "data": {
            "text/plain": [
              "[('portugal', 0.7374612092971802),\n",
              " ('rio', 0.6975606679916382),\n",
              " ('brazil', 0.6965111494064331),\n",
              " ('porto', 0.6963253617286682),\n",
              " ('valencia', 0.6952071785926819),\n",
              " ('1-0', 0.6584232449531555),\n",
              " ('madrid', 0.6578923463821411),\n",
              " ('barcelona', 0.6550120711326599),\n",
              " ('costa', 0.6534873843193054),\n",
              " ('monaco', 0.651835024356842)]"
            ]
          },
          "metadata": {},
          "execution_count": 36
        }
      ],
      "source": [
        "# con gensim:\n",
        "glove_wikig.most_similar(positive=[\"samba\", \"argentina\"], negative=[\"cumbia\"])"
      ]
    },
    {
      "cell_type": "markdown",
      "metadata": {
        "id": "8jyvkjjE3_I0"
      },
      "source": [
        "## Evaluación de embeddings\n",
        "\n",
        "¿Cómo medimos la calidad de los embeddings? Extrínsecamente, o **intrínsecamente**.\n",
        "\n",
        "Usamos código robado de [word-embeddings-benchmarks](https://github.com/kudkudak/word-embeddings-benchmarks/tree/master) para evaluar en SimLex999."
      ]
    },
    {
      "cell_type": "code",
      "source": [
        "import pandas as pd\n",
        "\n",
        "def fetch_simlex999() -> pd.DataFrame:\n",
        "    df = pd.read_csv('https://www.dropbox.com/s/0jpa1x8vpmk3ych/EN-SIM999.txt?dl=1', sep=\"\\t\")\n",
        "    return df[['word1', 'word2', 'POS', 'SimLex999']]\n",
        "\n",
        "df_simlex = fetch_simlex999()"
      ],
      "metadata": {
        "id": "xjUbJ7PpI7W1"
      },
      "execution_count": 37,
      "outputs": []
    },
    {
      "cell_type": "code",
      "source": [
        "len(df_simlex)"
      ],
      "metadata": {
        "colab": {
          "base_uri": "https://localhost:8080/"
        },
        "id": "p182XqExLj4a",
        "outputId": "8d1a8f40-7ea1-4555-baae-0e6a001b12fd"
      },
      "execution_count": 38,
      "outputs": [
        {
          "output_type": "execute_result",
          "data": {
            "text/plain": [
              "999"
            ]
          },
          "metadata": {},
          "execution_count": 38
        }
      ]
    },
    {
      "cell_type": "code",
      "source": [
        "df_simlex.sample(6)"
      ],
      "metadata": {
        "colab": {
          "base_uri": "https://localhost:8080/",
          "height": 238
        },
        "id": "hvyjrTQlOwEF",
        "outputId": "9f206f39-2172-4413-fc1a-d0eccd0f232f"
      },
      "execution_count": 39,
      "outputs": [
        {
          "output_type": "execute_result",
          "data": {
            "text/plain": [
              "        word1      word2 POS  SimLex999\n",
              "613     nurse  scientist   N       2.08\n",
              "455      lake      swamp   N       4.92\n",
              "637     apple      sauce   N       1.43\n",
              "671       gun      knife   N       3.65\n",
              "631  mountain      ledge   N       3.73\n",
              "983       say     verify   V       4.90"
            ],
            "text/html": [
              "\n",
              "  <div id=\"df-e38e64c7-4584-4113-b93a-a2628f28650c\" class=\"colab-df-container\">\n",
              "    <div>\n",
              "<style scoped>\n",
              "    .dataframe tbody tr th:only-of-type {\n",
              "        vertical-align: middle;\n",
              "    }\n",
              "\n",
              "    .dataframe tbody tr th {\n",
              "        vertical-align: top;\n",
              "    }\n",
              "\n",
              "    .dataframe thead th {\n",
              "        text-align: right;\n",
              "    }\n",
              "</style>\n",
              "<table border=\"1\" class=\"dataframe\">\n",
              "  <thead>\n",
              "    <tr style=\"text-align: right;\">\n",
              "      <th></th>\n",
              "      <th>word1</th>\n",
              "      <th>word2</th>\n",
              "      <th>POS</th>\n",
              "      <th>SimLex999</th>\n",
              "    </tr>\n",
              "  </thead>\n",
              "  <tbody>\n",
              "    <tr>\n",
              "      <th>613</th>\n",
              "      <td>nurse</td>\n",
              "      <td>scientist</td>\n",
              "      <td>N</td>\n",
              "      <td>2.08</td>\n",
              "    </tr>\n",
              "    <tr>\n",
              "      <th>455</th>\n",
              "      <td>lake</td>\n",
              "      <td>swamp</td>\n",
              "      <td>N</td>\n",
              "      <td>4.92</td>\n",
              "    </tr>\n",
              "    <tr>\n",
              "      <th>637</th>\n",
              "      <td>apple</td>\n",
              "      <td>sauce</td>\n",
              "      <td>N</td>\n",
              "      <td>1.43</td>\n",
              "    </tr>\n",
              "    <tr>\n",
              "      <th>671</th>\n",
              "      <td>gun</td>\n",
              "      <td>knife</td>\n",
              "      <td>N</td>\n",
              "      <td>3.65</td>\n",
              "    </tr>\n",
              "    <tr>\n",
              "      <th>631</th>\n",
              "      <td>mountain</td>\n",
              "      <td>ledge</td>\n",
              "      <td>N</td>\n",
              "      <td>3.73</td>\n",
              "    </tr>\n",
              "    <tr>\n",
              "      <th>983</th>\n",
              "      <td>say</td>\n",
              "      <td>verify</td>\n",
              "      <td>V</td>\n",
              "      <td>4.90</td>\n",
              "    </tr>\n",
              "  </tbody>\n",
              "</table>\n",
              "</div>\n",
              "    <div class=\"colab-df-buttons\">\n",
              "\n",
              "  <div class=\"colab-df-container\">\n",
              "    <button class=\"colab-df-convert\" onclick=\"convertToInteractive('df-e38e64c7-4584-4113-b93a-a2628f28650c')\"\n",
              "            title=\"Convert this dataframe to an interactive table.\"\n",
              "            style=\"display:none;\">\n",
              "\n",
              "  <svg xmlns=\"http://www.w3.org/2000/svg\" height=\"24px\" viewBox=\"0 -960 960 960\">\n",
              "    <path d=\"M120-120v-720h720v720H120Zm60-500h600v-160H180v160Zm220 220h160v-160H400v160Zm0 220h160v-160H400v160ZM180-400h160v-160H180v160Zm440 0h160v-160H620v160ZM180-180h160v-160H180v160Zm440 0h160v-160H620v160Z\"/>\n",
              "  </svg>\n",
              "    </button>\n",
              "\n",
              "  <style>\n",
              "    .colab-df-container {\n",
              "      display:flex;\n",
              "      gap: 12px;\n",
              "    }\n",
              "\n",
              "    .colab-df-convert {\n",
              "      background-color: #E8F0FE;\n",
              "      border: none;\n",
              "      border-radius: 50%;\n",
              "      cursor: pointer;\n",
              "      display: none;\n",
              "      fill: #1967D2;\n",
              "      height: 32px;\n",
              "      padding: 0 0 0 0;\n",
              "      width: 32px;\n",
              "    }\n",
              "\n",
              "    .colab-df-convert:hover {\n",
              "      background-color: #E2EBFA;\n",
              "      box-shadow: 0px 1px 2px rgba(60, 64, 67, 0.3), 0px 1px 3px 1px rgba(60, 64, 67, 0.15);\n",
              "      fill: #174EA6;\n",
              "    }\n",
              "\n",
              "    .colab-df-buttons div {\n",
              "      margin-bottom: 4px;\n",
              "    }\n",
              "\n",
              "    [theme=dark] .colab-df-convert {\n",
              "      background-color: #3B4455;\n",
              "      fill: #D2E3FC;\n",
              "    }\n",
              "\n",
              "    [theme=dark] .colab-df-convert:hover {\n",
              "      background-color: #434B5C;\n",
              "      box-shadow: 0px 1px 3px 1px rgba(0, 0, 0, 0.15);\n",
              "      filter: drop-shadow(0px 1px 2px rgba(0, 0, 0, 0.3));\n",
              "      fill: #FFFFFF;\n",
              "    }\n",
              "  </style>\n",
              "\n",
              "    <script>\n",
              "      const buttonEl =\n",
              "        document.querySelector('#df-e38e64c7-4584-4113-b93a-a2628f28650c button.colab-df-convert');\n",
              "      buttonEl.style.display =\n",
              "        google.colab.kernel.accessAllowed ? 'block' : 'none';\n",
              "\n",
              "      async function convertToInteractive(key) {\n",
              "        const element = document.querySelector('#df-e38e64c7-4584-4113-b93a-a2628f28650c');\n",
              "        const dataTable =\n",
              "          await google.colab.kernel.invokeFunction('convertToInteractive',\n",
              "                                                    [key], {});\n",
              "        if (!dataTable) return;\n",
              "\n",
              "        const docLinkHtml = 'Like what you see? Visit the ' +\n",
              "          '<a target=\"_blank\" href=https://colab.research.google.com/notebooks/data_table.ipynb>data table notebook</a>'\n",
              "          + ' to learn more about interactive tables.';\n",
              "        element.innerHTML = '';\n",
              "        dataTable['output_type'] = 'display_data';\n",
              "        await google.colab.output.renderOutput(dataTable, element);\n",
              "        const docLink = document.createElement('div');\n",
              "        docLink.innerHTML = docLinkHtml;\n",
              "        element.appendChild(docLink);\n",
              "      }\n",
              "    </script>\n",
              "  </div>\n",
              "\n",
              "\n",
              "<div id=\"df-6f3cc93a-740e-4de9-b1dc-9eaa71c3095e\">\n",
              "  <button class=\"colab-df-quickchart\" onclick=\"quickchart('df-6f3cc93a-740e-4de9-b1dc-9eaa71c3095e')\"\n",
              "            title=\"Suggest charts\"\n",
              "            style=\"display:none;\">\n",
              "\n",
              "<svg xmlns=\"http://www.w3.org/2000/svg\" height=\"24px\"viewBox=\"0 0 24 24\"\n",
              "     width=\"24px\">\n",
              "    <g>\n",
              "        <path d=\"M19 3H5c-1.1 0-2 .9-2 2v14c0 1.1.9 2 2 2h14c1.1 0 2-.9 2-2V5c0-1.1-.9-2-2-2zM9 17H7v-7h2v7zm4 0h-2V7h2v10zm4 0h-2v-4h2v4z\"/>\n",
              "    </g>\n",
              "</svg>\n",
              "  </button>\n",
              "\n",
              "<style>\n",
              "  .colab-df-quickchart {\n",
              "      --bg-color: #E8F0FE;\n",
              "      --fill-color: #1967D2;\n",
              "      --hover-bg-color: #E2EBFA;\n",
              "      --hover-fill-color: #174EA6;\n",
              "      --disabled-fill-color: #AAA;\n",
              "      --disabled-bg-color: #DDD;\n",
              "  }\n",
              "\n",
              "  [theme=dark] .colab-df-quickchart {\n",
              "      --bg-color: #3B4455;\n",
              "      --fill-color: #D2E3FC;\n",
              "      --hover-bg-color: #434B5C;\n",
              "      --hover-fill-color: #FFFFFF;\n",
              "      --disabled-bg-color: #3B4455;\n",
              "      --disabled-fill-color: #666;\n",
              "  }\n",
              "\n",
              "  .colab-df-quickchart {\n",
              "    background-color: var(--bg-color);\n",
              "    border: none;\n",
              "    border-radius: 50%;\n",
              "    cursor: pointer;\n",
              "    display: none;\n",
              "    fill: var(--fill-color);\n",
              "    height: 32px;\n",
              "    padding: 0;\n",
              "    width: 32px;\n",
              "  }\n",
              "\n",
              "  .colab-df-quickchart:hover {\n",
              "    background-color: var(--hover-bg-color);\n",
              "    box-shadow: 0 1px 2px rgba(60, 64, 67, 0.3), 0 1px 3px 1px rgba(60, 64, 67, 0.15);\n",
              "    fill: var(--button-hover-fill-color);\n",
              "  }\n",
              "\n",
              "  .colab-df-quickchart-complete:disabled,\n",
              "  .colab-df-quickchart-complete:disabled:hover {\n",
              "    background-color: var(--disabled-bg-color);\n",
              "    fill: var(--disabled-fill-color);\n",
              "    box-shadow: none;\n",
              "  }\n",
              "\n",
              "  .colab-df-spinner {\n",
              "    border: 2px solid var(--fill-color);\n",
              "    border-color: transparent;\n",
              "    border-bottom-color: var(--fill-color);\n",
              "    animation:\n",
              "      spin 1s steps(1) infinite;\n",
              "  }\n",
              "\n",
              "  @keyframes spin {\n",
              "    0% {\n",
              "      border-color: transparent;\n",
              "      border-bottom-color: var(--fill-color);\n",
              "      border-left-color: var(--fill-color);\n",
              "    }\n",
              "    20% {\n",
              "      border-color: transparent;\n",
              "      border-left-color: var(--fill-color);\n",
              "      border-top-color: var(--fill-color);\n",
              "    }\n",
              "    30% {\n",
              "      border-color: transparent;\n",
              "      border-left-color: var(--fill-color);\n",
              "      border-top-color: var(--fill-color);\n",
              "      border-right-color: var(--fill-color);\n",
              "    }\n",
              "    40% {\n",
              "      border-color: transparent;\n",
              "      border-right-color: var(--fill-color);\n",
              "      border-top-color: var(--fill-color);\n",
              "    }\n",
              "    60% {\n",
              "      border-color: transparent;\n",
              "      border-right-color: var(--fill-color);\n",
              "    }\n",
              "    80% {\n",
              "      border-color: transparent;\n",
              "      border-right-color: var(--fill-color);\n",
              "      border-bottom-color: var(--fill-color);\n",
              "    }\n",
              "    90% {\n",
              "      border-color: transparent;\n",
              "      border-bottom-color: var(--fill-color);\n",
              "    }\n",
              "  }\n",
              "</style>\n",
              "\n",
              "  <script>\n",
              "    async function quickchart(key) {\n",
              "      const quickchartButtonEl =\n",
              "        document.querySelector('#' + key + ' button');\n",
              "      quickchartButtonEl.disabled = true;  // To prevent multiple clicks.\n",
              "      quickchartButtonEl.classList.add('colab-df-spinner');\n",
              "      try {\n",
              "        const charts = await google.colab.kernel.invokeFunction(\n",
              "            'suggestCharts', [key], {});\n",
              "      } catch (error) {\n",
              "        console.error('Error during call to suggestCharts:', error);\n",
              "      }\n",
              "      quickchartButtonEl.classList.remove('colab-df-spinner');\n",
              "      quickchartButtonEl.classList.add('colab-df-quickchart-complete');\n",
              "    }\n",
              "    (() => {\n",
              "      let quickchartButtonEl =\n",
              "        document.querySelector('#df-6f3cc93a-740e-4de9-b1dc-9eaa71c3095e button');\n",
              "      quickchartButtonEl.style.display =\n",
              "        google.colab.kernel.accessAllowed ? 'block' : 'none';\n",
              "    })();\n",
              "  </script>\n",
              "</div>\n",
              "\n",
              "    </div>\n",
              "  </div>\n"
            ],
            "application/vnd.google.colaboratory.intrinsic+json": {
              "type": "dataframe",
              "summary": "{\n  \"name\": \"df_simlex\",\n  \"rows\": 6,\n  \"fields\": [\n    {\n      \"column\": \"word1\",\n      \"properties\": {\n        \"dtype\": \"string\",\n        \"samples\": [\n          \"nurse\",\n          \"lake\",\n          \"say\"\n        ],\n        \"num_unique_values\": 6,\n        \"semantic_type\": \"\",\n        \"description\": \"\"\n      }\n    },\n    {\n      \"column\": \"word2\",\n      \"properties\": {\n        \"dtype\": \"string\",\n        \"samples\": [\n          \"scientist\",\n          \"swamp\",\n          \"verify\"\n        ],\n        \"num_unique_values\": 6,\n        \"semantic_type\": \"\",\n        \"description\": \"\"\n      }\n    },\n    {\n      \"column\": \"POS\",\n      \"properties\": {\n        \"dtype\": \"category\",\n        \"samples\": [\n          \"V\",\n          \"N\"\n        ],\n        \"num_unique_values\": 2,\n        \"semantic_type\": \"\",\n        \"description\": \"\"\n      }\n    },\n    {\n      \"column\": \"SimLex999\",\n      \"properties\": {\n        \"dtype\": \"number\",\n        \"std\": 1.437990496027935,\n        \"min\": 1.43,\n        \"max\": 4.92,\n        \"samples\": [\n          2.08,\n          4.92\n        ],\n        \"num_unique_values\": 6,\n        \"semantic_type\": \"\",\n        \"description\": \"\"\n      }\n    }\n  ]\n}"
            }
          },
          "metadata": {},
          "execution_count": 39
        }
      ]
    },
    {
      "cell_type": "code",
      "source": [
        "def compute_similarities(embeddings: KeyedVectors, df: pd.DataFrame):\n",
        "    words1 = df[\"word1\"].tolist()\n",
        "    words2 = df[\"word2\"].tolist()\n",
        "    missing_words = 0\n",
        "    for word in words1 + words2:\n",
        "        if word not in embeddings:\n",
        "            missing_words += 1\n",
        "    if missing_words > 0:\n",
        "        print(f\"Missing {missing_words} words. Will replace them with mean vector\")\n",
        "    mean_vector = np.mean(embeddings.vectors, axis=0, keepdims=True)\n",
        "    A = np.vstack([get_vector(embeddings, w) if w in embeddings else mean_vector for w in words1])\n",
        "    B = np.vstack([get_vector(embeddings, w) if w in embeddings else mean_vector for w in words2])\n",
        "    scores = np.array([cossim(v1, v2) for v1, v2 in zip(A, B)])\n",
        "    return scores"
      ],
      "metadata": {
        "id": "Jr7oP20NOzpT"
      },
      "execution_count": 40,
      "outputs": []
    },
    {
      "cell_type": "code",
      "source": [
        "df_simlex[\"glove_scores\"] = compute_similarities(glove_wikig, df_simlex)\n",
        "df_simlex.head(2)"
      ],
      "metadata": {
        "colab": {
          "base_uri": "https://localhost:8080/",
          "height": 112
        },
        "id": "m5h1QswfRlkx",
        "outputId": "007bd912-f086-444e-8fd0-f1576d185dc8"
      },
      "execution_count": 41,
      "outputs": [
        {
          "output_type": "execute_result",
          "data": {
            "text/plain": [
              "   word1        word2 POS  SimLex999  glove_scores\n",
              "0    old          new   A       1.58      0.619720\n",
              "1  smart  intelligent   A       9.20      0.776587"
            ],
            "text/html": [
              "\n",
              "  <div id=\"df-2e5af73f-6b54-40e8-9497-b9f934db8b54\" class=\"colab-df-container\">\n",
              "    <div>\n",
              "<style scoped>\n",
              "    .dataframe tbody tr th:only-of-type {\n",
              "        vertical-align: middle;\n",
              "    }\n",
              "\n",
              "    .dataframe tbody tr th {\n",
              "        vertical-align: top;\n",
              "    }\n",
              "\n",
              "    .dataframe thead th {\n",
              "        text-align: right;\n",
              "    }\n",
              "</style>\n",
              "<table border=\"1\" class=\"dataframe\">\n",
              "  <thead>\n",
              "    <tr style=\"text-align: right;\">\n",
              "      <th></th>\n",
              "      <th>word1</th>\n",
              "      <th>word2</th>\n",
              "      <th>POS</th>\n",
              "      <th>SimLex999</th>\n",
              "      <th>glove_scores</th>\n",
              "    </tr>\n",
              "  </thead>\n",
              "  <tbody>\n",
              "    <tr>\n",
              "      <th>0</th>\n",
              "      <td>old</td>\n",
              "      <td>new</td>\n",
              "      <td>A</td>\n",
              "      <td>1.58</td>\n",
              "      <td>0.619720</td>\n",
              "    </tr>\n",
              "    <tr>\n",
              "      <th>1</th>\n",
              "      <td>smart</td>\n",
              "      <td>intelligent</td>\n",
              "      <td>A</td>\n",
              "      <td>9.20</td>\n",
              "      <td>0.776587</td>\n",
              "    </tr>\n",
              "  </tbody>\n",
              "</table>\n",
              "</div>\n",
              "    <div class=\"colab-df-buttons\">\n",
              "\n",
              "  <div class=\"colab-df-container\">\n",
              "    <button class=\"colab-df-convert\" onclick=\"convertToInteractive('df-2e5af73f-6b54-40e8-9497-b9f934db8b54')\"\n",
              "            title=\"Convert this dataframe to an interactive table.\"\n",
              "            style=\"display:none;\">\n",
              "\n",
              "  <svg xmlns=\"http://www.w3.org/2000/svg\" height=\"24px\" viewBox=\"0 -960 960 960\">\n",
              "    <path d=\"M120-120v-720h720v720H120Zm60-500h600v-160H180v160Zm220 220h160v-160H400v160Zm0 220h160v-160H400v160ZM180-400h160v-160H180v160Zm440 0h160v-160H620v160ZM180-180h160v-160H180v160Zm440 0h160v-160H620v160Z\"/>\n",
              "  </svg>\n",
              "    </button>\n",
              "\n",
              "  <style>\n",
              "    .colab-df-container {\n",
              "      display:flex;\n",
              "      gap: 12px;\n",
              "    }\n",
              "\n",
              "    .colab-df-convert {\n",
              "      background-color: #E8F0FE;\n",
              "      border: none;\n",
              "      border-radius: 50%;\n",
              "      cursor: pointer;\n",
              "      display: none;\n",
              "      fill: #1967D2;\n",
              "      height: 32px;\n",
              "      padding: 0 0 0 0;\n",
              "      width: 32px;\n",
              "    }\n",
              "\n",
              "    .colab-df-convert:hover {\n",
              "      background-color: #E2EBFA;\n",
              "      box-shadow: 0px 1px 2px rgba(60, 64, 67, 0.3), 0px 1px 3px 1px rgba(60, 64, 67, 0.15);\n",
              "      fill: #174EA6;\n",
              "    }\n",
              "\n",
              "    .colab-df-buttons div {\n",
              "      margin-bottom: 4px;\n",
              "    }\n",
              "\n",
              "    [theme=dark] .colab-df-convert {\n",
              "      background-color: #3B4455;\n",
              "      fill: #D2E3FC;\n",
              "    }\n",
              "\n",
              "    [theme=dark] .colab-df-convert:hover {\n",
              "      background-color: #434B5C;\n",
              "      box-shadow: 0px 1px 3px 1px rgba(0, 0, 0, 0.15);\n",
              "      filter: drop-shadow(0px 1px 2px rgba(0, 0, 0, 0.3));\n",
              "      fill: #FFFFFF;\n",
              "    }\n",
              "  </style>\n",
              "\n",
              "    <script>\n",
              "      const buttonEl =\n",
              "        document.querySelector('#df-2e5af73f-6b54-40e8-9497-b9f934db8b54 button.colab-df-convert');\n",
              "      buttonEl.style.display =\n",
              "        google.colab.kernel.accessAllowed ? 'block' : 'none';\n",
              "\n",
              "      async function convertToInteractive(key) {\n",
              "        const element = document.querySelector('#df-2e5af73f-6b54-40e8-9497-b9f934db8b54');\n",
              "        const dataTable =\n",
              "          await google.colab.kernel.invokeFunction('convertToInteractive',\n",
              "                                                    [key], {});\n",
              "        if (!dataTable) return;\n",
              "\n",
              "        const docLinkHtml = 'Like what you see? Visit the ' +\n",
              "          '<a target=\"_blank\" href=https://colab.research.google.com/notebooks/data_table.ipynb>data table notebook</a>'\n",
              "          + ' to learn more about interactive tables.';\n",
              "        element.innerHTML = '';\n",
              "        dataTable['output_type'] = 'display_data';\n",
              "        await google.colab.output.renderOutput(dataTable, element);\n",
              "        const docLink = document.createElement('div');\n",
              "        docLink.innerHTML = docLinkHtml;\n",
              "        element.appendChild(docLink);\n",
              "      }\n",
              "    </script>\n",
              "  </div>\n",
              "\n",
              "\n",
              "<div id=\"df-c5c24c95-744b-4e03-b83e-a8b3da0f5e83\">\n",
              "  <button class=\"colab-df-quickchart\" onclick=\"quickchart('df-c5c24c95-744b-4e03-b83e-a8b3da0f5e83')\"\n",
              "            title=\"Suggest charts\"\n",
              "            style=\"display:none;\">\n",
              "\n",
              "<svg xmlns=\"http://www.w3.org/2000/svg\" height=\"24px\"viewBox=\"0 0 24 24\"\n",
              "     width=\"24px\">\n",
              "    <g>\n",
              "        <path d=\"M19 3H5c-1.1 0-2 .9-2 2v14c0 1.1.9 2 2 2h14c1.1 0 2-.9 2-2V5c0-1.1-.9-2-2-2zM9 17H7v-7h2v7zm4 0h-2V7h2v10zm4 0h-2v-4h2v4z\"/>\n",
              "    </g>\n",
              "</svg>\n",
              "  </button>\n",
              "\n",
              "<style>\n",
              "  .colab-df-quickchart {\n",
              "      --bg-color: #E8F0FE;\n",
              "      --fill-color: #1967D2;\n",
              "      --hover-bg-color: #E2EBFA;\n",
              "      --hover-fill-color: #174EA6;\n",
              "      --disabled-fill-color: #AAA;\n",
              "      --disabled-bg-color: #DDD;\n",
              "  }\n",
              "\n",
              "  [theme=dark] .colab-df-quickchart {\n",
              "      --bg-color: #3B4455;\n",
              "      --fill-color: #D2E3FC;\n",
              "      --hover-bg-color: #434B5C;\n",
              "      --hover-fill-color: #FFFFFF;\n",
              "      --disabled-bg-color: #3B4455;\n",
              "      --disabled-fill-color: #666;\n",
              "  }\n",
              "\n",
              "  .colab-df-quickchart {\n",
              "    background-color: var(--bg-color);\n",
              "    border: none;\n",
              "    border-radius: 50%;\n",
              "    cursor: pointer;\n",
              "    display: none;\n",
              "    fill: var(--fill-color);\n",
              "    height: 32px;\n",
              "    padding: 0;\n",
              "    width: 32px;\n",
              "  }\n",
              "\n",
              "  .colab-df-quickchart:hover {\n",
              "    background-color: var(--hover-bg-color);\n",
              "    box-shadow: 0 1px 2px rgba(60, 64, 67, 0.3), 0 1px 3px 1px rgba(60, 64, 67, 0.15);\n",
              "    fill: var(--button-hover-fill-color);\n",
              "  }\n",
              "\n",
              "  .colab-df-quickchart-complete:disabled,\n",
              "  .colab-df-quickchart-complete:disabled:hover {\n",
              "    background-color: var(--disabled-bg-color);\n",
              "    fill: var(--disabled-fill-color);\n",
              "    box-shadow: none;\n",
              "  }\n",
              "\n",
              "  .colab-df-spinner {\n",
              "    border: 2px solid var(--fill-color);\n",
              "    border-color: transparent;\n",
              "    border-bottom-color: var(--fill-color);\n",
              "    animation:\n",
              "      spin 1s steps(1) infinite;\n",
              "  }\n",
              "\n",
              "  @keyframes spin {\n",
              "    0% {\n",
              "      border-color: transparent;\n",
              "      border-bottom-color: var(--fill-color);\n",
              "      border-left-color: var(--fill-color);\n",
              "    }\n",
              "    20% {\n",
              "      border-color: transparent;\n",
              "      border-left-color: var(--fill-color);\n",
              "      border-top-color: var(--fill-color);\n",
              "    }\n",
              "    30% {\n",
              "      border-color: transparent;\n",
              "      border-left-color: var(--fill-color);\n",
              "      border-top-color: var(--fill-color);\n",
              "      border-right-color: var(--fill-color);\n",
              "    }\n",
              "    40% {\n",
              "      border-color: transparent;\n",
              "      border-right-color: var(--fill-color);\n",
              "      border-top-color: var(--fill-color);\n",
              "    }\n",
              "    60% {\n",
              "      border-color: transparent;\n",
              "      border-right-color: var(--fill-color);\n",
              "    }\n",
              "    80% {\n",
              "      border-color: transparent;\n",
              "      border-right-color: var(--fill-color);\n",
              "      border-bottom-color: var(--fill-color);\n",
              "    }\n",
              "    90% {\n",
              "      border-color: transparent;\n",
              "      border-bottom-color: var(--fill-color);\n",
              "    }\n",
              "  }\n",
              "</style>\n",
              "\n",
              "  <script>\n",
              "    async function quickchart(key) {\n",
              "      const quickchartButtonEl =\n",
              "        document.querySelector('#' + key + ' button');\n",
              "      quickchartButtonEl.disabled = true;  // To prevent multiple clicks.\n",
              "      quickchartButtonEl.classList.add('colab-df-spinner');\n",
              "      try {\n",
              "        const charts = await google.colab.kernel.invokeFunction(\n",
              "            'suggestCharts', [key], {});\n",
              "      } catch (error) {\n",
              "        console.error('Error during call to suggestCharts:', error);\n",
              "      }\n",
              "      quickchartButtonEl.classList.remove('colab-df-spinner');\n",
              "      quickchartButtonEl.classList.add('colab-df-quickchart-complete');\n",
              "    }\n",
              "    (() => {\n",
              "      let quickchartButtonEl =\n",
              "        document.querySelector('#df-c5c24c95-744b-4e03-b83e-a8b3da0f5e83 button');\n",
              "      quickchartButtonEl.style.display =\n",
              "        google.colab.kernel.accessAllowed ? 'block' : 'none';\n",
              "    })();\n",
              "  </script>\n",
              "</div>\n",
              "\n",
              "    </div>\n",
              "  </div>\n"
            ],
            "application/vnd.google.colaboratory.intrinsic+json": {
              "type": "dataframe",
              "variable_name": "df_simlex",
              "summary": "{\n  \"name\": \"df_simlex\",\n  \"rows\": 999,\n  \"fields\": [\n    {\n      \"column\": \"word1\",\n      \"properties\": {\n        \"dtype\": \"string\",\n        \"samples\": [\n          \"south\",\n          \"apple\",\n          \"inspect\"\n        ],\n        \"num_unique_values\": 616,\n        \"semantic_type\": \"\",\n        \"description\": \"\"\n      }\n    },\n    {\n      \"column\": \"word2\",\n      \"properties\": {\n        \"dtype\": \"string\",\n        \"samples\": [\n          \"nephew\",\n          \"announce\",\n          \"father\"\n        ],\n        \"num_unique_values\": 686,\n        \"semantic_type\": \"\",\n        \"description\": \"\"\n      }\n    },\n    {\n      \"column\": \"POS\",\n      \"properties\": {\n        \"dtype\": \"category\",\n        \"samples\": [\n          \"A\",\n          \"N\",\n          \"V\"\n        ],\n        \"num_unique_values\": 3,\n        \"semantic_type\": \"\",\n        \"description\": \"\"\n      }\n    },\n    {\n      \"column\": \"SimLex999\",\n      \"properties\": {\n        \"dtype\": \"number\",\n        \"std\": 2.614663412785085,\n        \"min\": 0.23,\n        \"max\": 9.8,\n        \"samples\": [\n          9.08,\n          3.72,\n          5.58\n        ],\n        \"num_unique_values\": 344,\n        \"semantic_type\": \"\",\n        \"description\": \"\"\n      }\n    },\n    {\n      \"column\": \"glove_scores\",\n      \"properties\": {\n        \"dtype\": \"float32\",\n        \"samples\": [\n          0.5430582165718079,\n          0.6546869874000549,\n          0.6233338713645935\n        ],\n        \"num_unique_values\": 998,\n        \"semantic_type\": \"\",\n        \"description\": \"\"\n      }\n    }\n  ]\n}"
            }
          },
          "metadata": {},
          "execution_count": 41
        }
      ]
    },
    {
      "cell_type": "code",
      "source": [
        "similarity(glove_wikig, \"old\", \"new\")"
      ],
      "metadata": {
        "colab": {
          "base_uri": "https://localhost:8080/"
        },
        "id": "Ur6ehrKwR2BL",
        "outputId": "d304dabe-ba4c-475c-c9ab-f1bfca39b1d7"
      },
      "execution_count": 42,
      "outputs": [
        {
          "output_type": "execute_result",
          "data": {
            "text/plain": [
              "0.61971974"
            ]
          },
          "metadata": {},
          "execution_count": 42
        }
      ]
    },
    {
      "cell_type": "code",
      "source": [
        "import scipy\n",
        "\n",
        "scipy.stats.spearmanr(df_simlex[\"SimLex999\"], df_simlex[\"glove_scores\"]).correlation"
      ],
      "metadata": {
        "colab": {
          "base_uri": "https://localhost:8080/"
        },
        "id": "wp1uD2IWRjfS",
        "outputId": "c41c1a91-54ca-4bf9-b807-efece46f3aba"
      },
      "execution_count": 43,
      "outputs": [
        {
          "output_type": "execute_result",
          "data": {
            "text/plain": [
              "0.2645792192990813"
            ]
          },
          "metadata": {},
          "execution_count": 43
        }
      ]
    },
    {
      "cell_type": "markdown",
      "metadata": {
        "id": "Dhn8HRB13_I5"
      },
      "source": [
        "¿Tiene sentido evaluar los embeddings de los discursos presidenciales en estos benchmarks?"
      ]
    },
    {
      "cell_type": "code",
      "source": [
        "w2v_obama_scores = compute_similarities(w2v_obama.wv, df_simlex)\n",
        "scipy.stats.spearmanr(df_simlex[\"SimLex999\"], w2v_obama_scores).correlation"
      ],
      "metadata": {
        "colab": {
          "base_uri": "https://localhost:8080/"
        },
        "id": "x3prp2i7SXoH",
        "outputId": "ec225f60-4e0e-486b-9982-41fe9daee553"
      },
      "execution_count": 44,
      "outputs": [
        {
          "output_type": "stream",
          "name": "stdout",
          "text": [
            "Missing 1949 words. Will replace them with mean vector\n"
          ]
        },
        {
          "output_type": "execute_result",
          "data": {
            "text/plain": [
              "0.019195523182419714"
            ]
          },
          "metadata": {},
          "execution_count": 44
        }
      ]
    },
    {
      "cell_type": "markdown",
      "metadata": {
        "id": "pu-90o_k3_I5"
      },
      "source": [
        "## PMI\n",
        "\n",
        "Vamos a usar GloVe para computar las coocurrencias porque es más rápido que hacerlo con una función de Python."
      ]
    },
    {
      "cell_type": "code",
      "execution_count": 45,
      "metadata": {
        "colab": {
          "base_uri": "https://localhost:8080/"
        },
        "id": "GRmn3ySl3_I5",
        "outputId": "c4c77c44-7a1f-4e38-e8d2-a1fd9972cabd"
      },
      "outputs": [
        {
          "output_type": "stream",
          "name": "stdout",
          "text": [
            "Cloning into 'GloVe'...\n",
            "remote: Enumerating objects: 656, done.\u001b[K\n",
            "remote: Counting objects: 100% (64/64), done.\u001b[K\n",
            "remote: Compressing objects: 100% (32/32), done.\u001b[K\n",
            "remote: Total 656 (delta 36), reused 47 (delta 32), pack-reused 592\u001b[K\n",
            "Receiving objects: 100% (656/656), 245.96 KiB | 1.62 MiB/s, done.\n",
            "Resolving deltas: 100% (374/374), done.\n"
          ]
        }
      ],
      "source": [
        "!git clone https://github.com/stanfordnlp/GloVe.git"
      ]
    },
    {
      "cell_type": "code",
      "source": [
        "%%capture\n",
        "!cd GloVe && make"
      ],
      "metadata": {
        "id": "wHgCoi2NSqVB"
      },
      "execution_count": 46,
      "outputs": []
    },
    {
      "cell_type": "code",
      "source": [
        "# vamos a usar todos los discursos para tener mas datos:\n",
        "files = inaugural.fileids()\n",
        "presidents_corpus = \"\"\n",
        "for f in files:\n",
        "    presidents_corpus = presidents_corpus + \"\\n\" + inaugural.raw(f)\n",
        "presidents_sentences = []\n",
        "for sentence in sent_tokenize(presidents_corpus):\n",
        "    words_ = [word.lower() for word in word_tokenize(sentence) if word not in punctuation]\n",
        "    presidents_sentences.append(words_)"
      ],
      "metadata": {
        "id": "94ruL2Y4k7wm"
      },
      "execution_count": 47,
      "outputs": []
    },
    {
      "cell_type": "code",
      "source": [
        "# guardamos corpus con una oracion por linea\n",
        "with open('sentences.txt', 'w') as f:\n",
        "    for sentence in presidents_sentences:\n",
        "        f.write(' '.join(sentence) + '\\n')"
      ],
      "metadata": {
        "id": "fWsVmbTrTMdE"
      },
      "execution_count": 48,
      "outputs": []
    },
    {
      "cell_type": "code",
      "source": [
        "# generamos el vocab\n",
        "!GloVe/build/vocab_count -min-count 5 -verbose 0 < sentences.txt > vocab.txt"
      ],
      "metadata": {
        "colab": {
          "base_uri": "https://localhost:8080/"
        },
        "id": "5YaOqyq4Sw4u",
        "outputId": "3878e922-147b-4ccc-a6c0-408105fc5413"
      },
      "execution_count": 49,
      "outputs": [
        {
          "output_type": "stream",
          "name": "stdout",
          "text": [
            "BUILDING VOCABULARY\n",
            "Using vocabulary of size 2734.\n",
            "\n"
          ]
        }
      ]
    },
    {
      "cell_type": "code",
      "source": [
        "!head -2 vocab.txt"
      ],
      "metadata": {
        "colab": {
          "base_uri": "https://localhost:8080/"
        },
        "id": "hUsDyWq-UQNE",
        "outputId": "9b51d9fa-1a3c-4b34-9e7d-a1d20e6e7a8a"
      },
      "execution_count": 50,
      "outputs": [
        {
          "output_type": "stream",
          "name": "stdout",
          "text": [
            "the 10194\n",
            "of 7185\n"
          ]
        }
      ]
    },
    {
      "cell_type": "code",
      "source": [
        "# leemos el vocab como dict:\n",
        "str2count = {}\n",
        "with open(\"vocab.txt\", \"r\") as f:\n",
        "    for line in f:\n",
        "        word, count = line.split()\n",
        "        str2count[word] = int(count)\n",
        "\n",
        "str2idx = dict(zip(str2count.keys(), range(len(str2count))))"
      ],
      "metadata": {
        "id": "NpRXvCoaUT-a"
      },
      "execution_count": 51,
      "outputs": []
    },
    {
      "cell_type": "code",
      "source": [
        "str2count[\"american\"], str2idx[\"the\"]"
      ],
      "metadata": {
        "colab": {
          "base_uri": "https://localhost:8080/"
        },
        "id": "c4bzH2M2Ursw",
        "outputId": "58df0b5c-ed3f-4441-ac66-811b289ab7f2"
      },
      "execution_count": 52,
      "outputs": [
        {
          "output_type": "execute_result",
          "data": {
            "text/plain": [
              "(171, 0)"
            ]
          },
          "metadata": {},
          "execution_count": 52
        }
      ]
    },
    {
      "cell_type": "code",
      "execution_count": 53,
      "metadata": {
        "colab": {
          "base_uri": "https://localhost:8080/"
        },
        "id": "NJz0H7IS3_I6",
        "outputId": "743c70bd-bd8b-402a-cc1c-1479c2bfa9f1"
      },
      "outputs": [
        {
          "output_type": "stream",
          "name": "stdout",
          "text": [
            "COUNTING COOCCURRENCES\n",
            "\u001b[0GMerging cooccurrence files: processed 481014 lines.\n",
            "\n"
          ]
        }
      ],
      "source": [
        "# generamos un .bin con las coocurrencias\n",
        "!GloVe/build/cooccur -vocab-file vocab.txt -verbose 0 -window-size 10 -distance-weighting 0 < sentences.txt > coocs.bin\n",
        "# ventanas: +-10 sin ponderar por distancia al centro"
      ]
    },
    {
      "cell_type": "code",
      "source": [
        "# cuestiones tecnicas no importantes para leer coocs como sparse matrix\n",
        "import array\n",
        "from ctypes import Structure, c_int, c_double, sizeof\n",
        "from os import path\n",
        "from scipy import sparse\n",
        "from tqdm import tqdm\n",
        "\n",
        "class CREC(Structure):\n",
        "    \"\"\"c++ class to read triples (idx, idx, cooc) from GloVe binary file\n",
        "    \"\"\"\n",
        "    _fields_ = [('idx1', c_int),\n",
        "                ('idx2', c_int),\n",
        "                ('value', c_double)]\n",
        "\n",
        "\n",
        "class IncrementalCOOMatrix:\n",
        "    \"\"\"class to create scipy.sparse.coo_matrix\n",
        "    \"\"\"\n",
        "\n",
        "    def __init__(self, shape, dtype=np.double):\n",
        "        self.dtype = dtype\n",
        "        self.shape = shape\n",
        "        self.rows = array.array('i')\n",
        "        self.cols = array.array('i')\n",
        "        self.data = array.array('d')\n",
        "\n",
        "    def append(self, i, j, v):\n",
        "        m, n = self.shape\n",
        "        if (i >= m or j >= n):\n",
        "            raise Exception('Index out of bounds')\n",
        "        self.rows.append(i)\n",
        "        self.cols.append(j)\n",
        "        self.data.append(v)\n",
        "\n",
        "    def tocoo(self):\n",
        "        rows = np.frombuffer(self.rows, dtype=np.int32)\n",
        "        cols = np.frombuffer(self.cols, dtype=np.int32)\n",
        "        data = np.frombuffer(self.data, dtype=self.dtype)\n",
        "        return sparse.coo_matrix((data, (rows, cols)), shape=self.shape)\n",
        "\n",
        "\n",
        "def build_cooc_matrix(str2idx, cooc_file):\n",
        "    \"\"\"\n",
        "    Build full coocurrence matrix from cooc. data in binary glove file and glove vocab text file\n",
        "    Row and column indices are numeric indices from vocab_file\n",
        "    There must be (i,j) for every (j,i) such that C[i,j]=C[j,i]\n",
        "    \"\"\"\n",
        "    vocab_size = len(str2idx)  # vocab size (largest word index)\n",
        "    size_crec = sizeof(CREC)  # crec: structura de coocucrrencia en Glove\n",
        "    C = IncrementalCOOMatrix((vocab_size, vocab_size))\n",
        "    K = path.getsize(cooc_file) / size_crec # total de coocurrencias\n",
        "    pbar = tqdm(total=K)\n",
        "    # open bin file and store coocs in C\n",
        "    with open(cooc_file, 'rb') as f:\n",
        "        # read and overwrite into cr while there is data\n",
        "        cr = CREC()\n",
        "        while (f.readinto(cr) == size_crec):\n",
        "            C.append(cr.idx1-1, cr.idx2-1, cr.value) # porque glove empieza en 1\n",
        "            pbar.update(1)\n",
        "    pbar.close()\n",
        "    return C.tocoo().tocsr()"
      ],
      "metadata": {
        "id": "EA21SH4LVBio"
      },
      "execution_count": 54,
      "outputs": []
    },
    {
      "cell_type": "code",
      "source": [
        "# Ahora si!\n",
        "cooc_matrix = build_cooc_matrix(str2idx, \"coocs.bin\")\n",
        "\n",
        "def get_cooc(w1: str, w2: str, str2idx: dict = str2idx, cooc_matrix=cooc_matrix) -> float:\n",
        "    if w1 not in str2idx:\n",
        "        print(f\"{w1} not in vocab\")\n",
        "        return 0.\n",
        "    if w2 not in str2idx:\n",
        "        print(f\"{w2} not in vocab\")\n",
        "        return 0.\n",
        "    idx1 = str2idx[w1]\n",
        "    idx2 = str2idx[w2]\n",
        "    return cooc_matrix[idx1, idx2]"
      ],
      "metadata": {
        "colab": {
          "base_uri": "https://localhost:8080/"
        },
        "id": "l5iURRi3afrs",
        "outputId": "3df17910-895f-434f-b4ab-a4abccba1cf1"
      },
      "execution_count": 55,
      "outputs": [
        {
          "output_type": "stream",
          "name": "stderr",
          "text": [
            "100%|██████████| 481014/481014.0 [00:00<00:00, 699459.52it/s]\n"
          ]
        }
      ]
    },
    {
      "cell_type": "code",
      "source": [
        "# como se interpretan estos valores?\n",
        "pares = [\n",
        "    (\"the\", \"the\"), (\"of\", \"the\"), (\"the\", \"of\"), (\"united\", \"states\"), (\"americans\", \"war\")\n",
        "]\n",
        "for par in pares:\n",
        "    print(par, get_cooc(*par))"
      ],
      "metadata": {
        "colab": {
          "base_uri": "https://localhost:8080/"
        },
        "id": "luTvb45ClsNN",
        "outputId": "5d479e61-bbdc-4a7e-86df-dd426c43f180"
      },
      "execution_count": 56,
      "outputs": [
        {
          "output_type": "stream",
          "name": "stdout",
          "text": [
            "('the', 'the') 26220.0\n",
            "('of', 'the') 13142.0\n",
            "('the', 'of') 13142.0\n",
            "('united', 'states') 167.0\n",
            "('americans', 'war') 1.0\n"
          ]
        }
      ]
    },
    {
      "cell_type": "code",
      "source": [
        "# coocs. con una palabra\n",
        "idx = str2idx[\"god\"]\n",
        "coocs = cooc_matrix[idx, :].toarray()[0]\n",
        "coocs_dict = dict(zip(str2idx.keys(), coocs))\n",
        "sorted(coocs_dict.items(), key=lambda x: x[1], reverse=True)[:20]"
      ],
      "metadata": {
        "colab": {
          "base_uri": "https://localhost:8080/"
        },
        "id": "s5qNuf-ScBPV",
        "outputId": "46a4f65f-1c61-4d17-c4d7-9a0df70e9386"
      },
      "execution_count": 57,
      "outputs": [
        {
          "output_type": "execute_result",
          "data": {
            "text/plain": [
              "[('the', 92.0),\n",
              " ('and', 92.0),\n",
              " ('of', 74.0),\n",
              " ('in', 41.0),\n",
              " ('to', 38.0),\n",
              " ('our', 30.0),\n",
              " ('bless', 28.0),\n",
              " ('that', 24.0),\n",
              " (\"'s\", 22.0),\n",
              " ('you', 22.0),\n",
              " ('i', 21.0),\n",
              " ('we', 20.0),\n",
              " ('a', 15.0),\n",
              " ('almighty', 15.0),\n",
              " ('with', 14.0),\n",
              " ('america', 14.0),\n",
              " ('as', 13.0),\n",
              " ('is', 12.0),\n",
              " ('will', 12.0),\n",
              " ('may', 12.0)]"
            ]
          },
          "metadata": {},
          "execution_count": 57
        }
      ]
    },
    {
      "cell_type": "code",
      "source": [
        "def get_pmi(words_w: list, words_c: list, stridx=str2idx, cooc_matrix=cooc_matrix):\n",
        "    \"\"\"Un PMI por cada palabra en W con respecto a las palabras en C\"\"\"\n",
        "    idx_w = [str2idx[w] for w in words_w if w in stridx]\n",
        "    idx_c = [str2idx[w] for w in words_c if w in str2idx]\n",
        "    total_count = cooc_matrix.sum()\n",
        "    count_c = cooc_matrix[idx_c, :].sum()\n",
        "    counts_w = cooc_matrix.sum(axis=0)[:,idx_w]\n",
        "    counts_w_c = cooc_matrix[idx_c,:][:,idx_w].sum(axis=0)\n",
        "    return np.array(pmi(counts_w_c, counts_w, count_c, total_count)).flatten()\n",
        "\n",
        "\n",
        "def pmi(counts_wc, counts_w, count_c, count_tot):\n",
        "    \"\"\"\n",
        "    PMI for given word counts of lists of words W and C. It works vectorized accross W\n",
        "    if needed.\n",
        "    Param:\n",
        "        - counts_wc: co-ocurrence array between C and W\n",
        "        - counts_w: co-ocurrence array for W words\n",
        "        - count_c: co-ocurrence count C\n",
        "        - count_tot: total co-occurrence count\n",
        "    \"\"\"\n",
        "    numerador = counts_wc * count_tot\n",
        "    denominador = counts_w * count_c\n",
        "    res = np.log(numerador / denominador)\n",
        "    return res"
      ],
      "metadata": {
        "id": "dY_tn8tUY9hA"
      },
      "execution_count": 58,
      "outputs": []
    },
    {
      "cell_type": "code",
      "source": [
        "get_pmi([\"god\", \"america\"], [\"almighty\"])"
      ],
      "metadata": {
        "colab": {
          "base_uri": "https://localhost:8080/"
        },
        "id": "vkeHqH5tf6Bm",
        "outputId": "152cad4f-9c4d-4b54-be9c-2ab5a3e27853"
      },
      "execution_count": 59,
      "outputs": [
        {
          "output_type": "execute_result",
          "data": {
            "text/plain": [
              "array([3.81201175, 0.37664903])"
            ]
          },
          "metadata": {},
          "execution_count": 59
        }
      ]
    },
    {
      "cell_type": "code",
      "source": [
        "get_pmi([\"united\", \"country\"], [\"states\"])"
      ],
      "metadata": {
        "colab": {
          "base_uri": "https://localhost:8080/"
        },
        "id": "K1nxxt8vmX5r",
        "outputId": "48d64f29-cce1-4e1c-c6db-775d5d828b50"
      },
      "execution_count": 60,
      "outputs": [
        {
          "output_type": "execute_result",
          "data": {
            "text/plain": [
              "array([ 2.934153  , -0.53648942])"
            ]
          },
          "metadata": {},
          "execution_count": 60
        }
      ]
    },
    {
      "cell_type": "markdown",
      "metadata": {
        "id": "6hNeCkxn3_I6"
      },
      "source": [
        "¿Qué tipo de asociaciones captura PMI? ¿Y la similitud de embeddings?\n",
        "\n",
        "(OJO, estamos analizando corpus distintos)"
      ]
    },
    {
      "cell_type": "code",
      "source": [
        "most_similar(glove_wikig, \"country\")"
      ],
      "metadata": {
        "colab": {
          "base_uri": "https://localhost:8080/"
        },
        "id": "uM1_3gEmmf3R",
        "outputId": "3747be78-a875-4274-9a53-eef0ee791600"
      },
      "execution_count": 61,
      "outputs": [
        {
          "output_type": "execute_result",
          "data": {
            "text/plain": [
              "[('nation', 0.91625977),\n",
              " ('bringing', 0.871822),\n",
              " ('now', 0.8387486),\n",
              " ('countries', 0.8238735),\n",
              " ('still', 0.8222363),\n",
              " ('already', 0.8211523),\n",
              " ('far', 0.8190747),\n",
              " ('has', 0.8157515),\n",
              " ('well', 0.8132111),\n",
              " ('decades', 0.8061228)]"
            ]
          },
          "metadata": {},
          "execution_count": 61
        }
      ]
    },
    {
      "cell_type": "code",
      "source": [
        "all_words = list(str2idx.keys())\n",
        "pmis = get_pmi(all_words, [\"country\"])\n",
        "pmis_dict = dict(zip(all_words, pmis))\n",
        "sorted(pmis_dict.items(), key=lambda x: x[1], reverse=True)[:10]"
      ],
      "metadata": {
        "colab": {
          "base_uri": "https://localhost:8080/"
        },
        "id": "i672WHb3mvH2",
        "outputId": "4ea281d1-ba1a-4df3-cd33-5affb9cd5a1a"
      },
      "execution_count": 62,
      "outputs": [
        {
          "output_type": "stream",
          "name": "stderr",
          "text": [
            "<ipython-input-58-9043838fc0ce>:24: RuntimeWarning: divide by zero encountered in log\n",
            "  res = np.log(numerador / denominador)\n"
          ]
        },
        {
          "output_type": "execute_result",
          "data": {
            "text/plain": [
              "[('beloved', 2.87804230551936),\n",
              " ('ashamed', 2.7751478823567273),\n",
              " ('father', 2.5440361613933407),\n",
              " ('sake', 2.448245096751665),\n",
              " ('believes', 2.4386756457355143),\n",
              " ('extensive', 2.3921556301006213),\n",
              " ('summoned', 2.3433654659311896),\n",
              " ('section', 2.2839420454603885),\n",
              " ('title', 2.28045164052062),\n",
              " ('ardent', 2.2683302799882754)]"
            ]
          },
          "metadata": {},
          "execution_count": 62
        }
      ]
    },
    {
      "cell_type": "code",
      "execution_count": 63,
      "metadata": {
        "colab": {
          "base_uri": "https://localhost:8080/"
        },
        "id": "_Veweiul3_I6",
        "outputId": "e4494921-cb23-4c95-b7ae-47d91f1ff23c"
      },
      "outputs": [
        {
          "output_type": "stream",
          "name": "stdout",
          "text": [
            "0.89199126\n",
            "0.79648936\n",
            "0.18132898\n",
            "0.9058137\n"
          ]
        }
      ],
      "source": [
        "# Cómo medimos coocurrencias de primer orden? Qué miden los embeddings?\n",
        "print(glove_wikig.n_similarity([\"very\"], [\"good\"]))\n",
        "print(glove_wikig.n_similarity([\"bad\"], [\"good\"]))\n",
        "print(glove_wikig.n_similarity([\"watermelon\"], [\"good\"]))\n",
        "print(glove_wikig.n_similarity([\"black\"], [\"white\"]))"
      ]
    },
    {
      "cell_type": "markdown",
      "metadata": {
        "id": "ETdqHYLa3_I6"
      },
      "source": [
        "## Bonus track\n",
        "\n",
        "Identificacion de collocations con nPMI"
      ]
    },
    {
      "cell_type": "code",
      "execution_count": 64,
      "metadata": {
        "id": "icC2GofJ3_I6"
      },
      "outputs": [],
      "source": [
        "from gensim.models.phrases import Phrases, ENGLISH_CONNECTOR_WORDS\n",
        "\n",
        "collocations_model = Phrases(\n",
        "    sentences=obama_sentences,\n",
        "    min_count=3, threshold=.8, # valor umbral de NPMI\n",
        "    scoring='npmi', connector_words=ENGLISH_CONNECTOR_WORDS)"
      ]
    },
    {
      "cell_type": "code",
      "source": [
        "collocations_model.export_phrases()"
      ],
      "metadata": {
        "colab": {
          "base_uri": "https://localhost:8080/"
        },
        "id": "6j1S_jOe_gJ-",
        "outputId": "5f94d176-0ae7-413d-899d-abc4a93c2ed6"
      },
      "execution_count": 65,
      "outputs": [
        {
          "output_type": "execute_result",
          "data": {
            "text/plain": [
              "{'my_fellow': 0.8909582035968001,\n",
              " 'health_care': 0.9053459170173651,\n",
              " 'men_and_women': 0.9767488312387391,\n",
              " 'god_bless': 0.8106918340347303,\n",
              " 'united_states': 0.9607150061023549,\n",
              " 'complete_until': 1.0}"
            ]
          },
          "metadata": {},
          "execution_count": 65
        }
      ]
    },
    {
      "cell_type": "code",
      "execution_count": 66,
      "metadata": {
        "id": "0tRlNMzk3_I7"
      },
      "outputs": [],
      "source": [
        "sentences_with_collocations = collocations_model[obama_sentences]"
      ]
    },
    {
      "cell_type": "code",
      "execution_count": 67,
      "metadata": {
        "colab": {
          "base_uri": "https://localhost:8080/"
        },
        "id": "2Ca_65vM3_I7",
        "outputId": "8f37e5bc-c9e1-4de8-fc98-1c8d807990d0"
      },
      "outputs": [
        {
          "output_type": "stream",
          "name": "stdout",
          "text": [
            "['my_fellow', 'citizens', 'i', 'stand', 'here', 'today', 'humbled', 'by', 'the', 'task', 'before', 'us', 'grateful', 'for', 'the', 'trust', 'you', 'have', 'bestowed', 'mindful', 'of', 'the', 'sacrifices', 'borne', 'by', 'our', 'ancestors']\n",
            "['god_bless', 'you', 'and', 'may', 'he', 'forever', 'bless', 'these', 'united_states', 'of', 'america']\n"
          ]
        }
      ],
      "source": [
        "print(sentences_with_collocations[0])\n",
        "print(sentences_with_collocations[-1])"
      ]
    },
    {
      "cell_type": "code",
      "execution_count": 68,
      "metadata": {
        "id": "uW3VK7jw3_I7"
      },
      "outputs": [],
      "source": [
        "# ahora podemos entrenar embeddings considerando las collocations como tokens:\n",
        "# w2v_model = Word2Vec(sentences_with_collocations, ...)"
      ]
    },
    {
      "cell_type": "code",
      "source": [],
      "metadata": {
        "id": "QRaI422CpWWx"
      },
      "execution_count": null,
      "outputs": []
    }
  ],
  "metadata": {
    "kernelspec": {
      "display_name": "py39",
      "language": "python",
      "name": "python3"
    },
    "language_info": {
      "codemirror_mode": {
        "name": "ipython",
        "version": 3
      },
      "file_extension": ".py",
      "mimetype": "text/x-python",
      "name": "python",
      "nbconvert_exporter": "python",
      "pygments_lexer": "ipython3",
      "version": "3.9.13"
    },
    "colab": {
      "provenance": [],
      "toc_visible": true
    }
  },
  "nbformat": 4,
  "nbformat_minor": 0
}