{
  "nbformat": 4,
  "nbformat_minor": 0,
  "metadata": {
    "colab": {
      "provenance": [],
      "authorship_tag": "ABX9TyMAiB3CJlh3FVbKETptUEVw",
      "include_colab_link": true
    },
    "kernelspec": {
      "name": "python3",
      "display_name": "Python 3"
    },
    "language_info": {
      "name": "python"
    }
  },
  "cells": [
    {
      "cell_type": "markdown",
      "metadata": {
        "id": "view-in-github",
        "colab_type": "text"
      },
      "source": [
        "<a href=\"https://colab.research.google.com/github/LCaravaggio/NLP/blob/main/02_b%C3%A1sicas/Algoritmo_Min_Edit_Distance.ipynb\" target=\"_parent\"><img src=\"https://colab.research.google.com/assets/colab-badge.svg\" alt=\"Open In Colab\"/></a>"
      ]
    },
    {
      "cell_type": "code",
      "execution_count": 4,
      "metadata": {
        "id": "dP7fWPf4ZJ5S"
      },
      "outputs": [],
      "source": [
        "def edit_distance(str1, str2):\n",
        "    a=len(str1) # Largo del string 1\n",
        "    b=len(str2) # Largo del string 2\n",
        "    string_matrix = [[0 for i in range(b+1)] for i in range(a+1)]\n",
        "    for i in range(a+1):      # For que recorre desde 0 hasta el largo del string 1\n",
        "        for j in range(b+1):  # For que recorre desde 0 hasta el largo del string 2\n",
        "            if i == 0:\n",
        "                string_matrix[i][j] = j   # Si el string 1 está vacío entonces inserta todos los caracteres del segundo en el primero\n",
        "            elif j == 0:\n",
        "                string_matrix[i][j] = i   # Si el segundo string está vacío, borra todos los caracteres del primero\n",
        "            elif str1[i-1] == str2[j-1]:\n",
        "                string_matrix[i][j] = string_matrix[i-1][j-1]  # Si los últimos caracteres de dos cadenas son iguales, no hay mucho que hacer. Ignorar los dos últimos caracteres y obtener el recuento de las cadenas restantes.\n",
        "            else:\n",
        "                string_matrix[i][j] = 1 + min(string_matrix[i][j-1],  # (I) Inserción\n",
        "                                       string_matrix[i-1][j],         # (D) Eliminación\n",
        "                                       string_matrix[i-1][j-1])       # (S) Reemplazo\n",
        "    return string_matrix[a][b]"
      ]
    },
    {
      "cell_type": "code",
      "source": [
        "edit_distance('Intention', 'Execution')"
      ],
      "metadata": {
        "colab": {
          "base_uri": "https://localhost:8080/"
        },
        "id": "A9ZfYGQxZP_m",
        "outputId": "573a5e43-9370-46e9-d47f-e248de43999b"
      },
      "execution_count": 5,
      "outputs": [
        {
          "output_type": "execute_result",
          "data": {
            "text/plain": [
              "5"
            ]
          },
          "metadata": {},
          "execution_count": 5
        }
      ]
    }
  ]
}