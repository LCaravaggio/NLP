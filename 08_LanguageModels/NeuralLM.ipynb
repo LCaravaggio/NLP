{
  "nbformat": 4,
  "nbformat_minor": 0,
  "metadata": {
    "colab": {
      "provenance": [],
      "toc_visible": true,
      "authorship_tag": "ABX9TyNe/gAZVzxCCnlvN30NjEmE",
      "include_colab_link": true
    },
    "kernelspec": {
      "name": "python3",
      "display_name": "Python 3"
    },
    "language_info": {
      "name": "python"
    },
    "accelerator": "GPU",
    "widgets": {
      "application/vnd.jupyter.widget-state+json": {
        "669c01cbe2404bf4b9a0a07fda680730": {
          "model_module": "@jupyter-widgets/controls",
          "model_name": "HBoxModel",
          "model_module_version": "1.5.0",
          "state": {
            "_dom_classes": [],
            "_model_module": "@jupyter-widgets/controls",
            "_model_module_version": "1.5.0",
            "_model_name": "HBoxModel",
            "_view_count": null,
            "_view_module": "@jupyter-widgets/controls",
            "_view_module_version": "1.5.0",
            "_view_name": "HBoxView",
            "box_style": "",
            "children": [
              "IPY_MODEL_4564721c43c849b9b5d5c513dcf2c330",
              "IPY_MODEL_abc6c55c74a24e848997adc92c2b69fc",
              "IPY_MODEL_a62b2d20f99540b8bf3b3c0b883a9e3e"
            ],
            "layout": "IPY_MODEL_2ff780d2cede456c8019cb1e2b1ae1eb"
          }
        },
        "4564721c43c849b9b5d5c513dcf2c330": {
          "model_module": "@jupyter-widgets/controls",
          "model_name": "HTMLModel",
          "model_module_version": "1.5.0",
          "state": {
            "_dom_classes": [],
            "_model_module": "@jupyter-widgets/controls",
            "_model_module_version": "1.5.0",
            "_model_name": "HTMLModel",
            "_view_count": null,
            "_view_module": "@jupyter-widgets/controls",
            "_view_module_version": "1.5.0",
            "_view_name": "HTMLView",
            "description": "",
            "description_tooltip": null,
            "layout": "IPY_MODEL_c9fa8e212d554231b45a470691ed5941",
            "placeholder": "​",
            "style": "IPY_MODEL_53025e9b705142f0885040b5e5ced2a2",
            "value": "Downloading builder script: 100%"
          }
        },
        "abc6c55c74a24e848997adc92c2b69fc": {
          "model_module": "@jupyter-widgets/controls",
          "model_name": "FloatProgressModel",
          "model_module_version": "1.5.0",
          "state": {
            "_dom_classes": [],
            "_model_module": "@jupyter-widgets/controls",
            "_model_module_version": "1.5.0",
            "_model_name": "FloatProgressModel",
            "_view_count": null,
            "_view_module": "@jupyter-widgets/controls",
            "_view_module_version": "1.5.0",
            "_view_name": "ProgressView",
            "bar_style": "success",
            "description": "",
            "description_tooltip": null,
            "layout": "IPY_MODEL_615c9f6affac483e8d0b218aec52fc7e",
            "max": 4412,
            "min": 0,
            "orientation": "horizontal",
            "style": "IPY_MODEL_b6e05e9e6d2c4a0283e676c00bdda85d",
            "value": 4412
          }
        },
        "a62b2d20f99540b8bf3b3c0b883a9e3e": {
          "model_module": "@jupyter-widgets/controls",
          "model_name": "HTMLModel",
          "model_module_version": "1.5.0",
          "state": {
            "_dom_classes": [],
            "_model_module": "@jupyter-widgets/controls",
            "_model_module_version": "1.5.0",
            "_model_name": "HTMLModel",
            "_view_count": null,
            "_view_module": "@jupyter-widgets/controls",
            "_view_module_version": "1.5.0",
            "_view_name": "HTMLView",
            "description": "",
            "description_tooltip": null,
            "layout": "IPY_MODEL_21ca2a351fa04f3695acd22450ddecb6",
            "placeholder": "​",
            "style": "IPY_MODEL_e4e3488428f34eec8c01133d520ae40a",
            "value": " 4.41k/4.41k [00:00&lt;00:00, 293kB/s]"
          }
        },
        "2ff780d2cede456c8019cb1e2b1ae1eb": {
          "model_module": "@jupyter-widgets/base",
          "model_name": "LayoutModel",
          "model_module_version": "1.2.0",
          "state": {
            "_model_module": "@jupyter-widgets/base",
            "_model_module_version": "1.2.0",
            "_model_name": "LayoutModel",
            "_view_count": null,
            "_view_module": "@jupyter-widgets/base",
            "_view_module_version": "1.2.0",
            "_view_name": "LayoutView",
            "align_content": null,
            "align_items": null,
            "align_self": null,
            "border": null,
            "bottom": null,
            "display": null,
            "flex": null,
            "flex_flow": null,
            "grid_area": null,
            "grid_auto_columns": null,
            "grid_auto_flow": null,
            "grid_auto_rows": null,
            "grid_column": null,
            "grid_gap": null,
            "grid_row": null,
            "grid_template_areas": null,
            "grid_template_columns": null,
            "grid_template_rows": null,
            "height": null,
            "justify_content": null,
            "justify_items": null,
            "left": null,
            "margin": null,
            "max_height": null,
            "max_width": null,
            "min_height": null,
            "min_width": null,
            "object_fit": null,
            "object_position": null,
            "order": null,
            "overflow": null,
            "overflow_x": null,
            "overflow_y": null,
            "padding": null,
            "right": null,
            "top": null,
            "visibility": null,
            "width": null
          }
        },
        "c9fa8e212d554231b45a470691ed5941": {
          "model_module": "@jupyter-widgets/base",
          "model_name": "LayoutModel",
          "model_module_version": "1.2.0",
          "state": {
            "_model_module": "@jupyter-widgets/base",
            "_model_module_version": "1.2.0",
            "_model_name": "LayoutModel",
            "_view_count": null,
            "_view_module": "@jupyter-widgets/base",
            "_view_module_version": "1.2.0",
            "_view_name": "LayoutView",
            "align_content": null,
            "align_items": null,
            "align_self": null,
            "border": null,
            "bottom": null,
            "display": null,
            "flex": null,
            "flex_flow": null,
            "grid_area": null,
            "grid_auto_columns": null,
            "grid_auto_flow": null,
            "grid_auto_rows": null,
            "grid_column": null,
            "grid_gap": null,
            "grid_row": null,
            "grid_template_areas": null,
            "grid_template_columns": null,
            "grid_template_rows": null,
            "height": null,
            "justify_content": null,
            "justify_items": null,
            "left": null,
            "margin": null,
            "max_height": null,
            "max_width": null,
            "min_height": null,
            "min_width": null,
            "object_fit": null,
            "object_position": null,
            "order": null,
            "overflow": null,
            "overflow_x": null,
            "overflow_y": null,
            "padding": null,
            "right": null,
            "top": null,
            "visibility": null,
            "width": null
          }
        },
        "53025e9b705142f0885040b5e5ced2a2": {
          "model_module": "@jupyter-widgets/controls",
          "model_name": "DescriptionStyleModel",
          "model_module_version": "1.5.0",
          "state": {
            "_model_module": "@jupyter-widgets/controls",
            "_model_module_version": "1.5.0",
            "_model_name": "DescriptionStyleModel",
            "_view_count": null,
            "_view_module": "@jupyter-widgets/base",
            "_view_module_version": "1.2.0",
            "_view_name": "StyleView",
            "description_width": ""
          }
        },
        "615c9f6affac483e8d0b218aec52fc7e": {
          "model_module": "@jupyter-widgets/base",
          "model_name": "LayoutModel",
          "model_module_version": "1.2.0",
          "state": {
            "_model_module": "@jupyter-widgets/base",
            "_model_module_version": "1.2.0",
            "_model_name": "LayoutModel",
            "_view_count": null,
            "_view_module": "@jupyter-widgets/base",
            "_view_module_version": "1.2.0",
            "_view_name": "LayoutView",
            "align_content": null,
            "align_items": null,
            "align_self": null,
            "border": null,
            "bottom": null,
            "display": null,
            "flex": null,
            "flex_flow": null,
            "grid_area": null,
            "grid_auto_columns": null,
            "grid_auto_flow": null,
            "grid_auto_rows": null,
            "grid_column": null,
            "grid_gap": null,
            "grid_row": null,
            "grid_template_areas": null,
            "grid_template_columns": null,
            "grid_template_rows": null,
            "height": null,
            "justify_content": null,
            "justify_items": null,
            "left": null,
            "margin": null,
            "max_height": null,
            "max_width": null,
            "min_height": null,
            "min_width": null,
            "object_fit": null,
            "object_position": null,
            "order": null,
            "overflow": null,
            "overflow_x": null,
            "overflow_y": null,
            "padding": null,
            "right": null,
            "top": null,
            "visibility": null,
            "width": null
          }
        },
        "b6e05e9e6d2c4a0283e676c00bdda85d": {
          "model_module": "@jupyter-widgets/controls",
          "model_name": "ProgressStyleModel",
          "model_module_version": "1.5.0",
          "state": {
            "_model_module": "@jupyter-widgets/controls",
            "_model_module_version": "1.5.0",
            "_model_name": "ProgressStyleModel",
            "_view_count": null,
            "_view_module": "@jupyter-widgets/base",
            "_view_module_version": "1.2.0",
            "_view_name": "StyleView",
            "bar_color": null,
            "description_width": ""
          }
        },
        "21ca2a351fa04f3695acd22450ddecb6": {
          "model_module": "@jupyter-widgets/base",
          "model_name": "LayoutModel",
          "model_module_version": "1.2.0",
          "state": {
            "_model_module": "@jupyter-widgets/base",
            "_model_module_version": "1.2.0",
            "_model_name": "LayoutModel",
            "_view_count": null,
            "_view_module": "@jupyter-widgets/base",
            "_view_module_version": "1.2.0",
            "_view_name": "LayoutView",
            "align_content": null,
            "align_items": null,
            "align_self": null,
            "border": null,
            "bottom": null,
            "display": null,
            "flex": null,
            "flex_flow": null,
            "grid_area": null,
            "grid_auto_columns": null,
            "grid_auto_flow": null,
            "grid_auto_rows": null,
            "grid_column": null,
            "grid_gap": null,
            "grid_row": null,
            "grid_template_areas": null,
            "grid_template_columns": null,
            "grid_template_rows": null,
            "height": null,
            "justify_content": null,
            "justify_items": null,
            "left": null,
            "margin": null,
            "max_height": null,
            "max_width": null,
            "min_height": null,
            "min_width": null,
            "object_fit": null,
            "object_position": null,
            "order": null,
            "overflow": null,
            "overflow_x": null,
            "overflow_y": null,
            "padding": null,
            "right": null,
            "top": null,
            "visibility": null,
            "width": null
          }
        },
        "e4e3488428f34eec8c01133d520ae40a": {
          "model_module": "@jupyter-widgets/controls",
          "model_name": "DescriptionStyleModel",
          "model_module_version": "1.5.0",
          "state": {
            "_model_module": "@jupyter-widgets/controls",
            "_model_module_version": "1.5.0",
            "_model_name": "DescriptionStyleModel",
            "_view_count": null,
            "_view_module": "@jupyter-widgets/base",
            "_view_module_version": "1.2.0",
            "_view_name": "StyleView",
            "description_width": ""
          }
        },
        "d44b94fa89734d8b8ff8702e6952902b": {
          "model_module": "@jupyter-widgets/controls",
          "model_name": "HBoxModel",
          "model_module_version": "1.5.0",
          "state": {
            "_dom_classes": [],
            "_model_module": "@jupyter-widgets/controls",
            "_model_module_version": "1.5.0",
            "_model_name": "HBoxModel",
            "_view_count": null,
            "_view_module": "@jupyter-widgets/controls",
            "_view_module_version": "1.5.0",
            "_view_name": "HBoxView",
            "box_style": "",
            "children": [
              "IPY_MODEL_5a682ee2b95f4122b4fa961c888433b3",
              "IPY_MODEL_91a893f361c841fc924c0b691c263217",
              "IPY_MODEL_ddf9b6bc998d4932822fba744a086348"
            ],
            "layout": "IPY_MODEL_5e7a202f935c4d4c81beaa0abcb17a4d"
          }
        },
        "5a682ee2b95f4122b4fa961c888433b3": {
          "model_module": "@jupyter-widgets/controls",
          "model_name": "HTMLModel",
          "model_module_version": "1.5.0",
          "state": {
            "_dom_classes": [],
            "_model_module": "@jupyter-widgets/controls",
            "_model_module_version": "1.5.0",
            "_model_name": "HTMLModel",
            "_view_count": null,
            "_view_module": "@jupyter-widgets/controls",
            "_view_module_version": "1.5.0",
            "_view_name": "HTMLView",
            "description": "",
            "description_tooltip": null,
            "layout": "IPY_MODEL_73becfa965e94083a39ba0a144ba9b5c",
            "placeholder": "​",
            "style": "IPY_MODEL_49f3b93427c5406fb53febb835d77eec",
            "value": "Downloading metadata: 100%"
          }
        },
        "91a893f361c841fc924c0b691c263217": {
          "model_module": "@jupyter-widgets/controls",
          "model_name": "FloatProgressModel",
          "model_module_version": "1.5.0",
          "state": {
            "_dom_classes": [],
            "_model_module": "@jupyter-widgets/controls",
            "_model_module_version": "1.5.0",
            "_model_name": "FloatProgressModel",
            "_view_count": null,
            "_view_module": "@jupyter-widgets/controls",
            "_view_module_version": "1.5.0",
            "_view_name": "ProgressView",
            "bar_style": "success",
            "description": "",
            "description_tooltip": null,
            "layout": "IPY_MODEL_a65cf86ae985483d85a0fefd64d67aaa",
            "max": 2035,
            "min": 0,
            "orientation": "horizontal",
            "style": "IPY_MODEL_a76edf0c2116493ba9ba70c35f9e09c2",
            "value": 2035
          }
        },
        "ddf9b6bc998d4932822fba744a086348": {
          "model_module": "@jupyter-widgets/controls",
          "model_name": "HTMLModel",
          "model_module_version": "1.5.0",
          "state": {
            "_dom_classes": [],
            "_model_module": "@jupyter-widgets/controls",
            "_model_module_version": "1.5.0",
            "_model_name": "HTMLModel",
            "_view_count": null,
            "_view_module": "@jupyter-widgets/controls",
            "_view_module_version": "1.5.0",
            "_view_name": "HTMLView",
            "description": "",
            "description_tooltip": null,
            "layout": "IPY_MODEL_866a0244657e46daa04f40faebbd04ab",
            "placeholder": "​",
            "style": "IPY_MODEL_7f212808523d4bd78b559bb654837164",
            "value": " 2.04k/2.04k [00:00&lt;00:00, 137kB/s]"
          }
        },
        "5e7a202f935c4d4c81beaa0abcb17a4d": {
          "model_module": "@jupyter-widgets/base",
          "model_name": "LayoutModel",
          "model_module_version": "1.2.0",
          "state": {
            "_model_module": "@jupyter-widgets/base",
            "_model_module_version": "1.2.0",
            "_model_name": "LayoutModel",
            "_view_count": null,
            "_view_module": "@jupyter-widgets/base",
            "_view_module_version": "1.2.0",
            "_view_name": "LayoutView",
            "align_content": null,
            "align_items": null,
            "align_self": null,
            "border": null,
            "bottom": null,
            "display": null,
            "flex": null,
            "flex_flow": null,
            "grid_area": null,
            "grid_auto_columns": null,
            "grid_auto_flow": null,
            "grid_auto_rows": null,
            "grid_column": null,
            "grid_gap": null,
            "grid_row": null,
            "grid_template_areas": null,
            "grid_template_columns": null,
            "grid_template_rows": null,
            "height": null,
            "justify_content": null,
            "justify_items": null,
            "left": null,
            "margin": null,
            "max_height": null,
            "max_width": null,
            "min_height": null,
            "min_width": null,
            "object_fit": null,
            "object_position": null,
            "order": null,
            "overflow": null,
            "overflow_x": null,
            "overflow_y": null,
            "padding": null,
            "right": null,
            "top": null,
            "visibility": null,
            "width": null
          }
        },
        "73becfa965e94083a39ba0a144ba9b5c": {
          "model_module": "@jupyter-widgets/base",
          "model_name": "LayoutModel",
          "model_module_version": "1.2.0",
          "state": {
            "_model_module": "@jupyter-widgets/base",
            "_model_module_version": "1.2.0",
            "_model_name": "LayoutModel",
            "_view_count": null,
            "_view_module": "@jupyter-widgets/base",
            "_view_module_version": "1.2.0",
            "_view_name": "LayoutView",
            "align_content": null,
            "align_items": null,
            "align_self": null,
            "border": null,
            "bottom": null,
            "display": null,
            "flex": null,
            "flex_flow": null,
            "grid_area": null,
            "grid_auto_columns": null,
            "grid_auto_flow": null,
            "grid_auto_rows": null,
            "grid_column": null,
            "grid_gap": null,
            "grid_row": null,
            "grid_template_areas": null,
            "grid_template_columns": null,
            "grid_template_rows": null,
            "height": null,
            "justify_content": null,
            "justify_items": null,
            "left": null,
            "margin": null,
            "max_height": null,
            "max_width": null,
            "min_height": null,
            "min_width": null,
            "object_fit": null,
            "object_position": null,
            "order": null,
            "overflow": null,
            "overflow_x": null,
            "overflow_y": null,
            "padding": null,
            "right": null,
            "top": null,
            "visibility": null,
            "width": null
          }
        },
        "49f3b93427c5406fb53febb835d77eec": {
          "model_module": "@jupyter-widgets/controls",
          "model_name": "DescriptionStyleModel",
          "model_module_version": "1.5.0",
          "state": {
            "_model_module": "@jupyter-widgets/controls",
            "_model_module_version": "1.5.0",
            "_model_name": "DescriptionStyleModel",
            "_view_count": null,
            "_view_module": "@jupyter-widgets/base",
            "_view_module_version": "1.2.0",
            "_view_name": "StyleView",
            "description_width": ""
          }
        },
        "a65cf86ae985483d85a0fefd64d67aaa": {
          "model_module": "@jupyter-widgets/base",
          "model_name": "LayoutModel",
          "model_module_version": "1.2.0",
          "state": {
            "_model_module": "@jupyter-widgets/base",
            "_model_module_version": "1.2.0",
            "_model_name": "LayoutModel",
            "_view_count": null,
            "_view_module": "@jupyter-widgets/base",
            "_view_module_version": "1.2.0",
            "_view_name": "LayoutView",
            "align_content": null,
            "align_items": null,
            "align_self": null,
            "border": null,
            "bottom": null,
            "display": null,
            "flex": null,
            "flex_flow": null,
            "grid_area": null,
            "grid_auto_columns": null,
            "grid_auto_flow": null,
            "grid_auto_rows": null,
            "grid_column": null,
            "grid_gap": null,
            "grid_row": null,
            "grid_template_areas": null,
            "grid_template_columns": null,
            "grid_template_rows": null,
            "height": null,
            "justify_content": null,
            "justify_items": null,
            "left": null,
            "margin": null,
            "max_height": null,
            "max_width": null,
            "min_height": null,
            "min_width": null,
            "object_fit": null,
            "object_position": null,
            "order": null,
            "overflow": null,
            "overflow_x": null,
            "overflow_y": null,
            "padding": null,
            "right": null,
            "top": null,
            "visibility": null,
            "width": null
          }
        },
        "a76edf0c2116493ba9ba70c35f9e09c2": {
          "model_module": "@jupyter-widgets/controls",
          "model_name": "ProgressStyleModel",
          "model_module_version": "1.5.0",
          "state": {
            "_model_module": "@jupyter-widgets/controls",
            "_model_module_version": "1.5.0",
            "_model_name": "ProgressStyleModel",
            "_view_count": null,
            "_view_module": "@jupyter-widgets/base",
            "_view_module_version": "1.2.0",
            "_view_name": "StyleView",
            "bar_color": null,
            "description_width": ""
          }
        },
        "866a0244657e46daa04f40faebbd04ab": {
          "model_module": "@jupyter-widgets/base",
          "model_name": "LayoutModel",
          "model_module_version": "1.2.0",
          "state": {
            "_model_module": "@jupyter-widgets/base",
            "_model_module_version": "1.2.0",
            "_model_name": "LayoutModel",
            "_view_count": null,
            "_view_module": "@jupyter-widgets/base",
            "_view_module_version": "1.2.0",
            "_view_name": "LayoutView",
            "align_content": null,
            "align_items": null,
            "align_self": null,
            "border": null,
            "bottom": null,
            "display": null,
            "flex": null,
            "flex_flow": null,
            "grid_area": null,
            "grid_auto_columns": null,
            "grid_auto_flow": null,
            "grid_auto_rows": null,
            "grid_column": null,
            "grid_gap": null,
            "grid_row": null,
            "grid_template_areas": null,
            "grid_template_columns": null,
            "grid_template_rows": null,
            "height": null,
            "justify_content": null,
            "justify_items": null,
            "left": null,
            "margin": null,
            "max_height": null,
            "max_width": null,
            "min_height": null,
            "min_width": null,
            "object_fit": null,
            "object_position": null,
            "order": null,
            "overflow": null,
            "overflow_x": null,
            "overflow_y": null,
            "padding": null,
            "right": null,
            "top": null,
            "visibility": null,
            "width": null
          }
        },
        "7f212808523d4bd78b559bb654837164": {
          "model_module": "@jupyter-widgets/controls",
          "model_name": "DescriptionStyleModel",
          "model_module_version": "1.5.0",
          "state": {
            "_model_module": "@jupyter-widgets/controls",
            "_model_module_version": "1.5.0",
            "_model_name": "DescriptionStyleModel",
            "_view_count": null,
            "_view_module": "@jupyter-widgets/base",
            "_view_module_version": "1.2.0",
            "_view_name": "StyleView",
            "description_width": ""
          }
        },
        "679a6155b11c42c79ed7e95926e8f44c": {
          "model_module": "@jupyter-widgets/controls",
          "model_name": "HBoxModel",
          "model_module_version": "1.5.0",
          "state": {
            "_dom_classes": [],
            "_model_module": "@jupyter-widgets/controls",
            "_model_module_version": "1.5.0",
            "_model_name": "HBoxModel",
            "_view_count": null,
            "_view_module": "@jupyter-widgets/controls",
            "_view_module_version": "1.5.0",
            "_view_name": "HBoxView",
            "box_style": "",
            "children": [
              "IPY_MODEL_1770f2c1ec234caabf2a723a3a85e16a",
              "IPY_MODEL_945236d3badc4ec49360e3b823c8f698",
              "IPY_MODEL_6e0fcd06c4524768abe473cc95be6860"
            ],
            "layout": "IPY_MODEL_cbeb35e471c74a4f94ec5dd6d339a121"
          }
        },
        "1770f2c1ec234caabf2a723a3a85e16a": {
          "model_module": "@jupyter-widgets/controls",
          "model_name": "HTMLModel",
          "model_module_version": "1.5.0",
          "state": {
            "_dom_classes": [],
            "_model_module": "@jupyter-widgets/controls",
            "_model_module_version": "1.5.0",
            "_model_name": "HTMLModel",
            "_view_count": null,
            "_view_module": "@jupyter-widgets/controls",
            "_view_module_version": "1.5.0",
            "_view_name": "HTMLView",
            "description": "",
            "description_tooltip": null,
            "layout": "IPY_MODEL_cf02146dd9234c60bfc6fb3cfa988bb1",
            "placeholder": "​",
            "style": "IPY_MODEL_40bdeaf1427845f788c0283a24d7f468",
            "value": "Downloading readme: 100%"
          }
        },
        "945236d3badc4ec49360e3b823c8f698": {
          "model_module": "@jupyter-widgets/controls",
          "model_name": "FloatProgressModel",
          "model_module_version": "1.5.0",
          "state": {
            "_dom_classes": [],
            "_model_module": "@jupyter-widgets/controls",
            "_model_module_version": "1.5.0",
            "_model_name": "FloatProgressModel",
            "_view_count": null,
            "_view_module": "@jupyter-widgets/controls",
            "_view_module_version": "1.5.0",
            "_view_name": "ProgressView",
            "bar_style": "success",
            "description": "",
            "description_tooltip": null,
            "layout": "IPY_MODEL_630adad003e34c43ae7e018d6e9ac404",
            "max": 6551,
            "min": 0,
            "orientation": "horizontal",
            "style": "IPY_MODEL_e9d14d798e864758b9879371cbf55d0f",
            "value": 6551
          }
        },
        "6e0fcd06c4524768abe473cc95be6860": {
          "model_module": "@jupyter-widgets/controls",
          "model_name": "HTMLModel",
          "model_module_version": "1.5.0",
          "state": {
            "_dom_classes": [],
            "_model_module": "@jupyter-widgets/controls",
            "_model_module_version": "1.5.0",
            "_model_name": "HTMLModel",
            "_view_count": null,
            "_view_module": "@jupyter-widgets/controls",
            "_view_module_version": "1.5.0",
            "_view_name": "HTMLView",
            "description": "",
            "description_tooltip": null,
            "layout": "IPY_MODEL_31dc66918f574e488632cecc4a1b8a3d",
            "placeholder": "​",
            "style": "IPY_MODEL_6e78db466bc94ec3ac24073643d6c356",
            "value": " 6.55k/6.55k [00:00&lt;00:00, 247kB/s]"
          }
        },
        "cbeb35e471c74a4f94ec5dd6d339a121": {
          "model_module": "@jupyter-widgets/base",
          "model_name": "LayoutModel",
          "model_module_version": "1.2.0",
          "state": {
            "_model_module": "@jupyter-widgets/base",
            "_model_module_version": "1.2.0",
            "_model_name": "LayoutModel",
            "_view_count": null,
            "_view_module": "@jupyter-widgets/base",
            "_view_module_version": "1.2.0",
            "_view_name": "LayoutView",
            "align_content": null,
            "align_items": null,
            "align_self": null,
            "border": null,
            "bottom": null,
            "display": null,
            "flex": null,
            "flex_flow": null,
            "grid_area": null,
            "grid_auto_columns": null,
            "grid_auto_flow": null,
            "grid_auto_rows": null,
            "grid_column": null,
            "grid_gap": null,
            "grid_row": null,
            "grid_template_areas": null,
            "grid_template_columns": null,
            "grid_template_rows": null,
            "height": null,
            "justify_content": null,
            "justify_items": null,
            "left": null,
            "margin": null,
            "max_height": null,
            "max_width": null,
            "min_height": null,
            "min_width": null,
            "object_fit": null,
            "object_position": null,
            "order": null,
            "overflow": null,
            "overflow_x": null,
            "overflow_y": null,
            "padding": null,
            "right": null,
            "top": null,
            "visibility": null,
            "width": null
          }
        },
        "cf02146dd9234c60bfc6fb3cfa988bb1": {
          "model_module": "@jupyter-widgets/base",
          "model_name": "LayoutModel",
          "model_module_version": "1.2.0",
          "state": {
            "_model_module": "@jupyter-widgets/base",
            "_model_module_version": "1.2.0",
            "_model_name": "LayoutModel",
            "_view_count": null,
            "_view_module": "@jupyter-widgets/base",
            "_view_module_version": "1.2.0",
            "_view_name": "LayoutView",
            "align_content": null,
            "align_items": null,
            "align_self": null,
            "border": null,
            "bottom": null,
            "display": null,
            "flex": null,
            "flex_flow": null,
            "grid_area": null,
            "grid_auto_columns": null,
            "grid_auto_flow": null,
            "grid_auto_rows": null,
            "grid_column": null,
            "grid_gap": null,
            "grid_row": null,
            "grid_template_areas": null,
            "grid_template_columns": null,
            "grid_template_rows": null,
            "height": null,
            "justify_content": null,
            "justify_items": null,
            "left": null,
            "margin": null,
            "max_height": null,
            "max_width": null,
            "min_height": null,
            "min_width": null,
            "object_fit": null,
            "object_position": null,
            "order": null,
            "overflow": null,
            "overflow_x": null,
            "overflow_y": null,
            "padding": null,
            "right": null,
            "top": null,
            "visibility": null,
            "width": null
          }
        },
        "40bdeaf1427845f788c0283a24d7f468": {
          "model_module": "@jupyter-widgets/controls",
          "model_name": "DescriptionStyleModel",
          "model_module_version": "1.5.0",
          "state": {
            "_model_module": "@jupyter-widgets/controls",
            "_model_module_version": "1.5.0",
            "_model_name": "DescriptionStyleModel",
            "_view_count": null,
            "_view_module": "@jupyter-widgets/base",
            "_view_module_version": "1.2.0",
            "_view_name": "StyleView",
            "description_width": ""
          }
        },
        "630adad003e34c43ae7e018d6e9ac404": {
          "model_module": "@jupyter-widgets/base",
          "model_name": "LayoutModel",
          "model_module_version": "1.2.0",
          "state": {
            "_model_module": "@jupyter-widgets/base",
            "_model_module_version": "1.2.0",
            "_model_name": "LayoutModel",
            "_view_count": null,
            "_view_module": "@jupyter-widgets/base",
            "_view_module_version": "1.2.0",
            "_view_name": "LayoutView",
            "align_content": null,
            "align_items": null,
            "align_self": null,
            "border": null,
            "bottom": null,
            "display": null,
            "flex": null,
            "flex_flow": null,
            "grid_area": null,
            "grid_auto_columns": null,
            "grid_auto_flow": null,
            "grid_auto_rows": null,
            "grid_column": null,
            "grid_gap": null,
            "grid_row": null,
            "grid_template_areas": null,
            "grid_template_columns": null,
            "grid_template_rows": null,
            "height": null,
            "justify_content": null,
            "justify_items": null,
            "left": null,
            "margin": null,
            "max_height": null,
            "max_width": null,
            "min_height": null,
            "min_width": null,
            "object_fit": null,
            "object_position": null,
            "order": null,
            "overflow": null,
            "overflow_x": null,
            "overflow_y": null,
            "padding": null,
            "right": null,
            "top": null,
            "visibility": null,
            "width": null
          }
        },
        "e9d14d798e864758b9879371cbf55d0f": {
          "model_module": "@jupyter-widgets/controls",
          "model_name": "ProgressStyleModel",
          "model_module_version": "1.5.0",
          "state": {
            "_model_module": "@jupyter-widgets/controls",
            "_model_module_version": "1.5.0",
            "_model_name": "ProgressStyleModel",
            "_view_count": null,
            "_view_module": "@jupyter-widgets/base",
            "_view_module_version": "1.2.0",
            "_view_name": "StyleView",
            "bar_color": null,
            "description_width": ""
          }
        },
        "31dc66918f574e488632cecc4a1b8a3d": {
          "model_module": "@jupyter-widgets/base",
          "model_name": "LayoutModel",
          "model_module_version": "1.2.0",
          "state": {
            "_model_module": "@jupyter-widgets/base",
            "_model_module_version": "1.2.0",
            "_model_name": "LayoutModel",
            "_view_count": null,
            "_view_module": "@jupyter-widgets/base",
            "_view_module_version": "1.2.0",
            "_view_name": "LayoutView",
            "align_content": null,
            "align_items": null,
            "align_self": null,
            "border": null,
            "bottom": null,
            "display": null,
            "flex": null,
            "flex_flow": null,
            "grid_area": null,
            "grid_auto_columns": null,
            "grid_auto_flow": null,
            "grid_auto_rows": null,
            "grid_column": null,
            "grid_gap": null,
            "grid_row": null,
            "grid_template_areas": null,
            "grid_template_columns": null,
            "grid_template_rows": null,
            "height": null,
            "justify_content": null,
            "justify_items": null,
            "left": null,
            "margin": null,
            "max_height": null,
            "max_width": null,
            "min_height": null,
            "min_width": null,
            "object_fit": null,
            "object_position": null,
            "order": null,
            "overflow": null,
            "overflow_x": null,
            "overflow_y": null,
            "padding": null,
            "right": null,
            "top": null,
            "visibility": null,
            "width": null
          }
        },
        "6e78db466bc94ec3ac24073643d6c356": {
          "model_module": "@jupyter-widgets/controls",
          "model_name": "DescriptionStyleModel",
          "model_module_version": "1.5.0",
          "state": {
            "_model_module": "@jupyter-widgets/controls",
            "_model_module_version": "1.5.0",
            "_model_name": "DescriptionStyleModel",
            "_view_count": null,
            "_view_module": "@jupyter-widgets/base",
            "_view_module_version": "1.2.0",
            "_view_name": "StyleView",
            "description_width": ""
          }
        },
        "23a9635d19f444b386caa389df1e8061": {
          "model_module": "@jupyter-widgets/controls",
          "model_name": "HBoxModel",
          "model_module_version": "1.5.0",
          "state": {
            "_dom_classes": [],
            "_model_module": "@jupyter-widgets/controls",
            "_model_module_version": "1.5.0",
            "_model_name": "HBoxModel",
            "_view_count": null,
            "_view_module": "@jupyter-widgets/controls",
            "_view_module_version": "1.5.0",
            "_view_name": "HBoxView",
            "box_style": "",
            "children": [
              "IPY_MODEL_e6a41b2433df45638b0b4b9353bc2227",
              "IPY_MODEL_c35409805ea84530be53c6fe7a1feb31",
              "IPY_MODEL_2d156de2a60048caace19b567830d37d"
            ],
            "layout": "IPY_MODEL_4106f5722741496182b81aabec3bcdbd"
          }
        },
        "e6a41b2433df45638b0b4b9353bc2227": {
          "model_module": "@jupyter-widgets/controls",
          "model_name": "HTMLModel",
          "model_module_version": "1.5.0",
          "state": {
            "_dom_classes": [],
            "_model_module": "@jupyter-widgets/controls",
            "_model_module_version": "1.5.0",
            "_model_name": "HTMLModel",
            "_view_count": null,
            "_view_module": "@jupyter-widgets/controls",
            "_view_module_version": "1.5.0",
            "_view_name": "HTMLView",
            "description": "",
            "description_tooltip": null,
            "layout": "IPY_MODEL_314d9abd136f443797fb693b3a8f9703",
            "placeholder": "​",
            "style": "IPY_MODEL_e7572eddbc53411784e990f7aa518d56",
            "value": "Downloading data: 100%"
          }
        },
        "c35409805ea84530be53c6fe7a1feb31": {
          "model_module": "@jupyter-widgets/controls",
          "model_name": "FloatProgressModel",
          "model_module_version": "1.5.0",
          "state": {
            "_dom_classes": [],
            "_model_module": "@jupyter-widgets/controls",
            "_model_module_version": "1.5.0",
            "_model_name": "FloatProgressModel",
            "_view_count": null,
            "_view_module": "@jupyter-widgets/controls",
            "_view_module_version": "1.5.0",
            "_view_name": "ProgressView",
            "bar_style": "success",
            "description": "",
            "description_tooltip": null,
            "layout": "IPY_MODEL_567171f9f6dd498ca299a3953a17ea34",
            "max": 196146755,
            "min": 0,
            "orientation": "horizontal",
            "style": "IPY_MODEL_8bef582dda6a47dca1fb9af36c427a9a",
            "value": 196146755
          }
        },
        "2d156de2a60048caace19b567830d37d": {
          "model_module": "@jupyter-widgets/controls",
          "model_name": "HTMLModel",
          "model_module_version": "1.5.0",
          "state": {
            "_dom_classes": [],
            "_model_module": "@jupyter-widgets/controls",
            "_model_module_version": "1.5.0",
            "_model_name": "HTMLModel",
            "_view_count": null,
            "_view_module": "@jupyter-widgets/controls",
            "_view_module_version": "1.5.0",
            "_view_name": "HTMLView",
            "description": "",
            "description_tooltip": null,
            "layout": "IPY_MODEL_6d9cb56b8130471b82b0b19faf1b0cab",
            "placeholder": "​",
            "style": "IPY_MODEL_4286f9bae0a04f359ffaf86c8c94d156",
            "value": " 196M/196M [00:03&lt;00:00, 59.5MB/s]"
          }
        },
        "4106f5722741496182b81aabec3bcdbd": {
          "model_module": "@jupyter-widgets/base",
          "model_name": "LayoutModel",
          "model_module_version": "1.2.0",
          "state": {
            "_model_module": "@jupyter-widgets/base",
            "_model_module_version": "1.2.0",
            "_model_name": "LayoutModel",
            "_view_count": null,
            "_view_module": "@jupyter-widgets/base",
            "_view_module_version": "1.2.0",
            "_view_name": "LayoutView",
            "align_content": null,
            "align_items": null,
            "align_self": null,
            "border": null,
            "bottom": null,
            "display": null,
            "flex": null,
            "flex_flow": null,
            "grid_area": null,
            "grid_auto_columns": null,
            "grid_auto_flow": null,
            "grid_auto_rows": null,
            "grid_column": null,
            "grid_gap": null,
            "grid_row": null,
            "grid_template_areas": null,
            "grid_template_columns": null,
            "grid_template_rows": null,
            "height": null,
            "justify_content": null,
            "justify_items": null,
            "left": null,
            "margin": null,
            "max_height": null,
            "max_width": null,
            "min_height": null,
            "min_width": null,
            "object_fit": null,
            "object_position": null,
            "order": null,
            "overflow": null,
            "overflow_x": null,
            "overflow_y": null,
            "padding": null,
            "right": null,
            "top": null,
            "visibility": null,
            "width": null
          }
        },
        "314d9abd136f443797fb693b3a8f9703": {
          "model_module": "@jupyter-widgets/base",
          "model_name": "LayoutModel",
          "model_module_version": "1.2.0",
          "state": {
            "_model_module": "@jupyter-widgets/base",
            "_model_module_version": "1.2.0",
            "_model_name": "LayoutModel",
            "_view_count": null,
            "_view_module": "@jupyter-widgets/base",
            "_view_module_version": "1.2.0",
            "_view_name": "LayoutView",
            "align_content": null,
            "align_items": null,
            "align_self": null,
            "border": null,
            "bottom": null,
            "display": null,
            "flex": null,
            "flex_flow": null,
            "grid_area": null,
            "grid_auto_columns": null,
            "grid_auto_flow": null,
            "grid_auto_rows": null,
            "grid_column": null,
            "grid_gap": null,
            "grid_row": null,
            "grid_template_areas": null,
            "grid_template_columns": null,
            "grid_template_rows": null,
            "height": null,
            "justify_content": null,
            "justify_items": null,
            "left": null,
            "margin": null,
            "max_height": null,
            "max_width": null,
            "min_height": null,
            "min_width": null,
            "object_fit": null,
            "object_position": null,
            "order": null,
            "overflow": null,
            "overflow_x": null,
            "overflow_y": null,
            "padding": null,
            "right": null,
            "top": null,
            "visibility": null,
            "width": null
          }
        },
        "e7572eddbc53411784e990f7aa518d56": {
          "model_module": "@jupyter-widgets/controls",
          "model_name": "DescriptionStyleModel",
          "model_module_version": "1.5.0",
          "state": {
            "_model_module": "@jupyter-widgets/controls",
            "_model_module_version": "1.5.0",
            "_model_name": "DescriptionStyleModel",
            "_view_count": null,
            "_view_module": "@jupyter-widgets/base",
            "_view_module_version": "1.2.0",
            "_view_name": "StyleView",
            "description_width": ""
          }
        },
        "567171f9f6dd498ca299a3953a17ea34": {
          "model_module": "@jupyter-widgets/base",
          "model_name": "LayoutModel",
          "model_module_version": "1.2.0",
          "state": {
            "_model_module": "@jupyter-widgets/base",
            "_model_module_version": "1.2.0",
            "_model_name": "LayoutModel",
            "_view_count": null,
            "_view_module": "@jupyter-widgets/base",
            "_view_module_version": "1.2.0",
            "_view_name": "LayoutView",
            "align_content": null,
            "align_items": null,
            "align_self": null,
            "border": null,
            "bottom": null,
            "display": null,
            "flex": null,
            "flex_flow": null,
            "grid_area": null,
            "grid_auto_columns": null,
            "grid_auto_flow": null,
            "grid_auto_rows": null,
            "grid_column": null,
            "grid_gap": null,
            "grid_row": null,
            "grid_template_areas": null,
            "grid_template_columns": null,
            "grid_template_rows": null,
            "height": null,
            "justify_content": null,
            "justify_items": null,
            "left": null,
            "margin": null,
            "max_height": null,
            "max_width": null,
            "min_height": null,
            "min_width": null,
            "object_fit": null,
            "object_position": null,
            "order": null,
            "overflow": null,
            "overflow_x": null,
            "overflow_y": null,
            "padding": null,
            "right": null,
            "top": null,
            "visibility": null,
            "width": null
          }
        },
        "8bef582dda6a47dca1fb9af36c427a9a": {
          "model_module": "@jupyter-widgets/controls",
          "model_name": "ProgressStyleModel",
          "model_module_version": "1.5.0",
          "state": {
            "_model_module": "@jupyter-widgets/controls",
            "_model_module_version": "1.5.0",
            "_model_name": "ProgressStyleModel",
            "_view_count": null,
            "_view_module": "@jupyter-widgets/base",
            "_view_module_version": "1.2.0",
            "_view_name": "StyleView",
            "bar_color": null,
            "description_width": ""
          }
        },
        "6d9cb56b8130471b82b0b19faf1b0cab": {
          "model_module": "@jupyter-widgets/base",
          "model_name": "LayoutModel",
          "model_module_version": "1.2.0",
          "state": {
            "_model_module": "@jupyter-widgets/base",
            "_model_module_version": "1.2.0",
            "_model_name": "LayoutModel",
            "_view_count": null,
            "_view_module": "@jupyter-widgets/base",
            "_view_module_version": "1.2.0",
            "_view_name": "LayoutView",
            "align_content": null,
            "align_items": null,
            "align_self": null,
            "border": null,
            "bottom": null,
            "display": null,
            "flex": null,
            "flex_flow": null,
            "grid_area": null,
            "grid_auto_columns": null,
            "grid_auto_flow": null,
            "grid_auto_rows": null,
            "grid_column": null,
            "grid_gap": null,
            "grid_row": null,
            "grid_template_areas": null,
            "grid_template_columns": null,
            "grid_template_rows": null,
            "height": null,
            "justify_content": null,
            "justify_items": null,
            "left": null,
            "margin": null,
            "max_height": null,
            "max_width": null,
            "min_height": null,
            "min_width": null,
            "object_fit": null,
            "object_position": null,
            "order": null,
            "overflow": null,
            "overflow_x": null,
            "overflow_y": null,
            "padding": null,
            "right": null,
            "top": null,
            "visibility": null,
            "width": null
          }
        },
        "4286f9bae0a04f359ffaf86c8c94d156": {
          "model_module": "@jupyter-widgets/controls",
          "model_name": "DescriptionStyleModel",
          "model_module_version": "1.5.0",
          "state": {
            "_model_module": "@jupyter-widgets/controls",
            "_model_module_version": "1.5.0",
            "_model_name": "DescriptionStyleModel",
            "_view_count": null,
            "_view_module": "@jupyter-widgets/base",
            "_view_module_version": "1.2.0",
            "_view_name": "StyleView",
            "description_width": ""
          }
        },
        "986bbfc56d444f558451acc052978f96": {
          "model_module": "@jupyter-widgets/controls",
          "model_name": "HBoxModel",
          "model_module_version": "1.5.0",
          "state": {
            "_dom_classes": [],
            "_model_module": "@jupyter-widgets/controls",
            "_model_module_version": "1.5.0",
            "_model_name": "HBoxModel",
            "_view_count": null,
            "_view_module": "@jupyter-widgets/controls",
            "_view_module_version": "1.5.0",
            "_view_name": "HBoxView",
            "box_style": "",
            "children": [
              "IPY_MODEL_3fda46043c204c14b910b2a63c289b99",
              "IPY_MODEL_498f42f7fddb43afb807353cd2b530f9",
              "IPY_MODEL_8088ba6485ab42b99f56832764a540dd"
            ],
            "layout": "IPY_MODEL_6fab818466d1416bb17a07327066b4c1"
          }
        },
        "3fda46043c204c14b910b2a63c289b99": {
          "model_module": "@jupyter-widgets/controls",
          "model_name": "HTMLModel",
          "model_module_version": "1.5.0",
          "state": {
            "_dom_classes": [],
            "_model_module": "@jupyter-widgets/controls",
            "_model_module_version": "1.5.0",
            "_model_name": "HTMLModel",
            "_view_count": null,
            "_view_module": "@jupyter-widgets/controls",
            "_view_module_version": "1.5.0",
            "_view_name": "HTMLView",
            "description": "",
            "description_tooltip": null,
            "layout": "IPY_MODEL_30107e5ab8ef4d499f9c76265caa8285",
            "placeholder": "​",
            "style": "IPY_MODEL_f8dc6f9f5e704dcf842f9ab2b0af42c9",
            "value": "Generating train split: 100%"
          }
        },
        "498f42f7fddb43afb807353cd2b530f9": {
          "model_module": "@jupyter-widgets/controls",
          "model_name": "FloatProgressModel",
          "model_module_version": "1.5.0",
          "state": {
            "_dom_classes": [],
            "_model_module": "@jupyter-widgets/controls",
            "_model_module_version": "1.5.0",
            "_model_name": "FloatProgressModel",
            "_view_count": null,
            "_view_module": "@jupyter-widgets/controls",
            "_view_module_version": "1.5.0",
            "_view_name": "ProgressView",
            "bar_style": "",
            "description": "",
            "description_tooltip": null,
            "layout": "IPY_MODEL_14aa400835d24db6bcf645f6f220fba7",
            "max": 650000,
            "min": 0,
            "orientation": "horizontal",
            "style": "IPY_MODEL_38da66d638f844b3b5f990e299ec3898",
            "value": 650000
          }
        },
        "8088ba6485ab42b99f56832764a540dd": {
          "model_module": "@jupyter-widgets/controls",
          "model_name": "HTMLModel",
          "model_module_version": "1.5.0",
          "state": {
            "_dom_classes": [],
            "_model_module": "@jupyter-widgets/controls",
            "_model_module_version": "1.5.0",
            "_model_name": "HTMLModel",
            "_view_count": null,
            "_view_module": "@jupyter-widgets/controls",
            "_view_module_version": "1.5.0",
            "_view_name": "HTMLView",
            "description": "",
            "description_tooltip": null,
            "layout": "IPY_MODEL_2ca561cb078d4792ba04ed44045b9f73",
            "placeholder": "​",
            "style": "IPY_MODEL_2a07b88824b94f6baf38406d058afe69",
            "value": " 650000/650000 [00:45&lt;00:00, 23674.69 examples/s]"
          }
        },
        "6fab818466d1416bb17a07327066b4c1": {
          "model_module": "@jupyter-widgets/base",
          "model_name": "LayoutModel",
          "model_module_version": "1.2.0",
          "state": {
            "_model_module": "@jupyter-widgets/base",
            "_model_module_version": "1.2.0",
            "_model_name": "LayoutModel",
            "_view_count": null,
            "_view_module": "@jupyter-widgets/base",
            "_view_module_version": "1.2.0",
            "_view_name": "LayoutView",
            "align_content": null,
            "align_items": null,
            "align_self": null,
            "border": null,
            "bottom": null,
            "display": null,
            "flex": null,
            "flex_flow": null,
            "grid_area": null,
            "grid_auto_columns": null,
            "grid_auto_flow": null,
            "grid_auto_rows": null,
            "grid_column": null,
            "grid_gap": null,
            "grid_row": null,
            "grid_template_areas": null,
            "grid_template_columns": null,
            "grid_template_rows": null,
            "height": null,
            "justify_content": null,
            "justify_items": null,
            "left": null,
            "margin": null,
            "max_height": null,
            "max_width": null,
            "min_height": null,
            "min_width": null,
            "object_fit": null,
            "object_position": null,
            "order": null,
            "overflow": null,
            "overflow_x": null,
            "overflow_y": null,
            "padding": null,
            "right": null,
            "top": null,
            "visibility": "hidden",
            "width": null
          }
        },
        "30107e5ab8ef4d499f9c76265caa8285": {
          "model_module": "@jupyter-widgets/base",
          "model_name": "LayoutModel",
          "model_module_version": "1.2.0",
          "state": {
            "_model_module": "@jupyter-widgets/base",
            "_model_module_version": "1.2.0",
            "_model_name": "LayoutModel",
            "_view_count": null,
            "_view_module": "@jupyter-widgets/base",
            "_view_module_version": "1.2.0",
            "_view_name": "LayoutView",
            "align_content": null,
            "align_items": null,
            "align_self": null,
            "border": null,
            "bottom": null,
            "display": null,
            "flex": null,
            "flex_flow": null,
            "grid_area": null,
            "grid_auto_columns": null,
            "grid_auto_flow": null,
            "grid_auto_rows": null,
            "grid_column": null,
            "grid_gap": null,
            "grid_row": null,
            "grid_template_areas": null,
            "grid_template_columns": null,
            "grid_template_rows": null,
            "height": null,
            "justify_content": null,
            "justify_items": null,
            "left": null,
            "margin": null,
            "max_height": null,
            "max_width": null,
            "min_height": null,
            "min_width": null,
            "object_fit": null,
            "object_position": null,
            "order": null,
            "overflow": null,
            "overflow_x": null,
            "overflow_y": null,
            "padding": null,
            "right": null,
            "top": null,
            "visibility": null,
            "width": null
          }
        },
        "f8dc6f9f5e704dcf842f9ab2b0af42c9": {
          "model_module": "@jupyter-widgets/controls",
          "model_name": "DescriptionStyleModel",
          "model_module_version": "1.5.0",
          "state": {
            "_model_module": "@jupyter-widgets/controls",
            "_model_module_version": "1.5.0",
            "_model_name": "DescriptionStyleModel",
            "_view_count": null,
            "_view_module": "@jupyter-widgets/base",
            "_view_module_version": "1.2.0",
            "_view_name": "StyleView",
            "description_width": ""
          }
        },
        "14aa400835d24db6bcf645f6f220fba7": {
          "model_module": "@jupyter-widgets/base",
          "model_name": "LayoutModel",
          "model_module_version": "1.2.0",
          "state": {
            "_model_module": "@jupyter-widgets/base",
            "_model_module_version": "1.2.0",
            "_model_name": "LayoutModel",
            "_view_count": null,
            "_view_module": "@jupyter-widgets/base",
            "_view_module_version": "1.2.0",
            "_view_name": "LayoutView",
            "align_content": null,
            "align_items": null,
            "align_self": null,
            "border": null,
            "bottom": null,
            "display": null,
            "flex": null,
            "flex_flow": null,
            "grid_area": null,
            "grid_auto_columns": null,
            "grid_auto_flow": null,
            "grid_auto_rows": null,
            "grid_column": null,
            "grid_gap": null,
            "grid_row": null,
            "grid_template_areas": null,
            "grid_template_columns": null,
            "grid_template_rows": null,
            "height": null,
            "justify_content": null,
            "justify_items": null,
            "left": null,
            "margin": null,
            "max_height": null,
            "max_width": null,
            "min_height": null,
            "min_width": null,
            "object_fit": null,
            "object_position": null,
            "order": null,
            "overflow": null,
            "overflow_x": null,
            "overflow_y": null,
            "padding": null,
            "right": null,
            "top": null,
            "visibility": null,
            "width": null
          }
        },
        "38da66d638f844b3b5f990e299ec3898": {
          "model_module": "@jupyter-widgets/controls",
          "model_name": "ProgressStyleModel",
          "model_module_version": "1.5.0",
          "state": {
            "_model_module": "@jupyter-widgets/controls",
            "_model_module_version": "1.5.0",
            "_model_name": "ProgressStyleModel",
            "_view_count": null,
            "_view_module": "@jupyter-widgets/base",
            "_view_module_version": "1.2.0",
            "_view_name": "StyleView",
            "bar_color": null,
            "description_width": ""
          }
        },
        "2ca561cb078d4792ba04ed44045b9f73": {
          "model_module": "@jupyter-widgets/base",
          "model_name": "LayoutModel",
          "model_module_version": "1.2.0",
          "state": {
            "_model_module": "@jupyter-widgets/base",
            "_model_module_version": "1.2.0",
            "_model_name": "LayoutModel",
            "_view_count": null,
            "_view_module": "@jupyter-widgets/base",
            "_view_module_version": "1.2.0",
            "_view_name": "LayoutView",
            "align_content": null,
            "align_items": null,
            "align_self": null,
            "border": null,
            "bottom": null,
            "display": null,
            "flex": null,
            "flex_flow": null,
            "grid_area": null,
            "grid_auto_columns": null,
            "grid_auto_flow": null,
            "grid_auto_rows": null,
            "grid_column": null,
            "grid_gap": null,
            "grid_row": null,
            "grid_template_areas": null,
            "grid_template_columns": null,
            "grid_template_rows": null,
            "height": null,
            "justify_content": null,
            "justify_items": null,
            "left": null,
            "margin": null,
            "max_height": null,
            "max_width": null,
            "min_height": null,
            "min_width": null,
            "object_fit": null,
            "object_position": null,
            "order": null,
            "overflow": null,
            "overflow_x": null,
            "overflow_y": null,
            "padding": null,
            "right": null,
            "top": null,
            "visibility": null,
            "width": null
          }
        },
        "2a07b88824b94f6baf38406d058afe69": {
          "model_module": "@jupyter-widgets/controls",
          "model_name": "DescriptionStyleModel",
          "model_module_version": "1.5.0",
          "state": {
            "_model_module": "@jupyter-widgets/controls",
            "_model_module_version": "1.5.0",
            "_model_name": "DescriptionStyleModel",
            "_view_count": null,
            "_view_module": "@jupyter-widgets/base",
            "_view_module_version": "1.2.0",
            "_view_name": "StyleView",
            "description_width": ""
          }
        },
        "3104ee4d688a449cb78a3f578329b690": {
          "model_module": "@jupyter-widgets/controls",
          "model_name": "HBoxModel",
          "model_module_version": "1.5.0",
          "state": {
            "_dom_classes": [],
            "_model_module": "@jupyter-widgets/controls",
            "_model_module_version": "1.5.0",
            "_model_name": "HBoxModel",
            "_view_count": null,
            "_view_module": "@jupyter-widgets/controls",
            "_view_module_version": "1.5.0",
            "_view_name": "HBoxView",
            "box_style": "",
            "children": [
              "IPY_MODEL_7c2052b024dc4a399a8924b01f713131",
              "IPY_MODEL_8133f5316b58473cb594fff5445cdf78",
              "IPY_MODEL_24e1d61ab6a841f0ac5aa8b1106a2e9d"
            ],
            "layout": "IPY_MODEL_d96f7cd34a234306bfe0a1f28cc5c5cd"
          }
        },
        "7c2052b024dc4a399a8924b01f713131": {
          "model_module": "@jupyter-widgets/controls",
          "model_name": "HTMLModel",
          "model_module_version": "1.5.0",
          "state": {
            "_dom_classes": [],
            "_model_module": "@jupyter-widgets/controls",
            "_model_module_version": "1.5.0",
            "_model_name": "HTMLModel",
            "_view_count": null,
            "_view_module": "@jupyter-widgets/controls",
            "_view_module_version": "1.5.0",
            "_view_name": "HTMLView",
            "description": "",
            "description_tooltip": null,
            "layout": "IPY_MODEL_c8cfb7bfec314db7a573d17df3a5a369",
            "placeholder": "​",
            "style": "IPY_MODEL_6229ec93e07d446491ac8ace73853908",
            "value": "Generating test split: 100%"
          }
        },
        "8133f5316b58473cb594fff5445cdf78": {
          "model_module": "@jupyter-widgets/controls",
          "model_name": "FloatProgressModel",
          "model_module_version": "1.5.0",
          "state": {
            "_dom_classes": [],
            "_model_module": "@jupyter-widgets/controls",
            "_model_module_version": "1.5.0",
            "_model_name": "FloatProgressModel",
            "_view_count": null,
            "_view_module": "@jupyter-widgets/controls",
            "_view_module_version": "1.5.0",
            "_view_name": "ProgressView",
            "bar_style": "",
            "description": "",
            "description_tooltip": null,
            "layout": "IPY_MODEL_ca1c939eb37b4689a2bbff9a2a80f164",
            "max": 50000,
            "min": 0,
            "orientation": "horizontal",
            "style": "IPY_MODEL_34f0c1a5f66c4963ba4df881c2b2e312",
            "value": 50000
          }
        },
        "24e1d61ab6a841f0ac5aa8b1106a2e9d": {
          "model_module": "@jupyter-widgets/controls",
          "model_name": "HTMLModel",
          "model_module_version": "1.5.0",
          "state": {
            "_dom_classes": [],
            "_model_module": "@jupyter-widgets/controls",
            "_model_module_version": "1.5.0",
            "_model_name": "HTMLModel",
            "_view_count": null,
            "_view_module": "@jupyter-widgets/controls",
            "_view_module_version": "1.5.0",
            "_view_name": "HTMLView",
            "description": "",
            "description_tooltip": null,
            "layout": "IPY_MODEL_18ff2734f6c04edd9ce33d3d73257e08",
            "placeholder": "​",
            "style": "IPY_MODEL_42f1674f4f904ebd85bdaeb1191921d3",
            "value": " 50000/50000 [00:24&lt;00:00, 13892.77 examples/s]"
          }
        },
        "d96f7cd34a234306bfe0a1f28cc5c5cd": {
          "model_module": "@jupyter-widgets/base",
          "model_name": "LayoutModel",
          "model_module_version": "1.2.0",
          "state": {
            "_model_module": "@jupyter-widgets/base",
            "_model_module_version": "1.2.0",
            "_model_name": "LayoutModel",
            "_view_count": null,
            "_view_module": "@jupyter-widgets/base",
            "_view_module_version": "1.2.0",
            "_view_name": "LayoutView",
            "align_content": null,
            "align_items": null,
            "align_self": null,
            "border": null,
            "bottom": null,
            "display": null,
            "flex": null,
            "flex_flow": null,
            "grid_area": null,
            "grid_auto_columns": null,
            "grid_auto_flow": null,
            "grid_auto_rows": null,
            "grid_column": null,
            "grid_gap": null,
            "grid_row": null,
            "grid_template_areas": null,
            "grid_template_columns": null,
            "grid_template_rows": null,
            "height": null,
            "justify_content": null,
            "justify_items": null,
            "left": null,
            "margin": null,
            "max_height": null,
            "max_width": null,
            "min_height": null,
            "min_width": null,
            "object_fit": null,
            "object_position": null,
            "order": null,
            "overflow": null,
            "overflow_x": null,
            "overflow_y": null,
            "padding": null,
            "right": null,
            "top": null,
            "visibility": "hidden",
            "width": null
          }
        },
        "c8cfb7bfec314db7a573d17df3a5a369": {
          "model_module": "@jupyter-widgets/base",
          "model_name": "LayoutModel",
          "model_module_version": "1.2.0",
          "state": {
            "_model_module": "@jupyter-widgets/base",
            "_model_module_version": "1.2.0",
            "_model_name": "LayoutModel",
            "_view_count": null,
            "_view_module": "@jupyter-widgets/base",
            "_view_module_version": "1.2.0",
            "_view_name": "LayoutView",
            "align_content": null,
            "align_items": null,
            "align_self": null,
            "border": null,
            "bottom": null,
            "display": null,
            "flex": null,
            "flex_flow": null,
            "grid_area": null,
            "grid_auto_columns": null,
            "grid_auto_flow": null,
            "grid_auto_rows": null,
            "grid_column": null,
            "grid_gap": null,
            "grid_row": null,
            "grid_template_areas": null,
            "grid_template_columns": null,
            "grid_template_rows": null,
            "height": null,
            "justify_content": null,
            "justify_items": null,
            "left": null,
            "margin": null,
            "max_height": null,
            "max_width": null,
            "min_height": null,
            "min_width": null,
            "object_fit": null,
            "object_position": null,
            "order": null,
            "overflow": null,
            "overflow_x": null,
            "overflow_y": null,
            "padding": null,
            "right": null,
            "top": null,
            "visibility": null,
            "width": null
          }
        },
        "6229ec93e07d446491ac8ace73853908": {
          "model_module": "@jupyter-widgets/controls",
          "model_name": "DescriptionStyleModel",
          "model_module_version": "1.5.0",
          "state": {
            "_model_module": "@jupyter-widgets/controls",
            "_model_module_version": "1.5.0",
            "_model_name": "DescriptionStyleModel",
            "_view_count": null,
            "_view_module": "@jupyter-widgets/base",
            "_view_module_version": "1.2.0",
            "_view_name": "StyleView",
            "description_width": ""
          }
        },
        "ca1c939eb37b4689a2bbff9a2a80f164": {
          "model_module": "@jupyter-widgets/base",
          "model_name": "LayoutModel",
          "model_module_version": "1.2.0",
          "state": {
            "_model_module": "@jupyter-widgets/base",
            "_model_module_version": "1.2.0",
            "_model_name": "LayoutModel",
            "_view_count": null,
            "_view_module": "@jupyter-widgets/base",
            "_view_module_version": "1.2.0",
            "_view_name": "LayoutView",
            "align_content": null,
            "align_items": null,
            "align_self": null,
            "border": null,
            "bottom": null,
            "display": null,
            "flex": null,
            "flex_flow": null,
            "grid_area": null,
            "grid_auto_columns": null,
            "grid_auto_flow": null,
            "grid_auto_rows": null,
            "grid_column": null,
            "grid_gap": null,
            "grid_row": null,
            "grid_template_areas": null,
            "grid_template_columns": null,
            "grid_template_rows": null,
            "height": null,
            "justify_content": null,
            "justify_items": null,
            "left": null,
            "margin": null,
            "max_height": null,
            "max_width": null,
            "min_height": null,
            "min_width": null,
            "object_fit": null,
            "object_position": null,
            "order": null,
            "overflow": null,
            "overflow_x": null,
            "overflow_y": null,
            "padding": null,
            "right": null,
            "top": null,
            "visibility": null,
            "width": null
          }
        },
        "34f0c1a5f66c4963ba4df881c2b2e312": {
          "model_module": "@jupyter-widgets/controls",
          "model_name": "ProgressStyleModel",
          "model_module_version": "1.5.0",
          "state": {
            "_model_module": "@jupyter-widgets/controls",
            "_model_module_version": "1.5.0",
            "_model_name": "ProgressStyleModel",
            "_view_count": null,
            "_view_module": "@jupyter-widgets/base",
            "_view_module_version": "1.2.0",
            "_view_name": "StyleView",
            "bar_color": null,
            "description_width": ""
          }
        },
        "18ff2734f6c04edd9ce33d3d73257e08": {
          "model_module": "@jupyter-widgets/base",
          "model_name": "LayoutModel",
          "model_module_version": "1.2.0",
          "state": {
            "_model_module": "@jupyter-widgets/base",
            "_model_module_version": "1.2.0",
            "_model_name": "LayoutModel",
            "_view_count": null,
            "_view_module": "@jupyter-widgets/base",
            "_view_module_version": "1.2.0",
            "_view_name": "LayoutView",
            "align_content": null,
            "align_items": null,
            "align_self": null,
            "border": null,
            "bottom": null,
            "display": null,
            "flex": null,
            "flex_flow": null,
            "grid_area": null,
            "grid_auto_columns": null,
            "grid_auto_flow": null,
            "grid_auto_rows": null,
            "grid_column": null,
            "grid_gap": null,
            "grid_row": null,
            "grid_template_areas": null,
            "grid_template_columns": null,
            "grid_template_rows": null,
            "height": null,
            "justify_content": null,
            "justify_items": null,
            "left": null,
            "margin": null,
            "max_height": null,
            "max_width": null,
            "min_height": null,
            "min_width": null,
            "object_fit": null,
            "object_position": null,
            "order": null,
            "overflow": null,
            "overflow_x": null,
            "overflow_y": null,
            "padding": null,
            "right": null,
            "top": null,
            "visibility": null,
            "width": null
          }
        },
        "42f1674f4f904ebd85bdaeb1191921d3": {
          "model_module": "@jupyter-widgets/controls",
          "model_name": "DescriptionStyleModel",
          "model_module_version": "1.5.0",
          "state": {
            "_model_module": "@jupyter-widgets/controls",
            "_model_module_version": "1.5.0",
            "_model_name": "DescriptionStyleModel",
            "_view_count": null,
            "_view_module": "@jupyter-widgets/base",
            "_view_module_version": "1.2.0",
            "_view_name": "StyleView",
            "description_width": ""
          }
        },
        "9994fe87ee4149c5963d7cbf075c7070": {
          "model_module": "@jupyter-widgets/controls",
          "model_name": "HBoxModel",
          "model_module_version": "1.5.0",
          "state": {
            "_dom_classes": [],
            "_model_module": "@jupyter-widgets/controls",
            "_model_module_version": "1.5.0",
            "_model_name": "HBoxModel",
            "_view_count": null,
            "_view_module": "@jupyter-widgets/controls",
            "_view_module_version": "1.5.0",
            "_view_name": "HBoxView",
            "box_style": "",
            "children": [
              "IPY_MODEL_56e2250a18fc4f1ab14bda66c7c775d5",
              "IPY_MODEL_ae1f720a0cb44f71b389286a93060455",
              "IPY_MODEL_2a473dc5b72e4f00b32e339310b9003b"
            ],
            "layout": "IPY_MODEL_2853a9486a654143aed05a157d823ae0"
          }
        },
        "56e2250a18fc4f1ab14bda66c7c775d5": {
          "model_module": "@jupyter-widgets/controls",
          "model_name": "HTMLModel",
          "model_module_version": "1.5.0",
          "state": {
            "_dom_classes": [],
            "_model_module": "@jupyter-widgets/controls",
            "_model_module_version": "1.5.0",
            "_model_name": "HTMLModel",
            "_view_count": null,
            "_view_module": "@jupyter-widgets/controls",
            "_view_module_version": "1.5.0",
            "_view_name": "HTMLView",
            "description": "",
            "description_tooltip": null,
            "layout": "IPY_MODEL_76efdf4ed3a247c6824fc144b35e8967",
            "placeholder": "​",
            "style": "IPY_MODEL_441e3592289b4893a50a0828b974a3a6",
            "value": "100%"
          }
        },
        "ae1f720a0cb44f71b389286a93060455": {
          "model_module": "@jupyter-widgets/controls",
          "model_name": "FloatProgressModel",
          "model_module_version": "1.5.0",
          "state": {
            "_dom_classes": [],
            "_model_module": "@jupyter-widgets/controls",
            "_model_module_version": "1.5.0",
            "_model_name": "FloatProgressModel",
            "_view_count": null,
            "_view_module": "@jupyter-widgets/controls",
            "_view_module_version": "1.5.0",
            "_view_name": "ProgressView",
            "bar_style": "success",
            "description": "",
            "description_tooltip": null,
            "layout": "IPY_MODEL_1b190b1460c1404c9f125ff9d5b81cf6",
            "max": 2,
            "min": 0,
            "orientation": "horizontal",
            "style": "IPY_MODEL_560637e82f414658a220ae06d4970a85",
            "value": 2
          }
        },
        "2a473dc5b72e4f00b32e339310b9003b": {
          "model_module": "@jupyter-widgets/controls",
          "model_name": "HTMLModel",
          "model_module_version": "1.5.0",
          "state": {
            "_dom_classes": [],
            "_model_module": "@jupyter-widgets/controls",
            "_model_module_version": "1.5.0",
            "_model_name": "HTMLModel",
            "_view_count": null,
            "_view_module": "@jupyter-widgets/controls",
            "_view_module_version": "1.5.0",
            "_view_name": "HTMLView",
            "description": "",
            "description_tooltip": null,
            "layout": "IPY_MODEL_9a0b6c7597ca4ccfa892fa6128228f38",
            "placeholder": "​",
            "style": "IPY_MODEL_779d125abfb140fa8946b20c8c3c75e3",
            "value": " 2/2 [00:00&lt;00:00, 47.14it/s]"
          }
        },
        "2853a9486a654143aed05a157d823ae0": {
          "model_module": "@jupyter-widgets/base",
          "model_name": "LayoutModel",
          "model_module_version": "1.2.0",
          "state": {
            "_model_module": "@jupyter-widgets/base",
            "_model_module_version": "1.2.0",
            "_model_name": "LayoutModel",
            "_view_count": null,
            "_view_module": "@jupyter-widgets/base",
            "_view_module_version": "1.2.0",
            "_view_name": "LayoutView",
            "align_content": null,
            "align_items": null,
            "align_self": null,
            "border": null,
            "bottom": null,
            "display": null,
            "flex": null,
            "flex_flow": null,
            "grid_area": null,
            "grid_auto_columns": null,
            "grid_auto_flow": null,
            "grid_auto_rows": null,
            "grid_column": null,
            "grid_gap": null,
            "grid_row": null,
            "grid_template_areas": null,
            "grid_template_columns": null,
            "grid_template_rows": null,
            "height": null,
            "justify_content": null,
            "justify_items": null,
            "left": null,
            "margin": null,
            "max_height": null,
            "max_width": null,
            "min_height": null,
            "min_width": null,
            "object_fit": null,
            "object_position": null,
            "order": null,
            "overflow": null,
            "overflow_x": null,
            "overflow_y": null,
            "padding": null,
            "right": null,
            "top": null,
            "visibility": null,
            "width": null
          }
        },
        "76efdf4ed3a247c6824fc144b35e8967": {
          "model_module": "@jupyter-widgets/base",
          "model_name": "LayoutModel",
          "model_module_version": "1.2.0",
          "state": {
            "_model_module": "@jupyter-widgets/base",
            "_model_module_version": "1.2.0",
            "_model_name": "LayoutModel",
            "_view_count": null,
            "_view_module": "@jupyter-widgets/base",
            "_view_module_version": "1.2.0",
            "_view_name": "LayoutView",
            "align_content": null,
            "align_items": null,
            "align_self": null,
            "border": null,
            "bottom": null,
            "display": null,
            "flex": null,
            "flex_flow": null,
            "grid_area": null,
            "grid_auto_columns": null,
            "grid_auto_flow": null,
            "grid_auto_rows": null,
            "grid_column": null,
            "grid_gap": null,
            "grid_row": null,
            "grid_template_areas": null,
            "grid_template_columns": null,
            "grid_template_rows": null,
            "height": null,
            "justify_content": null,
            "justify_items": null,
            "left": null,
            "margin": null,
            "max_height": null,
            "max_width": null,
            "min_height": null,
            "min_width": null,
            "object_fit": null,
            "object_position": null,
            "order": null,
            "overflow": null,
            "overflow_x": null,
            "overflow_y": null,
            "padding": null,
            "right": null,
            "top": null,
            "visibility": null,
            "width": null
          }
        },
        "441e3592289b4893a50a0828b974a3a6": {
          "model_module": "@jupyter-widgets/controls",
          "model_name": "DescriptionStyleModel",
          "model_module_version": "1.5.0",
          "state": {
            "_model_module": "@jupyter-widgets/controls",
            "_model_module_version": "1.5.0",
            "_model_name": "DescriptionStyleModel",
            "_view_count": null,
            "_view_module": "@jupyter-widgets/base",
            "_view_module_version": "1.2.0",
            "_view_name": "StyleView",
            "description_width": ""
          }
        },
        "1b190b1460c1404c9f125ff9d5b81cf6": {
          "model_module": "@jupyter-widgets/base",
          "model_name": "LayoutModel",
          "model_module_version": "1.2.0",
          "state": {
            "_model_module": "@jupyter-widgets/base",
            "_model_module_version": "1.2.0",
            "_model_name": "LayoutModel",
            "_view_count": null,
            "_view_module": "@jupyter-widgets/base",
            "_view_module_version": "1.2.0",
            "_view_name": "LayoutView",
            "align_content": null,
            "align_items": null,
            "align_self": null,
            "border": null,
            "bottom": null,
            "display": null,
            "flex": null,
            "flex_flow": null,
            "grid_area": null,
            "grid_auto_columns": null,
            "grid_auto_flow": null,
            "grid_auto_rows": null,
            "grid_column": null,
            "grid_gap": null,
            "grid_row": null,
            "grid_template_areas": null,
            "grid_template_columns": null,
            "grid_template_rows": null,
            "height": null,
            "justify_content": null,
            "justify_items": null,
            "left": null,
            "margin": null,
            "max_height": null,
            "max_width": null,
            "min_height": null,
            "min_width": null,
            "object_fit": null,
            "object_position": null,
            "order": null,
            "overflow": null,
            "overflow_x": null,
            "overflow_y": null,
            "padding": null,
            "right": null,
            "top": null,
            "visibility": null,
            "width": null
          }
        },
        "560637e82f414658a220ae06d4970a85": {
          "model_module": "@jupyter-widgets/controls",
          "model_name": "ProgressStyleModel",
          "model_module_version": "1.5.0",
          "state": {
            "_model_module": "@jupyter-widgets/controls",
            "_model_module_version": "1.5.0",
            "_model_name": "ProgressStyleModel",
            "_view_count": null,
            "_view_module": "@jupyter-widgets/base",
            "_view_module_version": "1.2.0",
            "_view_name": "StyleView",
            "bar_color": null,
            "description_width": ""
          }
        },
        "9a0b6c7597ca4ccfa892fa6128228f38": {
          "model_module": "@jupyter-widgets/base",
          "model_name": "LayoutModel",
          "model_module_version": "1.2.0",
          "state": {
            "_model_module": "@jupyter-widgets/base",
            "_model_module_version": "1.2.0",
            "_model_name": "LayoutModel",
            "_view_count": null,
            "_view_module": "@jupyter-widgets/base",
            "_view_module_version": "1.2.0",
            "_view_name": "LayoutView",
            "align_content": null,
            "align_items": null,
            "align_self": null,
            "border": null,
            "bottom": null,
            "display": null,
            "flex": null,
            "flex_flow": null,
            "grid_area": null,
            "grid_auto_columns": null,
            "grid_auto_flow": null,
            "grid_auto_rows": null,
            "grid_column": null,
            "grid_gap": null,
            "grid_row": null,
            "grid_template_areas": null,
            "grid_template_columns": null,
            "grid_template_rows": null,
            "height": null,
            "justify_content": null,
            "justify_items": null,
            "left": null,
            "margin": null,
            "max_height": null,
            "max_width": null,
            "min_height": null,
            "min_width": null,
            "object_fit": null,
            "object_position": null,
            "order": null,
            "overflow": null,
            "overflow_x": null,
            "overflow_y": null,
            "padding": null,
            "right": null,
            "top": null,
            "visibility": null,
            "width": null
          }
        },
        "779d125abfb140fa8946b20c8c3c75e3": {
          "model_module": "@jupyter-widgets/controls",
          "model_name": "DescriptionStyleModel",
          "model_module_version": "1.5.0",
          "state": {
            "_model_module": "@jupyter-widgets/controls",
            "_model_module_version": "1.5.0",
            "_model_name": "DescriptionStyleModel",
            "_view_count": null,
            "_view_module": "@jupyter-widgets/base",
            "_view_module_version": "1.2.0",
            "_view_name": "StyleView",
            "description_width": ""
          }
        }
      }
    }
  },
  "cells": [
    {
      "cell_type": "markdown",
      "metadata": {
        "id": "view-in-github",
        "colab_type": "text"
      },
      "source": [
        "<a href=\"https://colab.research.google.com/github/LCaravaggio/NLP/blob/main/08_LanguageModels/NeuralLM.ipynb\" target=\"_parent\"><img src=\"https://colab.research.google.com/assets/colab-badge.svg\" alt=\"Open In Colab\"/></a>"
      ]
    },
    {
      "cell_type": "markdown",
      "source": [
        "## Language Modeling con NNs\n",
        "\n",
        "Vamos a usar `pytorch` para el modelo y `datasets` de HF para el corpus."
      ],
      "metadata": {
        "id": "DwU_koArH8JW"
      }
    },
    {
      "cell_type": "code",
      "source": [
        "%%capture\n",
        "!pip install datasets==2.11.0 watermark"
      ],
      "metadata": {
        "id": "3cHmzFdYbDTm"
      },
      "execution_count": 1,
      "outputs": []
    },
    {
      "cell_type": "code",
      "source": [
        "!python -m spacy download en_core_web_sm"
      ],
      "metadata": {
        "id": "dDUxxsDNLkN2"
      },
      "execution_count": null,
      "outputs": []
    },
    {
      "cell_type": "code",
      "source": [
        "%load_ext watermark"
      ],
      "metadata": {
        "id": "Xv815WnZBI41"
      },
      "execution_count": 4,
      "outputs": []
    },
    {
      "cell_type": "code",
      "source": [
        "%watermark -vp datasets,torch,nltk,spacy"
      ],
      "metadata": {
        "colab": {
          "base_uri": "https://localhost:8080/"
        },
        "id": "zmbjr89RBKpR",
        "outputId": "f79640b4-116d-4aae-e667-44b6456c2f96"
      },
      "execution_count": 5,
      "outputs": [
        {
          "output_type": "stream",
          "name": "stdout",
          "text": [
            "Python implementation: CPython\n",
            "Python version       : 3.9.16\n",
            "IPython version      : 7.34.0\n",
            "\n",
            "datasets: 2.11.0\n",
            "torch   : 2.0.0+cu118\n",
            "nltk    : 3.8.1\n",
            "spacy   : 3.5.2\n",
            "\n"
          ]
        }
      ]
    },
    {
      "cell_type": "code",
      "source": [
        "import re\n",
        "\n",
        "import torch\n",
        "import torch.nn as nn\n",
        "import torch.nn.functional as F\n",
        "import torch.optim as optim\n",
        "from torch import Tensor\n",
        "from datasets import load_dataset\n",
        "from nltk.lm.preprocessing import pad_both_ends\n",
        "from torchtext.data.utils import get_tokenizer\n",
        "from torchtext.vocab import build_vocab_from_iterator, Vocab\n",
        "from torch.utils.data import DataLoader"
      ],
      "metadata": {
        "id": "bPe263Mna98L"
      },
      "execution_count": 6,
      "outputs": []
    },
    {
      "cell_type": "markdown",
      "source": [
        "## Data\n",
        "\n",
        "Vamos a usar el corpus de reviews en yelp solo a modo ilustrativo. Cada documento con todos sus atributos (texto, tags, etc.) es un \"example\".\n",
        "\n",
        "Lean el [brevísimo tutorial de HF sobre `datasets`](https://huggingface.co/docs/datasets/tutorial)."
      ],
      "metadata": {
        "id": "pN9ZrHk5h6mL"
      }
    },
    {
      "cell_type": "code",
      "source": [
        "dataset = load_dataset(\"yelp_review_full\")"
      ],
      "metadata": {
        "colab": {
          "base_uri": "https://localhost:8080/",
          "height": 264,
          "referenced_widgets": [
            "669c01cbe2404bf4b9a0a07fda680730",
            "4564721c43c849b9b5d5c513dcf2c330",
            "abc6c55c74a24e848997adc92c2b69fc",
            "a62b2d20f99540b8bf3b3c0b883a9e3e",
            "2ff780d2cede456c8019cb1e2b1ae1eb",
            "c9fa8e212d554231b45a470691ed5941",
            "53025e9b705142f0885040b5e5ced2a2",
            "615c9f6affac483e8d0b218aec52fc7e",
            "b6e05e9e6d2c4a0283e676c00bdda85d",
            "21ca2a351fa04f3695acd22450ddecb6",
            "e4e3488428f34eec8c01133d520ae40a",
            "d44b94fa89734d8b8ff8702e6952902b",
            "5a682ee2b95f4122b4fa961c888433b3",
            "91a893f361c841fc924c0b691c263217",
            "ddf9b6bc998d4932822fba744a086348",
            "5e7a202f935c4d4c81beaa0abcb17a4d",
            "73becfa965e94083a39ba0a144ba9b5c",
            "49f3b93427c5406fb53febb835d77eec",
            "a65cf86ae985483d85a0fefd64d67aaa",
            "a76edf0c2116493ba9ba70c35f9e09c2",
            "866a0244657e46daa04f40faebbd04ab",
            "7f212808523d4bd78b559bb654837164",
            "679a6155b11c42c79ed7e95926e8f44c",
            "1770f2c1ec234caabf2a723a3a85e16a",
            "945236d3badc4ec49360e3b823c8f698",
            "6e0fcd06c4524768abe473cc95be6860",
            "cbeb35e471c74a4f94ec5dd6d339a121",
            "cf02146dd9234c60bfc6fb3cfa988bb1",
            "40bdeaf1427845f788c0283a24d7f468",
            "630adad003e34c43ae7e018d6e9ac404",
            "e9d14d798e864758b9879371cbf55d0f",
            "31dc66918f574e488632cecc4a1b8a3d",
            "6e78db466bc94ec3ac24073643d6c356",
            "23a9635d19f444b386caa389df1e8061",
            "e6a41b2433df45638b0b4b9353bc2227",
            "c35409805ea84530be53c6fe7a1feb31",
            "2d156de2a60048caace19b567830d37d",
            "4106f5722741496182b81aabec3bcdbd",
            "314d9abd136f443797fb693b3a8f9703",
            "e7572eddbc53411784e990f7aa518d56",
            "567171f9f6dd498ca299a3953a17ea34",
            "8bef582dda6a47dca1fb9af36c427a9a",
            "6d9cb56b8130471b82b0b19faf1b0cab",
            "4286f9bae0a04f359ffaf86c8c94d156",
            "986bbfc56d444f558451acc052978f96",
            "3fda46043c204c14b910b2a63c289b99",
            "498f42f7fddb43afb807353cd2b530f9",
            "8088ba6485ab42b99f56832764a540dd",
            "6fab818466d1416bb17a07327066b4c1",
            "30107e5ab8ef4d499f9c76265caa8285",
            "f8dc6f9f5e704dcf842f9ab2b0af42c9",
            "14aa400835d24db6bcf645f6f220fba7",
            "38da66d638f844b3b5f990e299ec3898",
            "2ca561cb078d4792ba04ed44045b9f73",
            "2a07b88824b94f6baf38406d058afe69",
            "3104ee4d688a449cb78a3f578329b690",
            "7c2052b024dc4a399a8924b01f713131",
            "8133f5316b58473cb594fff5445cdf78",
            "24e1d61ab6a841f0ac5aa8b1106a2e9d",
            "d96f7cd34a234306bfe0a1f28cc5c5cd",
            "c8cfb7bfec314db7a573d17df3a5a369",
            "6229ec93e07d446491ac8ace73853908",
            "ca1c939eb37b4689a2bbff9a2a80f164",
            "34f0c1a5f66c4963ba4df881c2b2e312",
            "18ff2734f6c04edd9ce33d3d73257e08",
            "42f1674f4f904ebd85bdaeb1191921d3",
            "9994fe87ee4149c5963d7cbf075c7070",
            "56e2250a18fc4f1ab14bda66c7c775d5",
            "ae1f720a0cb44f71b389286a93060455",
            "2a473dc5b72e4f00b32e339310b9003b",
            "2853a9486a654143aed05a157d823ae0",
            "76efdf4ed3a247c6824fc144b35e8967",
            "441e3592289b4893a50a0828b974a3a6",
            "1b190b1460c1404c9f125ff9d5b81cf6",
            "560637e82f414658a220ae06d4970a85",
            "9a0b6c7597ca4ccfa892fa6128228f38",
            "779d125abfb140fa8946b20c8c3c75e3"
          ]
        },
        "id": "gzVdx6xVh6Sj",
        "outputId": "d5b94e0c-c5b8-4e9f-da89-cc85bb266aeb"
      },
      "execution_count": 7,
      "outputs": [
        {
          "output_type": "display_data",
          "data": {
            "text/plain": [
              "Downloading builder script:   0%|          | 0.00/4.41k [00:00<?, ?B/s]"
            ],
            "application/vnd.jupyter.widget-view+json": {
              "version_major": 2,
              "version_minor": 0,
              "model_id": "669c01cbe2404bf4b9a0a07fda680730"
            }
          },
          "metadata": {}
        },
        {
          "output_type": "display_data",
          "data": {
            "text/plain": [
              "Downloading metadata:   0%|          | 0.00/2.04k [00:00<?, ?B/s]"
            ],
            "application/vnd.jupyter.widget-view+json": {
              "version_major": 2,
              "version_minor": 0,
              "model_id": "d44b94fa89734d8b8ff8702e6952902b"
            }
          },
          "metadata": {}
        },
        {
          "output_type": "display_data",
          "data": {
            "text/plain": [
              "Downloading readme:   0%|          | 0.00/6.55k [00:00<?, ?B/s]"
            ],
            "application/vnd.jupyter.widget-view+json": {
              "version_major": 2,
              "version_minor": 0,
              "model_id": "679a6155b11c42c79ed7e95926e8f44c"
            }
          },
          "metadata": {}
        },
        {
          "output_type": "stream",
          "name": "stdout",
          "text": [
            "Downloading and preparing dataset yelp_review_full/yelp_review_full to /root/.cache/huggingface/datasets/yelp_review_full/yelp_review_full/1.0.0/e8e18e19d7be9e75642fc66b198abadb116f73599ec89a69ba5dd8d1e57ba0bf...\n"
          ]
        },
        {
          "output_type": "display_data",
          "data": {
            "text/plain": [
              "Downloading data:   0%|          | 0.00/196M [00:00<?, ?B/s]"
            ],
            "application/vnd.jupyter.widget-view+json": {
              "version_major": 2,
              "version_minor": 0,
              "model_id": "23a9635d19f444b386caa389df1e8061"
            }
          },
          "metadata": {}
        },
        {
          "output_type": "display_data",
          "data": {
            "text/plain": [
              "Generating train split:   0%|          | 0/650000 [00:00<?, ? examples/s]"
            ],
            "application/vnd.jupyter.widget-view+json": {
              "version_major": 2,
              "version_minor": 0,
              "model_id": "986bbfc56d444f558451acc052978f96"
            }
          },
          "metadata": {}
        },
        {
          "output_type": "display_data",
          "data": {
            "text/plain": [
              "Generating test split:   0%|          | 0/50000 [00:00<?, ? examples/s]"
            ],
            "application/vnd.jupyter.widget-view+json": {
              "version_major": 2,
              "version_minor": 0,
              "model_id": "3104ee4d688a449cb78a3f578329b690"
            }
          },
          "metadata": {}
        },
        {
          "output_type": "stream",
          "name": "stdout",
          "text": [
            "Dataset yelp_review_full downloaded and prepared to /root/.cache/huggingface/datasets/yelp_review_full/yelp_review_full/1.0.0/e8e18e19d7be9e75642fc66b198abadb116f73599ec89a69ba5dd8d1e57ba0bf. Subsequent calls will reuse this data.\n"
          ]
        },
        {
          "output_type": "display_data",
          "data": {
            "text/plain": [
              "  0%|          | 0/2 [00:00<?, ?it/s]"
            ],
            "application/vnd.jupyter.widget-view+json": {
              "version_major": 2,
              "version_minor": 0,
              "model_id": "9994fe87ee4149c5963d7cbf075c7070"
            }
          },
          "metadata": {}
        }
      ]
    },
    {
      "cell_type": "code",
      "source": [
        "# vemos la estructura:\n",
        "print(dataset)"
      ],
      "metadata": {
        "colab": {
          "base_uri": "https://localhost:8080/"
        },
        "id": "xMpZStLajfTu",
        "outputId": "ad106392-60e4-4f31-a631-d5d2329c09e3"
      },
      "execution_count": 8,
      "outputs": [
        {
          "output_type": "stream",
          "name": "stdout",
          "text": [
            "DatasetDict({\n",
            "    train: Dataset({\n",
            "        features: ['label', 'text'],\n",
            "        num_rows: 650000\n",
            "    })\n",
            "    test: Dataset({\n",
            "        features: ['label', 'text'],\n",
            "        num_rows: 50000\n",
            "    })\n",
            "})\n"
          ]
        }
      ]
    },
    {
      "cell_type": "code",
      "source": [
        "# vemos un review al azar:\n",
        "dataset[\"train\"][33]"
      ],
      "metadata": {
        "colab": {
          "base_uri": "https://localhost:8080/"
        },
        "id": "alRfTgMcjnez",
        "outputId": "30e6b978-07a9-4ea6-c056-0096915154b7"
      },
      "execution_count": 9,
      "outputs": [
        {
          "output_type": "execute_result",
          "data": {
            "text/plain": [
              "{'label': 2,\n",
              " 'text': 'If you want a true understanding of Pittsburgh in the morning, come here. This greasy spoon is always packed, and is one of the better of its kind south of the city.\\\\n\\\\nThey serve waffles in halves, which is great. The eggs and toast are good, the homemade hot sausage is excellent. The drawback are the barely cooked potatoes.\\\\n\\\\nIf you\\'re hungry, get \\\\\"The Mixed Grill\\\\\"... Gab and Eat\\'s brand of the \\\\\"kitchen sink\\\\\" breakfast that all Midwest places are about.'}"
            ]
          },
          "metadata": {},
          "execution_count": 9
        }
      ]
    },
    {
      "cell_type": "code",
      "source": [
        "# lo achicamos para trabajar mas rapido: 5k train, 5k test\n",
        "dataset[\"train\"] = dataset[\"train\"].select(range(0, 5_000))\n",
        "dataset[\"test\"] = dataset[\"test\"].select(range(0, 5_000))"
      ],
      "metadata": {
        "id": "Z7rgvwpCrY_e"
      },
      "execution_count": 10,
      "outputs": []
    },
    {
      "cell_type": "code",
      "source": [
        "# trabajamos solo con los textos y nos olvidamos de dataset\n",
        "texts_train = dataset[\"train\"][\"text\"]\n",
        "texts_test = dataset[\"test\"][\"text\"]"
      ],
      "metadata": {
        "id": "emJc3IflKgZU"
      },
      "execution_count": 11,
      "outputs": []
    },
    {
      "cell_type": "code",
      "source": [
        "texts_train[0]"
      ],
      "metadata": {
        "colab": {
          "base_uri": "https://localhost:8080/",
          "height": 105
        },
        "id": "W-jz484l2gYV",
        "outputId": "b9aac906-001a-4827-f306-adbc5b21ef08"
      },
      "execution_count": 12,
      "outputs": [
        {
          "output_type": "execute_result",
          "data": {
            "text/plain": [
              "\"dr. goldberg offers everything i look for in a general practitioner.  he's nice and easy to talk to without being patronizing; he's always on time in seeing his patients; he's affiliated with a top-notch hospital (nyu) which my parents have explained to me is very important in case something happens and you need surgery; and you can get referrals to see specialists without having to see him first.  really, what more do you need?  i'm sitting here trying to think of any complaints i have about him, but i'm really drawing a blank.\""
            ],
            "application/vnd.google.colaboratory.intrinsic+json": {
              "type": "string"
            }
          },
          "metadata": {},
          "execution_count": 12
        }
      ]
    },
    {
      "cell_type": "markdown",
      "source": [
        "## Tokenización\n",
        "\n",
        "Vamos a usar el tokenizer para inglés de `spacy` (instanciado desde `torchtext`) y en las próximas clases vamos a usar otros más sofisticados. \n",
        "\n",
        "El objetivo es generar una lista de trigramas para entrenar la \n",
        "NN con trigramas (2 palabras de contexto/historia y 1 target). Vamos a:\n",
        "\n",
        "* Construir un vocab en base al tokenizador. Vamos a usar `torchtext` en lugar de `nltk` porque nos permite mapear mejor de un token a un token_id. Tenemos que hacer padding con BOS y EOS tokens y vamos a usar min frec = 2.\n",
        "\n",
        "* Tokenizar cada doc y convertir a token ids según el vocab.\n",
        "\n",
        "* Pasar de tokens a trigramas y generar una sola lista con todos los samples de entrenamiento.\n"
      ],
      "metadata": {
        "id": "gOR6scsQjyay"
      }
    },
    {
      "cell_type": "code",
      "source": [
        "# tokenizer default para ingles con reglas de puntacion, contracciones, etc:\n",
        "tokenizer = get_tokenizer('spacy')"
      ],
      "metadata": {
        "id": "M6-oSyEvnXFU",
        "colab": {
          "base_uri": "https://localhost:8080/"
        },
        "outputId": "ac53e062-1c71-472c-99d0-08be6b67318a"
      },
      "execution_count": 13,
      "outputs": [
        {
          "output_type": "stream",
          "name": "stderr",
          "text": [
            "/usr/local/lib/python3.9/dist-packages/torchtext/data/utils.py:105: UserWarning: Spacy model \"en\" could not be loaded, trying \"en_core_web_sm\" instead\n",
            "  warnings.warn(\n"
          ]
        }
      ]
    },
    {
      "cell_type": "code",
      "source": [
        "def tokenize_doc(doc: str, ngram_order: int = 3) -> list:\n",
        "  \"\"\"Convierte documento a list of tokens.\n",
        "  NOTE aca BOS y EOS en realidad son end-of-doc y beg-of-doc tokens.\n",
        "  Deberiamos usar sentence_tokenize si queremos usar BOS y EOS. \n",
        "  \"\"\"\n",
        "  # reemplaza todo whitespace por un solo espacio\n",
        "  text = re.sub(r'\\s+', ' ', doc)\n",
        "  res = list(pad_both_ends(tokenizer(text), n=ngram_order))\n",
        "  return res\n",
        "\n",
        "def doc2tensor(doc: str, vocab: Vocab, ngram_order: int = 3) -> Tensor:\n",
        "    \"\"\"Convierte documento a flat Tensor de vocab token ids\n",
        "    \"\"\"\n",
        "    tokens = tokenize_doc(doc, ngram_order=ngram_order)\n",
        "    idxs = vocab(tokens)\n",
        "    res = torch.tensor(idxs, dtype=torch.long)\n",
        "    return res\n",
        "\n",
        "def doc2ngrams(doc: str, vocab: Vocab, ngram_order: int = 3) -> list: \n",
        "  \"\"\"Convierte un documento en tuplas de \n",
        "  ([ idx_i-context_size, ..., idx_i-1 ], target_idx)\n",
        "  \"\"\"\n",
        "  tokens = doc2tensor(doc, vocab, ngram_order=ngram_order)\n",
        "  ngrams = [\n",
        "      (tokens[(i-ngram_order):(i-1)], tokens[i-1])\n",
        "      for i in range(ngram_order, len(tokens))\n",
        "  ]  \n",
        "  return ngrams   "
      ],
      "metadata": {
        "id": "PI9LY8AjMfq0"
      },
      "execution_count": 14,
      "outputs": []
    },
    {
      "cell_type": "code",
      "source": [
        "texts_train[33]"
      ],
      "metadata": {
        "colab": {
          "base_uri": "https://localhost:8080/",
          "height": 87
        },
        "id": "-Gj9RKuC3ut_",
        "outputId": "47bca650-33c8-46b4-d194-a6d94790baab"
      },
      "execution_count": 18,
      "outputs": [
        {
          "output_type": "execute_result",
          "data": {
            "text/plain": [
              "'If you want a true understanding of Pittsburgh in the morning, come here. This greasy spoon is always packed, and is one of the better of its kind south of the city.\\\\n\\\\nThey serve waffles in halves, which is great. The eggs and toast are good, the homemade hot sausage is excellent. The drawback are the barely cooked potatoes.\\\\n\\\\nIf you\\'re hungry, get \\\\\"The Mixed Grill\\\\\"... Gab and Eat\\'s brand of the \\\\\"kitchen sink\\\\\" breakfast that all Midwest places are about.'"
            ],
            "application/vnd.google.colaboratory.intrinsic+json": {
              "type": "string"
            }
          },
          "metadata": {},
          "execution_count": 18
        }
      ]
    },
    {
      "cell_type": "code",
      "source": [
        "# por ejemplo:\n",
        "print(tokenize_doc(texts_train[33]))\n",
        "# la limpieza se puede mejorar mucho (por ej hay \"\\\\n\" que no se parsearon como newline)"
      ],
      "metadata": {
        "colab": {
          "base_uri": "https://localhost:8080/"
        },
        "id": "3kfR3OzHMgoH",
        "outputId": "7138a967-ea75-45f2-e4c3-84d3a3cc1f48"
      },
      "execution_count": 16,
      "outputs": [
        {
          "output_type": "stream",
          "name": "stdout",
          "text": [
            "['<s>', '<s>', 'If', 'you', 'want', 'a', 'true', 'understanding', 'of', 'Pittsburgh', 'in', 'the', 'morning', ',', 'come', 'here', '.', 'This', 'greasy', 'spoon', 'is', 'always', 'packed', ',', 'and', 'is', 'one', 'of', 'the', 'better', 'of', 'its', 'kind', 'south', 'of', 'the', 'city.\\\\n\\\\nThey', 'serve', 'waffles', 'in', 'halves', ',', 'which', 'is', 'great', '.', 'The', 'eggs', 'and', 'toast', 'are', 'good', ',', 'the', 'homemade', 'hot', 'sausage', 'is', 'excellent', '.', 'The', 'drawback', 'are', 'the', 'barely', 'cooked', 'potatoes.\\\\n\\\\nIf', 'you', \"'re\", 'hungry', ',', 'get', '\\\\\"The', 'Mixed', 'Grill\\\\', '\"', '...', 'Gab', 'and', 'Eat', \"'s\", 'brand', 'of', 'the', '\\\\\"kitchen', 'sink\\\\', '\"', 'breakfast', 'that', 'all', 'Midwest', 'places', 'are', 'about', '.', '</s>', '</s>']\n"
          ]
        }
      ]
    },
    {
      "cell_type": "code",
      "source": [
        "# construimos el vocab!\n",
        "vocab = build_vocab_from_iterator(\n",
        "    map(tokenize_doc, texts_train), specials=['<unk>'], min_freq=2)\n",
        "vocab.set_default_index(vocab['<unk>']) # va a devolver este index si pedimos OOV"
      ],
      "metadata": {
        "id": "i_LEUpPcMmFe"
      },
      "execution_count": 19,
      "outputs": []
    },
    {
      "cell_type": "code",
      "source": [
        "vocab[\"<unk>\"], vocab[\"boquita\"], vocab[\"the\"], vocab[\"area\"], vocab[\"<s>\"]  "
      ],
      "metadata": {
        "colab": {
          "base_uri": "https://localhost:8080/"
        },
        "id": "IcxBzGD84ENx",
        "outputId": "3b455586-39db-47f3-ce55-6b3a6aa8ca32"
      },
      "execution_count": 20,
      "outputs": [
        {
          "output_type": "execute_result",
          "data": {
            "text/plain": [
              "(0, 0, 2, 217, 11)"
            ]
          },
          "metadata": {},
          "execution_count": 20
        }
      ]
    },
    {
      "cell_type": "code",
      "source": [
        "# veamos un ejemplo:\n",
        "doc2tensor(texts_train[33], vocab, ngram_order=3)"
      ],
      "metadata": {
        "colab": {
          "base_uri": "https://localhost:8080/"
        },
        "id": "cgk2Zt4CLfTp",
        "outputId": "09688d22-55ee-4800-da4d-be8c3b458d0a"
      },
      "execution_count": 21,
      "outputs": [
        {
          "output_type": "execute_result",
          "data": {
            "text/plain": [
              "tensor([   11,    11,   160,    21,   144,     6,   955,  3315,     9,   102,\n",
              "           14,     2,   576,     3,   162,    47,     1,   103,   683,  2455,\n",
              "           13,   115,   569,     3,     4,    13,    57,     9,     2,   123,\n",
              "            9,   288,   286,  2794,     9,     2,     0,   587,  4683,    14,\n",
              "            0,     3,    65,    13,    74,     1,    22,   789,     4,   834,\n",
              "           34,    39,     3,     2,  1056,   250,   639,    13,   399,     1,\n",
              "           22,  4232,    34,     2,   911,   350,     0,    21,   125,   802,\n",
              "            3,    53,  2725,  7349, 10843,    76,    70,  5669,     4,  1838,\n",
              "           17,  1604,     9,     2,     0,     0,    76,   385,    16,    56,\n",
              "         6369,   294,    34,    61,     1,    10,    10])"
            ]
          },
          "metadata": {},
          "execution_count": 21
        }
      ]
    },
    {
      "cell_type": "code",
      "source": [
        "doc2ngrams(texts_train[33], vocab)[:5]"
      ],
      "metadata": {
        "colab": {
          "base_uri": "https://localhost:8080/"
        },
        "id": "Y9aznm-PLfKV",
        "outputId": "8dd452cc-d644-44cd-99d1-08729ea5cb0f"
      },
      "execution_count": 22,
      "outputs": [
        {
          "output_type": "execute_result",
          "data": {
            "text/plain": [
              "[(tensor([11, 11]), tensor(160)),\n",
              " (tensor([ 11, 160]), tensor(21)),\n",
              " (tensor([160,  21]), tensor(144)),\n",
              " (tensor([ 21, 144]), tensor(6)),\n",
              " (tensor([144,   6]), tensor(955))]"
            ]
          },
          "metadata": {},
          "execution_count": 22
        }
      ]
    },
    {
      "cell_type": "code",
      "source": [
        "# armamos ngrams de training\n",
        "ngrams_train = []\n",
        "for doc in texts_train:\n",
        "  ngrams_train.extend(doc2ngrams(doc, vocab, ngram_order=3))"
      ],
      "metadata": {
        "id": "FW93Ku_RLfHZ"
      },
      "execution_count": 23,
      "outputs": []
    },
    {
      "cell_type": "markdown",
      "source": [
        "## Modelo\n",
        "\n",
        "Armamos una red bien sencilla con una hidden layer. Es la misma arquitectura que Figure 7.13 de Jurafksy. \n",
        "\n",
        "**OJO:** \n",
        "\n",
        "* Si vamos a usar [Cross Entropy Loss](https://pytorch.org/docs/stable/generated/torch.nn.CrossEntropyLoss.html) no tenemos que aplicar softmax porque espera \"raw, unnormalized scores for each class\".\n",
        "* En cambio [NLLLoss](https://pytorch.org/docs/stable/generated/torch.nn.NLLLoss.html) espera que usemos log_softmax."
      ],
      "metadata": {
        "id": "Dtx-oJRAcsRy"
      }
    },
    {
      "cell_type": "code",
      "source": [
        "class NGramLanguageModel(nn.Module):\n",
        "\n",
        "    def __init__(self, vocab_size, embedding_dim, hidden_size, ngram_order):\n",
        "        super().__init__()\n",
        "        context_size = ngram_order - 1 \n",
        "        self.embeddings = nn.Embedding(vocab_size, embedding_dim)\n",
        "        self.linear1 = nn.Linear(context_size * embedding_dim, hidden_size)\n",
        "        self.linear2 = nn.Linear(hidden_size, vocab_size)\n",
        "\n",
        "    def forward(self, inputs):\n",
        "        embeds = self.embeddings(inputs) # shape (bsz, context_size, embed_dim)\n",
        "        # concatena vectores de contexto\n",
        "        embeds = embeds.flatten(1) # shape (bsz, context_size * embed_dim)\n",
        "        hidden = F.relu(self.linear1(embeds))\n",
        "        z = self.linear2(hidden)\n",
        "        log_probas = F.log_softmax(z, dim=1)\n",
        "        return log_probas"
      ],
      "metadata": {
        "id": "j_xcKS3NcrB3"
      },
      "execution_count": 24,
      "outputs": []
    },
    {
      "cell_type": "markdown",
      "source": [
        "## Training\n",
        "\n",
        "Hacemos un `DataLoader` con nuestros ngrams de entrenamiento. Esta clase nos sirve para ir procesando los samples en batches durante el entrenamiento."
      ],
      "metadata": {
        "id": "6Ec3_tL41LDs"
      }
    },
    {
      "cell_type": "code",
      "source": [
        "# seed para reproducibilidad (https://pytorch.org/docs/stable/notes/randomness.html#dataloader)\n",
        "g = torch.Generator()\n",
        "g.manual_seed(33)"
      ],
      "metadata": {
        "colab": {
          "base_uri": "https://localhost:8080/"
        },
        "id": "UB5rfGhXYHkX",
        "outputId": "746f484d-5cb3-48ca-8e0c-f117bf6a8a39"
      },
      "execution_count": 25,
      "outputs": [
        {
          "output_type": "execute_result",
          "data": {
            "text/plain": [
              "<torch._C.Generator at 0x7fc3d4e88f90>"
            ]
          },
          "metadata": {},
          "execution_count": 25
        }
      ]
    },
    {
      "cell_type": "code",
      "source": [
        "train_dataloader = DataLoader(\n",
        "    ngrams_train, batch_size=32, shuffle=True, generator=g)"
      ],
      "metadata": {
        "id": "AubwG4g55z3C"
      },
      "execution_count": 26,
      "outputs": []
    },
    {
      "cell_type": "code",
      "source": [
        "# revisamos el primer batch del generador\n",
        "next(iter(train_dataloader))[0].shape\n",
        "# son batchsize ejemplos con 2 vectores cada uno (los 2 vectores de contexto)"
      ],
      "metadata": {
        "colab": {
          "base_uri": "https://localhost:8080/"
        },
        "id": "Vy9wvNw-Mdkp",
        "outputId": "a9208351-ceac-4965-dd6d-b92ea88f322c"
      },
      "execution_count": 27,
      "outputs": [
        {
          "output_type": "execute_result",
          "data": {
            "text/plain": [
              "torch.Size([32, 2])"
            ]
          },
          "metadata": {},
          "execution_count": 27
        }
      ]
    },
    {
      "cell_type": "code",
      "source": [
        "def train(\n",
        "    loss_function, optimizer, model, train_dataloader, num_epochs, device=None):\n",
        "  \"\"\"Entrena iterando por epoch.\n",
        "  \"\"\"\n",
        "  for epoch in range(num_epochs):\n",
        "      epoch_loss = train_epoch(loss_function, optimizer, model, train_dataloader, device=device)\n",
        "      print(f\"Epoch {epoch+1} / Loss {epoch_loss:.3f}\")\n",
        "\n",
        "def train_epoch(loss_function, optimizer, model, ngrams_loader, device=None):\n",
        "    \"\"\"Entrena 1 epoch\n",
        "    \"\"\"\n",
        "    total_loss = 0\n",
        "    num_batches = 0\n",
        "    for context, target in ngrams_loader:\n",
        "        if device:\n",
        "            context = context.to(device)\n",
        "            target = target.to(device)\n",
        "        # 1. Ponemos a cero el gradiente\n",
        "        optimizer.zero_grad() \n",
        "        # 2. Forward pass (log probabilities over next words)\n",
        "        log_probas = model(context)\n",
        "        # 3. Compute loss function\n",
        "        loss = loss_function(log_probas, target)\n",
        "        # 4. Backward pass + update the gradient\n",
        "        loss.backward()\n",
        "        optimizer.step()\n",
        "        # Get loss\n",
        "        total_loss += loss.item()\n",
        "        num_batches += 1\n",
        "    return total_loss / num_batches"
      ],
      "metadata": {
        "id": "ZZx2A2qN2Gjy"
      },
      "execution_count": 28,
      "outputs": []
    },
    {
      "cell_type": "code",
      "source": [
        "device = \"cuda\" if torch.cuda.is_available() else \"cpu\"\n",
        "print(device)\n",
        "# Podemos activar gpu en notebook settings al principio"
      ],
      "metadata": {
        "id": "djvarqNi2bYm",
        "colab": {
          "base_uri": "https://localhost:8080/"
        },
        "outputId": "8a0994cf-9787-42ca-fc5a-ac003a301885"
      },
      "execution_count": 30,
      "outputs": [
        {
          "output_type": "stream",
          "name": "stdout",
          "text": [
            "cuda\n"
          ]
        }
      ]
    },
    {
      "cell_type": "code",
      "source": [
        "model = NGramLanguageModel(\n",
        "    vocab_size=len(vocab), \n",
        "    embedding_dim=50,\n",
        "    hidden_size=16,\n",
        "    ngram_order=3,\n",
        ")\n",
        "optimizer = optim.Adam(model.parameters(), lr=1e-3)\n",
        "loss_function = nn.NLLLoss()\n",
        "\n",
        "model = model.to(device)"
      ],
      "metadata": {
        "id": "RAneQY5_3Bo8"
      },
      "execution_count": 33,
      "outputs": []
    },
    {
      "cell_type": "code",
      "source": [
        "# entrenamos! (1 epoch para ahorrar tiempo)\n",
        "train_dataloader = DataLoader(ngrams_train, batch_size=32, shuffle=True, generator=g)\n",
        "num_epochs = 1\n",
        "train(loss_function, optimizer, model, train_dataloader, num_epochs=num_epochs, device=device)"
      ],
      "metadata": {
        "colab": {
          "base_uri": "https://localhost:8080/"
        },
        "id": "eR6yqrAU2EhI",
        "outputId": "a7054666-e7df-45ae-c40c-01201a63c61c"
      },
      "execution_count": 34,
      "outputs": [
        {
          "output_type": "stream",
          "name": "stdout",
          "text": [
            "Epoch 1 / Loss 5.949\n"
          ]
        }
      ]
    },
    {
      "cell_type": "markdown",
      "source": [
        "## Evaluación\n",
        "\n",
        "Computamos perplexity y vemos cómo generar texto aleatorio."
      ],
      "metadata": {
        "id": "yYd_4p8Q9Rcs"
      }
    },
    {
      "cell_type": "code",
      "source": [
        "def text2input(context_str: str, vocab: Vocab, ngram_order: int = 3) -> Tensor:\n",
        "    \"\"\"Convierte contexto en un input para la NN (tensor de context IDs)\n",
        "    \"\"\"\n",
        "    ngrams = doc2ngrams(context_str, vocab, ngram_order=ngram_order)\n",
        "    # el input es el contexto del ultimo ngram\n",
        "    last_context = ngrams[-1][0]\n",
        "    # agregamos una dimension que hace las veces de batch (size=1) para hacer el forward\n",
        "    out = last_context.unsqueeze(0)\n",
        "    return out\n",
        "\n",
        "def idx2str(itos: list, input: Tensor) -> list:\n",
        "    \"\"\"De vocab ID a token\n",
        "    \"\"\"\n",
        "    res = [itos[i] for i in input]\n",
        "    return res\n",
        "\n",
        "def sample_text(model, vocab, start_text, max_length=10, ngram_order=3):\n",
        "    \"\"\"Generación autorregresiva aleatoria de texto sampleando de softmax.\n",
        "    El modelo debe ser consistente con ngram_order.\n",
        "    \"\"\"\n",
        "    # buscamos los input IDs segun el context size\n",
        "    input_ = text2input(start_text, vocab, ngram_order=ngram_order) \n",
        "    # get model device para mandar inputs al mismo device\n",
        "    device = next(model.parameters()).device\n",
        "    input_ = input_.to(device)\n",
        "    idx_eos = vocab.get_stoi()[\"</s>\"]\n",
        "    context_size = ngram_order - 1\n",
        "    itos = vocab.get_itos()\n",
        "    # el resultado solo va a incluir el contexto usado segun los ngrams + el texto nuevo\n",
        "    idxs_result = input_.clone()\n",
        "    with torch.no_grad():  # no need to track history in sampling\n",
        "        for i in range(max_length):\n",
        "            output_ = model(input_) # log_softmax scores\n",
        "            # output es < 0 -- tenemos que aplicar exp para samplear de la\n",
        "            # softmax con torch.multinomial \n",
        "            sampled_idx = torch.multinomial(output_.exp(), num_samples=1)\n",
        "            if sampled_idx == idx_eos: # break if </s>\n",
        "                break\n",
        "            # actualizamos el resultado\n",
        "            idxs_result = torch.cat((idxs_result, sampled_idx), dim=1)\n",
        "            # actualizamos el input conservando solo los ultimos context_size tokens\n",
        "            input_ = idxs_result[:,-context_size:]\n",
        "        tokens_result = idx2str(itos, idxs_result.squeeze())\n",
        "        return tokens_result"
      ],
      "metadata": {
        "id": "dcZNlwPqFnw-"
      },
      "execution_count": 35,
      "outputs": []
    },
    {
      "cell_type": "code",
      "source": [
        "start_text = \"The place is\"\n",
        "res_ = sample_text(model, vocab, start_text, max_length=10)\n",
        "\n",
        "print(res_)"
      ],
      "metadata": {
        "colab": {
          "base_uri": "https://localhost:8080/"
        },
        "id": "5X0_SgYkURs9",
        "outputId": "9049559d-1f65-4914-8cc0-b38f2de3438a"
      },
      "execution_count": 36,
      "outputs": [
        {
          "output_type": "stream",
          "name": "stdout",
          "text": [
            "['place', 'is', 'drop', 'to', 'the', 'N', 'carrot', 'and', 'closer', 'while', 'in', 'all']\n"
          ]
        }
      ]
    },
    {
      "cell_type": "code",
      "source": [
        "start_text = \"\"\n",
        "res_ = sample_text(model, vocab, start_text, max_length=35)\n",
        "\n",
        "res_"
      ],
      "metadata": {
        "colab": {
          "base_uri": "https://localhost:8080/"
        },
        "id": "MCP5OYMuY66J",
        "outputId": "3d423d7b-6a4f-46b7-b8ee-eb8d59822a80"
      },
      "execution_count": null,
      "outputs": [
        {
          "output_type": "execute_result",
          "data": {
            "text/plain": [
              "['<s>',\n",
              " '<s>',\n",
              " 'The',\n",
              " 'food',\n",
              " 'is',\n",
              " 'mexican',\n",
              " 'but',\n",
              " 'I',\n",
              " 'ordered',\n",
              " 'dinner',\n",
              " 'as',\n",
              " 'the',\n",
              " 'deck',\n",
              " 'were',\n",
              " 'lunch',\n",
              " '.',\n",
              " 'after',\n",
              " 'the',\n",
              " 'espresso',\n",
              " 'is',\n",
              " 'served',\n",
              " 'at',\n",
              " 'here',\n",
              " 'to',\n",
              " 'set',\n",
              " 'one',\n",
              " 'it',\n",
              " 'today',\n",
              " 'pancakes',\n",
              " 'when',\n",
              " 'not',\n",
              " 'regularly',\n",
              " 'so',\n",
              " 'because',\n",
              " 'I',\n",
              " 'ca',\n",
              " \"n't\"]"
            ]
          },
          "metadata": {},
          "execution_count": 36
        }
      ]
    },
    {
      "cell_type": "markdown",
      "source": [
        "Ahora calculamos perplexity (PPL). \n",
        "\n",
        "Hacemos $ \\exp(\\log(PPL)) $ para evitar underflow. \n",
        "\n",
        "Vean que $\\log(PPL)$ equivale a: $CrossEntropy = -avg(\\log(probas))$"
      ],
      "metadata": {
        "id": "Wi4laTQGIaQy"
      }
    },
    {
      "cell_type": "code",
      "source": [
        "# ngrams de test (lo hacemos solo para el primer doc)\n",
        "ngrams_test = doc2ngrams(texts_test[0], vocab, ngram_order=3)"
      ],
      "metadata": {
        "id": "UvaJlCzZ4Br-"
      },
      "execution_count": 37,
      "outputs": []
    },
    {
      "cell_type": "code",
      "source": [
        "test_dataloader = DataLoader(ngrams_test, batch_size=32, shuffle=False)"
      ],
      "metadata": {
        "id": "DlxeAZ9G4PaZ"
      },
      "execution_count": 38,
      "outputs": []
    },
    {
      "cell_type": "code",
      "source": [
        "def perplexity(model, dataloader, device):\n",
        "    with torch.no_grad():\n",
        "        all_log_probas = torch.tensor([], device=device)\n",
        "        for context, target in dataloader:\n",
        "            if device:\n",
        "                context = context.to(device)\n",
        "                target = target.to(device)\n",
        "            batch_size = len(target)\n",
        "            log_probas = model(context)\n",
        "            log_probas_correct = log_probas[torch.arange(log_probas.size(0)), target]\n",
        "            all_log_probas = torch.cat((all_log_probas, log_probas_correct))\n",
        "            # NOTE tambien podemos usar la loss que equivale a \n",
        "            # mean(-log(proba_clase_correcta)):\n",
        "            # loss = loss_function(log_probas, target) # esto es el promedio\n",
        "            # equivale a:\n",
        "            # loss2 = torch.mean(-log_probas_correct)\n",
        "        res = torch.exp(-all_log_probas.mean())\n",
        "    return res.item()"
      ],
      "metadata": {
        "id": "IsuUZCu25Gr_"
      },
      "execution_count": 39,
      "outputs": []
    },
    {
      "cell_type": "code",
      "source": [
        "perplexity(model, test_dataloader, device)"
      ],
      "metadata": {
        "colab": {
          "base_uri": "https://localhost:8080/"
        },
        "id": "bWAjtowSLFuA",
        "outputId": "d73110f6-96e2-4662-db96-29d49356999b"
      },
      "execution_count": 40,
      "outputs": [
        {
          "output_type": "execute_result",
          "data": {
            "text/plain": [
              "293.2986755371094"
            ]
          },
          "metadata": {},
          "execution_count": 40
        }
      ]
    },
    {
      "cell_type": "code",
      "source": [
        "# es correcto usar perplexity si tenemos una distribucion de probas. dado el contexto"
      ],
      "metadata": {
        "id": "aSwZZlGF-XgF"
      },
      "execution_count": null,
      "outputs": []
    },
    {
      "cell_type": "markdown",
      "source": [
        "## Referencias\n",
        "\n",
        "* https://pytorch.org/tutorials/beginner/nlp/word_embeddings_tutorial.html#an-example-n-gram-language-modeling\n",
        "* https://pytorch.org/tutorials/beginner/transformer_tutorial.html\n",
        "* https://pytorch.org/tutorials/intermediate/char_rnn_generation_tutorial.html"
      ],
      "metadata": {
        "id": "aIK8Bi41HsZB"
      }
    }
  ]
}