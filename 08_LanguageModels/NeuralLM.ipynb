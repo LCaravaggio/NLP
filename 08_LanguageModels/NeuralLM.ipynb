{
  "nbformat": 4,
  "nbformat_minor": 0,
  "metadata": {
    "colab": {
      "provenance": [],
      "toc_visible": true,
      "authorship_tag": "ABX9TyOIJxfG0s8sGolK0jF9yOr4",
      "include_colab_link": true
    },
    "kernelspec": {
      "name": "python3",
      "display_name": "Python 3"
    },
    "language_info": {
      "name": "python"
    },
    "accelerator": "GPU",
    "widgets": {
      "application/vnd.jupyter.widget-state+json": {
        "9a015de0f2454263b4e0854a6324acbf": {
          "model_module": "@jupyter-widgets/controls",
          "model_name": "HBoxModel",
          "model_module_version": "1.5.0",
          "state": {
            "_dom_classes": [],
            "_model_module": "@jupyter-widgets/controls",
            "_model_module_version": "1.5.0",
            "_model_name": "HBoxModel",
            "_view_count": null,
            "_view_module": "@jupyter-widgets/controls",
            "_view_module_version": "1.5.0",
            "_view_name": "HBoxView",
            "box_style": "",
            "children": [
              "IPY_MODEL_baa2908670b24eb79a8771cce0fa8e4b",
              "IPY_MODEL_57a4749289574899a03a2bffa53fed94",
              "IPY_MODEL_f9580cf2d3b2469ab6247ba15f79f9a4"
            ],
            "layout": "IPY_MODEL_0f3ae5dab2114abd8c51d9647f23a4fb"
          }
        },
        "baa2908670b24eb79a8771cce0fa8e4b": {
          "model_module": "@jupyter-widgets/controls",
          "model_name": "HTMLModel",
          "model_module_version": "1.5.0",
          "state": {
            "_dom_classes": [],
            "_model_module": "@jupyter-widgets/controls",
            "_model_module_version": "1.5.0",
            "_model_name": "HTMLModel",
            "_view_count": null,
            "_view_module": "@jupyter-widgets/controls",
            "_view_module_version": "1.5.0",
            "_view_name": "HTMLView",
            "description": "",
            "description_tooltip": null,
            "layout": "IPY_MODEL_756f493c21404212ba31190dd2fb66b0",
            "placeholder": "​",
            "style": "IPY_MODEL_83e71dcd56804fba824884ebffe98dbb",
            "value": "Downloading readme: 100%"
          }
        },
        "57a4749289574899a03a2bffa53fed94": {
          "model_module": "@jupyter-widgets/controls",
          "model_name": "FloatProgressModel",
          "model_module_version": "1.5.0",
          "state": {
            "_dom_classes": [],
            "_model_module": "@jupyter-widgets/controls",
            "_model_module_version": "1.5.0",
            "_model_name": "FloatProgressModel",
            "_view_count": null,
            "_view_module": "@jupyter-widgets/controls",
            "_view_module_version": "1.5.0",
            "_view_name": "ProgressView",
            "bar_style": "success",
            "description": "",
            "description_tooltip": null,
            "layout": "IPY_MODEL_28a7f91937284b8e914bfcca58f09f95",
            "max": 6724,
            "min": 0,
            "orientation": "horizontal",
            "style": "IPY_MODEL_b7736cc2a2ac47999e22832f7aa825ae",
            "value": 6724
          }
        },
        "f9580cf2d3b2469ab6247ba15f79f9a4": {
          "model_module": "@jupyter-widgets/controls",
          "model_name": "HTMLModel",
          "model_module_version": "1.5.0",
          "state": {
            "_dom_classes": [],
            "_model_module": "@jupyter-widgets/controls",
            "_model_module_version": "1.5.0",
            "_model_name": "HTMLModel",
            "_view_count": null,
            "_view_module": "@jupyter-widgets/controls",
            "_view_module_version": "1.5.0",
            "_view_name": "HTMLView",
            "description": "",
            "description_tooltip": null,
            "layout": "IPY_MODEL_bc69ee141c1b455fa93f60ce1ec3d3cb",
            "placeholder": "​",
            "style": "IPY_MODEL_44fe223bb5cf4d1291ddf66bc2d85126",
            "value": " 6.72k/6.72k [00:00&lt;00:00, 308kB/s]"
          }
        },
        "0f3ae5dab2114abd8c51d9647f23a4fb": {
          "model_module": "@jupyter-widgets/base",
          "model_name": "LayoutModel",
          "model_module_version": "1.2.0",
          "state": {
            "_model_module": "@jupyter-widgets/base",
            "_model_module_version": "1.2.0",
            "_model_name": "LayoutModel",
            "_view_count": null,
            "_view_module": "@jupyter-widgets/base",
            "_view_module_version": "1.2.0",
            "_view_name": "LayoutView",
            "align_content": null,
            "align_items": null,
            "align_self": null,
            "border": null,
            "bottom": null,
            "display": null,
            "flex": null,
            "flex_flow": null,
            "grid_area": null,
            "grid_auto_columns": null,
            "grid_auto_flow": null,
            "grid_auto_rows": null,
            "grid_column": null,
            "grid_gap": null,
            "grid_row": null,
            "grid_template_areas": null,
            "grid_template_columns": null,
            "grid_template_rows": null,
            "height": null,
            "justify_content": null,
            "justify_items": null,
            "left": null,
            "margin": null,
            "max_height": null,
            "max_width": null,
            "min_height": null,
            "min_width": null,
            "object_fit": null,
            "object_position": null,
            "order": null,
            "overflow": null,
            "overflow_x": null,
            "overflow_y": null,
            "padding": null,
            "right": null,
            "top": null,
            "visibility": null,
            "width": null
          }
        },
        "756f493c21404212ba31190dd2fb66b0": {
          "model_module": "@jupyter-widgets/base",
          "model_name": "LayoutModel",
          "model_module_version": "1.2.0",
          "state": {
            "_model_module": "@jupyter-widgets/base",
            "_model_module_version": "1.2.0",
            "_model_name": "LayoutModel",
            "_view_count": null,
            "_view_module": "@jupyter-widgets/base",
            "_view_module_version": "1.2.0",
            "_view_name": "LayoutView",
            "align_content": null,
            "align_items": null,
            "align_self": null,
            "border": null,
            "bottom": null,
            "display": null,
            "flex": null,
            "flex_flow": null,
            "grid_area": null,
            "grid_auto_columns": null,
            "grid_auto_flow": null,
            "grid_auto_rows": null,
            "grid_column": null,
            "grid_gap": null,
            "grid_row": null,
            "grid_template_areas": null,
            "grid_template_columns": null,
            "grid_template_rows": null,
            "height": null,
            "justify_content": null,
            "justify_items": null,
            "left": null,
            "margin": null,
            "max_height": null,
            "max_width": null,
            "min_height": null,
            "min_width": null,
            "object_fit": null,
            "object_position": null,
            "order": null,
            "overflow": null,
            "overflow_x": null,
            "overflow_y": null,
            "padding": null,
            "right": null,
            "top": null,
            "visibility": null,
            "width": null
          }
        },
        "83e71dcd56804fba824884ebffe98dbb": {
          "model_module": "@jupyter-widgets/controls",
          "model_name": "DescriptionStyleModel",
          "model_module_version": "1.5.0",
          "state": {
            "_model_module": "@jupyter-widgets/controls",
            "_model_module_version": "1.5.0",
            "_model_name": "DescriptionStyleModel",
            "_view_count": null,
            "_view_module": "@jupyter-widgets/base",
            "_view_module_version": "1.2.0",
            "_view_name": "StyleView",
            "description_width": ""
          }
        },
        "28a7f91937284b8e914bfcca58f09f95": {
          "model_module": "@jupyter-widgets/base",
          "model_name": "LayoutModel",
          "model_module_version": "1.2.0",
          "state": {
            "_model_module": "@jupyter-widgets/base",
            "_model_module_version": "1.2.0",
            "_model_name": "LayoutModel",
            "_view_count": null,
            "_view_module": "@jupyter-widgets/base",
            "_view_module_version": "1.2.0",
            "_view_name": "LayoutView",
            "align_content": null,
            "align_items": null,
            "align_self": null,
            "border": null,
            "bottom": null,
            "display": null,
            "flex": null,
            "flex_flow": null,
            "grid_area": null,
            "grid_auto_columns": null,
            "grid_auto_flow": null,
            "grid_auto_rows": null,
            "grid_column": null,
            "grid_gap": null,
            "grid_row": null,
            "grid_template_areas": null,
            "grid_template_columns": null,
            "grid_template_rows": null,
            "height": null,
            "justify_content": null,
            "justify_items": null,
            "left": null,
            "margin": null,
            "max_height": null,
            "max_width": null,
            "min_height": null,
            "min_width": null,
            "object_fit": null,
            "object_position": null,
            "order": null,
            "overflow": null,
            "overflow_x": null,
            "overflow_y": null,
            "padding": null,
            "right": null,
            "top": null,
            "visibility": null,
            "width": null
          }
        },
        "b7736cc2a2ac47999e22832f7aa825ae": {
          "model_module": "@jupyter-widgets/controls",
          "model_name": "ProgressStyleModel",
          "model_module_version": "1.5.0",
          "state": {
            "_model_module": "@jupyter-widgets/controls",
            "_model_module_version": "1.5.0",
            "_model_name": "ProgressStyleModel",
            "_view_count": null,
            "_view_module": "@jupyter-widgets/base",
            "_view_module_version": "1.2.0",
            "_view_name": "StyleView",
            "bar_color": null,
            "description_width": ""
          }
        },
        "bc69ee141c1b455fa93f60ce1ec3d3cb": {
          "model_module": "@jupyter-widgets/base",
          "model_name": "LayoutModel",
          "model_module_version": "1.2.0",
          "state": {
            "_model_module": "@jupyter-widgets/base",
            "_model_module_version": "1.2.0",
            "_model_name": "LayoutModel",
            "_view_count": null,
            "_view_module": "@jupyter-widgets/base",
            "_view_module_version": "1.2.0",
            "_view_name": "LayoutView",
            "align_content": null,
            "align_items": null,
            "align_self": null,
            "border": null,
            "bottom": null,
            "display": null,
            "flex": null,
            "flex_flow": null,
            "grid_area": null,
            "grid_auto_columns": null,
            "grid_auto_flow": null,
            "grid_auto_rows": null,
            "grid_column": null,
            "grid_gap": null,
            "grid_row": null,
            "grid_template_areas": null,
            "grid_template_columns": null,
            "grid_template_rows": null,
            "height": null,
            "justify_content": null,
            "justify_items": null,
            "left": null,
            "margin": null,
            "max_height": null,
            "max_width": null,
            "min_height": null,
            "min_width": null,
            "object_fit": null,
            "object_position": null,
            "order": null,
            "overflow": null,
            "overflow_x": null,
            "overflow_y": null,
            "padding": null,
            "right": null,
            "top": null,
            "visibility": null,
            "width": null
          }
        },
        "44fe223bb5cf4d1291ddf66bc2d85126": {
          "model_module": "@jupyter-widgets/controls",
          "model_name": "DescriptionStyleModel",
          "model_module_version": "1.5.0",
          "state": {
            "_model_module": "@jupyter-widgets/controls",
            "_model_module_version": "1.5.0",
            "_model_name": "DescriptionStyleModel",
            "_view_count": null,
            "_view_module": "@jupyter-widgets/base",
            "_view_module_version": "1.2.0",
            "_view_name": "StyleView",
            "description_width": ""
          }
        },
        "6c78dcffa6b2474eb56227c397f5b02c": {
          "model_module": "@jupyter-widgets/controls",
          "model_name": "HBoxModel",
          "model_module_version": "1.5.0",
          "state": {
            "_dom_classes": [],
            "_model_module": "@jupyter-widgets/controls",
            "_model_module_version": "1.5.0",
            "_model_name": "HBoxModel",
            "_view_count": null,
            "_view_module": "@jupyter-widgets/controls",
            "_view_module_version": "1.5.0",
            "_view_name": "HBoxView",
            "box_style": "",
            "children": [
              "IPY_MODEL_6e9887ac4fc84aefa94981fcacb65e77",
              "IPY_MODEL_3f4d45e9966e4f9997e51a143e7275d7",
              "IPY_MODEL_c63d8823f217410c996465f788a56739"
            ],
            "layout": "IPY_MODEL_6351978d7bfa4966a0745368be366167"
          }
        },
        "6e9887ac4fc84aefa94981fcacb65e77": {
          "model_module": "@jupyter-widgets/controls",
          "model_name": "HTMLModel",
          "model_module_version": "1.5.0",
          "state": {
            "_dom_classes": [],
            "_model_module": "@jupyter-widgets/controls",
            "_model_module_version": "1.5.0",
            "_model_name": "HTMLModel",
            "_view_count": null,
            "_view_module": "@jupyter-widgets/controls",
            "_view_module_version": "1.5.0",
            "_view_name": "HTMLView",
            "description": "",
            "description_tooltip": null,
            "layout": "IPY_MODEL_90c12a073cfb4a13804a001ebc19a433",
            "placeholder": "​",
            "style": "IPY_MODEL_dc474e0ece714cca8f67245776ca7089",
            "value": "Downloading data: 100%"
          }
        },
        "3f4d45e9966e4f9997e51a143e7275d7": {
          "model_module": "@jupyter-widgets/controls",
          "model_name": "FloatProgressModel",
          "model_module_version": "1.5.0",
          "state": {
            "_dom_classes": [],
            "_model_module": "@jupyter-widgets/controls",
            "_model_module_version": "1.5.0",
            "_model_name": "FloatProgressModel",
            "_view_count": null,
            "_view_module": "@jupyter-widgets/controls",
            "_view_module_version": "1.5.0",
            "_view_name": "ProgressView",
            "bar_style": "success",
            "description": "",
            "description_tooltip": null,
            "layout": "IPY_MODEL_00f3389c1d154960b75343e01f78f6c4",
            "max": 299436850,
            "min": 0,
            "orientation": "horizontal",
            "style": "IPY_MODEL_0765a8170d274b8895aa25c77f83b513",
            "value": 299436850
          }
        },
        "c63d8823f217410c996465f788a56739": {
          "model_module": "@jupyter-widgets/controls",
          "model_name": "HTMLModel",
          "model_module_version": "1.5.0",
          "state": {
            "_dom_classes": [],
            "_model_module": "@jupyter-widgets/controls",
            "_model_module_version": "1.5.0",
            "_model_name": "HTMLModel",
            "_view_count": null,
            "_view_module": "@jupyter-widgets/controls",
            "_view_module_version": "1.5.0",
            "_view_name": "HTMLView",
            "description": "",
            "description_tooltip": null,
            "layout": "IPY_MODEL_97a19fc597ca4745b067a187f99801ce",
            "placeholder": "​",
            "style": "IPY_MODEL_28b839c52b05414d86ed4667045a59ba",
            "value": " 299M/299M [00:02&lt;00:00, 161MB/s]"
          }
        },
        "6351978d7bfa4966a0745368be366167": {
          "model_module": "@jupyter-widgets/base",
          "model_name": "LayoutModel",
          "model_module_version": "1.2.0",
          "state": {
            "_model_module": "@jupyter-widgets/base",
            "_model_module_version": "1.2.0",
            "_model_name": "LayoutModel",
            "_view_count": null,
            "_view_module": "@jupyter-widgets/base",
            "_view_module_version": "1.2.0",
            "_view_name": "LayoutView",
            "align_content": null,
            "align_items": null,
            "align_self": null,
            "border": null,
            "bottom": null,
            "display": null,
            "flex": null,
            "flex_flow": null,
            "grid_area": null,
            "grid_auto_columns": null,
            "grid_auto_flow": null,
            "grid_auto_rows": null,
            "grid_column": null,
            "grid_gap": null,
            "grid_row": null,
            "grid_template_areas": null,
            "grid_template_columns": null,
            "grid_template_rows": null,
            "height": null,
            "justify_content": null,
            "justify_items": null,
            "left": null,
            "margin": null,
            "max_height": null,
            "max_width": null,
            "min_height": null,
            "min_width": null,
            "object_fit": null,
            "object_position": null,
            "order": null,
            "overflow": null,
            "overflow_x": null,
            "overflow_y": null,
            "padding": null,
            "right": null,
            "top": null,
            "visibility": null,
            "width": null
          }
        },
        "90c12a073cfb4a13804a001ebc19a433": {
          "model_module": "@jupyter-widgets/base",
          "model_name": "LayoutModel",
          "model_module_version": "1.2.0",
          "state": {
            "_model_module": "@jupyter-widgets/base",
            "_model_module_version": "1.2.0",
            "_model_name": "LayoutModel",
            "_view_count": null,
            "_view_module": "@jupyter-widgets/base",
            "_view_module_version": "1.2.0",
            "_view_name": "LayoutView",
            "align_content": null,
            "align_items": null,
            "align_self": null,
            "border": null,
            "bottom": null,
            "display": null,
            "flex": null,
            "flex_flow": null,
            "grid_area": null,
            "grid_auto_columns": null,
            "grid_auto_flow": null,
            "grid_auto_rows": null,
            "grid_column": null,
            "grid_gap": null,
            "grid_row": null,
            "grid_template_areas": null,
            "grid_template_columns": null,
            "grid_template_rows": null,
            "height": null,
            "justify_content": null,
            "justify_items": null,
            "left": null,
            "margin": null,
            "max_height": null,
            "max_width": null,
            "min_height": null,
            "min_width": null,
            "object_fit": null,
            "object_position": null,
            "order": null,
            "overflow": null,
            "overflow_x": null,
            "overflow_y": null,
            "padding": null,
            "right": null,
            "top": null,
            "visibility": null,
            "width": null
          }
        },
        "dc474e0ece714cca8f67245776ca7089": {
          "model_module": "@jupyter-widgets/controls",
          "model_name": "DescriptionStyleModel",
          "model_module_version": "1.5.0",
          "state": {
            "_model_module": "@jupyter-widgets/controls",
            "_model_module_version": "1.5.0",
            "_model_name": "DescriptionStyleModel",
            "_view_count": null,
            "_view_module": "@jupyter-widgets/base",
            "_view_module_version": "1.2.0",
            "_view_name": "StyleView",
            "description_width": ""
          }
        },
        "00f3389c1d154960b75343e01f78f6c4": {
          "model_module": "@jupyter-widgets/base",
          "model_name": "LayoutModel",
          "model_module_version": "1.2.0",
          "state": {
            "_model_module": "@jupyter-widgets/base",
            "_model_module_version": "1.2.0",
            "_model_name": "LayoutModel",
            "_view_count": null,
            "_view_module": "@jupyter-widgets/base",
            "_view_module_version": "1.2.0",
            "_view_name": "LayoutView",
            "align_content": null,
            "align_items": null,
            "align_self": null,
            "border": null,
            "bottom": null,
            "display": null,
            "flex": null,
            "flex_flow": null,
            "grid_area": null,
            "grid_auto_columns": null,
            "grid_auto_flow": null,
            "grid_auto_rows": null,
            "grid_column": null,
            "grid_gap": null,
            "grid_row": null,
            "grid_template_areas": null,
            "grid_template_columns": null,
            "grid_template_rows": null,
            "height": null,
            "justify_content": null,
            "justify_items": null,
            "left": null,
            "margin": null,
            "max_height": null,
            "max_width": null,
            "min_height": null,
            "min_width": null,
            "object_fit": null,
            "object_position": null,
            "order": null,
            "overflow": null,
            "overflow_x": null,
            "overflow_y": null,
            "padding": null,
            "right": null,
            "top": null,
            "visibility": null,
            "width": null
          }
        },
        "0765a8170d274b8895aa25c77f83b513": {
          "model_module": "@jupyter-widgets/controls",
          "model_name": "ProgressStyleModel",
          "model_module_version": "1.5.0",
          "state": {
            "_model_module": "@jupyter-widgets/controls",
            "_model_module_version": "1.5.0",
            "_model_name": "ProgressStyleModel",
            "_view_count": null,
            "_view_module": "@jupyter-widgets/base",
            "_view_module_version": "1.2.0",
            "_view_name": "StyleView",
            "bar_color": null,
            "description_width": ""
          }
        },
        "97a19fc597ca4745b067a187f99801ce": {
          "model_module": "@jupyter-widgets/base",
          "model_name": "LayoutModel",
          "model_module_version": "1.2.0",
          "state": {
            "_model_module": "@jupyter-widgets/base",
            "_model_module_version": "1.2.0",
            "_model_name": "LayoutModel",
            "_view_count": null,
            "_view_module": "@jupyter-widgets/base",
            "_view_module_version": "1.2.0",
            "_view_name": "LayoutView",
            "align_content": null,
            "align_items": null,
            "align_self": null,
            "border": null,
            "bottom": null,
            "display": null,
            "flex": null,
            "flex_flow": null,
            "grid_area": null,
            "grid_auto_columns": null,
            "grid_auto_flow": null,
            "grid_auto_rows": null,
            "grid_column": null,
            "grid_gap": null,
            "grid_row": null,
            "grid_template_areas": null,
            "grid_template_columns": null,
            "grid_template_rows": null,
            "height": null,
            "justify_content": null,
            "justify_items": null,
            "left": null,
            "margin": null,
            "max_height": null,
            "max_width": null,
            "min_height": null,
            "min_width": null,
            "object_fit": null,
            "object_position": null,
            "order": null,
            "overflow": null,
            "overflow_x": null,
            "overflow_y": null,
            "padding": null,
            "right": null,
            "top": null,
            "visibility": null,
            "width": null
          }
        },
        "28b839c52b05414d86ed4667045a59ba": {
          "model_module": "@jupyter-widgets/controls",
          "model_name": "DescriptionStyleModel",
          "model_module_version": "1.5.0",
          "state": {
            "_model_module": "@jupyter-widgets/controls",
            "_model_module_version": "1.5.0",
            "_model_name": "DescriptionStyleModel",
            "_view_count": null,
            "_view_module": "@jupyter-widgets/base",
            "_view_module_version": "1.2.0",
            "_view_name": "StyleView",
            "description_width": ""
          }
        },
        "70b04262df9247abab051aad4cda0ffd": {
          "model_module": "@jupyter-widgets/controls",
          "model_name": "HBoxModel",
          "model_module_version": "1.5.0",
          "state": {
            "_dom_classes": [],
            "_model_module": "@jupyter-widgets/controls",
            "_model_module_version": "1.5.0",
            "_model_name": "HBoxModel",
            "_view_count": null,
            "_view_module": "@jupyter-widgets/controls",
            "_view_module_version": "1.5.0",
            "_view_name": "HBoxView",
            "box_style": "",
            "children": [
              "IPY_MODEL_3a2e5dbd726a4531947e8d7a2d6f170f",
              "IPY_MODEL_5b48c461aba84789bc5d33b315859fd3",
              "IPY_MODEL_468bdb0b530a4ce4b8c09682d9bbcd94"
            ],
            "layout": "IPY_MODEL_1b39b86a8fe4462d92d6c818db175bc9"
          }
        },
        "3a2e5dbd726a4531947e8d7a2d6f170f": {
          "model_module": "@jupyter-widgets/controls",
          "model_name": "HTMLModel",
          "model_module_version": "1.5.0",
          "state": {
            "_dom_classes": [],
            "_model_module": "@jupyter-widgets/controls",
            "_model_module_version": "1.5.0",
            "_model_name": "HTMLModel",
            "_view_count": null,
            "_view_module": "@jupyter-widgets/controls",
            "_view_module_version": "1.5.0",
            "_view_name": "HTMLView",
            "description": "",
            "description_tooltip": null,
            "layout": "IPY_MODEL_e42223915548409898d5320e3d03ddbb",
            "placeholder": "​",
            "style": "IPY_MODEL_84f851c84e7146fc89517d96b06a2aea",
            "value": "Downloading data: 100%"
          }
        },
        "5b48c461aba84789bc5d33b315859fd3": {
          "model_module": "@jupyter-widgets/controls",
          "model_name": "FloatProgressModel",
          "model_module_version": "1.5.0",
          "state": {
            "_dom_classes": [],
            "_model_module": "@jupyter-widgets/controls",
            "_model_module_version": "1.5.0",
            "_model_name": "FloatProgressModel",
            "_view_count": null,
            "_view_module": "@jupyter-widgets/controls",
            "_view_module_version": "1.5.0",
            "_view_name": "ProgressView",
            "bar_style": "success",
            "description": "",
            "description_tooltip": null,
            "layout": "IPY_MODEL_bb6613f429434a6082cbd8db25cffab8",
            "max": 23515519,
            "min": 0,
            "orientation": "horizontal",
            "style": "IPY_MODEL_fe489039a90844fb8d1d379e31dce4ef",
            "value": 23515519
          }
        },
        "468bdb0b530a4ce4b8c09682d9bbcd94": {
          "model_module": "@jupyter-widgets/controls",
          "model_name": "HTMLModel",
          "model_module_version": "1.5.0",
          "state": {
            "_dom_classes": [],
            "_model_module": "@jupyter-widgets/controls",
            "_model_module_version": "1.5.0",
            "_model_name": "HTMLModel",
            "_view_count": null,
            "_view_module": "@jupyter-widgets/controls",
            "_view_module_version": "1.5.0",
            "_view_name": "HTMLView",
            "description": "",
            "description_tooltip": null,
            "layout": "IPY_MODEL_648d09fda09248d0b70dc7e07a9ea14c",
            "placeholder": "​",
            "style": "IPY_MODEL_d52991d24ae347018d9a721a6c666409",
            "value": " 23.5M/23.5M [00:00&lt;00:00, 84.0MB/s]"
          }
        },
        "1b39b86a8fe4462d92d6c818db175bc9": {
          "model_module": "@jupyter-widgets/base",
          "model_name": "LayoutModel",
          "model_module_version": "1.2.0",
          "state": {
            "_model_module": "@jupyter-widgets/base",
            "_model_module_version": "1.2.0",
            "_model_name": "LayoutModel",
            "_view_count": null,
            "_view_module": "@jupyter-widgets/base",
            "_view_module_version": "1.2.0",
            "_view_name": "LayoutView",
            "align_content": null,
            "align_items": null,
            "align_self": null,
            "border": null,
            "bottom": null,
            "display": null,
            "flex": null,
            "flex_flow": null,
            "grid_area": null,
            "grid_auto_columns": null,
            "grid_auto_flow": null,
            "grid_auto_rows": null,
            "grid_column": null,
            "grid_gap": null,
            "grid_row": null,
            "grid_template_areas": null,
            "grid_template_columns": null,
            "grid_template_rows": null,
            "height": null,
            "justify_content": null,
            "justify_items": null,
            "left": null,
            "margin": null,
            "max_height": null,
            "max_width": null,
            "min_height": null,
            "min_width": null,
            "object_fit": null,
            "object_position": null,
            "order": null,
            "overflow": null,
            "overflow_x": null,
            "overflow_y": null,
            "padding": null,
            "right": null,
            "top": null,
            "visibility": null,
            "width": null
          }
        },
        "e42223915548409898d5320e3d03ddbb": {
          "model_module": "@jupyter-widgets/base",
          "model_name": "LayoutModel",
          "model_module_version": "1.2.0",
          "state": {
            "_model_module": "@jupyter-widgets/base",
            "_model_module_version": "1.2.0",
            "_model_name": "LayoutModel",
            "_view_count": null,
            "_view_module": "@jupyter-widgets/base",
            "_view_module_version": "1.2.0",
            "_view_name": "LayoutView",
            "align_content": null,
            "align_items": null,
            "align_self": null,
            "border": null,
            "bottom": null,
            "display": null,
            "flex": null,
            "flex_flow": null,
            "grid_area": null,
            "grid_auto_columns": null,
            "grid_auto_flow": null,
            "grid_auto_rows": null,
            "grid_column": null,
            "grid_gap": null,
            "grid_row": null,
            "grid_template_areas": null,
            "grid_template_columns": null,
            "grid_template_rows": null,
            "height": null,
            "justify_content": null,
            "justify_items": null,
            "left": null,
            "margin": null,
            "max_height": null,
            "max_width": null,
            "min_height": null,
            "min_width": null,
            "object_fit": null,
            "object_position": null,
            "order": null,
            "overflow": null,
            "overflow_x": null,
            "overflow_y": null,
            "padding": null,
            "right": null,
            "top": null,
            "visibility": null,
            "width": null
          }
        },
        "84f851c84e7146fc89517d96b06a2aea": {
          "model_module": "@jupyter-widgets/controls",
          "model_name": "DescriptionStyleModel",
          "model_module_version": "1.5.0",
          "state": {
            "_model_module": "@jupyter-widgets/controls",
            "_model_module_version": "1.5.0",
            "_model_name": "DescriptionStyleModel",
            "_view_count": null,
            "_view_module": "@jupyter-widgets/base",
            "_view_module_version": "1.2.0",
            "_view_name": "StyleView",
            "description_width": ""
          }
        },
        "bb6613f429434a6082cbd8db25cffab8": {
          "model_module": "@jupyter-widgets/base",
          "model_name": "LayoutModel",
          "model_module_version": "1.2.0",
          "state": {
            "_model_module": "@jupyter-widgets/base",
            "_model_module_version": "1.2.0",
            "_model_name": "LayoutModel",
            "_view_count": null,
            "_view_module": "@jupyter-widgets/base",
            "_view_module_version": "1.2.0",
            "_view_name": "LayoutView",
            "align_content": null,
            "align_items": null,
            "align_self": null,
            "border": null,
            "bottom": null,
            "display": null,
            "flex": null,
            "flex_flow": null,
            "grid_area": null,
            "grid_auto_columns": null,
            "grid_auto_flow": null,
            "grid_auto_rows": null,
            "grid_column": null,
            "grid_gap": null,
            "grid_row": null,
            "grid_template_areas": null,
            "grid_template_columns": null,
            "grid_template_rows": null,
            "height": null,
            "justify_content": null,
            "justify_items": null,
            "left": null,
            "margin": null,
            "max_height": null,
            "max_width": null,
            "min_height": null,
            "min_width": null,
            "object_fit": null,
            "object_position": null,
            "order": null,
            "overflow": null,
            "overflow_x": null,
            "overflow_y": null,
            "padding": null,
            "right": null,
            "top": null,
            "visibility": null,
            "width": null
          }
        },
        "fe489039a90844fb8d1d379e31dce4ef": {
          "model_module": "@jupyter-widgets/controls",
          "model_name": "ProgressStyleModel",
          "model_module_version": "1.5.0",
          "state": {
            "_model_module": "@jupyter-widgets/controls",
            "_model_module_version": "1.5.0",
            "_model_name": "ProgressStyleModel",
            "_view_count": null,
            "_view_module": "@jupyter-widgets/base",
            "_view_module_version": "1.2.0",
            "_view_name": "StyleView",
            "bar_color": null,
            "description_width": ""
          }
        },
        "648d09fda09248d0b70dc7e07a9ea14c": {
          "model_module": "@jupyter-widgets/base",
          "model_name": "LayoutModel",
          "model_module_version": "1.2.0",
          "state": {
            "_model_module": "@jupyter-widgets/base",
            "_model_module_version": "1.2.0",
            "_model_name": "LayoutModel",
            "_view_count": null,
            "_view_module": "@jupyter-widgets/base",
            "_view_module_version": "1.2.0",
            "_view_name": "LayoutView",
            "align_content": null,
            "align_items": null,
            "align_self": null,
            "border": null,
            "bottom": null,
            "display": null,
            "flex": null,
            "flex_flow": null,
            "grid_area": null,
            "grid_auto_columns": null,
            "grid_auto_flow": null,
            "grid_auto_rows": null,
            "grid_column": null,
            "grid_gap": null,
            "grid_row": null,
            "grid_template_areas": null,
            "grid_template_columns": null,
            "grid_template_rows": null,
            "height": null,
            "justify_content": null,
            "justify_items": null,
            "left": null,
            "margin": null,
            "max_height": null,
            "max_width": null,
            "min_height": null,
            "min_width": null,
            "object_fit": null,
            "object_position": null,
            "order": null,
            "overflow": null,
            "overflow_x": null,
            "overflow_y": null,
            "padding": null,
            "right": null,
            "top": null,
            "visibility": null,
            "width": null
          }
        },
        "d52991d24ae347018d9a721a6c666409": {
          "model_module": "@jupyter-widgets/controls",
          "model_name": "DescriptionStyleModel",
          "model_module_version": "1.5.0",
          "state": {
            "_model_module": "@jupyter-widgets/controls",
            "_model_module_version": "1.5.0",
            "_model_name": "DescriptionStyleModel",
            "_view_count": null,
            "_view_module": "@jupyter-widgets/base",
            "_view_module_version": "1.2.0",
            "_view_name": "StyleView",
            "description_width": ""
          }
        },
        "3a20bd2e977b447291d6f0f942a3a734": {
          "model_module": "@jupyter-widgets/controls",
          "model_name": "HBoxModel",
          "model_module_version": "1.5.0",
          "state": {
            "_dom_classes": [],
            "_model_module": "@jupyter-widgets/controls",
            "_model_module_version": "1.5.0",
            "_model_name": "HBoxModel",
            "_view_count": null,
            "_view_module": "@jupyter-widgets/controls",
            "_view_module_version": "1.5.0",
            "_view_name": "HBoxView",
            "box_style": "",
            "children": [
              "IPY_MODEL_71252d37143b4c50a00e99d7a233289c",
              "IPY_MODEL_7e126bd372da400ea766072e3eb4394b",
              "IPY_MODEL_2f7468f507c541d0a5b2626c62d5a896"
            ],
            "layout": "IPY_MODEL_8c86628f04d14c8d970f2fcd0728863e"
          }
        },
        "71252d37143b4c50a00e99d7a233289c": {
          "model_module": "@jupyter-widgets/controls",
          "model_name": "HTMLModel",
          "model_module_version": "1.5.0",
          "state": {
            "_dom_classes": [],
            "_model_module": "@jupyter-widgets/controls",
            "_model_module_version": "1.5.0",
            "_model_name": "HTMLModel",
            "_view_count": null,
            "_view_module": "@jupyter-widgets/controls",
            "_view_module_version": "1.5.0",
            "_view_name": "HTMLView",
            "description": "",
            "description_tooltip": null,
            "layout": "IPY_MODEL_0706affd2388486d83e6eff7d1c16b82",
            "placeholder": "​",
            "style": "IPY_MODEL_a3812676f64443ea9e62f34105e87833",
            "value": "Generating train split: 100%"
          }
        },
        "7e126bd372da400ea766072e3eb4394b": {
          "model_module": "@jupyter-widgets/controls",
          "model_name": "FloatProgressModel",
          "model_module_version": "1.5.0",
          "state": {
            "_dom_classes": [],
            "_model_module": "@jupyter-widgets/controls",
            "_model_module_version": "1.5.0",
            "_model_name": "FloatProgressModel",
            "_view_count": null,
            "_view_module": "@jupyter-widgets/controls",
            "_view_module_version": "1.5.0",
            "_view_name": "ProgressView",
            "bar_style": "success",
            "description": "",
            "description_tooltip": null,
            "layout": "IPY_MODEL_614ec8909cf64fc1ae74898bbdf3ece4",
            "max": 650000,
            "min": 0,
            "orientation": "horizontal",
            "style": "IPY_MODEL_d4f7b83edf3f4ce7a42d2b301c63075e",
            "value": 650000
          }
        },
        "2f7468f507c541d0a5b2626c62d5a896": {
          "model_module": "@jupyter-widgets/controls",
          "model_name": "HTMLModel",
          "model_module_version": "1.5.0",
          "state": {
            "_dom_classes": [],
            "_model_module": "@jupyter-widgets/controls",
            "_model_module_version": "1.5.0",
            "_model_name": "HTMLModel",
            "_view_count": null,
            "_view_module": "@jupyter-widgets/controls",
            "_view_module_version": "1.5.0",
            "_view_name": "HTMLView",
            "description": "",
            "description_tooltip": null,
            "layout": "IPY_MODEL_f29eaa2f8c4c40548f9718b43c7631a1",
            "placeholder": "​",
            "style": "IPY_MODEL_148bb8a22b134332a0dc984cd155cb3b",
            "value": " 650000/650000 [00:04&lt;00:00, 136270.48 examples/s]"
          }
        },
        "8c86628f04d14c8d970f2fcd0728863e": {
          "model_module": "@jupyter-widgets/base",
          "model_name": "LayoutModel",
          "model_module_version": "1.2.0",
          "state": {
            "_model_module": "@jupyter-widgets/base",
            "_model_module_version": "1.2.0",
            "_model_name": "LayoutModel",
            "_view_count": null,
            "_view_module": "@jupyter-widgets/base",
            "_view_module_version": "1.2.0",
            "_view_name": "LayoutView",
            "align_content": null,
            "align_items": null,
            "align_self": null,
            "border": null,
            "bottom": null,
            "display": null,
            "flex": null,
            "flex_flow": null,
            "grid_area": null,
            "grid_auto_columns": null,
            "grid_auto_flow": null,
            "grid_auto_rows": null,
            "grid_column": null,
            "grid_gap": null,
            "grid_row": null,
            "grid_template_areas": null,
            "grid_template_columns": null,
            "grid_template_rows": null,
            "height": null,
            "justify_content": null,
            "justify_items": null,
            "left": null,
            "margin": null,
            "max_height": null,
            "max_width": null,
            "min_height": null,
            "min_width": null,
            "object_fit": null,
            "object_position": null,
            "order": null,
            "overflow": null,
            "overflow_x": null,
            "overflow_y": null,
            "padding": null,
            "right": null,
            "top": null,
            "visibility": null,
            "width": null
          }
        },
        "0706affd2388486d83e6eff7d1c16b82": {
          "model_module": "@jupyter-widgets/base",
          "model_name": "LayoutModel",
          "model_module_version": "1.2.0",
          "state": {
            "_model_module": "@jupyter-widgets/base",
            "_model_module_version": "1.2.0",
            "_model_name": "LayoutModel",
            "_view_count": null,
            "_view_module": "@jupyter-widgets/base",
            "_view_module_version": "1.2.0",
            "_view_name": "LayoutView",
            "align_content": null,
            "align_items": null,
            "align_self": null,
            "border": null,
            "bottom": null,
            "display": null,
            "flex": null,
            "flex_flow": null,
            "grid_area": null,
            "grid_auto_columns": null,
            "grid_auto_flow": null,
            "grid_auto_rows": null,
            "grid_column": null,
            "grid_gap": null,
            "grid_row": null,
            "grid_template_areas": null,
            "grid_template_columns": null,
            "grid_template_rows": null,
            "height": null,
            "justify_content": null,
            "justify_items": null,
            "left": null,
            "margin": null,
            "max_height": null,
            "max_width": null,
            "min_height": null,
            "min_width": null,
            "object_fit": null,
            "object_position": null,
            "order": null,
            "overflow": null,
            "overflow_x": null,
            "overflow_y": null,
            "padding": null,
            "right": null,
            "top": null,
            "visibility": null,
            "width": null
          }
        },
        "a3812676f64443ea9e62f34105e87833": {
          "model_module": "@jupyter-widgets/controls",
          "model_name": "DescriptionStyleModel",
          "model_module_version": "1.5.0",
          "state": {
            "_model_module": "@jupyter-widgets/controls",
            "_model_module_version": "1.5.0",
            "_model_name": "DescriptionStyleModel",
            "_view_count": null,
            "_view_module": "@jupyter-widgets/base",
            "_view_module_version": "1.2.0",
            "_view_name": "StyleView",
            "description_width": ""
          }
        },
        "614ec8909cf64fc1ae74898bbdf3ece4": {
          "model_module": "@jupyter-widgets/base",
          "model_name": "LayoutModel",
          "model_module_version": "1.2.0",
          "state": {
            "_model_module": "@jupyter-widgets/base",
            "_model_module_version": "1.2.0",
            "_model_name": "LayoutModel",
            "_view_count": null,
            "_view_module": "@jupyter-widgets/base",
            "_view_module_version": "1.2.0",
            "_view_name": "LayoutView",
            "align_content": null,
            "align_items": null,
            "align_self": null,
            "border": null,
            "bottom": null,
            "display": null,
            "flex": null,
            "flex_flow": null,
            "grid_area": null,
            "grid_auto_columns": null,
            "grid_auto_flow": null,
            "grid_auto_rows": null,
            "grid_column": null,
            "grid_gap": null,
            "grid_row": null,
            "grid_template_areas": null,
            "grid_template_columns": null,
            "grid_template_rows": null,
            "height": null,
            "justify_content": null,
            "justify_items": null,
            "left": null,
            "margin": null,
            "max_height": null,
            "max_width": null,
            "min_height": null,
            "min_width": null,
            "object_fit": null,
            "object_position": null,
            "order": null,
            "overflow": null,
            "overflow_x": null,
            "overflow_y": null,
            "padding": null,
            "right": null,
            "top": null,
            "visibility": null,
            "width": null
          }
        },
        "d4f7b83edf3f4ce7a42d2b301c63075e": {
          "model_module": "@jupyter-widgets/controls",
          "model_name": "ProgressStyleModel",
          "model_module_version": "1.5.0",
          "state": {
            "_model_module": "@jupyter-widgets/controls",
            "_model_module_version": "1.5.0",
            "_model_name": "ProgressStyleModel",
            "_view_count": null,
            "_view_module": "@jupyter-widgets/base",
            "_view_module_version": "1.2.0",
            "_view_name": "StyleView",
            "bar_color": null,
            "description_width": ""
          }
        },
        "f29eaa2f8c4c40548f9718b43c7631a1": {
          "model_module": "@jupyter-widgets/base",
          "model_name": "LayoutModel",
          "model_module_version": "1.2.0",
          "state": {
            "_model_module": "@jupyter-widgets/base",
            "_model_module_version": "1.2.0",
            "_model_name": "LayoutModel",
            "_view_count": null,
            "_view_module": "@jupyter-widgets/base",
            "_view_module_version": "1.2.0",
            "_view_name": "LayoutView",
            "align_content": null,
            "align_items": null,
            "align_self": null,
            "border": null,
            "bottom": null,
            "display": null,
            "flex": null,
            "flex_flow": null,
            "grid_area": null,
            "grid_auto_columns": null,
            "grid_auto_flow": null,
            "grid_auto_rows": null,
            "grid_column": null,
            "grid_gap": null,
            "grid_row": null,
            "grid_template_areas": null,
            "grid_template_columns": null,
            "grid_template_rows": null,
            "height": null,
            "justify_content": null,
            "justify_items": null,
            "left": null,
            "margin": null,
            "max_height": null,
            "max_width": null,
            "min_height": null,
            "min_width": null,
            "object_fit": null,
            "object_position": null,
            "order": null,
            "overflow": null,
            "overflow_x": null,
            "overflow_y": null,
            "padding": null,
            "right": null,
            "top": null,
            "visibility": null,
            "width": null
          }
        },
        "148bb8a22b134332a0dc984cd155cb3b": {
          "model_module": "@jupyter-widgets/controls",
          "model_name": "DescriptionStyleModel",
          "model_module_version": "1.5.0",
          "state": {
            "_model_module": "@jupyter-widgets/controls",
            "_model_module_version": "1.5.0",
            "_model_name": "DescriptionStyleModel",
            "_view_count": null,
            "_view_module": "@jupyter-widgets/base",
            "_view_module_version": "1.2.0",
            "_view_name": "StyleView",
            "description_width": ""
          }
        },
        "bd346ba097164d69978cce571c5ca24a": {
          "model_module": "@jupyter-widgets/controls",
          "model_name": "HBoxModel",
          "model_module_version": "1.5.0",
          "state": {
            "_dom_classes": [],
            "_model_module": "@jupyter-widgets/controls",
            "_model_module_version": "1.5.0",
            "_model_name": "HBoxModel",
            "_view_count": null,
            "_view_module": "@jupyter-widgets/controls",
            "_view_module_version": "1.5.0",
            "_view_name": "HBoxView",
            "box_style": "",
            "children": [
              "IPY_MODEL_39facb9bbf2d46b0b21f14ae8b91cb72",
              "IPY_MODEL_05c762fc15884856a663e862972c389e",
              "IPY_MODEL_1870d063e858433a95b54b5bccb15aed"
            ],
            "layout": "IPY_MODEL_28a937fe0bd14250aa02427475c877e4"
          }
        },
        "39facb9bbf2d46b0b21f14ae8b91cb72": {
          "model_module": "@jupyter-widgets/controls",
          "model_name": "HTMLModel",
          "model_module_version": "1.5.0",
          "state": {
            "_dom_classes": [],
            "_model_module": "@jupyter-widgets/controls",
            "_model_module_version": "1.5.0",
            "_model_name": "HTMLModel",
            "_view_count": null,
            "_view_module": "@jupyter-widgets/controls",
            "_view_module_version": "1.5.0",
            "_view_name": "HTMLView",
            "description": "",
            "description_tooltip": null,
            "layout": "IPY_MODEL_4a3ea4999147420184440d0c06d94d25",
            "placeholder": "​",
            "style": "IPY_MODEL_9e93fc825e334003bd514e5a10c9e017",
            "value": "Generating test split: 100%"
          }
        },
        "05c762fc15884856a663e862972c389e": {
          "model_module": "@jupyter-widgets/controls",
          "model_name": "FloatProgressModel",
          "model_module_version": "1.5.0",
          "state": {
            "_dom_classes": [],
            "_model_module": "@jupyter-widgets/controls",
            "_model_module_version": "1.5.0",
            "_model_name": "FloatProgressModel",
            "_view_count": null,
            "_view_module": "@jupyter-widgets/controls",
            "_view_module_version": "1.5.0",
            "_view_name": "ProgressView",
            "bar_style": "success",
            "description": "",
            "description_tooltip": null,
            "layout": "IPY_MODEL_a90ce2e067384fafa7344ddc3d751325",
            "max": 50000,
            "min": 0,
            "orientation": "horizontal",
            "style": "IPY_MODEL_49b970093e50479aa129b1d17345bf8a",
            "value": 50000
          }
        },
        "1870d063e858433a95b54b5bccb15aed": {
          "model_module": "@jupyter-widgets/controls",
          "model_name": "HTMLModel",
          "model_module_version": "1.5.0",
          "state": {
            "_dom_classes": [],
            "_model_module": "@jupyter-widgets/controls",
            "_model_module_version": "1.5.0",
            "_model_name": "HTMLModel",
            "_view_count": null,
            "_view_module": "@jupyter-widgets/controls",
            "_view_module_version": "1.5.0",
            "_view_name": "HTMLView",
            "description": "",
            "description_tooltip": null,
            "layout": "IPY_MODEL_9937942196fe43079ebc760b9253d096",
            "placeholder": "​",
            "style": "IPY_MODEL_a954af90e5b542bcad8f6244a4f8595d",
            "value": " 50000/50000 [00:00&lt;00:00, 119318.66 examples/s]"
          }
        },
        "28a937fe0bd14250aa02427475c877e4": {
          "model_module": "@jupyter-widgets/base",
          "model_name": "LayoutModel",
          "model_module_version": "1.2.0",
          "state": {
            "_model_module": "@jupyter-widgets/base",
            "_model_module_version": "1.2.0",
            "_model_name": "LayoutModel",
            "_view_count": null,
            "_view_module": "@jupyter-widgets/base",
            "_view_module_version": "1.2.0",
            "_view_name": "LayoutView",
            "align_content": null,
            "align_items": null,
            "align_self": null,
            "border": null,
            "bottom": null,
            "display": null,
            "flex": null,
            "flex_flow": null,
            "grid_area": null,
            "grid_auto_columns": null,
            "grid_auto_flow": null,
            "grid_auto_rows": null,
            "grid_column": null,
            "grid_gap": null,
            "grid_row": null,
            "grid_template_areas": null,
            "grid_template_columns": null,
            "grid_template_rows": null,
            "height": null,
            "justify_content": null,
            "justify_items": null,
            "left": null,
            "margin": null,
            "max_height": null,
            "max_width": null,
            "min_height": null,
            "min_width": null,
            "object_fit": null,
            "object_position": null,
            "order": null,
            "overflow": null,
            "overflow_x": null,
            "overflow_y": null,
            "padding": null,
            "right": null,
            "top": null,
            "visibility": null,
            "width": null
          }
        },
        "4a3ea4999147420184440d0c06d94d25": {
          "model_module": "@jupyter-widgets/base",
          "model_name": "LayoutModel",
          "model_module_version": "1.2.0",
          "state": {
            "_model_module": "@jupyter-widgets/base",
            "_model_module_version": "1.2.0",
            "_model_name": "LayoutModel",
            "_view_count": null,
            "_view_module": "@jupyter-widgets/base",
            "_view_module_version": "1.2.0",
            "_view_name": "LayoutView",
            "align_content": null,
            "align_items": null,
            "align_self": null,
            "border": null,
            "bottom": null,
            "display": null,
            "flex": null,
            "flex_flow": null,
            "grid_area": null,
            "grid_auto_columns": null,
            "grid_auto_flow": null,
            "grid_auto_rows": null,
            "grid_column": null,
            "grid_gap": null,
            "grid_row": null,
            "grid_template_areas": null,
            "grid_template_columns": null,
            "grid_template_rows": null,
            "height": null,
            "justify_content": null,
            "justify_items": null,
            "left": null,
            "margin": null,
            "max_height": null,
            "max_width": null,
            "min_height": null,
            "min_width": null,
            "object_fit": null,
            "object_position": null,
            "order": null,
            "overflow": null,
            "overflow_x": null,
            "overflow_y": null,
            "padding": null,
            "right": null,
            "top": null,
            "visibility": null,
            "width": null
          }
        },
        "9e93fc825e334003bd514e5a10c9e017": {
          "model_module": "@jupyter-widgets/controls",
          "model_name": "DescriptionStyleModel",
          "model_module_version": "1.5.0",
          "state": {
            "_model_module": "@jupyter-widgets/controls",
            "_model_module_version": "1.5.0",
            "_model_name": "DescriptionStyleModel",
            "_view_count": null,
            "_view_module": "@jupyter-widgets/base",
            "_view_module_version": "1.2.0",
            "_view_name": "StyleView",
            "description_width": ""
          }
        },
        "a90ce2e067384fafa7344ddc3d751325": {
          "model_module": "@jupyter-widgets/base",
          "model_name": "LayoutModel",
          "model_module_version": "1.2.0",
          "state": {
            "_model_module": "@jupyter-widgets/base",
            "_model_module_version": "1.2.0",
            "_model_name": "LayoutModel",
            "_view_count": null,
            "_view_module": "@jupyter-widgets/base",
            "_view_module_version": "1.2.0",
            "_view_name": "LayoutView",
            "align_content": null,
            "align_items": null,
            "align_self": null,
            "border": null,
            "bottom": null,
            "display": null,
            "flex": null,
            "flex_flow": null,
            "grid_area": null,
            "grid_auto_columns": null,
            "grid_auto_flow": null,
            "grid_auto_rows": null,
            "grid_column": null,
            "grid_gap": null,
            "grid_row": null,
            "grid_template_areas": null,
            "grid_template_columns": null,
            "grid_template_rows": null,
            "height": null,
            "justify_content": null,
            "justify_items": null,
            "left": null,
            "margin": null,
            "max_height": null,
            "max_width": null,
            "min_height": null,
            "min_width": null,
            "object_fit": null,
            "object_position": null,
            "order": null,
            "overflow": null,
            "overflow_x": null,
            "overflow_y": null,
            "padding": null,
            "right": null,
            "top": null,
            "visibility": null,
            "width": null
          }
        },
        "49b970093e50479aa129b1d17345bf8a": {
          "model_module": "@jupyter-widgets/controls",
          "model_name": "ProgressStyleModel",
          "model_module_version": "1.5.0",
          "state": {
            "_model_module": "@jupyter-widgets/controls",
            "_model_module_version": "1.5.0",
            "_model_name": "ProgressStyleModel",
            "_view_count": null,
            "_view_module": "@jupyter-widgets/base",
            "_view_module_version": "1.2.0",
            "_view_name": "StyleView",
            "bar_color": null,
            "description_width": ""
          }
        },
        "9937942196fe43079ebc760b9253d096": {
          "model_module": "@jupyter-widgets/base",
          "model_name": "LayoutModel",
          "model_module_version": "1.2.0",
          "state": {
            "_model_module": "@jupyter-widgets/base",
            "_model_module_version": "1.2.0",
            "_model_name": "LayoutModel",
            "_view_count": null,
            "_view_module": "@jupyter-widgets/base",
            "_view_module_version": "1.2.0",
            "_view_name": "LayoutView",
            "align_content": null,
            "align_items": null,
            "align_self": null,
            "border": null,
            "bottom": null,
            "display": null,
            "flex": null,
            "flex_flow": null,
            "grid_area": null,
            "grid_auto_columns": null,
            "grid_auto_flow": null,
            "grid_auto_rows": null,
            "grid_column": null,
            "grid_gap": null,
            "grid_row": null,
            "grid_template_areas": null,
            "grid_template_columns": null,
            "grid_template_rows": null,
            "height": null,
            "justify_content": null,
            "justify_items": null,
            "left": null,
            "margin": null,
            "max_height": null,
            "max_width": null,
            "min_height": null,
            "min_width": null,
            "object_fit": null,
            "object_position": null,
            "order": null,
            "overflow": null,
            "overflow_x": null,
            "overflow_y": null,
            "padding": null,
            "right": null,
            "top": null,
            "visibility": null,
            "width": null
          }
        },
        "a954af90e5b542bcad8f6244a4f8595d": {
          "model_module": "@jupyter-widgets/controls",
          "model_name": "DescriptionStyleModel",
          "model_module_version": "1.5.0",
          "state": {
            "_model_module": "@jupyter-widgets/controls",
            "_model_module_version": "1.5.0",
            "_model_name": "DescriptionStyleModel",
            "_view_count": null,
            "_view_module": "@jupyter-widgets/base",
            "_view_module_version": "1.2.0",
            "_view_name": "StyleView",
            "description_width": ""
          }
        }
      }
    }
  },
  "cells": [
    {
      "cell_type": "markdown",
      "metadata": {
        "id": "view-in-github",
        "colab_type": "text"
      },
      "source": [
        "<a href=\"https://colab.research.google.com/github/LCaravaggio/NLP/blob/main/08_LanguageModels/NeuralLM.ipynb\" target=\"_parent\"><img src=\"https://colab.research.google.com/assets/colab-badge.svg\" alt=\"Open In Colab\"/></a>"
      ]
    },
    {
      "cell_type": "markdown",
      "source": [
        "## Language Modeling con NNs\n",
        "\n",
        "Vamos a usar `pytorch` para el modelo y `datasets` de HF para el corpus."
      ],
      "metadata": {
        "id": "DwU_koArH8JW"
      }
    },
    {
      "cell_type": "code",
      "source": [
        "%%capture\n",
        "!pip install datasets==2.19.0 watermark"
      ],
      "metadata": {
        "id": "3cHmzFdYbDTm"
      },
      "execution_count": null,
      "outputs": []
    },
    {
      "cell_type": "code",
      "source": [
        "%%capture\n",
        "!python -m spacy download en_core_web_sm"
      ],
      "metadata": {
        "id": "dDUxxsDNLkN2"
      },
      "execution_count": null,
      "outputs": []
    },
    {
      "cell_type": "code",
      "source": [
        "%load_ext watermark"
      ],
      "metadata": {
        "id": "Xv815WnZBI41"
      },
      "execution_count": null,
      "outputs": []
    },
    {
      "cell_type": "code",
      "source": [
        "%watermark -vp datasets,torch,nltk,spacy"
      ],
      "metadata": {
        "colab": {
          "base_uri": "https://localhost:8080/"
        },
        "id": "zmbjr89RBKpR",
        "outputId": "038f5abf-8700-4b38-a4e5-46a972329f9b"
      },
      "execution_count": null,
      "outputs": [
        {
          "output_type": "stream",
          "name": "stdout",
          "text": [
            "Python implementation: CPython\n",
            "Python version       : 3.10.12\n",
            "IPython version      : 7.34.0\n",
            "\n",
            "datasets: 2.19.0\n",
            "torch   : 2.2.1+cu121\n",
            "nltk    : 3.8.1\n",
            "spacy   : 3.7.4\n",
            "\n"
          ]
        }
      ]
    },
    {
      "cell_type": "code",
      "source": [
        "import re\n",
        "\n",
        "import torch\n",
        "import torch.nn as nn\n",
        "import torch.nn.functional as F\n",
        "import torch.optim as optim\n",
        "from torch import Tensor\n",
        "from datasets import load_dataset\n",
        "from nltk.lm.preprocessing import pad_both_ends\n",
        "from torchtext.data.utils import get_tokenizer\n",
        "from torchtext.vocab import build_vocab_from_iterator, Vocab\n",
        "from torch.utils.data import DataLoader"
      ],
      "metadata": {
        "id": "bPe263Mna98L"
      },
      "execution_count": null,
      "outputs": []
    },
    {
      "cell_type": "markdown",
      "source": [
        "## Data\n",
        "\n",
        "Vamos a usar el corpus de reviews en yelp solo a modo ilustrativo. Cada documento con todos sus atributos (texto, tags, etc.) es un \"example\".\n",
        "\n",
        "Lean el [brevísimo tutorial de HF sobre `datasets`](https://huggingface.co/docs/datasets/tutorial)."
      ],
      "metadata": {
        "id": "pN9ZrHk5h6mL"
      }
    },
    {
      "cell_type": "code",
      "source": [
        "dataset = load_dataset(\"yelp_review_full\")"
      ],
      "metadata": {
        "id": "gzVdx6xVh6Sj",
        "colab": {
          "base_uri": "https://localhost:8080/",
          "height": 308,
          "referenced_widgets": [
            "9a015de0f2454263b4e0854a6324acbf",
            "baa2908670b24eb79a8771cce0fa8e4b",
            "57a4749289574899a03a2bffa53fed94",
            "f9580cf2d3b2469ab6247ba15f79f9a4",
            "0f3ae5dab2114abd8c51d9647f23a4fb",
            "756f493c21404212ba31190dd2fb66b0",
            "83e71dcd56804fba824884ebffe98dbb",
            "28a7f91937284b8e914bfcca58f09f95",
            "b7736cc2a2ac47999e22832f7aa825ae",
            "bc69ee141c1b455fa93f60ce1ec3d3cb",
            "44fe223bb5cf4d1291ddf66bc2d85126",
            "6c78dcffa6b2474eb56227c397f5b02c",
            "6e9887ac4fc84aefa94981fcacb65e77",
            "3f4d45e9966e4f9997e51a143e7275d7",
            "c63d8823f217410c996465f788a56739",
            "6351978d7bfa4966a0745368be366167",
            "90c12a073cfb4a13804a001ebc19a433",
            "dc474e0ece714cca8f67245776ca7089",
            "00f3389c1d154960b75343e01f78f6c4",
            "0765a8170d274b8895aa25c77f83b513",
            "97a19fc597ca4745b067a187f99801ce",
            "28b839c52b05414d86ed4667045a59ba",
            "70b04262df9247abab051aad4cda0ffd",
            "3a2e5dbd726a4531947e8d7a2d6f170f",
            "5b48c461aba84789bc5d33b315859fd3",
            "468bdb0b530a4ce4b8c09682d9bbcd94",
            "1b39b86a8fe4462d92d6c818db175bc9",
            "e42223915548409898d5320e3d03ddbb",
            "84f851c84e7146fc89517d96b06a2aea",
            "bb6613f429434a6082cbd8db25cffab8",
            "fe489039a90844fb8d1d379e31dce4ef",
            "648d09fda09248d0b70dc7e07a9ea14c",
            "d52991d24ae347018d9a721a6c666409",
            "3a20bd2e977b447291d6f0f942a3a734",
            "71252d37143b4c50a00e99d7a233289c",
            "7e126bd372da400ea766072e3eb4394b",
            "2f7468f507c541d0a5b2626c62d5a896",
            "8c86628f04d14c8d970f2fcd0728863e",
            "0706affd2388486d83e6eff7d1c16b82",
            "a3812676f64443ea9e62f34105e87833",
            "614ec8909cf64fc1ae74898bbdf3ece4",
            "d4f7b83edf3f4ce7a42d2b301c63075e",
            "f29eaa2f8c4c40548f9718b43c7631a1",
            "148bb8a22b134332a0dc984cd155cb3b",
            "bd346ba097164d69978cce571c5ca24a",
            "39facb9bbf2d46b0b21f14ae8b91cb72",
            "05c762fc15884856a663e862972c389e",
            "1870d063e858433a95b54b5bccb15aed",
            "28a937fe0bd14250aa02427475c877e4",
            "4a3ea4999147420184440d0c06d94d25",
            "9e93fc825e334003bd514e5a10c9e017",
            "a90ce2e067384fafa7344ddc3d751325",
            "49b970093e50479aa129b1d17345bf8a",
            "9937942196fe43079ebc760b9253d096",
            "a954af90e5b542bcad8f6244a4f8595d"
          ]
        },
        "outputId": "944b97f8-2c38-4cc1-b179-c411b77b7b25"
      },
      "execution_count": null,
      "outputs": [
        {
          "output_type": "stream",
          "name": "stderr",
          "text": [
            "/usr/local/lib/python3.10/dist-packages/huggingface_hub/utils/_token.py:89: UserWarning: \n",
            "The secret `HF_TOKEN` does not exist in your Colab secrets.\n",
            "To authenticate with the Hugging Face Hub, create a token in your settings tab (https://huggingface.co/settings/tokens), set it as secret in your Google Colab and restart your session.\n",
            "You will be able to reuse this secret in all of your notebooks.\n",
            "Please note that authentication is recommended but still optional to access public models or datasets.\n",
            "  warnings.warn(\n"
          ]
        },
        {
          "output_type": "display_data",
          "data": {
            "text/plain": [
              "Downloading readme:   0%|          | 0.00/6.72k [00:00<?, ?B/s]"
            ],
            "application/vnd.jupyter.widget-view+json": {
              "version_major": 2,
              "version_minor": 0,
              "model_id": "9a015de0f2454263b4e0854a6324acbf"
            }
          },
          "metadata": {}
        },
        {
          "output_type": "display_data",
          "data": {
            "text/plain": [
              "Downloading data:   0%|          | 0.00/299M [00:00<?, ?B/s]"
            ],
            "application/vnd.jupyter.widget-view+json": {
              "version_major": 2,
              "version_minor": 0,
              "model_id": "6c78dcffa6b2474eb56227c397f5b02c"
            }
          },
          "metadata": {}
        },
        {
          "output_type": "display_data",
          "data": {
            "text/plain": [
              "Downloading data:   0%|          | 0.00/23.5M [00:00<?, ?B/s]"
            ],
            "application/vnd.jupyter.widget-view+json": {
              "version_major": 2,
              "version_minor": 0,
              "model_id": "70b04262df9247abab051aad4cda0ffd"
            }
          },
          "metadata": {}
        },
        {
          "output_type": "display_data",
          "data": {
            "text/plain": [
              "Generating train split:   0%|          | 0/650000 [00:00<?, ? examples/s]"
            ],
            "application/vnd.jupyter.widget-view+json": {
              "version_major": 2,
              "version_minor": 0,
              "model_id": "3a20bd2e977b447291d6f0f942a3a734"
            }
          },
          "metadata": {}
        },
        {
          "output_type": "display_data",
          "data": {
            "text/plain": [
              "Generating test split:   0%|          | 0/50000 [00:00<?, ? examples/s]"
            ],
            "application/vnd.jupyter.widget-view+json": {
              "version_major": 2,
              "version_minor": 0,
              "model_id": "bd346ba097164d69978cce571c5ca24a"
            }
          },
          "metadata": {}
        }
      ]
    },
    {
      "cell_type": "code",
      "source": [
        "# vemos la estructura:\n",
        "print(dataset)"
      ],
      "metadata": {
        "colab": {
          "base_uri": "https://localhost:8080/"
        },
        "id": "xMpZStLajfTu",
        "outputId": "730bc36e-41cf-4c4b-c50d-e2d60f6b9ee2"
      },
      "execution_count": null,
      "outputs": [
        {
          "output_type": "stream",
          "name": "stdout",
          "text": [
            "DatasetDict({\n",
            "    train: Dataset({\n",
            "        features: ['label', 'text'],\n",
            "        num_rows: 650000\n",
            "    })\n",
            "    test: Dataset({\n",
            "        features: ['label', 'text'],\n",
            "        num_rows: 50000\n",
            "    })\n",
            "})\n"
          ]
        }
      ]
    },
    {
      "cell_type": "code",
      "source": [
        "# vemos un review al azar:\n",
        "dataset[\"train\"][33]"
      ],
      "metadata": {
        "colab": {
          "base_uri": "https://localhost:8080/"
        },
        "id": "alRfTgMcjnez",
        "outputId": "d013875a-c0b4-414a-dbfe-b32ecb62d678"
      },
      "execution_count": null,
      "outputs": [
        {
          "output_type": "execute_result",
          "data": {
            "text/plain": [
              "{'label': 2,\n",
              " 'text': 'If you want a true understanding of Pittsburgh in the morning, come here. This greasy spoon is always packed, and is one of the better of its kind south of the city.\\\\n\\\\nThey serve waffles in halves, which is great. The eggs and toast are good, the homemade hot sausage is excellent. The drawback are the barely cooked potatoes.\\\\n\\\\nIf you\\'re hungry, get \\\\\"The Mixed Grill\\\\\"... Gab and Eat\\'s brand of the \\\\\"kitchen sink\\\\\" breakfast that all Midwest places are about.'}"
            ]
          },
          "metadata": {},
          "execution_count": 8
        }
      ]
    },
    {
      "cell_type": "code",
      "source": [
        "# lo achicamos para trabajar mas rapido: 5k train, 5k test\n",
        "dataset[\"train\"] = dataset[\"train\"].select(range(0, 5_000))\n",
        "dataset[\"test\"] = dataset[\"test\"].select(range(0, 5_000))"
      ],
      "metadata": {
        "id": "Z7rgvwpCrY_e"
      },
      "execution_count": null,
      "outputs": []
    },
    {
      "cell_type": "code",
      "source": [
        "# trabajamos solo con los textos y nos olvidamos de dataset\n",
        "texts_train = dataset[\"train\"][\"text\"]\n",
        "texts_test = dataset[\"test\"][\"text\"]\n",
        "# del dataset"
      ],
      "metadata": {
        "id": "emJc3IflKgZU"
      },
      "execution_count": null,
      "outputs": []
    },
    {
      "cell_type": "code",
      "source": [
        "texts_train[0]"
      ],
      "metadata": {
        "colab": {
          "base_uri": "https://localhost:8080/",
          "height": 91
        },
        "id": "W-jz484l2gYV",
        "outputId": "3af17c39-238b-4583-f28b-73bb39cca381"
      },
      "execution_count": null,
      "outputs": [
        {
          "output_type": "execute_result",
          "data": {
            "text/plain": [
              "\"dr. goldberg offers everything i look for in a general practitioner.  he's nice and easy to talk to without being patronizing; he's always on time in seeing his patients; he's affiliated with a top-notch hospital (nyu) which my parents have explained to me is very important in case something happens and you need surgery; and you can get referrals to see specialists without having to see him first.  really, what more do you need?  i'm sitting here trying to think of any complaints i have about him, but i'm really drawing a blank.\""
            ],
            "application/vnd.google.colaboratory.intrinsic+json": {
              "type": "string"
            }
          },
          "metadata": {},
          "execution_count": 11
        }
      ]
    },
    {
      "cell_type": "markdown",
      "source": [
        "## Tokenización\n",
        "\n",
        "Vamos a usar el tokenizer para inglés de `spacy` (instanciado desde `torchtext`).\n",
        "\n",
        "El objetivo es generar una **lista de trigramas para entrenar la\n",
        "NN** con trigramas (2 palabras de contexto/historia y 1 target). Vamos a:\n",
        "\n",
        "1. Construir un vocab en base al tokenizador -- el vocab son los tokens que nuestro modelo reconoce.\n",
        "\n",
        "    * Vamos a usar `torchtext` en lugar de `nltk` porque nos permite mapear mejor de un token a un token_id.\n",
        "    \n",
        "    * Tenemos que hacer padding con BOS y EOS tokens y vamos a usar min frec = 2 (para definir qué tokens son `UNK`)\n",
        "\n",
        "2. Tokenizar cada doc y convertir a token ids según el vocab.\n",
        "\n",
        "3. Pasar de tokens a trigramas y generar una sola lista con todos los samples de entrenamiento.\n"
      ],
      "metadata": {
        "id": "gOR6scsQjyay"
      }
    },
    {
      "cell_type": "code",
      "source": [
        "# tokenizer default para ingles con reglas de puntacion, contracciones, etc:\n",
        "tokenizer = get_tokenizer('spacy')"
      ],
      "metadata": {
        "id": "M6-oSyEvnXFU",
        "colab": {
          "base_uri": "https://localhost:8080/"
        },
        "outputId": "ef7bea81-3658-4bc2-b475-af119b95b964"
      },
      "execution_count": null,
      "outputs": [
        {
          "output_type": "stream",
          "name": "stderr",
          "text": [
            "/usr/local/lib/python3.10/dist-packages/torchtext/data/utils.py:105: UserWarning: Spacy model \"en\" could not be loaded, trying \"en_core_web_sm\" instead\n",
            "  warnings.warn(\n"
          ]
        }
      ]
    },
    {
      "cell_type": "code",
      "source": [
        "def tokenize_doc(doc: str, ngram_order: int = 3) -> list:\n",
        "  \"\"\"Convierte documento a list of tokens. Usamos esta fn para armar el vocab.\n",
        "  NOTE aca BOS y EOS son end-of-seq. y beg-of-seq. tokens.\n",
        "  Deberiamos usar sentence_tokenize si queremos usar beg-of-sent. y end-of-sent.\n",
        "  \"\"\"\n",
        "  # reemplaza todo whitespace por un solo espacio\n",
        "  # NOTE aca se pueden incluir operaciones de limpieza adicionales\n",
        "  text = re.sub(r'\\s+', ' ', doc)\n",
        "  res = list(pad_both_ends(tokenizer(text), n=ngram_order))\n",
        "  return res\n",
        "\n",
        "def doc2tensor(doc: str, vocab: Vocab, ngram_order: int = 3) -> Tensor:\n",
        "    \"\"\"Convierte documento a un flat Tensor de vocab token ids\n",
        "    \"\"\"\n",
        "    tokens = tokenize_doc(doc, ngram_order=ngram_order)\n",
        "    idxs = vocab(tokens)\n",
        "    res = torch.tensor(idxs, dtype=torch.long)\n",
        "    return res\n",
        "\n",
        "def doc2ngrams(doc: str, vocab: Vocab, ngram_order: int = 3) -> list:\n",
        "  \"\"\"Convierte un documento en tuplas de\n",
        "  ([ idx_i-context_size, ..., idx_i-1 ], target_idx)\n",
        "  \"\"\"\n",
        "  tokens = doc2tensor(doc, vocab, ngram_order=ngram_order)\n",
        "  ngrams = [\n",
        "      (tokens[(i-ngram_order):(i-1)], tokens[i-1])\n",
        "      for i in range(ngram_order, len(tokens))\n",
        "  ]\n",
        "  return ngrams"
      ],
      "metadata": {
        "id": "PI9LY8AjMfq0"
      },
      "execution_count": null,
      "outputs": []
    },
    {
      "cell_type": "code",
      "source": [
        "# por ejemplo:\n",
        "print(texts_train[33])\n",
        "print(tokenize_doc(texts_train[33]))\n",
        "# la limpieza se puede mejorar mucho (por ej hay \"\\\\n\" que no se parsearon como newline)"
      ],
      "metadata": {
        "colab": {
          "base_uri": "https://localhost:8080/"
        },
        "id": "3kfR3OzHMgoH",
        "outputId": "fc69d408-41ac-4b41-cf7c-68c6e659febd"
      },
      "execution_count": null,
      "outputs": [
        {
          "output_type": "stream",
          "name": "stdout",
          "text": [
            "If you want a true understanding of Pittsburgh in the morning, come here. This greasy spoon is always packed, and is one of the better of its kind south of the city.\\n\\nThey serve waffles in halves, which is great. The eggs and toast are good, the homemade hot sausage is excellent. The drawback are the barely cooked potatoes.\\n\\nIf you're hungry, get \\\"The Mixed Grill\\\"... Gab and Eat's brand of the \\\"kitchen sink\\\" breakfast that all Midwest places are about.\n",
            "['<s>', '<s>', 'If', 'you', 'want', 'a', 'true', 'understanding', 'of', 'Pittsburgh', 'in', 'the', 'morning', ',', 'come', 'here', '.', 'This', 'greasy', 'spoon', 'is', 'always', 'packed', ',', 'and', 'is', 'one', 'of', 'the', 'better', 'of', 'its', 'kind', 'south', 'of', 'the', 'city.\\\\n\\\\nThey', 'serve', 'waffles', 'in', 'halves', ',', 'which', 'is', 'great', '.', 'The', 'eggs', 'and', 'toast', 'are', 'good', ',', 'the', 'homemade', 'hot', 'sausage', 'is', 'excellent', '.', 'The', 'drawback', 'are', 'the', 'barely', 'cooked', 'potatoes.\\\\n\\\\nIf', 'you', \"'re\", 'hungry', ',', 'get', '\\\\\"The', 'Mixed', 'Grill\\\\', '\"', '...', 'Gab', 'and', 'Eat', \"'s\", 'brand', 'of', 'the', '\\\\\"kitchen', 'sink\\\\', '\"', 'breakfast', 'that', 'all', 'Midwest', 'places', 'are', 'about', '.', '</s>', '</s>']\n"
          ]
        }
      ]
    },
    {
      "cell_type": "code",
      "source": [
        "# construimos el vocab\n",
        "vocab = build_vocab_from_iterator(\n",
        "    map(tokenize_doc, texts_train), specials=['<unk>'], min_freq=2)\n",
        "vocab.set_default_index(vocab['<unk>']) # va a devolver este index si pedimos OOV"
      ],
      "metadata": {
        "id": "i_LEUpPcMmFe"
      },
      "execution_count": null,
      "outputs": []
    },
    {
      "cell_type": "code",
      "source": [
        "vocab[\"<unk>\"], vocab[\"riquelme\"], vocab[\"the\"], vocab[\"area\"], vocab[\"<s>\"]"
      ],
      "metadata": {
        "colab": {
          "base_uri": "https://localhost:8080/"
        },
        "id": "IcxBzGD84ENx",
        "outputId": "9b711133-8ca1-49aa-9b0e-96380a03529d"
      },
      "execution_count": null,
      "outputs": [
        {
          "output_type": "execute_result",
          "data": {
            "text/plain": [
              "(0, 0, 2, 217, 11)"
            ]
          },
          "metadata": {},
          "execution_count": 16
        }
      ]
    },
    {
      "cell_type": "code",
      "source": [
        "# veamos un ejemplo:\n",
        "print(texts_train[33])\n",
        "x = doc2tensor(texts_train[33], vocab, ngram_order=3)\n",
        "print(x)\n",
        "print(x.shape)"
      ],
      "metadata": {
        "colab": {
          "base_uri": "https://localhost:8080/"
        },
        "id": "cgk2Zt4CLfTp",
        "outputId": "f43c053e-5af1-465f-a525-381ffea31028"
      },
      "execution_count": null,
      "outputs": [
        {
          "output_type": "stream",
          "name": "stdout",
          "text": [
            "If you want a true understanding of Pittsburgh in the morning, come here. This greasy spoon is always packed, and is one of the better of its kind south of the city.\\n\\nThey serve waffles in halves, which is great. The eggs and toast are good, the homemade hot sausage is excellent. The drawback are the barely cooked potatoes.\\n\\nIf you're hungry, get \\\"The Mixed Grill\\\"... Gab and Eat's brand of the \\\"kitchen sink\\\" breakfast that all Midwest places are about.\n",
            "tensor([   11,    11,   160,    21,   144,     6,   955,  3315,     9,   102,\n",
            "           14,     2,   576,     3,   162,    47,     1,   103,   683,  2455,\n",
            "           13,   115,   569,     3,     4,    13,    57,     9,     2,   123,\n",
            "            9,   288,   286,  2794,     9,     2,     0,   587,  4683,    14,\n",
            "            0,     3,    65,    13,    74,     1,    22,   789,     4,   834,\n",
            "           34,    39,     3,     2,  1056,   250,   639,    13,   399,     1,\n",
            "           22,  4232,    34,     2,   911,   350,     0,    21,   125,   802,\n",
            "            3,    53,  2725,  7349, 10843,    76,    70,  5669,     4,  1838,\n",
            "           17,  1604,     9,     2,     0,     0,    76,   385,    16,    56,\n",
            "         6369,   294,    34,    61,     1,    10,    10])\n",
            "torch.Size([97])\n"
          ]
        }
      ]
    },
    {
      "cell_type": "code",
      "source": [
        "# las primeras 5 muestras de entrenamiento de este doc:\n",
        "doc2ngrams(texts_train[33], vocab)[:5]"
      ],
      "metadata": {
        "colab": {
          "base_uri": "https://localhost:8080/"
        },
        "id": "Y9aznm-PLfKV",
        "outputId": "fcfc012b-3830-499a-a1f3-2b9ce3fc330e"
      },
      "execution_count": null,
      "outputs": [
        {
          "output_type": "execute_result",
          "data": {
            "text/plain": [
              "[(tensor([11, 11]), tensor(160)),\n",
              " (tensor([ 11, 160]), tensor(21)),\n",
              " (tensor([160,  21]), tensor(144)),\n",
              " (tensor([ 21, 144]), tensor(6)),\n",
              " (tensor([144,   6]), tensor(955))]"
            ]
          },
          "metadata": {},
          "execution_count": 18
        }
      ]
    },
    {
      "cell_type": "code",
      "source": [
        "# armamos los ngrams de training\n",
        "ngrams_train = []\n",
        "for doc in texts_train:\n",
        "  ngrams_train.extend(doc2ngrams(doc, vocab, ngram_order=3))"
      ],
      "metadata": {
        "id": "FW93Ku_RLfHZ"
      },
      "execution_count": null,
      "outputs": []
    },
    {
      "cell_type": "markdown",
      "source": [
        "## Modelo\n",
        "\n",
        "Armamos una red bien sencilla con una hidden layer. Es la misma arquitectura que Figure 7.17 de Jurafksy.\n",
        "\n",
        "**OJO:**\n",
        "\n",
        "* Si vamos a usar [Cross Entropy Loss](https://pytorch.org/docs/stable/generated/torch.nn.CrossEntropyLoss.html) no tenemos que aplicar softmax porque espera \"raw, unnormalized scores for each class\".\n",
        "* En cambio [NLLLoss](https://pytorch.org/docs/stable/generated/torch.nn.NLLLoss.html) espera que usemos log_softmax."
      ],
      "metadata": {
        "id": "Dtx-oJRAcsRy"
      }
    },
    {
      "cell_type": "code",
      "source": [
        "class NGramLanguageModel(nn.Module):\n",
        "\n",
        "    def __init__(self, vocab_size, embedding_dim, hidden_size, ngram_order):\n",
        "        super().__init__()\n",
        "        context_size = ngram_order - 1\n",
        "        self.embeddings = nn.Embedding(vocab_size, embedding_dim)\n",
        "        self.linear1 = nn.Linear(context_size * embedding_dim, hidden_size)\n",
        "        self.linear2 = nn.Linear(hidden_size, vocab_size)\n",
        "\n",
        "    def forward(self, inputs):\n",
        "        embeds = self.embeddings(inputs) # shape (bsz, context_size, embed_dim)\n",
        "        # concatena vectores de contexto\n",
        "        embeds = embeds.flatten(1) # shape (bsz, context_size * embed_dim)\n",
        "        hidden = F.relu(self.linear1(embeds))\n",
        "        z = self.linear2(hidden)\n",
        "        log_probas = F.log_softmax(z, dim=1)\n",
        "        return log_probas\n",
        "\n",
        "# # Alternativa equivalente:\n",
        "# from collections import OrderedDict\n",
        "\n",
        "# class NGramLanguageModel(nn.Module):\n",
        "\n",
        "#     def __init__(self, vocab_size, embedding_dim, hidden_size, ngram_order):\n",
        "#         super().__init__()\n",
        "#         context_size = ngram_order - 1\n",
        "#         self.model = nn.Sequential(OrderedDict([\n",
        "#             ('embeddings', nn.Embedding(vocab_size, embedding_dim)),\n",
        "#             ('flatten', nn.Flatten(1)),\n",
        "#             ('linear1', nn.Linear(context_size * embedding_dim, hidden_size)),\n",
        "#             ('relu', nn.ReLU()),\n",
        "#             ('linear2', nn.Linear(hidden_size, vocab_size)),\n",
        "#             ('log_softmax', nn.LogSoftmax(dim=1))\n",
        "#         ]))\n",
        "#     def forward(self, inputs):\n",
        "#         return self.model(inputs)"
      ],
      "metadata": {
        "id": "j_xcKS3NcrB3"
      },
      "execution_count": null,
      "outputs": []
    },
    {
      "cell_type": "markdown",
      "source": [
        "## Training\n",
        "\n",
        "Hacemos un `DataLoader` con nuestros ngrams de entrenamiento. Esta clase nos sirve para ir procesando los samples en batches durante el entrenamiento."
      ],
      "metadata": {
        "id": "6Ec3_tL41LDs"
      }
    },
    {
      "cell_type": "code",
      "source": [
        "# seed para reproducibilidad (https://pytorch.org/docs/stable/notes/randomness.html#dataloader)\n",
        "g = torch.Generator()\n",
        "g.manual_seed(33)"
      ],
      "metadata": {
        "colab": {
          "base_uri": "https://localhost:8080/"
        },
        "id": "UB5rfGhXYHkX",
        "outputId": "b60269f2-525d-4267-92e4-a3f3229f9ab7"
      },
      "execution_count": null,
      "outputs": [
        {
          "output_type": "execute_result",
          "data": {
            "text/plain": [
              "<torch._C.Generator at 0x7a012cba7d90>"
            ]
          },
          "metadata": {},
          "execution_count": 21
        }
      ]
    },
    {
      "cell_type": "code",
      "source": [
        "train_dataloader = DataLoader(\n",
        "    ngrams_train, batch_size=32, shuffle=True, generator=g)"
      ],
      "metadata": {
        "id": "AubwG4g55z3C"
      },
      "execution_count": null,
      "outputs": []
    },
    {
      "cell_type": "code",
      "source": [
        "# revisamos el primer batch del generador\n",
        "batch_example = next(iter(train_dataloader))[0]\n",
        "print(batch_example)\n",
        "batch_example.shape\n",
        "# son batchsize ejemplos con 2 IDs cada uno (los 2 vectores de contexto)"
      ],
      "metadata": {
        "colab": {
          "base_uri": "https://localhost:8080/"
        },
        "id": "Vy9wvNw-Mdkp",
        "outputId": "f9118aec-d658-4c00-9df1-8d0cf41f2601"
      },
      "execution_count": null,
      "outputs": [
        {
          "output_type": "stream",
          "name": "stdout",
          "text": [
            "tensor([[    1,    22],\n",
            "        [ 2124,    17],\n",
            "        [    9,   328],\n",
            "        [ 1177,    59],\n",
            "        [  703,     3],\n",
            "        [    0,    63],\n",
            "        [  123,     1],\n",
            "        [  161,     3],\n",
            "        [  422,    16],\n",
            "        [  112,     8],\n",
            "        [   11,    11],\n",
            "        [  101,    88],\n",
            "        [    2,  5681],\n",
            "        [   98,   985],\n",
            "        [    4,     0],\n",
            "        [    1,     5],\n",
            "        [   11,    11],\n",
            "        [  887,     8],\n",
            "        [   99, 13755],\n",
            "        [ 2690,     4],\n",
            "        [  364,  2406],\n",
            "        [ 2604,    51],\n",
            "        [   16,     5],\n",
            "        [  213,     2],\n",
            "        [   40,     1],\n",
            "        [  549,     1],\n",
            "        [ 1208,     5],\n",
            "        [    0,    95],\n",
            "        [   13,     6],\n",
            "        [   38,   110],\n",
            "        [  153,     1],\n",
            "        [    4,   598]])\n"
          ]
        },
        {
          "output_type": "execute_result",
          "data": {
            "text/plain": [
              "torch.Size([32, 2])"
            ]
          },
          "metadata": {},
          "execution_count": 23
        }
      ]
    },
    {
      "cell_type": "code",
      "source": [
        "def train(\n",
        "    loss_function, optimizer, model, train_dataloader, num_epochs, device=None):\n",
        "  \"\"\"Entrena iterando por epoch.\n",
        "  \"\"\"\n",
        "  for epoch in range(num_epochs):\n",
        "      epoch_loss = train_epoch(loss_function, optimizer, model, train_dataloader, device=device)\n",
        "      print(f\"Epoch {epoch+1} / Loss {epoch_loss:.3f}\")\n",
        "\n",
        "def train_epoch(loss_function, optimizer, model, ngrams_loader, device=None):\n",
        "    \"\"\"Entrena 1 epoch\n",
        "    \"\"\"\n",
        "    total_loss = 0\n",
        "    num_batches = 0\n",
        "    for context, target in ngrams_loader:\n",
        "        if device:\n",
        "            context = context.to(device)\n",
        "            target = target.to(device)\n",
        "        # 1. Ponemos a cero el gradiente\n",
        "        optimizer.zero_grad()\n",
        "        # 2. Forward pass (log probabilities over next words)\n",
        "        log_probas = model(context)\n",
        "        # 3. Compute loss function\n",
        "        loss = loss_function(log_probas, target)\n",
        "        # 4. Backward pass (computa gradientes)\n",
        "        loss.backward()\n",
        "        # 5. Actualiza pesos\n",
        "        optimizer.step()\n",
        "        # Get loss\n",
        "        total_loss += loss.item()\n",
        "        num_batches += 1\n",
        "    return total_loss / num_batches"
      ],
      "metadata": {
        "id": "ZZx2A2qN2Gjy"
      },
      "execution_count": null,
      "outputs": []
    },
    {
      "cell_type": "code",
      "source": [
        "device = \"cuda\" if torch.cuda.is_available() else \"cpu\"\n",
        "print(device)\n",
        "# Podemos activar gpu en notebook settings al principio"
      ],
      "metadata": {
        "id": "djvarqNi2bYm",
        "colab": {
          "base_uri": "https://localhost:8080/"
        },
        "outputId": "da665e0a-c1c7-4a07-9255-45fe89a12e2b"
      },
      "execution_count": null,
      "outputs": [
        {
          "output_type": "stream",
          "name": "stdout",
          "text": [
            "cuda\n"
          ]
        }
      ]
    },
    {
      "cell_type": "code",
      "source": [
        "model = NGramLanguageModel(\n",
        "    vocab_size=len(vocab),\n",
        "    embedding_dim=50,\n",
        "    hidden_size=16,\n",
        "    ngram_order=3,\n",
        ")\n",
        "optimizer = optim.Adam(model.parameters(), lr=1e-3)\n",
        "loss_function = nn.NLLLoss() # Cross Entropy\n",
        "\n",
        "model = model.to(device)"
      ],
      "metadata": {
        "id": "RAneQY5_3Bo8"
      },
      "execution_count": null,
      "outputs": []
    },
    {
      "cell_type": "code",
      "source": [
        "# entrenamos! (1 epoch para ahorrar tiempo)\n",
        "train_dataloader = DataLoader(ngrams_train, batch_size=32, shuffle=True, generator=g)\n",
        "num_epochs = 1\n",
        "train(loss_function, optimizer, model, train_dataloader, num_epochs=num_epochs, device=device)"
      ],
      "metadata": {
        "colab": {
          "base_uri": "https://localhost:8080/"
        },
        "id": "eR6yqrAU2EhI",
        "outputId": "1c34573a-4048-4111-8c85-0989f35b921b"
      },
      "execution_count": null,
      "outputs": [
        {
          "output_type": "stream",
          "name": "stdout",
          "text": [
            "Epoch 1 / Loss 5.953\n"
          ]
        }
      ]
    },
    {
      "cell_type": "markdown",
      "source": [
        "## Evaluación\n",
        "\n",
        "Computamos perplexity y vemos cómo generar texto aleatorio."
      ],
      "metadata": {
        "id": "yYd_4p8Q9Rcs"
      }
    },
    {
      "cell_type": "code",
      "source": [
        "def text2input(context_str: str, vocab: Vocab, ngram_order: int = 3) -> Tensor:\n",
        "    \"\"\"Convierte contexto en un input para la NN (tensor de context IDs)\n",
        "    \"\"\"\n",
        "    ngrams = doc2ngrams(context_str, vocab, ngram_order=ngram_order)\n",
        "    # el input es el contexto del ultimo ngram\n",
        "    last_context = ngrams[-1][0]\n",
        "    # agregamos una dimension que hace las veces de batch (size=1) para hacer el forward\n",
        "    out = last_context.unsqueeze(0)\n",
        "    return out\n",
        "\n",
        "def idx2str(itos: list, input: Tensor) -> list:\n",
        "    \"\"\"De vocab ID a token\n",
        "    \"\"\"\n",
        "    res = [itos[i] for i in input]\n",
        "    return res\n",
        "\n",
        "def sample_text(model, vocab, start_text, max_length=10, ngram_order=3):\n",
        "    \"\"\"Generación autorregresiva aleatoria de texto sampleando de softmax.\n",
        "    El modelo debe ser consistente con ngram_order.\n",
        "    \"\"\"\n",
        "    # buscamos los input IDs segun el context size\n",
        "    input_ = text2input(start_text, vocab, ngram_order=ngram_order)\n",
        "    # get model device para mandar inputs al mismo device\n",
        "    device = next(model.parameters()).device\n",
        "    input_ = input_.to(device)\n",
        "    idx_eos = vocab.get_stoi()[\"</s>\"]\n",
        "    context_size = ngram_order - 1\n",
        "    itos = vocab.get_itos()\n",
        "    # el resultado solo va a incluir el contexto usado segun los ngrams + el texto nuevo\n",
        "    idxs_result = input_.clone()\n",
        "    with torch.no_grad():  # no need to track gradients in inference\n",
        "        for i in range(max_length):\n",
        "            output_ = model(input_) # log_softmax scores\n",
        "            # output es < 0 -- tenemos que aplicar exp para samplear de la\n",
        "            # softmax con torch.multinomial\n",
        "            sampled_idx = torch.multinomial(output_.exp(), num_samples=1)\n",
        "            if sampled_idx == idx_eos: # break if </s>\n",
        "                break\n",
        "            # actualizamos el resultado\n",
        "            idxs_result = torch.cat((idxs_result, sampled_idx), dim=1)\n",
        "            # actualizamos el input conservando solo los ultimos context_size tokens\n",
        "            input_ = idxs_result[:,-context_size:]\n",
        "        tokens_result = idx2str(itos, idxs_result.squeeze())\n",
        "        return tokens_result"
      ],
      "metadata": {
        "id": "dcZNlwPqFnw-"
      },
      "execution_count": null,
      "outputs": []
    },
    {
      "cell_type": "code",
      "source": [
        "torch.manual_seed(0)\n",
        "start_text = \"The place is\"\n",
        "res_ = sample_text(model, vocab, start_text, max_length=10)\n",
        "\n",
        "print(res_)"
      ],
      "metadata": {
        "colab": {
          "base_uri": "https://localhost:8080/"
        },
        "id": "5X0_SgYkURs9",
        "outputId": "416af2ee-1638-4a64-b25f-d44f2567fd5f"
      },
      "execution_count": null,
      "outputs": [
        {
          "output_type": "stream",
          "name": "stdout",
          "text": [
            "['place', 'is', 'decent', '<unk>', 'A', 'enough', 'and', 'kissed', 'you', 'have', 'no', 'places']\n"
          ]
        }
      ]
    },
    {
      "cell_type": "code",
      "source": [
        "torch.manual_seed(22)\n",
        "start_text = \"\"\n",
        "res_ = sample_text(model, vocab, start_text, max_length=35)\n",
        "\n",
        "res_"
      ],
      "metadata": {
        "colab": {
          "base_uri": "https://localhost:8080/"
        },
        "id": "MCP5OYMuY66J",
        "outputId": "4b78206e-8b9e-480d-d584-0aacec29aaa8"
      },
      "execution_count": null,
      "outputs": [
        {
          "output_type": "execute_result",
          "data": {
            "text/plain": [
              "['<s>',\n",
              " '<s>',\n",
              " 'go',\n",
              " 'overall',\n",
              " '.',\n",
              " 'The',\n",
              " 'dirty',\n",
              " 'side',\n",
              " 'with',\n",
              " 'my',\n",
              " 'server',\n",
              " 'also',\n",
              " 'called',\n",
              " 'about',\n",
              " 'no',\n",
              " 'biggest',\n",
              " 'sum',\n",
              " 'it',\n",
              " \"'s\",\n",
              " 'best',\n",
              " 'is',\n",
              " 'how',\n",
              " 'a',\n",
              " 'Friday',\n",
              " 'and',\n",
              " 'downright',\n",
              " 'cheese',\n",
              " '.',\n",
              " 'return',\n",
              " 'to',\n",
              " 'the',\n",
              " 'cool',\n",
              " 'and',\n",
              " 'desert',\n",
              " 'a',\n",
              " 'hungry',\n",
              " 'way']"
            ]
          },
          "metadata": {},
          "execution_count": 30
        }
      ]
    },
    {
      "cell_type": "markdown",
      "source": [
        "Ahora calculamos perplexity (PPL).\n",
        "\n",
        "Hacemos $ \\exp(\\log PPL ) $ para evitar underflow.\n",
        "\n",
        "Vean que $\\log PPL = CrossEntropy = -avg(\\log(probas))$"
      ],
      "metadata": {
        "id": "Wi4laTQGIaQy"
      }
    },
    {
      "cell_type": "code",
      "source": [
        "# ngrams de test (lo hacemos solo para el primer doc)\n",
        "ngrams_test = doc2ngrams(texts_test[0], vocab, ngram_order=3)"
      ],
      "metadata": {
        "id": "UvaJlCzZ4Br-"
      },
      "execution_count": null,
      "outputs": []
    },
    {
      "cell_type": "code",
      "source": [
        "test_dataloader = DataLoader(ngrams_test, batch_size=32, shuffle=False)"
      ],
      "metadata": {
        "id": "DlxeAZ9G4PaZ"
      },
      "execution_count": null,
      "outputs": []
    },
    {
      "cell_type": "code",
      "source": [
        "def perplexity(model, dataloader, device):\n",
        "    with torch.no_grad():\n",
        "        # Iteramos por batch. Vamos a ir guardando las probas de los tokens correctos en cada batch.\n",
        "        all_log_probas_correct = torch.tensor([], device=device)\n",
        "        for context, target in dataloader:\n",
        "            if device:\n",
        "                context = context.to(device)\n",
        "                target = target.to(device)\n",
        "            batch_size = len(target)\n",
        "            log_probas = model(context) # shape (bsz, vocab_size)\n",
        "            log_probas_correct = log_probas[torch.arange(batch_size), target] # extraemos la proba del token correcto\n",
        "            all_log_probas_correct = torch.cat((all_log_probas_correct, log_probas_correct))\n",
        "            # NOTE tambien podemos usar la loss que equivale a mean(-log(proba_clase_correcta)):\n",
        "            # loss = loss_function(log_probas, target) # esto es el promedio\n",
        "            # equivale a:\n",
        "            # loss2 = torch.mean(-log_probas_correct)\n",
        "        res = torch.exp(-all_log_probas_correct.mean())\n",
        "    return res.item()"
      ],
      "metadata": {
        "id": "IsuUZCu25Gr_"
      },
      "execution_count": null,
      "outputs": []
    },
    {
      "cell_type": "code",
      "source": [
        "perplexity(model, test_dataloader, device)"
      ],
      "metadata": {
        "colab": {
          "base_uri": "https://localhost:8080/"
        },
        "id": "bWAjtowSLFuA",
        "outputId": "ccdb50e4-ac3b-466f-ed3d-e8a66ab3f55d"
      },
      "execution_count": null,
      "outputs": [
        {
          "output_type": "execute_result",
          "data": {
            "text/plain": [
              "261.5930480957031"
            ]
          },
          "metadata": {},
          "execution_count": 34
        }
      ]
    },
    {
      "cell_type": "code",
      "source": [
        "# es correcto usar perplexity si tenemos una distribucion de probas. dado el contexto"
      ],
      "metadata": {
        "id": "aSwZZlGF-XgF"
      },
      "execution_count": null,
      "outputs": []
    },
    {
      "cell_type": "markdown",
      "source": [
        "## Referencias\n",
        "\n",
        "* https://pytorch.org/tutorials/beginner/nlp/word_embeddings_tutorial.html#an-example-n-gram-language-modeling\n",
        "* https://pytorch.org/tutorials/beginner/transformer_tutorial.html\n",
        "* https://pytorch.org/tutorials/intermediate/char_rnn_generation_tutorial.html\n",
        "* https://pytorch.org/docs/stable/notes/autograd.html"
      ],
      "metadata": {
        "id": "aIK8Bi41HsZB"
      }
    }
  ]
}