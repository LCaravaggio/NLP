{
  "nbformat": 4,
  "nbformat_minor": 0,
  "metadata": {
    "colab": {
      "name": "NMF vs LDA.ipynb",
      "provenance": [],
      "authorship_tag": "ABX9TyOL4U3chWsmEdi0aGOELlkU",
      "include_colab_link": true
    },
    "kernelspec": {
      "name": "python3",
      "display_name": "Python 3"
    },
    "language_info": {
      "name": "python"
    }
  },
  "cells": [
    {
      "cell_type": "markdown",
      "metadata": {
        "id": "view-in-github",
        "colab_type": "text"
      },
      "source": [
        "<a href=\"https://colab.research.google.com/github/LCaravaggio/AnalisisPredictivo/blob/master/06_clasificación/NMF_vs_LDA.ipynb\" target=\"_parent\"><img src=\"https://colab.research.google.com/assets/colab-badge.svg\" alt=\"Open In Colab\"/></a>"
      ]
    },
    {
      "cell_type": "code",
      "execution_count": 11,
      "metadata": {
        "colab": {
          "base_uri": "https://localhost:8080/"
        },
        "id": "SQSwZaEgJuYU",
        "outputId": "80b89207-2e5d-49d7-9a72-d48ab78d50a9"
      },
      "outputs": [
        {
          "output_type": "stream",
          "name": "stderr",
          "text": [
            "/usr/local/lib/python3.7/dist-packages/sklearn/utils/deprecation.py:87: FutureWarning: Function get_feature_names is deprecated; get_feature_names is deprecated in 1.0 and will be removed in 1.2. Please use get_feature_names_out instead.\n",
            "  warnings.warn(msg, category=FutureWarning)\n",
            "/usr/local/lib/python3.7/dist-packages/sklearn/utils/deprecation.py:87: FutureWarning: Function get_feature_names is deprecated; get_feature_names is deprecated in 1.0 and will be removed in 1.2. Please use get_feature_names_out instead.\n",
            "  warnings.warn(msg, category=FutureWarning)\n",
            "/usr/local/lib/python3.7/dist-packages/sklearn/decomposition/_nmf.py:1425: FutureWarning: `alpha` was deprecated in version 1.0 and will be removed in 1.2. Use `alpha_W` and `alpha_H` instead\n",
            "  FutureWarning,\n"
          ]
        }
      ],
      "source": [
        "from sklearn.feature_extraction.text import TfidfVectorizer, CountVectorizer\n",
        "from sklearn.datasets import fetch_20newsgroups\n",
        "from sklearn.decomposition import NMF, LatentDirichletAllocation"
      ]
    },
    {
      "cell_type": "code",
      "source": [
        "def display_topics(model, feature_names, no_top_words):\n",
        "    for topic_idx, topic in enumerate(model.components_):\n",
        "        print(\"Topic %d - %s :\" % (topic_idx, dataset['target_names'][topic_idx]))\n",
        "        print(\" \".join([feature_names[i]\n",
        "                        for i in topic.argsort()[:-no_top_words - 1:-1]]))"
      ],
      "metadata": {
        "id": "td7VIgpYOPPt"
      },
      "execution_count": 24,
      "outputs": []
    },
    {
      "cell_type": "code",
      "source": [
        "dataset = fetch_20newsgroups(subset=\"train\", remove=('headers', 'footers', 'quotes'))\n",
        "documents = dataset.data\n",
        "\n",
        "no_features = 1000\n",
        "\n",
        "# NMF is able to use tf-idf\n",
        "tfidf_vectorizer = TfidfVectorizer(max_df=0.95, min_df=2, max_features=no_features, stop_words='english')\n",
        "tfidf = tfidf_vectorizer.fit_transform(documents)\n",
        "tfidf_feature_names = tfidf_vectorizer.get_feature_names()\n",
        "\n",
        "# LDA can only use raw term counts for LDA because it is a probabilistic graphical model\n",
        "tf_vectorizer = CountVectorizer(max_df=0.95, min_df=2, max_features=no_features, stop_words='english')\n",
        "tf = tf_vectorizer.fit_transform(documents)\n",
        "tf_feature_names = tf_vectorizer.get_feature_names()\n",
        "\n",
        "no_topics = 20\n",
        "\n",
        "# Run NMF\n",
        "nmf = NMF(n_components=no_topics, random_state=1, alpha=.1, l1_ratio=.5, init='nndsvd').fit(tfidf)\n",
        "\n",
        "# Run LDA\n",
        "lda = LatentDirichletAllocation(n_components=no_topics, max_iter=5, learning_method='online', learning_offset=50.,random_state=0).fit(tf)\n",
        "\n",
        "no_top_words = 20"
      ],
      "metadata": {
        "id": "tFa20JRaONjc"
      },
      "execution_count": null,
      "outputs": []
    },
    {
      "cell_type": "code",
      "source": [
        "display_topics(nmf, tfidf_feature_names, no_top_words)"
      ],
      "metadata": {
        "colab": {
          "base_uri": "https://localhost:8080/"
        },
        "id": "WhdpIx5AJwjw",
        "outputId": "e0bf803e-bd6f-4e81-d597-69d6d506eee0"
      },
      "execution_count": 25,
      "outputs": [
        {
          "output_type": "stream",
          "name": "stdout",
          "text": [
            "Topic 0 - alt.atheism :\n",
            "people time right did good said say make way government point really years going course long believe state fact world\n",
            "Topic 1 - comp.graphics :\n",
            "window problem using server application screen display motif manager running widget program problems set error mouse work code fine run\n",
            "Topic 2 - comp.os.ms-windows.misc :\n",
            "god jesus bible christ faith believe christian christians sin church lord hell truth life man love belief say christianity father\n",
            "Topic 3 - comp.sys.ibm.pc.hardware :\n",
            "game team year games season players play hockey win league player teams nhl good runs best better hit division points\n",
            "Topic 4 - comp.sys.mac.hardware :\n",
            "new 00 sale 10 price offer shipping condition 20 15 50 interested 12 asking 30 space 11 25 used sell\n",
            "Topic 5 - comp.windows.x :\n",
            "thanks mail advance hi looking info help information address appreciated email post know anybody send interested appreciate need reply tell\n",
            "Topic 6 - misc.forsale :\n",
            "windows file files dos program version ftp ms directory running pc run using os software drivers disk graphics win programs\n",
            "Topic 7 - rec.autos :\n",
            "edu soon cs university ftp internet article email pub david send mit au mail subject apr mac directory 1993 export\n",
            "Topic 8 - rec.motorcycles :\n",
            "key chip clipper encryption keys escrow government public algorithm nsa security bit phone secure chips des secret data number privacy\n",
            "Topic 9 - rec.sport.baseball :\n",
            "drive scsi drives hard disk ide floppy controller cd mac internal tape rom cable power computer mb apple switch dos\n",
            "Topic 10 - rec.sport.hockey :\n",
            "just ll thought tell oh little fine work wanted mean maybe sure bit guess bike way doesn got say bought\n",
            "Topic 11 - sci.crypt :\n",
            "does know anybody mean work say doesn help exist program info ftp board exactly appreciated getting actually chips message company\n",
            "Topic 12 - sci.electronics :\n",
            "card video monitor cards drivers bus vga driver color memory ram mode bit pc board graphics controller speed 16 modem\n",
            "Topic 13 - sci.med :\n",
            "like sounds looks look bike sound lot things really thing make doesn doing sure new hear looked nice going idea\n",
            "Topic 14 - sci.space :\n",
            "don know want let need doesn little sure sorry things really ll maybe oh try mean tell look work pretty\n",
            "Topic 15 - soc.religion.christian :\n",
            "car cars engine speed good bike driver road insurance fast price buy bought looks drivers power gas radio went year\n",
            "Topic 16 - talk.politics.guns :\n",
            "ve got seen heard tried good recently times try couple thing problems help maybe months great years bike used pretty\n",
            "Topic 17 - talk.politics.mideast :\n",
            "use used using work available want software need image data way mac machine set uses help port good device program\n",
            "Topic 18 - talk.politics.misc :\n",
            "think don lot try makes really pretty wasn bit david agree wrong original win better moral come wait important thinking\n",
            "Topic 19 - talk.religion.misc :\n",
            "com list dave internet article sun hp email ibm phone reply address away jim mail said paul apr ca mouse\n"
          ]
        }
      ]
    },
    {
      "cell_type": "code",
      "source": [
        "display_topics(lda, tf_feature_names, no_top_words)"
      ],
      "metadata": {
        "colab": {
          "base_uri": "https://localhost:8080/"
        },
        "id": "vNV9RtVBJxaw",
        "outputId": "cc549819-7ec1-4b46-ffa6-d82cf4248860"
      },
      "execution_count": 23,
      "outputs": [
        {
          "output_type": "stream",
          "name": "stdout",
          "text": [
            "Topic 0 - alt.atheism  :\n",
            "00 black 50 white cover new 20 dos picture appears 15 supply ed price red son 30 man st light\n",
            "Topic 1 - comp.graphics  :\n",
            "windows card scsi use bit mac memory dos pc video drive color does using disk screen bus monitor ms mode\n",
            "Topic 2 - comp.os.ms-windows.misc  :\n",
            "said gun people children health guns women medical police weapons control says home went killed firearms house city saw day\n",
            "Topic 3 - comp.sys.ibm.pc.hardware  :\n",
            "new research science center national 1993 april use data states high united american information power service washington scientific used university\n",
            "Topic 4 - comp.sys.mac.hardware  :\n",
            "thanks like help use need know does looking work used want hi advance appreciated keyboard mail good pin information info\n",
            "Topic 5 - comp.windows.x  :\n",
            "edu file information image ftp files program version com cs graphics pub available info email internet mit use images comp\n",
            "Topic 6 - misc.forsale  :\n",
            "key chip encryption keys clipper use security bit number des chips public algorithm used secure government escrow phone data nsa\n",
            "Topic 7 - rec.autos  :\n",
            "law state book rights laws books legal court federal crime media case person paul citizens theory fbi individual act public\n",
            "Topic 8 - rec.motorcycles  :\n",
            "god jesus bible believe christian does life church faith christ christians religion people man say true truth word love belief\n",
            "Topic 9 - rec.sport.baseball  :\n",
            "just like good ve car time got don years know year ll didn think right new old did going really\n",
            "Topic 10 - rec.sport.hockey  :\n",
            "10 25 11 12 16 14 17 15 13 20 18 24 27 19 21 23 55 22 30 cx\n",
            "Topic 11 - sci.crypt  :\n",
            "people don think just know say like time want make did way things does really point going believe right good\n",
            "Topic 12 - sci.electronics  :\n",
            "line section article read entry use rules wire ground subject right current does define title code return set given example\n",
            "Topic 13 - sci.med  :\n",
            "ax max g9v b8f a86 pl 1d9 145 34u 1t bhj 3t 0t 75u giz 2di wm 2tm 7ey 6ei\n",
            "Topic 14 - sci.space  :\n",
            "space president stephanopoulos government nasa mr launch clinton administration tax program congress jobs earth orbit technology shuttle privacy satellite private\n",
            "Topic 15 - soc.religion.christian  :\n",
            "game team drive games hockey season win play players league year drives nhl teams player disk hard runs file best\n",
            "Topic 16 - talk.politics.guns  :\n",
            "problem window output using db program use time problems question answer widget error application questions value open build function input\n",
            "Topic 17 - talk.politics.mideast  :\n",
            "mail com server software available list send motif ca data sun sale address offer package includes ac fax user edu\n",
            "Topic 18 - talk.politics.misc  :\n",
            "israel armenian war people armenians jews turkish government israeli turkey greek military jewish world land turks armenia population russian history\n",
            "Topic 19 - talk.religion.misc  :\n",
            "sound hear dr dod max published great sl end world 145 wm cost 04 ax like time right speed living\n"
          ]
        }
      ]
    }
  ]
}
