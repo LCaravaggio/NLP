{
  "nbformat": 4,
  "nbformat_minor": 0,
  "metadata": {
    "colab": {
      "provenance": [],
      "authorship_tag": "ABX9TyNXAJGdXrwBhxZjmZ6IeYfo",
      "include_colab_link": true
    },
    "kernelspec": {
      "name": "python3",
      "display_name": "Python 3"
    },
    "language_info": {
      "name": "python"
    }
  },
  "cells": [
    {
      "cell_type": "markdown",
      "metadata": {
        "id": "view-in-github",
        "colab_type": "text"
      },
      "source": [
        "<a href=\"https://colab.research.google.com/github/LCaravaggio/NLP/blob/main/06_clasificaci%C3%B3n/Clasificaci%C3%B3n_con_Regex.ipynb\" target=\"_parent\"><img src=\"https://colab.research.google.com/assets/colab-badge.svg\" alt=\"Open In Colab\"/></a>"
      ]
    },
    {
      "cell_type": "code",
      "execution_count": 1,
      "metadata": {
        "id": "91rBvFtnCLOv"
      },
      "outputs": [],
      "source": [
        "import re\n",
        "\n",
        "def classify(text):\n",
        "  matchers = {\"email\": \"([\\.-]?\\w+)*@\\w+([\\.-]?\\w+)*(\\.\\w{2,3})\", \n",
        "              \"número\": \"\\d\"}\n",
        "\n",
        "  for category in matchers:\n",
        "        if re.search(matchers[category], text):\n",
        "            return category\n",
        "  return None"
      ]
    },
    {
      "cell_type": "code",
      "source": [
        "print(classify('Este texto tiene el número 3'))"
      ],
      "metadata": {
        "colab": {
          "base_uri": "https://localhost:8080/"
        },
        "id": "FqZsN7_WCmJa",
        "outputId": "d6599513-a64d-4981-8ae4-dabb4b6597ff"
      },
      "execution_count": 2,
      "outputs": [
        {
          "output_type": "stream",
          "name": "stdout",
          "text": [
            "número\n"
          ]
        }
      ]
    },
    {
      "cell_type": "code",
      "source": [
        "print(classify('Este es mi email: lcaravaggio@itba.edu.ar'))"
      ],
      "metadata": {
        "colab": {
          "base_uri": "https://localhost:8080/"
        },
        "id": "TT8AEvteMMYx",
        "outputId": "df7943c0-275c-4910-c285-010145d9fa24"
      },
      "execution_count": 3,
      "outputs": [
        {
          "output_type": "stream",
          "name": "stdout",
          "text": [
            "email\n"
          ]
        }
      ]
    }
  ]
}