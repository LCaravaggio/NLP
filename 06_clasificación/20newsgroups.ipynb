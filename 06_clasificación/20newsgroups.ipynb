{
  "nbformat": 4,
  "nbformat_minor": 0,
  "metadata": {
    "colab": {
      "name": "20newsgroups.ipynb",
      "provenance": [],
      "collapsed_sections": []
    },
    "kernelspec": {
      "name": "python3",
      "display_name": "Python 3"
    },
    "accelerator": "GPU"
  },
  "cells": [
    {
      "cell_type": "markdown",
      "metadata": {
        "id": "OyiSWHGdyzXb"
      },
      "source": [
        "#**Topics extraction from 20 NEWS GROUPS Data**"
      ]
    },
    {
      "cell_type": "code",
      "metadata": {
        "id": "hER9s86szPgo"
      },
      "source": [
        "from sklearn.datasets import fetch_20newsgroups "
      ],
      "execution_count": 1,
      "outputs": []
    },
    {
      "cell_type": "code",
      "metadata": {
        "id": "Atjor4u-zoCW"
      },
      "source": [
        "groups = fetch_20newsgroups()"
      ],
      "execution_count": 2,
      "outputs": []
    },
    {
      "cell_type": "markdown",
      "metadata": {
        "id": "90P4goPBz2mF"
      },
      "source": [
        "##**Thinking about feature**"
      ]
    },
    {
      "cell_type": "code",
      "metadata": {
        "id": "2jIFlguiz7Kd",
        "colab": {
          "base_uri": "https://localhost:8080/"
        },
        "outputId": "2b86ff4a-2fd8-4c3f-f862-13d8a60ef76f"
      },
      "source": [
        "groups.keys()"
      ],
      "execution_count": 3,
      "outputs": [
        {
          "output_type": "execute_result",
          "data": {
            "text/plain": [
              "dict_keys(['data', 'filenames', 'target_names', 'target', 'DESCR'])"
            ]
          },
          "metadata": {},
          "execution_count": 3
        }
      ]
    },
    {
      "cell_type": "code",
      "metadata": {
        "id": "SD6TyGfw0Y2D",
        "colab": {
          "base_uri": "https://localhost:8080/"
        },
        "outputId": "339b4d8c-559e-42ed-c4fa-8df94d1c8744"
      },
      "source": [
        "groups['target_names']"
      ],
      "execution_count": 4,
      "outputs": [
        {
          "output_type": "execute_result",
          "data": {
            "text/plain": [
              "['alt.atheism',\n",
              " 'comp.graphics',\n",
              " 'comp.os.ms-windows.misc',\n",
              " 'comp.sys.ibm.pc.hardware',\n",
              " 'comp.sys.mac.hardware',\n",
              " 'comp.windows.x',\n",
              " 'misc.forsale',\n",
              " 'rec.autos',\n",
              " 'rec.motorcycles',\n",
              " 'rec.sport.baseball',\n",
              " 'rec.sport.hockey',\n",
              " 'sci.crypt',\n",
              " 'sci.electronics',\n",
              " 'sci.med',\n",
              " 'sci.space',\n",
              " 'soc.religion.christian',\n",
              " 'talk.politics.guns',\n",
              " 'talk.politics.mideast',\n",
              " 'talk.politics.misc',\n",
              " 'talk.religion.misc']"
            ]
          },
          "metadata": {},
          "execution_count": 4
        }
      ]
    },
    {
      "cell_type": "code",
      "metadata": {
        "id": "KDDtNGWI0hF6",
        "colab": {
          "base_uri": "https://localhost:8080/"
        },
        "outputId": "385fe2ce-0e36-46bb-9a56-4046f1995b87"
      },
      "source": [
        "groups.target"
      ],
      "execution_count": 5,
      "outputs": [
        {
          "output_type": "execute_result",
          "data": {
            "text/plain": [
              "array([7, 4, 4, ..., 3, 1, 8])"
            ]
          },
          "metadata": {},
          "execution_count": 5
        }
      ]
    },
    {
      "cell_type": "code",
      "metadata": {
        "id": "z3zcz9Sb0k0k"
      },
      "source": [
        "import numpy as np"
      ],
      "execution_count": 6,
      "outputs": []
    },
    {
      "cell_type": "code",
      "metadata": {
        "id": "wVFyBqc70o6h",
        "colab": {
          "base_uri": "https://localhost:8080/"
        },
        "outputId": "d7883d12-bec9-498a-e44c-0e01b37263fa"
      },
      "source": [
        "np.unique(groups.target)"
      ],
      "execution_count": 7,
      "outputs": [
        {
          "output_type": "execute_result",
          "data": {
            "text/plain": [
              "array([ 0,  1,  2,  3,  4,  5,  6,  7,  8,  9, 10, 11, 12, 13, 14, 15, 16,\n",
              "       17, 18, 19])"
            ]
          },
          "metadata": {},
          "execution_count": 7
        }
      ]
    },
    {
      "cell_type": "markdown",
      "metadata": {
        "id": "WnAcwIUO0573"
      },
      "source": [
        "**The range from 0-19 represents the 20 topics**"
      ]
    },
    {
      "cell_type": "code",
      "metadata": {
        "id": "3FAlnlyh04g4",
        "colab": {
          "base_uri": "https://localhost:8080/",
          "height": 105
        },
        "outputId": "03176c28-c8bb-4557-bb5a-50716e0d0536"
      },
      "source": [
        "groups.data[0]"
      ],
      "execution_count": null,
      "outputs": [
        {
          "output_type": "execute_result",
          "data": {
            "text/plain": [
              "\"From: lerxst@wam.umd.edu (where's my thing)\\nSubject: WHAT car is this!?\\nNntp-Posting-Host: rac3.wam.umd.edu\\nOrganization: University of Maryland, College Park\\nLines: 15\\n\\n I was wondering if anyone out there could enlighten me on this car I saw\\nthe other day. It was a 2-door sports car, looked to be from the late 60s/\\nearly 70s. It was called a Bricklin. The doors were really small. In addition,\\nthe front bumper was separate from the rest of the body. This is \\nall I know. If anyone can tellme a model name, engine specs, years\\nof production, where this car is made, history, or whatever info you\\nhave on this funky looking car, please e-mail.\\n\\nThanks,\\n- IL\\n   ---- brought to you by your neighborhood Lerxst ----\\n\\n\\n\\n\\n\""
            ],
            "application/vnd.google.colaboratory.intrinsic+json": {
              "type": "string"
            }
          },
          "metadata": {},
          "execution_count": 8
        }
      ]
    },
    {
      "cell_type": "code",
      "metadata": {
        "id": "QTd2Xy9a1JLP",
        "colab": {
          "base_uri": "https://localhost:8080/"
        },
        "outputId": "6f9bf5a8-6994-4de2-f751-6951470f513d"
      },
      "source": [
        "groups.target[0]"
      ],
      "execution_count": 8,
      "outputs": [
        {
          "output_type": "execute_result",
          "data": {
            "text/plain": [
              "7"
            ]
          },
          "metadata": {},
          "execution_count": 8
        }
      ]
    },
    {
      "cell_type": "code",
      "metadata": {
        "id": "fv2UhMLJ1NVK",
        "colab": {
          "base_uri": "https://localhost:8080/",
          "height": 35
        },
        "outputId": "bb4e25cc-2b40-4589-ad9b-84df7232e4e5"
      },
      "source": [
        "groups.target_names[groups.target[0]]"
      ],
      "execution_count": 9,
      "outputs": [
        {
          "output_type": "execute_result",
          "data": {
            "text/plain": [
              "'rec.autos'"
            ],
            "application/vnd.google.colaboratory.intrinsic+json": {
              "type": "string"
            }
          },
          "metadata": {},
          "execution_count": 9
        }
      ]
    },
    {
      "cell_type": "code",
      "metadata": {
        "id": "7mJto-Y81U70",
        "colab": {
          "base_uri": "https://localhost:8080/"
        },
        "outputId": "c6b0fb5d-2a43-43cf-f556-fff2616eda3f"
      },
      "source": [
        "len(groups.data[0])"
      ],
      "execution_count": 10,
      "outputs": [
        {
          "output_type": "execute_result",
          "data": {
            "text/plain": [
              "721"
            ]
          },
          "metadata": {},
          "execution_count": 10
        }
      ]
    },
    {
      "cell_type": "code",
      "metadata": {
        "id": "NPmdrn2y1qNI",
        "colab": {
          "base_uri": "https://localhost:8080/"
        },
        "outputId": "023e6429-a994-49fe-a1a9-89b9bd42dd58"
      },
      "source": [
        "len(groups.data[1])"
      ],
      "execution_count": 11,
      "outputs": [
        {
          "output_type": "execute_result",
          "data": {
            "text/plain": [
              "858"
            ]
          },
          "metadata": {},
          "execution_count": 11
        }
      ]
    },
    {
      "cell_type": "markdown",
      "metadata": {
        "id": "CmeVZJ8M16kU"
      },
      "source": [
        "## **Visualization**"
      ]
    },
    {
      "cell_type": "code",
      "metadata": {
        "id": "qCQGRqes1s1L"
      },
      "source": [
        "import seaborn as sns"
      ],
      "execution_count": 12,
      "outputs": []
    },
    {
      "cell_type": "code",
      "metadata": {
        "id": "209aRQED2DMQ",
        "colab": {
          "base_uri": "https://localhost:8080/",
          "height": 340
        },
        "outputId": "1e428278-46cd-4013-ea8b-0b851a2ec1cb"
      },
      "source": [
        "sns.distplot(groups.target)"
      ],
      "execution_count": 13,
      "outputs": [
        {
          "output_type": "stream",
          "name": "stderr",
          "text": [
            "/usr/local/lib/python3.7/dist-packages/seaborn/distributions.py:2619: FutureWarning: `distplot` is a deprecated function and will be removed in a future version. Please adapt your code to use either `displot` (a figure-level function with similar flexibility) or `histplot` (an axes-level function for histograms).\n",
            "  warnings.warn(msg, FutureWarning)\n"
          ]
        },
        {
          "output_type": "execute_result",
          "data": {
            "text/plain": [
              "<matplotlib.axes._subplots.AxesSubplot at 0x7f476193fe10>"
            ]
          },
          "metadata": {},
          "execution_count": 13
        },
        {
          "output_type": "display_data",
          "data": {
            "text/plain": [
              "<Figure size 432x288 with 1 Axes>"
            ],
            "image/png": "[encoded data removed]"
          },
          "metadata": {
            "needs_background": "light"
          }
        }
      ]
    },
    {
      "cell_type": "code",
      "metadata": {
        "id": "fQvORt3X2VdA"
      },
      "source": [
        "from sklearn.feature_extraction.text import CountVectorizer"
      ],
      "execution_count": 14,
      "outputs": []
    },
    {
      "cell_type": "code",
      "metadata": {
        "id": "Z8-buCwz2qs8"
      },
      "source": [
        "import matplotlib.pyplot as plt\n",
        "import seaborn as sns"
      ],
      "execution_count": 15,
      "outputs": []
    },
    {
      "cell_type": "code",
      "metadata": {
        "id": "Nk0sgCAk2xlo"
      },
      "source": [
        "from sklearn.datasets import fetch_20newsgroups "
      ],
      "execution_count": 16,
      "outputs": []
    },
    {
      "cell_type": "code",
      "metadata": {
        "id": "DAR9grau23fF",
        "colab": {
          "base_uri": "https://localhost:8080/"
        },
        "outputId": "2721afda-b5f8-480a-e28e-4bcde90963f1"
      },
      "source": [
        "cv = CountVectorizer(stop_words='english',max_features=500)\n",
        "groups = fetch_20newsgroups()\n",
        "transformed = cv.fit_transform(groups.data)\n",
        "print(cv.get_feature_names())"
      ],
      "execution_count": 17,
      "outputs": [
        {
          "output_type": "stream",
          "name": "stdout",
          "text": [
            "['00', '000', '0d', '0t', '10', '100', '11', '12', '13', '14', '145', '15', '16', '17', '18', '19', '1993', '1d9', '20', '21', '22', '23', '24', '25', '26', '27', '28', '29', '30', '31', '32', '33', '34', '34u', '35', '40', '45', '50', '55', '80', '92', '93', '__', '___', 'a86', 'able', 'ac', 'access', 'actually', 'address', 'ago', 'agree', 'al', 'american', 'andrew', 'answer', 'anybody', 'apple', 'application', 'apr', 'april', 'area', 'argument', 'armenian', 'armenians', 'article', 'ask', 'asked', 'att', 'au', 'available', 'away', 'ax', 'b8f', 'bad', 'based', 'believe', 'berkeley', 'best', 'better', 'bible', 'big', 'bike', 'bit', 'black', 'board', 'body', 'book', 'box', 'buy', 'ca', 'california', 'called', 'came', 'canada', 'car', 'card', 'care', 'case', 'cause', 'cc', 'center', 'certain', 'certainly', 'change', 'check', 'children', 'chip', 'christ', 'christian', 'christians', 'church', 'city', 'claim', 'clinton', 'clipper', 'cmu', 'code', 'college', 'color', 'colorado', 'columbia', 'com', 'come', 'comes', 'company', 'computer', 'consider', 'contact', 'control', 'copy', 'correct', 'cost', 'country', 'couple', 'course', 'cs', 'current', 'cwru', 'data', 'dave', 'david', 'day', 'days', 'db', 'deal', 'death', 'department', 'dept', 'did', 'didn', 'difference', 'different', 'disk', 'display', 'distribution', 'division', 'dod', 'does', 'doesn', 'doing', 'don', 'dos', 'drive', 'driver', 'drivers', 'earth', 'edu', 'email', 'encryption', 'end', 'engineering', 'especially', 'evidence', 'exactly', 'example', 'experience', 'fact', 'faith', 'faq', 'far', 'fast', 'fax', 'feel', 'file', 'files', 'following', 'free', 'ftp', 'g9v', 'game', 'games', 'general', 'getting', 'given', 'gmt', 'god', 'going', 'good', 'got', 'gov', 'government', 'graphics', 'great', 'group', 'groups', 'guess', 'gun', 'guns', 'hand', 'hard', 'hardware', 'having', 'health', 'heard', 'hell', 'help', 'hi', 'high', 'history', 'hockey', 'home', 'hope', 'host', 'house', 'hp', 'human', 'ibm', 'idea', 'image', 'important', 'include', 'including', 'info', 'information', 'instead', 'institute', 'interested', 'internet', 'isn', 'israel', 'israeli', 'issue', 'james', 'jesus', 'jewish', 'jews', 'jim', 'john', 'just', 'keith', 'key', 'keys', 'keywords', 'kind', 'know', 'known', 'large', 'later', 'law', 'left', 'let', 'level', 'life', 'like', 'likely', 'line', 'lines', 'list', 'little', 'live', 'll', 'local', 'long', 'look', 'looking', 'lot', 'love', 'low', 'ma', 'mac', 'machine', 'mail', 'major', 'make', 'makes', 'making', 'man', 'mark', 'matter', 'max', 'maybe', 'mean', 'means', 'memory', 'men', 'message', 'michael', 'mike', 'mind', 'mit', 'money', 'mr', 'ms', 'na', 'nasa', 'national', 'need', 'net', 'netcom', 'network', 'new', 'news', 'newsreader', 'nice', 'nntp', 'non', 'note', 'number', 'numbers', 'office', 'oh', 'ohio', 'old', 'open', 'opinions', 'order', 'org', 'organization', 'original', 'output', 'package', 'paul', 'pay', 'pc', 'people', 'period', 'person', 'phone', 'pitt', 'pl', 'place', 'play', 'players', 'point', 'points', 'police', 'possible', 'post', 'posting', 'power', 'president', 'press', 'pretty', 'price', 'private', 'probably', 'problem', 'problems', 'program', 'programs', 'provide', 'pub', 'public', 'question', 'questions', 'quite', 'read', 'reading', 'real', 'really', 'reason', 'religion', 'remember', 'reply', 'research', 'right', 'rights', 'robert', 'run', 'running', 'said', 'sale', 'san', 'saw', 'say', 'saying', 'says', 'school', 'science', 'screen', 'scsi', 'season', 'second', 'security', 'seen', 'send', 'sense', 'server', 'service', 'services', 'set', 'similar', 'simple', 'simply', 'single', 'size', 'small', 'software', 'sorry', 'sort', 'sound', 'source', 'space', 'speed', 'st', 'standard', 'start', 'started', 'state', 'states', 'steve', 'stop', 'stuff', 'subject', 'summary', 'sun', 'support', 'sure', 'systems', 'talk', 'talking', 'team', 'technology', 'tell', 'test', 'text', 'thanks', 'thing', 'things', 'think', 'thought', 'time', 'times', 'today', 'told', 'took', 'toronto', 'tried', 'true', 'truth', 'try', 'trying', 'turkish', 'type', 'uiuc', 'uk', 'understand', 'university', 'unix', 'unless', 'usa', 'use', 'used', 'user', 'using', 'usually', 'uucp', 've', 'version', 'video', 'view', 'virginia', 'vs', 'want', 'wanted', 'war', 'washington', 'way', 'went', 'white', 'win', 'window', 'windows', 'won', 'word', 'words', 'work', 'working', 'works', 'world', 'wouldn', 'write', 'writes', 'wrong', 'wrote', 'year', 'years', 'yes', 'york']\n"
          ]
        },
        {
          "output_type": "stream",
          "name": "stderr",
          "text": [
            "/usr/local/lib/python3.7/dist-packages/sklearn/utils/deprecation.py:87: FutureWarning: Function get_feature_names is deprecated; get_feature_names is deprecated in 1.0 and will be removed in 1.2. Please use get_feature_names_out instead.\n",
            "  warnings.warn(msg, category=FutureWarning)\n"
          ]
        }
      ]
    },
    {
      "cell_type": "code",
      "metadata": {
        "id": "NGMUzhku3Afn",
        "colab": {
          "base_uri": "https://localhost:8080/",
          "height": 350
        },
        "outputId": "d43557f8-eec2-4d22-9cb7-2a080493d01f"
      },
      "source": [
        "sns.distplot(np.log(transformed.toarray().sum(axis=0)))\n",
        "plt.xlabel('Log Count')\n",
        "plt.ylabel('Frequency')\n",
        "plt.title('Distribution plot of 500 word counts')\n",
        "plt.show()"
      ],
      "execution_count": 18,
      "outputs": [
        {
          "output_type": "stream",
          "name": "stderr",
          "text": [
            "/usr/local/lib/python3.7/dist-packages/seaborn/distributions.py:2619: FutureWarning: `distplot` is a deprecated function and will be removed in a future version. Please adapt your code to use either `displot` (a figure-level function with similar flexibility) or `histplot` (an axes-level function for histograms).\n",
            "  warnings.warn(msg, FutureWarning)\n"
          ]
        },
        {
          "output_type": "display_data",
          "data": {
            "text/plain": [
              "<Figure size 432x288 with 1 Axes>"
            ],
            "image/png": "[encoded data removed]"
          },
          "metadata": {
            "needs_background": "light"
          }
        }
      ]
    },
    {
      "cell_type": "markdown",
      "metadata": {
        "id": "2iVTRuE74L_Y"
      },
      "source": [
        "## **Data Preprocessing**"
      ]
    },
    {
      "cell_type": "code",
      "metadata": {
        "id": "TSmmIpLT3u-K"
      },
      "source": [
        "from nltk.corpus import names\n",
        "from nltk.stem import WordNetLemmatizer"
      ],
      "execution_count": 19,
      "outputs": []
    },
    {
      "cell_type": "code",
      "metadata": {
        "id": "GliApIs44e36"
      },
      "source": [
        "def letters_only(astr) :\n",
        "  return astr.isalpha()"
      ],
      "execution_count": 20,
      "outputs": []
    },
    {
      "cell_type": "code",
      "metadata": {
        "id": "-rC1ov3L4nbW"
      },
      "source": [
        "cv = CountVectorizer(stop_words='english',max_features=500)\n",
        "groups = fetch_20newsgroups()\n"
      ],
      "execution_count": 22,
      "outputs": []
    },
    {
      "cell_type": "code",
      "metadata": {
        "id": "rQ8xXh7f43U3",
        "colab": {
          "base_uri": "https://localhost:8080/"
        },
        "outputId": "237aff48-bd8c-4c37-f3d1-ab0a7f1e56bc"
      },
      "source": [
        "import nltk\n",
        "nltk.download('names')\n",
        "cleaned=[]\n",
        "all_names = set(names.words())\n",
        "lemmatizer = WordNetLemmatizer()"
      ],
      "execution_count": 23,
      "outputs": [
        {
          "output_type": "stream",
          "name": "stdout",
          "text": [
            "[nltk_data] Downloading package names to /root/nltk_data...\n",
            "[nltk_data]   Package names is already up-to-date!\n"
          ]
        }
      ]
    },
    {
      "cell_type": "code",
      "metadata": {
        "id": "aIruIsL-5J1W",
        "colab": {
          "base_uri": "https://localhost:8080/"
        },
        "outputId": "e767d9dc-ca3a-42c2-a61d-edd9e4741ed4"
      },
      "source": [
        "import nltk\n",
        "nltk.download('wordnet')\n",
        "for post in groups.data:\n",
        "    for word in post.split():\n",
        "        if letters_only(word) and word not in all_names:\n",
        "            cleaned.append(' '.join([lemmatizer.lemmatize(word.lower())]))"
      ],
      "execution_count": 24,
      "outputs": [
        {
          "output_type": "stream",
          "name": "stdout",
          "text": [
            "[nltk_data] Downloading package wordnet to /root/nltk_data...\n",
            "[nltk_data]   Unzipping corpora/wordnet.zip.\n"
          ]
        }
      ]
    },
    {
      "cell_type": "code",
      "metadata": {
        "id": "V8rCnK2u6BDs",
        "colab": {
          "base_uri": "https://localhost:8080/"
        },
        "outputId": "a3aa5c5f-aa07-45cc-c19a-580f4054afcb"
      },
      "source": [
        "transformed = cv.fit_transform(cleaned)\n",
        "print(cv.get_feature_names())"
      ],
      "execution_count": 25,
      "outputs": [
        {
          "output_type": "stream",
          "name": "stdout",
          "text": [
            "['able', 'accept', 'access', 'according', 'act', 'action', 'actually', 'add', 'address', 'ago', 'agree', 'algorithm', 'allow', 'american', 'anonymous', 'answer', 'anybody', 'apple', 'application', 'apr', 'arab', 'area', 'argument', 'armenian', 'article', 'ask', 'asked', 'assume', 'atheist', 'attack', 'attempt', 'available', 'away', 'bad', 'based', 'basic', 'belief', 'believe', 'best', 'better', 'bible', 'big', 'bike', 'bit', 'black', 'board', 'body', 'book', 'box', 'build', 'bus', 'business', 'buy', 'ca', 'california', 'called', 'came', 'car', 'card', 'care', 'carry', 'case', 'cause', 'center', 'certain', 'certainly', 'chance', 'change', 'check', 'child', 'chip', 'christian', 'church', 'city', 'claim', 'clear', 'clipper', 'code', 'college', 'color', 'come', 'coming', 'command', 'comment', 'common', 'communication', 'company', 'computer', 'computing', 'consider', 'considered', 'contact', 'control', 'controller', 'copy', 'correct', 'cost', 'country', 'couple', 'course', 'cover', 'create', 'crime', 'current', 'cut', 'data', 'day', 'db', 'deal', 'death', 'department', 'design', 'device', 'did', 'difference', 'different', 'discussion', 'disk', 'display', 'division', 'dod', 'doe', 'doing', 'drive', 'driver', 'drug', 'early', 'earth', 'easy', 'effect', 'email', 'encryption', 'end', 'engineering', 'entry', 'error', 'especially', 'event', 'evidence', 'exactly', 'example', 'expect', 'experience', 'explain', 'face', 'fact', 'faq', 'far', 'fast', 'federal', 'feel', 'figure', 'file', 'final', 'following', 'food', 'force', 'form', 'free', 'friend', 'ftp', 'function', 'game', 'general', 'getting', 'given', 'gmt', 'goal', 'god', 'going', 'good', 'got', 'government', 'graphic', 'great', 'greek', 'ground', 'group', 'guess', 'gun', 'guy', 'ha', 'hand', 'hard', 'hardware', 'having', 'head', 'health', 'hear', 'heard', 'hell', 'help', 'high', 'history', 'hit', 'hockey', 'hold', 'home', 'hope', 'house', 'human', 'ibm', 'idea', 'image', 'important', 'include', 'includes', 'including', 'individual', 'info', 'information', 'instead', 'institute', 'interested', 'interesting', 'international', 'internet', 'israeli', 'issue', 'jew', 'jewish', 'job', 'just', 'key', 'kill', 'killed', 'kind', 'know', 'known', 'la', 'large', 'later', 'law', 'le', 'lead', 'league', 'left', 'let', 'level', 'life', 'light', 'like', 'likely', 'line', 'list', 'little', 'live', 'local', 'long', 'longer', 'look', 'looking', 'lost', 'lot', 'love', 'low', 'machine', 'mail', 'main', 'major', 'make', 'making', 'man', 'manager', 'matter', 'maybe', 'mean', 'medical', 'member', 'memory', 'men', 'message', 'method', 'military', 'million', 'mind', 'mode', 'model', 'money', 'monitor', 'month', 'moral', 'mouse', 'muslim', 'na', 'nasa', 'national', 'near', 'need', 'needed', 'network', 'new', 'news', 'nice', 'north', 'note', 'number', 'offer', 'office', 'old', 'open', 'opinion', 'order', 'original', 'output', 'package', 'particular', 'past', 'pay', 'pc', 'people', 'period', 'person', 'personal', 'phone', 'place', 'play', 'player', 'point', 'police', 'policy', 'political', 'position', 'possible', 'post', 'posted', 'posting', 'power', 'president', 'press', 'pretty', 'previous', 'price', 'private', 'probably', 'problem', 'product', 'program', 'project', 'provide', 'public', 'purpose', 'question', 'quite', 'radio', 'rate', 'read', 'reading', 'real', 'really', 'reason', 'recently', 'reference', 'religion', 'religious', 'remember', 'reply', 'report', 'research', 'response', 'rest', 'result', 'return', 'right', 'road', 'rule', 'run', 'running', 'russian', 'said', 'sale', 'san', 'save', 'saw', 'say', 'saying', 'school', 'science', 'screen', 'scsi', 'second', 'section', 'security', 'seen', 'sell', 'send', 'sense', 'sent', 'serial', 'server', 'service', 'set', 'shall', 'short', 'shot', 'similar', 'simple', 'simply', 'single', 'site', 'situation', 'size', 'small', 'software', 'sort', 'sound', 'source', 'space', 'special', 'specific', 'speed', 'standard', 'start', 'started', 'state', 'statement', 'stop', 'strong', 'study', 'stuff', 'subject', 'sun', 'support', 'sure', 'taken', 'taking', 'talk', 'talking', 'tape', 'tax', 'team', 'technical', 'technology', 'tell', 'term', 'test', 'texas', 'text', 'thanks', 'thing', 'think', 'thinking', 'thought', 'time', 'tin', 'today', 'told', 'took', 'total', 'tried', 'true', 'truth', 'try', 'trying', 'turkish', 'turn', 'type', 'understand', 'unit', 'united', 'university', 'unix', 'unless', 'usa', 'use', 'used', 'user', 'using', 'usually', 'value', 'various', 'version', 'video', 'view', 'wa', 'want', 'wanted', 'war', 'water', 'way', 'weapon', 'week', 'went', 'western', 'white', 'widget', 'willing', 'win', 'window', 'woman', 'word', 'work', 'working', 'world', 'write', 'written', 'wrong', 'year', 'york', 'young']\n"
          ]
        },
        {
          "output_type": "stream",
          "name": "stderr",
          "text": [
            "/usr/local/lib/python3.7/dist-packages/sklearn/utils/deprecation.py:87: FutureWarning: Function get_feature_names is deprecated; get_feature_names is deprecated in 1.0 and will be removed in 1.2. Please use get_feature_names_out instead.\n",
            "  warnings.warn(msg, category=FutureWarning)\n"
          ]
        }
      ]
    },
    {
      "cell_type": "markdown",
      "metadata": {
        "id": "ot_g0Cgg7evQ"
      },
      "source": [
        "### **Clustering**"
      ]
    },
    {
      "cell_type": "code",
      "metadata": {
        "id": "BWNzKE8z7YHm",
        "colab": {
          "base_uri": "https://localhost:8080/"
        },
        "outputId": "86f75ed4-2507-4c52-8677-f1e4fd301854"
      },
      "source": [
        "from nltk.corpus import names\n",
        "from nltk.stem import WordNetLemmatizer\n",
        "import nltk\n",
        "nltk.download('names')\n",
        "from sklearn.feature_extraction.text import CountVectorizer\n",
        "from sklearn.datasets import fetch_20newsgroups \n",
        "import matplotlib.pyplot as plt\n",
        "import seaborn as sns\n",
        "from sklearn.cluster import KMeans"
      ],
      "execution_count": 26,
      "outputs": [
        {
          "output_type": "stream",
          "name": "stdout",
          "text": [
            "[nltk_data] Downloading package names to /root/nltk_data...\n",
            "[nltk_data]   Package names is already up-to-date!\n"
          ]
        }
      ]
    },
    {
      "cell_type": "code",
      "metadata": {
        "id": "MMW2OkAJ8VRI"
      },
      "source": [
        "def letters_only(astr) :\n",
        "  return astr.isalpha()\n",
        "cv = CountVectorizer(stop_words='english',max_features=500)\n",
        "groups = fetch_20newsgroups()\n"
      ],
      "execution_count": 27,
      "outputs": []
    },
    {
      "cell_type": "code",
      "metadata": {
        "id": "3tFfEfnX8eOR",
        "colab": {
          "base_uri": "https://localhost:8080/"
        },
        "outputId": "e6230c6f-695e-49df-b10b-a48a747eeed3"
      },
      "source": [
        "import nltk\n",
        "nltk.download('names')\n",
        "cleaned=[]\n",
        "all_names = set(names.words())\n",
        "lemmatizer = WordNetLemmatizer()"
      ],
      "execution_count": 28,
      "outputs": [
        {
          "output_type": "stream",
          "name": "stdout",
          "text": [
            "[nltk_data] Downloading package names to /root/nltk_data...\n",
            "[nltk_data]   Package names is already up-to-date!\n"
          ]
        }
      ]
    },
    {
      "cell_type": "code",
      "metadata": {
        "id": "XHENXn6N8k0A",
        "colab": {
          "base_uri": "https://localhost:8080/"
        },
        "outputId": "95b9b084-1a4a-45d0-b306-d3c07768d0f1"
      },
      "source": [
        "import nltk\n",
        "nltk.download('wordnet')\n",
        "for post in groups.data:\n",
        "    for word in post.split():\n",
        "        if letters_only(word) and word not in all_names:\n",
        "            cleaned.append(' '.join([lemmatizer.lemmatize(word.lower())]))"
      ],
      "execution_count": 29,
      "outputs": [
        {
          "output_type": "stream",
          "name": "stdout",
          "text": [
            "[nltk_data] Downloading package wordnet to /root/nltk_data...\n",
            "[nltk_data]   Package wordnet is already up-to-date!\n"
          ]
        }
      ]
    },
    {
      "cell_type": "code",
      "metadata": {
        "id": "xPeIpXXg8r8b",
        "colab": {
          "base_uri": "https://localhost:8080/"
        },
        "outputId": "c9032360-7a7c-4499-ca60-e82dbe8c9ff6"
      },
      "source": [
        "number_of_clusters = 20\n",
        "transformed = cv.fit_transform(cleaned)\n",
        "kmmodel = KMeans(n_clusters=number_of_clusters)\n",
        "kmmodel.fit(transformed)"
      ],
      "execution_count": 30,
      "outputs": [
        {
          "output_type": "execute_result",
          "data": {
            "text/plain": [
              "KMeans(n_clusters=20)"
            ]
          },
          "metadata": {},
          "execution_count": 30
        }
      ]
    },
    {
      "cell_type": "code",
      "metadata": {
        "id": "7DGPB4H29MNF",
        "colab": {
          "base_uri": "https://localhost:8080/"
        },
        "outputId": "4ce479f3-600b-4981-b3bb-3e52dce5b574"
      },
      "source": [
        "order_centroids = kmmodel.cluster_centers_.argsort()[:, ::-1]\n",
        "terms = cv.get_feature_names()"
      ],
      "execution_count": 31,
      "outputs": [
        {
          "output_type": "stream",
          "name": "stderr",
          "text": [
            "/usr/local/lib/python3.7/dist-packages/sklearn/utils/deprecation.py:87: FutureWarning: Function get_feature_names is deprecated; get_feature_names is deprecated in 1.0 and will be removed in 1.2. Please use get_feature_names_out instead.\n",
            "  warnings.warn(msg, category=FutureWarning)\n"
          ]
        }
      ]
    },
    {
      "cell_type": "code",
      "metadata": {
        "id": "FCQ0v5zhBDhE",
        "colab": {
          "base_uri": "https://localhost:8080/"
        },
        "outputId": "7bfdd904-ba91-407a-fed4-67a417fec5b8"
      },
      "source": [
        "for i in range(number_of_clusters):\n",
        "    print(\"Cluster %d:\" % i),\n",
        "    for ind in order_centroids[i, :10]:\n",
        "        print(' %s' % terms[ind])\n",
        "        plt.show()"
      ],
      "execution_count": 32,
      "outputs": [
        {
          "output_type": "stream",
          "name": "stdout",
          "text": [
            "Cluster 0:\n",
            " ha\n",
            " people\n",
            " know\n",
            " new\n",
            " time\n",
            " say\n",
            " right\n",
            " thing\n",
            " way\n",
            " problem\n",
            "Cluster 1:\n",
            " try\n",
            " young\n",
            " free\n",
            " friend\n",
            " ftp\n",
            " function\n",
            " game\n",
            " general\n",
            " getting\n",
            " given\n",
            "Cluster 2:\n",
            " think\n",
            " young\n",
            " got\n",
            " free\n",
            " friend\n",
            " ftp\n",
            " function\n",
            " game\n",
            " general\n",
            " getting\n",
            "Cluster 3:\n",
            " university\n",
            " young\n",
            " good\n",
            " free\n",
            " friend\n",
            " ftp\n",
            " function\n",
            " game\n",
            " general\n",
            " getting\n",
            "Cluster 4:\n",
            " use\n",
            " young\n",
            " good\n",
            " free\n",
            " friend\n",
            " ftp\n",
            " function\n",
            " game\n",
            " general\n",
            " getting\n",
            "Cluster 5:\n",
            " wa\n",
            " young\n",
            " food\n",
            " form\n",
            " free\n",
            " friend\n",
            " ftp\n",
            " function\n",
            " game\n",
            " general\n",
            "Cluster 6:\n",
            " make\n",
            " young\n",
            " good\n",
            " form\n",
            " free\n",
            " friend\n",
            " ftp\n",
            " function\n",
            " game\n",
            " general\n",
            "Cluster 7:\n",
            " need\n",
            " young\n",
            " good\n",
            " free\n",
            " friend\n",
            " ftp\n",
            " function\n",
            " game\n",
            " general\n",
            " getting\n",
            "Cluster 8:\n",
            " article\n",
            " young\n",
            " force\n",
            " free\n",
            " friend\n",
            " ftp\n",
            " function\n",
            " game\n",
            " general\n",
            " getting\n",
            "Cluster 9:\n",
            " god\n",
            " young\n",
            " good\n",
            " form\n",
            " free\n",
            " friend\n",
            " ftp\n",
            " function\n",
            " game\n",
            " general\n",
            "Cluster 10:\n",
            " good\n",
            " young\n",
            " form\n",
            " free\n",
            " friend\n",
            " ftp\n",
            " function\n",
            " game\n",
            " general\n",
            " getting\n",
            "Cluster 11:\n",
            " tell\n",
            " young\n",
            " good\n",
            " form\n",
            " free\n",
            " friend\n",
            " ftp\n",
            " function\n",
            " game\n",
            " general\n",
            "Cluster 12:\n",
            " going\n",
            " young\n",
            " good\n",
            " form\n",
            " free\n",
            " friend\n",
            " ftp\n",
            " function\n",
            " game\n",
            " general\n",
            "Cluster 13:\n",
            " doe\n",
            " young\n",
            " got\n",
            " free\n",
            " friend\n",
            " ftp\n",
            " function\n",
            " game\n",
            " general\n",
            " getting\n",
            "Cluster 14:\n",
            " want\n",
            " young\n",
            " food\n",
            " form\n",
            " free\n",
            " friend\n",
            " ftp\n",
            " function\n",
            " game\n",
            " general\n",
            "Cluster 15:\n",
            " support\n",
            " young\n",
            " good\n",
            " form\n",
            " free\n",
            " friend\n",
            " ftp\n",
            " function\n",
            " game\n",
            " general\n",
            "Cluster 16:\n",
            " like\n",
            " young\n",
            " good\n",
            " form\n",
            " free\n",
            " friend\n",
            " ftp\n",
            " function\n",
            " game\n",
            " general\n",
            "Cluster 17:\n",
            " work\n",
            " young\n",
            " good\n",
            " form\n",
            " free\n",
            " friend\n",
            " ftp\n",
            " function\n",
            " game\n",
            " general\n",
            "Cluster 18:\n",
            " just\n",
            " young\n",
            " food\n",
            " form\n",
            " free\n",
            " friend\n",
            " ftp\n",
            " function\n",
            " game\n",
            " general\n",
            "Cluster 19:\n",
            " anybody\n",
            " young\n",
            " force\n",
            " free\n",
            " friend\n",
            " ftp\n",
            " function\n",
            " game\n",
            " general\n",
            " getting\n"
          ]
        }
      ]
    },
    {
      "cell_type": "markdown",
      "metadata": {
        "id": "8uqotUXzS1zo"
      },
      "source": [
        "### **Topic modelling using non-negative matrix factorization(NMF)**"
      ]
    },
    {
      "cell_type": "code",
      "metadata": {
        "id": "TugR2QJWIwMI",
        "colab": {
          "base_uri": "https://localhost:8080/"
        },
        "outputId": "aab2c04b-1fb4-41d4-a5b3-e64d9ed2b92c"
      },
      "source": [
        "from nltk.corpus import names\n",
        "from nltk.stem import WordNetLemmatizer\n",
        "import nltk\n",
        "nltk.download('names')\n",
        "from sklearn.feature_extraction.text import CountVectorizer\n",
        "from sklearn.datasets import fetch_20newsgroups \n",
        "import matplotlib.pyplot as plt\n",
        "import seaborn as sns\n",
        "from sklearn.cluster import KMeans\n",
        "from sklearn.decomposition import NMF"
      ],
      "execution_count": 33,
      "outputs": [
        {
          "output_type": "stream",
          "name": "stdout",
          "text": [
            "[nltk_data] Downloading package names to /root/nltk_data...\n",
            "[nltk_data]   Package names is already up-to-date!\n"
          ]
        }
      ]
    },
    {
      "cell_type": "code",
      "metadata": {
        "id": "B0yWQvjbLftU"
      },
      "source": [
        "def letters_only(astr) :\n",
        "  return astr.isalpha()\n",
        "cv = CountVectorizer(stop_words='english',max_features=500)\n",
        "groups = fetch_20newsgroups()"
      ],
      "execution_count": 34,
      "outputs": []
    },
    {
      "cell_type": "code",
      "metadata": {
        "id": "2RThFnFrTRiZ",
        "colab": {
          "base_uri": "https://localhost:8080/"
        },
        "outputId": "2e70524e-7d92-4930-be64-d66bfe745a68"
      },
      "source": [
        "import nltk\n",
        "nltk.download('names')\n",
        "cleaned=[]\n",
        "all_names = set(names.words())\n",
        "lemmatizer = WordNetLemmatizer()"
      ],
      "execution_count": 35,
      "outputs": [
        {
          "output_type": "stream",
          "name": "stdout",
          "text": [
            "[nltk_data] Downloading package names to /root/nltk_data...\n",
            "[nltk_data]   Package names is already up-to-date!\n"
          ]
        }
      ]
    },
    {
      "cell_type": "code",
      "metadata": {
        "id": "KE0s2tMSTWRT",
        "colab": {
          "base_uri": "https://localhost:8080/"
        },
        "outputId": "c3ddc963-c929-49d5-fec8-cff208ac230b"
      },
      "source": [
        "import nltk\n",
        "nltk.download('wordnet')\n",
        "for post in groups.data:\n",
        "    for word in post.split():\n",
        "        if letters_only(word) and word not in all_names:\n",
        "            cleaned.append(' '.join([lemmatizer.lemmatize(word.lower())]))"
      ],
      "execution_count": 36,
      "outputs": [
        {
          "output_type": "stream",
          "name": "stdout",
          "text": [
            "[nltk_data] Downloading package wordnet to /root/nltk_data...\n",
            "[nltk_data]   Package wordnet is already up-to-date!\n"
          ]
        }
      ]
    },
    {
      "cell_type": "code",
      "metadata": {
        "id": "3N1pkxnDTbqi"
      },
      "source": [
        "transformed = cv.fit_transform(cleaned)"
      ],
      "execution_count": 37,
      "outputs": []
    },
    {
      "cell_type": "code",
      "metadata": {
        "id": "RNbdPVfXTrYK",
        "colab": {
          "base_uri": "https://localhost:8080/"
        },
        "outputId": "e7a382b2-1eea-4fb4-b886-23ec664fad1f"
      },
      "source": [
        "d=20  # num topics\n",
        "clf = NMF(n_components=d, random_state=1).fit(transformed)"
      ],
      "execution_count": 38,
      "outputs": [
        {
          "output_type": "stream",
          "name": "stderr",
          "text": [
            "/usr/local/lib/python3.7/dist-packages/sklearn/decomposition/_nmf.py:294: FutureWarning: The 'init' value, when 'init=None' and n_components is less than n_samples and n_features, will be changed from 'nndsvd' to 'nndsvda' in 1.1 (renaming of 0.26).\n",
            "  FutureWarning,\n"
          ]
        }
      ]
    },
    {
      "cell_type": "code",
      "metadata": {
        "id": "J41CRUfpUoGz",
        "colab": {
          "base_uri": "https://localhost:8080/"
        },
        "outputId": "42388a84-1d81-4526-f75f-e5eb45b1a0e0"
      },
      "source": [
        "for topic_idex, topic in enumerate(clf.components_):\n",
        "  label = '{} :'.format(topic_idex) \n",
        "  print(label, \" \".join([cv.get_feature_names()[i]\n",
        "                         for i in topic.argsort()[::]]))"
      ],
      "execution_count": 40,
      "outputs": [
        {
          "output_type": "stream",
          "name": "stderr",
          "text": [
            "/usr/local/lib/python3.7/dist-packages/sklearn/utils/deprecation.py:87: FutureWarning: Function get_feature_names is deprecated; get_feature_names is deprecated in 1.0 and will be removed in 1.2. Please use get_feature_names_out instead.\n",
            "  warnings.warn(msg, category=FutureWarning)\n"
          ]
        },
        {
          "output_type": "stream",
          "name": "stdout",
          "text": [
            "0 : able provide project program product probably private price previous pretty press president power posting posted post possible position political policy police point player play place phone personal person public period purpose quite sale said russian running run rule road right return result rest response research report reply remember religious religion reference recently reason really real reading read rate radio question san people pay mode mind million military method message men memory member medical mean maybe matter manager man making make major main mail machine low love lot lost looking look model pc money month past particular package output original order opinion open old office offer number note north nice news new network needed need near national nasa na muslim mouse moral monitor save saw say use usa unless unix university united unit understand type turn turkish trying try truth true tried total took told today tin time thought thinking think thing thanks used text user usually year wrong written write working work word woman window win willing widget white western went week weapon way water war wanted want view video version various value using texas test term size situation site single simply simple similar shot short shall set service server serial sent sense send sell seen security section second scsi screen science school saying small software sort sound tell technology technical team tax tape talking talk taking taken sure support sun york subject study strong stop statement state started start standard speed specific special space source stuff long longer live considered consider computing computer company communication common comment command coming come color college code clipper clear claim city church christian chip child check change chance certainly certain contact center control copy local doe dod division display disk discussion different difference device design department death deal db day data cut current crime create cover course couple country cost correct controller drive cause carry assume asked ask article armenian argument area arab apr application apple anybody answer anonymous american allow algorithm agree ago address add actually action act according access accept atheist case attack available care card car came called california ca buy business bus build box book body board black bit bike big bible better best belief basic based bad away attempt driver doing early interesting interested institute instead information info individual including includes include important image idea ibm human house hope home hold hockey hit history high help hell heard hear international drug internet issue little list line likely like light life level let left league lead le law later large la known know kind killed kill key just job jewish jew israeli head health hardware having final figure feel federal fast far faq fact face explain experience expect example exactly evidence event especially error entry engineering end encryption email effect easy earth food force following free hard hand ha guy gun guess group ground greek great graphic government got form good god friend ftp function going general game getting given gmt goal young believe file world did problem wa\n",
            "1 : able problem private price previous pretty press president power posting posted post possible product position policy police player play place phone personal person period people pc pay political past program provide rule road right return result rest response research report reply remember religious project religion recently reason really real reading read rate radio quite question purpose public reference particular package output method message men memory member medical mean maybe matter manager man making military make main mail machine low love lost looking york long local live list major million mind mode original order opinion open old office offer number note north nice news new network needed need near national nasa na muslim mouse moral month monitor money model running russian said sale unix university united unit understand type turn turkish trying try truth true unless tried took told today tin time thought thinking think thing thanks text texas total use user usually wrong written write world working word woman window win willing widget white western went week weapon way water war wanted want wa view video version various value test line term technical simple similar shot short shall set service server serial sent sense send simply sell security section second scsi screen science school saying say saw save san seen single site situation tax tape talking talk taking taken support sun subject stuff study strong stop statement state started start standard speed specific special source sound sort software small size technology likely longer light computing company communication common comment command coming come color college code clipper consider clear city church christian chip child check change chance certainly certain center cause claim case considered control doe dod division like disk discussion difference device design department death deal contact db cut current crime create cover course couple country cost correct copy controller data carry care card asked ask article armenian argument area arab apr application apple anybody answer assume anonymous allow algorithm agree ago address add actually action act according access accept american atheist attack attempt car came called california ca buy business bus build box book body board black bit bike big bible better best believe belief basic based bad away available doing driver display early includes include important image idea ibm human house hope home hold hockey including hit high help hell heard hear health head having hardware hard drug guy history individual info information life level left league lead le later large la known know kind killed kill key just job jewish jew issue israeli internet international interesting interested institute instead gun guess hand far file figure feel federal fast ground faq fact face explain experience expect final example evidence event especially error entry engineering end encryption email effect easy earth exactly following young good goal gmt given getting general graphic great food function ftp friend free form force greek team let different game day probably group tell space law little lot sure government usa run drive got point god look using computer going did used work year ha\n",
            "2 : able probably private price previous pretty press president power posting posted possible position problem political police player play place phone personal person period people pc pay past policy particular product project running run rule road right return result rest response research report reply program remember religion reference recently reason real reading rate radio quite purpose public provide religious russian package original message men memory member medical maybe matter manager man making make major method main machine low love lost looking york long local live little likely like mail output military mind order opinion open office offer number note north nice news new network million needed near national nasa na muslim mouse moral month monitor money model mode need light sale save use unless unix university united unit understand type turn turkish trying truth user true total took told today tin time thought thinking think thing thanks text tried texas using value year wrong written write world working work word woman win willing widget usually white went week weapon water war wanted want wa view video version various western san test tell single simply simple similar shot short shall set service server serial sent site sense sell seen security section second scsi screen science school saying say saw send term situation small technology technical team tax tape talking talk taking taken sun subject stuff size study stop statement started start standard speed specific special source sound sort software strong life longer young apple cut current crime create cover course couple country cost correct anybody copy control contact considered consider computing computer company communication common comment application controller command db death engineering end encryption email effect easy earth early drug driver anonymous deal doing dod level division display disk discussion difference answer device design department doe coming apr color business bus build box book body board black bike argument big buy bible believe belief basic based bad away ask available asked attempt attack best ca california called college code arab clipper clear claim city church christian chip area child check change chance certainly certain center cause case carry care card car came atheist error entry event instead actually info individual including includes include important image idea ibm institute human hope home hold hockey hit history high help hell heard especially house interested interesting international left league accept lead le law later large access la known according know kind killed kill act just job jewish jew issue israeli internet action health head hear hardware free form force food following final agree figure feel federal fast having far fact face algorithm explain experience expect allow example exactly american evidence faq ftp friend function hard hand ha guy gun guess add ground greek government got graphic good game general getting given ago gmt assume address going goal old great list post armenian support bit different let line try day data group lot drive space key sure better usa read information said point god mean look question come file really state used did window way article\n",
            "3 : longer pretty press president power posting posted post possible position political policy police player play place phone personal person period people pc pay past particular package previous price private problem right return result rest response research report reply remember religious religion reference output recently really real reading read rate radio quite purpose provide project program product reason original order open memory member medical mean maybe matter manager man making make major main men mail low love lot lost looking look york local live little list line machine road message military old office offer number note north nice news new network needed need method near nasa na muslim mouse moral month monitor money model mode mind million national rule running russian usa unless unix university united unit understand type turn turkish trying try use truth tried total took told today tin time thought thinking think thing thanks true text user value wrong written write world working word woman window win willing widget white usually western week weapon way water war wanted want wa view video version various went likely texas term site single simply simple similar shot short shall server serial sent sense situation sell security section scsi screen school saying say saw save san sale said seen test size sort technology technical tax tape talking talk taking taken sure support sun subject small stuff strong stop statement started start standard speed specific special space source sound study light young discussion application day apr cut current arab crime create cover course area argument couple country cost correct copy controller control contact considered consider computing db deal apple death engineering end encryption email effect easy earth early drug driver drive armenian doing dod division answer display level different difference anybody device design department doe computer company communication care atheist attack came attempt california ca buy business bus build carry box body board black bit bike big bible away bad believe belief book entry assume cause common comment command coming come color college article code clipper clear asked claim church christian chip child check change chance certainly certain center ask city basic error event information info individual including includes include important idea ibm human house hope home hold hockey hit history high help hell heard hear health instead institute interested interesting accept access left league lead according law later act large la especially known killed kill action just job jewish jew issue israeli internet international know having head hard form force food following final file figure feel federal fast agree far faq algorithm face explain allow experience anonymous expect example exactly evidence free hardware friend function hand ha guy gun guess group ground greek add graphic address ftp got good going god goal gmt general ago game based disk given getting actually opinion kind life american image le service send able called card great fact second software case science team car best let public long available probably data set tell key run better government point using question used did state work year like\n",
            "4 : able previous press president posting posted position political policy police point player play phone personal period people pc pay past particular package output original order opinion price open private problem run rule road right return result rest response report reply remember religious religion reference recently really real reading rate radio purpose provide project program product probably running office number matter manager man making make major main mail machine low love lost looking york long local live little list likely like light life level left medical offer member men note north nice news new network needed need near national nasa na muslim mouse moral month monitor money model mode mind million military method message memory russian sale san unless unix university united unit understand type turn turkish try truth true tried total took told today tin time thinking think thing text texas test use term user usually wrong written write world working woman win willing widget white western went week weapon way water war wanted want wa view video version various value using tell technology technical simple similar shot short shall set service server serial sent sense send sell seen security section second scsi screen science school saying say saw save simply single site situation team tax tape talking talk taking taken sun subject stuff study strong league stop state started start standard speed specific special sound sort software small size statement lead longer display controller control contact considered consider computing computer company communication common comment command copy coming color college code clipper clear city church christian chip child check chance come certainly correct country earth early drug driver drive doe dod division law disk discussion difference cost device department death deal db data cut current crime create cover course couple design certain center cause atheist assume asked ask article argument area arab apr application apple anybody attack answer american allow algorithm agree ago address add actually action act according accept anonymous attempt available away case carry care card car came california ca buy business bus build box book body board black bit bike big bible best believe belief basic based bad easy effect young encryption hope home hold hockey hit history high help hell heard hear house health hardware hard hand ha guy email guess ground greek graphic government head got human image later large la known know kind killed kill job jewish jew ibm israeli international interesting interested institute instead info individual including includes include important internet good gun event free especially form face force food fast example file evidence figure feel exactly federal final ftp friend function end gmt fact explain engineering given faq goal experience entry error expect game getting pretty general issue claim possible place following maybe change doing quite source person access word le idea trying thought old thanks called far having great research reason post armenian different let line public day support power group lot key space better sure read usa information mean said god look question going window did work used year just\n",
            "5 : able press president power posting posted post possible position political policy police point player play place phone personal person period pc pay past particular package output pretty previous price private rule road right return result rest response research report reply remember religious original religion recently reason reading rate radio question purpose public provide project product probably reference run opinion old medical mean maybe matter manager man making make major main mail machine low love lost looking look york local live little list line likely like member memory men message office offer note north nice news new network needed need near national open nasa muslim mouse moral month monitor money model mode mind million military method na running russian said unix university united unit understand type turn turkish trying try truth true tried total took told today tin time thought thinking think thing thanks text unless use used using year wrong written write working word woman win willing widget white western texas went weapon water war wanted want wa view video version various value usually week test term technology single simply simple similar shot short shall service server serial sent sense site sell security section second scsi screen school saying say saw save san sale seen light situation small technical team tax tape talking talk taking taken sure support sun subject size stuff strong stop statement state started speed specific special space source sort software study level longer disk correct copy controller contact considered consider computing computer company communication common comment cost command color college code clipper clear claim city church christian chip child check coming change country course earth early drug drive doing doe dod division display left discussion different couple difference device design department death deal db day cut current crime create cover did easy chance certain asked ask article armenian argument area arab apr application apple anybody answer assume anonymous allow algorithm agree ago address add actually action act according access accept american certainly atheist attempt cause carry care came called california ca buy business bus build box attack book board black bike big bible best believe belief basic based bad away body effect young encryption health head jew jewish job having hardware just kill hand ha killed guy gun guess group ground greek great graphic kind got good hear institute heard issue instead information interesting info international individual including includes include important idea internet ibm human house israeli hope home hold hockey hit history high hell going interested fast feel entry federal know far later faq fact law face lead explain experience expect example exactly error evidence league figure event file following known god goal gmt given getting general la final especially ftp friend engineering form force food large function email sound user driver control standard free order end start quite life le image send real center card hard case science bit car let long game available set data tell key lot better usa read help government program number come world really window work problem way people\n",
            "6 : longer posted post possible position political policy police player play place phone personal person period people pc pay past particular package output original open old office posting offer power press report reply remember religious religion reference recently reason really real reading read rate radio quite question purpose public provide project product private price previous pretty president number note north manager man making make major main machine low love lot lost looking look york local live little list line likely like light level let left matter maybe mean medical nice news new network needed need near national nasa na muslim mouse research moral monitor money model mode mind million military method message men memory member month league response result usa unless unix university united unit understand turn turkish trying truth true tried total took today tin time thought thinking think thing thanks text texas use test used value year wrong written write working word woman window win willing widget white western went week weapon water war wanted want wa view video version various usually term technology technical shot short shall server serial sent sense sell security section scsi screen school saying say saw save san sale said russian rule road right return similar simple simply single tax tape talking talk taking taken sure support sun subject stuff study rest strong statement started speed specific special space source sort small size situation site stop lead young law crime create answer cover course couple country cost correct copy controller anybody contact considered consider computing computer company communication common comment command coming cut apple anonymous deal encryption email effect easy earth early drug asked allow doing doe dod division display discussion different difference did device design department le death db engineering application college bus build box body board black bit bike big bible article better best believe belief basic based bad away ask attempt attack atheist business color buy called code clipper clear claim apr city church christian chip child check change chance certainly certain cause arab carry care area argument armenian came california entry assume especially internet issue health head having hardware act error hand hear ha action guess group ground greek great graphic jew got guy hell according high instead information info individual including includes include interested important interesting idea ibm human international house hope home hold hockey hit history good access going add file figure feel federal fast large far faq address face explain experience expect example exactly ago agree evidence algorithm event later final jewish institute general goal just gmt given kill killed following game key function accept friend known la form force food job ftp god mail ca type running told sound israeli user driver current control disk free standard getting opinion heard order actually start end seen life kind image book american center service send second card able hard software fact gun case science team car day try long data available probably set tell help run drive government program point using come world work state problem way know\n",
            "7 : longer posting posted post possible position political policy police point player play place phone personal person period people pc pay past particular package output original opinion president press pretty previous return result rest response report reply remember religious religion reference recently reason open really read rate radio question purpose public provide project program product private price reading right old offer maybe matter manager man making make major main mail machine low love lot lost look york long local live little list line likely like light mean medical member memory note north nice news new network needed need near national nasa na office muslim moral month monitor money model mode mind million military method message men mouse road rule running used use usa unless unix united unit understand type turn turkish trying try truth true tried total took today tin time thinking think thing thanks using usually value various year wrong written write working work word woman window win willing widget text white went week weapon way water war wanted want wa view video version western texas test term site single simply simple similar shot short shall server serial sent sense situation sell security section scsi screen school saying say saw save san sale russian seen level size software technology technical team tax tape talking talk taking taken sure support sun small subject study strong stop statement started start speed specific special space sound sort stuff let young league controller contact considered consider computing computer company communication common comment command coming color college code clipper clear claim city church christian chip child check change copy correct cost country driver drive doing doe dod division display discussion left difference did device chance design death deal db day data cut current crime create cover course couple department certainly certain center assume asked ask article armenian argument area arab apr application apple anybody atheist answer american allow algorithm agree ago address add action act according access accept anonymous drug attack away cause carry care card car came california ca buy business bus build attempt box body board black bit bike big bible better believe belief basic based book early different easy hardware hard jew hand jewish ha guy job earth guess head group greek great graphic just good going god institute goal gmt ground killed health heard instead interesting info individual international including includes include internet important hear israeli ibm house hope home hold hockey hit history issue hell idea given kill large face la general explain later experience expect example exactly fact evidence especially error entry engineering end encryption email lead effect event faq interested final form force ftp fast food following free file figure friend kind feel know function known federal bad told user control disk standard high order getting human source quite actually life looking service le real image thought send having far called able research second gun case science best game power probably available set key law tell help government run information got said number come world state problem university\n",
            "8 : longer power posting posted possible position political policy police play place phone president personal people pc pay past particular package output original order open old period press pretty previous response research report reply remember religious religion reference recently reason really real reading read rate radio quite purpose public provide project product problem private price office offer number north man making make major main mail machine low love lot lost york local live little line likely like light level left league lead law later manager rest matter medical nice news new network needed need near national nasa na muslim mouse moral month monitor money model mode mind million military method men memory member maybe large result right university united unit understand turn turkish trying try truth true tried unix total today tin time thought thinking thing thanks text texas test term took unless use user wrong written write world working woman win willing widget white western went week weapon water war wanted want wa view video version various value usually technology technical tax tape shot short shall server serial sent sense sell security section scsi screen science school saying say saw save san sale said russian running rule road similar return simple single talking talk taking taken sure support sun subject stuff strong stop statement started start speed specific special space source sound sort small size situation site simply la young know correct copy controller control contact considered consider computing computer company communication cost common command coming come color college code clipper clear claim city church comment country couple course effect easy earth early drug doe dod division display disk discussion different difference device known department death deal db day cut current crime create cover christian child check chance atheist assume asked ask article armenian argument area arab apr application apple anybody answer anonymous allow algorithm agree ago address add action act according accept attack email attempt away certainly certain center cause case carry care came called california buy business bus build box body board black bike big bible belief basic based bad available encryption design hardware head having hand ha guy interested interesting guess group health ground international graphic internet israeli issue good image god goal greek hear institute heard idea ibm important include includes human house including individual hope home hold info hockey hit history high information help hell instead gmt given jew federal kill fast general just feel face figure file explain job experience final expect following faq example exactly engineering jewish entry error function ftp food friend especially event form killed force free far evidence study ca type player note told driver standard opinion chip getting change american actually person doing seen end kind word life access le book service send card message looking able list post great hard second software fact gun bit team car let best long game probably data set tell key better usa run drive government got program point mean look using believe question going work window used state did year way think\n",
            "9 : able posted possible position political policy police player play phone personal period people pc pay past particular package output original order office offer number posting president press previous rest response report reply remember religious religion reference recently really real north reading radio quite question purpose provide project program product problem probably private rate nice new network mail machine low love lot lost york long likely like light main life left league lead le law later la known know killed kill level result major man needed need near national nasa na muslim mouse moral month monitor make model mind million military method men memory member medical maybe matter manager mode return right road unix university united unit understand type turn truth tried total took unless told tin time thinking think thing text texas test term tell technology today technical use usually wrong written write world word woman win willing widget white western user went weapon way water war wanted want wa view video various value week key tax talking set service serial sent sense send sell seen security section second shall screen school saying say saw save san sale said russian run rule science tape short similar talk taking taken support sun subject stuff study strong stop state shot start speed specific special source sound sort software size situation site simple standard just longer jewish cost correct controller control contact considered consider computing company communication common comment command coming come color college clipper clear city church christian child country chance course create entry engineering end encryption email effect easy earth early drug dod division display disk discussion job design death deal data cut current crime cover certain center cause atheist assume asked article area arab apr application apple anybody answer anonymous american allow algorithm agree ago address add actually action according accept attack attempt available away case carry care card car came called california ca buy business error bus body board black bit bike big bible better belief basic bad build especially device young help hell final heard food force form hear friend health ftp head hardware hard hand ha function game general guy getting event guess given ground gmt goal greek graphic history file figure hit internet evidence exactly international example expect interesting interested experience explain face fact faq institute good instead individual including includes include important fast image federal ibm human hope home hold hockey info government statement server house act started price making copy certainly db check single difference couple working money scsi argument jew news live box open simply department small ask large turkish feel note running pretty true based local israeli driver issue code claim opinion chip free high following place old change doing access kind person idea book trying version looking thought message having far thanks research great list reason armenian post gun best team let different line public try power group day little space read usa sure drive information got point god mean look believe using computer going window did work used year doe\n",
            "10 : longer possible position political policy police point place phone personal period people post pc past particular package output order opinion open office offer note north pay nice posted press return result rest response report reply remember religious religion reference recently posting reason real reading rate radio purpose project product probably private price previous really new network needed machine low love lost looking look york local live little list main likely light level let left league lead later large la known know like major make making need near national nasa na muslim mouse moral month monitor model mode mind million military method men memory member medical mean maybe matter manager man right kind road run unix university united unit understand type turkish trying try truth true unless tried took today tin time thought thinking think thing thanks text texas total test usa usually year wrong written write working work woman window win willing widget using white week weapon water war wanted want wa view version various value western term tell technology simply simple similar shot short shall service serial sent sense sell single seen section scsi screen school saying say saw save san sale russian security site situation size technical team tax tape talking talk taking taken sure support sun subject stuff study strong stop statement started start standard speed specific special sound software rule killed young difference death arab deal day data cut crime create cover course department couple correct copy controller control argument contact considered consider computing computer country design device did anonymous engineering answer end anybody apple attempt effect application easy earth early drug driver drive doe dod division display apr discussion different kill company communication common comment came california ca buy business bus build box book body board black assume bike bible atheist best believe belief basic based away available asked entry card carry command coming come armenian color college code clipper clear claim article city church christian chip child check change chance certainly certain center cause care error attack event hit history high actually hell heard hear health head add hardware hard hand ha guy gun especially address ground greek great graphic government hockey hold home hope just job jewish jew issue accept israeli internet international interesting institute got instead according info individual including includes act include important action ibm house access good guess figure free food final friend ftp function allow ago feel federal game fast american faq fact algorithm face explain experience given expect gmt example goal exactly evidence form force server agree db turn interested president video provide money sort area original mail cost news encryption ask went play running small player pretty email told bad user general current disk big following getting life doing human source person word quite idea le image old send able far message having called research second case car bit science public line long power set group space law lot read key better help information program god said question number going file used world state problem way use\n",
            "11 : longer possible position political policy police play place personal person period people post pc past particular package output original open old office offer number note pay north posted power religious religion reference recently reason really real reading read rate radio posting quite purpose public provide project product private price previous pretty press president question remember nice network love lot lost looking look york local live little list line low likely light level let left league lead later large la known know like news machine major needed need near national nasa muslim mouse moral month monitor model main mode million military method men member medical maybe matter manager making make mind killed reply research unix university united unit understand trying try truth tried total took unless today time thought thinking think thing thanks text texas test term technology tin technical use using wrong written write world working work woman window win willing widget used western weapon way water war wanted want wa view version various usually week report tax talking server serial sent sense send sell security section scsi screen school shall saying saw save san sale russian rule road right return rest response say tape short simple talk taking taken sure support sun subject stuff strong stop statement shot started speed specific special space source small size situation site single simply start kill young just disk discussion different difference did device design department death display deal key day data cut current belief believe crime bible db division dod doe carry exactly atheist event especially error entry engineering attack encryption attempt away based effect easy earth early drug driver drive basic create cover course couple code clipper clear box build bus claim city church business buy child check california change chance came certain center cause car college expect book coming country cost correct big copy controller bike bit contact black considered consider computing computer company communication board body common comment command come experience example face idea ibm human house hope hold hockey algorithm hit agree history help hell heard hear allow health head american explain high hardware ago include job accept jewish access issue israeli internet according act important international interested action instead add address info individual including includes interesting hard anonymous ha function ftp friend argument armenian free form force food final article figure feel federal fast ask far faq asked assume fact hand area game arab guy gun answer guess ground greek great government apple good apr gmt goal got god going application care similar value christian na memory white anybody certainly turn home result video sort jew money phone evidence study man mail graphic ca color went type player turkish institute bad true running email general told sound user given control standard following life chip opinion getting order seen end kind doing actually word image le service having message able called card software second team case science best long group available probably law set tell better usa run information point program mean said file state year problem new\n",
            "12 : able post position political policy police point player place phone personal period posted people pay past particular package output original order opinion office offer note pc north press price road right return result rest response research report reply remember religious previous religion recently reading rate radio question purpose project program product probably private reference rule nice network love lost look york local live little list line likely like low light left league lead law later large la known know kind killed level new mail major needed need near nasa na muslim mouse moral month monitor money main model mind million military method message men medical mean matter manager making mode kill run russian unless unix university united unit understand type turn turkish try truth usa true total took told today tin time thinking think thing text texas tried test use usually year wrong written write working woman win willing widget white western using went weapon way water war wanted want wa video version various value week running term technical simple similar shot short shall service server serial sent sense sell simply seen section second scsi screen school saying say saw save san sale security tell single situation team tax tape talking talk taking taken sure support sun subject site stuff strong stop statement state started standard specific special space software size study key longer job course couple country cost correct copy controller contact considered consider computing company common comment command coming come college code clipper clear claim church cover create crime cut engineering end effect easy earth early drug driver drive doing doe christian dod display just difference did device design department death deal db day division child check change assume asked ask article armenian argument arab apr apple anybody anonymous atheist american algorithm agree ago address add actually action act according access accept allow entry attack available chance certainly certain carry called california ca buy business bus build attempt book board black bit bike bible better best believe belief basic based body error discussion young great graphic hope house got good ibm goal important gmt include getting includes including function ftp friend greek form ground especially high history hear hit health head having hockey hardware hold home hard hand ha guy gun guess group individual hell experience example interesting force international internet far issue face exactly fast federal jew faq jewish figure food event evidence info final instead file explain expect information interested city view memory provide care speed president member communication sort away man area box open news color small encryption cause machine feel posting application play institute pretty email answer user bad sound came israeli general control disk current possible given technology chip free big maybe following source word heard human le life start trying quite person old idea image real looking center national send thought thanks card reason fact let science case public different car power long game set data lot help read government god said number computer going really world window used work problem make\n",
            "13 : able post position political policy police point player place phone personal period people pc pay past particular package output order opinion office note north posted power president press right return result rest response report reply remember religious religion reference nice recently rate radio question purpose project product probably private price previous pretty reading road new needed york long local live little likely like life let league lead le law later large la known know kind killed kill key just lost low machine mail need near nasa na muslim mouse moral monitor money mode mind network million method message men memory medical matter manager making make major main military job rule running unix university united unit understand type turkish trying try truth true tried total told today tin thinking think thing text texas test term unless usa use used year written write work word woman win willing widget white western tell went weapon water war wanted want wa video version various usually using week run technical tax set service server serial sent sense sell seen security section second scsi screen science school saying say saw save san sale said russian shall short shot similar tape talking talk taking taken sun subject stuff study strong stop team statement standard specific special sound software small size situation site single simple state jewish longer issue cut crime create cover country correct copy controller control contact considered consider computing common comment command coming color college code clear day db death design event especially error entry engineering end email effect easy earth church early driver drive doing doe dod division display jew did device drug christian chip check attack atheist assume asked ask article argument arab apr apple attempt anybody allow algorithm ago add actually action act according access accept anonymous evidence available basic change chance certainly certain carry called california ca buy business bad bus book body board black bike bible better best believe belief build exactly young good ground greek important great graphic include got group includes including goal gmt given getting game individual god function guess image hit hockey high hold home hell hear gun health having hardware house ibm example ha guy head info history form food friend far force faq final free feel fact international instead federal face explain internet experience fast israeli interesting expect file figure deal month offer wrong model level light discussion ftp hand love clipper value city view agree started took difference course care working couple turn provide member address communication hope speed company sort interested man area away box original open cost encryption news simply department cause play application posting institute left child general came based user answer current claim disk following possible technology big maybe source person human heard start quite american idea looking center thought national real old send card research list thanks reason armenian hard case different line bit car public support data space sure lot help information read government mean program look computer number going really come world window problem way time\n",
            "14 : longer person period people pc past particular package output open old personal office note north nice news new needed need near nasa muslim offer place play policy reply religious religion recently really reading read radio quite purpose public provide project product private previous pretty press president posting posted position political mouse response moral monitor live little like light level league lead law later large york la kind killed kill key just job jewish internet international interesting know look looking lost money model mode mind million military method message men memory member medical matter manager man making make major main machine low love lot month interested rest right unix university united unit understand turn turkish trying truth total unless took tin time thought thinking think thing thanks text texas test today use used user year wrong written write work word window win willing widget western weapon way water war wanted want wa view various value usually using term return technology tax short shall serial sent sense send sell seen section second shot scsi school saying say saw save san russian run rule road screen similar simple simply tape talking talk taking taken support subject stuff strong stop statement started speed specific special space source sort software small size situation site technical institute young assume atheist division disk discussion different difference allow device dod design department deal instead db business anonymous data cut american algorithm doe doing exactly event especially error entry engineering end book address box effect easy build ago earth early drug bus drive area expect crime cover color college code clipper clear claim city church apr car child check change chance arab certainly center cause card coming command application ca course answer couple country cost correct copy controller california contact considered computing apple company communication common comment came create body encryption experience belief according hear health head believe hardware hard ha guy guess board group ground greek article graphic government better heard hell ask help info individual including includes attack attempt include important idea action ibm house hope hold hockey away history bad basic accept human got carry friend food black federal faq form free following bike add fact ftp face function fast game final bit god goal explain gmt figure file getting general big police hand sun hit reference security example known death rate asked report force likely network display certain woman act bible server na christian agree price pay tried sale single white week anybody consider care video home working result argument study phone evidence original jew mail remember went buy player email feel type true running sound left based told local current israeli issue control possible driver standard high order opinion given chip maybe life start actually access image le service real version national far great having called research able post armenian list reason gun science case best team let line power try long day probably available set sure tell usa information point program mean said question number computer going come world did state problem good\n",
            "15 : longer post possible position political policy police point player place personal period people pay past particular package output original opinion open old office number posting note president pretty report reply remember religious religion reference recently reason real reading rate radio quite question purpose public provide project product probably private price previous press north nice news looking look york local list line likely like life left league lead le law later la known know killed kill key just job lost low mail main new network needed need near nasa muslim mouse moral monitor money research model method message men member medical mean matter manager making make major million jew response return university united unit understand type turn trying try truth tried total told time thought thinking think thing texas test term tell technology technical unix team unless used year wrong written write working word win willing widget white western went weapon water war wanted want wa view various value usually using use tax tape talking shall set service server serial sent sense send security section second screen science saw save san sale said russian running rule road right short shot similar simple talk taking taken sure support sun subject stuff study strong stop result statement started speed special space source small size situation site single simply state issue young internet create cover couple country cost correct controller contact considered cut computing company common comment command college clipper claim church christian computer child day israeli expect example exactly evidence especially entry easy earth early db drug doing doe dod division display disk did design department driver check change chance armenian argument arab apr apple anybody answer anonymous american article allow agree ago address actually action act according access accept algorithm asked assume atheist certain case carry care called california buy business bus build body board black bike bible best believe basic based bad attempt experience face death guy food hand force form ha includes group friend ground include greek including individual function good going god getting goal information great following final interesting house faq hope home far fast human hold hockey history feel international ibm figure idea hell image head having hardware file given gmt mode coming explain specific crime rest federal text add deal military event hear clear attack error posted today mind device sell month engineering instead health ftp offer belief light effect hit level jewish pc discussion woman love tin important guess city school course na week memory took consider copy certainly interested info difference video communication sort scsi away saying live area phone graphic box man play ca encryption cause color ask turkish application large machine true institute email came sound general user code current control standard high free big chip person maybe order heard seen end start national kind version book able center card thanks gun software hard fact bit car let different long power game available little data lot better help usa read drive run government got program really come world window work problem way say\n",
            "16 : young lost sure look york long local live little list line likely like light taken level let left league lead support le love machine mind million military method specific started statement member medical strong maybe stuff manager man making make major main subject low taking later large include important term idea ibm human house hope home hold hockey test history high texas hell heard text thanks includes technology individual technical la known know talk killed kill key just job mode jewish issue israeli internet international interesting tax institute team information tape saw model monitor rate sense sent question purpose public provide project serial server shall short shot price previous pretty press president power read posting security section sale said running say saying road right return screen rest response research report reply remember religious scsi recently reason real simple post possible office small number software north nice news new source needed space near national nasa special muslim mouse moral month old open opinion size simply political policy police point player play place single money personal period people situation pay past particular package output original site thing head hard chance water certain center cause case carry care card weapon came called california week buy business bus build box change book check chip view computing wa company want common comment command coming wanted war college code clipper clear claim city church christian child body board black apr application work anybody answer anonymous working allow algorithm agree ago address wrong year action act according access accept arab word argument armenian went bike big bible western best believe widget basic hardware based away willing attempt attack atheist assume asked window article bad video considered controller trying free form force food following final turkish figure feel fast far faq turn face explain type expect example ftp version function general hand ha think thinking thought group ground greek time tin took total good going god goal true given truth try understand exactly especially did device design department death deal db day usually cut value create cover course couple country cost correct various event different difference used error entry engineering unit united university unix easy using earth drug unless usa use doe dod division display early save russian crime religion federal longer radio add position hear men posted written today apple sell reading contact health experience instead offer gmt effect sun rule hit stop reference belief discussion pc product friend similar network write guess private guy woman talking certainly including school copy win na memory matter san speed tried white consider info interested communication phone result sort evidence area jew study graphic mail encryption ca color ask note email told sound user current disk control driver standard getting order doing start actually quite seen person life end kind american service image looking send message having able great second gun fact bit science car available game probably data set law lot tell better help run got drive government mean program computer file really world come state problem way need\n",
            "17 : able period people pc pay past particular package output order open office note north news new network needed need near national nasa personal player police policy recently reason real reading rate radio quite purpose provide project muslim product price previous pretty press power posting post possible position political probably reference mouse monitor league lead law later large la know kind kill just job jewish jew issue israeli internet international interesting instead info individual left let level like money mode mind military method member matter manager making make moral major mail low love lost looking york local little line likely main religious remember reply united unit understand type trying truth true total took told today tin time thought thinking think thing text texas test tell university unix use used year write world working work woman window win willing widget technical white week weapon water war wanted wa version various usually using western team tax tape serial sent sense sell security section screen science school say server saw sale russian rule road right return rest response research report save includes service short talking taking sure sun subject stuff study strong statement started shall start specific special small size situation site single simply simple shot standard include longer young design department death ask db day asked assume cut important crime create cover country correct copy controller atheist attack article considered did different exactly evidence event especially engineering encryption email apr arab easy earth early black driver doing doe dod division display argument example consider computer certain center cause case based carry care basic came called believe california ca buy business bus build bible book certainly computing bad change communication common attempt comment command coming come color college code clipper available clear claim city church christian chip check chance apple bike action going hit history guess free high got hell actually anonymous good gun heard expect hear allow function game ago general algorithm head gmt having goal access according ha god form force hockey address experience greek ground graphic explain face anybody group faq idea far fast hold ibm federal answer food government following home add final guy act house accept feel human medical religion hardware figure entry term killed drug posted deal error nice men million device month body board written health taken wrong model offer light contact ftp effect belief stop friend discussion known hand similar private value unless view talk including agree na company san course tried memory saying couple speed result turn interested president video difference scsi hope sort area live original phone away man box went application machine play running turkish cost institute sound child user disk control current given technology big getting place person seen maybe end life opinion source word image le american old send message thanks armenian card great list hard fact second software best bit car public try long support data set key space lot read help better run drive usa information point program mean said look number question really file state problem way want\n",
            "18 : able particular package output original order open office offer number note north nice news new network needed need near national muslim mouse past moral pay period reading read rate radio quite question provide product probably private price previous pretty press posted post position political point phone personal people month money mode law later large la know kind killed kill key just jewish issue israeli internet international interesting interested instead information info individual lead league left life mind military method men memory member medical mean manager man really making main machine lost looking york long live little line like make reason recently reference united unit type trying truth tried total took today tin time thinking think thing thanks text texas term technical tax tape university unix unless usa written write world word woman window win willing widget white talking went way water war wanted want wa version value usually use week including talk taken send sell seen security section screen say saw russian running rule road return result rest response report reply remember religious religion sense sent serial service sure sun stuff study strong stop state start standard specific taking special sound small size situation site single simple shot short shall source includes longer cover idea correct copy controller control considered consider computing create communication comment command coming come color college code clipper common crime current cut event especially error end encryption email effect easy earth drug drive doing doe dod did design deal day data clear evidence christian chance assume ask article argument area arab apr application atheist anybody agree ago address add action act according accept algorithm attack attempt available certainly center cause carry care card california business bus build box book body black bit bible believe basic based child exactly young expect ftp gun friend form example house food guess group ground got following health given government final heard human graphic figure ibm experience explain face hit history hard game function good faq goal hand fast federal help hell feel ha high hear purpose greek various hardware allow save weapon subject anonymous early entry project low monitor head nasa hold policy million apple include board police device engineering major statement contact division model church light bike wrong belief hockey gmt level known discussion death job love country asked western pc likely important guy force school similar display test city certain view course matter na speed started check san db working server understand sale scsi turn couple company video hope home saying away difference sort president mail jew simply ca department posting cost play buy turkish institute bad player true came told general user local answer driver claim disk technology free possible change big chip place getting maybe opinion actually access person american image real old le thought message armenian called having far research list great software second fact case try car team science different let best public support power set lot tell space better run program god said look using going computer file used problem work year right\n",
            "19 : able north nice new network needed need near nasa na muslim mouse moral month mode mind million military method message offer office open opinion radio public problem probably private price press posted political men police player phone period people pc past particular output order point memory medical maybe know killed just jewish israeli internet international interesting institute known instead including important image ibm hope home hockey hit history individual reading la law matter manager man make main mail low love lot later lost local likely like life level let league lead le long recently reference religion turn turkish try truth total told today tin time understand thinking thanks text test term technical team tax tape talk think taking unit unix write work win willing widget white weapon way water university want view video various usually using user use usa unless wa high taken stuff section second scsi school say saw save san sale security russian run road right return result rest reply remember religious running sun seen send study strong stop state standard specific special sound sort sell software simple similar shot short shall set service sent sense site hell longer controller error especially event control book expect data experience board explain fact chance faq chip cut fast federal bible better christian final belief basic current change difference certainly certain carry discussion disk card car case dod california ca doe design box business driver department early earth bus center effect email build end engineering drive food away attempt government graphic great greek ago ground add couple comment guess gun country algorithm company ha according accept computing considered hard hardware contact having correct health hear guy available allow command attack atheist force crime free friend ftp assume function game american getting create cover gmt goal area arab apple college coming good article care texas screen serial face young purpose york easy response includes situation previous anonymous personal figure subject project common entry monitor united clear position hold drug head black written include size policy deal device action kill exactly body church form division statement bike major rule wrong model light job western death asked product rate package hand war example report wanted city display value woman talking clipper anybody act house started agree course info server consider tried pay copy making single communication took speed saying interested week db working check member president provide live argument money address evidence cause jew original color news went simply application feel play encryption cost true large machine ask type buy small posting note pretty came left bad child general based issue answer claim code apr possible given technology following person big doing heard actually place human start kind source quite word access idea thought version trying real looking old national list called far research armenian post reason bit best science line power different day support group help tell little key space sure information read got god program mean look said believe question number world going computer come really file window year did used thing\n"
          ]
        }
      ]
    }
  ]
}
