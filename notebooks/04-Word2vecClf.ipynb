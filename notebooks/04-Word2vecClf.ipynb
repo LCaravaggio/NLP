{
  "cells": [
    {
      "cell_type": "markdown",
      "metadata": {
        "id": "view-in-github",
        "colab_type": "text"
      },
      "source": [
        "<a href=\"https://colab.research.google.com/github/LCaravaggio/NLP/blob/main/word2vec_clf.ipynb\" target=\"_parent\"><img src=\"https://colab.research.google.com/assets/colab-badge.svg\" alt=\"Open In Colab\"/></a>"
      ]
    },
    {
      "cell_type": "markdown",
      "metadata": {
        "id": "QDSQ2SpygjBj"
      },
      "source": [
        "Vamos a clasificar el sentimiento de reviews de películas con **Word2Vec**, en particular, con una red feed-forward que toma los embeddings de las palabras Word2Vec como entradas.\n",
        "\n",
        "TODO: pasar las partes sobre similitud a otra notebook."
      ]
    },
    {
      "cell_type": "markdown",
      "metadata": {
        "id": "adLynhD0gjBn"
      },
      "source": [
        "### Configuración del entorno"
      ]
    },
    {
      "cell_type": "code",
      "execution_count": 2,
      "metadata": {
        "id": "DrI-AEHLgjBo",
        "colab": {
          "base_uri": "https://localhost:8080/"
        },
        "outputId": "30a09709-b169-44f6-ab1c-f986a3821f71"
      },
      "outputs": [
        {
          "output_type": "stream",
          "name": "stdout",
          "text": [
            "\u001b[2K   \u001b[90m━━━━━━━━━━━━━━━━━━━━━━━━━━━━━━━━━━━━━━━━\u001b[0m \u001b[32m484.9/484.9 kB\u001b[0m \u001b[31m9.4 MB/s\u001b[0m eta \u001b[36m0:00:00\u001b[0m\n",
            "\u001b[2K   \u001b[90m━━━━━━━━━━━━━━━━━━━━━━━━━━━━━━━━━━━━━━━━\u001b[0m \u001b[32m30.6/30.6 MB\u001b[0m \u001b[31m31.7 MB/s\u001b[0m eta \u001b[36m0:00:00\u001b[0m\n",
            "\u001b[2K   \u001b[90m━━━━━━━━━━━━━━━━━━━━━━━━━━━━━━━━━━━━━━━━\u001b[0m \u001b[32m116.3/116.3 kB\u001b[0m \u001b[31m7.9 MB/s\u001b[0m eta \u001b[36m0:00:00\u001b[0m\n",
            "\u001b[2K   \u001b[90m━━━━━━━━━━━━━━━━━━━━━━━━━━━━━━━━━━━━━━━━\u001b[0m \u001b[32m143.5/143.5 kB\u001b[0m \u001b[31m9.2 MB/s\u001b[0m eta \u001b[36m0:00:00\u001b[0m\n",
            "\u001b[2K   \u001b[90m━━━━━━━━━━━━━━━━━━━━━━━━━━━━━━━━━━━━━━━━\u001b[0m \u001b[32m3.9/3.9 MB\u001b[0m \u001b[31m79.0 MB/s\u001b[0m eta \u001b[36m0:00:00\u001b[0m\n",
            "\u001b[2K   \u001b[90m━━━━━━━━━━━━━━━━━━━━━━━━━━━━━━━━━━━━━━━━\u001b[0m \u001b[32m194.8/194.8 kB\u001b[0m \u001b[31m13.4 MB/s\u001b[0m eta \u001b[36m0:00:00\u001b[0m\n",
            "\u001b[2K   \u001b[90m━━━━━━━━━━━━━━━━━━━━━━━━━━━━━━━━━━━━━━━━\u001b[0m \u001b[32m11.7/11.7 MB\u001b[0m \u001b[31m61.1 MB/s\u001b[0m eta \u001b[36m0:00:00\u001b[0m\n",
            "\u001b[2K   \u001b[90m━━━━━━━━━━━━━━━━━━━━━━━━━━━━━━━━━━━━━━━━\u001b[0m \u001b[32m1.6/1.6 MB\u001b[0m \u001b[31m47.9 MB/s\u001b[0m eta \u001b[36m0:00:00\u001b[0m\n",
            "\u001b[?25h\u001b[31mERROR: pip's dependency resolver does not currently take into account all the packages that are installed. This behaviour is the source of the following dependency conflicts.\n",
            "en-core-web-sm 3.7.1 requires spacy<3.8.0,>=3.7.2, but you have spacy 3.8.4 which is incompatible.\u001b[0m\u001b[31m\n",
            "\u001b[0m"
          ]
        }
      ],
      "source": [
        "!pip install -qU datasets gensim spacy watermark"
      ]
    },
    {
      "cell_type": "code",
      "execution_count": 3,
      "metadata": {
        "id": "lSTgqVh2gjBp"
      },
      "outputs": [],
      "source": [
        "%reload_ext watermark"
      ]
    },
    {
      "cell_type": "code",
      "execution_count": 4,
      "metadata": {
        "colab": {
          "base_uri": "https://localhost:8080/"
        },
        "id": "sH0M270SgjBr",
        "outputId": "8cf8e5f8-aaa6-4c2d-91ad-002eff082beb"
      },
      "outputs": [
        {
          "output_type": "stream",
          "name": "stdout",
          "text": [
            "Python implementation: CPython\n",
            "Python version       : 3.11.11\n",
            "IPython version      : 7.34.0\n",
            "\n",
            "datasets: 3.3.1\n",
            "gensim  : 4.3.3\n",
            "spacy   : 3.8.4\n",
            "torch   : 2.5.1+cu124\n",
            "numpy   : 1.26.4\n",
            "pandas  : 2.2.2\n",
            "tqdm    : 4.67.1\n",
            "\n",
            "Compiler    : GCC 11.4.0\n",
            "OS          : Linux\n",
            "Release     : 6.1.85+\n",
            "Machine     : x86_64\n",
            "Processor   : x86_64\n",
            "CPU cores   : 2\n",
            "Architecture: 64bit\n",
            "\n"
          ]
        }
      ],
      "source": [
        "%watermark -vmp datasets,gensim,spacy,torch,numpy,pandas,tqdm"
      ]
    },
    {
      "cell_type": "markdown",
      "source": [
        "Para usar GPU, arriba a la derecha seleccionar \"Change runtime type\" --> \"T4 GPU\".\n",
        "\n",
        "Es un buena idea desarrollar con CPU, y usar GPU para la corrida final, para que Google no nos limite el uso. En esta notebook vamos a trabajar con pocos datos y un modelo chico, por lo cual no es imprescindible usar GPU."
      ],
      "metadata": {
        "id": "fC2quKgooVNc"
      }
    },
    {
      "cell_type": "code",
      "execution_count": 29,
      "metadata": {
        "colab": {
          "base_uri": "https://localhost:8080/"
        },
        "id": "Ly0sQpe0gjBr",
        "outputId": "c57308b2-f679-4c97-89d6-dca7cbb00e6a"
      },
      "outputs": [
        {
          "output_type": "stream",
          "name": "stdout",
          "text": [
            "cpu\n"
          ]
        }
      ],
      "source": [
        "import torch\n",
        "\n",
        "device = torch.device(\"cuda\" if torch.cuda.is_available() else \"cpu\")\n",
        "print(device)"
      ]
    },
    {
      "cell_type": "markdown",
      "metadata": {
        "id": "VKkqwrY2gjBr"
      },
      "source": [
        "## Dataset\n",
        "\n",
        "Cargamos y exploramos el dataset de [reviews de películas de Rotten Tomatoes](https://huggingface.co/datasets/rotten_tomatoes)."
      ]
    },
    {
      "cell_type": "code",
      "execution_count": 5,
      "metadata": {
        "id": "FxybhTF_gjBr",
        "colab": {
          "base_uri": "https://localhost:8080/",
          "height": 365,
          "referenced_widgets": [
            "0b86b5767b6c46538fb9d39c17d04f93",
            "61a375285b134963b81d7ee1b7da6fb0",
            "1a558e4e1794428cac8433fbaa409dc0",
            "bd5f9e5be31d45c4ae38fb95c6f8afe7",
            "1a19d52c79b1472391f8143e377cbaed",
            "3ec7eb2fd2d54a158ad9fe5c4cfba813",
            "d3e8d1b0619a414a9a7500d855dbca92",
            "030250e1668642a082b2fe83e16249a9",
            "f1c4233210ea44e28a5dffdcf7d94284",
            "934f6d5c9077433f87e53e0849b4c0a0",
            "5e138edd103746228393ecbed324c397",
            "dafb30b1c8764b189a53ec21d4eeedc1",
            "c6af128613924bc3b3b9b71d136b0caa",
            "72c458aa87144e62885fff7468b45a51",
            "9d9fd56e00fa41ad93167e6906783347",
            "37129922b6e54000b06f5568ba665c3d",
            "ec4e4049220a47f1a7e4efa778c547e8",
            "98fb85d70a2343e0885f5d857a8a11d5",
            "8b5593da9e8b4716aee0af9ca500b518",
            "c39179495c6b424b9124c7ff0849adbc",
            "37e6fe1fa8ca46df850c89bc39e4dd30",
            "9dfa4e015ad14d17862808623698291d",
            "f7d1ca1f8d8f44d085030695b6f9d0c6",
            "0bc5cc0508cb4026ba3c4696ad052a40",
            "45dd49a37ecb44f2a31ea00c82159de8",
            "16756f2bbc5e4a61b5864e7c2d3bd775",
            "33f5a35a249d42fcb89587ba387438cc",
            "6b44ce952cb84f528d8e1c206f8ee429",
            "fead74e76ca14589a2b230ebe906f27e",
            "9b7de83b0d844754ad0613daef89100b",
            "4506db73c81e483da9928ea79abb78fa",
            "0cbc1891216448b6a6d8d2d0fe78f8c3",
            "bba8eecb13cb4cbf8b2d0c45e437c812",
            "ec6fced96d72471f8d06c65fb2956433",
            "b8d854ddd9e04620b6b1f9caebee208d",
            "1d7e36e562a3403f886a237e920ba7d4",
            "3b2eb26b18ff48a1a0e61d8b2b50befc",
            "727cbb59d20e4ce595f2ca55b5268803",
            "8a8dd2221dc9494796da5f4f4d9e9edd",
            "86755fb002884d91bbb3b36197b2fbfa",
            "c96d3beb04d2422f92676cacb41cda5c",
            "0af260ffe172464d9c0081528c755a6f",
            "38741303ab4946cba6243c6c749afee2",
            "907b40c8b71045c097f0a7d2642a8757",
            "a57bb84fe194495697c6e697681b272e",
            "d65041bfcd4b44d0bc5adbfd5106743e",
            "94af9226dd00437bb446b1e100a02de4",
            "9eb5d255552342a999d1762d3ee62752",
            "1b2d369e0ffa4029bf963a7707ae6cf5",
            "0267c1fdd7fc4f02b7372e8808757290",
            "d84e458201a747b79bd1c532be8c710b",
            "a8c9a40e0f424e7684b9202ceb638dd0",
            "f9f108a9ef21437ebde2d0ac684b275e",
            "4528752067b9476a832071d61a29b957",
            "2e39d8852e584a09a05e3f71df3f1233",
            "17928e92c9c347c2bc548b2875548947",
            "efdc0d3c490a4c1db738b85667a042a4",
            "7ed7c42e33b64ab6ae5343d193ea0c39",
            "359bfee807c24f35ba72f221a301e3b4",
            "99a3f13d7dee422aaf5314412bd7e090",
            "aefa512f78b546548f2e07cd5e2947f1",
            "bd96599691124eceb61962a8931b010c",
            "b400278e74044a0c92331591a0ede481",
            "a0348f9d90224a22976182578600183b",
            "be94a83922d84c98a9b1ea3b437c59c6",
            "64feb3a47a9c47f4a54590da698f0200",
            "5e82311f5d5843a0aab711723e4534c9",
            "cdd3117f876649469cff9c33ac6a7e69",
            "457529aac1154e25a46ba3b909026b2d",
            "4a50ebfeb5aa4d558cc28edb27b79dfc",
            "80ff91d2f83f46ff81edca8f0ab0dc2c",
            "e44ebbe985c64b2fbc0a6884a2841be7",
            "a5c3c05ca49b41118078c99f1ad9a9eb",
            "8f3f0fce09414af69a9e9f017a32a315",
            "3e636a592c15467a935617b1e67d7ee8",
            "b8bc9f4644f144e3a54c04f7381fbf94",
            "5692c996263a461d8c215ee71d5cac23"
          ]
        },
        "outputId": "45f191aa-7713-4707-b180-0ef546e81333"
      },
      "outputs": [
        {
          "output_type": "stream",
          "name": "stderr",
          "text": [
            "/usr/local/lib/python3.11/dist-packages/huggingface_hub/utils/_auth.py:94: UserWarning: \n",
            "The secret `HF_TOKEN` does not exist in your Colab secrets.\n",
            "To authenticate with the Hugging Face Hub, create a token in your settings tab (https://huggingface.co/settings/tokens), set it as secret in your Google Colab and restart your session.\n",
            "You will be able to reuse this secret in all of your notebooks.\n",
            "Please note that authentication is recommended but still optional to access public models or datasets.\n",
            "  warnings.warn(\n"
          ]
        },
        {
          "output_type": "display_data",
          "data": {
            "text/plain": [
              "README.md:   0%|          | 0.00/7.46k [00:00<?, ?B/s]"
            ],
            "application/vnd.jupyter.widget-view+json": {
              "version_major": 2,
              "version_minor": 0,
              "model_id": "0b86b5767b6c46538fb9d39c17d04f93"
            }
          },
          "metadata": {}
        },
        {
          "output_type": "display_data",
          "data": {
            "text/plain": [
              "train.parquet:   0%|          | 0.00/699k [00:00<?, ?B/s]"
            ],
            "application/vnd.jupyter.widget-view+json": {
              "version_major": 2,
              "version_minor": 0,
              "model_id": "dafb30b1c8764b189a53ec21d4eeedc1"
            }
          },
          "metadata": {}
        },
        {
          "output_type": "display_data",
          "data": {
            "text/plain": [
              "validation.parquet:   0%|          | 0.00/90.0k [00:00<?, ?B/s]"
            ],
            "application/vnd.jupyter.widget-view+json": {
              "version_major": 2,
              "version_minor": 0,
              "model_id": "f7d1ca1f8d8f44d085030695b6f9d0c6"
            }
          },
          "metadata": {}
        },
        {
          "output_type": "display_data",
          "data": {
            "text/plain": [
              "test.parquet:   0%|          | 0.00/92.2k [00:00<?, ?B/s]"
            ],
            "application/vnd.jupyter.widget-view+json": {
              "version_major": 2,
              "version_minor": 0,
              "model_id": "ec6fced96d72471f8d06c65fb2956433"
            }
          },
          "metadata": {}
        },
        {
          "output_type": "display_data",
          "data": {
            "text/plain": [
              "Generating train split:   0%|          | 0/8530 [00:00<?, ? examples/s]"
            ],
            "application/vnd.jupyter.widget-view+json": {
              "version_major": 2,
              "version_minor": 0,
              "model_id": "a57bb84fe194495697c6e697681b272e"
            }
          },
          "metadata": {}
        },
        {
          "output_type": "display_data",
          "data": {
            "text/plain": [
              "Generating validation split:   0%|          | 0/1066 [00:00<?, ? examples/s]"
            ],
            "application/vnd.jupyter.widget-view+json": {
              "version_major": 2,
              "version_minor": 0,
              "model_id": "17928e92c9c347c2bc548b2875548947"
            }
          },
          "metadata": {}
        },
        {
          "output_type": "display_data",
          "data": {
            "text/plain": [
              "Generating test split:   0%|          | 0/1066 [00:00<?, ? examples/s]"
            ],
            "application/vnd.jupyter.widget-view+json": {
              "version_major": 2,
              "version_minor": 0,
              "model_id": "5e82311f5d5843a0aab711723e4534c9"
            }
          },
          "metadata": {}
        }
      ],
      "source": [
        "from datasets import load_dataset\n",
        "\n",
        "dataset = load_dataset(\"rotten_tomatoes\")"
      ]
    },
    {
      "cell_type": "code",
      "execution_count": 6,
      "metadata": {
        "colab": {
          "base_uri": "https://localhost:8080/"
        },
        "id": "TtyJpx-6gjBs",
        "outputId": "6cdd1f1d-f53e-478f-b268-884c9b7120b5"
      },
      "outputs": [
        {
          "output_type": "execute_result",
          "data": {
            "text/plain": [
              "DatasetDict({\n",
              "    train: Dataset({\n",
              "        features: ['text', 'label'],\n",
              "        num_rows: 8530\n",
              "    })\n",
              "    validation: Dataset({\n",
              "        features: ['text', 'label'],\n",
              "        num_rows: 1066\n",
              "    })\n",
              "    test: Dataset({\n",
              "        features: ['text', 'label'],\n",
              "        num_rows: 1066\n",
              "    })\n",
              "})"
            ]
          },
          "metadata": {},
          "execution_count": 6
        }
      ],
      "source": [
        "dataset"
      ]
    },
    {
      "cell_type": "code",
      "source": [
        "label_names = dataset[\"train\"].features[\"label\"].names\n",
        "print(label_names)"
      ],
      "metadata": {
        "colab": {
          "base_uri": "https://localhost:8080/"
        },
        "id": "8sRLr5osO4Iz",
        "outputId": "6e3b84f2-0a95-452a-87eb-edab50b31b75"
      },
      "execution_count": 7,
      "outputs": [
        {
          "output_type": "stream",
          "name": "stdout",
          "text": [
            "['neg', 'pos']\n"
          ]
        }
      ]
    },
    {
      "cell_type": "code",
      "execution_count": 8,
      "metadata": {
        "colab": {
          "base_uri": "https://localhost:8080/",
          "height": 272
        },
        "id": "QgZGR6MlgjBs",
        "outputId": "ce286694-f426-4d46-e4cf-23fe97657dc4"
      },
      "outputs": [
        {
          "output_type": "display_data",
          "data": {
            "text/plain": [
              "<IPython.core.display.HTML object>"
            ],
            "text/html": [
              "<table border=\"1\" class=\"dataframe\">\n",
              "  <thead>\n",
              "    <tr style=\"text-align: right;\">\n",
              "      <th></th>\n",
              "      <th>text</th>\n",
              "      <th>label</th>\n",
              "    </tr>\n",
              "  </thead>\n",
              "  <tbody>\n",
              "    <tr>\n",
              "      <th>0</th>\n",
              "      <td>drives for the same kind of bittersweet , conciliatory tone that three seasons achieved but loses its way in rhetorical excess and blatant sentimentality .</td>\n",
              "      <td>neg</td>\n",
              "    </tr>\n",
              "    <tr>\n",
              "      <th>1</th>\n",
              "      <td>until it goes off the rails in its final 10 or 15 minutes , wendigo , larry fessenden's spooky new thriller , is a refreshingly smart and newfangled variation on several themes derived from far less sophisticated and knowing horror films .</td>\n",
              "      <td>pos</td>\n",
              "    </tr>\n",
              "    <tr>\n",
              "      <th>2</th>\n",
              "      <td>excessive , profane , packed with cartoonish violence and comic-strip characters .</td>\n",
              "      <td>neg</td>\n",
              "    </tr>\n",
              "    <tr>\n",
              "      <th>3</th>\n",
              "      <td>haynes has so fanatically fetishized every bizarre old-movie idiosyncrasy with such monastic devotion you're not sure if you should applaud or look into having him committed .</td>\n",
              "      <td>pos</td>\n",
              "    </tr>\n",
              "    <tr>\n",
              "      <th>4</th>\n",
              "      <td>singer/composer bryan adams contributes a slew of songs  a few potential hits , a few more simply intrusive to the story  but the whole package certainly captures the intended , er , spirit of the piece .</td>\n",
              "      <td>pos</td>\n",
              "    </tr>\n",
              "    <tr>\n",
              "      <th>5</th>\n",
              "      <td>a refreshing korean film about five female high school friends who face an uphill battle when they try to take their relationships into deeper waters .</td>\n",
              "      <td>pos</td>\n",
              "    </tr>\n",
              "  </tbody>\n",
              "</table>"
            ]
          },
          "metadata": {}
        }
      ],
      "source": [
        "import pandas as pd\n",
        "import numpy as np\n",
        "import datasets\n",
        "from IPython.display import display, HTML\n",
        "\n",
        "def show_random_elements(dataset, num_examples=10):\n",
        "    \"\"\"Muestra num_examples ejemplos aleatorios del dataset.\n",
        "    \"\"\"\n",
        "    indices = np.random.randint(0, len(dataset), num_examples)\n",
        "    df = pd.DataFrame(dataset[indices])\n",
        "    for column, typ in dataset.features.items():\n",
        "        if isinstance(typ, datasets.ClassLabel):\n",
        "            df[column] = df[column].transform(lambda i: typ.names[i])\n",
        "    display(HTML(df.to_html()))\n",
        "\n",
        "np.random.seed(33)\n",
        "show_random_elements(dataset[\"train\"], num_examples=6)"
      ]
    },
    {
      "cell_type": "code",
      "execution_count": 9,
      "metadata": {
        "colab": {
          "base_uri": "https://localhost:8080/"
        },
        "id": "zN2rgvjBgjBs",
        "outputId": "0ef45057-86bf-4fd4-c6f3-cd3db45365dd"
      },
      "outputs": [
        {
          "output_type": "stream",
          "name": "stdout",
          "text": [
            "Distribucion de clases:\n",
            "train\n",
            "1    4265\n",
            "0    4265\n",
            "Name: count, dtype: int64\n",
            "----------------------------------------------------------------------\n",
            "validation\n",
            "1    533\n",
            "0    533\n",
            "Name: count, dtype: int64\n",
            "----------------------------------------------------------------------\n",
            "test\n",
            "1    533\n",
            "0    533\n",
            "Name: count, dtype: int64\n",
            "----------------------------------------------------------------------\n"
          ]
        }
      ],
      "source": [
        "print(\"Distribucion de clases:\")\n",
        "for k in dataset.keys():\n",
        "    print(k)\n",
        "    labels = dataset[k][\"label\"]\n",
        "    print(pd.Series(labels).value_counts())\n",
        "    print(\"-\"*70)"
      ]
    },
    {
      "cell_type": "code",
      "execution_count": 10,
      "metadata": {
        "colab": {
          "base_uri": "https://localhost:8080/"
        },
        "id": "RC9MimWBgjBt",
        "outputId": "2ab6a473-5745-4cb0-add8-904d9efde1ca"
      },
      "outputs": [
        {
          "output_type": "stream",
          "name": "stdout",
          "text": [
            "Largo de los documentos (en palabras), deciles:\n",
            "train\n",
            "[ 1  9 12 15 18 20 23 26 29 34 59]\n",
            "----------------------------------------------------------------------\n",
            "validation\n",
            "[ 1  8 12 16 18 21 23 26 29 34 54]\n",
            "----------------------------------------------------------------------\n",
            "test\n",
            "[ 3  9 13 15 18 20 23 26 29 34 52]\n",
            "----------------------------------------------------------------------\n"
          ]
        }
      ],
      "source": [
        "print(\"Largo de los documentos (en palabras), deciles:\")\n",
        "for k in dataset.keys():\n",
        "    print(k)\n",
        "    textos = dataset[k][\"text\"]\n",
        "    largos = pd.Series(textos).str.split().apply(len)\n",
        "    # print(largos.describe())\n",
        "    print(np.quantile(largos, q=np.arange(0, 1.1, .1)).astype(int))\n",
        "    print(\"-\"*70)"
      ]
    },
    {
      "cell_type": "markdown",
      "source": [
        "**PREGUNTA**: ¿para qué sirve mirar la distribución de clases?"
      ],
      "metadata": {
        "id": "UzutedrR__Gz"
      }
    },
    {
      "cell_type": "markdown",
      "metadata": {
        "id": "60Jw72ufgjBt"
      },
      "source": [
        "## Embeddings word2vec\n",
        "\n",
        "Vamos a extraer embeddings de las palabras con Word2Vec y entrenar una red feed-forward con una capa oculta.\n",
        "\n",
        "Usamos `gensim` para extraer los embeddings y `pytorch` para entrenar la red. Luego, cuando usemos transformers vamos a usar funciones de la librería `transformers` de HF que ayudan a automatizar algunas tareas."
      ]
    },
    {
      "cell_type": "code",
      "execution_count": 11,
      "metadata": {
        "colab": {
          "base_uri": "https://localhost:8080/"
        },
        "id": "jgxJLX6_gjBu",
        "outputId": "2bafc474-7972-423f-d215-eba1d04906e3"
      },
      "outputs": [
        {
          "output_type": "execute_result",
          "data": {
            "text/plain": [
              "dict_keys(['corpora', 'models'])"
            ]
          },
          "metadata": {},
          "execution_count": 11
        }
      ],
      "source": [
        "import gensim.downloader as api\n",
        "\n",
        "api.info().keys()"
      ]
    },
    {
      "cell_type": "code",
      "execution_count": 12,
      "metadata": {
        "colab": {
          "base_uri": "https://localhost:8080/"
        },
        "id": "27dR1huKgjBu",
        "outputId": "4a2aa412-7d72-4612-d4a7-c41f85efc2a4"
      },
      "outputs": [
        {
          "output_type": "execute_result",
          "data": {
            "text/plain": [
              "dict_keys(['fasttext-wiki-news-subwords-300', 'conceptnet-numberbatch-17-06-300', 'word2vec-ruscorpora-300', 'word2vec-google-news-300', 'glove-wiki-gigaword-50', 'glove-wiki-gigaword-100', 'glove-wiki-gigaword-200', 'glove-wiki-gigaword-300', 'glove-twitter-25', 'glove-twitter-50', 'glove-twitter-100', 'glove-twitter-200', '__testing_word2vec-matrix-synopsis'])"
            ]
          },
          "metadata": {},
          "execution_count": 12
        }
      ],
      "source": [
        "# modelos disponibles:\n",
        "api.info()[\"models\"].keys()"
      ]
    },
    {
      "cell_type": "markdown",
      "metadata": {
        "id": "xFzllnRggjBu"
      },
      "source": [
        "Cargamos los embeddings pre-entrenados, y analizamos el vocabulario y los embeddings de las palabras.\n",
        "\n",
        "**PREGUNTA**: ¿qué diferencias hay _grosso modo_ entre estos modelos? ¿qué quiere decir que son pre-entrenados?"
      ]
    },
    {
      "cell_type": "code",
      "execution_count": 13,
      "metadata": {
        "id": "Kpjcd1QKgjBv",
        "colab": {
          "base_uri": "https://localhost:8080/"
        },
        "outputId": "9b50be74-9644-4a43-f4c0-d5ee6a784b5d"
      },
      "outputs": [
        {
          "output_type": "stream",
          "name": "stdout",
          "text": [
            "[==================================================] 100.0% 1662.8/1662.8MB downloaded\n"
          ]
        }
      ],
      "source": [
        "# puede demorar unos 10 minutos...\n",
        "wv_model = api.load(\"word2vec-google-news-300\")"
      ]
    },
    {
      "cell_type": "code",
      "execution_count": 14,
      "metadata": {
        "colab": {
          "base_uri": "https://localhost:8080/"
        },
        "id": "c65vP5RtgjBv",
        "outputId": "665828e7-8837-4a1b-95c6-7b62fc16a26b"
      },
      "outputs": [
        {
          "output_type": "stream",
          "name": "stdout",
          "text": [
            "Tamaño del vocabulario:\n",
            "3000000\n",
            "Palabras más frecuentes:\n",
            "['</s>', 'in', 'for', 'that', 'is', 'on', '##', 'The', 'with', 'said', 'was', 'the', 'at', 'not', 'as', 'it', 'be', 'from', 'by', 'are']\n",
            "Palabras menos frecuentes:\n",
            "['malfunctioning_tin_whisker', 'Frequency_Converters', 'Commando_Battalions', 'Audi_A4_saloon', 'Cow_Plop_Bingo', 'sheepdog_herding', 'Shahid_Afridi_Rana_Naved', 'Anagnostaras_Adams', 'chairman_Ken_Dulieu', 'USA_TODAY_Reid_Cherner', 'Mauri_Liberati', 'Shilpa_Goenka', 'divider_pistons', 'Thirsty_Owl', 'righthander_Kyle_Drabek', 'RAFFAELE', 'Bim_Skala_Bim', 'Mezze_Cafe', 'pulverizes_boulders', 'snowcapped_Caucasus']\n"
          ]
        }
      ],
      "source": [
        "print(\"Tamaño del vocabulario:\")\n",
        "print(len(wv_model.index_to_key))\n",
        "\n",
        "print(\"Palabras más frecuentes:\")\n",
        "print(wv_model.index_to_key[:20])\n",
        "\n",
        "print(\"Palabras menos frecuentes:\")\n",
        "print(wv_model.index_to_key[-20:])"
      ]
    },
    {
      "cell_type": "code",
      "execution_count": 15,
      "metadata": {
        "colab": {
          "base_uri": "https://localhost:8080/"
        },
        "id": "8FRSzaLTgjBv",
        "outputId": "66d30fcd-323d-452d-d633-022e5bb465e9"
      },
      "outputs": [
        {
          "output_type": "stream",
          "name": "stdout",
          "text": [
            "the        in wv vocab: True\n",
            "The        in wv vocab: True\n",
            ".          in wv vocab: False\n",
            ",          in wv vocab: False\n",
            "and        in wv vocab: False\n",
            "xeneize    in wv vocab: False\n",
            "<unk>      in wv vocab: False\n",
            "<pad>      in wv vocab: False\n"
          ]
        }
      ],
      "source": [
        "tokens = [\"the\", \"The\", \".\", \",\", \"and\", \"xeneize\", \"<unk>\", \"<pad>\"]\n",
        "\n",
        "for token in tokens:\n",
        "    print(f\"{token:10s} in wv vocab: {token in wv_model}\")"
      ]
    },
    {
      "cell_type": "code",
      "execution_count": 16,
      "metadata": {
        "colab": {
          "base_uri": "https://localhost:8080/"
        },
        "id": "drenURt1gjBv",
        "outputId": "41098e36-823a-4cf3-e3a0-47b113a8d89b"
      },
      "outputs": [
        {
          "output_type": "stream",
          "name": "stdout",
          "text": [
            "(300,)\n",
            "300\n",
            "[-0.05419922  0.01708984 -0.00527954  0.33203125 -0.25      ]\n"
          ]
        }
      ],
      "source": [
        "# Extraemos el vector de una palabra:\n",
        "vec = wv_model[\"hello\"]\n",
        "print(vec.shape)\n",
        "print(wv_model.vector_size)\n",
        "print(vec[:5])"
      ]
    },
    {
      "cell_type": "markdown",
      "source": [
        "Podemos usar la similitud coseno para medir la cercanía entre palabras."
      ],
      "metadata": {
        "id": "HTVZhoMeUAII"
      }
    },
    {
      "cell_type": "code",
      "execution_count": 17,
      "metadata": {
        "colab": {
          "base_uri": "https://localhost:8080/"
        },
        "id": "s4VWZ4DhgjBw",
        "outputId": "f584604a-c4be-4b45-8d5e-b654fb346e4f"
      },
      "outputs": [
        {
          "output_type": "stream",
          "name": "stdout",
          "text": [
            "Prueba:\n",
            "cossim(vec_banana, vec_apple) = 0.5318\n"
          ]
        }
      ],
      "source": [
        "import numpy as np\n",
        "\n",
        "def cossim(v1, v2):\n",
        "    \"\"\"Calcula la similitud coseno entre dos vectores v1 y v2.\n",
        "    Args:\n",
        "        v1: vector 1\n",
        "        v2: vector 2\n",
        "    \"\"\"\n",
        "    producto_interno = np.dot(v1, v2)\n",
        "    norma_v1 = np.linalg.norm(v1)\n",
        "    norma_v2 = np.linalg.norm(v2)\n",
        "    return producto_interno / (norma_v1 * norma_v2)\n",
        "\n",
        "\n",
        "print(\"Prueba:\")\n",
        "vec_banana = wv_model[\"banana\"]\n",
        "vec_apple = wv_model[\"apple\"]\n",
        "print(f\"{cossim(vec_banana, vec_apple) = :.4f}\")"
      ]
    },
    {
      "cell_type": "markdown",
      "source": [
        "**PREGUNTA**: es una consigna en realidad: elegir una palabra en inglés ($w$), y otras tres que estén semánticamente asociadas en orden decreciente según la fuerza de la asociación ($x_1$,$x_2$,$x_3$). Calcular la similitud coseno entre $w$ y $x_i$ y verificar que la similitud en el espacio de los embeddings correlaciona con la similitud semántica _a priori_. ¿Cómo hizo word2vec para capturar estas relaciones?"
      ],
      "metadata": {
        "id": "IcbdHTx6sDkj"
      }
    },
    {
      "cell_type": "code",
      "source": [
        "# w = ...\n",
        "# x1 = ...\n",
        "# x2 = ...\n",
        "# x3 = ...\n",
        "\n",
        "# print(f\"{cossim(..., ...) = :.4f}\")\n",
        "# print(f\"{cossim(..., ...) = :.4f}\")\n",
        "# print(f\"{cossim(..., ...) = :.4f}\")"
      ],
      "metadata": {
        "id": "R6ybsgbpsBwy"
      },
      "execution_count": 18,
      "outputs": []
    },
    {
      "cell_type": "code",
      "execution_count": 19,
      "metadata": {
        "id": "ou7wYuvsgjBw"
      },
      "outputs": [],
      "source": [
        "def most_similar_by_vector(vec, top=None) -> dict:\n",
        "    \"\"\"Hallar las palabras más similares al vector vec.\n",
        "    Args:\n",
        "        vec: vector\n",
        "        top: número de palabras más similares a devolver\n",
        "    Imita el comportamiento de model.similar_by_vector(vec, topn=top)\n",
        "    Implementación ingenua que no paraleliza con multiplicación de matrices.\n",
        "    \"\"\"\n",
        "    similarities = {}\n",
        "    for w in wv_model.index_to_key:\n",
        "        similarities[w] = cossim(wv_model[w], vec)\n",
        "    sorted_similarities = dict(sorted(similarities.items(), key=lambda item: item[1], reverse=True))\n",
        "    if top is not None:\n",
        "        return dict(list(sorted_similarities.items())[:top])\n",
        "    else:\n",
        "        return sorted_similarities\n",
        "\n",
        "def most_similar(word, top=None) -> list:\n",
        "    \"\"\"Hallar las palabras más similares a una palabra dada.\n",
        "    Args:\n",
        "        word: palabra\n",
        "        top: número de palabras más similares a devolver\n",
        "    Imita a model.most_similar(word, topn=top)\n",
        "    \"\"\"\n",
        "    similarities = most_similar_by_vector(wv_model[word], top=None)\n",
        "    similarities.pop(word, None)\n",
        "    if top is not None:\n",
        "        return list(similarities.items())[:top]\n",
        "    else:\n",
        "        return list(similarities.items())"
      ]
    },
    {
      "cell_type": "code",
      "source": [
        "np.random.seed(33)\n",
        "random_vec = np.random.normal(size=wv_model.vector_size)\n",
        "print(most_similar_by_vector(random_vec, top=5))"
      ],
      "metadata": {
        "colab": {
          "base_uri": "https://localhost:8080/"
        },
        "id": "7iz0lyd9U0oc",
        "outputId": "2f27762b-ad68-476f-801e-ba086aeae161"
      },
      "execution_count": 20,
      "outputs": [
        {
          "output_type": "stream",
          "name": "stdout",
          "text": [
            "{'Dismount': 0.3143983186929963, 'Naming_Contest': 0.3033102125629838, 'MicroArray': 0.29091885853060184, 'Bivy': 0.289917005820241, 'H6': 0.2886864831536217}\n"
          ]
        }
      ]
    },
    {
      "cell_type": "code",
      "source": [
        "print(wv_model.most_similar(\"banana\", topn=5))"
      ],
      "metadata": {
        "colab": {
          "base_uri": "https://localhost:8080/"
        },
        "id": "5n20Y7zkwg54",
        "outputId": "59e2efd7-57c3-4970-c875-44a6156d45e7"
      },
      "execution_count": 21,
      "outputs": [
        {
          "output_type": "stream",
          "name": "stdout",
          "text": [
            "[('bananas', 0.7523775696754456), ('pineapple', 0.6587537527084351), ('mango', 0.6365211009979248), ('pineapples', 0.6313878297805786), ('papaya', 0.6063665747642517)]\n"
          ]
        }
      ]
    },
    {
      "cell_type": "code",
      "execution_count": 22,
      "metadata": {
        "colab": {
          "base_uri": "https://localhost:8080/"
        },
        "id": "gbORtxg9gjBw",
        "outputId": "b9167bbd-f1fd-4e7e-86f8-54388b634bcf"
      },
      "outputs": [
        {
          "output_type": "stream",
          "name": "stdout",
          "text": [
            "[('bananas', 0.75237757), ('pineapple', 0.6587538), ('mango', 0.63652116), ('pineapples', 0.6313878), ('papaya', 0.60636663)]\n"
          ]
        }
      ],
      "source": [
        "print(most_similar(\"banana\" , top=5))"
      ]
    },
    {
      "cell_type": "markdown",
      "source": [
        "**PREGUNTA**: ¿0.3 es una similitud alta o baja? ¿Y 0.7? ¿Y 0.9? ¿De qué depende esto?"
      ],
      "metadata": {
        "id": "lkGCjk431WRk"
      }
    },
    {
      "cell_type": "markdown",
      "source": [
        ">La idea es la siguiente:\n",
        ">\n",
        ">1. Hacer un **vocabulario** con las palabras del dataset de train. Usamos un corte por frecuencia para determinar cuándo una palabra es desconocida (token especial \"\\<unk\\>\"). También agregamos un token especial \"\\<pad\\>\" para rellenar las secuencias en el armado de los batches.\n",
        ">2. **Tokenizamos** las reviews y las convertimos en secuencias de índices. Cada índice representa una palabra dentro del vocabulario.\n",
        ">3. Armamos una **matriz de embeddings** de dimensión (n_vocab, embedding_dim) donde cada fila es el embedding de una palabra del vocabulario. Si la palabra está en el vocab de word2vec, usamos ese embedding; caso contrario, inicializamos aleatoriamente.\n",
        ">4. Armamos **batches** de secuencias de índices con **padding** i.e. rellenando las secuencias más cortas con el token \"\\<pad\\>\" para que todas tengan la misma longitud dentro del batch.\n",
        ">5. Definimos una **red de clasificación binaria** que toma como entrada un batch de secuencias de índices de dimensión (batch_size, max_seq_len) y devuelve un tensor de probabilidades de dimensión (batch_size, 2).\n",
        ">6. **Entrenamos** el modelo de clasificación lineal reajustando los embeddings y evaluamos su rendimiento."
      ],
      "metadata": {
        "id": "1yBEap_R-SAf"
      }
    },
    {
      "cell_type": "markdown",
      "metadata": {
        "id": "3UtHARt2gjBw"
      },
      "source": [
        "## Construcción del vocabulario y tokenización\n",
        "\n",
        "Para pasar de documentos a tokens y construir el vocabulario, usamos simplemente `split()` de Python. Vamos a considerar como parte del vocabulario todas las palabras que ocurran al menos dos veces."
      ]
    },
    {
      "cell_type": "code",
      "execution_count": 23,
      "metadata": {
        "id": "AJqn9d6jgjBx"
      },
      "outputs": [],
      "source": [
        "def create_vocab(dataset, min_frec=2):\n",
        "    \"\"\"Crea un vocabulario a partir de un dataset de Hugging Face.\n",
        "    Args:\n",
        "        dataset: una partición de un dataset de Hugging Face\n",
        "    Returns:\n",
        "        Dos diccionarios: token2idx (palabra -> índice) y idx2token (índice -> palabra)\n",
        "    \"\"\"\n",
        "    str2count = {}\n",
        "    for example in dataset[\"train\"]:\n",
        "        for token in example[\"text\"].split():\n",
        "            str2count[token] = str2count.get(token, 0) + 1\n",
        "    # filtrar por min_frec:\n",
        "    str2count = {token: count for token, count in str2count.items() if count >= min_frec}\n",
        "    # ordenar de mayor a menor frecuencia:\n",
        "    str2count = dict(sorted(str2count.items(), key=lambda x: x[1], reverse=True))\n",
        "    # Mapeamos cada token a un índice distinto\n",
        "    token2idx = {token: idx for idx, token in enumerate(str2count)}\n",
        "    # Agregamos \"<unk>\" y \"<pad>\" al vocab:\n",
        "    token2idx[\"<unk>\"] = len(str2count)\n",
        "    token2idx[\"<pad>\"] = len(str2count) + 1\n",
        "    # \"Invertir\" el diccionario:\n",
        "    idx2token = {idx: token for idx, token in enumerate(token2idx)}\n",
        "    return token2idx, idx2token\n",
        "\n",
        "\n",
        "token2idx, idx2token = create_vocab(dataset)"
      ]
    },
    {
      "cell_type": "code",
      "source": [
        "print(f\"vocab_size = {len(token2idx)}\")\n",
        "print(f\"1ros tokens = {list(token2idx.keys())[:10]}\")\n",
        "print(f\"úlimos tokens = {list(token2idx.keys())[-10:]}\")"
      ],
      "metadata": {
        "colab": {
          "base_uri": "https://localhost:8080/"
        },
        "id": "kcypF0fz72aM",
        "outputId": "96cfaee4-12ae-469d-ffbe-a107817418bc"
      },
      "execution_count": 24,
      "outputs": [
        {
          "output_type": "stream",
          "name": "stdout",
          "text": [
            "vocab_size = 8981\n",
            "1ros tokens = ['.', 'the', ',', 'a', 'and', 'of', 'to', 'is', 'in', 'that']\n",
            "úlimos tokens = ['melodramas', 'reactionary', 'heyday', 'denouement', 'snore', 'bray', 'glee', 'secondhand', '<unk>', '<pad>']\n"
          ]
        }
      ]
    },
    {
      "cell_type": "markdown",
      "source": [
        "Tokenizamos los documentos de todo el dataset (convertimos los strings en listas de índices)."
      ],
      "metadata": {
        "id": "-7bHPpP3_vQD"
      }
    },
    {
      "cell_type": "code",
      "source": [
        "# Tokenizamos todos los splits del dataset:\n",
        "def tokenize(example):\n",
        "    \"\"\"Procesa un example de un dataset de Hugging Face, tokenizando el texto\n",
        "    y convirtiendo tokens a ids. Agrega una columna \"input_ids\" al example con\n",
        "    un array de enteros.\n",
        "    \"\"\"\n",
        "    token_ids = [token2idx.get(token, token2idx[\"<unk>\"]) for token in example[\"text\"].split()]\n",
        "    return {\"input_ids\": np.array(token_ids, dtype=np.int64)}\n",
        "\n",
        "dataset = dataset.map(tokenize)\n",
        "dataset"
      ],
      "metadata": {
        "colab": {
          "base_uri": "https://localhost:8080/",
          "height": 356,
          "referenced_widgets": [
            "8697c0a27488406eb278d410d517f503",
            "7d55b1a579df436e81393d83c38047a2",
            "c98bd1161adc4af9b9d494dbff7bf251",
            "57a960c102f343e687a8126c139763f7",
            "a844a212adf5499dbcdb99eeda7f1a94",
            "6f26d96c625a4512924c1413a5d1fc03",
            "95c4f513d7ce42f7850a163bff3439c5",
            "3a391a9fa6e943bc96ae7beacdde8f1f",
            "2afd6a105e204343b90a6cb1f83065cd",
            "35bb45591b5c4de0af1012f2161768e2",
            "9082e20e8bbd448985b0fa44ac496a39",
            "3b305288d2514bdca4e1d0c58f64692d",
            "943a0dbdc5744d1280507beaa53ba852",
            "47bbed8e6d034deb98d0f792842a0841",
            "6528cd461ddb4f0bb5312dd93a72c8a5",
            "e519715662f5455d88aa7fd917f805bf",
            "24bb7b4379a041aa847de1e374e30e28",
            "5be8bda604e844e5bfc18c6e0851db80",
            "7cccb9b908e7486289ee4585fc8aecdd",
            "cb6026d4dacb40ea8c94e8b327db671d",
            "0195ce00e3b7469cb7312caaffe2527c",
            "5c86dcd9a1aa43bba8fbd262d2eba1b1",
            "0683b546010c460daabf6e5c0687dd32",
            "7291b4f8ee084333900f34cb686b88f6",
            "35f8db472e1d4b63a1b1a6b141224c5d",
            "4adec6a13d2443b999961c98f071838b",
            "4117883eabe242c39e6f6958817ab69d",
            "e45a31d2cca549e18de6d8a33f079dec",
            "a95fd27e04244c788c76e46130962b7a",
            "0ce5af03e2d84ab28e5d09d9a2190849",
            "52e70cb6bcb34116902bc7fbda05bf11",
            "a4b728cab26d4a9b83b77596f0754ab5",
            "10f68df12cec43b698c09276c00e1ca6"
          ]
        },
        "id": "7X6DpqBaD8jS",
        "outputId": "de2251f6-f6a4-4d41-ddff-dbc93a442470"
      },
      "execution_count": 25,
      "outputs": [
        {
          "output_type": "display_data",
          "data": {
            "text/plain": [
              "Map:   0%|          | 0/8530 [00:00<?, ? examples/s]"
            ],
            "application/vnd.jupyter.widget-view+json": {
              "version_major": 2,
              "version_minor": 0,
              "model_id": "8697c0a27488406eb278d410d517f503"
            }
          },
          "metadata": {}
        },
        {
          "output_type": "display_data",
          "data": {
            "text/plain": [
              "Map:   0%|          | 0/1066 [00:00<?, ? examples/s]"
            ],
            "application/vnd.jupyter.widget-view+json": {
              "version_major": 2,
              "version_minor": 0,
              "model_id": "3b305288d2514bdca4e1d0c58f64692d"
            }
          },
          "metadata": {}
        },
        {
          "output_type": "display_data",
          "data": {
            "text/plain": [
              "Map:   0%|          | 0/1066 [00:00<?, ? examples/s]"
            ],
            "application/vnd.jupyter.widget-view+json": {
              "version_major": 2,
              "version_minor": 0,
              "model_id": "0683b546010c460daabf6e5c0687dd32"
            }
          },
          "metadata": {}
        },
        {
          "output_type": "execute_result",
          "data": {
            "text/plain": [
              "DatasetDict({\n",
              "    train: Dataset({\n",
              "        features: ['text', 'label', 'input_ids'],\n",
              "        num_rows: 8530\n",
              "    })\n",
              "    validation: Dataset({\n",
              "        features: ['text', 'label', 'input_ids'],\n",
              "        num_rows: 1066\n",
              "    })\n",
              "    test: Dataset({\n",
              "        features: ['text', 'label', 'input_ids'],\n",
              "        num_rows: 1066\n",
              "    })\n",
              "})"
            ]
          },
          "metadata": {},
          "execution_count": 25
        }
      ]
    },
    {
      "cell_type": "code",
      "source": [
        "# en cada split:\n",
        "# Calculamos la proporción de \"<unk>\" y de tokens que no están en w2v vocab.\n",
        "for k in dataset.keys():\n",
        "    print(k)\n",
        "    all_input_ids = np.hstack(dataset[k][\"input_ids\"])\n",
        "    all_tokens = [idx2token[idx] for idx in all_input_ids]\n",
        "    token_counts = pd.Series(all_input_ids).value_counts(normalize=True)\n",
        "    unk_count = token_counts.get(token2idx[\"<unk>\"], 0)\n",
        "    print(f\"{unk_count = :.2%}\")\n",
        "    not_in_wv_count = np.mean([token not in wv_model for token in all_tokens])\n",
        "    print(f\"{not_in_wv_count = :.2%}\")\n",
        "    print(\"-\"*70)"
      ],
      "metadata": {
        "colab": {
          "base_uri": "https://localhost:8080/"
        },
        "id": "9MGI951wEnDD",
        "outputId": "f48f7e0d-c45a-45a5-ec15-7ae0efbe3cb5"
      },
      "execution_count": 26,
      "outputs": [
        {
          "output_type": "stream",
          "name": "stdout",
          "text": [
            "train\n",
            "unk_count = 5.57%\n",
            "not_in_wv_count = 30.13%\n",
            "----------------------------------------------------------------------\n",
            "validation\n",
            "unk_count = 9.28%\n",
            "not_in_wv_count = 33.27%\n",
            "----------------------------------------------------------------------\n",
            "test\n",
            "unk_count = 8.88%\n",
            "not_in_wv_count = 32.99%\n",
            "----------------------------------------------------------------------\n"
          ]
        }
      ]
    },
    {
      "cell_type": "code",
      "source": [
        "# Veamos un ejemplo:\n",
        "example = dataset[\"validation\"][0]\n",
        "for token, id_ in zip(example[\"text\"].split(), example[\"input_ids\"]):\n",
        "    in_wv = token in wv_model\n",
        "    print(f\"{token:16s} --> {id_:6d} (in wv: {in_wv})\")"
      ],
      "metadata": {
        "colab": {
          "base_uri": "https://localhost:8080/"
        },
        "id": "Kgj2F_lrEfJo",
        "outputId": "35951393-dea2-4616-c03a-b96546dd1404"
      },
      "execution_count": 27,
      "outputs": [
        {
          "output_type": "stream",
          "name": "stdout",
          "text": [
            "compassionately  -->   8979 (in wv: True)\n",
            "explores         -->   2818 (in wv: True)\n",
            "the              -->      1 (in wv: True)\n",
            "seemingly        -->   2427 (in wv: True)\n",
            "irreconcilable   -->   8979 (in wv: True)\n",
            "situation        -->    835 (in wv: True)\n",
            "between          -->    153 (in wv: True)\n",
            "conservative     -->   3579 (in wv: True)\n",
            "christian        -->   2129 (in wv: True)\n",
            "parents          -->    673 (in wv: True)\n",
            "and              -->      4 (in wv: False)\n",
            "their            -->     64 (in wv: True)\n",
            "estranged        -->   8979 (in wv: True)\n",
            "gay              -->   1137 (in wv: True)\n",
            "and              -->      4 (in wv: False)\n",
            "lesbian          -->   8979 (in wv: True)\n",
            "children         -->    463 (in wv: True)\n",
            ".                -->      0 (in wv: False)\n"
          ]
        }
      ]
    },
    {
      "cell_type": "markdown",
      "metadata": {
        "id": "JAQ2_rasgjBx"
      },
      "source": [
        "## Matriz de embeddings\n",
        "\n",
        "Preparamos la matriz de embeddings. Si un token está en el vocab de w2v, inicializamos con ese vector. Caso contrario, usamos inicialización random. Para \"\\<pad\\>\" usamos 0s, y para \"\\<unk\\>\", el promedio de todos los embeddings."
      ]
    },
    {
      "cell_type": "code",
      "execution_count": 30,
      "metadata": {
        "id": "Yah60WkVgjBy",
        "colab": {
          "base_uri": "https://localhost:8080/"
        },
        "outputId": "a94ded95-627e-4bb0-fefe-05b5f6d16014"
      },
      "outputs": [
        {
          "output_type": "stream",
          "name": "stdout",
          "text": [
            "Primeros valores de la matriz de embeddings:\n",
            "tensor([[ 0.6014,  0.1087, -0.4499,  0.7841,  0.6550],\n",
            "        [ 0.0801,  0.1050,  0.0498,  0.0535, -0.0674],\n",
            "        [ 0.3890, -0.3511, -0.5480,  0.2813, -0.2337],\n",
            "        [ 0.6605,  1.0803,  1.0876, -0.1662, -0.2425],\n",
            "        [-0.0683,  0.6505,  0.3341, -0.8173,  1.4925]])\n"
          ]
        }
      ],
      "source": [
        "def create_embedding_matrix(wv_model, token2idx):\n",
        "    \"\"\"Crea una matriz de embeddings de dimensión (vocab_size, embedding_dim)\n",
        "    donde cada fila es el embedding de una palabra del vocabulario.\n",
        "    Args:\n",
        "        wv_model: modelo word2vec\n",
        "        token2idx: vocab (diccionario que mapea tokens a índices)\n",
        "    \"\"\"\n",
        "    vocab_size = len(token2idx)\n",
        "    embedding_dim = wv_model.vector_size\n",
        "    embedding_matrix = torch.randn(vocab_size, embedding_dim) # random normal(0, 1)\n",
        "    for token, idx in token2idx.items():\n",
        "        if token in wv_model:\n",
        "            embedding_matrix[idx] = torch.tensor(wv_model[token])\n",
        "    embedding_matrix[token2idx[\"<pad>\"]] = torch.zeros(embedding_dim)\n",
        "    embedding_matrix[token2idx[\"<unk>\"]] = embedding_matrix.mean(dim=0)\n",
        "    return embedding_matrix\n",
        "\n",
        "\n",
        "torch.manual_seed(33)\n",
        "embedding_matrix = create_embedding_matrix(wv_model, token2idx)\n",
        "print(\"Primeros valores de la matriz de embeddings:\")\n",
        "print(embedding_matrix[:5, :5])"
      ]
    },
    {
      "cell_type": "markdown",
      "source": [
        "**PREGUNTA**: ¿qué dimensiones tiene la matriz de embeddings? ¿Qué representan las filas y las columnas?"
      ],
      "metadata": {
        "id": "yNhXhHZx3OZL"
      }
    },
    {
      "cell_type": "markdown",
      "metadata": {
        "id": "q2euSqSMgjBy"
      },
      "source": [
        "## Armado de _batches_\n",
        "\n",
        "Armamos los batches para entrenar y para evaluar el modelo. Para esto\n",
        "\n",
        "* Usamos la clase `DataLoader` de PyTorch. En cada iteración, el `DataLoader` nos devuelve un batch de ejemplos.\n",
        "* Definimos una función `collate_fn` que se encarga de preparar los batches. En este caso, se encarga de rellenar las secuencias con el token \"\\<pad\\>\" para que todas tengan la misma longitud dentro de un batch."
      ]
    },
    {
      "cell_type": "markdown",
      "source": [
        "**PREGUNTA**: ¿por qué hacemos procesamiento en batches?"
      ],
      "metadata": {
        "id": "g1rkfk243wnK"
      }
    },
    {
      "cell_type": "code",
      "execution_count": 31,
      "metadata": {
        "id": "VQCv3dDhgjBy"
      },
      "outputs": [],
      "source": [
        "from torch.nn.utils.rnn import pad_sequence\n",
        "from torch.utils.data import DataLoader\n",
        "\n",
        "def collate_fn(examples):\n",
        "    \"\"\"Función que se pasa a DataLoader para que se encargue de hacer padding\n",
        "    de las secuencias.\n",
        "    Devuelve un diccionario con los tensores de las secuencias de texto,\n",
        "    las longitudes de las secuencias y las etiquetas. Necesitamos las longitudes\n",
        "    para poder hacer pooling en la capa de embeddings de manera correcta.\n",
        "    \"\"\"\n",
        "    input_ids = [example[\"input_ids\"] for example in examples]\n",
        "    input_ids = pad_sequence(input_ids, batch_first=True, padding_value=token2idx[\"<pad>\"])\n",
        "    # batch_first=True: devuelve tensor con batch_size como 1ra dim.\n",
        "    inputs_lengths = torch.tensor([len(example[\"input_ids\"]) for example in examples], dtype=torch.long)\n",
        "    labels = torch.tensor([example[\"label\"] for example in examples], dtype=torch.long)\n",
        "    return {\"input_ids\": input_ids, \"inputs_lengths\": inputs_lengths, \"labels\": labels}"
      ]
    },
    {
      "cell_type": "code",
      "source": [
        "batch_size = 32\n",
        "dataset.set_format(\"torch\", columns=[\"input_ids\", \"label\"])\n",
        "\n",
        "train_loader = DataLoader(dataset[\"train\"], batch_size=batch_size, shuffle=True, collate_fn=collate_fn)\n",
        "val_loader = DataLoader(dataset[\"validation\"], batch_size=batch_size, shuffle=False, collate_fn=collate_fn)\n",
        "test_loader = DataLoader(dataset[\"test\"], batch_size=batch_size, shuffle=False, collate_fn=collate_fn)"
      ],
      "metadata": {
        "id": "EskCrQNAN4SY"
      },
      "execution_count": 32,
      "outputs": []
    },
    {
      "cell_type": "code",
      "execution_count": 33,
      "metadata": {
        "id": "sVJ_V6pQgjBy",
        "colab": {
          "base_uri": "https://localhost:8080/"
        },
        "outputId": "c4d0c5a9-571f-4a84-a4a9-c77473b07806"
      },
      "outputs": [
        {
          "output_type": "stream",
          "name": "stdout",
          "text": [
            "batch 0\n",
            "Shapes = [torch.Size([32, 43]), torch.Size([32]), torch.Size([32])]\n",
            "{'input_ids': tensor([[4318,  294,   17,  ...,   26,  742,    0],\n",
            "        [   3, 2078,    2,  ..., 8980, 8980, 8980],\n",
            "        [  14, 1228,  181,  ..., 8980, 8980, 8980],\n",
            "        ...,\n",
            "        [ 268,  583,   31,  ..., 8980, 8980, 8980],\n",
            "        [  13, 3922,  891,  ..., 8980, 8980, 8980],\n",
            "        [   0,    0,    0,  ..., 8980, 8980, 8980]]), 'inputs_lengths': tensor([43, 16, 26, 33, 23, 11,  9, 17, 13, 15, 20, 18, 12, 28, 12, 36, 19,  7,\n",
            "        29, 19, 18, 18, 17, 14,  7, 21, 34,  8, 23, 26, 17,  5]), 'labels': tensor([0, 0, 1, 1, 1, 1, 1, 0, 1, 1, 0, 1, 0, 1, 1, 1, 0, 1, 0, 1, 1, 0, 0, 1,\n",
            "        0, 1, 1, 0, 1, 1, 1, 0])}\n",
            "batch 1\n",
            "Shapes = [torch.Size([32, 37]), torch.Size([32]), torch.Size([32])]\n",
            "{'input_ids': tensor([[  44,   45, 1226,  ..., 8980, 8980, 8980],\n",
            "        [  10,  170,   28,  ..., 8980, 8980, 8980],\n",
            "        [ 157,    5,   17,  ..., 8980, 8980, 8980],\n",
            "        ...,\n",
            "        [ 108,   29,  104,  ..., 8980, 8980, 8980],\n",
            "        [  95,   76,   29,  ..., 8980, 8980, 8980],\n",
            "        [  40,  634,    2,  ..., 8980, 8980, 8980]]), 'inputs_lengths': tensor([ 9, 22, 18,  9, 32, 19, 25, 11, 35, 23, 23, 10,  7, 20, 37, 22, 18,  8,\n",
            "        20, 36, 20, 18, 13, 26,  6, 22, 13,  9, 28, 25, 21, 18]), 'labels': tensor([1, 1, 0, 1, 1, 1, 1, 0, 1, 0, 0, 1, 0, 1, 1, 0, 0, 1, 0, 1, 1, 0, 1, 1,\n",
            "        1, 1, 0, 1, 1, 1, 1, 0])}\n"
          ]
        }
      ],
      "source": [
        "# Veamos los primeros dos batches de entrenamiento:\n",
        "torch.manual_seed(33)\n",
        "for i, data in enumerate(train_loader):\n",
        "    print(f\"batch {i}\")\n",
        "    print(f\"Shapes = {[s.shape for s in data.values()]}\")\n",
        "    print(data)\n",
        "    if i == 1:\n",
        "        break"
      ]
    },
    {
      "cell_type": "markdown",
      "source": [
        "Definimos la red neuronal."
      ],
      "metadata": {
        "id": "c7RxrazHduse"
      }
    },
    {
      "cell_type": "code",
      "execution_count": 34,
      "metadata": {
        "id": "5UhGXCCTgjBz"
      },
      "outputs": [],
      "source": [
        "from torch import nn\n",
        "\n",
        "class FFNModel(nn.Module):\n",
        "    \"\"\"Red Feed-Forward de dos capas (hidden layer + output layer).\n",
        "    \"\"\"\n",
        "    def __init__(self, vocab_size, embedding_dim, pad_idx, hidden_size, num_labels,\n",
        "                 embedding_matrix=None, freeze_embeddings=False):\n",
        "        \"\"\"Args:\n",
        "            vocab_size: tamaño del vocabulario\n",
        "            embedding_dim: dimensión de los embeddings\n",
        "            pad_idx: índice del token \"<pad>\"\n",
        "            hidden_size: dimensión de la capa oculta\n",
        "            num_labels: número de clases de salida\n",
        "            embedding_matrix: matriz de embeddings pre-entrenadas\n",
        "            freeze_embeddings: si True, no se entrena la matriz de embeddings\n",
        "        \"\"\"\n",
        "        super().__init__()\n",
        "        if embedding_matrix is not None:\n",
        "            self.embedding = nn.Embedding.from_pretrained(\n",
        "                embedding_matrix, padding_idx=pad_idx,\n",
        "                freeze=freeze_embeddings\n",
        "            )\n",
        "        else:\n",
        "            self.embedding = nn.Embedding(vocab_size, embedding_dim, padding_idx=pad_idx)\n",
        "        self.fc = nn.Linear(embedding_dim, hidden_size)\n",
        "        self.clf = nn.Linear(hidden_size, num_labels)\n",
        "\n",
        "    def forward(self, text, text_lengths):\n",
        "        \"\"\"Dimensiones de los tensores:\n",
        "            text: (batch_size, seq_len)\n",
        "            text_lengths: (batch_size,)\n",
        "        Returns:\n",
        "            Un tensor de **logits** (batch_size, num_labels)\n",
        "        \"\"\"\n",
        "        embeddings = self.embedding(text) # (batch_size, seq_len, embedding_dim)\n",
        "        pooled_embeddings = embeddings.sum(dim=1) / text_lengths.unsqueeze(1) # (batch_size, embedding_dim)\n",
        "        z = torch.relu(self.fc(pooled_embeddings)) # (batch_size, hidden_size)\n",
        "        logits = self.clf(z) # (batch_size, num_labels)\n",
        "        return logits"
      ]
    },
    {
      "cell_type": "markdown",
      "source": [
        "**PREGUNTA**: ¿cómo hacemos para procesar textos de distinta longitud?\n",
        "\n",
        "**PREGUNTA**: ¿qué hace esto `embeddings.sum(dim=1) / text_lengths.unsqueeze(1)`?\n",
        "\n",
        "**PREGUNTA**: ¿qué va a hacer el modelo si aparece un token nuevo/desconocido (OOV) en la inferencia? ¿Y si es un token conocido pero que no tiene embedding w2v?"
      ],
      "metadata": {
        "id": "Zb3dHNV46lhk"
      }
    },
    {
      "cell_type": "markdown",
      "source": [
        "## Entrenamiento"
      ],
      "metadata": {
        "id": "FnJf3IFqAbSq"
      }
    },
    {
      "cell_type": "code",
      "execution_count": 35,
      "metadata": {
        "id": "roKSwM98gjBz"
      },
      "outputs": [],
      "source": [
        "ffn_model = FFNModel(\n",
        "    vocab_size=len(token2idx),\n",
        "    embedding_dim=wv_model.vector_size,\n",
        "    pad_idx=token2idx[\"<pad>\"],\n",
        "    hidden_size=128,\n",
        "    num_labels=dataset[\"train\"].features[\"label\"].num_classes,\n",
        "    embedding_matrix=embedding_matrix,\n",
        "    freeze_embeddings=False\n",
        ")"
      ]
    },
    {
      "cell_type": "markdown",
      "metadata": {
        "id": "_gB4mIQ5gjBz"
      },
      "source": [
        "Definimos `CrossEntropyLoss` como función de pérdida (está diseñada para trabajar con los logits de salida del modelo, _no_ las probabilidades), y el optimizador Adam, y una función para computar las métricas de evaluación que nos interesan."
      ]
    },
    {
      "cell_type": "code",
      "execution_count": 36,
      "metadata": {
        "id": "2bQUfIAMgjB0"
      },
      "outputs": [],
      "source": [
        "from torch import optim\n",
        "\n",
        "loss_fn = nn.CrossEntropyLoss()\n",
        "optimizer = optim.Adam(ffn_model.parameters(), lr=1e-3)"
      ]
    },
    {
      "cell_type": "code",
      "execution_count": 37,
      "metadata": {
        "colab": {
          "base_uri": "https://localhost:8080/"
        },
        "id": "Hd_TWMyWgjB0",
        "outputId": "6190c5bb-fa12-4707-da36-20921478fa99"
      },
      "outputs": [
        {
          "output_type": "execute_result",
          "data": {
            "text/plain": [
              "{'accuracy': 1.0, 'cross_entropy': 0.15341037511825562}"
            ]
          },
          "metadata": {},
          "execution_count": 37
        }
      ],
      "source": [
        "def compute_metrics(logits, labels):\n",
        "    \"\"\"Args:\n",
        "        logits: array shape (batch_size, num_labels)\n",
        "        labels: array shape (batch_size,)\n",
        "    \"\"\"\n",
        "    # Usamos torch para usar loss_fn, pero podriamos usar cpu y numpy\n",
        "    if not isinstance(logits, torch.Tensor):\n",
        "        logits = torch.tensor(logits)\n",
        "    if not isinstance(labels, torch.Tensor):\n",
        "        labels = torch.tensor(labels)\n",
        "    predictions = torch.argmax(logits, dim=-1)\n",
        "    accuracy = (predictions == labels).float().mean().item()\n",
        "    cross_entropy = loss_fn(logits, labels).item()\n",
        "    return {\"accuracy\": accuracy, \"cross_entropy\": cross_entropy}\n",
        "\n",
        "# por ejemplo:\n",
        "predicciones_ = [[1.2, -1.2], [-.7, .7], [.9, -.9]] # 3 muestras, dos logits por muestra\n",
        "labels_ = [0, 1, 0] # 3 muestras, 1 label por muestra\n",
        "compute_metrics(predicciones_, labels_)"
      ]
    },
    {
      "cell_type": "code",
      "execution_count": 38,
      "metadata": {
        "id": "RDDkS5NSgjB0"
      },
      "outputs": [],
      "source": [
        "ffn_model = ffn_model.to(device)"
      ]
    },
    {
      "cell_type": "code",
      "execution_count": 39,
      "metadata": {
        "id": "OU83-acdgjB1"
      },
      "outputs": [],
      "source": [
        "# El loop de entrenamiento:\n",
        "from tqdm import tqdm\n",
        "\n",
        "def validate(model, loader):\n",
        "    \"\"\"Función de evaluación en dataset de validación para ser ejecutada\n",
        "    cada N steps de entrenamiento.\n",
        "    Args:\n",
        "        model: modelo\n",
        "        loader: loader de validación\n",
        "    Returns:\n",
        "        Un diccionario con las métricas (nombre -> valor)\n",
        "    \"\"\"\n",
        "    all_labels = []\n",
        "    all_logits = []\n",
        "    model.eval()\n",
        "    with torch.inference_mode():\n",
        "        for batch in loader:\n",
        "            input_ids = batch[\"input_ids\"].to(device)\n",
        "            inputs_lengths = batch[\"inputs_lengths\"].to(device)\n",
        "            labels = batch[\"labels\"].to(device)\n",
        "            logits = model(input_ids, inputs_lengths)\n",
        "            all_labels.append(labels)\n",
        "            all_logits.append(logits)\n",
        "    all_labels = torch.cat(all_labels)\n",
        "    all_logits = torch.cat(all_logits)\n",
        "    metrics = compute_metrics(all_logits, all_labels)\n",
        "    return metrics\n",
        "\n",
        "\n",
        "def train_epoch(model, optimizer, train_loader, val_loader, best_val_acc, eval_steps=50):\n",
        "    \"\"\"Entrenar el modelo un epoch.\n",
        "    Args:\n",
        "        model: modelo\n",
        "        optimizer: optimizador\n",
        "        train_loader: loader de entrenamiento\n",
        "        val_loader: loader de validación\n",
        "        best_val_acc: mejor valor de accuracy en validación\n",
        "        eval_steps: número de steps entre evaluaciones\n",
        "    Returns:\n",
        "        Mejor valor de accuracy en validación\n",
        "    \"\"\"\n",
        "    model.train()\n",
        "    steps_done = 0\n",
        "    total_loss = 0\n",
        "    n_steps = len(train_loader)\n",
        "    for batch in tqdm(train_loader, total=n_steps, position=0):\n",
        "        input_ids = batch[\"input_ids\"].to(device)\n",
        "        inputs_lengths = batch[\"inputs_lengths\"].to(device)\n",
        "        labels = batch[\"labels\"].to(device)\n",
        "        optimizer.zero_grad()\n",
        "        logits = model(input_ids, inputs_lengths)\n",
        "        batch_loss = loss_fn(logits, labels)\n",
        "        batch_loss.backward()\n",
        "        optimizer.step()\n",
        "        total_loss += batch_loss.item()\n",
        "        steps_done += 1\n",
        "        if steps_done % eval_steps == 0:\n",
        "            metrics = validate(model, val_loader)\n",
        "            train_loss = total_loss / steps_done\n",
        "            print(f\"\\n[steps={steps_done}] train_loss: {train_loss:.4f}, val_acc: {metrics['accuracy']:.4f}\")\n",
        "            if metrics[\"accuracy\"] > best_val_acc:\n",
        "                best_val_acc = metrics[\"accuracy\"]\n",
        "                print(f\">>> New best accuracy: {best_val_acc:.4f}\")\n",
        "                torch.save(model.state_dict(), \"best_model.pt\")\n",
        "            model.train()\n",
        "    return best_val_acc\n",
        "\n",
        "\n",
        "def train(model, optimizer, train_loader, val_loader, n_epochs):\n",
        "    \"\"\"Entrena el modelo durante n_epochs.\n",
        "    Args:\n",
        "        model: modelo\n",
        "        optimizer: optimizador\n",
        "        train_loader: loader de entrenamiento\n",
        "        val_loader: loader de validación\n",
        "        n_epochs: número de epochs\n",
        "    \"\"\"\n",
        "    best_val_acc = -999\n",
        "    for epoch in range(n_epochs):\n",
        "        print(f\"Epoch {epoch} / {n_epochs}\")\n",
        "        best_val_acc = train_epoch(\n",
        "            model, optimizer, train_loader, val_loader, best_val_acc=best_val_acc\n",
        "        )\n",
        "        print(\"-\"*70)"
      ]
    },
    {
      "cell_type": "markdown",
      "source": [
        "**PREGUNTA**: ¿para qué sirve torch.inference_mode()? ¿para qué sirve model.eval()?"
      ],
      "metadata": {
        "id": "2ya801tD5V8T"
      }
    },
    {
      "cell_type": "code",
      "source": [
        "n_epochs = 3\n",
        "optimization_steps = len(train_loader) * n_epochs\n",
        "print(f\"epochs = {n_epochs}, total steps = {optimization_steps}\")"
      ],
      "metadata": {
        "colab": {
          "base_uri": "https://localhost:8080/"
        },
        "id": "w9w0co2ofVZB",
        "outputId": "66ed5e54-a318-4a1a-94cf-557f774ce19c"
      },
      "execution_count": 40,
      "outputs": [
        {
          "output_type": "stream",
          "name": "stdout",
          "text": [
            "epochs = 3, total steps = 801\n"
          ]
        }
      ]
    },
    {
      "cell_type": "code",
      "execution_count": 41,
      "metadata": {
        "colab": {
          "base_uri": "https://localhost:8080/"
        },
        "id": "M15wwqKGgjB1",
        "outputId": "07e43ddb-9b98-46cc-e4e6-dcaf14622642"
      },
      "outputs": [
        {
          "output_type": "stream",
          "name": "stdout",
          "text": [
            "Epoch 0 / 3\n"
          ]
        },
        {
          "output_type": "stream",
          "name": "stderr",
          "text": [
            " 21%|██        | 55/267 [00:02<00:09, 21.51it/s]"
          ]
        },
        {
          "output_type": "stream",
          "name": "stdout",
          "text": [
            "\n",
            "[steps=50] train_loss: 0.6850, val_acc: 0.5863\n",
            ">>> New best accuracy: 0.5863\n"
          ]
        },
        {
          "output_type": "stream",
          "name": "stderr",
          "text": [
            " 39%|███▉      | 105/267 [00:04<00:06, 25.65it/s]"
          ]
        },
        {
          "output_type": "stream",
          "name": "stdout",
          "text": [
            "\n",
            "[steps=100] train_loss: 0.6766, val_acc: 0.6032\n",
            ">>> New best accuracy: 0.6032\n"
          ]
        },
        {
          "output_type": "stream",
          "name": "stderr",
          "text": [
            " 58%|█████▊    | 156/267 [00:05<00:03, 28.21it/s]"
          ]
        },
        {
          "output_type": "stream",
          "name": "stdout",
          "text": [
            "\n",
            "[steps=150] train_loss: 0.6649, val_acc: 0.6735\n",
            ">>> New best accuracy: 0.6735\n"
          ]
        },
        {
          "output_type": "stream",
          "name": "stderr",
          "text": [
            " 77%|███████▋  | 206/267 [00:07<00:02, 29.54it/s]"
          ]
        },
        {
          "output_type": "stream",
          "name": "stdout",
          "text": [
            "\n",
            "[steps=200] train_loss: 0.6472, val_acc: 0.7214\n",
            ">>> New best accuracy: 0.7214\n"
          ]
        },
        {
          "output_type": "stream",
          "name": "stderr",
          "text": [
            " 96%|█████████▌| 255/267 [00:08<00:00, 29.39it/s]"
          ]
        },
        {
          "output_type": "stream",
          "name": "stdout",
          "text": [
            "\n",
            "[steps=250] train_loss: 0.6238, val_acc: 0.7176\n"
          ]
        },
        {
          "output_type": "stream",
          "name": "stderr",
          "text": [
            "100%|██████████| 267/267 [00:09<00:00, 29.22it/s]\n"
          ]
        },
        {
          "output_type": "stream",
          "name": "stdout",
          "text": [
            "----------------------------------------------------------------------\n",
            "Epoch 1 / 3\n"
          ]
        },
        {
          "output_type": "stream",
          "name": "stderr",
          "text": [
            " 20%|█▉        | 53/267 [00:01<00:08, 26.20it/s]"
          ]
        },
        {
          "output_type": "stream",
          "name": "stdout",
          "text": [
            "\n",
            "[steps=50] train_loss: 0.3943, val_acc: 0.7505\n",
            ">>> New best accuracy: 0.7505\n"
          ]
        },
        {
          "output_type": "stream",
          "name": "stderr",
          "text": [
            " 40%|███▉      | 106/267 [00:03<00:06, 25.04it/s]"
          ]
        },
        {
          "output_type": "stream",
          "name": "stdout",
          "text": [
            "\n",
            "[steps=100] train_loss: 0.3804, val_acc: 0.7336\n"
          ]
        },
        {
          "output_type": "stream",
          "name": "stderr",
          "text": [
            " 57%|█████▋    | 153/267 [00:05<00:05, 20.64it/s]"
          ]
        },
        {
          "output_type": "stream",
          "name": "stdout",
          "text": [
            "\n",
            "[steps=150] train_loss: 0.3785, val_acc: 0.7580\n",
            ">>> New best accuracy: 0.7580\n"
          ]
        },
        {
          "output_type": "stream",
          "name": "stderr",
          "text": [
            " 76%|███████▌  | 203/267 [00:06<00:02, 26.72it/s]"
          ]
        },
        {
          "output_type": "stream",
          "name": "stdout",
          "text": [
            "\n",
            "[steps=200] train_loss: 0.3838, val_acc: 0.7608\n",
            ">>> New best accuracy: 0.7608\n"
          ]
        },
        {
          "output_type": "stream",
          "name": "stderr",
          "text": [
            " 96%|█████████▌| 256/267 [00:08<00:00, 31.24it/s]"
          ]
        },
        {
          "output_type": "stream",
          "name": "stdout",
          "text": [
            "\n",
            "[steps=250] train_loss: 0.3874, val_acc: 0.7542\n"
          ]
        },
        {
          "output_type": "stream",
          "name": "stderr",
          "text": [
            "100%|██████████| 267/267 [00:08<00:00, 32.13it/s]\n"
          ]
        },
        {
          "output_type": "stream",
          "name": "stdout",
          "text": [
            "----------------------------------------------------------------------\n",
            "Epoch 2 / 3\n"
          ]
        },
        {
          "output_type": "stream",
          "name": "stderr",
          "text": [
            " 21%|██        | 56/267 [00:01<00:06, 32.30it/s]"
          ]
        },
        {
          "output_type": "stream",
          "name": "stdout",
          "text": [
            "\n",
            "[steps=50] train_loss: 0.2480, val_acc: 0.7533\n"
          ]
        },
        {
          "output_type": "stream",
          "name": "stderr",
          "text": [
            " 39%|███▉      | 104/267 [00:02<00:05, 31.29it/s]"
          ]
        },
        {
          "output_type": "stream",
          "name": "stdout",
          "text": [
            "\n",
            "[steps=100] train_loss: 0.2575, val_acc: 0.7448\n"
          ]
        },
        {
          "output_type": "stream",
          "name": "stderr",
          "text": [
            " 58%|█████▊    | 156/267 [00:04<00:03, 32.44it/s]"
          ]
        },
        {
          "output_type": "stream",
          "name": "stdout",
          "text": [
            "\n",
            "[steps=150] train_loss: 0.2471, val_acc: 0.7495\n"
          ]
        },
        {
          "output_type": "stream",
          "name": "stderr",
          "text": [
            " 76%|███████▋  | 204/267 [00:05<00:02, 30.85it/s]"
          ]
        },
        {
          "output_type": "stream",
          "name": "stdout",
          "text": [
            "\n",
            "[steps=200] train_loss: 0.2553, val_acc: 0.7439\n"
          ]
        },
        {
          "output_type": "stream",
          "name": "stderr",
          "text": [
            " 94%|█████████▍| 252/267 [00:07<00:00, 26.19it/s]"
          ]
        },
        {
          "output_type": "stream",
          "name": "stdout",
          "text": [
            "\n",
            "[steps=250] train_loss: 0.2611, val_acc: 0.7448\n"
          ]
        },
        {
          "output_type": "stream",
          "name": "stderr",
          "text": [
            "100%|██████████| 267/267 [00:07<00:00, 35.23it/s]"
          ]
        },
        {
          "output_type": "stream",
          "name": "stdout",
          "text": [
            "----------------------------------------------------------------------\n"
          ]
        },
        {
          "output_type": "stream",
          "name": "stderr",
          "text": [
            "\n"
          ]
        }
      ],
      "source": [
        "torch.manual_seed(33)\n",
        "train(ffn_model, optimizer, train_loader, val_loader, n_epochs)"
      ]
    },
    {
      "cell_type": "markdown",
      "source": [
        "## Evaluación en test\n",
        "\n",
        "Cargamos el mejor modelo y lo evaluamos en el set de test.\n"
      ],
      "metadata": {
        "id": "1lNSnmv-ARWR"
      }
    },
    {
      "cell_type": "code",
      "source": [
        "best_model = FFNModel(\n",
        "    vocab_size=len(token2idx),\n",
        "    embedding_dim=wv_model.vector_size,\n",
        "    pad_idx=token2idx[\"<pad>\"],\n",
        "    hidden_size=128,\n",
        "    num_labels=dataset[\"train\"].features[\"label\"].num_classes,\n",
        "    embedding_matrix=embedding_matrix\n",
        ")\n",
        "best_model.load_state_dict(torch.load(\"best_model.pt\"))\n",
        "best_model = best_model.to(device)"
      ],
      "metadata": {
        "id": "R2DwTGdjmcOw",
        "colab": {
          "base_uri": "https://localhost:8080/"
        },
        "outputId": "6932736e-1076-4749-e9f3-9a62ac96ecbe"
      },
      "execution_count": 42,
      "outputs": [
        {
          "output_type": "stream",
          "name": "stderr",
          "text": [
            "<ipython-input-42-c8133c2d5f7d>:9: FutureWarning: You are using `torch.load` with `weights_only=False` (the current default value), which uses the default pickle module implicitly. It is possible to construct malicious pickle data which will execute arbitrary code during unpickling (See https://github.com/pytorch/pytorch/blob/main/SECURITY.md#untrusted-models for more details). In a future release, the default value for `weights_only` will be flipped to `True`. This limits the functions that could be executed during unpickling. Arbitrary objects will no longer be allowed to be loaded via this mode unless they are explicitly allowlisted by the user via `torch.serialization.add_safe_globals`. We recommend you start setting `weights_only=True` for any use case where you don't have full control of the loaded file. Please open an issue on GitHub for any issues related to this experimental feature.\n",
            "  best_model.load_state_dict(torch.load(\"best_model.pt\"))\n"
          ]
        }
      ]
    },
    {
      "cell_type": "code",
      "execution_count": 43,
      "metadata": {
        "colab": {
          "base_uri": "https://localhost:8080/"
        },
        "id": "5G8tGMjAgjB1",
        "outputId": "a288e7c2-50ab-45cb-b6c4-7f649d398195"
      },
      "outputs": [
        {
          "output_type": "stream",
          "name": "stdout",
          "text": [
            "Resultados del mejor modelo en los datos de test:\n",
            "accuracy        = 0.7852\n",
            "cross_entropy   = 0.4476\n"
          ]
        }
      ],
      "source": [
        "def eval_model(model, loader):\n",
        "    \"\"\"Evalúa el modelo en un dataset dado.\n",
        "    Args:\n",
        "        model: modelo\n",
        "        loader: loader del dataset de evaluación\n",
        "    Returns:\n",
        "        Un diccionario con las métricas (nombre -> valor)\n",
        "    \"\"\"\n",
        "    model.eval()\n",
        "    metrics = validate(model, loader)\n",
        "    return metrics\n",
        "\n",
        "print(\"Resultados del mejor modelo en los datos de test:\")\n",
        "test_metrics = eval_model(best_model, test_loader)\n",
        "for k, v in test_metrics.items():\n",
        "    print(f\"{k:16s}= {v:.4f}\")"
      ]
    },
    {
      "cell_type": "markdown",
      "source": [
        "**PREGUNTA**: ¿cuán buenos son los resultados? ¿cómo podemos saberlo?"
      ],
      "metadata": {
        "id": "PbbvCRXx5pXf"
      }
    },
    {
      "cell_type": "code",
      "source": [],
      "metadata": {
        "id": "PynM2xm35xf0"
      },
      "execution_count": null,
      "outputs": []
    }
  ],
  "metadata": {
    "kernelspec": {
      "display_name": "Python 3",
      "name": "python3"
    },
    "language_info": {
      "codemirror_mode": {
        "name": "ipython",
        "version": 3
      },
      "file_extension": ".py",
      "mimetype": "text/x-python",
      "name": "python",
      "nbconvert_exporter": "python",
      "pygments_lexer": "ipython3",
      "version": "3.11.0"
    },
    "colab": {
      "provenance": [],
      "include_colab_link": true
    },
    "widgets": {
      "application/vnd.jupyter.widget-state+json": {
        "0b86b5767b6c46538fb9d39c17d04f93": {
          "model_module": "@jupyter-widgets/controls",
          "model_name": "HBoxModel",
          "model_module_version": "1.5.0",
          "state": {
            "_dom_classes": [],
            "_model_module": "@jupyter-widgets/controls",
            "_model_module_version": "1.5.0",
            "_model_name": "HBoxModel",
            "_view_count": null,
            "_view_module": "@jupyter-widgets/controls",
            "_view_module_version": "1.5.0",
            "_view_name": "HBoxView",
            "box_style": "",
            "children": [
              "IPY_MODEL_61a375285b134963b81d7ee1b7da6fb0",
              "IPY_MODEL_1a558e4e1794428cac8433fbaa409dc0",
              "IPY_MODEL_bd5f9e5be31d45c4ae38fb95c6f8afe7"
            ],
            "layout": "IPY_MODEL_1a19d52c79b1472391f8143e377cbaed"
          }
        },
        "61a375285b134963b81d7ee1b7da6fb0": {
          "model_module": "@jupyter-widgets/controls",
          "model_name": "HTMLModel",
          "model_module_version": "1.5.0",
          "state": {
            "_dom_classes": [],
            "_model_module": "@jupyter-widgets/controls",
            "_model_module_version": "1.5.0",
            "_model_name": "HTMLModel",
            "_view_count": null,
            "_view_module": "@jupyter-widgets/controls",
            "_view_module_version": "1.5.0",
            "_view_name": "HTMLView",
            "description": "",
            "description_tooltip": null,
            "layout": "IPY_MODEL_3ec7eb2fd2d54a158ad9fe5c4cfba813",
            "placeholder": "​",
            "style": "IPY_MODEL_d3e8d1b0619a414a9a7500d855dbca92",
            "value": "README.md: 100%"
          }
        },
        "1a558e4e1794428cac8433fbaa409dc0": {
          "model_module": "@jupyter-widgets/controls",
          "model_name": "FloatProgressModel",
          "model_module_version": "1.5.0",
          "state": {
            "_dom_classes": [],
            "_model_module": "@jupyter-widgets/controls",
            "_model_module_version": "1.5.0",
            "_model_name": "FloatProgressModel",
            "_view_count": null,
            "_view_module": "@jupyter-widgets/controls",
            "_view_module_version": "1.5.0",
            "_view_name": "ProgressView",
            "bar_style": "success",
            "description": "",
            "description_tooltip": null,
            "layout": "IPY_MODEL_030250e1668642a082b2fe83e16249a9",
            "max": 7457,
            "min": 0,
            "orientation": "horizontal",
            "style": "IPY_MODEL_f1c4233210ea44e28a5dffdcf7d94284",
            "value": 7457
          }
        },
        "bd5f9e5be31d45c4ae38fb95c6f8afe7": {
          "model_module": "@jupyter-widgets/controls",
          "model_name": "HTMLModel",
          "model_module_version": "1.5.0",
          "state": {
            "_dom_classes": [],
            "_model_module": "@jupyter-widgets/controls",
            "_model_module_version": "1.5.0",
            "_model_name": "HTMLModel",
            "_view_count": null,
            "_view_module": "@jupyter-widgets/controls",
            "_view_module_version": "1.5.0",
            "_view_name": "HTMLView",
            "description": "",
            "description_tooltip": null,
            "layout": "IPY_MODEL_934f6d5c9077433f87e53e0849b4c0a0",
            "placeholder": "​",
            "style": "IPY_MODEL_5e138edd103746228393ecbed324c397",
            "value": " 7.46k/7.46k [00:00&lt;00:00, 313kB/s]"
          }
        },
        "1a19d52c79b1472391f8143e377cbaed": {
          "model_module": "@jupyter-widgets/base",
          "model_name": "LayoutModel",
          "model_module_version": "1.2.0",
          "state": {
            "_model_module": "@jupyter-widgets/base",
            "_model_module_version": "1.2.0",
            "_model_name": "LayoutModel",
            "_view_count": null,
            "_view_module": "@jupyter-widgets/base",
            "_view_module_version": "1.2.0",
            "_view_name": "LayoutView",
            "align_content": null,
            "align_items": null,
            "align_self": null,
            "border": null,
            "bottom": null,
            "display": null,
            "flex": null,
            "flex_flow": null,
            "grid_area": null,
            "grid_auto_columns": null,
            "grid_auto_flow": null,
            "grid_auto_rows": null,
            "grid_column": null,
            "grid_gap": null,
            "grid_row": null,
            "grid_template_areas": null,
            "grid_template_columns": null,
            "grid_template_rows": null,
            "height": null,
            "justify_content": null,
            "justify_items": null,
            "left": null,
            "margin": null,
            "max_height": null,
            "max_width": null,
            "min_height": null,
            "min_width": null,
            "object_fit": null,
            "object_position": null,
            "order": null,
            "overflow": null,
            "overflow_x": null,
            "overflow_y": null,
            "padding": null,
            "right": null,
            "top": null,
            "visibility": null,
            "width": null
          }
        },
        "3ec7eb2fd2d54a158ad9fe5c4cfba813": {
          "model_module": "@jupyter-widgets/base",
          "model_name": "LayoutModel",
          "model_module_version": "1.2.0",
          "state": {
            "_model_module": "@jupyter-widgets/base",
            "_model_module_version": "1.2.0",
            "_model_name": "LayoutModel",
            "_view_count": null,
            "_view_module": "@jupyter-widgets/base",
            "_view_module_version": "1.2.0",
            "_view_name": "LayoutView",
            "align_content": null,
            "align_items": null,
            "align_self": null,
            "border": null,
            "bottom": null,
            "display": null,
            "flex": null,
            "flex_flow": null,
            "grid_area": null,
            "grid_auto_columns": null,
            "grid_auto_flow": null,
            "grid_auto_rows": null,
            "grid_column": null,
            "grid_gap": null,
            "grid_row": null,
            "grid_template_areas": null,
            "grid_template_columns": null,
            "grid_template_rows": null,
            "height": null,
            "justify_content": null,
            "justify_items": null,
            "left": null,
            "margin": null,
            "max_height": null,
            "max_width": null,
            "min_height": null,
            "min_width": null,
            "object_fit": null,
            "object_position": null,
            "order": null,
            "overflow": null,
            "overflow_x": null,
            "overflow_y": null,
            "padding": null,
            "right": null,
            "top": null,
            "visibility": null,
            "width": null
          }
        },
        "d3e8d1b0619a414a9a7500d855dbca92": {
          "model_module": "@jupyter-widgets/controls",
          "model_name": "DescriptionStyleModel",
          "model_module_version": "1.5.0",
          "state": {
            "_model_module": "@jupyter-widgets/controls",
            "_model_module_version": "1.5.0",
            "_model_name": "DescriptionStyleModel",
            "_view_count": null,
            "_view_module": "@jupyter-widgets/base",
            "_view_module_version": "1.2.0",
            "_view_name": "StyleView",
            "description_width": ""
          }
        },
        "030250e1668642a082b2fe83e16249a9": {
          "model_module": "@jupyter-widgets/base",
          "model_name": "LayoutModel",
          "model_module_version": "1.2.0",
          "state": {
            "_model_module": "@jupyter-widgets/base",
            "_model_module_version": "1.2.0",
            "_model_name": "LayoutModel",
            "_view_count": null,
            "_view_module": "@jupyter-widgets/base",
            "_view_module_version": "1.2.0",
            "_view_name": "LayoutView",
            "align_content": null,
            "align_items": null,
            "align_self": null,
            "border": null,
            "bottom": null,
            "display": null,
            "flex": null,
            "flex_flow": null,
            "grid_area": null,
            "grid_auto_columns": null,
            "grid_auto_flow": null,
            "grid_auto_rows": null,
            "grid_column": null,
            "grid_gap": null,
            "grid_row": null,
            "grid_template_areas": null,
            "grid_template_columns": null,
            "grid_template_rows": null,
            "height": null,
            "justify_content": null,
            "justify_items": null,
            "left": null,
            "margin": null,
            "max_height": null,
            "max_width": null,
            "min_height": null,
            "min_width": null,
            "object_fit": null,
            "object_position": null,
            "order": null,
            "overflow": null,
            "overflow_x": null,
            "overflow_y": null,
            "padding": null,
            "right": null,
            "top": null,
            "visibility": null,
            "width": null
          }
        },
        "f1c4233210ea44e28a5dffdcf7d94284": {
          "model_module": "@jupyter-widgets/controls",
          "model_name": "ProgressStyleModel",
          "model_module_version": "1.5.0",
          "state": {
            "_model_module": "@jupyter-widgets/controls",
            "_model_module_version": "1.5.0",
            "_model_name": "ProgressStyleModel",
            "_view_count": null,
            "_view_module": "@jupyter-widgets/base",
            "_view_module_version": "1.2.0",
            "_view_name": "StyleView",
            "bar_color": null,
            "description_width": ""
          }
        },
        "934f6d5c9077433f87e53e0849b4c0a0": {
          "model_module": "@jupyter-widgets/base",
          "model_name": "LayoutModel",
          "model_module_version": "1.2.0",
          "state": {
            "_model_module": "@jupyter-widgets/base",
            "_model_module_version": "1.2.0",
            "_model_name": "LayoutModel",
            "_view_count": null,
            "_view_module": "@jupyter-widgets/base",
            "_view_module_version": "1.2.0",
            "_view_name": "LayoutView",
            "align_content": null,
            "align_items": null,
            "align_self": null,
            "border": null,
            "bottom": null,
            "display": null,
            "flex": null,
            "flex_flow": null,
            "grid_area": null,
            "grid_auto_columns": null,
            "grid_auto_flow": null,
            "grid_auto_rows": null,
            "grid_column": null,
            "grid_gap": null,
            "grid_row": null,
            "grid_template_areas": null,
            "grid_template_columns": null,
            "grid_template_rows": null,
            "height": null,
            "justify_content": null,
            "justify_items": null,
            "left": null,
            "margin": null,
            "max_height": null,
            "max_width": null,
            "min_height": null,
            "min_width": null,
            "object_fit": null,
            "object_position": null,
            "order": null,
            "overflow": null,
            "overflow_x": null,
            "overflow_y": null,
            "padding": null,
            "right": null,
            "top": null,
            "visibility": null,
            "width": null
          }
        },
        "5e138edd103746228393ecbed324c397": {
          "model_module": "@jupyter-widgets/controls",
          "model_name": "DescriptionStyleModel",
          "model_module_version": "1.5.0",
          "state": {
            "_model_module": "@jupyter-widgets/controls",
            "_model_module_version": "1.5.0",
            "_model_name": "DescriptionStyleModel",
            "_view_count": null,
            "_view_module": "@jupyter-widgets/base",
            "_view_module_version": "1.2.0",
            "_view_name": "StyleView",
            "description_width": ""
          }
        },
        "dafb30b1c8764b189a53ec21d4eeedc1": {
          "model_module": "@jupyter-widgets/controls",
          "model_name": "HBoxModel",
          "model_module_version": "1.5.0",
          "state": {
            "_dom_classes": [],
            "_model_module": "@jupyter-widgets/controls",
            "_model_module_version": "1.5.0",
            "_model_name": "HBoxModel",
            "_view_count": null,
            "_view_module": "@jupyter-widgets/controls",
            "_view_module_version": "1.5.0",
            "_view_name": "HBoxView",
            "box_style": "",
            "children": [
              "IPY_MODEL_c6af128613924bc3b3b9b71d136b0caa",
              "IPY_MODEL_72c458aa87144e62885fff7468b45a51",
              "IPY_MODEL_9d9fd56e00fa41ad93167e6906783347"
            ],
            "layout": "IPY_MODEL_37129922b6e54000b06f5568ba665c3d"
          }
        },
        "c6af128613924bc3b3b9b71d136b0caa": {
          "model_module": "@jupyter-widgets/controls",
          "model_name": "HTMLModel",
          "model_module_version": "1.5.0",
          "state": {
            "_dom_classes": [],
            "_model_module": "@jupyter-widgets/controls",
            "_model_module_version": "1.5.0",
            "_model_name": "HTMLModel",
            "_view_count": null,
            "_view_module": "@jupyter-widgets/controls",
            "_view_module_version": "1.5.0",
            "_view_name": "HTMLView",
            "description": "",
            "description_tooltip": null,
            "layout": "IPY_MODEL_ec4e4049220a47f1a7e4efa778c547e8",
            "placeholder": "​",
            "style": "IPY_MODEL_98fb85d70a2343e0885f5d857a8a11d5",
            "value": "train.parquet: 100%"
          }
        },
        "72c458aa87144e62885fff7468b45a51": {
          "model_module": "@jupyter-widgets/controls",
          "model_name": "FloatProgressModel",
          "model_module_version": "1.5.0",
          "state": {
            "_dom_classes": [],
            "_model_module": "@jupyter-widgets/controls",
            "_model_module_version": "1.5.0",
            "_model_name": "FloatProgressModel",
            "_view_count": null,
            "_view_module": "@jupyter-widgets/controls",
            "_view_module_version": "1.5.0",
            "_view_name": "ProgressView",
            "bar_style": "success",
            "description": "",
            "description_tooltip": null,
            "layout": "IPY_MODEL_8b5593da9e8b4716aee0af9ca500b518",
            "max": 698845,
            "min": 0,
            "orientation": "horizontal",
            "style": "IPY_MODEL_c39179495c6b424b9124c7ff0849adbc",
            "value": 698845
          }
        },
        "9d9fd56e00fa41ad93167e6906783347": {
          "model_module": "@jupyter-widgets/controls",
          "model_name": "HTMLModel",
          "model_module_version": "1.5.0",
          "state": {
            "_dom_classes": [],
            "_model_module": "@jupyter-widgets/controls",
            "_model_module_version": "1.5.0",
            "_model_name": "HTMLModel",
            "_view_count": null,
            "_view_module": "@jupyter-widgets/controls",
            "_view_module_version": "1.5.0",
            "_view_name": "HTMLView",
            "description": "",
            "description_tooltip": null,
            "layout": "IPY_MODEL_37e6fe1fa8ca46df850c89bc39e4dd30",
            "placeholder": "​",
            "style": "IPY_MODEL_9dfa4e015ad14d17862808623698291d",
            "value": " 699k/699k [00:00&lt;00:00, 4.14MB/s]"
          }
        },
        "37129922b6e54000b06f5568ba665c3d": {
          "model_module": "@jupyter-widgets/base",
          "model_name": "LayoutModel",
          "model_module_version": "1.2.0",
          "state": {
            "_model_module": "@jupyter-widgets/base",
            "_model_module_version": "1.2.0",
            "_model_name": "LayoutModel",
            "_view_count": null,
            "_view_module": "@jupyter-widgets/base",
            "_view_module_version": "1.2.0",
            "_view_name": "LayoutView",
            "align_content": null,
            "align_items": null,
            "align_self": null,
            "border": null,
            "bottom": null,
            "display": null,
            "flex": null,
            "flex_flow": null,
            "grid_area": null,
            "grid_auto_columns": null,
            "grid_auto_flow": null,
            "grid_auto_rows": null,
            "grid_column": null,
            "grid_gap": null,
            "grid_row": null,
            "grid_template_areas": null,
            "grid_template_columns": null,
            "grid_template_rows": null,
            "height": null,
            "justify_content": null,
            "justify_items": null,
            "left": null,
            "margin": null,
            "max_height": null,
            "max_width": null,
            "min_height": null,
            "min_width": null,
            "object_fit": null,
            "object_position": null,
            "order": null,
            "overflow": null,
            "overflow_x": null,
            "overflow_y": null,
            "padding": null,
            "right": null,
            "top": null,
            "visibility": null,
            "width": null
          }
        },
        "ec4e4049220a47f1a7e4efa778c547e8": {
          "model_module": "@jupyter-widgets/base",
          "model_name": "LayoutModel",
          "model_module_version": "1.2.0",
          "state": {
            "_model_module": "@jupyter-widgets/base",
            "_model_module_version": "1.2.0",
            "_model_name": "LayoutModel",
            "_view_count": null,
            "_view_module": "@jupyter-widgets/base",
            "_view_module_version": "1.2.0",
            "_view_name": "LayoutView",
            "align_content": null,
            "align_items": null,
            "align_self": null,
            "border": null,
            "bottom": null,
            "display": null,
            "flex": null,
            "flex_flow": null,
            "grid_area": null,
            "grid_auto_columns": null,
            "grid_auto_flow": null,
            "grid_auto_rows": null,
            "grid_column": null,
            "grid_gap": null,
            "grid_row": null,
            "grid_template_areas": null,
            "grid_template_columns": null,
            "grid_template_rows": null,
            "height": null,
            "justify_content": null,
            "justify_items": null,
            "left": null,
            "margin": null,
            "max_height": null,
            "max_width": null,
            "min_height": null,
            "min_width": null,
            "object_fit": null,
            "object_position": null,
            "order": null,
            "overflow": null,
            "overflow_x": null,
            "overflow_y": null,
            "padding": null,
            "right": null,
            "top": null,
            "visibility": null,
            "width": null
          }
        },
        "98fb85d70a2343e0885f5d857a8a11d5": {
          "model_module": "@jupyter-widgets/controls",
          "model_name": "DescriptionStyleModel",
          "model_module_version": "1.5.0",
          "state": {
            "_model_module": "@jupyter-widgets/controls",
            "_model_module_version": "1.5.0",
            "_model_name": "DescriptionStyleModel",
            "_view_count": null,
            "_view_module": "@jupyter-widgets/base",
            "_view_module_version": "1.2.0",
            "_view_name": "StyleView",
            "description_width": ""
          }
        },
        "8b5593da9e8b4716aee0af9ca500b518": {
          "model_module": "@jupyter-widgets/base",
          "model_name": "LayoutModel",
          "model_module_version": "1.2.0",
          "state": {
            "_model_module": "@jupyter-widgets/base",
            "_model_module_version": "1.2.0",
            "_model_name": "LayoutModel",
            "_view_count": null,
            "_view_module": "@jupyter-widgets/base",
            "_view_module_version": "1.2.0",
            "_view_name": "LayoutView",
            "align_content": null,
            "align_items": null,
            "align_self": null,
            "border": null,
            "bottom": null,
            "display": null,
            "flex": null,
            "flex_flow": null,
            "grid_area": null,
            "grid_auto_columns": null,
            "grid_auto_flow": null,
            "grid_auto_rows": null,
            "grid_column": null,
            "grid_gap": null,
            "grid_row": null,
            "grid_template_areas": null,
            "grid_template_columns": null,
            "grid_template_rows": null,
            "height": null,
            "justify_content": null,
            "justify_items": null,
            "left": null,
            "margin": null,
            "max_height": null,
            "max_width": null,
            "min_height": null,
            "min_width": null,
            "object_fit": null,
            "object_position": null,
            "order": null,
            "overflow": null,
            "overflow_x": null,
            "overflow_y": null,
            "padding": null,
            "right": null,
            "top": null,
            "visibility": null,
            "width": null
          }
        },
        "c39179495c6b424b9124c7ff0849adbc": {
          "model_module": "@jupyter-widgets/controls",
          "model_name": "ProgressStyleModel",
          "model_module_version": "1.5.0",
          "state": {
            "_model_module": "@jupyter-widgets/controls",
            "_model_module_version": "1.5.0",
            "_model_name": "ProgressStyleModel",
            "_view_count": null,
            "_view_module": "@jupyter-widgets/base",
            "_view_module_version": "1.2.0",
            "_view_name": "StyleView",
            "bar_color": null,
            "description_width": ""
          }
        },
        "37e6fe1fa8ca46df850c89bc39e4dd30": {
          "model_module": "@jupyter-widgets/base",
          "model_name": "LayoutModel",
          "model_module_version": "1.2.0",
          "state": {
            "_model_module": "@jupyter-widgets/base",
            "_model_module_version": "1.2.0",
            "_model_name": "LayoutModel",
            "_view_count": null,
            "_view_module": "@jupyter-widgets/base",
            "_view_module_version": "1.2.0",
            "_view_name": "LayoutView",
            "align_content": null,
            "align_items": null,
            "align_self": null,
            "border": null,
            "bottom": null,
            "display": null,
            "flex": null,
            "flex_flow": null,
            "grid_area": null,
            "grid_auto_columns": null,
            "grid_auto_flow": null,
            "grid_auto_rows": null,
            "grid_column": null,
            "grid_gap": null,
            "grid_row": null,
            "grid_template_areas": null,
            "grid_template_columns": null,
            "grid_template_rows": null,
            "height": null,
            "justify_content": null,
            "justify_items": null,
            "left": null,
            "margin": null,
            "max_height": null,
            "max_width": null,
            "min_height": null,
            "min_width": null,
            "object_fit": null,
            "object_position": null,
            "order": null,
            "overflow": null,
            "overflow_x": null,
            "overflow_y": null,
            "padding": null,
            "right": null,
            "top": null,
            "visibility": null,
            "width": null
          }
        },
        "9dfa4e015ad14d17862808623698291d": {
          "model_module": "@jupyter-widgets/controls",
          "model_name": "DescriptionStyleModel",
          "model_module_version": "1.5.0",
          "state": {
            "_model_module": "@jupyter-widgets/controls",
            "_model_module_version": "1.5.0",
            "_model_name": "DescriptionStyleModel",
            "_view_count": null,
            "_view_module": "@jupyter-widgets/base",
            "_view_module_version": "1.2.0",
            "_view_name": "StyleView",
            "description_width": ""
          }
        },
        "f7d1ca1f8d8f44d085030695b6f9d0c6": {
          "model_module": "@jupyter-widgets/controls",
          "model_name": "HBoxModel",
          "model_module_version": "1.5.0",
          "state": {
            "_dom_classes": [],
            "_model_module": "@jupyter-widgets/controls",
            "_model_module_version": "1.5.0",
            "_model_name": "HBoxModel",
            "_view_count": null,
            "_view_module": "@jupyter-widgets/controls",
            "_view_module_version": "1.5.0",
            "_view_name": "HBoxView",
            "box_style": "",
            "children": [
              "IPY_MODEL_0bc5cc0508cb4026ba3c4696ad052a40",
              "IPY_MODEL_45dd49a37ecb44f2a31ea00c82159de8",
              "IPY_MODEL_16756f2bbc5e4a61b5864e7c2d3bd775"
            ],
            "layout": "IPY_MODEL_33f5a35a249d42fcb89587ba387438cc"
          }
        },
        "0bc5cc0508cb4026ba3c4696ad052a40": {
          "model_module": "@jupyter-widgets/controls",
          "model_name": "HTMLModel",
          "model_module_version": "1.5.0",
          "state": {
            "_dom_classes": [],
            "_model_module": "@jupyter-widgets/controls",
            "_model_module_version": "1.5.0",
            "_model_name": "HTMLModel",
            "_view_count": null,
            "_view_module": "@jupyter-widgets/controls",
            "_view_module_version": "1.5.0",
            "_view_name": "HTMLView",
            "description": "",
            "description_tooltip": null,
            "layout": "IPY_MODEL_6b44ce952cb84f528d8e1c206f8ee429",
            "placeholder": "​",
            "style": "IPY_MODEL_fead74e76ca14589a2b230ebe906f27e",
            "value": "validation.parquet: 100%"
          }
        },
        "45dd49a37ecb44f2a31ea00c82159de8": {
          "model_module": "@jupyter-widgets/controls",
          "model_name": "FloatProgressModel",
          "model_module_version": "1.5.0",
          "state": {
            "_dom_classes": [],
            "_model_module": "@jupyter-widgets/controls",
            "_model_module_version": "1.5.0",
            "_model_name": "FloatProgressModel",
            "_view_count": null,
            "_view_module": "@jupyter-widgets/controls",
            "_view_module_version": "1.5.0",
            "_view_name": "ProgressView",
            "bar_style": "success",
            "description": "",
            "description_tooltip": null,
            "layout": "IPY_MODEL_9b7de83b0d844754ad0613daef89100b",
            "max": 90001,
            "min": 0,
            "orientation": "horizontal",
            "style": "IPY_MODEL_4506db73c81e483da9928ea79abb78fa",
            "value": 90001
          }
        },
        "16756f2bbc5e4a61b5864e7c2d3bd775": {
          "model_module": "@jupyter-widgets/controls",
          "model_name": "HTMLModel",
          "model_module_version": "1.5.0",
          "state": {
            "_dom_classes": [],
            "_model_module": "@jupyter-widgets/controls",
            "_model_module_version": "1.5.0",
            "_model_name": "HTMLModel",
            "_view_count": null,
            "_view_module": "@jupyter-widgets/controls",
            "_view_module_version": "1.5.0",
            "_view_name": "HTMLView",
            "description": "",
            "description_tooltip": null,
            "layout": "IPY_MODEL_0cbc1891216448b6a6d8d2d0fe78f8c3",
            "placeholder": "​",
            "style": "IPY_MODEL_bba8eecb13cb4cbf8b2d0c45e437c812",
            "value": " 90.0k/90.0k [00:00&lt;00:00, 3.41MB/s]"
          }
        },
        "33f5a35a249d42fcb89587ba387438cc": {
          "model_module": "@jupyter-widgets/base",
          "model_name": "LayoutModel",
          "model_module_version": "1.2.0",
          "state": {
            "_model_module": "@jupyter-widgets/base",
            "_model_module_version": "1.2.0",
            "_model_name": "LayoutModel",
            "_view_count": null,
            "_view_module": "@jupyter-widgets/base",
            "_view_module_version": "1.2.0",
            "_view_name": "LayoutView",
            "align_content": null,
            "align_items": null,
            "align_self": null,
            "border": null,
            "bottom": null,
            "display": null,
            "flex": null,
            "flex_flow": null,
            "grid_area": null,
            "grid_auto_columns": null,
            "grid_auto_flow": null,
            "grid_auto_rows": null,
            "grid_column": null,
            "grid_gap": null,
            "grid_row": null,
            "grid_template_areas": null,
            "grid_template_columns": null,
            "grid_template_rows": null,
            "height": null,
            "justify_content": null,
            "justify_items": null,
            "left": null,
            "margin": null,
            "max_height": null,
            "max_width": null,
            "min_height": null,
            "min_width": null,
            "object_fit": null,
            "object_position": null,
            "order": null,
            "overflow": null,
            "overflow_x": null,
            "overflow_y": null,
            "padding": null,
            "right": null,
            "top": null,
            "visibility": null,
            "width": null
          }
        },
        "6b44ce952cb84f528d8e1c206f8ee429": {
          "model_module": "@jupyter-widgets/base",
          "model_name": "LayoutModel",
          "model_module_version": "1.2.0",
          "state": {
            "_model_module": "@jupyter-widgets/base",
            "_model_module_version": "1.2.0",
            "_model_name": "LayoutModel",
            "_view_count": null,
            "_view_module": "@jupyter-widgets/base",
            "_view_module_version": "1.2.0",
            "_view_name": "LayoutView",
            "align_content": null,
            "align_items": null,
            "align_self": null,
            "border": null,
            "bottom": null,
            "display": null,
            "flex": null,
            "flex_flow": null,
            "grid_area": null,
            "grid_auto_columns": null,
            "grid_auto_flow": null,
            "grid_auto_rows": null,
            "grid_column": null,
            "grid_gap": null,
            "grid_row": null,
            "grid_template_areas": null,
            "grid_template_columns": null,
            "grid_template_rows": null,
            "height": null,
            "justify_content": null,
            "justify_items": null,
            "left": null,
            "margin": null,
            "max_height": null,
            "max_width": null,
            "min_height": null,
            "min_width": null,
            "object_fit": null,
            "object_position": null,
            "order": null,
            "overflow": null,
            "overflow_x": null,
            "overflow_y": null,
            "padding": null,
            "right": null,
            "top": null,
            "visibility": null,
            "width": null
          }
        },
        "fead74e76ca14589a2b230ebe906f27e": {
          "model_module": "@jupyter-widgets/controls",
          "model_name": "DescriptionStyleModel",
          "model_module_version": "1.5.0",
          "state": {
            "_model_module": "@jupyter-widgets/controls",
            "_model_module_version": "1.5.0",
            "_model_name": "DescriptionStyleModel",
            "_view_count": null,
            "_view_module": "@jupyter-widgets/base",
            "_view_module_version": "1.2.0",
            "_view_name": "StyleView",
            "description_width": ""
          }
        },
        "9b7de83b0d844754ad0613daef89100b": {
          "model_module": "@jupyter-widgets/base",
          "model_name": "LayoutModel",
          "model_module_version": "1.2.0",
          "state": {
            "_model_module": "@jupyter-widgets/base",
            "_model_module_version": "1.2.0",
            "_model_name": "LayoutModel",
            "_view_count": null,
            "_view_module": "@jupyter-widgets/base",
            "_view_module_version": "1.2.0",
            "_view_name": "LayoutView",
            "align_content": null,
            "align_items": null,
            "align_self": null,
            "border": null,
            "bottom": null,
            "display": null,
            "flex": null,
            "flex_flow": null,
            "grid_area": null,
            "grid_auto_columns": null,
            "grid_auto_flow": null,
            "grid_auto_rows": null,
            "grid_column": null,
            "grid_gap": null,
            "grid_row": null,
            "grid_template_areas": null,
            "grid_template_columns": null,
            "grid_template_rows": null,
            "height": null,
            "justify_content": null,
            "justify_items": null,
            "left": null,
            "margin": null,
            "max_height": null,
            "max_width": null,
            "min_height": null,
            "min_width": null,
            "object_fit": null,
            "object_position": null,
            "order": null,
            "overflow": null,
            "overflow_x": null,
            "overflow_y": null,
            "padding": null,
            "right": null,
            "top": null,
            "visibility": null,
            "width": null
          }
        },
        "4506db73c81e483da9928ea79abb78fa": {
          "model_module": "@jupyter-widgets/controls",
          "model_name": "ProgressStyleModel",
          "model_module_version": "1.5.0",
          "state": {
            "_model_module": "@jupyter-widgets/controls",
            "_model_module_version": "1.5.0",
            "_model_name": "ProgressStyleModel",
            "_view_count": null,
            "_view_module": "@jupyter-widgets/base",
            "_view_module_version": "1.2.0",
            "_view_name": "StyleView",
            "bar_color": null,
            "description_width": ""
          }
        },
        "0cbc1891216448b6a6d8d2d0fe78f8c3": {
          "model_module": "@jupyter-widgets/base",
          "model_name": "LayoutModel",
          "model_module_version": "1.2.0",
          "state": {
            "_model_module": "@jupyter-widgets/base",
            "_model_module_version": "1.2.0",
            "_model_name": "LayoutModel",
            "_view_count": null,
            "_view_module": "@jupyter-widgets/base",
            "_view_module_version": "1.2.0",
            "_view_name": "LayoutView",
            "align_content": null,
            "align_items": null,
            "align_self": null,
            "border": null,
            "bottom": null,
            "display": null,
            "flex": null,
            "flex_flow": null,
            "grid_area": null,
            "grid_auto_columns": null,
            "grid_auto_flow": null,
            "grid_auto_rows": null,
            "grid_column": null,
            "grid_gap": null,
            "grid_row": null,
            "grid_template_areas": null,
            "grid_template_columns": null,
            "grid_template_rows": null,
            "height": null,
            "justify_content": null,
            "justify_items": null,
            "left": null,
            "margin": null,
            "max_height": null,
            "max_width": null,
            "min_height": null,
            "min_width": null,
            "object_fit": null,
            "object_position": null,
            "order": null,
            "overflow": null,
            "overflow_x": null,
            "overflow_y": null,
            "padding": null,
            "right": null,
            "top": null,
            "visibility": null,
            "width": null
          }
        },
        "bba8eecb13cb4cbf8b2d0c45e437c812": {
          "model_module": "@jupyter-widgets/controls",
          "model_name": "DescriptionStyleModel",
          "model_module_version": "1.5.0",
          "state": {
            "_model_module": "@jupyter-widgets/controls",
            "_model_module_version": "1.5.0",
            "_model_name": "DescriptionStyleModel",
            "_view_count": null,
            "_view_module": "@jupyter-widgets/base",
            "_view_module_version": "1.2.0",
            "_view_name": "StyleView",
            "description_width": ""
          }
        },
        "ec6fced96d72471f8d06c65fb2956433": {
          "model_module": "@jupyter-widgets/controls",
          "model_name": "HBoxModel",
          "model_module_version": "1.5.0",
          "state": {
            "_dom_classes": [],
            "_model_module": "@jupyter-widgets/controls",
            "_model_module_version": "1.5.0",
            "_model_name": "HBoxModel",
            "_view_count": null,
            "_view_module": "@jupyter-widgets/controls",
            "_view_module_version": "1.5.0",
            "_view_name": "HBoxView",
            "box_style": "",
            "children": [
              "IPY_MODEL_b8d854ddd9e04620b6b1f9caebee208d",
              "IPY_MODEL_1d7e36e562a3403f886a237e920ba7d4",
              "IPY_MODEL_3b2eb26b18ff48a1a0e61d8b2b50befc"
            ],
            "layout": "IPY_MODEL_727cbb59d20e4ce595f2ca55b5268803"
          }
        },
        "b8d854ddd9e04620b6b1f9caebee208d": {
          "model_module": "@jupyter-widgets/controls",
          "model_name": "HTMLModel",
          "model_module_version": "1.5.0",
          "state": {
            "_dom_classes": [],
            "_model_module": "@jupyter-widgets/controls",
            "_model_module_version": "1.5.0",
            "_model_name": "HTMLModel",
            "_view_count": null,
            "_view_module": "@jupyter-widgets/controls",
            "_view_module_version": "1.5.0",
            "_view_name": "HTMLView",
            "description": "",
            "description_tooltip": null,
            "layout": "IPY_MODEL_8a8dd2221dc9494796da5f4f4d9e9edd",
            "placeholder": "​",
            "style": "IPY_MODEL_86755fb002884d91bbb3b36197b2fbfa",
            "value": "test.parquet: 100%"
          }
        },
        "1d7e36e562a3403f886a237e920ba7d4": {
          "model_module": "@jupyter-widgets/controls",
          "model_name": "FloatProgressModel",
          "model_module_version": "1.5.0",
          "state": {
            "_dom_classes": [],
            "_model_module": "@jupyter-widgets/controls",
            "_model_module_version": "1.5.0",
            "_model_name": "FloatProgressModel",
            "_view_count": null,
            "_view_module": "@jupyter-widgets/controls",
            "_view_module_version": "1.5.0",
            "_view_name": "ProgressView",
            "bar_style": "success",
            "description": "",
            "description_tooltip": null,
            "layout": "IPY_MODEL_c96d3beb04d2422f92676cacb41cda5c",
            "max": 92206,
            "min": 0,
            "orientation": "horizontal",
            "style": "IPY_MODEL_0af260ffe172464d9c0081528c755a6f",
            "value": 92206
          }
        },
        "3b2eb26b18ff48a1a0e61d8b2b50befc": {
          "model_module": "@jupyter-widgets/controls",
          "model_name": "HTMLModel",
          "model_module_version": "1.5.0",
          "state": {
            "_dom_classes": [],
            "_model_module": "@jupyter-widgets/controls",
            "_model_module_version": "1.5.0",
            "_model_name": "HTMLModel",
            "_view_count": null,
            "_view_module": "@jupyter-widgets/controls",
            "_view_module_version": "1.5.0",
            "_view_name": "HTMLView",
            "description": "",
            "description_tooltip": null,
            "layout": "IPY_MODEL_38741303ab4946cba6243c6c749afee2",
            "placeholder": "​",
            "style": "IPY_MODEL_907b40c8b71045c097f0a7d2642a8757",
            "value": " 92.2k/92.2k [00:00&lt;00:00, 2.59MB/s]"
          }
        },
        "727cbb59d20e4ce595f2ca55b5268803": {
          "model_module": "@jupyter-widgets/base",
          "model_name": "LayoutModel",
          "model_module_version": "1.2.0",
          "state": {
            "_model_module": "@jupyter-widgets/base",
            "_model_module_version": "1.2.0",
            "_model_name": "LayoutModel",
            "_view_count": null,
            "_view_module": "@jupyter-widgets/base",
            "_view_module_version": "1.2.0",
            "_view_name": "LayoutView",
            "align_content": null,
            "align_items": null,
            "align_self": null,
            "border": null,
            "bottom": null,
            "display": null,
            "flex": null,
            "flex_flow": null,
            "grid_area": null,
            "grid_auto_columns": null,
            "grid_auto_flow": null,
            "grid_auto_rows": null,
            "grid_column": null,
            "grid_gap": null,
            "grid_row": null,
            "grid_template_areas": null,
            "grid_template_columns": null,
            "grid_template_rows": null,
            "height": null,
            "justify_content": null,
            "justify_items": null,
            "left": null,
            "margin": null,
            "max_height": null,
            "max_width": null,
            "min_height": null,
            "min_width": null,
            "object_fit": null,
            "object_position": null,
            "order": null,
            "overflow": null,
            "overflow_x": null,
            "overflow_y": null,
            "padding": null,
            "right": null,
            "top": null,
            "visibility": null,
            "width": null
          }
        },
        "8a8dd2221dc9494796da5f4f4d9e9edd": {
          "model_module": "@jupyter-widgets/base",
          "model_name": "LayoutModel",
          "model_module_version": "1.2.0",
          "state": {
            "_model_module": "@jupyter-widgets/base",
            "_model_module_version": "1.2.0",
            "_model_name": "LayoutModel",
            "_view_count": null,
            "_view_module": "@jupyter-widgets/base",
            "_view_module_version": "1.2.0",
            "_view_name": "LayoutView",
            "align_content": null,
            "align_items": null,
            "align_self": null,
            "border": null,
            "bottom": null,
            "display": null,
            "flex": null,
            "flex_flow": null,
            "grid_area": null,
            "grid_auto_columns": null,
            "grid_auto_flow": null,
            "grid_auto_rows": null,
            "grid_column": null,
            "grid_gap": null,
            "grid_row": null,
            "grid_template_areas": null,
            "grid_template_columns": null,
            "grid_template_rows": null,
            "height": null,
            "justify_content": null,
            "justify_items": null,
            "left": null,
            "margin": null,
            "max_height": null,
            "max_width": null,
            "min_height": null,
            "min_width": null,
            "object_fit": null,
            "object_position": null,
            "order": null,
            "overflow": null,
            "overflow_x": null,
            "overflow_y": null,
            "padding": null,
            "right": null,
            "top": null,
            "visibility": null,
            "width": null
          }
        },
        "86755fb002884d91bbb3b36197b2fbfa": {
          "model_module": "@jupyter-widgets/controls",
          "model_name": "DescriptionStyleModel",
          "model_module_version": "1.5.0",
          "state": {
            "_model_module": "@jupyter-widgets/controls",
            "_model_module_version": "1.5.0",
            "_model_name": "DescriptionStyleModel",
            "_view_count": null,
            "_view_module": "@jupyter-widgets/base",
            "_view_module_version": "1.2.0",
            "_view_name": "StyleView",
            "description_width": ""
          }
        },
        "c96d3beb04d2422f92676cacb41cda5c": {
          "model_module": "@jupyter-widgets/base",
          "model_name": "LayoutModel",
          "model_module_version": "1.2.0",
          "state": {
            "_model_module": "@jupyter-widgets/base",
            "_model_module_version": "1.2.0",
            "_model_name": "LayoutModel",
            "_view_count": null,
            "_view_module": "@jupyter-widgets/base",
            "_view_module_version": "1.2.0",
            "_view_name": "LayoutView",
            "align_content": null,
            "align_items": null,
            "align_self": null,
            "border": null,
            "bottom": null,
            "display": null,
            "flex": null,
            "flex_flow": null,
            "grid_area": null,
            "grid_auto_columns": null,
            "grid_auto_flow": null,
            "grid_auto_rows": null,
            "grid_column": null,
            "grid_gap": null,
            "grid_row": null,
            "grid_template_areas": null,
            "grid_template_columns": null,
            "grid_template_rows": null,
            "height": null,
            "justify_content": null,
            "justify_items": null,
            "left": null,
            "margin": null,
            "max_height": null,
            "max_width": null,
            "min_height": null,
            "min_width": null,
            "object_fit": null,
            "object_position": null,
            "order": null,
            "overflow": null,
            "overflow_x": null,
            "overflow_y": null,
            "padding": null,
            "right": null,
            "top": null,
            "visibility": null,
            "width": null
          }
        },
        "0af260ffe172464d9c0081528c755a6f": {
          "model_module": "@jupyter-widgets/controls",
          "model_name": "ProgressStyleModel",
          "model_module_version": "1.5.0",
          "state": {
            "_model_module": "@jupyter-widgets/controls",
            "_model_module_version": "1.5.0",
            "_model_name": "ProgressStyleModel",
            "_view_count": null,
            "_view_module": "@jupyter-widgets/base",
            "_view_module_version": "1.2.0",
            "_view_name": "StyleView",
            "bar_color": null,
            "description_width": ""
          }
        },
        "38741303ab4946cba6243c6c749afee2": {
          "model_module": "@jupyter-widgets/base",
          "model_name": "LayoutModel",
          "model_module_version": "1.2.0",
          "state": {
            "_model_module": "@jupyter-widgets/base",
            "_model_module_version": "1.2.0",
            "_model_name": "LayoutModel",
            "_view_count": null,
            "_view_module": "@jupyter-widgets/base",
            "_view_module_version": "1.2.0",
            "_view_name": "LayoutView",
            "align_content": null,
            "align_items": null,
            "align_self": null,
            "border": null,
            "bottom": null,
            "display": null,
            "flex": null,
            "flex_flow": null,
            "grid_area": null,
            "grid_auto_columns": null,
            "grid_auto_flow": null,
            "grid_auto_rows": null,
            "grid_column": null,
            "grid_gap": null,
            "grid_row": null,
            "grid_template_areas": null,
            "grid_template_columns": null,
            "grid_template_rows": null,
            "height": null,
            "justify_content": null,
            "justify_items": null,
            "left": null,
            "margin": null,
            "max_height": null,
            "max_width": null,
            "min_height": null,
            "min_width": null,
            "object_fit": null,
            "object_position": null,
            "order": null,
            "overflow": null,
            "overflow_x": null,
            "overflow_y": null,
            "padding": null,
            "right": null,
            "top": null,
            "visibility": null,
            "width": null
          }
        },
        "907b40c8b71045c097f0a7d2642a8757": {
          "model_module": "@jupyter-widgets/controls",
          "model_name": "DescriptionStyleModel",
          "model_module_version": "1.5.0",
          "state": {
            "_model_module": "@jupyter-widgets/controls",
            "_model_module_version": "1.5.0",
            "_model_name": "DescriptionStyleModel",
            "_view_count": null,
            "_view_module": "@jupyter-widgets/base",
            "_view_module_version": "1.2.0",
            "_view_name": "StyleView",
            "description_width": ""
          }
        },
        "a57bb84fe194495697c6e697681b272e": {
          "model_module": "@jupyter-widgets/controls",
          "model_name": "HBoxModel",
          "model_module_version": "1.5.0",
          "state": {
            "_dom_classes": [],
            "_model_module": "@jupyter-widgets/controls",
            "_model_module_version": "1.5.0",
            "_model_name": "HBoxModel",
            "_view_count": null,
            "_view_module": "@jupyter-widgets/controls",
            "_view_module_version": "1.5.0",
            "_view_name": "HBoxView",
            "box_style": "",
            "children": [
              "IPY_MODEL_d65041bfcd4b44d0bc5adbfd5106743e",
              "IPY_MODEL_94af9226dd00437bb446b1e100a02de4",
              "IPY_MODEL_9eb5d255552342a999d1762d3ee62752"
            ],
            "layout": "IPY_MODEL_1b2d369e0ffa4029bf963a7707ae6cf5"
          }
        },
        "d65041bfcd4b44d0bc5adbfd5106743e": {
          "model_module": "@jupyter-widgets/controls",
          "model_name": "HTMLModel",
          "model_module_version": "1.5.0",
          "state": {
            "_dom_classes": [],
            "_model_module": "@jupyter-widgets/controls",
            "_model_module_version": "1.5.0",
            "_model_name": "HTMLModel",
            "_view_count": null,
            "_view_module": "@jupyter-widgets/controls",
            "_view_module_version": "1.5.0",
            "_view_name": "HTMLView",
            "description": "",
            "description_tooltip": null,
            "layout": "IPY_MODEL_0267c1fdd7fc4f02b7372e8808757290",
            "placeholder": "​",
            "style": "IPY_MODEL_d84e458201a747b79bd1c532be8c710b",
            "value": "Generating train split: 100%"
          }
        },
        "94af9226dd00437bb446b1e100a02de4": {
          "model_module": "@jupyter-widgets/controls",
          "model_name": "FloatProgressModel",
          "model_module_version": "1.5.0",
          "state": {
            "_dom_classes": [],
            "_model_module": "@jupyter-widgets/controls",
            "_model_module_version": "1.5.0",
            "_model_name": "FloatProgressModel",
            "_view_count": null,
            "_view_module": "@jupyter-widgets/controls",
            "_view_module_version": "1.5.0",
            "_view_name": "ProgressView",
            "bar_style": "success",
            "description": "",
            "description_tooltip": null,
            "layout": "IPY_MODEL_a8c9a40e0f424e7684b9202ceb638dd0",
            "max": 8530,
            "min": 0,
            "orientation": "horizontal",
            "style": "IPY_MODEL_f9f108a9ef21437ebde2d0ac684b275e",
            "value": 8530
          }
        },
        "9eb5d255552342a999d1762d3ee62752": {
          "model_module": "@jupyter-widgets/controls",
          "model_name": "HTMLModel",
          "model_module_version": "1.5.0",
          "state": {
            "_dom_classes": [],
            "_model_module": "@jupyter-widgets/controls",
            "_model_module_version": "1.5.0",
            "_model_name": "HTMLModel",
            "_view_count": null,
            "_view_module": "@jupyter-widgets/controls",
            "_view_module_version": "1.5.0",
            "_view_name": "HTMLView",
            "description": "",
            "description_tooltip": null,
            "layout": "IPY_MODEL_4528752067b9476a832071d61a29b957",
            "placeholder": "​",
            "style": "IPY_MODEL_2e39d8852e584a09a05e3f71df3f1233",
            "value": " 8530/8530 [00:00&lt;00:00, 80196.30 examples/s]"
          }
        },
        "1b2d369e0ffa4029bf963a7707ae6cf5": {
          "model_module": "@jupyter-widgets/base",
          "model_name": "LayoutModel",
          "model_module_version": "1.2.0",
          "state": {
            "_model_module": "@jupyter-widgets/base",
            "_model_module_version": "1.2.0",
            "_model_name": "LayoutModel",
            "_view_count": null,
            "_view_module": "@jupyter-widgets/base",
            "_view_module_version": "1.2.0",
            "_view_name": "LayoutView",
            "align_content": null,
            "align_items": null,
            "align_self": null,
            "border": null,
            "bottom": null,
            "display": null,
            "flex": null,
            "flex_flow": null,
            "grid_area": null,
            "grid_auto_columns": null,
            "grid_auto_flow": null,
            "grid_auto_rows": null,
            "grid_column": null,
            "grid_gap": null,
            "grid_row": null,
            "grid_template_areas": null,
            "grid_template_columns": null,
            "grid_template_rows": null,
            "height": null,
            "justify_content": null,
            "justify_items": null,
            "left": null,
            "margin": null,
            "max_height": null,
            "max_width": null,
            "min_height": null,
            "min_width": null,
            "object_fit": null,
            "object_position": null,
            "order": null,
            "overflow": null,
            "overflow_x": null,
            "overflow_y": null,
            "padding": null,
            "right": null,
            "top": null,
            "visibility": null,
            "width": null
          }
        },
        "0267c1fdd7fc4f02b7372e8808757290": {
          "model_module": "@jupyter-widgets/base",
          "model_name": "LayoutModel",
          "model_module_version": "1.2.0",
          "state": {
            "_model_module": "@jupyter-widgets/base",
            "_model_module_version": "1.2.0",
            "_model_name": "LayoutModel",
            "_view_count": null,
            "_view_module": "@jupyter-widgets/base",
            "_view_module_version": "1.2.0",
            "_view_name": "LayoutView",
            "align_content": null,
            "align_items": null,
            "align_self": null,
            "border": null,
            "bottom": null,
            "display": null,
            "flex": null,
            "flex_flow": null,
            "grid_area": null,
            "grid_auto_columns": null,
            "grid_auto_flow": null,
            "grid_auto_rows": null,
            "grid_column": null,
            "grid_gap": null,
            "grid_row": null,
            "grid_template_areas": null,
            "grid_template_columns": null,
            "grid_template_rows": null,
            "height": null,
            "justify_content": null,
            "justify_items": null,
            "left": null,
            "margin": null,
            "max_height": null,
            "max_width": null,
            "min_height": null,
            "min_width": null,
            "object_fit": null,
            "object_position": null,
            "order": null,
            "overflow": null,
            "overflow_x": null,
            "overflow_y": null,
            "padding": null,
            "right": null,
            "top": null,
            "visibility": null,
            "width": null
          }
        },
        "d84e458201a747b79bd1c532be8c710b": {
          "model_module": "@jupyter-widgets/controls",
          "model_name": "DescriptionStyleModel",
          "model_module_version": "1.5.0",
          "state": {
            "_model_module": "@jupyter-widgets/controls",
            "_model_module_version": "1.5.0",
            "_model_name": "DescriptionStyleModel",
            "_view_count": null,
            "_view_module": "@jupyter-widgets/base",
            "_view_module_version": "1.2.0",
            "_view_name": "StyleView",
            "description_width": ""
          }
        },
        "a8c9a40e0f424e7684b9202ceb638dd0": {
          "model_module": "@jupyter-widgets/base",
          "model_name": "LayoutModel",
          "model_module_version": "1.2.0",
          "state": {
            "_model_module": "@jupyter-widgets/base",
            "_model_module_version": "1.2.0",
            "_model_name": "LayoutModel",
            "_view_count": null,
            "_view_module": "@jupyter-widgets/base",
            "_view_module_version": "1.2.0",
            "_view_name": "LayoutView",
            "align_content": null,
            "align_items": null,
            "align_self": null,
            "border": null,
            "bottom": null,
            "display": null,
            "flex": null,
            "flex_flow": null,
            "grid_area": null,
            "grid_auto_columns": null,
            "grid_auto_flow": null,
            "grid_auto_rows": null,
            "grid_column": null,
            "grid_gap": null,
            "grid_row": null,
            "grid_template_areas": null,
            "grid_template_columns": null,
            "grid_template_rows": null,
            "height": null,
            "justify_content": null,
            "justify_items": null,
            "left": null,
            "margin": null,
            "max_height": null,
            "max_width": null,
            "min_height": null,
            "min_width": null,
            "object_fit": null,
            "object_position": null,
            "order": null,
            "overflow": null,
            "overflow_x": null,
            "overflow_y": null,
            "padding": null,
            "right": null,
            "top": null,
            "visibility": null,
            "width": null
          }
        },
        "f9f108a9ef21437ebde2d0ac684b275e": {
          "model_module": "@jupyter-widgets/controls",
          "model_name": "ProgressStyleModel",
          "model_module_version": "1.5.0",
          "state": {
            "_model_module": "@jupyter-widgets/controls",
            "_model_module_version": "1.5.0",
            "_model_name": "ProgressStyleModel",
            "_view_count": null,
            "_view_module": "@jupyter-widgets/base",
            "_view_module_version": "1.2.0",
            "_view_name": "StyleView",
            "bar_color": null,
            "description_width": ""
          }
        },
        "4528752067b9476a832071d61a29b957": {
          "model_module": "@jupyter-widgets/base",
          "model_name": "LayoutModel",
          "model_module_version": "1.2.0",
          "state": {
            "_model_module": "@jupyter-widgets/base",
            "_model_module_version": "1.2.0",
            "_model_name": "LayoutModel",
            "_view_count": null,
            "_view_module": "@jupyter-widgets/base",
            "_view_module_version": "1.2.0",
            "_view_name": "LayoutView",
            "align_content": null,
            "align_items": null,
            "align_self": null,
            "border": null,
            "bottom": null,
            "display": null,
            "flex": null,
            "flex_flow": null,
            "grid_area": null,
            "grid_auto_columns": null,
            "grid_auto_flow": null,
            "grid_auto_rows": null,
            "grid_column": null,
            "grid_gap": null,
            "grid_row": null,
            "grid_template_areas": null,
            "grid_template_columns": null,
            "grid_template_rows": null,
            "height": null,
            "justify_content": null,
            "justify_items": null,
            "left": null,
            "margin": null,
            "max_height": null,
            "max_width": null,
            "min_height": null,
            "min_width": null,
            "object_fit": null,
            "object_position": null,
            "order": null,
            "overflow": null,
            "overflow_x": null,
            "overflow_y": null,
            "padding": null,
            "right": null,
            "top": null,
            "visibility": null,
            "width": null
          }
        },
        "2e39d8852e584a09a05e3f71df3f1233": {
          "model_module": "@jupyter-widgets/controls",
          "model_name": "DescriptionStyleModel",
          "model_module_version": "1.5.0",
          "state": {
            "_model_module": "@jupyter-widgets/controls",
            "_model_module_version": "1.5.0",
            "_model_name": "DescriptionStyleModel",
            "_view_count": null,
            "_view_module": "@jupyter-widgets/base",
            "_view_module_version": "1.2.0",
            "_view_name": "StyleView",
            "description_width": ""
          }
        },
        "17928e92c9c347c2bc548b2875548947": {
          "model_module": "@jupyter-widgets/controls",
          "model_name": "HBoxModel",
          "model_module_version": "1.5.0",
          "state": {
            "_dom_classes": [],
            "_model_module": "@jupyter-widgets/controls",
            "_model_module_version": "1.5.0",
            "_model_name": "HBoxModel",
            "_view_count": null,
            "_view_module": "@jupyter-widgets/controls",
            "_view_module_version": "1.5.0",
            "_view_name": "HBoxView",
            "box_style": "",
            "children": [
              "IPY_MODEL_efdc0d3c490a4c1db738b85667a042a4",
              "IPY_MODEL_7ed7c42e33b64ab6ae5343d193ea0c39",
              "IPY_MODEL_359bfee807c24f35ba72f221a301e3b4"
            ],
            "layout": "IPY_MODEL_99a3f13d7dee422aaf5314412bd7e090"
          }
        },
        "efdc0d3c490a4c1db738b85667a042a4": {
          "model_module": "@jupyter-widgets/controls",
          "model_name": "HTMLModel",
          "model_module_version": "1.5.0",
          "state": {
            "_dom_classes": [],
            "_model_module": "@jupyter-widgets/controls",
            "_model_module_version": "1.5.0",
            "_model_name": "HTMLModel",
            "_view_count": null,
            "_view_module": "@jupyter-widgets/controls",
            "_view_module_version": "1.5.0",
            "_view_name": "HTMLView",
            "description": "",
            "description_tooltip": null,
            "layout": "IPY_MODEL_aefa512f78b546548f2e07cd5e2947f1",
            "placeholder": "​",
            "style": "IPY_MODEL_bd96599691124eceb61962a8931b010c",
            "value": "Generating validation split: 100%"
          }
        },
        "7ed7c42e33b64ab6ae5343d193ea0c39": {
          "model_module": "@jupyter-widgets/controls",
          "model_name": "FloatProgressModel",
          "model_module_version": "1.5.0",
          "state": {
            "_dom_classes": [],
            "_model_module": "@jupyter-widgets/controls",
            "_model_module_version": "1.5.0",
            "_model_name": "FloatProgressModel",
            "_view_count": null,
            "_view_module": "@jupyter-widgets/controls",
            "_view_module_version": "1.5.0",
            "_view_name": "ProgressView",
            "bar_style": "success",
            "description": "",
            "description_tooltip": null,
            "layout": "IPY_MODEL_b400278e74044a0c92331591a0ede481",
            "max": 1066,
            "min": 0,
            "orientation": "horizontal",
            "style": "IPY_MODEL_a0348f9d90224a22976182578600183b",
            "value": 1066
          }
        },
        "359bfee807c24f35ba72f221a301e3b4": {
          "model_module": "@jupyter-widgets/controls",
          "model_name": "HTMLModel",
          "model_module_version": "1.5.0",
          "state": {
            "_dom_classes": [],
            "_model_module": "@jupyter-widgets/controls",
            "_model_module_version": "1.5.0",
            "_model_name": "HTMLModel",
            "_view_count": null,
            "_view_module": "@jupyter-widgets/controls",
            "_view_module_version": "1.5.0",
            "_view_name": "HTMLView",
            "description": "",
            "description_tooltip": null,
            "layout": "IPY_MODEL_be94a83922d84c98a9b1ea3b437c59c6",
            "placeholder": "​",
            "style": "IPY_MODEL_64feb3a47a9c47f4a54590da698f0200",
            "value": " 1066/1066 [00:00&lt;00:00, 21383.44 examples/s]"
          }
        },
        "99a3f13d7dee422aaf5314412bd7e090": {
          "model_module": "@jupyter-widgets/base",
          "model_name": "LayoutModel",
          "model_module_version": "1.2.0",
          "state": {
            "_model_module": "@jupyter-widgets/base",
            "_model_module_version": "1.2.0",
            "_model_name": "LayoutModel",
            "_view_count": null,
            "_view_module": "@jupyter-widgets/base",
            "_view_module_version": "1.2.0",
            "_view_name": "LayoutView",
            "align_content": null,
            "align_items": null,
            "align_self": null,
            "border": null,
            "bottom": null,
            "display": null,
            "flex": null,
            "flex_flow": null,
            "grid_area": null,
            "grid_auto_columns": null,
            "grid_auto_flow": null,
            "grid_auto_rows": null,
            "grid_column": null,
            "grid_gap": null,
            "grid_row": null,
            "grid_template_areas": null,
            "grid_template_columns": null,
            "grid_template_rows": null,
            "height": null,
            "justify_content": null,
            "justify_items": null,
            "left": null,
            "margin": null,
            "max_height": null,
            "max_width": null,
            "min_height": null,
            "min_width": null,
            "object_fit": null,
            "object_position": null,
            "order": null,
            "overflow": null,
            "overflow_x": null,
            "overflow_y": null,
            "padding": null,
            "right": null,
            "top": null,
            "visibility": null,
            "width": null
          }
        },
        "aefa512f78b546548f2e07cd5e2947f1": {
          "model_module": "@jupyter-widgets/base",
          "model_name": "LayoutModel",
          "model_module_version": "1.2.0",
          "state": {
            "_model_module": "@jupyter-widgets/base",
            "_model_module_version": "1.2.0",
            "_model_name": "LayoutModel",
            "_view_count": null,
            "_view_module": "@jupyter-widgets/base",
            "_view_module_version": "1.2.0",
            "_view_name": "LayoutView",
            "align_content": null,
            "align_items": null,
            "align_self": null,
            "border": null,
            "bottom": null,
            "display": null,
            "flex": null,
            "flex_flow": null,
            "grid_area": null,
            "grid_auto_columns": null,
            "grid_auto_flow": null,
            "grid_auto_rows": null,
            "grid_column": null,
            "grid_gap": null,
            "grid_row": null,
            "grid_template_areas": null,
            "grid_template_columns": null,
            "grid_template_rows": null,
            "height": null,
            "justify_content": null,
            "justify_items": null,
            "left": null,
            "margin": null,
            "max_height": null,
            "max_width": null,
            "min_height": null,
            "min_width": null,
            "object_fit": null,
            "object_position": null,
            "order": null,
            "overflow": null,
            "overflow_x": null,
            "overflow_y": null,
            "padding": null,
            "right": null,
            "top": null,
            "visibility": null,
            "width": null
          }
        },
        "bd96599691124eceb61962a8931b010c": {
          "model_module": "@jupyter-widgets/controls",
          "model_name": "DescriptionStyleModel",
          "model_module_version": "1.5.0",
          "state": {
            "_model_module": "@jupyter-widgets/controls",
            "_model_module_version": "1.5.0",
            "_model_name": "DescriptionStyleModel",
            "_view_count": null,
            "_view_module": "@jupyter-widgets/base",
            "_view_module_version": "1.2.0",
            "_view_name": "StyleView",
            "description_width": ""
          }
        },
        "b400278e74044a0c92331591a0ede481": {
          "model_module": "@jupyter-widgets/base",
          "model_name": "LayoutModel",
          "model_module_version": "1.2.0",
          "state": {
            "_model_module": "@jupyter-widgets/base",
            "_model_module_version": "1.2.0",
            "_model_name": "LayoutModel",
            "_view_count": null,
            "_view_module": "@jupyter-widgets/base",
            "_view_module_version": "1.2.0",
            "_view_name": "LayoutView",
            "align_content": null,
            "align_items": null,
            "align_self": null,
            "border": null,
            "bottom": null,
            "display": null,
            "flex": null,
            "flex_flow": null,
            "grid_area": null,
            "grid_auto_columns": null,
            "grid_auto_flow": null,
            "grid_auto_rows": null,
            "grid_column": null,
            "grid_gap": null,
            "grid_row": null,
            "grid_template_areas": null,
            "grid_template_columns": null,
            "grid_template_rows": null,
            "height": null,
            "justify_content": null,
            "justify_items": null,
            "left": null,
            "margin": null,
            "max_height": null,
            "max_width": null,
            "min_height": null,
            "min_width": null,
            "object_fit": null,
            "object_position": null,
            "order": null,
            "overflow": null,
            "overflow_x": null,
            "overflow_y": null,
            "padding": null,
            "right": null,
            "top": null,
            "visibility": null,
            "width": null
          }
        },
        "a0348f9d90224a22976182578600183b": {
          "model_module": "@jupyter-widgets/controls",
          "model_name": "ProgressStyleModel",
          "model_module_version": "1.5.0",
          "state": {
            "_model_module": "@jupyter-widgets/controls",
            "_model_module_version": "1.5.0",
            "_model_name": "ProgressStyleModel",
            "_view_count": null,
            "_view_module": "@jupyter-widgets/base",
            "_view_module_version": "1.2.0",
            "_view_name": "StyleView",
            "bar_color": null,
            "description_width": ""
          }
        },
        "be94a83922d84c98a9b1ea3b437c59c6": {
          "model_module": "@jupyter-widgets/base",
          "model_name": "LayoutModel",
          "model_module_version": "1.2.0",
          "state": {
            "_model_module": "@jupyter-widgets/base",
            "_model_module_version": "1.2.0",
            "_model_name": "LayoutModel",
            "_view_count": null,
            "_view_module": "@jupyter-widgets/base",
            "_view_module_version": "1.2.0",
            "_view_name": "LayoutView",
            "align_content": null,
            "align_items": null,
            "align_self": null,
            "border": null,
            "bottom": null,
            "display": null,
            "flex": null,
            "flex_flow": null,
            "grid_area": null,
            "grid_auto_columns": null,
            "grid_auto_flow": null,
            "grid_auto_rows": null,
            "grid_column": null,
            "grid_gap": null,
            "grid_row": null,
            "grid_template_areas": null,
            "grid_template_columns": null,
            "grid_template_rows": null,
            "height": null,
            "justify_content": null,
            "justify_items": null,
            "left": null,
            "margin": null,
            "max_height": null,
            "max_width": null,
            "min_height": null,
            "min_width": null,
            "object_fit": null,
            "object_position": null,
            "order": null,
            "overflow": null,
            "overflow_x": null,
            "overflow_y": null,
            "padding": null,
            "right": null,
            "top": null,
            "visibility": null,
            "width": null
          }
        },
        "64feb3a47a9c47f4a54590da698f0200": {
          "model_module": "@jupyter-widgets/controls",
          "model_name": "DescriptionStyleModel",
          "model_module_version": "1.5.0",
          "state": {
            "_model_module": "@jupyter-widgets/controls",
            "_model_module_version": "1.5.0",
            "_model_name": "DescriptionStyleModel",
            "_view_count": null,
            "_view_module": "@jupyter-widgets/base",
            "_view_module_version": "1.2.0",
            "_view_name": "StyleView",
            "description_width": ""
          }
        },
        "5e82311f5d5843a0aab711723e4534c9": {
          "model_module": "@jupyter-widgets/controls",
          "model_name": "HBoxModel",
          "model_module_version": "1.5.0",
          "state": {
            "_dom_classes": [],
            "_model_module": "@jupyter-widgets/controls",
            "_model_module_version": "1.5.0",
            "_model_name": "HBoxModel",
            "_view_count": null,
            "_view_module": "@jupyter-widgets/controls",
            "_view_module_version": "1.5.0",
            "_view_name": "HBoxView",
            "box_style": "",
            "children": [
              "IPY_MODEL_cdd3117f876649469cff9c33ac6a7e69",
              "IPY_MODEL_457529aac1154e25a46ba3b909026b2d",
              "IPY_MODEL_4a50ebfeb5aa4d558cc28edb27b79dfc"
            ],
            "layout": "IPY_MODEL_80ff91d2f83f46ff81edca8f0ab0dc2c"
          }
        },
        "cdd3117f876649469cff9c33ac6a7e69": {
          "model_module": "@jupyter-widgets/controls",
          "model_name": "HTMLModel",
          "model_module_version": "1.5.0",
          "state": {
            "_dom_classes": [],
            "_model_module": "@jupyter-widgets/controls",
            "_model_module_version": "1.5.0",
            "_model_name": "HTMLModel",
            "_view_count": null,
            "_view_module": "@jupyter-widgets/controls",
            "_view_module_version": "1.5.0",
            "_view_name": "HTMLView",
            "description": "",
            "description_tooltip": null,
            "layout": "IPY_MODEL_e44ebbe985c64b2fbc0a6884a2841be7",
            "placeholder": "​",
            "style": "IPY_MODEL_a5c3c05ca49b41118078c99f1ad9a9eb",
            "value": "Generating test split: 100%"
          }
        },
        "457529aac1154e25a46ba3b909026b2d": {
          "model_module": "@jupyter-widgets/controls",
          "model_name": "FloatProgressModel",
          "model_module_version": "1.5.0",
          "state": {
            "_dom_classes": [],
            "_model_module": "@jupyter-widgets/controls",
            "_model_module_version": "1.5.0",
            "_model_name": "FloatProgressModel",
            "_view_count": null,
            "_view_module": "@jupyter-widgets/controls",
            "_view_module_version": "1.5.0",
            "_view_name": "ProgressView",
            "bar_style": "success",
            "description": "",
            "description_tooltip": null,
            "layout": "IPY_MODEL_8f3f0fce09414af69a9e9f017a32a315",
            "max": 1066,
            "min": 0,
            "orientation": "horizontal",
            "style": "IPY_MODEL_3e636a592c15467a935617b1e67d7ee8",
            "value": 1066
          }
        },
        "4a50ebfeb5aa4d558cc28edb27b79dfc": {
          "model_module": "@jupyter-widgets/controls",
          "model_name": "HTMLModel",
          "model_module_version": "1.5.0",
          "state": {
            "_dom_classes": [],
            "_model_module": "@jupyter-widgets/controls",
            "_model_module_version": "1.5.0",
            "_model_name": "HTMLModel",
            "_view_count": null,
            "_view_module": "@jupyter-widgets/controls",
            "_view_module_version": "1.5.0",
            "_view_name": "HTMLView",
            "description": "",
            "description_tooltip": null,
            "layout": "IPY_MODEL_b8bc9f4644f144e3a54c04f7381fbf94",
            "placeholder": "​",
            "style": "IPY_MODEL_5692c996263a461d8c215ee71d5cac23",
            "value": " 1066/1066 [00:00&lt;00:00, 27652.13 examples/s]"
          }
        },
        "80ff91d2f83f46ff81edca8f0ab0dc2c": {
          "model_module": "@jupyter-widgets/base",
          "model_name": "LayoutModel",
          "model_module_version": "1.2.0",
          "state": {
            "_model_module": "@jupyter-widgets/base",
            "_model_module_version": "1.2.0",
            "_model_name": "LayoutModel",
            "_view_count": null,
            "_view_module": "@jupyter-widgets/base",
            "_view_module_version": "1.2.0",
            "_view_name": "LayoutView",
            "align_content": null,
            "align_items": null,
            "align_self": null,
            "border": null,
            "bottom": null,
            "display": null,
            "flex": null,
            "flex_flow": null,
            "grid_area": null,
            "grid_auto_columns": null,
            "grid_auto_flow": null,
            "grid_auto_rows": null,
            "grid_column": null,
            "grid_gap": null,
            "grid_row": null,
            "grid_template_areas": null,
            "grid_template_columns": null,
            "grid_template_rows": null,
            "height": null,
            "justify_content": null,
            "justify_items": null,
            "left": null,
            "margin": null,
            "max_height": null,
            "max_width": null,
            "min_height": null,
            "min_width": null,
            "object_fit": null,
            "object_position": null,
            "order": null,
            "overflow": null,
            "overflow_x": null,
            "overflow_y": null,
            "padding": null,
            "right": null,
            "top": null,
            "visibility": null,
            "width": null
          }
        },
        "e44ebbe985c64b2fbc0a6884a2841be7": {
          "model_module": "@jupyter-widgets/base",
          "model_name": "LayoutModel",
          "model_module_version": "1.2.0",
          "state": {
            "_model_module": "@jupyter-widgets/base",
            "_model_module_version": "1.2.0",
            "_model_name": "LayoutModel",
            "_view_count": null,
            "_view_module": "@jupyter-widgets/base",
            "_view_module_version": "1.2.0",
            "_view_name": "LayoutView",
            "align_content": null,
            "align_items": null,
            "align_self": null,
            "border": null,
            "bottom": null,
            "display": null,
            "flex": null,
            "flex_flow": null,
            "grid_area": null,
            "grid_auto_columns": null,
            "grid_auto_flow": null,
            "grid_auto_rows": null,
            "grid_column": null,
            "grid_gap": null,
            "grid_row": null,
            "grid_template_areas": null,
            "grid_template_columns": null,
            "grid_template_rows": null,
            "height": null,
            "justify_content": null,
            "justify_items": null,
            "left": null,
            "margin": null,
            "max_height": null,
            "max_width": null,
            "min_height": null,
            "min_width": null,
            "object_fit": null,
            "object_position": null,
            "order": null,
            "overflow": null,
            "overflow_x": null,
            "overflow_y": null,
            "padding": null,
            "right": null,
            "top": null,
            "visibility": null,
            "width": null
          }
        },
        "a5c3c05ca49b41118078c99f1ad9a9eb": {
          "model_module": "@jupyter-widgets/controls",
          "model_name": "DescriptionStyleModel",
          "model_module_version": "1.5.0",
          "state": {
            "_model_module": "@jupyter-widgets/controls",
            "_model_module_version": "1.5.0",
            "_model_name": "DescriptionStyleModel",
            "_view_count": null,
            "_view_module": "@jupyter-widgets/base",
            "_view_module_version": "1.2.0",
            "_view_name": "StyleView",
            "description_width": ""
          }
        },
        "8f3f0fce09414af69a9e9f017a32a315": {
          "model_module": "@jupyter-widgets/base",
          "model_name": "LayoutModel",
          "model_module_version": "1.2.0",
          "state": {
            "_model_module": "@jupyter-widgets/base",
            "_model_module_version": "1.2.0",
            "_model_name": "LayoutModel",
            "_view_count": null,
            "_view_module": "@jupyter-widgets/base",
            "_view_module_version": "1.2.0",
            "_view_name": "LayoutView",
            "align_content": null,
            "align_items": null,
            "align_self": null,
            "border": null,
            "bottom": null,
            "display": null,
            "flex": null,
            "flex_flow": null,
            "grid_area": null,
            "grid_auto_columns": null,
            "grid_auto_flow": null,
            "grid_auto_rows": null,
            "grid_column": null,
            "grid_gap": null,
            "grid_row": null,
            "grid_template_areas": null,
            "grid_template_columns": null,
            "grid_template_rows": null,
            "height": null,
            "justify_content": null,
            "justify_items": null,
            "left": null,
            "margin": null,
            "max_height": null,
            "max_width": null,
            "min_height": null,
            "min_width": null,
            "object_fit": null,
            "object_position": null,
            "order": null,
            "overflow": null,
            "overflow_x": null,
            "overflow_y": null,
            "padding": null,
            "right": null,
            "top": null,
            "visibility": null,
            "width": null
          }
        },
        "3e636a592c15467a935617b1e67d7ee8": {
          "model_module": "@jupyter-widgets/controls",
          "model_name": "ProgressStyleModel",
          "model_module_version": "1.5.0",
          "state": {
            "_model_module": "@jupyter-widgets/controls",
            "_model_module_version": "1.5.0",
            "_model_name": "ProgressStyleModel",
            "_view_count": null,
            "_view_module": "@jupyter-widgets/base",
            "_view_module_version": "1.2.0",
            "_view_name": "StyleView",
            "bar_color": null,
            "description_width": ""
          }
        },
        "b8bc9f4644f144e3a54c04f7381fbf94": {
          "model_module": "@jupyter-widgets/base",
          "model_name": "LayoutModel",
          "model_module_version": "1.2.0",
          "state": {
            "_model_module": "@jupyter-widgets/base",
            "_model_module_version": "1.2.0",
            "_model_name": "LayoutModel",
            "_view_count": null,
            "_view_module": "@jupyter-widgets/base",
            "_view_module_version": "1.2.0",
            "_view_name": "LayoutView",
            "align_content": null,
            "align_items": null,
            "align_self": null,
            "border": null,
            "bottom": null,
            "display": null,
            "flex": null,
            "flex_flow": null,
            "grid_area": null,
            "grid_auto_columns": null,
            "grid_auto_flow": null,
            "grid_auto_rows": null,
            "grid_column": null,
            "grid_gap": null,
            "grid_row": null,
            "grid_template_areas": null,
            "grid_template_columns": null,
            "grid_template_rows": null,
            "height": null,
            "justify_content": null,
            "justify_items": null,
            "left": null,
            "margin": null,
            "max_height": null,
            "max_width": null,
            "min_height": null,
            "min_width": null,
            "object_fit": null,
            "object_position": null,
            "order": null,
            "overflow": null,
            "overflow_x": null,
            "overflow_y": null,
            "padding": null,
            "right": null,
            "top": null,
            "visibility": null,
            "width": null
          }
        },
        "5692c996263a461d8c215ee71d5cac23": {
          "model_module": "@jupyter-widgets/controls",
          "model_name": "DescriptionStyleModel",
          "model_module_version": "1.5.0",
          "state": {
            "_model_module": "@jupyter-widgets/controls",
            "_model_module_version": "1.5.0",
            "_model_name": "DescriptionStyleModel",
            "_view_count": null,
            "_view_module": "@jupyter-widgets/base",
            "_view_module_version": "1.2.0",
            "_view_name": "StyleView",
            "description_width": ""
          }
        },
        "8697c0a27488406eb278d410d517f503": {
          "model_module": "@jupyter-widgets/controls",
          "model_name": "HBoxModel",
          "model_module_version": "1.5.0",
          "state": {
            "_dom_classes": [],
            "_model_module": "@jupyter-widgets/controls",
            "_model_module_version": "1.5.0",
            "_model_name": "HBoxModel",
            "_view_count": null,
            "_view_module": "@jupyter-widgets/controls",
            "_view_module_version": "1.5.0",
            "_view_name": "HBoxView",
            "box_style": "",
            "children": [
              "IPY_MODEL_7d55b1a579df436e81393d83c38047a2",
              "IPY_MODEL_c98bd1161adc4af9b9d494dbff7bf251",
              "IPY_MODEL_57a960c102f343e687a8126c139763f7"
            ],
            "layout": "IPY_MODEL_a844a212adf5499dbcdb99eeda7f1a94"
          }
        },
        "7d55b1a579df436e81393d83c38047a2": {
          "model_module": "@jupyter-widgets/controls",
          "model_name": "HTMLModel",
          "model_module_version": "1.5.0",
          "state": {
            "_dom_classes": [],
            "_model_module": "@jupyter-widgets/controls",
            "_model_module_version": "1.5.0",
            "_model_name": "HTMLModel",
            "_view_count": null,
            "_view_module": "@jupyter-widgets/controls",
            "_view_module_version": "1.5.0",
            "_view_name": "HTMLView",
            "description": "",
            "description_tooltip": null,
            "layout": "IPY_MODEL_6f26d96c625a4512924c1413a5d1fc03",
            "placeholder": "​",
            "style": "IPY_MODEL_95c4f513d7ce42f7850a163bff3439c5",
            "value": "Map: 100%"
          }
        },
        "c98bd1161adc4af9b9d494dbff7bf251": {
          "model_module": "@jupyter-widgets/controls",
          "model_name": "FloatProgressModel",
          "model_module_version": "1.5.0",
          "state": {
            "_dom_classes": [],
            "_model_module": "@jupyter-widgets/controls",
            "_model_module_version": "1.5.0",
            "_model_name": "FloatProgressModel",
            "_view_count": null,
            "_view_module": "@jupyter-widgets/controls",
            "_view_module_version": "1.5.0",
            "_view_name": "ProgressView",
            "bar_style": "success",
            "description": "",
            "description_tooltip": null,
            "layout": "IPY_MODEL_3a391a9fa6e943bc96ae7beacdde8f1f",
            "max": 8530,
            "min": 0,
            "orientation": "horizontal",
            "style": "IPY_MODEL_2afd6a105e204343b90a6cb1f83065cd",
            "value": 8530
          }
        },
        "57a960c102f343e687a8126c139763f7": {
          "model_module": "@jupyter-widgets/controls",
          "model_name": "HTMLModel",
          "model_module_version": "1.5.0",
          "state": {
            "_dom_classes": [],
            "_model_module": "@jupyter-widgets/controls",
            "_model_module_version": "1.5.0",
            "_model_name": "HTMLModel",
            "_view_count": null,
            "_view_module": "@jupyter-widgets/controls",
            "_view_module_version": "1.5.0",
            "_view_name": "HTMLView",
            "description": "",
            "description_tooltip": null,
            "layout": "IPY_MODEL_35bb45591b5c4de0af1012f2161768e2",
            "placeholder": "​",
            "style": "IPY_MODEL_9082e20e8bbd448985b0fa44ac496a39",
            "value": " 8530/8530 [00:01&lt;00:00, 7019.60 examples/s]"
          }
        },
        "a844a212adf5499dbcdb99eeda7f1a94": {
          "model_module": "@jupyter-widgets/base",
          "model_name": "LayoutModel",
          "model_module_version": "1.2.0",
          "state": {
            "_model_module": "@jupyter-widgets/base",
            "_model_module_version": "1.2.0",
            "_model_name": "LayoutModel",
            "_view_count": null,
            "_view_module": "@jupyter-widgets/base",
            "_view_module_version": "1.2.0",
            "_view_name": "LayoutView",
            "align_content": null,
            "align_items": null,
            "align_self": null,
            "border": null,
            "bottom": null,
            "display": null,
            "flex": null,
            "flex_flow": null,
            "grid_area": null,
            "grid_auto_columns": null,
            "grid_auto_flow": null,
            "grid_auto_rows": null,
            "grid_column": null,
            "grid_gap": null,
            "grid_row": null,
            "grid_template_areas": null,
            "grid_template_columns": null,
            "grid_template_rows": null,
            "height": null,
            "justify_content": null,
            "justify_items": null,
            "left": null,
            "margin": null,
            "max_height": null,
            "max_width": null,
            "min_height": null,
            "min_width": null,
            "object_fit": null,
            "object_position": null,
            "order": null,
            "overflow": null,
            "overflow_x": null,
            "overflow_y": null,
            "padding": null,
            "right": null,
            "top": null,
            "visibility": null,
            "width": null
          }
        },
        "6f26d96c625a4512924c1413a5d1fc03": {
          "model_module": "@jupyter-widgets/base",
          "model_name": "LayoutModel",
          "model_module_version": "1.2.0",
          "state": {
            "_model_module": "@jupyter-widgets/base",
            "_model_module_version": "1.2.0",
            "_model_name": "LayoutModel",
            "_view_count": null,
            "_view_module": "@jupyter-widgets/base",
            "_view_module_version": "1.2.0",
            "_view_name": "LayoutView",
            "align_content": null,
            "align_items": null,
            "align_self": null,
            "border": null,
            "bottom": null,
            "display": null,
            "flex": null,
            "flex_flow": null,
            "grid_area": null,
            "grid_auto_columns": null,
            "grid_auto_flow": null,
            "grid_auto_rows": null,
            "grid_column": null,
            "grid_gap": null,
            "grid_row": null,
            "grid_template_areas": null,
            "grid_template_columns": null,
            "grid_template_rows": null,
            "height": null,
            "justify_content": null,
            "justify_items": null,
            "left": null,
            "margin": null,
            "max_height": null,
            "max_width": null,
            "min_height": null,
            "min_width": null,
            "object_fit": null,
            "object_position": null,
            "order": null,
            "overflow": null,
            "overflow_x": null,
            "overflow_y": null,
            "padding": null,
            "right": null,
            "top": null,
            "visibility": null,
            "width": null
          }
        },
        "95c4f513d7ce42f7850a163bff3439c5": {
          "model_module": "@jupyter-widgets/controls",
          "model_name": "DescriptionStyleModel",
          "model_module_version": "1.5.0",
          "state": {
            "_model_module": "@jupyter-widgets/controls",
            "_model_module_version": "1.5.0",
            "_model_name": "DescriptionStyleModel",
            "_view_count": null,
            "_view_module": "@jupyter-widgets/base",
            "_view_module_version": "1.2.0",
            "_view_name": "StyleView",
            "description_width": ""
          }
        },
        "3a391a9fa6e943bc96ae7beacdde8f1f": {
          "model_module": "@jupyter-widgets/base",
          "model_name": "LayoutModel",
          "model_module_version": "1.2.0",
          "state": {
            "_model_module": "@jupyter-widgets/base",
            "_model_module_version": "1.2.0",
            "_model_name": "LayoutModel",
            "_view_count": null,
            "_view_module": "@jupyter-widgets/base",
            "_view_module_version": "1.2.0",
            "_view_name": "LayoutView",
            "align_content": null,
            "align_items": null,
            "align_self": null,
            "border": null,
            "bottom": null,
            "display": null,
            "flex": null,
            "flex_flow": null,
            "grid_area": null,
            "grid_auto_columns": null,
            "grid_auto_flow": null,
            "grid_auto_rows": null,
            "grid_column": null,
            "grid_gap": null,
            "grid_row": null,
            "grid_template_areas": null,
            "grid_template_columns": null,
            "grid_template_rows": null,
            "height": null,
            "justify_content": null,
            "justify_items": null,
            "left": null,
            "margin": null,
            "max_height": null,
            "max_width": null,
            "min_height": null,
            "min_width": null,
            "object_fit": null,
            "object_position": null,
            "order": null,
            "overflow": null,
            "overflow_x": null,
            "overflow_y": null,
            "padding": null,
            "right": null,
            "top": null,
            "visibility": null,
            "width": null
          }
        },
        "2afd6a105e204343b90a6cb1f83065cd": {
          "model_module": "@jupyter-widgets/controls",
          "model_name": "ProgressStyleModel",
          "model_module_version": "1.5.0",
          "state": {
            "_model_module": "@jupyter-widgets/controls",
            "_model_module_version": "1.5.0",
            "_model_name": "ProgressStyleModel",
            "_view_count": null,
            "_view_module": "@jupyter-widgets/base",
            "_view_module_version": "1.2.0",
            "_view_name": "StyleView",
            "bar_color": null,
            "description_width": ""
          }
        },
        "35bb45591b5c4de0af1012f2161768e2": {
          "model_module": "@jupyter-widgets/base",
          "model_name": "LayoutModel",
          "model_module_version": "1.2.0",
          "state": {
            "_model_module": "@jupyter-widgets/base",
            "_model_module_version": "1.2.0",
            "_model_name": "LayoutModel",
            "_view_count": null,
            "_view_module": "@jupyter-widgets/base",
            "_view_module_version": "1.2.0",
            "_view_name": "LayoutView",
            "align_content": null,
            "align_items": null,
            "align_self": null,
            "border": null,
            "bottom": null,
            "display": null,
            "flex": null,
            "flex_flow": null,
            "grid_area": null,
            "grid_auto_columns": null,
            "grid_auto_flow": null,
            "grid_auto_rows": null,
            "grid_column": null,
            "grid_gap": null,
            "grid_row": null,
            "grid_template_areas": null,
            "grid_template_columns": null,
            "grid_template_rows": null,
            "height": null,
            "justify_content": null,
            "justify_items": null,
            "left": null,
            "margin": null,
            "max_height": null,
            "max_width": null,
            "min_height": null,
            "min_width": null,
            "object_fit": null,
            "object_position": null,
            "order": null,
            "overflow": null,
            "overflow_x": null,
            "overflow_y": null,
            "padding": null,
            "right": null,
            "top": null,
            "visibility": null,
            "width": null
          }
        },
        "9082e20e8bbd448985b0fa44ac496a39": {
          "model_module": "@jupyter-widgets/controls",
          "model_name": "DescriptionStyleModel",
          "model_module_version": "1.5.0",
          "state": {
            "_model_module": "@jupyter-widgets/controls",
            "_model_module_version": "1.5.0",
            "_model_name": "DescriptionStyleModel",
            "_view_count": null,
            "_view_module": "@jupyter-widgets/base",
            "_view_module_version": "1.2.0",
            "_view_name": "StyleView",
            "description_width": ""
          }
        },
        "3b305288d2514bdca4e1d0c58f64692d": {
          "model_module": "@jupyter-widgets/controls",
          "model_name": "HBoxModel",
          "model_module_version": "1.5.0",
          "state": {
            "_dom_classes": [],
            "_model_module": "@jupyter-widgets/controls",
            "_model_module_version": "1.5.0",
            "_model_name": "HBoxModel",
            "_view_count": null,
            "_view_module": "@jupyter-widgets/controls",
            "_view_module_version": "1.5.0",
            "_view_name": "HBoxView",
            "box_style": "",
            "children": [
              "IPY_MODEL_943a0dbdc5744d1280507beaa53ba852",
              "IPY_MODEL_47bbed8e6d034deb98d0f792842a0841",
              "IPY_MODEL_6528cd461ddb4f0bb5312dd93a72c8a5"
            ],
            "layout": "IPY_MODEL_e519715662f5455d88aa7fd917f805bf"
          }
        },
        "943a0dbdc5744d1280507beaa53ba852": {
          "model_module": "@jupyter-widgets/controls",
          "model_name": "HTMLModel",
          "model_module_version": "1.5.0",
          "state": {
            "_dom_classes": [],
            "_model_module": "@jupyter-widgets/controls",
            "_model_module_version": "1.5.0",
            "_model_name": "HTMLModel",
            "_view_count": null,
            "_view_module": "@jupyter-widgets/controls",
            "_view_module_version": "1.5.0",
            "_view_name": "HTMLView",
            "description": "",
            "description_tooltip": null,
            "layout": "IPY_MODEL_24bb7b4379a041aa847de1e374e30e28",
            "placeholder": "​",
            "style": "IPY_MODEL_5be8bda604e844e5bfc18c6e0851db80",
            "value": "Map: 100%"
          }
        },
        "47bbed8e6d034deb98d0f792842a0841": {
          "model_module": "@jupyter-widgets/controls",
          "model_name": "FloatProgressModel",
          "model_module_version": "1.5.0",
          "state": {
            "_dom_classes": [],
            "_model_module": "@jupyter-widgets/controls",
            "_model_module_version": "1.5.0",
            "_model_name": "FloatProgressModel",
            "_view_count": null,
            "_view_module": "@jupyter-widgets/controls",
            "_view_module_version": "1.5.0",
            "_view_name": "ProgressView",
            "bar_style": "success",
            "description": "",
            "description_tooltip": null,
            "layout": "IPY_MODEL_7cccb9b908e7486289ee4585fc8aecdd",
            "max": 1066,
            "min": 0,
            "orientation": "horizontal",
            "style": "IPY_MODEL_cb6026d4dacb40ea8c94e8b327db671d",
            "value": 1066
          }
        },
        "6528cd461ddb4f0bb5312dd93a72c8a5": {
          "model_module": "@jupyter-widgets/controls",
          "model_name": "HTMLModel",
          "model_module_version": "1.5.0",
          "state": {
            "_dom_classes": [],
            "_model_module": "@jupyter-widgets/controls",
            "_model_module_version": "1.5.0",
            "_model_name": "HTMLModel",
            "_view_count": null,
            "_view_module": "@jupyter-widgets/controls",
            "_view_module_version": "1.5.0",
            "_view_name": "HTMLView",
            "description": "",
            "description_tooltip": null,
            "layout": "IPY_MODEL_0195ce00e3b7469cb7312caaffe2527c",
            "placeholder": "​",
            "style": "IPY_MODEL_5c86dcd9a1aa43bba8fbd262d2eba1b1",
            "value": " 1066/1066 [00:00&lt;00:00, 6673.32 examples/s]"
          }
        },
        "e519715662f5455d88aa7fd917f805bf": {
          "model_module": "@jupyter-widgets/base",
          "model_name": "LayoutModel",
          "model_module_version": "1.2.0",
          "state": {
            "_model_module": "@jupyter-widgets/base",
            "_model_module_version": "1.2.0",
            "_model_name": "LayoutModel",
            "_view_count": null,
            "_view_module": "@jupyter-widgets/base",
            "_view_module_version": "1.2.0",
            "_view_name": "LayoutView",
            "align_content": null,
            "align_items": null,
            "align_self": null,
            "border": null,
            "bottom": null,
            "display": null,
            "flex": null,
            "flex_flow": null,
            "grid_area": null,
            "grid_auto_columns": null,
            "grid_auto_flow": null,
            "grid_auto_rows": null,
            "grid_column": null,
            "grid_gap": null,
            "grid_row": null,
            "grid_template_areas": null,
            "grid_template_columns": null,
            "grid_template_rows": null,
            "height": null,
            "justify_content": null,
            "justify_items": null,
            "left": null,
            "margin": null,
            "max_height": null,
            "max_width": null,
            "min_height": null,
            "min_width": null,
            "object_fit": null,
            "object_position": null,
            "order": null,
            "overflow": null,
            "overflow_x": null,
            "overflow_y": null,
            "padding": null,
            "right": null,
            "top": null,
            "visibility": null,
            "width": null
          }
        },
        "24bb7b4379a041aa847de1e374e30e28": {
          "model_module": "@jupyter-widgets/base",
          "model_name": "LayoutModel",
          "model_module_version": "1.2.0",
          "state": {
            "_model_module": "@jupyter-widgets/base",
            "_model_module_version": "1.2.0",
            "_model_name": "LayoutModel",
            "_view_count": null,
            "_view_module": "@jupyter-widgets/base",
            "_view_module_version": "1.2.0",
            "_view_name": "LayoutView",
            "align_content": null,
            "align_items": null,
            "align_self": null,
            "border": null,
            "bottom": null,
            "display": null,
            "flex": null,
            "flex_flow": null,
            "grid_area": null,
            "grid_auto_columns": null,
            "grid_auto_flow": null,
            "grid_auto_rows": null,
            "grid_column": null,
            "grid_gap": null,
            "grid_row": null,
            "grid_template_areas": null,
            "grid_template_columns": null,
            "grid_template_rows": null,
            "height": null,
            "justify_content": null,
            "justify_items": null,
            "left": null,
            "margin": null,
            "max_height": null,
            "max_width": null,
            "min_height": null,
            "min_width": null,
            "object_fit": null,
            "object_position": null,
            "order": null,
            "overflow": null,
            "overflow_x": null,
            "overflow_y": null,
            "padding": null,
            "right": null,
            "top": null,
            "visibility": null,
            "width": null
          }
        },
        "5be8bda604e844e5bfc18c6e0851db80": {
          "model_module": "@jupyter-widgets/controls",
          "model_name": "DescriptionStyleModel",
          "model_module_version": "1.5.0",
          "state": {
            "_model_module": "@jupyter-widgets/controls",
            "_model_module_version": "1.5.0",
            "_model_name": "DescriptionStyleModel",
            "_view_count": null,
            "_view_module": "@jupyter-widgets/base",
            "_view_module_version": "1.2.0",
            "_view_name": "StyleView",
            "description_width": ""
          }
        },
        "7cccb9b908e7486289ee4585fc8aecdd": {
          "model_module": "@jupyter-widgets/base",
          "model_name": "LayoutModel",
          "model_module_version": "1.2.0",
          "state": {
            "_model_module": "@jupyter-widgets/base",
            "_model_module_version": "1.2.0",
            "_model_name": "LayoutModel",
            "_view_count": null,
            "_view_module": "@jupyter-widgets/base",
            "_view_module_version": "1.2.0",
            "_view_name": "LayoutView",
            "align_content": null,
            "align_items": null,
            "align_self": null,
            "border": null,
            "bottom": null,
            "display": null,
            "flex": null,
            "flex_flow": null,
            "grid_area": null,
            "grid_auto_columns": null,
            "grid_auto_flow": null,
            "grid_auto_rows": null,
            "grid_column": null,
            "grid_gap": null,
            "grid_row": null,
            "grid_template_areas": null,
            "grid_template_columns": null,
            "grid_template_rows": null,
            "height": null,
            "justify_content": null,
            "justify_items": null,
            "left": null,
            "margin": null,
            "max_height": null,
            "max_width": null,
            "min_height": null,
            "min_width": null,
            "object_fit": null,
            "object_position": null,
            "order": null,
            "overflow": null,
            "overflow_x": null,
            "overflow_y": null,
            "padding": null,
            "right": null,
            "top": null,
            "visibility": null,
            "width": null
          }
        },
        "cb6026d4dacb40ea8c94e8b327db671d": {
          "model_module": "@jupyter-widgets/controls",
          "model_name": "ProgressStyleModel",
          "model_module_version": "1.5.0",
          "state": {
            "_model_module": "@jupyter-widgets/controls",
            "_model_module_version": "1.5.0",
            "_model_name": "ProgressStyleModel",
            "_view_count": null,
            "_view_module": "@jupyter-widgets/base",
            "_view_module_version": "1.2.0",
            "_view_name": "StyleView",
            "bar_color": null,
            "description_width": ""
          }
        },
        "0195ce00e3b7469cb7312caaffe2527c": {
          "model_module": "@jupyter-widgets/base",
          "model_name": "LayoutModel",
          "model_module_version": "1.2.0",
          "state": {
            "_model_module": "@jupyter-widgets/base",
            "_model_module_version": "1.2.0",
            "_model_name": "LayoutModel",
            "_view_count": null,
            "_view_module": "@jupyter-widgets/base",
            "_view_module_version": "1.2.0",
            "_view_name": "LayoutView",
            "align_content": null,
            "align_items": null,
            "align_self": null,
            "border": null,
            "bottom": null,
            "display": null,
            "flex": null,
            "flex_flow": null,
            "grid_area": null,
            "grid_auto_columns": null,
            "grid_auto_flow": null,
            "grid_auto_rows": null,
            "grid_column": null,
            "grid_gap": null,
            "grid_row": null,
            "grid_template_areas": null,
            "grid_template_columns": null,
            "grid_template_rows": null,
            "height": null,
            "justify_content": null,
            "justify_items": null,
            "left": null,
            "margin": null,
            "max_height": null,
            "max_width": null,
            "min_height": null,
            "min_width": null,
            "object_fit": null,
            "object_position": null,
            "order": null,
            "overflow": null,
            "overflow_x": null,
            "overflow_y": null,
            "padding": null,
            "right": null,
            "top": null,
            "visibility": null,
            "width": null
          }
        },
        "5c86dcd9a1aa43bba8fbd262d2eba1b1": {
          "model_module": "@jupyter-widgets/controls",
          "model_name": "DescriptionStyleModel",
          "model_module_version": "1.5.0",
          "state": {
            "_model_module": "@jupyter-widgets/controls",
            "_model_module_version": "1.5.0",
            "_model_name": "DescriptionStyleModel",
            "_view_count": null,
            "_view_module": "@jupyter-widgets/base",
            "_view_module_version": "1.2.0",
            "_view_name": "StyleView",
            "description_width": ""
          }
        },
        "0683b546010c460daabf6e5c0687dd32": {
          "model_module": "@jupyter-widgets/controls",
          "model_name": "HBoxModel",
          "model_module_version": "1.5.0",
          "state": {
            "_dom_classes": [],
            "_model_module": "@jupyter-widgets/controls",
            "_model_module_version": "1.5.0",
            "_model_name": "HBoxModel",
            "_view_count": null,
            "_view_module": "@jupyter-widgets/controls",
            "_view_module_version": "1.5.0",
            "_view_name": "HBoxView",
            "box_style": "",
            "children": [
              "IPY_MODEL_7291b4f8ee084333900f34cb686b88f6",
              "IPY_MODEL_35f8db472e1d4b63a1b1a6b141224c5d",
              "IPY_MODEL_4adec6a13d2443b999961c98f071838b"
            ],
            "layout": "IPY_MODEL_4117883eabe242c39e6f6958817ab69d"
          }
        },
        "7291b4f8ee084333900f34cb686b88f6": {
          "model_module": "@jupyter-widgets/controls",
          "model_name": "HTMLModel",
          "model_module_version": "1.5.0",
          "state": {
            "_dom_classes": [],
            "_model_module": "@jupyter-widgets/controls",
            "_model_module_version": "1.5.0",
            "_model_name": "HTMLModel",
            "_view_count": null,
            "_view_module": "@jupyter-widgets/controls",
            "_view_module_version": "1.5.0",
            "_view_name": "HTMLView",
            "description": "",
            "description_tooltip": null,
            "layout": "IPY_MODEL_e45a31d2cca549e18de6d8a33f079dec",
            "placeholder": "​",
            "style": "IPY_MODEL_a95fd27e04244c788c76e46130962b7a",
            "value": "Map: 100%"
          }
        },
        "35f8db472e1d4b63a1b1a6b141224c5d": {
          "model_module": "@jupyter-widgets/controls",
          "model_name": "FloatProgressModel",
          "model_module_version": "1.5.0",
          "state": {
            "_dom_classes": [],
            "_model_module": "@jupyter-widgets/controls",
            "_model_module_version": "1.5.0",
            "_model_name": "FloatProgressModel",
            "_view_count": null,
            "_view_module": "@jupyter-widgets/controls",
            "_view_module_version": "1.5.0",
            "_view_name": "ProgressView",
            "bar_style": "success",
            "description": "",
            "description_tooltip": null,
            "layout": "IPY_MODEL_0ce5af03e2d84ab28e5d09d9a2190849",
            "max": 1066,
            "min": 0,
            "orientation": "horizontal",
            "style": "IPY_MODEL_52e70cb6bcb34116902bc7fbda05bf11",
            "value": 1066
          }
        },
        "4adec6a13d2443b999961c98f071838b": {
          "model_module": "@jupyter-widgets/controls",
          "model_name": "HTMLModel",
          "model_module_version": "1.5.0",
          "state": {
            "_dom_classes": [],
            "_model_module": "@jupyter-widgets/controls",
            "_model_module_version": "1.5.0",
            "_model_name": "HTMLModel",
            "_view_count": null,
            "_view_module": "@jupyter-widgets/controls",
            "_view_module_version": "1.5.0",
            "_view_name": "HTMLView",
            "description": "",
            "description_tooltip": null,
            "layout": "IPY_MODEL_a4b728cab26d4a9b83b77596f0754ab5",
            "placeholder": "​",
            "style": "IPY_MODEL_10f68df12cec43b698c09276c00e1ca6",
            "value": " 1066/1066 [00:00&lt;00:00, 7058.82 examples/s]"
          }
        },
        "4117883eabe242c39e6f6958817ab69d": {
          "model_module": "@jupyter-widgets/base",
          "model_name": "LayoutModel",
          "model_module_version": "1.2.0",
          "state": {
            "_model_module": "@jupyter-widgets/base",
            "_model_module_version": "1.2.0",
            "_model_name": "LayoutModel",
            "_view_count": null,
            "_view_module": "@jupyter-widgets/base",
            "_view_module_version": "1.2.0",
            "_view_name": "LayoutView",
            "align_content": null,
            "align_items": null,
            "align_self": null,
            "border": null,
            "bottom": null,
            "display": null,
            "flex": null,
            "flex_flow": null,
            "grid_area": null,
            "grid_auto_columns": null,
            "grid_auto_flow": null,
            "grid_auto_rows": null,
            "grid_column": null,
            "grid_gap": null,
            "grid_row": null,
            "grid_template_areas": null,
            "grid_template_columns": null,
            "grid_template_rows": null,
            "height": null,
            "justify_content": null,
            "justify_items": null,
            "left": null,
            "margin": null,
            "max_height": null,
            "max_width": null,
            "min_height": null,
            "min_width": null,
            "object_fit": null,
            "object_position": null,
            "order": null,
            "overflow": null,
            "overflow_x": null,
            "overflow_y": null,
            "padding": null,
            "right": null,
            "top": null,
            "visibility": null,
            "width": null
          }
        },
        "e45a31d2cca549e18de6d8a33f079dec": {
          "model_module": "@jupyter-widgets/base",
          "model_name": "LayoutModel",
          "model_module_version": "1.2.0",
          "state": {
            "_model_module": "@jupyter-widgets/base",
            "_model_module_version": "1.2.0",
            "_model_name": "LayoutModel",
            "_view_count": null,
            "_view_module": "@jupyter-widgets/base",
            "_view_module_version": "1.2.0",
            "_view_name": "LayoutView",
            "align_content": null,
            "align_items": null,
            "align_self": null,
            "border": null,
            "bottom": null,
            "display": null,
            "flex": null,
            "flex_flow": null,
            "grid_area": null,
            "grid_auto_columns": null,
            "grid_auto_flow": null,
            "grid_auto_rows": null,
            "grid_column": null,
            "grid_gap": null,
            "grid_row": null,
            "grid_template_areas": null,
            "grid_template_columns": null,
            "grid_template_rows": null,
            "height": null,
            "justify_content": null,
            "justify_items": null,
            "left": null,
            "margin": null,
            "max_height": null,
            "max_width": null,
            "min_height": null,
            "min_width": null,
            "object_fit": null,
            "object_position": null,
            "order": null,
            "overflow": null,
            "overflow_x": null,
            "overflow_y": null,
            "padding": null,
            "right": null,
            "top": null,
            "visibility": null,
            "width": null
          }
        },
        "a95fd27e04244c788c76e46130962b7a": {
          "model_module": "@jupyter-widgets/controls",
          "model_name": "DescriptionStyleModel",
          "model_module_version": "1.5.0",
          "state": {
            "_model_module": "@jupyter-widgets/controls",
            "_model_module_version": "1.5.0",
            "_model_name": "DescriptionStyleModel",
            "_view_count": null,
            "_view_module": "@jupyter-widgets/base",
            "_view_module_version": "1.2.0",
            "_view_name": "StyleView",
            "description_width": ""
          }
        },
        "0ce5af03e2d84ab28e5d09d9a2190849": {
          "model_module": "@jupyter-widgets/base",
          "model_name": "LayoutModel",
          "model_module_version": "1.2.0",
          "state": {
            "_model_module": "@jupyter-widgets/base",
            "_model_module_version": "1.2.0",
            "_model_name": "LayoutModel",
            "_view_count": null,
            "_view_module": "@jupyter-widgets/base",
            "_view_module_version": "1.2.0",
            "_view_name": "LayoutView",
            "align_content": null,
            "align_items": null,
            "align_self": null,
            "border": null,
            "bottom": null,
            "display": null,
            "flex": null,
            "flex_flow": null,
            "grid_area": null,
            "grid_auto_columns": null,
            "grid_auto_flow": null,
            "grid_auto_rows": null,
            "grid_column": null,
            "grid_gap": null,
            "grid_row": null,
            "grid_template_areas": null,
            "grid_template_columns": null,
            "grid_template_rows": null,
            "height": null,
            "justify_content": null,
            "justify_items": null,
            "left": null,
            "margin": null,
            "max_height": null,
            "max_width": null,
            "min_height": null,
            "min_width": null,
            "object_fit": null,
            "object_position": null,
            "order": null,
            "overflow": null,
            "overflow_x": null,
            "overflow_y": null,
            "padding": null,
            "right": null,
            "top": null,
            "visibility": null,
            "width": null
          }
        },
        "52e70cb6bcb34116902bc7fbda05bf11": {
          "model_module": "@jupyter-widgets/controls",
          "model_name": "ProgressStyleModel",
          "model_module_version": "1.5.0",
          "state": {
            "_model_module": "@jupyter-widgets/controls",
            "_model_module_version": "1.5.0",
            "_model_name": "ProgressStyleModel",
            "_view_count": null,
            "_view_module": "@jupyter-widgets/base",
            "_view_module_version": "1.2.0",
            "_view_name": "StyleView",
            "bar_color": null,
            "description_width": ""
          }
        },
        "a4b728cab26d4a9b83b77596f0754ab5": {
          "model_module": "@jupyter-widgets/base",
          "model_name": "LayoutModel",
          "model_module_version": "1.2.0",
          "state": {
            "_model_module": "@jupyter-widgets/base",
            "_model_module_version": "1.2.0",
            "_model_name": "LayoutModel",
            "_view_count": null,
            "_view_module": "@jupyter-widgets/base",
            "_view_module_version": "1.2.0",
            "_view_name": "LayoutView",
            "align_content": null,
            "align_items": null,
            "align_self": null,
            "border": null,
            "bottom": null,
            "display": null,
            "flex": null,
            "flex_flow": null,
            "grid_area": null,
            "grid_auto_columns": null,
            "grid_auto_flow": null,
            "grid_auto_rows": null,
            "grid_column": null,
            "grid_gap": null,
            "grid_row": null,
            "grid_template_areas": null,
            "grid_template_columns": null,
            "grid_template_rows": null,
            "height": null,
            "justify_content": null,
            "justify_items": null,
            "left": null,
            "margin": null,
            "max_height": null,
            "max_width": null,
            "min_height": null,
            "min_width": null,
            "object_fit": null,
            "object_position": null,
            "order": null,
            "overflow": null,
            "overflow_x": null,
            "overflow_y": null,
            "padding": null,
            "right": null,
            "top": null,
            "visibility": null,
            "width": null
          }
        },
        "10f68df12cec43b698c09276c00e1ca6": {
          "model_module": "@jupyter-widgets/controls",
          "model_name": "DescriptionStyleModel",
          "model_module_version": "1.5.0",
          "state": {
            "_model_module": "@jupyter-widgets/controls",
            "_model_module_version": "1.5.0",
            "_model_name": "DescriptionStyleModel",
            "_view_count": null,
            "_view_module": "@jupyter-widgets/base",
            "_view_module_version": "1.2.0",
            "_view_name": "StyleView",
            "description_width": ""
          }
        }
      }
    }
  },
  "nbformat": 4,
  "nbformat_minor": 0
}