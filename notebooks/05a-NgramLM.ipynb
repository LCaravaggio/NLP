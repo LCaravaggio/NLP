{
  "nbformat": 4,
  "nbformat_minor": 0,
  "metadata": {
    "colab": {
      "provenance": [],
      "include_colab_link": true
    },
    "kernelspec": {
      "name": "python3",
      "display_name": "Python 3"
    },
    "widgets": {
      "application/vnd.jupyter.widget-state+json": {
        "8638870bf35d4e908a0ddafa99df9ce1": {
          "model_module": "@jupyter-widgets/controls",
          "model_name": "HBoxModel",
          "model_module_version": "1.5.0",
          "state": {
            "_dom_classes": [],
            "_model_module": "@jupyter-widgets/controls",
            "_model_module_version": "1.5.0",
            "_model_name": "HBoxModel",
            "_view_count": null,
            "_view_module": "@jupyter-widgets/controls",
            "_view_module_version": "1.5.0",
            "_view_name": "HBoxView",
            "box_style": "",
            "children": [
              "IPY_MODEL_362d0767535543e687a9486cd90f62eb",
              "IPY_MODEL_cd34dd2de7644cc080ef543344f8f348",
              "IPY_MODEL_a8fe401a60c643c2bbc095074460b009"
            ],
            "layout": "IPY_MODEL_1240e1e28a354099b06bdba1362ac5cb"
          }
        },
        "362d0767535543e687a9486cd90f62eb": {
          "model_module": "@jupyter-widgets/controls",
          "model_name": "HTMLModel",
          "model_module_version": "1.5.0",
          "state": {
            "_dom_classes": [],
            "_model_module": "@jupyter-widgets/controls",
            "_model_module_version": "1.5.0",
            "_model_name": "HTMLModel",
            "_view_count": null,
            "_view_module": "@jupyter-widgets/controls",
            "_view_module_version": "1.5.0",
            "_view_name": "HTMLView",
            "description": "",
            "description_tooltip": null,
            "layout": "IPY_MODEL_d1c306b5c7314b0b9e23af7f7706d4f6",
            "placeholder": "​",
            "style": "IPY_MODEL_f07b73fd290f472794ca8f46d379ca14",
            "value": "README.md: 100%"
          }
        },
        "cd34dd2de7644cc080ef543344f8f348": {
          "model_module": "@jupyter-widgets/controls",
          "model_name": "FloatProgressModel",
          "model_module_version": "1.5.0",
          "state": {
            "_dom_classes": [],
            "_model_module": "@jupyter-widgets/controls",
            "_model_module_version": "1.5.0",
            "_model_name": "FloatProgressModel",
            "_view_count": null,
            "_view_module": "@jupyter-widgets/controls",
            "_view_module_version": "1.5.0",
            "_view_name": "ProgressView",
            "bar_style": "success",
            "description": "",
            "description_tooltip": null,
            "layout": "IPY_MODEL_fdb0cf6b807841f496f4fda088aef2db",
            "max": 10857,
            "min": 0,
            "orientation": "horizontal",
            "style": "IPY_MODEL_7ff9a0a9df7248738c20279e678ed46f",
            "value": 10857
          }
        },
        "a8fe401a60c643c2bbc095074460b009": {
          "model_module": "@jupyter-widgets/controls",
          "model_name": "HTMLModel",
          "model_module_version": "1.5.0",
          "state": {
            "_dom_classes": [],
            "_model_module": "@jupyter-widgets/controls",
            "_model_module_version": "1.5.0",
            "_model_name": "HTMLModel",
            "_view_count": null,
            "_view_module": "@jupyter-widgets/controls",
            "_view_module_version": "1.5.0",
            "_view_name": "HTMLView",
            "description": "",
            "description_tooltip": null,
            "layout": "IPY_MODEL_f42a559de96e4606b8149b3ca2ec08ac",
            "placeholder": "​",
            "style": "IPY_MODEL_8d2a525fa66e47559e9702616f015434",
            "value": " 10.9k/10.9k [00:00&lt;00:00, 504kB/s]"
          }
        },
        "1240e1e28a354099b06bdba1362ac5cb": {
          "model_module": "@jupyter-widgets/base",
          "model_name": "LayoutModel",
          "model_module_version": "1.2.0",
          "state": {
            "_model_module": "@jupyter-widgets/base",
            "_model_module_version": "1.2.0",
            "_model_name": "LayoutModel",
            "_view_count": null,
            "_view_module": "@jupyter-widgets/base",
            "_view_module_version": "1.2.0",
            "_view_name": "LayoutView",
            "align_content": null,
            "align_items": null,
            "align_self": null,
            "border": null,
            "bottom": null,
            "display": null,
            "flex": null,
            "flex_flow": null,
            "grid_area": null,
            "grid_auto_columns": null,
            "grid_auto_flow": null,
            "grid_auto_rows": null,
            "grid_column": null,
            "grid_gap": null,
            "grid_row": null,
            "grid_template_areas": null,
            "grid_template_columns": null,
            "grid_template_rows": null,
            "height": null,
            "justify_content": null,
            "justify_items": null,
            "left": null,
            "margin": null,
            "max_height": null,
            "max_width": null,
            "min_height": null,
            "min_width": null,
            "object_fit": null,
            "object_position": null,
            "order": null,
            "overflow": null,
            "overflow_x": null,
            "overflow_y": null,
            "padding": null,
            "right": null,
            "top": null,
            "visibility": null,
            "width": null
          }
        },
        "d1c306b5c7314b0b9e23af7f7706d4f6": {
          "model_module": "@jupyter-widgets/base",
          "model_name": "LayoutModel",
          "model_module_version": "1.2.0",
          "state": {
            "_model_module": "@jupyter-widgets/base",
            "_model_module_version": "1.2.0",
            "_model_name": "LayoutModel",
            "_view_count": null,
            "_view_module": "@jupyter-widgets/base",
            "_view_module_version": "1.2.0",
            "_view_name": "LayoutView",
            "align_content": null,
            "align_items": null,
            "align_self": null,
            "border": null,
            "bottom": null,
            "display": null,
            "flex": null,
            "flex_flow": null,
            "grid_area": null,
            "grid_auto_columns": null,
            "grid_auto_flow": null,
            "grid_auto_rows": null,
            "grid_column": null,
            "grid_gap": null,
            "grid_row": null,
            "grid_template_areas": null,
            "grid_template_columns": null,
            "grid_template_rows": null,
            "height": null,
            "justify_content": null,
            "justify_items": null,
            "left": null,
            "margin": null,
            "max_height": null,
            "max_width": null,
            "min_height": null,
            "min_width": null,
            "object_fit": null,
            "object_position": null,
            "order": null,
            "overflow": null,
            "overflow_x": null,
            "overflow_y": null,
            "padding": null,
            "right": null,
            "top": null,
            "visibility": null,
            "width": null
          }
        },
        "f07b73fd290f472794ca8f46d379ca14": {
          "model_module": "@jupyter-widgets/controls",
          "model_name": "DescriptionStyleModel",
          "model_module_version": "1.5.0",
          "state": {
            "_model_module": "@jupyter-widgets/controls",
            "_model_module_version": "1.5.0",
            "_model_name": "DescriptionStyleModel",
            "_view_count": null,
            "_view_module": "@jupyter-widgets/base",
            "_view_module_version": "1.2.0",
            "_view_name": "StyleView",
            "description_width": ""
          }
        },
        "fdb0cf6b807841f496f4fda088aef2db": {
          "model_module": "@jupyter-widgets/base",
          "model_name": "LayoutModel",
          "model_module_version": "1.2.0",
          "state": {
            "_model_module": "@jupyter-widgets/base",
            "_model_module_version": "1.2.0",
            "_model_name": "LayoutModel",
            "_view_count": null,
            "_view_module": "@jupyter-widgets/base",
            "_view_module_version": "1.2.0",
            "_view_name": "LayoutView",
            "align_content": null,
            "align_items": null,
            "align_self": null,
            "border": null,
            "bottom": null,
            "display": null,
            "flex": null,
            "flex_flow": null,
            "grid_area": null,
            "grid_auto_columns": null,
            "grid_auto_flow": null,
            "grid_auto_rows": null,
            "grid_column": null,
            "grid_gap": null,
            "grid_row": null,
            "grid_template_areas": null,
            "grid_template_columns": null,
            "grid_template_rows": null,
            "height": null,
            "justify_content": null,
            "justify_items": null,
            "left": null,
            "margin": null,
            "max_height": null,
            "max_width": null,
            "min_height": null,
            "min_width": null,
            "object_fit": null,
            "object_position": null,
            "order": null,
            "overflow": null,
            "overflow_x": null,
            "overflow_y": null,
            "padding": null,
            "right": null,
            "top": null,
            "visibility": null,
            "width": null
          }
        },
        "7ff9a0a9df7248738c20279e678ed46f": {
          "model_module": "@jupyter-widgets/controls",
          "model_name": "ProgressStyleModel",
          "model_module_version": "1.5.0",
          "state": {
            "_model_module": "@jupyter-widgets/controls",
            "_model_module_version": "1.5.0",
            "_model_name": "ProgressStyleModel",
            "_view_count": null,
            "_view_module": "@jupyter-widgets/base",
            "_view_module_version": "1.2.0",
            "_view_name": "StyleView",
            "bar_color": null,
            "description_width": ""
          }
        },
        "f42a559de96e4606b8149b3ca2ec08ac": {
          "model_module": "@jupyter-widgets/base",
          "model_name": "LayoutModel",
          "model_module_version": "1.2.0",
          "state": {
            "_model_module": "@jupyter-widgets/base",
            "_model_module_version": "1.2.0",
            "_model_name": "LayoutModel",
            "_view_count": null,
            "_view_module": "@jupyter-widgets/base",
            "_view_module_version": "1.2.0",
            "_view_name": "LayoutView",
            "align_content": null,
            "align_items": null,
            "align_self": null,
            "border": null,
            "bottom": null,
            "display": null,
            "flex": null,
            "flex_flow": null,
            "grid_area": null,
            "grid_auto_columns": null,
            "grid_auto_flow": null,
            "grid_auto_rows": null,
            "grid_column": null,
            "grid_gap": null,
            "grid_row": null,
            "grid_template_areas": null,
            "grid_template_columns": null,
            "grid_template_rows": null,
            "height": null,
            "justify_content": null,
            "justify_items": null,
            "left": null,
            "margin": null,
            "max_height": null,
            "max_width": null,
            "min_height": null,
            "min_width": null,
            "object_fit": null,
            "object_position": null,
            "order": null,
            "overflow": null,
            "overflow_x": null,
            "overflow_y": null,
            "padding": null,
            "right": null,
            "top": null,
            "visibility": null,
            "width": null
          }
        },
        "8d2a525fa66e47559e9702616f015434": {
          "model_module": "@jupyter-widgets/controls",
          "model_name": "DescriptionStyleModel",
          "model_module_version": "1.5.0",
          "state": {
            "_model_module": "@jupyter-widgets/controls",
            "_model_module_version": "1.5.0",
            "_model_name": "DescriptionStyleModel",
            "_view_count": null,
            "_view_module": "@jupyter-widgets/base",
            "_view_module_version": "1.2.0",
            "_view_name": "StyleView",
            "description_width": ""
          }
        },
        "d907f2d26bbd4df9b140ea5a9531920f": {
          "model_module": "@jupyter-widgets/controls",
          "model_name": "HBoxModel",
          "model_module_version": "1.5.0",
          "state": {
            "_dom_classes": [],
            "_model_module": "@jupyter-widgets/controls",
            "_model_module_version": "1.5.0",
            "_model_name": "HBoxModel",
            "_view_count": null,
            "_view_module": "@jupyter-widgets/controls",
            "_view_module_version": "1.5.0",
            "_view_name": "HBoxView",
            "box_style": "",
            "children": [
              "IPY_MODEL_4140841c22fb41cfb6630a26387bbbfc",
              "IPY_MODEL_06230be72cf0482d9f546d7750226dd7",
              "IPY_MODEL_4ffe6c1a8a454c30b55abb7f33a01e13"
            ],
            "layout": "IPY_MODEL_05d8899c554e4134a0ff123a533e0b40"
          }
        },
        "4140841c22fb41cfb6630a26387bbbfc": {
          "model_module": "@jupyter-widgets/controls",
          "model_name": "HTMLModel",
          "model_module_version": "1.5.0",
          "state": {
            "_dom_classes": [],
            "_model_module": "@jupyter-widgets/controls",
            "_model_module_version": "1.5.0",
            "_model_name": "HTMLModel",
            "_view_count": null,
            "_view_module": "@jupyter-widgets/controls",
            "_view_module_version": "1.5.0",
            "_view_name": "HTMLView",
            "description": "",
            "description_tooltip": null,
            "layout": "IPY_MODEL_911003c6e74e4cb3b3bf7fff557e8396",
            "placeholder": "​",
            "style": "IPY_MODEL_efd861abb4574a898138d9fbc0a499eb",
            "value": "main.csv: 100%"
          }
        },
        "06230be72cf0482d9f546d7750226dd7": {
          "model_module": "@jupyter-widgets/controls",
          "model_name": "FloatProgressModel",
          "model_module_version": "1.5.0",
          "state": {
            "_dom_classes": [],
            "_model_module": "@jupyter-widgets/controls",
            "_model_module_version": "1.5.0",
            "_model_name": "FloatProgressModel",
            "_view_count": null,
            "_view_module": "@jupyter-widgets/controls",
            "_view_module_version": "1.5.0",
            "_view_name": "ProgressView",
            "bar_style": "success",
            "description": "",
            "description_tooltip": null,
            "layout": "IPY_MODEL_6b36c0adf2ce413c94e2a9d960f636b5",
            "max": 40317661,
            "min": 0,
            "orientation": "horizontal",
            "style": "IPY_MODEL_a8e6ebb24fc34776a40620b3fe3edc03",
            "value": 40317661
          }
        },
        "4ffe6c1a8a454c30b55abb7f33a01e13": {
          "model_module": "@jupyter-widgets/controls",
          "model_name": "HTMLModel",
          "model_module_version": "1.5.0",
          "state": {
            "_dom_classes": [],
            "_model_module": "@jupyter-widgets/controls",
            "_model_module_version": "1.5.0",
            "_model_name": "HTMLModel",
            "_view_count": null,
            "_view_module": "@jupyter-widgets/controls",
            "_view_module_version": "1.5.0",
            "_view_name": "HTMLView",
            "description": "",
            "description_tooltip": null,
            "layout": "IPY_MODEL_037b2ae9498a4768901ad2f84e986f4b",
            "placeholder": "​",
            "style": "IPY_MODEL_bf346f83ad95484cbb2e4ab1f58f8ce2",
            "value": " 40.3M/40.3M [00:00&lt;00:00, 45.2MB/s]"
          }
        },
        "05d8899c554e4134a0ff123a533e0b40": {
          "model_module": "@jupyter-widgets/base",
          "model_name": "LayoutModel",
          "model_module_version": "1.2.0",
          "state": {
            "_model_module": "@jupyter-widgets/base",
            "_model_module_version": "1.2.0",
            "_model_name": "LayoutModel",
            "_view_count": null,
            "_view_module": "@jupyter-widgets/base",
            "_view_module_version": "1.2.0",
            "_view_name": "LayoutView",
            "align_content": null,
            "align_items": null,
            "align_self": null,
            "border": null,
            "bottom": null,
            "display": null,
            "flex": null,
            "flex_flow": null,
            "grid_area": null,
            "grid_auto_columns": null,
            "grid_auto_flow": null,
            "grid_auto_rows": null,
            "grid_column": null,
            "grid_gap": null,
            "grid_row": null,
            "grid_template_areas": null,
            "grid_template_columns": null,
            "grid_template_rows": null,
            "height": null,
            "justify_content": null,
            "justify_items": null,
            "left": null,
            "margin": null,
            "max_height": null,
            "max_width": null,
            "min_height": null,
            "min_width": null,
            "object_fit": null,
            "object_position": null,
            "order": null,
            "overflow": null,
            "overflow_x": null,
            "overflow_y": null,
            "padding": null,
            "right": null,
            "top": null,
            "visibility": null,
            "width": null
          }
        },
        "911003c6e74e4cb3b3bf7fff557e8396": {
          "model_module": "@jupyter-widgets/base",
          "model_name": "LayoutModel",
          "model_module_version": "1.2.0",
          "state": {
            "_model_module": "@jupyter-widgets/base",
            "_model_module_version": "1.2.0",
            "_model_name": "LayoutModel",
            "_view_count": null,
            "_view_module": "@jupyter-widgets/base",
            "_view_module_version": "1.2.0",
            "_view_name": "LayoutView",
            "align_content": null,
            "align_items": null,
            "align_self": null,
            "border": null,
            "bottom": null,
            "display": null,
            "flex": null,
            "flex_flow": null,
            "grid_area": null,
            "grid_auto_columns": null,
            "grid_auto_flow": null,
            "grid_auto_rows": null,
            "grid_column": null,
            "grid_gap": null,
            "grid_row": null,
            "grid_template_areas": null,
            "grid_template_columns": null,
            "grid_template_rows": null,
            "height": null,
            "justify_content": null,
            "justify_items": null,
            "left": null,
            "margin": null,
            "max_height": null,
            "max_width": null,
            "min_height": null,
            "min_width": null,
            "object_fit": null,
            "object_position": null,
            "order": null,
            "overflow": null,
            "overflow_x": null,
            "overflow_y": null,
            "padding": null,
            "right": null,
            "top": null,
            "visibility": null,
            "width": null
          }
        },
        "efd861abb4574a898138d9fbc0a499eb": {
          "model_module": "@jupyter-widgets/controls",
          "model_name": "DescriptionStyleModel",
          "model_module_version": "1.5.0",
          "state": {
            "_model_module": "@jupyter-widgets/controls",
            "_model_module_version": "1.5.0",
            "_model_name": "DescriptionStyleModel",
            "_view_count": null,
            "_view_module": "@jupyter-widgets/base",
            "_view_module_version": "1.2.0",
            "_view_name": "StyleView",
            "description_width": ""
          }
        },
        "6b36c0adf2ce413c94e2a9d960f636b5": {
          "model_module": "@jupyter-widgets/base",
          "model_name": "LayoutModel",
          "model_module_version": "1.2.0",
          "state": {
            "_model_module": "@jupyter-widgets/base",
            "_model_module_version": "1.2.0",
            "_model_name": "LayoutModel",
            "_view_count": null,
            "_view_module": "@jupyter-widgets/base",
            "_view_module_version": "1.2.0",
            "_view_name": "LayoutView",
            "align_content": null,
            "align_items": null,
            "align_self": null,
            "border": null,
            "bottom": null,
            "display": null,
            "flex": null,
            "flex_flow": null,
            "grid_area": null,
            "grid_auto_columns": null,
            "grid_auto_flow": null,
            "grid_auto_rows": null,
            "grid_column": null,
            "grid_gap": null,
            "grid_row": null,
            "grid_template_areas": null,
            "grid_template_columns": null,
            "grid_template_rows": null,
            "height": null,
            "justify_content": null,
            "justify_items": null,
            "left": null,
            "margin": null,
            "max_height": null,
            "max_width": null,
            "min_height": null,
            "min_width": null,
            "object_fit": null,
            "object_position": null,
            "order": null,
            "overflow": null,
            "overflow_x": null,
            "overflow_y": null,
            "padding": null,
            "right": null,
            "top": null,
            "visibility": null,
            "width": null
          }
        },
        "a8e6ebb24fc34776a40620b3fe3edc03": {
          "model_module": "@jupyter-widgets/controls",
          "model_name": "ProgressStyleModel",
          "model_module_version": "1.5.0",
          "state": {
            "_model_module": "@jupyter-widgets/controls",
            "_model_module_version": "1.5.0",
            "_model_name": "ProgressStyleModel",
            "_view_count": null,
            "_view_module": "@jupyter-widgets/base",
            "_view_module_version": "1.2.0",
            "_view_name": "StyleView",
            "bar_color": null,
            "description_width": ""
          }
        },
        "037b2ae9498a4768901ad2f84e986f4b": {
          "model_module": "@jupyter-widgets/base",
          "model_name": "LayoutModel",
          "model_module_version": "1.2.0",
          "state": {
            "_model_module": "@jupyter-widgets/base",
            "_model_module_version": "1.2.0",
            "_model_name": "LayoutModel",
            "_view_count": null,
            "_view_module": "@jupyter-widgets/base",
            "_view_module_version": "1.2.0",
            "_view_name": "LayoutView",
            "align_content": null,
            "align_items": null,
            "align_self": null,
            "border": null,
            "bottom": null,
            "display": null,
            "flex": null,
            "flex_flow": null,
            "grid_area": null,
            "grid_auto_columns": null,
            "grid_auto_flow": null,
            "grid_auto_rows": null,
            "grid_column": null,
            "grid_gap": null,
            "grid_row": null,
            "grid_template_areas": null,
            "grid_template_columns": null,
            "grid_template_rows": null,
            "height": null,
            "justify_content": null,
            "justify_items": null,
            "left": null,
            "margin": null,
            "max_height": null,
            "max_width": null,
            "min_height": null,
            "min_width": null,
            "object_fit": null,
            "object_position": null,
            "order": null,
            "overflow": null,
            "overflow_x": null,
            "overflow_y": null,
            "padding": null,
            "right": null,
            "top": null,
            "visibility": null,
            "width": null
          }
        },
        "bf346f83ad95484cbb2e4ab1f58f8ce2": {
          "model_module": "@jupyter-widgets/controls",
          "model_name": "DescriptionStyleModel",
          "model_module_version": "1.5.0",
          "state": {
            "_model_module": "@jupyter-widgets/controls",
            "_model_module_version": "1.5.0",
            "_model_name": "DescriptionStyleModel",
            "_view_count": null,
            "_view_module": "@jupyter-widgets/base",
            "_view_module_version": "1.2.0",
            "_view_name": "StyleView",
            "description_width": ""
          }
        },
        "9263420b6ea64aa285095b3c6acbaccf": {
          "model_module": "@jupyter-widgets/controls",
          "model_name": "HBoxModel",
          "model_module_version": "1.5.0",
          "state": {
            "_dom_classes": [],
            "_model_module": "@jupyter-widgets/controls",
            "_model_module_version": "1.5.0",
            "_model_name": "HBoxModel",
            "_view_count": null,
            "_view_module": "@jupyter-widgets/controls",
            "_view_module_version": "1.5.0",
            "_view_name": "HBoxView",
            "box_style": "",
            "children": [
              "IPY_MODEL_2a75cf418f4f48dea26c5dcbfe1e4fd4",
              "IPY_MODEL_b6fb957403634805b378628fc863bbf3",
              "IPY_MODEL_5611e8f7e09246658c849aa86a237d11"
            ],
            "layout": "IPY_MODEL_23f23bd9ead74bf6b37cae13a1dbe599"
          }
        },
        "2a75cf418f4f48dea26c5dcbfe1e4fd4": {
          "model_module": "@jupyter-widgets/controls",
          "model_name": "HTMLModel",
          "model_module_version": "1.5.0",
          "state": {
            "_dom_classes": [],
            "_model_module": "@jupyter-widgets/controls",
            "_model_module_version": "1.5.0",
            "_model_name": "HTMLModel",
            "_view_count": null,
            "_view_module": "@jupyter-widgets/controls",
            "_view_module_version": "1.5.0",
            "_view_name": "HTMLView",
            "description": "",
            "description_tooltip": null,
            "layout": "IPY_MODEL_a9cba0b4b81a42edb5f15d4643651b47",
            "placeholder": "​",
            "style": "IPY_MODEL_ba9d956caeac42daa878f7ad908e0207",
            "value": "Generating train split: 100%"
          }
        },
        "b6fb957403634805b378628fc863bbf3": {
          "model_module": "@jupyter-widgets/controls",
          "model_name": "FloatProgressModel",
          "model_module_version": "1.5.0",
          "state": {
            "_dom_classes": [],
            "_model_module": "@jupyter-widgets/controls",
            "_model_module_version": "1.5.0",
            "_model_name": "FloatProgressModel",
            "_view_count": null,
            "_view_module": "@jupyter-widgets/controls",
            "_view_module_version": "1.5.0",
            "_view_name": "ProgressView",
            "bar_style": "success",
            "description": "",
            "description_tooltip": null,
            "layout": "IPY_MODEL_b17bda0b24a348dd88757d386c9e3e97",
            "max": 20236,
            "min": 0,
            "orientation": "horizontal",
            "style": "IPY_MODEL_4e80e6ba5cf84129bd7a64e9967fd105",
            "value": 20236
          }
        },
        "5611e8f7e09246658c849aa86a237d11": {
          "model_module": "@jupyter-widgets/controls",
          "model_name": "HTMLModel",
          "model_module_version": "1.5.0",
          "state": {
            "_dom_classes": [],
            "_model_module": "@jupyter-widgets/controls",
            "_model_module_version": "1.5.0",
            "_model_name": "HTMLModel",
            "_view_count": null,
            "_view_module": "@jupyter-widgets/controls",
            "_view_module_version": "1.5.0",
            "_view_name": "HTMLView",
            "description": "",
            "description_tooltip": null,
            "layout": "IPY_MODEL_12851a4ccaa04f4487fadc66a678bba4",
            "placeholder": "​",
            "style": "IPY_MODEL_ca42c65a9631467bbcf09fc94aaf5f40",
            "value": " 20236/20236 [00:02&lt;00:00, 10086.60 examples/s]"
          }
        },
        "23f23bd9ead74bf6b37cae13a1dbe599": {
          "model_module": "@jupyter-widgets/base",
          "model_name": "LayoutModel",
          "model_module_version": "1.2.0",
          "state": {
            "_model_module": "@jupyter-widgets/base",
            "_model_module_version": "1.2.0",
            "_model_name": "LayoutModel",
            "_view_count": null,
            "_view_module": "@jupyter-widgets/base",
            "_view_module_version": "1.2.0",
            "_view_name": "LayoutView",
            "align_content": null,
            "align_items": null,
            "align_self": null,
            "border": null,
            "bottom": null,
            "display": null,
            "flex": null,
            "flex_flow": null,
            "grid_area": null,
            "grid_auto_columns": null,
            "grid_auto_flow": null,
            "grid_auto_rows": null,
            "grid_column": null,
            "grid_gap": null,
            "grid_row": null,
            "grid_template_areas": null,
            "grid_template_columns": null,
            "grid_template_rows": null,
            "height": null,
            "justify_content": null,
            "justify_items": null,
            "left": null,
            "margin": null,
            "max_height": null,
            "max_width": null,
            "min_height": null,
            "min_width": null,
            "object_fit": null,
            "object_position": null,
            "order": null,
            "overflow": null,
            "overflow_x": null,
            "overflow_y": null,
            "padding": null,
            "right": null,
            "top": null,
            "visibility": null,
            "width": null
          }
        },
        "a9cba0b4b81a42edb5f15d4643651b47": {
          "model_module": "@jupyter-widgets/base",
          "model_name": "LayoutModel",
          "model_module_version": "1.2.0",
          "state": {
            "_model_module": "@jupyter-widgets/base",
            "_model_module_version": "1.2.0",
            "_model_name": "LayoutModel",
            "_view_count": null,
            "_view_module": "@jupyter-widgets/base",
            "_view_module_version": "1.2.0",
            "_view_name": "LayoutView",
            "align_content": null,
            "align_items": null,
            "align_self": null,
            "border": null,
            "bottom": null,
            "display": null,
            "flex": null,
            "flex_flow": null,
            "grid_area": null,
            "grid_auto_columns": null,
            "grid_auto_flow": null,
            "grid_auto_rows": null,
            "grid_column": null,
            "grid_gap": null,
            "grid_row": null,
            "grid_template_areas": null,
            "grid_template_columns": null,
            "grid_template_rows": null,
            "height": null,
            "justify_content": null,
            "justify_items": null,
            "left": null,
            "margin": null,
            "max_height": null,
            "max_width": null,
            "min_height": null,
            "min_width": null,
            "object_fit": null,
            "object_position": null,
            "order": null,
            "overflow": null,
            "overflow_x": null,
            "overflow_y": null,
            "padding": null,
            "right": null,
            "top": null,
            "visibility": null,
            "width": null
          }
        },
        "ba9d956caeac42daa878f7ad908e0207": {
          "model_module": "@jupyter-widgets/controls",
          "model_name": "DescriptionStyleModel",
          "model_module_version": "1.5.0",
          "state": {
            "_model_module": "@jupyter-widgets/controls",
            "_model_module_version": "1.5.0",
            "_model_name": "DescriptionStyleModel",
            "_view_count": null,
            "_view_module": "@jupyter-widgets/base",
            "_view_module_version": "1.2.0",
            "_view_name": "StyleView",
            "description_width": ""
          }
        },
        "b17bda0b24a348dd88757d386c9e3e97": {
          "model_module": "@jupyter-widgets/base",
          "model_name": "LayoutModel",
          "model_module_version": "1.2.0",
          "state": {
            "_model_module": "@jupyter-widgets/base",
            "_model_module_version": "1.2.0",
            "_model_name": "LayoutModel",
            "_view_count": null,
            "_view_module": "@jupyter-widgets/base",
            "_view_module_version": "1.2.0",
            "_view_name": "LayoutView",
            "align_content": null,
            "align_items": null,
            "align_self": null,
            "border": null,
            "bottom": null,
            "display": null,
            "flex": null,
            "flex_flow": null,
            "grid_area": null,
            "grid_auto_columns": null,
            "grid_auto_flow": null,
            "grid_auto_rows": null,
            "grid_column": null,
            "grid_gap": null,
            "grid_row": null,
            "grid_template_areas": null,
            "grid_template_columns": null,
            "grid_template_rows": null,
            "height": null,
            "justify_content": null,
            "justify_items": null,
            "left": null,
            "margin": null,
            "max_height": null,
            "max_width": null,
            "min_height": null,
            "min_width": null,
            "object_fit": null,
            "object_position": null,
            "order": null,
            "overflow": null,
            "overflow_x": null,
            "overflow_y": null,
            "padding": null,
            "right": null,
            "top": null,
            "visibility": null,
            "width": null
          }
        },
        "4e80e6ba5cf84129bd7a64e9967fd105": {
          "model_module": "@jupyter-widgets/controls",
          "model_name": "ProgressStyleModel",
          "model_module_version": "1.5.0",
          "state": {
            "_model_module": "@jupyter-widgets/controls",
            "_model_module_version": "1.5.0",
            "_model_name": "ProgressStyleModel",
            "_view_count": null,
            "_view_module": "@jupyter-widgets/base",
            "_view_module_version": "1.2.0",
            "_view_name": "StyleView",
            "bar_color": null,
            "description_width": ""
          }
        },
        "12851a4ccaa04f4487fadc66a678bba4": {
          "model_module": "@jupyter-widgets/base",
          "model_name": "LayoutModel",
          "model_module_version": "1.2.0",
          "state": {
            "_model_module": "@jupyter-widgets/base",
            "_model_module_version": "1.2.0",
            "_model_name": "LayoutModel",
            "_view_count": null,
            "_view_module": "@jupyter-widgets/base",
            "_view_module_version": "1.2.0",
            "_view_name": "LayoutView",
            "align_content": null,
            "align_items": null,
            "align_self": null,
            "border": null,
            "bottom": null,
            "display": null,
            "flex": null,
            "flex_flow": null,
            "grid_area": null,
            "grid_auto_columns": null,
            "grid_auto_flow": null,
            "grid_auto_rows": null,
            "grid_column": null,
            "grid_gap": null,
            "grid_row": null,
            "grid_template_areas": null,
            "grid_template_columns": null,
            "grid_template_rows": null,
            "height": null,
            "justify_content": null,
            "justify_items": null,
            "left": null,
            "margin": null,
            "max_height": null,
            "max_width": null,
            "min_height": null,
            "min_width": null,
            "object_fit": null,
            "object_position": null,
            "order": null,
            "overflow": null,
            "overflow_x": null,
            "overflow_y": null,
            "padding": null,
            "right": null,
            "top": null,
            "visibility": null,
            "width": null
          }
        },
        "ca42c65a9631467bbcf09fc94aaf5f40": {
          "model_module": "@jupyter-widgets/controls",
          "model_name": "DescriptionStyleModel",
          "model_module_version": "1.5.0",
          "state": {
            "_model_module": "@jupyter-widgets/controls",
            "_model_module_version": "1.5.0",
            "_model_name": "DescriptionStyleModel",
            "_view_count": null,
            "_view_module": "@jupyter-widgets/base",
            "_view_module_version": "1.2.0",
            "_view_name": "StyleView",
            "description_width": ""
          }
        },
        "221e0b2c4cf942dc958b030d8b78d770": {
          "model_module": "@jupyter-widgets/controls",
          "model_name": "HBoxModel",
          "model_module_version": "1.5.0",
          "state": {
            "_dom_classes": [],
            "_model_module": "@jupyter-widgets/controls",
            "_model_module_version": "1.5.0",
            "_model_name": "HBoxModel",
            "_view_count": null,
            "_view_module": "@jupyter-widgets/controls",
            "_view_module_version": "1.5.0",
            "_view_name": "HBoxView",
            "box_style": "",
            "children": [
              "IPY_MODEL_4e545d96647241d5ac464318d9f9df54",
              "IPY_MODEL_6682b0d192934870ab30d4af59177820",
              "IPY_MODEL_e63128b6e9f248ceb7935c80b73db093"
            ],
            "layout": "IPY_MODEL_37f9be02b0c64f69bd058e51a5cb86f2"
          }
        },
        "4e545d96647241d5ac464318d9f9df54": {
          "model_module": "@jupyter-widgets/controls",
          "model_name": "HTMLModel",
          "model_module_version": "1.5.0",
          "state": {
            "_dom_classes": [],
            "_model_module": "@jupyter-widgets/controls",
            "_model_module_version": "1.5.0",
            "_model_name": "HTMLModel",
            "_view_count": null,
            "_view_module": "@jupyter-widgets/controls",
            "_view_module_version": "1.5.0",
            "_view_name": "HTMLView",
            "description": "",
            "description_tooltip": null,
            "layout": "IPY_MODEL_fcc8b76848b646ac81f6b8b0fa18e564",
            "placeholder": "​",
            "style": "IPY_MODEL_f56aeb7f00864ae491cf21ee06c42492",
            "value": "Filter: 100%"
          }
        },
        "6682b0d192934870ab30d4af59177820": {
          "model_module": "@jupyter-widgets/controls",
          "model_name": "FloatProgressModel",
          "model_module_version": "1.5.0",
          "state": {
            "_dom_classes": [],
            "_model_module": "@jupyter-widgets/controls",
            "_model_module_version": "1.5.0",
            "_model_name": "FloatProgressModel",
            "_view_count": null,
            "_view_module": "@jupyter-widgets/controls",
            "_view_module_version": "1.5.0",
            "_view_name": "ProgressView",
            "bar_style": "success",
            "description": "",
            "description_tooltip": null,
            "layout": "IPY_MODEL_c7b3363e780a4121b64a6281fc901cda",
            "max": 20236,
            "min": 0,
            "orientation": "horizontal",
            "style": "IPY_MODEL_9da73aa0c221448fb30e644c8df7605e",
            "value": 20236
          }
        },
        "e63128b6e9f248ceb7935c80b73db093": {
          "model_module": "@jupyter-widgets/controls",
          "model_name": "HTMLModel",
          "model_module_version": "1.5.0",
          "state": {
            "_dom_classes": [],
            "_model_module": "@jupyter-widgets/controls",
            "_model_module_version": "1.5.0",
            "_model_name": "HTMLModel",
            "_view_count": null,
            "_view_module": "@jupyter-widgets/controls",
            "_view_module_version": "1.5.0",
            "_view_name": "HTMLView",
            "description": "",
            "description_tooltip": null,
            "layout": "IPY_MODEL_546c73fd31cf4f0bb2d0b4341d957d37",
            "placeholder": "​",
            "style": "IPY_MODEL_1a11f7eadd834bbe9767f2e292953634",
            "value": " 20236/20236 [00:01&lt;00:00, 19020.77 examples/s]"
          }
        },
        "37f9be02b0c64f69bd058e51a5cb86f2": {
          "model_module": "@jupyter-widgets/base",
          "model_name": "LayoutModel",
          "model_module_version": "1.2.0",
          "state": {
            "_model_module": "@jupyter-widgets/base",
            "_model_module_version": "1.2.0",
            "_model_name": "LayoutModel",
            "_view_count": null,
            "_view_module": "@jupyter-widgets/base",
            "_view_module_version": "1.2.0",
            "_view_name": "LayoutView",
            "align_content": null,
            "align_items": null,
            "align_self": null,
            "border": null,
            "bottom": null,
            "display": null,
            "flex": null,
            "flex_flow": null,
            "grid_area": null,
            "grid_auto_columns": null,
            "grid_auto_flow": null,
            "grid_auto_rows": null,
            "grid_column": null,
            "grid_gap": null,
            "grid_row": null,
            "grid_template_areas": null,
            "grid_template_columns": null,
            "grid_template_rows": null,
            "height": null,
            "justify_content": null,
            "justify_items": null,
            "left": null,
            "margin": null,
            "max_height": null,
            "max_width": null,
            "min_height": null,
            "min_width": null,
            "object_fit": null,
            "object_position": null,
            "order": null,
            "overflow": null,
            "overflow_x": null,
            "overflow_y": null,
            "padding": null,
            "right": null,
            "top": null,
            "visibility": null,
            "width": null
          }
        },
        "fcc8b76848b646ac81f6b8b0fa18e564": {
          "model_module": "@jupyter-widgets/base",
          "model_name": "LayoutModel",
          "model_module_version": "1.2.0",
          "state": {
            "_model_module": "@jupyter-widgets/base",
            "_model_module_version": "1.2.0",
            "_model_name": "LayoutModel",
            "_view_count": null,
            "_view_module": "@jupyter-widgets/base",
            "_view_module_version": "1.2.0",
            "_view_name": "LayoutView",
            "align_content": null,
            "align_items": null,
            "align_self": null,
            "border": null,
            "bottom": null,
            "display": null,
            "flex": null,
            "flex_flow": null,
            "grid_area": null,
            "grid_auto_columns": null,
            "grid_auto_flow": null,
            "grid_auto_rows": null,
            "grid_column": null,
            "grid_gap": null,
            "grid_row": null,
            "grid_template_areas": null,
            "grid_template_columns": null,
            "grid_template_rows": null,
            "height": null,
            "justify_content": null,
            "justify_items": null,
            "left": null,
            "margin": null,
            "max_height": null,
            "max_width": null,
            "min_height": null,
            "min_width": null,
            "object_fit": null,
            "object_position": null,
            "order": null,
            "overflow": null,
            "overflow_x": null,
            "overflow_y": null,
            "padding": null,
            "right": null,
            "top": null,
            "visibility": null,
            "width": null
          }
        },
        "f56aeb7f00864ae491cf21ee06c42492": {
          "model_module": "@jupyter-widgets/controls",
          "model_name": "DescriptionStyleModel",
          "model_module_version": "1.5.0",
          "state": {
            "_model_module": "@jupyter-widgets/controls",
            "_model_module_version": "1.5.0",
            "_model_name": "DescriptionStyleModel",
            "_view_count": null,
            "_view_module": "@jupyter-widgets/base",
            "_view_module_version": "1.2.0",
            "_view_name": "StyleView",
            "description_width": ""
          }
        },
        "c7b3363e780a4121b64a6281fc901cda": {
          "model_module": "@jupyter-widgets/base",
          "model_name": "LayoutModel",
          "model_module_version": "1.2.0",
          "state": {
            "_model_module": "@jupyter-widgets/base",
            "_model_module_version": "1.2.0",
            "_model_name": "LayoutModel",
            "_view_count": null,
            "_view_module": "@jupyter-widgets/base",
            "_view_module_version": "1.2.0",
            "_view_name": "LayoutView",
            "align_content": null,
            "align_items": null,
            "align_self": null,
            "border": null,
            "bottom": null,
            "display": null,
            "flex": null,
            "flex_flow": null,
            "grid_area": null,
            "grid_auto_columns": null,
            "grid_auto_flow": null,
            "grid_auto_rows": null,
            "grid_column": null,
            "grid_gap": null,
            "grid_row": null,
            "grid_template_areas": null,
            "grid_template_columns": null,
            "grid_template_rows": null,
            "height": null,
            "justify_content": null,
            "justify_items": null,
            "left": null,
            "margin": null,
            "max_height": null,
            "max_width": null,
            "min_height": null,
            "min_width": null,
            "object_fit": null,
            "object_position": null,
            "order": null,
            "overflow": null,
            "overflow_x": null,
            "overflow_y": null,
            "padding": null,
            "right": null,
            "top": null,
            "visibility": null,
            "width": null
          }
        },
        "9da73aa0c221448fb30e644c8df7605e": {
          "model_module": "@jupyter-widgets/controls",
          "model_name": "ProgressStyleModel",
          "model_module_version": "1.5.0",
          "state": {
            "_model_module": "@jupyter-widgets/controls",
            "_model_module_version": "1.5.0",
            "_model_name": "ProgressStyleModel",
            "_view_count": null,
            "_view_module": "@jupyter-widgets/base",
            "_view_module_version": "1.2.0",
            "_view_name": "StyleView",
            "bar_color": null,
            "description_width": ""
          }
        },
        "546c73fd31cf4f0bb2d0b4341d957d37": {
          "model_module": "@jupyter-widgets/base",
          "model_name": "LayoutModel",
          "model_module_version": "1.2.0",
          "state": {
            "_model_module": "@jupyter-widgets/base",
            "_model_module_version": "1.2.0",
            "_model_name": "LayoutModel",
            "_view_count": null,
            "_view_module": "@jupyter-widgets/base",
            "_view_module_version": "1.2.0",
            "_view_name": "LayoutView",
            "align_content": null,
            "align_items": null,
            "align_self": null,
            "border": null,
            "bottom": null,
            "display": null,
            "flex": null,
            "flex_flow": null,
            "grid_area": null,
            "grid_auto_columns": null,
            "grid_auto_flow": null,
            "grid_auto_rows": null,
            "grid_column": null,
            "grid_gap": null,
            "grid_row": null,
            "grid_template_areas": null,
            "grid_template_columns": null,
            "grid_template_rows": null,
            "height": null,
            "justify_content": null,
            "justify_items": null,
            "left": null,
            "margin": null,
            "max_height": null,
            "max_width": null,
            "min_height": null,
            "min_width": null,
            "object_fit": null,
            "object_position": null,
            "order": null,
            "overflow": null,
            "overflow_x": null,
            "overflow_y": null,
            "padding": null,
            "right": null,
            "top": null,
            "visibility": null,
            "width": null
          }
        },
        "1a11f7eadd834bbe9767f2e292953634": {
          "model_module": "@jupyter-widgets/controls",
          "model_name": "DescriptionStyleModel",
          "model_module_version": "1.5.0",
          "state": {
            "_model_module": "@jupyter-widgets/controls",
            "_model_module_version": "1.5.0",
            "_model_name": "DescriptionStyleModel",
            "_view_count": null,
            "_view_module": "@jupyter-widgets/base",
            "_view_module_version": "1.2.0",
            "_view_name": "StyleView",
            "description_width": ""
          }
        },
        "74602bf777ba4f7397784fddd46b6b9f": {
          "model_module": "@jupyter-widgets/controls",
          "model_name": "HBoxModel",
          "model_module_version": "1.5.0",
          "state": {
            "_dom_classes": [],
            "_model_module": "@jupyter-widgets/controls",
            "_model_module_version": "1.5.0",
            "_model_name": "HBoxModel",
            "_view_count": null,
            "_view_module": "@jupyter-widgets/controls",
            "_view_module_version": "1.5.0",
            "_view_name": "HBoxView",
            "box_style": "",
            "children": [
              "IPY_MODEL_6a6c4e4918524cb482b05ccb40f40ab0",
              "IPY_MODEL_174e3855e4634f4fb7361dfe04e58d79",
              "IPY_MODEL_3dffb6b187a048b9b2f0cc0fe5e896a3"
            ],
            "layout": "IPY_MODEL_3a2edf8744544cf086a2ad24a9972b22"
          }
        },
        "6a6c4e4918524cb482b05ccb40f40ab0": {
          "model_module": "@jupyter-widgets/controls",
          "model_name": "HTMLModel",
          "model_module_version": "1.5.0",
          "state": {
            "_dom_classes": [],
            "_model_module": "@jupyter-widgets/controls",
            "_model_module_version": "1.5.0",
            "_model_name": "HTMLModel",
            "_view_count": null,
            "_view_module": "@jupyter-widgets/controls",
            "_view_module_version": "1.5.0",
            "_view_name": "HTMLView",
            "description": "",
            "description_tooltip": null,
            "layout": "IPY_MODEL_6661795fb9b8444d8526104187c40aac",
            "placeholder": "​",
            "style": "IPY_MODEL_f2adeb0cacc3480d94acd19c93632402",
            "value": "Map: 100%"
          }
        },
        "174e3855e4634f4fb7361dfe04e58d79": {
          "model_module": "@jupyter-widgets/controls",
          "model_name": "FloatProgressModel",
          "model_module_version": "1.5.0",
          "state": {
            "_dom_classes": [],
            "_model_module": "@jupyter-widgets/controls",
            "_model_module_version": "1.5.0",
            "_model_name": "FloatProgressModel",
            "_view_count": null,
            "_view_module": "@jupyter-widgets/controls",
            "_view_module_version": "1.5.0",
            "_view_name": "ProgressView",
            "bar_style": "success",
            "description": "",
            "description_tooltip": null,
            "layout": "IPY_MODEL_44b84c093c79464a80619d7437b94181",
            "max": 9381,
            "min": 0,
            "orientation": "horizontal",
            "style": "IPY_MODEL_e0d9e33142ca40b99c0bc720dfc767b1",
            "value": 9381
          }
        },
        "3dffb6b187a048b9b2f0cc0fe5e896a3": {
          "model_module": "@jupyter-widgets/controls",
          "model_name": "HTMLModel",
          "model_module_version": "1.5.0",
          "state": {
            "_dom_classes": [],
            "_model_module": "@jupyter-widgets/controls",
            "_model_module_version": "1.5.0",
            "_model_name": "HTMLModel",
            "_view_count": null,
            "_view_module": "@jupyter-widgets/controls",
            "_view_module_version": "1.5.0",
            "_view_name": "HTMLView",
            "description": "",
            "description_tooltip": null,
            "layout": "IPY_MODEL_040f06b082bb4b1c906333328cc0cc85",
            "placeholder": "​",
            "style": "IPY_MODEL_42a88c88a727452fb88b3ff90af00a3d",
            "value": " 9381/9381 [00:08&lt;00:00, 1198.88 examples/s]"
          }
        },
        "3a2edf8744544cf086a2ad24a9972b22": {
          "model_module": "@jupyter-widgets/base",
          "model_name": "LayoutModel",
          "model_module_version": "1.2.0",
          "state": {
            "_model_module": "@jupyter-widgets/base",
            "_model_module_version": "1.2.0",
            "_model_name": "LayoutModel",
            "_view_count": null,
            "_view_module": "@jupyter-widgets/base",
            "_view_module_version": "1.2.0",
            "_view_name": "LayoutView",
            "align_content": null,
            "align_items": null,
            "align_self": null,
            "border": null,
            "bottom": null,
            "display": null,
            "flex": null,
            "flex_flow": null,
            "grid_area": null,
            "grid_auto_columns": null,
            "grid_auto_flow": null,
            "grid_auto_rows": null,
            "grid_column": null,
            "grid_gap": null,
            "grid_row": null,
            "grid_template_areas": null,
            "grid_template_columns": null,
            "grid_template_rows": null,
            "height": null,
            "justify_content": null,
            "justify_items": null,
            "left": null,
            "margin": null,
            "max_height": null,
            "max_width": null,
            "min_height": null,
            "min_width": null,
            "object_fit": null,
            "object_position": null,
            "order": null,
            "overflow": null,
            "overflow_x": null,
            "overflow_y": null,
            "padding": null,
            "right": null,
            "top": null,
            "visibility": null,
            "width": null
          }
        },
        "6661795fb9b8444d8526104187c40aac": {
          "model_module": "@jupyter-widgets/base",
          "model_name": "LayoutModel",
          "model_module_version": "1.2.0",
          "state": {
            "_model_module": "@jupyter-widgets/base",
            "_model_module_version": "1.2.0",
            "_model_name": "LayoutModel",
            "_view_count": null,
            "_view_module": "@jupyter-widgets/base",
            "_view_module_version": "1.2.0",
            "_view_name": "LayoutView",
            "align_content": null,
            "align_items": null,
            "align_self": null,
            "border": null,
            "bottom": null,
            "display": null,
            "flex": null,
            "flex_flow": null,
            "grid_area": null,
            "grid_auto_columns": null,
            "grid_auto_flow": null,
            "grid_auto_rows": null,
            "grid_column": null,
            "grid_gap": null,
            "grid_row": null,
            "grid_template_areas": null,
            "grid_template_columns": null,
            "grid_template_rows": null,
            "height": null,
            "justify_content": null,
            "justify_items": null,
            "left": null,
            "margin": null,
            "max_height": null,
            "max_width": null,
            "min_height": null,
            "min_width": null,
            "object_fit": null,
            "object_position": null,
            "order": null,
            "overflow": null,
            "overflow_x": null,
            "overflow_y": null,
            "padding": null,
            "right": null,
            "top": null,
            "visibility": null,
            "width": null
          }
        },
        "f2adeb0cacc3480d94acd19c93632402": {
          "model_module": "@jupyter-widgets/controls",
          "model_name": "DescriptionStyleModel",
          "model_module_version": "1.5.0",
          "state": {
            "_model_module": "@jupyter-widgets/controls",
            "_model_module_version": "1.5.0",
            "_model_name": "DescriptionStyleModel",
            "_view_count": null,
            "_view_module": "@jupyter-widgets/base",
            "_view_module_version": "1.2.0",
            "_view_name": "StyleView",
            "description_width": ""
          }
        },
        "44b84c093c79464a80619d7437b94181": {
          "model_module": "@jupyter-widgets/base",
          "model_name": "LayoutModel",
          "model_module_version": "1.2.0",
          "state": {
            "_model_module": "@jupyter-widgets/base",
            "_model_module_version": "1.2.0",
            "_model_name": "LayoutModel",
            "_view_count": null,
            "_view_module": "@jupyter-widgets/base",
            "_view_module_version": "1.2.0",
            "_view_name": "LayoutView",
            "align_content": null,
            "align_items": null,
            "align_self": null,
            "border": null,
            "bottom": null,
            "display": null,
            "flex": null,
            "flex_flow": null,
            "grid_area": null,
            "grid_auto_columns": null,
            "grid_auto_flow": null,
            "grid_auto_rows": null,
            "grid_column": null,
            "grid_gap": null,
            "grid_row": null,
            "grid_template_areas": null,
            "grid_template_columns": null,
            "grid_template_rows": null,
            "height": null,
            "justify_content": null,
            "justify_items": null,
            "left": null,
            "margin": null,
            "max_height": null,
            "max_width": null,
            "min_height": null,
            "min_width": null,
            "object_fit": null,
            "object_position": null,
            "order": null,
            "overflow": null,
            "overflow_x": null,
            "overflow_y": null,
            "padding": null,
            "right": null,
            "top": null,
            "visibility": null,
            "width": null
          }
        },
        "e0d9e33142ca40b99c0bc720dfc767b1": {
          "model_module": "@jupyter-widgets/controls",
          "model_name": "ProgressStyleModel",
          "model_module_version": "1.5.0",
          "state": {
            "_model_module": "@jupyter-widgets/controls",
            "_model_module_version": "1.5.0",
            "_model_name": "ProgressStyleModel",
            "_view_count": null,
            "_view_module": "@jupyter-widgets/base",
            "_view_module_version": "1.2.0",
            "_view_name": "StyleView",
            "bar_color": null,
            "description_width": ""
          }
        },
        "040f06b082bb4b1c906333328cc0cc85": {
          "model_module": "@jupyter-widgets/base",
          "model_name": "LayoutModel",
          "model_module_version": "1.2.0",
          "state": {
            "_model_module": "@jupyter-widgets/base",
            "_model_module_version": "1.2.0",
            "_model_name": "LayoutModel",
            "_view_count": null,
            "_view_module": "@jupyter-widgets/base",
            "_view_module_version": "1.2.0",
            "_view_name": "LayoutView",
            "align_content": null,
            "align_items": null,
            "align_self": null,
            "border": null,
            "bottom": null,
            "display": null,
            "flex": null,
            "flex_flow": null,
            "grid_area": null,
            "grid_auto_columns": null,
            "grid_auto_flow": null,
            "grid_auto_rows": null,
            "grid_column": null,
            "grid_gap": null,
            "grid_row": null,
            "grid_template_areas": null,
            "grid_template_columns": null,
            "grid_template_rows": null,
            "height": null,
            "justify_content": null,
            "justify_items": null,
            "left": null,
            "margin": null,
            "max_height": null,
            "max_width": null,
            "min_height": null,
            "min_width": null,
            "object_fit": null,
            "object_position": null,
            "order": null,
            "overflow": null,
            "overflow_x": null,
            "overflow_y": null,
            "padding": null,
            "right": null,
            "top": null,
            "visibility": null,
            "width": null
          }
        },
        "42a88c88a727452fb88b3ff90af00a3d": {
          "model_module": "@jupyter-widgets/controls",
          "model_name": "DescriptionStyleModel",
          "model_module_version": "1.5.0",
          "state": {
            "_model_module": "@jupyter-widgets/controls",
            "_model_module_version": "1.5.0",
            "_model_name": "DescriptionStyleModel",
            "_view_count": null,
            "_view_module": "@jupyter-widgets/base",
            "_view_module_version": "1.2.0",
            "_view_name": "StyleView",
            "description_width": ""
          }
        }
      }
    }
  },
  "cells": [
    {
      "cell_type": "markdown",
      "metadata": {
        "id": "view-in-github",
        "colab_type": "text"
      },
      "source": [
        "<a href=\"https://colab.research.google.com/github/LCaravaggio/NLP/blob/main/notebooks/04a-NgramLM.ipynb\" target=\"_parent\"><img src=\"https://colab.research.google.com/assets/colab-badge.svg\" alt=\"Open In Colab\"/></a>"
      ]
    },
    {
      "cell_type": "markdown",
      "source": [
        "Vamos a entrenar un modelo de lenguaje ngram sobre un corpus de recetas de cocina con la librería `nltk`."
      ],
      "metadata": {
        "id": "q2y-krf3hJYs"
      }
    },
    {
      "cell_type": "markdown",
      "source": [
        "## Configuración del entorno"
      ],
      "metadata": {
        "id": "wfGGhMMse9Mb"
      }
    },
    {
      "cell_type": "code",
      "source": [
        "!pip install -qU datasets spacy nltk watermark"
      ],
      "metadata": {
        "id": "U3PdmF1YercR",
        "colab": {
          "base_uri": "https://localhost:8080/"
        },
        "outputId": "20e32579-ef6d-4cb6-e17c-5391229b7a5d"
      },
      "execution_count": 1,
      "outputs": [
        {
          "output_type": "stream",
          "name": "stdout",
          "text": [
            "\u001b[2K   \u001b[90m━━━━━━━━━━━━━━━━━━━━━━━━━━━━━━━━━━━━━━━━\u001b[0m \u001b[32m491.2/491.2 kB\u001b[0m \u001b[31m4.3 MB/s\u001b[0m eta \u001b[36m0:00:00\u001b[0m\n",
            "\u001b[2K   \u001b[90m━━━━━━━━━━━━━━━━━━━━━━━━━━━━━━━━━━━━━━━━\u001b[0m \u001b[32m116.3/116.3 kB\u001b[0m \u001b[31m2.6 MB/s\u001b[0m eta \u001b[36m0:00:00\u001b[0m\n",
            "\u001b[2K   \u001b[90m━━━━━━━━━━━━━━━━━━━━━━━━━━━━━━━━━━━━━━━━\u001b[0m \u001b[32m183.9/183.9 kB\u001b[0m \u001b[31m5.3 MB/s\u001b[0m eta \u001b[36m0:00:00\u001b[0m\n",
            "\u001b[2K   \u001b[90m━━━━━━━━━━━━━━━━━━━━━━━━━━━━━━━━━━━━━━━━\u001b[0m \u001b[32m143.5/143.5 kB\u001b[0m \u001b[31m3.6 MB/s\u001b[0m eta \u001b[36m0:00:00\u001b[0m\n",
            "\u001b[2K   \u001b[90m━━━━━━━━━━━━━━━━━━━━━━━━━━━━━━━━━━━━━━━━\u001b[0m \u001b[32m194.8/194.8 kB\u001b[0m \u001b[31m6.9 MB/s\u001b[0m eta \u001b[36m0:00:00\u001b[0m\n",
            "\u001b[2K   \u001b[90m━━━━━━━━━━━━━━━━━━━━━━━━━━━━━━━━━━━━━━━━\u001b[0m \u001b[32m1.6/1.6 MB\u001b[0m \u001b[31m12.4 MB/s\u001b[0m eta \u001b[36m0:00:00\u001b[0m\n",
            "\u001b[?25h\u001b[31mERROR: pip's dependency resolver does not currently take into account all the packages that are installed. This behaviour is the source of the following dependency conflicts.\n",
            "torch 2.6.0+cu124 requires nvidia-cublas-cu12==12.4.5.8; platform_system == \"Linux\" and platform_machine == \"x86_64\", but you have nvidia-cublas-cu12 12.5.3.2 which is incompatible.\n",
            "torch 2.6.0+cu124 requires nvidia-cuda-cupti-cu12==12.4.127; platform_system == \"Linux\" and platform_machine == \"x86_64\", but you have nvidia-cuda-cupti-cu12 12.5.82 which is incompatible.\n",
            "torch 2.6.0+cu124 requires nvidia-cuda-nvrtc-cu12==12.4.127; platform_system == \"Linux\" and platform_machine == \"x86_64\", but you have nvidia-cuda-nvrtc-cu12 12.5.82 which is incompatible.\n",
            "torch 2.6.0+cu124 requires nvidia-cuda-runtime-cu12==12.4.127; platform_system == \"Linux\" and platform_machine == \"x86_64\", but you have nvidia-cuda-runtime-cu12 12.5.82 which is incompatible.\n",
            "torch 2.6.0+cu124 requires nvidia-cudnn-cu12==9.1.0.70; platform_system == \"Linux\" and platform_machine == \"x86_64\", but you have nvidia-cudnn-cu12 9.3.0.75 which is incompatible.\n",
            "torch 2.6.0+cu124 requires nvidia-cufft-cu12==11.2.1.3; platform_system == \"Linux\" and platform_machine == \"x86_64\", but you have nvidia-cufft-cu12 11.2.3.61 which is incompatible.\n",
            "torch 2.6.0+cu124 requires nvidia-curand-cu12==10.3.5.147; platform_system == \"Linux\" and platform_machine == \"x86_64\", but you have nvidia-curand-cu12 10.3.6.82 which is incompatible.\n",
            "torch 2.6.0+cu124 requires nvidia-cusolver-cu12==11.6.1.9; platform_system == \"Linux\" and platform_machine == \"x86_64\", but you have nvidia-cusolver-cu12 11.6.3.83 which is incompatible.\n",
            "torch 2.6.0+cu124 requires nvidia-cusparse-cu12==12.3.1.170; platform_system == \"Linux\" and platform_machine == \"x86_64\", but you have nvidia-cusparse-cu12 12.5.1.3 which is incompatible.\n",
            "torch 2.6.0+cu124 requires nvidia-nvjitlink-cu12==12.4.127; platform_system == \"Linux\" and platform_machine == \"x86_64\", but you have nvidia-nvjitlink-cu12 12.5.82 which is incompatible.\n",
            "gcsfs 2025.3.2 requires fsspec==2025.3.2, but you have fsspec 2024.12.0 which is incompatible.\u001b[0m\u001b[31m\n",
            "\u001b[0m"
          ]
        }
      ]
    },
    {
      "cell_type": "code",
      "source": [
        "%%capture\n",
        "!python -m spacy download es_core_news_sm"
      ],
      "metadata": {
        "id": "Z-FyVrzxerUj"
      },
      "execution_count": 2,
      "outputs": []
    },
    {
      "cell_type": "code",
      "source": [
        "%reload_ext watermark"
      ],
      "metadata": {
        "id": "jH1A0ex8erLl"
      },
      "execution_count": 3,
      "outputs": []
    },
    {
      "cell_type": "code",
      "source": [
        "%watermark -vmp datasets,spacy,nltk,numpy,pandas,tqdm"
      ],
      "metadata": {
        "id": "_KkeUlwMiXFh",
        "colab": {
          "base_uri": "https://localhost:8080/"
        },
        "outputId": "0111da43-6d57-4ef3-eac7-35f1e85df3b8"
      },
      "execution_count": 4,
      "outputs": [
        {
          "output_type": "stream",
          "name": "stdout",
          "text": [
            "Python implementation: CPython\n",
            "Python version       : 3.11.12\n",
            "IPython version      : 7.34.0\n",
            "\n",
            "datasets: 3.5.0\n",
            "spacy   : 3.8.5\n",
            "nltk    : 3.9.1\n",
            "numpy   : 2.0.2\n",
            "pandas  : 2.2.2\n",
            "tqdm    : 4.67.1\n",
            "\n",
            "Compiler    : GCC 11.4.0\n",
            "OS          : Linux\n",
            "Release     : 6.1.123+\n",
            "Machine     : x86_64\n",
            "Processor   : x86_64\n",
            "CPU cores   : 2\n",
            "Architecture: 64bit\n",
            "\n"
          ]
        }
      ]
    },
    {
      "cell_type": "markdown",
      "source": [
        "## Dataset\n",
        "\n",
        "Vamos a usar un [corpus de recetas de SomosNLP](https://huggingface.co/datasets/somosnlp/RecetasDeLaAbuela)."
      ],
      "metadata": {
        "id": "pN9ZrHk5h6mL"
      }
    },
    {
      "cell_type": "code",
      "source": [
        "from datasets import load_dataset\n",
        "\n",
        "dataset = load_dataset(\"somosnlp/RecetasDeLaAbuela\", \"version_1\")"
      ],
      "metadata": {
        "id": "gzVdx6xVh6Sj",
        "colab": {
          "base_uri": "https://localhost:8080/",
          "height": 237,
          "referenced_widgets": [
            "8638870bf35d4e908a0ddafa99df9ce1",
            "362d0767535543e687a9486cd90f62eb",
            "cd34dd2de7644cc080ef543344f8f348",
            "a8fe401a60c643c2bbc095074460b009",
            "1240e1e28a354099b06bdba1362ac5cb",
            "d1c306b5c7314b0b9e23af7f7706d4f6",
            "f07b73fd290f472794ca8f46d379ca14",
            "fdb0cf6b807841f496f4fda088aef2db",
            "7ff9a0a9df7248738c20279e678ed46f",
            "f42a559de96e4606b8149b3ca2ec08ac",
            "8d2a525fa66e47559e9702616f015434",
            "d907f2d26bbd4df9b140ea5a9531920f",
            "4140841c22fb41cfb6630a26387bbbfc",
            "06230be72cf0482d9f546d7750226dd7",
            "4ffe6c1a8a454c30b55abb7f33a01e13",
            "05d8899c554e4134a0ff123a533e0b40",
            "911003c6e74e4cb3b3bf7fff557e8396",
            "efd861abb4574a898138d9fbc0a499eb",
            "6b36c0adf2ce413c94e2a9d960f636b5",
            "a8e6ebb24fc34776a40620b3fe3edc03",
            "037b2ae9498a4768901ad2f84e986f4b",
            "bf346f83ad95484cbb2e4ab1f58f8ce2",
            "9263420b6ea64aa285095b3c6acbaccf",
            "2a75cf418f4f48dea26c5dcbfe1e4fd4",
            "b6fb957403634805b378628fc863bbf3",
            "5611e8f7e09246658c849aa86a237d11",
            "23f23bd9ead74bf6b37cae13a1dbe599",
            "a9cba0b4b81a42edb5f15d4643651b47",
            "ba9d956caeac42daa878f7ad908e0207",
            "b17bda0b24a348dd88757d386c9e3e97",
            "4e80e6ba5cf84129bd7a64e9967fd105",
            "12851a4ccaa04f4487fadc66a678bba4",
            "ca42c65a9631467bbcf09fc94aaf5f40"
          ]
        },
        "outputId": "1a496796-7a94-4678-d772-7383218d5758"
      },
      "execution_count": 5,
      "outputs": [
        {
          "output_type": "stream",
          "name": "stderr",
          "text": [
            "/usr/local/lib/python3.11/dist-packages/huggingface_hub/utils/_auth.py:94: UserWarning: \n",
            "The secret `HF_TOKEN` does not exist in your Colab secrets.\n",
            "To authenticate with the Hugging Face Hub, create a token in your settings tab (https://huggingface.co/settings/tokens), set it as secret in your Google Colab and restart your session.\n",
            "You will be able to reuse this secret in all of your notebooks.\n",
            "Please note that authentication is recommended but still optional to access public models or datasets.\n",
            "  warnings.warn(\n"
          ]
        },
        {
          "output_type": "display_data",
          "data": {
            "text/plain": [
              "README.md:   0%|          | 0.00/10.9k [00:00<?, ?B/s]"
            ],
            "application/vnd.jupyter.widget-view+json": {
              "version_major": 2,
              "version_minor": 0,
              "model_id": "8638870bf35d4e908a0ddafa99df9ce1"
            }
          },
          "metadata": {}
        },
        {
          "output_type": "display_data",
          "data": {
            "text/plain": [
              "main.csv:   0%|          | 0.00/40.3M [00:00<?, ?B/s]"
            ],
            "application/vnd.jupyter.widget-view+json": {
              "version_major": 2,
              "version_minor": 0,
              "model_id": "d907f2d26bbd4df9b140ea5a9531920f"
            }
          },
          "metadata": {}
        },
        {
          "output_type": "display_data",
          "data": {
            "text/plain": [
              "Generating train split:   0%|          | 0/20236 [00:00<?, ? examples/s]"
            ],
            "application/vnd.jupyter.widget-view+json": {
              "version_major": 2,
              "version_minor": 0,
              "model_id": "9263420b6ea64aa285095b3c6acbaccf"
            }
          },
          "metadata": {}
        }
      ]
    },
    {
      "cell_type": "code",
      "source": [
        "# vemos la estructura:\n",
        "print(dataset)"
      ],
      "metadata": {
        "colab": {
          "base_uri": "https://localhost:8080/"
        },
        "id": "xMpZStLajfTu",
        "outputId": "ec45d6e4-ccb0-4165-9f5f-2544c77f21f8"
      },
      "execution_count": 6,
      "outputs": [
        {
          "output_type": "stream",
          "name": "stdout",
          "text": [
            "DatasetDict({\n",
            "    train: Dataset({\n",
            "        features: ['Id', 'Nombre', 'URL', 'Ingredientes', 'Pasos', 'Pais', 'Duracion', 'Categoria', 'Contexto', 'Valoracion y Votos', 'Comensales', 'Tiempo', 'Dificultad', 'Valor nutricional'],\n",
            "        num_rows: 20236\n",
            "    })\n",
            "})\n"
          ]
        }
      ]
    },
    {
      "cell_type": "code",
      "source": [
        "# Conservamos pais = \"ESP\":\n",
        "dataset = dataset.filter(lambda x: x[\"Pais\"] == \"ESP\")"
      ],
      "metadata": {
        "id": "alRfTgMcjnez",
        "colab": {
          "base_uri": "https://localhost:8080/",
          "height": 49,
          "referenced_widgets": [
            "221e0b2c4cf942dc958b030d8b78d770",
            "4e545d96647241d5ac464318d9f9df54",
            "6682b0d192934870ab30d4af59177820",
            "e63128b6e9f248ceb7935c80b73db093",
            "37f9be02b0c64f69bd058e51a5cb86f2",
            "fcc8b76848b646ac81f6b8b0fa18e564",
            "f56aeb7f00864ae491cf21ee06c42492",
            "c7b3363e780a4121b64a6281fc901cda",
            "9da73aa0c221448fb30e644c8df7605e",
            "546c73fd31cf4f0bb2d0b4341d957d37",
            "1a11f7eadd834bbe9767f2e292953634"
          ]
        },
        "outputId": "152a7ab4-757e-4871-9e3f-66374836beaf"
      },
      "execution_count": 7,
      "outputs": [
        {
          "output_type": "display_data",
          "data": {
            "text/plain": [
              "Filter:   0%|          | 0/20236 [00:00<?, ? examples/s]"
            ],
            "application/vnd.jupyter.widget-view+json": {
              "version_major": 2,
              "version_minor": 0,
              "model_id": "221e0b2c4cf942dc958b030d8b78d770"
            }
          },
          "metadata": {}
        }
      ]
    },
    {
      "cell_type": "code",
      "source": [
        "# vemos un ejemplo al azar:\n",
        "dataset[\"train\"][300]"
      ],
      "metadata": {
        "id": "Z7rgvwpCrY_e",
        "colab": {
          "base_uri": "https://localhost:8080/"
        },
        "outputId": "5b3b1dff-650d-4948-ef23-ce8cb93de81d"
      },
      "execution_count": 8,
      "outputs": [
        {
          "output_type": "execute_result",
          "data": {
            "text/plain": [
              "{'Id': 1701,\n",
              " 'Nombre': 'croquetas de pollo asado',\n",
              " 'URL': 'https://www.recetasgratis.net/receta-de-croquetas-de-pollo-asado-59330.html',\n",
              " 'Ingredientes': \"['500 gramos de Pollo', '1 unidad de Cebolla', '300 mililitros de Aceite de oliva', '600 mililitros de Leche                                                                    (2½ tazas)', '2 cucharadas soperas de Harina', '1 pizca de Sal', '1 pizca de Nuez moscada molida', '1 pizca de Pimienta negra molida', '1 unidad de Huevo', '200 gramos de Pan rallado']\",\n",
              " 'Pasos': \"['1 Reunimos todos los ingredientes para preparar las croquetas de pollo asado.', '2 Colocamos el pollo sin piel en una fuente para horno, salpimentamos, echamos un poco de aceite de oliva y lo metemos al horno a 180 ºC durante 25 minutos.También podéis hacer esta receta de croquetas de pollo asado si os ha sobrado carne de haber preparado, por ejemplo, pollo al horno con patatas y cebolla.', '3 Picamos la cebolla de forma fina y la salteamos en la sartén con un poco de aceite de oliva. Dejamos que se cocine durante 3 minutos.', '4 Una vez cocido, desmenuzamos el pollo, quitamos los huesos y lo agregamos al sofrito de cebolla. Ponemos un poco de sal y pimienta, y dejamos que se cocine durante 3 minutos.', '5 Agregamos la harina, dejamos que se cocine durante 2 minutos, y añadimos la leche poco a poco hasta que la masa de las croquetas de pollo espese.Ponemos un poco de sal, pimienta y nuez moscada molida. Sin dejar de remover la masa, dejamos cocinar hasta que ésta no se pegue en la sartén (aproximadamente 15 minutos). Truco: Si la masa queda muy líquida se puede añadir más harina y viceversa.', '6 Una vez formada la masa de las croquetas de pollo asado, dejamos que se enfríe un poco, y formamos las croquetas con ayuda de 2 cucharas, o con las manos.', '7 Rebozamos las croquetas de pollo asado con huevo batido y pan rallado, y las freímos en abundante aceite caliente hasta que queden doradas. Una vez fritas, las colocamos sobre papel de cocina para eliminar el exceso de aceite.', '8 Estas croquetas de pollo asado se pueden preparar como entrantes, junto con otros aperitivos como las brochetas de pescado y langostinos o los crepes salados de salmón.']\",\n",
              " 'Pais': 'ESP',\n",
              " 'Duracion': '01:00',\n",
              " 'Categoria': \"['Recetas españolas']\",\n",
              " 'Contexto': '¡Cómo nos gustan las croquetas caseras! Si no sabes qué hacer con pollo asado que te ha sobrado, apunta los consejos que te damos en RecetasGratis.net para no tirar nada.Para aprovechar sobras de pollo puedes hacer esta receta de croquetas con pollo asado fácil que te vamos a explicar paso a paso para que no te pierdas y te queden riquísimas.Para aprender cómo hacer croquetas solo tienes que poner atención a la masa para que te quede esponjosa y cremosa. Nosotros te lo contamos en el paso a paso de estas croquetas de pollo asado. ¡No te la pierdas!',\n",
              " 'Valoracion y Votos': None,\n",
              " 'Comensales': '4 comensales',\n",
              " 'Tiempo': 'Entrante',\n",
              " 'Dificultad': 'Dificultad media',\n",
              " 'Valor nutricional': 'Bajo en calorías, Sin grasa, Alto en grasas reducidas'}"
            ]
          },
          "metadata": {},
          "execution_count": 8
        }
      ]
    },
    {
      "cell_type": "code",
      "source": [
        "# A veces los textos son listas no parseadas como tales.\n",
        "# En tal caso, hacemos un join de la lista.\n",
        "import re\n",
        "\n",
        "def preprocess(example):\n",
        "    \"\"\"\n",
        "    \"\"\"\n",
        "    if example[\"Pasos\"].startswith(\"[\"):\n",
        "        pasos_list = eval(example[\"Pasos\"].encode('unicode_escape'))\n",
        "        example[\"Pasos\"] = \" \".join(pasos_list)\n",
        "    # Eliminamos whitespace duplicado:\n",
        "    example[\"Pasos\"] = re.sub(r'\\s+', ' ', example[\"Pasos\"])\n",
        "    return example\n",
        "\n",
        "dataset = dataset.map(preprocess)"
      ],
      "metadata": {
        "id": "lQkKTsirfOFP",
        "colab": {
          "base_uri": "https://localhost:8080/",
          "height": 49,
          "referenced_widgets": [
            "74602bf777ba4f7397784fddd46b6b9f",
            "6a6c4e4918524cb482b05ccb40f40ab0",
            "174e3855e4634f4fb7361dfe04e58d79",
            "3dffb6b187a048b9b2f0cc0fe5e896a3",
            "3a2edf8744544cf086a2ad24a9972b22",
            "6661795fb9b8444d8526104187c40aac",
            "f2adeb0cacc3480d94acd19c93632402",
            "44b84c093c79464a80619d7437b94181",
            "e0d9e33142ca40b99c0bc720dfc767b1",
            "040f06b082bb4b1c906333328cc0cc85",
            "42a88c88a727452fb88b3ff90af00a3d"
          ]
        },
        "outputId": "f8c449c8-7157-48b4-d9ca-f457a1ba661d"
      },
      "execution_count": 9,
      "outputs": [
        {
          "output_type": "display_data",
          "data": {
            "text/plain": [
              "Map:   0%|          | 0/9381 [00:00<?, ? examples/s]"
            ],
            "application/vnd.jupyter.widget-view+json": {
              "version_major": 2,
              "version_minor": 0,
              "model_id": "74602bf777ba4f7397784fddd46b6b9f"
            }
          },
          "metadata": {}
        }
      ]
    },
    {
      "cell_type": "code",
      "source": [
        "dataset[\"train\"][300]"
      ],
      "metadata": {
        "colab": {
          "base_uri": "https://localhost:8080/"
        },
        "id": "LXVr7n_XfN8z",
        "outputId": "a64388bc-7831-44bf-c0d8-c21802a7b878"
      },
      "execution_count": 10,
      "outputs": [
        {
          "output_type": "execute_result",
          "data": {
            "text/plain": [
              "{'Id': 1701,\n",
              " 'Nombre': 'croquetas de pollo asado',\n",
              " 'URL': 'https://www.recetasgratis.net/receta-de-croquetas-de-pollo-asado-59330.html',\n",
              " 'Ingredientes': \"['500 gramos de Pollo', '1 unidad de Cebolla', '300 mililitros de Aceite de oliva', '600 mililitros de Leche                                                                    (2½ tazas)', '2 cucharadas soperas de Harina', '1 pizca de Sal', '1 pizca de Nuez moscada molida', '1 pizca de Pimienta negra molida', '1 unidad de Huevo', '200 gramos de Pan rallado']\",\n",
              " 'Pasos': '1 Reunimos todos los ingredientes para preparar las croquetas de pollo asado. 2 Colocamos el pollo sin piel en una fuente para horno, salpimentamos, echamos un poco de aceite de oliva y lo metemos al horno a 180 ºC durante 25 minutos.También podéis hacer esta receta de croquetas de pollo asado si os ha sobrado carne de haber preparado, por ejemplo, pollo al horno con patatas y cebolla. 3 Picamos la cebolla de forma fina y la salteamos en la sartén con un poco de aceite de oliva. Dejamos que se cocine durante 3 minutos. 4 Una vez cocido, desmenuzamos el pollo, quitamos los huesos y lo agregamos al sofrito de cebolla. Ponemos un poco de sal y pimienta, y dejamos que se cocine durante 3 minutos. 5 Agregamos la harina, dejamos que se cocine durante 2 minutos, y añadimos la leche poco a poco hasta que la masa de las croquetas de pollo espese.Ponemos un poco de sal, pimienta y nuez moscada molida. Sin dejar de remover la masa, dejamos cocinar hasta que ésta no se pegue en la sartén (aproximadamente 15 minutos). Truco: Si la masa queda muy líquida se puede añadir más harina y viceversa. 6 Una vez formada la masa de las croquetas de pollo asado, dejamos que se enfríe un poco, y formamos las croquetas con ayuda de 2 cucharas, o con las manos. 7 Rebozamos las croquetas de pollo asado con huevo batido y pan rallado, y las freímos en abundante aceite caliente hasta que queden doradas. Una vez fritas, las colocamos sobre papel de cocina para eliminar el exceso de aceite. 8 Estas croquetas de pollo asado se pueden preparar como entrantes, junto con otros aperitivos como las brochetas de pescado y langostinos o los crepes salados de salmón.',\n",
              " 'Pais': 'ESP',\n",
              " 'Duracion': '01:00',\n",
              " 'Categoria': \"['Recetas españolas']\",\n",
              " 'Contexto': '¡Cómo nos gustan las croquetas caseras! Si no sabes qué hacer con pollo asado que te ha sobrado, apunta los consejos que te damos en RecetasGratis.net para no tirar nada.Para aprovechar sobras de pollo puedes hacer esta receta de croquetas con pollo asado fácil que te vamos a explicar paso a paso para que no te pierdas y te queden riquísimas.Para aprender cómo hacer croquetas solo tienes que poner atención a la masa para que te quede esponjosa y cremosa. Nosotros te lo contamos en el paso a paso de estas croquetas de pollo asado. ¡No te la pierdas!',\n",
              " 'Valoracion y Votos': None,\n",
              " 'Comensales': '4 comensales',\n",
              " 'Tiempo': 'Entrante',\n",
              " 'Dificultad': 'Dificultad media',\n",
              " 'Valor nutricional': 'Bajo en calorías, Sin grasa, Alto en grasas reducidas'}"
            ]
          },
          "metadata": {},
          "execution_count": 10
        }
      ]
    },
    {
      "cell_type": "markdown",
      "source": [
        "Hacemos un partición train/test y achicamos (solo para trabajar mas rapido). Y conservamos solo el texto de las recetas."
      ],
      "metadata": {
        "id": "o_XXBbwrfVyw"
      }
    },
    {
      "cell_type": "code",
      "source": [
        "dataset = dataset.shuffle(seed=33)"
      ],
      "metadata": {
        "id": "hqSAV2K-fN1M"
      },
      "execution_count": 11,
      "outputs": []
    },
    {
      "cell_type": "code",
      "source": [
        "texts_train = dataset[\"train\"].select(range(0, 4_000))[\"Pasos\"]\n",
        "texts_test = dataset[\"train\"].select(range(4_000, 8_000))[\"Pasos\"]"
      ],
      "metadata": {
        "id": "0jYzjqzHfYJz"
      },
      "execution_count": 12,
      "outputs": []
    },
    {
      "cell_type": "code",
      "source": [
        "import textwrap\n",
        "\n",
        "print(textwrap.fill(texts_train[33], 100))"
      ],
      "metadata": {
        "colab": {
          "base_uri": "https://localhost:8080/"
        },
        "id": "5pvDeXwAfYAL",
        "outputId": "352a9f0d-6e10-474d-da55-abb71ad9a968"
      },
      "execution_count": 13,
      "outputs": [
        {
          "output_type": "stream",
          "name": "stdout",
          "text": [
            "1 Tritura las galletas hasta hacerlas casi polvo, puedes ayudarte de una licuadora o una\n",
            "procesadora. Si no dispones de estos utensilios, utiliza una bolsa plástica y un rodillo. 2 Derrite\n",
            "la mantequilla hasta que quede líquida y agrégala a las galletas trituradas, mezcla bien hasta\n",
            "formar una pasta uniforme. 3 Traslada la mezcla al molde y extiéndela para hacer la base de la tarta\n",
            "de queso, puedes ayudarte de una paleta o hacerlo directamente con los dedos. Déjala reposar en el\n",
            "refrigerador para que se endurezca mientras preparas el relleno. 4 Lleva la nata a fuego lento y\n",
            "añade, poco a poco, el queso crema y el azúcar, siempre revolviendo con una paleta o batidor. 5 Para\n",
            "añadir la cuajada, lo mejor es seguir las instrucciones de uso en su empaque. En este caso, la\n",
            "disolvimos en 25 ml de leche y la agregamos a la mezcla mientras revolvíamos para una mejor\n",
            "incorporación. 6 Pasados unos 5 minutos luego de añadir la cuajada, retira la mezcla del fuego y\n",
            "deja reposar unos 2-3 minutos. Saca la base de la tarta del refrigerador y vierte el relleno encima\n",
            "de la base de galleta. Déjalo refrigerar. Truco: Si te quedan burbujas al servir el relleno, desliza\n",
            "suavemente una paleta sobre la superficie para eliminarlas. 7 Una vez que el relleno esté\n",
            "suficientemente firme (puedes comprobarlo moviendo un poco el molde o tocándolo suavemente con una\n",
            "paleta en el centro), retíralo del refrigerador y ponle la mermelada encima. Puedes preparar tu\n",
            "propia mermelada casera con nuestra receta de mermelada de fresa light. 8 Deja refrigerar unos 15 o\n",
            "20 minutos más y tu tarta de queso con cuajada estará lista para retirarla del molde y servir.\n",
            "¡Disfruta! Si prefieres una preparación al horno, puedes visitar nuestra receta de tarta de queso al\n",
            "horno.\n"
          ]
        }
      ]
    },
    {
      "cell_type": "markdown",
      "source": [
        "## Tokenización y \"entrenamiento\" del LM\n",
        "\n",
        "* Usamos el tokenizer para español de `spacy`.\n",
        "* Consideramos como parte del vocabulario todas las palabras que ocurran al menos dos veces en train. Usamos `nltk` para definir el vocab y detectar los \"\\<unk\\>\" en test.\n",
        "* Hacemos padding con BOS y EOS tokens.\n",
        "* Debemos tener en cuenta que `nltk` espera que cada documento sea una lista de strings.\n",
        "\n",
        "Usamos el LM más sencillo, el MLE (Maximum Likelihood Estimator), con 4-gramas."
      ],
      "metadata": {
        "id": "gOR6scsQjyay"
      }
    },
    {
      "cell_type": "code",
      "source": [
        "# tokenizer con reglas de puntacion, contracciones, etc:\n",
        "import spacy\n",
        "\n",
        "tokenizer = spacy.load('es_core_news_sm')"
      ],
      "metadata": {
        "id": "M6-oSyEvnXFU"
      },
      "execution_count": 14,
      "outputs": []
    },
    {
      "cell_type": "code",
      "source": [
        "# Veamos un ejemplo:\n",
        "doc = tokenizer(texts_train[0])\n",
        "print(doc.text)\n",
        "for i, token in enumerate(doc):\n",
        "    print(token.text)\n",
        "    if i > 15:\n",
        "        break"
      ],
      "metadata": {
        "colab": {
          "base_uri": "https://localhost:8080/"
        },
        "id": "6citqe3bn5cl",
        "outputId": "12f48433-54d7-43ed-90aa-0d5e0a2ab38b"
      },
      "execution_count": 15,
      "outputs": [
        {
          "output_type": "stream",
          "name": "stdout",
          "text": [
            "1 Cocemos el arroz en agua hirviendo con un poco de sal. 2 Picamos los ajos y la cebolla en cuadraditos.Cortamos el tocino en dados. 3 Cortamos las cabezas de la trucha por detrás de las agallas y con un cuchillo afilado, las abrimos de arriba abajo por el vientre. 4 Retiramos las vísceras y todas las membranas negras. 5 Seccionamos la carne a cada lado de la espina sin llegar al dorso. 6 Retiramos las espinas cortando a la altura de la cola. 7 Las lavamos muy bien y secamos con la ayuda de un paño. 8 Salpimentamos por dentro y por fuera.Lavamos las setas y las picamos. 9 Reservamos la mitad. 10 En una sartén con aceite, sofreímos el tocino y la mitad de las setas. 11 Rellenamos las truchas con las setas y el tocino. 12 Cerramos la abertura. 13 Horneamos durante 25 minutos. 14 Rehogamos en mantequilla el resto de las setas. 15 Añadimos el perejil picado, incorporamos el arroz cocido. 16 Vertemos un chorrito de aceite, añadimos el ajo picado, agregamos la cebolla picada y rehogamos dos minutos. 17 Sacamos las truchas del horno. 18 Calentamos el brandy en un cazo, prendemos fuego y vertemos sobre las truchas. 19 Servimos acompañadas del arroz con setas.\n",
            "1\n",
            "Cocemos\n",
            "el\n",
            "arroz\n",
            "en\n",
            "agua\n",
            "hirviendo\n",
            "con\n",
            "un\n",
            "poco\n",
            "de\n",
            "sal\n",
            ".\n",
            "2\n",
            "Picamos\n",
            "los\n",
            "ajos\n"
          ]
        }
      ]
    },
    {
      "cell_type": "code",
      "source": [
        "# tokenizamos en train y test, sin marcar los UNK todavía:\n",
        "import tqdm\n",
        "\n",
        "def tokenize(doc, ngram_order=4):\n",
        "    \"\"\"Tokeniza un documento y agrega BOS y EOS tokens.\n",
        "    \"\"\"\n",
        "    tokens = [token.text for token in tokenizer(doc)]\n",
        "    tokens = [\"<bos>\"] * (ngram_order - 1) + tokens + [\"<eos>\"]\n",
        "    return tokens\n",
        "\n",
        "tokenized_train = []\n",
        "for doc in tqdm.tqdm(texts_train):\n",
        "    tokenized_train.append(tokenize(doc))\n",
        "\n",
        "tokenized_test = []\n",
        "for doc in tqdm.tqdm(texts_test):\n",
        "    tokenized_test.append(tokenize(doc))"
      ],
      "metadata": {
        "colab": {
          "base_uri": "https://localhost:8080/"
        },
        "id": "SaAuKpculave",
        "outputId": "11c38d0b-38f4-4230-8780-4cfcb0b95cc6"
      },
      "execution_count": 16,
      "outputs": [
        {
          "output_type": "stream",
          "name": "stderr",
          "text": [
            "100%|██████████| 4000/4000 [02:26<00:00, 27.24it/s]\n",
            "100%|██████████| 4000/4000 [02:24<00:00, 27.69it/s]\n"
          ]
        }
      ]
    },
    {
      "cell_type": "code",
      "source": [
        "# Un poco de hacking de nltk para evitar que haga padding con la misma cantidad de tokens\n",
        "# a izq y derecha\n",
        "from functools import partial\n",
        "from itertools import chain\n",
        "\n",
        "from nltk.util import everygrams, pad_sequence\n",
        "\n",
        "flatten = chain.from_iterable\n",
        "pad_both_ends = partial(\n",
        "    pad_sequence,\n",
        "    pad_left=True,\n",
        "    left_pad_symbol=\"<s>\",\n",
        "    pad_right=True,\n",
        "    right_pad_symbol=\"</s>\",\n",
        ")\n",
        "\n",
        "def padded_everygram_pipeline(order, text):\n",
        "    \"\"\"Modificación de https://www.nltk.org/_modules/nltk/lm/preprocessing.html\n",
        "    para que no haga padding\n",
        "    \"\"\"\n",
        "    padding_fn = partial(pad_both_ends, n=0)\n",
        "    return (\n",
        "        (everygrams(list(padding_fn(sent)), max_len=order) for sent in text),\n",
        "        flatten(map(padding_fn, text)),\n",
        "    )\n",
        "\n",
        "train, train_flat = padded_everygram_pipeline(4, tokenized_train)"
      ],
      "metadata": {
        "id": "dSyq3j2JkGEX"
      },
      "execution_count": 17,
      "outputs": []
    },
    {
      "cell_type": "code",
      "source": [
        "# Ahora sí armamos el vocab\n",
        "from nltk.lm import Vocabulary\n",
        "\n",
        "# cutoff de freq>=2 para el vocab:\n",
        "vocab = Vocabulary(train_flat, unk_cutoff=2)"
      ],
      "metadata": {
        "id": "JLD6ARh9kFpI"
      },
      "execution_count": 18,
      "outputs": []
    },
    {
      "cell_type": "code",
      "source": [
        "# vocab size:\n",
        "len(vocab)"
      ],
      "metadata": {
        "colab": {
          "base_uri": "https://localhost:8080/"
        },
        "id": "nrsSk76ssSCQ",
        "outputId": "7fbb9ad5-2ec2-4398-91c1-c6032d4beb3d"
      },
      "execution_count": 19,
      "outputs": [
        {
          "output_type": "execute_result",
          "data": {
            "text/plain": [
              "11341"
            ]
          },
          "metadata": {},
          "execution_count": 19
        }
      ]
    },
    {
      "cell_type": "code",
      "source": [
        "# los tokens más y menos frecuentes:\n",
        "print(sorted(vocab.counts, key=vocab.counts.get, reverse=True)[:5])\n",
        "print(sorted(vocab.counts, key=vocab.counts.get)[:5])"
      ],
      "metadata": {
        "colab": {
          "base_uri": "https://localhost:8080/"
        },
        "id": "_ThmBc3SkPTL",
        "outputId": "cc5c079d-d0b6-48c3-83f2-526c607022ad"
      },
      "execution_count": 20,
      "outputs": [
        {
          "output_type": "stream",
          "name": "stdout",
          "text": [
            "['.', 'de', ',', 'y', 'la']\n",
            "['vientre', 'Seccionamos', 'prendemos', 'digestivo', 'bridar']\n"
          ]
        }
      ]
    },
    {
      "cell_type": "code",
      "source": [
        "# los tokens ordenados alfabeticamente:\n",
        "print(sorted(vocab.counts)[:5])\n",
        "print(sorted(vocab.counts, reverse=True)[:5])"
      ],
      "metadata": {
        "colab": {
          "base_uri": "https://localhost:8080/"
        },
        "id": "ImdNkKfBgAVL",
        "outputId": "e37208bb-cc6d-402d-900b-e400d575a30e"
      },
      "execution_count": 21,
      "outputs": [
        {
          "output_type": "stream",
          "name": "stdout",
          "text": [
            "['!', '\"', '\"LISTO', '%', '&']\n",
            "['💪', '🍲', '€', '…', '”']\n"
          ]
        }
      ]
    },
    {
      "cell_type": "code",
      "source": [
        "# los tokens con frec 1 \"no están en el vocab\" (pero podemos consultar su frec.)\n",
        "print(vocab[\"el\"], \"el\" in vocab)\n",
        "print(vocab[\"digestivo\"], \"digestivo\" in vocab)\n",
        "print(vocab[\" \"], \" \" in vocab)\n",
        "print(vocab[\"riquelme\"], \"riquelme\" in vocab)"
      ],
      "metadata": {
        "colab": {
          "base_uri": "https://localhost:8080/"
        },
        "id": "tJx-uESxgARN",
        "outputId": "ae57d19f-2c39-4b6d-c46d-4b6d3f3dcfd4"
      },
      "execution_count": 22,
      "outputs": [
        {
          "output_type": "stream",
          "name": "stdout",
          "text": [
            "25861 True\n",
            "1 False\n",
            "0 False\n",
            "0 False\n"
          ]
        }
      ]
    },
    {
      "cell_type": "code",
      "source": [
        "# ejemplos de sequencia tokenizada:\n",
        "print(vocab.lookup(tokenized_train[33][:10]))\n",
        "print(vocab.lookup([\"un\", \"té\", \"digestivo\", \".\"]))"
      ],
      "metadata": {
        "colab": {
          "base_uri": "https://localhost:8080/"
        },
        "id": "e9dJo8VvgANL",
        "outputId": "eda683ea-0fc1-486f-eda7-6c3f64df17b7"
      },
      "execution_count": 23,
      "outputs": [
        {
          "output_type": "stream",
          "name": "stdout",
          "text": [
            "('<bos>', '<bos>', '<bos>', '1', 'Tritura', 'las', 'galletas', 'hasta', 'hacerlas', 'casi')\n",
            "('un', 'té', '<UNK>', '.')\n"
          ]
        }
      ]
    },
    {
      "cell_type": "code",
      "source": [
        "# instanciamos el modelo con el ngram order y el vocab\n",
        "from nltk.lm import MLE\n",
        "\n",
        "lm = MLE(4, vocabulary=vocab)"
      ],
      "metadata": {
        "id": "HeQ76Ynr-G6m"
      },
      "execution_count": 24,
      "outputs": []
    },
    {
      "cell_type": "code",
      "source": [
        "%%time\n",
        "lm.fit(train)"
      ],
      "metadata": {
        "id": "p5gvEgQ03LvT",
        "colab": {
          "base_uri": "https://localhost:8080/"
        },
        "outputId": "4242ad6c-6769-4bf3-d58d-3b0ee8681501"
      },
      "execution_count": 25,
      "outputs": [
        {
          "output_type": "stream",
          "name": "stdout",
          "text": [
            "CPU times: user 25.5 s, sys: 440 ms, total: 26 s\n",
            "Wall time: 26.2 s\n"
          ]
        }
      ]
    },
    {
      "cell_type": "code",
      "source": [
        "print(lm.counts)"
      ],
      "metadata": {
        "colab": {
          "base_uri": "https://localhost:8080/"
        },
        "id": "k4rH7plLVuBa",
        "outputId": "5a91a60e-563e-42d4-afa5-1d40817aafb6"
      },
      "execution_count": 26,
      "outputs": [
        {
          "output_type": "stream",
          "name": "stdout",
          "text": [
            "<NgramCounter with 4 ngram orders and 3938852 ngrams>\n"
          ]
        }
      ]
    },
    {
      "cell_type": "code",
      "source": [
        "# unigram counts\n",
        "lm.counts['la']"
      ],
      "metadata": {
        "colab": {
          "base_uri": "https://localhost:8080/"
        },
        "id": "YJSdKlF5Vtu0",
        "outputId": "8b794cdb-9a1d-46cf-b4e4-45cda2695913"
      },
      "execution_count": 27,
      "outputs": [
        {
          "output_type": "execute_result",
          "data": {
            "text/plain": [
              "33884"
            ]
          },
          "metadata": {},
          "execution_count": 27
        }
      ]
    },
    {
      "cell_type": "code",
      "source": [
        "# bigram counts\n",
        "print(lm.counts[['en']][\"la\"])\n",
        "print(lm.counts[['la']][\"en\"])\n",
        "print(lm.counts[['el']][\"<UNK>\"])"
      ],
      "metadata": {
        "colab": {
          "base_uri": "https://localhost:8080/"
        },
        "id": "849ZrN1QWgxC",
        "outputId": "0a26747d-05ab-4756-acfc-d23610b996ca"
      },
      "execution_count": 28,
      "outputs": [
        {
          "output_type": "stream",
          "name": "stdout",
          "text": [
            "2418\n",
            "0\n",
            "204\n"
          ]
        }
      ]
    },
    {
      "cell_type": "code",
      "source": [
        "# trigram y 4gram counts\n",
        "print(lm.counts[[\"con\", \"la\"]][\"cuchara\"])\n",
        "print(lm.counts[[\"y\", \"con\", \"la\"]][\"cuchara\"])"
      ],
      "metadata": {
        "colab": {
          "base_uri": "https://localhost:8080/"
        },
        "id": "gMbVItd_W9yR",
        "outputId": "153f9848-9a5d-46fd-deaa-19193473e0cc"
      },
      "execution_count": 29,
      "outputs": [
        {
          "output_type": "stream",
          "name": "stdout",
          "text": [
            "14\n",
            "2\n"
          ]
        }
      ]
    },
    {
      "cell_type": "code",
      "source": [
        "# lo mas frecuente despues de un ngrama dado:\n",
        "ngram_example = [\"con\", \"la\"]\n",
        "sorted(lm.counts[ngram_example].items(), key=lambda x: x[1], reverse=True)[:10]"
      ],
      "metadata": {
        "colab": {
          "base_uri": "https://localhost:8080/"
        },
        "id": "RWdQOqQ2XgIW",
        "outputId": "b2d921cb-14e8-49b6-edf3-559fcb24f443"
      },
      "execution_count": 30,
      "outputs": [
        {
          "output_type": "execute_result",
          "data": {
            "text/plain": [
              "[('salsa', 239),\n",
              " ('receta', 193),\n",
              " ('ayuda', 141),\n",
              " ('preparación', 136),\n",
              " ('cebolla', 103),\n",
              " ('leche', 100),\n",
              " ('masa', 96),\n",
              " ('mezcla', 96),\n",
              " ('mantequilla', 95),\n",
              " ('crema', 74)]"
            ]
          },
          "metadata": {},
          "execution_count": 30
        }
      ]
    },
    {
      "cell_type": "code",
      "source": [
        "# probabilidad de un token luego de un ngrama:\n",
        "ngram_example = [\"con\", \"la\", \"salsa\"]\n",
        "print(lm.score(\"rosa\", ngram_example))"
      ],
      "metadata": {
        "colab": {
          "base_uri": "https://localhost:8080/"
        },
        "id": "wYCpuypxYvaT",
        "outputId": "2bd6f8ec-e3ac-4591-ac52-936d1fdb1e51"
      },
      "execution_count": 31,
      "outputs": [
        {
          "output_type": "stream",
          "name": "stdout",
          "text": [
            "0.0041841004184100415\n"
          ]
        }
      ]
    },
    {
      "cell_type": "code",
      "source": [
        "# usamos logscore para evitar underflow:\n",
        "import numpy as np\n",
        "\n",
        "ngram_example = [\"con\", \"la\", \"salsa\"]\n",
        "print(lm.logscore(\"rosa\", ngram_example))\n",
        "print(np.log2(lm.score(\"rosa\", ngram_example)))"
      ],
      "metadata": {
        "colab": {
          "base_uri": "https://localhost:8080/"
        },
        "id": "7TGwR1JwY6nD",
        "outputId": "a52eb9a0-7678-432e-fa2b-6d701d7f5f36"
      },
      "execution_count": 32,
      "outputs": [
        {
          "output_type": "stream",
          "name": "stdout",
          "text": [
            "-7.90086680798075\n",
            "-7.900866807980749\n"
          ]
        }
      ]
    },
    {
      "cell_type": "markdown",
      "source": [
        "## Evaluación\n",
        "\n",
        "Medimos perplexity en el dataset de test."
      ],
      "metadata": {
        "id": "POfAiKjGHu8v"
      }
    },
    {
      "cell_type": "code",
      "source": [
        "example_test = tokenized_test[33]\n",
        "print(example_test)\n",
        "print(lm.vocab.lookup(example_test))"
      ],
      "metadata": {
        "colab": {
          "base_uri": "https://localhost:8080/"
        },
        "id": "56EnCPZ0ZvH4",
        "outputId": "4a004ac7-9c98-4c71-eef0-94023fa1fbb9"
      },
      "execution_count": 33,
      "outputs": [
        {
          "output_type": "stream",
          "name": "stdout",
          "text": [
            "['<bos>', '<bos>', '<bos>', '1', 'Para', 'empezar', 'con', 'la', 'receta', 'del', 'budín', 'de', 'naranja', 'fácil', ',', 'primero', 'bate', 'el', 'huevo', 'a', 'temperatura', 'ambiente', 'con', 'la', 'pizca', 'de', 'sal', 'mientras', 'agregas', 'el', 'azúcar', 'en', 'forma', 'de', 'lluvia', '.', '2', 'Cuando', 'el', 'azúcar', 'esté', 'integrado', 'y', 'no', 'se', 'observen', 'los', 'cristales', 'del', 'mismo', ',', 'añade', 'el', 'aceite', 'en', 'forma', 'de', 'hilo', 'mientras', 'continúas', 'batiendo', '.', '3', 'Cuando', 'el', 'aceite', 'esté', 'integrado', 'y', 'el', 'batido', 'esté', 'espumoso', 'y', 'blanquecino', ',', 'agrega', 'la', 'ralladura', 'de', 'la', 'naranja', '.', 'Por', 'otro', 'lado', ',', 'exprime', 'la', 'naranja', '.', 'Debes', 'saber', 'que', 'necesitarás', 'media', 'taza', 'de', 'líquido', ',', 'por', 'tanto', ',', 'si', 'no', 'alcanzas', 'a', 'llenarla', 'con', 'el', 'jugo', 'de', 'naranja', ',', 'puedes', 'completarla', 'con', 'agua', ',', 'leche', 'o', 'yogur', '.', '4', 'En', 'otro', 'recipiente', ',', 'mezcla', 'la', 'harina', 'con', 'el', 'polvo', 'de', 'hornear', 'y', 'el', 'bicarbonato', 'de', 'sodio', 'reservando', '1', 'cucharada', 'para', 'mezclarla', 'con', 'las', 'chispas', 'de', 'chocolate', '.', 'De', 'esta', 'forma', ',', 'al', 'añadirlas', 'en', 'el', 'budín', ',', 'quedarán', 'dispersas', 'por', 'toda', 'la', 'masa', 'en', 'lugar', 'de', 'decantar', 'en', 'el', 'fondo', '.', '5', 'Agrega', 'la', 'mitad', 'del', 'líquido', 'y', 'la', 'mitad', 'de', 'la', 'harina', 'al', 'batido', 'de', 'huevo', ',', 'la', 'harina', 'tamizándola', 'previamente', 'con', 'un', 'colador', 'fino', 'o', 'con', 'un', 'tamiz', '.', 'Intégralo', 'con', 'un', 'batidor', 'de', 'mano', 'y', 'movimientos', 'envolventes', '.', '6', 'Agrega', 'el', 'líquido', 'y', 'la', 'harina', 'restante', '.', 'A', 'continuación', ',', 'corrobora', 'la', 'consistencia', 'y', ',', 'si', 'es', 'necesario', ',', 'corrige', 'con', 'más', 'harina', 'o', 'líquido', '.', 'Cuando', 'esté', 'listo', ',', 'agrega', 'los', 'chips', 'de', 'chocolate', 'con', 'ayuda', 'de', 'una', 'espátula', 'y', 'movimientos', 'envolventes', '.', '7', 'Prepara', 'el', 'molde', 'donde', 'cocinarás', 'tu', 'budín', 'de', 'naranja', 'con', 'chips', 'de', 'chocolate', ',', 'engrasándolo', 'con', 'aceite', 'o', 'manteca', 'y', 'enharinándolo', 'para', 'evitar', 'que', 'se', 'pegue', 'durante', 'la', 'cocción', '.', '8', 'Vuelca', 'en', 'el', 'molde', 'la', 'preparación', 'del', 'budín', 'con', 'chips', 'de', 'chocolate', 'y', 'cocínalo', 'en', 'el', 'horno', 'precalentado', 'a', '180', 'ºC', 'durante', 'unos', '25', 'minutos', 'o', 'hasta', 'que', ',', 'al', 'pincharlo', ',', 'no', 'salgan', 'restos', 'de', 'la', 'preparación', '.', '9', 'Cuando', 'el', 'budín', 'esté', 'tibio', 'o', 'frío', ',', 'prepara', 'el', 'chocolate', 'o', 'el', 'ganache', 'de', 'chocolate', 'para', 'hacer', 'la', 'cobertura', '.', 'Para', 'ello', ',', 'derrítelo', 'en', 'el', 'microondas', 'a', 'potencia', 'mínima', 'de', '30', 'segundos', 'en', '30', 'segundos', ',', 'removiendo', 'cada', 'vez', '.', 'También', 'puedes', 'hacerlo', 'al', 'baño', 'María', 'mezclando', 'para', 'que', 'no', 'se', 'queme', '.', '10', 'Desmolda', 'el', 'budín', 'de', 'naranja', 'húmedo', 'y', 'cúbrelo', 'con', 'el', 'chocolate', 'derretido', '.', 'A', 'continuación', ',', 'deja', 'enfriar', 'un', 'poco', 'antes', 'de', 'probarlo', '.', '¡', 'A', 'comer', '!', '¿', 'Qué', 'te', 'ha', 'parecido', 'esta', 'receta', '?', 'Cuéntanos', 'en', 'los', 'comentarios', '.', '<eos>']\n",
            "('<bos>', '<bos>', '<bos>', '1', 'Para', 'empezar', 'con', 'la', 'receta', 'del', 'budín', 'de', 'naranja', 'fácil', ',', 'primero', 'bate', 'el', 'huevo', 'a', 'temperatura', 'ambiente', 'con', 'la', 'pizca', 'de', 'sal', 'mientras', 'agregas', 'el', 'azúcar', 'en', 'forma', 'de', 'lluvia', '.', '2', 'Cuando', 'el', 'azúcar', 'esté', 'integrado', 'y', 'no', 'se', 'observen', 'los', 'cristales', 'del', 'mismo', ',', 'añade', 'el', 'aceite', 'en', 'forma', 'de', 'hilo', 'mientras', 'continúas', 'batiendo', '.', '3', 'Cuando', 'el', 'aceite', 'esté', 'integrado', 'y', 'el', 'batido', 'esté', 'espumoso', 'y', 'blanquecino', ',', 'agrega', 'la', 'ralladura', 'de', 'la', 'naranja', '.', 'Por', 'otro', 'lado', ',', 'exprime', 'la', 'naranja', '.', 'Debes', 'saber', 'que', 'necesitarás', 'media', 'taza', 'de', 'líquido', ',', 'por', 'tanto', ',', 'si', 'no', '<UNK>', 'a', '<UNK>', 'con', 'el', 'jugo', 'de', 'naranja', ',', 'puedes', '<UNK>', 'con', 'agua', ',', 'leche', 'o', 'yogur', '.', '4', 'En', 'otro', 'recipiente', ',', 'mezcla', 'la', 'harina', 'con', 'el', 'polvo', 'de', 'hornear', 'y', 'el', 'bicarbonato', 'de', 'sodio', 'reservando', '1', 'cucharada', 'para', 'mezclarla', 'con', 'las', 'chispas', 'de', 'chocolate', '.', 'De', 'esta', 'forma', ',', 'al', 'añadirlas', 'en', 'el', 'budín', ',', 'quedarán', '<UNK>', 'por', 'toda', 'la', 'masa', 'en', 'lugar', 'de', 'decantar', 'en', 'el', 'fondo', '.', '5', 'Agrega', 'la', 'mitad', 'del', 'líquido', 'y', 'la', 'mitad', 'de', 'la', 'harina', 'al', 'batido', 'de', 'huevo', ',', 'la', 'harina', 'tamizándola', 'previamente', 'con', 'un', 'colador', 'fino', 'o', 'con', 'un', 'tamiz', '.', '<UNK>', 'con', 'un', 'batidor', 'de', 'mano', 'y', 'movimientos', 'envolventes', '.', '6', 'Agrega', 'el', 'líquido', 'y', 'la', 'harina', 'restante', '.', 'A', 'continuación', ',', 'corrobora', 'la', 'consistencia', 'y', ',', 'si', 'es', 'necesario', ',', 'corrige', 'con', 'más', 'harina', 'o', 'líquido', '.', 'Cuando', 'esté', 'listo', ',', 'agrega', 'los', 'chips', 'de', 'chocolate', 'con', 'ayuda', 'de', 'una', 'espátula', 'y', 'movimientos', 'envolventes', '.', '7', 'Prepara', 'el', 'molde', 'donde', 'cocinarás', 'tu', 'budín', 'de', 'naranja', 'con', 'chips', 'de', 'chocolate', ',', 'engrasándolo', 'con', 'aceite', 'o', 'manteca', 'y', 'enharinándolo', 'para', 'evitar', 'que', 'se', 'pegue', 'durante', 'la', 'cocción', '.', '8', 'Vuelca', 'en', 'el', 'molde', 'la', 'preparación', 'del', 'budín', 'con', 'chips', 'de', 'chocolate', 'y', 'cocínalo', 'en', 'el', 'horno', 'precalentado', 'a', '180', 'ºC', 'durante', 'unos', '25', 'minutos', 'o', 'hasta', 'que', ',', 'al', 'pincharlo', ',', 'no', 'salgan', 'restos', 'de', 'la', 'preparación', '.', '9', 'Cuando', 'el', 'budín', 'esté', 'tibio', 'o', 'frío', ',', 'prepara', 'el', 'chocolate', 'o', 'el', 'ganache', 'de', 'chocolate', 'para', 'hacer', 'la', 'cobertura', '.', 'Para', 'ello', ',', '<UNK>', 'en', 'el', 'microondas', 'a', 'potencia', 'mínima', 'de', '30', 'segundos', 'en', '30', 'segundos', ',', 'removiendo', 'cada', 'vez', '.', 'También', 'puedes', 'hacerlo', 'al', 'baño', 'María', 'mezclando', 'para', 'que', 'no', 'se', 'queme', '.', '10', 'Desmolda', 'el', 'budín', 'de', 'naranja', 'húmedo', 'y', 'cúbrelo', 'con', 'el', 'chocolate', 'derretido', '.', 'A', 'continuación', ',', 'deja', 'enfriar', 'un', 'poco', 'antes', 'de', 'probarlo', '.', '¡', 'A', 'comer', '!', '¿', 'Qué', 'te', 'ha', 'parecido', 'esta', 'receta', '?', 'Cuéntanos', 'en', 'los', 'comentarios', '.', '<eos>')\n"
          ]
        }
      ]
    },
    {
      "cell_type": "code",
      "source": [
        "from nltk.util import ngrams\n",
        "\n",
        "def perplexity(docs, lm, ngram_order=3) -> float:\n",
        "    \"\"\"docs: lista de listas de tokens (con BOS y EOS)\n",
        "    \"\"\"\n",
        "    ngrams_flat = []\n",
        "    for doc in docs:\n",
        "        ngrams_ = ngrams(doc, ngram_order)\n",
        "        ngrams_flat.extend(list(ngrams_))\n",
        "    return lm.perplexity(ngrams_flat)"
      ],
      "metadata": {
        "id": "K9GInDjFeF5w"
      },
      "execution_count": 34,
      "outputs": []
    },
    {
      "cell_type": "code",
      "source": [
        "%%time\n",
        "ppl_train = perplexity(tokenized_train, lm)\n",
        "print(f\"Perplexity en train: {ppl_train:.4f}\")"
      ],
      "metadata": {
        "colab": {
          "base_uri": "https://localhost:8080/"
        },
        "id": "Oqh39H7ihxB2",
        "outputId": "6b9a4cd6-2346-4e9e-9007-3d1bcfeba11b"
      },
      "execution_count": 35,
      "outputs": [
        {
          "output_type": "stream",
          "name": "stdout",
          "text": [
            "Perplexity en train: 8.1328\n",
            "CPU times: user 7.58 s, sys: 123 ms, total: 7.7 s\n",
            "Wall time: 7.78 s\n"
          ]
        }
      ]
    },
    {
      "cell_type": "code",
      "source": [
        "%%time\n",
        "ppl_test = perplexity(tokenized_test, lm)\n",
        "print(f\"Perplexity en test: {ppl_test:.4f}\")\n",
        "# qué pasó??"
      ],
      "metadata": {
        "colab": {
          "base_uri": "https://localhost:8080/"
        },
        "id": "ZiT4a1ZbeX-G",
        "outputId": "60ae0c82-7c71-40fe-b9d2-6311dfd7e41a"
      },
      "execution_count": 36,
      "outputs": [
        {
          "output_type": "stream",
          "name": "stdout",
          "text": [
            "Perplexity en test: inf\n",
            "CPU times: user 6.93 s, sys: 93 ms, total: 7.02 s\n",
            "Wall time: 7.02 s\n"
          ]
        }
      ]
    },
    {
      "cell_type": "markdown",
      "source": [
        "Necesitamos smoothing / backoff / interpolation para computar perplexity en test!\n",
        "\n",
        "Usamos add-k smoothing (aka Lidstone smoothing, gamma=k)"
      ],
      "metadata": {
        "id": "xl89hc5wwupP"
      }
    },
    {
      "cell_type": "code",
      "source": [
        "from nltk.lm import Lidstone\n",
        "\n",
        "train, train_flat = padded_everygram_pipeline(4, tokenized_train)\n",
        "vocab = Vocabulary(train_flat, unk_cutoff=2)\n",
        "lm_smoothed = Lidstone(order=4, vocabulary=vocab, gamma=.01)"
      ],
      "metadata": {
        "id": "vt7yslv1lvo7"
      },
      "execution_count": 37,
      "outputs": []
    },
    {
      "cell_type": "code",
      "source": [
        "%%time\n",
        "lm_smoothed.fit(train)"
      ],
      "metadata": {
        "colab": {
          "base_uri": "https://localhost:8080/"
        },
        "id": "Kc0A7B2enuXw",
        "outputId": "7404ca7f-0ee1-41e3-a43d-1c0a69ec0adf"
      },
      "execution_count": 38,
      "outputs": [
        {
          "output_type": "stream",
          "name": "stdout",
          "text": [
            "CPU times: user 25.5 s, sys: 548 ms, total: 26 s\n",
            "Wall time: 26.2 s\n"
          ]
        }
      ]
    },
    {
      "cell_type": "code",
      "source": [
        "ppl_test_smoothed = perplexity(tokenized_test, lm_smoothed)\n",
        "print(f\"Perplexity en test: {ppl_test_smoothed:.4f}\")"
      ],
      "metadata": {
        "colab": {
          "base_uri": "https://localhost:8080/"
        },
        "id": "3t2Px-Y2oARm",
        "outputId": "025ef9e9-6765-40b7-b70d-a50a2a5fd3bc"
      },
      "execution_count": 39,
      "outputs": [
        {
          "output_type": "stream",
          "name": "stdout",
          "text": [
            "Perplexity en test: 199.4909\n"
          ]
        }
      ]
    },
    {
      "cell_type": "markdown",
      "source": [
        "## Generación de texto\n",
        "\n",
        "Generamos texto sampleando iterativamente del LM."
      ],
      "metadata": {
        "id": "ddjpr1b0xD2j"
      }
    },
    {
      "cell_type": "code",
      "source": [
        "tokens_generados = lm_smoothed.generate(\n",
        "    30, text_seed=[\"<bos>\", \"<bos>\", \"<bos>\"], random_seed=33)\n",
        "print(\" \".join(tokens_generados))"
      ],
      "metadata": {
        "colab": {
          "base_uri": "https://localhost:8080/"
        },
        "id": "8Eu2KQHoo0bs",
        "outputId": "86d83b0d-1166-409b-a01a-4cbb9e1238e1"
      },
      "execution_count": 40,
      "outputs": [
        {
          "output_type": "stream",
          "name": "stdout",
          "text": [
            "1 Para preparar esta receta que te haga el trabajo de marcar los medios como <UNK> <UNK> , el <UNK> natural por excelencia . 5 Por último , agrega unas\n"
          ]
        }
      ]
    },
    {
      "cell_type": "code",
      "source": [
        "import textwrap\n",
        "\n",
        "tokens_generados = lm_smoothed.generate(\n",
        "    120, text_seed=[\"<bos>\", \"<bos>\", \"1\"], random_seed=33)\n",
        "receta_generada = \" \".join(tokens_generados)\n",
        "print(textwrap.fill(receta_generada, 100))"
      ],
      "metadata": {
        "colab": {
          "base_uri": "https://localhost:8080/"
        },
        "id": "Y8p8zhsuB1Zj",
        "outputId": "9c8e2c66-97da-4b05-d94c-95390f5d2e5e"
      },
      "execution_count": 41,
      "outputs": [
        {
          "output_type": "stream",
          "name": "stdout",
          "text": [
            "Para hacer las capas de relleno pues deberán estar frías una vez vayan a ser utilizadas . Prepara en\n",
            "primer lugar limpiaremos los calamares , que , bien escurridas y aliñamos con un poco de arroz\n",
            "blanco . 2 Añade el chocolate en baño María con una olla a fuego lento 2 minutos más . 4 Este es el\n",
            "primer paso es alistar todos los ingredientes para elaborar los calabacines rellenos de gambas y\n",
            "parmesano . Truco : Aunque recomendamos hacer tres capas . 7 Finalmente servir las acelgas al puré y\n",
            "procesar nuevamente , hasta obtener una mezcla homogénea y suave . Si quieres recetas más detalles\n",
            "para aprender a preparar más croquetas , no te pierdas esta sencilla\n"
          ]
        }
      ]
    },
    {
      "cell_type": "code",
      "source": [],
      "metadata": {
        "id": "VZMXy52FA9-o"
      },
      "execution_count": 41,
      "outputs": []
    }
  ]
}