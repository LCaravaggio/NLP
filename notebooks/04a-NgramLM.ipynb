{
  "nbformat": 4,
  "nbformat_minor": 0,
  "metadata": {
    "colab": {
      "provenance": [],
      "include_colab_link": true
    },
    "kernelspec": {
      "name": "python3",
      "display_name": "Python 3"
    },
    "widgets": {
      "application/vnd.jupyter.widget-state+json": {
        "3961d4c6a0394e4a9b8dd3c519c43b99": {
          "model_module": "@jupyter-widgets/controls",
          "model_name": "HBoxModel",
          "model_module_version": "1.5.0",
          "state": {
            "_dom_classes": [],
            "_model_module": "@jupyter-widgets/controls",
            "_model_module_version": "1.5.0",
            "_model_name": "HBoxModel",
            "_view_count": null,
            "_view_module": "@jupyter-widgets/controls",
            "_view_module_version": "1.5.0",
            "_view_name": "HBoxView",
            "box_style": "",
            "children": [
              "IPY_MODEL_b54ea7a15a6c4a648def801956eba938",
              "IPY_MODEL_e3efb82e6ee24229911c0f46615dfda5",
              "IPY_MODEL_bca74c0f48e64bf993de48795f642ae9"
            ],
            "layout": "IPY_MODEL_d62e1998d79444d19e36285aaa32c585"
          }
        },
        "b54ea7a15a6c4a648def801956eba938": {
          "model_module": "@jupyter-widgets/controls",
          "model_name": "HTMLModel",
          "model_module_version": "1.5.0",
          "state": {
            "_dom_classes": [],
            "_model_module": "@jupyter-widgets/controls",
            "_model_module_version": "1.5.0",
            "_model_name": "HTMLModel",
            "_view_count": null,
            "_view_module": "@jupyter-widgets/controls",
            "_view_module_version": "1.5.0",
            "_view_name": "HTMLView",
            "description": "",
            "description_tooltip": null,
            "layout": "IPY_MODEL_3e805fb89409470db7566bd43a811e54",
            "placeholder": "​",
            "style": "IPY_MODEL_4551728913a24138b514ffeaf51bd028",
            "value": "README.md: 100%"
          }
        },
        "e3efb82e6ee24229911c0f46615dfda5": {
          "model_module": "@jupyter-widgets/controls",
          "model_name": "FloatProgressModel",
          "model_module_version": "1.5.0",
          "state": {
            "_dom_classes": [],
            "_model_module": "@jupyter-widgets/controls",
            "_model_module_version": "1.5.0",
            "_model_name": "FloatProgressModel",
            "_view_count": null,
            "_view_module": "@jupyter-widgets/controls",
            "_view_module_version": "1.5.0",
            "_view_name": "ProgressView",
            "bar_style": "success",
            "description": "",
            "description_tooltip": null,
            "layout": "IPY_MODEL_dc571d32153a479ebe56bbf8f73456e6",
            "max": 10857,
            "min": 0,
            "orientation": "horizontal",
            "style": "IPY_MODEL_e70124c694c343df819cf7276f18bb77",
            "value": 10857
          }
        },
        "bca74c0f48e64bf993de48795f642ae9": {
          "model_module": "@jupyter-widgets/controls",
          "model_name": "HTMLModel",
          "model_module_version": "1.5.0",
          "state": {
            "_dom_classes": [],
            "_model_module": "@jupyter-widgets/controls",
            "_model_module_version": "1.5.0",
            "_model_name": "HTMLModel",
            "_view_count": null,
            "_view_module": "@jupyter-widgets/controls",
            "_view_module_version": "1.5.0",
            "_view_name": "HTMLView",
            "description": "",
            "description_tooltip": null,
            "layout": "IPY_MODEL_fdb06d53d1fe483b91474cb2a48ab9ec",
            "placeholder": "​",
            "style": "IPY_MODEL_4d9155fa4bc94d9798c14cbf898a5a62",
            "value": " 10.9k/10.9k [00:00&lt;00:00, 168kB/s]"
          }
        },
        "d62e1998d79444d19e36285aaa32c585": {
          "model_module": "@jupyter-widgets/base",
          "model_name": "LayoutModel",
          "model_module_version": "1.2.0",
          "state": {
            "_model_module": "@jupyter-widgets/base",
            "_model_module_version": "1.2.0",
            "_model_name": "LayoutModel",
            "_view_count": null,
            "_view_module": "@jupyter-widgets/base",
            "_view_module_version": "1.2.0",
            "_view_name": "LayoutView",
            "align_content": null,
            "align_items": null,
            "align_self": null,
            "border": null,
            "bottom": null,
            "display": null,
            "flex": null,
            "flex_flow": null,
            "grid_area": null,
            "grid_auto_columns": null,
            "grid_auto_flow": null,
            "grid_auto_rows": null,
            "grid_column": null,
            "grid_gap": null,
            "grid_row": null,
            "grid_template_areas": null,
            "grid_template_columns": null,
            "grid_template_rows": null,
            "height": null,
            "justify_content": null,
            "justify_items": null,
            "left": null,
            "margin": null,
            "max_height": null,
            "max_width": null,
            "min_height": null,
            "min_width": null,
            "object_fit": null,
            "object_position": null,
            "order": null,
            "overflow": null,
            "overflow_x": null,
            "overflow_y": null,
            "padding": null,
            "right": null,
            "top": null,
            "visibility": null,
            "width": null
          }
        },
        "3e805fb89409470db7566bd43a811e54": {
          "model_module": "@jupyter-widgets/base",
          "model_name": "LayoutModel",
          "model_module_version": "1.2.0",
          "state": {
            "_model_module": "@jupyter-widgets/base",
            "_model_module_version": "1.2.0",
            "_model_name": "LayoutModel",
            "_view_count": null,
            "_view_module": "@jupyter-widgets/base",
            "_view_module_version": "1.2.0",
            "_view_name": "LayoutView",
            "align_content": null,
            "align_items": null,
            "align_self": null,
            "border": null,
            "bottom": null,
            "display": null,
            "flex": null,
            "flex_flow": null,
            "grid_area": null,
            "grid_auto_columns": null,
            "grid_auto_flow": null,
            "grid_auto_rows": null,
            "grid_column": null,
            "grid_gap": null,
            "grid_row": null,
            "grid_template_areas": null,
            "grid_template_columns": null,
            "grid_template_rows": null,
            "height": null,
            "justify_content": null,
            "justify_items": null,
            "left": null,
            "margin": null,
            "max_height": null,
            "max_width": null,
            "min_height": null,
            "min_width": null,
            "object_fit": null,
            "object_position": null,
            "order": null,
            "overflow": null,
            "overflow_x": null,
            "overflow_y": null,
            "padding": null,
            "right": null,
            "top": null,
            "visibility": null,
            "width": null
          }
        },
        "4551728913a24138b514ffeaf51bd028": {
          "model_module": "@jupyter-widgets/controls",
          "model_name": "DescriptionStyleModel",
          "model_module_version": "1.5.0",
          "state": {
            "_model_module": "@jupyter-widgets/controls",
            "_model_module_version": "1.5.0",
            "_model_name": "DescriptionStyleModel",
            "_view_count": null,
            "_view_module": "@jupyter-widgets/base",
            "_view_module_version": "1.2.0",
            "_view_name": "StyleView",
            "description_width": ""
          }
        },
        "dc571d32153a479ebe56bbf8f73456e6": {
          "model_module": "@jupyter-widgets/base",
          "model_name": "LayoutModel",
          "model_module_version": "1.2.0",
          "state": {
            "_model_module": "@jupyter-widgets/base",
            "_model_module_version": "1.2.0",
            "_model_name": "LayoutModel",
            "_view_count": null,
            "_view_module": "@jupyter-widgets/base",
            "_view_module_version": "1.2.0",
            "_view_name": "LayoutView",
            "align_content": null,
            "align_items": null,
            "align_self": null,
            "border": null,
            "bottom": null,
            "display": null,
            "flex": null,
            "flex_flow": null,
            "grid_area": null,
            "grid_auto_columns": null,
            "grid_auto_flow": null,
            "grid_auto_rows": null,
            "grid_column": null,
            "grid_gap": null,
            "grid_row": null,
            "grid_template_areas": null,
            "grid_template_columns": null,
            "grid_template_rows": null,
            "height": null,
            "justify_content": null,
            "justify_items": null,
            "left": null,
            "margin": null,
            "max_height": null,
            "max_width": null,
            "min_height": null,
            "min_width": null,
            "object_fit": null,
            "object_position": null,
            "order": null,
            "overflow": null,
            "overflow_x": null,
            "overflow_y": null,
            "padding": null,
            "right": null,
            "top": null,
            "visibility": null,
            "width": null
          }
        },
        "e70124c694c343df819cf7276f18bb77": {
          "model_module": "@jupyter-widgets/controls",
          "model_name": "ProgressStyleModel",
          "model_module_version": "1.5.0",
          "state": {
            "_model_module": "@jupyter-widgets/controls",
            "_model_module_version": "1.5.0",
            "_model_name": "ProgressStyleModel",
            "_view_count": null,
            "_view_module": "@jupyter-widgets/base",
            "_view_module_version": "1.2.0",
            "_view_name": "StyleView",
            "bar_color": null,
            "description_width": ""
          }
        },
        "fdb06d53d1fe483b91474cb2a48ab9ec": {
          "model_module": "@jupyter-widgets/base",
          "model_name": "LayoutModel",
          "model_module_version": "1.2.0",
          "state": {
            "_model_module": "@jupyter-widgets/base",
            "_model_module_version": "1.2.0",
            "_model_name": "LayoutModel",
            "_view_count": null,
            "_view_module": "@jupyter-widgets/base",
            "_view_module_version": "1.2.0",
            "_view_name": "LayoutView",
            "align_content": null,
            "align_items": null,
            "align_self": null,
            "border": null,
            "bottom": null,
            "display": null,
            "flex": null,
            "flex_flow": null,
            "grid_area": null,
            "grid_auto_columns": null,
            "grid_auto_flow": null,
            "grid_auto_rows": null,
            "grid_column": null,
            "grid_gap": null,
            "grid_row": null,
            "grid_template_areas": null,
            "grid_template_columns": null,
            "grid_template_rows": null,
            "height": null,
            "justify_content": null,
            "justify_items": null,
            "left": null,
            "margin": null,
            "max_height": null,
            "max_width": null,
            "min_height": null,
            "min_width": null,
            "object_fit": null,
            "object_position": null,
            "order": null,
            "overflow": null,
            "overflow_x": null,
            "overflow_y": null,
            "padding": null,
            "right": null,
            "top": null,
            "visibility": null,
            "width": null
          }
        },
        "4d9155fa4bc94d9798c14cbf898a5a62": {
          "model_module": "@jupyter-widgets/controls",
          "model_name": "DescriptionStyleModel",
          "model_module_version": "1.5.0",
          "state": {
            "_model_module": "@jupyter-widgets/controls",
            "_model_module_version": "1.5.0",
            "_model_name": "DescriptionStyleModel",
            "_view_count": null,
            "_view_module": "@jupyter-widgets/base",
            "_view_module_version": "1.2.0",
            "_view_name": "StyleView",
            "description_width": ""
          }
        },
        "f05fb37bad5849aab9cd56745354242d": {
          "model_module": "@jupyter-widgets/controls",
          "model_name": "HBoxModel",
          "model_module_version": "1.5.0",
          "state": {
            "_dom_classes": [],
            "_model_module": "@jupyter-widgets/controls",
            "_model_module_version": "1.5.0",
            "_model_name": "HBoxModel",
            "_view_count": null,
            "_view_module": "@jupyter-widgets/controls",
            "_view_module_version": "1.5.0",
            "_view_name": "HBoxView",
            "box_style": "",
            "children": [
              "IPY_MODEL_c4f5429ed61d4d6f849c88ce93fbbd2b",
              "IPY_MODEL_be47af28647649398b00cca761665c05",
              "IPY_MODEL_f713f8eefafb4a64875bf4f582e3e3cd"
            ],
            "layout": "IPY_MODEL_b146801ecc59480897c6ef0216a0dfe6"
          }
        },
        "c4f5429ed61d4d6f849c88ce93fbbd2b": {
          "model_module": "@jupyter-widgets/controls",
          "model_name": "HTMLModel",
          "model_module_version": "1.5.0",
          "state": {
            "_dom_classes": [],
            "_model_module": "@jupyter-widgets/controls",
            "_model_module_version": "1.5.0",
            "_model_name": "HTMLModel",
            "_view_count": null,
            "_view_module": "@jupyter-widgets/controls",
            "_view_module_version": "1.5.0",
            "_view_name": "HTMLView",
            "description": "",
            "description_tooltip": null,
            "layout": "IPY_MODEL_3a3cff0159254ddfbd239467f63f695d",
            "placeholder": "​",
            "style": "IPY_MODEL_ffe1ed8632b341c98f1b9542afd8b5cd",
            "value": "main.csv: 100%"
          }
        },
        "be47af28647649398b00cca761665c05": {
          "model_module": "@jupyter-widgets/controls",
          "model_name": "FloatProgressModel",
          "model_module_version": "1.5.0",
          "state": {
            "_dom_classes": [],
            "_model_module": "@jupyter-widgets/controls",
            "_model_module_version": "1.5.0",
            "_model_name": "FloatProgressModel",
            "_view_count": null,
            "_view_module": "@jupyter-widgets/controls",
            "_view_module_version": "1.5.0",
            "_view_name": "ProgressView",
            "bar_style": "success",
            "description": "",
            "description_tooltip": null,
            "layout": "IPY_MODEL_5db4e9e0c2de4ccdacab0b63537f0b38",
            "max": 40317661,
            "min": 0,
            "orientation": "horizontal",
            "style": "IPY_MODEL_aa1096e7cc994210b7d622428096d045",
            "value": 40317661
          }
        },
        "f713f8eefafb4a64875bf4f582e3e3cd": {
          "model_module": "@jupyter-widgets/controls",
          "model_name": "HTMLModel",
          "model_module_version": "1.5.0",
          "state": {
            "_dom_classes": [],
            "_model_module": "@jupyter-widgets/controls",
            "_model_module_version": "1.5.0",
            "_model_name": "HTMLModel",
            "_view_count": null,
            "_view_module": "@jupyter-widgets/controls",
            "_view_module_version": "1.5.0",
            "_view_name": "HTMLView",
            "description": "",
            "description_tooltip": null,
            "layout": "IPY_MODEL_8779bacc280b46c08223146fd390772e",
            "placeholder": "​",
            "style": "IPY_MODEL_f8a0b8781a1548cdacc4a135190ce6ba",
            "value": " 40.3M/40.3M [00:00&lt;00:00, 48.4MB/s]"
          }
        },
        "b146801ecc59480897c6ef0216a0dfe6": {
          "model_module": "@jupyter-widgets/base",
          "model_name": "LayoutModel",
          "model_module_version": "1.2.0",
          "state": {
            "_model_module": "@jupyter-widgets/base",
            "_model_module_version": "1.2.0",
            "_model_name": "LayoutModel",
            "_view_count": null,
            "_view_module": "@jupyter-widgets/base",
            "_view_module_version": "1.2.0",
            "_view_name": "LayoutView",
            "align_content": null,
            "align_items": null,
            "align_self": null,
            "border": null,
            "bottom": null,
            "display": null,
            "flex": null,
            "flex_flow": null,
            "grid_area": null,
            "grid_auto_columns": null,
            "grid_auto_flow": null,
            "grid_auto_rows": null,
            "grid_column": null,
            "grid_gap": null,
            "grid_row": null,
            "grid_template_areas": null,
            "grid_template_columns": null,
            "grid_template_rows": null,
            "height": null,
            "justify_content": null,
            "justify_items": null,
            "left": null,
            "margin": null,
            "max_height": null,
            "max_width": null,
            "min_height": null,
            "min_width": null,
            "object_fit": null,
            "object_position": null,
            "order": null,
            "overflow": null,
            "overflow_x": null,
            "overflow_y": null,
            "padding": null,
            "right": null,
            "top": null,
            "visibility": null,
            "width": null
          }
        },
        "3a3cff0159254ddfbd239467f63f695d": {
          "model_module": "@jupyter-widgets/base",
          "model_name": "LayoutModel",
          "model_module_version": "1.2.0",
          "state": {
            "_model_module": "@jupyter-widgets/base",
            "_model_module_version": "1.2.0",
            "_model_name": "LayoutModel",
            "_view_count": null,
            "_view_module": "@jupyter-widgets/base",
            "_view_module_version": "1.2.0",
            "_view_name": "LayoutView",
            "align_content": null,
            "align_items": null,
            "align_self": null,
            "border": null,
            "bottom": null,
            "display": null,
            "flex": null,
            "flex_flow": null,
            "grid_area": null,
            "grid_auto_columns": null,
            "grid_auto_flow": null,
            "grid_auto_rows": null,
            "grid_column": null,
            "grid_gap": null,
            "grid_row": null,
            "grid_template_areas": null,
            "grid_template_columns": null,
            "grid_template_rows": null,
            "height": null,
            "justify_content": null,
            "justify_items": null,
            "left": null,
            "margin": null,
            "max_height": null,
            "max_width": null,
            "min_height": null,
            "min_width": null,
            "object_fit": null,
            "object_position": null,
            "order": null,
            "overflow": null,
            "overflow_x": null,
            "overflow_y": null,
            "padding": null,
            "right": null,
            "top": null,
            "visibility": null,
            "width": null
          }
        },
        "ffe1ed8632b341c98f1b9542afd8b5cd": {
          "model_module": "@jupyter-widgets/controls",
          "model_name": "DescriptionStyleModel",
          "model_module_version": "1.5.0",
          "state": {
            "_model_module": "@jupyter-widgets/controls",
            "_model_module_version": "1.5.0",
            "_model_name": "DescriptionStyleModel",
            "_view_count": null,
            "_view_module": "@jupyter-widgets/base",
            "_view_module_version": "1.2.0",
            "_view_name": "StyleView",
            "description_width": ""
          }
        },
        "5db4e9e0c2de4ccdacab0b63537f0b38": {
          "model_module": "@jupyter-widgets/base",
          "model_name": "LayoutModel",
          "model_module_version": "1.2.0",
          "state": {
            "_model_module": "@jupyter-widgets/base",
            "_model_module_version": "1.2.0",
            "_model_name": "LayoutModel",
            "_view_count": null,
            "_view_module": "@jupyter-widgets/base",
            "_view_module_version": "1.2.0",
            "_view_name": "LayoutView",
            "align_content": null,
            "align_items": null,
            "align_self": null,
            "border": null,
            "bottom": null,
            "display": null,
            "flex": null,
            "flex_flow": null,
            "grid_area": null,
            "grid_auto_columns": null,
            "grid_auto_flow": null,
            "grid_auto_rows": null,
            "grid_column": null,
            "grid_gap": null,
            "grid_row": null,
            "grid_template_areas": null,
            "grid_template_columns": null,
            "grid_template_rows": null,
            "height": null,
            "justify_content": null,
            "justify_items": null,
            "left": null,
            "margin": null,
            "max_height": null,
            "max_width": null,
            "min_height": null,
            "min_width": null,
            "object_fit": null,
            "object_position": null,
            "order": null,
            "overflow": null,
            "overflow_x": null,
            "overflow_y": null,
            "padding": null,
            "right": null,
            "top": null,
            "visibility": null,
            "width": null
          }
        },
        "aa1096e7cc994210b7d622428096d045": {
          "model_module": "@jupyter-widgets/controls",
          "model_name": "ProgressStyleModel",
          "model_module_version": "1.5.0",
          "state": {
            "_model_module": "@jupyter-widgets/controls",
            "_model_module_version": "1.5.0",
            "_model_name": "ProgressStyleModel",
            "_view_count": null,
            "_view_module": "@jupyter-widgets/base",
            "_view_module_version": "1.2.0",
            "_view_name": "StyleView",
            "bar_color": null,
            "description_width": ""
          }
        },
        "8779bacc280b46c08223146fd390772e": {
          "model_module": "@jupyter-widgets/base",
          "model_name": "LayoutModel",
          "model_module_version": "1.2.0",
          "state": {
            "_model_module": "@jupyter-widgets/base",
            "_model_module_version": "1.2.0",
            "_model_name": "LayoutModel",
            "_view_count": null,
            "_view_module": "@jupyter-widgets/base",
            "_view_module_version": "1.2.0",
            "_view_name": "LayoutView",
            "align_content": null,
            "align_items": null,
            "align_self": null,
            "border": null,
            "bottom": null,
            "display": null,
            "flex": null,
            "flex_flow": null,
            "grid_area": null,
            "grid_auto_columns": null,
            "grid_auto_flow": null,
            "grid_auto_rows": null,
            "grid_column": null,
            "grid_gap": null,
            "grid_row": null,
            "grid_template_areas": null,
            "grid_template_columns": null,
            "grid_template_rows": null,
            "height": null,
            "justify_content": null,
            "justify_items": null,
            "left": null,
            "margin": null,
            "max_height": null,
            "max_width": null,
            "min_height": null,
            "min_width": null,
            "object_fit": null,
            "object_position": null,
            "order": null,
            "overflow": null,
            "overflow_x": null,
            "overflow_y": null,
            "padding": null,
            "right": null,
            "top": null,
            "visibility": null,
            "width": null
          }
        },
        "f8a0b8781a1548cdacc4a135190ce6ba": {
          "model_module": "@jupyter-widgets/controls",
          "model_name": "DescriptionStyleModel",
          "model_module_version": "1.5.0",
          "state": {
            "_model_module": "@jupyter-widgets/controls",
            "_model_module_version": "1.5.0",
            "_model_name": "DescriptionStyleModel",
            "_view_count": null,
            "_view_module": "@jupyter-widgets/base",
            "_view_module_version": "1.2.0",
            "_view_name": "StyleView",
            "description_width": ""
          }
        },
        "37fb7e4d97fb48a98dab6df3a2256106": {
          "model_module": "@jupyter-widgets/controls",
          "model_name": "HBoxModel",
          "model_module_version": "1.5.0",
          "state": {
            "_dom_classes": [],
            "_model_module": "@jupyter-widgets/controls",
            "_model_module_version": "1.5.0",
            "_model_name": "HBoxModel",
            "_view_count": null,
            "_view_module": "@jupyter-widgets/controls",
            "_view_module_version": "1.5.0",
            "_view_name": "HBoxView",
            "box_style": "",
            "children": [
              "IPY_MODEL_76809ca4147a43a2a0eed03fe1492bef",
              "IPY_MODEL_dbac1a7c939a47518fef5ae76996c91a",
              "IPY_MODEL_2c2c0b9e01bb42328427503f88428ce9"
            ],
            "layout": "IPY_MODEL_6d0f8c1d50e24b87b05271c9a325449d"
          }
        },
        "76809ca4147a43a2a0eed03fe1492bef": {
          "model_module": "@jupyter-widgets/controls",
          "model_name": "HTMLModel",
          "model_module_version": "1.5.0",
          "state": {
            "_dom_classes": [],
            "_model_module": "@jupyter-widgets/controls",
            "_model_module_version": "1.5.0",
            "_model_name": "HTMLModel",
            "_view_count": null,
            "_view_module": "@jupyter-widgets/controls",
            "_view_module_version": "1.5.0",
            "_view_name": "HTMLView",
            "description": "",
            "description_tooltip": null,
            "layout": "IPY_MODEL_49731816ee354812b53a5c4ffb0d612e",
            "placeholder": "​",
            "style": "IPY_MODEL_e25a751fb66a43faa75034bc6a42d446",
            "value": "Generating train split: 100%"
          }
        },
        "dbac1a7c939a47518fef5ae76996c91a": {
          "model_module": "@jupyter-widgets/controls",
          "model_name": "FloatProgressModel",
          "model_module_version": "1.5.0",
          "state": {
            "_dom_classes": [],
            "_model_module": "@jupyter-widgets/controls",
            "_model_module_version": "1.5.0",
            "_model_name": "FloatProgressModel",
            "_view_count": null,
            "_view_module": "@jupyter-widgets/controls",
            "_view_module_version": "1.5.0",
            "_view_name": "ProgressView",
            "bar_style": "success",
            "description": "",
            "description_tooltip": null,
            "layout": "IPY_MODEL_94311748df4a4b96b7dac2ec42a6a26d",
            "max": 20236,
            "min": 0,
            "orientation": "horizontal",
            "style": "IPY_MODEL_532aac2502764e7d960a516315a8ccd1",
            "value": 20236
          }
        },
        "2c2c0b9e01bb42328427503f88428ce9": {
          "model_module": "@jupyter-widgets/controls",
          "model_name": "HTMLModel",
          "model_module_version": "1.5.0",
          "state": {
            "_dom_classes": [],
            "_model_module": "@jupyter-widgets/controls",
            "_model_module_version": "1.5.0",
            "_model_name": "HTMLModel",
            "_view_count": null,
            "_view_module": "@jupyter-widgets/controls",
            "_view_module_version": "1.5.0",
            "_view_name": "HTMLView",
            "description": "",
            "description_tooltip": null,
            "layout": "IPY_MODEL_10a40407764647c2a78b92978af4f27a",
            "placeholder": "​",
            "style": "IPY_MODEL_a42d7a4847494b86bceeecf66edb317e",
            "value": " 20236/20236 [00:01&lt;00:00, 19225.54 examples/s]"
          }
        },
        "6d0f8c1d50e24b87b05271c9a325449d": {
          "model_module": "@jupyter-widgets/base",
          "model_name": "LayoutModel",
          "model_module_version": "1.2.0",
          "state": {
            "_model_module": "@jupyter-widgets/base",
            "_model_module_version": "1.2.0",
            "_model_name": "LayoutModel",
            "_view_count": null,
            "_view_module": "@jupyter-widgets/base",
            "_view_module_version": "1.2.0",
            "_view_name": "LayoutView",
            "align_content": null,
            "align_items": null,
            "align_self": null,
            "border": null,
            "bottom": null,
            "display": null,
            "flex": null,
            "flex_flow": null,
            "grid_area": null,
            "grid_auto_columns": null,
            "grid_auto_flow": null,
            "grid_auto_rows": null,
            "grid_column": null,
            "grid_gap": null,
            "grid_row": null,
            "grid_template_areas": null,
            "grid_template_columns": null,
            "grid_template_rows": null,
            "height": null,
            "justify_content": null,
            "justify_items": null,
            "left": null,
            "margin": null,
            "max_height": null,
            "max_width": null,
            "min_height": null,
            "min_width": null,
            "object_fit": null,
            "object_position": null,
            "order": null,
            "overflow": null,
            "overflow_x": null,
            "overflow_y": null,
            "padding": null,
            "right": null,
            "top": null,
            "visibility": null,
            "width": null
          }
        },
        "49731816ee354812b53a5c4ffb0d612e": {
          "model_module": "@jupyter-widgets/base",
          "model_name": "LayoutModel",
          "model_module_version": "1.2.0",
          "state": {
            "_model_module": "@jupyter-widgets/base",
            "_model_module_version": "1.2.0",
            "_model_name": "LayoutModel",
            "_view_count": null,
            "_view_module": "@jupyter-widgets/base",
            "_view_module_version": "1.2.0",
            "_view_name": "LayoutView",
            "align_content": null,
            "align_items": null,
            "align_self": null,
            "border": null,
            "bottom": null,
            "display": null,
            "flex": null,
            "flex_flow": null,
            "grid_area": null,
            "grid_auto_columns": null,
            "grid_auto_flow": null,
            "grid_auto_rows": null,
            "grid_column": null,
            "grid_gap": null,
            "grid_row": null,
            "grid_template_areas": null,
            "grid_template_columns": null,
            "grid_template_rows": null,
            "height": null,
            "justify_content": null,
            "justify_items": null,
            "left": null,
            "margin": null,
            "max_height": null,
            "max_width": null,
            "min_height": null,
            "min_width": null,
            "object_fit": null,
            "object_position": null,
            "order": null,
            "overflow": null,
            "overflow_x": null,
            "overflow_y": null,
            "padding": null,
            "right": null,
            "top": null,
            "visibility": null,
            "width": null
          }
        },
        "e25a751fb66a43faa75034bc6a42d446": {
          "model_module": "@jupyter-widgets/controls",
          "model_name": "DescriptionStyleModel",
          "model_module_version": "1.5.0",
          "state": {
            "_model_module": "@jupyter-widgets/controls",
            "_model_module_version": "1.5.0",
            "_model_name": "DescriptionStyleModel",
            "_view_count": null,
            "_view_module": "@jupyter-widgets/base",
            "_view_module_version": "1.2.0",
            "_view_name": "StyleView",
            "description_width": ""
          }
        },
        "94311748df4a4b96b7dac2ec42a6a26d": {
          "model_module": "@jupyter-widgets/base",
          "model_name": "LayoutModel",
          "model_module_version": "1.2.0",
          "state": {
            "_model_module": "@jupyter-widgets/base",
            "_model_module_version": "1.2.0",
            "_model_name": "LayoutModel",
            "_view_count": null,
            "_view_module": "@jupyter-widgets/base",
            "_view_module_version": "1.2.0",
            "_view_name": "LayoutView",
            "align_content": null,
            "align_items": null,
            "align_self": null,
            "border": null,
            "bottom": null,
            "display": null,
            "flex": null,
            "flex_flow": null,
            "grid_area": null,
            "grid_auto_columns": null,
            "grid_auto_flow": null,
            "grid_auto_rows": null,
            "grid_column": null,
            "grid_gap": null,
            "grid_row": null,
            "grid_template_areas": null,
            "grid_template_columns": null,
            "grid_template_rows": null,
            "height": null,
            "justify_content": null,
            "justify_items": null,
            "left": null,
            "margin": null,
            "max_height": null,
            "max_width": null,
            "min_height": null,
            "min_width": null,
            "object_fit": null,
            "object_position": null,
            "order": null,
            "overflow": null,
            "overflow_x": null,
            "overflow_y": null,
            "padding": null,
            "right": null,
            "top": null,
            "visibility": null,
            "width": null
          }
        },
        "532aac2502764e7d960a516315a8ccd1": {
          "model_module": "@jupyter-widgets/controls",
          "model_name": "ProgressStyleModel",
          "model_module_version": "1.5.0",
          "state": {
            "_model_module": "@jupyter-widgets/controls",
            "_model_module_version": "1.5.0",
            "_model_name": "ProgressStyleModel",
            "_view_count": null,
            "_view_module": "@jupyter-widgets/base",
            "_view_module_version": "1.2.0",
            "_view_name": "StyleView",
            "bar_color": null,
            "description_width": ""
          }
        },
        "10a40407764647c2a78b92978af4f27a": {
          "model_module": "@jupyter-widgets/base",
          "model_name": "LayoutModel",
          "model_module_version": "1.2.0",
          "state": {
            "_model_module": "@jupyter-widgets/base",
            "_model_module_version": "1.2.0",
            "_model_name": "LayoutModel",
            "_view_count": null,
            "_view_module": "@jupyter-widgets/base",
            "_view_module_version": "1.2.0",
            "_view_name": "LayoutView",
            "align_content": null,
            "align_items": null,
            "align_self": null,
            "border": null,
            "bottom": null,
            "display": null,
            "flex": null,
            "flex_flow": null,
            "grid_area": null,
            "grid_auto_columns": null,
            "grid_auto_flow": null,
            "grid_auto_rows": null,
            "grid_column": null,
            "grid_gap": null,
            "grid_row": null,
            "grid_template_areas": null,
            "grid_template_columns": null,
            "grid_template_rows": null,
            "height": null,
            "justify_content": null,
            "justify_items": null,
            "left": null,
            "margin": null,
            "max_height": null,
            "max_width": null,
            "min_height": null,
            "min_width": null,
            "object_fit": null,
            "object_position": null,
            "order": null,
            "overflow": null,
            "overflow_x": null,
            "overflow_y": null,
            "padding": null,
            "right": null,
            "top": null,
            "visibility": null,
            "width": null
          }
        },
        "a42d7a4847494b86bceeecf66edb317e": {
          "model_module": "@jupyter-widgets/controls",
          "model_name": "DescriptionStyleModel",
          "model_module_version": "1.5.0",
          "state": {
            "_model_module": "@jupyter-widgets/controls",
            "_model_module_version": "1.5.0",
            "_model_name": "DescriptionStyleModel",
            "_view_count": null,
            "_view_module": "@jupyter-widgets/base",
            "_view_module_version": "1.2.0",
            "_view_name": "StyleView",
            "description_width": ""
          }
        },
        "7f70f043171c4eb29c4dc0bc866451f4": {
          "model_module": "@jupyter-widgets/controls",
          "model_name": "HBoxModel",
          "model_module_version": "1.5.0",
          "state": {
            "_dom_classes": [],
            "_model_module": "@jupyter-widgets/controls",
            "_model_module_version": "1.5.0",
            "_model_name": "HBoxModel",
            "_view_count": null,
            "_view_module": "@jupyter-widgets/controls",
            "_view_module_version": "1.5.0",
            "_view_name": "HBoxView",
            "box_style": "",
            "children": [
              "IPY_MODEL_ea980ce6503c4afb93af3d0d39e47d9e",
              "IPY_MODEL_cae4b3f9236b48ad93c8d2ff4cf503ed",
              "IPY_MODEL_dad7f4e22c764fc09ae24777b1e1d595"
            ],
            "layout": "IPY_MODEL_5242457dd93d44d38db4bd3525ba6416"
          }
        },
        "ea980ce6503c4afb93af3d0d39e47d9e": {
          "model_module": "@jupyter-widgets/controls",
          "model_name": "HTMLModel",
          "model_module_version": "1.5.0",
          "state": {
            "_dom_classes": [],
            "_model_module": "@jupyter-widgets/controls",
            "_model_module_version": "1.5.0",
            "_model_name": "HTMLModel",
            "_view_count": null,
            "_view_module": "@jupyter-widgets/controls",
            "_view_module_version": "1.5.0",
            "_view_name": "HTMLView",
            "description": "",
            "description_tooltip": null,
            "layout": "IPY_MODEL_fd72a31cfc654e939b8c7ece322b54fb",
            "placeholder": "​",
            "style": "IPY_MODEL_dca3a9490f814c38a7fff5928c8e7c95",
            "value": "Filter: 100%"
          }
        },
        "cae4b3f9236b48ad93c8d2ff4cf503ed": {
          "model_module": "@jupyter-widgets/controls",
          "model_name": "FloatProgressModel",
          "model_module_version": "1.5.0",
          "state": {
            "_dom_classes": [],
            "_model_module": "@jupyter-widgets/controls",
            "_model_module_version": "1.5.0",
            "_model_name": "FloatProgressModel",
            "_view_count": null,
            "_view_module": "@jupyter-widgets/controls",
            "_view_module_version": "1.5.0",
            "_view_name": "ProgressView",
            "bar_style": "success",
            "description": "",
            "description_tooltip": null,
            "layout": "IPY_MODEL_52577d8f23934aadbc7f215b4bf5fe09",
            "max": 20236,
            "min": 0,
            "orientation": "horizontal",
            "style": "IPY_MODEL_333370b0cc8142689fb9b09bd77a2092",
            "value": 20236
          }
        },
        "dad7f4e22c764fc09ae24777b1e1d595": {
          "model_module": "@jupyter-widgets/controls",
          "model_name": "HTMLModel",
          "model_module_version": "1.5.0",
          "state": {
            "_dom_classes": [],
            "_model_module": "@jupyter-widgets/controls",
            "_model_module_version": "1.5.0",
            "_model_name": "HTMLModel",
            "_view_count": null,
            "_view_module": "@jupyter-widgets/controls",
            "_view_module_version": "1.5.0",
            "_view_name": "HTMLView",
            "description": "",
            "description_tooltip": null,
            "layout": "IPY_MODEL_532fe43c01444d33ab29cd2feaab1cde",
            "placeholder": "​",
            "style": "IPY_MODEL_3dcba8fd969b42b09966a6f6ff9b2347",
            "value": " 20236/20236 [00:00&lt;00:00, 22352.34 examples/s]"
          }
        },
        "5242457dd93d44d38db4bd3525ba6416": {
          "model_module": "@jupyter-widgets/base",
          "model_name": "LayoutModel",
          "model_module_version": "1.2.0",
          "state": {
            "_model_module": "@jupyter-widgets/base",
            "_model_module_version": "1.2.0",
            "_model_name": "LayoutModel",
            "_view_count": null,
            "_view_module": "@jupyter-widgets/base",
            "_view_module_version": "1.2.0",
            "_view_name": "LayoutView",
            "align_content": null,
            "align_items": null,
            "align_self": null,
            "border": null,
            "bottom": null,
            "display": null,
            "flex": null,
            "flex_flow": null,
            "grid_area": null,
            "grid_auto_columns": null,
            "grid_auto_flow": null,
            "grid_auto_rows": null,
            "grid_column": null,
            "grid_gap": null,
            "grid_row": null,
            "grid_template_areas": null,
            "grid_template_columns": null,
            "grid_template_rows": null,
            "height": null,
            "justify_content": null,
            "justify_items": null,
            "left": null,
            "margin": null,
            "max_height": null,
            "max_width": null,
            "min_height": null,
            "min_width": null,
            "object_fit": null,
            "object_position": null,
            "order": null,
            "overflow": null,
            "overflow_x": null,
            "overflow_y": null,
            "padding": null,
            "right": null,
            "top": null,
            "visibility": null,
            "width": null
          }
        },
        "fd72a31cfc654e939b8c7ece322b54fb": {
          "model_module": "@jupyter-widgets/base",
          "model_name": "LayoutModel",
          "model_module_version": "1.2.0",
          "state": {
            "_model_module": "@jupyter-widgets/base",
            "_model_module_version": "1.2.0",
            "_model_name": "LayoutModel",
            "_view_count": null,
            "_view_module": "@jupyter-widgets/base",
            "_view_module_version": "1.2.0",
            "_view_name": "LayoutView",
            "align_content": null,
            "align_items": null,
            "align_self": null,
            "border": null,
            "bottom": null,
            "display": null,
            "flex": null,
            "flex_flow": null,
            "grid_area": null,
            "grid_auto_columns": null,
            "grid_auto_flow": null,
            "grid_auto_rows": null,
            "grid_column": null,
            "grid_gap": null,
            "grid_row": null,
            "grid_template_areas": null,
            "grid_template_columns": null,
            "grid_template_rows": null,
            "height": null,
            "justify_content": null,
            "justify_items": null,
            "left": null,
            "margin": null,
            "max_height": null,
            "max_width": null,
            "min_height": null,
            "min_width": null,
            "object_fit": null,
            "object_position": null,
            "order": null,
            "overflow": null,
            "overflow_x": null,
            "overflow_y": null,
            "padding": null,
            "right": null,
            "top": null,
            "visibility": null,
            "width": null
          }
        },
        "dca3a9490f814c38a7fff5928c8e7c95": {
          "model_module": "@jupyter-widgets/controls",
          "model_name": "DescriptionStyleModel",
          "model_module_version": "1.5.0",
          "state": {
            "_model_module": "@jupyter-widgets/controls",
            "_model_module_version": "1.5.0",
            "_model_name": "DescriptionStyleModel",
            "_view_count": null,
            "_view_module": "@jupyter-widgets/base",
            "_view_module_version": "1.2.0",
            "_view_name": "StyleView",
            "description_width": ""
          }
        },
        "52577d8f23934aadbc7f215b4bf5fe09": {
          "model_module": "@jupyter-widgets/base",
          "model_name": "LayoutModel",
          "model_module_version": "1.2.0",
          "state": {
            "_model_module": "@jupyter-widgets/base",
            "_model_module_version": "1.2.0",
            "_model_name": "LayoutModel",
            "_view_count": null,
            "_view_module": "@jupyter-widgets/base",
            "_view_module_version": "1.2.0",
            "_view_name": "LayoutView",
            "align_content": null,
            "align_items": null,
            "align_self": null,
            "border": null,
            "bottom": null,
            "display": null,
            "flex": null,
            "flex_flow": null,
            "grid_area": null,
            "grid_auto_columns": null,
            "grid_auto_flow": null,
            "grid_auto_rows": null,
            "grid_column": null,
            "grid_gap": null,
            "grid_row": null,
            "grid_template_areas": null,
            "grid_template_columns": null,
            "grid_template_rows": null,
            "height": null,
            "justify_content": null,
            "justify_items": null,
            "left": null,
            "margin": null,
            "max_height": null,
            "max_width": null,
            "min_height": null,
            "min_width": null,
            "object_fit": null,
            "object_position": null,
            "order": null,
            "overflow": null,
            "overflow_x": null,
            "overflow_y": null,
            "padding": null,
            "right": null,
            "top": null,
            "visibility": null,
            "width": null
          }
        },
        "333370b0cc8142689fb9b09bd77a2092": {
          "model_module": "@jupyter-widgets/controls",
          "model_name": "ProgressStyleModel",
          "model_module_version": "1.5.0",
          "state": {
            "_model_module": "@jupyter-widgets/controls",
            "_model_module_version": "1.5.0",
            "_model_name": "ProgressStyleModel",
            "_view_count": null,
            "_view_module": "@jupyter-widgets/base",
            "_view_module_version": "1.2.0",
            "_view_name": "StyleView",
            "bar_color": null,
            "description_width": ""
          }
        },
        "532fe43c01444d33ab29cd2feaab1cde": {
          "model_module": "@jupyter-widgets/base",
          "model_name": "LayoutModel",
          "model_module_version": "1.2.0",
          "state": {
            "_model_module": "@jupyter-widgets/base",
            "_model_module_version": "1.2.0",
            "_model_name": "LayoutModel",
            "_view_count": null,
            "_view_module": "@jupyter-widgets/base",
            "_view_module_version": "1.2.0",
            "_view_name": "LayoutView",
            "align_content": null,
            "align_items": null,
            "align_self": null,
            "border": null,
            "bottom": null,
            "display": null,
            "flex": null,
            "flex_flow": null,
            "grid_area": null,
            "grid_auto_columns": null,
            "grid_auto_flow": null,
            "grid_auto_rows": null,
            "grid_column": null,
            "grid_gap": null,
            "grid_row": null,
            "grid_template_areas": null,
            "grid_template_columns": null,
            "grid_template_rows": null,
            "height": null,
            "justify_content": null,
            "justify_items": null,
            "left": null,
            "margin": null,
            "max_height": null,
            "max_width": null,
            "min_height": null,
            "min_width": null,
            "object_fit": null,
            "object_position": null,
            "order": null,
            "overflow": null,
            "overflow_x": null,
            "overflow_y": null,
            "padding": null,
            "right": null,
            "top": null,
            "visibility": null,
            "width": null
          }
        },
        "3dcba8fd969b42b09966a6f6ff9b2347": {
          "model_module": "@jupyter-widgets/controls",
          "model_name": "DescriptionStyleModel",
          "model_module_version": "1.5.0",
          "state": {
            "_model_module": "@jupyter-widgets/controls",
            "_model_module_version": "1.5.0",
            "_model_name": "DescriptionStyleModel",
            "_view_count": null,
            "_view_module": "@jupyter-widgets/base",
            "_view_module_version": "1.2.0",
            "_view_name": "StyleView",
            "description_width": ""
          }
        },
        "994067600b2849bea6053151e4cdb059": {
          "model_module": "@jupyter-widgets/controls",
          "model_name": "HBoxModel",
          "model_module_version": "1.5.0",
          "state": {
            "_dom_classes": [],
            "_model_module": "@jupyter-widgets/controls",
            "_model_module_version": "1.5.0",
            "_model_name": "HBoxModel",
            "_view_count": null,
            "_view_module": "@jupyter-widgets/controls",
            "_view_module_version": "1.5.0",
            "_view_name": "HBoxView",
            "box_style": "",
            "children": [
              "IPY_MODEL_b6401a7b4cca4261a832253e44043c56",
              "IPY_MODEL_66aba0eea888419f8601e3b3a3e1d90f",
              "IPY_MODEL_098de69cb7af4b3a9ba83e6ae1abae71"
            ],
            "layout": "IPY_MODEL_8d35ad57676546a996bd06a9cceedb62"
          }
        },
        "b6401a7b4cca4261a832253e44043c56": {
          "model_module": "@jupyter-widgets/controls",
          "model_name": "HTMLModel",
          "model_module_version": "1.5.0",
          "state": {
            "_dom_classes": [],
            "_model_module": "@jupyter-widgets/controls",
            "_model_module_version": "1.5.0",
            "_model_name": "HTMLModel",
            "_view_count": null,
            "_view_module": "@jupyter-widgets/controls",
            "_view_module_version": "1.5.0",
            "_view_name": "HTMLView",
            "description": "",
            "description_tooltip": null,
            "layout": "IPY_MODEL_3288837a163f4c93af2835c81204e51f",
            "placeholder": "​",
            "style": "IPY_MODEL_070b87467c3949db825c06e1f0361228",
            "value": "Map: 100%"
          }
        },
        "66aba0eea888419f8601e3b3a3e1d90f": {
          "model_module": "@jupyter-widgets/controls",
          "model_name": "FloatProgressModel",
          "model_module_version": "1.5.0",
          "state": {
            "_dom_classes": [],
            "_model_module": "@jupyter-widgets/controls",
            "_model_module_version": "1.5.0",
            "_model_name": "FloatProgressModel",
            "_view_count": null,
            "_view_module": "@jupyter-widgets/controls",
            "_view_module_version": "1.5.0",
            "_view_name": "ProgressView",
            "bar_style": "success",
            "description": "",
            "description_tooltip": null,
            "layout": "IPY_MODEL_69e273f90e924f9596c73d39da93461b",
            "max": 9381,
            "min": 0,
            "orientation": "horizontal",
            "style": "IPY_MODEL_1890ae55bc82424987b1829caf6c3c5f",
            "value": 9381
          }
        },
        "098de69cb7af4b3a9ba83e6ae1abae71": {
          "model_module": "@jupyter-widgets/controls",
          "model_name": "HTMLModel",
          "model_module_version": "1.5.0",
          "state": {
            "_dom_classes": [],
            "_model_module": "@jupyter-widgets/controls",
            "_model_module_version": "1.5.0",
            "_model_name": "HTMLModel",
            "_view_count": null,
            "_view_module": "@jupyter-widgets/controls",
            "_view_module_version": "1.5.0",
            "_view_name": "HTMLView",
            "description": "",
            "description_tooltip": null,
            "layout": "IPY_MODEL_1c5eb759e0144762aa8e5b33d7baf59f",
            "placeholder": "​",
            "style": "IPY_MODEL_25d25527855045889d9685795fa31268",
            "value": " 9381/9381 [00:04&lt;00:00, 2073.79 examples/s]"
          }
        },
        "8d35ad57676546a996bd06a9cceedb62": {
          "model_module": "@jupyter-widgets/base",
          "model_name": "LayoutModel",
          "model_module_version": "1.2.0",
          "state": {
            "_model_module": "@jupyter-widgets/base",
            "_model_module_version": "1.2.0",
            "_model_name": "LayoutModel",
            "_view_count": null,
            "_view_module": "@jupyter-widgets/base",
            "_view_module_version": "1.2.0",
            "_view_name": "LayoutView",
            "align_content": null,
            "align_items": null,
            "align_self": null,
            "border": null,
            "bottom": null,
            "display": null,
            "flex": null,
            "flex_flow": null,
            "grid_area": null,
            "grid_auto_columns": null,
            "grid_auto_flow": null,
            "grid_auto_rows": null,
            "grid_column": null,
            "grid_gap": null,
            "grid_row": null,
            "grid_template_areas": null,
            "grid_template_columns": null,
            "grid_template_rows": null,
            "height": null,
            "justify_content": null,
            "justify_items": null,
            "left": null,
            "margin": null,
            "max_height": null,
            "max_width": null,
            "min_height": null,
            "min_width": null,
            "object_fit": null,
            "object_position": null,
            "order": null,
            "overflow": null,
            "overflow_x": null,
            "overflow_y": null,
            "padding": null,
            "right": null,
            "top": null,
            "visibility": null,
            "width": null
          }
        },
        "3288837a163f4c93af2835c81204e51f": {
          "model_module": "@jupyter-widgets/base",
          "model_name": "LayoutModel",
          "model_module_version": "1.2.0",
          "state": {
            "_model_module": "@jupyter-widgets/base",
            "_model_module_version": "1.2.0",
            "_model_name": "LayoutModel",
            "_view_count": null,
            "_view_module": "@jupyter-widgets/base",
            "_view_module_version": "1.2.0",
            "_view_name": "LayoutView",
            "align_content": null,
            "align_items": null,
            "align_self": null,
            "border": null,
            "bottom": null,
            "display": null,
            "flex": null,
            "flex_flow": null,
            "grid_area": null,
            "grid_auto_columns": null,
            "grid_auto_flow": null,
            "grid_auto_rows": null,
            "grid_column": null,
            "grid_gap": null,
            "grid_row": null,
            "grid_template_areas": null,
            "grid_template_columns": null,
            "grid_template_rows": null,
            "height": null,
            "justify_content": null,
            "justify_items": null,
            "left": null,
            "margin": null,
            "max_height": null,
            "max_width": null,
            "min_height": null,
            "min_width": null,
            "object_fit": null,
            "object_position": null,
            "order": null,
            "overflow": null,
            "overflow_x": null,
            "overflow_y": null,
            "padding": null,
            "right": null,
            "top": null,
            "visibility": null,
            "width": null
          }
        },
        "070b87467c3949db825c06e1f0361228": {
          "model_module": "@jupyter-widgets/controls",
          "model_name": "DescriptionStyleModel",
          "model_module_version": "1.5.0",
          "state": {
            "_model_module": "@jupyter-widgets/controls",
            "_model_module_version": "1.5.0",
            "_model_name": "DescriptionStyleModel",
            "_view_count": null,
            "_view_module": "@jupyter-widgets/base",
            "_view_module_version": "1.2.0",
            "_view_name": "StyleView",
            "description_width": ""
          }
        },
        "69e273f90e924f9596c73d39da93461b": {
          "model_module": "@jupyter-widgets/base",
          "model_name": "LayoutModel",
          "model_module_version": "1.2.0",
          "state": {
            "_model_module": "@jupyter-widgets/base",
            "_model_module_version": "1.2.0",
            "_model_name": "LayoutModel",
            "_view_count": null,
            "_view_module": "@jupyter-widgets/base",
            "_view_module_version": "1.2.0",
            "_view_name": "LayoutView",
            "align_content": null,
            "align_items": null,
            "align_self": null,
            "border": null,
            "bottom": null,
            "display": null,
            "flex": null,
            "flex_flow": null,
            "grid_area": null,
            "grid_auto_columns": null,
            "grid_auto_flow": null,
            "grid_auto_rows": null,
            "grid_column": null,
            "grid_gap": null,
            "grid_row": null,
            "grid_template_areas": null,
            "grid_template_columns": null,
            "grid_template_rows": null,
            "height": null,
            "justify_content": null,
            "justify_items": null,
            "left": null,
            "margin": null,
            "max_height": null,
            "max_width": null,
            "min_height": null,
            "min_width": null,
            "object_fit": null,
            "object_position": null,
            "order": null,
            "overflow": null,
            "overflow_x": null,
            "overflow_y": null,
            "padding": null,
            "right": null,
            "top": null,
            "visibility": null,
            "width": null
          }
        },
        "1890ae55bc82424987b1829caf6c3c5f": {
          "model_module": "@jupyter-widgets/controls",
          "model_name": "ProgressStyleModel",
          "model_module_version": "1.5.0",
          "state": {
            "_model_module": "@jupyter-widgets/controls",
            "_model_module_version": "1.5.0",
            "_model_name": "ProgressStyleModel",
            "_view_count": null,
            "_view_module": "@jupyter-widgets/base",
            "_view_module_version": "1.2.0",
            "_view_name": "StyleView",
            "bar_color": null,
            "description_width": ""
          }
        },
        "1c5eb759e0144762aa8e5b33d7baf59f": {
          "model_module": "@jupyter-widgets/base",
          "model_name": "LayoutModel",
          "model_module_version": "1.2.0",
          "state": {
            "_model_module": "@jupyter-widgets/base",
            "_model_module_version": "1.2.0",
            "_model_name": "LayoutModel",
            "_view_count": null,
            "_view_module": "@jupyter-widgets/base",
            "_view_module_version": "1.2.0",
            "_view_name": "LayoutView",
            "align_content": null,
            "align_items": null,
            "align_self": null,
            "border": null,
            "bottom": null,
            "display": null,
            "flex": null,
            "flex_flow": null,
            "grid_area": null,
            "grid_auto_columns": null,
            "grid_auto_flow": null,
            "grid_auto_rows": null,
            "grid_column": null,
            "grid_gap": null,
            "grid_row": null,
            "grid_template_areas": null,
            "grid_template_columns": null,
            "grid_template_rows": null,
            "height": null,
            "justify_content": null,
            "justify_items": null,
            "left": null,
            "margin": null,
            "max_height": null,
            "max_width": null,
            "min_height": null,
            "min_width": null,
            "object_fit": null,
            "object_position": null,
            "order": null,
            "overflow": null,
            "overflow_x": null,
            "overflow_y": null,
            "padding": null,
            "right": null,
            "top": null,
            "visibility": null,
            "width": null
          }
        },
        "25d25527855045889d9685795fa31268": {
          "model_module": "@jupyter-widgets/controls",
          "model_name": "DescriptionStyleModel",
          "model_module_version": "1.5.0",
          "state": {
            "_model_module": "@jupyter-widgets/controls",
            "_model_module_version": "1.5.0",
            "_model_name": "DescriptionStyleModel",
            "_view_count": null,
            "_view_module": "@jupyter-widgets/base",
            "_view_module_version": "1.2.0",
            "_view_name": "StyleView",
            "description_width": ""
          }
        }
      }
    }
  },
  "cells": [
    {
      "cell_type": "markdown",
      "metadata": {
        "id": "view-in-github",
        "colab_type": "text"
      },
      "source": [
        "<a href=\"https://colab.research.google.com/github/LCaravaggio/NLP/blob/main/08_LanguageModels/NgramLM.ipynb\" target=\"_parent\"><img src=\"https://colab.research.google.com/assets/colab-badge.svg\" alt=\"Open In Colab\"/></a>"
      ]
    },
    {
      "cell_type": "markdown",
      "source": [
        "Vamos a entrenar un modelo de lenguaje ngram sobre un corpus de recetas de cocina con la librería `nltk`."
      ],
      "metadata": {
        "id": "q2y-krf3hJYs"
      }
    },
    {
      "cell_type": "markdown",
      "source": [
        "## Configuración del entorno"
      ],
      "metadata": {
        "id": "wfGGhMMse9Mb"
      }
    },
    {
      "cell_type": "code",
      "source": [
        "!pip install -qU datasets spacy nltk watermark"
      ],
      "metadata": {
        "id": "U3PdmF1YercR",
        "colab": {
          "base_uri": "https://localhost:8080/"
        },
        "outputId": "2ae08893-bb9e-4737-eb1e-37d43c2732f9"
      },
      "execution_count": 1,
      "outputs": [
        {
          "output_type": "stream",
          "name": "stdout",
          "text": [
            "\u001b[2K   \u001b[90m━━━━━━━━━━━━━━━━━━━━━━━━━━━━━━━━━━━━━━━━\u001b[0m \u001b[32m474.3/474.3 kB\u001b[0m \u001b[31m5.9 MB/s\u001b[0m eta \u001b[36m0:00:00\u001b[0m\n",
            "\u001b[2K   \u001b[90m━━━━━━━━━━━━━━━━━━━━━━━━━━━━━━━━━━━━━━━━\u001b[0m \u001b[32m1.5/1.5 MB\u001b[0m \u001b[31m11.9 MB/s\u001b[0m eta \u001b[36m0:00:00\u001b[0m\n",
            "\u001b[2K   \u001b[90m━━━━━━━━━━━━━━━━━━━━━━━━━━━━━━━━━━━━━━━━\u001b[0m \u001b[32m116.3/116.3 kB\u001b[0m \u001b[31m3.5 MB/s\u001b[0m eta \u001b[36m0:00:00\u001b[0m\n",
            "\u001b[2K   \u001b[90m━━━━━━━━━━━━━━━━━━━━━━━━━━━━━━━━━━━━━━━━\u001b[0m \u001b[32m39.9/39.9 MB\u001b[0m \u001b[31m14.2 MB/s\u001b[0m eta \u001b[36m0:00:00\u001b[0m\n",
            "\u001b[2K   \u001b[90m━━━━━━━━━━━━━━━━━━━━━━━━━━━━━━━━━━━━━━━━\u001b[0m \u001b[32m134.8/134.8 kB\u001b[0m \u001b[31m4.2 MB/s\u001b[0m eta \u001b[36m0:00:00\u001b[0m\n",
            "\u001b[2K   \u001b[90m━━━━━━━━━━━━━━━━━━━━━━━━━━━━━━━━━━━━━━━━\u001b[0m \u001b[32m194.1/194.1 kB\u001b[0m \u001b[31m7.6 MB/s\u001b[0m eta \u001b[36m0:00:00\u001b[0m\n",
            "\u001b[?25h\u001b[31mERROR: pip's dependency resolver does not currently take into account all the packages that are installed. This behaviour is the source of the following dependency conflicts.\n",
            "cudf-cu12 24.4.1 requires pyarrow<15.0.0a0,>=14.0.1, but you have pyarrow 17.0.0 which is incompatible.\n",
            "ibis-framework 8.0.0 requires pyarrow<16,>=2, but you have pyarrow 17.0.0 which is incompatible.\u001b[0m\u001b[31m\n",
            "\u001b[0m"
          ]
        }
      ]
    },
    {
      "cell_type": "code",
      "source": [
        "%%capture\n",
        "!python -m spacy download es_core_news_sm"
      ],
      "metadata": {
        "id": "Z-FyVrzxerUj"
      },
      "execution_count": 2,
      "outputs": []
    },
    {
      "cell_type": "code",
      "source": [
        "%reload_ext watermark"
      ],
      "metadata": {
        "id": "jH1A0ex8erLl"
      },
      "execution_count": 3,
      "outputs": []
    },
    {
      "cell_type": "code",
      "source": [
        "%watermark -vmp datasets,spacy,nltk,numpy,pandas,tqdm"
      ],
      "metadata": {
        "id": "_KkeUlwMiXFh",
        "colab": {
          "base_uri": "https://localhost:8080/"
        },
        "outputId": "3f33e1e5-b2d1-474b-9750-b678a0cecffb"
      },
      "execution_count": 4,
      "outputs": [
        {
          "output_type": "stream",
          "name": "stdout",
          "text": [
            "Python implementation: CPython\n",
            "Python version       : 3.10.12\n",
            "IPython version      : 7.34.0\n",
            "\n",
            "datasets: 3.0.0\n",
            "spacy   : 3.7.6\n",
            "nltk    : 3.9.1\n",
            "numpy   : 1.26.4\n",
            "pandas  : 2.1.4\n",
            "tqdm    : 4.66.5\n",
            "\n",
            "Compiler    : GCC 11.4.0\n",
            "OS          : Linux\n",
            "Release     : 6.1.85+\n",
            "Machine     : x86_64\n",
            "Processor   : x86_64\n",
            "CPU cores   : 2\n",
            "Architecture: 64bit\n",
            "\n"
          ]
        }
      ]
    },
    {
      "cell_type": "markdown",
      "source": [
        "## Dataset\n",
        "\n",
        "Vamos a usar un [corpus de recetas de SomosNLP](https://huggingface.co/datasets/somosnlp/RecetasDeLaAbuela)."
      ],
      "metadata": {
        "id": "pN9ZrHk5h6mL"
      }
    },
    {
      "cell_type": "code",
      "source": [
        "from datasets import load_dataset\n",
        "\n",
        "dataset = load_dataset(\"somosnlp/RecetasDeLaAbuela\", \"version_1\")"
      ],
      "metadata": {
        "id": "gzVdx6xVh6Sj",
        "colab": {
          "base_uri": "https://localhost:8080/",
          "height": 237,
          "referenced_widgets": [
            "3961d4c6a0394e4a9b8dd3c519c43b99",
            "b54ea7a15a6c4a648def801956eba938",
            "e3efb82e6ee24229911c0f46615dfda5",
            "bca74c0f48e64bf993de48795f642ae9",
            "d62e1998d79444d19e36285aaa32c585",
            "3e805fb89409470db7566bd43a811e54",
            "4551728913a24138b514ffeaf51bd028",
            "dc571d32153a479ebe56bbf8f73456e6",
            "e70124c694c343df819cf7276f18bb77",
            "fdb06d53d1fe483b91474cb2a48ab9ec",
            "4d9155fa4bc94d9798c14cbf898a5a62",
            "f05fb37bad5849aab9cd56745354242d",
            "c4f5429ed61d4d6f849c88ce93fbbd2b",
            "be47af28647649398b00cca761665c05",
            "f713f8eefafb4a64875bf4f582e3e3cd",
            "b146801ecc59480897c6ef0216a0dfe6",
            "3a3cff0159254ddfbd239467f63f695d",
            "ffe1ed8632b341c98f1b9542afd8b5cd",
            "5db4e9e0c2de4ccdacab0b63537f0b38",
            "aa1096e7cc994210b7d622428096d045",
            "8779bacc280b46c08223146fd390772e",
            "f8a0b8781a1548cdacc4a135190ce6ba",
            "37fb7e4d97fb48a98dab6df3a2256106",
            "76809ca4147a43a2a0eed03fe1492bef",
            "dbac1a7c939a47518fef5ae76996c91a",
            "2c2c0b9e01bb42328427503f88428ce9",
            "6d0f8c1d50e24b87b05271c9a325449d",
            "49731816ee354812b53a5c4ffb0d612e",
            "e25a751fb66a43faa75034bc6a42d446",
            "94311748df4a4b96b7dac2ec42a6a26d",
            "532aac2502764e7d960a516315a8ccd1",
            "10a40407764647c2a78b92978af4f27a",
            "a42d7a4847494b86bceeecf66edb317e"
          ]
        },
        "outputId": "b331e93d-08ec-484c-e2c7-7526ed3d81eb"
      },
      "execution_count": 5,
      "outputs": [
        {
          "output_type": "stream",
          "name": "stderr",
          "text": [
            "/usr/local/lib/python3.10/dist-packages/huggingface_hub/utils/_token.py:89: UserWarning: \n",
            "The secret `HF_TOKEN` does not exist in your Colab secrets.\n",
            "To authenticate with the Hugging Face Hub, create a token in your settings tab (https://huggingface.co/settings/tokens), set it as secret in your Google Colab and restart your session.\n",
            "You will be able to reuse this secret in all of your notebooks.\n",
            "Please note that authentication is recommended but still optional to access public models or datasets.\n",
            "  warnings.warn(\n"
          ]
        },
        {
          "output_type": "display_data",
          "data": {
            "text/plain": [
              "README.md:   0%|          | 0.00/10.9k [00:00<?, ?B/s]"
            ],
            "application/vnd.jupyter.widget-view+json": {
              "version_major": 2,
              "version_minor": 0,
              "model_id": "3961d4c6a0394e4a9b8dd3c519c43b99"
            }
          },
          "metadata": {}
        },
        {
          "output_type": "display_data",
          "data": {
            "text/plain": [
              "main.csv:   0%|          | 0.00/40.3M [00:00<?, ?B/s]"
            ],
            "application/vnd.jupyter.widget-view+json": {
              "version_major": 2,
              "version_minor": 0,
              "model_id": "f05fb37bad5849aab9cd56745354242d"
            }
          },
          "metadata": {}
        },
        {
          "output_type": "display_data",
          "data": {
            "text/plain": [
              "Generating train split:   0%|          | 0/20236 [00:00<?, ? examples/s]"
            ],
            "application/vnd.jupyter.widget-view+json": {
              "version_major": 2,
              "version_minor": 0,
              "model_id": "37fb7e4d97fb48a98dab6df3a2256106"
            }
          },
          "metadata": {}
        }
      ]
    },
    {
      "cell_type": "code",
      "source": [
        "# vemos la estructura:\n",
        "print(dataset)"
      ],
      "metadata": {
        "colab": {
          "base_uri": "https://localhost:8080/"
        },
        "id": "xMpZStLajfTu",
        "outputId": "e0023489-26c0-46b4-d52b-73b71a3e4238"
      },
      "execution_count": 6,
      "outputs": [
        {
          "output_type": "stream",
          "name": "stdout",
          "text": [
            "DatasetDict({\n",
            "    train: Dataset({\n",
            "        features: ['Id', 'Nombre', 'URL', 'Ingredientes', 'Pasos', 'Pais', 'Duracion', 'Categoria', 'Contexto', 'Valoracion y Votos', 'Comensales', 'Tiempo', 'Dificultad', 'Valor nutricional'],\n",
            "        num_rows: 20236\n",
            "    })\n",
            "})\n"
          ]
        }
      ]
    },
    {
      "cell_type": "code",
      "source": [
        "# Conservamos pais = \"ESP\":\n",
        "dataset = dataset.filter(lambda x: x[\"Pais\"] == \"ESP\")"
      ],
      "metadata": {
        "id": "alRfTgMcjnez",
        "colab": {
          "base_uri": "https://localhost:8080/",
          "height": 49,
          "referenced_widgets": [
            "7f70f043171c4eb29c4dc0bc866451f4",
            "ea980ce6503c4afb93af3d0d39e47d9e",
            "cae4b3f9236b48ad93c8d2ff4cf503ed",
            "dad7f4e22c764fc09ae24777b1e1d595",
            "5242457dd93d44d38db4bd3525ba6416",
            "fd72a31cfc654e939b8c7ece322b54fb",
            "dca3a9490f814c38a7fff5928c8e7c95",
            "52577d8f23934aadbc7f215b4bf5fe09",
            "333370b0cc8142689fb9b09bd77a2092",
            "532fe43c01444d33ab29cd2feaab1cde",
            "3dcba8fd969b42b09966a6f6ff9b2347"
          ]
        },
        "outputId": "11429891-b78c-4aa8-b80f-2f44f9399dbd"
      },
      "execution_count": 7,
      "outputs": [
        {
          "output_type": "display_data",
          "data": {
            "text/plain": [
              "Filter:   0%|          | 0/20236 [00:00<?, ? examples/s]"
            ],
            "application/vnd.jupyter.widget-view+json": {
              "version_major": 2,
              "version_minor": 0,
              "model_id": "7f70f043171c4eb29c4dc0bc866451f4"
            }
          },
          "metadata": {}
        }
      ]
    },
    {
      "cell_type": "code",
      "source": [
        "# vemos un ejemplo al azar:\n",
        "dataset[\"train\"][300]"
      ],
      "metadata": {
        "id": "Z7rgvwpCrY_e",
        "colab": {
          "base_uri": "https://localhost:8080/"
        },
        "outputId": "7d2ae427-9d5c-4a71-b6c1-72ad5b01db96"
      },
      "execution_count": 8,
      "outputs": [
        {
          "output_type": "execute_result",
          "data": {
            "text/plain": [
              "{'Id': 1701,\n",
              " 'Nombre': 'croquetas de pollo asado',\n",
              " 'URL': 'https://www.recetasgratis.net/receta-de-croquetas-de-pollo-asado-59330.html',\n",
              " 'Ingredientes': \"['500 gramos de Pollo', '1 unidad de Cebolla', '300 mililitros de Aceite de oliva', '600 mililitros de Leche                                                                    (2½ tazas)', '2 cucharadas soperas de Harina', '1 pizca de Sal', '1 pizca de Nuez moscada molida', '1 pizca de Pimienta negra molida', '1 unidad de Huevo', '200 gramos de Pan rallado']\",\n",
              " 'Pasos': \"['1 Reunimos todos los ingredientes para preparar las croquetas de pollo asado.', '2 Colocamos el pollo sin piel en una fuente para horno, salpimentamos, echamos un poco de aceite de oliva y lo metemos al horno a 180 ºC durante 25 minutos.También podéis hacer esta receta de croquetas de pollo asado si os ha sobrado carne de haber preparado, por ejemplo, pollo al horno con patatas y cebolla.', '3 Picamos la cebolla de forma fina y la salteamos en la sartén con un poco de aceite de oliva. Dejamos que se cocine durante 3 minutos.', '4 Una vez cocido, desmenuzamos el pollo, quitamos los huesos y lo agregamos al sofrito de cebolla. Ponemos un poco de sal y pimienta, y dejamos que se cocine durante 3 minutos.', '5 Agregamos la harina, dejamos que se cocine durante 2 minutos, y añadimos la leche poco a poco hasta que la masa de las croquetas de pollo espese.Ponemos un poco de sal, pimienta y nuez moscada molida. Sin dejar de remover la masa, dejamos cocinar hasta que ésta no se pegue en la sartén (aproximadamente 15 minutos). Truco: Si la masa queda muy líquida se puede añadir más harina y viceversa.', '6 Una vez formada la masa de las croquetas de pollo asado, dejamos que se enfríe un poco, y formamos las croquetas con ayuda de 2 cucharas, o con las manos.', '7 Rebozamos las croquetas de pollo asado con huevo batido y pan rallado, y las freímos en abundante aceite caliente hasta que queden doradas. Una vez fritas, las colocamos sobre papel de cocina para eliminar el exceso de aceite.', '8 Estas croquetas de pollo asado se pueden preparar como entrantes, junto con otros aperitivos como las brochetas de pescado y langostinos o los crepes salados de salmón.']\",\n",
              " 'Pais': 'ESP',\n",
              " 'Duracion': '01:00',\n",
              " 'Categoria': \"['Recetas españolas']\",\n",
              " 'Contexto': '¡Cómo nos gustan las croquetas caseras! Si no sabes qué hacer con pollo asado que te ha sobrado, apunta los consejos que te damos en RecetasGratis.net para no tirar nada.Para aprovechar sobras de pollo puedes hacer esta receta de croquetas con pollo asado fácil que te vamos a explicar paso a paso para que no te pierdas y te queden riquísimas.Para aprender cómo hacer croquetas solo tienes que poner atención a la masa para que te quede esponjosa y cremosa. Nosotros te lo contamos en el paso a paso de estas croquetas de pollo asado. ¡No te la pierdas!',\n",
              " 'Valoracion y Votos': None,\n",
              " 'Comensales': '4 comensales',\n",
              " 'Tiempo': 'Entrante',\n",
              " 'Dificultad': 'Dificultad media',\n",
              " 'Valor nutricional': 'Bajo en calorías, Sin grasa, Alto en grasas reducidas'}"
            ]
          },
          "metadata": {},
          "execution_count": 8
        }
      ]
    },
    {
      "cell_type": "code",
      "source": [
        "# A veces los textos son listas no parseadas como tales.\n",
        "# En tal caso, hacemos un join de la lista.\n",
        "import re\n",
        "\n",
        "def preprocess(example):\n",
        "    \"\"\"\n",
        "    \"\"\"\n",
        "    if example[\"Pasos\"].startswith(\"[\"):\n",
        "        pasos_list = eval(example[\"Pasos\"].encode('unicode_escape'))\n",
        "        example[\"Pasos\"] = \" \".join(pasos_list)\n",
        "    # Eliminamos whitespace duplicado:\n",
        "    example[\"Pasos\"] = re.sub(r'\\s+', ' ', example[\"Pasos\"])\n",
        "    return example\n",
        "\n",
        "dataset = dataset.map(preprocess)"
      ],
      "metadata": {
        "id": "lQkKTsirfOFP",
        "colab": {
          "base_uri": "https://localhost:8080/",
          "height": 49,
          "referenced_widgets": [
            "994067600b2849bea6053151e4cdb059",
            "b6401a7b4cca4261a832253e44043c56",
            "66aba0eea888419f8601e3b3a3e1d90f",
            "098de69cb7af4b3a9ba83e6ae1abae71",
            "8d35ad57676546a996bd06a9cceedb62",
            "3288837a163f4c93af2835c81204e51f",
            "070b87467c3949db825c06e1f0361228",
            "69e273f90e924f9596c73d39da93461b",
            "1890ae55bc82424987b1829caf6c3c5f",
            "1c5eb759e0144762aa8e5b33d7baf59f",
            "25d25527855045889d9685795fa31268"
          ]
        },
        "outputId": "5111d004-31cf-427e-cb17-552c51164d86"
      },
      "execution_count": 9,
      "outputs": [
        {
          "output_type": "display_data",
          "data": {
            "text/plain": [
              "Map:   0%|          | 0/9381 [00:00<?, ? examples/s]"
            ],
            "application/vnd.jupyter.widget-view+json": {
              "version_major": 2,
              "version_minor": 0,
              "model_id": "994067600b2849bea6053151e4cdb059"
            }
          },
          "metadata": {}
        }
      ]
    },
    {
      "cell_type": "code",
      "source": [
        "dataset[\"train\"][300]"
      ],
      "metadata": {
        "colab": {
          "base_uri": "https://localhost:8080/"
        },
        "id": "LXVr7n_XfN8z",
        "outputId": "b2c238d0-9223-4dcf-c3bc-2d12d219c72f"
      },
      "execution_count": 10,
      "outputs": [
        {
          "output_type": "execute_result",
          "data": {
            "text/plain": [
              "{'Id': 1701,\n",
              " 'Nombre': 'croquetas de pollo asado',\n",
              " 'URL': 'https://www.recetasgratis.net/receta-de-croquetas-de-pollo-asado-59330.html',\n",
              " 'Ingredientes': \"['500 gramos de Pollo', '1 unidad de Cebolla', '300 mililitros de Aceite de oliva', '600 mililitros de Leche                                                                    (2½ tazas)', '2 cucharadas soperas de Harina', '1 pizca de Sal', '1 pizca de Nuez moscada molida', '1 pizca de Pimienta negra molida', '1 unidad de Huevo', '200 gramos de Pan rallado']\",\n",
              " 'Pasos': '1 Reunimos todos los ingredientes para preparar las croquetas de pollo asado. 2 Colocamos el pollo sin piel en una fuente para horno, salpimentamos, echamos un poco de aceite de oliva y lo metemos al horno a 180 ºC durante 25 minutos.También podéis hacer esta receta de croquetas de pollo asado si os ha sobrado carne de haber preparado, por ejemplo, pollo al horno con patatas y cebolla. 3 Picamos la cebolla de forma fina y la salteamos en la sartén con un poco de aceite de oliva. Dejamos que se cocine durante 3 minutos. 4 Una vez cocido, desmenuzamos el pollo, quitamos los huesos y lo agregamos al sofrito de cebolla. Ponemos un poco de sal y pimienta, y dejamos que se cocine durante 3 minutos. 5 Agregamos la harina, dejamos que se cocine durante 2 minutos, y añadimos la leche poco a poco hasta que la masa de las croquetas de pollo espese.Ponemos un poco de sal, pimienta y nuez moscada molida. Sin dejar de remover la masa, dejamos cocinar hasta que ésta no se pegue en la sartén (aproximadamente 15 minutos). Truco: Si la masa queda muy líquida se puede añadir más harina y viceversa. 6 Una vez formada la masa de las croquetas de pollo asado, dejamos que se enfríe un poco, y formamos las croquetas con ayuda de 2 cucharas, o con las manos. 7 Rebozamos las croquetas de pollo asado con huevo batido y pan rallado, y las freímos en abundante aceite caliente hasta que queden doradas. Una vez fritas, las colocamos sobre papel de cocina para eliminar el exceso de aceite. 8 Estas croquetas de pollo asado se pueden preparar como entrantes, junto con otros aperitivos como las brochetas de pescado y langostinos o los crepes salados de salmón.',\n",
              " 'Pais': 'ESP',\n",
              " 'Duracion': '01:00',\n",
              " 'Categoria': \"['Recetas españolas']\",\n",
              " 'Contexto': '¡Cómo nos gustan las croquetas caseras! Si no sabes qué hacer con pollo asado que te ha sobrado, apunta los consejos que te damos en RecetasGratis.net para no tirar nada.Para aprovechar sobras de pollo puedes hacer esta receta de croquetas con pollo asado fácil que te vamos a explicar paso a paso para que no te pierdas y te queden riquísimas.Para aprender cómo hacer croquetas solo tienes que poner atención a la masa para que te quede esponjosa y cremosa. Nosotros te lo contamos en el paso a paso de estas croquetas de pollo asado. ¡No te la pierdas!',\n",
              " 'Valoracion y Votos': None,\n",
              " 'Comensales': '4 comensales',\n",
              " 'Tiempo': 'Entrante',\n",
              " 'Dificultad': 'Dificultad media',\n",
              " 'Valor nutricional': 'Bajo en calorías, Sin grasa, Alto en grasas reducidas'}"
            ]
          },
          "metadata": {},
          "execution_count": 10
        }
      ]
    },
    {
      "cell_type": "markdown",
      "source": [
        "Hacemos un partición train/test y achicamos (solo para trabajar mas rapido). Y conservamos solo el texto de las recetas."
      ],
      "metadata": {
        "id": "o_XXBbwrfVyw"
      }
    },
    {
      "cell_type": "code",
      "source": [
        "dataset = dataset.shuffle(seed=33)"
      ],
      "metadata": {
        "id": "hqSAV2K-fN1M"
      },
      "execution_count": 11,
      "outputs": []
    },
    {
      "cell_type": "code",
      "source": [
        "texts_train = dataset[\"train\"].select(range(0, 4_000))[\"Pasos\"]\n",
        "texts_test = dataset[\"train\"].select(range(4_000, 8_000))[\"Pasos\"]"
      ],
      "metadata": {
        "id": "0jYzjqzHfYJz"
      },
      "execution_count": 12,
      "outputs": []
    },
    {
      "cell_type": "code",
      "source": [
        "import textwrap\n",
        "\n",
        "print(textwrap.fill(texts_train[33], 100))"
      ],
      "metadata": {
        "colab": {
          "base_uri": "https://localhost:8080/"
        },
        "id": "5pvDeXwAfYAL",
        "outputId": "9673a71b-988a-445f-fc8d-be24b3221e28"
      },
      "execution_count": 13,
      "outputs": [
        {
          "output_type": "stream",
          "name": "stdout",
          "text": [
            "1 Tritura las galletas hasta hacerlas casi polvo, puedes ayudarte de una licuadora o una\n",
            "procesadora. Si no dispones de estos utensilios, utiliza una bolsa plástica y un rodillo. 2 Derrite\n",
            "la mantequilla hasta que quede líquida y agrégala a las galletas trituradas, mezcla bien hasta\n",
            "formar una pasta uniforme. 3 Traslada la mezcla al molde y extiéndela para hacer la base de la tarta\n",
            "de queso, puedes ayudarte de una paleta o hacerlo directamente con los dedos. Déjala reposar en el\n",
            "refrigerador para que se endurezca mientras preparas el relleno. 4 Lleva la nata a fuego lento y\n",
            "añade, poco a poco, el queso crema y el azúcar, siempre revolviendo con una paleta o batidor. 5 Para\n",
            "añadir la cuajada, lo mejor es seguir las instrucciones de uso en su empaque. En este caso, la\n",
            "disolvimos en 25 ml de leche y la agregamos a la mezcla mientras revolvíamos para una mejor\n",
            "incorporación. 6 Pasados unos 5 minutos luego de añadir la cuajada, retira la mezcla del fuego y\n",
            "deja reposar unos 2-3 minutos. Saca la base de la tarta del refrigerador y vierte el relleno encima\n",
            "de la base de galleta. Déjalo refrigerar. Truco: Si te quedan burbujas al servir el relleno, desliza\n",
            "suavemente una paleta sobre la superficie para eliminarlas. 7 Una vez que el relleno esté\n",
            "suficientemente firme (puedes comprobarlo moviendo un poco el molde o tocándolo suavemente con una\n",
            "paleta en el centro), retíralo del refrigerador y ponle la mermelada encima. Puedes preparar tu\n",
            "propia mermelada casera con nuestra receta de mermelada de fresa light. 8 Deja refrigerar unos 15 o\n",
            "20 minutos más y tu tarta de queso con cuajada estará lista para retirarla del molde y servir.\n",
            "¡Disfruta! Si prefieres una preparación al horno, puedes visitar nuestra receta de tarta de queso al\n",
            "horno.\n"
          ]
        }
      ]
    },
    {
      "cell_type": "markdown",
      "source": [
        "## Tokenización y \"entrenamiento\" del LM\n",
        "\n",
        "* Usamos el tokenizer para español de `spacy`.\n",
        "* Consideramos como parte del vocabulario todas las palabras que ocurran al menos dos veces en train. Usamos `nltk` para definir el vocab y detectar los \"\\<unk\\>\" en test.\n",
        "* Hacemos padding con BOS y EOS tokens.\n",
        "* Debemos tener en cuenta que `nltk` espera que cada documento sea una lista de strings.\n",
        "\n",
        "Usamos el LM más sencillo, el MLE (Maximum Likelihood Estimator), con 4-gramas."
      ],
      "metadata": {
        "id": "gOR6scsQjyay"
      }
    },
    {
      "cell_type": "code",
      "source": [
        "# tokenizer con reglas de puntacion, contracciones, etc:\n",
        "import spacy\n",
        "\n",
        "tokenizer = spacy.load('es_core_news_sm')"
      ],
      "metadata": {
        "id": "M6-oSyEvnXFU"
      },
      "execution_count": 14,
      "outputs": []
    },
    {
      "cell_type": "code",
      "source": [
        "# Veamos un ejemplo:\n",
        "doc = tokenizer(texts_train[0])\n",
        "print(doc.text)\n",
        "for i, token in enumerate(doc):\n",
        "    print(token.text)\n",
        "    if i > 15:\n",
        "        break"
      ],
      "metadata": {
        "colab": {
          "base_uri": "https://localhost:8080/"
        },
        "id": "6citqe3bn5cl",
        "outputId": "f7909fcd-ffbc-440a-c2c3-1d2e1a26b924"
      },
      "execution_count": 15,
      "outputs": [
        {
          "output_type": "stream",
          "name": "stdout",
          "text": [
            "1 Cocemos el arroz en agua hirviendo con un poco de sal. 2 Picamos los ajos y la cebolla en cuadraditos.Cortamos el tocino en dados. 3 Cortamos las cabezas de la trucha por detrás de las agallas y con un cuchillo afilado, las abrimos de arriba abajo por el vientre. 4 Retiramos las vísceras y todas las membranas negras. 5 Seccionamos la carne a cada lado de la espina sin llegar al dorso. 6 Retiramos las espinas cortando a la altura de la cola. 7 Las lavamos muy bien y secamos con la ayuda de un paño. 8 Salpimentamos por dentro y por fuera.Lavamos las setas y las picamos. 9 Reservamos la mitad. 10 En una sartén con aceite, sofreímos el tocino y la mitad de las setas. 11 Rellenamos las truchas con las setas y el tocino. 12 Cerramos la abertura. 13 Horneamos durante 25 minutos. 14 Rehogamos en mantequilla el resto de las setas. 15 Añadimos el perejil picado, incorporamos el arroz cocido. 16 Vertemos un chorrito de aceite, añadimos el ajo picado, agregamos la cebolla picada y rehogamos dos minutos. 17 Sacamos las truchas del horno. 18 Calentamos el brandy en un cazo, prendemos fuego y vertemos sobre las truchas. 19 Servimos acompañadas del arroz con setas.\n",
            "1\n",
            "Cocemos\n",
            "el\n",
            "arroz\n",
            "en\n",
            "agua\n",
            "hirviendo\n",
            "con\n",
            "un\n",
            "poco\n",
            "de\n",
            "sal\n",
            ".\n",
            "2\n",
            "Picamos\n",
            "los\n",
            "ajos\n"
          ]
        }
      ]
    },
    {
      "cell_type": "code",
      "source": [
        "# tokenizamos en train y test, sin marcar los UNK todavía:\n",
        "import tqdm\n",
        "\n",
        "def tokenize(doc, ngram_order=4):\n",
        "    \"\"\"Tokeniza un documento y agrega BOS y EOS tokens.\n",
        "    \"\"\"\n",
        "    tokens = [token.text for token in tokenizer(doc)]\n",
        "    tokens = [\"<bos>\"] * (ngram_order - 1) + tokens + [\"<eos>\"]\n",
        "    return tokens\n",
        "\n",
        "tokenized_train = []\n",
        "for doc in tqdm.tqdm(texts_train):\n",
        "    tokenized_train.append(tokenize(doc))\n",
        "\n",
        "tokenized_test = []\n",
        "for doc in tqdm.tqdm(texts_test):\n",
        "    tokenized_test.append(tokenize(doc))"
      ],
      "metadata": {
        "colab": {
          "base_uri": "https://localhost:8080/"
        },
        "id": "SaAuKpculave",
        "outputId": "3b566b3e-fa3e-45c5-eea7-83e70fcfa014"
      },
      "execution_count": 16,
      "outputs": [
        {
          "output_type": "stream",
          "name": "stderr",
          "text": [
            "100%|██████████| 4000/4000 [03:13<00:00, 20.63it/s]\n",
            "100%|██████████| 4000/4000 [03:01<00:00, 21.99it/s]\n"
          ]
        }
      ]
    },
    {
      "cell_type": "code",
      "source": [
        "# Un poco de hacking de nltk para evitar que haga padding con la misma cantidad de tokens\n",
        "# a izq y derecha\n",
        "from functools import partial\n",
        "from itertools import chain\n",
        "\n",
        "from nltk.util import everygrams, pad_sequence\n",
        "\n",
        "flatten = chain.from_iterable\n",
        "pad_both_ends = partial(\n",
        "    pad_sequence,\n",
        "    pad_left=True,\n",
        "    left_pad_symbol=\"<s>\",\n",
        "    pad_right=True,\n",
        "    right_pad_symbol=\"</s>\",\n",
        ")\n",
        "\n",
        "def padded_everygram_pipeline(order, text):\n",
        "    \"\"\"Modificación de https://www.nltk.org/_modules/nltk/lm/preprocessing.html\n",
        "    para que no haga padding\n",
        "    \"\"\"\n",
        "    padding_fn = partial(pad_both_ends, n=0)\n",
        "    return (\n",
        "        (everygrams(list(padding_fn(sent)), max_len=order) for sent in text),\n",
        "        flatten(map(padding_fn, text)),\n",
        "    )\n",
        "\n",
        "train, train_flat = padded_everygram_pipeline(4, tokenized_train)"
      ],
      "metadata": {
        "id": "dSyq3j2JkGEX"
      },
      "execution_count": 17,
      "outputs": []
    },
    {
      "cell_type": "code",
      "source": [
        "# Ahora sí armamos el vocab\n",
        "from nltk.lm import Vocabulary\n",
        "\n",
        "# cutoff de freq>=2 para el vocab:\n",
        "vocab = Vocabulary(train_flat, unk_cutoff=2)"
      ],
      "metadata": {
        "id": "JLD6ARh9kFpI"
      },
      "execution_count": 18,
      "outputs": []
    },
    {
      "cell_type": "code",
      "source": [
        "# vocab size:\n",
        "len(vocab)"
      ],
      "metadata": {
        "colab": {
          "base_uri": "https://localhost:8080/"
        },
        "id": "nrsSk76ssSCQ",
        "outputId": "899d8dbc-3596-4e75-c8d5-8b4c89fd4e88"
      },
      "execution_count": 19,
      "outputs": [
        {
          "output_type": "execute_result",
          "data": {
            "text/plain": [
              "11341"
            ]
          },
          "metadata": {},
          "execution_count": 19
        }
      ]
    },
    {
      "cell_type": "code",
      "source": [
        "# los tokens más y menos frecuentes:\n",
        "print(sorted(vocab.counts, key=vocab.counts.get, reverse=True)[:5])\n",
        "print(sorted(vocab.counts, key=vocab.counts.get)[:5])"
      ],
      "metadata": {
        "colab": {
          "base_uri": "https://localhost:8080/"
        },
        "id": "_ThmBc3SkPTL",
        "outputId": "66524f38-535f-42f8-d55e-424a3b86ab82"
      },
      "execution_count": 20,
      "outputs": [
        {
          "output_type": "stream",
          "name": "stdout",
          "text": [
            "['.', 'de', ',', 'y', 'la']\n",
            "['vientre', 'Seccionamos', 'prendemos', 'digestivo', 'bridar']\n"
          ]
        }
      ]
    },
    {
      "cell_type": "code",
      "source": [
        "# los tokens ordenados alfabeticamente:\n",
        "print(sorted(vocab.counts)[:5])\n",
        "print(sorted(vocab.counts, reverse=True)[:5])"
      ],
      "metadata": {
        "colab": {
          "base_uri": "https://localhost:8080/"
        },
        "id": "ImdNkKfBgAVL",
        "outputId": "f1c4c60e-5ca9-4805-cb41-78735741dd22"
      },
      "execution_count": 21,
      "outputs": [
        {
          "output_type": "stream",
          "name": "stdout",
          "text": [
            "['!', '\"', '\"LISTO', '%', '&']\n",
            "['💪', '🍲', '€', '…', '”']\n"
          ]
        }
      ]
    },
    {
      "cell_type": "code",
      "source": [
        "# los tokens con frec 1 \"no están en el vocab\" (pero podemos consultar su frec.)\n",
        "print(vocab[\"el\"], \"el\" in vocab)\n",
        "print(vocab[\"digestivo\"], \"digestivo\" in vocab)\n",
        "print(vocab[\" \"], \" \" in vocab)\n",
        "print(vocab[\"riquelme\"], \"riquelme\" in vocab)"
      ],
      "metadata": {
        "colab": {
          "base_uri": "https://localhost:8080/"
        },
        "id": "tJx-uESxgARN",
        "outputId": "f9ba2034-8379-47e1-b0fd-972d7aa93607"
      },
      "execution_count": 22,
      "outputs": [
        {
          "output_type": "stream",
          "name": "stdout",
          "text": [
            "25861 True\n",
            "1 False\n",
            "0 False\n",
            "0 False\n"
          ]
        }
      ]
    },
    {
      "cell_type": "code",
      "source": [
        "# ejemplos de sequencia tokenizada:\n",
        "print(vocab.lookup(tokenized_train[33][:10]))\n",
        "print(vocab.lookup([\"un\", \"té\", \"digestivo\", \".\"]))"
      ],
      "metadata": {
        "colab": {
          "base_uri": "https://localhost:8080/"
        },
        "id": "e9dJo8VvgANL",
        "outputId": "38fa0a80-ae3f-438f-c450-7ab0432efafb"
      },
      "execution_count": 23,
      "outputs": [
        {
          "output_type": "stream",
          "name": "stdout",
          "text": [
            "('<bos>', '<bos>', '<bos>', '1', 'Tritura', 'las', 'galletas', 'hasta', 'hacerlas', 'casi')\n",
            "('un', 'té', '<UNK>', '.')\n"
          ]
        }
      ]
    },
    {
      "cell_type": "code",
      "source": [
        "# instanciamos el modelo con el ngram order y el vocab\n",
        "from nltk.lm import MLE\n",
        "\n",
        "lm = MLE(4, vocabulary=vocab)"
      ],
      "metadata": {
        "id": "HeQ76Ynr-G6m"
      },
      "execution_count": 24,
      "outputs": []
    },
    {
      "cell_type": "code",
      "source": [
        "%%time\n",
        "lm.fit(train)"
      ],
      "metadata": {
        "id": "p5gvEgQ03LvT",
        "colab": {
          "base_uri": "https://localhost:8080/"
        },
        "outputId": "487fb511-9b94-4a49-e073-67e894388763"
      },
      "execution_count": 25,
      "outputs": [
        {
          "output_type": "stream",
          "name": "stdout",
          "text": [
            "CPU times: user 34.3 s, sys: 738 ms, total: 35 s\n",
            "Wall time: 35.6 s\n"
          ]
        }
      ]
    },
    {
      "cell_type": "code",
      "source": [
        "print(lm.counts)"
      ],
      "metadata": {
        "colab": {
          "base_uri": "https://localhost:8080/"
        },
        "id": "k4rH7plLVuBa",
        "outputId": "d1f1feec-e937-4fe9-dcde-58e8535973a9"
      },
      "execution_count": 26,
      "outputs": [
        {
          "output_type": "stream",
          "name": "stdout",
          "text": [
            "<NgramCounter with 4 ngram orders and 3938852 ngrams>\n"
          ]
        }
      ]
    },
    {
      "cell_type": "code",
      "source": [
        "# unigram counts\n",
        "lm.counts['la']"
      ],
      "metadata": {
        "colab": {
          "base_uri": "https://localhost:8080/"
        },
        "id": "YJSdKlF5Vtu0",
        "outputId": "eaa6833a-dda4-4a21-dfdf-5074a492afbc"
      },
      "execution_count": 27,
      "outputs": [
        {
          "output_type": "execute_result",
          "data": {
            "text/plain": [
              "33884"
            ]
          },
          "metadata": {},
          "execution_count": 27
        }
      ]
    },
    {
      "cell_type": "code",
      "source": [
        "# bigram counts\n",
        "print(lm.counts[['en']][\"la\"])\n",
        "print(lm.counts[['la']][\"en\"])\n",
        "print(lm.counts[['el']][\"<UNK>\"])"
      ],
      "metadata": {
        "colab": {
          "base_uri": "https://localhost:8080/"
        },
        "id": "849ZrN1QWgxC",
        "outputId": "9a6dbee1-d1b2-4b8a-b407-11c167df4ed2"
      },
      "execution_count": 28,
      "outputs": [
        {
          "output_type": "stream",
          "name": "stdout",
          "text": [
            "2418\n",
            "0\n",
            "204\n"
          ]
        }
      ]
    },
    {
      "cell_type": "code",
      "source": [
        "# trigram y 4gram counts\n",
        "print(lm.counts[[\"con\", \"la\"]][\"cuchara\"])\n",
        "print(lm.counts[[\"y\", \"con\", \"la\"]][\"cuchara\"])"
      ],
      "metadata": {
        "colab": {
          "base_uri": "https://localhost:8080/"
        },
        "id": "gMbVItd_W9yR",
        "outputId": "ff92d0a0-8f4b-488b-d5dc-f6b3be1fc53e"
      },
      "execution_count": 29,
      "outputs": [
        {
          "output_type": "stream",
          "name": "stdout",
          "text": [
            "14\n",
            "2\n"
          ]
        }
      ]
    },
    {
      "cell_type": "code",
      "source": [
        "# lo mas frecuente despues de un ngrama dado:\n",
        "ngram_example = [\"con\", \"la\"]\n",
        "sorted(lm.counts[ngram_example].items(), key=lambda x: x[1], reverse=True)[:10]"
      ],
      "metadata": {
        "colab": {
          "base_uri": "https://localhost:8080/"
        },
        "id": "RWdQOqQ2XgIW",
        "outputId": "0790de5a-e639-4e3c-e624-ae47021170f5"
      },
      "execution_count": 30,
      "outputs": [
        {
          "output_type": "execute_result",
          "data": {
            "text/plain": [
              "[('salsa', 239),\n",
              " ('receta', 193),\n",
              " ('ayuda', 141),\n",
              " ('preparación', 136),\n",
              " ('cebolla', 103),\n",
              " ('leche', 100),\n",
              " ('masa', 96),\n",
              " ('mezcla', 96),\n",
              " ('mantequilla', 95),\n",
              " ('crema', 74)]"
            ]
          },
          "metadata": {},
          "execution_count": 30
        }
      ]
    },
    {
      "cell_type": "code",
      "source": [
        "# probabilidad de un token luego de un ngrama:\n",
        "ngram_example = [\"con\", \"la\", \"salsa\"]\n",
        "print(lm.score(\"rosa\", ngram_example))"
      ],
      "metadata": {
        "colab": {
          "base_uri": "https://localhost:8080/"
        },
        "id": "wYCpuypxYvaT",
        "outputId": "3f421346-2e01-4599-c0bb-3cb6e235ba15"
      },
      "execution_count": 31,
      "outputs": [
        {
          "output_type": "stream",
          "name": "stdout",
          "text": [
            "0.0041841004184100415\n"
          ]
        }
      ]
    },
    {
      "cell_type": "code",
      "source": [
        "# usamos logscore para evitar underflow:\n",
        "import numpy as np\n",
        "\n",
        "ngram_example = [\"con\", \"la\", \"salsa\"]\n",
        "print(lm.logscore(\"rosa\", ngram_example))\n",
        "print(np.log2(lm.score(\"rosa\", ngram_example)))"
      ],
      "metadata": {
        "colab": {
          "base_uri": "https://localhost:8080/"
        },
        "id": "7TGwR1JwY6nD",
        "outputId": "c1f80f6f-c898-44b2-a03f-f3b6b7e71835"
      },
      "execution_count": 32,
      "outputs": [
        {
          "output_type": "stream",
          "name": "stdout",
          "text": [
            "-7.90086680798075\n",
            "-7.900866807980749\n"
          ]
        }
      ]
    },
    {
      "cell_type": "markdown",
      "source": [
        "## Evaluación\n",
        "\n",
        "Medimos perplexity en el dataset de test."
      ],
      "metadata": {
        "id": "POfAiKjGHu8v"
      }
    },
    {
      "cell_type": "code",
      "source": [
        "example_test = tokenized_test[33]\n",
        "print(example_test)\n",
        "print(lm.vocab.lookup(example_test))"
      ],
      "metadata": {
        "colab": {
          "base_uri": "https://localhost:8080/"
        },
        "id": "56EnCPZ0ZvH4",
        "outputId": "93e8a50d-9627-4469-91c6-151e1527fe25"
      },
      "execution_count": 33,
      "outputs": [
        {
          "output_type": "stream",
          "name": "stdout",
          "text": [
            "['<bos>', '<bos>', '<bos>', '1', 'Para', 'empezar', 'con', 'la', 'receta', 'del', 'budín', 'de', 'naranja', 'fácil', ',', 'primero', 'bate', 'el', 'huevo', 'a', 'temperatura', 'ambiente', 'con', 'la', 'pizca', 'de', 'sal', 'mientras', 'agregas', 'el', 'azúcar', 'en', 'forma', 'de', 'lluvia', '.', '2', 'Cuando', 'el', 'azúcar', 'esté', 'integrado', 'y', 'no', 'se', 'observen', 'los', 'cristales', 'del', 'mismo', ',', 'añade', 'el', 'aceite', 'en', 'forma', 'de', 'hilo', 'mientras', 'continúas', 'batiendo', '.', '3', 'Cuando', 'el', 'aceite', 'esté', 'integrado', 'y', 'el', 'batido', 'esté', 'espumoso', 'y', 'blanquecino', ',', 'agrega', 'la', 'ralladura', 'de', 'la', 'naranja', '.', 'Por', 'otro', 'lado', ',', 'exprime', 'la', 'naranja', '.', 'Debes', 'saber', 'que', 'necesitarás', 'media', 'taza', 'de', 'líquido', ',', 'por', 'tanto', ',', 'si', 'no', 'alcanzas', 'a', 'llenarla', 'con', 'el', 'jugo', 'de', 'naranja', ',', 'puedes', 'completarla', 'con', 'agua', ',', 'leche', 'o', 'yogur', '.', '4', 'En', 'otro', 'recipiente', ',', 'mezcla', 'la', 'harina', 'con', 'el', 'polvo', 'de', 'hornear', 'y', 'el', 'bicarbonato', 'de', 'sodio', 'reservando', '1', 'cucharada', 'para', 'mezclarla', 'con', 'las', 'chispas', 'de', 'chocolate', '.', 'De', 'esta', 'forma', ',', 'al', 'añadirlas', 'en', 'el', 'budín', ',', 'quedarán', 'dispersas', 'por', 'toda', 'la', 'masa', 'en', 'lugar', 'de', 'decantar', 'en', 'el', 'fondo', '.', '5', 'Agrega', 'la', 'mitad', 'del', 'líquido', 'y', 'la', 'mitad', 'de', 'la', 'harina', 'al', 'batido', 'de', 'huevo', ',', 'la', 'harina', 'tamizándola', 'previamente', 'con', 'un', 'colador', 'fino', 'o', 'con', 'un', 'tamiz', '.', 'Intégralo', 'con', 'un', 'batidor', 'de', 'mano', 'y', 'movimientos', 'envolventes', '.', '6', 'Agrega', 'el', 'líquido', 'y', 'la', 'harina', 'restante', '.', 'A', 'continuación', ',', 'corrobora', 'la', 'consistencia', 'y', ',', 'si', 'es', 'necesario', ',', 'corrige', 'con', 'más', 'harina', 'o', 'líquido', '.', 'Cuando', 'esté', 'listo', ',', 'agrega', 'los', 'chips', 'de', 'chocolate', 'con', 'ayuda', 'de', 'una', 'espátula', 'y', 'movimientos', 'envolventes', '.', '7', 'Prepara', 'el', 'molde', 'donde', 'cocinarás', 'tu', 'budín', 'de', 'naranja', 'con', 'chips', 'de', 'chocolate', ',', 'engrasándolo', 'con', 'aceite', 'o', 'manteca', 'y', 'enharinándolo', 'para', 'evitar', 'que', 'se', 'pegue', 'durante', 'la', 'cocción', '.', '8', 'Vuelca', 'en', 'el', 'molde', 'la', 'preparación', 'del', 'budín', 'con', 'chips', 'de', 'chocolate', 'y', 'cocínalo', 'en', 'el', 'horno', 'precalentado', 'a', '180', 'ºC', 'durante', 'unos', '25', 'minutos', 'o', 'hasta', 'que', ',', 'al', 'pincharlo', ',', 'no', 'salgan', 'restos', 'de', 'la', 'preparación', '.', '9', 'Cuando', 'el', 'budín', 'esté', 'tibio', 'o', 'frío', ',', 'prepara', 'el', 'chocolate', 'o', 'el', 'ganache', 'de', 'chocolate', 'para', 'hacer', 'la', 'cobertura', '.', 'Para', 'ello', ',', 'derrítelo', 'en', 'el', 'microondas', 'a', 'potencia', 'mínima', 'de', '30', 'segundos', 'en', '30', 'segundos', ',', 'removiendo', 'cada', 'vez', '.', 'También', 'puedes', 'hacerlo', 'al', 'baño', 'María', 'mezclando', 'para', 'que', 'no', 'se', 'queme', '.', '10', 'Desmolda', 'el', 'budín', 'de', 'naranja', 'húmedo', 'y', 'cúbrelo', 'con', 'el', 'chocolate', 'derretido', '.', 'A', 'continuación', ',', 'deja', 'enfriar', 'un', 'poco', 'antes', 'de', 'probarlo', '.', '¡', 'A', 'comer', '!', '¿', 'Qué', 'te', 'ha', 'parecido', 'esta', 'receta', '?', 'Cuéntanos', 'en', 'los', 'comentarios', '.', '<eos>']\n",
            "('<bos>', '<bos>', '<bos>', '1', 'Para', 'empezar', 'con', 'la', 'receta', 'del', 'budín', 'de', 'naranja', 'fácil', ',', 'primero', 'bate', 'el', 'huevo', 'a', 'temperatura', 'ambiente', 'con', 'la', 'pizca', 'de', 'sal', 'mientras', 'agregas', 'el', 'azúcar', 'en', 'forma', 'de', 'lluvia', '.', '2', 'Cuando', 'el', 'azúcar', 'esté', 'integrado', 'y', 'no', 'se', 'observen', 'los', 'cristales', 'del', 'mismo', ',', 'añade', 'el', 'aceite', 'en', 'forma', 'de', 'hilo', 'mientras', 'continúas', 'batiendo', '.', '3', 'Cuando', 'el', 'aceite', 'esté', 'integrado', 'y', 'el', 'batido', 'esté', 'espumoso', 'y', 'blanquecino', ',', 'agrega', 'la', 'ralladura', 'de', 'la', 'naranja', '.', 'Por', 'otro', 'lado', ',', 'exprime', 'la', 'naranja', '.', 'Debes', 'saber', 'que', 'necesitarás', 'media', 'taza', 'de', 'líquido', ',', 'por', 'tanto', ',', 'si', 'no', '<UNK>', 'a', '<UNK>', 'con', 'el', 'jugo', 'de', 'naranja', ',', 'puedes', '<UNK>', 'con', 'agua', ',', 'leche', 'o', 'yogur', '.', '4', 'En', 'otro', 'recipiente', ',', 'mezcla', 'la', 'harina', 'con', 'el', 'polvo', 'de', 'hornear', 'y', 'el', 'bicarbonato', 'de', 'sodio', 'reservando', '1', 'cucharada', 'para', 'mezclarla', 'con', 'las', 'chispas', 'de', 'chocolate', '.', 'De', 'esta', 'forma', ',', 'al', 'añadirlas', 'en', 'el', 'budín', ',', 'quedarán', '<UNK>', 'por', 'toda', 'la', 'masa', 'en', 'lugar', 'de', 'decantar', 'en', 'el', 'fondo', '.', '5', 'Agrega', 'la', 'mitad', 'del', 'líquido', 'y', 'la', 'mitad', 'de', 'la', 'harina', 'al', 'batido', 'de', 'huevo', ',', 'la', 'harina', 'tamizándola', 'previamente', 'con', 'un', 'colador', 'fino', 'o', 'con', 'un', 'tamiz', '.', '<UNK>', 'con', 'un', 'batidor', 'de', 'mano', 'y', 'movimientos', 'envolventes', '.', '6', 'Agrega', 'el', 'líquido', 'y', 'la', 'harina', 'restante', '.', 'A', 'continuación', ',', 'corrobora', 'la', 'consistencia', 'y', ',', 'si', 'es', 'necesario', ',', 'corrige', 'con', 'más', 'harina', 'o', 'líquido', '.', 'Cuando', 'esté', 'listo', ',', 'agrega', 'los', 'chips', 'de', 'chocolate', 'con', 'ayuda', 'de', 'una', 'espátula', 'y', 'movimientos', 'envolventes', '.', '7', 'Prepara', 'el', 'molde', 'donde', 'cocinarás', 'tu', 'budín', 'de', 'naranja', 'con', 'chips', 'de', 'chocolate', ',', 'engrasándolo', 'con', 'aceite', 'o', 'manteca', 'y', 'enharinándolo', 'para', 'evitar', 'que', 'se', 'pegue', 'durante', 'la', 'cocción', '.', '8', 'Vuelca', 'en', 'el', 'molde', 'la', 'preparación', 'del', 'budín', 'con', 'chips', 'de', 'chocolate', 'y', 'cocínalo', 'en', 'el', 'horno', 'precalentado', 'a', '180', 'ºC', 'durante', 'unos', '25', 'minutos', 'o', 'hasta', 'que', ',', 'al', 'pincharlo', ',', 'no', 'salgan', 'restos', 'de', 'la', 'preparación', '.', '9', 'Cuando', 'el', 'budín', 'esté', 'tibio', 'o', 'frío', ',', 'prepara', 'el', 'chocolate', 'o', 'el', 'ganache', 'de', 'chocolate', 'para', 'hacer', 'la', 'cobertura', '.', 'Para', 'ello', ',', '<UNK>', 'en', 'el', 'microondas', 'a', 'potencia', 'mínima', 'de', '30', 'segundos', 'en', '30', 'segundos', ',', 'removiendo', 'cada', 'vez', '.', 'También', 'puedes', 'hacerlo', 'al', 'baño', 'María', 'mezclando', 'para', 'que', 'no', 'se', 'queme', '.', '10', 'Desmolda', 'el', 'budín', 'de', 'naranja', 'húmedo', 'y', 'cúbrelo', 'con', 'el', 'chocolate', 'derretido', '.', 'A', 'continuación', ',', 'deja', 'enfriar', 'un', 'poco', 'antes', 'de', 'probarlo', '.', '¡', 'A', 'comer', '!', '¿', 'Qué', 'te', 'ha', 'parecido', 'esta', 'receta', '?', 'Cuéntanos', 'en', 'los', 'comentarios', '.', '<eos>')\n"
          ]
        }
      ]
    },
    {
      "cell_type": "code",
      "source": [
        "from nltk.util import ngrams\n",
        "\n",
        "def perplexity(docs, lm, ngram_order=3) -> float:\n",
        "    \"\"\"docs: lista de listas de tokens (con BOS y EOS)\n",
        "    \"\"\"\n",
        "    ngrams_flat = []\n",
        "    for doc in docs:\n",
        "        ngrams_ = ngrams(doc, ngram_order)\n",
        "        ngrams_flat.extend(list(ngrams_))\n",
        "    return lm.perplexity(ngrams_flat)"
      ],
      "metadata": {
        "id": "K9GInDjFeF5w"
      },
      "execution_count": 34,
      "outputs": []
    },
    {
      "cell_type": "code",
      "source": [
        "%%time\n",
        "ppl_train = perplexity(tokenized_train, lm)\n",
        "print(f\"Perplexity en train: {ppl_train:.4f}\")"
      ],
      "metadata": {
        "colab": {
          "base_uri": "https://localhost:8080/"
        },
        "id": "Oqh39H7ihxB2",
        "outputId": "4237162f-044e-4cc0-ba67-08c2ed6d30a3"
      },
      "execution_count": 35,
      "outputs": [
        {
          "output_type": "stream",
          "name": "stdout",
          "text": [
            "Perplexity en train: 8.1328\n",
            "CPU times: user 10.8 s, sys: 288 ms, total: 11.1 s\n",
            "Wall time: 11.2 s\n"
          ]
        }
      ]
    },
    {
      "cell_type": "code",
      "source": [
        "%%time\n",
        "ppl_test = perplexity(tokenized_test, lm)\n",
        "print(f\"Perplexity en test: {ppl_test:.4f}\")\n",
        "# qué pasó??"
      ],
      "metadata": {
        "colab": {
          "base_uri": "https://localhost:8080/"
        },
        "id": "ZiT4a1ZbeX-G",
        "outputId": "d9d760fd-387e-4668-94e0-c0699666329c"
      },
      "execution_count": 36,
      "outputs": [
        {
          "output_type": "stream",
          "name": "stdout",
          "text": [
            "Perplexity en test: inf\n",
            "CPU times: user 11.6 s, sys: 126 ms, total: 11.7 s\n",
            "Wall time: 11.8 s\n"
          ]
        }
      ]
    },
    {
      "cell_type": "markdown",
      "source": [
        "Necesitamos smoothing / backoff / interpolation para computar perplexity en test!\n",
        "\n",
        "Usamos add-k smoothing (aka Lidstone smoothing, gamma=k)"
      ],
      "metadata": {
        "id": "xl89hc5wwupP"
      }
    },
    {
      "cell_type": "code",
      "source": [
        "from nltk.lm import Lidstone\n",
        "\n",
        "train, train_flat = padded_everygram_pipeline(4, tokenized_train)\n",
        "vocab = Vocabulary(train_flat, unk_cutoff=2)\n",
        "lm_smoothed = Lidstone(order=4, vocabulary=vocab, gamma=.01)"
      ],
      "metadata": {
        "id": "vt7yslv1lvo7"
      },
      "execution_count": 37,
      "outputs": []
    },
    {
      "cell_type": "code",
      "source": [
        "%%time\n",
        "lm_smoothed.fit(train)"
      ],
      "metadata": {
        "colab": {
          "base_uri": "https://localhost:8080/"
        },
        "id": "Kc0A7B2enuXw",
        "outputId": "c29626e9-6f58-4553-d185-040c82d98e29"
      },
      "execution_count": 38,
      "outputs": [
        {
          "output_type": "stream",
          "name": "stdout",
          "text": [
            "CPU times: user 33.3 s, sys: 554 ms, total: 33.8 s\n",
            "Wall time: 34.1 s\n"
          ]
        }
      ]
    },
    {
      "cell_type": "code",
      "source": [
        "ppl_test_smoothed = perplexity(tokenized_test, lm_smoothed)\n",
        "print(f\"Perplexity en test: {ppl_test_smoothed:.4f}\")"
      ],
      "metadata": {
        "colab": {
          "base_uri": "https://localhost:8080/"
        },
        "id": "3t2Px-Y2oARm",
        "outputId": "fb392f68-0909-4577-c98f-79d460f39c36"
      },
      "execution_count": 39,
      "outputs": [
        {
          "output_type": "stream",
          "name": "stdout",
          "text": [
            "Perplexity en test: 199.4909\n"
          ]
        }
      ]
    },
    {
      "cell_type": "markdown",
      "source": [
        "## Generación de texto\n",
        "\n",
        "Generamos texto sampleando iterativamente del LM."
      ],
      "metadata": {
        "id": "ddjpr1b0xD2j"
      }
    },
    {
      "cell_type": "code",
      "source": [
        "tokens_generados = lm_smoothed.generate(\n",
        "    30, text_seed=[\"<bos>\", \"<bos>\", \"<bos>\"], random_seed=33)\n",
        "print(\" \".join(tokens_generados))"
      ],
      "metadata": {
        "colab": {
          "base_uri": "https://localhost:8080/"
        },
        "id": "8Eu2KQHoo0bs",
        "outputId": "600caeb1-7aab-4907-88f9-afa3050468f7"
      },
      "execution_count": 40,
      "outputs": [
        {
          "output_type": "stream",
          "name": "stdout",
          "text": [
            "1 Para preparar esta receta que te haga el trabajo de marcar los medios como <UNK> <UNK> , el <UNK> natural por excelencia . 5 Por último , agrega unas\n"
          ]
        }
      ]
    },
    {
      "cell_type": "code",
      "source": [
        "import textwrap\n",
        "\n",
        "tokens_generados = lm_smoothed.generate(\n",
        "    120, text_seed=[\"<bos>\", \"<bos>\", \"1\"], random_seed=33)\n",
        "receta_generada = \" \".join(tokens_generados)\n",
        "print(textwrap.fill(receta_generada, 100))"
      ],
      "metadata": {
        "colab": {
          "base_uri": "https://localhost:8080/"
        },
        "id": "Y8p8zhsuB1Zj",
        "outputId": "4cfe8ca7-f5c6-44ec-db72-25440e07a3ce"
      },
      "execution_count": 43,
      "outputs": [
        {
          "output_type": "stream",
          "name": "stdout",
          "text": [
            "Para hacer las capas de relleno pues deberán estar frías una vez vayan a ser utilizadas . Prepara en\n",
            "primer lugar limpiaremos los calamares , que , bien escurridas y aliñamos con un poco de arroz\n",
            "blanco . 2 Añade el chocolate en baño María con una olla a fuego lento 2 minutos más . 4 Este es el\n",
            "primer paso es alistar todos los ingredientes para elaborar los calabacines rellenos de gambas y\n",
            "parmesano . Truco : Aunque recomendamos hacer tres capas . 7 Finalmente servir las acelgas al puré y\n",
            "procesar nuevamente , hasta obtener una mezcla homogénea y suave . Si quieres recetas más detalles\n",
            "para aprender a preparar más croquetas , no te pierdas esta sencilla\n"
          ]
        }
      ]
    },
    {
      "cell_type": "code",
      "source": [],
      "metadata": {
        "id": "VZMXy52FA9-o"
      },
      "execution_count": null,
      "outputs": []
    }
  ]
}