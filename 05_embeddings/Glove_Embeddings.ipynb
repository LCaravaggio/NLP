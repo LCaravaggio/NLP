{
  "nbformat": 4,
  "nbformat_minor": 0,
  "metadata": {
    "colab": {
      "name": "Glove - Embeddings.ipynb",
      "provenance": [],
      "machine_shape": "hm"
    },
    "kernelspec": {
      "name": "python3",
      "display_name": "Python 3"
    },
    "accelerator": "GPU"
  },
  "cells": [
    {
      "cell_type": "code",
      "metadata": {
        "id": "r-mpXuyJT9UO",
        "outputId": "26481cef-0bc9-4cb5-e829-70b43690266a",
        "colab": {
          "base_uri": "https://localhost:8080/"
        }
      },
      "source": [
        "from keras.datasets import imdb\n",
        "from keras.preprocessing.sequence import pad_sequences\n",
        "import numpy as np\n",
        "import gensim\n",
        "import os, re, csv, math, codecs\n",
        "num_words=30000\n",
        "(training_data, training_targets), (testing_data, testing_targets) = imdb.load_data(num_words=num_words+2,)\n",
        "data = np.concatenate((training_data, testing_data), axis=0)\n",
        "targets = np.concatenate((training_targets, testing_targets), axis=0)"
      ],
      "execution_count": 1,
      "outputs": [
        {
          "output_type": "stream",
          "name": "stdout",
          "text": [
            "Downloading data from https://storage.googleapis.com/tensorflow/tf-keras-datasets/imdb.npz\n",
            "17465344/17464789 [==============================] - 0s 0us/step\n",
            "17473536/17464789 [==============================] - 0s 0us/step\n"
          ]
        }
      ]
    },
    {
      "cell_type": "code",
      "metadata": {
        "id": "jEiPTqOBT_V7",
        "outputId": "26a5a539-9daa-4b85-93f2-b3b278027a40",
        "colab": {
          "base_uri": "https://localhost:8080/"
        }
      },
      "source": [
        "num_words=len(np.unique(np.hstack(data)))\n",
        "print(\"Categories:\", np.unique(targets))\n",
        "print(\"Number of unique words:\", num_words)"
      ],
      "execution_count": 2,
      "outputs": [
        {
          "output_type": "stream",
          "name": "stdout",
          "text": [
            "Categories: [0 1]\n",
            "Number of unique words: 30000\n"
          ]
        }
      ]
    },
    {
      "cell_type": "markdown",
      "metadata": {
        "id": "xSFu-CU_r2QK"
      },
      "source": [
        "Agregar este archivo a la carpeta de google drive\n",
        "\n",
        "https://drive.google.com/file/d/1PTYVtqIjAGtM_qeW_408gMY-j9px6n9t/view?usp=sharing\n",
        "\n",
        "El archivo sale de la página oficial de Glove: \n",
        "https://nlp.stanford.edu/projects/glove/"
      ]
    },
    {
      "cell_type": "code",
      "metadata": {
        "id": "Y9mmn9fpUIY6",
        "outputId": "a8b0dfe2-1b32-4091-f287-f08b9d35e4b6",
        "colab": {
          "base_uri": "https://localhost:8080/"
        }
      },
      "source": [
        "from google.colab import drive\n",
        "drive.mount('/content/drive')"
      ],
      "execution_count": 3,
      "outputs": [
        {
          "output_type": "stream",
          "name": "stdout",
          "text": [
            "Mounted at /content/drive\n"
          ]
        }
      ]
    },
    {
      "cell_type": "code",
      "metadata": {
        "id": "9tOvUY-MUJGH",
        "outputId": "d7146c82-7111-469b-e188-86348b8ed7ce",
        "colab": {
          "base_uri": "https://localhost:8080/"
        }
      },
      "source": [
        "length = [len(i) for i in data]\n",
        "print(\"Average Review length:\", np.mean(length))\n",
        "print(\"Standard Deviation:\", round(np.std(length)))"
      ],
      "execution_count": 4,
      "outputs": [
        {
          "output_type": "stream",
          "name": "stdout",
          "text": [
            "Average Review length: 234.75892\n",
            "Standard Deviation: 173\n"
          ]
        }
      ]
    },
    {
      "cell_type": "code",
      "metadata": {
        "id": "jHY8EhzvUdzt",
        "outputId": "9ba7e6aa-5303-4dbb-d87c-f1b7bead2be4",
        "colab": {
          "base_uri": "https://localhost:8080/"
        }
      },
      "source": [
        "print(\"Label:\", targets[0])\n",
        "\n",
        "Label: 1\n",
        "print(data[0])"
      ],
      "execution_count": 5,
      "outputs": [
        {
          "output_type": "stream",
          "name": "stdout",
          "text": [
            "Label: 1\n",
            "[1, 14, 22, 16, 43, 530, 973, 1622, 1385, 65, 458, 4468, 66, 3941, 4, 173, 36, 256, 5, 25, 100, 43, 838, 112, 50, 670, 22665, 9, 35, 480, 284, 5, 150, 4, 172, 112, 167, 21631, 336, 385, 39, 4, 172, 4536, 1111, 17, 546, 38, 13, 447, 4, 192, 50, 16, 6, 147, 2025, 19, 14, 22, 4, 1920, 4613, 469, 4, 22, 71, 87, 12, 16, 43, 530, 38, 76, 15, 13, 1247, 4, 22, 17, 515, 17, 12, 16, 626, 18, 19193, 5, 62, 386, 12, 8, 316, 8, 106, 5, 4, 2223, 5244, 16, 480, 66, 3785, 33, 4, 130, 12, 16, 38, 619, 5, 25, 124, 51, 36, 135, 48, 25, 1415, 33, 6, 22, 12, 215, 28, 77, 52, 5, 14, 407, 16, 82, 10311, 8, 4, 107, 117, 5952, 15, 256, 4, 2, 7, 3766, 5, 723, 36, 71, 43, 530, 476, 26, 400, 317, 46, 7, 4, 12118, 1029, 13, 104, 88, 4, 381, 15, 297, 98, 32, 2071, 56, 26, 141, 6, 194, 7486, 18, 4, 226, 22, 21, 134, 476, 26, 480, 5, 144, 30, 5535, 18, 51, 36, 28, 224, 92, 25, 104, 4, 226, 65, 16, 38, 1334, 88, 12, 16, 283, 5, 16, 4472, 113, 103, 32, 15, 16, 5345, 19, 178, 32]\n"
          ]
        }
      ]
    },
    {
      "cell_type": "code",
      "metadata": {
        "id": "4lY7mGCLUf0M",
        "outputId": "1d1ce61a-5814-4cc1-d9f9-96dbcd6ea23b",
        "colab": {
          "base_uri": "https://localhost:8080/"
        }
      },
      "source": [
        "index = imdb.get_word_index()\n",
        "reverse_index = dict([(value, key) for (key, value) in index.items()]) \n",
        "decoded = \" \".join( [reverse_index.get(i - 3, \"#\") for i in data[1]] )\n",
        "print(decoded)"
      ],
      "execution_count": 6,
      "outputs": [
        {
          "output_type": "stream",
          "name": "stdout",
          "text": [
            "Downloading data from https://storage.googleapis.com/tensorflow/tf-keras-datasets/imdb_word_index.json\n",
            "1646592/1641221 [==============================] - 0s 0us/step\n",
            "1654784/1641221 [==============================] - 0s 0us/step\n",
            "# big hair big boobs bad music and a giant safety pin these are the words to best describe this terrible movie i love cheesy horror movies and i've seen hundreds but this had got to be on of the worst ever made the plot is paper thin and ridiculous the acting is an abomination the script is completely laughable the best is the end showdown with the cop and how he worked out who the killer is it's just so damn terribly written the clothes are sickening and funny in equal measures the hair is big lots of boobs bounce men wear those cut tee shirts that show off their stomachs sickening that men actually wore them and the music is just # trash that plays over and over again in almost every scene there is trashy music boobs and paramedics taking away bodies and the gym still doesn't close for # all joking aside this is a truly bad film whose only charm is to look back on the disaster that was the 80's and have a good old laugh at how bad everything was back then\n"
          ]
        }
      ]
    },
    {
      "cell_type": "code",
      "metadata": {
        "id": "8Yp9nq3GuKL8",
        "outputId": "2f3de8ab-2c47-47e5-820d-b3c60f3f8af3",
        "colab": {
          "base_uri": "https://localhost:8080/"
        }
      },
      "source": [
        "#load embeddings\n",
        "print('loading word embeddings...')\n",
        "embeddings_index = {}\n",
        "f = codecs.open('/content/drive/MyDrive/glove.6B.100d.txt', encoding='utf-8')\n",
        "for line in f:\n",
        "    values = line.rstrip().rsplit(' ')\n",
        "    word = values[0]\n",
        "    coefs = np.asarray(values[1:], dtype='float32')\n",
        "    embeddings_index[word] = coefs\n",
        "f.close()\n",
        "print('found %s word vectors' % len(embeddings_index))"
      ],
      "execution_count": 7,
      "outputs": [
        {
          "output_type": "stream",
          "name": "stdout",
          "text": [
            "loading word embeddings...\n",
            "found 400000 word vectors\n"
          ]
        }
      ]
    },
    {
      "cell_type": "code",
      "metadata": {
        "id": "SDEVfp7RY489",
        "outputId": "a61f5213-55a7-4704-8f6d-26aaf1f589dc",
        "colab": {
          "base_uri": "https://localhost:8080/"
        }
      },
      "source": [
        "embeddings_index[\"car\"]"
      ],
      "execution_count": 8,
      "outputs": [
        {
          "output_type": "execute_result",
          "data": {
            "text/plain": [
              "array([-0.1684  , -0.53827 ,  0.31155 , -0.53218 ,  0.26678 , -0.13638 ,\n",
              "        0.36621 ,  0.68383 ,  0.77726 ,  0.68049 ,  0.69137 ,  0.2103  ,\n",
              "        0.091065,  0.24845 , -0.16157 ,  0.46291 , -0.1503  ,  0.2562  ,\n",
              "       -0.1199  ,  0.5913  ,  1.0351  , -0.2052  ,  0.30244 , -0.34101 ,\n",
              "        0.6326  , -0.31603 , -0.9959  , -0.33583 ,  0.25161 ,  0.10323 ,\n",
              "        0.019611,  0.54893 , -0.33433 ,  0.29617 ,  0.41218 ,  0.4207  ,\n",
              "        0.25775 ,  0.12709 ,  0.80269 ,  0.61944 ,  0.54316 , -0.5941  ,\n",
              "        0.87551 , -0.063686, -0.29117 ,  0.61609 ,  0.33376 ,  0.14488 ,\n",
              "       -0.039021, -1.1849  , -0.45951 ,  0.15631 , -0.50818 ,  1.2357  ,\n",
              "        0.30965 , -1.958   , -1.1872  ,  1.2027  ,  2.1138  ,  0.083629,\n",
              "        0.54319 ,  0.78883 ,  0.35416 ,  0.87736 ,  0.54007 , -0.10454 ,\n",
              "        0.075371, -0.45727 , -0.27466 ,  0.11838 , -0.49412 , -0.61325 ,\n",
              "        0.071519, -0.57665 ,  0.21371 ,  0.62137 ,  1.4404  , -0.34033 ,\n",
              "       -0.89958 , -0.69605 ,  0.74058 ,  0.52105 , -0.19224 , -0.20366 ,\n",
              "       -0.22409 , -0.3708  , -0.34663 , -0.86018 , -0.89182 , -0.43871 ,\n",
              "        0.19424 ,  0.17073 ,  0.43663 , -0.11295 , -0.51156 ,  0.34186 ,\n",
              "       -0.10274 ,  0.39684 ,  1.734   , -0.70787 ], dtype=float32)"
            ]
          },
          "metadata": {},
          "execution_count": 8
        }
      ]
    },
    {
      "cell_type": "code",
      "metadata": {
        "id": "DlY6kxXlUv_b"
      },
      "source": [
        "embed_dim=100\n",
        "embedding_matrix=np.zeros([num_words+4,embed_dim])\n",
        "for word, idx in index.items():\n",
        "  if idx <= num_words and word in embeddings_index:\n",
        "    embedding_matrix[idx+3,:]=embeddings_index[word]"
      ],
      "execution_count": 9,
      "outputs": []
    },
    {
      "cell_type": "code",
      "metadata": {
        "id": "_HdJ8KrrZszC"
      },
      "source": [
        "maxlen=1000"
      ],
      "execution_count": 10,
      "outputs": []
    },
    {
      "cell_type": "code",
      "metadata": {
        "id": "6r9jiL4QarNw"
      },
      "source": [
        "data = pad_sequences(data,maxlen=maxlen)"
      ],
      "execution_count": 11,
      "outputs": []
    },
    {
      "cell_type": "code",
      "metadata": {
        "id": "OiL4twmwas3F",
        "outputId": "705a2eef-087b-45e4-d2a2-c672278d0b9b",
        "colab": {
          "base_uri": "https://localhost:8080/"
        }
      },
      "source": [
        "len(data[0])"
      ],
      "execution_count": 12,
      "outputs": [
        {
          "output_type": "execute_result",
          "data": {
            "text/plain": [
              "1000"
            ]
          },
          "metadata": {},
          "execution_count": 12
        }
      ]
    },
    {
      "cell_type": "code",
      "metadata": {
        "id": "XoPdGTyaaudk",
        "outputId": "31f91126-0edd-444c-bbfc-2aae73139beb",
        "colab": {
          "base_uri": "https://localhost:8080/"
        }
      },
      "source": [
        "len(data[1])"
      ],
      "execution_count": 13,
      "outputs": [
        {
          "output_type": "execute_result",
          "data": {
            "text/plain": [
              "1000"
            ]
          },
          "metadata": {},
          "execution_count": 13
        }
      ]
    },
    {
      "cell_type": "code",
      "metadata": {
        "id": "H9HdnsE2awBy"
      },
      "source": [
        "data=np.array(data)"
      ],
      "execution_count": 14,
      "outputs": []
    },
    {
      "cell_type": "code",
      "metadata": {
        "id": "ri0xt9ueaxlK",
        "outputId": "4146cee4-ab96-459d-b5f2-cd0862dd1b15",
        "colab": {
          "base_uri": "https://localhost:8080/"
        }
      },
      "source": [
        "data.shape"
      ],
      "execution_count": 15,
      "outputs": [
        {
          "output_type": "execute_result",
          "data": {
            "text/plain": [
              "(50000, 1000)"
            ]
          },
          "metadata": {},
          "execution_count": 15
        }
      ]
    },
    {
      "cell_type": "code",
      "metadata": {
        "id": "CjoQz25NazxB",
        "outputId": "7f85d8f9-e1dc-4a98-98db-fb142a68727c",
        "colab": {
          "base_uri": "https://localhost:8080/"
        }
      },
      "source": [
        "import tensorflow as tf\n",
        "from keras.layers import Embedding, Conv1D, MaxPooling1D, GlobalMaxPooling1D, Dropout, Dense\n",
        "from keras.models import Sequential\n",
        "from keras import optimizers\n",
        "nb_words=num_words+4\n",
        "num_filters=64\n",
        "model = Sequential()\n",
        "model.add(Embedding(nb_words, embed_dim, weights=[embedding_matrix], input_length=maxlen, trainable=False))\n",
        "model.add(Conv1D(num_filters, 7, activation='relu', padding='same'))\n",
        "model.add(MaxPooling1D(2))\n",
        "model.add(Conv1D(num_filters*2, 7, activation='relu', padding='same'))\n",
        "model.add(GlobalMaxPooling1D())\n",
        "model.add(Dropout(0.5))\n",
        "model.add(Dense(32, activation='relu'))\n",
        "model.add(Dense(1, activation='sigmoid'))  #multi-label (k-hot encoding)\n",
        "\n",
        "adam = tf.optimizers.Adam(lr=0.001, beta_1=0.9, beta_2=0.999, epsilon=1e-08, decay=0.0)\n",
        "model.compile(loss='binary_crossentropy', optimizer=adam, metrics=['accuracy'])\n",
        "model.summary()"
      ],
      "execution_count": 16,
      "outputs": [
        {
          "output_type": "stream",
          "name": "stdout",
          "text": [
            "Model: \"sequential\"\n",
            "_________________________________________________________________\n",
            " Layer (type)                Output Shape              Param #   \n",
            "=================================================================\n",
            " embedding (Embedding)       (None, 1000, 100)         3000400   \n",
            "                                                                 \n",
            " conv1d (Conv1D)             (None, 1000, 64)          44864     \n",
            "                                                                 \n",
            " max_pooling1d (MaxPooling1D  (None, 500, 64)          0         \n",
            " )                                                               \n",
            "                                                                 \n",
            " conv1d_1 (Conv1D)           (None, 500, 128)          57472     \n",
            "                                                                 \n",
            " global_max_pooling1d (Globa  (None, 128)              0         \n",
            " lMaxPooling1D)                                                  \n",
            "                                                                 \n",
            " dropout (Dropout)           (None, 128)               0         \n",
            "                                                                 \n",
            " dense (Dense)               (None, 32)                4128      \n",
            "                                                                 \n",
            " dense_1 (Dense)             (None, 1)                 33        \n",
            "                                                                 \n",
            "=================================================================\n",
            "Total params: 3,106,897\n",
            "Trainable params: 106,497\n",
            "Non-trainable params: 3,000,400\n",
            "_________________________________________________________________\n"
          ]
        },
        {
          "output_type": "stream",
          "name": "stderr",
          "text": [
            "/usr/local/lib/python3.7/dist-packages/keras/optimizer_v2/adam.py:105: UserWarning: The `lr` argument is deprecated, use `learning_rate` instead.\n",
            "  super(Adam, self).__init__(name, **kwargs)\n"
          ]
        }
      ]
    },
    {
      "cell_type": "code",
      "metadata": {
        "id": "fnkm8psrbO3A",
        "outputId": "b25038f2-69b8-41a0-ce5b-c6d4025f5d3a",
        "colab": {
          "base_uri": "https://localhost:8080/"
        }
      },
      "source": [
        "model.fit(data,targets,batch_size=32,epochs=20,validation_split=0.2)"
      ],
      "execution_count": 17,
      "outputs": [
        {
          "output_type": "stream",
          "name": "stdout",
          "text": [
            "Epoch 1/20\n",
            "1250/1250 [==============================] - 25s 10ms/step - loss: 0.4852 - accuracy: 0.7514 - val_loss: 0.3422 - val_accuracy: 0.8515\n",
            "Epoch 2/20\n",
            "1250/1250 [==============================] - 10s 8ms/step - loss: 0.3473 - accuracy: 0.8499 - val_loss: 0.3046 - val_accuracy: 0.8665\n",
            "Epoch 3/20\n",
            "1250/1250 [==============================] - 11s 8ms/step - loss: 0.3135 - accuracy: 0.8652 - val_loss: 0.2947 - val_accuracy: 0.8736\n",
            "Epoch 4/20\n",
            "1250/1250 [==============================] - 11s 8ms/step - loss: 0.2838 - accuracy: 0.8805 - val_loss: 0.3102 - val_accuracy: 0.8621\n",
            "Epoch 5/20\n",
            "1250/1250 [==============================] - 11s 8ms/step - loss: 0.2571 - accuracy: 0.8929 - val_loss: 0.2962 - val_accuracy: 0.8710\n",
            "Epoch 6/20\n",
            "1250/1250 [==============================] - 11s 8ms/step - loss: 0.2349 - accuracy: 0.9036 - val_loss: 0.2824 - val_accuracy: 0.8775\n",
            "Epoch 7/20\n",
            "1250/1250 [==============================] - 11s 8ms/step - loss: 0.2141 - accuracy: 0.9120 - val_loss: 0.3035 - val_accuracy: 0.8694\n",
            "Epoch 8/20\n",
            "1250/1250 [==============================] - 11s 8ms/step - loss: 0.1926 - accuracy: 0.9217 - val_loss: 0.2973 - val_accuracy: 0.8735\n",
            "Epoch 9/20\n",
            "1250/1250 [==============================] - 11s 9ms/step - loss: 0.1777 - accuracy: 0.9290 - val_loss: 0.2925 - val_accuracy: 0.8791\n",
            "Epoch 10/20\n",
            "1250/1250 [==============================] - 11s 9ms/step - loss: 0.1631 - accuracy: 0.9341 - val_loss: 0.3093 - val_accuracy: 0.8822\n",
            "Epoch 11/20\n",
            "1250/1250 [==============================] - 11s 8ms/step - loss: 0.1478 - accuracy: 0.9398 - val_loss: 0.3168 - val_accuracy: 0.8840\n",
            "Epoch 12/20\n",
            "1250/1250 [==============================] - 11s 9ms/step - loss: 0.1367 - accuracy: 0.9451 - val_loss: 0.3084 - val_accuracy: 0.8774\n",
            "Epoch 13/20\n",
            "1250/1250 [==============================] - 11s 9ms/step - loss: 0.1254 - accuracy: 0.9495 - val_loss: 0.3227 - val_accuracy: 0.8739\n",
            "Epoch 14/20\n",
            "1250/1250 [==============================] - 11s 9ms/step - loss: 0.1142 - accuracy: 0.9553 - val_loss: 0.4019 - val_accuracy: 0.8678\n",
            "Epoch 15/20\n",
            "1250/1250 [==============================] - 11s 9ms/step - loss: 0.1078 - accuracy: 0.9577 - val_loss: 0.3802 - val_accuracy: 0.8728\n",
            "Epoch 16/20\n",
            "1250/1250 [==============================] - 11s 9ms/step - loss: 0.1043 - accuracy: 0.9584 - val_loss: 0.3847 - val_accuracy: 0.8708\n",
            "Epoch 17/20\n",
            "1250/1250 [==============================] - 11s 9ms/step - loss: 0.0964 - accuracy: 0.9626 - val_loss: 0.3928 - val_accuracy: 0.8762\n",
            "Epoch 18/20\n",
            "1250/1250 [==============================] - 11s 9ms/step - loss: 0.0921 - accuracy: 0.9641 - val_loss: 0.4517 - val_accuracy: 0.8610\n",
            "Epoch 19/20\n",
            "1250/1250 [==============================] - 12s 9ms/step - loss: 0.0865 - accuracy: 0.9665 - val_loss: 0.4235 - val_accuracy: 0.8659\n",
            "Epoch 20/20\n",
            "1250/1250 [==============================] - 11s 9ms/step - loss: 0.0781 - accuracy: 0.9699 - val_loss: 0.4253 - val_accuracy: 0.8739\n"
          ]
        },
        {
          "output_type": "execute_result",
          "data": {
            "text/plain": [
              "<keras.callbacks.History at 0x7fcf1ba5c490>"
            ]
          },
          "metadata": {},
          "execution_count": 17
        }
      ]
    },
    {
      "cell_type": "code",
      "metadata": {
        "id": "WymZVTH8b4lQ",
        "outputId": "1302afc8-f3f2-418d-fe53-411e611ddeaa",
        "colab": {
          "base_uri": "https://localhost:8080/"
        }
      },
      "source": [
        "embedding_matrix"
      ],
      "execution_count": 18,
      "outputs": [
        {
          "output_type": "execute_result",
          "data": {
            "text/plain": [
              "array([[ 0.        ,  0.        ,  0.        , ...,  0.        ,\n",
              "         0.        ,  0.        ],\n",
              "       [ 0.        ,  0.        ,  0.        , ...,  0.        ,\n",
              "         0.        ,  0.        ],\n",
              "       [ 0.        ,  0.        ,  0.        , ...,  0.        ,\n",
              "         0.        ,  0.        ],\n",
              "       ...,\n",
              "       [-0.1012    ,  0.20845   , -0.12695   , ..., -0.41696   ,\n",
              "        -0.25486001, -0.76116002],\n",
              "       [ 0.        ,  0.        ,  0.        , ...,  0.        ,\n",
              "         0.        ,  0.        ],\n",
              "       [-0.09534   , -0.46537   , -0.41538   , ...,  0.34659001,\n",
              "        -0.15053   ,  0.49575999]])"
            ]
          },
          "metadata": {},
          "execution_count": 18
        }
      ]
    },
    {
      "cell_type": "code",
      "metadata": {
        "id": "wCaQWMIVdSiI"
      },
      "source": [],
      "execution_count": null,
      "outputs": []
    }
  ]
}