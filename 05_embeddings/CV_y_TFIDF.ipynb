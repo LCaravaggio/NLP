{
  "cells": [
    {
      "cell_type": "markdown",
      "metadata": {
        "id": "TAXIuXm-ep1s"
      },
      "source": [
        "# Information Retrieval"
      ]
    },
    {
      "cell_type": "code",
      "execution_count": 1,
      "metadata": {
        "id": "iBfnE1dLep1v"
      },
      "outputs": [],
      "source": [
        "from sklearn.datasets import fetch_20newsgroups\n",
        "from sklearn.feature_extraction.text import CountVectorizer, TfidfVectorizer\n",
        "from matplotlib import pyplot as plt\n",
        "import numpy as np"
      ]
    },
    {
      "cell_type": "markdown",
      "metadata": {
        "id": "REhXgRYGep1w"
      },
      "source": [
        "<img src=\"https://github.com/deeplearning-itba/NLP-Tecnicas-Tradicionales/blob/master/tf.png?raw=1\" >\n",
        "<img src=\"https://github.com/deeplearning-itba/NLP-Tecnicas-Tradicionales/blob/master/idf.png?raw=1\" >\n",
        "<img src=\"https://github.com/deeplearning-itba/NLP-Tecnicas-Tradicionales/blob/master/tfidf.png?raw=1\" >"
      ]
    },
    {
      "cell_type": "markdown",
      "source": [
        "Cargamos el 20 Newsgroup, un corpus muy usado en NLP. Es una suerte de foro de internet. \n",
        "\n",
        "Página oficial: https://scikit-learn.org/0.19/datasets/twenty_newsgroups.html"
      ],
      "metadata": {
        "id": "HH9UzIPZe-eF"
      }
    },
    {
      "cell_type": "code",
      "execution_count": 2,
      "metadata": {
        "id": "DxDbTVVTep1x"
      },
      "outputs": [],
      "source": [
        "TNG_train = fetch_20newsgroups(subset=\"train\",remove=('headers', 'footers', 'quotes'))"
      ]
    },
    {
      "cell_type": "code",
      "source": [
        "TNG_train.data[0]"
      ],
      "metadata": {
        "id": "XB0mQma1fKDU",
        "outputId": "3a764baf-1e61-40df-f018-284a3bc2f6ff",
        "colab": {
          "base_uri": "https://localhost:8080/",
          "height": 70
        }
      },
      "execution_count": 3,
      "outputs": [
        {
          "output_type": "execute_result",
          "data": {
            "text/plain": [
              "'I was wondering if anyone out there could enlighten me on this car I saw\\nthe other day. It was a 2-door sports car, looked to be from the late 60s/\\nearly 70s. It was called a Bricklin. The doors were really small. In addition,\\nthe front bumper was separate from the rest of the body. This is \\nall I know. If anyone can tellme a model name, engine specs, years\\nof production, where this car is made, history, or whatever info you\\nhave on this funky looking car, please e-mail.'"
            ],
            "application/vnd.google.colaboratory.intrinsic+json": {
              "type": "string"
            }
          },
          "metadata": {},
          "execution_count": 3
        }
      ]
    },
    {
      "cell_type": "code",
      "source": [
        "# Se trata de un corpus con 11314 documentos\n",
        "len(TNG_train.data)"
      ],
      "metadata": {
        "id": "_fc-tPTcoVOR",
        "outputId": "04b6b50c-61f6-4c7f-b6c3-51d93834ff4c",
        "colab": {
          "base_uri": "https://localhost:8080/"
        }
      },
      "execution_count": 4,
      "outputs": [
        {
          "output_type": "execute_result",
          "data": {
            "text/plain": [
              "11314"
            ]
          },
          "metadata": {},
          "execution_count": 4
        }
      ]
    },
    {
      "cell_type": "code",
      "source": [
        "# Le hacemos primero un CountVectorizer con Ngramas de N=1 es decir, unigramas. \n",
        "# El hiperparámetro ngram_range indica el mínimo y el máximo del ngrama. [1,1] significa unigrama. [1,2] significa unigramas y bigramas. [2,2] significa solo bigramas. Etc.\n",
        "cv = CountVectorizer(ngram_range=[1,1], max_df=0.8, min_df=2, max_features=None, stop_words=\"english\")"
      ],
      "metadata": {
        "id": "Riowyk9DfHw9"
      },
      "execution_count": 5,
      "outputs": []
    },
    {
      "cell_type": "code",
      "source": [
        "# Aprende el diccionario y devuelve la matríz término-documento (document-term)\n",
        "TNG_cv = cv.fit_transform(TNG_train.data)"
      ],
      "metadata": {
        "id": "tvltshTBgVM2"
      },
      "execution_count": 7,
      "outputs": []
    },
    {
      "cell_type": "code",
      "source": [
        "#Tamaño del vocabulario\n",
        "print(f'El vocabulario es: {cv.get_feature_names_out()}')\n",
        "print(f'El tamaño del vocabulario es: {len(cv.get_feature_names_out())}')"
      ],
      "metadata": {
        "id": "pvet3JMIgggk",
        "outputId": "ad7bcd16-5b4b-4026-ad57-e758a8bae57e",
        "colab": {
          "base_uri": "https://localhost:8080/"
        }
      },
      "execution_count": 8,
      "outputs": [
        {
          "output_type": "stream",
          "name": "stdout",
          "text": [
            "El vocabulario es: ['00' '000' '0000' ... 'zyra' 'zyxel' 'zz']\n",
            "El tamaño del vocabulario es: 39115\n"
          ]
        }
      ]
    },
    {
      "cell_type": "code",
      "source": [
        "# Por ejemplo la palabra \"wondering\" es la palabra 37946\n",
        "cv.get_feature_names_out()[37946]"
      ],
      "metadata": {
        "id": "H7Ct8RSAms8t",
        "outputId": "53782d29-b2d5-4eb6-842e-6a7351d5731b",
        "colab": {
          "base_uri": "https://localhost:8080/",
          "height": 35
        }
      },
      "execution_count": 9,
      "outputs": [
        {
          "output_type": "execute_result",
          "data": {
            "text/plain": [
              "'wondering'"
            ],
            "application/vnd.google.colaboratory.intrinsic+json": {
              "type": "string"
            }
          },
          "metadata": {},
          "execution_count": 9
        }
      ]
    },
    {
      "cell_type": "code",
      "source": [
        "# La palabra 8308 es la palabra \"car\" que en el documento 0 aparece 4 veces\n",
        "cv.get_feature_names_out()[8308]"
      ],
      "metadata": {
        "id": "3mvHGaOBvsSN",
        "outputId": "714f57eb-1b4e-4cc0-eb00-20c339df73f4",
        "colab": {
          "base_uri": "https://localhost:8080/",
          "height": 35
        }
      },
      "execution_count": 10,
      "outputs": [
        {
          "output_type": "execute_result",
          "data": {
            "text/plain": [
              "'car'"
            ],
            "application/vnd.google.colaboratory.intrinsic+json": {
              "type": "string"
            }
          },
          "metadata": {},
          "execution_count": 10
        }
      ]
    },
    {
      "cell_type": "code",
      "source": [
        "# La matríz aprendida es la siguiente: \n",
        "# (# de documento, palabra) Frecuencia de la palabra\n",
        "# Vemos que por ejemplo, la palabra \"wondering\" (37946) aparece 1 vez en el documento 0, y la palabra \"car\" (8308) aparece 4 veces\n",
        "print(TNG_cv[0])"
      ],
      "metadata": {
        "id": "Lo_FRGSHkq9Y",
        "outputId": "d4c2229a-6ab6-4dad-b504-ac25b1d45648",
        "colab": {
          "base_uri": "https://localhost:8080/"
        }
      },
      "execution_count": 11,
      "outputs": [
        {
          "output_type": "stream",
          "name": "stdout",
          "text": [
            "  (0, 37946)\t1\n",
            "  (0, 13755)\t1\n",
            "  (0, 8308)\t4\n",
            "  (0, 30936)\t1\n",
            "  (0, 11269)\t1\n",
            "  (0, 12709)\t1\n",
            "  (0, 32807)\t1\n",
            "  (0, 21663)\t1\n",
            "  (0, 20958)\t1\n",
            "  (0, 2582)\t1\n",
            "  (0, 13133)\t1\n",
            "  (0, 2918)\t1\n",
            "  (0, 8160)\t1\n",
            "  (0, 7618)\t1\n",
            "  (0, 12710)\t1\n",
            "  (0, 29041)\t1\n",
            "  (0, 32237)\t1\n",
            "  (0, 4348)\t1\n",
            "  (0, 7843)\t1\n",
            "  (0, 31406)\t1\n",
            "  (0, 29858)\t1\n",
            "  (0, 7279)\t1\n",
            "  (0, 20611)\t1\n",
            "  (0, 23553)\t1\n",
            "  (0, 13725)\t1\n",
            "  (0, 32669)\t1\n",
            "  (0, 38743)\t1\n",
            "  (0, 27879)\t1\n",
            "  (0, 17670)\t1\n",
            "  (0, 18895)\t1\n",
            "  (0, 15821)\t1\n",
            "  (0, 21665)\t1\n",
            "  (0, 22151)\t1\n"
          ]
        }
      ]
    },
    {
      "cell_type": "code",
      "execution_count": 43,
      "metadata": {
        "id": "M-PdvSGDep1x"
      },
      "outputs": [],
      "source": [
        "# Ahora hacemos lo mismo pero con TF-IDF. \n",
        "tfidf = TfidfVectorizer(ngram_range=[1,1], max_df=0.8, min_df=2, max_features=None, stop_words=\"english\")"
      ]
    },
    {
      "cell_type": "code",
      "execution_count": 44,
      "metadata": {
        "id": "pRLBeyE_ep1x"
      },
      "outputs": [],
      "source": [
        "TNG_tfidf = tfidf.fit_transform(TNG_train.data)"
      ]
    },
    {
      "cell_type": "code",
      "execution_count": 45,
      "metadata": {
        "id": "wc9LdzNMep1y",
        "outputId": "e9836f62-6c62-4b7f-d93d-4ccfc156763e",
        "colab": {
          "base_uri": "https://localhost:8080/"
        }
      },
      "outputs": [
        {
          "output_type": "stream",
          "name": "stdout",
          "text": [
            "El vocabulario es: ['00' '000' '0000' ... 'zyra' 'zyxel' 'zz']\n",
            "El tamaño del vocabulario es 39115\n"
          ]
        }
      ],
      "source": [
        "#Tamaño del vocabulario\n",
        "print(f'El vocabulario es: {tfidf.get_feature_names_out()}')\n",
        "print(f'El tamaño del vocabulario es {len(tfidf.get_feature_names_out())}')"
      ]
    },
    {
      "cell_type": "code",
      "source": [
        "# Los TF-IDF de las palabras que aparecen en el documento 0 son: \n",
        "print(TNG_tfidf[0])"
      ],
      "metadata": {
        "id": "-DdmVzNtkVeF",
        "outputId": "ec0e3a4e-beb2-40f6-dd6f-0e4823e3c274",
        "colab": {
          "base_uri": "https://localhost:8080/"
        }
      },
      "execution_count": 46,
      "outputs": [
        {
          "output_type": "stream",
          "name": "stdout",
          "text": [
            "  (0, 22151)\t0.10396051237321427\n",
            "  (0, 21665)\t0.11007653069893181\n",
            "  (0, 15821)\t0.2324229188539594\n",
            "  (0, 18895)\t0.12286163476134078\n",
            "  (0, 17670)\t0.1294269337268942\n",
            "  (0, 27879)\t0.16708065283081955\n",
            "  (0, 38743)\t0.09748726353486545\n",
            "  (0, 32669)\t0.16901913983257422\n",
            "  (0, 13725)\t0.14844163424911688\n",
            "  (0, 23553)\t0.1349446029089722\n",
            "  (0, 20611)\t0.07206126976917929\n",
            "  (0, 7279)\t0.13390755224706044\n",
            "  (0, 29858)\t0.12624893011850072\n",
            "  (0, 31406)\t0.15125511337699807\n",
            "  (0, 7843)\t0.20333333052721358\n",
            "  (0, 4348)\t0.14571395198164722\n",
            "  (0, 32237)\t0.11737033758458042\n",
            "  (0, 29041)\t0.0929308972760759\n",
            "  (0, 12710)\t0.1790749113452763\n",
            "  (0, 7618)\t0.2559007494060315\n",
            "  (0, 8160)\t0.10918185278570516\n",
            "  (0, 2918)\t0.2132164593387706\n",
            "  (0, 13133)\t0.13111279915073967\n",
            "  (0, 2582)\t0.21526992187435123\n",
            "  (0, 20958)\t0.1430729961195483\n",
            "  (0, 21663)\t0.13994963781616476\n",
            "  (0, 32807)\t0.16942365889853395\n",
            "  (0, 12709)\t0.15368535290883154\n",
            "  (0, 11269)\t0.10895113485078661\n",
            "  (0, 30936)\t0.1315248374330207\n",
            "  (0, 8308)\t0.4821319790419168\n",
            "  (0, 13755)\t0.2132164593387706\n",
            "  (0, 37946)\t0.1418412793902011\n"
          ]
        }
      ]
    },
    {
      "cell_type": "code",
      "source": [
        "# La palabra 22151 es la palabra \"mail\" que en el documento 0 aparece 1 vez\n",
        "tfidf.get_feature_names_out()[22151]"
      ],
      "metadata": {
        "id": "BUHEZ94gwzNi",
        "outputId": "4c6ef130-80ad-4eea-c65d-48dcc8718484",
        "colab": {
          "base_uri": "https://localhost:8080/",
          "height": 35
        }
      },
      "execution_count": 47,
      "outputs": [
        {
          "output_type": "execute_result",
          "data": {
            "text/plain": [
              "'mail'"
            ],
            "application/vnd.google.colaboratory.intrinsic+json": {
              "type": "string"
            }
          },
          "metadata": {},
          "execution_count": 47
        }
      ]
    },
    {
      "cell_type": "markdown",
      "metadata": {
        "id": "ARf0Fgx5ep1z"
      },
      "source": [
        "# Cálculo del Document Frecuency de cada palabra"
      ]
    },
    {
      "cell_type": "code",
      "execution_count": 48,
      "metadata": {
        "id": "eYQpBb4vep10"
      },
      "outputs": [],
      "source": [
        "doc_freq = np.array(TNG_cv.astype(bool).sum(axis=0)).flatten()"
      ]
    },
    {
      "cell_type": "code",
      "source": [
        "# Así, en doc_freq tengo la cantidad de apariciones de cada una de las palabras\n",
        "doc_freq"
      ],
      "metadata": {
        "id": "2OlPMZ9IkJCw",
        "outputId": "74b710e7-4f6a-4000-a91e-1a8ae501314f",
        "colab": {
          "base_uri": "https://localhost:8080/"
        }
      },
      "execution_count": 49,
      "outputs": [
        {
          "output_type": "execute_result",
          "data": {
            "text/plain": [
              "array([243, 262,   7, ...,   2,   4,   7])"
            ]
          },
          "metadata": {},
          "execution_count": 49
        }
      ]
    },
    {
      "cell_type": "code",
      "source": [
        "# El vacabulario es de 39115 palabras, pero en total hay 693602 palabras (porque algunas palabras se repiten)\n",
        "doc_freq.sum()"
      ],
      "metadata": {
        "id": "9uyRYcXeTsf6",
        "outputId": "0ab23cb9-994b-4193-a4b2-c74cd428cb74",
        "colab": {
          "base_uri": "https://localhost:8080/"
        }
      },
      "execution_count": 50,
      "outputs": [
        {
          "output_type": "execute_result",
          "data": {
            "text/plain": [
              "693602"
            ]
          },
          "metadata": {},
          "execution_count": 50
        }
      ]
    },
    {
      "cell_type": "code",
      "source": [
        "# La palabra \"mail\" aparece 721 veces en total\n",
        "mail=doc_freq[22151]\n",
        "print(mail)"
      ],
      "metadata": {
        "id": "AZ3UE3Te0R4R",
        "outputId": "f4769a1f-f576-460f-f0c9-a869f5a78b47",
        "colab": {
          "base_uri": "https://localhost:8080/"
        }
      },
      "execution_count": 51,
      "outputs": [
        {
          "output_type": "stream",
          "name": "stdout",
          "text": [
            "721\n"
          ]
        }
      ]
    },
    {
      "cell_type": "code",
      "source": [
        "# Hay en total 11314 documentos (esto ya lo habíamos calculado)\n",
        "N=len(TNG_train.data)\n",
        "print(N)"
      ],
      "metadata": {
        "id": "GSVrK7_-yqTZ",
        "outputId": "89618901-a19b-4d84-c144-f3e053cabf53",
        "colab": {
          "base_uri": "https://localhost:8080/"
        }
      },
      "execution_count": 52,
      "outputs": [
        {
          "output_type": "stream",
          "name": "stdout",
          "text": [
            "11314\n"
          ]
        }
      ]
    },
    {
      "cell_type": "code",
      "source": [
        "# La palabra \"mail\" aparece en 1149 de esos documentos\n",
        "df=0\n",
        "name=cv.get_feature_names_out()[22151]\n",
        "for n in TNG_train.data: \n",
        "  if name in n: df+=1\n",
        "print(df)"
      ],
      "metadata": {
        "id": "Zl4Xb4qQQ7iw",
        "outputId": "11d24046-9883-43c1-c68d-9c78850e139d",
        "colab": {
          "base_uri": "https://localhost:8080/"
        }
      },
      "execution_count": 53,
      "outputs": [
        {
          "output_type": "stream",
          "name": "stdout",
          "text": [
            "1149\n"
          ]
        }
      ]
    },
    {
      "cell_type": "code",
      "source": [
        "# El Inverse document frecuency es: \n",
        "idf = np.log(N/df)\n",
        "print(idf)"
      ],
      "metadata": {
        "id": "Vfwyq8QfNUo6",
        "outputId": "0824b9c5-6ba8-48fd-e518-8155dce60971",
        "colab": {
          "base_uri": "https://localhost:8080/"
        }
      },
      "execution_count": 54,
      "outputs": [
        {
          "output_type": "stream",
          "name": "stdout",
          "text": [
            "2.2871488980543453\n"
          ]
        }
      ]
    },
    {
      "cell_type": "code",
      "source": [
        "# El TF es la cantidad de veces que aparece el término en el documento sobre la cantidad de palabras en el documento\n",
        "tf=1/33\n",
        "print(tf)"
      ],
      "metadata": {
        "id": "Lr_VTp_kO2YZ",
        "outputId": "2f92b243-096b-4c72-b57f-f67f9bf6fce0",
        "colab": {
          "base_uri": "https://localhost:8080/"
        }
      },
      "execution_count": 55,
      "outputs": [
        {
          "output_type": "stream",
          "name": "stdout",
          "text": [
            "0.030303030303030304\n"
          ]
        }
      ]
    },
    {
      "cell_type": "code",
      "source": [
        "tfidf_manual=tf*idf\n",
        "print(tfidf_manual)"
      ],
      "metadata": {
        "id": "4JxIxayXO_Ag",
        "outputId": "3e72cd3e-68d2-4b12-a982-3b1e0be2371e",
        "colab": {
          "base_uri": "https://localhost:8080/"
        }
      },
      "execution_count": 56,
      "outputs": [
        {
          "output_type": "stream",
          "name": "stdout",
          "text": [
            "0.06930754236528319\n"
          ]
        }
      ]
    },
    {
      "cell_type": "markdown",
      "source": [
        "¿Por qué no coincide con lo que calcula Sklearn? \n",
        "Porque sklearn normaliza a la norma Euclidea\n",
        "\n",
        "<img src=\"https://miro.medium.com/max/630/1*nQVx6kHQRgz5B2-7TrI3LA.png\">\n",
        "\n",
        "Y ajusta con +1 la fórmula para evitar los casos igual a cero. \n",
        "\n",
        "<img src=\"https://miro.medium.com/max/290/1*ckcDta2x-ZskdzvG0gjD-A.png\">\n",
        "\n",
        "https://towardsdatascience.com/measure-text-weight-using-tf-idf-in-python-plain-code-and-scikit-learn-50cb1e4375ad"
      ],
      "metadata": {
        "id": "J1boSfZOkbBl"
      }
    },
    {
      "cell_type": "code",
      "execution_count": 57,
      "metadata": {
        "id": "TQo9bXPaep11",
        "outputId": "5dc758b7-01b2-477f-e28b-b32c33fc5298",
        "colab": {
          "base_uri": "https://localhost:8080/",
          "height": 265
        }
      },
      "outputs": [
        {
          "output_type": "display_data",
          "data": {
            "text/plain": [
              "<Figure size 432x288 with 1 Axes>"
            ],
            "image/png": "[encoded data removed]"
          },
          "metadata": {
            "needs_background": "light"
          }
        }
      ],
      "source": [
        "# Podemos ver la cola larga de la frecuencia de palabras\n",
        "# Incluso habiendo eliminado stopwords e incluso en escala logarítmica\n",
        "a = plt.hist(doc_freq, bins=100,log=True)\n",
        "plt.show()"
      ]
    },
    {
      "cell_type": "markdown",
      "source": [
        "# Topic modelling"
      ],
      "metadata": {
        "id": "MlfWZwC2Vbgv"
      }
    },
    {
      "cell_type": "code",
      "source": [
        "# Además de los documentos el corpus tiene información de las categorías\n",
        "TNG_train.keys()"
      ],
      "metadata": {
        "colab": {
          "base_uri": "https://localhost:8080/"
        },
        "id": "octAM5AXVVCA",
        "outputId": "8c831c94-4dfb-4cbe-9763-c1bfb252431d"
      },
      "execution_count": 58,
      "outputs": [
        {
          "output_type": "execute_result",
          "data": {
            "text/plain": [
              "dict_keys(['data', 'filenames', 'target_names', 'target', 'DESCR'])"
            ]
          },
          "metadata": {},
          "execution_count": 58
        }
      ]
    },
    {
      "cell_type": "code",
      "source": [
        "TNG_train.target_names"
      ],
      "metadata": {
        "colab": {
          "base_uri": "https://localhost:8080/"
        },
        "id": "G_CJyBw7V0bZ",
        "outputId": "c577bee0-9b59-4bd5-cf11-5698bd080c9b"
      },
      "execution_count": 59,
      "outputs": [
        {
          "output_type": "execute_result",
          "data": {
            "text/plain": [
              "['alt.atheism',\n",
              " 'comp.graphics',\n",
              " 'comp.os.ms-windows.misc',\n",
              " 'comp.sys.ibm.pc.hardware',\n",
              " 'comp.sys.mac.hardware',\n",
              " 'comp.windows.x',\n",
              " 'misc.forsale',\n",
              " 'rec.autos',\n",
              " 'rec.motorcycles',\n",
              " 'rec.sport.baseball',\n",
              " 'rec.sport.hockey',\n",
              " 'sci.crypt',\n",
              " 'sci.electronics',\n",
              " 'sci.med',\n",
              " 'sci.space',\n",
              " 'soc.religion.christian',\n",
              " 'talk.politics.guns',\n",
              " 'talk.politics.mideast',\n",
              " 'talk.politics.misc',\n",
              " 'talk.religion.misc']"
            ]
          },
          "metadata": {},
          "execution_count": 59
        }
      ]
    },
    {
      "cell_type": "code",
      "source": [
        "import seaborn as sns\n",
        "sns.distplot(TNG_train.target)"
      ],
      "metadata": {
        "colab": {
          "base_uri": "https://localhost:8080/",
          "height": 340
        },
        "id": "l_8kQol9Yrkz",
        "outputId": "262b950b-8691-4be9-99b3-de60a8fbe51e"
      },
      "execution_count": 67,
      "outputs": [
        {
          "output_type": "stream",
          "name": "stderr",
          "text": [
            "/usr/local/lib/python3.7/dist-packages/seaborn/distributions.py:2619: FutureWarning: `distplot` is a deprecated function and will be removed in a future version. Please adapt your code to use either `displot` (a figure-level function with similar flexibility) or `histplot` (an axes-level function for histograms).\n",
            "  warnings.warn(msg, FutureWarning)\n"
          ]
        },
        {
          "output_type": "execute_result",
          "data": {
            "text/plain": [
              "<matplotlib.axes._subplots.AxesSubplot at 0x7f48ba349050>"
            ]
          },
          "metadata": {},
          "execution_count": 67
        },
        {
          "output_type": "display_data",
          "data": {
            "text/plain": [
              "<Figure size 432x288 with 1 Axes>"
            ],
            "image/png": "[encoded data removed]"
          },
          "metadata": {
            "needs_background": "light"
          }
        }
      ]
    },
    {
      "cell_type": "code",
      "source": [
        "# El documento 0 es: \n",
        "TNG_train.data[0]"
      ],
      "metadata": {
        "colab": {
          "base_uri": "https://localhost:8080/",
          "height": 70
        },
        "id": "ZZdt417QV4C_",
        "outputId": "db9c452c-5916-4c7c-adf7-43cbaac805e6"
      },
      "execution_count": 60,
      "outputs": [
        {
          "output_type": "execute_result",
          "data": {
            "text/plain": [
              "'I was wondering if anyone out there could enlighten me on this car I saw\\nthe other day. It was a 2-door sports car, looked to be from the late 60s/\\nearly 70s. It was called a Bricklin. The doors were really small. In addition,\\nthe front bumper was separate from the rest of the body. This is \\nall I know. If anyone can tellme a model name, engine specs, years\\nof production, where this car is made, history, or whatever info you\\nhave on this funky looking car, please e-mail.'"
            ],
            "application/vnd.google.colaboratory.intrinsic+json": {
              "type": "string"
            }
          },
          "metadata": {},
          "execution_count": 60
        }
      ]
    },
    {
      "cell_type": "code",
      "source": [
        "# Y tiene como tópico el número 7\n",
        "TNG_train.target[0]"
      ],
      "metadata": {
        "colab": {
          "base_uri": "https://localhost:8080/"
        },
        "id": "wKSuYU9gVswz",
        "outputId": "4f6eba6a-48c4-4988-ff2e-8ed10bd0b915"
      },
      "execution_count": 61,
      "outputs": [
        {
          "output_type": "execute_result",
          "data": {
            "text/plain": [
              "7"
            ]
          },
          "metadata": {},
          "execution_count": 61
        }
      ]
    },
    {
      "cell_type": "code",
      "source": [
        "# que corresponde a la categoría autos\n",
        "TNG_train.target_names[7]"
      ],
      "metadata": {
        "colab": {
          "base_uri": "https://localhost:8080/",
          "height": 35
        },
        "id": "0Pn2OYjYVvQy",
        "outputId": "d74d318e-5352-4433-dbc5-84076209be8c"
      },
      "execution_count": 62,
      "outputs": [
        {
          "output_type": "execute_result",
          "data": {
            "text/plain": [
              "'rec.autos'"
            ],
            "application/vnd.google.colaboratory.intrinsic+json": {
              "type": "string"
            }
          },
          "metadata": {},
          "execution_count": 62
        }
      ]
    },
    {
      "cell_type": "code",
      "source": [
        "# El TFIDF del doc 0 con máximo valor es el 8308\n",
        "TNG_tfidf[0].argmax()"
      ],
      "metadata": {
        "colab": {
          "base_uri": "https://localhost:8080/"
        },
        "id": "evpwDLN-V95v",
        "outputId": "77e01cbb-471b-41f2-9b52-d170fabfdbdc"
      },
      "execution_count": 63,
      "outputs": [
        {
          "output_type": "execute_result",
          "data": {
            "text/plain": [
              "8308"
            ]
          },
          "metadata": {},
          "execution_count": 63
        }
      ]
    },
    {
      "cell_type": "code",
      "source": [
        "# Que corresponde a la palabra auto! \n",
        "tfidf.get_feature_names_out()[TNG_tfidf[0].argmax()]"
      ],
      "metadata": {
        "colab": {
          "base_uri": "https://localhost:8080/",
          "height": 35
        },
        "id": "-gJBa-y7W4Ta",
        "outputId": "d8b34583-f549-4d7a-c3d0-2e581725cc35"
      },
      "execution_count": 64,
      "outputs": [
        {
          "output_type": "execute_result",
          "data": {
            "text/plain": [
              "'car'"
            ],
            "application/vnd.google.colaboratory.intrinsic+json": {
              "type": "string"
            }
          },
          "metadata": {},
          "execution_count": 64
        }
      ]
    },
    {
      "cell_type": "code",
      "execution_count": 66,
      "metadata": {
        "id": "ljaTvjI3ep17",
        "colab": {
          "base_uri": "https://localhost:8080/"
        },
        "outputId": "e47c6cbc-8605-4bea-bfdd-5519c05e0485"
      },
      "outputs": [
        {
          "output_type": "stream",
          "name": "stdout",
          "text": [
            "0: rec.autos: car\n",
            "1: comp.sys.mac.hardware: poll\n",
            "2: comp.sys.mac.hardware: 180\n",
            "3: comp.graphics: weitek\n",
            "4: sci.space: std\n",
            "5: talk.politics.guns: weapons\n",
            "6: sci.med: thank\n",
            "7: comp.sys.ibm.pc.hardware: scsi\n",
            "8: comp.os.ms-windows.misc: icons\n",
            "9: comp.sys.mac.hardware: board\n"
          ]
        }
      ],
      "source": [
        "# Estos son los resultados para los primeros 10 documentos. \n",
        "# Está bien, pero podría estar mejor.\n",
        "for doc in range(0,10):\n",
        "  print(f'{doc}: {TNG_train.target_names[TNG_train.target[doc]]}: {tfidf.get_feature_names_out()[TNG_tfidf[doc].argmax()]}')"
      ]
    },
    {
      "cell_type": "code",
      "source": [
        "# Para mejorarlo vamos a eliminar los números y lemmatizar las palabras\n",
        "def letters_only(astr) :\n",
        "  return astr.isalpha()"
      ],
      "metadata": {
        "id": "OEHa7M5UY2JE"
      },
      "execution_count": 68,
      "outputs": []
    },
    {
      "cell_type": "code",
      "source": [
        "import nltk\n",
        "from nltk.corpus import names\n",
        "from nltk.stem import WordNetLemmatizer\n",
        "\n",
        "nltk.download('names')\n",
        "nltk.download('wordnet')\n",
        "nltk.download('omw-1.4')\n",
        "\n",
        "all_names = set(names.words())\n",
        "lemmatizer = WordNetLemmatizer()"
      ],
      "metadata": {
        "colab": {
          "base_uri": "https://localhost:8080/"
        },
        "id": "NXq2veC9Y8Ku",
        "outputId": "d2b90245-5470-401d-8d72-d2299b42d27a"
      },
      "execution_count": 77,
      "outputs": [
        {
          "output_type": "stream",
          "name": "stderr",
          "text": [
            "[nltk_data] Downloading package names to /root/nltk_data...\n",
            "[nltk_data]   Package names is already up-to-date!\n",
            "[nltk_data] Downloading package wordnet to /root/nltk_data...\n",
            "[nltk_data]   Package wordnet is already up-to-date!\n",
            "[nltk_data] Downloading package omw-1.4 to /root/nltk_data...\n"
          ]
        }
      ]
    },
    {
      "cell_type": "code",
      "source": [
        "# todo a lowercase\n",
        "data_=[]\n",
        "for story in TNG_train.data:\n",
        "    new=story.lower()\n",
        "    data_.append(new)"
      ],
      "metadata": {
        "id": "StEov_C7cs3j"
      },
      "execution_count": 91,
      "outputs": []
    },
    {
      "cell_type": "code",
      "source": [
        "TNG_train.data[0]"
      ],
      "metadata": {
        "id": "CXyMIR2Ga6yc",
        "outputId": "54b1ecdd-9e9e-4bc2-febc-16b8cc47d411",
        "colab": {
          "base_uri": "https://localhost:8080/",
          "height": 70
        }
      },
      "execution_count": 89,
      "outputs": [
        {
          "output_type": "execute_result",
          "data": {
            "text/plain": [
              "'I was wondering if anyone out there could enlighten me on this car I saw\\nthe other day. It was a 2-door sports car, looked to be from the late 60s/\\nearly 70s. It was called a Bricklin. The doors were really small. In addition,\\nthe front bumper was separate from the rest of the body. This is \\nall I know. If anyone can tellme a model name, engine specs, years\\nof production, where this car is made, history, or whatever info you\\nhave on this funky looking car, please e-mail.'"
            ],
            "application/vnd.google.colaboratory.intrinsic+json": {
              "type": "string"
            }
          },
          "metadata": {},
          "execution_count": 89
        }
      ]
    },
    {
      "cell_type": "code",
      "source": [
        "data_[0]"
      ],
      "metadata": {
        "id": "rEY3he0RcwWf",
        "outputId": "092a4c3e-a917-42c9-b78b-fd7c534ac799",
        "colab": {
          "base_uri": "https://localhost:8080/",
          "height": 70
        }
      },
      "execution_count": 93,
      "outputs": [
        {
          "output_type": "execute_result",
          "data": {
            "text/plain": [
              "'i was wondering if anyone out there could enlighten me on this car i saw\\nthe other day. it was a 2-door sports car, looked to be from the late 60s/\\nearly 70s. it was called a bricklin. the doors were really small. in addition,\\nthe front bumper was separate from the rest of the body. this is \\nall i know. if anyone can tellme a model name, engine specs, years\\nof production, where this car is made, history, or whatever info you\\nhave on this funky looking car, please e-mail.'"
            ],
            "application/vnd.google.colaboratory.intrinsic+json": {
              "type": "string"
            }
          },
          "metadata": {},
          "execution_count": 93
        }
      ]
    },
    {
      "cell_type": "code",
      "source": [
        "from nltk.tokenize import word_tokenize \n",
        "nltk.download('punkt')"
      ],
      "metadata": {
        "id": "8fjFMEOobDnd",
        "outputId": "8ef6dfb2-d775-4e0b-d1e4-279479204e94",
        "colab": {
          "base_uri": "https://localhost:8080/"
        }
      },
      "execution_count": 100,
      "outputs": [
        {
          "output_type": "stream",
          "name": "stderr",
          "text": [
            "[nltk_data] Downloading package punkt to /root/nltk_data...\n",
            "[nltk_data]   Package punkt is already up-to-date!\n"
          ]
        }
      ]
    },
    {
      "cell_type": "code",
      "source": [
        "newsgroups_lemma=[]\n",
        "for story in data_:\n",
        "    words=word_tokenize(story)\n",
        "    text=\"\"\n",
        "    for words in word_tokenize(story):\n",
        "        if letters_only(words):\n",
        "          lemma_word=lemmatizer.lemmatize(words)\n",
        "          extra=\" \"+str(lemma_word)\n",
        "          text+=extra\n",
        "    newsgroups_lemma.append(text)"
      ],
      "metadata": {
        "id": "BkejeLvlecWq"
      },
      "execution_count": null,
      "outputs": []
    },
    {
      "cell_type": "code",
      "source": [
        "newsgroups_lemma[0]"
      ],
      "metadata": {
        "id": "ZDrPB0HrdkQj",
        "outputId": "90a803b7-5c8f-4538-bc08-4c70c234d1ee",
        "colab": {
          "base_uri": "https://localhost:8080/",
          "height": 70
        }
      },
      "execution_count": 101,
      "outputs": [
        {
          "output_type": "execute_result",
          "data": {
            "text/plain": [
              "' i wa wondering if anyone out there could enlighten me on this car i saw the other day it wa a sport car looked to be from the late early it wa called a bricklin the door were really small in addition the front bumper wa separate from the rest of the body this is all i know if anyone can tellme a model name engine spec year of production where this car is made history or whatever info you have on this funky looking car please'"
            ],
            "application/vnd.google.colaboratory.intrinsic+json": {
              "type": "string"
            }
          },
          "metadata": {},
          "execution_count": 101
        }
      ]
    },
    {
      "cell_type": "code",
      "source": [
        "TNG_tfidf_cleaned = tfidf.fit_transform(newsgroups_lemma)"
      ],
      "metadata": {
        "id": "tGN2VsJCaZtS"
      },
      "execution_count": 102,
      "outputs": []
    },
    {
      "cell_type": "code",
      "source": [
        "for doc in range(0,10):\n",
        "  print(f'{doc}: {TNG_train.target_names[TNG_train.target[doc]]}: {tfidf.get_feature_names_out()[TNG_tfidf_cleaned[doc].argmax()]}')"
      ],
      "metadata": {
        "id": "5Pd1jL8Kd2hf",
        "outputId": "9e5f1a3f-8cb6-4936-b513-cb900fdf9cc1",
        "colab": {
          "base_uri": "https://localhost:8080/"
        }
      },
      "execution_count": 103,
      "outputs": [
        {
          "output_type": "stream",
          "name": "stdout",
          "text": [
            "0: rec.autos: car\n",
            "1: comp.sys.mac.hardware: poll\n",
            "2: comp.sys.mac.hardware: powerbook\n",
            "3: comp.graphics: weitek\n",
            "4: sci.space: bug\n",
            "5: talk.politics.guns: weapon\n",
            "6: sci.med: thank\n",
            "7: comp.sys.ibm.pc.hardware: burst\n",
            "8: comp.os.ms-windows.misc: icon\n",
            "9: comp.sys.mac.hardware: board\n"
          ]
        }
      ]
    }
  ],
  "metadata": {
    "kernelspec": {
      "display_name": "Python [conda env:NLP]",
      "language": "python",
      "name": "conda-env-NLP-py"
    },
    "language_info": {
      "codemirror_mode": {
        "name": "ipython",
        "version": 3
      },
      "file_extension": ".py",
      "mimetype": "text/x-python",
      "name": "python",
      "nbconvert_exporter": "python",
      "pygments_lexer": "ipython3",
      "version": "3.7.3"
    },
    "colab": {
      "provenance": []
    }
  },
  "nbformat": 4,
  "nbformat_minor": 0
}