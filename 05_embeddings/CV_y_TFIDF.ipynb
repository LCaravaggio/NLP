{
  "cells": [
    {
      "cell_type": "markdown",
      "metadata": {
        "id": "TAXIuXm-ep1s"
      },
      "source": [
        "# Information Retrieval"
      ]
    },
    {
      "cell_type": "code",
      "execution_count": 1,
      "metadata": {
        "id": "iBfnE1dLep1v"
      },
      "outputs": [],
      "source": [
        "from sklearn.datasets import fetch_20newsgroups\n",
        "from sklearn.feature_extraction.text import CountVectorizer, TfidfVectorizer\n",
        "from matplotlib import pyplot as plt\n",
        "import numpy as np"
      ]
    },
    {
      "cell_type": "markdown",
      "metadata": {
        "id": "REhXgRYGep1w"
      },
      "source": [
        "<img src=\"https://github.com/deeplearning-itba/NLP-Tecnicas-Tradicionales/blob/master/tf.png?raw=1\" >\n",
        "<img src=\"https://github.com/deeplearning-itba/NLP-Tecnicas-Tradicionales/blob/master/idf.png?raw=1\" >\n",
        "<img src=\"https://github.com/deeplearning-itba/NLP-Tecnicas-Tradicionales/blob/master/tfidf.png?raw=1\" >"
      ]
    },
    {
      "cell_type": "markdown",
      "source": [
        "Cargamos el 20 Newsgroup, un corpus muy usado en NLP. Es una suerte de foro de internet. \n",
        "\n",
        "Página oficial: https://scikit-learn.org/0.19/datasets/twenty_newsgroups.html"
      ],
      "metadata": {
        "id": "HH9UzIPZe-eF"
      }
    },
    {
      "cell_type": "code",
      "execution_count": 2,
      "metadata": {
        "id": "DxDbTVVTep1x"
      },
      "outputs": [],
      "source": [
        "TNG_train = fetch_20newsgroups(subset=\"train\",remove=('headers', 'footers', 'quotes'))"
      ]
    },
    {
      "cell_type": "code",
      "source": [
        "TNG_train.data[0]"
      ],
      "metadata": {
        "id": "XB0mQma1fKDU",
        "outputId": "1a779bea-bb8e-4546-bea3-1fef688bf53e",
        "colab": {
          "base_uri": "https://localhost:8080/",
          "height": 70
        }
      },
      "execution_count": 3,
      "outputs": [
        {
          "output_type": "execute_result",
          "data": {
            "text/plain": [
              "'I was wondering if anyone out there could enlighten me on this car I saw\\nthe other day. It was a 2-door sports car, looked to be from the late 60s/\\nearly 70s. It was called a Bricklin. The doors were really small. In addition,\\nthe front bumper was separate from the rest of the body. This is \\nall I know. If anyone can tellme a model name, engine specs, years\\nof production, where this car is made, history, or whatever info you\\nhave on this funky looking car, please e-mail.'"
            ],
            "application/vnd.google.colaboratory.intrinsic+json": {
              "type": "string"
            }
          },
          "metadata": {},
          "execution_count": 3
        }
      ]
    },
    {
      "cell_type": "code",
      "source": [
        "# Se trata de un corpus con 11314 documentos\n",
        "len(TNG_train.data)"
      ],
      "metadata": {
        "id": "_fc-tPTcoVOR",
        "outputId": "f568c1d8-9688-49ae-a39b-341443061371",
        "colab": {
          "base_uri": "https://localhost:8080/"
        }
      },
      "execution_count": 4,
      "outputs": [
        {
          "output_type": "execute_result",
          "data": {
            "text/plain": [
              "11314"
            ]
          },
          "metadata": {},
          "execution_count": 4
        }
      ]
    },
    {
      "cell_type": "code",
      "source": [
        "# Le hacemos primero un CountVectorizer con Ngramas de N=1 es decir, unigramas. \n",
        "# El hiperparámetro ngram_range indica el mínimo y el máximo del ngrama. [1,1] significa unigrama. [1,2] significa unigramas y bigramas. [2,2] significa solo bigramas. Etc.\n",
        "cv = CountVectorizer(ngram_range=[1,1], max_df=0.8, min_df=2, max_features=None, stop_words=\"english\")"
      ],
      "metadata": {
        "id": "Riowyk9DfHw9"
      },
      "execution_count": 5,
      "outputs": []
    },
    {
      "cell_type": "code",
      "source": [
        "#Tamaño del vocabulario\n",
        "print(f'El vocabulario es: {cv.get_feature_names_out()}')\n",
        "print(f'El tamaño del vocabulario es: {len(cv.get_feature_names_out())}')"
      ],
      "metadata": {
        "id": "pvet3JMIgggk",
        "outputId": "e48ca72c-e20e-4508-f84e-4bd347286739",
        "colab": {
          "base_uri": "https://localhost:8080/"
        }
      },
      "execution_count": 7,
      "outputs": [
        {
          "output_type": "stream",
          "name": "stdout",
          "text": [
            "El vocabulario es: ['00' '000' '0000' ... 'zyra' 'zyxel' 'zz']\n",
            "El tamaño del vocabulario es: 39115\n"
          ]
        }
      ]
    },
    {
      "cell_type": "code",
      "source": [
        "# Por ejemplo la palabra \"wondering\" es la palabra 37946\n",
        "cv.get_feature_names_out()[37946]"
      ],
      "metadata": {
        "id": "H7Ct8RSAms8t",
        "outputId": "59489650-7280-4930-984c-ff597dbf2774",
        "colab": {
          "base_uri": "https://localhost:8080/",
          "height": 35
        }
      },
      "execution_count": 8,
      "outputs": [
        {
          "output_type": "execute_result",
          "data": {
            "text/plain": [
              "'wondering'"
            ],
            "application/vnd.google.colaboratory.intrinsic+json": {
              "type": "string"
            }
          },
          "metadata": {},
          "execution_count": 8
        }
      ]
    },
    {
      "cell_type": "code",
      "source": [
        "# La palabra 8308 es la palabra \"car\" que en el documento 0 aparece 4 veces\n",
        "cv.get_feature_names_out()[8308]"
      ],
      "metadata": {
        "id": "3mvHGaOBvsSN",
        "outputId": "962c9c22-2365-4638-fffd-9bd93a45901e",
        "colab": {
          "base_uri": "https://localhost:8080/",
          "height": 35
        }
      },
      "execution_count": 9,
      "outputs": [
        {
          "output_type": "execute_result",
          "data": {
            "text/plain": [
              "'car'"
            ],
            "application/vnd.google.colaboratory.intrinsic+json": {
              "type": "string"
            }
          },
          "metadata": {},
          "execution_count": 9
        }
      ]
    },
    {
      "cell_type": "code",
      "source": [
        "# Aprende el diccionario y devuelve la matríz término-documento (document-term)\n",
        "TNG_cv = cv.fit_transform(TNG_train.data)"
      ],
      "metadata": {
        "id": "tvltshTBgVM2"
      },
      "execution_count": 10,
      "outputs": []
    },
    {
      "cell_type": "code",
      "source": [
        "# La matríz aprendida es la siguiente: \n",
        "# (# de documento, palabra) Frecuencia de la palabra\n",
        "# Vemos que por ejemplo, la palabra \"wondering\" (37946) aparece 1 vez en el documento 0, y la palabra \"car\" (8308) aparece 4 veces\n",
        "print(TNG_cv[0])"
      ],
      "metadata": {
        "id": "Lo_FRGSHkq9Y",
        "outputId": "3b9ad6f9-3001-41fa-e323-f07304e72b70",
        "colab": {
          "base_uri": "https://localhost:8080/"
        }
      },
      "execution_count": 11,
      "outputs": [
        {
          "output_type": "stream",
          "name": "stdout",
          "text": [
            "  (0, 37946)\t1\n",
            "  (0, 13755)\t1\n",
            "  (0, 8308)\t4\n",
            "  (0, 30936)\t1\n",
            "  (0, 11269)\t1\n",
            "  (0, 12709)\t1\n",
            "  (0, 32807)\t1\n",
            "  (0, 21663)\t1\n",
            "  (0, 20958)\t1\n",
            "  (0, 2582)\t1\n",
            "  (0, 13133)\t1\n",
            "  (0, 2918)\t1\n",
            "  (0, 8160)\t1\n",
            "  (0, 7618)\t1\n",
            "  (0, 12710)\t1\n",
            "  (0, 29041)\t1\n",
            "  (0, 32237)\t1\n",
            "  (0, 4348)\t1\n",
            "  (0, 7843)\t1\n",
            "  (0, 31406)\t1\n",
            "  (0, 29858)\t1\n",
            "  (0, 7279)\t1\n",
            "  (0, 20611)\t1\n",
            "  (0, 23553)\t1\n",
            "  (0, 13725)\t1\n",
            "  (0, 32669)\t1\n",
            "  (0, 38743)\t1\n",
            "  (0, 27879)\t1\n",
            "  (0, 17670)\t1\n",
            "  (0, 18895)\t1\n",
            "  (0, 15821)\t1\n",
            "  (0, 21665)\t1\n",
            "  (0, 22151)\t1\n"
          ]
        }
      ]
    },
    {
      "cell_type": "code",
      "execution_count": 12,
      "metadata": {
        "id": "M-PdvSGDep1x"
      },
      "outputs": [],
      "source": [
        "# Ahora hacemos lo mismo pero con TF-IDF. \n",
        "tfidf = TfidfVectorizer(ngram_range=[1,1], max_df=0.8, min_df=2, max_features=None, stop_words=\"english\")"
      ]
    },
    {
      "cell_type": "code",
      "execution_count": 13,
      "metadata": {
        "id": "pRLBeyE_ep1x"
      },
      "outputs": [],
      "source": [
        "TNG_tfidf = tfidf.fit_transform(TNG_train.data)"
      ]
    },
    {
      "cell_type": "code",
      "execution_count": 14,
      "metadata": {
        "id": "wc9LdzNMep1y",
        "outputId": "bf7e24e6-6674-4d75-e0c9-ac2c0d33d60b",
        "colab": {
          "base_uri": "https://localhost:8080/"
        }
      },
      "outputs": [
        {
          "output_type": "stream",
          "name": "stdout",
          "text": [
            "El vocabulario es: ['00' '000' '0000' ... 'zyra' 'zyxel' 'zz']\n",
            "El tamaño del vocabulario es 39115\n"
          ]
        }
      ],
      "source": [
        "#Tamaño del vocabulario\n",
        "print(f'El vocabulario es: {tfidf.get_feature_names_out()}')\n",
        "print(f'El tamaño del vocabulario es {len(tfidf.get_feature_names_out())}')"
      ]
    },
    {
      "cell_type": "code",
      "source": [
        "# Los TF-IDF de las palabras que aparecen en el documento 0 son: \n",
        "print(TNG_tfidf[0])"
      ],
      "metadata": {
        "id": "-DdmVzNtkVeF",
        "outputId": "70ea0f24-b7df-4fe0-875e-65c80e9657aa",
        "colab": {
          "base_uri": "https://localhost:8080/"
        }
      },
      "execution_count": 15,
      "outputs": [
        {
          "output_type": "stream",
          "name": "stdout",
          "text": [
            "  (0, 22151)\t0.10396051237321427\n",
            "  (0, 21665)\t0.11007653069893181\n",
            "  (0, 15821)\t0.2324229188539594\n",
            "  (0, 18895)\t0.12286163476134078\n",
            "  (0, 17670)\t0.1294269337268942\n",
            "  (0, 27879)\t0.16708065283081955\n",
            "  (0, 38743)\t0.09748726353486545\n",
            "  (0, 32669)\t0.16901913983257422\n",
            "  (0, 13725)\t0.14844163424911688\n",
            "  (0, 23553)\t0.1349446029089722\n",
            "  (0, 20611)\t0.07206126976917929\n",
            "  (0, 7279)\t0.13390755224706044\n",
            "  (0, 29858)\t0.12624893011850072\n",
            "  (0, 31406)\t0.15125511337699807\n",
            "  (0, 7843)\t0.20333333052721358\n",
            "  (0, 4348)\t0.14571395198164722\n",
            "  (0, 32237)\t0.11737033758458042\n",
            "  (0, 29041)\t0.0929308972760759\n",
            "  (0, 12710)\t0.1790749113452763\n",
            "  (0, 7618)\t0.2559007494060315\n",
            "  (0, 8160)\t0.10918185278570516\n",
            "  (0, 2918)\t0.2132164593387706\n",
            "  (0, 13133)\t0.13111279915073967\n",
            "  (0, 2582)\t0.21526992187435123\n",
            "  (0, 20958)\t0.1430729961195483\n",
            "  (0, 21663)\t0.13994963781616476\n",
            "  (0, 32807)\t0.16942365889853395\n",
            "  (0, 12709)\t0.15368535290883154\n",
            "  (0, 11269)\t0.10895113485078661\n",
            "  (0, 30936)\t0.1315248374330207\n",
            "  (0, 8308)\t0.4821319790419168\n",
            "  (0, 13755)\t0.2132164593387706\n",
            "  (0, 37946)\t0.1418412793902011\n"
          ]
        }
      ]
    },
    {
      "cell_type": "code",
      "source": [
        "# La palabra 22151 es la palabra \"mail\" que en el documento 0 aparece 1 vez\n",
        "tfidf.get_feature_names_out()[22151]"
      ],
      "metadata": {
        "id": "BUHEZ94gwzNi",
        "outputId": "83bbf94c-6003-43ec-e755-6ae848730805",
        "colab": {
          "base_uri": "https://localhost:8080/",
          "height": 35
        }
      },
      "execution_count": 142,
      "outputs": [
        {
          "output_type": "execute_result",
          "data": {
            "text/plain": [
              "'mail'"
            ],
            "application/vnd.google.colaboratory.intrinsic+json": {
              "type": "string"
            }
          },
          "metadata": {},
          "execution_count": 142
        }
      ]
    },
    {
      "cell_type": "markdown",
      "metadata": {
        "id": "ARf0Fgx5ep1z"
      },
      "source": [
        "# Cálculo del Document Frecuency de cada palabra"
      ]
    },
    {
      "cell_type": "code",
      "execution_count": 17,
      "metadata": {
        "id": "eYQpBb4vep10"
      },
      "outputs": [],
      "source": [
        "doc_freq = np.array(TNG_cv.astype(bool).sum(axis=0)).flatten()"
      ]
    },
    {
      "cell_type": "code",
      "source": [
        "# Así, en doc_freq tengo la cantidad de apariciones de cada una de las palabras\n",
        "doc_freq"
      ],
      "metadata": {
        "id": "2OlPMZ9IkJCw",
        "outputId": "404b073c-1532-4d67-e8fb-8b6210424e4c",
        "colab": {
          "base_uri": "https://localhost:8080/"
        }
      },
      "execution_count": 18,
      "outputs": [
        {
          "output_type": "execute_result",
          "data": {
            "text/plain": [
              "array([243, 262,   7, ...,   2,   4,   7])"
            ]
          },
          "metadata": {},
          "execution_count": 18
        }
      ]
    },
    {
      "cell_type": "code",
      "source": [
        "# El vacabulario es de 39115 palabras, pero en total hay 693602 palabras (porque algunas palabras se repiten)\n",
        "doc_freq.sum()"
      ],
      "metadata": {
        "id": "9uyRYcXeTsf6",
        "outputId": "4286ef23-6acf-4d2e-9e73-10ca458d4f67",
        "colab": {
          "base_uri": "https://localhost:8080/"
        }
      },
      "execution_count": 19,
      "outputs": [
        {
          "output_type": "execute_result",
          "data": {
            "text/plain": [
              "693602"
            ]
          },
          "metadata": {},
          "execution_count": 19
        }
      ]
    },
    {
      "cell_type": "code",
      "source": [
        "# La palabra \"mail\" aparece 721 veces en total\n",
        "mail=doc_freq[22151]\n",
        "print(mail)"
      ],
      "metadata": {
        "id": "AZ3UE3Te0R4R",
        "outputId": "11ee04db-839a-40c9-bc01-4f347af1c7d8",
        "colab": {
          "base_uri": "https://localhost:8080/"
        }
      },
      "execution_count": 20,
      "outputs": [
        {
          "output_type": "stream",
          "name": "stdout",
          "text": [
            "721\n"
          ]
        }
      ]
    },
    {
      "cell_type": "code",
      "source": [
        "# Hay en total 11314 documentos (esto ya lo habíamos calculado)\n",
        "N=len(TNG_train.data)\n",
        "print(N)"
      ],
      "metadata": {
        "id": "GSVrK7_-yqTZ",
        "outputId": "adb28552-fa17-49e7-e53e-9ab80a216437",
        "colab": {
          "base_uri": "https://localhost:8080/"
        }
      },
      "execution_count": 22,
      "outputs": [
        {
          "output_type": "stream",
          "name": "stdout",
          "text": [
            "11314\n"
          ]
        }
      ]
    },
    {
      "cell_type": "code",
      "source": [
        "# La palabra \"mail\" aparece en 1149 de esos documentos\n",
        "df=0\n",
        "name=cv.get_feature_names_out()[22151]\n",
        "for n in TNG_train.data: \n",
        "  if name in n: df+=1\n",
        "print(df)"
      ],
      "metadata": {
        "id": "Zl4Xb4qQQ7iw",
        "outputId": "75526e79-e6e0-4a56-c9bc-eaed0315b9d4",
        "colab": {
          "base_uri": "https://localhost:8080/"
        }
      },
      "execution_count": 23,
      "outputs": [
        {
          "output_type": "stream",
          "name": "stdout",
          "text": [
            "1149\n"
          ]
        }
      ]
    },
    {
      "cell_type": "code",
      "source": [
        "# El Inverse document frecuency es: \n",
        "idf = np.log(N/df)\n",
        "print(idf)"
      ],
      "metadata": {
        "id": "Vfwyq8QfNUo6",
        "outputId": "f52dd462-55c3-42fe-ed6a-8285f7c9ec0f",
        "colab": {
          "base_uri": "https://localhost:8080/"
        }
      },
      "execution_count": 125,
      "outputs": [
        {
          "output_type": "stream",
          "name": "stdout",
          "text": [
            "2.2871488980543453\n"
          ]
        }
      ]
    },
    {
      "cell_type": "code",
      "source": [
        "# El TF es la cantidad de veces que aparece el término en el documento sobre la cantidad de palabras en el documento\n",
        "tf=1/33\n",
        "print(tf)"
      ],
      "metadata": {
        "id": "Lr_VTp_kO2YZ",
        "outputId": "6324f0f2-4386-4030-8477-7f14c154d774",
        "colab": {
          "base_uri": "https://localhost:8080/"
        }
      },
      "execution_count": 126,
      "outputs": [
        {
          "output_type": "stream",
          "name": "stdout",
          "text": [
            "0.030303030303030304\n"
          ]
        }
      ]
    },
    {
      "cell_type": "code",
      "source": [
        "tfidf=tf*idf\n",
        "print(tfidf)"
      ],
      "metadata": {
        "id": "4JxIxayXO_Ag",
        "outputId": "4a00e88b-50e7-4e16-b52a-6425dc922953",
        "colab": {
          "base_uri": "https://localhost:8080/"
        }
      },
      "execution_count": 127,
      "outputs": [
        {
          "output_type": "stream",
          "name": "stdout",
          "text": [
            "0.06930754236528319\n"
          ]
        }
      ]
    },
    {
      "cell_type": "markdown",
      "source": [
        "¿Por qué no coincide con lo que calcula Sklearn? \n",
        "Porque sklearn normaliza a la norma Euclidea\n",
        "\n",
        "<img src=\"https://miro.medium.com/max/630/1*nQVx6kHQRgz5B2-7TrI3LA.png\">\n",
        "\n",
        "Y ajusta con +1 la fórmula para evitar los casos igual a cero. \n",
        "\n",
        "<img src=\"https://miro.medium.com/max/290/1*ckcDta2x-ZskdzvG0gjD-A.png\">\n",
        "\n",
        "https://towardsdatascience.com/measure-text-weight-using-tf-idf-in-python-plain-code-and-scikit-learn-50cb1e4375ad"
      ],
      "metadata": {
        "id": "J1boSfZOkbBl"
      }
    },
    {
      "cell_type": "code",
      "execution_count": 154,
      "metadata": {
        "id": "TQo9bXPaep11",
        "outputId": "72396fe4-d74e-47ba-910a-7b1f4567d6c3",
        "colab": {
          "base_uri": "https://localhost:8080/",
          "height": 265
        }
      },
      "outputs": [
        {
          "output_type": "display_data",
          "data": {
            "text/plain": [
              "<Figure size 432x288 with 1 Axes>"
            ],
            "image/png": "[encoded data removed]"
          },
          "metadata": {
            "needs_background": "light"
          }
        }
      ],
      "source": [
        "# Podemos ver la cola larga de la frecuencia de palabras\n",
        "# Incluso habiendo eliminado stopwords e incluso en escala logarítmica\n",
        "a = plt.hist(doc_freq, bins=100,log=True)\n",
        "plt.show()"
      ]
    },
    {
      "cell_type": "code",
      "execution_count": null,
      "metadata": {
        "id": "ljaTvjI3ep17"
      },
      "outputs": [],
      "source": []
    }
  ],
  "metadata": {
    "kernelspec": {
      "display_name": "Python [conda env:NLP]",
      "language": "python",
      "name": "conda-env-NLP-py"
    },
    "language_info": {
      "codemirror_mode": {
        "name": "ipython",
        "version": 3
      },
      "file_extension": ".py",
      "mimetype": "text/x-python",
      "name": "python",
      "nbconvert_exporter": "python",
      "pygments_lexer": "ipython3",
      "version": "3.7.3"
    },
    "colab": {
      "provenance": []
    }
  },
  "nbformat": 4,
  "nbformat_minor": 0
}