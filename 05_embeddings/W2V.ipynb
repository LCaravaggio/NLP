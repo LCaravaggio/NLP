{
  "nbformat": 4,
  "nbformat_minor": 0,
  "metadata": {
    "colab": {
      "name": "W2V.ipynb",
      "provenance": [],
      "authorship_tag": "ABX9TyMMJtXudi+5V5+t5fVRxZYC",
      "include_colab_link": true
    },
    "kernelspec": {
      "name": "python3",
      "display_name": "Python 3"
    },
    "language_info": {
      "name": "python"
    }
  },
  "cells": [
    {
      "cell_type": "markdown",
      "metadata": {
        "id": "view-in-github",
        "colab_type": "text"
      },
      "source": [
        "<a href=\"https://colab.research.google.com/github/LCaravaggio/AnalisisPredictivo/blob/master/08_NLP/W2V.ipynb\" target=\"_parent\"><img src=\"https://colab.research.google.com/assets/colab-badge.svg\" alt=\"Open In Colab\"/></a>"
      ]
    },
    {
      "cell_type": "code",
      "source": [
        "%%capture\n",
        "!pip install gutenberg\n",
        "!pip install gensim"
      ],
      "metadata": {
        "id": "OCuP1nhiXabY"
      },
      "execution_count": 121,
      "outputs": []
    },
    {
      "cell_type": "code",
      "execution_count": 122,
      "metadata": {
        "id": "jz8qygrAWu8w"
      },
      "outputs": [],
      "source": [
        "import pandas as pd\n",
        "import nltk\n",
        "import string\n",
        "import matplotlib.pyplot as plt\n",
        "\n",
        "from nltk.corpus import stopwords\n",
        "from nltk import word_tokenize\n",
        "from gensim.models import Word2Vec as w2v\n",
        "from sklearn.decomposition import PCA\n",
        "\n",
        "from gutenberg.acquire import load_etext\n",
        "from gutenberg.cleanup import strip_headers"
      ]
    },
    {
      "cell_type": "code",
      "source": [
        "nltk.download(\"stopwords\")\n",
        "nltk.download('punkt')\n",
        "sw = stopwords.words('spanish')\n",
        "plt.style.use('ggplot')"
      ],
      "metadata": {
        "colab": {
          "base_uri": "https://localhost:8080/"
        },
        "id": "Nap2h_U4aTWx",
        "outputId": "71304807-c753-45e8-d24e-148e4446f487"
      },
      "execution_count": 123,
      "outputs": [
        {
          "output_type": "stream",
          "name": "stdout",
          "text": [
            "[nltk_data] Downloading package stopwords to /root/nltk_data...\n",
            "[nltk_data]   Package stopwords is already up-to-date!\n",
            "[nltk_data] Downloading package punkt to /root/nltk_data...\n",
            "[nltk_data]   Package punkt is already up-to-date!\n"
          ]
        }
      ]
    },
    {
      "cell_type": "code",
      "source": [
        "lines = strip_headers(load_etext(14765)).strip()"
      ],
      "metadata": {
        "id": "3-mRxFeNaHjr"
      },
      "execution_count": 212,
      "outputs": []
    },
    {
      "cell_type": "code",
      "source": [
        "lines=lines.replace('\\n',' ')\n",
        "lines=lines.split(' ')\n",
        "\n",
        "# make all characters lower\n",
        "lines = [line.lower() for line in lines]\n",
        "\n",
        "# remove punctuations from each line\n",
        "lines = [line.translate(str.maketrans('', '', string.punctuation)) for line in lines]\n",
        "\n",
        "# tokenize\n",
        "#lines = word_tokenize(lines)\n",
        "    \n",
        "filtered_lines = [word for word in lines if not word in sw]"
      ],
      "metadata": {
        "id": "Esarlt8TYJBr"
      },
      "execution_count": 213,
      "outputs": []
    },
    {
      "cell_type": "code",
      "source": [
        "w = w2v(\n",
        "    [filtered_lines],\n",
        "    min_count=1,  \n",
        "    sg = 1,       \n",
        "    window=7      \n",
        ")        "
      ],
      "metadata": {
        "id": "YH2NdwmjYLdr"
      },
      "execution_count": 215,
      "outputs": []
    },
    {
      "cell_type": "code",
      "source": [
        "print(w.wv.most_similar('gaucho'))"
      ],
      "metadata": {
        "colab": {
          "base_uri": "https://localhost:8080/"
        },
        "id": "JVohE5bNf0Oh",
        "outputId": "32cf8e97-65a1-4b48-ed61-065617c0f3ce"
      },
      "execution_count": 218,
      "outputs": [
        {
          "output_type": "stream",
          "name": "stdout",
          "text": [
            "[('pa', 0.9995455741882324), ('mas', 0.9994809627532959), ('si', 0.9994562268257141), ('sé', 0.9993960857391357), ('allí', 0.9993919134140015), ('aunque', 0.9993789792060852), ('hombre', 0.9993691444396973), ('dende', 0.9993280172348022), ('mesmo', 0.9992989301681519), ('ansí', 0.9992976188659668)]\n"
          ]
        }
      ]
    }
  ]
}
