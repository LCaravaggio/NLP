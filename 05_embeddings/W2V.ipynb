{
  "nbformat": 4,
  "nbformat_minor": 0,
  "metadata": {
    "colab": {
      "name": "W2V.ipynb",
      "provenance": [],
      "authorship_tag": "ABX9TyOFtYcQtgP6bunmtWPT2gZa",
      "include_colab_link": true
    },
    "kernelspec": {
      "name": "python3",
      "display_name": "Python 3"
    },
    "language_info": {
      "name": "python"
    }
  },
  "cells": [
    {
      "cell_type": "markdown",
      "metadata": {
        "id": "view-in-github",
        "colab_type": "text"
      },
      "source": [
        "<a href=\"https://colab.research.google.com/github/LCaravaggio/NLP/blob/main/05_embeddings/W2V.ipynb\" target=\"_parent\"><img src=\"https://colab.research.google.com/assets/colab-badge.svg\" alt=\"Open In Colab\"/></a>"
      ]
    },
    {
      "cell_type": "code",
      "execution_count": 1,
      "metadata": {
        "id": "jz8qygrAWu8w"
      },
      "outputs": [],
      "source": [
        "from nltk.corpus import stopwords\n",
        "from nltk import word_tokenize\n",
        "from gensim.models import Word2Vec as w2v\n",
        "import string\n",
        "\n",
        "import nltk"
      ]
    },
    {
      "cell_type": "code",
      "source": [
        "nltk.download(\"stopwords\")\n",
        "nltk.download('punkt')\n",
        "sw = stopwords.words('spanish')"
      ],
      "metadata": {
        "colab": {
          "base_uri": "https://localhost:8080/"
        },
        "id": "Nap2h_U4aTWx",
        "outputId": "2c226f21-ef76-4f2a-8237-99fa82e9d25e"
      },
      "execution_count": 2,
      "outputs": [
        {
          "output_type": "stream",
          "name": "stderr",
          "text": [
            "[nltk_data] Downloading package stopwords to /root/nltk_data...\n",
            "[nltk_data]   Package stopwords is already up-to-date!\n",
            "[nltk_data] Downloading package punkt to /root/nltk_data...\n",
            "[nltk_data]   Package punkt is already up-to-date!\n"
          ]
        }
      ]
    },
    {
      "cell_type": "code",
      "source": [
        "import requests\n",
        "url='https://www.gutenberg.org/cache/epub/14765/pg14765.txt'\n",
        "r = requests.get(url)"
      ],
      "metadata": {
        "id": "bf63_RwGU051"
      },
      "execution_count": 3,
      "outputs": []
    },
    {
      "cell_type": "code",
      "source": [
        "lines=r.content.decode('utf-8')"
      ],
      "metadata": {
        "id": "3IQY1B_kWGWB"
      },
      "execution_count": 4,
      "outputs": []
    },
    {
      "cell_type": "code",
      "source": [
        "lines=str(lines)"
      ],
      "metadata": {
        "id": "OAeBFL0NPAiC"
      },
      "execution_count": 5,
      "outputs": []
    },
    {
      "cell_type": "code",
      "source": [
        "lines=lines.replace('\\n',' ')\n",
        "lines=lines.split(' ')\n",
        "\n",
        "# make all characters lower\n",
        "lines = [line.lower() for line in lines]\n",
        "\n",
        "# remove punctuations from each line\n",
        "lines = [line.translate(str.maketrans('', '', string.punctuation)) for line in lines]\n",
        "\n",
        "# tokenize\n",
        "#lines = word_tokenize(lines)\n",
        "    \n",
        "filtered_lines = [word for word in lines if not word in sw]"
      ],
      "metadata": {
        "id": "Esarlt8TYJBr"
      },
      "execution_count": 6,
      "outputs": []
    },
    {
      "cell_type": "code",
      "source": [
        "# Acá hago el entrenamiento, dónde: sg=0 es CBOW y sg=1 es skip-gram.\n",
        "# window es el tamaño de la ventana de referencia. \n",
        "w = w2v(\n",
        "    [filtered_lines],\n",
        "    min_count=1,  \n",
        "    sg = 1,       \n",
        "    window=7      \n",
        ")        "
      ],
      "metadata": {
        "id": "YH2NdwmjYLdr",
        "outputId": "b532f10e-acb7-478e-d677-1f6f9570e826",
        "colab": {
          "base_uri": "https://localhost:8080/"
        }
      },
      "execution_count": 7,
      "outputs": [
        {
          "output_type": "stream",
          "name": "stderr",
          "text": [
            "WARNING:gensim.models.base_any2vec:under 10 jobs per worker: consider setting a smaller `batch_words' for smoother alpha decay\n"
          ]
        }
      ]
    },
    {
      "cell_type": "code",
      "source": [
        "print(w.wv.most_similar('hombre'))"
      ],
      "metadata": {
        "colab": {
          "base_uri": "https://localhost:8080/"
        },
        "id": "JVohE5bNf0Oh",
        "outputId": "85dc7f02-f1f8-4c3b-9256-a5faea5e7f32"
      },
      "execution_count": 8,
      "outputs": [
        {
          "output_type": "stream",
          "name": "stdout",
          "text": [
            "[('pa', 0.9997538924217224), ('si', 0.9997265338897705), ('aunque', 0.9996850490570068), ('siempre', 0.9996702671051025), ('dende', 0.9996572136878967), ('\\r', 0.9996557235717773), ('gaucho', 0.9996270537376404), ('nunca', 0.9996134638786316), ('ansí', 0.9996070265769958), ('pues', 0.9996070265769958)]\n"
          ]
        }
      ]
    }
  ]
}