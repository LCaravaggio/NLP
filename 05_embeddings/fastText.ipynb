{
  "nbformat": 4,
  "nbformat_minor": 0,
  "metadata": {
    "colab": {
      "provenance": [],
      "authorship_tag": "ABX9TyPka0D7VVdiX+x+xyi0RREU",
      "include_colab_link": true
    },
    "kernelspec": {
      "name": "python3",
      "display_name": "Python 3"
    },
    "language_info": {
      "name": "python"
    }
  },
  "cells": [
    {
      "cell_type": "markdown",
      "metadata": {
        "id": "view-in-github",
        "colab_type": "text"
      },
      "source": [
        "<a href=\"https://colab.research.google.com/github/LCaravaggio/NLP/blob/main/05_embeddings/fastText.ipynb\" target=\"_parent\"><img src=\"https://colab.research.google.com/assets/colab-badge.svg\" alt=\"Open In Colab\"/></a>"
      ]
    },
    {
      "cell_type": "markdown",
      "source": [
        "Carga de los embeddings de fastText"
      ],
      "metadata": {
        "id": "9pkSOf9j3WVt"
      }
    },
    {
      "cell_type": "code",
      "execution_count": 1,
      "metadata": {
        "id": "MAwJ9CbyymKq"
      },
      "outputs": [],
      "source": [
        "from gensim.models.keyedvectors import KeyedVectors"
      ]
    },
    {
      "cell_type": "code",
      "source": [
        "wordvectors_file_vec = 'https://dl.fbaipublicfiles.com/fasttext/vectors-crawl/cc.es.300.vec.gz'\n",
        "cantidad = 100000\n",
        "wordvectors = KeyedVectors.load_word2vec_format(wordvectors_file_vec, limit=cantidad)"
      ],
      "metadata": {
        "id": "nmQvH22Dy4rX"
      },
      "execution_count": 3,
      "outputs": []
    },
    {
      "cell_type": "markdown",
      "source": [
        "Vector"
      ],
      "metadata": {
        "id": "SwV5tvj800Bw"
      }
    },
    {
      "cell_type": "code",
      "source": [
        "wordvectors[\"persona\"]"
      ],
      "metadata": {
        "colab": {
          "base_uri": "https://localhost:8080/"
        },
        "id": "PVVBJa-g3IXG",
        "outputId": "ca43bf90-1620-45f0-8b02-7369641e2769"
      },
      "execution_count": 26,
      "outputs": [
        {
          "output_type": "execute_result",
          "data": {
            "text/plain": [
              "array([ 0.0122, -0.0413,  0.0267, -0.0098, -0.0243,  0.0137, -0.0116,\n",
              "       -0.0456, -0.0023, -0.1329, -0.037 , -0.0396, -0.0488, -0.0062,\n",
              "       -0.0217,  0.0329,  0.0835, -0.0219, -0.0452, -0.0275, -0.0505,\n",
              "       -0.0274,  0.0726, -0.0407, -0.0115, -0.0477,  0.0022, -0.0453,\n",
              "       -0.0763, -0.0535, -0.0133, -0.0235, -0.0539,  0.028 , -0.0253,\n",
              "       -0.005 ,  0.0042,  0.008 , -0.0221,  0.0101, -0.0401, -0.0356,\n",
              "       -0.0207, -0.0388, -0.0694,  0.0233,  0.    , -0.0296, -0.0017,\n",
              "        0.0068,  0.0358,  0.0131,  0.0797, -0.0088, -0.0122,  0.0853,\n",
              "       -0.0062, -0.0232, -0.0384,  0.0089,  0.008 , -0.0127, -0.0494,\n",
              "       -0.0045, -0.0093, -0.006 , -0.01  ,  0.0182, -0.0105,  0.0079,\n",
              "       -0.0147,  0.0166, -0.0281, -0.0584, -0.0047,  0.0049,  0.0072,\n",
              "        0.0254,  0.0292, -0.0092, -0.043 , -0.0036, -0.0267,  0.0178,\n",
              "       -0.0602,  0.0146,  0.0027, -0.0223,  0.044 , -0.0338, -0.011 ,\n",
              "        0.0008, -0.0162,  0.002 ,  0.0038,  0.0038,  0.0182,  0.0286,\n",
              "        0.0493, -0.0293, -0.017 , -0.0449, -0.0557,  0.0097,  0.0446,\n",
              "        0.0103, -0.0243, -0.003 ,  0.0252, -0.0163, -0.0103,  0.0026,\n",
              "        0.0211,  0.0184,  0.0578,  0.0049,  0.0242, -0.0086,  0.0517,\n",
              "        0.0639, -0.0352, -0.0657,  0.0352,  0.0441,  0.0372,  0.0196,\n",
              "       -0.0186,  0.0017, -0.0496, -0.0078,  0.0038,  0.0998,  0.0457,\n",
              "        0.0794,  0.0479,  0.0503, -0.0447, -0.005 , -0.0297,  0.0354,\n",
              "        0.0579,  0.0114, -0.0634,  0.0472,  0.0259, -0.044 , -0.0136,\n",
              "       -0.013 , -0.0392,  0.0089, -0.0282,  0.0233, -0.0204, -0.0139,\n",
              "        0.0496, -0.0147, -0.0039, -0.0355, -0.0381, -0.0233, -0.0032,\n",
              "        0.0333, -0.0207, -0.0234, -0.0269,  0.004 ,  0.0444, -0.0428,\n",
              "       -0.0149,  0.0159, -0.052 , -0.0269, -0.0018, -0.0365, -0.0393,\n",
              "        0.0175,  0.0377, -0.0111,  0.0296, -0.0222,  0.0628,  0.0788,\n",
              "       -0.0016, -0.0354, -0.0067,  0.0139,  0.0146,  0.0442,  0.0069,\n",
              "       -0.0668, -0.011 , -0.0239,  0.0042,  0.0954, -0.0101, -0.0451,\n",
              "       -0.0119,  0.0156, -0.0429,  0.1028, -0.009 , -0.0116, -0.0103,\n",
              "       -0.0034,  0.0442,  0.094 , -0.0458, -0.0915, -0.0581,  0.0381,\n",
              "       -0.0178, -0.0306, -0.0205,  0.0186, -0.0168, -0.0031,  0.0003,\n",
              "        0.069 , -0.0194,  0.032 ,  0.0214, -0.0007, -0.0236, -0.0061,\n",
              "        0.0978, -0.0061,  0.0004,  0.0232,  0.0526,  0.0618, -0.0258,\n",
              "        0.0368, -0.0426,  0.0285, -0.0301, -0.0251,  0.0472,  0.0143,\n",
              "       -0.0537,  0.0177, -0.0383,  0.0361,  0.0099, -0.0028, -0.0227,\n",
              "        0.0284,  0.0032,  0.0347,  0.0193, -0.0212,  0.0231,  0.0577,\n",
              "        0.0264, -0.0281,  0.0485, -0.0098, -0.039 ,  0.029 , -0.01  ,\n",
              "        0.0059, -0.0422, -0.0035, -0.0209, -0.051 , -0.0189,  0.0049,\n",
              "        0.0245,  0.0136, -0.038 ,  0.0371,  0.0045,  0.0222, -0.0241,\n",
              "       -0.0021,  0.0077, -0.0794,  0.0212, -0.0099,  0.0583,  0.0252,\n",
              "       -0.0509,  0.0351, -0.0288,  0.0257,  0.0102,  0.0044, -0.0447,\n",
              "        0.0334, -0.049 , -0.0219,  0.0191, -0.0609,  0.019 ,  0.0101,\n",
              "       -0.0079, -0.0424,  0.0151, -0.0309, -0.0241,  0.0174],\n",
              "      dtype=float32)"
            ]
          },
          "metadata": {},
          "execution_count": 26
        }
      ]
    },
    {
      "cell_type": "code",
      "source": [
        "wordvectors[\"persona\"].shape"
      ],
      "metadata": {
        "colab": {
          "base_uri": "https://localhost:8080/"
        },
        "id": "aUMMMP8_3QqJ",
        "outputId": "90839b11-df8e-48c4-ffa4-9c96b8f27081"
      },
      "execution_count": 27,
      "outputs": [
        {
          "output_type": "execute_result",
          "data": {
            "text/plain": [
              "(300,)"
            ]
          },
          "metadata": {},
          "execution_count": 27
        }
      ]
    },
    {
      "cell_type": "markdown",
      "source": [
        "Similitud"
      ],
      "metadata": {
        "id": "rDp7AcTnzl7b"
      }
    },
    {
      "cell_type": "code",
      "source": [
        "wordvectors.similarity('hombre', 'mujer')"
      ],
      "metadata": {
        "colab": {
          "base_uri": "https://localhost:8080/"
        },
        "id": "ty-qUquU01NY",
        "outputId": "c60c3415-9df3-41d2-d369-ca6f5809a58d"
      },
      "execution_count": 14,
      "outputs": [
        {
          "output_type": "execute_result",
          "data": {
            "text/plain": [
              "0.6847727"
            ]
          },
          "metadata": {},
          "execution_count": 14
        }
      ]
    },
    {
      "cell_type": "code",
      "source": [
        "wordvectors.similarity('banco', 'justicia')"
      ],
      "metadata": {
        "colab": {
          "base_uri": "https://localhost:8080/"
        },
        "id": "SnoiTDLm1Wf5",
        "outputId": "491f6047-f628-412c-edf8-2ad1bfce616d"
      },
      "execution_count": 22,
      "outputs": [
        {
          "output_type": "execute_result",
          "data": {
            "text/plain": [
              "0.18538794"
            ]
          },
          "metadata": {},
          "execution_count": 22
        }
      ]
    },
    {
      "cell_type": "code",
      "source": [
        "wordvectors.similar_by_word(\"gato\")"
      ],
      "metadata": {
        "colab": {
          "base_uri": "https://localhost:8080/"
        },
        "id": "5H1YZaHC2tKY",
        "outputId": "09d66ea1-babd-464e-e59e-f8438a3546a0"
      },
      "execution_count": 23,
      "outputs": [
        {
          "output_type": "execute_result",
          "data": {
            "text/plain": [
              "[('perro', 0.819464921951294),\n",
              " ('gatito', 0.8061740398406982),\n",
              " ('Gato', 0.7072968482971191),\n",
              " ('perrito', 0.6917301416397095),\n",
              " ('gatos', 0.6770977973937988),\n",
              " ('felino', 0.6705687046051025),\n",
              " ('gata', 0.6578809022903442),\n",
              " ('cachorro', 0.6557345390319824),\n",
              " ('conejo', 0.6412478685379028),\n",
              " ('mascota', 0.6264307498931885)]"
            ]
          },
          "metadata": {},
          "execution_count": 23
        }
      ]
    },
    {
      "cell_type": "code",
      "source": [
        "wordvectors.most_similar(positive=['rey','mujer'],negative=['hombre'])"
      ],
      "metadata": {
        "colab": {
          "base_uri": "https://localhost:8080/"
        },
        "id": "8DAJevrBzLm3",
        "outputId": "fda7920f-4ea9-4dac-9609-43a1d5a411c4"
      },
      "execution_count": 15,
      "outputs": [
        {
          "output_type": "execute_result",
          "data": {
            "text/plain": [
              "[('reina', 0.6996200680732727),\n",
              " ('princesa', 0.6584171056747437),\n",
              " ('monarca', 0.5745182037353516),\n",
              " ('emperatriz', 0.5571600794792175),\n",
              " ('Rey', 0.5523390769958496),\n",
              " ('reyes', 0.5444135665893555),\n",
              " ('hija', 0.5440957546234131),\n",
              " ('Reina', 0.5410171151161194),\n",
              " ('consorte', 0.5355187654495239),\n",
              " ('infanta', 0.5331934690475464)]"
            ]
          },
          "metadata": {},
          "execution_count": 15
        }
      ]
    },
    {
      "cell_type": "markdown",
      "source": [
        "Exclusión"
      ],
      "metadata": {
        "id": "v-HnHiJizoXS"
      }
    },
    {
      "cell_type": "code",
      "source": [
        "lista=('abril', 'mayo', 'septiembre', 'martes', 'julio')\n",
        "wordvectors.doesnt_match(lista)"
      ],
      "metadata": {
        "colab": {
          "base_uri": "https://localhost:8080/",
          "height": 35
        },
        "id": "zuBIsJyWzqyz",
        "outputId": "f1317a52-6c16-4b9d-b943-41477e38081b"
      },
      "execution_count": 10,
      "outputs": [
        {
          "output_type": "execute_result",
          "data": {
            "text/plain": [
              "'martes'"
            ],
            "application/vnd.google.colaboratory.intrinsic+json": {
              "type": "string"
            }
          },
          "metadata": {},
          "execution_count": 10
        }
      ]
    },
    {
      "cell_type": "code",
      "source": [
        " from sklearn.manifold import TSNE\n",
        "\n",
        "def tsne_plot(model):\n",
        "    labels = []\n",
        "    tokens = []\n",
        "\n",
        "    for word in model.wv.vocab:\n",
        "        tokens.append(model[word])\n",
        "        labels.append(word)\n",
        "    \n",
        "    tsne_model = TSNE(perplexity=40, n_components=2, init='pca', n_iter=2500)\n",
        "    new_values = tsne_model.fit_transform(tokens)\n",
        "\n",
        "    x = []\n",
        "    y = []\n",
        "    for value in new_values:\n",
        "        x.append(value[0])\n",
        "        y.append(value[1])\n",
        "        \n",
        "    plt.figure(figsize=(64, 64)) \n",
        "    for i in range(len(x)):\n",
        "        plt.scatter(x[i],y[i])\n",
        "        plt.annotate(labels[i],\n",
        "                     xy=(x[i], y[i]),\n",
        "                     xytext=(5, 2),\n",
        "                     textcoords='offset points',\n",
        "                     ha='right',\n",
        "                     va='bottom')\n",
        "    plt.show()\n",
        "    \n",
        "# call the function on our dataset\n",
        "tsne_plot(wordvectors)"
      ],
      "metadata": {
        "colab": {
          "base_uri": "https://localhost:8080/"
        },
        "id": "x15z464R4qbp",
        "outputId": "10621a06-68ac-480b-dc61-e71230292bc0"
      },
      "execution_count": null,
      "outputs": [
        {
          "output_type": "stream",
          "name": "stderr",
          "text": [
            "<ipython-input-37-b5de1530a962>:7: DeprecationWarning: Call to deprecated `wv` (Attribute will be removed in 4.0.0, use self instead).\n",
            "  for word in model.wv.vocab:\n",
            "/usr/local/lib/python3.8/dist-packages/sklearn/manifold/_t_sne.py:790: FutureWarning: The default learning rate in TSNE will change from 200.0 to 'auto' in 1.2.\n",
            "  warnings.warn(\n",
            "/usr/local/lib/python3.8/dist-packages/sklearn/manifold/_t_sne.py:982: FutureWarning: The PCA initialization in TSNE will change to have the standard deviation of PC1 equal to 1e-4 in 1.2. This will ensure better convergence.\n",
            "  warnings.warn(\n"
          ]
        }
      ]
    }
  ]
}