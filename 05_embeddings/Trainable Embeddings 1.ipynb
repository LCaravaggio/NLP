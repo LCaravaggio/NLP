{
  "nbformat": 4,
  "nbformat_minor": 0,
  "metadata": {
    "colab": {
      "name": "Trainable Embeddings.ipynb",
      "provenance": [],
      "include_colab_link": true
    },
    "kernelspec": {
      "display_name": "Python 3",
      "language": "python",
      "name": "python3"
    },
    "language_info": {
      "codemirror_mode": {
        "name": "ipython",
        "version": 3
      },
      "file_extension": ".py",
      "mimetype": "text/x-python",
      "name": "python",
      "nbconvert_exporter": "python",
      "pygments_lexer": "ipython3",
      "version": "3.7.3"
    }
  },
  "cells": [
    {
      "cell_type": "markdown",
      "metadata": {
        "id": "view-in-github",
        "colab_type": "text"
      },
      "source": [
        "<a href=\"https://colab.research.google.com/github/LCaravaggio/NLP/blob/main/05_embeddings/Trainable%20Embeddings%201.ipynb\" target=\"_parent\"><img src=\"https://colab.research.google.com/assets/colab-badge.svg\" alt=\"Open In Colab\"/></a>"
      ]
    },
    {
      "cell_type": "code",
      "metadata": {
        "id": "0KnibsN1xUk3"
      },
      "source": [
        "from tensorflow.keras.datasets import imdb as dataset\n",
        "from tensorflow import keras\n",
        "#from keras.datasets import reuters as dataset\n",
        "from tensorflow.keras.preprocessing.sequence import pad_sequences\n",
        "import numpy as np"
      ],
      "execution_count": 1,
      "outputs": []
    },
    {
      "cell_type": "markdown",
      "metadata": {
        "id": "AvpowIEOHzyT"
      },
      "source": [
        "# Cargamos y analizamos el dataset"
      ]
    },
    {
      "cell_type": "code",
      "metadata": {
        "id": "n4ra2gF4HzyU",
        "outputId": "f5d5b1cc-54c5-4786-e138-a9e3b1aa30b9",
        "colab": {
          "base_uri": "https://localhost:8080/"
        }
      },
      "source": [
        "# Primer hyperparámetro\n",
        "num_words=30000\n",
        "\n",
        "(training_data, training_targets), (testing_data, testing_targets) = dataset.load_data(num_words=num_words+2)\n",
        "data = np.concatenate((training_data, testing_data), axis=0)\n",
        "targets = np.concatenate((training_targets, testing_targets), axis=0)"
      ],
      "execution_count": 2,
      "outputs": [
        {
          "output_type": "stream",
          "name": "stdout",
          "text": [
            "Downloading data from https://storage.googleapis.com/tensorflow/tf-keras-datasets/imdb.npz\n",
            "\u001b[1m17464789/17464789\u001b[0m \u001b[32m━━━━━━━━━━━━━━━━━━━━\u001b[0m\u001b[37m\u001b[0m \u001b[1m0s\u001b[0m 0us/step\n"
          ]
        }
      ]
    },
    {
      "cell_type": "code",
      "source": [
        "word_index = keras.datasets.imdb.get_word_index()"
      ],
      "metadata": {
        "colab": {
          "base_uri": "https://localhost:8080/"
        },
        "id": "uaQ2MEnVwZa1",
        "outputId": "d9c5d825-15eb-481a-8c99-97ed646ab86b"
      },
      "execution_count": 3,
      "outputs": [
        {
          "output_type": "stream",
          "name": "stdout",
          "text": [
            "Downloading data from https://storage.googleapis.com/tensorflow/tf-keras-datasets/imdb_word_index.json\n",
            "\u001b[1m1641221/1641221\u001b[0m \u001b[32m━━━━━━━━━━━━━━━━━━━━\u001b[0m\u001b[37m\u001b[0m \u001b[1m0s\u001b[0m 0us/step\n"
          ]
        }
      ]
    },
    {
      "cell_type": "code",
      "metadata": {
        "id": "EYWTLfB1xUlI",
        "colab": {
          "base_uri": "https://localhost:8080/"
        },
        "outputId": "c2618c77-432a-4098-e350-058575f57a59"
      },
      "source": [
        "# Tengo dos categorías: Sentimiento positivo (1) o sentimiento negativo (0)\n",
        "num_categories = len(np.unique(targets))\n",
        "print(\"Categories:\", np.unique(targets))\n",
        "# Tengo num_words palabras únicas en el vocabulario\n",
        "print(\"Number of unique words:\", len(np.unique(np.hstack(data))))"
      ],
      "execution_count": 4,
      "outputs": [
        {
          "output_type": "stream",
          "name": "stdout",
          "text": [
            "Categories: [0 1]\n",
            "Number of unique words: 30000\n"
          ]
        }
      ]
    },
    {
      "cell_type": "code",
      "metadata": {
        "id": "3lZ-DUxtxUlT",
        "colab": {
          "base_uri": "https://localhost:8080/"
        },
        "outputId": "f5bb11a9-d140-4904-eb26-f5eb0fec6c61"
      },
      "source": [
        "# Longitudes promedio de los comentarios de las películas\n",
        "length = [len(i) for i in data]\n",
        "print(\"Average Review length:\", np.mean(length))\n",
        "print(\"Standard Deviation:\", round(np.std(length)))"
      ],
      "execution_count": 5,
      "outputs": [
        {
          "output_type": "stream",
          "name": "stdout",
          "text": [
            "Average Review length: 234.75892\n",
            "Standard Deviation: 173\n"
          ]
        }
      ]
    },
    {
      "cell_type": "markdown",
      "metadata": {
        "id": "DGeDrxcRHzya"
      },
      "source": [
        "# Impresión de comentario preprocesado con su etiqueta"
      ]
    },
    {
      "cell_type": "code",
      "metadata": {
        "id": "qnT33-acxUlZ",
        "colab": {
          "base_uri": "https://localhost:8080/"
        },
        "outputId": "c5ea60ae-4e23-48c7-cd34-5fc25a3ad790"
      },
      "source": [
        "# Imprimo cometario i'esimo con su clasificación de sentimiento\n",
        "i = 0\n",
        "print(\"Label:\", targets[i])\n",
        "# Las comentarios ya están preprocesados\n",
        "print(data[i])"
      ],
      "execution_count": 6,
      "outputs": [
        {
          "output_type": "stream",
          "name": "stdout",
          "text": [
            "Label: 1\n",
            "[1, 14, 22, 16, 43, 530, 973, 1622, 1385, 65, 458, 4468, 66, 3941, 4, 173, 36, 256, 5, 25, 100, 43, 838, 112, 50, 670, 22665, 9, 35, 480, 284, 5, 150, 4, 172, 112, 167, 21631, 336, 385, 39, 4, 172, 4536, 1111, 17, 546, 38, 13, 447, 4, 192, 50, 16, 6, 147, 2025, 19, 14, 22, 4, 1920, 4613, 469, 4, 22, 71, 87, 12, 16, 43, 530, 38, 76, 15, 13, 1247, 4, 22, 17, 515, 17, 12, 16, 626, 18, 19193, 5, 62, 386, 12, 8, 316, 8, 106, 5, 4, 2223, 5244, 16, 480, 66, 3785, 33, 4, 130, 12, 16, 38, 619, 5, 25, 124, 51, 36, 135, 48, 25, 1415, 33, 6, 22, 12, 215, 28, 77, 52, 5, 14, 407, 16, 82, 10311, 8, 4, 107, 117, 5952, 15, 256, 4, 2, 7, 3766, 5, 723, 36, 71, 43, 530, 476, 26, 400, 317, 46, 7, 4, 12118, 1029, 13, 104, 88, 4, 381, 15, 297, 98, 32, 2071, 56, 26, 141, 6, 194, 7486, 18, 4, 226, 22, 21, 134, 476, 26, 480, 5, 144, 30, 5535, 18, 51, 36, 28, 224, 92, 25, 104, 4, 226, 65, 16, 38, 1334, 88, 12, 16, 283, 5, 16, 4472, 113, 103, 32, 15, 16, 5345, 19, 178, 32]\n"
          ]
        }
      ]
    },
    {
      "cell_type": "code",
      "metadata": {
        "id": "GSVq9thIxUlh",
        "colab": {
          "base_uri": "https://localhost:8080/"
        },
        "outputId": "a22b8890-b720-4735-e63e-bc9c85d83e68"
      },
      "source": [
        "# Bajamos diccionario de palabras a indices\n",
        "index = dataset.get_word_index()\n",
        "print([f'{k}:{v}' for k,v in index.items()][:100])"
      ],
      "execution_count": 7,
      "outputs": [
        {
          "output_type": "stream",
          "name": "stdout",
          "text": [
            "['fawn:34701', 'tsukino:52006', 'nunnery:52007', 'sonja:16816', 'vani:63951', 'woods:1408', 'spiders:16115', 'hanging:2345', 'woody:2289', 'trawling:52008', \"hold's:52009\", 'comically:11307', 'localized:40830', 'disobeying:30568', \"'royale:52010\", \"harpo's:40831\", 'canet:52011', 'aileen:19313', 'acurately:52012', \"diplomat's:52013\", 'rickman:25242', 'arranged:6746', 'rumbustious:52014', 'familiarness:52015', \"spider':52016\", 'hahahah:68804', \"wood':52017\", 'transvestism:40833', \"hangin':34702\", 'bringing:2338', 'seamier:40834', 'wooded:34703', 'bravora:52018', 'grueling:16817', 'wooden:1636', 'wednesday:16818', \"'prix:52019\", 'altagracia:34704', 'circuitry:52020', 'crotch:11585', 'busybody:57766', \"tart'n'tangy:52021\", 'burgade:14129', 'thrace:52023', \"tom's:11038\", 'snuggles:52025', 'francesco:29114', 'complainers:52027', 'templarios:52125', '272:40835', '273:52028', 'zaniacs:52130', '275:34706', 'consenting:27631', 'snuggled:40836', 'inanimate:15492', 'uality:52030', 'bronte:11926', 'errors:4010', 'dialogs:3230', \"yomada's:52031\", \"madman's:34707\", 'dialoge:30585', 'usenet:52033', 'videodrome:40837', \"kid':26338\", 'pawed:52034', \"'girlfriend':30569\", \"'pleasure:52035\", \"'reloaded':52036\", \"kazakos':40839\", 'rocque:52037', 'mailings:52038', 'brainwashed:11927', 'mcanally:16819', \"tom'':52039\", 'kurupt:25243', 'affiliated:21905', 'babaganoosh:52040', \"noe's:40840\", 'quart:40841', 'kids:359', 'uplifting:5034', 'controversy:7093', 'kida:21906', 'kidd:23379', \"error':52041\", 'neurologist:52042', 'spotty:18510', 'cobblers:30570', 'projection:9878', 'fastforwarding:40842', 'sters:52043', \"eggar's:52044\", 'etherything:52045', 'gateshead:40843', 'airball:34708', 'unsinkable:25244', 'stern:7180', \"cervi's:52046\"]\n"
          ]
        }
      ]
    },
    {
      "cell_type": "code",
      "metadata": {
        "id": "xrmkTbXyHzyf",
        "colab": {
          "base_uri": "https://localhost:8080/"
        },
        "outputId": "bf3a4918-a8d4-4aaa-974f-ce60d5ddf6c3"
      },
      "source": [
        "# Armo diccionario reverso: de indices a palabras\n",
        "reverse_index = dict([(value, key) for (key, value) in index.items()])\n",
        "print([f'{k}:{v}' for k,v in reverse_index.items()][:100])"
      ],
      "execution_count": 8,
      "outputs": [
        {
          "output_type": "stream",
          "name": "stdout",
          "text": [
            "['34701:fawn', '52006:tsukino', '52007:nunnery', '16816:sonja', '63951:vani', '1408:woods', '16115:spiders', '2345:hanging', '2289:woody', '52008:trawling', \"52009:hold's\", '11307:comically', '40830:localized', '30568:disobeying', \"52010:'royale\", \"40831:harpo's\", '52011:canet', '19313:aileen', '52012:acurately', \"52013:diplomat's\", '25242:rickman', '6746:arranged', '52014:rumbustious', '52015:familiarness', \"52016:spider'\", '68804:hahahah', \"52017:wood'\", '40833:transvestism', \"34702:hangin'\", '2338:bringing', '40834:seamier', '34703:wooded', '52018:bravora', '16817:grueling', '1636:wooden', '16818:wednesday', \"52019:'prix\", '34704:altagracia', '52020:circuitry', '11585:crotch', '57766:busybody', \"52021:tart'n'tangy\", '14129:burgade', '52023:thrace', \"11038:tom's\", '52025:snuggles', '29114:francesco', '52027:complainers', '52125:templarios', '40835:272', '52028:273', '52130:zaniacs', '34706:275', '27631:consenting', '40836:snuggled', '15492:inanimate', '52030:uality', '11926:bronte', '4010:errors', '3230:dialogs', \"52031:yomada's\", \"34707:madman's\", '30585:dialoge', '52033:usenet', '40837:videodrome', \"26338:kid'\", '52034:pawed', \"30569:'girlfriend'\", \"52035:'pleasure\", \"52036:'reloaded'\", \"40839:kazakos'\", '52037:rocque', '52038:mailings', '11927:brainwashed', '16819:mcanally', \"52039:tom''\", '25243:kurupt', '21905:affiliated', '52040:babaganoosh', \"40840:noe's\", '40841:quart', '359:kids', '5034:uplifting', '7093:controversy', '21906:kida', '23379:kidd', \"52041:error'\", '52042:neurologist', '18510:spotty', '30570:cobblers', '9878:projection', '40842:fastforwarding', '52043:sters', \"52044:eggar's\", '52045:etherything', '40843:gateshead', '34708:airball', '25244:unsinkable', '7180:stern', \"52046:cervi's\"]\n"
          ]
        }
      ]
    },
    {
      "cell_type": "code",
      "metadata": {
        "id": "Lhq6d5MWHzyi",
        "colab": {
          "base_uri": "https://localhost:8080/"
        },
        "outputId": "fc7baeb4-3cf7-4e1b-a099-f96711b39df8"
      },
      "source": [
        "# La review 0 es claramente positiva (target 1)\n",
        "i=0\n",
        "decoded = \" \".join( [reverse_index.get(i - 3, \"#\") for i in data[i]] )\n",
        "print(data[i])\n",
        "print()\n",
        "print(decoded)\n",
        "print()\n",
        "print(targets[i])"
      ],
      "execution_count": 9,
      "outputs": [
        {
          "output_type": "stream",
          "name": "stdout",
          "text": [
            "[1, 14, 22, 16, 43, 530, 973, 1622, 1385, 65, 458, 4468, 66, 3941, 4, 173, 36, 256, 5, 25, 100, 43, 838, 112, 50, 670, 22665, 9, 35, 480, 284, 5, 150, 4, 172, 112, 167, 21631, 336, 385, 39, 4, 172, 4536, 1111, 17, 546, 38, 13, 447, 4, 192, 50, 16, 6, 147, 2025, 19, 14, 22, 4, 1920, 4613, 469, 4, 22, 71, 87, 12, 16, 43, 530, 38, 76, 15, 13, 1247, 4, 22, 17, 515, 17, 12, 16, 626, 18, 19193, 5, 62, 386, 12, 8, 316, 8, 106, 5, 4, 2223, 5244, 16, 480, 66, 3785, 33, 4, 130, 12, 16, 38, 619, 5, 25, 124, 51, 36, 135, 48, 25, 1415, 33, 6, 22, 12, 215, 28, 77, 52, 5, 14, 407, 16, 82, 10311, 8, 4, 107, 117, 5952, 15, 256, 4, 2, 7, 3766, 5, 723, 36, 71, 43, 530, 476, 26, 400, 317, 46, 7, 4, 12118, 1029, 13, 104, 88, 4, 381, 15, 297, 98, 32, 2071, 56, 26, 141, 6, 194, 7486, 18, 4, 226, 22, 21, 134, 476, 26, 480, 5, 144, 30, 5535, 18, 51, 36, 28, 224, 92, 25, 104, 4, 226, 65, 16, 38, 1334, 88, 12, 16, 283, 5, 16, 4472, 113, 103, 32, 15, 16, 5345, 19, 178, 32]\n",
            "\n",
            "# this film was just brilliant casting location scenery story direction everyone's really suited the part they played and you could just imagine being there robert redford's is an amazing actor and now the same being director norman's father came from the same scottish island as myself so i loved the fact there was a real connection with this film the witty remarks throughout the film were great it was just brilliant so much that i bought the film as soon as it was released for retail and would recommend it to everyone to watch and the fly fishing was amazing really cried at the end it was so sad and you know what they say if you cry at a film it must have been good and this definitely was also congratulations to the two little boy's that played the # of norman and paul they were just brilliant children are often left out of the praising list i think because the stars that play them all grown up are such a big profile for the whole film but these children are amazing and should be praised for what they have done don't you think the whole story was so lovely because it was true and was someone's life after all that was shared with us all\n",
            "\n",
            "1\n"
          ]
        }
      ]
    },
    {
      "cell_type": "code",
      "source": [
        "# La review 1 es claramente negativa (target 0)\n",
        "i=1\n",
        "decoded = \" \".join( [reverse_index.get(i - 3, \"#\") for i in data[i]] )\n",
        "print(data[i])\n",
        "print()\n",
        "print(decoded)\n",
        "print()\n",
        "print(targets[i])"
      ],
      "metadata": {
        "colab": {
          "base_uri": "https://localhost:8080/"
        },
        "id": "5s3PQL7d6L4O",
        "outputId": "bbc81c1b-9b1d-4e4e-d708-5be84ad7d2bb"
      },
      "execution_count": 10,
      "outputs": [
        {
          "output_type": "stream",
          "name": "stdout",
          "text": [
            "[1, 194, 1153, 194, 8255, 78, 228, 5, 6, 1463, 4369, 5012, 134, 26, 4, 715, 8, 118, 1634, 14, 394, 20, 13, 119, 954, 189, 102, 5, 207, 110, 3103, 21, 14, 69, 188, 8, 30, 23, 7, 4, 249, 126, 93, 4, 114, 9, 2300, 1523, 5, 647, 4, 116, 9, 35, 8163, 4, 229, 9, 340, 1322, 4, 118, 9, 4, 130, 4901, 19, 4, 1002, 5, 89, 29, 952, 46, 37, 4, 455, 9, 45, 43, 38, 1543, 1905, 398, 4, 1649, 26, 6853, 5, 163, 11, 3215, 10156, 4, 1153, 9, 194, 775, 7, 8255, 11596, 349, 2637, 148, 605, 15358, 8003, 15, 123, 125, 68, 23141, 6853, 15, 349, 165, 4362, 98, 5, 4, 228, 9, 43, 2, 1157, 15, 299, 120, 5, 120, 174, 11, 220, 175, 136, 50, 9, 4373, 228, 8255, 5, 25249, 656, 245, 2350, 5, 4, 9837, 131, 152, 491, 18, 2, 32, 7464, 1212, 14, 9, 6, 371, 78, 22, 625, 64, 1382, 9, 8, 168, 145, 23, 4, 1690, 15, 16, 4, 1355, 5, 28, 6, 52, 154, 462, 33, 89, 78, 285, 16, 145, 95]\n",
            "\n",
            "# big hair big boobs bad music and a giant safety pin these are the words to best describe this terrible movie i love cheesy horror movies and i've seen hundreds but this had got to be on of the worst ever made the plot is paper thin and ridiculous the acting is an abomination the script is completely laughable the best is the end showdown with the cop and how he worked out who the killer is it's just so damn terribly written the clothes are sickening and funny in equal measures the hair is big lots of boobs bounce men wear those cut tee shirts that show off their stomachs sickening that men actually wore them and the music is just # trash that plays over and over again in almost every scene there is trashy music boobs and paramedics taking away bodies and the gym still doesn't close for # all joking aside this is a truly bad film whose only charm is to look back on the disaster that was the 80's and have a good old laugh at how bad everything was back then\n",
            "\n",
            "0\n"
          ]
        }
      ]
    },
    {
      "cell_type": "code",
      "source": [
        "data.shape"
      ],
      "metadata": {
        "colab": {
          "base_uri": "https://localhost:8080/"
        },
        "id": "gWXgwmM1mL8r",
        "outputId": "9ecf3976-94b1-47a8-ce57-6259cc1bfd2d"
      },
      "execution_count": 11,
      "outputs": [
        {
          "output_type": "execute_result",
          "data": {
            "text/plain": [
              "(50000,)"
            ]
          },
          "metadata": {},
          "execution_count": 11
        }
      ]
    },
    {
      "cell_type": "code",
      "source": [
        "lens=[len(x) for x in data]"
      ],
      "metadata": {
        "id": "wH8yl4s-mXjG"
      },
      "execution_count": 12,
      "outputs": []
    },
    {
      "cell_type": "code",
      "source": [
        "from matplotlib import pyplot as plt\n",
        "plt.hist(lens, bins=100)\n",
        "plt.show()"
      ],
      "metadata": {
        "colab": {
          "base_uri": "https://localhost:8080/",
          "height": 430
        },
        "id": "Q_JCaiKqmcYO",
        "outputId": "97a75844-6c55-4b5b-93c3-f8e230b6000b"
      },
      "execution_count": 13,
      "outputs": [
        {
          "output_type": "display_data",
          "data": {
            "text/plain": [
              "<Figure size 640x480 with 1 Axes>"
            ],
            "image/png": "[encoded data removed]"
          },
          "metadata": {}
        }
      ]
    },
    {
      "cell_type": "markdown",
      "metadata": {
        "id": "RBL_1v2eHzym"
      },
      "source": [
        "# Padding y formateo de data para entrenar"
      ]
    },
    {
      "cell_type": "code",
      "metadata": {
        "id": "HifepVsJxUlo"
      },
      "source": [
        "# Hyperparametro - Longitud máxima de comentario\n",
        "maxlen=1000"
      ],
      "execution_count": 14,
      "outputs": []
    },
    {
      "cell_type": "code",
      "metadata": {
        "id": "Tb8Mf33exUlu"
      },
      "source": [
        "# Padding es una función de Keras que me sirve para convertir los datos en una matriz\n",
        "# https://www.tensorflow.org/api_docs/python/tf/keras/utils/pad_sequences\n",
        "data = pad_sequences(data,maxlen=maxlen)"
      ],
      "execution_count": 15,
      "outputs": []
    },
    {
      "cell_type": "code",
      "source": [
        "data.shape"
      ],
      "metadata": {
        "colab": {
          "base_uri": "https://localhost:8080/"
        },
        "id": "DzC7E4bwooM4",
        "outputId": "bec1ccf1-a3db-4c59-9636-c24a8c7e7d16"
      },
      "execution_count": 16,
      "outputs": [
        {
          "output_type": "execute_result",
          "data": {
            "text/plain": [
              "(50000, 1000)"
            ]
          },
          "metadata": {},
          "execution_count": 16
        }
      ]
    },
    {
      "cell_type": "code",
      "metadata": {
        "id": "Fq-c12e5xUl8",
        "colab": {
          "base_uri": "https://localhost:8080/"
        },
        "outputId": "9129f8d0-a8d9-4fb9-94b3-31f90eb51ba4"
      },
      "source": [
        "# Verificamos que todos tengan longitud 1000\n",
        "print(len(data[0]))\n",
        "print(np.array([len(d) for d in data]).var())"
      ],
      "execution_count": 17,
      "outputs": [
        {
          "output_type": "stream",
          "name": "stdout",
          "text": [
            "1000\n",
            "0.0\n"
          ]
        }
      ]
    },
    {
      "cell_type": "markdown",
      "metadata": {
        "id": "8bplIZHWNUXo"
      },
      "source": [
        "# Armar una MLP con one-hot encoding para resolver el problema"
      ]
    },
    {
      "cell_type": "markdown",
      "source": [
        "Lo primero que se podría pensar es en armar one-hot encoding para las 30mil palabras. Eso genera una matríz con 30mil columnas para cada uno de las 50mil reseñas. Es grande pero manejable. El problema es que al hacer eso pierdo el ordenamiento de las palabras. Podría entonces armar un esquema de one-hot encoding en el que para cada una de las 1000 palabras de la review indique si aparece alguna de las 30mil palabras."
      ],
      "metadata": {
        "id": "OclZ7GaOtqnj"
      }
    },
    {
      "cell_type": "code",
      "metadata": {
        "id": "MQ51AMr2Nbok"
      },
      "source": [
        "from tensorflow.keras.layers import Dense\n",
        "from tensorflow.keras.models import Sequential"
      ],
      "execution_count": 18,
      "outputs": []
    },
    {
      "cell_type": "code",
      "metadata": {
        "id": "YV5eg2fDNdtk",
        "outputId": "39504084-aca5-42c0-a742-8b42a5af8251",
        "colab": {
          "base_uri": "https://localhost:8080/"
        }
      },
      "source": [
        "# usar maxlen y num_words para calcular la entrada\n",
        "# Utilizar una sola capa\n",
        "model = Sequential()\n",
        "## TODO\n",
        "salida_densa = 1\n",
        "input_shape = (1,num_words*maxlen)\n",
        "model.add(Dense(salida_densa, input_shape=input_shape, activation='softmax'))"
      ],
      "execution_count": 19,
      "outputs": [
        {
          "output_type": "stream",
          "name": "stderr",
          "text": [
            "/usr/local/lib/python3.10/dist-packages/keras/src/layers/core/dense.py:87: UserWarning: Do not pass an `input_shape`/`input_dim` argument to a layer. When using Sequential models, prefer using an `Input(shape)` object as the first layer in the model instead.\n",
            "  super().__init__(activity_regularizer=activity_regularizer, **kwargs)\n"
          ]
        }
      ]
    },
    {
      "cell_type": "code",
      "metadata": {
        "id": "PXqCIIv6OWe8",
        "colab": {
          "base_uri": "https://localhost:8080/",
          "height": 170
        },
        "outputId": "e9e199ad-209d-420c-ae75-d2e60cd8de82"
      },
      "source": [
        "model.summary()"
      ],
      "execution_count": 20,
      "outputs": [
        {
          "output_type": "display_data",
          "data": {
            "text/plain": [
              "\u001b[1mModel: \"sequential\"\u001b[0m\n"
            ],
            "text/html": [
              "<pre style=\"white-space:pre;overflow-x:auto;line-height:normal;font-family:Menlo,'DejaVu Sans Mono',consolas,'Courier New',monospace\"><span style=\"font-weight: bold\">Model: \"sequential\"</span>\n",
              "</pre>\n"
            ]
          },
          "metadata": {}
        },
        {
          "output_type": "display_data",
          "data": {
            "text/plain": [
              "┏━━━━━━━━━━━━━━━━━━━━━━━━━━━━━━━━━━━━━━┳━━━━━━━━━━━━━━━━━━━━━━━━━━━━━┳━━━━━━━━━━━━━━━━━┓\n",
              "┃\u001b[1m \u001b[0m\u001b[1mLayer (type)                        \u001b[0m\u001b[1m \u001b[0m┃\u001b[1m \u001b[0m\u001b[1mOutput Shape               \u001b[0m\u001b[1m \u001b[0m┃\u001b[1m \u001b[0m\u001b[1m        Param #\u001b[0m\u001b[1m \u001b[0m┃\n",
              "┡━━━━━━━━━━━━━━━━━━━━━━━━━━━━━━━━━━━━━━╇━━━━━━━━━━━━━━━━━━━━━━━━━━━━━╇━━━━━━━━━━━━━━━━━┩\n",
              "│ dense (\u001b[38;5;33mDense\u001b[0m)                        │ (\u001b[38;5;45mNone\u001b[0m, \u001b[38;5;34m1\u001b[0m, \u001b[38;5;34m1\u001b[0m)                │      \u001b[38;5;34m30,000,001\u001b[0m │\n",
              "└──────────────────────────────────────┴─────────────────────────────┴─────────────────┘\n"
            ],
            "text/html": [
              "<pre style=\"white-space:pre;overflow-x:auto;line-height:normal;font-family:Menlo,'DejaVu Sans Mono',consolas,'Courier New',monospace\">┏━━━━━━━━━━━━━━━━━━━━━━━━━━━━━━━━━━━━━━┳━━━━━━━━━━━━━━━━━━━━━━━━━━━━━┳━━━━━━━━━━━━━━━━━┓\n",
              "┃<span style=\"font-weight: bold\"> Layer (type)                         </span>┃<span style=\"font-weight: bold\"> Output Shape                </span>┃<span style=\"font-weight: bold\">         Param # </span>┃\n",
              "┡━━━━━━━━━━━━━━━━━━━━━━━━━━━━━━━━━━━━━━╇━━━━━━━━━━━━━━━━━━━━━━━━━━━━━╇━━━━━━━━━━━━━━━━━┩\n",
              "│ dense (<span style=\"color: #0087ff; text-decoration-color: #0087ff\">Dense</span>)                        │ (<span style=\"color: #00d7ff; text-decoration-color: #00d7ff\">None</span>, <span style=\"color: #00af00; text-decoration-color: #00af00\">1</span>, <span style=\"color: #00af00; text-decoration-color: #00af00\">1</span>)                │      <span style=\"color: #00af00; text-decoration-color: #00af00\">30,000,001</span> │\n",
              "└──────────────────────────────────────┴─────────────────────────────┴─────────────────┘\n",
              "</pre>\n"
            ]
          },
          "metadata": {}
        },
        {
          "output_type": "display_data",
          "data": {
            "text/plain": [
              "\u001b[1m Total params: \u001b[0m\u001b[38;5;34m30,000,001\u001b[0m (114.44 MB)\n"
            ],
            "text/html": [
              "<pre style=\"white-space:pre;overflow-x:auto;line-height:normal;font-family:Menlo,'DejaVu Sans Mono',consolas,'Courier New',monospace\"><span style=\"font-weight: bold\"> Total params: </span><span style=\"color: #00af00; text-decoration-color: #00af00\">30,000,001</span> (114.44 MB)\n",
              "</pre>\n"
            ]
          },
          "metadata": {}
        },
        {
          "output_type": "display_data",
          "data": {
            "text/plain": [
              "\u001b[1m Trainable params: \u001b[0m\u001b[38;5;34m30,000,001\u001b[0m (114.44 MB)\n"
            ],
            "text/html": [
              "<pre style=\"white-space:pre;overflow-x:auto;line-height:normal;font-family:Menlo,'DejaVu Sans Mono',consolas,'Courier New',monospace\"><span style=\"font-weight: bold\"> Trainable params: </span><span style=\"color: #00af00; text-decoration-color: #00af00\">30,000,001</span> (114.44 MB)\n",
              "</pre>\n"
            ]
          },
          "metadata": {}
        },
        {
          "output_type": "display_data",
          "data": {
            "text/plain": [
              "\u001b[1m Non-trainable params: \u001b[0m\u001b[38;5;34m0\u001b[0m (0.00 B)\n"
            ],
            "text/html": [
              "<pre style=\"white-space:pre;overflow-x:auto;line-height:normal;font-family:Menlo,'DejaVu Sans Mono',consolas,'Courier New',monospace\"><span style=\"font-weight: bold\"> Non-trainable params: </span><span style=\"color: #00af00; text-decoration-color: #00af00\">0</span> (0.00 B)\n",
              "</pre>\n"
            ]
          },
          "metadata": {}
        }
      ]
    },
    {
      "cell_type": "markdown",
      "metadata": {
        "id": "h-RLYV5QPBEX"
      },
      "source": [
        "## ¿Por que no es viable esta red?"
      ]
    },
    {
      "cell_type": "markdown",
      "metadata": {
        "id": "bnvzV5wiPKjs"
      },
      "source": [
        "# Armar Embeddings usando una MLP"
      ]
    },
    {
      "cell_type": "code",
      "metadata": {
        "id": "ecjdmUczPIVf"
      },
      "source": [
        "from tensorflow.keras.layers import Embedding, Flatten, Dropout, GlobalAveragePooling1D\n",
        "from tensorflow.keras import optimizers"
      ],
      "execution_count": 21,
      "outputs": []
    },
    {
      "cell_type": "code",
      "metadata": {
        "id": "OPTlDXslPO0o"
      },
      "source": [
        "# Cantidad de palabras totales contando las reservadas\n",
        "nb_words=num_words+3\n",
        "# Tamano del embedding. Es un hiperparámetro y puede modificarlo\n",
        "embed_dim=32\n",
        "salida_capa_densa = 1\n",
        "dropout=0.5 # Hiperparámetro\n",
        "\n",
        "model = Sequential()\n",
        "model.add(Embedding(nb_words, embed_dim, input_length=1000, trainable=True))\n",
        "model.add(GlobalAveragePooling1D())\n",
        "model.add(Dropout(dropout))\n",
        "model.add(Dense(salida_capa_densa, activation='sigmoid'))"
      ],
      "execution_count": 25,
      "outputs": []
    },
    {
      "cell_type": "code",
      "metadata": {
        "id": "qTs8XKCLPVqX",
        "outputId": "36019e44-6669-442f-e042-f922cf3678e2",
        "colab": {
          "base_uri": "https://localhost:8080/",
          "height": 289
        }
      },
      "source": [
        "model.summary()"
      ],
      "execution_count": 26,
      "outputs": [
        {
          "output_type": "display_data",
          "data": {
            "text/plain": [
              "\u001b[1mModel: \"sequential_3\"\u001b[0m\n"
            ],
            "text/html": [
              "<pre style=\"white-space:pre;overflow-x:auto;line-height:normal;font-family:Menlo,'DejaVu Sans Mono',consolas,'Courier New',monospace\"><span style=\"font-weight: bold\">Model: \"sequential_3\"</span>\n",
              "</pre>\n"
            ]
          },
          "metadata": {}
        },
        {
          "output_type": "display_data",
          "data": {
            "text/plain": [
              "┏━━━━━━━━━━━━━━━━━━━━━━━━━━━━━━━━━━━━━━┳━━━━━━━━━━━━━━━━━━━━━━━━━━━━━┳━━━━━━━━━━━━━━━━━┓\n",
              "┃\u001b[1m \u001b[0m\u001b[1mLayer (type)                        \u001b[0m\u001b[1m \u001b[0m┃\u001b[1m \u001b[0m\u001b[1mOutput Shape               \u001b[0m\u001b[1m \u001b[0m┃\u001b[1m \u001b[0m\u001b[1m        Param #\u001b[0m\u001b[1m \u001b[0m┃\n",
              "┡━━━━━━━━━━━━━━━━━━━━━━━━━━━━━━━━━━━━━━╇━━━━━━━━━━━━━━━━━━━━━━━━━━━━━╇━━━━━━━━━━━━━━━━━┩\n",
              "│ embedding_2 (\u001b[38;5;33mEmbedding\u001b[0m)              │ ?                           │     \u001b[38;5;34m0\u001b[0m (unbuilt) │\n",
              "├──────────────────────────────────────┼─────────────────────────────┼─────────────────┤\n",
              "│ global_average_pooling1d_2           │ ?                           │     \u001b[38;5;34m0\u001b[0m (unbuilt) │\n",
              "│ (\u001b[38;5;33mGlobalAveragePooling1D\u001b[0m)             │                             │                 │\n",
              "├──────────────────────────────────────┼─────────────────────────────┼─────────────────┤\n",
              "│ dropout_2 (\u001b[38;5;33mDropout\u001b[0m)                  │ ?                           │     \u001b[38;5;34m0\u001b[0m (unbuilt) │\n",
              "├──────────────────────────────────────┼─────────────────────────────┼─────────────────┤\n",
              "│ dense_3 (\u001b[38;5;33mDense\u001b[0m)                      │ ?                           │     \u001b[38;5;34m0\u001b[0m (unbuilt) │\n",
              "└──────────────────────────────────────┴─────────────────────────────┴─────────────────┘\n"
            ],
            "text/html": [
              "<pre style=\"white-space:pre;overflow-x:auto;line-height:normal;font-family:Menlo,'DejaVu Sans Mono',consolas,'Courier New',monospace\">┏━━━━━━━━━━━━━━━━━━━━━━━━━━━━━━━━━━━━━━┳━━━━━━━━━━━━━━━━━━━━━━━━━━━━━┳━━━━━━━━━━━━━━━━━┓\n",
              "┃<span style=\"font-weight: bold\"> Layer (type)                         </span>┃<span style=\"font-weight: bold\"> Output Shape                </span>┃<span style=\"font-weight: bold\">         Param # </span>┃\n",
              "┡━━━━━━━━━━━━━━━━━━━━━━━━━━━━━━━━━━━━━━╇━━━━━━━━━━━━━━━━━━━━━━━━━━━━━╇━━━━━━━━━━━━━━━━━┩\n",
              "│ embedding_2 (<span style=\"color: #0087ff; text-decoration-color: #0087ff\">Embedding</span>)              │ ?                           │     <span style=\"color: #00af00; text-decoration-color: #00af00\">0</span> (unbuilt) │\n",
              "├──────────────────────────────────────┼─────────────────────────────┼─────────────────┤\n",
              "│ global_average_pooling1d_2           │ ?                           │     <span style=\"color: #00af00; text-decoration-color: #00af00\">0</span> (unbuilt) │\n",
              "│ (<span style=\"color: #0087ff; text-decoration-color: #0087ff\">GlobalAveragePooling1D</span>)             │                             │                 │\n",
              "├──────────────────────────────────────┼─────────────────────────────┼─────────────────┤\n",
              "│ dropout_2 (<span style=\"color: #0087ff; text-decoration-color: #0087ff\">Dropout</span>)                  │ ?                           │     <span style=\"color: #00af00; text-decoration-color: #00af00\">0</span> (unbuilt) │\n",
              "├──────────────────────────────────────┼─────────────────────────────┼─────────────────┤\n",
              "│ dense_3 (<span style=\"color: #0087ff; text-decoration-color: #0087ff\">Dense</span>)                      │ ?                           │     <span style=\"color: #00af00; text-decoration-color: #00af00\">0</span> (unbuilt) │\n",
              "└──────────────────────────────────────┴─────────────────────────────┴─────────────────┘\n",
              "</pre>\n"
            ]
          },
          "metadata": {}
        },
        {
          "output_type": "display_data",
          "data": {
            "text/plain": [
              "\u001b[1m Total params: \u001b[0m\u001b[38;5;34m0\u001b[0m (0.00 B)\n"
            ],
            "text/html": [
              "<pre style=\"white-space:pre;overflow-x:auto;line-height:normal;font-family:Menlo,'DejaVu Sans Mono',consolas,'Courier New',monospace\"><span style=\"font-weight: bold\"> Total params: </span><span style=\"color: #00af00; text-decoration-color: #00af00\">0</span> (0.00 B)\n",
              "</pre>\n"
            ]
          },
          "metadata": {}
        },
        {
          "output_type": "display_data",
          "data": {
            "text/plain": [
              "\u001b[1m Trainable params: \u001b[0m\u001b[38;5;34m0\u001b[0m (0.00 B)\n"
            ],
            "text/html": [
              "<pre style=\"white-space:pre;overflow-x:auto;line-height:normal;font-family:Menlo,'DejaVu Sans Mono',consolas,'Courier New',monospace\"><span style=\"font-weight: bold\"> Trainable params: </span><span style=\"color: #00af00; text-decoration-color: #00af00\">0</span> (0.00 B)\n",
              "</pre>\n"
            ]
          },
          "metadata": {}
        },
        {
          "output_type": "display_data",
          "data": {
            "text/plain": [
              "\u001b[1m Non-trainable params: \u001b[0m\u001b[38;5;34m0\u001b[0m (0.00 B)\n"
            ],
            "text/html": [
              "<pre style=\"white-space:pre;overflow-x:auto;line-height:normal;font-family:Menlo,'DejaVu Sans Mono',consolas,'Courier New',monospace\"><span style=\"font-weight: bold\"> Non-trainable params: </span><span style=\"color: #00af00; text-decoration-color: #00af00\">0</span> (0.00 B)\n",
              "</pre>\n"
            ]
          },
          "metadata": {}
        }
      ]
    },
    {
      "cell_type": "code",
      "metadata": {
        "id": "J6bygoYSP1PW"
      },
      "source": [
        "# MODIFIQUE HYPERPARAMS A GUSTO\n",
        "from tensorflow.keras.optimizers import Adam\n",
        "adam = Adam(learning_rate=0.001, beta_1=0.9, beta_2=0.999, epsilon=1e-08)\n",
        "\n",
        "model.compile(loss='binary_crossentropy', optimizer=adam, metrics=['accuracy'])"
      ],
      "execution_count": 29,
      "outputs": []
    },
    {
      "cell_type": "code",
      "metadata": {
        "id": "U4tv5kkjPuaj",
        "outputId": "c127244a-5bdc-4794-a6db-d8e7e5f45c2c",
        "colab": {
          "base_uri": "https://localhost:8080/"
        }
      },
      "source": [
        "model.fit(data,targets,batch_size=32,epochs=5,validation_split=0.2)"
      ],
      "execution_count": 30,
      "outputs": [
        {
          "output_type": "stream",
          "name": "stdout",
          "text": [
            "Epoch 1/5\n",
            "\u001b[1m1250/1250\u001b[0m \u001b[32m━━━━━━━━━━━━━━━━━━━━\u001b[0m\u001b[37m\u001b[0m \u001b[1m23s\u001b[0m 17ms/step - accuracy: 0.5348 - loss: 0.6898 - val_accuracy: 0.7289 - val_loss: 0.6605\n",
            "Epoch 2/5\n",
            "\u001b[1m1250/1250\u001b[0m \u001b[32m━━━━━━━━━━━━━━━━━━━━\u001b[0m\u001b[37m\u001b[0m \u001b[1m44s\u001b[0m 20ms/step - accuracy: 0.6344 - loss: 0.6488 - val_accuracy: 0.7117 - val_loss: 0.5875\n",
            "Epoch 3/5\n",
            "\u001b[1m1250/1250\u001b[0m \u001b[32m━━━━━━━━━━━━━━━━━━━━\u001b[0m\u001b[37m\u001b[0m \u001b[1m20s\u001b[0m 16ms/step - accuracy: 0.7268 - loss: 0.5676 - val_accuracy: 0.7920 - val_loss: 0.4991\n",
            "Epoch 4/5\n",
            "\u001b[1m1250/1250\u001b[0m \u001b[32m━━━━━━━━━━━━━━━━━━━━\u001b[0m\u001b[37m\u001b[0m \u001b[1m22s\u001b[0m 18ms/step - accuracy: 0.7787 - loss: 0.4902 - val_accuracy: 0.7677 - val_loss: 0.4618\n",
            "Epoch 5/5\n",
            "\u001b[1m1250/1250\u001b[0m \u001b[32m━━━━━━━━━━━━━━━━━━━━\u001b[0m\u001b[37m\u001b[0m \u001b[1m42s\u001b[0m 19ms/step - accuracy: 0.8135 - loss: 0.4325 - val_accuracy: 0.8654 - val_loss: 0.3808\n"
          ]
        },
        {
          "output_type": "execute_result",
          "data": {
            "text/plain": [
              "<keras.src.callbacks.history.History at 0x7e3e75c547c0>"
            ]
          },
          "metadata": {},
          "execution_count": 30
        }
      ]
    },
    {
      "cell_type": "code",
      "source": [
        "model.layers[0].get_weights()[0].shape"
      ],
      "metadata": {
        "colab": {
          "base_uri": "https://localhost:8080/"
        },
        "id": "Vh63lIwNrl6_",
        "outputId": "89948a65-1695-4648-9ba2-a34254d0f9a7"
      },
      "execution_count": 31,
      "outputs": [
        {
          "output_type": "execute_result",
          "data": {
            "text/plain": [
              "(30003, 32)"
            ]
          },
          "metadata": {},
          "execution_count": 31
        }
      ]
    },
    {
      "cell_type": "code",
      "source": [
        "embeddings=model.layers[0].get_weights()[0][:500,:]"
      ],
      "metadata": {
        "id": "nDrVvcLaO7Oe"
      },
      "execution_count": 32,
      "outputs": []
    },
    {
      "cell_type": "code",
      "source": [
        "from sklearn.manifold import TSNE\n",
        "X_embedded = TSNE(n_components=2, learning_rate='auto', init='random').fit_transform(embeddings)"
      ],
      "metadata": {
        "id": "8oBYQZvUOYQ-"
      },
      "execution_count": 33,
      "outputs": []
    },
    {
      "cell_type": "code",
      "source": [
        "X_embedded.shape"
      ],
      "metadata": {
        "id": "-3PfgiGQPNdU",
        "outputId": "0eef7391-4e4d-464a-f550-18d21614a014",
        "colab": {
          "base_uri": "https://localhost:8080/"
        }
      },
      "execution_count": 34,
      "outputs": [
        {
          "output_type": "execute_result",
          "data": {
            "text/plain": [
              "(500, 2)"
            ]
          },
          "metadata": {},
          "execution_count": 34
        }
      ]
    },
    {
      "cell_type": "code",
      "source": [
        "index['good']"
      ],
      "metadata": {
        "id": "AS-bty1-PO2F",
        "outputId": "09fd3c0e-237a-4599-e5ac-29a14935ed46",
        "colab": {
          "base_uri": "https://localhost:8080/"
        }
      },
      "execution_count": 35,
      "outputs": [
        {
          "output_type": "execute_result",
          "data": {
            "text/plain": [
              "49"
            ]
          },
          "metadata": {},
          "execution_count": 35
        }
      ]
    },
    {
      "cell_type": "code",
      "source": [
        "from matplotlib import pyplot as plt\n",
        "plt.figure(figsize=(12,12))\n",
        "words=['good', 'bad', 'great', 'excellent']\n",
        "plt.scatter(X_embedded[:,0],X_embedded[:,1])\n",
        "for word in words:\n",
        "  idx=index[word]\n",
        "  plt.text(X_embedded[idx,0], X_embedded[idx,1], word)\n",
        "plt.show()"
      ],
      "metadata": {
        "id": "knLF00woPRY-",
        "outputId": "96fd4e89-7c15-483d-f8a9-447136d5be12",
        "colab": {
          "base_uri": "https://localhost:8080/",
          "height": 984
        }
      },
      "execution_count": 36,
      "outputs": [
        {
          "output_type": "display_data",
          "data": {
            "text/plain": [
              "<Figure size 1200x1200 with 1 Axes>"
            ],
            "image/png": "[encoded data removed]"
          },
          "metadata": {}
        }
      ]
    },
    {
      "cell_type": "code",
      "source": [
        "index['good']"
      ],
      "metadata": {
        "id": "tgpFFSlYm1gw",
        "outputId": "de4af173-b375-4aa6-d0b3-abcb1c3ed0e0",
        "colab": {
          "base_uri": "https://localhost:8080/"
        }
      },
      "execution_count": 37,
      "outputs": [
        {
          "output_type": "execute_result",
          "data": {
            "text/plain": [
              "49"
            ]
          },
          "metadata": {},
          "execution_count": 37
        }
      ]
    },
    {
      "cell_type": "code",
      "source": [
        "reverse_index[49]"
      ],
      "metadata": {
        "id": "pqMmNwCao49A",
        "outputId": "eaecda41-fbbf-4a0f-cf37-f931d998e643",
        "colab": {
          "base_uri": "https://localhost:8080/",
          "height": 35
        }
      },
      "execution_count": 38,
      "outputs": [
        {
          "output_type": "execute_result",
          "data": {
            "text/plain": [
              "'good'"
            ],
            "application/vnd.google.colaboratory.intrinsic+json": {
              "type": "string"
            }
          },
          "metadata": {},
          "execution_count": 38
        }
      ]
    },
    {
      "cell_type": "code",
      "source": [
        "test_data=np.arange(500).reshape(-1,1)"
      ],
      "metadata": {
        "id": "Tu_M36WImW4f"
      },
      "execution_count": 39,
      "outputs": []
    },
    {
      "cell_type": "code",
      "source": [
        "test_data.shape"
      ],
      "metadata": {
        "id": "XCsHFTECJUuB",
        "outputId": "2fea978b-d7df-4506-db68-560d53129dfa",
        "colab": {
          "base_uri": "https://localhost:8080/"
        }
      },
      "execution_count": 40,
      "outputs": [
        {
          "output_type": "execute_result",
          "data": {
            "text/plain": [
              "(500, 1)"
            ]
          },
          "metadata": {},
          "execution_count": 40
        }
      ]
    },
    {
      "cell_type": "code",
      "source": [
        "test_data=pad_sequences(test_data,maxlen=maxlen)"
      ],
      "metadata": {
        "id": "v7vCHMJDJxHZ"
      },
      "execution_count": 41,
      "outputs": []
    },
    {
      "cell_type": "code",
      "source": [
        "y_pred_test=model.predict(test_data)"
      ],
      "metadata": {
        "id": "M8S1CBxCmS52",
        "outputId": "311cf80d-51c1-4598-bf68-b0502cdec0c8",
        "colab": {
          "base_uri": "https://localhost:8080/"
        }
      },
      "execution_count": 42,
      "outputs": [
        {
          "output_type": "stream",
          "name": "stdout",
          "text": [
            "\u001b[1m16/16\u001b[0m \u001b[32m━━━━━━━━━━━━━━━━━━━━\u001b[0m\u001b[37m\u001b[0m \u001b[1m0s\u001b[0m 6ms/step\n"
          ]
        }
      ]
    },
    {
      "cell_type": "code",
      "source": [
        "words1=y_pred_test.flatten().argsort()[:250]\n",
        "words2=y_pred_test.flatten().argsort()[-250:]"
      ],
      "metadata": {
        "id": "A_J5PMRGsT2b"
      },
      "execution_count": 43,
      "outputs": []
    },
    {
      "cell_type": "markdown",
      "metadata": {
        "id": "hNPXfSxWQRI3"
      },
      "source": [
        "# Armar una CNN\n",
        "Abajo hay un ejemplo de arquitectur"
      ]
    },
    {
      "cell_type": "code",
      "metadata": {
        "id": "C8Yi3_A4V5AS"
      },
      "source": [
        "# _________________________________________________________________\n",
        "# Layer (type)                 Output Shape              Param #\n",
        "# =================================================================\n",
        "# embedding_12 (Embedding)     (None, 1000, 32)          960096\n",
        "# _________________________________________________________________\n",
        "# conv1d_7 (Conv1D)            (None, 1000, 64)          14400\n",
        "# _________________________________________________________________\n",
        "# max_pooling1d_4 (MaxPooling1 (None, 500, 64)           0\n",
        "# _________________________________________________________________\n",
        "# conv1d_8 (Conv1D)            (None, 500, 128)          57472\n",
        "# _________________________________________________________________\n",
        "# global_max_pooling1d_4 (Glob (None, 128)               0\n",
        "# _________________________________________________________________\n",
        "# dropout_4 (Dropout)          (None, 128)               0\n",
        "# _________________________________________________________________\n",
        "# dense_19 (Dense)             (None, 46)                5934\n",
        "# ================================================================="
      ],
      "execution_count": null,
      "outputs": []
    },
    {
      "cell_type": "code",
      "source": [
        "from tensorflow.keras.layers import Conv1D, MaxPooling1D"
      ],
      "metadata": {
        "id": "kHRVgjl9rfiJ"
      },
      "execution_count": null,
      "outputs": []
    },
    {
      "cell_type": "code",
      "source": [
        "# Cantidad de palabras totales contando las reservadas\n",
        "nb_words=num_words+3\n",
        "#Tamaño del embedding. Es un hiperparámetro y se puede modificar\n",
        "embed_dim=32\n",
        "salida_capa_densa=1\n",
        "dropout=0.3 #hiperparámetro\n",
        "\n",
        "model=Sequential()\n",
        "model.add(Embedding(nb_words, embed_dim, input_length=1000, trainable=True))\n",
        "model.add(Conv1D(64,5, activation='relu', padding='same'))\n",
        "model.add(MaxPooling1D())\n",
        "model.add(Conv1D(128,5, activation='relu', padding='same'))\n",
        "model.add(MaxPooling1D())\n",
        "model.add(Flatten())\n",
        "#model.add(Dropout(dropout))\n",
        "model.add(Dense(salida_capa_densa, activation='sigmoid'))"
      ],
      "metadata": {
        "id": "xyznZde8rnu6"
      },
      "execution_count": null,
      "outputs": []
    },
    {
      "cell_type": "code",
      "source": [
        "# MODIFIQUE HYPERPARAMS A GUSTO\n",
        "adam = Adam(learning_rate=0.001, beta_1=0.9, beta_2=0.999, epsilon=1e-08, decay=0.0)\n",
        "\n",
        "model.compile(loss='binary_crossentropy', optimizer=adam, metrics=['accuracy'])"
      ],
      "metadata": {
        "id": "AGCcSFEusyr8"
      },
      "execution_count": null,
      "outputs": []
    },
    {
      "cell_type": "code",
      "source": [
        "# No entrenar este modelo en clase, tarda unos 30 minutos\n",
        "model.fit(data,targets,batch_size=32,epochs=10,validation_split=0.2)"
      ],
      "metadata": {
        "id": "0ZyU3eYts039",
        "outputId": "60ea0ae9-0f7b-4ebb-e56a-6f4392e5526c",
        "colab": {
          "base_uri": "https://localhost:8080/"
        }
      },
      "execution_count": null,
      "outputs": [
        {
          "output_type": "stream",
          "name": "stdout",
          "text": [
            "Epoch 1/10\n",
            "1250/1250 [==============================] - 208s 166ms/step - loss: 0.3218 - accuracy: 0.8461 - val_loss: 0.2167 - val_accuracy: 0.9140\n",
            "Epoch 2/10\n",
            "1250/1250 [==============================] - 200s 160ms/step - loss: 0.1399 - accuracy: 0.9491 - val_loss: 0.2284 - val_accuracy: 0.9094\n",
            "Epoch 3/10\n",
            "1250/1250 [==============================] - 200s 160ms/step - loss: 0.0685 - accuracy: 0.9761 - val_loss: 0.3014 - val_accuracy: 0.9015\n",
            "Epoch 4/10\n",
            "1250/1250 [==============================] - 209s 167ms/step - loss: 0.0311 - accuracy: 0.9901 - val_loss: 0.4317 - val_accuracy: 0.9017\n",
            "Epoch 5/10\n",
            "1250/1250 [==============================] - 200s 160ms/step - loss: 0.0202 - accuracy: 0.9935 - val_loss: 0.5551 - val_accuracy: 0.8950\n",
            "Epoch 6/10\n",
            "1250/1250 [==============================] - 201s 161ms/step - loss: 0.0159 - accuracy: 0.9948 - val_loss: 0.5948 - val_accuracy: 0.8961\n",
            "Epoch 7/10\n",
            "1250/1250 [==============================] - 199s 159ms/step - loss: 0.0124 - accuracy: 0.9963 - val_loss: 0.6984 - val_accuracy: 0.8895\n",
            "Epoch 8/10\n",
            "1250/1250 [==============================] - 200s 160ms/step - loss: 0.0096 - accuracy: 0.9969 - val_loss: 0.8250 - val_accuracy: 0.8904\n",
            "Epoch 9/10\n",
            "1250/1250 [==============================] - 201s 161ms/step - loss: 0.0099 - accuracy: 0.9965 - val_loss: 0.8518 - val_accuracy: 0.8831\n",
            "Epoch 10/10\n",
            "1250/1250 [==============================] - 201s 161ms/step - loss: 0.0070 - accuracy: 0.9977 - val_loss: 0.8660 - val_accuracy: 0.8964\n"
          ]
        },
        {
          "output_type": "execute_result",
          "data": {
            "text/plain": [
              "<keras.callbacks.History at 0x7fb535a2dbe0>"
            ]
          },
          "metadata": {},
          "execution_count": 53
        }
      ]
    },
    {
      "cell_type": "code",
      "source": [
        "model.layers[0].get_weights()[0].shape"
      ],
      "metadata": {
        "colab": {
          "base_uri": "https://localhost:8080/"
        },
        "outputId": "991320dc-5031-4b49-ac82-83aa9a7cac34",
        "id": "lwPTtzXK16P1"
      },
      "execution_count": null,
      "outputs": [
        {
          "output_type": "execute_result",
          "data": {
            "text/plain": [
              "(30003, 32)"
            ]
          },
          "metadata": {},
          "execution_count": 54
        }
      ]
    },
    {
      "cell_type": "code",
      "source": [
        "embeddings=model.layers[0].get_weights()[0][:500,:]"
      ],
      "metadata": {
        "id": "VdvqGq7916P2"
      },
      "execution_count": null,
      "outputs": []
    },
    {
      "cell_type": "code",
      "source": [
        "from sklearn.manifold import TSNE\n",
        "X_embedded = TSNE(n_components=2, learning_rate='auto', init='random').fit_transform(embeddings)"
      ],
      "metadata": {
        "id": "1FICRKiU16P2"
      },
      "execution_count": null,
      "outputs": []
    },
    {
      "cell_type": "code",
      "source": [
        "X_embedded.shape"
      ],
      "metadata": {
        "outputId": "e960a23c-50bc-4af9-d78f-acf9a439cfa7",
        "colab": {
          "base_uri": "https://localhost:8080/"
        },
        "id": "s98zndiS16P2"
      },
      "execution_count": null,
      "outputs": [
        {
          "output_type": "execute_result",
          "data": {
            "text/plain": [
              "(500, 2)"
            ]
          },
          "metadata": {},
          "execution_count": 57
        }
      ]
    },
    {
      "cell_type": "code",
      "source": [
        "index['good']"
      ],
      "metadata": {
        "outputId": "dee494c8-623b-4d04-ee6e-190bb0df7f36",
        "colab": {
          "base_uri": "https://localhost:8080/"
        },
        "id": "5_8pEFLW16P3"
      },
      "execution_count": null,
      "outputs": [
        {
          "output_type": "execute_result",
          "data": {
            "text/plain": [
              "49"
            ]
          },
          "metadata": {},
          "execution_count": 58
        }
      ]
    },
    {
      "cell_type": "code",
      "source": [
        "from matplotlib import pyplot as plt\n",
        "plt.figure(figsize=(12,12))\n",
        "words=['good', 'bad', 'great', 'excellent']\n",
        "plt.scatter(X_embedded[:,0],X_embedded[:,1])\n",
        "for word in words:\n",
        "  idx=index[word]\n",
        "  plt.text(X_embedded[idx,0], X_embedded[idx,1], word)\n",
        "plt.show()"
      ],
      "metadata": {
        "outputId": "2ee29e59-cea2-41a9-d5e8-982509814522",
        "colab": {
          "base_uri": "https://localhost:8080/",
          "height": 984
        },
        "id": "ri5rJK5Q16P3"
      },
      "execution_count": null,
      "outputs": [
        {
          "output_type": "display_data",
          "data": {
            "text/plain": [
              "<Figure size 1200x1200 with 1 Axes>"
            ],
            "image/png": "[encoded data removed]"
          },
          "metadata": {}
        }
      ]
    },
    {
      "cell_type": "markdown",
      "source": [
        "# Attention"
      ],
      "metadata": {
        "id": "EPPrFPM2FPW3"
      }
    },
    {
      "cell_type": "code",
      "source": [
        "from tensorflow.keras.layers import Embedding, Conv1D, MaxPooling1D, GlobalMaxPooling1D, Dropout, Dense, Input, Concatenate,Dot,RepeatVector,TimeDistributed,Multiply,Lambda,Flatten,Activation,Reshape\n",
        "import tensorflow.keras.backend as K\n",
        "from tensorflow.keras.activations import softmax\n",
        "from tensorflow.keras.models import Model\n",
        "from tensorflow.keras import optimizers\n",
        "\n",
        "def softMaxOverTime(x):\n",
        "    return softmax(x,axis=1)\n",
        "\n",
        "key_dim=50\n",
        "nb_words=num_words+3\n",
        "num_filters=64\n",
        "input_layer = Input(shape=(maxlen,))\n",
        "embedding_layer=Embedding(nb_words, embed_dim,  input_length=maxlen, trainable=True)(input_layer)\n",
        "dense_input=Dense(key_dim,activation=\"tanh\")(embedding_layer)\n",
        "ulog_attention=Dense(1,activation=\"linear\")(dense_input)\n",
        "attention=Activation(softMaxOverTime)(ulog_attention)\n",
        "repeated_attention=TimeDistributed(RepeatVector(embed_dim))(attention)\n",
        "repeated_attention=Reshape([maxlen,embed_dim])(repeated_attention)\n",
        "weighted_embeddings=Multiply()([repeated_attention,embedding_layer])\n",
        "embedding_sum = Lambda(lambda x: K.sum(x, axis=1))(weighted_embeddings)\n",
        "dense1=Dense(32, activation='relu')(embedding_sum)\n",
        "dense2=Dense(1, activation='sigmoid')(dense1)\n",
        "model=Model(input_layer , dense2)\n",
        "adam = Adam(learning_rate=0.001, beta_1=0.9, beta_2=0.999, epsilon=1e-08, decay=0.0)\n",
        "model.compile(loss='binary_crossentropy', optimizer=adam, metrics=['accuracy'])"
      ],
      "metadata": {
        "id": "Ks0AOL_8uYMT",
        "outputId": "4a43b6c1-a364-456e-dc02-d1491ce4bd13",
        "colab": {
          "base_uri": "https://localhost:8080/"
        }
      },
      "execution_count": 44,
      "outputs": [
        {
          "output_type": "stream",
          "name": "stderr",
          "text": [
            "/usr/local/lib/python3.10/dist-packages/keras/src/layers/core/embedding.py:90: UserWarning: Argument `input_length` is deprecated. Just remove it.\n",
            "  warnings.warn(\n",
            "/usr/local/lib/python3.10/dist-packages/keras/src/optimizers/base_optimizer.py:33: UserWarning: Argument `decay` is no longer supported and will be ignored.\n",
            "  warnings.warn(\n"
          ]
        }
      ]
    },
    {
      "cell_type": "code",
      "metadata": {
        "id": "AzXyAjAvxUmW",
        "colab": {
          "base_uri": "https://localhost:8080/"
        },
        "outputId": "0883ceb1-572e-4e17-c603-9df3c21b6926"
      },
      "source": [
        "model.fit(data,targets,batch_size=32,epochs=10,validation_split=0.2)"
      ],
      "execution_count": 45,
      "outputs": [
        {
          "output_type": "stream",
          "name": "stdout",
          "text": [
            "Epoch 1/10\n",
            "\u001b[1m1250/1250\u001b[0m \u001b[32m━━━━━━━━━━━━━━━━━━━━\u001b[0m\u001b[37m\u001b[0m \u001b[1m331s\u001b[0m 160ms/step - accuracy: 0.7238 - loss: 0.4946 - val_accuracy: 0.9016 - val_loss: 0.2486\n",
            "Epoch 2/10\n",
            "\u001b[1m1250/1250\u001b[0m \u001b[32m━━━━━━━━━━━━━━━━━━━━\u001b[0m\u001b[37m\u001b[0m \u001b[1m145s\u001b[0m 116ms/step - accuracy: 0.9279 - loss: 0.1962 - val_accuracy: 0.9042 - val_loss: 0.2384\n",
            "Epoch 3/10\n",
            "\u001b[1m1250/1250\u001b[0m \u001b[32m━━━━━━━━━━━━━━━━━━━━\u001b[0m\u001b[37m\u001b[0m \u001b[1m146s\u001b[0m 116ms/step - accuracy: 0.9599 - loss: 0.1193 - val_accuracy: 0.9017 - val_loss: 0.2743\n",
            "Epoch 4/10\n",
            "\u001b[1m1250/1250\u001b[0m \u001b[32m━━━━━━━━━━━━━━━━━━━━\u001b[0m\u001b[37m\u001b[0m \u001b[1m202s\u001b[0m 116ms/step - accuracy: 0.9783 - loss: 0.0758 - val_accuracy: 0.8962 - val_loss: 0.2909\n",
            "Epoch 5/10\n",
            "\u001b[1m1250/1250\u001b[0m \u001b[32m━━━━━━━━━━━━━━━━━━━━\u001b[0m\u001b[37m\u001b[0m \u001b[1m201s\u001b[0m 116ms/step - accuracy: 0.9865 - loss: 0.0494 - val_accuracy: 0.8859 - val_loss: 0.3860\n",
            "Epoch 6/10\n",
            "\u001b[1m1250/1250\u001b[0m \u001b[32m━━━━━━━━━━━━━━━━━━━━\u001b[0m\u001b[37m\u001b[0m \u001b[1m206s\u001b[0m 119ms/step - accuracy: 0.9924 - loss: 0.0277 - val_accuracy: 0.8830 - val_loss: 0.4516\n",
            "Epoch 7/10\n",
            "\u001b[1m1250/1250\u001b[0m \u001b[32m━━━━━━━━━━━━━━━━━━━━\u001b[0m\u001b[37m\u001b[0m \u001b[1m196s\u001b[0m 115ms/step - accuracy: 0.9952 - loss: 0.0179 - val_accuracy: 0.8786 - val_loss: 0.5768\n",
            "Epoch 8/10\n",
            "\u001b[1m1250/1250\u001b[0m \u001b[32m━━━━━━━━━━━━━━━━━━━━\u001b[0m\u001b[37m\u001b[0m \u001b[1m154s\u001b[0m 124ms/step - accuracy: 0.9968 - loss: 0.0109 - val_accuracy: 0.8764 - val_loss: 0.6578\n",
            "Epoch 9/10\n",
            "\u001b[1m1250/1250\u001b[0m \u001b[32m━━━━━━━━━━━━━━━━━━━━\u001b[0m\u001b[37m\u001b[0m \u001b[1m197s\u001b[0m 120ms/step - accuracy: 0.9983 - loss: 0.0061 - val_accuracy: 0.8750 - val_loss: 0.8387\n",
            "Epoch 10/10\n",
            "\u001b[1m1250/1250\u001b[0m \u001b[32m━━━━━━━━━━━━━━━━━━━━\u001b[0m\u001b[37m\u001b[0m \u001b[1m143s\u001b[0m 115ms/step - accuracy: 0.9985 - loss: 0.0045 - val_accuracy: 0.8641 - val_loss: 0.9495\n"
          ]
        },
        {
          "output_type": "execute_result",
          "data": {
            "text/plain": [
              "<keras.src.callbacks.history.History at 0x7e3e76e02d70>"
            ]
          },
          "metadata": {},
          "execution_count": 45
        }
      ]
    },
    {
      "cell_type": "code",
      "source": [
        "model.layers[1].get_weights()[0].shape"
      ],
      "metadata": {
        "colab": {
          "base_uri": "https://localhost:8080/"
        },
        "outputId": "1c77808c-00d1-4a6a-d0c1-a6fd3d8e442f",
        "id": "xwYs-QDo19I_"
      },
      "execution_count": 46,
      "outputs": [
        {
          "output_type": "execute_result",
          "data": {
            "text/plain": [
              "(30003, 32)"
            ]
          },
          "metadata": {},
          "execution_count": 46
        }
      ]
    },
    {
      "cell_type": "code",
      "source": [
        "embeddings=model.layers[1].get_weights()[0][:500,:]"
      ],
      "metadata": {
        "id": "oFyIyaTJ19JA"
      },
      "execution_count": 47,
      "outputs": []
    },
    {
      "cell_type": "code",
      "source": [
        "from sklearn.manifold import TSNE\n",
        "X_embedded = TSNE(n_components=2, learning_rate='auto', init='random').fit_transform(embeddings)"
      ],
      "metadata": {
        "id": "KmNL9iOZ19JB"
      },
      "execution_count": 48,
      "outputs": []
    },
    {
      "cell_type": "code",
      "source": [
        "X_embedded.shape"
      ],
      "metadata": {
        "outputId": "0c89419d-0e0d-44a9-925c-03b2f6ccc315",
        "colab": {
          "base_uri": "https://localhost:8080/"
        },
        "id": "gqEZ4VX619JB"
      },
      "execution_count": 49,
      "outputs": [
        {
          "output_type": "execute_result",
          "data": {
            "text/plain": [
              "(500, 2)"
            ]
          },
          "metadata": {},
          "execution_count": 49
        }
      ]
    },
    {
      "cell_type": "code",
      "source": [
        "index['good']"
      ],
      "metadata": {
        "outputId": "52e2c2df-d843-4bbb-f443-6490fec70919",
        "colab": {
          "base_uri": "https://localhost:8080/"
        },
        "id": "1_WTkLuu19JB"
      },
      "execution_count": 50,
      "outputs": [
        {
          "output_type": "execute_result",
          "data": {
            "text/plain": [
              "49"
            ]
          },
          "metadata": {},
          "execution_count": 50
        }
      ]
    },
    {
      "cell_type": "code",
      "source": [
        "from matplotlib import pyplot as plt\n",
        "plt.figure(figsize=(12,12))\n",
        "words=['good', 'bad', 'great', 'excellent']\n",
        "plt.scatter(X_embedded[:,0],X_embedded[:,1])\n",
        "for word in words:\n",
        "  idx=index[word]\n",
        "  plt.text(X_embedded[idx,0], X_embedded[idx,1], word)\n",
        "plt.show()"
      ],
      "metadata": {
        "outputId": "1f9c4b78-a00f-4340-d9e8-9c3cd0707835",
        "colab": {
          "base_uri": "https://localhost:8080/",
          "height": 984
        },
        "id": "tFZKKHp-19JC"
      },
      "execution_count": 51,
      "outputs": [
        {
          "output_type": "display_data",
          "data": {
            "text/plain": [
              "<Figure size 1200x1200 with 1 Axes>"
            ],
            "image/png": "[encoded data removed]"
          },
          "metadata": {}
        }
      ]
    }
  ]
}