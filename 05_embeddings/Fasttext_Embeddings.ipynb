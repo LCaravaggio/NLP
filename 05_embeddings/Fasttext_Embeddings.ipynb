{
  "cells": [
    {
      "cell_type": "code",
      "execution_count": 1,
      "metadata": {
        "colab": {
          "base_uri": "https://localhost:8080/"
        },
        "id": "r-mpXuyJT9UO",
        "outputId": "3cb48f6e-f9ea-483e-cc7f-706bc99656ea"
      },
      "outputs": [
        {
          "output_type": "stream",
          "name": "stdout",
          "text": [
            "Downloading data from https://storage.googleapis.com/tensorflow/tf-keras-datasets/imdb.npz\n",
            "17465344/17464789 [==============================] - 0s 0us/step\n",
            "17473536/17464789 [==============================] - 0s 0us/step\n"
          ]
        }
      ],
      "source": [
        "from keras.datasets import imdb\n",
        "from keras.preprocessing.sequence import pad_sequences\n",
        "import numpy as np\n",
        "import gensim\n",
        "import os, re, csv, math, codecs\n",
        "num_words=30000\n",
        "(training_data, training_targets), (testing_data, testing_targets) = imdb.load_data(num_words=num_words+2,)\n",
        "data = np.concatenate((training_data, testing_data), axis=0)\n",
        "targets = np.concatenate((training_targets, testing_targets), axis=0)"
      ]
    },
    {
      "cell_type": "code",
      "execution_count": 2,
      "metadata": {
        "colab": {
          "base_uri": "https://localhost:8080/"
        },
        "id": "jEiPTqOBT_V7",
        "outputId": "faf75c52-aaa4-485b-f88b-e4cda9fc5fad"
      },
      "outputs": [
        {
          "output_type": "stream",
          "name": "stdout",
          "text": [
            "Categories: [0 1]\n",
            "Number of unique words: 30000\n"
          ]
        }
      ],
      "source": [
        "num_words=len(np.unique(np.hstack(data)))\n",
        "print(\"Categories:\", np.unique(targets))\n",
        "print(\"Number of unique words:\", num_words)"
      ]
    },
    {
      "cell_type": "markdown",
      "metadata": {
        "id": "xSFu-CU_r2QK"
      },
      "source": [
        "Agregar este archivo a la carpeta de google drive\n",
        "\n",
        "https://drive.google.com/file/d/12F_EmUdgY_eo86__UzIgrtyzlkK1NA1B/view?usp=sharing\n",
        "\n",
        "El archivo sale de: https://fasttext.cc/docs/en/english-vectors.html"
      ]
    },
    {
      "cell_type": "code",
      "execution_count": 3,
      "metadata": {
        "colab": {
          "base_uri": "https://localhost:8080/"
        },
        "id": "Y9mmn9fpUIY6",
        "outputId": "7e0d3612-e798-4dff-9607-6c3e81591624"
      },
      "outputs": [
        {
          "output_type": "stream",
          "name": "stdout",
          "text": [
            "Mounted at /content/drive\n"
          ]
        }
      ],
      "source": [
        "from google.colab import drive\n",
        "drive.mount('/content/drive')"
      ]
    },
    {
      "cell_type": "code",
      "execution_count": 4,
      "metadata": {
        "colab": {
          "base_uri": "https://localhost:8080/"
        },
        "id": "9tOvUY-MUJGH",
        "outputId": "1410f10f-a4da-4dc8-caa4-5fe1bb86d30c"
      },
      "outputs": [
        {
          "output_type": "stream",
          "name": "stdout",
          "text": [
            "Average Review length: 234.75892\n",
            "Standard Deviation: 173\n"
          ]
        }
      ],
      "source": [
        "length = [len(i) for i in data]\n",
        "print(\"Average Review length:\", np.mean(length))\n",
        "print(\"Standard Deviation:\", round(np.std(length)))"
      ]
    },
    {
      "cell_type": "code",
      "execution_count": 5,
      "metadata": {
        "colab": {
          "base_uri": "https://localhost:8080/"
        },
        "id": "jHY8EhzvUdzt",
        "outputId": "e807363f-c07f-4265-d36f-bceb9b8d5fe0"
      },
      "outputs": [
        {
          "output_type": "stream",
          "name": "stdout",
          "text": [
            "Label: 1\n",
            "[1, 14, 22, 16, 43, 530, 973, 1622, 1385, 65, 458, 4468, 66, 3941, 4, 173, 36, 256, 5, 25, 100, 43, 838, 112, 50, 670, 22665, 9, 35, 480, 284, 5, 150, 4, 172, 112, 167, 21631, 336, 385, 39, 4, 172, 4536, 1111, 17, 546, 38, 13, 447, 4, 192, 50, 16, 6, 147, 2025, 19, 14, 22, 4, 1920, 4613, 469, 4, 22, 71, 87, 12, 16, 43, 530, 38, 76, 15, 13, 1247, 4, 22, 17, 515, 17, 12, 16, 626, 18, 19193, 5, 62, 386, 12, 8, 316, 8, 106, 5, 4, 2223, 5244, 16, 480, 66, 3785, 33, 4, 130, 12, 16, 38, 619, 5, 25, 124, 51, 36, 135, 48, 25, 1415, 33, 6, 22, 12, 215, 28, 77, 52, 5, 14, 407, 16, 82, 10311, 8, 4, 107, 117, 5952, 15, 256, 4, 2, 7, 3766, 5, 723, 36, 71, 43, 530, 476, 26, 400, 317, 46, 7, 4, 12118, 1029, 13, 104, 88, 4, 381, 15, 297, 98, 32, 2071, 56, 26, 141, 6, 194, 7486, 18, 4, 226, 22, 21, 134, 476, 26, 480, 5, 144, 30, 5535, 18, 51, 36, 28, 224, 92, 25, 104, 4, 226, 65, 16, 38, 1334, 88, 12, 16, 283, 5, 16, 4472, 113, 103, 32, 15, 16, 5345, 19, 178, 32]\n"
          ]
        }
      ],
      "source": [
        "print(\"Label:\", targets[0])\n",
        "\n",
        "Label: 1\n",
        "print(data[0])"
      ]
    },
    {
      "cell_type": "code",
      "execution_count": 6,
      "metadata": {
        "colab": {
          "base_uri": "https://localhost:8080/"
        },
        "id": "4lY7mGCLUf0M",
        "outputId": "6ff163f9-67ed-49d8-e3e8-55d0d9a3aa64"
      },
      "outputs": [
        {
          "output_type": "stream",
          "name": "stdout",
          "text": [
            "Downloading data from https://storage.googleapis.com/tensorflow/tf-keras-datasets/imdb_word_index.json\n",
            "1646592/1641221 [==============================] - 0s 0us/step\n",
            "1654784/1641221 [==============================] - 0s 0us/step\n",
            "# big hair big boobs bad music and a giant safety pin these are the words to best describe this terrible movie i love cheesy horror movies and i've seen hundreds but this had got to be on of the worst ever made the plot is paper thin and ridiculous the acting is an abomination the script is completely laughable the best is the end showdown with the cop and how he worked out who the killer is it's just so damn terribly written the clothes are sickening and funny in equal measures the hair is big lots of boobs bounce men wear those cut tee shirts that show off their stomachs sickening that men actually wore them and the music is just # trash that plays over and over again in almost every scene there is trashy music boobs and paramedics taking away bodies and the gym still doesn't close for # all joking aside this is a truly bad film whose only charm is to look back on the disaster that was the 80's and have a good old laugh at how bad everything was back then\n"
          ]
        }
      ],
      "source": [
        "index = imdb.get_word_index()\n",
        "reverse_index = dict([(value, key) for (key, value) in index.items()]) \n",
        "decoded = \" \".join( [reverse_index.get(i - 3, \"#\") for i in data[1]] )\n",
        "print(decoded)"
      ]
    },
    {
      "cell_type": "code",
      "source": [
        "from tqdm import tqdm"
      ],
      "metadata": {
        "id": "a9kCaOUQC9nH"
      },
      "execution_count": 7,
      "outputs": []
    },
    {
      "cell_type": "code",
      "execution_count": 8,
      "metadata": {
        "colab": {
          "base_uri": "https://localhost:8080/"
        },
        "id": "8Yp9nq3GuKL8",
        "outputId": "c9c101c6-1913-496b-dea0-12bc4704a1e3"
      },
      "outputs": [
        {
          "output_type": "stream",
          "name": "stdout",
          "text": [
            "loading word embeddings...\n"
          ]
        },
        {
          "output_type": "stream",
          "name": "stderr",
          "text": [
            "999995it [01:19, 12538.07it/s]"
          ]
        },
        {
          "output_type": "stream",
          "name": "stdout",
          "text": [
            "found 999995 word vectors\n"
          ]
        },
        {
          "output_type": "stream",
          "name": "stderr",
          "text": [
            "\n"
          ]
        }
      ],
      "source": [
        "#load embeddings\n",
        "\n",
        "print('loading word embeddings...')\n",
        "embeddings_index = {}\n",
        "f = codecs.open('/content/drive/MyDrive/wiki-news-300d-1M.vec', encoding='utf-8')\n",
        "for line in tqdm(f):\n",
        "    values = line.rstrip().rsplit(' ')\n",
        "    word = values[0]\n",
        "    coefs = np.asarray(values[1:], dtype='float32')\n",
        "    embeddings_index[word] = coefs\n",
        "f.close()\n",
        "print('found %s word vectors' % len(embeddings_index))"
      ]
    },
    {
      "cell_type": "code",
      "execution_count": 10,
      "metadata": {
        "colab": {
          "base_uri": "https://localhost:8080/"
        },
        "id": "SDEVfp7RY489",
        "outputId": "df152182-a099-4e8d-d926-423a11f9ff3c"
      },
      "outputs": [
        {
          "output_type": "execute_result",
          "data": {
            "text/plain": [
              "array([ 1.576e-01,  2.110e-02,  1.950e-02,  9.590e-02,  6.000e-04,\n",
              "        8.230e-02, -3.850e-02, -4.880e-02, -2.200e-03, -5.000e-02,\n",
              "       -1.260e-02, -8.210e-02, -2.240e-02,  8.290e-02, -4.530e-02,\n",
              "       -7.700e-03, -1.390e-02, -6.670e-02,  5.500e-02, -6.070e-02,\n",
              "       -1.870e-02, -5.920e-02, -1.501e-01,  1.910e-01, -1.181e-01,\n",
              "       -3.200e-02, -1.066e-01,  2.630e-02, -3.070e-02, -4.810e-02,\n",
              "       -5.270e-02,  4.270e-02, -6.970e-02, -3.890e-02,  1.720e-02,\n",
              "       -1.270e-02,  3.220e-02,  5.730e-02,  2.380e-02,  1.720e-02,\n",
              "       -4.620e-02,  6.500e-03, -2.212e-01, -4.700e-02,  4.970e-02,\n",
              "       -7.460e-02,  8.080e-02, -3.000e-02, -1.008e-01, -7.080e-02,\n",
              "        1.840e-02,  1.363e-01, -6.166e-01,  2.990e-02, -8.810e-02,\n",
              "       -6.800e-02, -7.730e-02,  6.740e-02,  9.540e-02, -1.740e-02,\n",
              "        3.680e-02, -9.040e-02, -6.720e-02, -2.400e-02,  5.550e-02,\n",
              "       -2.070e-02,  4.300e-02, -7.760e-02,  1.064e-01,  6.110e-02,\n",
              "        7.950e-02, -7.790e-02,  7.080e-02,  3.990e-02, -9.060e-02,\n",
              "        6.110e-02, -5.900e-02,  3.860e-02, -1.259e-01, -1.133e-01,\n",
              "       -5.000e-04, -1.950e-02,  1.680e-02, -1.703e-01, -7.540e-02,\n",
              "        1.226e-01,  4.600e-02, -2.030e-02,  9.200e-02, -1.501e-01,\n",
              "        1.470e-02, -1.059e-01, -4.640e-02, -1.272e-01, -9.000e-04,\n",
              "       -2.840e-02, -2.720e-02, -2.600e-02, -2.800e-03,  7.910e-02,\n",
              "       -1.552e-01, -8.320e-02,  5.480e-02, -1.600e-02, -1.100e-03,\n",
              "        1.250e-01,  1.228e-01, -1.500e-03,  4.820e-02, -3.780e-02,\n",
              "       -1.960e-02,  3.160e-02, -3.290e-02,  1.900e-03,  3.800e-02,\n",
              "       -6.300e-03,  6.030e-02,  4.250e-02, -1.429e-01, -2.928e-01,\n",
              "        6.440e-02,  9.030e-02, -1.900e-03,  2.000e-02, -5.700e-03,\n",
              "        1.967e-01, -4.100e-02, -7.070e-02, -9.720e-02, -1.240e-02,\n",
              "        1.277e-01,  3.340e-02,  4.990e-02, -8.260e-02, -3.970e-02,\n",
              "       -9.300e-03,  4.630e-02, -6.440e-02,  1.037e-01,  8.830e-02,\n",
              "       -8.880e-02,  6.800e-02, -1.109e-01,  1.501e-01,  1.800e-03,\n",
              "        6.630e-02, -4.550e-02, -6.690e-02, -1.370e-02,  6.740e-02,\n",
              "        1.540e-02,  8.990e-02,  5.080e-02, -2.800e-03, -6.830e-02,\n",
              "       -1.490e-02,  3.730e-02, -8.030e-02, -6.000e-02,  9.330e-02,\n",
              "       -1.095e-01, -3.800e-02,  6.130e-02, -1.421e-01,  9.720e-02,\n",
              "        5.180e-02,  1.055e-01, -1.966e-01,  2.040e-02, -1.490e-02,\n",
              "       -9.130e-02,  1.116e-01, -3.750e-02,  1.217e-01,  2.500e-03,\n",
              "       -6.000e-04,  1.748e-01, -1.621e-01, -4.400e-02, -7.040e-02,\n",
              "       -6.100e-03,  2.050e-02, -7.420e-02,  6.670e-02,  7.380e-02,\n",
              "       -4.080e-02,  4.830e-02, -3.650e-02,  2.090e-02, -2.890e-02,\n",
              "       -3.450e-02, -9.390e-02,  4.330e-02,  4.440e-02,  2.320e-02,\n",
              "        9.010e-02,  7.190e-02, -4.160e-02,  1.175e-01, -9.280e-02,\n",
              "        7.740e-02, -9.810e-02,  7.300e-03,  7.370e-02,  3.910e-02,\n",
              "        1.977e-01, -5.490e-02,  4.510e-02,  7.260e-02, -2.080e-02,\n",
              "       -2.200e-03, -4.430e-02, -1.600e-03, -5.670e-02, -1.146e-01,\n",
              "       -1.052e-01, -8.250e-02, -1.680e-02,  5.100e-03,  1.300e-02,\n",
              "        7.200e-03,  6.180e-02,  4.230e-02,  1.470e-02,  1.747e-01,\n",
              "       -8.500e-03,  4.450e-02, -1.884e-01,  3.090e-02,  3.110e-02,\n",
              "       -1.653e-01, -5.920e-02,  3.481e-01, -6.330e-02,  2.260e-02,\n",
              "       -1.155e-01, -1.251e-01,  1.230e-01, -2.279e-01, -6.300e-03,\n",
              "       -2.990e-02, -9.500e-02, -2.410e-02, -1.445e-01,  1.320e-02,\n",
              "        4.940e-02, -2.210e-02, -1.686e-01, -2.290e-02,  2.944e-01,\n",
              "        4.270e-02,  1.357e-01, -6.030e-02, -5.660e-02, -4.810e-02,\n",
              "       -5.430e-02, -1.350e-02, -5.860e-02,  1.900e-02,  9.590e-02,\n",
              "       -4.660e-02, -1.280e-02,  4.640e-02,  7.120e-02, -1.552e-01,\n",
              "        3.750e-02,  3.030e-02,  6.670e-02, -1.577e-01,  6.940e-02,\n",
              "        6.300e-03,  3.250e-02,  4.500e-02, -8.130e-02,  1.550e-02,\n",
              "       -9.200e-03,  2.630e-02,  6.700e-03, -1.047e-01, -6.200e-02,\n",
              "       -2.600e-03, -5.890e-02,  2.029e-01, -1.440e-02, -4.300e-02,\n",
              "       -1.540e-02, -2.177e-01, -6.630e-02, -1.246e-01,  1.900e-03,\n",
              "        1.760e-02, -1.020e-02,  8.680e-02,  4.250e-02,  1.448e-01,\n",
              "        1.595e-01, -7.150e-02,  6.180e-02,  9.500e-03, -8.940e-02],\n",
              "      dtype=float32)"
            ]
          },
          "metadata": {},
          "execution_count": 10
        }
      ],
      "source": [
        "embeddings_index[\"home\"]"
      ]
    },
    {
      "cell_type": "code",
      "execution_count": 11,
      "metadata": {
        "id": "DlY6kxXlUv_b"
      },
      "outputs": [],
      "source": [
        "embed_dim=300\n",
        "embedding_matrix=np.zeros([num_words+4,embed_dim])\n",
        "for word, idx in index.items():\n",
        "  if idx <= num_words and word in embeddings_index:\n",
        "    embedding_matrix[idx+3,:]=embeddings_index[word]"
      ]
    },
    {
      "cell_type": "code",
      "execution_count": 12,
      "metadata": {
        "id": "_HdJ8KrrZszC"
      },
      "outputs": [],
      "source": [
        "maxlen=1000"
      ]
    },
    {
      "cell_type": "code",
      "execution_count": 13,
      "metadata": {
        "id": "6r9jiL4QarNw"
      },
      "outputs": [],
      "source": [
        "data = pad_sequences(data,maxlen=maxlen)"
      ]
    },
    {
      "cell_type": "code",
      "execution_count": 14,
      "metadata": {
        "colab": {
          "base_uri": "https://localhost:8080/"
        },
        "id": "OiL4twmwas3F",
        "outputId": "4be1c359-da7d-46a4-d99f-663f588351ff"
      },
      "outputs": [
        {
          "output_type": "execute_result",
          "data": {
            "text/plain": [
              "1000"
            ]
          },
          "metadata": {},
          "execution_count": 14
        }
      ],
      "source": [
        "len(data[0])"
      ]
    },
    {
      "cell_type": "code",
      "execution_count": 15,
      "metadata": {
        "colab": {
          "base_uri": "https://localhost:8080/"
        },
        "id": "XoPdGTyaaudk",
        "outputId": "f93645b5-74fa-42bc-d5ba-3a815b6828ab"
      },
      "outputs": [
        {
          "output_type": "execute_result",
          "data": {
            "text/plain": [
              "1000"
            ]
          },
          "metadata": {},
          "execution_count": 15
        }
      ],
      "source": [
        "len(data[1])"
      ]
    },
    {
      "cell_type": "code",
      "execution_count": 16,
      "metadata": {
        "id": "H9HdnsE2awBy"
      },
      "outputs": [],
      "source": [
        "data=np.array(data)"
      ]
    },
    {
      "cell_type": "code",
      "execution_count": 17,
      "metadata": {
        "colab": {
          "base_uri": "https://localhost:8080/"
        },
        "id": "ri0xt9ueaxlK",
        "outputId": "95632b82-7d08-41b7-f377-6f9ab307fe5e"
      },
      "outputs": [
        {
          "output_type": "execute_result",
          "data": {
            "text/plain": [
              "(50000, 1000)"
            ]
          },
          "metadata": {},
          "execution_count": 17
        }
      ],
      "source": [
        "data.shape"
      ]
    },
    {
      "cell_type": "code",
      "execution_count": 18,
      "metadata": {
        "colab": {
          "base_uri": "https://localhost:8080/"
        },
        "id": "CjoQz25NazxB",
        "outputId": "29d1c1ac-61a4-4a24-b9de-70462412c163"
      },
      "outputs": [
        {
          "output_type": "stream",
          "name": "stdout",
          "text": [
            "Model: \"sequential\"\n",
            "_________________________________________________________________\n",
            " Layer (type)                Output Shape              Param #   \n",
            "=================================================================\n",
            " embedding (Embedding)       (None, 1000, 300)         9001200   \n",
            "                                                                 \n",
            " conv1d (Conv1D)             (None, 1000, 64)          134464    \n",
            "                                                                 \n",
            " max_pooling1d (MaxPooling1D  (None, 500, 64)          0         \n",
            " )                                                               \n",
            "                                                                 \n",
            " conv1d_1 (Conv1D)           (None, 500, 128)          57472     \n",
            "                                                                 \n",
            " global_max_pooling1d (Globa  (None, 128)              0         \n",
            " lMaxPooling1D)                                                  \n",
            "                                                                 \n",
            " dropout (Dropout)           (None, 128)               0         \n",
            "                                                                 \n",
            " dense (Dense)               (None, 32)                4128      \n",
            "                                                                 \n",
            " dense_1 (Dense)             (None, 1)                 33        \n",
            "                                                                 \n",
            "=================================================================\n",
            "Total params: 9,197,297\n",
            "Trainable params: 196,097\n",
            "Non-trainable params: 9,001,200\n",
            "_________________________________________________________________\n"
          ]
        },
        {
          "output_type": "stream",
          "name": "stderr",
          "text": [
            "/usr/local/lib/python3.7/dist-packages/keras/optimizer_v2/adam.py:105: UserWarning: The `lr` argument is deprecated, use `learning_rate` instead.\n",
            "  super(Adam, self).__init__(name, **kwargs)\n"
          ]
        }
      ],
      "source": [
        "import tensorflow as tf\n",
        "from keras.layers import Embedding, Conv1D, MaxPooling1D, GlobalMaxPooling1D, Dropout, Dense\n",
        "from keras.models import Sequential\n",
        "from keras import optimizers\n",
        "nb_words=num_words+4\n",
        "num_filters=64\n",
        "model = Sequential()\n",
        "model.add(Embedding(nb_words, embed_dim, weights=[embedding_matrix], input_length=maxlen, trainable=False))\n",
        "model.add(Conv1D(num_filters, 7, activation='relu', padding='same'))\n",
        "model.add(MaxPooling1D(2))\n",
        "model.add(Conv1D(num_filters*2, 7, activation='relu', padding='same'))\n",
        "model.add(GlobalMaxPooling1D())\n",
        "model.add(Dropout(0.5))\n",
        "model.add(Dense(32, activation='relu'))\n",
        "model.add(Dense(1, activation='sigmoid'))  #multi-label (k-hot encoding)\n",
        "\n",
        "adam = tf.optimizers.Adam(lr=0.001, beta_1=0.9, beta_2=0.999, epsilon=1e-08, decay=0.0)\n",
        "model.compile(loss='binary_crossentropy', optimizer=adam, metrics=['accuracy'])\n",
        "model.summary()"
      ]
    },
    {
      "cell_type": "code",
      "execution_count": 19,
      "metadata": {
        "colab": {
          "base_uri": "https://localhost:8080/"
        },
        "id": "fnkm8psrbO3A",
        "outputId": "d38c27ac-5dbe-4979-ca22-b96ef8514e0a"
      },
      "outputs": [
        {
          "output_type": "stream",
          "name": "stdout",
          "text": [
            "Epoch 1/20\n",
            "1250/1250 [==============================] - 30s 14ms/step - loss: 0.3959 - accuracy: 0.8124 - val_loss: 0.2725 - val_accuracy: 0.8833\n",
            "Epoch 2/20\n",
            "1250/1250 [==============================] - 16s 13ms/step - loss: 0.2749 - accuracy: 0.8875 - val_loss: 0.2508 - val_accuracy: 0.8982\n",
            "Epoch 3/20\n",
            "1250/1250 [==============================] - 16s 13ms/step - loss: 0.2345 - accuracy: 0.9065 - val_loss: 0.2450 - val_accuracy: 0.9018\n",
            "Epoch 4/20\n",
            "1250/1250 [==============================] - 16s 13ms/step - loss: 0.1990 - accuracy: 0.9217 - val_loss: 0.2608 - val_accuracy: 0.8919\n",
            "Epoch 5/20\n",
            "1250/1250 [==============================] - 16s 13ms/step - loss: 0.1642 - accuracy: 0.9377 - val_loss: 0.2604 - val_accuracy: 0.8972\n",
            "Epoch 6/20\n",
            "1250/1250 [==============================] - 18s 14ms/step - loss: 0.1373 - accuracy: 0.9468 - val_loss: 0.2647 - val_accuracy: 0.8991\n",
            "Epoch 7/20\n",
            "1250/1250 [==============================] - 18s 14ms/step - loss: 0.1115 - accuracy: 0.9574 - val_loss: 0.2900 - val_accuracy: 0.8926\n",
            "Epoch 8/20\n",
            "1250/1250 [==============================] - 18s 14ms/step - loss: 0.0966 - accuracy: 0.9642 - val_loss: 0.2919 - val_accuracy: 0.8991\n",
            "Epoch 9/20\n",
            "1250/1250 [==============================] - 16s 13ms/step - loss: 0.0787 - accuracy: 0.9710 - val_loss: 0.4047 - val_accuracy: 0.8825\n",
            "Epoch 10/20\n",
            "1250/1250 [==============================] - 18s 14ms/step - loss: 0.0705 - accuracy: 0.9734 - val_loss: 0.3656 - val_accuracy: 0.8975\n",
            "Epoch 11/20\n",
            "1250/1250 [==============================] - 18s 14ms/step - loss: 0.0581 - accuracy: 0.9774 - val_loss: 0.4104 - val_accuracy: 0.8934\n",
            "Epoch 12/20\n",
            "1250/1250 [==============================] - 18s 14ms/step - loss: 0.0549 - accuracy: 0.9800 - val_loss: 0.4349 - val_accuracy: 0.8957\n",
            "Epoch 13/20\n",
            "1250/1250 [==============================] - 17s 13ms/step - loss: 0.0502 - accuracy: 0.9811 - val_loss: 0.5058 - val_accuracy: 0.8889\n",
            "Epoch 14/20\n",
            "1250/1250 [==============================] - 18s 14ms/step - loss: 0.0438 - accuracy: 0.9841 - val_loss: 0.4698 - val_accuracy: 0.8955\n",
            "Epoch 15/20\n",
            "1250/1250 [==============================] - 17s 13ms/step - loss: 0.0421 - accuracy: 0.9840 - val_loss: 0.4913 - val_accuracy: 0.8973\n",
            "Epoch 16/20\n",
            "1250/1250 [==============================] - 18s 14ms/step - loss: 0.0364 - accuracy: 0.9863 - val_loss: 0.4394 - val_accuracy: 0.8962\n",
            "Epoch 17/20\n",
            "1250/1250 [==============================] - 17s 13ms/step - loss: 0.0353 - accuracy: 0.9873 - val_loss: 0.5235 - val_accuracy: 0.8931\n",
            "Epoch 18/20\n",
            "1250/1250 [==============================] - 18s 14ms/step - loss: 0.0361 - accuracy: 0.9868 - val_loss: 0.4613 - val_accuracy: 0.8961\n",
            "Epoch 19/20\n",
            "1250/1250 [==============================] - 17s 13ms/step - loss: 0.0307 - accuracy: 0.9890 - val_loss: 0.5771 - val_accuracy: 0.8918\n",
            "Epoch 20/20\n",
            "1250/1250 [==============================] - 18s 14ms/step - loss: 0.0281 - accuracy: 0.9898 - val_loss: 0.6502 - val_accuracy: 0.8934\n"
          ]
        },
        {
          "output_type": "execute_result",
          "data": {
            "text/plain": [
              "<keras.callbacks.History at 0x7f6be0572e50>"
            ]
          },
          "metadata": {},
          "execution_count": 19
        }
      ],
      "source": [
        "model.fit(data,targets,batch_size=32,epochs=20,validation_split=0.2)"
      ]
    },
    {
      "cell_type": "code",
      "execution_count": 20,
      "metadata": {
        "colab": {
          "base_uri": "https://localhost:8080/"
        },
        "id": "WymZVTH8b4lQ",
        "outputId": "a4aa05d9-58e5-40d3-9077-f123dee2ee2b"
      },
      "outputs": [
        {
          "output_type": "execute_result",
          "data": {
            "text/plain": [
              "array([[ 0.    ,  0.    ,  0.    , ...,  0.    ,  0.    ,  0.    ],\n",
              "       [ 0.    ,  0.    ,  0.    , ...,  0.    ,  0.    ,  0.    ],\n",
              "       [ 0.    ,  0.    ,  0.    , ...,  0.    ,  0.    ,  0.    ],\n",
              "       ...,\n",
              "       [-0.1016, -0.0326, -0.0645, ...,  0.1472,  0.0353,  0.0965],\n",
              "       [-0.0605, -0.0081,  0.1003, ...,  0.126 , -0.0304, -0.0316],\n",
              "       [-0.2191, -0.0352, -0.0829, ..., -0.1367, -0.2115, -0.0451]])"
            ]
          },
          "metadata": {},
          "execution_count": 20
        }
      ],
      "source": [
        "embedding_matrix"
      ]
    },
    {
      "cell_type": "code",
      "execution_count": null,
      "metadata": {
        "id": "wCaQWMIVdSiI"
      },
      "outputs": [],
      "source": []
    }
  ],
  "metadata": {
    "accelerator": "GPU",
    "colab": {
      "machine_shape": "hm",
      "name": "Fasttext - Embeddings.ipynb",
      "provenance": []
    },
    "kernelspec": {
      "display_name": "Python 3",
      "language": "python",
      "name": "python3"
    },
    "language_info": {
      "codemirror_mode": {
        "name": "ipython",
        "version": 3
      },
      "file_extension": ".py",
      "mimetype": "text/x-python",
      "name": "python",
      "nbconvert_exporter": "python",
      "pygments_lexer": "ipython3",
      "version": "3.7.3"
    }
  },
  "nbformat": 4,
  "nbformat_minor": 0
}