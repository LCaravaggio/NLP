{
  "cells": [
    {
      "cell_type": "markdown",
      "metadata": {
        "id": "view-in-github",
        "colab_type": "text"
      },
      "source": [
        "<a href=\"https://colab.research.google.com/github/LCaravaggio/NLP/blob/main/09_Transformers/RAG.ipynb\" target=\"_parent\"><img src=\"https://colab.research.google.com/assets/colab-badge.svg\" alt=\"Open In Colab\"/></a>"
      ]
    },
    {
      "cell_type": "markdown",
      "source": [
        "Usando RAG (Retrieval-Augmented Generation), vamos a armar un sistema capaz de responder preguntas _basadas en evidencia_, es decir, basadas en una fuente de información específica."
      ],
      "metadata": {
        "id": "matDBjuPNjJr"
      }
    },
    {
      "cell_type": "markdown",
      "metadata": {
        "vscode": {
          "languageId": "plaintext"
        },
        "id": "fznDRnut29JH"
      },
      "source": [
        "## Configuración del entorno"
      ]
    },
    {
      "cell_type": "code",
      "execution_count": 1,
      "metadata": {
        "id": "VyyGo6a429JI",
        "colab": {
          "base_uri": "https://localhost:8080/"
        },
        "outputId": "a8315cbc-0cca-4f85-f44f-c4b0379e7665"
      },
      "outputs": [
        {
          "output_type": "stream",
          "name": "stdout",
          "text": [
            "\u001b[2K     \u001b[90m━━━━━━━━━━━━━━━━━━━━━━━━━━━━━━━━━━━━━━━━\u001b[0m \u001b[32m50.6/50.6 kB\u001b[0m \u001b[31m823.7 kB/s\u001b[0m eta \u001b[36m0:00:00\u001b[0m\n",
            "\u001b[2K   \u001b[90m━━━━━━━━━━━━━━━━━━━━━━━━━━━━━━━━━━━━━━━━\u001b[0m \u001b[32m40.4/40.4 kB\u001b[0m \u001b[31m1.2 MB/s\u001b[0m eta \u001b[36m0:00:00\u001b[0m\n",
            "\u001b[2K   \u001b[90m━━━━━━━━━━━━━━━━━━━━━━━━━━━━━━━━━━━━━━━━\u001b[0m \u001b[32m88.6/88.6 kB\u001b[0m \u001b[31m4.6 MB/s\u001b[0m eta \u001b[36m0:00:00\u001b[0m\n",
            "\u001b[2K   \u001b[90m━━━━━━━━━━━━━━━━━━━━━━━━━━━━━━━━━━━━━━━━\u001b[0m \u001b[32m2.4/2.4 MB\u001b[0m \u001b[31m19.7 MB/s\u001b[0m eta \u001b[36m0:00:00\u001b[0m\n",
            "\u001b[2K   \u001b[90m━━━━━━━━━━━━━━━━━━━━━━━━━━━━━━━━━━━━━━━━\u001b[0m \u001b[32m27.5/27.5 MB\u001b[0m \u001b[31m15.7 MB/s\u001b[0m eta \u001b[36m0:00:00\u001b[0m\n",
            "\u001b[2K   \u001b[90m━━━━━━━━━━━━━━━━━━━━━━━━━━━━━━━━━━━━━━━━\u001b[0m \u001b[32m255.8/255.8 kB\u001b[0m \u001b[31m18.6 MB/s\u001b[0m eta \u001b[36m0:00:00\u001b[0m\n",
            "\u001b[2K   \u001b[90m━━━━━━━━━━━━━━━━━━━━━━━━━━━━━━━━━━━━━━━━\u001b[0m \u001b[32m472.7/472.7 kB\u001b[0m \u001b[31m27.1 MB/s\u001b[0m eta \u001b[36m0:00:00\u001b[0m\n",
            "\u001b[2K   \u001b[90m━━━━━━━━━━━━━━━━━━━━━━━━━━━━━━━━━━━━━━━━\u001b[0m \u001b[32m116.3/116.3 kB\u001b[0m \u001b[31m9.0 MB/s\u001b[0m eta \u001b[36m0:00:00\u001b[0m\n",
            "\u001b[2K   \u001b[90m━━━━━━━━━━━━━━━━━━━━━━━━━━━━━━━━━━━━━━━━\u001b[0m \u001b[32m130.5/130.5 kB\u001b[0m \u001b[31m12.1 MB/s\u001b[0m eta \u001b[36m0:00:00\u001b[0m\n",
            "\u001b[2K   \u001b[90m━━━━━━━━━━━━━━━━━━━━━━━━━━━━━━━━━━━━━━━━\u001b[0m \u001b[32m76.4/76.4 kB\u001b[0m \u001b[31m6.4 MB/s\u001b[0m eta \u001b[36m0:00:00\u001b[0m\n",
            "\u001b[2K   \u001b[90m━━━━━━━━━━━━━━━━━━━━━━━━━━━━━━━━━━━━━━━━\u001b[0m \u001b[32m78.0/78.0 kB\u001b[0m \u001b[31m7.4 MB/s\u001b[0m eta \u001b[36m0:00:00\u001b[0m\n",
            "\u001b[2K   \u001b[90m━━━━━━━━━━━━━━━━━━━━━━━━━━━━━━━━━━━━━━━━\u001b[0m \u001b[32m1.0/1.0 MB\u001b[0m \u001b[31m41.5 MB/s\u001b[0m eta \u001b[36m0:00:00\u001b[0m\n",
            "\u001b[2K   \u001b[90m━━━━━━━━━━━━━━━━━━━━━━━━━━━━━━━━━━━━━━━━\u001b[0m \u001b[32m408.0/408.0 kB\u001b[0m \u001b[31m18.6 MB/s\u001b[0m eta \u001b[36m0:00:00\u001b[0m\n",
            "\u001b[2K   \u001b[90m━━━━━━━━━━━━━━━━━━━━━━━━━━━━━━━━━━━━━━━━\u001b[0m \u001b[32m296.9/296.9 kB\u001b[0m \u001b[31m22.3 MB/s\u001b[0m eta \u001b[36m0:00:00\u001b[0m\n",
            "\u001b[2K   \u001b[90m━━━━━━━━━━━━━━━━━━━━━━━━━━━━━━━━━━━━━━━━\u001b[0m \u001b[32m134.8/134.8 kB\u001b[0m \u001b[31m12.4 MB/s\u001b[0m eta \u001b[36m0:00:00\u001b[0m\n",
            "\u001b[2K   \u001b[90m━━━━━━━━━━━━━━━━━━━━━━━━━━━━━━━━━━━━━━━━\u001b[0m \u001b[32m194.1/194.1 kB\u001b[0m \u001b[31m17.3 MB/s\u001b[0m eta \u001b[36m0:00:00\u001b[0m\n",
            "\u001b[2K   \u001b[90m━━━━━━━━━━━━━━━━━━━━━━━━━━━━━━━━━━━━━━━━\u001b[0m \u001b[32m1.6/1.6 MB\u001b[0m \u001b[31m62.4 MB/s\u001b[0m eta \u001b[36m0:00:00\u001b[0m\n",
            "\u001b[2K   \u001b[90m━━━━━━━━━━━━━━━━━━━━━━━━━━━━━━━━━━━━━━━━\u001b[0m \u001b[32m49.5/49.5 kB\u001b[0m \u001b[31m4.0 MB/s\u001b[0m eta \u001b[36m0:00:00\u001b[0m\n",
            "\u001b[2K   \u001b[90m━━━━━━━━━━━━━━━━━━━━━━━━━━━━━━━━━━━━━━━━\u001b[0m \u001b[32m144.5/144.5 kB\u001b[0m \u001b[31m12.6 MB/s\u001b[0m eta \u001b[36m0:00:00\u001b[0m\n",
            "\u001b[2K   \u001b[90m━━━━━━━━━━━━━━━━━━━━━━━━━━━━━━━━━━━━━━━━\u001b[0m \u001b[32m54.5/54.5 kB\u001b[0m \u001b[31m4.2 MB/s\u001b[0m eta \u001b[36m0:00:00\u001b[0m\n",
            "\u001b[2K   \u001b[90m━━━━━━━━━━━━━━━━━━━━━━━━━━━━━━━━━━━━━━━━\u001b[0m \u001b[32m58.3/58.3 kB\u001b[0m \u001b[31m4.6 MB/s\u001b[0m eta \u001b[36m0:00:00\u001b[0m\n",
            "\u001b[?25h"
          ]
        }
      ],
      "source": [
        "!pip install -qU google-generativeai langchain-google-genai langchain-google-vertexai\\\n",
        "    langchain-community langchainhub faiss-cpu sentence-transformers datasets watermark"
      ]
    },
    {
      "cell_type": "code",
      "execution_count": 2,
      "metadata": {
        "id": "l-df2db629JJ"
      },
      "outputs": [],
      "source": [
        "%reload_ext watermark"
      ]
    },
    {
      "cell_type": "code",
      "source": [
        "%watermark -vmp \\\n",
        "google.generativeai,langchain_google_genai,langchain_google_vertexai,langchain_community,langchainhub,faiss,datasets,transformers,sentence_transformers,torch,pandas,numpy"
      ],
      "metadata": {
        "colab": {
          "base_uri": "https://localhost:8080/"
        },
        "id": "QPppx6jA3LOJ",
        "outputId": "9f15041a-3800-4693-8862-2c8e8a312826"
      },
      "execution_count": 3,
      "outputs": [
        {
          "output_type": "stream",
          "name": "stderr",
          "text": [
            "/usr/local/lib/python3.10/dist-packages/tensorflow/lite/python/util.py:55: DeprecationWarning: jax.xla_computation is deprecated. Please use the AOT APIs; see https://jax.readthedocs.io/en/latest/aot.html. For example, replace xla_computation(f)(*xs) with jit(f).lower(*xs).compiler_ir('hlo'). See CHANGELOG.md for 0.4.30 for more examples.\n",
            "  from jax import xla_computation as _xla_computation\n",
            "/usr/local/lib/python3.10/dist-packages/tensorflow/lite/python/util.py:55: DeprecationWarning: jax.xla_computation is deprecated. Please use the AOT APIs; see https://jax.readthedocs.io/en/latest/aot.html. For example, replace xla_computation(f)(*xs) with jit(f).lower(*xs).compiler_ir('hlo'). See CHANGELOG.md for 0.4.30 for more examples.\n",
            "  from jax import xla_computation as _xla_computation\n"
          ]
        },
        {
          "output_type": "stream",
          "name": "stdout",
          "text": [
            "Python implementation: CPython\n",
            "Python version       : 3.10.12\n",
            "IPython version      : 7.34.0\n",
            "\n",
            "google.generativeai      : 0.8.3\n",
            "langchain_google_genai   : 2.0.1\n",
            "langchain_google_vertexai: 2.0.5\n",
            "langchain_community      : 0.3.3\n",
            "langchainhub             : 0.1.21\n",
            "faiss                    : 1.9.0\n",
            "datasets                 : 3.0.2\n",
            "transformers             : 4.44.2\n",
            "sentence_transformers    : 3.2.1\n",
            "torch                    : 2.5.0+cu121\n",
            "pandas                   : 2.2.2\n",
            "numpy                    : 1.26.4\n",
            "\n",
            "Compiler    : GCC 11.4.0\n",
            "OS          : Linux\n",
            "Release     : 6.1.85+\n",
            "Machine     : x86_64\n",
            "Processor   : x86_64\n",
            "CPU cores   : 2\n",
            "Architecture: 64bit\n",
            "\n"
          ]
        }
      ]
    },
    {
      "cell_type": "markdown",
      "source": [
        "Para usar la API de Gemini, hay que obtener una API key desde [acá](https://makersuite.google.com/app/apikey).\n",
        "\n",
        "Luego, en Colab, añadir la clave en \"Secrets\" (🔑 en el panel izquierdo). Darle el nombre `GOOGLE_API_KEY`."
      ],
      "metadata": {
        "id": "FyNOR8SR3RIr"
      }
    },
    {
      "cell_type": "code",
      "execution_count": 5,
      "metadata": {
        "id": "O9EQoWC_3Fg1",
        "colab": {
          "base_uri": "https://localhost:8080/"
        },
        "outputId": "8ae118b7-867f-4bb1-88a2-143e55e0cde9"
      },
      "outputs": [
        {
          "output_type": "stream",
          "name": "stderr",
          "text": [
            "/usr/local/lib/python3.10/dist-packages/ipykernel/ipkernel.py:283: DeprecationWarning: `should_run_async` will not call `transform_cell` automatically in the future. Please pass the result to `transformed_cell` argument and any exception that happen during thetransform in `preprocessing_exc_tuple` in IPython 7.17 and above.\n",
            "  and should_run_async(code)\n"
          ]
        }
      ],
      "source": [
        "from google.colab import userdata\n",
        "import google.generativeai as genai\n",
        "\n",
        "GOOGLE_API_KEY = userdata.get('GOOGLE_API_KEY')\n",
        "genai.configure(api_key=GOOGLE_API_KEY)"
      ]
    },
    {
      "cell_type": "markdown",
      "source": [
        "Para usar GPU, arriba a la derecha seleccionar \"Change runtime type\" --> \"T4 GPU\".\n",
        "\n",
        "En este caso nos va a servir para hacer inferencia con un encoder para obtener la representación vectorial de cada documento del corpus."
      ],
      "metadata": {
        "id": "YpWjSy1TQcPJ"
      }
    },
    {
      "cell_type": "code",
      "source": [
        "import torch\n",
        "\n",
        "device = torch.device(\"cuda\" if torch.cuda.is_available() else \"cpu\")\n",
        "print(device)"
      ],
      "metadata": {
        "colab": {
          "base_uri": "https://localhost:8080/"
        },
        "id": "bI8T-KJAQcjI",
        "outputId": "c2d243af-4783-4a36-c151-848d26ff3f01"
      },
      "execution_count": 6,
      "outputs": [
        {
          "output_type": "stream",
          "name": "stdout",
          "text": [
            "cuda\n"
          ]
        },
        {
          "output_type": "stream",
          "name": "stderr",
          "text": [
            "/usr/local/lib/python3.10/dist-packages/ipykernel/ipkernel.py:283: DeprecationWarning: `should_run_async` will not call `transform_cell` automatically in the future. Please pass the result to `transformed_cell` argument and any exception that happen during thetransform in `preprocessing_exc_tuple` in IPython 7.17 and above.\n",
            "  and should_run_async(code)\n"
          ]
        }
      ]
    },
    {
      "cell_type": "markdown",
      "metadata": {
        "vscode": {
          "languageId": "plaintext"
        },
        "id": "Ush2o6jV29JK"
      },
      "source": [
        "## Dataset\n",
        "\n",
        "Vamos a intentar responder preguntas sobre recetas del dataset _recetas de la abuela_.\n",
        "\n",
        "El objetivo va a ser intentar responder preguntas del estilo \"¿Qué puedo cocinar para la cena con tomates y sin cebolla?\", tal que las respuestas estén basadas en el dataset.\n",
        "\n",
        "Columnas del dataset:\n",
        "\n",
        "* Id: Identificador numérico.\n",
        "* Nombre: Nombre de la receta.\n",
        "* URL: Origen web.\n",
        "* Ingredientes: Alimentos usados.\n",
        "* Pasos: Pasos de preparación.\n",
        "* País: Código ISO_A3/país originario de la receta.\n",
        "* Duracion (HH:MM): Tiempo estimado de preparación.\n",
        "* Categoria: Tipo de receta (ej. vegetarianos, pastas, salsas, postres, cerdo, pollo etc).\n",
        "* Contexto: Entorno de uso/consumo o contexto de la receta.\n",
        "* Valoracion y Votos: Valoración 1-5 y número de votos.\n",
        "* Comensales: Número de raciones.\n",
        "* Tiempo: Tiempo del plato (ej: Desayuno, entrante, principal, acompañamiento, etc.)\n",
        "* Dificultad: Grado de dificultad (alto/medio/bajo)\n",
        "* Valor nutricional: Características básicas: 1) Nivel calorías/sodio (alto/medio/bajo), 2) Ausencia de grasas/grasas trans/colesterol/azúcar y 3) Nivel de fibra."
      ]
    },
    {
      "cell_type": "code",
      "execution_count": 7,
      "metadata": {
        "colab": {
          "base_uri": "https://localhost:8080/",
          "height": 272,
          "referenced_widgets": [
            "d7331b77d2ac440cba2c21435df6a3bd",
            "2e97e9e73dcd465aa2f1d1152d238d19",
            "44130da62906420b9b625ac9a7127834",
            "97866cfe9a814c26bd5a7573a948dc8f",
            "5c1174b41b094050a552ce92eec4aa81",
            "28256c3b6d0b4b96b8818a913dc44d84",
            "5b664ed3b064408dbf2147ec34ad6d1a",
            "92ebfcc5424749719170b7f4507bd680",
            "4fedd7c880b14cef90d26c9bb2ae0b9b",
            "e4de2bf4050547dbb11c566ac43de51c",
            "a547c7c27cd141d0b54e123d1bedff0d",
            "2c0fd9aaf2324992a711c539ecae01d3",
            "b9ff4e0c8c7a4c009bc641f8f0101796",
            "99562348e53444fc97b6e4b8f5f8a0d9",
            "9af5a498fae6490983be41d7fde5c126",
            "3fb01936459847e0bc91e53f8dcf9cd7",
            "10a067723f334998a44e357733d238b6",
            "33dfe778447a45cd970c81b14a226507",
            "6741e240e8c54755954b4d2307fb2d16",
            "17599be0214e421989c8eeeb419175e4",
            "20e16940dd5c461d9324ffeb432d8222",
            "0e938fce6155411593c53db088424f2e",
            "2b75ed1b6a8c448992bb33c35d53706d",
            "e2522228a0954dd7bbe8b428ef66e81d",
            "6a50f79c04bd47cc920ebd7a9db0550f",
            "7b1f2787c3784e119233bb58234ef609",
            "3d322e33a0a94abb8f8706e1b567ec61",
            "595987197098417b8947e18503a01881",
            "8732ed88c09748f9b2b508467519a2cb",
            "cbad99c87f7c4070b94203b194f2222d",
            "0146f9637bc948b4ad0cb15f02495f0a",
            "02ee8d322727478a89cc6ef53db499d3",
            "3b9b6ec16bd2412ca879c4af7ace1594"
          ]
        },
        "id": "baHbRODD29JN",
        "outputId": "d112f07f-a78f-406f-c977-bd9bbf1bacb5"
      },
      "outputs": [
        {
          "output_type": "stream",
          "name": "stderr",
          "text": [
            "/usr/local/lib/python3.10/dist-packages/ipykernel/ipkernel.py:283: DeprecationWarning: `should_run_async` will not call `transform_cell` automatically in the future. Please pass the result to `transformed_cell` argument and any exception that happen during thetransform in `preprocessing_exc_tuple` in IPython 7.17 and above.\n",
            "  and should_run_async(code)\n",
            "/usr/local/lib/python3.10/dist-packages/huggingface_hub/utils/_token.py:89: UserWarning: \n",
            "The secret `HF_TOKEN` does not exist in your Colab secrets.\n",
            "To authenticate with the Hugging Face Hub, create a token in your settings tab (https://huggingface.co/settings/tokens), set it as secret in your Google Colab and restart your session.\n",
            "You will be able to reuse this secret in all of your notebooks.\n",
            "Please note that authentication is recommended but still optional to access public models or datasets.\n",
            "  warnings.warn(\n"
          ]
        },
        {
          "output_type": "display_data",
          "data": {
            "text/plain": [
              "README.md:   0%|          | 0.00/10.9k [00:00<?, ?B/s]"
            ],
            "application/vnd.jupyter.widget-view+json": {
              "version_major": 2,
              "version_minor": 0,
              "model_id": "d7331b77d2ac440cba2c21435df6a3bd"
            }
          },
          "metadata": {}
        },
        {
          "output_type": "display_data",
          "data": {
            "text/plain": [
              "main.csv:   0%|          | 0.00/40.3M [00:00<?, ?B/s]"
            ],
            "application/vnd.jupyter.widget-view+json": {
              "version_major": 2,
              "version_minor": 0,
              "model_id": "2c0fd9aaf2324992a711c539ecae01d3"
            }
          },
          "metadata": {}
        },
        {
          "output_type": "display_data",
          "data": {
            "text/plain": [
              "Generating train split:   0%|          | 0/20236 [00:00<?, ? examples/s]"
            ],
            "application/vnd.jupyter.widget-view+json": {
              "version_major": 2,
              "version_minor": 0,
              "model_id": "2b75ed1b6a8c448992bb33c35d53706d"
            }
          },
          "metadata": {}
        }
      ],
      "source": [
        "import datasets\n",
        "\n",
        "dataset = datasets.load_dataset(\"somosnlp/RecetasDeLaAbuela\", \"version_1\")"
      ]
    },
    {
      "cell_type": "code",
      "source": [
        "dataset"
      ],
      "metadata": {
        "colab": {
          "base_uri": "https://localhost:8080/"
        },
        "id": "1A-1dbnE7o2e",
        "outputId": "448cd3b8-3f9d-4b78-91bf-b46c42757480"
      },
      "execution_count": 8,
      "outputs": [
        {
          "output_type": "stream",
          "name": "stderr",
          "text": [
            "/usr/local/lib/python3.10/dist-packages/ipykernel/ipkernel.py:283: DeprecationWarning: `should_run_async` will not call `transform_cell` automatically in the future. Please pass the result to `transformed_cell` argument and any exception that happen during thetransform in `preprocessing_exc_tuple` in IPython 7.17 and above.\n",
            "  and should_run_async(code)\n"
          ]
        },
        {
          "output_type": "execute_result",
          "data": {
            "text/plain": [
              "DatasetDict({\n",
              "    train: Dataset({\n",
              "        features: ['Id', 'Nombre', 'URL', 'Ingredientes', 'Pasos', 'Pais', 'Duracion', 'Categoria', 'Contexto', 'Valoracion y Votos', 'Comensales', 'Tiempo', 'Dificultad', 'Valor nutricional'],\n",
              "        num_rows: 20236\n",
              "    })\n",
              "})"
            ]
          },
          "metadata": {},
          "execution_count": 8
        }
      ]
    },
    {
      "cell_type": "markdown",
      "source": [
        "Vamos a representar cada receta (documento) como la concatenación de id, nombre, categoria, ingredientes, duracion, valor nutricional.\n",
        "\n",
        "El objetivo es que el agente pueda responder acerca de los ingredientes que llevan las recetas; el pipeline podría concluir con un sistema que devuelva los pasos de las recetas relevantes, si las hubiera (y para esto no hace falta RAG)."
      ],
      "metadata": {
        "id": "ZZads8dNO1h5"
      }
    },
    {
      "cell_type": "code",
      "execution_count": 9,
      "metadata": {
        "id": "nCyggu7m29JR",
        "colab": {
          "base_uri": "https://localhost:8080/"
        },
        "outputId": "9d9e4cf0-f4f8-4ecc-c3e6-c57dc6ee0d2a"
      },
      "outputs": [
        {
          "output_type": "stream",
          "name": "stderr",
          "text": [
            "/usr/local/lib/python3.10/dist-packages/ipykernel/ipkernel.py:283: DeprecationWarning: `should_run_async` will not call `transform_cell` automatically in the future. Please pass the result to `transformed_cell` argument and any exception that happen during thetransform in `preprocessing_exc_tuple` in IPython 7.17 and above.\n",
            "  and should_run_async(code)\n"
          ]
        }
      ],
      "source": [
        "import pandas as pd\n",
        "\n",
        "df = dataset[\"train\"].to_pandas()"
      ]
    },
    {
      "cell_type": "code",
      "source": [
        "df.head(2)"
      ],
      "metadata": {
        "colab": {
          "base_uri": "https://localhost:8080/",
          "height": 375
        },
        "id": "-szUxUn97rpO",
        "outputId": "7175c78e-569c-46e3-dc0c-80ddcdcde4ac"
      },
      "execution_count": 10,
      "outputs": [
        {
          "output_type": "stream",
          "name": "stderr",
          "text": [
            "/usr/local/lib/python3.10/dist-packages/ipykernel/ipkernel.py:283: DeprecationWarning: `should_run_async` will not call `transform_cell` automatically in the future. Please pass the result to `transformed_cell` argument and any exception that happen during thetransform in `preprocessing_exc_tuple` in IPython 7.17 and above.\n",
            "  and should_run_async(code)\n"
          ]
        },
        {
          "output_type": "execute_result",
          "data": {
            "text/plain": [
              "   Id                 Nombre  \\\n",
              "0   1  Tacos Dorados de Papa   \n",
              "1   2   Ensalada de Chayotes   \n",
              "\n",
              "                                                 URL  \\\n",
              "0  https://www.mexicoenmicocina.com/tacos-dorados...   \n",
              "1  https://www.mexicoenmicocina.com/receta-ensala...   \n",
              "\n",
              "                                        Ingredientes  \\\n",
              "0  ½ taza de cilantro finamente picado, 1 taza de...   \n",
              "1  ½ cucharadita sal, ¼ cucharadita de pimienta r...   \n",
              "\n",
              "                                               Pasos Pais Duracion  \\\n",
              "0  Pon las papas enteras en una olla mediana y cú...  MEX    01:00   \n",
              "1  Coloca los chayotes en una cacerola y cúbralos...  MEX    00:25   \n",
              "\n",
              "      Categoria Contexto Valoracion y Votos Comensales Tiempo Dificultad  \\\n",
              "0  vegetarianos     None               None          6   None       None   \n",
              "1  vegetarianos     None               None          4   None       None   \n",
              "\n",
              "                                 Valor nutricional  \n",
              "0  Alto en calorías, Alto en grasas, Alto en sodio  \n",
              "1       Bajo en calorías, Sin grasa, Alto en fibra  "
            ],
            "text/html": [
              "\n",
              "  <div id=\"df-e73d4bf6-d7f0-4789-ac95-ee9b78def440\" class=\"colab-df-container\">\n",
              "    <div>\n",
              "<style scoped>\n",
              "    .dataframe tbody tr th:only-of-type {\n",
              "        vertical-align: middle;\n",
              "    }\n",
              "\n",
              "    .dataframe tbody tr th {\n",
              "        vertical-align: top;\n",
              "    }\n",
              "\n",
              "    .dataframe thead th {\n",
              "        text-align: right;\n",
              "    }\n",
              "</style>\n",
              "<table border=\"1\" class=\"dataframe\">\n",
              "  <thead>\n",
              "    <tr style=\"text-align: right;\">\n",
              "      <th></th>\n",
              "      <th>Id</th>\n",
              "      <th>Nombre</th>\n",
              "      <th>URL</th>\n",
              "      <th>Ingredientes</th>\n",
              "      <th>Pasos</th>\n",
              "      <th>Pais</th>\n",
              "      <th>Duracion</th>\n",
              "      <th>Categoria</th>\n",
              "      <th>Contexto</th>\n",
              "      <th>Valoracion y Votos</th>\n",
              "      <th>Comensales</th>\n",
              "      <th>Tiempo</th>\n",
              "      <th>Dificultad</th>\n",
              "      <th>Valor nutricional</th>\n",
              "    </tr>\n",
              "  </thead>\n",
              "  <tbody>\n",
              "    <tr>\n",
              "      <th>0</th>\n",
              "      <td>1</td>\n",
              "      <td>Tacos Dorados de Papa</td>\n",
              "      <td>https://www.mexicoenmicocina.com/tacos-dorados...</td>\n",
              "      <td>½ taza de cilantro finamente picado, 1 taza de...</td>\n",
              "      <td>Pon las papas enteras en una olla mediana y cú...</td>\n",
              "      <td>MEX</td>\n",
              "      <td>01:00</td>\n",
              "      <td>vegetarianos</td>\n",
              "      <td>None</td>\n",
              "      <td>None</td>\n",
              "      <td>6</td>\n",
              "      <td>None</td>\n",
              "      <td>None</td>\n",
              "      <td>Alto en calorías, Alto en grasas, Alto en sodio</td>\n",
              "    </tr>\n",
              "    <tr>\n",
              "      <th>1</th>\n",
              "      <td>2</td>\n",
              "      <td>Ensalada de Chayotes</td>\n",
              "      <td>https://www.mexicoenmicocina.com/receta-ensala...</td>\n",
              "      <td>½ cucharadita sal, ¼ cucharadita de pimienta r...</td>\n",
              "      <td>Coloca los chayotes en una cacerola y cúbralos...</td>\n",
              "      <td>MEX</td>\n",
              "      <td>00:25</td>\n",
              "      <td>vegetarianos</td>\n",
              "      <td>None</td>\n",
              "      <td>None</td>\n",
              "      <td>4</td>\n",
              "      <td>None</td>\n",
              "      <td>None</td>\n",
              "      <td>Bajo en calorías, Sin grasa, Alto en fibra</td>\n",
              "    </tr>\n",
              "  </tbody>\n",
              "</table>\n",
              "</div>\n",
              "    <div class=\"colab-df-buttons\">\n",
              "\n",
              "  <div class=\"colab-df-container\">\n",
              "    <button class=\"colab-df-convert\" onclick=\"convertToInteractive('df-e73d4bf6-d7f0-4789-ac95-ee9b78def440')\"\n",
              "            title=\"Convert this dataframe to an interactive table.\"\n",
              "            style=\"display:none;\">\n",
              "\n",
              "  <svg xmlns=\"http://www.w3.org/2000/svg\" height=\"24px\" viewBox=\"0 -960 960 960\">\n",
              "    <path d=\"M120-120v-720h720v720H120Zm60-500h600v-160H180v160Zm220 220h160v-160H400v160Zm0 220h160v-160H400v160ZM180-400h160v-160H180v160Zm440 0h160v-160H620v160ZM180-180h160v-160H180v160Zm440 0h160v-160H620v160Z\"/>\n",
              "  </svg>\n",
              "    </button>\n",
              "\n",
              "  <style>\n",
              "    .colab-df-container {\n",
              "      display:flex;\n",
              "      gap: 12px;\n",
              "    }\n",
              "\n",
              "    .colab-df-convert {\n",
              "      background-color: #E8F0FE;\n",
              "      border: none;\n",
              "      border-radius: 50%;\n",
              "      cursor: pointer;\n",
              "      display: none;\n",
              "      fill: #1967D2;\n",
              "      height: 32px;\n",
              "      padding: 0 0 0 0;\n",
              "      width: 32px;\n",
              "    }\n",
              "\n",
              "    .colab-df-convert:hover {\n",
              "      background-color: #E2EBFA;\n",
              "      box-shadow: 0px 1px 2px rgba(60, 64, 67, 0.3), 0px 1px 3px 1px rgba(60, 64, 67, 0.15);\n",
              "      fill: #174EA6;\n",
              "    }\n",
              "\n",
              "    .colab-df-buttons div {\n",
              "      margin-bottom: 4px;\n",
              "    }\n",
              "\n",
              "    [theme=dark] .colab-df-convert {\n",
              "      background-color: #3B4455;\n",
              "      fill: #D2E3FC;\n",
              "    }\n",
              "\n",
              "    [theme=dark] .colab-df-convert:hover {\n",
              "      background-color: #434B5C;\n",
              "      box-shadow: 0px 1px 3px 1px rgba(0, 0, 0, 0.15);\n",
              "      filter: drop-shadow(0px 1px 2px rgba(0, 0, 0, 0.3));\n",
              "      fill: #FFFFFF;\n",
              "    }\n",
              "  </style>\n",
              "\n",
              "    <script>\n",
              "      const buttonEl =\n",
              "        document.querySelector('#df-e73d4bf6-d7f0-4789-ac95-ee9b78def440 button.colab-df-convert');\n",
              "      buttonEl.style.display =\n",
              "        google.colab.kernel.accessAllowed ? 'block' : 'none';\n",
              "\n",
              "      async function convertToInteractive(key) {\n",
              "        const element = document.querySelector('#df-e73d4bf6-d7f0-4789-ac95-ee9b78def440');\n",
              "        const dataTable =\n",
              "          await google.colab.kernel.invokeFunction('convertToInteractive',\n",
              "                                                    [key], {});\n",
              "        if (!dataTable) return;\n",
              "\n",
              "        const docLinkHtml = 'Like what you see? Visit the ' +\n",
              "          '<a target=\"_blank\" href=https://colab.research.google.com/notebooks/data_table.ipynb>data table notebook</a>'\n",
              "          + ' to learn more about interactive tables.';\n",
              "        element.innerHTML = '';\n",
              "        dataTable['output_type'] = 'display_data';\n",
              "        await google.colab.output.renderOutput(dataTable, element);\n",
              "        const docLink = document.createElement('div');\n",
              "        docLink.innerHTML = docLinkHtml;\n",
              "        element.appendChild(docLink);\n",
              "      }\n",
              "    </script>\n",
              "  </div>\n",
              "\n",
              "\n",
              "<div id=\"df-9dc58cb9-52c2-48e0-942e-3a790627532a\">\n",
              "  <button class=\"colab-df-quickchart\" onclick=\"quickchart('df-9dc58cb9-52c2-48e0-942e-3a790627532a')\"\n",
              "            title=\"Suggest charts\"\n",
              "            style=\"display:none;\">\n",
              "\n",
              "<svg xmlns=\"http://www.w3.org/2000/svg\" height=\"24px\"viewBox=\"0 0 24 24\"\n",
              "     width=\"24px\">\n",
              "    <g>\n",
              "        <path d=\"M19 3H5c-1.1 0-2 .9-2 2v14c0 1.1.9 2 2 2h14c1.1 0 2-.9 2-2V5c0-1.1-.9-2-2-2zM9 17H7v-7h2v7zm4 0h-2V7h2v10zm4 0h-2v-4h2v4z\"/>\n",
              "    </g>\n",
              "</svg>\n",
              "  </button>\n",
              "\n",
              "<style>\n",
              "  .colab-df-quickchart {\n",
              "      --bg-color: #E8F0FE;\n",
              "      --fill-color: #1967D2;\n",
              "      --hover-bg-color: #E2EBFA;\n",
              "      --hover-fill-color: #174EA6;\n",
              "      --disabled-fill-color: #AAA;\n",
              "      --disabled-bg-color: #DDD;\n",
              "  }\n",
              "\n",
              "  [theme=dark] .colab-df-quickchart {\n",
              "      --bg-color: #3B4455;\n",
              "      --fill-color: #D2E3FC;\n",
              "      --hover-bg-color: #434B5C;\n",
              "      --hover-fill-color: #FFFFFF;\n",
              "      --disabled-bg-color: #3B4455;\n",
              "      --disabled-fill-color: #666;\n",
              "  }\n",
              "\n",
              "  .colab-df-quickchart {\n",
              "    background-color: var(--bg-color);\n",
              "    border: none;\n",
              "    border-radius: 50%;\n",
              "    cursor: pointer;\n",
              "    display: none;\n",
              "    fill: var(--fill-color);\n",
              "    height: 32px;\n",
              "    padding: 0;\n",
              "    width: 32px;\n",
              "  }\n",
              "\n",
              "  .colab-df-quickchart:hover {\n",
              "    background-color: var(--hover-bg-color);\n",
              "    box-shadow: 0 1px 2px rgba(60, 64, 67, 0.3), 0 1px 3px 1px rgba(60, 64, 67, 0.15);\n",
              "    fill: var(--button-hover-fill-color);\n",
              "  }\n",
              "\n",
              "  .colab-df-quickchart-complete:disabled,\n",
              "  .colab-df-quickchart-complete:disabled:hover {\n",
              "    background-color: var(--disabled-bg-color);\n",
              "    fill: var(--disabled-fill-color);\n",
              "    box-shadow: none;\n",
              "  }\n",
              "\n",
              "  .colab-df-spinner {\n",
              "    border: 2px solid var(--fill-color);\n",
              "    border-color: transparent;\n",
              "    border-bottom-color: var(--fill-color);\n",
              "    animation:\n",
              "      spin 1s steps(1) infinite;\n",
              "  }\n",
              "\n",
              "  @keyframes spin {\n",
              "    0% {\n",
              "      border-color: transparent;\n",
              "      border-bottom-color: var(--fill-color);\n",
              "      border-left-color: var(--fill-color);\n",
              "    }\n",
              "    20% {\n",
              "      border-color: transparent;\n",
              "      border-left-color: var(--fill-color);\n",
              "      border-top-color: var(--fill-color);\n",
              "    }\n",
              "    30% {\n",
              "      border-color: transparent;\n",
              "      border-left-color: var(--fill-color);\n",
              "      border-top-color: var(--fill-color);\n",
              "      border-right-color: var(--fill-color);\n",
              "    }\n",
              "    40% {\n",
              "      border-color: transparent;\n",
              "      border-right-color: var(--fill-color);\n",
              "      border-top-color: var(--fill-color);\n",
              "    }\n",
              "    60% {\n",
              "      border-color: transparent;\n",
              "      border-right-color: var(--fill-color);\n",
              "    }\n",
              "    80% {\n",
              "      border-color: transparent;\n",
              "      border-right-color: var(--fill-color);\n",
              "      border-bottom-color: var(--fill-color);\n",
              "    }\n",
              "    90% {\n",
              "      border-color: transparent;\n",
              "      border-bottom-color: var(--fill-color);\n",
              "    }\n",
              "  }\n",
              "</style>\n",
              "\n",
              "  <script>\n",
              "    async function quickchart(key) {\n",
              "      const quickchartButtonEl =\n",
              "        document.querySelector('#' + key + ' button');\n",
              "      quickchartButtonEl.disabled = true;  // To prevent multiple clicks.\n",
              "      quickchartButtonEl.classList.add('colab-df-spinner');\n",
              "      try {\n",
              "        const charts = await google.colab.kernel.invokeFunction(\n",
              "            'suggestCharts', [key], {});\n",
              "      } catch (error) {\n",
              "        console.error('Error during call to suggestCharts:', error);\n",
              "      }\n",
              "      quickchartButtonEl.classList.remove('colab-df-spinner');\n",
              "      quickchartButtonEl.classList.add('colab-df-quickchart-complete');\n",
              "    }\n",
              "    (() => {\n",
              "      let quickchartButtonEl =\n",
              "        document.querySelector('#df-9dc58cb9-52c2-48e0-942e-3a790627532a button');\n",
              "      quickchartButtonEl.style.display =\n",
              "        google.colab.kernel.accessAllowed ? 'block' : 'none';\n",
              "    })();\n",
              "  </script>\n",
              "</div>\n",
              "\n",
              "    </div>\n",
              "  </div>\n"
            ],
            "application/vnd.google.colaboratory.intrinsic+json": {
              "type": "dataframe",
              "variable_name": "df",
              "summary": "{\n  \"name\": \"df\",\n  \"rows\": 20236,\n  \"fields\": [\n    {\n      \"column\": \"Id\",\n      \"properties\": {\n        \"dtype\": \"number\",\n        \"std\": 5912,\n        \"min\": 1,\n        \"max\": 20447,\n        \"num_unique_values\": 20236,\n        \"samples\": [\n          13266,\n          19046,\n          12053\n        ],\n        \"semantic_type\": \"\",\n        \"description\": \"\"\n      }\n    },\n    {\n      \"column\": \"Nombre\",\n      \"properties\": {\n        \"dtype\": \"string\",\n        \"num_unique_values\": 20014,\n        \"samples\": [\n          \"postre de papaya y yogur\",\n          \"sopa de fredolics con albondigas\",\n          \"carlota de manzana\"\n        ],\n        \"semantic_type\": \"\",\n        \"description\": \"\"\n      }\n    },\n    {\n      \"column\": \"URL\",\n      \"properties\": {\n        \"dtype\": \"string\",\n        \"num_unique_values\": 19369,\n        \"samples\": [\n          \"https://www.recetasgratis.net/receta-de-pizza-con-rucula-y-tomates-cherry-65165.html\",\n          \"https://www.recetasgratis.net/receta-de-arroz-al-horno-con-queso-y-crema-58707.html\",\n          \"https://www.recetasgratis.net/receta-de-salsa-choron-17458.html\"\n        ],\n        \"semantic_type\": \"\",\n        \"description\": \"\"\n      }\n    },\n    {\n      \"column\": \"Ingredientes\",\n      \"properties\": {\n        \"dtype\": \"string\",\n        \"num_unique_values\": 20174,\n        \"samples\": [\n          \"['1 Medida de Vodka', '1 Medida de Ron Claro', '1 Medida de Licor de Mel\\u00f3n', 'Limonada.']\",\n          \"['500 mililitros de Leche de almendra', '100 gramos de Canela en astilla', '6 unidades de Lulo', '2 cucharadas de postre de Az\\u00facar moreno']\",\n          \"['3 mandarinas grandes', '1 taza de leche', '70 gr az\\u00facar']\"\n        ],\n        \"semantic_type\": \"\",\n        \"description\": \"\"\n      }\n    },\n    {\n      \"column\": \"Pasos\",\n      \"properties\": {\n        \"dtype\": \"string\",\n        \"num_unique_values\": 20186,\n        \"samples\": [\n          \"['1 Precalienta el horno al m\\u00e1ximo durante 10 minutos con el calor en la parte de arriba. Mientras tanto, coloca los pimientos lavados y enteros en una fuente para horno. Cuando est\\u00e9 caliente, m\\u00e9telos a media altura y baja la temperatura a 180 \\u00baC. Ve d\\u00e1ndoles la vuelta para que no se quemen y procura que terminen asados por completo. La cocci\\u00f3n durar\\u00e1 unos 45 minutos dependiendo de cada horno.', '2 Saca los pimientos y m\\u00e9telos en un recipiente u olla tapados para que la piel se desprenda y salga con facilidad. Qu\\u00edtales las semillas.', '3 Pon todos los ingredientes en un baso mezclador o picadora. Trit\\u00faralos hasta obtener un pur\\u00e9 espeso. Si te gusta la textura con tropezones, puedes dejar la crema a medio triturar.', '4 \\u00a1Sirve tu muhammara aut\\u00e9ntico y acomp\\u00e1\\u00f1alo de lo que gustes! En este caso, hemos usado unas peque\\u00f1as tortas de trigo duro llamadas rega\\u00f1\\u00e1s. Truco: Si te gusta el sabor de la menta, puedes decorar la crema con hojas de menta al servir.']\",\n          \"['1 El primer paso para realizar la ensalada de lentejas es prealistar los ingredientes.', '2 En un bol o taz\\u00f3n hondo debes mezclar el arroz blanco con las lentejas cocinadas. Integra bien estos dos ingredientes.', '3 Adiciona las jud\\u00edas o habichuelas verdes cocinadas en trozos medianos como se observa en la fotograf\\u00eda. A\\u00f1ade la cebolla blanca finamente picada.', '4 A\\u00f1ade el cilantro finamente picado, sal, pimienta negra, pasta de ajo y el zumo de los limones. Decid\\u00ed incorporar dos limones porque me gusta que la preparaci\\u00f3n quede con un toque \\u00e1cido, pero si deseas puedes reducir la cantidad y utilizar un lim\\u00f3n en lugar de dos. Mezcla muy bien los ingredientes hasta que se integren.', '5 Sirve la ensalada fr\\u00eda de jud\\u00edas verdes y cons\\u00famela como acompa\\u00f1ante de un plato principal, como este pollo al horno bajo en calor\\u00edas. Asimismo, si lo prefieres, puedes degustar esta ensalada como plato fuerte, sin ning\\u00fan tipo de acompa\\u00f1ante, pues es ideal para personas que desean bajar de peso ya que no contiene muchas calor\\u00edas.']\",\n          \"['1 En un recipiente vaciar el agua de canela y la miel; llevar a cocci\\u00f3n las zanahorias previamente peladas y descorazonadas.Una vez cocidas, triturar las zanahorias con un tenedor, colocarlas en un bol, y formar bolitas peque\\u00f1as que tomar\\u00e1n la forma de mininaranjitas. Echar la rralladura de coco sobre una superficie plana y hacer rodar las bolitas formadas; Finalmente y una vez uniformadas en una bandeja semiplana, colocar a cada naranjita un clavito de olor y su respectiva hojita. Servir como postre o como botana. Tanto peque\\u00f1os y grandes les quedar\\u00e1n muy agradecidos.']\"\n        ],\n        \"semantic_type\": \"\",\n        \"description\": \"\"\n      }\n    },\n    {\n      \"column\": \"Pais\",\n      \"properties\": {\n        \"dtype\": \"category\",\n        \"num_unique_values\": 20,\n        \"samples\": [\n          \"MEX\",\n          \"PAN\",\n          \"DOM\"\n        ],\n        \"semantic_type\": \"\",\n        \"description\": \"\"\n      }\n    },\n    {\n      \"column\": \"Duracion\",\n      \"properties\": {\n        \"dtype\": \"category\",\n        \"num_unique_values\": 38,\n        \"samples\": [\n          \"01:30\",\n          \"02:10\",\n          \"00:20\"\n        ],\n        \"semantic_type\": \"\",\n        \"description\": \"\"\n      }\n    },\n    {\n      \"column\": \"Categoria\",\n      \"properties\": {\n        \"dtype\": \"category\",\n        \"num_unique_values\": 722,\n        \"samples\": [\n          \"['Recomendada para vegetarianos', 'Recetas para Navidad', 'Recetas colombianas']\",\n          \"['Receta sin sal', 'Recetas para San Valent\\u00edn', 'Recetas al horno']\",\n          \"['Recetas al horno', 'Recetas peruanas']\"\n        ],\n        \"semantic_type\": \"\",\n        \"description\": \"\"\n      }\n    },\n    {\n      \"column\": \"Contexto\",\n      \"properties\": {\n        \"dtype\": \"string\",\n        \"num_unique_values\": 11513,\n        \"samples\": [\n          \"La base de muchos platos gratinados o de la famosa lasa\\u00f1a es una salsa blanca hecha a partir de mantequilla y harina y si, estamos hablando de la salsa bechamel tradicional. Pues bien, en RecetasGratis te ensa\\u00f1amos c\\u00f3mo hacer salsa bechamel casero, pero no cualquier salsa bechamel sino una receta para cel\\u00edacos, porque en vez de usar harina de trigo usaremos maicena.La salsa bechamel con maicena es ideal para completar una infinidad de platos y lo mejor es que no tendr\\u00e1s que preocuparte por tu dieta porque al no llevar trigo, lo que haremos es una receta sin gluten. Vamos entonces con la preparaci\\u00f3n de nuestra salsa bechamel r\\u00e1pida y sencilla.\",\n          \"Las gelatinas suelen ser un postre cl\\u00e1sico y sencillo, pero cuando combinas los sabores de la fruta con toques helados de vainilla obtienes un postre elegante y sofisticado. Conoce esta receta de RecetasGratist.net de gelatina de frambuesa. F\\u00e1cil, elegante y rico.\",\n          \"La pulpa para micheladas se refiere a una preparaci\\u00f3n que se utiliza para a\\u00f1adir sabor y caracter\\u00edsticas particulares a las micheladas, tambi\\u00e9n para realzar el gusto de esta popular bebida mexicana. La composici\\u00f3n de la pulpa para micheladas puede variar seg\\u00fan la receta y las preferencias individuales, pero generalmente incluye elementos como frutas frescas de temporada, ya sea tamarindo, pi\\u00f1a, mangos, melocotones o fresas, as\\u00ed como chiles secos, az\\u00facar, salsas picantes, chamoy, lim\\u00f3n y otros condimentos. Estos ingredientes se mezclan para crear una pulpa o salsa con la que se escarchan las latas o tarros de cerveza para proporcionar un sabor \\u00fanico y distintivo. \\u00bfSe te antoja hacerla en casa para refrescarte del calor?En RecetasGratis te ense\\u00f1amos c\\u00f3mo hacer pulpa para micheladas paso a paso. \\u00a1A cocinar!\"\n        ],\n        \"semantic_type\": \"\",\n        \"description\": \"\"\n      }\n    },\n    {\n      \"column\": \"Valoracion y Votos\",\n      \"properties\": {\n        \"dtype\": \"category\",\n        \"num_unique_values\": 1568,\n        \"samples\": [\n          \"Valoraci\\u00f3n: 4,2 (132 votos)\",\n          \"Valoraci\\u00f3n: 4,4 (67 votos)\",\n          \"Valoraci\\u00f3n: 4,5 (121 votos)\"\n        ],\n        \"semantic_type\": \"\",\n        \"description\": \"\"\n      }\n    },\n    {\n      \"column\": \"Comensales\",\n      \"properties\": {\n        \"dtype\": \"category\",\n        \"num_unique_values\": 69,\n        \"samples\": [\n          \"3 comensales\",\n          \"6\",\n          \"60 comensales\"\n        ],\n        \"semantic_type\": \"\",\n        \"description\": \"\"\n      }\n    },\n    {\n      \"column\": \"Tiempo\",\n      \"properties\": {\n        \"dtype\": \"category\",\n        \"num_unique_values\": 8,\n        \"samples\": [\n          \"Entrante\",\n          \"Cena\",\n          \"Plato principal\"\n        ],\n        \"semantic_type\": \"\",\n        \"description\": \"\"\n      }\n    },\n    {\n      \"column\": \"Dificultad\",\n      \"properties\": {\n        \"dtype\": \"category\",\n        \"num_unique_values\": 5,\n        \"samples\": [\n          \"Dificultad media\",\n          \"Dificultad muy alta\",\n          \"Dificultad muy baja\"\n        ],\n        \"semantic_type\": \"\",\n        \"description\": \"\"\n      }\n    },\n    {\n      \"column\": \"Valor nutricional\",\n      \"properties\": {\n        \"dtype\": \"category\",\n        \"num_unique_values\": 434,\n        \"samples\": [\n          \"Bajo en calor\\u00edas, Sin az\\u00facar, Alto en fibra\",\n          \"Bajo en grasas, Alto en az\\u00facar, Sin colesterol\",\n          \"Alto en calor\\u00edas, Alto en grasas, Alto en az\\u00facares a\\u00f1adidos\"\n        ],\n        \"semantic_type\": \"\",\n        \"description\": \"\"\n      }\n    }\n  ]\n}"
            }
          },
          "metadata": {},
          "execution_count": 10
        }
      ]
    },
    {
      "cell_type": "code",
      "execution_count": 11,
      "metadata": {
        "id": "bDzH2QXZ29JS",
        "colab": {
          "base_uri": "https://localhost:8080/"
        },
        "outputId": "7bade1d7-cb53-49e8-a761-fe63903e1360"
      },
      "outputs": [
        {
          "output_type": "stream",
          "name": "stderr",
          "text": [
            "/usr/local/lib/python3.10/dist-packages/ipykernel/ipkernel.py:283: DeprecationWarning: `should_run_async` will not call `transform_cell` automatically in the future. Please pass the result to `transformed_cell` argument and any exception that happen during thetransform in `preprocessing_exc_tuple` in IPython 7.17 and above.\n",
            "  and should_run_async(code)\n"
          ]
        }
      ],
      "source": [
        "data_template = \"\"\"\n",
        "Receta: {nombre}\n",
        "Categoría: {categoria}\n",
        "Ingredientes: {ingredientes}\n",
        "Duración: {duracion}\n",
        "Valor nutricional: {valor_nutricional}\n",
        "\"\"\".strip()"
      ]
    },
    {
      "cell_type": "code",
      "execution_count": 12,
      "metadata": {
        "id": "i6Hsz2Xd29JT",
        "colab": {
          "base_uri": "https://localhost:8080/"
        },
        "outputId": "d83a086a-f804-4a7c-a09e-5b33fcacbc6f"
      },
      "outputs": [
        {
          "output_type": "stream",
          "name": "stderr",
          "text": [
            "/usr/local/lib/python3.10/dist-packages/ipykernel/ipkernel.py:283: DeprecationWarning: `should_run_async` will not call `transform_cell` automatically in the future. Please pass the result to `transformed_cell` argument and any exception that happen during thetransform in `preprocessing_exc_tuple` in IPython 7.17 and above.\n",
            "  and should_run_async(code)\n"
          ]
        }
      ],
      "source": [
        "# Si duracion es None, reemplazar por \"indeterminado\"\n",
        "duracion = df[\"Duracion\"].fillna(\"indeterminada\")\n",
        "categoria = df[\"Categoria\"].fillna(\"indeterminada\")\n",
        "# Si ingredientes se parece a una lista, convertimos a joined string:\n",
        "mask = df[\"Ingredientes\"].apply(lambda x: x.startswith(\"[\"))\n",
        "ingred_lists = df[\"Ingredientes\"][mask].apply(eval)\n",
        "ingred_strs = ingred_lists.apply(\", \".join)\n",
        "ingredientes = df[\"Ingredientes\"].copy()\n",
        "ingredientes[mask] = ingred_strs"
      ]
    },
    {
      "cell_type": "code",
      "source": [
        "ingredientes"
      ],
      "metadata": {
        "colab": {
          "base_uri": "https://localhost:8080/",
          "height": 513
        },
        "id": "CzYctAzu8mpI",
        "outputId": "c9afc68c-148b-424b-d9ee-d04d962a9614"
      },
      "execution_count": 13,
      "outputs": [
        {
          "output_type": "stream",
          "name": "stderr",
          "text": [
            "/usr/local/lib/python3.10/dist-packages/ipykernel/ipkernel.py:283: DeprecationWarning: `should_run_async` will not call `transform_cell` automatically in the future. Please pass the result to `transformed_cell` argument and any exception that happen during thetransform in `preprocessing_exc_tuple` in IPython 7.17 and above.\n",
            "  and should_run_async(code)\n"
          ]
        },
        {
          "output_type": "execute_result",
          "data": {
            "text/plain": [
              "0        ½ taza de cilantro finamente picado, 1 taza de...\n",
              "1        ½ cucharadita sal, ¼ cucharadita de pimienta r...\n",
              "2        ½ Chile Serrano cortado en pequeños trocitos*,...\n",
              "3        ½ cucharadita Sal, 2 cucharadas de aceite vege...\n",
              "4        ⅓ taza de cebolla blanca en cubitos, Sal al gu...\n",
              "                               ...                        \n",
              "20231     1/4 kg frejol blanco,  1 diente ajo triturado...\n",
              "20232     Zapallo,  4 papas,  Al gusto sal,  2 zanahori...\n",
              "20233     2 pechugas de pollo,  1 vaso avena,  1 ceboll...\n",
              "20234     240 g chocolate negro sin azÃºcar,  40 gr cre...\n",
              "20235     3 tazas pavo cocido cortado en cuadros o desh...\n",
              "Name: Ingredientes, Length: 20236, dtype: object"
            ],
            "text/html": [
              "<div>\n",
              "<style scoped>\n",
              "    .dataframe tbody tr th:only-of-type {\n",
              "        vertical-align: middle;\n",
              "    }\n",
              "\n",
              "    .dataframe tbody tr th {\n",
              "        vertical-align: top;\n",
              "    }\n",
              "\n",
              "    .dataframe thead th {\n",
              "        text-align: right;\n",
              "    }\n",
              "</style>\n",
              "<table border=\"1\" class=\"dataframe\">\n",
              "  <thead>\n",
              "    <tr style=\"text-align: right;\">\n",
              "      <th></th>\n",
              "      <th>Ingredientes</th>\n",
              "    </tr>\n",
              "  </thead>\n",
              "  <tbody>\n",
              "    <tr>\n",
              "      <th>0</th>\n",
              "      <td>½ taza de cilantro finamente picado, 1 taza de...</td>\n",
              "    </tr>\n",
              "    <tr>\n",
              "      <th>1</th>\n",
              "      <td>½ cucharadita sal, ¼ cucharadita de pimienta r...</td>\n",
              "    </tr>\n",
              "    <tr>\n",
              "      <th>2</th>\n",
              "      <td>½ Chile Serrano cortado en pequeños trocitos*,...</td>\n",
              "    </tr>\n",
              "    <tr>\n",
              "      <th>3</th>\n",
              "      <td>½ cucharadita Sal, 2 cucharadas de aceite vege...</td>\n",
              "    </tr>\n",
              "    <tr>\n",
              "      <th>4</th>\n",
              "      <td>⅓ taza de cebolla blanca en cubitos, Sal al gu...</td>\n",
              "    </tr>\n",
              "    <tr>\n",
              "      <th>...</th>\n",
              "      <td>...</td>\n",
              "    </tr>\n",
              "    <tr>\n",
              "      <th>20231</th>\n",
              "      <td>1/4 kg frejol blanco,  1 diente ajo triturado...</td>\n",
              "    </tr>\n",
              "    <tr>\n",
              "      <th>20232</th>\n",
              "      <td>Zapallo,  4 papas,  Al gusto sal,  2 zanahori...</td>\n",
              "    </tr>\n",
              "    <tr>\n",
              "      <th>20233</th>\n",
              "      <td>2 pechugas de pollo,  1 vaso avena,  1 ceboll...</td>\n",
              "    </tr>\n",
              "    <tr>\n",
              "      <th>20234</th>\n",
              "      <td>240 g chocolate negro sin azÃºcar,  40 gr cre...</td>\n",
              "    </tr>\n",
              "    <tr>\n",
              "      <th>20235</th>\n",
              "      <td>3 tazas pavo cocido cortado en cuadros o desh...</td>\n",
              "    </tr>\n",
              "  </tbody>\n",
              "</table>\n",
              "<p>20236 rows × 1 columns</p>\n",
              "</div><br><label><b>dtype:</b> object</label>"
            ]
          },
          "metadata": {},
          "execution_count": 13
        }
      ]
    },
    {
      "cell_type": "code",
      "execution_count": 14,
      "metadata": {
        "id": "oRuEF0Hc29JU",
        "colab": {
          "base_uri": "https://localhost:8080/"
        },
        "outputId": "6e14fd12-e6a0-4d35-b10f-df9c670ff516"
      },
      "outputs": [
        {
          "output_type": "stream",
          "name": "stderr",
          "text": [
            "/usr/local/lib/python3.10/dist-packages/ipykernel/ipkernel.py:283: DeprecationWarning: `should_run_async` will not call `transform_cell` automatically in the future. Please pass the result to `transformed_cell` argument and any exception that happen during thetransform in `preprocessing_exc_tuple` in IPython 7.17 and above.\n",
            "  and should_run_async(code)\n"
          ]
        }
      ],
      "source": [
        "docs = []\n",
        "\n",
        "for i, row in df.iterrows():\n",
        "    doc = data_template.format(\n",
        "        nombre=row[\"Nombre\"],\n",
        "        categoria=categoria.values[i],\n",
        "        ingredientes=ingredientes.values[i],\n",
        "        duracion=duracion.values[i],\n",
        "        valor_nutricional=row[\"Valor nutricional\"],\n",
        "    )\n",
        "    docs.append(doc)"
      ]
    },
    {
      "cell_type": "code",
      "source": [
        "# Cantidad de palabras por doc (proxy de tokens)\n",
        "pd.Series(docs).str.split().apply(len).describe()"
      ],
      "metadata": {
        "colab": {
          "base_uri": "https://localhost:8080/",
          "height": 389
        },
        "id": "E_XC9bftCZjo",
        "outputId": "fc9b3d96-c2c3-4f7b-f6af-d5886c81294b"
      },
      "execution_count": 15,
      "outputs": [
        {
          "output_type": "stream",
          "name": "stderr",
          "text": [
            "/usr/local/lib/python3.10/dist-packages/ipykernel/ipkernel.py:283: DeprecationWarning: `should_run_async` will not call `transform_cell` automatically in the future. Please pass the result to `transformed_cell` argument and any exception that happen during thetransform in `preprocessing_exc_tuple` in IPython 7.17 and above.\n",
            "  and should_run_async(code)\n"
          ]
        },
        {
          "output_type": "execute_result",
          "data": {
            "text/plain": [
              "count    20236.000000\n",
              "mean        62.557818\n",
              "std         20.190312\n",
              "min         18.000000\n",
              "25%         48.000000\n",
              "50%         60.000000\n",
              "75%         73.000000\n",
              "max        232.000000\n",
              "dtype: float64"
            ],
            "text/html": [
              "<div>\n",
              "<style scoped>\n",
              "    .dataframe tbody tr th:only-of-type {\n",
              "        vertical-align: middle;\n",
              "    }\n",
              "\n",
              "    .dataframe tbody tr th {\n",
              "        vertical-align: top;\n",
              "    }\n",
              "\n",
              "    .dataframe thead th {\n",
              "        text-align: right;\n",
              "    }\n",
              "</style>\n",
              "<table border=\"1\" class=\"dataframe\">\n",
              "  <thead>\n",
              "    <tr style=\"text-align: right;\">\n",
              "      <th></th>\n",
              "      <th>0</th>\n",
              "    </tr>\n",
              "  </thead>\n",
              "  <tbody>\n",
              "    <tr>\n",
              "      <th>count</th>\n",
              "      <td>20236.000000</td>\n",
              "    </tr>\n",
              "    <tr>\n",
              "      <th>mean</th>\n",
              "      <td>62.557818</td>\n",
              "    </tr>\n",
              "    <tr>\n",
              "      <th>std</th>\n",
              "      <td>20.190312</td>\n",
              "    </tr>\n",
              "    <tr>\n",
              "      <th>min</th>\n",
              "      <td>18.000000</td>\n",
              "    </tr>\n",
              "    <tr>\n",
              "      <th>25%</th>\n",
              "      <td>48.000000</td>\n",
              "    </tr>\n",
              "    <tr>\n",
              "      <th>50%</th>\n",
              "      <td>60.000000</td>\n",
              "    </tr>\n",
              "    <tr>\n",
              "      <th>75%</th>\n",
              "      <td>73.000000</td>\n",
              "    </tr>\n",
              "    <tr>\n",
              "      <th>max</th>\n",
              "      <td>232.000000</td>\n",
              "    </tr>\n",
              "  </tbody>\n",
              "</table>\n",
              "</div><br><label><b>dtype:</b> float64</label>"
            ]
          },
          "metadata": {},
          "execution_count": 15
        }
      ]
    },
    {
      "cell_type": "markdown",
      "metadata": {
        "id": "BH3Xol0r29JV"
      },
      "source": [
        "## \"Encoding\" o \"vectorización\" de los documentos\n",
        "\n",
        "Vamos a guardar cada documento en un **vector store**. Esto es una base de datos especializada en guardar documentos representados como vectores densos (**embeddings**).\n",
        "\n",
        "Necesitamos tomar dos decisiones:\n",
        "\n",
        "1. El modelo con el que vamos a obtener los vectores, o **retriever**. Acá vamos a usar el modelo de Microsoft `multilingual-e5-small`.\n",
        "2. La **base de datos** para los embeddings. Hay muchas opciones, algunas de las populares son Chroma, Pinecone, FAISS. Acá vamos a usar FAISS.\n",
        "\n",
        "Para integrar el vector store con el LLM vamos a usar **LangChain**, que es un framework diseñado para simplificar la creación de aplicaciones basadas en LLMs."
      ]
    },
    {
      "cell_type": "markdown",
      "source": [
        "En este caso vamos a extraer embeddings directamente a partir de los documentos, pero muchas veces se estila \"partir\" a los documentos en unidades más pequeñas antes de vectorizarlos. Para hacer esto podemos usar los [TextSplitters de LangChain](https://python.langchain.com/v0.2/docs/how_to/#text-splitters)."
      ],
      "metadata": {
        "id": "iUUrfSbmSl5K"
      }
    },
    {
      "cell_type": "code",
      "source": [
        "from langchain_community.embeddings import HuggingFaceEmbeddings\n",
        "\n",
        "model_name = \"intfloat/multilingual-e5-small\"\n",
        "model_kwargs = {'device': device}\n",
        "encode_kwargs = {\n",
        "    'normalize_embeddings': True,\n",
        "    'prompt': \"passage: \", # En E5 los documentos deben llevar el prefijo \"passage:\"\n",
        "    \"batch_size\": 32,\n",
        "    \"device\": device,\n",
        "    }\n",
        "embedding_model = HuggingFaceEmbeddings(\n",
        "    model_name=model_name,\n",
        "    model_kwargs=model_kwargs,\n",
        "    encode_kwargs=encode_kwargs\n",
        ")\n",
        "# por default usa mean pooling"
      ],
      "metadata": {
        "colab": {
          "base_uri": "https://localhost:8080/",
          "height": 426,
          "referenced_widgets": [
            "7f71b713a699415495a01595ea3237fa",
            "62cabfa0f2404ee894c50b752744aba9",
            "3e7ed7c360e44852972147c1a8c872ea",
            "6187166545654dffabd4c5544b7f40a8",
            "77d1618942c6459e8ee957206ffd2aa5",
            "aeec27a35fee46678422aba7fd88fbd1",
            "da031854153b4cd99ad31a81b87cc3d7",
            "e17759907d8d45718ddf4aa1b0b7f986",
            "30df2d4edcd44efab5cd491d3bd62df3",
            "880dd190ed5e42c68bfacab0579bf729",
            "6958d778ee8548308fa8f9d929393572",
            "89543138c1e8409c861012d51a005d16",
            "5837b2f49baf48cb90679593916b5e93",
            "29c095c8159f4e1aa47d9118af7d1d81",
            "21fe27ab355f440ca1ec06ae778a2bca",
            "92fa2c748c894c318a4e56ade669034f",
            "0a904603adf74f0a901743ae68ca8477",
            "430ae1f7cc094dac8b440ee2de6c059a",
            "d4db7156498a44b5892c6bfce6049dbf",
            "7ed01508711f4a5a9a12900450651358",
            "2a95be1eede445e3945d76e39e6a445c",
            "389862bc7c884af783dcdcb54a7c6b67",
            "5fd2975ca11747efa5c3912203acdde2",
            "67fb1df4574c419f8e38aed305ad4d9d",
            "e0ffc5aa184b439f9a1c4dc598fd8c6d",
            "7fae2c18eef845c99d151c987fd57ffe",
            "678b81b5e519467798ce0059a9884c7e",
            "583153e443b140ce8c664cef9b6dc252",
            "f9f2455fdff84228ae58e43349e29437",
            "b973e48532b14078a8a85248819c237e",
            "043e91e067cc4b72a26482c2b2ba6202",
            "de36f34f37c4404e90672ceb9a1c8ecb",
            "8ba1c701522a4726993eccb5867ff149",
            "0ab941c796044677bb60c520a0482bfb",
            "53f2ab2089e849debb5754057675d6ec",
            "13924190499a4f57b67c8734ea782937",
            "a21cb01a62064f69b7460df21db74697",
            "a5e62714ad034a89b23fba412d888bd9",
            "ee18bff57de9410cb99b7cd8c514b78d",
            "45120dcaf6914ab4a3864233bd61110f",
            "20acc87cee5e4e6ea745507569e71585",
            "fbd3a677a83744ffab9d0aa2e474ae29",
            "76d38688e0f5478883c3db4c485c9d89",
            "61e599174fb44fdaa51a8bd81e5bf3bd",
            "ca2c577003554105bc3d78c8d93c1235",
            "33ce0cc624e145cd897e4d4c9c8c0f24",
            "a2761829e0c64b2f8f0a5545ae8c1941",
            "1e3aa4bb2ac34793a9be8d05deb1cda7",
            "311a0af3c3924cf28082dd7172cb5f63",
            "8d308df8f2834d42a1c0d112b067b3e2",
            "bea282d2cc9542bba57269b0ffc986ee",
            "8d46847f66294599a75f1d89375303a9",
            "288767ef3bd94c6b970c3381afba7d85",
            "6ae9f1941e8146b49768bc176cbd3520",
            "43fa5f731bad49cf9a0305ecfba3c1aa",
            "c86586e755b04f4099f2a1ce792c9275",
            "17aab37d2d994a7dbc6f0954ce77c18d",
            "e27ccb7fccb4443ba424570ed9388532",
            "a1b9e96c43994ed596981204a62d616d",
            "7538fa00d4f14bf88d0acfaa848fdc0f",
            "16d640b5d9714841a893aaa72867c068",
            "7fe726c53a194fc4a18c5f45d92009c7",
            "e909ade29fe44d1a9d01e7f4bfd8deac",
            "48b5fefe8ba64cd2a9b6abd361bce17b",
            "0b1fa68e15f34fe58db8f15bedf8f0f1",
            "de8d888971f642228377715eccc24594",
            "4b59b98fb0874382a95578417e8a06f5",
            "0521ea09dbd9475ca7d566b1eaf8de90",
            "f7fdbe9b5ee34154859abd8b711cbb5c",
            "630df9d662d44b5c820a4b44e0a16440",
            "7b656b0593da41b69ee0157869f0174c",
            "f0f8be46d8844b45a4cda827e577a9da",
            "a0ea8938e2d64da69a847f6070dacb6e",
            "15e26a81a0bb425ba8ca57dce80bc2ff",
            "7a0d3957235a449dbefc694fce3ad11a",
            "9ca79109aec94a91aab4b7336d1a255a",
            "e4ee4846ce604cc8af64a5244947d516",
            "1bf76e46d9ae4da49219f7bc7583f614",
            "8834fa78d8064e61bb9d50fc5efbe79f",
            "c375305694df4d5eb6a371cf0af89fb2",
            "d5421cad75c9411c9690766e64c8a428",
            "5ac12e3bf1174d7ab4205036ece3ba92",
            "5e2d93ec4b4e4e7f873b101e5c502780",
            "6f8482eff6394dff854b110e24a1af1b",
            "e39d4f9fc46e405bbf3618955e9aad0a",
            "79d0a460c1374865926385953656eb9c",
            "063196eb68134fa8b3ebcef0ec666fff",
            "ecbef8996ac14201bc545d644be2937e",
            "67ba29c2773a49359dcbaa59fc159154",
            "edb36548b04d44c1b394869c9e83e9d5",
            "c6c9c7736b724fcda2419bb5401b31ef",
            "9f3001947c0c4889bdff5b9d84745565",
            "4f4eda851e7a4123bb04f35e54c1bc00",
            "ab243575379944efacae7b41e17a7417",
            "ac9066374eb14cc390dbc1fff803be7c",
            "af7e81ab58ea447bae8d69db8890d4a6",
            "1d53f29853b348ffa4028f950fdab616",
            "958b7de6b78445368201a7ff2ac49125",
            "8b5cd35aabcb43889936083c569b4479",
            "bc17e1da59594d23a29cf23e957ef9e4",
            "65df50a1950d4485a77b8158658ad7aa",
            "3955ea14a58947d1923b971f51226aaf",
            "748e1961903d4ce48ecdeff3482c47b3",
            "a0431c638c1b4d409cb14fcbda23835f",
            "e1472d974c2443f9886a4d69e525acdb",
            "a386b14f401a4868b9d1c958180c7a7c",
            "52c2f96fa0874e1da3cc7cd1777cd9af",
            "af799916fac946bc8699eba96150f410",
            "097c93f18a884cb78b1a747cfcdc304c",
            "a31752f280fc4df7af9a43e25149a6d3"
          ]
        },
        "id": "ZxZG43k3LNTf",
        "outputId": "aa4be4c2-4fed-4826-a665-01f9616c64b1"
      },
      "execution_count": 16,
      "outputs": [
        {
          "output_type": "stream",
          "name": "stderr",
          "text": [
            "/usr/local/lib/python3.10/dist-packages/ipykernel/ipkernel.py:283: DeprecationWarning: `should_run_async` will not call `transform_cell` automatically in the future. Please pass the result to `transformed_cell` argument and any exception that happen during thetransform in `preprocessing_exc_tuple` in IPython 7.17 and above.\n",
            "  and should_run_async(code)\n",
            "<ipython-input-16-fbd278b39047>:11: LangChainDeprecationWarning: The class `HuggingFaceEmbeddings` was deprecated in LangChain 0.2.2 and will be removed in 1.0. An updated version of the class exists in the :class:`~langchain-huggingface package and should be used instead. To use it run `pip install -U :class:`~langchain-huggingface` and import as `from :class:`~langchain_huggingface import HuggingFaceEmbeddings``.\n",
            "  embedding_model = HuggingFaceEmbeddings(\n"
          ]
        },
        {
          "output_type": "display_data",
          "data": {
            "text/plain": [
              "modules.json:   0%|          | 0.00/387 [00:00<?, ?B/s]"
            ],
            "application/vnd.jupyter.widget-view+json": {
              "version_major": 2,
              "version_minor": 0,
              "model_id": "7f71b713a699415495a01595ea3237fa"
            }
          },
          "metadata": {}
        },
        {
          "output_type": "display_data",
          "data": {
            "text/plain": [
              "README.md:   0%|          | 0.00/498k [00:00<?, ?B/s]"
            ],
            "application/vnd.jupyter.widget-view+json": {
              "version_major": 2,
              "version_minor": 0,
              "model_id": "89543138c1e8409c861012d51a005d16"
            }
          },
          "metadata": {}
        },
        {
          "output_type": "display_data",
          "data": {
            "text/plain": [
              "sentence_bert_config.json:   0%|          | 0.00/57.0 [00:00<?, ?B/s]"
            ],
            "application/vnd.jupyter.widget-view+json": {
              "version_major": 2,
              "version_minor": 0,
              "model_id": "5fd2975ca11747efa5c3912203acdde2"
            }
          },
          "metadata": {}
        },
        {
          "output_type": "display_data",
          "data": {
            "text/plain": [
              "config.json:   0%|          | 0.00/655 [00:00<?, ?B/s]"
            ],
            "application/vnd.jupyter.widget-view+json": {
              "version_major": 2,
              "version_minor": 0,
              "model_id": "0ab941c796044677bb60c520a0482bfb"
            }
          },
          "metadata": {}
        },
        {
          "output_type": "display_data",
          "data": {
            "text/plain": [
              "model.safetensors:   0%|          | 0.00/471M [00:00<?, ?B/s]"
            ],
            "application/vnd.jupyter.widget-view+json": {
              "version_major": 2,
              "version_minor": 0,
              "model_id": "ca2c577003554105bc3d78c8d93c1235"
            }
          },
          "metadata": {}
        },
        {
          "output_type": "display_data",
          "data": {
            "text/plain": [
              "tokenizer_config.json:   0%|          | 0.00/443 [00:00<?, ?B/s]"
            ],
            "application/vnd.jupyter.widget-view+json": {
              "version_major": 2,
              "version_minor": 0,
              "model_id": "c86586e755b04f4099f2a1ce792c9275"
            }
          },
          "metadata": {}
        },
        {
          "output_type": "display_data",
          "data": {
            "text/plain": [
              "sentencepiece.bpe.model:   0%|          | 0.00/5.07M [00:00<?, ?B/s]"
            ],
            "application/vnd.jupyter.widget-view+json": {
              "version_major": 2,
              "version_minor": 0,
              "model_id": "4b59b98fb0874382a95578417e8a06f5"
            }
          },
          "metadata": {}
        },
        {
          "output_type": "display_data",
          "data": {
            "text/plain": [
              "tokenizer.json:   0%|          | 0.00/17.1M [00:00<?, ?B/s]"
            ],
            "application/vnd.jupyter.widget-view+json": {
              "version_major": 2,
              "version_minor": 0,
              "model_id": "1bf76e46d9ae4da49219f7bc7583f614"
            }
          },
          "metadata": {}
        },
        {
          "output_type": "display_data",
          "data": {
            "text/plain": [
              "special_tokens_map.json:   0%|          | 0.00/167 [00:00<?, ?B/s]"
            ],
            "application/vnd.jupyter.widget-view+json": {
              "version_major": 2,
              "version_minor": 0,
              "model_id": "67ba29c2773a49359dcbaa59fc159154"
            }
          },
          "metadata": {}
        },
        {
          "output_type": "display_data",
          "data": {
            "text/plain": [
              "1_Pooling/config.json:   0%|          | 0.00/200 [00:00<?, ?B/s]"
            ],
            "application/vnd.jupyter.widget-view+json": {
              "version_major": 2,
              "version_minor": 0,
              "model_id": "bc17e1da59594d23a29cf23e957ef9e4"
            }
          },
          "metadata": {}
        }
      ]
    },
    {
      "cell_type": "code",
      "source": [
        "vectors_example = embedding_model.embed_documents(docs[:2])"
      ],
      "metadata": {
        "id": "wYtBV3bqQley",
        "colab": {
          "base_uri": "https://localhost:8080/"
        },
        "outputId": "b016d1c9-6570-456a-c20b-9ec81fddb04c"
      },
      "execution_count": 17,
      "outputs": [
        {
          "output_type": "stream",
          "name": "stderr",
          "text": [
            "/usr/local/lib/python3.10/dist-packages/ipykernel/ipkernel.py:283: DeprecationWarning: `should_run_async` will not call `transform_cell` automatically in the future. Please pass the result to `transformed_cell` argument and any exception that happen during thetransform in `preprocessing_exc_tuple` in IPython 7.17 and above.\n",
            "  and should_run_async(code)\n"
          ]
        }
      ]
    },
    {
      "cell_type": "code",
      "source": [
        "# Longitud del embedding de cada documento:\n",
        "print([len(vec) for vec in vectors_example])"
      ],
      "metadata": {
        "colab": {
          "base_uri": "https://localhost:8080/"
        },
        "id": "chCd4ghTQ1B_",
        "outputId": "6896e574-2326-49de-e699-acc929f7ad48"
      },
      "execution_count": 18,
      "outputs": [
        {
          "output_type": "stream",
          "name": "stdout",
          "text": [
            "[384, 384]\n"
          ]
        },
        {
          "output_type": "stream",
          "name": "stderr",
          "text": [
            "/usr/local/lib/python3.10/dist-packages/ipykernel/ipkernel.py:283: DeprecationWarning: `should_run_async` will not call `transform_cell` automatically in the future. Please pass the result to `transformed_cell` argument and any exception that happen during thetransform in `preprocessing_exc_tuple` in IPython 7.17 and above.\n",
            "  and should_run_async(code)\n"
          ]
        }
      ]
    },
    {
      "cell_type": "code",
      "source": [
        "print(type(vectors_example[0]))\n",
        "print(vectors_example[0][:10])"
      ],
      "metadata": {
        "colab": {
          "base_uri": "https://localhost:8080/"
        },
        "id": "Ri-VEeCXTXtX",
        "outputId": "b5c82af7-2bf9-4550-b00f-caa3bf23f4a0"
      },
      "execution_count": 19,
      "outputs": [
        {
          "output_type": "stream",
          "name": "stdout",
          "text": [
            "<class 'list'>\n",
            "[0.005876157432794571, -0.052538760006427765, -0.028926948085427284, -0.08407676964998245, 0.06541994214057922, -0.05548569932579994, 0.030902404338121414, 0.029995037242770195, 0.05146561563014984, -0.0002634357661008835]\n"
          ]
        },
        {
          "output_type": "stream",
          "name": "stderr",
          "text": [
            "/usr/local/lib/python3.10/dist-packages/ipykernel/ipkernel.py:283: DeprecationWarning: `should_run_async` will not call `transform_cell` automatically in the future. Please pass the result to `transformed_cell` argument and any exception that happen during thetransform in `preprocessing_exc_tuple` in IPython 7.17 and above.\n",
            "  and should_run_async(code)\n"
          ]
        }
      ]
    },
    {
      "cell_type": "code",
      "source": [
        "%%time\n",
        "from langchain_community.vectorstores import FAISS\n",
        "\n",
        "metadatas = df[[\"Id\", \"URL\"]].to_dict(\"records\") # podemos guardar metadara asociada a cada documento\n",
        "vector_store = FAISS.from_texts(docs, embedding_model, metadatas=metadatas)"
      ],
      "metadata": {
        "colab": {
          "base_uri": "https://localhost:8080/"
        },
        "id": "wgFp0Ex3BNCr",
        "outputId": "eb1471c3-be0b-4d30-eaef-38964cce6521"
      },
      "execution_count": 20,
      "outputs": [
        {
          "output_type": "stream",
          "name": "stderr",
          "text": [
            "/usr/local/lib/python3.10/dist-packages/ipykernel/ipkernel.py:283: DeprecationWarning: `should_run_async` will not call `transform_cell` automatically in the future. Please pass the result to `transformed_cell` argument and any exception that happen during thetransform in `preprocessing_exc_tuple` in IPython 7.17 and above.\n",
            "  and should_run_async(code)\n"
          ]
        },
        {
          "output_type": "stream",
          "name": "stdout",
          "text": [
            "CPU times: user 51.6 s, sys: 404 ms, total: 52 s\n",
            "Wall time: 49.8 s\n"
          ]
        }
      ]
    },
    {
      "cell_type": "code",
      "source": [
        "# En E5 la query debe llevar el prefijo \"query:\"\n",
        "query_vec = embedding_model.embed_query(\"query: una receta con frutillas y duraznos\")"
      ],
      "metadata": {
        "id": "gbbCdpueUhrf",
        "colab": {
          "base_uri": "https://localhost:8080/"
        },
        "outputId": "85e567ee-a7d2-45bf-aaaf-b5d94bc48153"
      },
      "execution_count": 21,
      "outputs": [
        {
          "output_type": "stream",
          "name": "stderr",
          "text": [
            "/usr/local/lib/python3.10/dist-packages/ipykernel/ipkernel.py:283: DeprecationWarning: `should_run_async` will not call `transform_cell` automatically in the future. Please pass the result to `transformed_cell` argument and any exception that happen during thetransform in `preprocessing_exc_tuple` in IPython 7.17 and above.\n",
            "  and should_run_async(code)\n"
          ]
        }
      ]
    },
    {
      "cell_type": "code",
      "source": [
        "len(query_vec)"
      ],
      "metadata": {
        "colab": {
          "base_uri": "https://localhost:8080/"
        },
        "id": "lKRm_gXAVNQi",
        "outputId": "dd080c48-0aa5-4a42-a633-69fc2f6c375e"
      },
      "execution_count": 22,
      "outputs": [
        {
          "output_type": "stream",
          "name": "stderr",
          "text": [
            "/usr/local/lib/python3.10/dist-packages/ipykernel/ipkernel.py:283: DeprecationWarning: `should_run_async` will not call `transform_cell` automatically in the future. Please pass the result to `transformed_cell` argument and any exception that happen during thetransform in `preprocessing_exc_tuple` in IPython 7.17 and above.\n",
            "  and should_run_async(code)\n"
          ]
        },
        {
          "output_type": "execute_result",
          "data": {
            "text/plain": [
              "384"
            ]
          },
          "metadata": {},
          "execution_count": 22
        }
      ]
    },
    {
      "cell_type": "code",
      "execution_count": 23,
      "metadata": {
        "id": "TlSNNhFf29JX",
        "colab": {
          "base_uri": "https://localhost:8080/"
        },
        "outputId": "fc78d137-9681-49d6-8fb0-291deff750c1"
      },
      "outputs": [
        {
          "output_type": "stream",
          "name": "stderr",
          "text": [
            "/usr/local/lib/python3.10/dist-packages/ipykernel/ipkernel.py:283: DeprecationWarning: `should_run_async` will not call `transform_cell` automatically in the future. Please pass the result to `transformed_cell` argument and any exception that happen during thetransform in `preprocessing_exc_tuple` in IPython 7.17 and above.\n",
            "  and should_run_async(code)\n"
          ]
        }
      ],
      "source": [
        "retriever = vector_store.as_retriever(\n",
        "    search_type=\"similarity\", search_kwargs={\"k\": 6})\n",
        "\n",
        "# Algnos search_kwargs útiles son:\n",
        "# * score_threshold: Minimum relevance threshold for similarity_score_threshold\n",
        "# * filter: Filter by document metadata"
      ]
    },
    {
      "cell_type": "code",
      "execution_count": 24,
      "metadata": {
        "id": "C8sgS6_u29JX",
        "colab": {
          "base_uri": "https://localhost:8080/"
        },
        "outputId": "3389c722-0708-4e7b-a80e-a9d69b6c57c9"
      },
      "outputs": [
        {
          "output_type": "stream",
          "name": "stderr",
          "text": [
            "/usr/local/lib/python3.10/dist-packages/ipykernel/ipkernel.py:283: DeprecationWarning: `should_run_async` will not call `transform_cell` automatically in the future. Please pass the result to `transformed_cell` argument and any exception that happen during thetransform in `preprocessing_exc_tuple` in IPython 7.17 and above.\n",
            "  and should_run_async(code)\n"
          ]
        }
      ],
      "source": [
        "retrieved_docs = retriever.invoke(\"query: pescado con ingredientes agridulces\")"
      ]
    },
    {
      "cell_type": "code",
      "execution_count": 25,
      "metadata": {
        "colab": {
          "base_uri": "https://localhost:8080/"
        },
        "id": "P3pewzSF29JX",
        "outputId": "d55e2313-4d93-45bb-bb06-61ca0ecf4dd7"
      },
      "outputs": [
        {
          "output_type": "stream",
          "name": "stdout",
          "text": [
            "Receta: montadito de bacalao con ajoaceite\n",
            "Categoría: indeterminada\n",
            "Ingredientes: pan, bacalao, ajoaceite, cebollino\n",
            "Duración: indeterminada\n",
            "Valor nutricional: Bajo en calorías, Sin grasa, Alto en grasas\n",
            "\n",
            "Receta: estofado de pescado con verduras\n",
            "Categoría: indeterminada\n",
            "Ingredientes: 1 cebolla, 2 tomates, aceite, ajo, agua, corvina, verduras\n",
            "Duración: indeterminada\n",
            "Valor nutricional: Bajo en calorías, Sin grasa, Alto en grasas\n",
            "\n",
            "Receta: cinta con brocolis\n",
            "Categoría: indeterminada\n",
            "Ingredientes: Brócoli, Ajo, Mantequilla, Queso parmesano, Pasta (cintas)\n",
            "Duración: indeterminada\n",
            "Valor nutricional: Alto en calorías, Alto en grasas, Alto en sodio\n",
            "\n",
            "Receta: parrillada de pescado\n",
            "Categoría: indeterminada\n",
            "Ingredientes: 1 kilo de pescados variados, 2 dl. aceite, zumo de un limon, oregano, sal, pimienta, 3 limones\n",
            "Duración: indeterminada\n",
            "Valor nutricional: Alto en grasas, Alto en calorías, Sin sodio\n",
            "\n",
            "Receta: maqluba de berenjenas\n",
            "Categoría: indeterminada\n",
            "Ingredientes: 1 kg de berenjenas, 1/2 kg de carne, 1 vaso de arroz, Sal, Especias\n",
            "Duración: indeterminada\n",
            "Valor nutricional: Alto en calorías, Alto en grasas, Alto en sodio\n",
            "\n",
            "Receta: pizza de pescado\n",
            "Categoría: indeterminada\n",
            "Ingredientes: Pescado, salsa tomate, queso dambo, jamon, tiras de pimeinto, oregano, aceituna\n",
            "Duración: indeterminada\n",
            "Valor nutricional: Bajo en calorías, Sin grasa, Alto en fibra\n",
            "\n"
          ]
        },
        {
          "output_type": "stream",
          "name": "stderr",
          "text": [
            "/usr/local/lib/python3.10/dist-packages/ipykernel/ipkernel.py:283: DeprecationWarning: `should_run_async` will not call `transform_cell` automatically in the future. Please pass the result to `transformed_cell` argument and any exception that happen during thetransform in `preprocessing_exc_tuple` in IPython 7.17 and above.\n",
            "  and should_run_async(code)\n"
          ]
        }
      ],
      "source": [
        "for doc in retrieved_docs:\n",
        "    print(doc.page_content)\n",
        "    print()"
      ]
    },
    {
      "cell_type": "code",
      "execution_count": 26,
      "metadata": {
        "colab": {
          "base_uri": "https://localhost:8080/"
        },
        "id": "hYeZ_Tez29JY",
        "outputId": "a8bb1464-36be-4bab-ae17-123a60ebb4ec"
      },
      "outputs": [
        {
          "output_type": "stream",
          "name": "stdout",
          "text": [
            "{'Id': 2704, 'URL': 'https://www.recetasgratis.net/receta-de-montadito-de-bacalao-con-ajoaceite-34658.html'}\n"
          ]
        },
        {
          "output_type": "stream",
          "name": "stderr",
          "text": [
            "/usr/local/lib/python3.10/dist-packages/ipykernel/ipkernel.py:283: DeprecationWarning: `should_run_async` will not call `transform_cell` automatically in the future. Please pass the result to `transformed_cell` argument and any exception that happen during thetransform in `preprocessing_exc_tuple` in IPython 7.17 and above.\n",
            "  and should_run_async(code)\n"
          ]
        }
      ],
      "source": [
        "print(retrieved_docs[0].metadata)"
      ]
    },
    {
      "cell_type": "markdown",
      "metadata": {
        "id": "K4Kh-4BG29JY"
      },
      "source": [
        "## RAG\n",
        "\n",
        "Vamos a integrar el retriever en el sistema de RAG.\n",
        "\n",
        "El [hub de LangChain](https://smith.langchain.com/hub) viene con muchos prompts que podemos usar directamente o como inspiración."
      ]
    },
    {
      "cell_type": "code",
      "execution_count": 27,
      "metadata": {
        "id": "BKjbtp1f29JY",
        "colab": {
          "base_uri": "https://localhost:8080/"
        },
        "outputId": "38ac4fd9-9b72-4d2a-9a76-5456ab5923b5"
      },
      "outputs": [
        {
          "output_type": "stream",
          "name": "stderr",
          "text": [
            "/usr/local/lib/python3.10/dist-packages/ipykernel/ipkernel.py:283: DeprecationWarning: `should_run_async` will not call `transform_cell` automatically in the future. Please pass the result to `transformed_cell` argument and any exception that happen during thetransform in `preprocessing_exc_tuple` in IPython 7.17 and above.\n",
            "  and should_run_async(code)\n",
            "/usr/local/lib/python3.10/dist-packages/langsmith/client.py:354: LangSmithMissingAPIKeyWarning: API key must be provided when using hosted LangSmith API\n",
            "  warnings.warn(\n"
          ]
        },
        {
          "output_type": "execute_result",
          "data": {
            "text/plain": [
              "ChatPromptTemplate(input_variables=['context', 'question'], input_types={}, partial_variables={}, metadata={'lc_hub_owner': 'rlm', 'lc_hub_repo': 'rag-prompt', 'lc_hub_commit_hash': '50442af133e61576e74536c6556cefe1fac147cad032f4377b60c436e6cdcb6e'}, messages=[HumanMessagePromptTemplate(prompt=PromptTemplate(input_variables=['context', 'question'], input_types={}, partial_variables={}, template=\"You are an assistant for question-answering tasks. Use the following pieces of retrieved context to answer the question. If you don't know the answer, just say that you don't know. Use three sentences maximum and keep the answer concise.\\nQuestion: {question} \\nContext: {context} \\nAnswer:\"), additional_kwargs={})])"
            ]
          },
          "metadata": {},
          "execution_count": 27
        }
      ],
      "source": [
        "from langchain import hub\n",
        "\n",
        "langchain_prompt = hub.pull(\"rlm/rag-prompt\")\n",
        "langchain_prompt"
      ]
    },
    {
      "cell_type": "code",
      "source": [
        "from langchain_google_genai import ChatGoogleGenerativeAI\n",
        "from langchain_google_vertexai import ChatVertexAI\n",
        "\n",
        "llm = ChatGoogleGenerativeAI(model=\"gemini-1.5-flash\", google_api_key=GOOGLE_API_KEY)"
      ],
      "metadata": {
        "id": "mAbtS1Z2X23U",
        "colab": {
          "base_uri": "https://localhost:8080/"
        },
        "outputId": "783ca5f4-d89f-4d36-da6c-bf60be9669c6"
      },
      "execution_count": 28,
      "outputs": [
        {
          "output_type": "stream",
          "name": "stderr",
          "text": [
            "/usr/local/lib/python3.10/dist-packages/ipykernel/ipkernel.py:283: DeprecationWarning: `should_run_async` will not call `transform_cell` automatically in the future. Please pass the result to `transformed_cell` argument and any exception that happen during thetransform in `preprocessing_exc_tuple` in IPython 7.17 and above.\n",
            "  and should_run_async(code)\n"
          ]
        }
      ]
    },
    {
      "cell_type": "code",
      "source": [
        "res = llm.invoke(\"Hola, qué tal, cómo estas?\")\n",
        "print(res)"
      ],
      "metadata": {
        "colab": {
          "base_uri": "https://localhost:8080/"
        },
        "id": "fL3bqsmOWlv2",
        "outputId": "57dc84ab-f189-4497-85ef-4f7f0efc719b"
      },
      "execution_count": 29,
      "outputs": [
        {
          "output_type": "stream",
          "name": "stderr",
          "text": [
            "/usr/local/lib/python3.10/dist-packages/ipykernel/ipkernel.py:283: DeprecationWarning: `should_run_async` will not call `transform_cell` automatically in the future. Please pass the result to `transformed_cell` argument and any exception that happen during thetransform in `preprocessing_exc_tuple` in IPython 7.17 and above.\n",
            "  and should_run_async(code)\n"
          ]
        },
        {
          "output_type": "stream",
          "name": "stdout",
          "text": [
            "content='¡Hola! Estoy bien, gracias por preguntar. ¿Y tú, cómo estás? 😊 \\n' additional_kwargs={} response_metadata={'prompt_feedback': {'block_reason': 0, 'safety_ratings': []}, 'finish_reason': 'STOP', 'safety_ratings': [{'category': 'HARM_CATEGORY_SEXUALLY_EXPLICIT', 'probability': 'NEGLIGIBLE', 'blocked': False}, {'category': 'HARM_CATEGORY_HATE_SPEECH', 'probability': 'NEGLIGIBLE', 'blocked': False}, {'category': 'HARM_CATEGORY_HARASSMENT', 'probability': 'NEGLIGIBLE', 'blocked': False}, {'category': 'HARM_CATEGORY_DANGEROUS_CONTENT', 'probability': 'NEGLIGIBLE', 'blocked': False}]} id='run-73080430-7943-4afa-859a-c82f56664dd1-0' usage_metadata={'input_tokens': 9, 'output_tokens': 18, 'total_tokens': 27}\n"
          ]
        }
      ]
    },
    {
      "cell_type": "code",
      "execution_count": 30,
      "metadata": {
        "id": "-YXSho_t29JY",
        "colab": {
          "base_uri": "https://localhost:8080/"
        },
        "outputId": "8cfa053e-3ee0-4ef9-a930-f8f380a88373"
      },
      "outputs": [
        {
          "output_type": "stream",
          "name": "stderr",
          "text": [
            "/usr/local/lib/python3.10/dist-packages/ipykernel/ipkernel.py:283: DeprecationWarning: `should_run_async` will not call `transform_cell` automatically in the future. Please pass the result to `transformed_cell` argument and any exception that happen during thetransform in `preprocessing_exc_tuple` in IPython 7.17 and above.\n",
            "  and should_run_async(code)\n"
          ]
        }
      ],
      "source": [
        "from langchain_core.prompts import PromptTemplate\n",
        "\n",
        "template = (\n",
        "    \"\"\"Usa los siguientes documentos para responder la consulta del usuario al final.\"\"\"\n",
        "    \"\"\"Si no sabe la respuesta, simplemente diga que no la sabe, no intente inventar una respuesta.\"\"\"\n",
        "    \"\"\"Si tiene una respuesta, incluya el o los IDs y URLs pertinentes en la respuesta.\\n\\n\"\"\"\n",
        "    \"\"\"{context}\\n\\n\"\"\"\n",
        "    \"\"\"Pregunta: {input}\\n\\n\"\"\"\n",
        "    \"\"\"Respuesta:\"\"\"\n",
        ")\n",
        "\n",
        "def format_docs(docs):\n",
        "    \"\"\"Aplicar a cada documento el formato:\n",
        "    '[ID=...] content (URL=...)'\n",
        "    \"\"\"\n",
        "    formatted_docs = []\n",
        "    for doc in docs:\n",
        "        formatted_docs.append(f\"[ID={doc.metadata['Id']}] {doc.page_content} (URL={doc.metadata['URL']})\")\n",
        "    return \"\\n\\n\".join(formatted_docs)"
      ]
    },
    {
      "cell_type": "code",
      "source": [
        "# por ejemplo:\n",
        "print(format_docs(retrieved_docs))"
      ],
      "metadata": {
        "colab": {
          "base_uri": "https://localhost:8080/"
        },
        "id": "rt0jQpOAV-E6",
        "outputId": "e256779f-f617-4d3f-965b-50d209e251a3"
      },
      "execution_count": 31,
      "outputs": [
        {
          "output_type": "stream",
          "name": "stdout",
          "text": [
            "[ID=2704] Receta: montadito de bacalao con ajoaceite\n",
            "Categoría: indeterminada\n",
            "Ingredientes: pan, bacalao, ajoaceite, cebollino\n",
            "Duración: indeterminada\n",
            "Valor nutricional: Bajo en calorías, Sin grasa, Alto en grasas (URL=https://www.recetasgratis.net/receta-de-montadito-de-bacalao-con-ajoaceite-34658.html)\n",
            "\n",
            "[ID=11833] Receta: estofado de pescado con verduras\n",
            "Categoría: indeterminada\n",
            "Ingredientes: 1 cebolla, 2 tomates, aceite, ajo, agua, corvina, verduras\n",
            "Duración: indeterminada\n",
            "Valor nutricional: Bajo en calorías, Sin grasa, Alto en grasas (URL=https://www.recetasgratis.net/receta-de-estofado-de-pescado-con-verduras-52715.html)\n",
            "\n",
            "[ID=19132] Receta: cinta con brocolis\n",
            "Categoría: indeterminada\n",
            "Ingredientes: Brócoli, Ajo, Mantequilla, Queso parmesano, Pasta (cintas)\n",
            "Duración: indeterminada\n",
            "Valor nutricional: Alto en calorías, Alto en grasas, Alto en sodio (URL=https://www.recetasgratis.net/receta-de-cinta-con-brocolis-18190.html)\n",
            "\n",
            "[ID=12427] Receta: parrillada de pescado\n",
            "Categoría: indeterminada\n",
            "Ingredientes: 1 kilo de pescados variados, 2 dl. aceite, zumo de un limon, oregano, sal, pimienta, 3 limones\n",
            "Duración: indeterminada\n",
            "Valor nutricional: Alto en grasas, Alto en calorías, Sin sodio (URL=https://www.recetasgratis.net/receta-de-parrillada-de-pescado-15056.html)\n",
            "\n",
            "[ID=19152] Receta: maqluba de berenjenas\n",
            "Categoría: indeterminada\n",
            "Ingredientes: 1 kg de berenjenas, 1/2 kg de carne, 1 vaso de arroz, Sal, Especias\n",
            "Duración: indeterminada\n",
            "Valor nutricional: Alto en calorías, Alto en grasas, Alto en sodio (URL=https://www.recetasgratis.net/receta-de-maqluba-de-berenjenas-16392.html)\n",
            "\n",
            "[ID=10996] Receta: pizza de pescado\n",
            "Categoría: indeterminada\n",
            "Ingredientes: Pescado, salsa tomate, queso dambo, jamon, tiras de pimeinto, oregano, aceituna\n",
            "Duración: indeterminada\n",
            "Valor nutricional: Bajo en calorías, Sin grasa, Alto en fibra (URL=https://www.recetasgratis.net/receta-de-pizza-de-pescado-35127.html)\n"
          ]
        },
        {
          "output_type": "stream",
          "name": "stderr",
          "text": [
            "/usr/local/lib/python3.10/dist-packages/ipykernel/ipkernel.py:283: DeprecationWarning: `should_run_async` will not call `transform_cell` automatically in the future. Please pass the result to `transformed_cell` argument and any exception that happen during thetransform in `preprocessing_exc_tuple` in IPython 7.17 and above.\n",
            "  and should_run_async(code)\n"
          ]
        }
      ]
    },
    {
      "cell_type": "code",
      "source": [
        "from langchain_core.output_parsers import StrOutputParser\n",
        "from langchain_core.runnables import RunnablePassthrough\n",
        "\n",
        "rag_prompt = PromptTemplate.from_template(template)\n",
        "\n",
        "rag_chain_from_docs = (\n",
        "    RunnablePassthrough.assign(context=(lambda x: format_docs(x[\"context\"])))\n",
        "    | rag_prompt\n",
        "    | llm\n",
        "    | StrOutputParser()\n",
        ")\n",
        "\n",
        "retrieve_docs = (lambda x: f'query: {x[\"input\"]}') | retriever\n",
        "\n",
        "chain = (\n",
        "    RunnablePassthrough\n",
        "        .assign(context=retrieve_docs)\n",
        "        .assign(answer=rag_chain_from_docs)\n",
        ")"
      ],
      "metadata": {
        "id": "flHCQFR_XXCo",
        "colab": {
          "base_uri": "https://localhost:8080/"
        },
        "outputId": "ccafd19c-e1c8-43d7-d969-a25986139f69"
      },
      "execution_count": 32,
      "outputs": [
        {
          "output_type": "stream",
          "name": "stderr",
          "text": [
            "/usr/local/lib/python3.10/dist-packages/ipykernel/ipkernel.py:283: DeprecationWarning: `should_run_async` will not call `transform_cell` automatically in the future. Please pass the result to `transformed_cell` argument and any exception that happen during thetransform in `preprocessing_exc_tuple` in IPython 7.17 and above.\n",
            "  and should_run_async(code)\n"
          ]
        }
      ]
    },
    {
      "cell_type": "markdown",
      "source": [
        "Cada uno de estos componentes (retriever, prompt, llm, etc.) son instancias de Runnable. Implementan los mismos métodos-- como sync y async .invoke, .stream, o .batch, y pueden conectarse a un RunnableSequence - otro Runnable - mediante el operador |.\n",
        "\n",
        "Fuentes:\n",
        "\n",
        "* https://python.langchain.com/v0.2/docs/how_to/qa_sources/#custom-lcel-implementation\n",
        "* https://python.langchain.com/v0.2/docs/concepts/#langchain-expression-language-lcel\n"
      ],
      "metadata": {
        "id": "oXMKhBJ-XIBU"
      }
    },
    {
      "cell_type": "code",
      "source": [
        "response = chain.invoke({\"input\": \"¿Qué puedo hacer con pescado?\"})"
      ],
      "metadata": {
        "id": "a3nzvl3TWKRm",
        "colab": {
          "base_uri": "https://localhost:8080/"
        },
        "outputId": "7042dda4-48d4-4108-9676-f000241a1c50"
      },
      "execution_count": 33,
      "outputs": [
        {
          "output_type": "stream",
          "name": "stderr",
          "text": [
            "/usr/local/lib/python3.10/dist-packages/ipykernel/ipkernel.py:283: DeprecationWarning: `should_run_async` will not call `transform_cell` automatically in the future. Please pass the result to `transformed_cell` argument and any exception that happen during thetransform in `preprocessing_exc_tuple` in IPython 7.17 and above.\n",
            "  and should_run_async(code)\n"
          ]
        }
      ]
    },
    {
      "cell_type": "code",
      "source": [
        "response"
      ],
      "metadata": {
        "colab": {
          "base_uri": "https://localhost:8080/"
        },
        "id": "hkkHxwiXWQ76",
        "outputId": "94756405-082d-43da-da2a-7ebf9f7b2526"
      },
      "execution_count": 34,
      "outputs": [
        {
          "output_type": "stream",
          "name": "stderr",
          "text": [
            "/usr/local/lib/python3.10/dist-packages/ipykernel/ipkernel.py:283: DeprecationWarning: `should_run_async` will not call `transform_cell` automatically in the future. Please pass the result to `transformed_cell` argument and any exception that happen during thetransform in `preprocessing_exc_tuple` in IPython 7.17 and above.\n",
            "  and should_run_async(code)\n"
          ]
        },
        {
          "output_type": "execute_result",
          "data": {
            "text/plain": [
              "{'input': '¿Qué puedo hacer con pescado?',\n",
              " 'context': [Document(metadata={'Id': 11833, 'URL': 'https://www.recetasgratis.net/receta-de-estofado-de-pescado-con-verduras-52715.html'}, page_content='Receta: estofado de pescado con verduras\\nCategoría: indeterminada\\nIngredientes: 1 cebolla, 2 tomates, aceite, ajo, agua, corvina, verduras\\nDuración: indeterminada\\nValor nutricional: Bajo en calorías, Sin grasa, Alto en grasas'),\n",
              "  Document(metadata={'Id': 12427, 'URL': 'https://www.recetasgratis.net/receta-de-parrillada-de-pescado-15056.html'}, page_content='Receta: parrillada de pescado\\nCategoría: indeterminada\\nIngredientes: 1 kilo de pescados variados, 2 dl. aceite, zumo de un limon, oregano, sal, pimienta, 3 limones\\nDuración: indeterminada\\nValor nutricional: Alto en grasas, Alto en calorías, Sin sodio'),\n",
              "  Document(metadata={'Id': 10996, 'URL': 'https://www.recetasgratis.net/receta-de-pizza-de-pescado-35127.html'}, page_content='Receta: pizza de pescado\\nCategoría: indeterminada\\nIngredientes: Pescado, salsa tomate, queso dambo, jamon, tiras de pimeinto, oregano, aceituna\\nDuración: indeterminada\\nValor nutricional: Bajo en calorías, Sin grasa, Alto en fibra'),\n",
              "  Document(metadata={'Id': 12237, 'URL': 'https://www.recetasgratis.net/receta-de-pescado-a-la-gallega-caldeirada-26124.html'}, page_content='Receta: pescado a la gallega caldeirada\\nCategoría: indeterminada\\nIngredientes: Pescado de cocer (de 1 sola clase o de varias), Salsa de ajada (receta), 1-2 cebollas, Patatas\\nDuración: indeterminada\\nValor nutricional: Bajo en calorías, Sin grasa, Alto en fibra'),\n",
              "  Document(metadata={'Id': 11803, 'URL': 'https://www.recetasgratis.net/receta-de-tiradito-de-pescado-75305.html'}, page_content='Receta: tiradito de pescado\\nCategoría: []\\nIngredientes: 200 gramos de pescado, 8 limones, ½ ají limo, 2 ramas de culantro, 1 cucharada postre de sal\\nDuración: 00:45\\nValor nutricional: Bajo en calorías, Sin grasa, Alto en grasas reducidas'),\n",
              "  Document(metadata={'Id': 2708, 'URL': 'https://www.recetasgratis.net/receta-de-tacos-de-pescado-empanizado-34536.html'}, page_content='Receta: tacos de pescado empanizado\\nCategoría: indeterminada\\nIngredientes: pescado p/ empanizar, mayonesa, capsup, moztaza, tortillas, ajo\\nDuración: indeterminada\\nValor nutricional: Bajo en calorías, Sin grasa, Alto en grasas')],\n",
              " 'answer': 'Puedes hacer varias cosas con pescado, como:\\n\\n* **Estofado de pescado con verduras:** [ID=11833] (https://www.recetasgratis.net/receta-de-estofado-de-pescado-con-verduras-52715.html)\\n* **Parrillada de pescado:** [ID=12427] (https://www.recetasgratis.net/receta-de-parrillada-de-pescado-15056.html)\\n* **Pizza de pescado:** [ID=10996] (https://www.recetasgratis.net/receta-de-pizza-de-pescado-35127.html)\\n* **Pescado a la gallega caldeirada:** [ID=12237] (https://www.recetasgratis.net/receta-de-pescado-a-la-gallega-caldeirada-26124.html)\\n* **Tiradito de pescado:** [ID=11803] (https://www.recetasgratis.net/receta-de-tiradito-de-pescado-75305.html)\\n* **Tacos de pescado empanizado:** [ID=2708] (https://www.recetasgratis.net/receta-de-tacos-de-pescado-empanizado-34536.html) \\n'}"
            ]
          },
          "metadata": {},
          "execution_count": 34
        }
      ]
    },
    {
      "cell_type": "code",
      "source": [
        "print(response[\"answer\"])"
      ],
      "metadata": {
        "colab": {
          "base_uri": "https://localhost:8080/"
        },
        "id": "Lz8V1KjUWaSS",
        "outputId": "f9600d08-09b8-4f7a-9a2b-ec80ba6065b1"
      },
      "execution_count": 35,
      "outputs": [
        {
          "output_type": "stream",
          "name": "stdout",
          "text": [
            "Puedes hacer varias cosas con pescado, como:\n",
            "\n",
            "* **Estofado de pescado con verduras:** [ID=11833] (https://www.recetasgratis.net/receta-de-estofado-de-pescado-con-verduras-52715.html)\n",
            "* **Parrillada de pescado:** [ID=12427] (https://www.recetasgratis.net/receta-de-parrillada-de-pescado-15056.html)\n",
            "* **Pizza de pescado:** [ID=10996] (https://www.recetasgratis.net/receta-de-pizza-de-pescado-35127.html)\n",
            "* **Pescado a la gallega caldeirada:** [ID=12237] (https://www.recetasgratis.net/receta-de-pescado-a-la-gallega-caldeirada-26124.html)\n",
            "* **Tiradito de pescado:** [ID=11803] (https://www.recetasgratis.net/receta-de-tiradito-de-pescado-75305.html)\n",
            "* **Tacos de pescado empanizado:** [ID=2708] (https://www.recetasgratis.net/receta-de-tacos-de-pescado-empanizado-34536.html) \n",
            "\n"
          ]
        },
        {
          "output_type": "stream",
          "name": "stderr",
          "text": [
            "/usr/local/lib/python3.10/dist-packages/ipykernel/ipkernel.py:283: DeprecationWarning: `should_run_async` will not call `transform_cell` automatically in the future. Please pass the result to `transformed_cell` argument and any exception that happen during thetransform in `preprocessing_exc_tuple` in IPython 7.17 and above.\n",
            "  and should_run_async(code)\n"
          ]
        }
      ]
    },
    {
      "cell_type": "code",
      "execution_count": 36,
      "metadata": {
        "id": "WiE5BSS529JY",
        "colab": {
          "base_uri": "https://localhost:8080/"
        },
        "outputId": "a62481f9-182c-4613-a324-06d2c19267c8"
      },
      "outputs": [
        {
          "output_type": "stream",
          "name": "stderr",
          "text": [
            "/usr/local/lib/python3.10/dist-packages/ipykernel/ipkernel.py:283: DeprecationWarning: `should_run_async` will not call `transform_cell` automatically in the future. Please pass the result to `transformed_cell` argument and any exception that happen during thetransform in `preprocessing_exc_tuple` in IPython 7.17 and above.\n",
            "  and should_run_async(code)\n"
          ]
        }
      ],
      "source": [
        "response = chain.invoke({\"input\": \"¿Qué puedo hacer con cebolla y tomate?\"})"
      ]
    },
    {
      "cell_type": "code",
      "source": [
        "response"
      ],
      "metadata": {
        "colab": {
          "base_uri": "https://localhost:8080/"
        },
        "id": "NDXq6iA7gogK",
        "outputId": "84c746b7-3a9c-42db-e47b-56dbf584d705"
      },
      "execution_count": 37,
      "outputs": [
        {
          "output_type": "stream",
          "name": "stderr",
          "text": [
            "/usr/local/lib/python3.10/dist-packages/ipykernel/ipkernel.py:283: DeprecationWarning: `should_run_async` will not call `transform_cell` automatically in the future. Please pass the result to `transformed_cell` argument and any exception that happen during thetransform in `preprocessing_exc_tuple` in IPython 7.17 and above.\n",
            "  and should_run_async(code)\n"
          ]
        },
        {
          "output_type": "execute_result",
          "data": {
            "text/plain": [
              "{'input': '¿Qué puedo hacer con cebolla y tomate?',\n",
              " 'context': [Document(metadata={'Id': 18599, 'URL': 'https://www.recetasgratis.net/receta-de-guarnicion-de-cebollas-y-tomates-al-horno-con-huevo-51558.html'}, page_content='Receta: guarnicion de cebollas y tomates al horno con huevo\\nCategoría: indeterminada\\nIngredientes: 2 tomates, 2 cebollas blancas, 1 huevo, sal, 100 gr miga de pan\\nDuración: indeterminada\\nValor nutricional: Alto en calorías, Alto en grasas, Sin sodio o sin sal'),\n",
              "  Document(metadata={'Id': 3036, 'URL': 'https://www.recetasgratis.net/receta-de-seviche-de-tomate-con-cebolla-16106.html'}, page_content='Receta: seviche de tomate con cebolla\\nCategoría: indeterminada\\nIngredientes: 6 Tomates maduros, 1 cebolla cabezona roja, 1 cebolla cabezona blanca, 2 cds de pasta de tomate, 2 cds de salsa de tomate, 1 chorrito de vinagre, Sal, Pimienta, Azucar\\nDuración: indeterminada\\nValor nutricional: Bajo en calorías, Sin grasa, Sin grasas trans'),\n",
              "  Document(metadata={'Id': 3724, 'URL': 'https://www.recetasgratis.net/receta-de-arroz-con-cebolla-morron-y-tomate-32171.html'}, page_content='Receta: arroz con cebolla morron y tomate\\nCategoría: indeterminada\\nIngredientes: Tomate, Arroz, Cebolla, Morron Rojo\\nDuración: indeterminada\\nValor nutricional: Bajo en calorías, Sin grasa, Alto en fibra'),\n",
              "  Document(metadata={'Id': 19027, 'URL': 'https://www.recetasgratis.net/receta-de-patatas-salteadas-con-cebolla-25451.html'}, page_content='Receta: patatas salteadas con cebolla\\nCategoría: indeterminada\\nIngredientes: 2-3 cebollas, 5-6 patatas, Pimienta, Sal, Aceite\\nDuración: indeterminada\\nValor nutricional: Bajo en calorías, Sin grasa, Alto en fibra'),\n",
              "  Document(metadata={'Id': 12499, 'URL': 'https://www.recetasgratis.net/receta-de-anchoas-con-cebolla-12540.html'}, page_content='Receta: anchoas con cebolla\\nCategoría: []\\nIngredientes: 2 docenas de anchoa, 1 cebolla roja, 1 cebolla blanca, Un poco de pimentón, 3 dientes de ajo, 1 vaso de txakoli, Sal, Aceite, Perejil picado\\nDuración: indeterminada\\nValor nutricional: Alto en grasas, Alto en calorías, Sin sodio'),\n",
              "  Document(metadata={'Id': 11833, 'URL': 'https://www.recetasgratis.net/receta-de-estofado-de-pescado-con-verduras-52715.html'}, page_content='Receta: estofado de pescado con verduras\\nCategoría: indeterminada\\nIngredientes: 1 cebolla, 2 tomates, aceite, ajo, agua, corvina, verduras\\nDuración: indeterminada\\nValor nutricional: Bajo en calorías, Sin grasa, Alto en grasas')],\n",
              " 'answer': 'Puedes hacer muchas cosas con cebolla y tomate. Aquí hay algunas ideas basadas en los documentos:\\n\\n* **Guarnición de cebollas y tomates al horno con huevo:** [ID=18599] (https://www.recetasgratis.net/receta-de-guarnicion-de-cebollas-y-tomates-al-horno-con-huevo-51558.html)\\n* **Seviche de tomate con cebolla:** [ID=3036] (https://www.recetasgratis.net/receta-de-seviche-de-tomate-con-cebolla-16106.html)\\n* **Arroz con cebolla, morrón y tomate:** [ID=3724] (https://www.recetasgratis.net/receta-de-arroz-con-cebolla-morron-y-tomate-32171.html)\\n* **Estofado de pescado con verduras:** [ID=11833] (https://www.recetasgratis.net/receta-de-estofado-de-pescado-con-verduras-52715.html) \\n'}"
            ]
          },
          "metadata": {},
          "execution_count": 37
        }
      ]
    },
    {
      "cell_type": "code",
      "source": [
        "import textwrap\n",
        "\n",
        "from IPython.display import Markdown\n",
        "\n",
        "def to_markdown(text):\n",
        "    text = text.replace('•', '  *').replace(\"\\n\", \"\\n\\n\")\n",
        "    # predicate: hack para indentar todas las líneas\n",
        "    return Markdown(textwrap.indent(text, '> ', predicate=lambda _: True))"
      ],
      "metadata": {
        "id": "YUDvpkRpYB1I",
        "colab": {
          "base_uri": "https://localhost:8080/"
        },
        "outputId": "56408d76-bf23-40d3-e424-23ca6f920f9a"
      },
      "execution_count": 38,
      "outputs": [
        {
          "output_type": "stream",
          "name": "stderr",
          "text": [
            "/usr/local/lib/python3.10/dist-packages/ipykernel/ipkernel.py:283: DeprecationWarning: `should_run_async` will not call `transform_cell` automatically in the future. Please pass the result to `transformed_cell` argument and any exception that happen during thetransform in `preprocessing_exc_tuple` in IPython 7.17 and above.\n",
            "  and should_run_async(code)\n"
          ]
        }
      ]
    },
    {
      "cell_type": "code",
      "source": [
        "to_markdown(response[\"answer\"])"
      ],
      "metadata": {
        "colab": {
          "base_uri": "https://localhost:8080/",
          "height": 228
        },
        "id": "ESATHVtHgjSJ",
        "outputId": "3f7611bf-0227-47f1-9dfe-e4af97745103"
      },
      "execution_count": 39,
      "outputs": [
        {
          "output_type": "stream",
          "name": "stderr",
          "text": [
            "/usr/local/lib/python3.10/dist-packages/ipykernel/ipkernel.py:283: DeprecationWarning: `should_run_async` will not call `transform_cell` automatically in the future. Please pass the result to `transformed_cell` argument and any exception that happen during thetransform in `preprocessing_exc_tuple` in IPython 7.17 and above.\n",
            "  and should_run_async(code)\n"
          ]
        },
        {
          "output_type": "execute_result",
          "data": {
            "text/plain": [
              "<IPython.core.display.Markdown object>"
            ],
            "text/markdown": "> Puedes hacer muchas cosas con cebolla y tomate. Aquí hay algunas ideas basadas en los documentos:\n> \n> \n> \n> * **Guarnición de cebollas y tomates al horno con huevo:** [ID=18599] (https://www.recetasgratis.net/receta-de-guarnicion-de-cebollas-y-tomates-al-horno-con-huevo-51558.html)\n> \n> * **Seviche de tomate con cebolla:** [ID=3036] (https://www.recetasgratis.net/receta-de-seviche-de-tomate-con-cebolla-16106.html)\n> \n> * **Arroz con cebolla, morrón y tomate:** [ID=3724] (https://www.recetasgratis.net/receta-de-arroz-con-cebolla-morron-y-tomate-32171.html)\n> \n> * **Estofado de pescado con verduras:** [ID=11833] (https://www.recetasgratis.net/receta-de-estofado-de-pescado-con-verduras-52715.html) \n> \n"
          },
          "metadata": {},
          "execution_count": 39
        }
      ]
    },
    {
      "cell_type": "code",
      "source": [
        "for doc in response[\"context\"]:\n",
        "    print(doc.metadata)\n",
        "    print(doc.page_content)\n",
        "    print()"
      ],
      "metadata": {
        "colab": {
          "base_uri": "https://localhost:8080/"
        },
        "id": "NvjUwWU9jjWr",
        "outputId": "79065f21-d24a-44b6-8664-1fe395b8a8ce"
      },
      "execution_count": 40,
      "outputs": [
        {
          "output_type": "stream",
          "name": "stdout",
          "text": [
            "{'Id': 18599, 'URL': 'https://www.recetasgratis.net/receta-de-guarnicion-de-cebollas-y-tomates-al-horno-con-huevo-51558.html'}\n",
            "Receta: guarnicion de cebollas y tomates al horno con huevo\n",
            "Categoría: indeterminada\n",
            "Ingredientes: 2 tomates, 2 cebollas blancas, 1 huevo, sal, 100 gr miga de pan\n",
            "Duración: indeterminada\n",
            "Valor nutricional: Alto en calorías, Alto en grasas, Sin sodio o sin sal\n",
            "\n",
            "{'Id': 3036, 'URL': 'https://www.recetasgratis.net/receta-de-seviche-de-tomate-con-cebolla-16106.html'}\n",
            "Receta: seviche de tomate con cebolla\n",
            "Categoría: indeterminada\n",
            "Ingredientes: 6 Tomates maduros, 1 cebolla cabezona roja, 1 cebolla cabezona blanca, 2 cds de pasta de tomate, 2 cds de salsa de tomate, 1 chorrito de vinagre, Sal, Pimienta, Azucar\n",
            "Duración: indeterminada\n",
            "Valor nutricional: Bajo en calorías, Sin grasa, Sin grasas trans\n",
            "\n",
            "{'Id': 3724, 'URL': 'https://www.recetasgratis.net/receta-de-arroz-con-cebolla-morron-y-tomate-32171.html'}\n",
            "Receta: arroz con cebolla morron y tomate\n",
            "Categoría: indeterminada\n",
            "Ingredientes: Tomate, Arroz, Cebolla, Morron Rojo\n",
            "Duración: indeterminada\n",
            "Valor nutricional: Bajo en calorías, Sin grasa, Alto en fibra\n",
            "\n",
            "{'Id': 19027, 'URL': 'https://www.recetasgratis.net/receta-de-patatas-salteadas-con-cebolla-25451.html'}\n",
            "Receta: patatas salteadas con cebolla\n",
            "Categoría: indeterminada\n",
            "Ingredientes: 2-3 cebollas, 5-6 patatas, Pimienta, Sal, Aceite\n",
            "Duración: indeterminada\n",
            "Valor nutricional: Bajo en calorías, Sin grasa, Alto en fibra\n",
            "\n",
            "{'Id': 12499, 'URL': 'https://www.recetasgratis.net/receta-de-anchoas-con-cebolla-12540.html'}\n",
            "Receta: anchoas con cebolla\n",
            "Categoría: []\n",
            "Ingredientes: 2 docenas de anchoa, 1 cebolla roja, 1 cebolla blanca, Un poco de pimentón, 3 dientes de ajo, 1 vaso de txakoli, Sal, Aceite, Perejil picado\n",
            "Duración: indeterminada\n",
            "Valor nutricional: Alto en grasas, Alto en calorías, Sin sodio\n",
            "\n",
            "{'Id': 11833, 'URL': 'https://www.recetasgratis.net/receta-de-estofado-de-pescado-con-verduras-52715.html'}\n",
            "Receta: estofado de pescado con verduras\n",
            "Categoría: indeterminada\n",
            "Ingredientes: 1 cebolla, 2 tomates, aceite, ajo, agua, corvina, verduras\n",
            "Duración: indeterminada\n",
            "Valor nutricional: Bajo en calorías, Sin grasa, Alto en grasas\n",
            "\n"
          ]
        },
        {
          "output_type": "stream",
          "name": "stderr",
          "text": [
            "/usr/local/lib/python3.10/dist-packages/ipykernel/ipkernel.py:283: DeprecationWarning: `should_run_async` will not call `transform_cell` automatically in the future. Please pass the result to `transformed_cell` argument and any exception that happen during thetransform in `preprocessing_exc_tuple` in IPython 7.17 and above.\n",
            "  and should_run_async(code)\n"
          ]
        }
      ]
    },
    {
      "cell_type": "markdown",
      "source": [
        "El pipeline podría seguir con un sistema de búsqueda más sencillo que devuelve los pasos de la receta según los IDs."
      ],
      "metadata": {
        "id": "AIA3r6OUWwTY"
      }
    },
    {
      "cell_type": "code",
      "source": [
        "response = chain.invoke({\"input\": \"¿Qué puedo hacer con mayonesa y dulce de leche?\"})\n",
        "to_markdown(response[\"answer\"])"
      ],
      "metadata": {
        "colab": {
          "base_uri": "https://localhost:8080/",
          "height": 117
        },
        "id": "Wr6CBFK9W-S0",
        "outputId": "36159ca5-0fd0-4360-f828-041c08efcfca"
      },
      "execution_count": 41,
      "outputs": [
        {
          "output_type": "stream",
          "name": "stderr",
          "text": [
            "/usr/local/lib/python3.10/dist-packages/ipykernel/ipkernel.py:283: DeprecationWarning: `should_run_async` will not call `transform_cell` automatically in the future. Please pass the result to `transformed_cell` argument and any exception that happen during thetransform in `preprocessing_exc_tuple` in IPython 7.17 and above.\n",
            "  and should_run_async(code)\n"
          ]
        },
        {
          "output_type": "execute_result",
          "data": {
            "text/plain": [
              "<IPython.core.display.Markdown object>"
            ],
            "text/markdown": "> No lo sé. Los documentos no contienen información sobre qué se puede hacer con mayonesa y dulce de leche. \n> \n"
          },
          "metadata": {},
          "execution_count": 41
        }
      ]
    },
    {
      "cell_type": "code",
      "source": [
        "for doc in response[\"context\"]:\n",
        "    print(doc.metadata)\n",
        "    print(doc.page_content)\n",
        "    print()"
      ],
      "metadata": {
        "colab": {
          "base_uri": "https://localhost:8080/"
        },
        "id": "fR4XJE-uXHBT",
        "outputId": "dcf94fc9-7183-4065-bbb3-fef97850160b"
      },
      "execution_count": 42,
      "outputs": [
        {
          "output_type": "stream",
          "name": "stdout",
          "text": [
            "{'Id': 16546, 'URL': 'https://www.recetasgratis.net/receta-de-mayonesa-de-leche-con-thermomix-30806.html'}\n",
            "Receta: mayonesa de leche con thermomix\n",
            "Categoría: []\n",
            "Ingredientes: 200 mililitros de Leche, 2 dientes de Ajo, 400 gramos de Aceite, 1 pizca de Sal\n",
            "Duración: 00:15\n",
            "Valor nutricional: Alto en calorías, Alto en grasas, Alto en sodio\n",
            "\n",
            "{'Id': 16608, 'URL': 'https://www.recetasgratis.net/receta-de-mayonesa-de-leche-70691.html'}\n",
            "Receta: mayonesa de leche\n",
            "Categoría: []\n",
            "Ingredientes: 150 mililitros de leche, 1 diente de ajo, 1 cucharada postre de sal, 1 cucharadita de orégano, 3 ramas de perejil, Aceite\n",
            "Duración: 00:15\n",
            "Valor nutricional: Alto en calorías, Alto en grasas, Alto en sodio\n",
            "\n",
            "{'Id': 15977, 'URL': 'https://www.recetasgratis.net/receta-de-cuajada-con-thermomix-30422.html'}\n",
            "Receta: cuajada con thermomix\n",
            "Categoría: []\n",
            "Ingredientes: 1 litro de Leche entera, 2 sobres de Cuajada Royal\n",
            "Duración: 00:15\n",
            "Valor nutricional: Alto en calorías, Alto en grasas, Alto en sodio\n",
            "\n",
            "{'Id': 16929, 'URL': 'https://www.recetasgratis.net/receta-de-mayonesa-26931.html'}\n",
            "Receta: mayonesa\n",
            "Categoría: []\n",
            "Ingredientes: 1 unidad de Huevo, 1 vaso de Aceite de oliva, 1 pizca de Sal, 1 diente de Ajo (opcional)\n",
            "Duración: 00:30\n",
            "Valor nutricional: Alto en grasas, Alto en calorías, Sin sodio\n",
            "\n",
            "{'Id': 15630, 'URL': 'https://www.recetasgratis.net/receta-de-quereme-15191.html'}\n",
            "Receta: quereme\n",
            "Categoría: indeterminada\n",
            "Ingredientes: 1 LITRO DE LECHE, PANELA\n",
            "Duración: indeterminada\n",
            "Valor nutricional: Alto en calorías, Alto en grasas, Alto en sodio\n",
            "\n",
            "{'Id': 14990, 'URL': 'https://www.recetasgratis.net/receta-de-bombones-sin-coccion-riquisimos-41847.html'}\n",
            "Receta: bombones sin coccion riquisimos\n",
            "Categoría: indeterminada\n",
            "Ingredientes: 12 Vainillas, 500 Gramos de dulce de leche, Coco rallado a gusto\n",
            "Duración: indeterminada\n",
            "Valor nutricional: Alto en calorías, Alto en grasas, Sin grasas trans\n",
            "\n"
          ]
        },
        {
          "output_type": "stream",
          "name": "stderr",
          "text": [
            "/usr/local/lib/python3.10/dist-packages/ipykernel/ipkernel.py:283: DeprecationWarning: `should_run_async` will not call `transform_cell` automatically in the future. Please pass the result to `transformed_cell` argument and any exception that happen during thetransform in `preprocessing_exc_tuple` in IPython 7.17 and above.\n",
            "  and should_run_async(code)\n"
          ]
        }
      ]
    },
    {
      "cell_type": "code",
      "source": [
        "response = chain.invoke({\"input\": \"¿Qué puedo hacer con dulce de leche?\"})\n",
        "to_markdown(response[\"answer\"])"
      ],
      "metadata": {
        "colab": {
          "base_uri": "https://localhost:8080/",
          "height": 72
        },
        "id": "X_AuYzTDYhfZ",
        "outputId": "da656639-f007-4f5c-9e66-613d7c2fd579"
      },
      "execution_count": 43,
      "outputs": [
        {
          "output_type": "stream",
          "name": "stderr",
          "text": [
            "/usr/local/lib/python3.10/dist-packages/ipykernel/ipkernel.py:283: DeprecationWarning: `should_run_async` will not call `transform_cell` automatically in the future. Please pass the result to `transformed_cell` argument and any exception that happen during thetransform in `preprocessing_exc_tuple` in IPython 7.17 and above.\n",
            "  and should_run_async(code)\n"
          ]
        },
        {
          "output_type": "execute_result",
          "data": {
            "text/plain": [
              "<IPython.core.display.Markdown object>"
            ],
            "text/markdown": ""
          },
          "metadata": {},
          "execution_count": 43
        }
      ]
    },
    {
      "cell_type": "code",
      "source": [
        "response = chain.invoke({\"input\": \"¿Cuánto tiempo lleva hacer una mayonesa?\"})\n",
        "to_markdown(response[\"answer\"])"
      ],
      "metadata": {
        "colab": {
          "base_uri": "https://localhost:8080/",
          "height": 187
        },
        "id": "RRcUqpqSOYlb",
        "outputId": "d6f26cee-efa8-4b8c-bf56-0e38a18880c7"
      },
      "execution_count": 44,
      "outputs": [
        {
          "output_type": "stream",
          "name": "stderr",
          "text": [
            "/usr/local/lib/python3.10/dist-packages/ipykernel/ipkernel.py:283: DeprecationWarning: `should_run_async` will not call `transform_cell` automatically in the future. Please pass the result to `transformed_cell` argument and any exception that happen during thetransform in `preprocessing_exc_tuple` in IPython 7.17 and above.\n",
            "  and should_run_async(code)\n"
          ]
        },
        {
          "output_type": "execute_result",
          "data": {
            "text/plain": [
              "<IPython.core.display.Markdown object>"
            ],
            "text/markdown": "> La mayonesa puede tardar entre 10 y 30 minutos en prepararse. \n> \n> \n> \n> * [ID=16929] Receta: mayonesa - 30 minutos (URL=https://www.recetasgratis.net/receta-de-mayonesa-26931.html)\n> \n> * [ID=16690] Receta: mayonesa facil - 15 minutos (URL=https://www.recetasgratis.net/receta-de-mayonesa-facil-57527.html)\n> \n> * [ID=16643] Receta: mayonesa casera - 10 minutos (URL=https://www.recetasgratis.net/receta-de-mayonesa-casera-62554.html) \n> \n"
          },
          "metadata": {},
          "execution_count": 44
        }
      ]
    },
    {
      "cell_type": "markdown",
      "source": [
        "## Otros\n",
        "\n",
        "* Agente inicial que convierta el prompt del usuario en una query útil: https://python.langchain.com/v0.2/docs/how_to/MultiQueryRetriever/\n",
        "* Combinar resultados de muchos retrievers: https://python.langchain.com/v0.2/docs/how_to/ensemble_retriever/\n",
        "* Obtener documentos completos a partir de fragmentos: https://python.langchain.com/v0.2/docs/how_to/parent_document_retriever/\n",
        "* Búsqueda híbrida: https://python.langchain.com/v0.2/docs/how_to/hybrid/\n",
        "* Function/tool calling: https://python.langchain.com/v0.2/docs/how_to/tool_calling/\n",
        "\n",
        "\n",
        "\n"
      ],
      "metadata": {
        "id": "N0f1oMyMPYRT"
      }
    }
  ],
  "metadata": {
    "kernelspec": {
      "display_name": "Python 3",
      "name": "python3"
    },
    "language_info": {
      "name": "python",
      "version": "3.11.0"
    },
    "colab": {
      "provenance": [],
      "gpuType": "T4",
      "toc_visible": true,
      "include_colab_link": true
    },
    "accelerator": "GPU",
    "widgets": {
      "application/vnd.jupyter.widget-state+json": {
        "d7331b77d2ac440cba2c21435df6a3bd": {
          "model_module": "@jupyter-widgets/controls",
          "model_name": "HBoxModel",
          "model_module_version": "1.5.0",
          "state": {
            "_dom_classes": [],
            "_model_module": "@jupyter-widgets/controls",
            "_model_module_version": "1.5.0",
            "_model_name": "HBoxModel",
            "_view_count": null,
            "_view_module": "@jupyter-widgets/controls",
            "_view_module_version": "1.5.0",
            "_view_name": "HBoxView",
            "box_style": "",
            "children": [
              "IPY_MODEL_2e97e9e73dcd465aa2f1d1152d238d19",
              "IPY_MODEL_44130da62906420b9b625ac9a7127834",
              "IPY_MODEL_97866cfe9a814c26bd5a7573a948dc8f"
            ],
            "layout": "IPY_MODEL_5c1174b41b094050a552ce92eec4aa81"
          }
        },
        "2e97e9e73dcd465aa2f1d1152d238d19": {
          "model_module": "@jupyter-widgets/controls",
          "model_name": "HTMLModel",
          "model_module_version": "1.5.0",
          "state": {
            "_dom_classes": [],
            "_model_module": "@jupyter-widgets/controls",
            "_model_module_version": "1.5.0",
            "_model_name": "HTMLModel",
            "_view_count": null,
            "_view_module": "@jupyter-widgets/controls",
            "_view_module_version": "1.5.0",
            "_view_name": "HTMLView",
            "description": "",
            "description_tooltip": null,
            "layout": "IPY_MODEL_28256c3b6d0b4b96b8818a913dc44d84",
            "placeholder": "​",
            "style": "IPY_MODEL_5b664ed3b064408dbf2147ec34ad6d1a",
            "value": "README.md: 100%"
          }
        },
        "44130da62906420b9b625ac9a7127834": {
          "model_module": "@jupyter-widgets/controls",
          "model_name": "FloatProgressModel",
          "model_module_version": "1.5.0",
          "state": {
            "_dom_classes": [],
            "_model_module": "@jupyter-widgets/controls",
            "_model_module_version": "1.5.0",
            "_model_name": "FloatProgressModel",
            "_view_count": null,
            "_view_module": "@jupyter-widgets/controls",
            "_view_module_version": "1.5.0",
            "_view_name": "ProgressView",
            "bar_style": "success",
            "description": "",
            "description_tooltip": null,
            "layout": "IPY_MODEL_92ebfcc5424749719170b7f4507bd680",
            "max": 10857,
            "min": 0,
            "orientation": "horizontal",
            "style": "IPY_MODEL_4fedd7c880b14cef90d26c9bb2ae0b9b",
            "value": 10857
          }
        },
        "97866cfe9a814c26bd5a7573a948dc8f": {
          "model_module": "@jupyter-widgets/controls",
          "model_name": "HTMLModel",
          "model_module_version": "1.5.0",
          "state": {
            "_dom_classes": [],
            "_model_module": "@jupyter-widgets/controls",
            "_model_module_version": "1.5.0",
            "_model_name": "HTMLModel",
            "_view_count": null,
            "_view_module": "@jupyter-widgets/controls",
            "_view_module_version": "1.5.0",
            "_view_name": "HTMLView",
            "description": "",
            "description_tooltip": null,
            "layout": "IPY_MODEL_e4de2bf4050547dbb11c566ac43de51c",
            "placeholder": "​",
            "style": "IPY_MODEL_a547c7c27cd141d0b54e123d1bedff0d",
            "value": " 10.9k/10.9k [00:00&lt;00:00, 437kB/s]"
          }
        },
        "5c1174b41b094050a552ce92eec4aa81": {
          "model_module": "@jupyter-widgets/base",
          "model_name": "LayoutModel",
          "model_module_version": "1.2.0",
          "state": {
            "_model_module": "@jupyter-widgets/base",
            "_model_module_version": "1.2.0",
            "_model_name": "LayoutModel",
            "_view_count": null,
            "_view_module": "@jupyter-widgets/base",
            "_view_module_version": "1.2.0",
            "_view_name": "LayoutView",
            "align_content": null,
            "align_items": null,
            "align_self": null,
            "border": null,
            "bottom": null,
            "display": null,
            "flex": null,
            "flex_flow": null,
            "grid_area": null,
            "grid_auto_columns": null,
            "grid_auto_flow": null,
            "grid_auto_rows": null,
            "grid_column": null,
            "grid_gap": null,
            "grid_row": null,
            "grid_template_areas": null,
            "grid_template_columns": null,
            "grid_template_rows": null,
            "height": null,
            "justify_content": null,
            "justify_items": null,
            "left": null,
            "margin": null,
            "max_height": null,
            "max_width": null,
            "min_height": null,
            "min_width": null,
            "object_fit": null,
            "object_position": null,
            "order": null,
            "overflow": null,
            "overflow_x": null,
            "overflow_y": null,
            "padding": null,
            "right": null,
            "top": null,
            "visibility": null,
            "width": null
          }
        },
        "28256c3b6d0b4b96b8818a913dc44d84": {
          "model_module": "@jupyter-widgets/base",
          "model_name": "LayoutModel",
          "model_module_version": "1.2.0",
          "state": {
            "_model_module": "@jupyter-widgets/base",
            "_model_module_version": "1.2.0",
            "_model_name": "LayoutModel",
            "_view_count": null,
            "_view_module": "@jupyter-widgets/base",
            "_view_module_version": "1.2.0",
            "_view_name": "LayoutView",
            "align_content": null,
            "align_items": null,
            "align_self": null,
            "border": null,
            "bottom": null,
            "display": null,
            "flex": null,
            "flex_flow": null,
            "grid_area": null,
            "grid_auto_columns": null,
            "grid_auto_flow": null,
            "grid_auto_rows": null,
            "grid_column": null,
            "grid_gap": null,
            "grid_row": null,
            "grid_template_areas": null,
            "grid_template_columns": null,
            "grid_template_rows": null,
            "height": null,
            "justify_content": null,
            "justify_items": null,
            "left": null,
            "margin": null,
            "max_height": null,
            "max_width": null,
            "min_height": null,
            "min_width": null,
            "object_fit": null,
            "object_position": null,
            "order": null,
            "overflow": null,
            "overflow_x": null,
            "overflow_y": null,
            "padding": null,
            "right": null,
            "top": null,
            "visibility": null,
            "width": null
          }
        },
        "5b664ed3b064408dbf2147ec34ad6d1a": {
          "model_module": "@jupyter-widgets/controls",
          "model_name": "DescriptionStyleModel",
          "model_module_version": "1.5.0",
          "state": {
            "_model_module": "@jupyter-widgets/controls",
            "_model_module_version": "1.5.0",
            "_model_name": "DescriptionStyleModel",
            "_view_count": null,
            "_view_module": "@jupyter-widgets/base",
            "_view_module_version": "1.2.0",
            "_view_name": "StyleView",
            "description_width": ""
          }
        },
        "92ebfcc5424749719170b7f4507bd680": {
          "model_module": "@jupyter-widgets/base",
          "model_name": "LayoutModel",
          "model_module_version": "1.2.0",
          "state": {
            "_model_module": "@jupyter-widgets/base",
            "_model_module_version": "1.2.0",
            "_model_name": "LayoutModel",
            "_view_count": null,
            "_view_module": "@jupyter-widgets/base",
            "_view_module_version": "1.2.0",
            "_view_name": "LayoutView",
            "align_content": null,
            "align_items": null,
            "align_self": null,
            "border": null,
            "bottom": null,
            "display": null,
            "flex": null,
            "flex_flow": null,
            "grid_area": null,
            "grid_auto_columns": null,
            "grid_auto_flow": null,
            "grid_auto_rows": null,
            "grid_column": null,
            "grid_gap": null,
            "grid_row": null,
            "grid_template_areas": null,
            "grid_template_columns": null,
            "grid_template_rows": null,
            "height": null,
            "justify_content": null,
            "justify_items": null,
            "left": null,
            "margin": null,
            "max_height": null,
            "max_width": null,
            "min_height": null,
            "min_width": null,
            "object_fit": null,
            "object_position": null,
            "order": null,
            "overflow": null,
            "overflow_x": null,
            "overflow_y": null,
            "padding": null,
            "right": null,
            "top": null,
            "visibility": null,
            "width": null
          }
        },
        "4fedd7c880b14cef90d26c9bb2ae0b9b": {
          "model_module": "@jupyter-widgets/controls",
          "model_name": "ProgressStyleModel",
          "model_module_version": "1.5.0",
          "state": {
            "_model_module": "@jupyter-widgets/controls",
            "_model_module_version": "1.5.0",
            "_model_name": "ProgressStyleModel",
            "_view_count": null,
            "_view_module": "@jupyter-widgets/base",
            "_view_module_version": "1.2.0",
            "_view_name": "StyleView",
            "bar_color": null,
            "description_width": ""
          }
        },
        "e4de2bf4050547dbb11c566ac43de51c": {
          "model_module": "@jupyter-widgets/base",
          "model_name": "LayoutModel",
          "model_module_version": "1.2.0",
          "state": {
            "_model_module": "@jupyter-widgets/base",
            "_model_module_version": "1.2.0",
            "_model_name": "LayoutModel",
            "_view_count": null,
            "_view_module": "@jupyter-widgets/base",
            "_view_module_version": "1.2.0",
            "_view_name": "LayoutView",
            "align_content": null,
            "align_items": null,
            "align_self": null,
            "border": null,
            "bottom": null,
            "display": null,
            "flex": null,
            "flex_flow": null,
            "grid_area": null,
            "grid_auto_columns": null,
            "grid_auto_flow": null,
            "grid_auto_rows": null,
            "grid_column": null,
            "grid_gap": null,
            "grid_row": null,
            "grid_template_areas": null,
            "grid_template_columns": null,
            "grid_template_rows": null,
            "height": null,
            "justify_content": null,
            "justify_items": null,
            "left": null,
            "margin": null,
            "max_height": null,
            "max_width": null,
            "min_height": null,
            "min_width": null,
            "object_fit": null,
            "object_position": null,
            "order": null,
            "overflow": null,
            "overflow_x": null,
            "overflow_y": null,
            "padding": null,
            "right": null,
            "top": null,
            "visibility": null,
            "width": null
          }
        },
        "a547c7c27cd141d0b54e123d1bedff0d": {
          "model_module": "@jupyter-widgets/controls",
          "model_name": "DescriptionStyleModel",
          "model_module_version": "1.5.0",
          "state": {
            "_model_module": "@jupyter-widgets/controls",
            "_model_module_version": "1.5.0",
            "_model_name": "DescriptionStyleModel",
            "_view_count": null,
            "_view_module": "@jupyter-widgets/base",
            "_view_module_version": "1.2.0",
            "_view_name": "StyleView",
            "description_width": ""
          }
        },
        "2c0fd9aaf2324992a711c539ecae01d3": {
          "model_module": "@jupyter-widgets/controls",
          "model_name": "HBoxModel",
          "model_module_version": "1.5.0",
          "state": {
            "_dom_classes": [],
            "_model_module": "@jupyter-widgets/controls",
            "_model_module_version": "1.5.0",
            "_model_name": "HBoxModel",
            "_view_count": null,
            "_view_module": "@jupyter-widgets/controls",
            "_view_module_version": "1.5.0",
            "_view_name": "HBoxView",
            "box_style": "",
            "children": [
              "IPY_MODEL_b9ff4e0c8c7a4c009bc641f8f0101796",
              "IPY_MODEL_99562348e53444fc97b6e4b8f5f8a0d9",
              "IPY_MODEL_9af5a498fae6490983be41d7fde5c126"
            ],
            "layout": "IPY_MODEL_3fb01936459847e0bc91e53f8dcf9cd7"
          }
        },
        "b9ff4e0c8c7a4c009bc641f8f0101796": {
          "model_module": "@jupyter-widgets/controls",
          "model_name": "HTMLModel",
          "model_module_version": "1.5.0",
          "state": {
            "_dom_classes": [],
            "_model_module": "@jupyter-widgets/controls",
            "_model_module_version": "1.5.0",
            "_model_name": "HTMLModel",
            "_view_count": null,
            "_view_module": "@jupyter-widgets/controls",
            "_view_module_version": "1.5.0",
            "_view_name": "HTMLView",
            "description": "",
            "description_tooltip": null,
            "layout": "IPY_MODEL_10a067723f334998a44e357733d238b6",
            "placeholder": "​",
            "style": "IPY_MODEL_33dfe778447a45cd970c81b14a226507",
            "value": "main.csv: 100%"
          }
        },
        "99562348e53444fc97b6e4b8f5f8a0d9": {
          "model_module": "@jupyter-widgets/controls",
          "model_name": "FloatProgressModel",
          "model_module_version": "1.5.0",
          "state": {
            "_dom_classes": [],
            "_model_module": "@jupyter-widgets/controls",
            "_model_module_version": "1.5.0",
            "_model_name": "FloatProgressModel",
            "_view_count": null,
            "_view_module": "@jupyter-widgets/controls",
            "_view_module_version": "1.5.0",
            "_view_name": "ProgressView",
            "bar_style": "success",
            "description": "",
            "description_tooltip": null,
            "layout": "IPY_MODEL_6741e240e8c54755954b4d2307fb2d16",
            "max": 40317661,
            "min": 0,
            "orientation": "horizontal",
            "style": "IPY_MODEL_17599be0214e421989c8eeeb419175e4",
            "value": 40317661
          }
        },
        "9af5a498fae6490983be41d7fde5c126": {
          "model_module": "@jupyter-widgets/controls",
          "model_name": "HTMLModel",
          "model_module_version": "1.5.0",
          "state": {
            "_dom_classes": [],
            "_model_module": "@jupyter-widgets/controls",
            "_model_module_version": "1.5.0",
            "_model_name": "HTMLModel",
            "_view_count": null,
            "_view_module": "@jupyter-widgets/controls",
            "_view_module_version": "1.5.0",
            "_view_name": "HTMLView",
            "description": "",
            "description_tooltip": null,
            "layout": "IPY_MODEL_20e16940dd5c461d9324ffeb432d8222",
            "placeholder": "​",
            "style": "IPY_MODEL_0e938fce6155411593c53db088424f2e",
            "value": " 40.3M/40.3M [00:09&lt;00:00, 5.29MB/s]"
          }
        },
        "3fb01936459847e0bc91e53f8dcf9cd7": {
          "model_module": "@jupyter-widgets/base",
          "model_name": "LayoutModel",
          "model_module_version": "1.2.0",
          "state": {
            "_model_module": "@jupyter-widgets/base",
            "_model_module_version": "1.2.0",
            "_model_name": "LayoutModel",
            "_view_count": null,
            "_view_module": "@jupyter-widgets/base",
            "_view_module_version": "1.2.0",
            "_view_name": "LayoutView",
            "align_content": null,
            "align_items": null,
            "align_self": null,
            "border": null,
            "bottom": null,
            "display": null,
            "flex": null,
            "flex_flow": null,
            "grid_area": null,
            "grid_auto_columns": null,
            "grid_auto_flow": null,
            "grid_auto_rows": null,
            "grid_column": null,
            "grid_gap": null,
            "grid_row": null,
            "grid_template_areas": null,
            "grid_template_columns": null,
            "grid_template_rows": null,
            "height": null,
            "justify_content": null,
            "justify_items": null,
            "left": null,
            "margin": null,
            "max_height": null,
            "max_width": null,
            "min_height": null,
            "min_width": null,
            "object_fit": null,
            "object_position": null,
            "order": null,
            "overflow": null,
            "overflow_x": null,
            "overflow_y": null,
            "padding": null,
            "right": null,
            "top": null,
            "visibility": null,
            "width": null
          }
        },
        "10a067723f334998a44e357733d238b6": {
          "model_module": "@jupyter-widgets/base",
          "model_name": "LayoutModel",
          "model_module_version": "1.2.0",
          "state": {
            "_model_module": "@jupyter-widgets/base",
            "_model_module_version": "1.2.0",
            "_model_name": "LayoutModel",
            "_view_count": null,
            "_view_module": "@jupyter-widgets/base",
            "_view_module_version": "1.2.0",
            "_view_name": "LayoutView",
            "align_content": null,
            "align_items": null,
            "align_self": null,
            "border": null,
            "bottom": null,
            "display": null,
            "flex": null,
            "flex_flow": null,
            "grid_area": null,
            "grid_auto_columns": null,
            "grid_auto_flow": null,
            "grid_auto_rows": null,
            "grid_column": null,
            "grid_gap": null,
            "grid_row": null,
            "grid_template_areas": null,
            "grid_template_columns": null,
            "grid_template_rows": null,
            "height": null,
            "justify_content": null,
            "justify_items": null,
            "left": null,
            "margin": null,
            "max_height": null,
            "max_width": null,
            "min_height": null,
            "min_width": null,
            "object_fit": null,
            "object_position": null,
            "order": null,
            "overflow": null,
            "overflow_x": null,
            "overflow_y": null,
            "padding": null,
            "right": null,
            "top": null,
            "visibility": null,
            "width": null
          }
        },
        "33dfe778447a45cd970c81b14a226507": {
          "model_module": "@jupyter-widgets/controls",
          "model_name": "DescriptionStyleModel",
          "model_module_version": "1.5.0",
          "state": {
            "_model_module": "@jupyter-widgets/controls",
            "_model_module_version": "1.5.0",
            "_model_name": "DescriptionStyleModel",
            "_view_count": null,
            "_view_module": "@jupyter-widgets/base",
            "_view_module_version": "1.2.0",
            "_view_name": "StyleView",
            "description_width": ""
          }
        },
        "6741e240e8c54755954b4d2307fb2d16": {
          "model_module": "@jupyter-widgets/base",
          "model_name": "LayoutModel",
          "model_module_version": "1.2.0",
          "state": {
            "_model_module": "@jupyter-widgets/base",
            "_model_module_version": "1.2.0",
            "_model_name": "LayoutModel",
            "_view_count": null,
            "_view_module": "@jupyter-widgets/base",
            "_view_module_version": "1.2.0",
            "_view_name": "LayoutView",
            "align_content": null,
            "align_items": null,
            "align_self": null,
            "border": null,
            "bottom": null,
            "display": null,
            "flex": null,
            "flex_flow": null,
            "grid_area": null,
            "grid_auto_columns": null,
            "grid_auto_flow": null,
            "grid_auto_rows": null,
            "grid_column": null,
            "grid_gap": null,
            "grid_row": null,
            "grid_template_areas": null,
            "grid_template_columns": null,
            "grid_template_rows": null,
            "height": null,
            "justify_content": null,
            "justify_items": null,
            "left": null,
            "margin": null,
            "max_height": null,
            "max_width": null,
            "min_height": null,
            "min_width": null,
            "object_fit": null,
            "object_position": null,
            "order": null,
            "overflow": null,
            "overflow_x": null,
            "overflow_y": null,
            "padding": null,
            "right": null,
            "top": null,
            "visibility": null,
            "width": null
          }
        },
        "17599be0214e421989c8eeeb419175e4": {
          "model_module": "@jupyter-widgets/controls",
          "model_name": "ProgressStyleModel",
          "model_module_version": "1.5.0",
          "state": {
            "_model_module": "@jupyter-widgets/controls",
            "_model_module_version": "1.5.0",
            "_model_name": "ProgressStyleModel",
            "_view_count": null,
            "_view_module": "@jupyter-widgets/base",
            "_view_module_version": "1.2.0",
            "_view_name": "StyleView",
            "bar_color": null,
            "description_width": ""
          }
        },
        "20e16940dd5c461d9324ffeb432d8222": {
          "model_module": "@jupyter-widgets/base",
          "model_name": "LayoutModel",
          "model_module_version": "1.2.0",
          "state": {
            "_model_module": "@jupyter-widgets/base",
            "_model_module_version": "1.2.0",
            "_model_name": "LayoutModel",
            "_view_count": null,
            "_view_module": "@jupyter-widgets/base",
            "_view_module_version": "1.2.0",
            "_view_name": "LayoutView",
            "align_content": null,
            "align_items": null,
            "align_self": null,
            "border": null,
            "bottom": null,
            "display": null,
            "flex": null,
            "flex_flow": null,
            "grid_area": null,
            "grid_auto_columns": null,
            "grid_auto_flow": null,
            "grid_auto_rows": null,
            "grid_column": null,
            "grid_gap": null,
            "grid_row": null,
            "grid_template_areas": null,
            "grid_template_columns": null,
            "grid_template_rows": null,
            "height": null,
            "justify_content": null,
            "justify_items": null,
            "left": null,
            "margin": null,
            "max_height": null,
            "max_width": null,
            "min_height": null,
            "min_width": null,
            "object_fit": null,
            "object_position": null,
            "order": null,
            "overflow": null,
            "overflow_x": null,
            "overflow_y": null,
            "padding": null,
            "right": null,
            "top": null,
            "visibility": null,
            "width": null
          }
        },
        "0e938fce6155411593c53db088424f2e": {
          "model_module": "@jupyter-widgets/controls",
          "model_name": "DescriptionStyleModel",
          "model_module_version": "1.5.0",
          "state": {
            "_model_module": "@jupyter-widgets/controls",
            "_model_module_version": "1.5.0",
            "_model_name": "DescriptionStyleModel",
            "_view_count": null,
            "_view_module": "@jupyter-widgets/base",
            "_view_module_version": "1.2.0",
            "_view_name": "StyleView",
            "description_width": ""
          }
        },
        "2b75ed1b6a8c448992bb33c35d53706d": {
          "model_module": "@jupyter-widgets/controls",
          "model_name": "HBoxModel",
          "model_module_version": "1.5.0",
          "state": {
            "_dom_classes": [],
            "_model_module": "@jupyter-widgets/controls",
            "_model_module_version": "1.5.0",
            "_model_name": "HBoxModel",
            "_view_count": null,
            "_view_module": "@jupyter-widgets/controls",
            "_view_module_version": "1.5.0",
            "_view_name": "HBoxView",
            "box_style": "",
            "children": [
              "IPY_MODEL_e2522228a0954dd7bbe8b428ef66e81d",
              "IPY_MODEL_6a50f79c04bd47cc920ebd7a9db0550f",
              "IPY_MODEL_7b1f2787c3784e119233bb58234ef609"
            ],
            "layout": "IPY_MODEL_3d322e33a0a94abb8f8706e1b567ec61"
          }
        },
        "e2522228a0954dd7bbe8b428ef66e81d": {
          "model_module": "@jupyter-widgets/controls",
          "model_name": "HTMLModel",
          "model_module_version": "1.5.0",
          "state": {
            "_dom_classes": [],
            "_model_module": "@jupyter-widgets/controls",
            "_model_module_version": "1.5.0",
            "_model_name": "HTMLModel",
            "_view_count": null,
            "_view_module": "@jupyter-widgets/controls",
            "_view_module_version": "1.5.0",
            "_view_name": "HTMLView",
            "description": "",
            "description_tooltip": null,
            "layout": "IPY_MODEL_595987197098417b8947e18503a01881",
            "placeholder": "​",
            "style": "IPY_MODEL_8732ed88c09748f9b2b508467519a2cb",
            "value": "Generating train split: 100%"
          }
        },
        "6a50f79c04bd47cc920ebd7a9db0550f": {
          "model_module": "@jupyter-widgets/controls",
          "model_name": "FloatProgressModel",
          "model_module_version": "1.5.0",
          "state": {
            "_dom_classes": [],
            "_model_module": "@jupyter-widgets/controls",
            "_model_module_version": "1.5.0",
            "_model_name": "FloatProgressModel",
            "_view_count": null,
            "_view_module": "@jupyter-widgets/controls",
            "_view_module_version": "1.5.0",
            "_view_name": "ProgressView",
            "bar_style": "success",
            "description": "",
            "description_tooltip": null,
            "layout": "IPY_MODEL_cbad99c87f7c4070b94203b194f2222d",
            "max": 20236,
            "min": 0,
            "orientation": "horizontal",
            "style": "IPY_MODEL_0146f9637bc948b4ad0cb15f02495f0a",
            "value": 20236
          }
        },
        "7b1f2787c3784e119233bb58234ef609": {
          "model_module": "@jupyter-widgets/controls",
          "model_name": "HTMLModel",
          "model_module_version": "1.5.0",
          "state": {
            "_dom_classes": [],
            "_model_module": "@jupyter-widgets/controls",
            "_model_module_version": "1.5.0",
            "_model_name": "HTMLModel",
            "_view_count": null,
            "_view_module": "@jupyter-widgets/controls",
            "_view_module_version": "1.5.0",
            "_view_name": "HTMLView",
            "description": "",
            "description_tooltip": null,
            "layout": "IPY_MODEL_02ee8d322727478a89cc6ef53db499d3",
            "placeholder": "​",
            "style": "IPY_MODEL_3b9b6ec16bd2412ca879c4af7ace1594",
            "value": " 20236/20236 [00:00&lt;00:00, 25370.87 examples/s]"
          }
        },
        "3d322e33a0a94abb8f8706e1b567ec61": {
          "model_module": "@jupyter-widgets/base",
          "model_name": "LayoutModel",
          "model_module_version": "1.2.0",
          "state": {
            "_model_module": "@jupyter-widgets/base",
            "_model_module_version": "1.2.0",
            "_model_name": "LayoutModel",
            "_view_count": null,
            "_view_module": "@jupyter-widgets/base",
            "_view_module_version": "1.2.0",
            "_view_name": "LayoutView",
            "align_content": null,
            "align_items": null,
            "align_self": null,
            "border": null,
            "bottom": null,
            "display": null,
            "flex": null,
            "flex_flow": null,
            "grid_area": null,
            "grid_auto_columns": null,
            "grid_auto_flow": null,
            "grid_auto_rows": null,
            "grid_column": null,
            "grid_gap": null,
            "grid_row": null,
            "grid_template_areas": null,
            "grid_template_columns": null,
            "grid_template_rows": null,
            "height": null,
            "justify_content": null,
            "justify_items": null,
            "left": null,
            "margin": null,
            "max_height": null,
            "max_width": null,
            "min_height": null,
            "min_width": null,
            "object_fit": null,
            "object_position": null,
            "order": null,
            "overflow": null,
            "overflow_x": null,
            "overflow_y": null,
            "padding": null,
            "right": null,
            "top": null,
            "visibility": null,
            "width": null
          }
        },
        "595987197098417b8947e18503a01881": {
          "model_module": "@jupyter-widgets/base",
          "model_name": "LayoutModel",
          "model_module_version": "1.2.0",
          "state": {
            "_model_module": "@jupyter-widgets/base",
            "_model_module_version": "1.2.0",
            "_model_name": "LayoutModel",
            "_view_count": null,
            "_view_module": "@jupyter-widgets/base",
            "_view_module_version": "1.2.0",
            "_view_name": "LayoutView",
            "align_content": null,
            "align_items": null,
            "align_self": null,
            "border": null,
            "bottom": null,
            "display": null,
            "flex": null,
            "flex_flow": null,
            "grid_area": null,
            "grid_auto_columns": null,
            "grid_auto_flow": null,
            "grid_auto_rows": null,
            "grid_column": null,
            "grid_gap": null,
            "grid_row": null,
            "grid_template_areas": null,
            "grid_template_columns": null,
            "grid_template_rows": null,
            "height": null,
            "justify_content": null,
            "justify_items": null,
            "left": null,
            "margin": null,
            "max_height": null,
            "max_width": null,
            "min_height": null,
            "min_width": null,
            "object_fit": null,
            "object_position": null,
            "order": null,
            "overflow": null,
            "overflow_x": null,
            "overflow_y": null,
            "padding": null,
            "right": null,
            "top": null,
            "visibility": null,
            "width": null
          }
        },
        "8732ed88c09748f9b2b508467519a2cb": {
          "model_module": "@jupyter-widgets/controls",
          "model_name": "DescriptionStyleModel",
          "model_module_version": "1.5.0",
          "state": {
            "_model_module": "@jupyter-widgets/controls",
            "_model_module_version": "1.5.0",
            "_model_name": "DescriptionStyleModel",
            "_view_count": null,
            "_view_module": "@jupyter-widgets/base",
            "_view_module_version": "1.2.0",
            "_view_name": "StyleView",
            "description_width": ""
          }
        },
        "cbad99c87f7c4070b94203b194f2222d": {
          "model_module": "@jupyter-widgets/base",
          "model_name": "LayoutModel",
          "model_module_version": "1.2.0",
          "state": {
            "_model_module": "@jupyter-widgets/base",
            "_model_module_version": "1.2.0",
            "_model_name": "LayoutModel",
            "_view_count": null,
            "_view_module": "@jupyter-widgets/base",
            "_view_module_version": "1.2.0",
            "_view_name": "LayoutView",
            "align_content": null,
            "align_items": null,
            "align_self": null,
            "border": null,
            "bottom": null,
            "display": null,
            "flex": null,
            "flex_flow": null,
            "grid_area": null,
            "grid_auto_columns": null,
            "grid_auto_flow": null,
            "grid_auto_rows": null,
            "grid_column": null,
            "grid_gap": null,
            "grid_row": null,
            "grid_template_areas": null,
            "grid_template_columns": null,
            "grid_template_rows": null,
            "height": null,
            "justify_content": null,
            "justify_items": null,
            "left": null,
            "margin": null,
            "max_height": null,
            "max_width": null,
            "min_height": null,
            "min_width": null,
            "object_fit": null,
            "object_position": null,
            "order": null,
            "overflow": null,
            "overflow_x": null,
            "overflow_y": null,
            "padding": null,
            "right": null,
            "top": null,
            "visibility": null,
            "width": null
          }
        },
        "0146f9637bc948b4ad0cb15f02495f0a": {
          "model_module": "@jupyter-widgets/controls",
          "model_name": "ProgressStyleModel",
          "model_module_version": "1.5.0",
          "state": {
            "_model_module": "@jupyter-widgets/controls",
            "_model_module_version": "1.5.0",
            "_model_name": "ProgressStyleModel",
            "_view_count": null,
            "_view_module": "@jupyter-widgets/base",
            "_view_module_version": "1.2.0",
            "_view_name": "StyleView",
            "bar_color": null,
            "description_width": ""
          }
        },
        "02ee8d322727478a89cc6ef53db499d3": {
          "model_module": "@jupyter-widgets/base",
          "model_name": "LayoutModel",
          "model_module_version": "1.2.0",
          "state": {
            "_model_module": "@jupyter-widgets/base",
            "_model_module_version": "1.2.0",
            "_model_name": "LayoutModel",
            "_view_count": null,
            "_view_module": "@jupyter-widgets/base",
            "_view_module_version": "1.2.0",
            "_view_name": "LayoutView",
            "align_content": null,
            "align_items": null,
            "align_self": null,
            "border": null,
            "bottom": null,
            "display": null,
            "flex": null,
            "flex_flow": null,
            "grid_area": null,
            "grid_auto_columns": null,
            "grid_auto_flow": null,
            "grid_auto_rows": null,
            "grid_column": null,
            "grid_gap": null,
            "grid_row": null,
            "grid_template_areas": null,
            "grid_template_columns": null,
            "grid_template_rows": null,
            "height": null,
            "justify_content": null,
            "justify_items": null,
            "left": null,
            "margin": null,
            "max_height": null,
            "max_width": null,
            "min_height": null,
            "min_width": null,
            "object_fit": null,
            "object_position": null,
            "order": null,
            "overflow": null,
            "overflow_x": null,
            "overflow_y": null,
            "padding": null,
            "right": null,
            "top": null,
            "visibility": null,
            "width": null
          }
        },
        "3b9b6ec16bd2412ca879c4af7ace1594": {
          "model_module": "@jupyter-widgets/controls",
          "model_name": "DescriptionStyleModel",
          "model_module_version": "1.5.0",
          "state": {
            "_model_module": "@jupyter-widgets/controls",
            "_model_module_version": "1.5.0",
            "_model_name": "DescriptionStyleModel",
            "_view_count": null,
            "_view_module": "@jupyter-widgets/base",
            "_view_module_version": "1.2.0",
            "_view_name": "StyleView",
            "description_width": ""
          }
        },
        "7f71b713a699415495a01595ea3237fa": {
          "model_module": "@jupyter-widgets/controls",
          "model_name": "HBoxModel",
          "model_module_version": "1.5.0",
          "state": {
            "_dom_classes": [],
            "_model_module": "@jupyter-widgets/controls",
            "_model_module_version": "1.5.0",
            "_model_name": "HBoxModel",
            "_view_count": null,
            "_view_module": "@jupyter-widgets/controls",
            "_view_module_version": "1.5.0",
            "_view_name": "HBoxView",
            "box_style": "",
            "children": [
              "IPY_MODEL_62cabfa0f2404ee894c50b752744aba9",
              "IPY_MODEL_3e7ed7c360e44852972147c1a8c872ea",
              "IPY_MODEL_6187166545654dffabd4c5544b7f40a8"
            ],
            "layout": "IPY_MODEL_77d1618942c6459e8ee957206ffd2aa5"
          }
        },
        "62cabfa0f2404ee894c50b752744aba9": {
          "model_module": "@jupyter-widgets/controls",
          "model_name": "HTMLModel",
          "model_module_version": "1.5.0",
          "state": {
            "_dom_classes": [],
            "_model_module": "@jupyter-widgets/controls",
            "_model_module_version": "1.5.0",
            "_model_name": "HTMLModel",
            "_view_count": null,
            "_view_module": "@jupyter-widgets/controls",
            "_view_module_version": "1.5.0",
            "_view_name": "HTMLView",
            "description": "",
            "description_tooltip": null,
            "layout": "IPY_MODEL_aeec27a35fee46678422aba7fd88fbd1",
            "placeholder": "​",
            "style": "IPY_MODEL_da031854153b4cd99ad31a81b87cc3d7",
            "value": "modules.json: 100%"
          }
        },
        "3e7ed7c360e44852972147c1a8c872ea": {
          "model_module": "@jupyter-widgets/controls",
          "model_name": "FloatProgressModel",
          "model_module_version": "1.5.0",
          "state": {
            "_dom_classes": [],
            "_model_module": "@jupyter-widgets/controls",
            "_model_module_version": "1.5.0",
            "_model_name": "FloatProgressModel",
            "_view_count": null,
            "_view_module": "@jupyter-widgets/controls",
            "_view_module_version": "1.5.0",
            "_view_name": "ProgressView",
            "bar_style": "success",
            "description": "",
            "description_tooltip": null,
            "layout": "IPY_MODEL_e17759907d8d45718ddf4aa1b0b7f986",
            "max": 387,
            "min": 0,
            "orientation": "horizontal",
            "style": "IPY_MODEL_30df2d4edcd44efab5cd491d3bd62df3",
            "value": 387
          }
        },
        "6187166545654dffabd4c5544b7f40a8": {
          "model_module": "@jupyter-widgets/controls",
          "model_name": "HTMLModel",
          "model_module_version": "1.5.0",
          "state": {
            "_dom_classes": [],
            "_model_module": "@jupyter-widgets/controls",
            "_model_module_version": "1.5.0",
            "_model_name": "HTMLModel",
            "_view_count": null,
            "_view_module": "@jupyter-widgets/controls",
            "_view_module_version": "1.5.0",
            "_view_name": "HTMLView",
            "description": "",
            "description_tooltip": null,
            "layout": "IPY_MODEL_880dd190ed5e42c68bfacab0579bf729",
            "placeholder": "​",
            "style": "IPY_MODEL_6958d778ee8548308fa8f9d929393572",
            "value": " 387/387 [00:00&lt;00:00, 16.9kB/s]"
          }
        },
        "77d1618942c6459e8ee957206ffd2aa5": {
          "model_module": "@jupyter-widgets/base",
          "model_name": "LayoutModel",
          "model_module_version": "1.2.0",
          "state": {
            "_model_module": "@jupyter-widgets/base",
            "_model_module_version": "1.2.0",
            "_model_name": "LayoutModel",
            "_view_count": null,
            "_view_module": "@jupyter-widgets/base",
            "_view_module_version": "1.2.0",
            "_view_name": "LayoutView",
            "align_content": null,
            "align_items": null,
            "align_self": null,
            "border": null,
            "bottom": null,
            "display": null,
            "flex": null,
            "flex_flow": null,
            "grid_area": null,
            "grid_auto_columns": null,
            "grid_auto_flow": null,
            "grid_auto_rows": null,
            "grid_column": null,
            "grid_gap": null,
            "grid_row": null,
            "grid_template_areas": null,
            "grid_template_columns": null,
            "grid_template_rows": null,
            "height": null,
            "justify_content": null,
            "justify_items": null,
            "left": null,
            "margin": null,
            "max_height": null,
            "max_width": null,
            "min_height": null,
            "min_width": null,
            "object_fit": null,
            "object_position": null,
            "order": null,
            "overflow": null,
            "overflow_x": null,
            "overflow_y": null,
            "padding": null,
            "right": null,
            "top": null,
            "visibility": null,
            "width": null
          }
        },
        "aeec27a35fee46678422aba7fd88fbd1": {
          "model_module": "@jupyter-widgets/base",
          "model_name": "LayoutModel",
          "model_module_version": "1.2.0",
          "state": {
            "_model_module": "@jupyter-widgets/base",
            "_model_module_version": "1.2.0",
            "_model_name": "LayoutModel",
            "_view_count": null,
            "_view_module": "@jupyter-widgets/base",
            "_view_module_version": "1.2.0",
            "_view_name": "LayoutView",
            "align_content": null,
            "align_items": null,
            "align_self": null,
            "border": null,
            "bottom": null,
            "display": null,
            "flex": null,
            "flex_flow": null,
            "grid_area": null,
            "grid_auto_columns": null,
            "grid_auto_flow": null,
            "grid_auto_rows": null,
            "grid_column": null,
            "grid_gap": null,
            "grid_row": null,
            "grid_template_areas": null,
            "grid_template_columns": null,
            "grid_template_rows": null,
            "height": null,
            "justify_content": null,
            "justify_items": null,
            "left": null,
            "margin": null,
            "max_height": null,
            "max_width": null,
            "min_height": null,
            "min_width": null,
            "object_fit": null,
            "object_position": null,
            "order": null,
            "overflow": null,
            "overflow_x": null,
            "overflow_y": null,
            "padding": null,
            "right": null,
            "top": null,
            "visibility": null,
            "width": null
          }
        },
        "da031854153b4cd99ad31a81b87cc3d7": {
          "model_module": "@jupyter-widgets/controls",
          "model_name": "DescriptionStyleModel",
          "model_module_version": "1.5.0",
          "state": {
            "_model_module": "@jupyter-widgets/controls",
            "_model_module_version": "1.5.0",
            "_model_name": "DescriptionStyleModel",
            "_view_count": null,
            "_view_module": "@jupyter-widgets/base",
            "_view_module_version": "1.2.0",
            "_view_name": "StyleView",
            "description_width": ""
          }
        },
        "e17759907d8d45718ddf4aa1b0b7f986": {
          "model_module": "@jupyter-widgets/base",
          "model_name": "LayoutModel",
          "model_module_version": "1.2.0",
          "state": {
            "_model_module": "@jupyter-widgets/base",
            "_model_module_version": "1.2.0",
            "_model_name": "LayoutModel",
            "_view_count": null,
            "_view_module": "@jupyter-widgets/base",
            "_view_module_version": "1.2.0",
            "_view_name": "LayoutView",
            "align_content": null,
            "align_items": null,
            "align_self": null,
            "border": null,
            "bottom": null,
            "display": null,
            "flex": null,
            "flex_flow": null,
            "grid_area": null,
            "grid_auto_columns": null,
            "grid_auto_flow": null,
            "grid_auto_rows": null,
            "grid_column": null,
            "grid_gap": null,
            "grid_row": null,
            "grid_template_areas": null,
            "grid_template_columns": null,
            "grid_template_rows": null,
            "height": null,
            "justify_content": null,
            "justify_items": null,
            "left": null,
            "margin": null,
            "max_height": null,
            "max_width": null,
            "min_height": null,
            "min_width": null,
            "object_fit": null,
            "object_position": null,
            "order": null,
            "overflow": null,
            "overflow_x": null,
            "overflow_y": null,
            "padding": null,
            "right": null,
            "top": null,
            "visibility": null,
            "width": null
          }
        },
        "30df2d4edcd44efab5cd491d3bd62df3": {
          "model_module": "@jupyter-widgets/controls",
          "model_name": "ProgressStyleModel",
          "model_module_version": "1.5.0",
          "state": {
            "_model_module": "@jupyter-widgets/controls",
            "_model_module_version": "1.5.0",
            "_model_name": "ProgressStyleModel",
            "_view_count": null,
            "_view_module": "@jupyter-widgets/base",
            "_view_module_version": "1.2.0",
            "_view_name": "StyleView",
            "bar_color": null,
            "description_width": ""
          }
        },
        "880dd190ed5e42c68bfacab0579bf729": {
          "model_module": "@jupyter-widgets/base",
          "model_name": "LayoutModel",
          "model_module_version": "1.2.0",
          "state": {
            "_model_module": "@jupyter-widgets/base",
            "_model_module_version": "1.2.0",
            "_model_name": "LayoutModel",
            "_view_count": null,
            "_view_module": "@jupyter-widgets/base",
            "_view_module_version": "1.2.0",
            "_view_name": "LayoutView",
            "align_content": null,
            "align_items": null,
            "align_self": null,
            "border": null,
            "bottom": null,
            "display": null,
            "flex": null,
            "flex_flow": null,
            "grid_area": null,
            "grid_auto_columns": null,
            "grid_auto_flow": null,
            "grid_auto_rows": null,
            "grid_column": null,
            "grid_gap": null,
            "grid_row": null,
            "grid_template_areas": null,
            "grid_template_columns": null,
            "grid_template_rows": null,
            "height": null,
            "justify_content": null,
            "justify_items": null,
            "left": null,
            "margin": null,
            "max_height": null,
            "max_width": null,
            "min_height": null,
            "min_width": null,
            "object_fit": null,
            "object_position": null,
            "order": null,
            "overflow": null,
            "overflow_x": null,
            "overflow_y": null,
            "padding": null,
            "right": null,
            "top": null,
            "visibility": null,
            "width": null
          }
        },
        "6958d778ee8548308fa8f9d929393572": {
          "model_module": "@jupyter-widgets/controls",
          "model_name": "DescriptionStyleModel",
          "model_module_version": "1.5.0",
          "state": {
            "_model_module": "@jupyter-widgets/controls",
            "_model_module_version": "1.5.0",
            "_model_name": "DescriptionStyleModel",
            "_view_count": null,
            "_view_module": "@jupyter-widgets/base",
            "_view_module_version": "1.2.0",
            "_view_name": "StyleView",
            "description_width": ""
          }
        },
        "89543138c1e8409c861012d51a005d16": {
          "model_module": "@jupyter-widgets/controls",
          "model_name": "HBoxModel",
          "model_module_version": "1.5.0",
          "state": {
            "_dom_classes": [],
            "_model_module": "@jupyter-widgets/controls",
            "_model_module_version": "1.5.0",
            "_model_name": "HBoxModel",
            "_view_count": null,
            "_view_module": "@jupyter-widgets/controls",
            "_view_module_version": "1.5.0",
            "_view_name": "HBoxView",
            "box_style": "",
            "children": [
              "IPY_MODEL_5837b2f49baf48cb90679593916b5e93",
              "IPY_MODEL_29c095c8159f4e1aa47d9118af7d1d81",
              "IPY_MODEL_21fe27ab355f440ca1ec06ae778a2bca"
            ],
            "layout": "IPY_MODEL_92fa2c748c894c318a4e56ade669034f"
          }
        },
        "5837b2f49baf48cb90679593916b5e93": {
          "model_module": "@jupyter-widgets/controls",
          "model_name": "HTMLModel",
          "model_module_version": "1.5.0",
          "state": {
            "_dom_classes": [],
            "_model_module": "@jupyter-widgets/controls",
            "_model_module_version": "1.5.0",
            "_model_name": "HTMLModel",
            "_view_count": null,
            "_view_module": "@jupyter-widgets/controls",
            "_view_module_version": "1.5.0",
            "_view_name": "HTMLView",
            "description": "",
            "description_tooltip": null,
            "layout": "IPY_MODEL_0a904603adf74f0a901743ae68ca8477",
            "placeholder": "​",
            "style": "IPY_MODEL_430ae1f7cc094dac8b440ee2de6c059a",
            "value": "README.md: 100%"
          }
        },
        "29c095c8159f4e1aa47d9118af7d1d81": {
          "model_module": "@jupyter-widgets/controls",
          "model_name": "FloatProgressModel",
          "model_module_version": "1.5.0",
          "state": {
            "_dom_classes": [],
            "_model_module": "@jupyter-widgets/controls",
            "_model_module_version": "1.5.0",
            "_model_name": "FloatProgressModel",
            "_view_count": null,
            "_view_module": "@jupyter-widgets/controls",
            "_view_module_version": "1.5.0",
            "_view_name": "ProgressView",
            "bar_style": "success",
            "description": "",
            "description_tooltip": null,
            "layout": "IPY_MODEL_d4db7156498a44b5892c6bfce6049dbf",
            "max": 497538,
            "min": 0,
            "orientation": "horizontal",
            "style": "IPY_MODEL_7ed01508711f4a5a9a12900450651358",
            "value": 497538
          }
        },
        "21fe27ab355f440ca1ec06ae778a2bca": {
          "model_module": "@jupyter-widgets/controls",
          "model_name": "HTMLModel",
          "model_module_version": "1.5.0",
          "state": {
            "_dom_classes": [],
            "_model_module": "@jupyter-widgets/controls",
            "_model_module_version": "1.5.0",
            "_model_name": "HTMLModel",
            "_view_count": null,
            "_view_module": "@jupyter-widgets/controls",
            "_view_module_version": "1.5.0",
            "_view_name": "HTMLView",
            "description": "",
            "description_tooltip": null,
            "layout": "IPY_MODEL_2a95be1eede445e3945d76e39e6a445c",
            "placeholder": "​",
            "style": "IPY_MODEL_389862bc7c884af783dcdcb54a7c6b67",
            "value": " 498k/498k [00:00&lt;00:00, 777kB/s]"
          }
        },
        "92fa2c748c894c318a4e56ade669034f": {
          "model_module": "@jupyter-widgets/base",
          "model_name": "LayoutModel",
          "model_module_version": "1.2.0",
          "state": {
            "_model_module": "@jupyter-widgets/base",
            "_model_module_version": "1.2.0",
            "_model_name": "LayoutModel",
            "_view_count": null,
            "_view_module": "@jupyter-widgets/base",
            "_view_module_version": "1.2.0",
            "_view_name": "LayoutView",
            "align_content": null,
            "align_items": null,
            "align_self": null,
            "border": null,
            "bottom": null,
            "display": null,
            "flex": null,
            "flex_flow": null,
            "grid_area": null,
            "grid_auto_columns": null,
            "grid_auto_flow": null,
            "grid_auto_rows": null,
            "grid_column": null,
            "grid_gap": null,
            "grid_row": null,
            "grid_template_areas": null,
            "grid_template_columns": null,
            "grid_template_rows": null,
            "height": null,
            "justify_content": null,
            "justify_items": null,
            "left": null,
            "margin": null,
            "max_height": null,
            "max_width": null,
            "min_height": null,
            "min_width": null,
            "object_fit": null,
            "object_position": null,
            "order": null,
            "overflow": null,
            "overflow_x": null,
            "overflow_y": null,
            "padding": null,
            "right": null,
            "top": null,
            "visibility": null,
            "width": null
          }
        },
        "0a904603adf74f0a901743ae68ca8477": {
          "model_module": "@jupyter-widgets/base",
          "model_name": "LayoutModel",
          "model_module_version": "1.2.0",
          "state": {
            "_model_module": "@jupyter-widgets/base",
            "_model_module_version": "1.2.0",
            "_model_name": "LayoutModel",
            "_view_count": null,
            "_view_module": "@jupyter-widgets/base",
            "_view_module_version": "1.2.0",
            "_view_name": "LayoutView",
            "align_content": null,
            "align_items": null,
            "align_self": null,
            "border": null,
            "bottom": null,
            "display": null,
            "flex": null,
            "flex_flow": null,
            "grid_area": null,
            "grid_auto_columns": null,
            "grid_auto_flow": null,
            "grid_auto_rows": null,
            "grid_column": null,
            "grid_gap": null,
            "grid_row": null,
            "grid_template_areas": null,
            "grid_template_columns": null,
            "grid_template_rows": null,
            "height": null,
            "justify_content": null,
            "justify_items": null,
            "left": null,
            "margin": null,
            "max_height": null,
            "max_width": null,
            "min_height": null,
            "min_width": null,
            "object_fit": null,
            "object_position": null,
            "order": null,
            "overflow": null,
            "overflow_x": null,
            "overflow_y": null,
            "padding": null,
            "right": null,
            "top": null,
            "visibility": null,
            "width": null
          }
        },
        "430ae1f7cc094dac8b440ee2de6c059a": {
          "model_module": "@jupyter-widgets/controls",
          "model_name": "DescriptionStyleModel",
          "model_module_version": "1.5.0",
          "state": {
            "_model_module": "@jupyter-widgets/controls",
            "_model_module_version": "1.5.0",
            "_model_name": "DescriptionStyleModel",
            "_view_count": null,
            "_view_module": "@jupyter-widgets/base",
            "_view_module_version": "1.2.0",
            "_view_name": "StyleView",
            "description_width": ""
          }
        },
        "d4db7156498a44b5892c6bfce6049dbf": {
          "model_module": "@jupyter-widgets/base",
          "model_name": "LayoutModel",
          "model_module_version": "1.2.0",
          "state": {
            "_model_module": "@jupyter-widgets/base",
            "_model_module_version": "1.2.0",
            "_model_name": "LayoutModel",
            "_view_count": null,
            "_view_module": "@jupyter-widgets/base",
            "_view_module_version": "1.2.0",
            "_view_name": "LayoutView",
            "align_content": null,
            "align_items": null,
            "align_self": null,
            "border": null,
            "bottom": null,
            "display": null,
            "flex": null,
            "flex_flow": null,
            "grid_area": null,
            "grid_auto_columns": null,
            "grid_auto_flow": null,
            "grid_auto_rows": null,
            "grid_column": null,
            "grid_gap": null,
            "grid_row": null,
            "grid_template_areas": null,
            "grid_template_columns": null,
            "grid_template_rows": null,
            "height": null,
            "justify_content": null,
            "justify_items": null,
            "left": null,
            "margin": null,
            "max_height": null,
            "max_width": null,
            "min_height": null,
            "min_width": null,
            "object_fit": null,
            "object_position": null,
            "order": null,
            "overflow": null,
            "overflow_x": null,
            "overflow_y": null,
            "padding": null,
            "right": null,
            "top": null,
            "visibility": null,
            "width": null
          }
        },
        "7ed01508711f4a5a9a12900450651358": {
          "model_module": "@jupyter-widgets/controls",
          "model_name": "ProgressStyleModel",
          "model_module_version": "1.5.0",
          "state": {
            "_model_module": "@jupyter-widgets/controls",
            "_model_module_version": "1.5.0",
            "_model_name": "ProgressStyleModel",
            "_view_count": null,
            "_view_module": "@jupyter-widgets/base",
            "_view_module_version": "1.2.0",
            "_view_name": "StyleView",
            "bar_color": null,
            "description_width": ""
          }
        },
        "2a95be1eede445e3945d76e39e6a445c": {
          "model_module": "@jupyter-widgets/base",
          "model_name": "LayoutModel",
          "model_module_version": "1.2.0",
          "state": {
            "_model_module": "@jupyter-widgets/base",
            "_model_module_version": "1.2.0",
            "_model_name": "LayoutModel",
            "_view_count": null,
            "_view_module": "@jupyter-widgets/base",
            "_view_module_version": "1.2.0",
            "_view_name": "LayoutView",
            "align_content": null,
            "align_items": null,
            "align_self": null,
            "border": null,
            "bottom": null,
            "display": null,
            "flex": null,
            "flex_flow": null,
            "grid_area": null,
            "grid_auto_columns": null,
            "grid_auto_flow": null,
            "grid_auto_rows": null,
            "grid_column": null,
            "grid_gap": null,
            "grid_row": null,
            "grid_template_areas": null,
            "grid_template_columns": null,
            "grid_template_rows": null,
            "height": null,
            "justify_content": null,
            "justify_items": null,
            "left": null,
            "margin": null,
            "max_height": null,
            "max_width": null,
            "min_height": null,
            "min_width": null,
            "object_fit": null,
            "object_position": null,
            "order": null,
            "overflow": null,
            "overflow_x": null,
            "overflow_y": null,
            "padding": null,
            "right": null,
            "top": null,
            "visibility": null,
            "width": null
          }
        },
        "389862bc7c884af783dcdcb54a7c6b67": {
          "model_module": "@jupyter-widgets/controls",
          "model_name": "DescriptionStyleModel",
          "model_module_version": "1.5.0",
          "state": {
            "_model_module": "@jupyter-widgets/controls",
            "_model_module_version": "1.5.0",
            "_model_name": "DescriptionStyleModel",
            "_view_count": null,
            "_view_module": "@jupyter-widgets/base",
            "_view_module_version": "1.2.0",
            "_view_name": "StyleView",
            "description_width": ""
          }
        },
        "5fd2975ca11747efa5c3912203acdde2": {
          "model_module": "@jupyter-widgets/controls",
          "model_name": "HBoxModel",
          "model_module_version": "1.5.0",
          "state": {
            "_dom_classes": [],
            "_model_module": "@jupyter-widgets/controls",
            "_model_module_version": "1.5.0",
            "_model_name": "HBoxModel",
            "_view_count": null,
            "_view_module": "@jupyter-widgets/controls",
            "_view_module_version": "1.5.0",
            "_view_name": "HBoxView",
            "box_style": "",
            "children": [
              "IPY_MODEL_67fb1df4574c419f8e38aed305ad4d9d",
              "IPY_MODEL_e0ffc5aa184b439f9a1c4dc598fd8c6d",
              "IPY_MODEL_7fae2c18eef845c99d151c987fd57ffe"
            ],
            "layout": "IPY_MODEL_678b81b5e519467798ce0059a9884c7e"
          }
        },
        "67fb1df4574c419f8e38aed305ad4d9d": {
          "model_module": "@jupyter-widgets/controls",
          "model_name": "HTMLModel",
          "model_module_version": "1.5.0",
          "state": {
            "_dom_classes": [],
            "_model_module": "@jupyter-widgets/controls",
            "_model_module_version": "1.5.0",
            "_model_name": "HTMLModel",
            "_view_count": null,
            "_view_module": "@jupyter-widgets/controls",
            "_view_module_version": "1.5.0",
            "_view_name": "HTMLView",
            "description": "",
            "description_tooltip": null,
            "layout": "IPY_MODEL_583153e443b140ce8c664cef9b6dc252",
            "placeholder": "​",
            "style": "IPY_MODEL_f9f2455fdff84228ae58e43349e29437",
            "value": "sentence_bert_config.json: 100%"
          }
        },
        "e0ffc5aa184b439f9a1c4dc598fd8c6d": {
          "model_module": "@jupyter-widgets/controls",
          "model_name": "FloatProgressModel",
          "model_module_version": "1.5.0",
          "state": {
            "_dom_classes": [],
            "_model_module": "@jupyter-widgets/controls",
            "_model_module_version": "1.5.0",
            "_model_name": "FloatProgressModel",
            "_view_count": null,
            "_view_module": "@jupyter-widgets/controls",
            "_view_module_version": "1.5.0",
            "_view_name": "ProgressView",
            "bar_style": "success",
            "description": "",
            "description_tooltip": null,
            "layout": "IPY_MODEL_b973e48532b14078a8a85248819c237e",
            "max": 57,
            "min": 0,
            "orientation": "horizontal",
            "style": "IPY_MODEL_043e91e067cc4b72a26482c2b2ba6202",
            "value": 57
          }
        },
        "7fae2c18eef845c99d151c987fd57ffe": {
          "model_module": "@jupyter-widgets/controls",
          "model_name": "HTMLModel",
          "model_module_version": "1.5.0",
          "state": {
            "_dom_classes": [],
            "_model_module": "@jupyter-widgets/controls",
            "_model_module_version": "1.5.0",
            "_model_name": "HTMLModel",
            "_view_count": null,
            "_view_module": "@jupyter-widgets/controls",
            "_view_module_version": "1.5.0",
            "_view_name": "HTMLView",
            "description": "",
            "description_tooltip": null,
            "layout": "IPY_MODEL_de36f34f37c4404e90672ceb9a1c8ecb",
            "placeholder": "​",
            "style": "IPY_MODEL_8ba1c701522a4726993eccb5867ff149",
            "value": " 57.0/57.0 [00:00&lt;00:00, 3.94kB/s]"
          }
        },
        "678b81b5e519467798ce0059a9884c7e": {
          "model_module": "@jupyter-widgets/base",
          "model_name": "LayoutModel",
          "model_module_version": "1.2.0",
          "state": {
            "_model_module": "@jupyter-widgets/base",
            "_model_module_version": "1.2.0",
            "_model_name": "LayoutModel",
            "_view_count": null,
            "_view_module": "@jupyter-widgets/base",
            "_view_module_version": "1.2.0",
            "_view_name": "LayoutView",
            "align_content": null,
            "align_items": null,
            "align_self": null,
            "border": null,
            "bottom": null,
            "display": null,
            "flex": null,
            "flex_flow": null,
            "grid_area": null,
            "grid_auto_columns": null,
            "grid_auto_flow": null,
            "grid_auto_rows": null,
            "grid_column": null,
            "grid_gap": null,
            "grid_row": null,
            "grid_template_areas": null,
            "grid_template_columns": null,
            "grid_template_rows": null,
            "height": null,
            "justify_content": null,
            "justify_items": null,
            "left": null,
            "margin": null,
            "max_height": null,
            "max_width": null,
            "min_height": null,
            "min_width": null,
            "object_fit": null,
            "object_position": null,
            "order": null,
            "overflow": null,
            "overflow_x": null,
            "overflow_y": null,
            "padding": null,
            "right": null,
            "top": null,
            "visibility": null,
            "width": null
          }
        },
        "583153e443b140ce8c664cef9b6dc252": {
          "model_module": "@jupyter-widgets/base",
          "model_name": "LayoutModel",
          "model_module_version": "1.2.0",
          "state": {
            "_model_module": "@jupyter-widgets/base",
            "_model_module_version": "1.2.0",
            "_model_name": "LayoutModel",
            "_view_count": null,
            "_view_module": "@jupyter-widgets/base",
            "_view_module_version": "1.2.0",
            "_view_name": "LayoutView",
            "align_content": null,
            "align_items": null,
            "align_self": null,
            "border": null,
            "bottom": null,
            "display": null,
            "flex": null,
            "flex_flow": null,
            "grid_area": null,
            "grid_auto_columns": null,
            "grid_auto_flow": null,
            "grid_auto_rows": null,
            "grid_column": null,
            "grid_gap": null,
            "grid_row": null,
            "grid_template_areas": null,
            "grid_template_columns": null,
            "grid_template_rows": null,
            "height": null,
            "justify_content": null,
            "justify_items": null,
            "left": null,
            "margin": null,
            "max_height": null,
            "max_width": null,
            "min_height": null,
            "min_width": null,
            "object_fit": null,
            "object_position": null,
            "order": null,
            "overflow": null,
            "overflow_x": null,
            "overflow_y": null,
            "padding": null,
            "right": null,
            "top": null,
            "visibility": null,
            "width": null
          }
        },
        "f9f2455fdff84228ae58e43349e29437": {
          "model_module": "@jupyter-widgets/controls",
          "model_name": "DescriptionStyleModel",
          "model_module_version": "1.5.0",
          "state": {
            "_model_module": "@jupyter-widgets/controls",
            "_model_module_version": "1.5.0",
            "_model_name": "DescriptionStyleModel",
            "_view_count": null,
            "_view_module": "@jupyter-widgets/base",
            "_view_module_version": "1.2.0",
            "_view_name": "StyleView",
            "description_width": ""
          }
        },
        "b973e48532b14078a8a85248819c237e": {
          "model_module": "@jupyter-widgets/base",
          "model_name": "LayoutModel",
          "model_module_version": "1.2.0",
          "state": {
            "_model_module": "@jupyter-widgets/base",
            "_model_module_version": "1.2.0",
            "_model_name": "LayoutModel",
            "_view_count": null,
            "_view_module": "@jupyter-widgets/base",
            "_view_module_version": "1.2.0",
            "_view_name": "LayoutView",
            "align_content": null,
            "align_items": null,
            "align_self": null,
            "border": null,
            "bottom": null,
            "display": null,
            "flex": null,
            "flex_flow": null,
            "grid_area": null,
            "grid_auto_columns": null,
            "grid_auto_flow": null,
            "grid_auto_rows": null,
            "grid_column": null,
            "grid_gap": null,
            "grid_row": null,
            "grid_template_areas": null,
            "grid_template_columns": null,
            "grid_template_rows": null,
            "height": null,
            "justify_content": null,
            "justify_items": null,
            "left": null,
            "margin": null,
            "max_height": null,
            "max_width": null,
            "min_height": null,
            "min_width": null,
            "object_fit": null,
            "object_position": null,
            "order": null,
            "overflow": null,
            "overflow_x": null,
            "overflow_y": null,
            "padding": null,
            "right": null,
            "top": null,
            "visibility": null,
            "width": null
          }
        },
        "043e91e067cc4b72a26482c2b2ba6202": {
          "model_module": "@jupyter-widgets/controls",
          "model_name": "ProgressStyleModel",
          "model_module_version": "1.5.0",
          "state": {
            "_model_module": "@jupyter-widgets/controls",
            "_model_module_version": "1.5.0",
            "_model_name": "ProgressStyleModel",
            "_view_count": null,
            "_view_module": "@jupyter-widgets/base",
            "_view_module_version": "1.2.0",
            "_view_name": "StyleView",
            "bar_color": null,
            "description_width": ""
          }
        },
        "de36f34f37c4404e90672ceb9a1c8ecb": {
          "model_module": "@jupyter-widgets/base",
          "model_name": "LayoutModel",
          "model_module_version": "1.2.0",
          "state": {
            "_model_module": "@jupyter-widgets/base",
            "_model_module_version": "1.2.0",
            "_model_name": "LayoutModel",
            "_view_count": null,
            "_view_module": "@jupyter-widgets/base",
            "_view_module_version": "1.2.0",
            "_view_name": "LayoutView",
            "align_content": null,
            "align_items": null,
            "align_self": null,
            "border": null,
            "bottom": null,
            "display": null,
            "flex": null,
            "flex_flow": null,
            "grid_area": null,
            "grid_auto_columns": null,
            "grid_auto_flow": null,
            "grid_auto_rows": null,
            "grid_column": null,
            "grid_gap": null,
            "grid_row": null,
            "grid_template_areas": null,
            "grid_template_columns": null,
            "grid_template_rows": null,
            "height": null,
            "justify_content": null,
            "justify_items": null,
            "left": null,
            "margin": null,
            "max_height": null,
            "max_width": null,
            "min_height": null,
            "min_width": null,
            "object_fit": null,
            "object_position": null,
            "order": null,
            "overflow": null,
            "overflow_x": null,
            "overflow_y": null,
            "padding": null,
            "right": null,
            "top": null,
            "visibility": null,
            "width": null
          }
        },
        "8ba1c701522a4726993eccb5867ff149": {
          "model_module": "@jupyter-widgets/controls",
          "model_name": "DescriptionStyleModel",
          "model_module_version": "1.5.0",
          "state": {
            "_model_module": "@jupyter-widgets/controls",
            "_model_module_version": "1.5.0",
            "_model_name": "DescriptionStyleModel",
            "_view_count": null,
            "_view_module": "@jupyter-widgets/base",
            "_view_module_version": "1.2.0",
            "_view_name": "StyleView",
            "description_width": ""
          }
        },
        "0ab941c796044677bb60c520a0482bfb": {
          "model_module": "@jupyter-widgets/controls",
          "model_name": "HBoxModel",
          "model_module_version": "1.5.0",
          "state": {
            "_dom_classes": [],
            "_model_module": "@jupyter-widgets/controls",
            "_model_module_version": "1.5.0",
            "_model_name": "HBoxModel",
            "_view_count": null,
            "_view_module": "@jupyter-widgets/controls",
            "_view_module_version": "1.5.0",
            "_view_name": "HBoxView",
            "box_style": "",
            "children": [
              "IPY_MODEL_53f2ab2089e849debb5754057675d6ec",
              "IPY_MODEL_13924190499a4f57b67c8734ea782937",
              "IPY_MODEL_a21cb01a62064f69b7460df21db74697"
            ],
            "layout": "IPY_MODEL_a5e62714ad034a89b23fba412d888bd9"
          }
        },
        "53f2ab2089e849debb5754057675d6ec": {
          "model_module": "@jupyter-widgets/controls",
          "model_name": "HTMLModel",
          "model_module_version": "1.5.0",
          "state": {
            "_dom_classes": [],
            "_model_module": "@jupyter-widgets/controls",
            "_model_module_version": "1.5.0",
            "_model_name": "HTMLModel",
            "_view_count": null,
            "_view_module": "@jupyter-widgets/controls",
            "_view_module_version": "1.5.0",
            "_view_name": "HTMLView",
            "description": "",
            "description_tooltip": null,
            "layout": "IPY_MODEL_ee18bff57de9410cb99b7cd8c514b78d",
            "placeholder": "​",
            "style": "IPY_MODEL_45120dcaf6914ab4a3864233bd61110f",
            "value": "config.json: 100%"
          }
        },
        "13924190499a4f57b67c8734ea782937": {
          "model_module": "@jupyter-widgets/controls",
          "model_name": "FloatProgressModel",
          "model_module_version": "1.5.0",
          "state": {
            "_dom_classes": [],
            "_model_module": "@jupyter-widgets/controls",
            "_model_module_version": "1.5.0",
            "_model_name": "FloatProgressModel",
            "_view_count": null,
            "_view_module": "@jupyter-widgets/controls",
            "_view_module_version": "1.5.0",
            "_view_name": "ProgressView",
            "bar_style": "success",
            "description": "",
            "description_tooltip": null,
            "layout": "IPY_MODEL_20acc87cee5e4e6ea745507569e71585",
            "max": 655,
            "min": 0,
            "orientation": "horizontal",
            "style": "IPY_MODEL_fbd3a677a83744ffab9d0aa2e474ae29",
            "value": 655
          }
        },
        "a21cb01a62064f69b7460df21db74697": {
          "model_module": "@jupyter-widgets/controls",
          "model_name": "HTMLModel",
          "model_module_version": "1.5.0",
          "state": {
            "_dom_classes": [],
            "_model_module": "@jupyter-widgets/controls",
            "_model_module_version": "1.5.0",
            "_model_name": "HTMLModel",
            "_view_count": null,
            "_view_module": "@jupyter-widgets/controls",
            "_view_module_version": "1.5.0",
            "_view_name": "HTMLView",
            "description": "",
            "description_tooltip": null,
            "layout": "IPY_MODEL_76d38688e0f5478883c3db4c485c9d89",
            "placeholder": "​",
            "style": "IPY_MODEL_61e599174fb44fdaa51a8bd81e5bf3bd",
            "value": " 655/655 [00:00&lt;00:00, 44.3kB/s]"
          }
        },
        "a5e62714ad034a89b23fba412d888bd9": {
          "model_module": "@jupyter-widgets/base",
          "model_name": "LayoutModel",
          "model_module_version": "1.2.0",
          "state": {
            "_model_module": "@jupyter-widgets/base",
            "_model_module_version": "1.2.0",
            "_model_name": "LayoutModel",
            "_view_count": null,
            "_view_module": "@jupyter-widgets/base",
            "_view_module_version": "1.2.0",
            "_view_name": "LayoutView",
            "align_content": null,
            "align_items": null,
            "align_self": null,
            "border": null,
            "bottom": null,
            "display": null,
            "flex": null,
            "flex_flow": null,
            "grid_area": null,
            "grid_auto_columns": null,
            "grid_auto_flow": null,
            "grid_auto_rows": null,
            "grid_column": null,
            "grid_gap": null,
            "grid_row": null,
            "grid_template_areas": null,
            "grid_template_columns": null,
            "grid_template_rows": null,
            "height": null,
            "justify_content": null,
            "justify_items": null,
            "left": null,
            "margin": null,
            "max_height": null,
            "max_width": null,
            "min_height": null,
            "min_width": null,
            "object_fit": null,
            "object_position": null,
            "order": null,
            "overflow": null,
            "overflow_x": null,
            "overflow_y": null,
            "padding": null,
            "right": null,
            "top": null,
            "visibility": null,
            "width": null
          }
        },
        "ee18bff57de9410cb99b7cd8c514b78d": {
          "model_module": "@jupyter-widgets/base",
          "model_name": "LayoutModel",
          "model_module_version": "1.2.0",
          "state": {
            "_model_module": "@jupyter-widgets/base",
            "_model_module_version": "1.2.0",
            "_model_name": "LayoutModel",
            "_view_count": null,
            "_view_module": "@jupyter-widgets/base",
            "_view_module_version": "1.2.0",
            "_view_name": "LayoutView",
            "align_content": null,
            "align_items": null,
            "align_self": null,
            "border": null,
            "bottom": null,
            "display": null,
            "flex": null,
            "flex_flow": null,
            "grid_area": null,
            "grid_auto_columns": null,
            "grid_auto_flow": null,
            "grid_auto_rows": null,
            "grid_column": null,
            "grid_gap": null,
            "grid_row": null,
            "grid_template_areas": null,
            "grid_template_columns": null,
            "grid_template_rows": null,
            "height": null,
            "justify_content": null,
            "justify_items": null,
            "left": null,
            "margin": null,
            "max_height": null,
            "max_width": null,
            "min_height": null,
            "min_width": null,
            "object_fit": null,
            "object_position": null,
            "order": null,
            "overflow": null,
            "overflow_x": null,
            "overflow_y": null,
            "padding": null,
            "right": null,
            "top": null,
            "visibility": null,
            "width": null
          }
        },
        "45120dcaf6914ab4a3864233bd61110f": {
          "model_module": "@jupyter-widgets/controls",
          "model_name": "DescriptionStyleModel",
          "model_module_version": "1.5.0",
          "state": {
            "_model_module": "@jupyter-widgets/controls",
            "_model_module_version": "1.5.0",
            "_model_name": "DescriptionStyleModel",
            "_view_count": null,
            "_view_module": "@jupyter-widgets/base",
            "_view_module_version": "1.2.0",
            "_view_name": "StyleView",
            "description_width": ""
          }
        },
        "20acc87cee5e4e6ea745507569e71585": {
          "model_module": "@jupyter-widgets/base",
          "model_name": "LayoutModel",
          "model_module_version": "1.2.0",
          "state": {
            "_model_module": "@jupyter-widgets/base",
            "_model_module_version": "1.2.0",
            "_model_name": "LayoutModel",
            "_view_count": null,
            "_view_module": "@jupyter-widgets/base",
            "_view_module_version": "1.2.0",
            "_view_name": "LayoutView",
            "align_content": null,
            "align_items": null,
            "align_self": null,
            "border": null,
            "bottom": null,
            "display": null,
            "flex": null,
            "flex_flow": null,
            "grid_area": null,
            "grid_auto_columns": null,
            "grid_auto_flow": null,
            "grid_auto_rows": null,
            "grid_column": null,
            "grid_gap": null,
            "grid_row": null,
            "grid_template_areas": null,
            "grid_template_columns": null,
            "grid_template_rows": null,
            "height": null,
            "justify_content": null,
            "justify_items": null,
            "left": null,
            "margin": null,
            "max_height": null,
            "max_width": null,
            "min_height": null,
            "min_width": null,
            "object_fit": null,
            "object_position": null,
            "order": null,
            "overflow": null,
            "overflow_x": null,
            "overflow_y": null,
            "padding": null,
            "right": null,
            "top": null,
            "visibility": null,
            "width": null
          }
        },
        "fbd3a677a83744ffab9d0aa2e474ae29": {
          "model_module": "@jupyter-widgets/controls",
          "model_name": "ProgressStyleModel",
          "model_module_version": "1.5.0",
          "state": {
            "_model_module": "@jupyter-widgets/controls",
            "_model_module_version": "1.5.0",
            "_model_name": "ProgressStyleModel",
            "_view_count": null,
            "_view_module": "@jupyter-widgets/base",
            "_view_module_version": "1.2.0",
            "_view_name": "StyleView",
            "bar_color": null,
            "description_width": ""
          }
        },
        "76d38688e0f5478883c3db4c485c9d89": {
          "model_module": "@jupyter-widgets/base",
          "model_name": "LayoutModel",
          "model_module_version": "1.2.0",
          "state": {
            "_model_module": "@jupyter-widgets/base",
            "_model_module_version": "1.2.0",
            "_model_name": "LayoutModel",
            "_view_count": null,
            "_view_module": "@jupyter-widgets/base",
            "_view_module_version": "1.2.0",
            "_view_name": "LayoutView",
            "align_content": null,
            "align_items": null,
            "align_self": null,
            "border": null,
            "bottom": null,
            "display": null,
            "flex": null,
            "flex_flow": null,
            "grid_area": null,
            "grid_auto_columns": null,
            "grid_auto_flow": null,
            "grid_auto_rows": null,
            "grid_column": null,
            "grid_gap": null,
            "grid_row": null,
            "grid_template_areas": null,
            "grid_template_columns": null,
            "grid_template_rows": null,
            "height": null,
            "justify_content": null,
            "justify_items": null,
            "left": null,
            "margin": null,
            "max_height": null,
            "max_width": null,
            "min_height": null,
            "min_width": null,
            "object_fit": null,
            "object_position": null,
            "order": null,
            "overflow": null,
            "overflow_x": null,
            "overflow_y": null,
            "padding": null,
            "right": null,
            "top": null,
            "visibility": null,
            "width": null
          }
        },
        "61e599174fb44fdaa51a8bd81e5bf3bd": {
          "model_module": "@jupyter-widgets/controls",
          "model_name": "DescriptionStyleModel",
          "model_module_version": "1.5.0",
          "state": {
            "_model_module": "@jupyter-widgets/controls",
            "_model_module_version": "1.5.0",
            "_model_name": "DescriptionStyleModel",
            "_view_count": null,
            "_view_module": "@jupyter-widgets/base",
            "_view_module_version": "1.2.0",
            "_view_name": "StyleView",
            "description_width": ""
          }
        },
        "ca2c577003554105bc3d78c8d93c1235": {
          "model_module": "@jupyter-widgets/controls",
          "model_name": "HBoxModel",
          "model_module_version": "1.5.0",
          "state": {
            "_dom_classes": [],
            "_model_module": "@jupyter-widgets/controls",
            "_model_module_version": "1.5.0",
            "_model_name": "HBoxModel",
            "_view_count": null,
            "_view_module": "@jupyter-widgets/controls",
            "_view_module_version": "1.5.0",
            "_view_name": "HBoxView",
            "box_style": "",
            "children": [
              "IPY_MODEL_33ce0cc624e145cd897e4d4c9c8c0f24",
              "IPY_MODEL_a2761829e0c64b2f8f0a5545ae8c1941",
              "IPY_MODEL_1e3aa4bb2ac34793a9be8d05deb1cda7"
            ],
            "layout": "IPY_MODEL_311a0af3c3924cf28082dd7172cb5f63"
          }
        },
        "33ce0cc624e145cd897e4d4c9c8c0f24": {
          "model_module": "@jupyter-widgets/controls",
          "model_name": "HTMLModel",
          "model_module_version": "1.5.0",
          "state": {
            "_dom_classes": [],
            "_model_module": "@jupyter-widgets/controls",
            "_model_module_version": "1.5.0",
            "_model_name": "HTMLModel",
            "_view_count": null,
            "_view_module": "@jupyter-widgets/controls",
            "_view_module_version": "1.5.0",
            "_view_name": "HTMLView",
            "description": "",
            "description_tooltip": null,
            "layout": "IPY_MODEL_8d308df8f2834d42a1c0d112b067b3e2",
            "placeholder": "​",
            "style": "IPY_MODEL_bea282d2cc9542bba57269b0ffc986ee",
            "value": "model.safetensors: 100%"
          }
        },
        "a2761829e0c64b2f8f0a5545ae8c1941": {
          "model_module": "@jupyter-widgets/controls",
          "model_name": "FloatProgressModel",
          "model_module_version": "1.5.0",
          "state": {
            "_dom_classes": [],
            "_model_module": "@jupyter-widgets/controls",
            "_model_module_version": "1.5.0",
            "_model_name": "FloatProgressModel",
            "_view_count": null,
            "_view_module": "@jupyter-widgets/controls",
            "_view_module_version": "1.5.0",
            "_view_name": "ProgressView",
            "bar_style": "success",
            "description": "",
            "description_tooltip": null,
            "layout": "IPY_MODEL_8d46847f66294599a75f1d89375303a9",
            "max": 470641600,
            "min": 0,
            "orientation": "horizontal",
            "style": "IPY_MODEL_288767ef3bd94c6b970c3381afba7d85",
            "value": 470641600
          }
        },
        "1e3aa4bb2ac34793a9be8d05deb1cda7": {
          "model_module": "@jupyter-widgets/controls",
          "model_name": "HTMLModel",
          "model_module_version": "1.5.0",
          "state": {
            "_dom_classes": [],
            "_model_module": "@jupyter-widgets/controls",
            "_model_module_version": "1.5.0",
            "_model_name": "HTMLModel",
            "_view_count": null,
            "_view_module": "@jupyter-widgets/controls",
            "_view_module_version": "1.5.0",
            "_view_name": "HTMLView",
            "description": "",
            "description_tooltip": null,
            "layout": "IPY_MODEL_6ae9f1941e8146b49768bc176cbd3520",
            "placeholder": "​",
            "style": "IPY_MODEL_43fa5f731bad49cf9a0305ecfba3c1aa",
            "value": " 471M/471M [00:01&lt;00:00, 239MB/s]"
          }
        },
        "311a0af3c3924cf28082dd7172cb5f63": {
          "model_module": "@jupyter-widgets/base",
          "model_name": "LayoutModel",
          "model_module_version": "1.2.0",
          "state": {
            "_model_module": "@jupyter-widgets/base",
            "_model_module_version": "1.2.0",
            "_model_name": "LayoutModel",
            "_view_count": null,
            "_view_module": "@jupyter-widgets/base",
            "_view_module_version": "1.2.0",
            "_view_name": "LayoutView",
            "align_content": null,
            "align_items": null,
            "align_self": null,
            "border": null,
            "bottom": null,
            "display": null,
            "flex": null,
            "flex_flow": null,
            "grid_area": null,
            "grid_auto_columns": null,
            "grid_auto_flow": null,
            "grid_auto_rows": null,
            "grid_column": null,
            "grid_gap": null,
            "grid_row": null,
            "grid_template_areas": null,
            "grid_template_columns": null,
            "grid_template_rows": null,
            "height": null,
            "justify_content": null,
            "justify_items": null,
            "left": null,
            "margin": null,
            "max_height": null,
            "max_width": null,
            "min_height": null,
            "min_width": null,
            "object_fit": null,
            "object_position": null,
            "order": null,
            "overflow": null,
            "overflow_x": null,
            "overflow_y": null,
            "padding": null,
            "right": null,
            "top": null,
            "visibility": null,
            "width": null
          }
        },
        "8d308df8f2834d42a1c0d112b067b3e2": {
          "model_module": "@jupyter-widgets/base",
          "model_name": "LayoutModel",
          "model_module_version": "1.2.0",
          "state": {
            "_model_module": "@jupyter-widgets/base",
            "_model_module_version": "1.2.0",
            "_model_name": "LayoutModel",
            "_view_count": null,
            "_view_module": "@jupyter-widgets/base",
            "_view_module_version": "1.2.0",
            "_view_name": "LayoutView",
            "align_content": null,
            "align_items": null,
            "align_self": null,
            "border": null,
            "bottom": null,
            "display": null,
            "flex": null,
            "flex_flow": null,
            "grid_area": null,
            "grid_auto_columns": null,
            "grid_auto_flow": null,
            "grid_auto_rows": null,
            "grid_column": null,
            "grid_gap": null,
            "grid_row": null,
            "grid_template_areas": null,
            "grid_template_columns": null,
            "grid_template_rows": null,
            "height": null,
            "justify_content": null,
            "justify_items": null,
            "left": null,
            "margin": null,
            "max_height": null,
            "max_width": null,
            "min_height": null,
            "min_width": null,
            "object_fit": null,
            "object_position": null,
            "order": null,
            "overflow": null,
            "overflow_x": null,
            "overflow_y": null,
            "padding": null,
            "right": null,
            "top": null,
            "visibility": null,
            "width": null
          }
        },
        "bea282d2cc9542bba57269b0ffc986ee": {
          "model_module": "@jupyter-widgets/controls",
          "model_name": "DescriptionStyleModel",
          "model_module_version": "1.5.0",
          "state": {
            "_model_module": "@jupyter-widgets/controls",
            "_model_module_version": "1.5.0",
            "_model_name": "DescriptionStyleModel",
            "_view_count": null,
            "_view_module": "@jupyter-widgets/base",
            "_view_module_version": "1.2.0",
            "_view_name": "StyleView",
            "description_width": ""
          }
        },
        "8d46847f66294599a75f1d89375303a9": {
          "model_module": "@jupyter-widgets/base",
          "model_name": "LayoutModel",
          "model_module_version": "1.2.0",
          "state": {
            "_model_module": "@jupyter-widgets/base",
            "_model_module_version": "1.2.0",
            "_model_name": "LayoutModel",
            "_view_count": null,
            "_view_module": "@jupyter-widgets/base",
            "_view_module_version": "1.2.0",
            "_view_name": "LayoutView",
            "align_content": null,
            "align_items": null,
            "align_self": null,
            "border": null,
            "bottom": null,
            "display": null,
            "flex": null,
            "flex_flow": null,
            "grid_area": null,
            "grid_auto_columns": null,
            "grid_auto_flow": null,
            "grid_auto_rows": null,
            "grid_column": null,
            "grid_gap": null,
            "grid_row": null,
            "grid_template_areas": null,
            "grid_template_columns": null,
            "grid_template_rows": null,
            "height": null,
            "justify_content": null,
            "justify_items": null,
            "left": null,
            "margin": null,
            "max_height": null,
            "max_width": null,
            "min_height": null,
            "min_width": null,
            "object_fit": null,
            "object_position": null,
            "order": null,
            "overflow": null,
            "overflow_x": null,
            "overflow_y": null,
            "padding": null,
            "right": null,
            "top": null,
            "visibility": null,
            "width": null
          }
        },
        "288767ef3bd94c6b970c3381afba7d85": {
          "model_module": "@jupyter-widgets/controls",
          "model_name": "ProgressStyleModel",
          "model_module_version": "1.5.0",
          "state": {
            "_model_module": "@jupyter-widgets/controls",
            "_model_module_version": "1.5.0",
            "_model_name": "ProgressStyleModel",
            "_view_count": null,
            "_view_module": "@jupyter-widgets/base",
            "_view_module_version": "1.2.0",
            "_view_name": "StyleView",
            "bar_color": null,
            "description_width": ""
          }
        },
        "6ae9f1941e8146b49768bc176cbd3520": {
          "model_module": "@jupyter-widgets/base",
          "model_name": "LayoutModel",
          "model_module_version": "1.2.0",
          "state": {
            "_model_module": "@jupyter-widgets/base",
            "_model_module_version": "1.2.0",
            "_model_name": "LayoutModel",
            "_view_count": null,
            "_view_module": "@jupyter-widgets/base",
            "_view_module_version": "1.2.0",
            "_view_name": "LayoutView",
            "align_content": null,
            "align_items": null,
            "align_self": null,
            "border": null,
            "bottom": null,
            "display": null,
            "flex": null,
            "flex_flow": null,
            "grid_area": null,
            "grid_auto_columns": null,
            "grid_auto_flow": null,
            "grid_auto_rows": null,
            "grid_column": null,
            "grid_gap": null,
            "grid_row": null,
            "grid_template_areas": null,
            "grid_template_columns": null,
            "grid_template_rows": null,
            "height": null,
            "justify_content": null,
            "justify_items": null,
            "left": null,
            "margin": null,
            "max_height": null,
            "max_width": null,
            "min_height": null,
            "min_width": null,
            "object_fit": null,
            "object_position": null,
            "order": null,
            "overflow": null,
            "overflow_x": null,
            "overflow_y": null,
            "padding": null,
            "right": null,
            "top": null,
            "visibility": null,
            "width": null
          }
        },
        "43fa5f731bad49cf9a0305ecfba3c1aa": {
          "model_module": "@jupyter-widgets/controls",
          "model_name": "DescriptionStyleModel",
          "model_module_version": "1.5.0",
          "state": {
            "_model_module": "@jupyter-widgets/controls",
            "_model_module_version": "1.5.0",
            "_model_name": "DescriptionStyleModel",
            "_view_count": null,
            "_view_module": "@jupyter-widgets/base",
            "_view_module_version": "1.2.0",
            "_view_name": "StyleView",
            "description_width": ""
          }
        },
        "c86586e755b04f4099f2a1ce792c9275": {
          "model_module": "@jupyter-widgets/controls",
          "model_name": "HBoxModel",
          "model_module_version": "1.5.0",
          "state": {
            "_dom_classes": [],
            "_model_module": "@jupyter-widgets/controls",
            "_model_module_version": "1.5.0",
            "_model_name": "HBoxModel",
            "_view_count": null,
            "_view_module": "@jupyter-widgets/controls",
            "_view_module_version": "1.5.0",
            "_view_name": "HBoxView",
            "box_style": "",
            "children": [
              "IPY_MODEL_17aab37d2d994a7dbc6f0954ce77c18d",
              "IPY_MODEL_e27ccb7fccb4443ba424570ed9388532",
              "IPY_MODEL_a1b9e96c43994ed596981204a62d616d"
            ],
            "layout": "IPY_MODEL_7538fa00d4f14bf88d0acfaa848fdc0f"
          }
        },
        "17aab37d2d994a7dbc6f0954ce77c18d": {
          "model_module": "@jupyter-widgets/controls",
          "model_name": "HTMLModel",
          "model_module_version": "1.5.0",
          "state": {
            "_dom_classes": [],
            "_model_module": "@jupyter-widgets/controls",
            "_model_module_version": "1.5.0",
            "_model_name": "HTMLModel",
            "_view_count": null,
            "_view_module": "@jupyter-widgets/controls",
            "_view_module_version": "1.5.0",
            "_view_name": "HTMLView",
            "description": "",
            "description_tooltip": null,
            "layout": "IPY_MODEL_16d640b5d9714841a893aaa72867c068",
            "placeholder": "​",
            "style": "IPY_MODEL_7fe726c53a194fc4a18c5f45d92009c7",
            "value": "tokenizer_config.json: 100%"
          }
        },
        "e27ccb7fccb4443ba424570ed9388532": {
          "model_module": "@jupyter-widgets/controls",
          "model_name": "FloatProgressModel",
          "model_module_version": "1.5.0",
          "state": {
            "_dom_classes": [],
            "_model_module": "@jupyter-widgets/controls",
            "_model_module_version": "1.5.0",
            "_model_name": "FloatProgressModel",
            "_view_count": null,
            "_view_module": "@jupyter-widgets/controls",
            "_view_module_version": "1.5.0",
            "_view_name": "ProgressView",
            "bar_style": "success",
            "description": "",
            "description_tooltip": null,
            "layout": "IPY_MODEL_e909ade29fe44d1a9d01e7f4bfd8deac",
            "max": 443,
            "min": 0,
            "orientation": "horizontal",
            "style": "IPY_MODEL_48b5fefe8ba64cd2a9b6abd361bce17b",
            "value": 443
          }
        },
        "a1b9e96c43994ed596981204a62d616d": {
          "model_module": "@jupyter-widgets/controls",
          "model_name": "HTMLModel",
          "model_module_version": "1.5.0",
          "state": {
            "_dom_classes": [],
            "_model_module": "@jupyter-widgets/controls",
            "_model_module_version": "1.5.0",
            "_model_name": "HTMLModel",
            "_view_count": null,
            "_view_module": "@jupyter-widgets/controls",
            "_view_module_version": "1.5.0",
            "_view_name": "HTMLView",
            "description": "",
            "description_tooltip": null,
            "layout": "IPY_MODEL_0b1fa68e15f34fe58db8f15bedf8f0f1",
            "placeholder": "​",
            "style": "IPY_MODEL_de8d888971f642228377715eccc24594",
            "value": " 443/443 [00:00&lt;00:00, 17.2kB/s]"
          }
        },
        "7538fa00d4f14bf88d0acfaa848fdc0f": {
          "model_module": "@jupyter-widgets/base",
          "model_name": "LayoutModel",
          "model_module_version": "1.2.0",
          "state": {
            "_model_module": "@jupyter-widgets/base",
            "_model_module_version": "1.2.0",
            "_model_name": "LayoutModel",
            "_view_count": null,
            "_view_module": "@jupyter-widgets/base",
            "_view_module_version": "1.2.0",
            "_view_name": "LayoutView",
            "align_content": null,
            "align_items": null,
            "align_self": null,
            "border": null,
            "bottom": null,
            "display": null,
            "flex": null,
            "flex_flow": null,
            "grid_area": null,
            "grid_auto_columns": null,
            "grid_auto_flow": null,
            "grid_auto_rows": null,
            "grid_column": null,
            "grid_gap": null,
            "grid_row": null,
            "grid_template_areas": null,
            "grid_template_columns": null,
            "grid_template_rows": null,
            "height": null,
            "justify_content": null,
            "justify_items": null,
            "left": null,
            "margin": null,
            "max_height": null,
            "max_width": null,
            "min_height": null,
            "min_width": null,
            "object_fit": null,
            "object_position": null,
            "order": null,
            "overflow": null,
            "overflow_x": null,
            "overflow_y": null,
            "padding": null,
            "right": null,
            "top": null,
            "visibility": null,
            "width": null
          }
        },
        "16d640b5d9714841a893aaa72867c068": {
          "model_module": "@jupyter-widgets/base",
          "model_name": "LayoutModel",
          "model_module_version": "1.2.0",
          "state": {
            "_model_module": "@jupyter-widgets/base",
            "_model_module_version": "1.2.0",
            "_model_name": "LayoutModel",
            "_view_count": null,
            "_view_module": "@jupyter-widgets/base",
            "_view_module_version": "1.2.0",
            "_view_name": "LayoutView",
            "align_content": null,
            "align_items": null,
            "align_self": null,
            "border": null,
            "bottom": null,
            "display": null,
            "flex": null,
            "flex_flow": null,
            "grid_area": null,
            "grid_auto_columns": null,
            "grid_auto_flow": null,
            "grid_auto_rows": null,
            "grid_column": null,
            "grid_gap": null,
            "grid_row": null,
            "grid_template_areas": null,
            "grid_template_columns": null,
            "grid_template_rows": null,
            "height": null,
            "justify_content": null,
            "justify_items": null,
            "left": null,
            "margin": null,
            "max_height": null,
            "max_width": null,
            "min_height": null,
            "min_width": null,
            "object_fit": null,
            "object_position": null,
            "order": null,
            "overflow": null,
            "overflow_x": null,
            "overflow_y": null,
            "padding": null,
            "right": null,
            "top": null,
            "visibility": null,
            "width": null
          }
        },
        "7fe726c53a194fc4a18c5f45d92009c7": {
          "model_module": "@jupyter-widgets/controls",
          "model_name": "DescriptionStyleModel",
          "model_module_version": "1.5.0",
          "state": {
            "_model_module": "@jupyter-widgets/controls",
            "_model_module_version": "1.5.0",
            "_model_name": "DescriptionStyleModel",
            "_view_count": null,
            "_view_module": "@jupyter-widgets/base",
            "_view_module_version": "1.2.0",
            "_view_name": "StyleView",
            "description_width": ""
          }
        },
        "e909ade29fe44d1a9d01e7f4bfd8deac": {
          "model_module": "@jupyter-widgets/base",
          "model_name": "LayoutModel",
          "model_module_version": "1.2.0",
          "state": {
            "_model_module": "@jupyter-widgets/base",
            "_model_module_version": "1.2.0",
            "_model_name": "LayoutModel",
            "_view_count": null,
            "_view_module": "@jupyter-widgets/base",
            "_view_module_version": "1.2.0",
            "_view_name": "LayoutView",
            "align_content": null,
            "align_items": null,
            "align_self": null,
            "border": null,
            "bottom": null,
            "display": null,
            "flex": null,
            "flex_flow": null,
            "grid_area": null,
            "grid_auto_columns": null,
            "grid_auto_flow": null,
            "grid_auto_rows": null,
            "grid_column": null,
            "grid_gap": null,
            "grid_row": null,
            "grid_template_areas": null,
            "grid_template_columns": null,
            "grid_template_rows": null,
            "height": null,
            "justify_content": null,
            "justify_items": null,
            "left": null,
            "margin": null,
            "max_height": null,
            "max_width": null,
            "min_height": null,
            "min_width": null,
            "object_fit": null,
            "object_position": null,
            "order": null,
            "overflow": null,
            "overflow_x": null,
            "overflow_y": null,
            "padding": null,
            "right": null,
            "top": null,
            "visibility": null,
            "width": null
          }
        },
        "48b5fefe8ba64cd2a9b6abd361bce17b": {
          "model_module": "@jupyter-widgets/controls",
          "model_name": "ProgressStyleModel",
          "model_module_version": "1.5.0",
          "state": {
            "_model_module": "@jupyter-widgets/controls",
            "_model_module_version": "1.5.0",
            "_model_name": "ProgressStyleModel",
            "_view_count": null,
            "_view_module": "@jupyter-widgets/base",
            "_view_module_version": "1.2.0",
            "_view_name": "StyleView",
            "bar_color": null,
            "description_width": ""
          }
        },
        "0b1fa68e15f34fe58db8f15bedf8f0f1": {
          "model_module": "@jupyter-widgets/base",
          "model_name": "LayoutModel",
          "model_module_version": "1.2.0",
          "state": {
            "_model_module": "@jupyter-widgets/base",
            "_model_module_version": "1.2.0",
            "_model_name": "LayoutModel",
            "_view_count": null,
            "_view_module": "@jupyter-widgets/base",
            "_view_module_version": "1.2.0",
            "_view_name": "LayoutView",
            "align_content": null,
            "align_items": null,
            "align_self": null,
            "border": null,
            "bottom": null,
            "display": null,
            "flex": null,
            "flex_flow": null,
            "grid_area": null,
            "grid_auto_columns": null,
            "grid_auto_flow": null,
            "grid_auto_rows": null,
            "grid_column": null,
            "grid_gap": null,
            "grid_row": null,
            "grid_template_areas": null,
            "grid_template_columns": null,
            "grid_template_rows": null,
            "height": null,
            "justify_content": null,
            "justify_items": null,
            "left": null,
            "margin": null,
            "max_height": null,
            "max_width": null,
            "min_height": null,
            "min_width": null,
            "object_fit": null,
            "object_position": null,
            "order": null,
            "overflow": null,
            "overflow_x": null,
            "overflow_y": null,
            "padding": null,
            "right": null,
            "top": null,
            "visibility": null,
            "width": null
          }
        },
        "de8d888971f642228377715eccc24594": {
          "model_module": "@jupyter-widgets/controls",
          "model_name": "DescriptionStyleModel",
          "model_module_version": "1.5.0",
          "state": {
            "_model_module": "@jupyter-widgets/controls",
            "_model_module_version": "1.5.0",
            "_model_name": "DescriptionStyleModel",
            "_view_count": null,
            "_view_module": "@jupyter-widgets/base",
            "_view_module_version": "1.2.0",
            "_view_name": "StyleView",
            "description_width": ""
          }
        },
        "4b59b98fb0874382a95578417e8a06f5": {
          "model_module": "@jupyter-widgets/controls",
          "model_name": "HBoxModel",
          "model_module_version": "1.5.0",
          "state": {
            "_dom_classes": [],
            "_model_module": "@jupyter-widgets/controls",
            "_model_module_version": "1.5.0",
            "_model_name": "HBoxModel",
            "_view_count": null,
            "_view_module": "@jupyter-widgets/controls",
            "_view_module_version": "1.5.0",
            "_view_name": "HBoxView",
            "box_style": "",
            "children": [
              "IPY_MODEL_0521ea09dbd9475ca7d566b1eaf8de90",
              "IPY_MODEL_f7fdbe9b5ee34154859abd8b711cbb5c",
              "IPY_MODEL_630df9d662d44b5c820a4b44e0a16440"
            ],
            "layout": "IPY_MODEL_7b656b0593da41b69ee0157869f0174c"
          }
        },
        "0521ea09dbd9475ca7d566b1eaf8de90": {
          "model_module": "@jupyter-widgets/controls",
          "model_name": "HTMLModel",
          "model_module_version": "1.5.0",
          "state": {
            "_dom_classes": [],
            "_model_module": "@jupyter-widgets/controls",
            "_model_module_version": "1.5.0",
            "_model_name": "HTMLModel",
            "_view_count": null,
            "_view_module": "@jupyter-widgets/controls",
            "_view_module_version": "1.5.0",
            "_view_name": "HTMLView",
            "description": "",
            "description_tooltip": null,
            "layout": "IPY_MODEL_f0f8be46d8844b45a4cda827e577a9da",
            "placeholder": "​",
            "style": "IPY_MODEL_a0ea8938e2d64da69a847f6070dacb6e",
            "value": "sentencepiece.bpe.model: 100%"
          }
        },
        "f7fdbe9b5ee34154859abd8b711cbb5c": {
          "model_module": "@jupyter-widgets/controls",
          "model_name": "FloatProgressModel",
          "model_module_version": "1.5.0",
          "state": {
            "_dom_classes": [],
            "_model_module": "@jupyter-widgets/controls",
            "_model_module_version": "1.5.0",
            "_model_name": "FloatProgressModel",
            "_view_count": null,
            "_view_module": "@jupyter-widgets/controls",
            "_view_module_version": "1.5.0",
            "_view_name": "ProgressView",
            "bar_style": "success",
            "description": "",
            "description_tooltip": null,
            "layout": "IPY_MODEL_15e26a81a0bb425ba8ca57dce80bc2ff",
            "max": 5069051,
            "min": 0,
            "orientation": "horizontal",
            "style": "IPY_MODEL_7a0d3957235a449dbefc694fce3ad11a",
            "value": 5069051
          }
        },
        "630df9d662d44b5c820a4b44e0a16440": {
          "model_module": "@jupyter-widgets/controls",
          "model_name": "HTMLModel",
          "model_module_version": "1.5.0",
          "state": {
            "_dom_classes": [],
            "_model_module": "@jupyter-widgets/controls",
            "_model_module_version": "1.5.0",
            "_model_name": "HTMLModel",
            "_view_count": null,
            "_view_module": "@jupyter-widgets/controls",
            "_view_module_version": "1.5.0",
            "_view_name": "HTMLView",
            "description": "",
            "description_tooltip": null,
            "layout": "IPY_MODEL_9ca79109aec94a91aab4b7336d1a255a",
            "placeholder": "​",
            "style": "IPY_MODEL_e4ee4846ce604cc8af64a5244947d516",
            "value": " 5.07M/5.07M [00:00&lt;00:00, 134MB/s]"
          }
        },
        "7b656b0593da41b69ee0157869f0174c": {
          "model_module": "@jupyter-widgets/base",
          "model_name": "LayoutModel",
          "model_module_version": "1.2.0",
          "state": {
            "_model_module": "@jupyter-widgets/base",
            "_model_module_version": "1.2.0",
            "_model_name": "LayoutModel",
            "_view_count": null,
            "_view_module": "@jupyter-widgets/base",
            "_view_module_version": "1.2.0",
            "_view_name": "LayoutView",
            "align_content": null,
            "align_items": null,
            "align_self": null,
            "border": null,
            "bottom": null,
            "display": null,
            "flex": null,
            "flex_flow": null,
            "grid_area": null,
            "grid_auto_columns": null,
            "grid_auto_flow": null,
            "grid_auto_rows": null,
            "grid_column": null,
            "grid_gap": null,
            "grid_row": null,
            "grid_template_areas": null,
            "grid_template_columns": null,
            "grid_template_rows": null,
            "height": null,
            "justify_content": null,
            "justify_items": null,
            "left": null,
            "margin": null,
            "max_height": null,
            "max_width": null,
            "min_height": null,
            "min_width": null,
            "object_fit": null,
            "object_position": null,
            "order": null,
            "overflow": null,
            "overflow_x": null,
            "overflow_y": null,
            "padding": null,
            "right": null,
            "top": null,
            "visibility": null,
            "width": null
          }
        },
        "f0f8be46d8844b45a4cda827e577a9da": {
          "model_module": "@jupyter-widgets/base",
          "model_name": "LayoutModel",
          "model_module_version": "1.2.0",
          "state": {
            "_model_module": "@jupyter-widgets/base",
            "_model_module_version": "1.2.0",
            "_model_name": "LayoutModel",
            "_view_count": null,
            "_view_module": "@jupyter-widgets/base",
            "_view_module_version": "1.2.0",
            "_view_name": "LayoutView",
            "align_content": null,
            "align_items": null,
            "align_self": null,
            "border": null,
            "bottom": null,
            "display": null,
            "flex": null,
            "flex_flow": null,
            "grid_area": null,
            "grid_auto_columns": null,
            "grid_auto_flow": null,
            "grid_auto_rows": null,
            "grid_column": null,
            "grid_gap": null,
            "grid_row": null,
            "grid_template_areas": null,
            "grid_template_columns": null,
            "grid_template_rows": null,
            "height": null,
            "justify_content": null,
            "justify_items": null,
            "left": null,
            "margin": null,
            "max_height": null,
            "max_width": null,
            "min_height": null,
            "min_width": null,
            "object_fit": null,
            "object_position": null,
            "order": null,
            "overflow": null,
            "overflow_x": null,
            "overflow_y": null,
            "padding": null,
            "right": null,
            "top": null,
            "visibility": null,
            "width": null
          }
        },
        "a0ea8938e2d64da69a847f6070dacb6e": {
          "model_module": "@jupyter-widgets/controls",
          "model_name": "DescriptionStyleModel",
          "model_module_version": "1.5.0",
          "state": {
            "_model_module": "@jupyter-widgets/controls",
            "_model_module_version": "1.5.0",
            "_model_name": "DescriptionStyleModel",
            "_view_count": null,
            "_view_module": "@jupyter-widgets/base",
            "_view_module_version": "1.2.0",
            "_view_name": "StyleView",
            "description_width": ""
          }
        },
        "15e26a81a0bb425ba8ca57dce80bc2ff": {
          "model_module": "@jupyter-widgets/base",
          "model_name": "LayoutModel",
          "model_module_version": "1.2.0",
          "state": {
            "_model_module": "@jupyter-widgets/base",
            "_model_module_version": "1.2.0",
            "_model_name": "LayoutModel",
            "_view_count": null,
            "_view_module": "@jupyter-widgets/base",
            "_view_module_version": "1.2.0",
            "_view_name": "LayoutView",
            "align_content": null,
            "align_items": null,
            "align_self": null,
            "border": null,
            "bottom": null,
            "display": null,
            "flex": null,
            "flex_flow": null,
            "grid_area": null,
            "grid_auto_columns": null,
            "grid_auto_flow": null,
            "grid_auto_rows": null,
            "grid_column": null,
            "grid_gap": null,
            "grid_row": null,
            "grid_template_areas": null,
            "grid_template_columns": null,
            "grid_template_rows": null,
            "height": null,
            "justify_content": null,
            "justify_items": null,
            "left": null,
            "margin": null,
            "max_height": null,
            "max_width": null,
            "min_height": null,
            "min_width": null,
            "object_fit": null,
            "object_position": null,
            "order": null,
            "overflow": null,
            "overflow_x": null,
            "overflow_y": null,
            "padding": null,
            "right": null,
            "top": null,
            "visibility": null,
            "width": null
          }
        },
        "7a0d3957235a449dbefc694fce3ad11a": {
          "model_module": "@jupyter-widgets/controls",
          "model_name": "ProgressStyleModel",
          "model_module_version": "1.5.0",
          "state": {
            "_model_module": "@jupyter-widgets/controls",
            "_model_module_version": "1.5.0",
            "_model_name": "ProgressStyleModel",
            "_view_count": null,
            "_view_module": "@jupyter-widgets/base",
            "_view_module_version": "1.2.0",
            "_view_name": "StyleView",
            "bar_color": null,
            "description_width": ""
          }
        },
        "9ca79109aec94a91aab4b7336d1a255a": {
          "model_module": "@jupyter-widgets/base",
          "model_name": "LayoutModel",
          "model_module_version": "1.2.0",
          "state": {
            "_model_module": "@jupyter-widgets/base",
            "_model_module_version": "1.2.0",
            "_model_name": "LayoutModel",
            "_view_count": null,
            "_view_module": "@jupyter-widgets/base",
            "_view_module_version": "1.2.0",
            "_view_name": "LayoutView",
            "align_content": null,
            "align_items": null,
            "align_self": null,
            "border": null,
            "bottom": null,
            "display": null,
            "flex": null,
            "flex_flow": null,
            "grid_area": null,
            "grid_auto_columns": null,
            "grid_auto_flow": null,
            "grid_auto_rows": null,
            "grid_column": null,
            "grid_gap": null,
            "grid_row": null,
            "grid_template_areas": null,
            "grid_template_columns": null,
            "grid_template_rows": null,
            "height": null,
            "justify_content": null,
            "justify_items": null,
            "left": null,
            "margin": null,
            "max_height": null,
            "max_width": null,
            "min_height": null,
            "min_width": null,
            "object_fit": null,
            "object_position": null,
            "order": null,
            "overflow": null,
            "overflow_x": null,
            "overflow_y": null,
            "padding": null,
            "right": null,
            "top": null,
            "visibility": null,
            "width": null
          }
        },
        "e4ee4846ce604cc8af64a5244947d516": {
          "model_module": "@jupyter-widgets/controls",
          "model_name": "DescriptionStyleModel",
          "model_module_version": "1.5.0",
          "state": {
            "_model_module": "@jupyter-widgets/controls",
            "_model_module_version": "1.5.0",
            "_model_name": "DescriptionStyleModel",
            "_view_count": null,
            "_view_module": "@jupyter-widgets/base",
            "_view_module_version": "1.2.0",
            "_view_name": "StyleView",
            "description_width": ""
          }
        },
        "1bf76e46d9ae4da49219f7bc7583f614": {
          "model_module": "@jupyter-widgets/controls",
          "model_name": "HBoxModel",
          "model_module_version": "1.5.0",
          "state": {
            "_dom_classes": [],
            "_model_module": "@jupyter-widgets/controls",
            "_model_module_version": "1.5.0",
            "_model_name": "HBoxModel",
            "_view_count": null,
            "_view_module": "@jupyter-widgets/controls",
            "_view_module_version": "1.5.0",
            "_view_name": "HBoxView",
            "box_style": "",
            "children": [
              "IPY_MODEL_8834fa78d8064e61bb9d50fc5efbe79f",
              "IPY_MODEL_c375305694df4d5eb6a371cf0af89fb2",
              "IPY_MODEL_d5421cad75c9411c9690766e64c8a428"
            ],
            "layout": "IPY_MODEL_5ac12e3bf1174d7ab4205036ece3ba92"
          }
        },
        "8834fa78d8064e61bb9d50fc5efbe79f": {
          "model_module": "@jupyter-widgets/controls",
          "model_name": "HTMLModel",
          "model_module_version": "1.5.0",
          "state": {
            "_dom_classes": [],
            "_model_module": "@jupyter-widgets/controls",
            "_model_module_version": "1.5.0",
            "_model_name": "HTMLModel",
            "_view_count": null,
            "_view_module": "@jupyter-widgets/controls",
            "_view_module_version": "1.5.0",
            "_view_name": "HTMLView",
            "description": "",
            "description_tooltip": null,
            "layout": "IPY_MODEL_5e2d93ec4b4e4e7f873b101e5c502780",
            "placeholder": "​",
            "style": "IPY_MODEL_6f8482eff6394dff854b110e24a1af1b",
            "value": "tokenizer.json: 100%"
          }
        },
        "c375305694df4d5eb6a371cf0af89fb2": {
          "model_module": "@jupyter-widgets/controls",
          "model_name": "FloatProgressModel",
          "model_module_version": "1.5.0",
          "state": {
            "_dom_classes": [],
            "_model_module": "@jupyter-widgets/controls",
            "_model_module_version": "1.5.0",
            "_model_name": "FloatProgressModel",
            "_view_count": null,
            "_view_module": "@jupyter-widgets/controls",
            "_view_module_version": "1.5.0",
            "_view_name": "ProgressView",
            "bar_style": "success",
            "description": "",
            "description_tooltip": null,
            "layout": "IPY_MODEL_e39d4f9fc46e405bbf3618955e9aad0a",
            "max": 17082730,
            "min": 0,
            "orientation": "horizontal",
            "style": "IPY_MODEL_79d0a460c1374865926385953656eb9c",
            "value": 17082730
          }
        },
        "d5421cad75c9411c9690766e64c8a428": {
          "model_module": "@jupyter-widgets/controls",
          "model_name": "HTMLModel",
          "model_module_version": "1.5.0",
          "state": {
            "_dom_classes": [],
            "_model_module": "@jupyter-widgets/controls",
            "_model_module_version": "1.5.0",
            "_model_name": "HTMLModel",
            "_view_count": null,
            "_view_module": "@jupyter-widgets/controls",
            "_view_module_version": "1.5.0",
            "_view_name": "HTMLView",
            "description": "",
            "description_tooltip": null,
            "layout": "IPY_MODEL_063196eb68134fa8b3ebcef0ec666fff",
            "placeholder": "​",
            "style": "IPY_MODEL_ecbef8996ac14201bc545d644be2937e",
            "value": " 17.1M/17.1M [00:00&lt;00:00, 195MB/s]"
          }
        },
        "5ac12e3bf1174d7ab4205036ece3ba92": {
          "model_module": "@jupyter-widgets/base",
          "model_name": "LayoutModel",
          "model_module_version": "1.2.0",
          "state": {
            "_model_module": "@jupyter-widgets/base",
            "_model_module_version": "1.2.0",
            "_model_name": "LayoutModel",
            "_view_count": null,
            "_view_module": "@jupyter-widgets/base",
            "_view_module_version": "1.2.0",
            "_view_name": "LayoutView",
            "align_content": null,
            "align_items": null,
            "align_self": null,
            "border": null,
            "bottom": null,
            "display": null,
            "flex": null,
            "flex_flow": null,
            "grid_area": null,
            "grid_auto_columns": null,
            "grid_auto_flow": null,
            "grid_auto_rows": null,
            "grid_column": null,
            "grid_gap": null,
            "grid_row": null,
            "grid_template_areas": null,
            "grid_template_columns": null,
            "grid_template_rows": null,
            "height": null,
            "justify_content": null,
            "justify_items": null,
            "left": null,
            "margin": null,
            "max_height": null,
            "max_width": null,
            "min_height": null,
            "min_width": null,
            "object_fit": null,
            "object_position": null,
            "order": null,
            "overflow": null,
            "overflow_x": null,
            "overflow_y": null,
            "padding": null,
            "right": null,
            "top": null,
            "visibility": null,
            "width": null
          }
        },
        "5e2d93ec4b4e4e7f873b101e5c502780": {
          "model_module": "@jupyter-widgets/base",
          "model_name": "LayoutModel",
          "model_module_version": "1.2.0",
          "state": {
            "_model_module": "@jupyter-widgets/base",
            "_model_module_version": "1.2.0",
            "_model_name": "LayoutModel",
            "_view_count": null,
            "_view_module": "@jupyter-widgets/base",
            "_view_module_version": "1.2.0",
            "_view_name": "LayoutView",
            "align_content": null,
            "align_items": null,
            "align_self": null,
            "border": null,
            "bottom": null,
            "display": null,
            "flex": null,
            "flex_flow": null,
            "grid_area": null,
            "grid_auto_columns": null,
            "grid_auto_flow": null,
            "grid_auto_rows": null,
            "grid_column": null,
            "grid_gap": null,
            "grid_row": null,
            "grid_template_areas": null,
            "grid_template_columns": null,
            "grid_template_rows": null,
            "height": null,
            "justify_content": null,
            "justify_items": null,
            "left": null,
            "margin": null,
            "max_height": null,
            "max_width": null,
            "min_height": null,
            "min_width": null,
            "object_fit": null,
            "object_position": null,
            "order": null,
            "overflow": null,
            "overflow_x": null,
            "overflow_y": null,
            "padding": null,
            "right": null,
            "top": null,
            "visibility": null,
            "width": null
          }
        },
        "6f8482eff6394dff854b110e24a1af1b": {
          "model_module": "@jupyter-widgets/controls",
          "model_name": "DescriptionStyleModel",
          "model_module_version": "1.5.0",
          "state": {
            "_model_module": "@jupyter-widgets/controls",
            "_model_module_version": "1.5.0",
            "_model_name": "DescriptionStyleModel",
            "_view_count": null,
            "_view_module": "@jupyter-widgets/base",
            "_view_module_version": "1.2.0",
            "_view_name": "StyleView",
            "description_width": ""
          }
        },
        "e39d4f9fc46e405bbf3618955e9aad0a": {
          "model_module": "@jupyter-widgets/base",
          "model_name": "LayoutModel",
          "model_module_version": "1.2.0",
          "state": {
            "_model_module": "@jupyter-widgets/base",
            "_model_module_version": "1.2.0",
            "_model_name": "LayoutModel",
            "_view_count": null,
            "_view_module": "@jupyter-widgets/base",
            "_view_module_version": "1.2.0",
            "_view_name": "LayoutView",
            "align_content": null,
            "align_items": null,
            "align_self": null,
            "border": null,
            "bottom": null,
            "display": null,
            "flex": null,
            "flex_flow": null,
            "grid_area": null,
            "grid_auto_columns": null,
            "grid_auto_flow": null,
            "grid_auto_rows": null,
            "grid_column": null,
            "grid_gap": null,
            "grid_row": null,
            "grid_template_areas": null,
            "grid_template_columns": null,
            "grid_template_rows": null,
            "height": null,
            "justify_content": null,
            "justify_items": null,
            "left": null,
            "margin": null,
            "max_height": null,
            "max_width": null,
            "min_height": null,
            "min_width": null,
            "object_fit": null,
            "object_position": null,
            "order": null,
            "overflow": null,
            "overflow_x": null,
            "overflow_y": null,
            "padding": null,
            "right": null,
            "top": null,
            "visibility": null,
            "width": null
          }
        },
        "79d0a460c1374865926385953656eb9c": {
          "model_module": "@jupyter-widgets/controls",
          "model_name": "ProgressStyleModel",
          "model_module_version": "1.5.0",
          "state": {
            "_model_module": "@jupyter-widgets/controls",
            "_model_module_version": "1.5.0",
            "_model_name": "ProgressStyleModel",
            "_view_count": null,
            "_view_module": "@jupyter-widgets/base",
            "_view_module_version": "1.2.0",
            "_view_name": "StyleView",
            "bar_color": null,
            "description_width": ""
          }
        },
        "063196eb68134fa8b3ebcef0ec666fff": {
          "model_module": "@jupyter-widgets/base",
          "model_name": "LayoutModel",
          "model_module_version": "1.2.0",
          "state": {
            "_model_module": "@jupyter-widgets/base",
            "_model_module_version": "1.2.0",
            "_model_name": "LayoutModel",
            "_view_count": null,
            "_view_module": "@jupyter-widgets/base",
            "_view_module_version": "1.2.0",
            "_view_name": "LayoutView",
            "align_content": null,
            "align_items": null,
            "align_self": null,
            "border": null,
            "bottom": null,
            "display": null,
            "flex": null,
            "flex_flow": null,
            "grid_area": null,
            "grid_auto_columns": null,
            "grid_auto_flow": null,
            "grid_auto_rows": null,
            "grid_column": null,
            "grid_gap": null,
            "grid_row": null,
            "grid_template_areas": null,
            "grid_template_columns": null,
            "grid_template_rows": null,
            "height": null,
            "justify_content": null,
            "justify_items": null,
            "left": null,
            "margin": null,
            "max_height": null,
            "max_width": null,
            "min_height": null,
            "min_width": null,
            "object_fit": null,
            "object_position": null,
            "order": null,
            "overflow": null,
            "overflow_x": null,
            "overflow_y": null,
            "padding": null,
            "right": null,
            "top": null,
            "visibility": null,
            "width": null
          }
        },
        "ecbef8996ac14201bc545d644be2937e": {
          "model_module": "@jupyter-widgets/controls",
          "model_name": "DescriptionStyleModel",
          "model_module_version": "1.5.0",
          "state": {
            "_model_module": "@jupyter-widgets/controls",
            "_model_module_version": "1.5.0",
            "_model_name": "DescriptionStyleModel",
            "_view_count": null,
            "_view_module": "@jupyter-widgets/base",
            "_view_module_version": "1.2.0",
            "_view_name": "StyleView",
            "description_width": ""
          }
        },
        "67ba29c2773a49359dcbaa59fc159154": {
          "model_module": "@jupyter-widgets/controls",
          "model_name": "HBoxModel",
          "model_module_version": "1.5.0",
          "state": {
            "_dom_classes": [],
            "_model_module": "@jupyter-widgets/controls",
            "_model_module_version": "1.5.0",
            "_model_name": "HBoxModel",
            "_view_count": null,
            "_view_module": "@jupyter-widgets/controls",
            "_view_module_version": "1.5.0",
            "_view_name": "HBoxView",
            "box_style": "",
            "children": [
              "IPY_MODEL_edb36548b04d44c1b394869c9e83e9d5",
              "IPY_MODEL_c6c9c7736b724fcda2419bb5401b31ef",
              "IPY_MODEL_9f3001947c0c4889bdff5b9d84745565"
            ],
            "layout": "IPY_MODEL_4f4eda851e7a4123bb04f35e54c1bc00"
          }
        },
        "edb36548b04d44c1b394869c9e83e9d5": {
          "model_module": "@jupyter-widgets/controls",
          "model_name": "HTMLModel",
          "model_module_version": "1.5.0",
          "state": {
            "_dom_classes": [],
            "_model_module": "@jupyter-widgets/controls",
            "_model_module_version": "1.5.0",
            "_model_name": "HTMLModel",
            "_view_count": null,
            "_view_module": "@jupyter-widgets/controls",
            "_view_module_version": "1.5.0",
            "_view_name": "HTMLView",
            "description": "",
            "description_tooltip": null,
            "layout": "IPY_MODEL_ab243575379944efacae7b41e17a7417",
            "placeholder": "​",
            "style": "IPY_MODEL_ac9066374eb14cc390dbc1fff803be7c",
            "value": "special_tokens_map.json: 100%"
          }
        },
        "c6c9c7736b724fcda2419bb5401b31ef": {
          "model_module": "@jupyter-widgets/controls",
          "model_name": "FloatProgressModel",
          "model_module_version": "1.5.0",
          "state": {
            "_dom_classes": [],
            "_model_module": "@jupyter-widgets/controls",
            "_model_module_version": "1.5.0",
            "_model_name": "FloatProgressModel",
            "_view_count": null,
            "_view_module": "@jupyter-widgets/controls",
            "_view_module_version": "1.5.0",
            "_view_name": "ProgressView",
            "bar_style": "success",
            "description": "",
            "description_tooltip": null,
            "layout": "IPY_MODEL_af7e81ab58ea447bae8d69db8890d4a6",
            "max": 167,
            "min": 0,
            "orientation": "horizontal",
            "style": "IPY_MODEL_1d53f29853b348ffa4028f950fdab616",
            "value": 167
          }
        },
        "9f3001947c0c4889bdff5b9d84745565": {
          "model_module": "@jupyter-widgets/controls",
          "model_name": "HTMLModel",
          "model_module_version": "1.5.0",
          "state": {
            "_dom_classes": [],
            "_model_module": "@jupyter-widgets/controls",
            "_model_module_version": "1.5.0",
            "_model_name": "HTMLModel",
            "_view_count": null,
            "_view_module": "@jupyter-widgets/controls",
            "_view_module_version": "1.5.0",
            "_view_name": "HTMLView",
            "description": "",
            "description_tooltip": null,
            "layout": "IPY_MODEL_958b7de6b78445368201a7ff2ac49125",
            "placeholder": "​",
            "style": "IPY_MODEL_8b5cd35aabcb43889936083c569b4479",
            "value": " 167/167 [00:00&lt;00:00, 10.6kB/s]"
          }
        },
        "4f4eda851e7a4123bb04f35e54c1bc00": {
          "model_module": "@jupyter-widgets/base",
          "model_name": "LayoutModel",
          "model_module_version": "1.2.0",
          "state": {
            "_model_module": "@jupyter-widgets/base",
            "_model_module_version": "1.2.0",
            "_model_name": "LayoutModel",
            "_view_count": null,
            "_view_module": "@jupyter-widgets/base",
            "_view_module_version": "1.2.0",
            "_view_name": "LayoutView",
            "align_content": null,
            "align_items": null,
            "align_self": null,
            "border": null,
            "bottom": null,
            "display": null,
            "flex": null,
            "flex_flow": null,
            "grid_area": null,
            "grid_auto_columns": null,
            "grid_auto_flow": null,
            "grid_auto_rows": null,
            "grid_column": null,
            "grid_gap": null,
            "grid_row": null,
            "grid_template_areas": null,
            "grid_template_columns": null,
            "grid_template_rows": null,
            "height": null,
            "justify_content": null,
            "justify_items": null,
            "left": null,
            "margin": null,
            "max_height": null,
            "max_width": null,
            "min_height": null,
            "min_width": null,
            "object_fit": null,
            "object_position": null,
            "order": null,
            "overflow": null,
            "overflow_x": null,
            "overflow_y": null,
            "padding": null,
            "right": null,
            "top": null,
            "visibility": null,
            "width": null
          }
        },
        "ab243575379944efacae7b41e17a7417": {
          "model_module": "@jupyter-widgets/base",
          "model_name": "LayoutModel",
          "model_module_version": "1.2.0",
          "state": {
            "_model_module": "@jupyter-widgets/base",
            "_model_module_version": "1.2.0",
            "_model_name": "LayoutModel",
            "_view_count": null,
            "_view_module": "@jupyter-widgets/base",
            "_view_module_version": "1.2.0",
            "_view_name": "LayoutView",
            "align_content": null,
            "align_items": null,
            "align_self": null,
            "border": null,
            "bottom": null,
            "display": null,
            "flex": null,
            "flex_flow": null,
            "grid_area": null,
            "grid_auto_columns": null,
            "grid_auto_flow": null,
            "grid_auto_rows": null,
            "grid_column": null,
            "grid_gap": null,
            "grid_row": null,
            "grid_template_areas": null,
            "grid_template_columns": null,
            "grid_template_rows": null,
            "height": null,
            "justify_content": null,
            "justify_items": null,
            "left": null,
            "margin": null,
            "max_height": null,
            "max_width": null,
            "min_height": null,
            "min_width": null,
            "object_fit": null,
            "object_position": null,
            "order": null,
            "overflow": null,
            "overflow_x": null,
            "overflow_y": null,
            "padding": null,
            "right": null,
            "top": null,
            "visibility": null,
            "width": null
          }
        },
        "ac9066374eb14cc390dbc1fff803be7c": {
          "model_module": "@jupyter-widgets/controls",
          "model_name": "DescriptionStyleModel",
          "model_module_version": "1.5.0",
          "state": {
            "_model_module": "@jupyter-widgets/controls",
            "_model_module_version": "1.5.0",
            "_model_name": "DescriptionStyleModel",
            "_view_count": null,
            "_view_module": "@jupyter-widgets/base",
            "_view_module_version": "1.2.0",
            "_view_name": "StyleView",
            "description_width": ""
          }
        },
        "af7e81ab58ea447bae8d69db8890d4a6": {
          "model_module": "@jupyter-widgets/base",
          "model_name": "LayoutModel",
          "model_module_version": "1.2.0",
          "state": {
            "_model_module": "@jupyter-widgets/base",
            "_model_module_version": "1.2.0",
            "_model_name": "LayoutModel",
            "_view_count": null,
            "_view_module": "@jupyter-widgets/base",
            "_view_module_version": "1.2.0",
            "_view_name": "LayoutView",
            "align_content": null,
            "align_items": null,
            "align_self": null,
            "border": null,
            "bottom": null,
            "display": null,
            "flex": null,
            "flex_flow": null,
            "grid_area": null,
            "grid_auto_columns": null,
            "grid_auto_flow": null,
            "grid_auto_rows": null,
            "grid_column": null,
            "grid_gap": null,
            "grid_row": null,
            "grid_template_areas": null,
            "grid_template_columns": null,
            "grid_template_rows": null,
            "height": null,
            "justify_content": null,
            "justify_items": null,
            "left": null,
            "margin": null,
            "max_height": null,
            "max_width": null,
            "min_height": null,
            "min_width": null,
            "object_fit": null,
            "object_position": null,
            "order": null,
            "overflow": null,
            "overflow_x": null,
            "overflow_y": null,
            "padding": null,
            "right": null,
            "top": null,
            "visibility": null,
            "width": null
          }
        },
        "1d53f29853b348ffa4028f950fdab616": {
          "model_module": "@jupyter-widgets/controls",
          "model_name": "ProgressStyleModel",
          "model_module_version": "1.5.0",
          "state": {
            "_model_module": "@jupyter-widgets/controls",
            "_model_module_version": "1.5.0",
            "_model_name": "ProgressStyleModel",
            "_view_count": null,
            "_view_module": "@jupyter-widgets/base",
            "_view_module_version": "1.2.0",
            "_view_name": "StyleView",
            "bar_color": null,
            "description_width": ""
          }
        },
        "958b7de6b78445368201a7ff2ac49125": {
          "model_module": "@jupyter-widgets/base",
          "model_name": "LayoutModel",
          "model_module_version": "1.2.0",
          "state": {
            "_model_module": "@jupyter-widgets/base",
            "_model_module_version": "1.2.0",
            "_model_name": "LayoutModel",
            "_view_count": null,
            "_view_module": "@jupyter-widgets/base",
            "_view_module_version": "1.2.0",
            "_view_name": "LayoutView",
            "align_content": null,
            "align_items": null,
            "align_self": null,
            "border": null,
            "bottom": null,
            "display": null,
            "flex": null,
            "flex_flow": null,
            "grid_area": null,
            "grid_auto_columns": null,
            "grid_auto_flow": null,
            "grid_auto_rows": null,
            "grid_column": null,
            "grid_gap": null,
            "grid_row": null,
            "grid_template_areas": null,
            "grid_template_columns": null,
            "grid_template_rows": null,
            "height": null,
            "justify_content": null,
            "justify_items": null,
            "left": null,
            "margin": null,
            "max_height": null,
            "max_width": null,
            "min_height": null,
            "min_width": null,
            "object_fit": null,
            "object_position": null,
            "order": null,
            "overflow": null,
            "overflow_x": null,
            "overflow_y": null,
            "padding": null,
            "right": null,
            "top": null,
            "visibility": null,
            "width": null
          }
        },
        "8b5cd35aabcb43889936083c569b4479": {
          "model_module": "@jupyter-widgets/controls",
          "model_name": "DescriptionStyleModel",
          "model_module_version": "1.5.0",
          "state": {
            "_model_module": "@jupyter-widgets/controls",
            "_model_module_version": "1.5.0",
            "_model_name": "DescriptionStyleModel",
            "_view_count": null,
            "_view_module": "@jupyter-widgets/base",
            "_view_module_version": "1.2.0",
            "_view_name": "StyleView",
            "description_width": ""
          }
        },
        "bc17e1da59594d23a29cf23e957ef9e4": {
          "model_module": "@jupyter-widgets/controls",
          "model_name": "HBoxModel",
          "model_module_version": "1.5.0",
          "state": {
            "_dom_classes": [],
            "_model_module": "@jupyter-widgets/controls",
            "_model_module_version": "1.5.0",
            "_model_name": "HBoxModel",
            "_view_count": null,
            "_view_module": "@jupyter-widgets/controls",
            "_view_module_version": "1.5.0",
            "_view_name": "HBoxView",
            "box_style": "",
            "children": [
              "IPY_MODEL_65df50a1950d4485a77b8158658ad7aa",
              "IPY_MODEL_3955ea14a58947d1923b971f51226aaf",
              "IPY_MODEL_748e1961903d4ce48ecdeff3482c47b3"
            ],
            "layout": "IPY_MODEL_a0431c638c1b4d409cb14fcbda23835f"
          }
        },
        "65df50a1950d4485a77b8158658ad7aa": {
          "model_module": "@jupyter-widgets/controls",
          "model_name": "HTMLModel",
          "model_module_version": "1.5.0",
          "state": {
            "_dom_classes": [],
            "_model_module": "@jupyter-widgets/controls",
            "_model_module_version": "1.5.0",
            "_model_name": "HTMLModel",
            "_view_count": null,
            "_view_module": "@jupyter-widgets/controls",
            "_view_module_version": "1.5.0",
            "_view_name": "HTMLView",
            "description": "",
            "description_tooltip": null,
            "layout": "IPY_MODEL_e1472d974c2443f9886a4d69e525acdb",
            "placeholder": "​",
            "style": "IPY_MODEL_a386b14f401a4868b9d1c958180c7a7c",
            "value": "1_Pooling/config.json: 100%"
          }
        },
        "3955ea14a58947d1923b971f51226aaf": {
          "model_module": "@jupyter-widgets/controls",
          "model_name": "FloatProgressModel",
          "model_module_version": "1.5.0",
          "state": {
            "_dom_classes": [],
            "_model_module": "@jupyter-widgets/controls",
            "_model_module_version": "1.5.0",
            "_model_name": "FloatProgressModel",
            "_view_count": null,
            "_view_module": "@jupyter-widgets/controls",
            "_view_module_version": "1.5.0",
            "_view_name": "ProgressView",
            "bar_style": "success",
            "description": "",
            "description_tooltip": null,
            "layout": "IPY_MODEL_52c2f96fa0874e1da3cc7cd1777cd9af",
            "max": 200,
            "min": 0,
            "orientation": "horizontal",
            "style": "IPY_MODEL_af799916fac946bc8699eba96150f410",
            "value": 200
          }
        },
        "748e1961903d4ce48ecdeff3482c47b3": {
          "model_module": "@jupyter-widgets/controls",
          "model_name": "HTMLModel",
          "model_module_version": "1.5.0",
          "state": {
            "_dom_classes": [],
            "_model_module": "@jupyter-widgets/controls",
            "_model_module_version": "1.5.0",
            "_model_name": "HTMLModel",
            "_view_count": null,
            "_view_module": "@jupyter-widgets/controls",
            "_view_module_version": "1.5.0",
            "_view_name": "HTMLView",
            "description": "",
            "description_tooltip": null,
            "layout": "IPY_MODEL_097c93f18a884cb78b1a747cfcdc304c",
            "placeholder": "​",
            "style": "IPY_MODEL_a31752f280fc4df7af9a43e25149a6d3",
            "value": " 200/200 [00:00&lt;00:00, 12.6kB/s]"
          }
        },
        "a0431c638c1b4d409cb14fcbda23835f": {
          "model_module": "@jupyter-widgets/base",
          "model_name": "LayoutModel",
          "model_module_version": "1.2.0",
          "state": {
            "_model_module": "@jupyter-widgets/base",
            "_model_module_version": "1.2.0",
            "_model_name": "LayoutModel",
            "_view_count": null,
            "_view_module": "@jupyter-widgets/base",
            "_view_module_version": "1.2.0",
            "_view_name": "LayoutView",
            "align_content": null,
            "align_items": null,
            "align_self": null,
            "border": null,
            "bottom": null,
            "display": null,
            "flex": null,
            "flex_flow": null,
            "grid_area": null,
            "grid_auto_columns": null,
            "grid_auto_flow": null,
            "grid_auto_rows": null,
            "grid_column": null,
            "grid_gap": null,
            "grid_row": null,
            "grid_template_areas": null,
            "grid_template_columns": null,
            "grid_template_rows": null,
            "height": null,
            "justify_content": null,
            "justify_items": null,
            "left": null,
            "margin": null,
            "max_height": null,
            "max_width": null,
            "min_height": null,
            "min_width": null,
            "object_fit": null,
            "object_position": null,
            "order": null,
            "overflow": null,
            "overflow_x": null,
            "overflow_y": null,
            "padding": null,
            "right": null,
            "top": null,
            "visibility": null,
            "width": null
          }
        },
        "e1472d974c2443f9886a4d69e525acdb": {
          "model_module": "@jupyter-widgets/base",
          "model_name": "LayoutModel",
          "model_module_version": "1.2.0",
          "state": {
            "_model_module": "@jupyter-widgets/base",
            "_model_module_version": "1.2.0",
            "_model_name": "LayoutModel",
            "_view_count": null,
            "_view_module": "@jupyter-widgets/base",
            "_view_module_version": "1.2.0",
            "_view_name": "LayoutView",
            "align_content": null,
            "align_items": null,
            "align_self": null,
            "border": null,
            "bottom": null,
            "display": null,
            "flex": null,
            "flex_flow": null,
            "grid_area": null,
            "grid_auto_columns": null,
            "grid_auto_flow": null,
            "grid_auto_rows": null,
            "grid_column": null,
            "grid_gap": null,
            "grid_row": null,
            "grid_template_areas": null,
            "grid_template_columns": null,
            "grid_template_rows": null,
            "height": null,
            "justify_content": null,
            "justify_items": null,
            "left": null,
            "margin": null,
            "max_height": null,
            "max_width": null,
            "min_height": null,
            "min_width": null,
            "object_fit": null,
            "object_position": null,
            "order": null,
            "overflow": null,
            "overflow_x": null,
            "overflow_y": null,
            "padding": null,
            "right": null,
            "top": null,
            "visibility": null,
            "width": null
          }
        },
        "a386b14f401a4868b9d1c958180c7a7c": {
          "model_module": "@jupyter-widgets/controls",
          "model_name": "DescriptionStyleModel",
          "model_module_version": "1.5.0",
          "state": {
            "_model_module": "@jupyter-widgets/controls",
            "_model_module_version": "1.5.0",
            "_model_name": "DescriptionStyleModel",
            "_view_count": null,
            "_view_module": "@jupyter-widgets/base",
            "_view_module_version": "1.2.0",
            "_view_name": "StyleView",
            "description_width": ""
          }
        },
        "52c2f96fa0874e1da3cc7cd1777cd9af": {
          "model_module": "@jupyter-widgets/base",
          "model_name": "LayoutModel",
          "model_module_version": "1.2.0",
          "state": {
            "_model_module": "@jupyter-widgets/base",
            "_model_module_version": "1.2.0",
            "_model_name": "LayoutModel",
            "_view_count": null,
            "_view_module": "@jupyter-widgets/base",
            "_view_module_version": "1.2.0",
            "_view_name": "LayoutView",
            "align_content": null,
            "align_items": null,
            "align_self": null,
            "border": null,
            "bottom": null,
            "display": null,
            "flex": null,
            "flex_flow": null,
            "grid_area": null,
            "grid_auto_columns": null,
            "grid_auto_flow": null,
            "grid_auto_rows": null,
            "grid_column": null,
            "grid_gap": null,
            "grid_row": null,
            "grid_template_areas": null,
            "grid_template_columns": null,
            "grid_template_rows": null,
            "height": null,
            "justify_content": null,
            "justify_items": null,
            "left": null,
            "margin": null,
            "max_height": null,
            "max_width": null,
            "min_height": null,
            "min_width": null,
            "object_fit": null,
            "object_position": null,
            "order": null,
            "overflow": null,
            "overflow_x": null,
            "overflow_y": null,
            "padding": null,
            "right": null,
            "top": null,
            "visibility": null,
            "width": null
          }
        },
        "af799916fac946bc8699eba96150f410": {
          "model_module": "@jupyter-widgets/controls",
          "model_name": "ProgressStyleModel",
          "model_module_version": "1.5.0",
          "state": {
            "_model_module": "@jupyter-widgets/controls",
            "_model_module_version": "1.5.0",
            "_model_name": "ProgressStyleModel",
            "_view_count": null,
            "_view_module": "@jupyter-widgets/base",
            "_view_module_version": "1.2.0",
            "_view_name": "StyleView",
            "bar_color": null,
            "description_width": ""
          }
        },
        "097c93f18a884cb78b1a747cfcdc304c": {
          "model_module": "@jupyter-widgets/base",
          "model_name": "LayoutModel",
          "model_module_version": "1.2.0",
          "state": {
            "_model_module": "@jupyter-widgets/base",
            "_model_module_version": "1.2.0",
            "_model_name": "LayoutModel",
            "_view_count": null,
            "_view_module": "@jupyter-widgets/base",
            "_view_module_version": "1.2.0",
            "_view_name": "LayoutView",
            "align_content": null,
            "align_items": null,
            "align_self": null,
            "border": null,
            "bottom": null,
            "display": null,
            "flex": null,
            "flex_flow": null,
            "grid_area": null,
            "grid_auto_columns": null,
            "grid_auto_flow": null,
            "grid_auto_rows": null,
            "grid_column": null,
            "grid_gap": null,
            "grid_row": null,
            "grid_template_areas": null,
            "grid_template_columns": null,
            "grid_template_rows": null,
            "height": null,
            "justify_content": null,
            "justify_items": null,
            "left": null,
            "margin": null,
            "max_height": null,
            "max_width": null,
            "min_height": null,
            "min_width": null,
            "object_fit": null,
            "object_position": null,
            "order": null,
            "overflow": null,
            "overflow_x": null,
            "overflow_y": null,
            "padding": null,
            "right": null,
            "top": null,
            "visibility": null,
            "width": null
          }
        },
        "a31752f280fc4df7af9a43e25149a6d3": {
          "model_module": "@jupyter-widgets/controls",
          "model_name": "DescriptionStyleModel",
          "model_module_version": "1.5.0",
          "state": {
            "_model_module": "@jupyter-widgets/controls",
            "_model_module_version": "1.5.0",
            "_model_name": "DescriptionStyleModel",
            "_view_count": null,
            "_view_module": "@jupyter-widgets/base",
            "_view_module_version": "1.2.0",
            "_view_name": "StyleView",
            "description_width": ""
          }
        }
      }
    }
  },
  "nbformat": 4,
  "nbformat_minor": 0
}