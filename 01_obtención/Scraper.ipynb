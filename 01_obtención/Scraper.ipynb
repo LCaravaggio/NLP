{
  "nbformat": 4,
  "nbformat_minor": 0,
  "metadata": {
    "colab": {
      "name": "Scraper.ipynb",
      "provenance": [],
      "authorship_tag": "ABX9TyNt+nGVMzXpmA04Y22gqvl8",
      "include_colab_link": true
    },
    "kernelspec": {
      "name": "python3",
      "display_name": "Python 3"
    },
    "language_info": {
      "name": "python"
    }
  },
  "cells": [
    {
      "cell_type": "markdown",
      "metadata": {
        "id": "view-in-github",
        "colab_type": "text"
      },
      "source": [
        "<a href=\"https://colab.research.google.com/github/LCaravaggio/NLP/blob/main/01_obtenci%C3%B3n/Scraper.ipynb\" target=\"_parent\"><img src=\"https://colab.research.google.com/assets/colab-badge.svg\" alt=\"Open In Colab\"/></a>"
      ]
    },
    {
      "cell_type": "code",
      "source": [
        "from bs4 import BeautifulSoup\n",
        "import requests"
      ],
      "metadata": {
        "id": "LIxyWaTjMcaW"
      },
      "execution_count": 1,
      "outputs": []
    },
    {
      "cell_type": "code",
      "execution_count": 59,
      "metadata": {
        "id": "yeFI7LlkMNdn"
      },
      "outputs": [],
      "source": [
        "page=\"https://www.lanacion.com.ar/\"\n",
        "r = requests.get(page.replace(\"\\n\",\"\"))\n",
        "soup = BeautifulSoup(r.content, 'html.parser')"
      ]
    },
    {
      "cell_type": "code",
      "source": [
        "links = soup.findAll('h2', {'class': 'com-title --xs'})\n",
        "\n",
        "for link in links:\n",
        "    print (link.find(class_=\"com-link\").get_text(strip=True))"
      ],
      "metadata": {
        "colab": {
          "base_uri": "https://localhost:8080/"
        },
        "id": "yywLXg1AM1Bn",
        "outputId": "0e754eb2-ec17-450f-d360-09b05937ced1"
      },
      "execution_count": 60,
      "outputs": [
        {
          "output_type": "stream",
          "name": "stdout",
          "text": [
            "Vialidad.Procesaron a Iguacel y él se quejó de que fuera \"justo\" cuando la Corte falló contra Cristina Kirchner\n",
            "\"Día histórico\".Una decisión de la UE en tiempo récord deja a Ucrania más cerca del bloque\n",
            "Aprobación en la Legislatura.Cúales son las nuevas reglas para estacionar que regirán en la ciudad a partir de 2022\n",
            "\"Sin retorno\".Milei versus Maslatón: quién es quién en la interna libertaria\n",
            "Freelancers.En qué conviene capacitarse para ganar en dólares desde la Argentina\n"
          ]
        }
      ]
    }
  ]
}