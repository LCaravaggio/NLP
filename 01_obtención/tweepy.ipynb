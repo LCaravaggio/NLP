{
  "nbformat": 4,
  "nbformat_minor": 0,
  "metadata": {
    "colab": {
      "name": "tweepy.ipynb",
      "provenance": [],
      "authorship_tag": "ABX9TyN83RliabG2pyF/PNc2OHph",
      "include_colab_link": true
    },
    "kernelspec": {
      "name": "python3",
      "display_name": "Python 3"
    },
    "language_info": {
      "name": "python"
    }
  },
  "cells": [
    {
      "cell_type": "markdown",
      "metadata": {
        "id": "view-in-github",
        "colab_type": "text"
      },
      "source": [
        "<a href=\"https://colab.research.google.com/github/LCaravaggio/NLP/blob/main/01_obtenci%C3%B3n/tweepy.ipynb\" target=\"_parent\"><img src=\"https://colab.research.google.com/assets/colab-badge.svg\" alt=\"Open In Colab\"/></a>"
      ]
    },
    {
      "cell_type": "code",
      "source": [
        "from google.colab import drive\n",
        "import json\n",
        "\n",
        "drive.mount('/content/drive', force_remount=True)\n",
        "with open(\"/content/drive/My Drive/twitter.json\", 'r') as f:\n",
        "    api_token= json.load(f)"
      ],
      "metadata": {
        "colab": {
          "base_uri": "https://localhost:8080/"
        },
        "id": "xnLNtbhvxYfO",
        "outputId": "76e0897e-cbeb-4e93-92c7-a94bced3f94d"
      },
      "execution_count": null,
      "outputs": [
        {
          "output_type": "stream",
          "name": "stdout",
          "text": [
            "Mounted at /content/drive\n"
          ]
        }
      ]
    },
    {
      "cell_type": "markdown",
      "source": [
        "Tweepy"
      ],
      "metadata": {
        "id": "AG5Gf1fsz6N4"
      }
    },
    {
      "cell_type": "code",
      "source": [
        "import tweepy as tw\n",
        "# your Twitter API key and API secret\n",
        "my_api_key = api_token[\"APIKey\"]\n",
        "my_api_secret = api_token[\"APIKeySecret\"]\n",
        "# authenticate\n",
        "auth = tw.OAuthHandler(my_api_key, my_api_secret)\n",
        "api = tw.API(auth, wait_on_rate_limit=True)"
      ],
      "metadata": {
        "id": "Cnxfndx7xOFS"
      },
      "execution_count": null,
      "outputs": []
    },
    {
      "cell_type": "code",
      "source": [
        "search_query = \"covid\"\n",
        "\n",
        "tweets = tw.Cursor(api.search,\n",
        "              q=search_query,\n",
        "              lang=\"es\",\n",
        "              since=\"2021-02-16\").items(50)\n",
        "# store the API responses in a list\n",
        "tweets_copy = []\n",
        "for tweet in tweets:\n",
        "    tweets_copy.append(tweet)\n",
        "    \n",
        "print(\"Total Tweets fetched:\", len(tweets_copy))"
      ],
      "metadata": {
        "colab": {
          "base_uri": "https://localhost:8080/"
        },
        "id": "QKFadhrWxDLC",
        "outputId": "996ff903-5df9-4ad4-b241-41691849e7f5"
      },
      "execution_count": null,
      "outputs": [
        {
          "output_type": "stream",
          "name": "stdout",
          "text": [
            "Total Tweets fetched: 50\n"
          ]
        }
      ]
    },
    {
      "cell_type": "code",
      "source": [
        "import pandas as pd\n",
        "# intialize the dataframe\n",
        "tweets_df = pd.DataFrame()\n",
        "# populate the dataframe\n",
        "for tweet in tweets_copy:\n",
        "    hashtags = []\n",
        "    try:\n",
        "        for hashtag in tweet.entities[\"hashtags\"]:\n",
        "            hashtags.append(hashtag[\"text\"])\n",
        "        text = api.get_status(id=tweet.id, tweet_mode='extended').full_text\n",
        "    except:\n",
        "        pass\n",
        "    tweets_df = tweets_df.append(pd.DataFrame({'user_name': tweet.user.name, \n",
        "                                               'user_location': tweet.user.location,\\\n",
        "                                               'user_description': tweet.user.description,\n",
        "                                               'user_verified': tweet.user.verified,\n",
        "                                               'date': tweet.created_at,\n",
        "                                               'text': text, \n",
        "                                               'hashtags': [hashtags if hashtags else None],\n",
        "                                               'source': tweet.source}))\n",
        "    tweets_df = tweets_df.reset_index(drop=True)\n",
        "# show the dataframe\n",
        "tweets_df.head()"
      ],
      "metadata": {
        "colab": {
          "base_uri": "https://localhost:8080/",
          "height": 337
        },
        "id": "tJRrv2Jtzqtu",
        "outputId": "e091b639-a191-4f8b-b07b-c1d90abc9fac"
      },
      "execution_count": null,
      "outputs": [
        {
          "output_type": "execute_result",
          "data": {
            "text/plain": [
              "                                      user_name    user_location  \\\n",
              "0                                ROLANDO GARCIA                    \n",
              "1                          dayana m gil galdona       Anzoategui   \n",
              "2  Policlínico Comunitario Docente 1ro De Enero                    \n",
              "3                 VictoriaCS ن #Æ🇪🇦𝐏𝐋𝐕𝐒 𝐕𝐋𝐓𝐑𝐀🇪🇦  España ((( )))    \n",
              "4                                CarlosMontas13                    \n",
              "\n",
              "                                    user_description  user_verified  \\\n",
              "0                                  TWITER AQUI ESTOY          False   \n",
              "1  TSU y Lcda en ADMON. Chavez Vive La Lucha Sigu...          False   \n",
              "2                                      #YoSoyFidel🇨🇺          False   \n",
              "3  ¡Por España! y el que quiera defenderla, honra...          False   \n",
              "4                        Antropología. Mundo causal.          False   \n",
              "\n",
              "                 date                                               text  \\\n",
              "0 2022-05-06 19:17:27  RT @arteRebeca_VR: Rébsamen, Línea 12 del Metr...   \n",
              "1 2022-05-06 19:17:24  RT @Bolipuertos_: #COVID-19 🦠 Te informamos la...   \n",
              "2 2022-05-06 19:17:23  RT @YamileRamosCord: Ellos, estuvieron 5 veces...   \n",
              "3 2022-05-06 19:17:23  RT @rsarille4: Prorrogado el pase COVID en Gal...   \n",
              "4 2022-05-06 19:17:22  No dudes, tan tangao con el covid, las cifras,...   \n",
              "\n",
              "        hashtags               source  \n",
              "0           None  Twitter for Android  \n",
              "1        [COVID]      Twitter Web App  \n",
              "2  [PinardelRío]  Twitter for Android  \n",
              "3           None  Twitter for Android  \n",
              "4           None      Twitter Web App  "
            ],
            "text/html": [
              "\n",
              "  <div id=\"df-976cec5c-a6dc-4e47-9ff0-7e8d2d59d62f\">\n",
              "    <div class=\"colab-df-container\">\n",
              "      <div>\n",
              "<style scoped>\n",
              "    .dataframe tbody tr th:only-of-type {\n",
              "        vertical-align: middle;\n",
              "    }\n",
              "\n",
              "    .dataframe tbody tr th {\n",
              "        vertical-align: top;\n",
              "    }\n",
              "\n",
              "    .dataframe thead th {\n",
              "        text-align: right;\n",
              "    }\n",
              "</style>\n",
              "<table border=\"1\" class=\"dataframe\">\n",
              "  <thead>\n",
              "    <tr style=\"text-align: right;\">\n",
              "      <th></th>\n",
              "      <th>user_name</th>\n",
              "      <th>user_location</th>\n",
              "      <th>user_description</th>\n",
              "      <th>user_verified</th>\n",
              "      <th>date</th>\n",
              "      <th>text</th>\n",
              "      <th>hashtags</th>\n",
              "      <th>source</th>\n",
              "    </tr>\n",
              "  </thead>\n",
              "  <tbody>\n",
              "    <tr>\n",
              "      <th>0</th>\n",
              "      <td>ROLANDO GARCIA</td>\n",
              "      <td></td>\n",
              "      <td>TWITER AQUI ESTOY</td>\n",
              "      <td>False</td>\n",
              "      <td>2022-05-06 19:17:27</td>\n",
              "      <td>RT @arteRebeca_VR: Rébsamen, Línea 12 del Metr...</td>\n",
              "      <td>None</td>\n",
              "      <td>Twitter for Android</td>\n",
              "    </tr>\n",
              "    <tr>\n",
              "      <th>1</th>\n",
              "      <td>dayana m gil galdona</td>\n",
              "      <td>Anzoategui</td>\n",
              "      <td>TSU y Lcda en ADMON. Chavez Vive La Lucha Sigu...</td>\n",
              "      <td>False</td>\n",
              "      <td>2022-05-06 19:17:24</td>\n",
              "      <td>RT @Bolipuertos_: #COVID-19 🦠 Te informamos la...</td>\n",
              "      <td>[COVID]</td>\n",
              "      <td>Twitter Web App</td>\n",
              "    </tr>\n",
              "    <tr>\n",
              "      <th>2</th>\n",
              "      <td>Policlínico Comunitario Docente 1ro De Enero</td>\n",
              "      <td></td>\n",
              "      <td>#YoSoyFidel🇨🇺</td>\n",
              "      <td>False</td>\n",
              "      <td>2022-05-06 19:17:23</td>\n",
              "      <td>RT @YamileRamosCord: Ellos, estuvieron 5 veces...</td>\n",
              "      <td>[PinardelRío]</td>\n",
              "      <td>Twitter for Android</td>\n",
              "    </tr>\n",
              "    <tr>\n",
              "      <th>3</th>\n",
              "      <td>VictoriaCS ن #Æ🇪🇦𝐏𝐋𝐕𝐒 𝐕𝐋𝐓𝐑𝐀🇪🇦</td>\n",
              "      <td>España ((( )))</td>\n",
              "      <td>¡Por España! y el que quiera defenderla, honra...</td>\n",
              "      <td>False</td>\n",
              "      <td>2022-05-06 19:17:23</td>\n",
              "      <td>RT @rsarille4: Prorrogado el pase COVID en Gal...</td>\n",
              "      <td>None</td>\n",
              "      <td>Twitter for Android</td>\n",
              "    </tr>\n",
              "    <tr>\n",
              "      <th>4</th>\n",
              "      <td>CarlosMontas13</td>\n",
              "      <td></td>\n",
              "      <td>Antropología. Mundo causal.</td>\n",
              "      <td>False</td>\n",
              "      <td>2022-05-06 19:17:22</td>\n",
              "      <td>No dudes, tan tangao con el covid, las cifras,...</td>\n",
              "      <td>None</td>\n",
              "      <td>Twitter Web App</td>\n",
              "    </tr>\n",
              "  </tbody>\n",
              "</table>\n",
              "</div>\n",
              "      <button class=\"colab-df-convert\" onclick=\"convertToInteractive('df-976cec5c-a6dc-4e47-9ff0-7e8d2d59d62f')\"\n",
              "              title=\"Convert this dataframe to an interactive table.\"\n",
              "              style=\"display:none;\">\n",
              "        \n",
              "  <svg xmlns=\"http://www.w3.org/2000/svg\" height=\"24px\"viewBox=\"0 0 24 24\"\n",
              "       width=\"24px\">\n",
              "    <path d=\"M0 0h24v24H0V0z\" fill=\"none\"/>\n",
              "    <path d=\"M18.56 5.44l.94 2.06.94-2.06 2.06-.94-2.06-.94-.94-2.06-.94 2.06-2.06.94zm-11 1L8.5 8.5l.94-2.06 2.06-.94-2.06-.94L8.5 2.5l-.94 2.06-2.06.94zm10 10l.94 2.06.94-2.06 2.06-.94-2.06-.94-.94-2.06-.94 2.06-2.06.94z\"/><path d=\"M17.41 7.96l-1.37-1.37c-.4-.4-.92-.59-1.43-.59-.52 0-1.04.2-1.43.59L10.3 9.45l-7.72 7.72c-.78.78-.78 2.05 0 2.83L4 21.41c.39.39.9.59 1.41.59.51 0 1.02-.2 1.41-.59l7.78-7.78 2.81-2.81c.8-.78.8-2.07 0-2.86zM5.41 20L4 18.59l7.72-7.72 1.47 1.35L5.41 20z\"/>\n",
              "  </svg>\n",
              "      </button>\n",
              "      \n",
              "  <style>\n",
              "    .colab-df-container {\n",
              "      display:flex;\n",
              "      flex-wrap:wrap;\n",
              "      gap: 12px;\n",
              "    }\n",
              "\n",
              "    .colab-df-convert {\n",
              "      background-color: #E8F0FE;\n",
              "      border: none;\n",
              "      border-radius: 50%;\n",
              "      cursor: pointer;\n",
              "      display: none;\n",
              "      fill: #1967D2;\n",
              "      height: 32px;\n",
              "      padding: 0 0 0 0;\n",
              "      width: 32px;\n",
              "    }\n",
              "\n",
              "    .colab-df-convert:hover {\n",
              "      background-color: #E2EBFA;\n",
              "      box-shadow: 0px 1px 2px rgba(60, 64, 67, 0.3), 0px 1px 3px 1px rgba(60, 64, 67, 0.15);\n",
              "      fill: #174EA6;\n",
              "    }\n",
              "\n",
              "    [theme=dark] .colab-df-convert {\n",
              "      background-color: #3B4455;\n",
              "      fill: #D2E3FC;\n",
              "    }\n",
              "\n",
              "    [theme=dark] .colab-df-convert:hover {\n",
              "      background-color: #434B5C;\n",
              "      box-shadow: 0px 1px 3px 1px rgba(0, 0, 0, 0.15);\n",
              "      filter: drop-shadow(0px 1px 2px rgba(0, 0, 0, 0.3));\n",
              "      fill: #FFFFFF;\n",
              "    }\n",
              "  </style>\n",
              "\n",
              "      <script>\n",
              "        const buttonEl =\n",
              "          document.querySelector('#df-976cec5c-a6dc-4e47-9ff0-7e8d2d59d62f button.colab-df-convert');\n",
              "        buttonEl.style.display =\n",
              "          google.colab.kernel.accessAllowed ? 'block' : 'none';\n",
              "\n",
              "        async function convertToInteractive(key) {\n",
              "          const element = document.querySelector('#df-976cec5c-a6dc-4e47-9ff0-7e8d2d59d62f');\n",
              "          const dataTable =\n",
              "            await google.colab.kernel.invokeFunction('convertToInteractive',\n",
              "                                                     [key], {});\n",
              "          if (!dataTable) return;\n",
              "\n",
              "          const docLinkHtml = 'Like what you see? Visit the ' +\n",
              "            '<a target=\"_blank\" href=https://colab.research.google.com/notebooks/data_table.ipynb>data table notebook</a>'\n",
              "            + ' to learn more about interactive tables.';\n",
              "          element.innerHTML = '';\n",
              "          dataTable['output_type'] = 'display_data';\n",
              "          await google.colab.output.renderOutput(dataTable, element);\n",
              "          const docLink = document.createElement('div');\n",
              "          docLink.innerHTML = docLinkHtml;\n",
              "          element.appendChild(docLink);\n",
              "        }\n",
              "      </script>\n",
              "    </div>\n",
              "  </div>\n",
              "  "
            ]
          },
          "metadata": {},
          "execution_count": 16
        }
      ]
    }
  ]
}
