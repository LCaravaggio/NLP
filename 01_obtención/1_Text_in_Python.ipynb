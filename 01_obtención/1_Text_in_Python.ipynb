{
  "cells": [
    {
      "cell_type": "markdown",
      "metadata": {
        "id": "view-in-github",
        "colab_type": "text"
      },
      "source": [
        "<a href=\"https://colab.research.google.com/github/LCaravaggio/NLP/blob/main/01_obtenci%C3%B3n/1_Text_in_Python.ipynb\" target=\"_parent\"><img src=\"https://colab.research.google.com/assets/colab-badge.svg\" alt=\"Open In Colab\"/></a>"
      ]
    },
    {
      "cell_type": "markdown",
      "metadata": {
        "id": "UCroo2Jzwro2"
      },
      "source": [
        "# Introducción al NLP en python"
      ]
    },
    {
      "cell_type": "code",
      "execution_count": null,
      "metadata": {
        "id": "90dqzY0jwro3"
      },
      "outputs": [],
      "source": [
        "# shift + Enter para correr una celda de Jupyter Notebook\n",
        "string = \"No puedo decir que no estoy en desacuerdo contigo.\" # se puede usar 2 comillas (\") o 1 sola (')"
      ]
    },
    {
      "cell_type": "code",
      "execution_count": null,
      "metadata": {
        "colab": {
          "base_uri": "https://localhost:8080/",
          "height": 35
        },
        "id": "wY99Ahb5wro7",
        "outputId": "a755bb4b-6552-4f49-f010-81c8cb693241"
      },
      "outputs": [
        {
          "data": {
            "text/plain": [
              "'No puedo decir que no estoy en desacuerdo contigo.'"
            ]
          },
          "execution_count": 2,
          "metadata": {
            "tags": []
          },
          "output_type": "execute_result"
        }
      ],
      "source": [
        "string"
      ]
    },
    {
      "cell_type": "code",
      "execution_count": null,
      "metadata": {
        "colab": {
          "base_uri": "https://localhost:8080/",
          "height": 35
        },
        "id": "zftiLvjbwro-",
        "outputId": "7084d9ef-a510-4d4e-ff4b-f6058d7dc6c9"
      },
      "outputs": [
        {
          "data": {
            "text/plain": [
              "str"
            ]
          },
          "execution_count": 3,
          "metadata": {
            "tags": []
          },
          "output_type": "execute_result"
        }
      ],
      "source": [
        "type(string)"
      ]
    },
    {
      "cell_type": "markdown",
      "metadata": {
        "id": "OZjPugtrwrpB"
      },
      "source": [
        "### Selección de caracteres por índices"
      ]
    },
    {
      "cell_type": "code",
      "execution_count": null,
      "metadata": {
        "colab": {
          "base_uri": "https://localhost:8080/",
          "height": 35
        },
        "id": "ac-Ypf54wrpC",
        "outputId": "51d05baf-843f-418e-eb5c-65720e5d9939"
      },
      "outputs": [
        {
          "data": {
            "text/plain": [
              "'No puedo decir que no estoy en desacuerdo contigo.'"
            ]
          },
          "execution_count": 4,
          "metadata": {
            "tags": []
          },
          "output_type": "execute_result"
        }
      ],
      "source": [
        "string"
      ]
    },
    {
      "cell_type": "code",
      "execution_count": null,
      "metadata": {
        "colab": {
          "base_uri": "https://localhost:8080/",
          "height": 35
        },
        "id": "ivGqbQ4WwrpF",
        "outputId": "a711f9c9-7dee-478b-bef4-c1d92d521048"
      },
      "outputs": [
        {
          "data": {
            "text/plain": [
              "'N'"
            ]
          },
          "execution_count": 5,
          "metadata": {
            "tags": []
          },
          "output_type": "execute_result"
        }
      ],
      "source": [
        "# selecciono el primer caracter\n",
        "string[0]"
      ]
    },
    {
      "cell_type": "code",
      "execution_count": null,
      "metadata": {
        "colab": {
          "base_uri": "https://localhost:8080/",
          "height": 35
        },
        "id": "F6HjeP5VwrpH",
        "outputId": "b3a395b1-d663-4558-c43f-08c02e98e130"
      },
      "outputs": [
        {
          "data": {
            "text/plain": [
              "'e'"
            ]
          },
          "execution_count": 6,
          "metadata": {
            "tags": []
          },
          "output_type": "execute_result"
        }
      ],
      "source": [
        "string[5]"
      ]
    },
    {
      "cell_type": "code",
      "execution_count": null,
      "metadata": {
        "colab": {
          "base_uri": "https://localhost:8080/",
          "height": 35
        },
        "id": "n0NQOiOHwrpK",
        "outputId": "65355a3d-71c7-40ab-9a7a-48ea920b9015"
      },
      "outputs": [
        {
          "data": {
            "text/plain": [
              "'No pu'"
            ]
          },
          "execution_count": 7,
          "metadata": {
            "tags": []
          },
          "output_type": "execute_result"
        }
      ],
      "source": [
        "# selecciono los primeros 5 caracteres\n",
        "string[:5]"
      ]
    },
    {
      "cell_type": "code",
      "execution_count": null,
      "metadata": {
        "colab": {
          "base_uri": "https://localhost:8080/",
          "height": 35
        },
        "id": "CriB9lWEwrpM",
        "outputId": "6a8c3b27-97a3-4fb0-8550-9bee641d65ff"
      },
      "outputs": [
        {
          "data": {
            "text/plain": [
              "'tigo.'"
            ]
          },
          "execution_count": 8,
          "metadata": {
            "tags": []
          },
          "output_type": "execute_result"
        }
      ],
      "source": [
        "# selecciono los últimos 5 caracteres\n",
        "string[-5:]"
      ]
    },
    {
      "cell_type": "code",
      "execution_count": null,
      "metadata": {
        "colab": {
          "base_uri": "https://localhost:8080/",
          "height": 35
        },
        "id": "0vcmEuyVwrpP",
        "outputId": "80e71f45-1301-4bdc-ba4c-c282486bcc44"
      },
      "outputs": [
        {
          "data": {
            "text/plain": [
              "'edo decir '"
            ]
          },
          "execution_count": 9,
          "metadata": {
            "tags": []
          },
          "output_type": "execute_result"
        }
      ],
      "source": [
        "# selecciono los caracteres entre las posiciones 5 y 15 (el de \"index=5\" se incluye, el de \"index=15\" se excluye)\n",
        "string[5:15]"
      ]
    },
    {
      "cell_type": "code",
      "execution_count": null,
      "metadata": {
        "colab": {
          "base_uri": "https://localhost:8080/",
          "height": 35
        },
        "id": "9NFeRYjOwrpT",
        "outputId": "656dd865-a097-4366-f363-4c9d5002991a"
      },
      "outputs": [
        {
          "data": {
            "text/plain": [
              "'eodcr'"
            ]
          },
          "execution_count": 10,
          "metadata": {
            "tags": []
          },
          "output_type": "execute_result"
        }
      ],
      "source": [
        "# selecciono los caracteres entre las posiciones 5 y 15 salteando de a 2\n",
        "string[5:15:2]"
      ]
    },
    {
      "cell_type": "markdown",
      "metadata": {
        "id": "qVjmCj6CwrpX"
      },
      "source": [
        "### Operaciones sobre strings"
      ]
    },
    {
      "cell_type": "code",
      "execution_count": null,
      "metadata": {
        "colab": {
          "base_uri": "https://localhost:8080/",
          "height": 35
        },
        "id": "2kOET4x7wrpY",
        "outputId": "a8c79868-6921-482f-9f4d-04e2e2638170"
      },
      "outputs": [
        {
          "data": {
            "text/plain": [
              "50"
            ]
          },
          "execution_count": 11,
          "metadata": {
            "tags": []
          },
          "output_type": "execute_result"
        }
      ],
      "source": [
        "# len() devuelve el largo del string, es decir, cuantos caracteres hay\n",
        "len(string)"
      ]
    },
    {
      "cell_type": "code",
      "execution_count": null,
      "metadata": {
        "id": "3z2aCV7ewrpa"
      },
      "outputs": [],
      "source": [
        "# corrobora si esa secuencia esta en el string\n",
        "\"estoy\" in string"
      ]
    },
    {
      "cell_type": "code",
      "execution_count": null,
      "metadata": {
        "id": "VQXbyMm4wrpc"
      },
      "outputs": [],
      "source": [
        "string2 = \"Nunca pertenecería a un club que admitiera como socio a una persona como yo.\"\n",
        "string3 = \"Fuera del perro, un libro es el mejor amigo del hombre. Dentro del perro está demasiado oscuro para leer.\""
      ]
    },
    {
      "cell_type": "code",
      "execution_count": null,
      "metadata": {
        "id": "Zt8saJzowrpf"
      },
      "outputs": [],
      "source": [
        "# el signo \"+\" concatena strings\n",
        "string + string2 + string3"
      ]
    },
    {
      "cell_type": "code",
      "execution_count": null,
      "metadata": {
        "id": "bUDVlo4lwrph"
      },
      "outputs": [],
      "source": [
        "# agrego enters entre frases (el enter se representa con \"\\n\" )\n",
        "string + \"\\n\" + string2 + \"\\n\" + string3"
      ]
    },
    {
      "cell_type": "code",
      "execution_count": null,
      "metadata": {
        "id": "IDMAoTy5wrpj"
      },
      "outputs": [],
      "source": [
        "print(string + \"\\n\" + string2 + \"\\n\" + string3)"
      ]
    },
    {
      "cell_type": "code",
      "execution_count": null,
      "metadata": {
        "id": "AFoMeGFvwrpm"
      },
      "outputs": [],
      "source": [
        "string_a = \"esta peli la vi \"\n",
        "n=100\n",
        "string_b = \" veces\"\n",
        "string_a + n + string_b # no funciona porque 'n' no es un string"
      ]
    },
    {
      "cell_type": "code",
      "execution_count": null,
      "metadata": {
        "id": "IS9tCH1awrpo"
      },
      "outputs": [],
      "source": [
        "string_a + str(n) + string_b  ## Ahora si funciona"
      ]
    },
    {
      "cell_type": "code",
      "execution_count": null,
      "metadata": {
        "id": "cuquNLGowrpr"
      },
      "outputs": [],
      "source": [
        "# concatena la secuencia tres veces\n",
        "\"peli\" * 3"
      ]
    },
    {
      "cell_type": "code",
      "execution_count": null,
      "metadata": {
        "id": "MBnZljhrwrpv"
      },
      "outputs": [],
      "source": [
        "print((\"nana \"*8+\"BATMAN\\n\")*3)"
      ]
    },
    {
      "cell_type": "markdown",
      "metadata": {
        "id": "kMEUQY3Nwrp6"
      },
      "source": [
        "### Métodos"
      ]
    },
    {
      "cell_type": "code",
      "execution_count": null,
      "metadata": {
        "id": "7d3iTwZMwrp6"
      },
      "outputs": [],
      "source": [
        "string"
      ]
    },
    {
      "cell_type": "code",
      "execution_count": null,
      "metadata": {
        "id": "fuiJwwb7wrp-"
      },
      "outputs": [],
      "source": [
        "# cuenta substrings\n",
        "string.count(\"de\")"
      ]
    },
    {
      "cell_type": "code",
      "execution_count": null,
      "metadata": {
        "id": "RGAf-jj6wrqB"
      },
      "outputs": [],
      "source": [
        "# Devuelve el menor indice donde aparece el substring (devuleve -1 si el substring no aparece)\n",
        "string.find(\"de\")"
      ]
    },
    {
      "cell_type": "code",
      "execution_count": null,
      "metadata": {
        "id": "e3iXRqOQwrqD"
      },
      "outputs": [],
      "source": [
        "string[9:(9+2)]"
      ]
    },
    {
      "cell_type": "code",
      "execution_count": null,
      "metadata": {
        "id": "re0DxVrcwrqF"
      },
      "outputs": [],
      "source": [
        "# Devuelve el MAYOR indice donde aparece el substring (devuleve -1 si el substring no aparece)\n",
        "string.rfind(\"de\")"
      ]
    },
    {
      "cell_type": "code",
      "execution_count": null,
      "metadata": {
        "id": "fd2DUcIVwrqH"
      },
      "outputs": [],
      "source": [
        "# Devuelve el string en minúscula\n",
        "string.lower()"
      ]
    },
    {
      "cell_type": "code",
      "execution_count": null,
      "metadata": {
        "id": "1tY2e_xPwrqJ"
      },
      "outputs": [],
      "source": [
        "# Devuelve el string en MAYUSCULA\n",
        "string.upper()"
      ]
    },
    {
      "cell_type": "code",
      "execution_count": null,
      "metadata": {
        "id": "3hAovVqVN_nE"
      },
      "outputs": [],
      "source": [
        "string"
      ]
    },
    {
      "cell_type": "code",
      "execution_count": null,
      "metadata": {
        "id": "-RIn8ycHwrqQ"
      },
      "outputs": [],
      "source": [
        "# devuelve True si es string es únicamente alfabetico\n",
        "string.isalpha()"
      ]
    },
    {
      "cell_type": "code",
      "execution_count": null,
      "metadata": {
        "id": "rYIYm1JawrqS"
      },
      "outputs": [],
      "source": [
        "# Que va a dar esto?\n",
        "print(\"El10\".isalpha())"
      ]
    },
    {
      "cell_type": "code",
      "execution_count": null,
      "metadata": {
        "id": "pX57muORwrqW"
      },
      "outputs": [],
      "source": [
        "print(\"El10\".isalnum())"
      ]
    },
    {
      "cell_type": "code",
      "execution_count": null,
      "metadata": {
        "id": "BLMJq9jOwrqY"
      },
      "outputs": [],
      "source": [
        "print(\"El10 \".isalnum())"
      ]
    },
    {
      "cell_type": "code",
      "execution_count": null,
      "metadata": {
        "id": "sUkQ92aIwrqa"
      },
      "outputs": [],
      "source": [
        "# .strip() remueve los caracteres \"no deseados\" iniciales y finales. \n",
        "texto = \"\\n\\n\\n no puedo decir que...        \"\n",
        "texto.strip() # Si no se especifica los \"no deseados\" son los espacios en blanco "
      ]
    },
    {
      "cell_type": "code",
      "execution_count": null,
      "metadata": {
        "id": "b7f0T5g7wrqe"
      },
      "outputs": [],
      "source": [
        "texto.strip(\"\\n. \") # se pueden especificar los \"no deseados\""
      ]
    },
    {
      "cell_type": "code",
      "execution_count": null,
      "metadata": {
        "id": "kPZevPkgwrqg"
      },
      "outputs": [],
      "source": [
        "# devuelve un string con un substring reemplazado por otro  \n",
        "string.replace(\"no\",\"SI\") # string.replace('old', 'new')"
      ]
    },
    {
      "cell_type": "code",
      "execution_count": null,
      "metadata": {
        "id": "IhyqLl0cwrqj"
      },
      "outputs": [],
      "source": [
        "string.replace(\"o\",\"\") # remueve todas las \"o\""
      ]
    },
    {
      "cell_type": "code",
      "execution_count": null,
      "metadata": {
        "id": "vwvzdPovwrql"
      },
      "outputs": [],
      "source": [
        "lista_de_frases = [\"Frases Marxistas:\",string,string2,string3]\n",
        "lista_de_frases"
      ]
    },
    {
      "cell_type": "code",
      "execution_count": null,
      "metadata": {
        "id": "gwZV5jR2wrqn"
      },
      "outputs": [],
      "source": [
        "frases_marxistas = \"\\n\\t- \".join(lista_de_frases)\n",
        "frases_marxistas # devuelve la concatenacion de una lista de strings"
      ]
    },
    {
      "cell_type": "code",
      "execution_count": null,
      "metadata": {
        "id": "3zWKg2z0wrqp"
      },
      "outputs": [],
      "source": [
        "print(frases_marxistas)"
      ]
    },
    {
      "cell_type": "code",
      "execution_count": null,
      "metadata": {
        "id": "Fsi9Uwb_wrqt"
      },
      "outputs": [],
      "source": [
        "frases_marxistas.split(\"\\n\\t- \") # Lo opuesto de .join()  (devuelve una lista de strings)"
      ]
    },
    {
      "cell_type": "markdown",
      "metadata": {
        "id": "7zcrrWnswrqw"
      },
      "source": [
        "#### para mas métodos ver:  https://docs.python.org/3/library/stdtypes.html#string-methods"
      ]
    }
  ],
  "metadata": {
    "colab": {
      "collapsed_sections": [
        "7Fjk88gdwrrp",
        "G555Edqhwrrq",
        "8xlA1qD-wrru",
        "cOtBl8CKwrrw",
        "i3w7DDJvwrry",
        "Y_YwfQpqwrr2",
        "DzfzkzOGwrr7",
        "TlcStgslwrsA",
        "PAkpCTajwrsH",
        "q871gc_uwrsM",
        "F65Yqk4uwrsu",
        "e_UqVHmiwrsy",
        "qyOxgjKawrsz",
        "yMNs9g-Twrs1"
      ],
      "name": "1_Text_in_Python.ipynb",
      "provenance": [],
      "include_colab_link": true
    },
    "kernelspec": {
      "display_name": "Python 3",
      "language": "python",
      "name": "python3"
    },
    "language_info": {
      "codemirror_mode": {
        "name": "ipython",
        "version": 3
      },
      "file_extension": ".py",
      "mimetype": "text/x-python",
      "name": "python",
      "nbconvert_exporter": "python",
      "pygments_lexer": "ipython3",
      "version": "3.7.6"
    }
  },
  "nbformat": 4,
  "nbformat_minor": 0
}