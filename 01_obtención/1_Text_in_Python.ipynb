{
  "cells": [
    {
      "cell_type": "markdown",
      "metadata": {
        "id": "view-in-github",
        "colab_type": "text"
      },
      "source": [
        "<a href=\"https://colab.research.google.com/github/LCaravaggio/NLP/blob/main/01_obtenci%C3%B3n/1_Text_in_Python.ipynb\" target=\"_parent\"><img src=\"https://colab.research.google.com/assets/colab-badge.svg\" alt=\"Open In Colab\"/></a>"
      ]
    },
    {
      "cell_type": "markdown",
      "metadata": {
        "id": "UCroo2Jzwro2"
      },
      "source": [
        "# Introducción al NLP en python"
      ]
    },
    {
      "cell_type": "code",
      "execution_count": 4,
      "metadata": {
        "id": "90dqzY0jwro3"
      },
      "outputs": [],
      "source": [
        "# shift + Enter para correr una celda de Jupyter Notebook\n",
        "string = \"No puedo decir que no estoy en desacuerdo contigo.\" # se puede usar 2 comillas (\") o 1 sola (')"
      ]
    },
    {
      "cell_type": "code",
      "execution_count": 5,
      "metadata": {
        "colab": {
          "base_uri": "https://localhost:8080/",
          "height": 35
        },
        "id": "wY99Ahb5wro7",
        "outputId": "e438fb56-d7cb-4b9b-d5df-6e638dbe1c87"
      },
      "outputs": [
        {
          "output_type": "execute_result",
          "data": {
            "text/plain": [
              "'No puedo decir que no estoy en desacuerdo contigo.'"
            ],
            "application/vnd.google.colaboratory.intrinsic+json": {
              "type": "string"
            }
          },
          "metadata": {},
          "execution_count": 5
        }
      ],
      "source": [
        "string"
      ]
    },
    {
      "cell_type": "code",
      "execution_count": 6,
      "metadata": {
        "colab": {
          "base_uri": "https://localhost:8080/"
        },
        "id": "zftiLvjbwro-",
        "outputId": "001af7d1-8263-4aff-8089-13008bce0008"
      },
      "outputs": [
        {
          "output_type": "execute_result",
          "data": {
            "text/plain": [
              "str"
            ]
          },
          "metadata": {},
          "execution_count": 6
        }
      ],
      "source": [
        "type(string)"
      ]
    },
    {
      "cell_type": "markdown",
      "metadata": {
        "id": "OZjPugtrwrpB"
      },
      "source": [
        "### Selección de caracteres por índices"
      ]
    },
    {
      "cell_type": "code",
      "execution_count": 7,
      "metadata": {
        "colab": {
          "base_uri": "https://localhost:8080/",
          "height": 35
        },
        "id": "ac-Ypf54wrpC",
        "outputId": "df544b34-bb87-4f59-b654-f33b27d7f8af"
      },
      "outputs": [
        {
          "output_type": "execute_result",
          "data": {
            "text/plain": [
              "'No puedo decir que no estoy en desacuerdo contigo.'"
            ],
            "application/vnd.google.colaboratory.intrinsic+json": {
              "type": "string"
            }
          },
          "metadata": {},
          "execution_count": 7
        }
      ],
      "source": [
        "string"
      ]
    },
    {
      "cell_type": "code",
      "execution_count": 8,
      "metadata": {
        "colab": {
          "base_uri": "https://localhost:8080/",
          "height": 35
        },
        "id": "ivGqbQ4WwrpF",
        "outputId": "e8a61381-83f1-4fdb-e3ce-69aea5e3c2ab"
      },
      "outputs": [
        {
          "output_type": "execute_result",
          "data": {
            "text/plain": [
              "'N'"
            ],
            "application/vnd.google.colaboratory.intrinsic+json": {
              "type": "string"
            }
          },
          "metadata": {},
          "execution_count": 8
        }
      ],
      "source": [
        "# selecciono el primer caracter\n",
        "string[0]"
      ]
    },
    {
      "cell_type": "code",
      "execution_count": 9,
      "metadata": {
        "colab": {
          "base_uri": "https://localhost:8080/",
          "height": 35
        },
        "id": "F6HjeP5VwrpH",
        "outputId": "44231cb0-a6e7-47a9-9fa6-b04e603bdfd2"
      },
      "outputs": [
        {
          "output_type": "execute_result",
          "data": {
            "text/plain": [
              "'e'"
            ],
            "application/vnd.google.colaboratory.intrinsic+json": {
              "type": "string"
            }
          },
          "metadata": {},
          "execution_count": 9
        }
      ],
      "source": [
        "string[5]"
      ]
    },
    {
      "cell_type": "code",
      "execution_count": 10,
      "metadata": {
        "colab": {
          "base_uri": "https://localhost:8080/",
          "height": 35
        },
        "id": "n0NQOiOHwrpK",
        "outputId": "e922cb16-bfb9-4eb6-958b-1f94abd7e856"
      },
      "outputs": [
        {
          "output_type": "execute_result",
          "data": {
            "text/plain": [
              "'No pu'"
            ],
            "application/vnd.google.colaboratory.intrinsic+json": {
              "type": "string"
            }
          },
          "metadata": {},
          "execution_count": 10
        }
      ],
      "source": [
        "# selecciono los primeros 5 caracteres\n",
        "string[:5]"
      ]
    },
    {
      "cell_type": "code",
      "execution_count": 11,
      "metadata": {
        "colab": {
          "base_uri": "https://localhost:8080/",
          "height": 35
        },
        "id": "CriB9lWEwrpM",
        "outputId": "e7fc0324-0a77-4802-e337-dd6738f27bce"
      },
      "outputs": [
        {
          "output_type": "execute_result",
          "data": {
            "text/plain": [
              "'tigo.'"
            ],
            "application/vnd.google.colaboratory.intrinsic+json": {
              "type": "string"
            }
          },
          "metadata": {},
          "execution_count": 11
        }
      ],
      "source": [
        "# selecciono los últimos 5 caracteres\n",
        "string[-5:]"
      ]
    },
    {
      "cell_type": "code",
      "execution_count": 12,
      "metadata": {
        "colab": {
          "base_uri": "https://localhost:8080/",
          "height": 35
        },
        "id": "0vcmEuyVwrpP",
        "outputId": "7c982b79-ded2-4173-bbda-1d986331075d"
      },
      "outputs": [
        {
          "output_type": "execute_result",
          "data": {
            "text/plain": [
              "'edo decir '"
            ],
            "application/vnd.google.colaboratory.intrinsic+json": {
              "type": "string"
            }
          },
          "metadata": {},
          "execution_count": 12
        }
      ],
      "source": [
        "# selecciono los caracteres entre las posiciones 5 y 15 (el de \"index=5\" se incluye, el de \"index=15\" se excluye)\n",
        "string[5:15]"
      ]
    },
    {
      "cell_type": "code",
      "execution_count": 13,
      "metadata": {
        "colab": {
          "base_uri": "https://localhost:8080/",
          "height": 35
        },
        "id": "9NFeRYjOwrpT",
        "outputId": "21be6d7d-d1fc-49aa-abd8-cfb3536bdc06"
      },
      "outputs": [
        {
          "output_type": "execute_result",
          "data": {
            "text/plain": [
              "'eodcr'"
            ],
            "application/vnd.google.colaboratory.intrinsic+json": {
              "type": "string"
            }
          },
          "metadata": {},
          "execution_count": 13
        }
      ],
      "source": [
        "# selecciono los caracteres entre las posiciones 5 y 15 salteando de a 2\n",
        "string[5:15:2]"
      ]
    },
    {
      "cell_type": "markdown",
      "metadata": {
        "id": "qVjmCj6CwrpX"
      },
      "source": [
        "### Operaciones sobre strings"
      ]
    },
    {
      "cell_type": "code",
      "execution_count": 14,
      "metadata": {
        "colab": {
          "base_uri": "https://localhost:8080/"
        },
        "id": "2kOET4x7wrpY",
        "outputId": "e28736e9-7acc-40ac-b28f-e0af6787cc8a"
      },
      "outputs": [
        {
          "output_type": "execute_result",
          "data": {
            "text/plain": [
              "50"
            ]
          },
          "metadata": {},
          "execution_count": 14
        }
      ],
      "source": [
        "# len() devuelve el largo del string, es decir, cuantos caracteres hay\n",
        "len(string)"
      ]
    },
    {
      "cell_type": "code",
      "execution_count": 15,
      "metadata": {
        "id": "3z2aCV7ewrpa",
        "outputId": "3f515eb4-e2a6-44af-d729-687d9c9107ac",
        "colab": {
          "base_uri": "https://localhost:8080/"
        }
      },
      "outputs": [
        {
          "output_type": "execute_result",
          "data": {
            "text/plain": [
              "True"
            ]
          },
          "metadata": {},
          "execution_count": 15
        }
      ],
      "source": [
        "# corrobora si esa secuencia esta en el string\n",
        "\"estoy\" in string"
      ]
    },
    {
      "cell_type": "code",
      "execution_count": 16,
      "metadata": {
        "id": "VQXbyMm4wrpc"
      },
      "outputs": [],
      "source": [
        "string2 = \"Nunca pertenecería a un club que admitiera como socio a una persona como yo.\"\n",
        "string3 = \"Fuera del perro, un libro es el mejor amigo del hombre. Dentro del perro está demasiado oscuro para leer.\""
      ]
    },
    {
      "cell_type": "code",
      "execution_count": 17,
      "metadata": {
        "id": "Zt8saJzowrpf",
        "outputId": "6b7139cb-b753-4c6e-a42b-26f1b96e1e04",
        "colab": {
          "base_uri": "https://localhost:8080/",
          "height": 53
        }
      },
      "outputs": [
        {
          "output_type": "execute_result",
          "data": {
            "text/plain": [
              "'No puedo decir que no estoy en desacuerdo contigo.Nunca pertenecería a un club que admitiera como socio a una persona como yo.Fuera del perro, un libro es el mejor amigo del hombre. Dentro del perro está demasiado oscuro para leer.'"
            ],
            "application/vnd.google.colaboratory.intrinsic+json": {
              "type": "string"
            }
          },
          "metadata": {},
          "execution_count": 17
        }
      ],
      "source": [
        "# el signo \"+\" concatena strings\n",
        "string + string2 + string3"
      ]
    },
    {
      "cell_type": "code",
      "execution_count": 18,
      "metadata": {
        "id": "bUDVlo4lwrph",
        "outputId": "1ca3609f-f11f-440f-bf86-5f7aa64e6fd1",
        "colab": {
          "base_uri": "https://localhost:8080/",
          "height": 53
        }
      },
      "outputs": [
        {
          "output_type": "execute_result",
          "data": {
            "text/plain": [
              "'No puedo decir que no estoy en desacuerdo contigo.\\nNunca pertenecería a un club que admitiera como socio a una persona como yo.\\nFuera del perro, un libro es el mejor amigo del hombre. Dentro del perro está demasiado oscuro para leer.'"
            ],
            "application/vnd.google.colaboratory.intrinsic+json": {
              "type": "string"
            }
          },
          "metadata": {},
          "execution_count": 18
        }
      ],
      "source": [
        "# agrego enters entre frases (el enter se representa con \"\\n\" )\n",
        "string + \"\\n\" + string2 + \"\\n\" + string3"
      ]
    },
    {
      "cell_type": "code",
      "execution_count": 19,
      "metadata": {
        "id": "IDMAoTy5wrpj",
        "outputId": "e56d7381-a465-4cd7-bc9c-b740ccb8b55b",
        "colab": {
          "base_uri": "https://localhost:8080/"
        }
      },
      "outputs": [
        {
          "output_type": "stream",
          "name": "stdout",
          "text": [
            "No puedo decir que no estoy en desacuerdo contigo.\n",
            "Nunca pertenecería a un club que admitiera como socio a una persona como yo.\n",
            "Fuera del perro, un libro es el mejor amigo del hombre. Dentro del perro está demasiado oscuro para leer.\n"
          ]
        }
      ],
      "source": [
        "print(string + \"\\n\" + string2 + \"\\n\" + string3)"
      ]
    },
    {
      "cell_type": "code",
      "execution_count": 20,
      "metadata": {
        "id": "AFoMeGFvwrpm",
        "outputId": "b42932d6-5ca6-4dad-957d-1b985fa7110f",
        "colab": {
          "base_uri": "https://localhost:8080/",
          "height": 176
        }
      },
      "outputs": [
        {
          "output_type": "error",
          "ename": "TypeError",
          "evalue": "can only concatenate str (not \"int\") to str",
          "traceback": [
            "\u001b[0;31m---------------------------------------------------------------------------\u001b[0m",
            "\u001b[0;31mTypeError\u001b[0m                                 Traceback (most recent call last)",
            "\u001b[0;32m<ipython-input-20-4c97144017e8>\u001b[0m in \u001b[0;36m<cell line: 4>\u001b[0;34m()\u001b[0m\n\u001b[1;32m      2\u001b[0m \u001b[0mn\u001b[0m\u001b[0;34m=\u001b[0m\u001b[0;36m100\u001b[0m\u001b[0;34m\u001b[0m\u001b[0;34m\u001b[0m\u001b[0m\n\u001b[1;32m      3\u001b[0m \u001b[0mstring_b\u001b[0m \u001b[0;34m=\u001b[0m \u001b[0;34m\" veces\"\u001b[0m\u001b[0;34m\u001b[0m\u001b[0;34m\u001b[0m\u001b[0m\n\u001b[0;32m----> 4\u001b[0;31m \u001b[0mstring_a\u001b[0m \u001b[0;34m+\u001b[0m \u001b[0mn\u001b[0m \u001b[0;34m+\u001b[0m \u001b[0mstring_b\u001b[0m \u001b[0;31m# no funciona porque 'n' no es un string\u001b[0m\u001b[0;34m\u001b[0m\u001b[0;34m\u001b[0m\u001b[0m\n\u001b[0m",
            "\u001b[0;31mTypeError\u001b[0m: can only concatenate str (not \"int\") to str"
          ]
        }
      ],
      "source": [
        "string_a = \"esta peli la vi \"\n",
        "n=100\n",
        "string_b = \" veces\"\n",
        "string_a + n + string_b # no funciona porque 'n' no es un string"
      ]
    },
    {
      "cell_type": "code",
      "execution_count": 21,
      "metadata": {
        "id": "IS9tCH1awrpo",
        "outputId": "5050c407-7f59-4c80-af4a-ef0dc22a3229",
        "colab": {
          "base_uri": "https://localhost:8080/",
          "height": 35
        }
      },
      "outputs": [
        {
          "output_type": "execute_result",
          "data": {
            "text/plain": [
              "'esta peli la vi 100 veces'"
            ],
            "application/vnd.google.colaboratory.intrinsic+json": {
              "type": "string"
            }
          },
          "metadata": {},
          "execution_count": 21
        }
      ],
      "source": [
        "string_a + str(n) + string_b  ## Ahora si funciona"
      ]
    },
    {
      "cell_type": "code",
      "execution_count": 22,
      "metadata": {
        "id": "cuquNLGowrpr",
        "outputId": "0bd7c61f-dca7-42da-9dce-804ad7bd49f8",
        "colab": {
          "base_uri": "https://localhost:8080/",
          "height": 35
        }
      },
      "outputs": [
        {
          "output_type": "execute_result",
          "data": {
            "text/plain": [
              "'pelipelipeli'"
            ],
            "application/vnd.google.colaboratory.intrinsic+json": {
              "type": "string"
            }
          },
          "metadata": {},
          "execution_count": 22
        }
      ],
      "source": [
        "# concatena la secuencia tres veces\n",
        "\"peli\" * 3"
      ]
    },
    {
      "cell_type": "code",
      "execution_count": 23,
      "metadata": {
        "id": "MBnZljhrwrpv",
        "outputId": "8d92cb7f-5d60-4471-d295-23f29d9a4dfe",
        "colab": {
          "base_uri": "https://localhost:8080/"
        }
      },
      "outputs": [
        {
          "output_type": "stream",
          "name": "stdout",
          "text": [
            "nana nana nana nana nana nana nana nana BATMAN\n",
            "nana nana nana nana nana nana nana nana BATMAN\n",
            "nana nana nana nana nana nana nana nana BATMAN\n",
            "\n"
          ]
        }
      ],
      "source": [
        "print((\"nana \"*8+\"BATMAN\\n\")*3)"
      ]
    },
    {
      "cell_type": "markdown",
      "metadata": {
        "id": "kMEUQY3Nwrp6"
      },
      "source": [
        "### Métodos"
      ]
    },
    {
      "cell_type": "code",
      "execution_count": 24,
      "metadata": {
        "id": "7d3iTwZMwrp6",
        "outputId": "c23e553b-5b15-4d22-9f28-4dfd667e89f7",
        "colab": {
          "base_uri": "https://localhost:8080/",
          "height": 35
        }
      },
      "outputs": [
        {
          "output_type": "execute_result",
          "data": {
            "text/plain": [
              "'No puedo decir que no estoy en desacuerdo contigo.'"
            ],
            "application/vnd.google.colaboratory.intrinsic+json": {
              "type": "string"
            }
          },
          "metadata": {},
          "execution_count": 24
        }
      ],
      "source": [
        "string"
      ]
    },
    {
      "cell_type": "code",
      "execution_count": 25,
      "metadata": {
        "id": "fuiJwwb7wrp-",
        "outputId": "1bf405cf-d010-47ae-dadd-44b875119049",
        "colab": {
          "base_uri": "https://localhost:8080/"
        }
      },
      "outputs": [
        {
          "output_type": "execute_result",
          "data": {
            "text/plain": [
              "2"
            ]
          },
          "metadata": {},
          "execution_count": 25
        }
      ],
      "source": [
        "# cuenta substrings\n",
        "string.count(\"de\")"
      ]
    },
    {
      "cell_type": "code",
      "execution_count": 26,
      "metadata": {
        "id": "RGAf-jj6wrqB",
        "outputId": "e9a5c21d-a143-4a77-9ec4-eca9f3db6d2d",
        "colab": {
          "base_uri": "https://localhost:8080/"
        }
      },
      "outputs": [
        {
          "output_type": "execute_result",
          "data": {
            "text/plain": [
              "9"
            ]
          },
          "metadata": {},
          "execution_count": 26
        }
      ],
      "source": [
        "# Devuelve el menor indice donde aparece el substring (devuleve -1 si el substring no aparece)\n",
        "string.find(\"de\")"
      ]
    },
    {
      "cell_type": "code",
      "execution_count": 27,
      "metadata": {
        "id": "e3iXRqOQwrqD",
        "outputId": "6a07e98a-7046-4803-812b-17e5b9312c7a",
        "colab": {
          "base_uri": "https://localhost:8080/",
          "height": 35
        }
      },
      "outputs": [
        {
          "output_type": "execute_result",
          "data": {
            "text/plain": [
              "'de'"
            ],
            "application/vnd.google.colaboratory.intrinsic+json": {
              "type": "string"
            }
          },
          "metadata": {},
          "execution_count": 27
        }
      ],
      "source": [
        "string[9:(9+2)]"
      ]
    },
    {
      "cell_type": "code",
      "execution_count": 28,
      "metadata": {
        "id": "re0DxVrcwrqF",
        "outputId": "d7ce4863-f5c0-44ec-ce8f-7d4d8ba32688",
        "colab": {
          "base_uri": "https://localhost:8080/"
        }
      },
      "outputs": [
        {
          "output_type": "execute_result",
          "data": {
            "text/plain": [
              "31"
            ]
          },
          "metadata": {},
          "execution_count": 28
        }
      ],
      "source": [
        "# Devuelve el MAYOR indice donde aparece el substring (devuleve -1 si el substring no aparece)\n",
        "string.rfind(\"de\")"
      ]
    },
    {
      "cell_type": "code",
      "execution_count": 29,
      "metadata": {
        "id": "fd2DUcIVwrqH",
        "outputId": "93987c13-56d6-4612-9015-50a25941c647",
        "colab": {
          "base_uri": "https://localhost:8080/",
          "height": 35
        }
      },
      "outputs": [
        {
          "output_type": "execute_result",
          "data": {
            "text/plain": [
              "'no puedo decir que no estoy en desacuerdo contigo.'"
            ],
            "application/vnd.google.colaboratory.intrinsic+json": {
              "type": "string"
            }
          },
          "metadata": {},
          "execution_count": 29
        }
      ],
      "source": [
        "# Devuelve el string en minúscula\n",
        "string.lower()"
      ]
    },
    {
      "cell_type": "code",
      "execution_count": 30,
      "metadata": {
        "id": "1tY2e_xPwrqJ",
        "outputId": "328e66da-ee8e-471c-b344-e2dfd04dcd80",
        "colab": {
          "base_uri": "https://localhost:8080/",
          "height": 35
        }
      },
      "outputs": [
        {
          "output_type": "execute_result",
          "data": {
            "text/plain": [
              "'NO PUEDO DECIR QUE NO ESTOY EN DESACUERDO CONTIGO.'"
            ],
            "application/vnd.google.colaboratory.intrinsic+json": {
              "type": "string"
            }
          },
          "metadata": {},
          "execution_count": 30
        }
      ],
      "source": [
        "# Devuelve el string en MAYUSCULA\n",
        "string.upper()"
      ]
    },
    {
      "cell_type": "code",
      "execution_count": 31,
      "metadata": {
        "id": "3hAovVqVN_nE",
        "outputId": "98bf37f9-b73f-48ef-a627-985ae31377fd",
        "colab": {
          "base_uri": "https://localhost:8080/",
          "height": 35
        }
      },
      "outputs": [
        {
          "output_type": "execute_result",
          "data": {
            "text/plain": [
              "'No puedo decir que no estoy en desacuerdo contigo.'"
            ],
            "application/vnd.google.colaboratory.intrinsic+json": {
              "type": "string"
            }
          },
          "metadata": {},
          "execution_count": 31
        }
      ],
      "source": [
        "string"
      ]
    },
    {
      "cell_type": "code",
      "execution_count": 32,
      "metadata": {
        "id": "-RIn8ycHwrqQ",
        "outputId": "cd6d7574-a223-4e24-c88e-5c6e2e1eeb61",
        "colab": {
          "base_uri": "https://localhost:8080/"
        }
      },
      "outputs": [
        {
          "output_type": "execute_result",
          "data": {
            "text/plain": [
              "False"
            ]
          },
          "metadata": {},
          "execution_count": 32
        }
      ],
      "source": [
        "# devuelve True si es string es únicamente alfabetico\n",
        "string.isalpha()"
      ]
    },
    {
      "cell_type": "code",
      "execution_count": 33,
      "metadata": {
        "id": "rYIYm1JawrqS",
        "outputId": "af258c60-5273-41d7-d14f-4a190e3776a7",
        "colab": {
          "base_uri": "https://localhost:8080/"
        }
      },
      "outputs": [
        {
          "output_type": "stream",
          "name": "stdout",
          "text": [
            "False\n"
          ]
        }
      ],
      "source": [
        "# Que va a dar esto?\n",
        "print(\"El10\".isalpha())"
      ]
    },
    {
      "cell_type": "code",
      "source": [
        "print(\"El\".isalpha())"
      ],
      "metadata": {
        "id": "FW_GuSt7FUcc",
        "outputId": "622c4d27-6288-4a0f-ece7-cd747b4e82c3",
        "colab": {
          "base_uri": "https://localhost:8080/"
        }
      },
      "execution_count": 34,
      "outputs": [
        {
          "output_type": "stream",
          "name": "stdout",
          "text": [
            "True\n"
          ]
        }
      ]
    },
    {
      "cell_type": "code",
      "source": [
        "# devuelve True si es string es alfanumérico\n",
        "string.isalnum()"
      ],
      "metadata": {
        "id": "6yNRByDbFMwi",
        "outputId": "bb5a2db9-238b-4818-abc9-41d74adea436",
        "colab": {
          "base_uri": "https://localhost:8080/"
        }
      },
      "execution_count": 35,
      "outputs": [
        {
          "output_type": "execute_result",
          "data": {
            "text/plain": [
              "False"
            ]
          },
          "metadata": {},
          "execution_count": 35
        }
      ]
    },
    {
      "cell_type": "code",
      "execution_count": 36,
      "metadata": {
        "id": "pX57muORwrqW",
        "outputId": "57976f2e-2873-4401-9b06-81063bfc236e",
        "colab": {
          "base_uri": "https://localhost:8080/"
        }
      },
      "outputs": [
        {
          "output_type": "stream",
          "name": "stdout",
          "text": [
            "True\n"
          ]
        }
      ],
      "source": [
        "print(\"El10\".isalnum())"
      ]
    },
    {
      "cell_type": "code",
      "execution_count": 37,
      "metadata": {
        "id": "BLMJq9jOwrqY",
        "outputId": "ef3bc741-7679-4be4-b107-799c81d1f33e",
        "colab": {
          "base_uri": "https://localhost:8080/"
        }
      },
      "outputs": [
        {
          "output_type": "stream",
          "name": "stdout",
          "text": [
            "False\n"
          ]
        }
      ],
      "source": [
        "print(\"El10 \".isalnum())"
      ]
    },
    {
      "cell_type": "code",
      "execution_count": 38,
      "metadata": {
        "id": "sUkQ92aIwrqa",
        "outputId": "e60bf4b3-8360-44e6-d13e-d6643a7630b7",
        "colab": {
          "base_uri": "https://localhost:8080/",
          "height": 35
        }
      },
      "outputs": [
        {
          "output_type": "execute_result",
          "data": {
            "text/plain": [
              "'no puedo decir que...'"
            ],
            "application/vnd.google.colaboratory.intrinsic+json": {
              "type": "string"
            }
          },
          "metadata": {},
          "execution_count": 38
        }
      ],
      "source": [
        "# .strip() remueve los caracteres \"no deseados\" iniciales y finales.\n",
        "texto = \"\\n\\n\\n no puedo decir que...        \"\n",
        "texto.strip() # Si no se especifica los \"no deseados\" son los espacios en blanco"
      ]
    },
    {
      "cell_type": "code",
      "execution_count": 39,
      "metadata": {
        "id": "b7f0T5g7wrqe",
        "outputId": "31a8da4f-bb1f-4ab5-d7c0-cd851ce82e93",
        "colab": {
          "base_uri": "https://localhost:8080/",
          "height": 35
        }
      },
      "outputs": [
        {
          "output_type": "execute_result",
          "data": {
            "text/plain": [
              "'no puedo decir que'"
            ],
            "application/vnd.google.colaboratory.intrinsic+json": {
              "type": "string"
            }
          },
          "metadata": {},
          "execution_count": 39
        }
      ],
      "source": [
        "texto.strip(\"\\n. \") # se pueden especificar los \"no deseados\""
      ]
    },
    {
      "cell_type": "code",
      "execution_count": 40,
      "metadata": {
        "id": "kPZevPkgwrqg",
        "outputId": "79082637-66d8-464d-94c9-041f2a0e4e4d",
        "colab": {
          "base_uri": "https://localhost:8080/",
          "height": 35
        }
      },
      "outputs": [
        {
          "output_type": "execute_result",
          "data": {
            "text/plain": [
              "'No puedo decir que SI estoy en desacuerdo contigo.'"
            ],
            "application/vnd.google.colaboratory.intrinsic+json": {
              "type": "string"
            }
          },
          "metadata": {},
          "execution_count": 40
        }
      ],
      "source": [
        "# devuelve un string con un substring reemplazado por otro\n",
        "string.replace(\"no\",\"SI\") # string.replace('old', 'new')"
      ]
    },
    {
      "cell_type": "code",
      "execution_count": 41,
      "metadata": {
        "id": "IhyqLl0cwrqj",
        "outputId": "8337110e-9811-47aa-a148-7de115a90af8",
        "colab": {
          "base_uri": "https://localhost:8080/",
          "height": 35
        }
      },
      "outputs": [
        {
          "output_type": "execute_result",
          "data": {
            "text/plain": [
              "'N pued decir que n esty en desacuerd cntig.'"
            ],
            "application/vnd.google.colaboratory.intrinsic+json": {
              "type": "string"
            }
          },
          "metadata": {},
          "execution_count": 41
        }
      ],
      "source": [
        "string.replace(\"o\",\"\") # remueve todas las \"o\""
      ]
    },
    {
      "cell_type": "code",
      "execution_count": 42,
      "metadata": {
        "id": "vwvzdPovwrql",
        "outputId": "8604c0e6-a468-4710-cbd5-af62e89a4f23",
        "colab": {
          "base_uri": "https://localhost:8080/"
        }
      },
      "outputs": [
        {
          "output_type": "execute_result",
          "data": {
            "text/plain": [
              "['Frases Marxistas:',\n",
              " 'No puedo decir que no estoy en desacuerdo contigo.',\n",
              " 'Nunca pertenecería a un club que admitiera como socio a una persona como yo.',\n",
              " 'Fuera del perro, un libro es el mejor amigo del hombre. Dentro del perro está demasiado oscuro para leer.']"
            ]
          },
          "metadata": {},
          "execution_count": 42
        }
      ],
      "source": [
        "lista_de_frases = [\"Frases Marxistas:\",string,string2,string3]\n",
        "lista_de_frases"
      ]
    },
    {
      "cell_type": "code",
      "execution_count": 43,
      "metadata": {
        "id": "gwZV5jR2wrqn",
        "outputId": "49ad64c8-1e51-49a5-8f30-1d5dc241e46e",
        "colab": {
          "base_uri": "https://localhost:8080/",
          "height": 53
        }
      },
      "outputs": [
        {
          "output_type": "execute_result",
          "data": {
            "text/plain": [
              "'Frases Marxistas:\\n\\t- No puedo decir que no estoy en desacuerdo contigo.\\n\\t- Nunca pertenecería a un club que admitiera como socio a una persona como yo.\\n\\t- Fuera del perro, un libro es el mejor amigo del hombre. Dentro del perro está demasiado oscuro para leer.'"
            ],
            "application/vnd.google.colaboratory.intrinsic+json": {
              "type": "string"
            }
          },
          "metadata": {},
          "execution_count": 43
        }
      ],
      "source": [
        "frases_marxistas = \"\\n\\t- \".join(lista_de_frases)\n",
        "frases_marxistas # devuelve la concatenacion de una lista de strings"
      ]
    },
    {
      "cell_type": "code",
      "execution_count": 44,
      "metadata": {
        "id": "3zWKg2z0wrqp",
        "outputId": "4c6b145c-dcf2-4f94-f118-8c9d74790876",
        "colab": {
          "base_uri": "https://localhost:8080/"
        }
      },
      "outputs": [
        {
          "output_type": "stream",
          "name": "stdout",
          "text": [
            "Frases Marxistas:\n",
            "\t- No puedo decir que no estoy en desacuerdo contigo.\n",
            "\t- Nunca pertenecería a un club que admitiera como socio a una persona como yo.\n",
            "\t- Fuera del perro, un libro es el mejor amigo del hombre. Dentro del perro está demasiado oscuro para leer.\n"
          ]
        }
      ],
      "source": [
        "print(frases_marxistas)"
      ]
    },
    {
      "cell_type": "code",
      "execution_count": 45,
      "metadata": {
        "id": "Fsi9Uwb_wrqt",
        "outputId": "4ec15d14-c596-4476-e5db-8b5effec067e",
        "colab": {
          "base_uri": "https://localhost:8080/"
        }
      },
      "outputs": [
        {
          "output_type": "execute_result",
          "data": {
            "text/plain": [
              "['Frases Marxistas:',\n",
              " 'No puedo decir que no estoy en desacuerdo contigo.',\n",
              " 'Nunca pertenecería a un club que admitiera como socio a una persona como yo.',\n",
              " 'Fuera del perro, un libro es el mejor amigo del hombre. Dentro del perro está demasiado oscuro para leer.']"
            ]
          },
          "metadata": {},
          "execution_count": 45
        }
      ],
      "source": [
        "frases_marxistas.split(\"\\n\\t- \") # Lo opuesto de .join()  (devuelve una lista de strings)"
      ]
    },
    {
      "cell_type": "markdown",
      "metadata": {
        "id": "7zcrrWnswrqw"
      },
      "source": [
        "#### para mas métodos ver:  https://docs.python.org/3/library/stdtypes.html#string-methods"
      ]
    }
  ],
  "metadata": {
    "colab": {
      "collapsed_sections": [
        "7Fjk88gdwrrp",
        "G555Edqhwrrq",
        "8xlA1qD-wrru",
        "cOtBl8CKwrrw",
        "i3w7DDJvwrry",
        "Y_YwfQpqwrr2",
        "DzfzkzOGwrr7",
        "TlcStgslwrsA",
        "PAkpCTajwrsH",
        "q871gc_uwrsM",
        "F65Yqk4uwrsu",
        "e_UqVHmiwrsy",
        "qyOxgjKawrsz",
        "yMNs9g-Twrs1"
      ],
      "name": "1_Text_in_Python.ipynb",
      "provenance": [],
      "include_colab_link": true
    },
    "kernelspec": {
      "display_name": "Python 3",
      "language": "python",
      "name": "python3"
    },
    "language_info": {
      "codemirror_mode": {
        "name": "ipython",
        "version": 3
      },
      "file_extension": ".py",
      "mimetype": "text/x-python",
      "name": "python",
      "nbconvert_exporter": "python",
      "pygments_lexer": "ipython3",
      "version": "3.7.6"
    }
  },
  "nbformat": 4,
  "nbformat_minor": 0
}