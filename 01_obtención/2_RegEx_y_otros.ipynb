{
  "nbformat": 4,
  "nbformat_minor": 0,
  "metadata": {
    "colab": {
      "name": "2_RegEx y otros.ipynb",
      "provenance": [],
      "authorship_tag": "ABX9TyP6cF5kspx40ZTTApZoWrX5",
      "include_colab_link": true
    },
    "kernelspec": {
      "name": "python3",
      "display_name": "Python 3"
    },
    "language_info": {
      "name": "python"
    }
  },
  "cells": [
    {
      "cell_type": "markdown",
      "metadata": {
        "id": "view-in-github",
        "colab_type": "text"
      },
      "source": [
        "<a href=\"https://colab.research.google.com/github/LCaravaggio/NLP/blob/main/01_obtenci%C3%B3n/2_RegEx_y_otros.ipynb\" target=\"_parent\"><img src=\"https://colab.research.google.com/assets/colab-badge.svg\" alt=\"Open In Colab\"/></a>"
      ]
    },
    {
      "cell_type": "markdown",
      "metadata": {
        "id": "iMkwF9FETyec"
      },
      "source": [
        "# Expresiones Regulares\n",
        "### Identificación de patrones\n",
        "#####  \".\" : Matchea cualquier caracter excepto '\\n'\n",
        "#####  \"^\" y  \"$\": Matchean el comienzo y el final de un string\n",
        "##### \"[]\": Matchea el set de caracteres que se encuentren dentro de los corchetes (r\"l[ao]s\" machea \"las\" y \"los\")\n",
        "##### \\d: Matchea digitos; equivalente a [0-9].\n",
        "##### \\D: Matchea caracteres que NO sean digitos; equivalente a [^0-9].\n",
        "##### \\s: Matchea espacios en blanco; equivalente a [ \\t\\n\\r\\f\\v].\n",
        "##### \\S: Matchea espacios que NO esten en blanco; equivalente a [^ \\t\\n\\r\\f\\v].\n",
        "##### \\w: Matchea caracteres alfanuméricos; equivalente a [a-zA-Z0-9_].\n",
        "##### \\W: Matchea caracteres que NO sean alfanuméricos; equivalente a[^a-zA-Z0-9_].\n",
        "##### a|b: Matchea \"a\" o \"b\"\n",
        "##### Repeticiones:\n",
        "##### \"+\": Matchea 1 o mas ocurrencias\n",
        "##### \"*\": Matchea 0 o mas ocurrencias\n",
        "##### \"?\": Matchea 0 o 1 ocurrencia\n",
        "##### \"{n, m}\": Matchea entre n y m ocurrencias\n",
        "##### \"\\\\\": Permite matchear caracteres especiales\n",
        "##### para más info ver: https://docs.python.org/3.1/library/re.html#re-syntax"
      ]
    },
    {
      "cell_type": "code",
      "execution_count": 1,
      "metadata": {
        "id": "ab1mrdcVwrrA"
      },
      "outputs": [],
      "source": [
        "import re # Librería para trabajar con expresiones regulares\n",
        "import pandas as pd # Librería para trabajar con DataFrames"
      ]
    },
    {
      "cell_type": "code",
      "execution_count": 2,
      "metadata": {
        "id": "IxKkd__WwrrD"
      },
      "outputs": [],
      "source": [
        "texto = \"\"\"(Jefe de los Minisupers) 14'49'' Podéis hacerme tres preguntas.\n",
        "(Apu) 14'58'' Qué bueno, porque sólo necesito una.\n",
        "(Homer) 15'05'' ¿Usted es el Jefe de los Minisupers?\n",
        "(Jefe de los Minisupers) 15'13'' Así es.\n",
        "(Homer) 15'22'' ¿Usted?\n",
        "(Jefe de los Minisupers) 15'38'' Así es.\n",
        "(Homer) 15'41'' ¿Está seguro?\n",
        "(Jefe de los Minisupers) 16' Sí. Espero que los haya iluminado.\n",
        "(Apu) 16'11'' Pero tengo que...\n",
        "(Jefe de los Minisupers) 16'2'' Gracias. Vuelva pronto.\n",
        "(Apu) 16'29'' Pero.\n",
        "(Jefe de los Minisupers) 16'33'' Graciaaaaas. Vuelva pronto.\"\"\""
      ]
    },
    {
      "cell_type": "code",
      "execution_count": 3,
      "metadata": {
        "id": "kEZ-8_Q9wrrF",
        "outputId": "cf32d306-49c9-4501-9ffb-653c2b74ab55",
        "colab": {
          "base_uri": "https://localhost:8080/"
        }
      },
      "outputs": [
        {
          "output_type": "stream",
          "name": "stdout",
          "text": [
            "(Jefe de los Minisupers) 14'49'' Podéis hacerme tres preguntas.\n",
            "(Apu) 14'58'' Qué bueno, porque sólo necesito una.\n",
            "(Homer) 15'05'' ¿Usted es el Jefe de los Minisupers?\n",
            "(Jefe de los Minisupers) 15'13'' Así es.\n",
            "(Homer) 15'22'' ¿Usted?\n",
            "(Jefe de los Minisupers) 15'38'' Así es.\n",
            "(Homer) 15'41'' ¿Está seguro?\n",
            "(Jefe de los Minisupers) 16' Sí. Espero que los haya iluminado.\n",
            "(Apu) 16'11'' Pero tengo que...\n",
            "(Jefe de los Minisupers) 16'2'' Gracias. Vuelva pronto.\n",
            "(Apu) 16'29'' Pero.\n",
            "(Jefe de los Minisupers) 16'33'' Graciaaaaas. Vuelva pronto.\n"
          ]
        }
      ],
      "source": [
        "print(texto)"
      ]
    },
    {
      "cell_type": "code",
      "execution_count": 4,
      "metadata": {
        "id": "U5hB4eSOwrrG",
        "outputId": "5f77a52b-f1da-4d7b-c6af-08d43b417a95",
        "colab": {
          "base_uri": "https://localhost:8080/"
        }
      },
      "outputs": [
        {
          "output_type": "execute_result",
          "data": {
            "text/plain": [
              "<re.Match object; span=(432, 454), match='Gracias. Vuelva pronto'>"
            ]
          },
          "metadata": {},
          "execution_count": 4
        }
      ],
      "source": [
        "# re.search() busca el patron de la expresion regular y devuelve un objeto si lo encuentra\n",
        "match = re.search(r\"Gracias. Vuelva pronto\", texto)\n",
        "match"
      ]
    },
    {
      "cell_type": "code",
      "execution_count": null,
      "metadata": {
        "id": "3NunFZQ2wrrJ"
      },
      "outputs": [],
      "source": [
        "# el \"if\" testea si re.search() encontró el patrón; \n",
        "# match.group() devuelve el primer matcheo \n",
        "# match.span() el rango de sus indices\n",
        "if match:\n",
        "    print(\"El primer matcheo es:\",match.group())\n",
        "    print(\"El rango de los indices es:\",match.span())\n",
        "else: \n",
        "    print(\"El patron NO esta en el texto\")"
      ]
    },
    {
      "cell_type": "code",
      "execution_count": 6,
      "metadata": {
        "id": "ZiuhW_XNwrrL",
        "outputId": "fb3c06ef-e801-4125-8133-d5021159390c",
        "colab": {
          "base_uri": "https://localhost:8080/"
        }
      },
      "outputs": [
        {
          "output_type": "execute_result",
          "data": {
            "text/plain": [
              "['Gracias. Vuelva pronto', 'Graciaaaaas. Vuelva pronto']"
            ]
          },
          "metadata": {},
          "execution_count": 6
        }
      ],
      "source": [
        "# re.findall() devuelve todos los matcheos\n",
        "re.findall(r\"Gracia+s\\. Vuelva pronto\", texto)"
      ]
    },
    {
      "cell_type": "code",
      "execution_count": 7,
      "metadata": {
        "id": "Gqg8vHIvwrrP",
        "outputId": "c5933e5b-4b0b-4afb-c697-47d41759bc53",
        "colab": {
          "base_uri": "https://localhost:8080/"
        }
      },
      "outputs": [
        {
          "output_type": "execute_result",
          "data": {
            "text/plain": [
              "[\"14'49''\",\n",
              " \"14'58''\",\n",
              " \"15'05''\",\n",
              " \"15'13''\",\n",
              " \"15'22''\",\n",
              " \"15'38''\",\n",
              " \"15'41''\",\n",
              " \"16'11''\",\n",
              " \"16'29''\",\n",
              " \"16'33''\"]"
            ]
          },
          "metadata": {},
          "execution_count": 7
        }
      ],
      "source": [
        "# re.findall() devuelve todos los matcheos\n",
        "re.findall(r\"\\d\\d'\\d\\d''\", texto)"
      ]
    },
    {
      "cell_type": "code",
      "execution_count": 8,
      "metadata": {
        "id": "tXtBg2ZpwrrS",
        "outputId": "f6611595-8040-4b0c-843d-07381e04b1d9",
        "colab": {
          "base_uri": "https://localhost:8080/"
        }
      },
      "outputs": [
        {
          "output_type": "execute_result",
          "data": {
            "text/plain": [
              "[\"14'49''\",\n",
              " \"14'58''\",\n",
              " \"15'05''\",\n",
              " \"15'13''\",\n",
              " \"15'22''\",\n",
              " \"15'38''\",\n",
              " \"15'41''\",\n",
              " \"16'\",\n",
              " \"16'11''\",\n",
              " \"16'2''\",\n",
              " \"16'29''\",\n",
              " \"16'33''\"]"
            ]
          },
          "metadata": {},
          "execution_count": 8
        }
      ],
      "source": [
        "# re.findall() devuelve todos los matcheos\n",
        "re.findall(r\"\\d\\d'\\d{0,2}'{0,2}\", texto)"
      ]
    },
    {
      "cell_type": "code",
      "execution_count": 9,
      "metadata": {
        "id": "LQbQwB1JwrrT",
        "outputId": "a44facb2-e6b9-4a9a-df7e-ca71e979c0b1",
        "colab": {
          "base_uri": "https://localhost:8080/"
        }
      },
      "outputs": [
        {
          "output_type": "execute_result",
          "data": {
            "text/plain": [
              "['(Jefe de los Minisupers)',\n",
              " '(Apu)',\n",
              " '(Homer)',\n",
              " '(Jefe de los Minisupers)',\n",
              " '(Homer)',\n",
              " '(Jefe de los Minisupers)',\n",
              " '(Homer)',\n",
              " '(Jefe de los Minisupers)',\n",
              " '(Apu)',\n",
              " '(Jefe de los Minisupers)',\n",
              " '(Apu)',\n",
              " '(Jefe de los Minisupers)']"
            ]
          },
          "metadata": {},
          "execution_count": 9
        }
      ],
      "source": [
        "re.findall(r\"\\(.*\\)\", texto)"
      ]
    },
    {
      "cell_type": "markdown",
      "metadata": {
        "id": "TYJUQb8Fwrrc"
      },
      "source": [
        "### Grupos"
      ]
    },
    {
      "cell_type": "code",
      "execution_count": 10,
      "metadata": {
        "id": "SA-ub8wywrrc",
        "outputId": "c9cd1f3a-9305-4186-d2b9-d043d995b664",
        "colab": {
          "base_uri": "https://localhost:8080/"
        }
      },
      "outputs": [
        {
          "output_type": "execute_result",
          "data": {
            "text/plain": [
              "['Jefe de los Minisupers',\n",
              " 'Apu',\n",
              " 'Homer',\n",
              " 'Jefe de los Minisupers',\n",
              " 'Homer',\n",
              " 'Jefe de los Minisupers',\n",
              " 'Homer',\n",
              " 'Jefe de los Minisupers',\n",
              " 'Apu',\n",
              " 'Jefe de los Minisupers',\n",
              " 'Apu',\n",
              " 'Jefe de los Minisupers']"
            ]
          },
          "metadata": {},
          "execution_count": 10
        }
      ],
      "source": [
        "# Los paréntesis definen los grupos, que identifican los elementos a devolver\n",
        "re.findall(r\"\\((.*)\\)\", texto)"
      ]
    },
    {
      "cell_type": "code",
      "execution_count": 11,
      "metadata": {
        "id": "oYO_m-dBwrrg",
        "outputId": "2d5df510-3357-4e1b-f423-d7081d6c4e06",
        "colab": {
          "base_uri": "https://localhost:8080/"
        }
      },
      "outputs": [
        {
          "output_type": "execute_result",
          "data": {
            "text/plain": [
              "[('Jefe de los Minisupers', \"14'49''\", 'Podéis hacerme tres preguntas.'),\n",
              " ('Apu', \"14'58''\", 'Qué bueno, porque sólo necesito una.'),\n",
              " ('Homer', \"15'05''\", '¿Usted es el Jefe de los Minisupers?'),\n",
              " ('Jefe de los Minisupers', \"15'13''\", 'Así es.'),\n",
              " ('Homer', \"15'22''\", '¿Usted?'),\n",
              " ('Jefe de los Minisupers', \"15'38''\", 'Así es.'),\n",
              " ('Homer', \"15'41''\", '¿Está seguro?'),\n",
              " ('Jefe de los Minisupers', \"16'\", 'Sí. Espero que los haya iluminado.'),\n",
              " ('Apu', \"16'11''\", 'Pero tengo que...'),\n",
              " ('Jefe de los Minisupers', \"16'2''\", 'Gracias. Vuelva pronto.'),\n",
              " ('Apu', \"16'29''\", 'Pero.'),\n",
              " ('Jefe de los Minisupers', \"16'33''\", 'Graciaaaaas. Vuelva pronto.')]"
            ]
          },
          "metadata": {},
          "execution_count": 11
        }
      ],
      "source": [
        "script = re.findall(r\"\\((.*)\\) (\\d\\d'\\d{0,2}'{0,2}) (.*)\", texto)\n",
        "script"
      ]
    },
    {
      "cell_type": "code",
      "execution_count": 12,
      "metadata": {
        "id": "nMbwxvu3wrri",
        "outputId": "7d30b49f-3ce5-441c-a878-cda3dadc1870",
        "colab": {
          "base_uri": "https://localhost:8080/",
          "height": 426
        }
      },
      "outputs": [
        {
          "output_type": "execute_result",
          "data": {
            "text/plain": [
              "                 personaje   tiempo                                 texto\n",
              "0   Jefe de los Minisupers  14'49''        Podéis hacerme tres preguntas.\n",
              "1                      Apu  14'58''  Qué bueno, porque sólo necesito una.\n",
              "2                    Homer  15'05''  ¿Usted es el Jefe de los Minisupers?\n",
              "3   Jefe de los Minisupers  15'13''                               Así es.\n",
              "4                    Homer  15'22''                               ¿Usted?\n",
              "5   Jefe de los Minisupers  15'38''                               Así es.\n",
              "6                    Homer  15'41''                         ¿Está seguro?\n",
              "7   Jefe de los Minisupers      16'    Sí. Espero que los haya iluminado.\n",
              "8                      Apu  16'11''                     Pero tengo que...\n",
              "9   Jefe de los Minisupers   16'2''               Gracias. Vuelva pronto.\n",
              "10                     Apu  16'29''                                 Pero.\n",
              "11  Jefe de los Minisupers  16'33''           Graciaaaaas. Vuelva pronto."
            ],
            "text/html": [
              "\n",
              "  <div id=\"df-8c233187-fe86-4c21-986f-ae5cdebb1c35\">\n",
              "    <div class=\"colab-df-container\">\n",
              "      <div>\n",
              "<style scoped>\n",
              "    .dataframe tbody tr th:only-of-type {\n",
              "        vertical-align: middle;\n",
              "    }\n",
              "\n",
              "    .dataframe tbody tr th {\n",
              "        vertical-align: top;\n",
              "    }\n",
              "\n",
              "    .dataframe thead th {\n",
              "        text-align: right;\n",
              "    }\n",
              "</style>\n",
              "<table border=\"1\" class=\"dataframe\">\n",
              "  <thead>\n",
              "    <tr style=\"text-align: right;\">\n",
              "      <th></th>\n",
              "      <th>personaje</th>\n",
              "      <th>tiempo</th>\n",
              "      <th>texto</th>\n",
              "    </tr>\n",
              "  </thead>\n",
              "  <tbody>\n",
              "    <tr>\n",
              "      <th>0</th>\n",
              "      <td>Jefe de los Minisupers</td>\n",
              "      <td>14'49''</td>\n",
              "      <td>Podéis hacerme tres preguntas.</td>\n",
              "    </tr>\n",
              "    <tr>\n",
              "      <th>1</th>\n",
              "      <td>Apu</td>\n",
              "      <td>14'58''</td>\n",
              "      <td>Qué bueno, porque sólo necesito una.</td>\n",
              "    </tr>\n",
              "    <tr>\n",
              "      <th>2</th>\n",
              "      <td>Homer</td>\n",
              "      <td>15'05''</td>\n",
              "      <td>¿Usted es el Jefe de los Minisupers?</td>\n",
              "    </tr>\n",
              "    <tr>\n",
              "      <th>3</th>\n",
              "      <td>Jefe de los Minisupers</td>\n",
              "      <td>15'13''</td>\n",
              "      <td>Así es.</td>\n",
              "    </tr>\n",
              "    <tr>\n",
              "      <th>4</th>\n",
              "      <td>Homer</td>\n",
              "      <td>15'22''</td>\n",
              "      <td>¿Usted?</td>\n",
              "    </tr>\n",
              "    <tr>\n",
              "      <th>5</th>\n",
              "      <td>Jefe de los Minisupers</td>\n",
              "      <td>15'38''</td>\n",
              "      <td>Así es.</td>\n",
              "    </tr>\n",
              "    <tr>\n",
              "      <th>6</th>\n",
              "      <td>Homer</td>\n",
              "      <td>15'41''</td>\n",
              "      <td>¿Está seguro?</td>\n",
              "    </tr>\n",
              "    <tr>\n",
              "      <th>7</th>\n",
              "      <td>Jefe de los Minisupers</td>\n",
              "      <td>16'</td>\n",
              "      <td>Sí. Espero que los haya iluminado.</td>\n",
              "    </tr>\n",
              "    <tr>\n",
              "      <th>8</th>\n",
              "      <td>Apu</td>\n",
              "      <td>16'11''</td>\n",
              "      <td>Pero tengo que...</td>\n",
              "    </tr>\n",
              "    <tr>\n",
              "      <th>9</th>\n",
              "      <td>Jefe de los Minisupers</td>\n",
              "      <td>16'2''</td>\n",
              "      <td>Gracias. Vuelva pronto.</td>\n",
              "    </tr>\n",
              "    <tr>\n",
              "      <th>10</th>\n",
              "      <td>Apu</td>\n",
              "      <td>16'29''</td>\n",
              "      <td>Pero.</td>\n",
              "    </tr>\n",
              "    <tr>\n",
              "      <th>11</th>\n",
              "      <td>Jefe de los Minisupers</td>\n",
              "      <td>16'33''</td>\n",
              "      <td>Graciaaaaas. Vuelva pronto.</td>\n",
              "    </tr>\n",
              "  </tbody>\n",
              "</table>\n",
              "</div>\n",
              "      <button class=\"colab-df-convert\" onclick=\"convertToInteractive('df-8c233187-fe86-4c21-986f-ae5cdebb1c35')\"\n",
              "              title=\"Convert this dataframe to an interactive table.\"\n",
              "              style=\"display:none;\">\n",
              "        \n",
              "  <svg xmlns=\"http://www.w3.org/2000/svg\" height=\"24px\"viewBox=\"0 0 24 24\"\n",
              "       width=\"24px\">\n",
              "    <path d=\"M0 0h24v24H0V0z\" fill=\"none\"/>\n",
              "    <path d=\"M18.56 5.44l.94 2.06.94-2.06 2.06-.94-2.06-.94-.94-2.06-.94 2.06-2.06.94zm-11 1L8.5 8.5l.94-2.06 2.06-.94-2.06-.94L8.5 2.5l-.94 2.06-2.06.94zm10 10l.94 2.06.94-2.06 2.06-.94-2.06-.94-.94-2.06-.94 2.06-2.06.94z\"/><path d=\"M17.41 7.96l-1.37-1.37c-.4-.4-.92-.59-1.43-.59-.52 0-1.04.2-1.43.59L10.3 9.45l-7.72 7.72c-.78.78-.78 2.05 0 2.83L4 21.41c.39.39.9.59 1.41.59.51 0 1.02-.2 1.41-.59l7.78-7.78 2.81-2.81c.8-.78.8-2.07 0-2.86zM5.41 20L4 18.59l7.72-7.72 1.47 1.35L5.41 20z\"/>\n",
              "  </svg>\n",
              "      </button>\n",
              "      \n",
              "  <style>\n",
              "    .colab-df-container {\n",
              "      display:flex;\n",
              "      flex-wrap:wrap;\n",
              "      gap: 12px;\n",
              "    }\n",
              "\n",
              "    .colab-df-convert {\n",
              "      background-color: #E8F0FE;\n",
              "      border: none;\n",
              "      border-radius: 50%;\n",
              "      cursor: pointer;\n",
              "      display: none;\n",
              "      fill: #1967D2;\n",
              "      height: 32px;\n",
              "      padding: 0 0 0 0;\n",
              "      width: 32px;\n",
              "    }\n",
              "\n",
              "    .colab-df-convert:hover {\n",
              "      background-color: #E2EBFA;\n",
              "      box-shadow: 0px 1px 2px rgba(60, 64, 67, 0.3), 0px 1px 3px 1px rgba(60, 64, 67, 0.15);\n",
              "      fill: #174EA6;\n",
              "    }\n",
              "\n",
              "    [theme=dark] .colab-df-convert {\n",
              "      background-color: #3B4455;\n",
              "      fill: #D2E3FC;\n",
              "    }\n",
              "\n",
              "    [theme=dark] .colab-df-convert:hover {\n",
              "      background-color: #434B5C;\n",
              "      box-shadow: 0px 1px 3px 1px rgba(0, 0, 0, 0.15);\n",
              "      filter: drop-shadow(0px 1px 2px rgba(0, 0, 0, 0.3));\n",
              "      fill: #FFFFFF;\n",
              "    }\n",
              "  </style>\n",
              "\n",
              "      <script>\n",
              "        const buttonEl =\n",
              "          document.querySelector('#df-8c233187-fe86-4c21-986f-ae5cdebb1c35 button.colab-df-convert');\n",
              "        buttonEl.style.display =\n",
              "          google.colab.kernel.accessAllowed ? 'block' : 'none';\n",
              "\n",
              "        async function convertToInteractive(key) {\n",
              "          const element = document.querySelector('#df-8c233187-fe86-4c21-986f-ae5cdebb1c35');\n",
              "          const dataTable =\n",
              "            await google.colab.kernel.invokeFunction('convertToInteractive',\n",
              "                                                     [key], {});\n",
              "          if (!dataTable) return;\n",
              "\n",
              "          const docLinkHtml = 'Like what you see? Visit the ' +\n",
              "            '<a target=\"_blank\" href=https://colab.research.google.com/notebooks/data_table.ipynb>data table notebook</a>'\n",
              "            + ' to learn more about interactive tables.';\n",
              "          element.innerHTML = '';\n",
              "          dataTable['output_type'] = 'display_data';\n",
              "          await google.colab.output.renderOutput(dataTable, element);\n",
              "          const docLink = document.createElement('div');\n",
              "          docLink.innerHTML = docLinkHtml;\n",
              "          element.appendChild(docLink);\n",
              "        }\n",
              "      </script>\n",
              "    </div>\n",
              "  </div>\n",
              "  "
            ]
          },
          "metadata": {},
          "execution_count": 12
        }
      ],
      "source": [
        "df = pd.DataFrame(script) # Dataframe de pandas\n",
        "df.columns = [\"personaje\",\"tiempo\",\"texto\"]\n",
        "df"
      ]
    },
    {
      "cell_type": "code",
      "execution_count": 14,
      "metadata": {
        "id": "WVi9z5g8wrrk",
        "outputId": "51d487ab-6a8d-47e3-9e42-e0ce76c819d8",
        "colab": {
          "base_uri": "https://localhost:8080/",
          "height": 238
        }
      },
      "outputs": [
        {
          "output_type": "execute_result",
          "data": {
            "text/plain": [
              "                 personaje   tiempo                               texto\n",
              "0   Jefe de los Minisupers  14'49''      Podéis hacerme tres preguntas.\n",
              "3   Jefe de los Minisupers  15'13''                             Así es.\n",
              "5   Jefe de los Minisupers  15'38''                             Así es.\n",
              "7   Jefe de los Minisupers      16'  Sí. Espero que los haya iluminado.\n",
              "9   Jefe de los Minisupers   16'2''             Gracias. Vuelva pronto.\n",
              "11  Jefe de los Minisupers  16'33''         Graciaaaaas. Vuelva pronto."
            ],
            "text/html": [
              "\n",
              "  <div id=\"df-671e711c-7229-48d9-9174-5dbff3a2f7eb\">\n",
              "    <div class=\"colab-df-container\">\n",
              "      <div>\n",
              "<style scoped>\n",
              "    .dataframe tbody tr th:only-of-type {\n",
              "        vertical-align: middle;\n",
              "    }\n",
              "\n",
              "    .dataframe tbody tr th {\n",
              "        vertical-align: top;\n",
              "    }\n",
              "\n",
              "    .dataframe thead th {\n",
              "        text-align: right;\n",
              "    }\n",
              "</style>\n",
              "<table border=\"1\" class=\"dataframe\">\n",
              "  <thead>\n",
              "    <tr style=\"text-align: right;\">\n",
              "      <th></th>\n",
              "      <th>personaje</th>\n",
              "      <th>tiempo</th>\n",
              "      <th>texto</th>\n",
              "    </tr>\n",
              "  </thead>\n",
              "  <tbody>\n",
              "    <tr>\n",
              "      <th>0</th>\n",
              "      <td>Jefe de los Minisupers</td>\n",
              "      <td>14'49''</td>\n",
              "      <td>Podéis hacerme tres preguntas.</td>\n",
              "    </tr>\n",
              "    <tr>\n",
              "      <th>3</th>\n",
              "      <td>Jefe de los Minisupers</td>\n",
              "      <td>15'13''</td>\n",
              "      <td>Así es.</td>\n",
              "    </tr>\n",
              "    <tr>\n",
              "      <th>5</th>\n",
              "      <td>Jefe de los Minisupers</td>\n",
              "      <td>15'38''</td>\n",
              "      <td>Así es.</td>\n",
              "    </tr>\n",
              "    <tr>\n",
              "      <th>7</th>\n",
              "      <td>Jefe de los Minisupers</td>\n",
              "      <td>16'</td>\n",
              "      <td>Sí. Espero que los haya iluminado.</td>\n",
              "    </tr>\n",
              "    <tr>\n",
              "      <th>9</th>\n",
              "      <td>Jefe de los Minisupers</td>\n",
              "      <td>16'2''</td>\n",
              "      <td>Gracias. Vuelva pronto.</td>\n",
              "    </tr>\n",
              "    <tr>\n",
              "      <th>11</th>\n",
              "      <td>Jefe de los Minisupers</td>\n",
              "      <td>16'33''</td>\n",
              "      <td>Graciaaaaas. Vuelva pronto.</td>\n",
              "    </tr>\n",
              "  </tbody>\n",
              "</table>\n",
              "</div>\n",
              "      <button class=\"colab-df-convert\" onclick=\"convertToInteractive('df-671e711c-7229-48d9-9174-5dbff3a2f7eb')\"\n",
              "              title=\"Convert this dataframe to an interactive table.\"\n",
              "              style=\"display:none;\">\n",
              "        \n",
              "  <svg xmlns=\"http://www.w3.org/2000/svg\" height=\"24px\"viewBox=\"0 0 24 24\"\n",
              "       width=\"24px\">\n",
              "    <path d=\"M0 0h24v24H0V0z\" fill=\"none\"/>\n",
              "    <path d=\"M18.56 5.44l.94 2.06.94-2.06 2.06-.94-2.06-.94-.94-2.06-.94 2.06-2.06.94zm-11 1L8.5 8.5l.94-2.06 2.06-.94-2.06-.94L8.5 2.5l-.94 2.06-2.06.94zm10 10l.94 2.06.94-2.06 2.06-.94-2.06-.94-.94-2.06-.94 2.06-2.06.94z\"/><path d=\"M17.41 7.96l-1.37-1.37c-.4-.4-.92-.59-1.43-.59-.52 0-1.04.2-1.43.59L10.3 9.45l-7.72 7.72c-.78.78-.78 2.05 0 2.83L4 21.41c.39.39.9.59 1.41.59.51 0 1.02-.2 1.41-.59l7.78-7.78 2.81-2.81c.8-.78.8-2.07 0-2.86zM5.41 20L4 18.59l7.72-7.72 1.47 1.35L5.41 20z\"/>\n",
              "  </svg>\n",
              "      </button>\n",
              "      \n",
              "  <style>\n",
              "    .colab-df-container {\n",
              "      display:flex;\n",
              "      flex-wrap:wrap;\n",
              "      gap: 12px;\n",
              "    }\n",
              "\n",
              "    .colab-df-convert {\n",
              "      background-color: #E8F0FE;\n",
              "      border: none;\n",
              "      border-radius: 50%;\n",
              "      cursor: pointer;\n",
              "      display: none;\n",
              "      fill: #1967D2;\n",
              "      height: 32px;\n",
              "      padding: 0 0 0 0;\n",
              "      width: 32px;\n",
              "    }\n",
              "\n",
              "    .colab-df-convert:hover {\n",
              "      background-color: #E2EBFA;\n",
              "      box-shadow: 0px 1px 2px rgba(60, 64, 67, 0.3), 0px 1px 3px 1px rgba(60, 64, 67, 0.15);\n",
              "      fill: #174EA6;\n",
              "    }\n",
              "\n",
              "    [theme=dark] .colab-df-convert {\n",
              "      background-color: #3B4455;\n",
              "      fill: #D2E3FC;\n",
              "    }\n",
              "\n",
              "    [theme=dark] .colab-df-convert:hover {\n",
              "      background-color: #434B5C;\n",
              "      box-shadow: 0px 1px 3px 1px rgba(0, 0, 0, 0.15);\n",
              "      filter: drop-shadow(0px 1px 2px rgba(0, 0, 0, 0.3));\n",
              "      fill: #FFFFFF;\n",
              "    }\n",
              "  </style>\n",
              "\n",
              "      <script>\n",
              "        const buttonEl =\n",
              "          document.querySelector('#df-671e711c-7229-48d9-9174-5dbff3a2f7eb button.colab-df-convert');\n",
              "        buttonEl.style.display =\n",
              "          google.colab.kernel.accessAllowed ? 'block' : 'none';\n",
              "\n",
              "        async function convertToInteractive(key) {\n",
              "          const element = document.querySelector('#df-671e711c-7229-48d9-9174-5dbff3a2f7eb');\n",
              "          const dataTable =\n",
              "            await google.colab.kernel.invokeFunction('convertToInteractive',\n",
              "                                                     [key], {});\n",
              "          if (!dataTable) return;\n",
              "\n",
              "          const docLinkHtml = 'Like what you see? Visit the ' +\n",
              "            '<a target=\"_blank\" href=https://colab.research.google.com/notebooks/data_table.ipynb>data table notebook</a>'\n",
              "            + ' to learn more about interactive tables.';\n",
              "          element.innerHTML = '';\n",
              "          dataTable['output_type'] = 'display_data';\n",
              "          await google.colab.output.renderOutput(dataTable, element);\n",
              "          const docLink = document.createElement('div');\n",
              "          docLink.innerHTML = docLinkHtml;\n",
              "          element.appendChild(docLink);\n",
              "        }\n",
              "      </script>\n",
              "    </div>\n",
              "  </div>\n",
              "  "
            ]
          },
          "metadata": {},
          "execution_count": 14
        }
      ],
      "source": [
        "df[df[\"personaje\"] == \"Jefe de los Minisupers\"] "
      ]
    },
    {
      "cell_type": "code",
      "execution_count": 15,
      "metadata": {
        "id": "xp-0F_CZwrrm",
        "outputId": "28fe8bb8-dbfc-4180-d85d-e2066db21dc7",
        "colab": {
          "base_uri": "https://localhost:8080/"
        }
      },
      "outputs": [
        {
          "output_type": "execute_result",
          "data": {
            "text/plain": [
              "[['Jefe de los Minisupers',\n",
              "  '14',\n",
              "  '49',\n",
              "  'Podéis hacerme tres preguntas.',\n",
              "  (0, 63)],\n",
              " ['Apu', '14', '58', 'Qué bueno, porque sólo necesito una.', (64, 114)],\n",
              " ['Homer', '15', '05', '¿Usted es el Jefe de los Minisupers?', (115, 167)],\n",
              " ['Jefe de los Minisupers', '15', '13', 'Así es.', (168, 208)],\n",
              " ['Homer', '15', '22', '¿Usted?', (209, 232)],\n",
              " ['Jefe de los Minisupers', '15', '38', 'Así es.', (233, 273)],\n",
              " ['Homer', '15', '41', '¿Está seguro?', (274, 303)],\n",
              " ['Jefe de los Minisupers',\n",
              "  '16',\n",
              "  '',\n",
              "  'Sí. Espero que los haya iluminado.',\n",
              "  (304, 367)],\n",
              " ['Apu', '16', '11', 'Pero tengo que...', (368, 399)],\n",
              " ['Jefe de los Minisupers', '16', '2', 'Gracias. Vuelva pronto.', (400, 455)],\n",
              " ['Apu', '16', '29', 'Pero.', (456, 475)],\n",
              " ['Jefe de los Minisupers',\n",
              "  '16',\n",
              "  '33',\n",
              "  'Graciaaaaas. Vuelva pronto.',\n",
              "  (476, 536)]]"
            ]
          },
          "metadata": {},
          "execution_count": 15
        }
      ],
      "source": [
        "# re.finditer(pattern, string) devuelve un iterador de MatchObjects\n",
        "script_iterator = re.finditer(r\"\\((.*)\\) (\\d\\d'\\d{0,2}'{0,2}) (.*)\", texto)\n",
        "scripts = []\n",
        "for match in script_iterator:\n",
        "    g1 = match.group(1)\n",
        "    g2_min = match.group(2).split(\"'\")[0] #  \"16'33''\".split(\"'\") -> ['16', '33', '', '']\n",
        "    g2_seg = match.group(2).split(\"'\")[1]\n",
        "    g3 = match.group(3)\n",
        "    span = match.span()\n",
        "    scripts.append([g1,g2_min,g2_seg,g3,span])\n",
        "\n",
        "scripts"
      ]
    },
    {
      "cell_type": "code",
      "execution_count": 16,
      "metadata": {
        "id": "uk39__V1wrrn",
        "outputId": "853b05bc-b421-4cc7-a101-67b7788255eb",
        "colab": {
          "base_uri": "https://localhost:8080/",
          "height": 426
        }
      },
      "outputs": [
        {
          "output_type": "execute_result",
          "data": {
            "text/plain": [
              "                 personaje min seg                                 texto  \\\n",
              "0   Jefe de los Minisupers  14  49        Podéis hacerme tres preguntas.   \n",
              "1                      Apu  14  58  Qué bueno, porque sólo necesito una.   \n",
              "2                    Homer  15  05  ¿Usted es el Jefe de los Minisupers?   \n",
              "3   Jefe de los Minisupers  15  13                               Así es.   \n",
              "4                    Homer  15  22                               ¿Usted?   \n",
              "5   Jefe de los Minisupers  15  38                               Así es.   \n",
              "6                    Homer  15  41                         ¿Está seguro?   \n",
              "7   Jefe de los Minisupers  16        Sí. Espero que los haya iluminado.   \n",
              "8                      Apu  16  11                     Pero tengo que...   \n",
              "9   Jefe de los Minisupers  16   2               Gracias. Vuelva pronto.   \n",
              "10                     Apu  16  29                                 Pero.   \n",
              "11  Jefe de los Minisupers  16  33           Graciaaaaas. Vuelva pronto.   \n",
              "\n",
              "       indices  \n",
              "0      (0, 63)  \n",
              "1    (64, 114)  \n",
              "2   (115, 167)  \n",
              "3   (168, 208)  \n",
              "4   (209, 232)  \n",
              "5   (233, 273)  \n",
              "6   (274, 303)  \n",
              "7   (304, 367)  \n",
              "8   (368, 399)  \n",
              "9   (400, 455)  \n",
              "10  (456, 475)  \n",
              "11  (476, 536)  "
            ],
            "text/html": [
              "\n",
              "  <div id=\"df-35f84728-8954-479a-adf5-c2ff77586348\">\n",
              "    <div class=\"colab-df-container\">\n",
              "      <div>\n",
              "<style scoped>\n",
              "    .dataframe tbody tr th:only-of-type {\n",
              "        vertical-align: middle;\n",
              "    }\n",
              "\n",
              "    .dataframe tbody tr th {\n",
              "        vertical-align: top;\n",
              "    }\n",
              "\n",
              "    .dataframe thead th {\n",
              "        text-align: right;\n",
              "    }\n",
              "</style>\n",
              "<table border=\"1\" class=\"dataframe\">\n",
              "  <thead>\n",
              "    <tr style=\"text-align: right;\">\n",
              "      <th></th>\n",
              "      <th>personaje</th>\n",
              "      <th>min</th>\n",
              "      <th>seg</th>\n",
              "      <th>texto</th>\n",
              "      <th>indices</th>\n",
              "    </tr>\n",
              "  </thead>\n",
              "  <tbody>\n",
              "    <tr>\n",
              "      <th>0</th>\n",
              "      <td>Jefe de los Minisupers</td>\n",
              "      <td>14</td>\n",
              "      <td>49</td>\n",
              "      <td>Podéis hacerme tres preguntas.</td>\n",
              "      <td>(0, 63)</td>\n",
              "    </tr>\n",
              "    <tr>\n",
              "      <th>1</th>\n",
              "      <td>Apu</td>\n",
              "      <td>14</td>\n",
              "      <td>58</td>\n",
              "      <td>Qué bueno, porque sólo necesito una.</td>\n",
              "      <td>(64, 114)</td>\n",
              "    </tr>\n",
              "    <tr>\n",
              "      <th>2</th>\n",
              "      <td>Homer</td>\n",
              "      <td>15</td>\n",
              "      <td>05</td>\n",
              "      <td>¿Usted es el Jefe de los Minisupers?</td>\n",
              "      <td>(115, 167)</td>\n",
              "    </tr>\n",
              "    <tr>\n",
              "      <th>3</th>\n",
              "      <td>Jefe de los Minisupers</td>\n",
              "      <td>15</td>\n",
              "      <td>13</td>\n",
              "      <td>Así es.</td>\n",
              "      <td>(168, 208)</td>\n",
              "    </tr>\n",
              "    <tr>\n",
              "      <th>4</th>\n",
              "      <td>Homer</td>\n",
              "      <td>15</td>\n",
              "      <td>22</td>\n",
              "      <td>¿Usted?</td>\n",
              "      <td>(209, 232)</td>\n",
              "    </tr>\n",
              "    <tr>\n",
              "      <th>5</th>\n",
              "      <td>Jefe de los Minisupers</td>\n",
              "      <td>15</td>\n",
              "      <td>38</td>\n",
              "      <td>Así es.</td>\n",
              "      <td>(233, 273)</td>\n",
              "    </tr>\n",
              "    <tr>\n",
              "      <th>6</th>\n",
              "      <td>Homer</td>\n",
              "      <td>15</td>\n",
              "      <td>41</td>\n",
              "      <td>¿Está seguro?</td>\n",
              "      <td>(274, 303)</td>\n",
              "    </tr>\n",
              "    <tr>\n",
              "      <th>7</th>\n",
              "      <td>Jefe de los Minisupers</td>\n",
              "      <td>16</td>\n",
              "      <td></td>\n",
              "      <td>Sí. Espero que los haya iluminado.</td>\n",
              "      <td>(304, 367)</td>\n",
              "    </tr>\n",
              "    <tr>\n",
              "      <th>8</th>\n",
              "      <td>Apu</td>\n",
              "      <td>16</td>\n",
              "      <td>11</td>\n",
              "      <td>Pero tengo que...</td>\n",
              "      <td>(368, 399)</td>\n",
              "    </tr>\n",
              "    <tr>\n",
              "      <th>9</th>\n",
              "      <td>Jefe de los Minisupers</td>\n",
              "      <td>16</td>\n",
              "      <td>2</td>\n",
              "      <td>Gracias. Vuelva pronto.</td>\n",
              "      <td>(400, 455)</td>\n",
              "    </tr>\n",
              "    <tr>\n",
              "      <th>10</th>\n",
              "      <td>Apu</td>\n",
              "      <td>16</td>\n",
              "      <td>29</td>\n",
              "      <td>Pero.</td>\n",
              "      <td>(456, 475)</td>\n",
              "    </tr>\n",
              "    <tr>\n",
              "      <th>11</th>\n",
              "      <td>Jefe de los Minisupers</td>\n",
              "      <td>16</td>\n",
              "      <td>33</td>\n",
              "      <td>Graciaaaaas. Vuelva pronto.</td>\n",
              "      <td>(476, 536)</td>\n",
              "    </tr>\n",
              "  </tbody>\n",
              "</table>\n",
              "</div>\n",
              "      <button class=\"colab-df-convert\" onclick=\"convertToInteractive('df-35f84728-8954-479a-adf5-c2ff77586348')\"\n",
              "              title=\"Convert this dataframe to an interactive table.\"\n",
              "              style=\"display:none;\">\n",
              "        \n",
              "  <svg xmlns=\"http://www.w3.org/2000/svg\" height=\"24px\"viewBox=\"0 0 24 24\"\n",
              "       width=\"24px\">\n",
              "    <path d=\"M0 0h24v24H0V0z\" fill=\"none\"/>\n",
              "    <path d=\"M18.56 5.44l.94 2.06.94-2.06 2.06-.94-2.06-.94-.94-2.06-.94 2.06-2.06.94zm-11 1L8.5 8.5l.94-2.06 2.06-.94-2.06-.94L8.5 2.5l-.94 2.06-2.06.94zm10 10l.94 2.06.94-2.06 2.06-.94-2.06-.94-.94-2.06-.94 2.06-2.06.94z\"/><path d=\"M17.41 7.96l-1.37-1.37c-.4-.4-.92-.59-1.43-.59-.52 0-1.04.2-1.43.59L10.3 9.45l-7.72 7.72c-.78.78-.78 2.05 0 2.83L4 21.41c.39.39.9.59 1.41.59.51 0 1.02-.2 1.41-.59l7.78-7.78 2.81-2.81c.8-.78.8-2.07 0-2.86zM5.41 20L4 18.59l7.72-7.72 1.47 1.35L5.41 20z\"/>\n",
              "  </svg>\n",
              "      </button>\n",
              "      \n",
              "  <style>\n",
              "    .colab-df-container {\n",
              "      display:flex;\n",
              "      flex-wrap:wrap;\n",
              "      gap: 12px;\n",
              "    }\n",
              "\n",
              "    .colab-df-convert {\n",
              "      background-color: #E8F0FE;\n",
              "      border: none;\n",
              "      border-radius: 50%;\n",
              "      cursor: pointer;\n",
              "      display: none;\n",
              "      fill: #1967D2;\n",
              "      height: 32px;\n",
              "      padding: 0 0 0 0;\n",
              "      width: 32px;\n",
              "    }\n",
              "\n",
              "    .colab-df-convert:hover {\n",
              "      background-color: #E2EBFA;\n",
              "      box-shadow: 0px 1px 2px rgba(60, 64, 67, 0.3), 0px 1px 3px 1px rgba(60, 64, 67, 0.15);\n",
              "      fill: #174EA6;\n",
              "    }\n",
              "\n",
              "    [theme=dark] .colab-df-convert {\n",
              "      background-color: #3B4455;\n",
              "      fill: #D2E3FC;\n",
              "    }\n",
              "\n",
              "    [theme=dark] .colab-df-convert:hover {\n",
              "      background-color: #434B5C;\n",
              "      box-shadow: 0px 1px 3px 1px rgba(0, 0, 0, 0.15);\n",
              "      filter: drop-shadow(0px 1px 2px rgba(0, 0, 0, 0.3));\n",
              "      fill: #FFFFFF;\n",
              "    }\n",
              "  </style>\n",
              "\n",
              "      <script>\n",
              "        const buttonEl =\n",
              "          document.querySelector('#df-35f84728-8954-479a-adf5-c2ff77586348 button.colab-df-convert');\n",
              "        buttonEl.style.display =\n",
              "          google.colab.kernel.accessAllowed ? 'block' : 'none';\n",
              "\n",
              "        async function convertToInteractive(key) {\n",
              "          const element = document.querySelector('#df-35f84728-8954-479a-adf5-c2ff77586348');\n",
              "          const dataTable =\n",
              "            await google.colab.kernel.invokeFunction('convertToInteractive',\n",
              "                                                     [key], {});\n",
              "          if (!dataTable) return;\n",
              "\n",
              "          const docLinkHtml = 'Like what you see? Visit the ' +\n",
              "            '<a target=\"_blank\" href=https://colab.research.google.com/notebooks/data_table.ipynb>data table notebook</a>'\n",
              "            + ' to learn more about interactive tables.';\n",
              "          element.innerHTML = '';\n",
              "          dataTable['output_type'] = 'display_data';\n",
              "          await google.colab.output.renderOutput(dataTable, element);\n",
              "          const docLink = document.createElement('div');\n",
              "          docLink.innerHTML = docLinkHtml;\n",
              "          element.appendChild(docLink);\n",
              "        }\n",
              "      </script>\n",
              "    </div>\n",
              "  </div>\n",
              "  "
            ]
          },
          "metadata": {},
          "execution_count": 16
        }
      ],
      "source": [
        "df_scripts = pd.DataFrame(scripts)\n",
        "df_scripts.columns = [\"personaje\",\"min\",\"seg\",\"texto\",\"indices\"]\n",
        "df_scripts"
      ]
    },
    {
      "cell_type": "markdown",
      "metadata": {
        "id": "7Fjk88gdwrrp"
      },
      "source": [
        "### Más sobre grupos"
      ]
    },
    {
      "cell_type": "markdown",
      "metadata": {
        "id": "G555Edqhwrrq"
      },
      "source": [
        "#### Hallar el hablante y los tiempos en los que habla.  Pero solo para Homero o Apu"
      ]
    },
    {
      "cell_type": "code",
      "execution_count": 17,
      "metadata": {
        "id": "zbm-Z4iSwrrr",
        "outputId": "5e782a04-e819-4921-d873-02dfd95e4653",
        "colab": {
          "base_uri": "https://localhost:8080/"
        }
      },
      "outputs": [
        {
          "output_type": "execute_result",
          "data": {
            "text/plain": [
              "[\"(Apu) 14'58''\",\n",
              " \"(Homer) 15'05''\",\n",
              " \"(Homer) 15'22''\",\n",
              " \"(Homer) 15'41''\",\n",
              " \"(Apu) 16'11''\",\n",
              " \"(Apu) 16'29''\"]"
            ]
          },
          "metadata": {},
          "execution_count": 17
        }
      ],
      "source": [
        "# (?:...) No identifica el contenido del parentesis con un grupo\n",
        "re.findall(r\"\\((?:Homer|Apu)\\) \\d\\d'\\d{0,2}'{0,2}\",texto)"
      ]
    },
    {
      "cell_type": "markdown",
      "metadata": {
        "id": "8xlA1qD-wrru"
      },
      "source": [
        "#### Cambiar \"(Personaje)\" por \"Personaje:\" en el texto"
      ]
    },
    {
      "cell_type": "code",
      "execution_count": 18,
      "metadata": {
        "id": "YUwTf9eNwrru",
        "outputId": "36156e7f-02e7-416e-b803-efebc61d0047",
        "colab": {
          "base_uri": "https://localhost:8080/",
          "height": 87
        }
      },
      "outputs": [
        {
          "output_type": "execute_result",
          "data": {
            "text/plain": [
              "\"Jefe de los Minisupers: 14'49'' Podéis hacerme tres preguntas.\\nApu: 14'58'' Qué bueno, porque sólo necesito una.\\nHomer: 15'05'' ¿Usted es el Jefe de los Minisupers?\\nJefe de los Minisupers: 15'13'' Así es.\\nHomer: 15'22'' ¿Usted?\\nJefe de los Minisupers: 15'38'' Así es.\\nHomer: 15'41'' ¿Está seguro?\\nJefe de los Minisupers: 16' Sí. Espero que los haya iluminado.\\nApu: 16'11'' Pero tengo que...\\nJefe de los Minisupers: 16'2'' Gracias. Vuelva pronto.\\nApu: 16'29'' Pero.\\nJefe de los Minisupers: 16'33'' Graciaaaaas. Vuelva pronto.\""
            ],
            "application/vnd.google.colaboratory.intrinsic+json": {
              "type": "string"
            }
          },
          "metadata": {},
          "execution_count": 18
        }
      ],
      "source": [
        "re.sub(r\"\\((.*)\\)\",\"\\g<1>:\",texto)"
      ]
    },
    {
      "cell_type": "markdown",
      "metadata": {
        "id": "cOtBl8CKwrrw"
      },
      "source": [
        "#### Cambiar el texto precedido por \"Jefe de los Minisupers:\""
      ]
    },
    {
      "cell_type": "code",
      "execution_count": 19,
      "metadata": {
        "id": "CngUQq8ywrrw",
        "outputId": "09414880-e7aa-4042-dc0b-890e655bca4f",
        "colab": {
          "base_uri": "https://localhost:8080/"
        }
      },
      "outputs": [
        {
          "output_type": "stream",
          "name": "stdout",
          "text": [
            "(Jefe de los Minisupers) 14'49'' Podéis hacerme tres preguntas.\n",
            "(Apu) 14'58'' Qué bueno, porque sólo necesito una.\n",
            "(Homer) 15'05'' ¿Usted es el Jefe de los Minisupers?\n",
            "(Jefe de los Minisupers) 15'13'' Así es.\n",
            "(Homer) 15'22'' ¿Usted?\n",
            "(Jefe de los Minisupers) 15'38'' Así es.\n",
            "(Homer) 15'41'' ¿Está seguro?\n",
            "(Jefe de los Minisupers) 16' Sí. Espero que los haya iluminado.\n",
            "(Apu) 16'11'' Pero tengo que...\n",
            "(Jefe de los Minisupers) 16'2'' Gracias. Vuelva pronto.\n",
            "(Apu) 16'29'' Pero.\n",
            "(Jefe de los Minisupers) 16'33'' Graciaaaaas. Vuelva pronto.\n"
          ]
        }
      ],
      "source": [
        "# machea si es precedido por un match de (?<=...)\n",
        "print(re.sub(r\"(?<=Jefe de los Minisupers:).*\",\" PALABRAS SANTAS\",texto))"
      ]
    },
    {
      "cell_type": "markdown",
      "metadata": {
        "id": "i3w7DDJvwrry"
      },
      "source": [
        "### Greedy vs Non Greedy"
      ]
    },
    {
      "cell_type": "code",
      "execution_count": 20,
      "metadata": {
        "id": "yjDYEde5lAW_",
        "outputId": "b93f0318-11a4-48bb-9ce5-e0f20ae292c4",
        "colab": {
          "base_uri": "https://localhost:8080/",
          "height": 53
        }
      },
      "outputs": [
        {
          "output_type": "execute_result",
          "data": {
            "text/plain": [
              "'Podéis hacerme tres preguntas. Qué bueno, porque sólo necesito una. ¿Usted es el Jefe de los Minisupers? Así es. ¿Usted? Así es. ¿Está seguro? Sí. Espero que los haya iluminado. Pero tengo que... Gracias. Vuelva pronto. Pero. Graciaaaaas. Vuelva pronto.'"
            ],
            "application/vnd.google.colaboratory.intrinsic+json": {
              "type": "string"
            }
          },
          "metadata": {},
          "execution_count": 20
        }
      ],
      "source": [
        "textos = \" \".join(df_scripts[\"texto\"])\n",
        "textos"
      ]
    },
    {
      "cell_type": "code",
      "execution_count": 21,
      "metadata": {
        "id": "6Vn51UIUwrr0",
        "outputId": "6c2b5f3e-a249-48bf-e10e-54e97f180a46",
        "colab": {
          "base_uri": "https://localhost:8080/"
        }
      },
      "outputs": [
        {
          "output_type": "execute_result",
          "data": {
            "text/plain": [
              "['¿Usted es el Jefe de los Minisupers? Así es. ¿Usted? Así es. ¿Está seguro?']"
            ]
          },
          "metadata": {},
          "execution_count": 21
        }
      ],
      "source": [
        "# quiero extraer todas las preguntas\n",
        "re.findall(r\"\\¿.*\\?\",textos)"
      ]
    },
    {
      "cell_type": "markdown",
      "metadata": {
        "id": "Y_YwfQpqwrr2"
      },
      "source": [
        "###  + y \\* machean el patron mas largo posible ( se dice que +  y \\* son \"greedy\")\n",
        "### para que sean non-greedy se le agrega un \"?\" a la derecha => \"*?\" "
      ]
    },
    {
      "cell_type": "code",
      "execution_count": 22,
      "metadata": {
        "id": "mQfSc9sDwrr3",
        "outputId": "edc4dddd-ee60-45e9-cbd7-6eae1bdb41b9",
        "colab": {
          "base_uri": "https://localhost:8080/"
        }
      },
      "outputs": [
        {
          "output_type": "execute_result",
          "data": {
            "text/plain": [
              "['¿Usted es el Jefe de los Minisupers?', '¿Usted?', '¿Está seguro?']"
            ]
          },
          "metadata": {},
          "execution_count": 22
        }
      ],
      "source": [
        "# quiero extraer todas las preguntas\n",
        "re.findall(r\"\\¿.*?\\?\",textos)"
      ]
    },
    {
      "cell_type": "markdown",
      "metadata": {
        "id": "PrKd5Qoqwrr5"
      },
      "source": [
        "# Preprocesamiento de Textos: Normalización "
      ]
    },
    {
      "cell_type": "code",
      "execution_count": 23,
      "metadata": {
        "id": "FQXGtZWIloTn",
        "outputId": "66fc5413-2c39-4d42-8198-57ed64c08e8c",
        "colab": {
          "base_uri": "https://localhost:8080/"
        }
      },
      "outputs": [
        {
          "output_type": "stream",
          "name": "stdout",
          "text": [
            "(Jefe de los Minisupers) 14'49'' Podéis hacerme tres preguntas.\n",
            "(Apu) 14'58'' Qué bueno, porque sólo necesito una.\n",
            "(Homer) 15'05'' ¿Usted es el Jefe de los Minisupers?\n",
            "(Jefe de los Minisupers) 15'13'' Así es.\n",
            "(Homer) 15'22'' ¿Usted?\n",
            "(Jefe de los Minisupers) 15'38'' Así es.\n",
            "(Homer) 15'41'' ¿Está seguro?\n",
            "(Jefe de los Minisupers) 16' Sí. Espero que los haya iluminado.\n",
            "(Apu) 16'11'' Pero tengo que...\n",
            "(Jefe de los Minisupers) 16'2'' Gracias. Vuelva pronto.\n",
            "(Apu) 16'29'' Pero.\n",
            "(Jefe de los Minisupers) 16'33'' Graciaaaaas. Vuelva pronto.\n"
          ]
        }
      ],
      "source": [
        "print(texto)"
      ]
    },
    {
      "cell_type": "code",
      "execution_count": 24,
      "metadata": {
        "id": "xc19S_UOwrr5",
        "outputId": "e4f579bd-be64-45c2-d56b-70b694ac5a19",
        "colab": {
          "base_uri": "https://localhost:8080/"
        }
      },
      "outputs": [
        {
          "output_type": "stream",
          "name": "stdout",
          "text": [
            "(Jefe de los Minisupers) 14'49'' Podéis hacerme tres preguntas.\n",
            "(Apu) 14'58'' Qué bueno, porque sólo necesito una.\n",
            "(Homer) 15'05'' ¿Usted es el Jefe de los Minisupers?\n",
            "(Jefe de los Minisupers) 15'13'' Así es.\n",
            "(Homer) 15'22'' ¿Usted?\n",
            "(Jefe de los Minisupers) 15'38'' Así es.\n",
            "(Homer) 15'41'' ¿Está seguro?\n",
            "(Jefe de los Minisupers) 16' Sí. Espero que los haya iluminado.\n",
            "(Apu) 16'11'' Pero tengo que...\n",
            "(Jefe de los Minisupers) 16'2'' Gracias. Vuelva pronto.\n",
            "(Apu) 16'29'' Pero.\n",
            "(Jefe de los Minisupers) 16'33'' Gracias. Vuelva pronto.\n"
          ]
        }
      ],
      "source": [
        "# re.sub(patron, remplazo, string)\n",
        "# devuelve el string con el patron reemplazado \n",
        "textos = re.sub(r\"a+\",\"a\",texto)\n",
        "print(textos)"
      ]
    },
    {
      "cell_type": "markdown",
      "metadata": {
        "id": "ZPsBL3nzwrr7"
      },
      "source": [
        "# Tokenización\n",
        "### tokenizar es segmentar el texto en unidades (tokens) \n",
        "### los tokens podrían ser palabras, numeros, signos de puntuacion, emoticones, etc..."
      ]
    },
    {
      "cell_type": "markdown",
      "metadata": {
        "id": "DzfzkzOGwrr7"
      },
      "source": [
        "### En este ejemplo buscamos calcular la frecuencia de aparicion de las palabras"
      ]
    },
    {
      "cell_type": "code",
      "execution_count": 25,
      "metadata": {
        "id": "HdxcI1CIwrr8",
        "outputId": "333e76dd-5260-406a-a578-0e978e057398",
        "colab": {
          "base_uri": "https://localhost:8080/"
        }
      },
      "outputs": [
        {
          "output_type": "stream",
          "name": "stdout",
          "text": [
            "hay 95 tokens\n"
          ]
        },
        {
          "output_type": "execute_result",
          "data": {
            "text/plain": [
              "['',\n",
              " 'Jefe',\n",
              " 'de',\n",
              " 'los',\n",
              " 'Minisupers',\n",
              " '14',\n",
              " '49',\n",
              " 'Podéis',\n",
              " 'hacerme',\n",
              " 'tres']"
            ]
          },
          "metadata": {},
          "execution_count": 25
        }
      ],
      "source": [
        "tokens = re.split(r\"\\W+\",textos)\n",
        "print(\"hay\",len(tokens),\"tokens\")\n",
        "tokens[:10]"
      ]
    },
    {
      "cell_type": "code",
      "execution_count": 26,
      "metadata": {
        "id": "02axuOY2wrr9",
        "outputId": "406e2b8a-f88d-45bb-e792-43f460f60758",
        "colab": {
          "base_uri": "https://localhost:8080/"
        }
      },
      "outputs": [
        {
          "output_type": "execute_result",
          "data": {
            "text/plain": [
              "0               \n",
              "1           Jefe\n",
              "2             de\n",
              "3            los\n",
              "4     Minisupers\n",
              "         ...    \n",
              "90            33\n",
              "91       Gracias\n",
              "92        Vuelva\n",
              "93        pronto\n",
              "94              \n",
              "Length: 95, dtype: object"
            ]
          },
          "metadata": {},
          "execution_count": 26
        }
      ],
      "source": [
        "pd.Series(tokens)"
      ]
    },
    {
      "cell_type": "code",
      "execution_count": 27,
      "metadata": {
        "id": "H54-sktqwrr_",
        "outputId": "8f8b7287-993c-46f9-e962-4893ad4bebc5",
        "colab": {
          "base_uri": "https://localhost:8080/"
        }
      },
      "outputs": [
        {
          "output_type": "execute_result",
          "data": {
            "text/plain": [
              "los           8\n",
              "de            7\n",
              "Minisupers    7\n",
              "Jefe          7\n",
              "16            5\n",
              "15            5\n",
              "es            3\n",
              "Homer         3\n",
              "Apu           3\n",
              "pronto        2\n",
              "dtype: int64"
            ]
          },
          "metadata": {},
          "execution_count": 27
        }
      ],
      "source": [
        "pd.Series(tokens).value_counts().head(10)"
      ]
    },
    {
      "cell_type": "markdown",
      "metadata": {
        "id": "TlcStgslwrsA"
      },
      "source": [
        "### Tokenización de oraciones"
      ]
    },
    {
      "cell_type": "code",
      "execution_count": 28,
      "metadata": {
        "id": "3ERmOGv9wrsB",
        "outputId": "9988253c-bc96-43f1-f1e0-e6f2d1bea491",
        "colab": {
          "base_uri": "https://localhost:8080/"
        }
      },
      "outputs": [
        {
          "output_type": "execute_result",
          "data": {
            "text/plain": [
              "['Dr',\n",
              " ' formulate it to me',\n",
              " \" I don't know how to tokenize this\",\n",
              " \" it's impossible\",\n",
              " '']"
            ]
          },
          "metadata": {},
          "execution_count": 28
        }
      ],
      "source": [
        "dificil_de_tokenizar = \"Dr. formulate it to me. I don't know how to tokenize this! it's impossible!\"\n",
        "re.split(\"[\\.!]\",dificil_de_tokenizar)"
      ]
    },
    {
      "cell_type": "markdown",
      "metadata": {
        "id": "jx52iPvXwrsC"
      },
      "source": [
        "## NLTK"
      ]
    },
    {
      "cell_type": "code",
      "execution_count": 29,
      "metadata": {
        "id": "tbi1e3mwmSNB",
        "outputId": "626a0664-efea-49e4-931a-bef55bbfe2ce",
        "colab": {
          "base_uri": "https://localhost:8080/"
        }
      },
      "outputs": [
        {
          "output_type": "stream",
          "name": "stderr",
          "text": [
            "[nltk_data] Downloading package punkt to /root/nltk_data...\n",
            "[nltk_data]   Unzipping tokenizers/punkt.zip.\n"
          ]
        },
        {
          "output_type": "execute_result",
          "data": {
            "text/plain": [
              "True"
            ]
          },
          "metadata": {},
          "execution_count": 29
        }
      ],
      "source": [
        "import nltk\n",
        "nltk.download('punkt')"
      ]
    },
    {
      "cell_type": "code",
      "execution_count": 30,
      "metadata": {
        "id": "IzK-LPr5wrsC"
      },
      "outputs": [],
      "source": [
        "from nltk import word_tokenize\n",
        "from nltk import sent_tokenize"
      ]
    },
    {
      "cell_type": "code",
      "execution_count": 31,
      "metadata": {
        "id": "E2sk0ghnwrsE",
        "outputId": "7091d573-891a-447e-8742-20e1fdfc6462",
        "colab": {
          "base_uri": "https://localhost:8080/"
        }
      },
      "outputs": [
        {
          "output_type": "execute_result",
          "data": {
            "text/plain": [
              "['Dr. formulate it to me.',\n",
              " \"I don't know how to tokenize this!\",\n",
              " \"it's impossible!\"]"
            ]
          },
          "metadata": {},
          "execution_count": 31
        }
      ],
      "source": [
        "sent = sent_tokenize(dificil_de_tokenizar)\n",
        "sent"
      ]
    },
    {
      "cell_type": "code",
      "execution_count": 32,
      "metadata": {
        "id": "s_tjaiTTwrsG",
        "outputId": "58bb848f-bdb2-4581-cbba-9b94df9c9cec",
        "colab": {
          "base_uri": "https://localhost:8080/"
        }
      },
      "outputs": [
        {
          "output_type": "execute_result",
          "data": {
            "text/plain": [
              "['I', 'do', \"n't\", 'know', 'how', 'to', 'tokenize', 'this', '!']"
            ]
          },
          "metadata": {},
          "execution_count": 32
        }
      ],
      "source": [
        "word_tokenize(sent[1])"
      ]
    },
    {
      "cell_type": "markdown",
      "metadata": {
        "id": "PAkpCTajwrsH"
      },
      "source": [
        "### Ahora en español"
      ]
    },
    {
      "cell_type": "code",
      "execution_count": 33,
      "metadata": {
        "id": "fS2svQ32wrsI",
        "outputId": "4c0b1ab3-5c8c-4b59-a028-e7c89b349307",
        "colab": {
          "base_uri": "https://localhost:8080/"
        }
      },
      "outputs": [
        {
          "output_type": "execute_result",
          "data": {
            "text/plain": [
              "[\"(Jefe de los Minisupers) 14'49'' Podéis hacerme tres preguntas.\",\n",
              " \"(Apu) 14'58'' Qué bueno, porque sólo necesito una.\",\n",
              " \"(Homer) 15'05'' ¿Usted es el Jefe de los Minisupers?\",\n",
              " \"(Jefe de los Minisupers) 15'13'' Así es.\",\n",
              " \"(Homer) 15'22'' ¿Usted?\",\n",
              " \"(Jefe de los Minisupers) 15'38'' Así es.\",\n",
              " \"(Homer) 15'41'' ¿Está seguro?\",\n",
              " \"(Jefe de los Minisupers) 16' Sí.\",\n",
              " 'Espero que los haya iluminado.',\n",
              " \"(Apu) 16'11'' Pero tengo que...\\n(Jefe de los Minisupers) 16'2'' Gracias.\",\n",
              " 'Vuelva pronto.',\n",
              " \"(Apu) 16'29'' Pero.\",\n",
              " \"(Jefe de los Minisupers) 16'33'' Graciaaaaas.\",\n",
              " 'Vuelva pronto.']"
            ]
          },
          "metadata": {},
          "execution_count": 33
        }
      ],
      "source": [
        "sents = sent_tokenize(texto,language=\"spanish\")\n",
        "sents"
      ]
    },
    {
      "cell_type": "code",
      "execution_count": 34,
      "metadata": {
        "id": "-UJdbAWSwrsJ"
      },
      "outputs": [],
      "source": [
        "tokens = word_tokenize(textos,language=\"spanish\")"
      ]
    },
    {
      "cell_type": "code",
      "execution_count": 35,
      "metadata": {
        "id": "eZkX-MS6wrsK",
        "outputId": "08811a20-7a50-475a-9e71-5c78eb0fa8dc",
        "colab": {
          "base_uri": "https://localhost:8080/"
        }
      },
      "outputs": [
        {
          "output_type": "execute_result",
          "data": {
            "text/plain": [
              "['(',\n",
              " 'Jefe',\n",
              " 'de',\n",
              " 'los',\n",
              " 'Minisupers',\n",
              " ')',\n",
              " \"14'49\",\n",
              " \"''\",\n",
              " 'Podéis',\n",
              " 'hacerme',\n",
              " 'tres',\n",
              " 'preguntas',\n",
              " '.',\n",
              " '(',\n",
              " 'Apu',\n",
              " ')',\n",
              " \"14'58\",\n",
              " \"''\",\n",
              " 'Qué',\n",
              " 'bueno',\n",
              " ',',\n",
              " 'porque',\n",
              " 'sólo',\n",
              " 'necesito',\n",
              " 'una',\n",
              " '.',\n",
              " '(',\n",
              " 'Homer',\n",
              " ')',\n",
              " \"15'05\",\n",
              " \"''\",\n",
              " '¿Usted',\n",
              " 'es',\n",
              " 'el',\n",
              " 'Jefe',\n",
              " 'de',\n",
              " 'los',\n",
              " 'Minisupers',\n",
              " '?',\n",
              " '(',\n",
              " 'Jefe',\n",
              " 'de',\n",
              " 'los',\n",
              " 'Minisupers',\n",
              " ')',\n",
              " \"15'13\",\n",
              " \"''\",\n",
              " 'Así',\n",
              " 'es',\n",
              " '.',\n",
              " '(',\n",
              " 'Homer',\n",
              " ')',\n",
              " \"15'22\",\n",
              " \"''\",\n",
              " '¿Usted',\n",
              " '?',\n",
              " '(',\n",
              " 'Jefe',\n",
              " 'de',\n",
              " 'los',\n",
              " 'Minisupers',\n",
              " ')',\n",
              " \"15'38\",\n",
              " \"''\",\n",
              " 'Así',\n",
              " 'es',\n",
              " '.',\n",
              " '(',\n",
              " 'Homer',\n",
              " ')',\n",
              " \"15'41\",\n",
              " \"''\",\n",
              " '¿Está',\n",
              " 'seguro',\n",
              " '?',\n",
              " '(',\n",
              " 'Jefe',\n",
              " 'de',\n",
              " 'los',\n",
              " 'Minisupers',\n",
              " ')',\n",
              " '16',\n",
              " \"'\",\n",
              " 'Sí',\n",
              " '.',\n",
              " 'Espero',\n",
              " 'que',\n",
              " 'los',\n",
              " 'haya',\n",
              " 'iluminado',\n",
              " '.',\n",
              " '(',\n",
              " 'Apu',\n",
              " ')',\n",
              " \"16'11\",\n",
              " \"''\",\n",
              " 'Pero',\n",
              " 'tengo',\n",
              " 'que',\n",
              " '...',\n",
              " '(',\n",
              " 'Jefe',\n",
              " 'de',\n",
              " 'los',\n",
              " 'Minisupers',\n",
              " ')',\n",
              " '16',\n",
              " \"'\",\n",
              " '2',\n",
              " \"''\",\n",
              " 'Gracias',\n",
              " '.',\n",
              " 'Vuelva',\n",
              " 'pronto',\n",
              " '.',\n",
              " '(',\n",
              " 'Apu',\n",
              " ')',\n",
              " \"16'29\",\n",
              " \"''\",\n",
              " 'Pero',\n",
              " '.',\n",
              " '(',\n",
              " 'Jefe',\n",
              " 'de',\n",
              " 'los',\n",
              " 'Minisupers',\n",
              " ')',\n",
              " \"16'33\",\n",
              " \"''\",\n",
              " 'Gracias',\n",
              " '.',\n",
              " 'Vuelva',\n",
              " 'pronto',\n",
              " '.']"
            ]
          },
          "metadata": {},
          "execution_count": 35
        }
      ],
      "source": [
        "tokens"
      ]
    },
    {
      "cell_type": "markdown",
      "metadata": {
        "id": "q871gc_uwrsM"
      },
      "source": [
        "### los problemas con el \"¿\" lo podemos emparchar"
      ]
    },
    {
      "cell_type": "code",
      "execution_count": 36,
      "metadata": {
        "id": "DZ14MUo7wrsM",
        "outputId": "d63cb1d2-d4ac-4214-820e-2e02bdc7fe0f",
        "colab": {
          "base_uri": "https://localhost:8080/"
        }
      },
      "outputs": [
        {
          "output_type": "execute_result",
          "data": {
            "text/plain": [
              "['(',\n",
              " 'Jefe',\n",
              " 'de',\n",
              " 'los',\n",
              " 'Minisupers',\n",
              " ')',\n",
              " \"14'49\",\n",
              " \"''\",\n",
              " 'Podéis',\n",
              " 'hacerme',\n",
              " 'tres',\n",
              " 'preguntas',\n",
              " '.',\n",
              " '(',\n",
              " 'Apu',\n",
              " ')',\n",
              " \"14'58\",\n",
              " \"''\",\n",
              " 'Qué',\n",
              " 'bueno',\n",
              " ',',\n",
              " 'porque',\n",
              " 'sólo',\n",
              " 'necesito',\n",
              " 'una',\n",
              " '.',\n",
              " '(',\n",
              " 'Homer',\n",
              " ')',\n",
              " \"15'05\",\n",
              " \"''\",\n",
              " '¿',\n",
              " 'Usted',\n",
              " 'es',\n",
              " 'el',\n",
              " 'Jefe',\n",
              " 'de',\n",
              " 'los',\n",
              " 'Minisupers',\n",
              " '?',\n",
              " '(',\n",
              " 'Jefe',\n",
              " 'de',\n",
              " 'los',\n",
              " 'Minisupers',\n",
              " ')',\n",
              " \"15'13\",\n",
              " \"''\",\n",
              " 'Así',\n",
              " 'es',\n",
              " '.',\n",
              " '(',\n",
              " 'Homer',\n",
              " ')',\n",
              " \"15'22\",\n",
              " \"''\",\n",
              " '¿',\n",
              " 'Usted',\n",
              " '?',\n",
              " '(',\n",
              " 'Jefe',\n",
              " 'de',\n",
              " 'los',\n",
              " 'Minisupers',\n",
              " ')',\n",
              " \"15'38\",\n",
              " \"''\",\n",
              " 'Así',\n",
              " 'es',\n",
              " '.',\n",
              " '(',\n",
              " 'Homer',\n",
              " ')',\n",
              " \"15'41\",\n",
              " \"''\",\n",
              " '¿',\n",
              " 'Está',\n",
              " 'seguro',\n",
              " '?',\n",
              " '(',\n",
              " 'Jefe',\n",
              " 'de',\n",
              " 'los',\n",
              " 'Minisupers',\n",
              " ')',\n",
              " '16',\n",
              " \"'\",\n",
              " 'Sí',\n",
              " '.',\n",
              " 'Espero',\n",
              " 'que',\n",
              " 'los',\n",
              " 'haya',\n",
              " 'iluminado',\n",
              " '.',\n",
              " '(',\n",
              " 'Apu',\n",
              " ')',\n",
              " \"16'11\",\n",
              " \"''\",\n",
              " 'Pero',\n",
              " 'tengo',\n",
              " 'que',\n",
              " '...',\n",
              " '(',\n",
              " 'Jefe',\n",
              " 'de',\n",
              " 'los',\n",
              " 'Minisupers',\n",
              " ')',\n",
              " '16',\n",
              " \"'\",\n",
              " '2',\n",
              " \"''\",\n",
              " 'Gracias',\n",
              " '.',\n",
              " 'Vuelva',\n",
              " 'pronto',\n",
              " '.',\n",
              " '(',\n",
              " 'Apu',\n",
              " ')',\n",
              " \"16'29\",\n",
              " \"''\",\n",
              " 'Pero',\n",
              " '.',\n",
              " '(',\n",
              " 'Jefe',\n",
              " 'de',\n",
              " 'los',\n",
              " 'Minisupers',\n",
              " ')',\n",
              " \"16'33\",\n",
              " \"''\",\n",
              " 'Gracias',\n",
              " '.',\n",
              " 'Vuelva',\n",
              " 'pronto',\n",
              " '.']"
            ]
          },
          "metadata": {},
          "execution_count": 36
        }
      ],
      "source": [
        "textos_retocados = re.sub(r\"¿\",\" ¿ \",textos)\n",
        "tokens = word_tokenize(textos_retocados,language=\"spanish\")\n",
        "tokens"
      ]
    },
    {
      "cell_type": "code",
      "execution_count": 37,
      "metadata": {
        "id": "2QLLT4iJwrsP",
        "outputId": "05f9ac13-68a1-4996-83e8-12631b660fdc",
        "colab": {
          "base_uri": "https://localhost:8080/"
        }
      },
      "outputs": [
        {
          "output_type": "execute_result",
          "data": {
            "text/plain": [
              "['jefe',\n",
              " 'de',\n",
              " 'los',\n",
              " 'minisupers',\n",
              " 'podéis',\n",
              " 'hacerme',\n",
              " 'tres',\n",
              " 'preguntas',\n",
              " 'apu',\n",
              " 'qué',\n",
              " 'bueno',\n",
              " 'porque',\n",
              " 'sólo',\n",
              " 'necesito',\n",
              " 'una',\n",
              " 'homer',\n",
              " 'usted',\n",
              " 'es',\n",
              " 'el',\n",
              " 'jefe',\n",
              " 'de',\n",
              " 'los',\n",
              " 'minisupers',\n",
              " 'jefe',\n",
              " 'de',\n",
              " 'los',\n",
              " 'minisupers',\n",
              " 'así',\n",
              " 'es',\n",
              " 'homer',\n",
              " 'usted',\n",
              " 'jefe',\n",
              " 'de',\n",
              " 'los',\n",
              " 'minisupers',\n",
              " 'así',\n",
              " 'es',\n",
              " 'homer',\n",
              " 'está',\n",
              " 'seguro',\n",
              " 'jefe',\n",
              " 'de',\n",
              " 'los',\n",
              " 'minisupers',\n",
              " 'sí',\n",
              " 'espero',\n",
              " 'que',\n",
              " 'los',\n",
              " 'haya',\n",
              " 'iluminado',\n",
              " 'apu',\n",
              " 'pero',\n",
              " 'tengo',\n",
              " 'que',\n",
              " 'jefe',\n",
              " 'de',\n",
              " 'los',\n",
              " 'minisupers',\n",
              " 'gracias',\n",
              " 'vuelva',\n",
              " 'pronto',\n",
              " 'apu',\n",
              " 'pero',\n",
              " 'jefe',\n",
              " 'de',\n",
              " 'los',\n",
              " 'minisupers',\n",
              " 'gracias',\n",
              " 'vuelva',\n",
              " 'pronto']"
            ]
          },
          "metadata": {},
          "execution_count": 37
        }
      ],
      "source": [
        "palabras = [token.lower() for token in tokens if token.isalpha()]\n",
        "palabras"
      ]
    },
    {
      "cell_type": "markdown",
      "metadata": {
        "id": "OvuwxxDxwrsR"
      },
      "source": [
        "### Stopwords"
      ]
    },
    {
      "cell_type": "code",
      "execution_count": 38,
      "metadata": {
        "id": "9TtPgPJuOs38",
        "outputId": "807aaae7-6c7a-4df3-cc16-03257ebb6960",
        "colab": {
          "base_uri": "https://localhost:8080/"
        }
      },
      "outputs": [
        {
          "output_type": "stream",
          "name": "stderr",
          "text": [
            "[nltk_data] Downloading package stopwords to /root/nltk_data...\n",
            "[nltk_data]   Unzipping corpora/stopwords.zip.\n"
          ]
        },
        {
          "output_type": "execute_result",
          "data": {
            "text/plain": [
              "True"
            ]
          },
          "metadata": {},
          "execution_count": 38
        }
      ],
      "source": [
        "import nltk\n",
        "nltk.download('stopwords')"
      ]
    },
    {
      "cell_type": "code",
      "execution_count": 39,
      "metadata": {
        "id": "CrVwIRRrwrsR",
        "outputId": "4905f4c2-e0b8-428b-c946-f53302ab8e68",
        "colab": {
          "base_uri": "https://localhost:8080/"
        }
      },
      "outputs": [
        {
          "output_type": "execute_result",
          "data": {
            "text/plain": [
              "['de',\n",
              " 'la',\n",
              " 'que',\n",
              " 'el',\n",
              " 'en',\n",
              " 'y',\n",
              " 'a',\n",
              " 'los',\n",
              " 'del',\n",
              " 'se',\n",
              " 'las',\n",
              " 'por',\n",
              " 'un',\n",
              " 'para',\n",
              " 'con',\n",
              " 'no',\n",
              " 'una',\n",
              " 'su',\n",
              " 'al',\n",
              " 'lo']"
            ]
          },
          "metadata": {},
          "execution_count": 39
        }
      ],
      "source": [
        "from nltk.corpus import stopwords\n",
        "stoplist = stopwords.words(\"spanish\")\n",
        "stoplist[:20]"
      ]
    },
    {
      "cell_type": "code",
      "execution_count": 40,
      "metadata": {
        "id": "k6fByQsowrsV",
        "outputId": "73d698ba-cc7f-4e5e-ea22-5a4126b33e6e",
        "colab": {
          "base_uri": "https://localhost:8080/"
        }
      },
      "outputs": [
        {
          "output_type": "execute_result",
          "data": {
            "text/plain": [
              "['jefe',\n",
              " 'minisupers',\n",
              " 'podéis',\n",
              " 'hacerme',\n",
              " 'tres',\n",
              " 'preguntas',\n",
              " 'apu',\n",
              " 'bueno',\n",
              " 'sólo',\n",
              " 'necesito',\n",
              " 'homer',\n",
              " 'usted',\n",
              " 'jefe',\n",
              " 'minisupers',\n",
              " 'jefe',\n",
              " 'minisupers',\n",
              " 'así',\n",
              " 'homer',\n",
              " 'usted',\n",
              " 'jefe']"
            ]
          },
          "metadata": {},
          "execution_count": 40
        }
      ],
      "source": [
        "# elimino los stopwords\n",
        "palabras = [token.lower() for token in tokens if token.lower() not in stoplist and token.isalpha()]\n",
        "palabras[:20]"
      ]
    },
    {
      "cell_type": "markdown",
      "metadata": {
        "id": "roFjWSKgH_ii"
      },
      "source": [
        "## Ejercicio 1\n",
        "### armar un texto que tenga sentido usando las variables a, b, c y d"
      ]
    },
    {
      "cell_type": "code",
      "execution_count": null,
      "metadata": {
        "id": "ViCz2clGIDBX"
      },
      "outputs": [],
      "source": [
        "a = \"xxxxxxxxxxxxxxxx veces \"  \n",
        "b = 1000 \n",
        "c = \"xxxno puedo soñar xxxxx\" \n",
        "d = \"xlxaxsx xmxixsxmxaxsx xcxoxsxaxs\""
      ]
    },
    {
      "cell_type": "markdown",
      "metadata": {
        "id": "0Z-5EbssJlMf"
      },
      "source": [
        "## Ejercicio 2: \n",
        "### a) cuantas letras hay en la tercer oración?\n",
        "### b) cuantas palabras hay en todo el texto"
      ]
    },
    {
      "cell_type": "code",
      "execution_count": null,
      "metadata": {
        "id": "AOJahA_gJmjd"
      },
      "outputs": [],
      "source": [
        "texto_ej2 = \"Citadme diciendo que me han citado mal. Claro que lo entiendo. Incluso un niño de cinco años podría entenderlo. ¡Que me traigan un niño de cinco años!\" "
      ]
    },
    {
      "cell_type": "markdown",
      "metadata": {
        "id": "5Kyl3FBMMQ-1"
      },
      "source": [
        "##  Ejercicio 3\n",
        "### Amar un Regex para extraer todas las fechas mencionadas"
      ]
    },
    {
      "cell_type": "code",
      "execution_count": null,
      "metadata": {
        "id": "Yky1OMbmKxvv"
      },
      "outputs": [],
      "source": [
        "texto_ej3=\"compras de julio: el 02/07 yerba, 5/7/18 azucar y 8/7 cafe. Agosto: 02-08-2018, 15-8-2018 y 29-08 mas yerba \""
      ]
    },
    {
      "cell_type": "markdown",
      "metadata": {
        "id": "P0xAmIgcwrsa"
      },
      "source": [
        "## Ejercicio 4\n",
        "\n",
        "### a) Cuales son las 10 palabras mas frecuentes? no contar efecto de si es mayúscula o minúscula. \n",
        "### b) Cuantas palabras son stopwords? que porcentaje de las palabras son stopwords?\n",
        "### c) Sacar las tíldes (normalización)\n",
        "### d) Pasar los millones a números 1.800 millones -> 1.800.000  (normalización)\n",
        "### e) Extraer los numeros asociados a dolares, pesos y porcentajes\n",
        "### f) Plotear en eje log-log un la frequencia de las palabras vs su ranking: es decir representar en un scatterplot cuantas veces aparece la palabra mas frecuente (ranking=1), cuantas veces la 2da mas frecuentes (ranking=2)..., la n-esima mas frecuente (ranking = n) "
      ]
    },
    {
      "cell_type": "code",
      "execution_count": null,
      "metadata": {
        "id": "2j8vQmOewrsc"
      },
      "outputs": [],
      "source": [
        "texto_ej4='Jueves 29.3.2018 BUENOS AIRES\\n INGRESAR EDICIÓN IMPRESA Suscribirse Onmail\\n   SEGUINOS\\nPORTADA\\t\\tPOLÍTICA\\tMUNDO\\tNACIONAL\\t\\tINFO. GRAL\\t\\tESPECTÁCULOS\\t\\t\\n\\nambito.comJueves 29.3.2018\\n\\nECONOMÍA\\n\\n\\n\\n\\n\\nPOR MARIANA LEIVA.- lunes 26 de Marzo de 2018\\nEl BCRA intervino por séptima rueda consecutiva y el dólar cedió cinco centavos a $ 20,49\\nMariana Leiva \\t\\nMARIANA LEIVA\\n \\nCon un Banco Central presente en la rueda por séptima rueda consecutiva, el dólar inició la semana con nueva baja, al ceder cinco centavos a $ 20,49 en agencias y bancos de la city porteña, de acuerdo al promedio de ámbito.com. \\n\\nEl billete -que anotó su segunda caída consecutiva- se desacopló del segmento mayorista, donde la divisa terminó sin cambios a $ 20,21.\\n\\nDurante la rueda, la moneda estadounidense tuvo un recorrido muy acotado en una rueda en la que el Banco Central volvió a fijar límites al movimiento de los precios. Operadores estimaron que la autoridad monetaria habría vendido unos u$s 100 millones, con lo que en el mes llevaría desembolsado cerca de u$s 1.800 millones. \\n\\nA poco de iniciada la sesión se hizo presente una postura de venta en $ 20,21 efectivizada por el BCRA que señaló el límite superior fijado en la banda de fluctuación del tipo de cambio. La presencia oficial, en este sentido, disuadió desde el arranque presiones sobre los precios que merced a una mayor oferta privada descendieron hasta tocar mínimos en los $ 20,163. Al final del día, sus ventas sumaron u$s 69 millones.\\n\\nLa oferta provino, además, de las liquidaciones de exportadores cerealeros con un promedio u$s 85 millones por día (aumentó 40% que la semana anterior) y también de otros rubros que realimentan la venta de la divisa norteamericana, además de algunos inversores tentados por la tasa de interés en pesos ahora que tienen un dólar con poca oscilación y con un techo de $ 20,4 y un piso de $ 20,2, según puntualizaron de ABC Mercado de Cambios. \\n\\nDesde PR Corredores de Cambio, indicaron que \"el inicio de la semana corta presentó un escenario dominado en forma reiterada por la regulación oficial del tipo de cambio. La estrategia del Banco Central apuntó a dejar sin posibilidad de que los precios del dólar superaran el nivel alcanzado en el cierre de la semana pasada pero sin forzar una nueva caída en su cotización\". El volumen operado descendió un 6,5% a u$s 758 millones.\\n\\n\"La suerte de la evolución del dólar en el cierre de marzo parece estar echada y, dadas las características de las últimas regulaciones oficiales su nivel para el miércoles próximo se anticipa que no estará muy alejado del alcanzado en la fecha, un dato que los mercados de futuros descuentan en su cotización de esta rueda\", agregaron.\\n\\nEn el mercado de dinero entre bancos, el \"call money\" operó estable a un promedio del 25,5% TNA y en \"swaps\" cambiarios se pactaron u$s 148 millones para tomar y/o colocar fondos en pesos mediante el uso de compra-venta de dólares para el martes y el miércoles. Las Lebac en el circuito secundario se operaban al plazo de 23 días a 23,55% TNA, y la de 268 días al 24,9% TNA.\\n\\nEn el Rofex, donde se operaron u$s 1.156 millones, más del 40% se operó para fin de mes a $ 20,215 con una tasa implícita del 9% TNA y el plazo más largo fue julio a $ 21,63 a una tasa del 20,50% TNA. \\n\\nEn la plaza paralela, el blue cayó seis centavos a $ 20,88, según el relevamiento de este medio en cuevas del microcentro porteño. Asimismo, el \"contado con liqui\" bajó 10 centavos a $ 20,19.\\n\\nPor último, las reservas del Banco Central aumentaron este lunes u$s 18 millones, hasta los u$s 60.917 millones.\\nTAGS\\n \\n\\n\\n\\n'"
      ]
    },
    {
      "cell_type": "code",
      "execution_count": null,
      "metadata": {
        "id": "d0oY_qnbSXDY"
      },
      "outputs": [],
      "source": [
        "print(texto_ej4)"
      ]
    },
    {
      "cell_type": "markdown",
      "metadata": {
        "id": "Nj-Rl4lFIia2"
      },
      "source": [
        "## Ejemplo de respuesta ej 1"
      ]
    },
    {
      "cell_type": "code",
      "execution_count": null,
      "metadata": {
        "id": "J3YecRXPwrsp"
      },
      "outputs": [],
      "source": [
        "c[3:-5]+str(b)+a[-7:]+d[1::2]"
      ]
    },
    {
      "cell_type": "markdown",
      "metadata": {
        "id": "1KIea6nIKFwm"
      },
      "source": [
        "## Ejemplo de respuesta ej 2\n",
        "### a) cuantas letras hay en la tercer oración?\n",
        "\n"
      ]
    },
    {
      "cell_type": "code",
      "execution_count": null,
      "metadata": {
        "id": "zPVptgJaKJQB"
      },
      "outputs": [],
      "source": [
        "texto_ej2.split(\".\")"
      ]
    },
    {
      "cell_type": "code",
      "execution_count": null,
      "metadata": {
        "id": "F7KxZgx4KVup"
      },
      "outputs": [],
      "source": [
        "len(texto_ej2.split(\".\")[2].replace(\" \",\"\"))"
      ]
    },
    {
      "cell_type": "markdown",
      "metadata": {
        "id": "UIdBtGzyLv_u"
      },
      "source": [
        "### b) cuantas palabras hay en todo el texto"
      ]
    },
    {
      "cell_type": "code",
      "execution_count": null,
      "metadata": {
        "id": "ik8yEQL4Lll8"
      },
      "outputs": [],
      "source": [
        "len(texto_ej2.split(\" \"))"
      ]
    },
    {
      "cell_type": "markdown",
      "metadata": {
        "id": "g41zAcSqsS6v"
      },
      "source": [
        "## Ejemplo de respuesta ej 3"
      ]
    },
    {
      "cell_type": "code",
      "execution_count": null,
      "metadata": {
        "id": "U7FfSZOosQo8"
      },
      "outputs": [],
      "source": [
        "re.findall(r\"\\d{1,2}[/-]\\d{1,2}[/-]?\\d{0,4}\",texto_ej3)"
      ]
    },
    {
      "cell_type": "markdown",
      "metadata": {
        "id": "-CXsQruAwrss"
      },
      "source": [
        "## Ejemplo de respuesta ej 4"
      ]
    },
    {
      "cell_type": "markdown",
      "metadata": {
        "id": "krigxOSQwrss"
      },
      "source": [
        "### a) Cuales son las 10 palabras mas frecuentes? no contar efecto de si es mayúscula o minúscula. "
      ]
    },
    {
      "cell_type": "code",
      "execution_count": null,
      "metadata": {
        "id": "ANHz-N-Xwrst"
      },
      "outputs": [],
      "source": [
        "palabras_frec = pd.Series([w for w in word_tokenize(texto_ej4.lower(),language=\"spanish\") if w.isalpha()]).value_counts()  \n",
        "palabras_frec[:10]"
      ]
    },
    {
      "cell_type": "markdown",
      "metadata": {
        "id": "F65Yqk4uwrsu"
      },
      "source": [
        "### b) cuantas palabras son stopwords? que porcentaje de las palabras son stopwords?"
      ]
    },
    {
      "cell_type": "code",
      "execution_count": null,
      "metadata": {
        "id": "E6JwnfU5wrsu"
      },
      "outputs": [],
      "source": [
        "palabras = [w for w in word_tokenize(texto_ej4.lower(),language=\"spanish\") if w.isalpha()]\n",
        "texto_ej4_stopwords = [w for w in palabras if w in stoplist]\n",
        "n_stopwords = len(texto_ej4_stopwords)\n",
        "print(\"hay\",n_stopwords,\"stopwords\")\n",
        "porcentaje = n_stopwords/len(palabras)*100\n",
        "print(\"un %\",round(porcentaje),\"de las palabras son stopwords! WTF\")"
      ]
    },
    {
      "cell_type": "code",
      "execution_count": null,
      "metadata": {
        "id": "pu7dwpfuwrsw"
      },
      "outputs": [],
      "source": [
        "# usando pandas\n",
        "print( palabras_frec[[p in stoplist for p in palabras_frec.index]].sum())\n",
        "print( palabras_frec[[p in stoplist for p in palabras_frec.index]].sum() /palabras_frec.sum() *100)"
      ]
    },
    {
      "cell_type": "markdown",
      "metadata": {
        "id": "e_UqVHmiwrsy"
      },
      "source": [
        "### c) Sacar las tíldes (normalización)"
      ]
    },
    {
      "cell_type": "code",
      "execution_count": null,
      "metadata": {
        "id": "3ISSDUR4wrsy"
      },
      "outputs": [],
      "source": [
        "def sacar_tildes(texto):\n",
        "    texto = re.sub(\"á\",\"a\",texto)\n",
        "    texto = re.sub(\"é\",\"e\",texto)\n",
        "    texto = re.sub(\"í\",\"i\",texto)\n",
        "    texto = re.sub(\"ó\",\"o\",texto)\n",
        "    texto = re.sub(\"ú\",\"u\",texto)\n",
        "    texto = re.sub(\"Á\",\"A\",texto)\n",
        "    texto = re.sub(\"É\",\"E\",texto)\n",
        "    texto = re.sub(\"Í\",\"I\",texto)\n",
        "    texto = re.sub(\"Ó\",\"O\",texto)\n",
        "    return re.sub(\"Ú\",\"U\",texto)\n",
        "     \n",
        "texto_ej4c = sacar_tildes(texto_ej4)\n",
        "print(texto_ej4c)"
      ]
    },
    {
      "cell_type": "markdown",
      "metadata": {
        "id": "qyOxgjKawrsz"
      },
      "source": [
        "### d) pasar los millones a números 1.800 millones -> 1.800.000  (normalización)"
      ]
    },
    {
      "cell_type": "code",
      "execution_count": null,
      "metadata": {
        "id": "UVEHYsAIwrsz"
      },
      "outputs": [],
      "source": [
        "texto_ej4d = re.sub(r\"(\\d) millones\",\"\\g<1>.000.000\",texto_ej4)\n",
        "print(texto_ej4d)"
      ]
    },
    {
      "cell_type": "markdown",
      "metadata": {
        "id": "yMNs9g-Twrs1"
      },
      "source": [
        "### e) extraer los numeros asociados a dolares, pesos y porcentajes"
      ]
    },
    {
      "cell_type": "code",
      "execution_count": null,
      "metadata": {
        "id": "4rGrEmX_wrs1"
      },
      "outputs": [],
      "source": [
        "print(\"Dolares:\",re.findall(r\"(?<=u\\$s )\\d+(?:\\.\\d\\d\\d)*(?:\\,\\d+)?\",texto_ej4))"
      ]
    },
    {
      "cell_type": "code",
      "execution_count": null,
      "metadata": {
        "id": "RPZL_pPdwrs3"
      },
      "outputs": [],
      "source": [
        "print(\"Pesos:\",re.findall(r\"(?<=\\$ )\\d+(?:\\.\\d\\d\\d)*(?:\\,\\d+)?\",texto_ej4))"
      ]
    },
    {
      "cell_type": "code",
      "execution_count": null,
      "metadata": {
        "id": "nGg0kN9ywrs4"
      },
      "outputs": [],
      "source": [
        "print(\"Porcentajes:\",re.findall(r\"\\d+(?:\\,\\d+)?(?=\\%)\",texto_ej4))"
      ]
    },
    {
      "cell_type": "markdown",
      "metadata": {
        "id": "XHR_rapbwrs5"
      },
      "source": [
        "### f) Plotear en eje log-log un la frequencia de las palabras vs su ranking: es decir representar en un scatterplot cuantas veces aparece la palabra mas frecuente (ranking=1), cuantas veces la 2da mas frecuentes (ranking=2)..., la n-esima mas frecuente (ranking = n) "
      ]
    },
    {
      "cell_type": "code",
      "execution_count": null,
      "metadata": {
        "id": "pVTVZ-USwrs5"
      },
      "outputs": [],
      "source": [
        "%matplotlib inline \n",
        "import matplotlib.pyplot as plt\n",
        "plt.scatter(range(1,len(palabras_frec)+1),palabras_frec)\n",
        "plt.xscale(\"log\");plt.yscale(\"log\")\n",
        "plt.xlabel(\"Ranking\"); plt.ylabel(\"Frecuencia\");"
      ]
    }
  ]
}