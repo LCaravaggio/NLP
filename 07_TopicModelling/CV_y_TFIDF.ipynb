{
  "cells": [
    {
      "cell_type": "markdown",
      "metadata": {
        "id": "view-in-github",
        "colab_type": "text"
      },
      "source": [
        "<a href=\"https://colab.research.google.com/github/LCaravaggio/NLP/blob/main/07_TopicModelling/CV_y_TFIDF.ipynb\" target=\"_parent\"><img src=\"https://colab.research.google.com/assets/colab-badge.svg\" alt=\"Open In Colab\"/></a>"
      ]
    },
    {
      "cell_type": "markdown",
      "metadata": {
        "id": "TAXIuXm-ep1s"
      },
      "source": [
        "# Information Retrieval"
      ]
    },
    {
      "cell_type": "code",
      "execution_count": 97,
      "metadata": {
        "id": "iBfnE1dLep1v"
      },
      "outputs": [],
      "source": [
        "from sklearn.datasets import fetch_20newsgroups\n",
        "from sklearn.feature_extraction.text import CountVectorizer, TfidfVectorizer\n",
        "from matplotlib import pyplot as plt\n",
        "import numpy as np"
      ]
    },
    {
      "cell_type": "markdown",
      "metadata": {
        "id": "REhXgRYGep1w"
      },
      "source": [
        "<img src=\"https://github.com/deeplearning-itba/NLP-Tecnicas-Tradicionales/blob/master/tf.png?raw=1\" >\n",
        "<img src=\"https://github.com/deeplearning-itba/NLP-Tecnicas-Tradicionales/blob/master/idf.png?raw=1\" >\n",
        "<img src=\"https://github.com/deeplearning-itba/NLP-Tecnicas-Tradicionales/blob/master/tfidf.png?raw=1\" >"
      ]
    },
    {
      "cell_type": "markdown",
      "source": [
        "Cargamos el 20 Newsgroup, un corpus muy usado en NLP. Es una suerte de foro de internet.\n",
        "\n",
        "Página oficial: https://scikit-learn.org/0.19/datasets/twenty_newsgroups.html"
      ],
      "metadata": {
        "id": "HH9UzIPZe-eF"
      }
    },
    {
      "cell_type": "code",
      "execution_count": 98,
      "metadata": {
        "id": "DxDbTVVTep1x"
      },
      "outputs": [],
      "source": [
        "TNG_train = fetch_20newsgroups(subset=\"train\",remove=('headers', 'footers', 'quotes'))"
      ]
    },
    {
      "cell_type": "code",
      "source": [
        "TNG_train.keys()"
      ],
      "metadata": {
        "id": "S44oBW70YjEn",
        "outputId": "61b48e4c-0fe9-4806-c8a3-8b0c62cb05c0",
        "colab": {
          "base_uri": "https://localhost:8080/"
        }
      },
      "execution_count": 99,
      "outputs": [
        {
          "output_type": "execute_result",
          "data": {
            "text/plain": [
              "dict_keys(['data', 'filenames', 'target_names', 'target', 'DESCR'])"
            ]
          },
          "metadata": {},
          "execution_count": 99
        }
      ]
    },
    {
      "cell_type": "code",
      "source": [
        "TNG_train.data[0]"
      ],
      "metadata": {
        "id": "XB0mQma1fKDU",
        "outputId": "1022dd3e-9cdc-4fac-eef1-3e7d16f3d58f",
        "colab": {
          "base_uri": "https://localhost:8080/",
          "height": 87
        }
      },
      "execution_count": 100,
      "outputs": [
        {
          "output_type": "execute_result",
          "data": {
            "text/plain": [
              "'I was wondering if anyone out there could enlighten me on this car I saw\\nthe other day. It was a 2-door sports car, looked to be from the late 60s/\\nearly 70s. It was called a Bricklin. The doors were really small. In addition,\\nthe front bumper was separate from the rest of the body. This is \\nall I know. If anyone can tellme a model name, engine specs, years\\nof production, where this car is made, history, or whatever info you\\nhave on this funky looking car, please e-mail.'"
            ],
            "application/vnd.google.colaboratory.intrinsic+json": {
              "type": "string"
            }
          },
          "metadata": {},
          "execution_count": 100
        }
      ]
    },
    {
      "cell_type": "code",
      "source": [
        "TNG_train.target[0]"
      ],
      "metadata": {
        "id": "2Vt9sr10Y-Pf",
        "outputId": "584cfe97-0d67-4eab-fe31-57582626aef5",
        "colab": {
          "base_uri": "https://localhost:8080/"
        }
      },
      "execution_count": 101,
      "outputs": [
        {
          "output_type": "execute_result",
          "data": {
            "text/plain": [
              "7"
            ]
          },
          "metadata": {},
          "execution_count": 101
        }
      ]
    },
    {
      "cell_type": "code",
      "source": [
        "TNG_train.target_names"
      ],
      "metadata": {
        "id": "NVKWVhEfZBPF",
        "outputId": "ec3a159a-2164-4be9-97bc-1caff576cea1",
        "colab": {
          "base_uri": "https://localhost:8080/"
        }
      },
      "execution_count": 102,
      "outputs": [
        {
          "output_type": "execute_result",
          "data": {
            "text/plain": [
              "['alt.atheism',\n",
              " 'comp.graphics',\n",
              " 'comp.os.ms-windows.misc',\n",
              " 'comp.sys.ibm.pc.hardware',\n",
              " 'comp.sys.mac.hardware',\n",
              " 'comp.windows.x',\n",
              " 'misc.forsale',\n",
              " 'rec.autos',\n",
              " 'rec.motorcycles',\n",
              " 'rec.sport.baseball',\n",
              " 'rec.sport.hockey',\n",
              " 'sci.crypt',\n",
              " 'sci.electronics',\n",
              " 'sci.med',\n",
              " 'sci.space',\n",
              " 'soc.religion.christian',\n",
              " 'talk.politics.guns',\n",
              " 'talk.politics.mideast',\n",
              " 'talk.politics.misc',\n",
              " 'talk.religion.misc']"
            ]
          },
          "metadata": {},
          "execution_count": 102
        }
      ]
    },
    {
      "cell_type": "code",
      "source": [
        "# Se trata de un corpus con 11314 documentos\n",
        "len(TNG_train.data)"
      ],
      "metadata": {
        "id": "_fc-tPTcoVOR",
        "outputId": "cd6060a9-6c58-4df1-9e99-58024c2acafc",
        "colab": {
          "base_uri": "https://localhost:8080/"
        }
      },
      "execution_count": 103,
      "outputs": [
        {
          "output_type": "execute_result",
          "data": {
            "text/plain": [
              "11314"
            ]
          },
          "metadata": {},
          "execution_count": 103
        }
      ]
    },
    {
      "cell_type": "code",
      "source": [
        "# Le hacemos primero un CountVectorizer con Ngramas de N=1 es decir, unigramas.\n",
        "# El hiperparámetro ngram_range indica el mínimo y el máximo del ngrama. (1,1) significa unigrama. (1,2) significa unigramas y bigramas. (2,2) significa solo bigramas. Etc.\n",
        "cv = CountVectorizer(ngram_range=(1,1), max_df=0.85, min_df=5, max_features=None, stop_words=\"english\")"
      ],
      "metadata": {
        "id": "Riowyk9DfHw9"
      },
      "execution_count": 104,
      "outputs": []
    },
    {
      "cell_type": "code",
      "source": [
        "# Aprende el diccionario y devuelve la matríz término-documento (document-term)\n",
        "TNG_cv = cv.fit_transform(TNG_train.data)"
      ],
      "metadata": {
        "id": "tvltshTBgVM2"
      },
      "execution_count": 105,
      "outputs": []
    },
    {
      "cell_type": "code",
      "source": [
        "#Tamaño del vocabulario\n",
        "print(f'El vocabulario es: {cv.get_feature_names_out()}')\n",
        "print(f'El tamaño del vocabulario es: {len(cv.get_feature_names_out())}')"
      ],
      "metadata": {
        "id": "pvet3JMIgggk",
        "outputId": "bb29102e-2d79-4d9a-f922-2750b2719433",
        "colab": {
          "base_uri": "https://localhost:8080/"
        }
      },
      "execution_count": 106,
      "outputs": [
        {
          "output_type": "stream",
          "name": "stdout",
          "text": [
            "El vocabulario es: ['00' '000' '0000' ... 'zx' 'zy' 'zz']\n",
            "El tamaño del vocabulario es: 17797\n"
          ]
        }
      ]
    },
    {
      "cell_type": "code",
      "source": [
        "# Por ejemplo la palabra \"lunatic\" es la palabra 10000\n",
        "cv.get_feature_names_out()[10000]"
      ],
      "metadata": {
        "id": "H7Ct8RSAms8t",
        "outputId": "12bac365-f417-455e-f047-17286f750f4f",
        "colab": {
          "base_uri": "https://localhost:8080/",
          "height": 35
        }
      },
      "execution_count": 108,
      "outputs": [
        {
          "output_type": "execute_result",
          "data": {
            "text/plain": [
              "'lunatic'"
            ],
            "application/vnd.google.colaboratory.intrinsic+json": {
              "type": "string"
            }
          },
          "metadata": {},
          "execution_count": 108
        }
      ]
    },
    {
      "cell_type": "code",
      "source": [
        "# La matríz aprendida es la siguiente:\n",
        "# (# de documento, palabra) Frecuencia de la palabra\n",
        "# Vemos que por ejemplo, la palabra \"wondering\" (37946) aparece 1 vez en el documento 0, y la palabra \"car\" (8308) aparece 4 veces\n",
        "print(TNG_cv[0])"
      ],
      "metadata": {
        "id": "Lo_FRGSHkq9Y",
        "outputId": "5942f352-48c3-4a27-d512-2dc44aba1ba4",
        "colab": {
          "base_uri": "https://localhost:8080/"
        }
      },
      "execution_count": 110,
      "outputs": [
        {
          "output_type": "stream",
          "name": "stdout",
          "text": [
            "  (0, 17413)\t1\n",
            "  (0, 6265)\t1\n",
            "  (0, 3531)\t4\n",
            "  (0, 14152)\t1\n",
            "  (0, 5053)\t1\n",
            "  (0, 5784)\t1\n",
            "  (0, 15084)\t1\n",
            "  (0, 9923)\t1\n",
            "  (0, 9579)\t1\n",
            "  (0, 1002)\t1\n",
            "  (0, 5967)\t1\n",
            "  (0, 1131)\t1\n",
            "  (0, 3457)\t1\n",
            "  (0, 5785)\t1\n",
            "  (0, 13219)\t1\n",
            "  (0, 14807)\t1\n",
            "  (0, 1704)\t1\n",
            "  (0, 3329)\t1\n",
            "  (0, 14401)\t1\n",
            "  (0, 13657)\t1\n",
            "  (0, 3067)\t1\n",
            "  (0, 9449)\t1\n",
            "  (0, 10683)\t1\n",
            "  (0, 6245)\t1\n",
            "  (0, 15007)\t1\n",
            "  (0, 17669)\t1\n",
            "  (0, 12688)\t1\n",
            "  (0, 8143)\t1\n",
            "  (0, 8701)\t1\n",
            "  (0, 7313)\t1\n",
            "  (0, 9924)\t1\n",
            "  (0, 10100)\t1\n"
          ]
        }
      ]
    },
    {
      "cell_type": "code",
      "source": [
        "# La palabra 3531 es la palabra \"car\" que en el documento 0 aparece 4 veces\n",
        "cv.get_feature_names_out()[3531]"
      ],
      "metadata": {
        "id": "3mvHGaOBvsSN",
        "outputId": "0381b1f8-767c-4109-e1d7-9157b085ec41",
        "colab": {
          "base_uri": "https://localhost:8080/",
          "height": 35
        }
      },
      "execution_count": 111,
      "outputs": [
        {
          "output_type": "execute_result",
          "data": {
            "text/plain": [
              "'car'"
            ],
            "application/vnd.google.colaboratory.intrinsic+json": {
              "type": "string"
            }
          },
          "metadata": {},
          "execution_count": 111
        }
      ]
    },
    {
      "cell_type": "code",
      "execution_count": 112,
      "metadata": {
        "id": "M-PdvSGDep1x"
      },
      "outputs": [],
      "source": [
        "# Ahora hacemos lo mismo pero con TF-IDF.\n",
        "tfidf = TfidfVectorizer(ngram_range=(1,1), max_df=0.85, min_df=5, max_features=None, stop_words=\"english\")"
      ]
    },
    {
      "cell_type": "code",
      "execution_count": 113,
      "metadata": {
        "id": "pRLBeyE_ep1x"
      },
      "outputs": [],
      "source": [
        "TNG_tfidf = tfidf.fit_transform(TNG_train.data)"
      ]
    },
    {
      "cell_type": "code",
      "execution_count": 114,
      "metadata": {
        "id": "wc9LdzNMep1y",
        "outputId": "ba2200a1-f87a-4f82-fb67-32543e2d580f",
        "colab": {
          "base_uri": "https://localhost:8080/"
        }
      },
      "outputs": [
        {
          "output_type": "stream",
          "name": "stdout",
          "text": [
            "El vocabulario es: ['00' '000' '0000' ... 'zx' 'zy' 'zz']\n",
            "El tamaño del vocabulario es 17797\n"
          ]
        }
      ],
      "source": [
        "#Tamaño del vocabulario\n",
        "print(f'El vocabulario es: {tfidf.get_feature_names_out()}')\n",
        "print(f'El tamaño del vocabulario es {len(tfidf.get_feature_names_out())}')"
      ]
    },
    {
      "cell_type": "code",
      "source": [
        "# Los TF-IDF de las palabras que aparecen en el documento 0 son:\n",
        "print(TNG_tfidf[1])"
      ],
      "metadata": {
        "id": "-DdmVzNtkVeF",
        "outputId": "2bfaee16-c1b7-4d1c-cda5-6b2ca3d7c1db",
        "colab": {
          "base_uri": "https://localhost:8080/"
        }
      },
      "execution_count": 118,
      "outputs": [
        {
          "output_type": "stream",
          "name": "stdout",
          "text": [
            "  (0, 15942)\t0.07170450486503012\n",
            "  (0, 2122)\t0.13368518184186595\n",
            "  (0, 7959)\t0.1020843317288523\n",
            "  (0, 16703)\t0.12629348513989097\n",
            "  (0, 2713)\t0.11269429454658003\n",
            "  (0, 9453)\t0.1097608473047383\n",
            "  (0, 11097)\t0.11174927909257493\n",
            "  (0, 5055)\t0.09512234499611415\n",
            "  (0, 15504)\t0.17643336747390756\n",
            "  (0, 13578)\t0.14290862421768685\n",
            "  (0, 6389)\t0.09962131406333796\n",
            "  (0, 7037)\t0.15088101257212977\n",
            "  (0, 1217)\t0.11622198608645516\n",
            "  (0, 7297)\t0.14769162198784277\n",
            "  (0, 5616)\t0.10354685490078712\n",
            "  (0, 7038)\t0.12059889131778316\n",
            "  (0, 16737)\t0.13979681424988097\n",
            "  (0, 8266)\t0.12941991946532266\n",
            "  (0, 14697)\t0.17874795064405805\n",
            "  (0, 8017)\t0.12941991946532266\n",
            "  (0, 1691)\t0.16013432337095507\n",
            "  (0, 3541)\t0.11174927909257493\n",
            "  (0, 1696)\t0.2056838633831948\n",
            "  (0, 13150)\t0.14710576802264153\n",
            "  (0, 4748)\t0.12792150550454115\n",
            "  (0, 2475)\t0.18133543448805195\n",
            "  (0, 15021)\t0.1983203900565085\n",
            "  (0, 12663)\t0.13938618132715827\n",
            "  (0, 5375)\t0.17242808708707444\n",
            "  (0, 10448)\t0.09909510395326906\n",
            "  (0, 3226)\t0.14064185003645066\n",
            "  (0, 14375)\t0.09125309118466773\n",
            "  (0, 12350)\t0.3162716703512959\n",
            "  (0, 6583)\t0.2649288220597633\n",
            "  (0, 14498)\t0.13368518184186595\n",
            "  (0, 11631)\t0.16352073968609693\n",
            "  (0, 4005)\t0.2455586924911627\n",
            "  (0, 14617)\t0.14243617113270096\n",
            "  (0, 16704)\t0.14891239279982707\n",
            "  (0, 14941)\t0.15381445981397146\n",
            "  (0, 3188)\t0.16233297898060264\n",
            "  (0, 11286)\t0.08364158113049631\n",
            "  (0, 6728)\t0.12130193441042966\n",
            "  (0, 5053)\t0.08637833085115\n"
          ]
        }
      ]
    },
    {
      "cell_type": "code",
      "source": [
        "# La palabra 12350 es la palabra \"poll\" que es la de mayor TFIDF en el documento 1\n",
        "tfidf.get_feature_names_out()[12350]"
      ],
      "metadata": {
        "id": "BUHEZ94gwzNi",
        "outputId": "ec4fba6a-44ed-4f9a-d783-56b6614503a2",
        "colab": {
          "base_uri": "https://localhost:8080/",
          "height": 35
        }
      },
      "execution_count": 119,
      "outputs": [
        {
          "output_type": "execute_result",
          "data": {
            "text/plain": [
              "'poll'"
            ],
            "application/vnd.google.colaboratory.intrinsic+json": {
              "type": "string"
            }
          },
          "metadata": {},
          "execution_count": 119
        }
      ]
    },
    {
      "cell_type": "markdown",
      "metadata": {
        "id": "ARf0Fgx5ep1z"
      },
      "source": [
        "# Cálculo del Document Frecuency de cada palabra"
      ]
    },
    {
      "cell_type": "code",
      "execution_count": 120,
      "metadata": {
        "id": "eYQpBb4vep10"
      },
      "outputs": [],
      "source": [
        "doc_freq = np.array(TNG_cv.astype(bool).sum(axis=0)).flatten()"
      ]
    },
    {
      "cell_type": "code",
      "source": [
        "# Así, en doc_freq tengo la cantidad de apariciones de cada una de las palabras\n",
        "doc_freq"
      ],
      "metadata": {
        "id": "2OlPMZ9IkJCw",
        "outputId": "3892efba-b3cc-44d0-ad30-2677149bbe8e",
        "colab": {
          "base_uri": "https://localhost:8080/"
        }
      },
      "execution_count": 121,
      "outputs": [
        {
          "output_type": "execute_result",
          "data": {
            "text/plain": [
              "array([243, 262,   7, ...,  19,   6,   7])"
            ]
          },
          "metadata": {},
          "execution_count": 121
        }
      ]
    },
    {
      "cell_type": "code",
      "source": [
        "# El vacabulario es de 17797 palabras, pero en total hay 638596 palabras (porque algunas palabras se repiten)\n",
        "doc_freq.sum()"
      ],
      "metadata": {
        "id": "9uyRYcXeTsf6",
        "outputId": "b2d42fed-b316-41fb-c4da-b115512c62bf",
        "colab": {
          "base_uri": "https://localhost:8080/"
        }
      },
      "execution_count": 126,
      "outputs": [
        {
          "output_type": "execute_result",
          "data": {
            "text/plain": [
              "638596"
            ]
          },
          "metadata": {},
          "execution_count": 126
        }
      ]
    },
    {
      "cell_type": "code",
      "source": [
        "# La palabra \"car\" aparece 396 veces en total\n",
        "mail=doc_freq[3531]\n",
        "print(mail)"
      ],
      "metadata": {
        "id": "AZ3UE3Te0R4R",
        "outputId": "082d730b-a50b-4e2b-ab3a-03dba2a6de41",
        "colab": {
          "base_uri": "https://localhost:8080/"
        }
      },
      "execution_count": 127,
      "outputs": [
        {
          "output_type": "stream",
          "name": "stdout",
          "text": [
            "396\n"
          ]
        }
      ]
    },
    {
      "cell_type": "code",
      "source": [
        "# Hay en total 11314 documentos (esto ya lo habíamos calculado)\n",
        "N=len(TNG_train.data)\n",
        "print(N)"
      ],
      "metadata": {
        "id": "GSVrK7_-yqTZ",
        "outputId": "a9bcc886-be3b-427f-a157-0a6430b0345e",
        "colab": {
          "base_uri": "https://localhost:8080/"
        }
      },
      "execution_count": 125,
      "outputs": [
        {
          "output_type": "stream",
          "name": "stdout",
          "text": [
            "11314\n"
          ]
        }
      ]
    },
    {
      "cell_type": "code",
      "source": [
        "# La palabra \"car\" aparece en 1974 de esos documentos\n",
        "df=0\n",
        "name=cv.get_feature_names_out()[3531]\n",
        "for n in TNG_train.data:\n",
        "  if name in n: df+=1\n",
        "print(df)"
      ],
      "metadata": {
        "id": "Zl4Xb4qQQ7iw",
        "outputId": "d6db67ee-82db-4d6d-bc5a-d98363d5b7ea",
        "colab": {
          "base_uri": "https://localhost:8080/"
        }
      },
      "execution_count": 129,
      "outputs": [
        {
          "output_type": "stream",
          "name": "stdout",
          "text": [
            "1974\n"
          ]
        }
      ]
    },
    {
      "cell_type": "code",
      "source": [
        "# El Inverse document frecuency es:\n",
        "idf = np.log(N/df)\n",
        "print(idf)"
      ],
      "metadata": {
        "id": "Vfwyq8QfNUo6",
        "outputId": "727c6e5e-b2fa-4a5e-dd65-e4439062be53",
        "colab": {
          "base_uri": "https://localhost:8080/"
        }
      },
      "execution_count": 130,
      "outputs": [
        {
          "output_type": "stream",
          "name": "stdout",
          "text": [
            "1.7459789559096741\n"
          ]
        }
      ]
    },
    {
      "cell_type": "code",
      "source": [
        "# El TF es la cantidad de veces que aparece el término en el documento sobre la cantidad de palabras en el documento\n",
        "tf=1/33\n",
        "print(tf)"
      ],
      "metadata": {
        "id": "Lr_VTp_kO2YZ",
        "outputId": "5c5a253b-c2a5-4f51-a97b-335e82e76e5a",
        "colab": {
          "base_uri": "https://localhost:8080/"
        }
      },
      "execution_count": 131,
      "outputs": [
        {
          "output_type": "stream",
          "name": "stdout",
          "text": [
            "0.030303030303030304\n"
          ]
        }
      ]
    },
    {
      "cell_type": "code",
      "source": [
        "tfidf_manual=tf*idf\n",
        "print(tfidf_manual)"
      ],
      "metadata": {
        "id": "4JxIxayXO_Ag",
        "outputId": "57f1e94d-7a52-4308-bac7-81a8ef0ca0f5",
        "colab": {
          "base_uri": "https://localhost:8080/"
        }
      },
      "execution_count": 132,
      "outputs": [
        {
          "output_type": "stream",
          "name": "stdout",
          "text": [
            "0.05290845320938407\n"
          ]
        }
      ]
    },
    {
      "cell_type": "markdown",
      "source": [
        "¿Por qué no coincide con lo que calcula Sklearn?\n",
        "Porque sklearn normaliza a la norma Euclidea\n",
        "\n",
        "<img src=\"https://miro.medium.com/max/630/1*nQVx6kHQRgz5B2-7TrI3LA.png\">\n",
        "\n",
        "Y ajusta con +1 la fórmula para evitar los casos igual a cero.\n",
        "\n",
        "<img src=\"https://miro.medium.com/max/290/1*ckcDta2x-ZskdzvG0gjD-A.png\">\n",
        "\n",
        "https://towardsdatascience.com/measure-text-weight-using-tf-idf-in-python-plain-code-and-scikit-learn-50cb1e4375ad"
      ],
      "metadata": {
        "id": "J1boSfZOkbBl"
      }
    },
    {
      "cell_type": "code",
      "execution_count": 133,
      "metadata": {
        "id": "TQo9bXPaep11",
        "outputId": "c4170c0b-175e-4eea-cb34-e0d6db39ea9d",
        "colab": {
          "base_uri": "https://localhost:8080/",
          "height": 430
        }
      },
      "outputs": [
        {
          "output_type": "display_data",
          "data": {
            "text/plain": [
              "<Figure size 640x480 with 1 Axes>"
            ],
            "image/png": "[encoded data removed]"
          },
          "metadata": {}
        }
      ],
      "source": [
        "# Podemos ver la cola larga de la frecuencia de palabras\n",
        "# Incluso habiendo eliminado stopwords e incluso en escala logarítmica\n",
        "a = plt.hist(doc_freq, bins=100,log=True)\n",
        "plt.show()"
      ]
    },
    {
      "cell_type": "markdown",
      "source": [
        "# Clasificación"
      ],
      "metadata": {
        "id": "MlfWZwC2Vbgv"
      }
    },
    {
      "cell_type": "code",
      "source": [
        "# Además de los documentos el corpus tiene información de las categorías, por lo que podríamos hacer un ejercicio de clasificación. Sin embargo, vamos a probar hacer ejercicios de clusterización y de Topic Modelling\n",
        "TNG_train.keys()"
      ],
      "metadata": {
        "colab": {
          "base_uri": "https://localhost:8080/"
        },
        "id": "octAM5AXVVCA",
        "outputId": "a1d39200-b66c-42f6-81dd-403e4d7f5008"
      },
      "execution_count": 134,
      "outputs": [
        {
          "output_type": "execute_result",
          "data": {
            "text/plain": [
              "dict_keys(['data', 'filenames', 'target_names', 'target', 'DESCR'])"
            ]
          },
          "metadata": {},
          "execution_count": 134
        }
      ]
    },
    {
      "cell_type": "code",
      "source": [
        "TNG_train.target_names"
      ],
      "metadata": {
        "colab": {
          "base_uri": "https://localhost:8080/"
        },
        "id": "G_CJyBw7V0bZ",
        "outputId": "6c0f2fda-b7c2-4447-ec71-0c6732aa4e50"
      },
      "execution_count": 135,
      "outputs": [
        {
          "output_type": "execute_result",
          "data": {
            "text/plain": [
              "['alt.atheism',\n",
              " 'comp.graphics',\n",
              " 'comp.os.ms-windows.misc',\n",
              " 'comp.sys.ibm.pc.hardware',\n",
              " 'comp.sys.mac.hardware',\n",
              " 'comp.windows.x',\n",
              " 'misc.forsale',\n",
              " 'rec.autos',\n",
              " 'rec.motorcycles',\n",
              " 'rec.sport.baseball',\n",
              " 'rec.sport.hockey',\n",
              " 'sci.crypt',\n",
              " 'sci.electronics',\n",
              " 'sci.med',\n",
              " 'sci.space',\n",
              " 'soc.religion.christian',\n",
              " 'talk.politics.guns',\n",
              " 'talk.politics.mideast',\n",
              " 'talk.politics.misc',\n",
              " 'talk.religion.misc']"
            ]
          },
          "metadata": {},
          "execution_count": 135
        }
      ]
    },
    {
      "cell_type": "code",
      "source": [
        "import seaborn as sns\n",
        "sns.displot(TNG_train.target)"
      ],
      "metadata": {
        "colab": {
          "base_uri": "https://localhost:8080/",
          "height": 523
        },
        "id": "l_8kQol9Yrkz",
        "outputId": "0dfe6b6e-da7a-4e38-96f0-2e9bd65bb8ff"
      },
      "execution_count": 137,
      "outputs": [
        {
          "output_type": "execute_result",
          "data": {
            "text/plain": [
              "<seaborn.axisgrid.FacetGrid at 0x7e7dfca5f340>"
            ]
          },
          "metadata": {},
          "execution_count": 137
        },
        {
          "output_type": "display_data",
          "data": {
            "text/plain": [
              "<Figure size 500x500 with 1 Axes>"
            ],
            "image/png": "[encoded data removed]"
          },
          "metadata": {}
        }
      ]
    },
    {
      "cell_type": "code",
      "source": [
        "# El documento 0 es:\n",
        "TNG_train.data[0]"
      ],
      "metadata": {
        "colab": {
          "base_uri": "https://localhost:8080/",
          "height": 87
        },
        "id": "ZZdt417QV4C_",
        "outputId": "5cc38bed-89b4-450b-ec2a-8add6020bd09"
      },
      "execution_count": 138,
      "outputs": [
        {
          "output_type": "execute_result",
          "data": {
            "text/plain": [
              "'I was wondering if anyone out there could enlighten me on this car I saw\\nthe other day. It was a 2-door sports car, looked to be from the late 60s/\\nearly 70s. It was called a Bricklin. The doors were really small. In addition,\\nthe front bumper was separate from the rest of the body. This is \\nall I know. If anyone can tellme a model name, engine specs, years\\nof production, where this car is made, history, or whatever info you\\nhave on this funky looking car, please e-mail.'"
            ],
            "application/vnd.google.colaboratory.intrinsic+json": {
              "type": "string"
            }
          },
          "metadata": {},
          "execution_count": 138
        }
      ]
    },
    {
      "cell_type": "code",
      "source": [
        "# Y tiene como tópico el número 7\n",
        "TNG_train.target[0]"
      ],
      "metadata": {
        "colab": {
          "base_uri": "https://localhost:8080/"
        },
        "id": "wKSuYU9gVswz",
        "outputId": "0eb4fb12-2c87-4bf4-c682-7d08ad6bdd37"
      },
      "execution_count": 139,
      "outputs": [
        {
          "output_type": "execute_result",
          "data": {
            "text/plain": [
              "7"
            ]
          },
          "metadata": {},
          "execution_count": 139
        }
      ]
    },
    {
      "cell_type": "code",
      "source": [
        "# que corresponde a la categoría autos\n",
        "TNG_train.target_names[7]"
      ],
      "metadata": {
        "colab": {
          "base_uri": "https://localhost:8080/",
          "height": 35
        },
        "id": "0Pn2OYjYVvQy",
        "outputId": "d8d7d669-afbb-4248-f18d-62cdcec5082d"
      },
      "execution_count": 140,
      "outputs": [
        {
          "output_type": "execute_result",
          "data": {
            "text/plain": [
              "'rec.autos'"
            ],
            "application/vnd.google.colaboratory.intrinsic+json": {
              "type": "string"
            }
          },
          "metadata": {},
          "execution_count": 140
        }
      ]
    },
    {
      "cell_type": "code",
      "source": [
        "# El TFIDF del doc 0 con máximo valor es el 3531\n",
        "TNG_tfidf[0].argmax()"
      ],
      "metadata": {
        "colab": {
          "base_uri": "https://localhost:8080/"
        },
        "id": "evpwDLN-V95v",
        "outputId": "a9cb61d8-7799-4b61-cb5f-73e738d781fb"
      },
      "execution_count": 141,
      "outputs": [
        {
          "output_type": "execute_result",
          "data": {
            "text/plain": [
              "3531"
            ]
          },
          "metadata": {},
          "execution_count": 141
        }
      ]
    },
    {
      "cell_type": "code",
      "source": [
        "# Que corresponde a la palabra auto!\n",
        "tfidf.get_feature_names_out()[TNG_tfidf[0].argmax()]"
      ],
      "metadata": {
        "colab": {
          "base_uri": "https://localhost:8080/",
          "height": 35
        },
        "id": "-gJBa-y7W4Ta",
        "outputId": "2e55610b-8759-47a8-d5b2-0c809837fc09"
      },
      "execution_count": 142,
      "outputs": [
        {
          "output_type": "execute_result",
          "data": {
            "text/plain": [
              "'car'"
            ],
            "application/vnd.google.colaboratory.intrinsic+json": {
              "type": "string"
            }
          },
          "metadata": {},
          "execution_count": 142
        }
      ]
    },
    {
      "cell_type": "code",
      "execution_count": 143,
      "metadata": {
        "id": "ljaTvjI3ep17",
        "colab": {
          "base_uri": "https://localhost:8080/"
        },
        "outputId": "86615257-95c8-450e-8f6c-b1a739df9cae"
      },
      "outputs": [
        {
          "output_type": "stream",
          "name": "stdout",
          "text": [
            "0: rec.autos: car\n",
            "1: comp.sys.mac.hardware: poll\n",
            "2: comp.sys.mac.hardware: 180\n",
            "3: comp.graphics: weitek\n",
            "4: sci.space: std\n",
            "5: talk.politics.guns: weapons\n",
            "6: sci.med: thank\n",
            "7: comp.sys.ibm.pc.hardware: scsi\n",
            "8: comp.os.ms-windows.misc: icons\n",
            "9: comp.sys.mac.hardware: board\n"
          ]
        }
      ],
      "source": [
        "# Estos son los resultados para los primeros 10 documentos.\n",
        "# Está bien, pero podría estar mejor.\n",
        "for doc in range(0,10):\n",
        "  print(f'{doc}: {TNG_train.target_names[TNG_train.target[doc]]}: {tfidf.get_feature_names_out()[TNG_tfidf[doc].argmax()]}')"
      ]
    },
    {
      "cell_type": "code",
      "source": [
        "def letters_only(astr) :\n",
        "  return astr.isalpha()"
      ],
      "metadata": {
        "id": "OEHa7M5UY2JE"
      },
      "execution_count": 144,
      "outputs": []
    },
    {
      "cell_type": "code",
      "source": [
        "import nltk\n",
        "from nltk.corpus import names\n",
        "from nltk.stem import WordNetLemmatizer\n",
        "\n",
        "nltk.download('names')\n",
        "nltk.download('wordnet')\n",
        "nltk.download('omw-1.4')\n",
        "\n",
        "all_names = set(names.words())\n",
        "lemmatizer = WordNetLemmatizer()"
      ],
      "metadata": {
        "colab": {
          "base_uri": "https://localhost:8080/"
        },
        "id": "NXq2veC9Y8Ku",
        "outputId": "97806a6f-0ef8-4191-c4ca-d52f49744bcf"
      },
      "execution_count": 145,
      "outputs": [
        {
          "output_type": "stream",
          "name": "stderr",
          "text": [
            "[nltk_data] Downloading package names to /root/nltk_data...\n",
            "[nltk_data]   Package names is already up-to-date!\n",
            "[nltk_data] Downloading package wordnet to /root/nltk_data...\n",
            "[nltk_data]   Package wordnet is already up-to-date!\n",
            "[nltk_data] Downloading package omw-1.4 to /root/nltk_data...\n",
            "[nltk_data]   Package omw-1.4 is already up-to-date!\n"
          ]
        }
      ]
    },
    {
      "cell_type": "code",
      "source": [
        "# todo a lowercase\n",
        "data_=[]\n",
        "for story in TNG_train.data:\n",
        "    new=story.lower()\n",
        "    data_.append(new)"
      ],
      "metadata": {
        "id": "StEov_C7cs3j"
      },
      "execution_count": 146,
      "outputs": []
    },
    {
      "cell_type": "code",
      "source": [
        "TNG_train.data[0]"
      ],
      "metadata": {
        "colab": {
          "base_uri": "https://localhost:8080/",
          "height": 87
        },
        "id": "CXyMIR2Ga6yc",
        "outputId": "9ae1f287-f466-4f8d-d605-4ef699ce3c1c"
      },
      "execution_count": 147,
      "outputs": [
        {
          "output_type": "execute_result",
          "data": {
            "text/plain": [
              "'I was wondering if anyone out there could enlighten me on this car I saw\\nthe other day. It was a 2-door sports car, looked to be from the late 60s/\\nearly 70s. It was called a Bricklin. The doors were really small. In addition,\\nthe front bumper was separate from the rest of the body. This is \\nall I know. If anyone can tellme a model name, engine specs, years\\nof production, where this car is made, history, or whatever info you\\nhave on this funky looking car, please e-mail.'"
            ],
            "application/vnd.google.colaboratory.intrinsic+json": {
              "type": "string"
            }
          },
          "metadata": {},
          "execution_count": 147
        }
      ]
    },
    {
      "cell_type": "code",
      "source": [
        "data_[0]"
      ],
      "metadata": {
        "colab": {
          "base_uri": "https://localhost:8080/",
          "height": 87
        },
        "id": "rEY3he0RcwWf",
        "outputId": "90c45324-3948-40df-c573-9b98ee568466"
      },
      "execution_count": 148,
      "outputs": [
        {
          "output_type": "execute_result",
          "data": {
            "text/plain": [
              "'i was wondering if anyone out there could enlighten me on this car i saw\\nthe other day. it was a 2-door sports car, looked to be from the late 60s/\\nearly 70s. it was called a bricklin. the doors were really small. in addition,\\nthe front bumper was separate from the rest of the body. this is \\nall i know. if anyone can tellme a model name, engine specs, years\\nof production, where this car is made, history, or whatever info you\\nhave on this funky looking car, please e-mail.'"
            ],
            "application/vnd.google.colaboratory.intrinsic+json": {
              "type": "string"
            }
          },
          "metadata": {},
          "execution_count": 148
        }
      ]
    },
    {
      "cell_type": "code",
      "source": [
        "from nltk.tokenize import word_tokenize\n",
        "nltk.download('punkt')"
      ],
      "metadata": {
        "colab": {
          "base_uri": "https://localhost:8080/"
        },
        "id": "8fjFMEOobDnd",
        "outputId": "604501ce-5f08-4ba4-a727-e7fd484dfffc"
      },
      "execution_count": 149,
      "outputs": [
        {
          "output_type": "stream",
          "name": "stderr",
          "text": [
            "[nltk_data] Downloading package punkt to /root/nltk_data...\n",
            "[nltk_data]   Package punkt is already up-to-date!\n"
          ]
        },
        {
          "output_type": "execute_result",
          "data": {
            "text/plain": [
              "True"
            ]
          },
          "metadata": {},
          "execution_count": 149
        }
      ]
    },
    {
      "cell_type": "code",
      "source": [
        "# Hago una limpieza. Eliminar números, shortwords, lemmatizar, hacer stemming, etc...\n",
        "cleaned=[]\n",
        "for story in data_:\n",
        "    words=word_tokenize(story)\n",
        "    text=\"\"\n",
        "    for words in word_tokenize(story):\n",
        "        if (letters_only(words) and len(words)>2):\n",
        "          #lemma_word=lemmatizer.lemmatize(words)\n",
        "          #extra=\" \"+str(lemma_word)\n",
        "          #text+=extra\n",
        "          text+=\" \"+words\n",
        "    cleaned.append(text)"
      ],
      "metadata": {
        "id": "BkejeLvlecWq"
      },
      "execution_count": 173,
      "outputs": []
    },
    {
      "cell_type": "code",
      "source": [
        "cleaned[0]"
      ],
      "metadata": {
        "colab": {
          "base_uri": "https://localhost:8080/",
          "height": 70
        },
        "id": "ZDrPB0HrdkQj",
        "outputId": "0ce80537-4b27-4b54-92bb-ed68256e3cbb"
      },
      "execution_count": 174,
      "outputs": [
        {
          "output_type": "execute_result",
          "data": {
            "text/plain": [
              "' was wondering anyone out there could enlighten this car saw the other day was sports car looked from the late early was called bricklin the doors were really small addition the front bumper was separate from the rest the body this all know anyone can tellme model name engine specs years production where this car made history whatever info you have this funky looking car please'"
            ],
            "application/vnd.google.colaboratory.intrinsic+json": {
              "type": "string"
            }
          },
          "metadata": {},
          "execution_count": 174
        }
      ]
    },
    {
      "cell_type": "code",
      "source": [
        "TNG_tfidf_cleaned = tfidf.fit_transform(cleaned)"
      ],
      "metadata": {
        "id": "tGN2VsJCaZtS"
      },
      "execution_count": 175,
      "outputs": []
    },
    {
      "cell_type": "code",
      "source": [
        "for doc in range(0,10):\n",
        "  print(f'{doc}: {TNG_train.target_names[TNG_train.target[doc]]}: {tfidf.get_feature_names_out()[TNG_tfidf_cleaned[doc].argmax()]}')"
      ],
      "metadata": {
        "colab": {
          "base_uri": "https://localhost:8080/"
        },
        "id": "5Pd1jL8Kd2hf",
        "outputId": "4e7d3069-4570-4808-cab2-414d6557916d"
      },
      "execution_count": 176,
      "outputs": [
        {
          "output_type": "stream",
          "name": "stdout",
          "text": [
            "0: rec.autos: car\n",
            "1: comp.sys.mac.hardware: poll\n",
            "2: comp.sys.mac.hardware: powerbook\n",
            "3: comp.graphics: weitek\n",
            "4: sci.space: bugs\n",
            "5: talk.politics.guns: weapons\n",
            "6: sci.med: thank\n",
            "7: comp.sys.ibm.pc.hardware: burst\n",
            "8: comp.os.ms-windows.misc: icons\n",
            "9: comp.sys.mac.hardware: board\n"
          ]
        }
      ]
    },
    {
      "cell_type": "markdown",
      "source": [
        "# Kmeans"
      ],
      "metadata": {
        "id": "LB-eR4s0esRs"
      }
    },
    {
      "cell_type": "code",
      "source": [
        "from sklearn.cluster import KMeans"
      ],
      "metadata": {
        "id": "NPn_peWNfQye"
      },
      "execution_count": 177,
      "outputs": []
    },
    {
      "cell_type": "code",
      "source": [
        "number_of_clusters = 20\n",
        "TNG_cv_cleaned = cv.fit_transform(cleaned)\n",
        "kmmodel = KMeans(n_clusters=number_of_clusters)\n",
        "kmmodel.fit(TNG_cv_cleaned)"
      ],
      "metadata": {
        "colab": {
          "base_uri": "https://localhost:8080/",
          "height": 129
        },
        "id": "T5H548bLetll",
        "outputId": "f632b331-6bde-4cdc-cfd0-9eeae20ea6a0"
      },
      "execution_count": 178,
      "outputs": [
        {
          "output_type": "stream",
          "name": "stderr",
          "text": [
            "/usr/local/lib/python3.10/dist-packages/sklearn/cluster/_kmeans.py:870: FutureWarning: The default value of `n_init` will change from 10 to 'auto' in 1.4. Set the value of `n_init` explicitly to suppress the warning\n",
            "  warnings.warn(\n"
          ]
        },
        {
          "output_type": "execute_result",
          "data": {
            "text/plain": [
              "KMeans(n_clusters=20)"
            ],
            "text/html": [
              "<style>#sk-container-id-3 {color: black;background-color: white;}#sk-container-id-3 pre{padding: 0;}#sk-container-id-3 div.sk-toggleable {background-color: white;}#sk-container-id-3 label.sk-toggleable__label {cursor: pointer;display: block;width: 100%;margin-bottom: 0;padding: 0.3em;box-sizing: border-box;text-align: center;}#sk-container-id-3 label.sk-toggleable__label-arrow:before {content: \"▸\";float: left;margin-right: 0.25em;color: #696969;}#sk-container-id-3 label.sk-toggleable__label-arrow:hover:before {color: black;}#sk-container-id-3 div.sk-estimator:hover label.sk-toggleable__label-arrow:before {color: black;}#sk-container-id-3 div.sk-toggleable__content {max-height: 0;max-width: 0;overflow: hidden;text-align: left;background-color: #f0f8ff;}#sk-container-id-3 div.sk-toggleable__content pre {margin: 0.2em;color: black;border-radius: 0.25em;background-color: #f0f8ff;}#sk-container-id-3 input.sk-toggleable__control:checked~div.sk-toggleable__content {max-height: 200px;max-width: 100%;overflow: auto;}#sk-container-id-3 input.sk-toggleable__control:checked~label.sk-toggleable__label-arrow:before {content: \"▾\";}#sk-container-id-3 div.sk-estimator input.sk-toggleable__control:checked~label.sk-toggleable__label {background-color: #d4ebff;}#sk-container-id-3 div.sk-label input.sk-toggleable__control:checked~label.sk-toggleable__label {background-color: #d4ebff;}#sk-container-id-3 input.sk-hidden--visually {border: 0;clip: rect(1px 1px 1px 1px);clip: rect(1px, 1px, 1px, 1px);height: 1px;margin: -1px;overflow: hidden;padding: 0;position: absolute;width: 1px;}#sk-container-id-3 div.sk-estimator {font-family: monospace;background-color: #f0f8ff;border: 1px dotted black;border-radius: 0.25em;box-sizing: border-box;margin-bottom: 0.5em;}#sk-container-id-3 div.sk-estimator:hover {background-color: #d4ebff;}#sk-container-id-3 div.sk-parallel-item::after {content: \"\";width: 100%;border-bottom: 1px solid gray;flex-grow: 1;}#sk-container-id-3 div.sk-label:hover label.sk-toggleable__label {background-color: #d4ebff;}#sk-container-id-3 div.sk-serial::before {content: \"\";position: absolute;border-left: 1px solid gray;box-sizing: border-box;top: 0;bottom: 0;left: 50%;z-index: 0;}#sk-container-id-3 div.sk-serial {display: flex;flex-direction: column;align-items: center;background-color: white;padding-right: 0.2em;padding-left: 0.2em;position: relative;}#sk-container-id-3 div.sk-item {position: relative;z-index: 1;}#sk-container-id-3 div.sk-parallel {display: flex;align-items: stretch;justify-content: center;background-color: white;position: relative;}#sk-container-id-3 div.sk-item::before, #sk-container-id-3 div.sk-parallel-item::before {content: \"\";position: absolute;border-left: 1px solid gray;box-sizing: border-box;top: 0;bottom: 0;left: 50%;z-index: -1;}#sk-container-id-3 div.sk-parallel-item {display: flex;flex-direction: column;z-index: 1;position: relative;background-color: white;}#sk-container-id-3 div.sk-parallel-item:first-child::after {align-self: flex-end;width: 50%;}#sk-container-id-3 div.sk-parallel-item:last-child::after {align-self: flex-start;width: 50%;}#sk-container-id-3 div.sk-parallel-item:only-child::after {width: 0;}#sk-container-id-3 div.sk-dashed-wrapped {border: 1px dashed gray;margin: 0 0.4em 0.5em 0.4em;box-sizing: border-box;padding-bottom: 0.4em;background-color: white;}#sk-container-id-3 div.sk-label label {font-family: monospace;font-weight: bold;display: inline-block;line-height: 1.2em;}#sk-container-id-3 div.sk-label-container {text-align: center;}#sk-container-id-3 div.sk-container {/* jupyter's `normalize.less` sets `[hidden] { display: none; }` but bootstrap.min.css set `[hidden] { display: none !important; }` so we also need the `!important` here to be able to override the default hidden behavior on the sphinx rendered scikit-learn.org. See: https://github.com/scikit-learn/scikit-learn/issues/21755 */display: inline-block !important;position: relative;}#sk-container-id-3 div.sk-text-repr-fallback {display: none;}</style><div id=\"sk-container-id-3\" class=\"sk-top-container\"><div class=\"sk-text-repr-fallback\"><pre>KMeans(n_clusters=20)</pre><b>In a Jupyter environment, please rerun this cell to show the HTML representation or trust the notebook. <br />On GitHub, the HTML representation is unable to render, please try loading this page with nbviewer.org.</b></div><div class=\"sk-container\" hidden><div class=\"sk-item\"><div class=\"sk-estimator sk-toggleable\"><input class=\"sk-toggleable__control sk-hidden--visually\" id=\"sk-estimator-id-3\" type=\"checkbox\" checked><label for=\"sk-estimator-id-3\" class=\"sk-toggleable__label sk-toggleable__label-arrow\">KMeans</label><div class=\"sk-toggleable__content\"><pre>KMeans(n_clusters=20)</pre></div></div></div></div></div>"
            ]
          },
          "metadata": {},
          "execution_count": 178
        }
      ]
    },
    {
      "cell_type": "code",
      "source": [
        "order_centroids = kmmodel.cluster_centers_.argsort()[:, ::-1]\n",
        "terms = cv.get_feature_names_out()"
      ],
      "metadata": {
        "id": "WajYqKZgfnwt"
      },
      "execution_count": 179,
      "outputs": []
    },
    {
      "cell_type": "code",
      "source": [
        "for i in range(number_of_clusters):\n",
        "    print(\"Cluster %d:\" % i),\n",
        "    for ind in order_centroids[i, :10]:\n",
        "        print(' %s' % terms[ind])\n",
        "        plt.show()"
      ],
      "metadata": {
        "colab": {
          "base_uri": "https://localhost:8080/"
        },
        "id": "G_Dk7K2afpeg",
        "outputId": "74f7a1bc-6ce1-4499-e810-c1e359eaa5e0"
      },
      "execution_count": 180,
      "outputs": [
        {
          "output_type": "stream",
          "name": "stdout",
          "text": [
            "Cluster 0:\n",
            " bunning\n",
            " short\n",
            " reds\n",
            " louis\n",
            " san\n",
            " francisco\n",
            " cincinnati\n",
            " los\n",
            " cardinals\n",
            " angeles\n",
            "Cluster 1:\n",
            " space\n",
            " use\n",
            " people\n",
            " available\n",
            " information\n",
            " time\n",
            " new\n",
            " data\n",
            " program\n",
            " key\n",
            "Cluster 2:\n",
            " max\n",
            " bhj\n",
            " giz\n",
            " qax\n",
            " nrhj\n",
            " biz\n",
            " ghj\n",
            " bhjn\n",
            " nuy\n",
            " gizw\n",
            "Cluster 3:\n",
            " did\n",
            " people\n",
            " said\n",
            " know\n",
            " just\n",
            " went\n",
            " apartment\n",
            " like\n",
            " came\n",
            " mamma\n",
            "Cluster 4:\n",
            " like\n",
            " just\n",
            " people\n",
            " does\n",
            " know\n",
            " think\n",
            " use\n",
            " time\n",
            " did\n",
            " good\n",
            "Cluster 5:\n",
            " god\n",
            " jesus\n",
            " atheists\n",
            " does\n",
            " matthew\n",
            " people\n",
            " believe\n",
            " atheism\n",
            " religious\n",
            " religion\n",
            "Cluster 6:\n",
            " max\n",
            " giz\n",
            " bhj\n",
            " fij\n",
            " nrhj\n",
            " rlk\n",
            " qax\n",
            " fyn\n",
            " biz\n",
            " nuy\n",
            "Cluster 7:\n",
            " anonymous\n",
            " internet\n",
            " privacy\n",
            " information\n",
            " email\n",
            " anonymity\n",
            " use\n",
            " posting\n",
            " mail\n",
            " service\n",
            "Cluster 8:\n",
            " jpeg\n",
            " image\n",
            " file\n",
            " gif\n",
            " images\n",
            " format\n",
            " quality\n",
            " version\n",
            " files\n",
            " free\n",
            "Cluster 9:\n",
            " file\n",
            " gun\n",
            " control\n",
            " states\n",
            " firearms\n",
            " united\n",
            " house\n",
            " handgun\n",
            " amendment\n",
            " january\n",
            "Cluster 10:\n",
            " widget\n",
            " application\n",
            " resource\n",
            " type\n",
            " value\n",
            " converter\n",
            " visual\n",
            " data\n",
            " set\n",
            " widgets\n",
            "Cluster 11:\n",
            " stephanopoulos\n",
            " president\n",
            " going\n",
            " know\n",
            " think\n",
            " said\n",
            " administration\n",
            " did\n",
            " package\n",
            " russia\n",
            "Cluster 12:\n",
            " output\n",
            " file\n",
            " oname\n",
            " printf\n",
            " stream\n",
            " program\n",
            " char\n",
            " entry\n",
            " buf\n",
            " fprintf\n",
            "Cluster 13:\n",
            " available\n",
            " image\n",
            " window\n",
            " subject\n",
            " version\n",
            " data\n",
            " use\n",
            " server\n",
            " file\n",
            " information\n",
            "Cluster 14:\n",
            " wire\n",
            " wiring\n",
            " use\n",
            " neutral\n",
            " ground\n",
            " subject\n",
            " circuit\n",
            " cable\n",
            " outlets\n",
            " nec\n",
            "Cluster 15:\n",
            " war\n",
            " south\n",
            " secret\n",
            " nuclear\n",
            " rockefeller\n",
            " new\n",
            " military\n",
            " island\n",
            " georgia\n",
            " naval\n",
            "Cluster 16:\n",
            " turkish\n",
            " jews\n",
            " turkey\n",
            " armenian\n",
            " ottoman\n",
            " russian\n",
            " war\n",
            " armenians\n",
            " nazis\n",
            " people\n",
            "Cluster 17:\n",
            " hockey\n",
            " league\n",
            " nhl\n",
            " new\n",
            " team\n",
            " season\n",
            " games\n",
            " draft\n",
            " division\n",
            " teams\n",
            "Cluster 18:\n",
            " entry\n",
            " entries\n",
            " rules\n",
            " program\n",
            " section\n",
            " use\n",
            " files\n",
            " file\n",
            " source\n",
            " number\n",
            "Cluster 19:\n",
            " disk\n",
            " drives\n",
            " hard\n",
            " bios\n",
            " drive\n",
            " rom\n",
            " controller\n",
            " feature\n",
            " card\n",
            " supports\n"
          ]
        }
      ]
    },
    {
      "cell_type": "markdown",
      "source": [
        "# NMF"
      ],
      "metadata": {
        "id": "Uwqymy8xgCPL"
      }
    },
    {
      "cell_type": "code",
      "source": [
        "from sklearn.decomposition import NMF"
      ],
      "metadata": {
        "id": "0-weSgnRgmLw"
      },
      "execution_count": 181,
      "outputs": []
    },
    {
      "cell_type": "code",
      "source": [
        "d=20  # num topics\n",
        "cv = CountVectorizer(ngram_range=(1,1), max_df=0.8, min_df=2, max_features=None, stop_words=\"english\")\n",
        "TNG_cv_cleaned = cv.fit_transform(cleaned)\n",
        "nmf = NMF(n_components=d, random_state=1).fit(TNG_cv_cleaned)"
      ],
      "metadata": {
        "id": "Yn1S2SYEgEBL"
      },
      "execution_count": 182,
      "outputs": []
    },
    {
      "cell_type": "code",
      "source": [
        "def display_topics(model, feature_names, no_top_words):\n",
        "    for topic_idx, topic in enumerate(model.components_):\n",
        "        print(\"Topic %d:\" % (topic_idx))\n",
        "        print(\" \".join([feature_names[i]\n",
        "                        for i in topic.argsort()[:-no_top_words - 1:-1]]))"
      ],
      "metadata": {
        "id": "60dPPljTgsXq"
      },
      "execution_count": 183,
      "outputs": []
    },
    {
      "cell_type": "code",
      "source": [
        "display_topics(nmf, feature_names=cv.get_feature_names_out(),  no_top_words=20)"
      ],
      "metadata": {
        "colab": {
          "base_uri": "https://localhost:8080/"
        },
        "id": "PiA0t1TMg6_I",
        "outputId": "256654c6-2b65-4a4b-ff18-ba39582aa013"
      },
      "execution_count": 184,
      "outputs": [
        {
          "output_type": "stream",
          "name": "stdout",
          "text": [
            "Topic 0:\n",
            "max bhj giz qax nrhj biz ghj nuy bhjn gizw wwiz rlk fyn fij nriz vmk qtm mdi mtm air\n",
            "Topic 1:\n",
            "available widget window version server use subject set data information motif application software program sun display using resource ftp file\n",
            "Topic 2:\n",
            "did said people know went just came apartment say like armenians says told going mamma started time took saw armenian\n",
            "Topic 3:\n",
            "output file oname printf stream program char entry buf fprintf return filename uuencode int contest line stderr write section null\n",
            "Topic 4:\n",
            "file gun control firearms states united house handgun amendment crime january law directory american senate use amend journal second march\n",
            "Topic 5:\n",
            "internet anonymous privacy information email mail anonymity use computer electronic users network posting address encryption usenet security access user service\n",
            "Topic 6:\n",
            "stephanopoulos president know going think said did package groups george does working just time mean vat tax jobs yes press\n",
            "Topic 7:\n",
            "hockey league nhl team new season games draft division game teams ahl conference list defenseman mon play players cup echl\n",
            "Topic 8:\n",
            "wire wiring use ground neutral subject circuit outlets cable nec gfci does usually electrical hot wires power used need cec\n",
            "Topic 9:\n",
            "disk drive drives hard bios rom controller card feature floppy supports interface heads scsi speed cylinders systems data jumper formatting\n",
            "Topic 10:\n",
            "jpeg image gif file images format version files free quality color software programs use available display does viewer formats convert\n",
            "Topic 11:\n",
            "people like work good just think want time know does anonymous make jobs right really posting dod lot young going\n",
            "Topic 12:\n",
            "god jesus does matthew atheists bible believe people christian true religion atheism christ faith religious say lord course said life\n",
            "Topic 13:\n",
            "entry entries rules use section program files file number source info guidelines winners build year email contest does format programs\n",
            "Topic 14:\n",
            "administration president russia senior think russian official government program american package funds support money important food myers going million congress\n",
            "Topic 15:\n",
            "space launch satellite data commercial satellites nasa market year mission program lunar technology national earth new orbit services systems communications\n",
            "Topic 16:\n",
            "war south secret new nuclear military rockefeller island georgia naval time ships plan british world argentina navy attack southern bolshevik\n",
            "Topic 17:\n",
            "health use medical number april research center cancer tobacco hiv newsletter page volume aids hicnet national states children reported years\n",
            "Topic 18:\n",
            "turkish jews turkey armenian nazis ottoman jewish book history war university people government armenians eastern turks istanbul world new europe\n",
            "Topic 19:\n",
            "mov byte bits push pop offset ptr loop assembled data bit lower higher gas east west left right particle ret\n"
          ]
        }
      ]
    },
    {
      "cell_type": "code",
      "source": [
        "# Una ventaja del NMF sobre LDA es que puedo pasarle el TFIDF\n",
        "tfidf = TfidfVectorizer(ngram_range=(1,1), max_df=0.8, min_df=2, max_features=None, stop_words=\"english\")\n",
        "TNG_cv_cleaned = tfidf.fit_transform(cleaned)\n",
        "nmf_tfidf = NMF(n_components=d, random_state=1).fit(TNG_cv_cleaned )"
      ],
      "metadata": {
        "id": "n250kLsZkV9i"
      },
      "execution_count": 185,
      "outputs": []
    },
    {
      "cell_type": "code",
      "source": [
        "display_topics(nmf_tfidf, feature_names=cv.get_feature_names_out(),  no_top_words=20)"
      ],
      "metadata": {
        "colab": {
          "base_uri": "https://localhost:8080/"
        },
        "id": "0p27JVy0ku0E",
        "outputId": "c1a9e0db-05ab-4144-a98a-4a0ab3f914c8"
      },
      "execution_count": 186,
      "outputs": [
        {
          "output_type": "stream",
          "name": "stdout",
          "text": [
            "Topic 0:\n",
            "people think right government gun make say point law guns believe state person rights want good life things way case\n",
            "Topic 1:\n",
            "space nasa data information program launch shuttle list available research orbit station science lunar moon earth article technology center university\n",
            "Topic 2:\n",
            "god jesus bible believe faith christ christian christians life church heaven hell say lord sin truth man belief love christianity\n",
            "Topic 3:\n",
            "drive scsi drives hard disk ide controller floppy boot tape internal bus seagate quantum cable bios external meg mac motherboard\n",
            "Topic 4:\n",
            "key chip encryption clipper keys government escrow algorithm secure security nsa phone encrypted law number chips des secret enforcement privacy\n",
            "Topic 5:\n",
            "thanks advance looking info email address help information appreciated post mail send appreciate anybody hello reply need list interested lot\n",
            "Topic 6:\n",
            "geb chastity shameful intellect skepticism surrender gordon banks soon lyme blood patients weight medical probably usually migraine sure disease patient\n",
            "Topic 7:\n",
            "card video monitor vga drivers cards bus driver color vesa ati graphics diamond controller mode vlb ram isa svga colors\n",
            "Topic 8:\n",
            "game team games year players season hockey play win league teams baseball nhl player good runs toronto think best pitching\n",
            "Topic 9:\n",
            "sale new offer price shipping condition asking email interested sell best excellent brand old original includes used model obo selling\n",
            "Topic 10:\n",
            "armenian armenians turkish turkey armenia genocide turks government said muslim azerbaijan russian greek argic people serdar population million war kurds\n",
            "Topic 11:\n",
            "windows dos version driver drivers microsoft running using program mouse run software printer font programs mode works files apps norton\n",
            "Topic 12:\n",
            "does know anybody mean let like program info appreciated help exist say happen want work sound really heard going portable\n",
            "Topic 13:\n",
            "window application server manager display motif widget program xterm code set font using user running screen size colormap client way\n",
            "Topic 14:\n",
            "car bike cars engine good miles dealer insurance honda speed buy tires driving bikes ride oil ford new rear power\n",
            "Topic 15:\n",
            "file files directory program format ftp image try bmp site available gif cview convert disk copy formats read tiff swap\n",
            "Topic 16:\n",
            "israel israeli jews arab arabs lebanese lebanon jewish peace israelis adam war state land palestinian palestinians attacks syria palestine soldiers\n",
            "Topic 17:\n",
            "use problem memory mac using apple software port need machine simms work modem help used printer hardware serial screen computer\n",
            "Topic 18:\n",
            "just like got good stuff things really look thing think going wondering little sounds maybe sure want say deleted time\n",
            "Topic 19:\n",
            "did said got fbi say koresh time know ago went children saw told question came thought remember article heard years\n"
          ]
        }
      ]
    },
    {
      "cell_type": "markdown",
      "source": [
        "# LDA"
      ],
      "metadata": {
        "id": "MnVckX5Ck_ZY"
      }
    },
    {
      "cell_type": "code",
      "source": [
        "from sklearn.decomposition import LatentDirichletAllocation"
      ],
      "metadata": {
        "id": "Z6oF-KXUlC6Q"
      },
      "execution_count": 187,
      "outputs": []
    },
    {
      "cell_type": "code",
      "source": [
        "lda = LatentDirichletAllocation(n_components=20, max_iter=5, learning_method='online', learning_offset=50.,random_state=0).fit(TNG_cv_cleaned)"
      ],
      "metadata": {
        "id": "jxfsrJ51lAn8"
      },
      "execution_count": 188,
      "outputs": []
    },
    {
      "cell_type": "code",
      "source": [
        "display_topics(lda, feature_names=cv.get_feature_names_out(), no_top_words=20)"
      ],
      "metadata": {
        "id": "kgcL5WN8lqaH",
        "outputId": "e3772362-fb8c-4e09-a254-17e28256c616",
        "colab": {
          "base_uri": "https://localhost:8080/"
        }
      },
      "execution_count": 189,
      "outputs": [
        {
          "output_type": "stream",
          "name": "stdout",
          "text": [
            "Topic 0:\n",
            "printer version drivers current substitution roberts mvp windows doug hill callbacks ver driver ken reinforcement dialog flow print let newer\n",
            "Topic 1:\n",
            "manta kadett chevrolet lemans acne indy overdose mearly hwang hyperactivity spdcc rayssd linus ima clearasil scopes ibuprofen dyer cars appeared\n",
            "Topic 2:\n",
            "bleah intermittently mitteilungsblatt gesselschaft admonition sam thanx advance wallpaper orders motto image anybody icons yankee thanks western gifs circuits ranger\n",
            "Topic 3:\n",
            "bos det pit chi tor que cal stl nyi buf nyr van phi edm mtl ott pittsburg min ahf pitt\n",
            "Topic 4:\n",
            "smileys cindy parametric maureen tittle tog smarter derose lobotomy munge cusps jug characterizing origonal aided cubic curves xerox geometric razor\n",
            "Topic 5:\n",
            "max bhj rig omran giz sidecar rednecks steelers dirtbike jur rmw goggles qax nrhj mmw ajw fij aoj biz jvw\n",
            "Topic 6:\n",
            "resumed slimy levitical mattress suresh rushdie scriptural violation tactic fatwa yrs irrelevant legitimately searching jews priesthood disks legal memory mindless\n",
            "Topic 7:\n",
            "sepinwall wessels melido aye den posn bergman keynes carmel bowles loke mak bunnies petes seppo kemppainen marven houdini yan repo\n",
            "Topic 8:\n",
            "geb shameful chastity intellect skepticism surrender gordon banks soon meningitis purify skcgoh freehand updating neurologic neurology estrogen dystrophy reflex acad\n",
            "Topic 9:\n",
            "sandiego graig nettles flo cin window brilliant atl pitcher battery cub pull phi benefit snd project col manager prefer hou\n",
            "Topic 10:\n",
            "people just like think does know did good time god say right way make new really said believe year use\n",
            "Topic 11:\n",
            "brochures rigidly insemination weapons destruction sabbath class luke gps okay matthew mass begat differential john received term mark daughters days\n",
            "Topic 12:\n",
            "kuiper mfc chimps cookbook netanyahu scirocco fixable treble intriguing blender karla ephem elwood downey backers monolux salons duster vaccum bro\n",
            "Topic 13:\n",
            "thanks windows card drive use does know file problem using software like need program dos files mac window advance monitor\n",
            "Topic 14:\n",
            "irwin kssimon tuba honk lunacy backcountry iubacs crary ataris cabbage testing bet christianity just mail flames especially gun apostles say\n",
            "Topic 15:\n",
            "backorder squid fish kinda tradition certificate straights alive promiscuous games homosexuals married permanent marriage alternative relationship lack force break excuse\n",
            "Topic 16:\n",
            "hite rectum cockroaches grape subscribe fairchild flame clipper semiconductor reply trademark depression infinity ati launcher bulgaria export key promiscuity plus\n",
            "Topic 17:\n",
            "potassium vit schott glycemic pancreatic bloodcount anello hypoglycemic chelated manganese alexis chromium honey calcium goering breads insurance arrhythmias parent burst\n",
            "Topic 18:\n",
            "regal trinomials eau dubinski lbl regals xrn psa rus mbs boucher djb gst selector mga xew lst agv ail gfx\n",
            "Topic 19:\n",
            "rathole tinnitus razzing rubs geeky tatoo stafford depreciation genashor piney gendel winona exacerbate egan unnoticed abortion depreciate weitek cameras hijaak\n"
          ]
        }
      ]
    },
    {
      "cell_type": "code",
      "source": [
        "# Puedo hacer la transformación de manera de obtener para cada uno de los 11314 documentos, la probabilidad de pertenencia a cada uno de los 20 topics\n",
        "TNG_topics_lda = lda.transform(TNG_cv_cleaned)"
      ],
      "metadata": {
        "id": "kKCBW9ADnOw4"
      },
      "execution_count": 190,
      "outputs": []
    },
    {
      "cell_type": "code",
      "source": [
        "TNG_topics_lda.shape"
      ],
      "metadata": {
        "id": "6lEDZRsBnSre",
        "outputId": "ec2697d4-9094-4491-82f6-7782630e2c2b",
        "colab": {
          "base_uri": "https://localhost:8080/"
        }
      },
      "execution_count": 191,
      "outputs": [
        {
          "output_type": "execute_result",
          "data": {
            "text/plain": [
              "(11314, 20)"
            ]
          },
          "metadata": {},
          "execution_count": 191
        }
      ]
    },
    {
      "cell_type": "code",
      "source": [
        "# Por ejemplo, esta es la probabilidad de pertenencia del documento 0 a cada uno de los topics.\n",
        "# Es decir, que no le asignó un cluster, sino que este documento está más cercano a uno u otro topic\n",
        "TNG_topics_lda[0]"
      ],
      "metadata": {
        "id": "Dq8TQY4gnguH",
        "outputId": "170c8b5d-1ffb-40f6-db10-3981818c3749",
        "colab": {
          "base_uri": "https://localhost:8080/"
        }
      },
      "execution_count": 192,
      "outputs": [
        {
          "output_type": "execute_result",
          "data": {
            "text/plain": [
              "array([0.0085087 , 0.0085087 , 0.0085087 , 0.0085087 , 0.0085087 ,\n",
              "       0.0085087 , 0.0085087 , 0.05482173, 0.0085087 , 0.0085087 ,\n",
              "       0.79202168, 0.0085087 , 0.0085087 , 0.0085087 , 0.0085087 ,\n",
              "       0.0085087 , 0.0085087 , 0.0085087 , 0.0085087 , 0.0085087 ])"
            ]
          },
          "metadata": {},
          "execution_count": 192
        }
      ]
    }
  ],
  "metadata": {
    "kernelspec": {
      "display_name": "Python [conda env:NLP]",
      "language": "python",
      "name": "conda-env-NLP-py"
    },
    "language_info": {
      "codemirror_mode": {
        "name": "ipython",
        "version": 3
      },
      "file_extension": ".py",
      "mimetype": "text/x-python",
      "name": "python",
      "nbconvert_exporter": "python",
      "pygments_lexer": "ipython3",
      "version": "3.7.3"
    },
    "colab": {
      "provenance": [],
      "include_colab_link": true
    }
  },
  "nbformat": 4,
  "nbformat_minor": 0
}