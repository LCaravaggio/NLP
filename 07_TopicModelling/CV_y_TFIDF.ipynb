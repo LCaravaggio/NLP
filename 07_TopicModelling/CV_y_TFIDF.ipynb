{
  "cells": [
    {
      "cell_type": "markdown",
      "metadata": {
        "id": "view-in-github",
        "colab_type": "text"
      },
      "source": [
        "<a href=\"https://colab.research.google.com/github/LCaravaggio/NLP/blob/main/07_TopicModelling/CV_y_TFIDF.ipynb\" target=\"_parent\"><img src=\"https://colab.research.google.com/assets/colab-badge.svg\" alt=\"Open In Colab\"/></a>"
      ]
    },
    {
      "cell_type": "markdown",
      "metadata": {
        "id": "TAXIuXm-ep1s"
      },
      "source": [
        "# Information Retrieval"
      ]
    },
    {
      "cell_type": "code",
      "execution_count": 97,
      "metadata": {
        "id": "iBfnE1dLep1v"
      },
      "outputs": [],
      "source": [
        "from sklearn.datasets import fetch_20newsgroups\n",
        "from sklearn.feature_extraction.text import CountVectorizer, TfidfVectorizer\n",
        "from matplotlib import pyplot as plt\n",
        "import numpy as np"
      ]
    },
    {
      "cell_type": "markdown",
      "metadata": {
        "id": "REhXgRYGep1w"
      },
      "source": [
        "<img src=\"https://github.com/deeplearning-itba/NLP-Tecnicas-Tradicionales/blob/master/tf.png?raw=1\" >\n",
        "<img src=\"https://github.com/deeplearning-itba/NLP-Tecnicas-Tradicionales/blob/master/idf.png?raw=1\" >\n",
        "<img src=\"https://github.com/deeplearning-itba/NLP-Tecnicas-Tradicionales/blob/master/tfidf.png?raw=1\" >"
      ]
    },
    {
      "cell_type": "markdown",
      "source": [
        "Cargamos el 20 Newsgroup, un corpus muy usado en NLP. Es una suerte de foro de internet.\n",
        "\n",
        "Página oficial: https://scikit-learn.org/0.19/datasets/twenty_newsgroups.html"
      ],
      "metadata": {
        "id": "HH9UzIPZe-eF"
      }
    },
    {
      "cell_type": "code",
      "execution_count": 98,
      "metadata": {
        "id": "DxDbTVVTep1x"
      },
      "outputs": [],
      "source": [
        "TNG_train = fetch_20newsgroups(subset=\"train\",remove=('headers', 'footers', 'quotes'))"
      ]
    },
    {
      "cell_type": "code",
      "source": [
        "TNG_train.keys()"
      ],
      "metadata": {
        "colab": {
          "base_uri": "https://localhost:8080/"
        },
        "id": "S44oBW70YjEn",
        "outputId": "61b48e4c-0fe9-4806-c8a3-8b0c62cb05c0"
      },
      "execution_count": 99,
      "outputs": [
        {
          "output_type": "execute_result",
          "data": {
            "text/plain": [
              "dict_keys(['data', 'filenames', 'target_names', 'target', 'DESCR'])"
            ]
          },
          "metadata": {},
          "execution_count": 99
        }
      ]
    },
    {
      "cell_type": "code",
      "source": [
        "TNG_train.data[0]"
      ],
      "metadata": {
        "id": "XB0mQma1fKDU",
        "outputId": "1022dd3e-9cdc-4fac-eef1-3e7d16f3d58f",
        "colab": {
          "base_uri": "https://localhost:8080/",
          "height": 87
        }
      },
      "execution_count": 100,
      "outputs": [
        {
          "output_type": "execute_result",
          "data": {
            "text/plain": [
              "'I was wondering if anyone out there could enlighten me on this car I saw\\nthe other day. It was a 2-door sports car, looked to be from the late 60s/\\nearly 70s. It was called a Bricklin. The doors were really small. In addition,\\nthe front bumper was separate from the rest of the body. This is \\nall I know. If anyone can tellme a model name, engine specs, years\\nof production, where this car is made, history, or whatever info you\\nhave on this funky looking car, please e-mail.'"
            ],
            "application/vnd.google.colaboratory.intrinsic+json": {
              "type": "string"
            }
          },
          "metadata": {},
          "execution_count": 100
        }
      ]
    },
    {
      "cell_type": "code",
      "source": [
        "TNG_train.target[0]"
      ],
      "metadata": {
        "colab": {
          "base_uri": "https://localhost:8080/"
        },
        "id": "2Vt9sr10Y-Pf",
        "outputId": "584cfe97-0d67-4eab-fe31-57582626aef5"
      },
      "execution_count": 101,
      "outputs": [
        {
          "output_type": "execute_result",
          "data": {
            "text/plain": [
              "7"
            ]
          },
          "metadata": {},
          "execution_count": 101
        }
      ]
    },
    {
      "cell_type": "code",
      "source": [
        "TNG_train.target_names"
      ],
      "metadata": {
        "colab": {
          "base_uri": "https://localhost:8080/"
        },
        "id": "NVKWVhEfZBPF",
        "outputId": "ec3a159a-2164-4be9-97bc-1caff576cea1"
      },
      "execution_count": 102,
      "outputs": [
        {
          "output_type": "execute_result",
          "data": {
            "text/plain": [
              "['alt.atheism',\n",
              " 'comp.graphics',\n",
              " 'comp.os.ms-windows.misc',\n",
              " 'comp.sys.ibm.pc.hardware',\n",
              " 'comp.sys.mac.hardware',\n",
              " 'comp.windows.x',\n",
              " 'misc.forsale',\n",
              " 'rec.autos',\n",
              " 'rec.motorcycles',\n",
              " 'rec.sport.baseball',\n",
              " 'rec.sport.hockey',\n",
              " 'sci.crypt',\n",
              " 'sci.electronics',\n",
              " 'sci.med',\n",
              " 'sci.space',\n",
              " 'soc.religion.christian',\n",
              " 'talk.politics.guns',\n",
              " 'talk.politics.mideast',\n",
              " 'talk.politics.misc',\n",
              " 'talk.religion.misc']"
            ]
          },
          "metadata": {},
          "execution_count": 102
        }
      ]
    },
    {
      "cell_type": "code",
      "source": [
        "# Se trata de un corpus con 11314 documentos\n",
        "len(TNG_train.data)"
      ],
      "metadata": {
        "id": "_fc-tPTcoVOR",
        "outputId": "cd6060a9-6c58-4df1-9e99-58024c2acafc",
        "colab": {
          "base_uri": "https://localhost:8080/"
        }
      },
      "execution_count": 103,
      "outputs": [
        {
          "output_type": "execute_result",
          "data": {
            "text/plain": [
              "11314"
            ]
          },
          "metadata": {},
          "execution_count": 103
        }
      ]
    },
    {
      "cell_type": "code",
      "source": [
        "# Le hacemos primero un CountVectorizer con Ngramas de N=1 es decir, unigramas.\n",
        "# El hiperparámetro ngram_range indica el mínimo y el máximo del ngrama. (1,1) significa unigrama. (1,2) significa unigramas y bigramas. (2,2) significa solo bigramas. Etc.\n",
        "cv = CountVectorizer(ngram_range=(1,1), max_df=0.85, min_df=5, max_features=None, stop_words=\"english\")"
      ],
      "metadata": {
        "id": "Riowyk9DfHw9"
      },
      "execution_count": 104,
      "outputs": []
    },
    {
      "cell_type": "code",
      "source": [
        "# Aprende el diccionario y devuelve la matríz término-documento (document-term)\n",
        "TNG_cv = cv.fit_transform(TNG_train.data)"
      ],
      "metadata": {
        "id": "tvltshTBgVM2"
      },
      "execution_count": 105,
      "outputs": []
    },
    {
      "cell_type": "code",
      "source": [
        "#Tamaño del vocabulario\n",
        "print(f'El vocabulario es: {cv.get_feature_names_out()}')\n",
        "print(f'El tamaño del vocabulario es: {len(cv.get_feature_names_out())}')"
      ],
      "metadata": {
        "id": "pvet3JMIgggk",
        "outputId": "bb29102e-2d79-4d9a-f922-2750b2719433",
        "colab": {
          "base_uri": "https://localhost:8080/"
        }
      },
      "execution_count": 106,
      "outputs": [
        {
          "output_type": "stream",
          "name": "stdout",
          "text": [
            "El vocabulario es: ['00' '000' '0000' ... 'zx' 'zy' 'zz']\n",
            "El tamaño del vocabulario es: 17797\n"
          ]
        }
      ]
    },
    {
      "cell_type": "code",
      "source": [
        "# Por ejemplo la palabra \"lunatic\" es la palabra 10000\n",
        "cv.get_feature_names_out()[10000]"
      ],
      "metadata": {
        "id": "H7Ct8RSAms8t",
        "outputId": "12bac365-f417-455e-f047-17286f750f4f",
        "colab": {
          "base_uri": "https://localhost:8080/",
          "height": 35
        }
      },
      "execution_count": 108,
      "outputs": [
        {
          "output_type": "execute_result",
          "data": {
            "text/plain": [
              "'lunatic'"
            ],
            "application/vnd.google.colaboratory.intrinsic+json": {
              "type": "string"
            }
          },
          "metadata": {},
          "execution_count": 108
        }
      ]
    },
    {
      "cell_type": "code",
      "source": [
        "# La matríz aprendida es la siguiente:\n",
        "# (# de documento, palabra) Frecuencia de la palabra\n",
        "# Vemos que por ejemplo, la palabra \"wondering\" (37946) aparece 1 vez en el documento 0, y la palabra \"car\" (8308) aparece 4 veces\n",
        "print(TNG_cv[0])"
      ],
      "metadata": {
        "id": "Lo_FRGSHkq9Y",
        "outputId": "5942f352-48c3-4a27-d512-2dc44aba1ba4",
        "colab": {
          "base_uri": "https://localhost:8080/"
        }
      },
      "execution_count": 110,
      "outputs": [
        {
          "output_type": "stream",
          "name": "stdout",
          "text": [
            "  (0, 17413)\t1\n",
            "  (0, 6265)\t1\n",
            "  (0, 3531)\t4\n",
            "  (0, 14152)\t1\n",
            "  (0, 5053)\t1\n",
            "  (0, 5784)\t1\n",
            "  (0, 15084)\t1\n",
            "  (0, 9923)\t1\n",
            "  (0, 9579)\t1\n",
            "  (0, 1002)\t1\n",
            "  (0, 5967)\t1\n",
            "  (0, 1131)\t1\n",
            "  (0, 3457)\t1\n",
            "  (0, 5785)\t1\n",
            "  (0, 13219)\t1\n",
            "  (0, 14807)\t1\n",
            "  (0, 1704)\t1\n",
            "  (0, 3329)\t1\n",
            "  (0, 14401)\t1\n",
            "  (0, 13657)\t1\n",
            "  (0, 3067)\t1\n",
            "  (0, 9449)\t1\n",
            "  (0, 10683)\t1\n",
            "  (0, 6245)\t1\n",
            "  (0, 15007)\t1\n",
            "  (0, 17669)\t1\n",
            "  (0, 12688)\t1\n",
            "  (0, 8143)\t1\n",
            "  (0, 8701)\t1\n",
            "  (0, 7313)\t1\n",
            "  (0, 9924)\t1\n",
            "  (0, 10100)\t1\n"
          ]
        }
      ]
    },
    {
      "cell_type": "code",
      "source": [
        "# La palabra 3531 es la palabra \"car\" que en el documento 0 aparece 4 veces\n",
        "cv.get_feature_names_out()[3531]"
      ],
      "metadata": {
        "id": "3mvHGaOBvsSN",
        "outputId": "0381b1f8-767c-4109-e1d7-9157b085ec41",
        "colab": {
          "base_uri": "https://localhost:8080/",
          "height": 35
        }
      },
      "execution_count": 111,
      "outputs": [
        {
          "output_type": "execute_result",
          "data": {
            "text/plain": [
              "'car'"
            ],
            "application/vnd.google.colaboratory.intrinsic+json": {
              "type": "string"
            }
          },
          "metadata": {},
          "execution_count": 111
        }
      ]
    },
    {
      "cell_type": "code",
      "execution_count": 112,
      "metadata": {
        "id": "M-PdvSGDep1x"
      },
      "outputs": [],
      "source": [
        "# Ahora hacemos lo mismo pero con TF-IDF.\n",
        "tfidf = TfidfVectorizer(ngram_range=(1,1), max_df=0.85, min_df=5, max_features=None, stop_words=\"english\")"
      ]
    },
    {
      "cell_type": "code",
      "execution_count": 113,
      "metadata": {
        "id": "pRLBeyE_ep1x"
      },
      "outputs": [],
      "source": [
        "TNG_tfidf = tfidf.fit_transform(TNG_train.data)"
      ]
    },
    {
      "cell_type": "code",
      "execution_count": 114,
      "metadata": {
        "id": "wc9LdzNMep1y",
        "outputId": "ba2200a1-f87a-4f82-fb67-32543e2d580f",
        "colab": {
          "base_uri": "https://localhost:8080/"
        }
      },
      "outputs": [
        {
          "output_type": "stream",
          "name": "stdout",
          "text": [
            "El vocabulario es: ['00' '000' '0000' ... 'zx' 'zy' 'zz']\n",
            "El tamaño del vocabulario es 17797\n"
          ]
        }
      ],
      "source": [
        "#Tamaño del vocabulario\n",
        "print(f'El vocabulario es: {tfidf.get_feature_names_out()}')\n",
        "print(f'El tamaño del vocabulario es {len(tfidf.get_feature_names_out())}')"
      ]
    },
    {
      "cell_type": "code",
      "source": [
        "# Los TF-IDF de las palabras que aparecen en el documento 0 son:\n",
        "print(TNG_tfidf[1])"
      ],
      "metadata": {
        "id": "-DdmVzNtkVeF",
        "outputId": "2bfaee16-c1b7-4d1c-cda5-6b2ca3d7c1db",
        "colab": {
          "base_uri": "https://localhost:8080/"
        }
      },
      "execution_count": 118,
      "outputs": [
        {
          "output_type": "stream",
          "name": "stdout",
          "text": [
            "  (0, 15942)\t0.07170450486503012\n",
            "  (0, 2122)\t0.13368518184186595\n",
            "  (0, 7959)\t0.1020843317288523\n",
            "  (0, 16703)\t0.12629348513989097\n",
            "  (0, 2713)\t0.11269429454658003\n",
            "  (0, 9453)\t0.1097608473047383\n",
            "  (0, 11097)\t0.11174927909257493\n",
            "  (0, 5055)\t0.09512234499611415\n",
            "  (0, 15504)\t0.17643336747390756\n",
            "  (0, 13578)\t0.14290862421768685\n",
            "  (0, 6389)\t0.09962131406333796\n",
            "  (0, 7037)\t0.15088101257212977\n",
            "  (0, 1217)\t0.11622198608645516\n",
            "  (0, 7297)\t0.14769162198784277\n",
            "  (0, 5616)\t0.10354685490078712\n",
            "  (0, 7038)\t0.12059889131778316\n",
            "  (0, 16737)\t0.13979681424988097\n",
            "  (0, 8266)\t0.12941991946532266\n",
            "  (0, 14697)\t0.17874795064405805\n",
            "  (0, 8017)\t0.12941991946532266\n",
            "  (0, 1691)\t0.16013432337095507\n",
            "  (0, 3541)\t0.11174927909257493\n",
            "  (0, 1696)\t0.2056838633831948\n",
            "  (0, 13150)\t0.14710576802264153\n",
            "  (0, 4748)\t0.12792150550454115\n",
            "  (0, 2475)\t0.18133543448805195\n",
            "  (0, 15021)\t0.1983203900565085\n",
            "  (0, 12663)\t0.13938618132715827\n",
            "  (0, 5375)\t0.17242808708707444\n",
            "  (0, 10448)\t0.09909510395326906\n",
            "  (0, 3226)\t0.14064185003645066\n",
            "  (0, 14375)\t0.09125309118466773\n",
            "  (0, 12350)\t0.3162716703512959\n",
            "  (0, 6583)\t0.2649288220597633\n",
            "  (0, 14498)\t0.13368518184186595\n",
            "  (0, 11631)\t0.16352073968609693\n",
            "  (0, 4005)\t0.2455586924911627\n",
            "  (0, 14617)\t0.14243617113270096\n",
            "  (0, 16704)\t0.14891239279982707\n",
            "  (0, 14941)\t0.15381445981397146\n",
            "  (0, 3188)\t0.16233297898060264\n",
            "  (0, 11286)\t0.08364158113049631\n",
            "  (0, 6728)\t0.12130193441042966\n",
            "  (0, 5053)\t0.08637833085115\n"
          ]
        }
      ]
    },
    {
      "cell_type": "code",
      "source": [
        "# La palabra 12350 es la palabra \"poll\" que es la de mayor TFIDF en el documento 1\n",
        "tfidf.get_feature_names_out()[12350]"
      ],
      "metadata": {
        "id": "BUHEZ94gwzNi",
        "outputId": "ec4fba6a-44ed-4f9a-d783-56b6614503a2",
        "colab": {
          "base_uri": "https://localhost:8080/",
          "height": 35
        }
      },
      "execution_count": 119,
      "outputs": [
        {
          "output_type": "execute_result",
          "data": {
            "text/plain": [
              "'poll'"
            ],
            "application/vnd.google.colaboratory.intrinsic+json": {
              "type": "string"
            }
          },
          "metadata": {},
          "execution_count": 119
        }
      ]
    },
    {
      "cell_type": "markdown",
      "metadata": {
        "id": "ARf0Fgx5ep1z"
      },
      "source": [
        "# Cálculo del Document Frecuency de cada palabra"
      ]
    },
    {
      "cell_type": "code",
      "execution_count": 120,
      "metadata": {
        "id": "eYQpBb4vep10"
      },
      "outputs": [],
      "source": [
        "doc_freq = np.array(TNG_cv.astype(bool).sum(axis=0)).flatten()"
      ]
    },
    {
      "cell_type": "code",
      "source": [
        "# Así, en doc_freq tengo la cantidad de apariciones de cada una de las palabras\n",
        "doc_freq"
      ],
      "metadata": {
        "id": "2OlPMZ9IkJCw",
        "outputId": "3892efba-b3cc-44d0-ad30-2677149bbe8e",
        "colab": {
          "base_uri": "https://localhost:8080/"
        }
      },
      "execution_count": 121,
      "outputs": [
        {
          "output_type": "execute_result",
          "data": {
            "text/plain": [
              "array([243, 262,   7, ...,  19,   6,   7])"
            ]
          },
          "metadata": {},
          "execution_count": 121
        }
      ]
    },
    {
      "cell_type": "code",
      "source": [
        "# El vacabulario es de 17797 palabras, pero en total hay 638596 palabras (porque algunas palabras se repiten)\n",
        "doc_freq.sum()"
      ],
      "metadata": {
        "id": "9uyRYcXeTsf6",
        "outputId": "b2d42fed-b316-41fb-c4da-b115512c62bf",
        "colab": {
          "base_uri": "https://localhost:8080/"
        }
      },
      "execution_count": 126,
      "outputs": [
        {
          "output_type": "execute_result",
          "data": {
            "text/plain": [
              "638596"
            ]
          },
          "metadata": {},
          "execution_count": 126
        }
      ]
    },
    {
      "cell_type": "code",
      "source": [
        "# La palabra \"car\" aparece 396 veces en total\n",
        "mail=doc_freq[3531]\n",
        "print(mail)"
      ],
      "metadata": {
        "id": "AZ3UE3Te0R4R",
        "outputId": "082d730b-a50b-4e2b-ab3a-03dba2a6de41",
        "colab": {
          "base_uri": "https://localhost:8080/"
        }
      },
      "execution_count": 127,
      "outputs": [
        {
          "output_type": "stream",
          "name": "stdout",
          "text": [
            "396\n"
          ]
        }
      ]
    },
    {
      "cell_type": "code",
      "source": [
        "# Hay en total 11314 documentos (esto ya lo habíamos calculado)\n",
        "N=len(TNG_train.data)\n",
        "print(N)"
      ],
      "metadata": {
        "id": "GSVrK7_-yqTZ",
        "outputId": "a9bcc886-be3b-427f-a157-0a6430b0345e",
        "colab": {
          "base_uri": "https://localhost:8080/"
        }
      },
      "execution_count": 125,
      "outputs": [
        {
          "output_type": "stream",
          "name": "stdout",
          "text": [
            "11314\n"
          ]
        }
      ]
    },
    {
      "cell_type": "code",
      "source": [
        "# La palabra \"car\" aparece en 1974 de esos documentos\n",
        "df=0\n",
        "name=cv.get_feature_names_out()[3531]\n",
        "for n in TNG_train.data:\n",
        "  if name in n: df+=1\n",
        "print(df)"
      ],
      "metadata": {
        "id": "Zl4Xb4qQQ7iw",
        "outputId": "d6db67ee-82db-4d6d-bc5a-d98363d5b7ea",
        "colab": {
          "base_uri": "https://localhost:8080/"
        }
      },
      "execution_count": 129,
      "outputs": [
        {
          "output_type": "stream",
          "name": "stdout",
          "text": [
            "1974\n"
          ]
        }
      ]
    },
    {
      "cell_type": "code",
      "source": [
        "# El Inverse document frecuency es:\n",
        "idf = np.log(N/df)\n",
        "print(idf)"
      ],
      "metadata": {
        "id": "Vfwyq8QfNUo6",
        "outputId": "727c6e5e-b2fa-4a5e-dd65-e4439062be53",
        "colab": {
          "base_uri": "https://localhost:8080/"
        }
      },
      "execution_count": 130,
      "outputs": [
        {
          "output_type": "stream",
          "name": "stdout",
          "text": [
            "1.7459789559096741\n"
          ]
        }
      ]
    },
    {
      "cell_type": "code",
      "source": [
        "# El TF es la cantidad de veces que aparece el término en el documento sobre la cantidad de palabras en el documento\n",
        "tf=1/33\n",
        "print(tf)"
      ],
      "metadata": {
        "id": "Lr_VTp_kO2YZ",
        "outputId": "5c5a253b-c2a5-4f51-a97b-335e82e76e5a",
        "colab": {
          "base_uri": "https://localhost:8080/"
        }
      },
      "execution_count": 131,
      "outputs": [
        {
          "output_type": "stream",
          "name": "stdout",
          "text": [
            "0.030303030303030304\n"
          ]
        }
      ]
    },
    {
      "cell_type": "code",
      "source": [
        "tfidf_manual=tf*idf\n",
        "print(tfidf_manual)"
      ],
      "metadata": {
        "id": "4JxIxayXO_Ag",
        "outputId": "57f1e94d-7a52-4308-bac7-81a8ef0ca0f5",
        "colab": {
          "base_uri": "https://localhost:8080/"
        }
      },
      "execution_count": 132,
      "outputs": [
        {
          "output_type": "stream",
          "name": "stdout",
          "text": [
            "0.05290845320938407\n"
          ]
        }
      ]
    },
    {
      "cell_type": "markdown",
      "source": [
        "¿Por qué no coincide con lo que calcula Sklearn?\n",
        "Porque sklearn normaliza a la norma Euclidea\n",
        "\n",
        "<img src=\"https://miro.medium.com/max/630/1*nQVx6kHQRgz5B2-7TrI3LA.png\">\n",
        "\n",
        "Y ajusta con +1 la fórmula para evitar los casos igual a cero.\n",
        "\n",
        "<img src=\"https://miro.medium.com/max/290/1*ckcDta2x-ZskdzvG0gjD-A.png\">\n",
        "\n",
        "https://towardsdatascience.com/measure-text-weight-using-tf-idf-in-python-plain-code-and-scikit-learn-50cb1e4375ad"
      ],
      "metadata": {
        "id": "J1boSfZOkbBl"
      }
    },
    {
      "cell_type": "code",
      "execution_count": 133,
      "metadata": {
        "id": "TQo9bXPaep11",
        "outputId": "c4170c0b-175e-4eea-cb34-e0d6db39ea9d",
        "colab": {
          "base_uri": "https://localhost:8080/",
          "height": 430
        }
      },
      "outputs": [
        {
          "output_type": "display_data",
          "data": {
            "text/plain": [
              "<Figure size 640x480 with 1 Axes>"
            ],
            "image/png": "[encoded data removed]"
          },
          "metadata": {}
        }
      ],
      "source": [
        "# Podemos ver la cola larga de la frecuencia de palabras\n",
        "# Incluso habiendo eliminado stopwords e incluso en escala logarítmica\n",
        "a = plt.hist(doc_freq, bins=100,log=True)\n",
        "plt.show()"
      ]
    },
    {
      "cell_type": "markdown",
      "source": [
        "# Clasificación"
      ],
      "metadata": {
        "id": "MlfWZwC2Vbgv"
      }
    },
    {
      "cell_type": "code",
      "source": [
        "# Además de los documentos el corpus tiene información de las categorías, por lo que podríamos hacer un ejercicio de clasificación. Sin embargo, vamos a probar hacer ejercicios de clusterización y de Topic Modelling\n",
        "TNG_train.keys()"
      ],
      "metadata": {
        "colab": {
          "base_uri": "https://localhost:8080/"
        },
        "id": "octAM5AXVVCA",
        "outputId": "a1d39200-b66c-42f6-81dd-403e4d7f5008"
      },
      "execution_count": 134,
      "outputs": [
        {
          "output_type": "execute_result",
          "data": {
            "text/plain": [
              "dict_keys(['data', 'filenames', 'target_names', 'target', 'DESCR'])"
            ]
          },
          "metadata": {},
          "execution_count": 134
        }
      ]
    },
    {
      "cell_type": "code",
      "source": [
        "TNG_train.target_names"
      ],
      "metadata": {
        "colab": {
          "base_uri": "https://localhost:8080/"
        },
        "id": "G_CJyBw7V0bZ",
        "outputId": "6c0f2fda-b7c2-4447-ec71-0c6732aa4e50"
      },
      "execution_count": 135,
      "outputs": [
        {
          "output_type": "execute_result",
          "data": {
            "text/plain": [
              "['alt.atheism',\n",
              " 'comp.graphics',\n",
              " 'comp.os.ms-windows.misc',\n",
              " 'comp.sys.ibm.pc.hardware',\n",
              " 'comp.sys.mac.hardware',\n",
              " 'comp.windows.x',\n",
              " 'misc.forsale',\n",
              " 'rec.autos',\n",
              " 'rec.motorcycles',\n",
              " 'rec.sport.baseball',\n",
              " 'rec.sport.hockey',\n",
              " 'sci.crypt',\n",
              " 'sci.electronics',\n",
              " 'sci.med',\n",
              " 'sci.space',\n",
              " 'soc.religion.christian',\n",
              " 'talk.politics.guns',\n",
              " 'talk.politics.mideast',\n",
              " 'talk.politics.misc',\n",
              " 'talk.religion.misc']"
            ]
          },
          "metadata": {},
          "execution_count": 135
        }
      ]
    },
    {
      "cell_type": "code",
      "source": [
        "import seaborn as sns\n",
        "sns.histplot(TNG_train.target)"
      ],
      "metadata": {
        "colab": {
          "base_uri": "https://localhost:8080/",
          "height": 447
        },
        "id": "l_8kQol9Yrkz",
        "outputId": "39a54dc7-fe14-40f0-eff3-a25b415a9f11"
      },
      "execution_count": 214,
      "outputs": [
        {
          "output_type": "execute_result",
          "data": {
            "text/plain": [
              "<Axes: ylabel='Count'>"
            ]
          },
          "metadata": {},
          "execution_count": 214
        },
        {
          "output_type": "display_data",
          "data": {
            "text/plain": [
              "<Figure size 640x480 with 1 Axes>"
            ],
            "image/png": "[encoded data removed]"
          },
          "metadata": {}
        }
      ]
    },
    {
      "cell_type": "code",
      "source": [
        "# El documento 0 es:\n",
        "TNG_train.data[0]"
      ],
      "metadata": {
        "colab": {
          "base_uri": "https://localhost:8080/",
          "height": 87
        },
        "id": "ZZdt417QV4C_",
        "outputId": "5cc38bed-89b4-450b-ec2a-8add6020bd09"
      },
      "execution_count": 138,
      "outputs": [
        {
          "output_type": "execute_result",
          "data": {
            "text/plain": [
              "'I was wondering if anyone out there could enlighten me on this car I saw\\nthe other day. It was a 2-door sports car, looked to be from the late 60s/\\nearly 70s. It was called a Bricklin. The doors were really small. In addition,\\nthe front bumper was separate from the rest of the body. This is \\nall I know. If anyone can tellme a model name, engine specs, years\\nof production, where this car is made, history, or whatever info you\\nhave on this funky looking car, please e-mail.'"
            ],
            "application/vnd.google.colaboratory.intrinsic+json": {
              "type": "string"
            }
          },
          "metadata": {},
          "execution_count": 138
        }
      ]
    },
    {
      "cell_type": "code",
      "source": [
        "# Y tiene como tópico el número 7\n",
        "TNG_train.target[0]"
      ],
      "metadata": {
        "colab": {
          "base_uri": "https://localhost:8080/"
        },
        "id": "wKSuYU9gVswz",
        "outputId": "0eb4fb12-2c87-4bf4-c682-7d08ad6bdd37"
      },
      "execution_count": 139,
      "outputs": [
        {
          "output_type": "execute_result",
          "data": {
            "text/plain": [
              "7"
            ]
          },
          "metadata": {},
          "execution_count": 139
        }
      ]
    },
    {
      "cell_type": "code",
      "source": [
        "# que corresponde a la categoría autos\n",
        "TNG_train.target_names[7]"
      ],
      "metadata": {
        "colab": {
          "base_uri": "https://localhost:8080/",
          "height": 35
        },
        "id": "0Pn2OYjYVvQy",
        "outputId": "d8d7d669-afbb-4248-f18d-62cdcec5082d"
      },
      "execution_count": 140,
      "outputs": [
        {
          "output_type": "execute_result",
          "data": {
            "text/plain": [
              "'rec.autos'"
            ],
            "application/vnd.google.colaboratory.intrinsic+json": {
              "type": "string"
            }
          },
          "metadata": {},
          "execution_count": 140
        }
      ]
    },
    {
      "cell_type": "code",
      "source": [
        "# El TFIDF del doc 0 con máximo valor es el 3531\n",
        "TNG_tfidf[0].argmax()"
      ],
      "metadata": {
        "colab": {
          "base_uri": "https://localhost:8080/"
        },
        "id": "evpwDLN-V95v",
        "outputId": "a9cb61d8-7799-4b61-cb5f-73e738d781fb"
      },
      "execution_count": 141,
      "outputs": [
        {
          "output_type": "execute_result",
          "data": {
            "text/plain": [
              "3531"
            ]
          },
          "metadata": {},
          "execution_count": 141
        }
      ]
    },
    {
      "cell_type": "code",
      "source": [
        "# Que corresponde a la palabra auto!\n",
        "tfidf.get_feature_names_out()[TNG_tfidf[0].argmax()]"
      ],
      "metadata": {
        "colab": {
          "base_uri": "https://localhost:8080/",
          "height": 35
        },
        "id": "-gJBa-y7W4Ta",
        "outputId": "2e55610b-8759-47a8-d5b2-0c809837fc09"
      },
      "execution_count": 142,
      "outputs": [
        {
          "output_type": "execute_result",
          "data": {
            "text/plain": [
              "'car'"
            ],
            "application/vnd.google.colaboratory.intrinsic+json": {
              "type": "string"
            }
          },
          "metadata": {},
          "execution_count": 142
        }
      ]
    },
    {
      "cell_type": "code",
      "execution_count": 143,
      "metadata": {
        "id": "ljaTvjI3ep17",
        "colab": {
          "base_uri": "https://localhost:8080/"
        },
        "outputId": "86615257-95c8-450e-8f6c-b1a739df9cae"
      },
      "outputs": [
        {
          "output_type": "stream",
          "name": "stdout",
          "text": [
            "0: rec.autos: car\n",
            "1: comp.sys.mac.hardware: poll\n",
            "2: comp.sys.mac.hardware: 180\n",
            "3: comp.graphics: weitek\n",
            "4: sci.space: std\n",
            "5: talk.politics.guns: weapons\n",
            "6: sci.med: thank\n",
            "7: comp.sys.ibm.pc.hardware: scsi\n",
            "8: comp.os.ms-windows.misc: icons\n",
            "9: comp.sys.mac.hardware: board\n"
          ]
        }
      ],
      "source": [
        "# Estos son los resultados para los primeros 10 documentos.\n",
        "# Está bien, pero podría estar mejor.\n",
        "for doc in range(0,10):\n",
        "  print(f'{doc}: {TNG_train.target_names[TNG_train.target[doc]]}: {tfidf.get_feature_names_out()[TNG_tfidf[doc].argmax()]}')"
      ]
    },
    {
      "cell_type": "code",
      "source": [
        "def letters_only(astr) :\n",
        "  return astr.isalpha()"
      ],
      "metadata": {
        "id": "OEHa7M5UY2JE"
      },
      "execution_count": 144,
      "outputs": []
    },
    {
      "cell_type": "code",
      "source": [
        "import nltk\n",
        "from nltk.corpus import names\n",
        "from nltk.stem import WordNetLemmatizer\n",
        "\n",
        "nltk.download('names')\n",
        "nltk.download('wordnet')\n",
        "nltk.download('omw-1.4')\n",
        "\n",
        "all_names = set(names.words())\n",
        "lemmatizer = WordNetLemmatizer()"
      ],
      "metadata": {
        "colab": {
          "base_uri": "https://localhost:8080/"
        },
        "id": "NXq2veC9Y8Ku",
        "outputId": "97806a6f-0ef8-4191-c4ca-d52f49744bcf"
      },
      "execution_count": 145,
      "outputs": [
        {
          "output_type": "stream",
          "name": "stderr",
          "text": [
            "[nltk_data] Downloading package names to /root/nltk_data...\n",
            "[nltk_data]   Package names is already up-to-date!\n",
            "[nltk_data] Downloading package wordnet to /root/nltk_data...\n",
            "[nltk_data]   Package wordnet is already up-to-date!\n",
            "[nltk_data] Downloading package omw-1.4 to /root/nltk_data...\n",
            "[nltk_data]   Package omw-1.4 is already up-to-date!\n"
          ]
        }
      ]
    },
    {
      "cell_type": "code",
      "source": [
        "# todo a lowercase\n",
        "data_=[]\n",
        "for story in TNG_train.data:\n",
        "    new=story.lower()\n",
        "    data_.append(new)"
      ],
      "metadata": {
        "id": "StEov_C7cs3j"
      },
      "execution_count": 146,
      "outputs": []
    },
    {
      "cell_type": "code",
      "source": [
        "TNG_train.data[0]"
      ],
      "metadata": {
        "colab": {
          "base_uri": "https://localhost:8080/",
          "height": 87
        },
        "id": "CXyMIR2Ga6yc",
        "outputId": "9ae1f287-f466-4f8d-d605-4ef699ce3c1c"
      },
      "execution_count": 147,
      "outputs": [
        {
          "output_type": "execute_result",
          "data": {
            "text/plain": [
              "'I was wondering if anyone out there could enlighten me on this car I saw\\nthe other day. It was a 2-door sports car, looked to be from the late 60s/\\nearly 70s. It was called a Bricklin. The doors were really small. In addition,\\nthe front bumper was separate from the rest of the body. This is \\nall I know. If anyone can tellme a model name, engine specs, years\\nof production, where this car is made, history, or whatever info you\\nhave on this funky looking car, please e-mail.'"
            ],
            "application/vnd.google.colaboratory.intrinsic+json": {
              "type": "string"
            }
          },
          "metadata": {},
          "execution_count": 147
        }
      ]
    },
    {
      "cell_type": "code",
      "source": [
        "data_[0]"
      ],
      "metadata": {
        "colab": {
          "base_uri": "https://localhost:8080/",
          "height": 87
        },
        "id": "rEY3he0RcwWf",
        "outputId": "90c45324-3948-40df-c573-9b98ee568466"
      },
      "execution_count": 148,
      "outputs": [
        {
          "output_type": "execute_result",
          "data": {
            "text/plain": [
              "'i was wondering if anyone out there could enlighten me on this car i saw\\nthe other day. it was a 2-door sports car, looked to be from the late 60s/\\nearly 70s. it was called a bricklin. the doors were really small. in addition,\\nthe front bumper was separate from the rest of the body. this is \\nall i know. if anyone can tellme a model name, engine specs, years\\nof production, where this car is made, history, or whatever info you\\nhave on this funky looking car, please e-mail.'"
            ],
            "application/vnd.google.colaboratory.intrinsic+json": {
              "type": "string"
            }
          },
          "metadata": {},
          "execution_count": 148
        }
      ]
    },
    {
      "cell_type": "code",
      "source": [
        "from nltk.tokenize import word_tokenize\n",
        "nltk.download('punkt')"
      ],
      "metadata": {
        "colab": {
          "base_uri": "https://localhost:8080/"
        },
        "id": "8fjFMEOobDnd",
        "outputId": "604501ce-5f08-4ba4-a727-e7fd484dfffc"
      },
      "execution_count": 149,
      "outputs": [
        {
          "output_type": "stream",
          "name": "stderr",
          "text": [
            "[nltk_data] Downloading package punkt to /root/nltk_data...\n",
            "[nltk_data]   Package punkt is already up-to-date!\n"
          ]
        },
        {
          "output_type": "execute_result",
          "data": {
            "text/plain": [
              "True"
            ]
          },
          "metadata": {},
          "execution_count": 149
        }
      ]
    },
    {
      "cell_type": "code",
      "source": [
        "# Hago una limpieza. Eliminar números, shortwords, lemmatizar, hacer stemming, etc...\n",
        "cleaned=[]\n",
        "for story in data_:\n",
        "    words=word_tokenize(story)\n",
        "    text=\"\"\n",
        "    for words in word_tokenize(story):\n",
        "        if (letters_only(words) and len(words)>2):\n",
        "          #lemma_word=lemmatizer.lemmatize(words)\n",
        "          #extra=\" \"+str(lemma_word)\n",
        "          #text+=extra\n",
        "          text+=\" \"+words\n",
        "    cleaned.append(text)"
      ],
      "metadata": {
        "id": "BkejeLvlecWq"
      },
      "execution_count": 173,
      "outputs": []
    },
    {
      "cell_type": "code",
      "source": [
        "cleaned[0]"
      ],
      "metadata": {
        "colab": {
          "base_uri": "https://localhost:8080/",
          "height": 70
        },
        "id": "ZDrPB0HrdkQj",
        "outputId": "0ce80537-4b27-4b54-92bb-ed68256e3cbb"
      },
      "execution_count": 174,
      "outputs": [
        {
          "output_type": "execute_result",
          "data": {
            "text/plain": [
              "' was wondering anyone out there could enlighten this car saw the other day was sports car looked from the late early was called bricklin the doors were really small addition the front bumper was separate from the rest the body this all know anyone can tellme model name engine specs years production where this car made history whatever info you have this funky looking car please'"
            ],
            "application/vnd.google.colaboratory.intrinsic+json": {
              "type": "string"
            }
          },
          "metadata": {},
          "execution_count": 174
        }
      ]
    },
    {
      "cell_type": "code",
      "source": [
        "TNG_tfidf_cleaned = tfidf.fit_transform(cleaned)"
      ],
      "metadata": {
        "id": "tGN2VsJCaZtS"
      },
      "execution_count": 175,
      "outputs": []
    },
    {
      "cell_type": "code",
      "source": [
        "for doc in range(0,10):\n",
        "  print(f'{doc}: {TNG_train.target_names[TNG_train.target[doc]]}: {tfidf.get_feature_names_out()[TNG_tfidf_cleaned[doc].argmax()]}')"
      ],
      "metadata": {
        "colab": {
          "base_uri": "https://localhost:8080/"
        },
        "id": "5Pd1jL8Kd2hf",
        "outputId": "4e7d3069-4570-4808-cab2-414d6557916d"
      },
      "execution_count": 176,
      "outputs": [
        {
          "output_type": "stream",
          "name": "stdout",
          "text": [
            "0: rec.autos: car\n",
            "1: comp.sys.mac.hardware: poll\n",
            "2: comp.sys.mac.hardware: powerbook\n",
            "3: comp.graphics: weitek\n",
            "4: sci.space: bugs\n",
            "5: talk.politics.guns: weapons\n",
            "6: sci.med: thank\n",
            "7: comp.sys.ibm.pc.hardware: burst\n",
            "8: comp.os.ms-windows.misc: icons\n",
            "9: comp.sys.mac.hardware: board\n"
          ]
        }
      ]
    },
    {
      "cell_type": "markdown",
      "source": [
        "# Kmeans"
      ],
      "metadata": {
        "id": "LB-eR4s0esRs"
      }
    },
    {
      "cell_type": "code",
      "source": [
        "from sklearn.cluster import KMeans"
      ],
      "metadata": {
        "id": "NPn_peWNfQye"
      },
      "execution_count": 177,
      "outputs": []
    },
    {
      "cell_type": "code",
      "source": [
        "number_of_clusters = 20\n",
        "TNG_cv_cleaned = cv.fit_transform(cleaned)\n",
        "kmmodel = KMeans(n_clusters=number_of_clusters)\n",
        "kmmodel.fit(TNG_cv_cleaned)"
      ],
      "metadata": {
        "colab": {
          "base_uri": "https://localhost:8080/",
          "height": 129
        },
        "id": "T5H548bLetll",
        "outputId": "f632b331-6bde-4cdc-cfd0-9eeae20ea6a0"
      },
      "execution_count": 178,
      "outputs": [
        {
          "output_type": "stream",
          "name": "stderr",
          "text": [
            "/usr/local/lib/python3.10/dist-packages/sklearn/cluster/_kmeans.py:870: FutureWarning: The default value of `n_init` will change from 10 to 'auto' in 1.4. Set the value of `n_init` explicitly to suppress the warning\n",
            "  warnings.warn(\n"
          ]
        },
        {
          "output_type": "execute_result",
          "data": {
            "text/plain": [
              "KMeans(n_clusters=20)"
            ],
            "text/html": [
              "<style>#sk-container-id-3 {color: black;background-color: white;}#sk-container-id-3 pre{padding: 0;}#sk-container-id-3 div.sk-toggleable {background-color: white;}#sk-container-id-3 label.sk-toggleable__label {cursor: pointer;display: block;width: 100%;margin-bottom: 0;padding: 0.3em;box-sizing: border-box;text-align: center;}#sk-container-id-3 label.sk-toggleable__label-arrow:before {content: \"▸\";float: left;margin-right: 0.25em;color: #696969;}#sk-container-id-3 label.sk-toggleable__label-arrow:hover:before {color: black;}#sk-container-id-3 div.sk-estimator:hover label.sk-toggleable__label-arrow:before {color: black;}#sk-container-id-3 div.sk-toggleable__content {max-height: 0;max-width: 0;overflow: hidden;text-align: left;background-color: #f0f8ff;}#sk-container-id-3 div.sk-toggleable__content pre {margin: 0.2em;color: black;border-radius: 0.25em;background-color: #f0f8ff;}#sk-container-id-3 input.sk-toggleable__control:checked~div.sk-toggleable__content {max-height: 200px;max-width: 100%;overflow: auto;}#sk-container-id-3 input.sk-toggleable__control:checked~label.sk-toggleable__label-arrow:before {content: \"▾\";}#sk-container-id-3 div.sk-estimator input.sk-toggleable__control:checked~label.sk-toggleable__label {background-color: #d4ebff;}#sk-container-id-3 div.sk-label input.sk-toggleable__control:checked~label.sk-toggleable__label {background-color: #d4ebff;}#sk-container-id-3 input.sk-hidden--visually {border: 0;clip: rect(1px 1px 1px 1px);clip: rect(1px, 1px, 1px, 1px);height: 1px;margin: -1px;overflow: hidden;padding: 0;position: absolute;width: 1px;}#sk-container-id-3 div.sk-estimator {font-family: monospace;background-color: #f0f8ff;border: 1px dotted black;border-radius: 0.25em;box-sizing: border-box;margin-bottom: 0.5em;}#sk-container-id-3 div.sk-estimator:hover {background-color: #d4ebff;}#sk-container-id-3 div.sk-parallel-item::after {content: \"\";width: 100%;border-bottom: 1px solid gray;flex-grow: 1;}#sk-container-id-3 div.sk-label:hover label.sk-toggleable__label {background-color: #d4ebff;}#sk-container-id-3 div.sk-serial::before {content: \"\";position: absolute;border-left: 1px solid gray;box-sizing: border-box;top: 0;bottom: 0;left: 50%;z-index: 0;}#sk-container-id-3 div.sk-serial {display: flex;flex-direction: column;align-items: center;background-color: white;padding-right: 0.2em;padding-left: 0.2em;position: relative;}#sk-container-id-3 div.sk-item {position: relative;z-index: 1;}#sk-container-id-3 div.sk-parallel {display: flex;align-items: stretch;justify-content: center;background-color: white;position: relative;}#sk-container-id-3 div.sk-item::before, #sk-container-id-3 div.sk-parallel-item::before {content: \"\";position: absolute;border-left: 1px solid gray;box-sizing: border-box;top: 0;bottom: 0;left: 50%;z-index: -1;}#sk-container-id-3 div.sk-parallel-item {display: flex;flex-direction: column;z-index: 1;position: relative;background-color: white;}#sk-container-id-3 div.sk-parallel-item:first-child::after {align-self: flex-end;width: 50%;}#sk-container-id-3 div.sk-parallel-item:last-child::after {align-self: flex-start;width: 50%;}#sk-container-id-3 div.sk-parallel-item:only-child::after {width: 0;}#sk-container-id-3 div.sk-dashed-wrapped {border: 1px dashed gray;margin: 0 0.4em 0.5em 0.4em;box-sizing: border-box;padding-bottom: 0.4em;background-color: white;}#sk-container-id-3 div.sk-label label {font-family: monospace;font-weight: bold;display: inline-block;line-height: 1.2em;}#sk-container-id-3 div.sk-label-container {text-align: center;}#sk-container-id-3 div.sk-container {/* jupyter's `normalize.less` sets `[hidden] { display: none; }` but bootstrap.min.css set `[hidden] { display: none !important; }` so we also need the `!important` here to be able to override the default hidden behavior on the sphinx rendered scikit-learn.org. See: https://github.com/scikit-learn/scikit-learn/issues/21755 */display: inline-block !important;position: relative;}#sk-container-id-3 div.sk-text-repr-fallback {display: none;}</style><div id=\"sk-container-id-3\" class=\"sk-top-container\"><div class=\"sk-text-repr-fallback\"><pre>KMeans(n_clusters=20)</pre><b>In a Jupyter environment, please rerun this cell to show the HTML representation or trust the notebook. <br />On GitHub, the HTML representation is unable to render, please try loading this page with nbviewer.org.</b></div><div class=\"sk-container\" hidden><div class=\"sk-item\"><div class=\"sk-estimator sk-toggleable\"><input class=\"sk-toggleable__control sk-hidden--visually\" id=\"sk-estimator-id-3\" type=\"checkbox\" checked><label for=\"sk-estimator-id-3\" class=\"sk-toggleable__label sk-toggleable__label-arrow\">KMeans</label><div class=\"sk-toggleable__content\"><pre>KMeans(n_clusters=20)</pre></div></div></div></div></div>"
            ]
          },
          "metadata": {},
          "execution_count": 178
        }
      ]
    },
    {
      "cell_type": "code",
      "source": [
        "order_centroids = kmmodel.cluster_centers_.argsort()[:, ::-1]\n",
        "terms = cv.get_feature_names_out()"
      ],
      "metadata": {
        "id": "WajYqKZgfnwt"
      },
      "execution_count": 179,
      "outputs": []
    },
    {
      "cell_type": "code",
      "source": [
        "for i in range(number_of_clusters):\n",
        "    print(\"Cluster %d:\" % i),\n",
        "    for ind in order_centroids[i, :10]:\n",
        "        print(' %s' % terms[ind])\n",
        "        plt.show()"
      ],
      "metadata": {
        "colab": {
          "base_uri": "https://localhost:8080/"
        },
        "id": "G_Dk7K2afpeg",
        "outputId": "74f7a1bc-6ce1-4499-e810-c1e359eaa5e0"
      },
      "execution_count": 180,
      "outputs": [
        {
          "output_type": "stream",
          "name": "stdout",
          "text": [
            "Cluster 0:\n",
            " bunning\n",
            " short\n",
            " reds\n",
            " louis\n",
            " san\n",
            " francisco\n",
            " cincinnati\n",
            " los\n",
            " cardinals\n",
            " angeles\n",
            "Cluster 1:\n",
            " space\n",
            " use\n",
            " people\n",
            " available\n",
            " information\n",
            " time\n",
            " new\n",
            " data\n",
            " program\n",
            " key\n",
            "Cluster 2:\n",
            " max\n",
            " bhj\n",
            " giz\n",
            " qax\n",
            " nrhj\n",
            " biz\n",
            " ghj\n",
            " bhjn\n",
            " nuy\n",
            " gizw\n",
            "Cluster 3:\n",
            " did\n",
            " people\n",
            " said\n",
            " know\n",
            " just\n",
            " went\n",
            " apartment\n",
            " like\n",
            " came\n",
            " mamma\n",
            "Cluster 4:\n",
            " like\n",
            " just\n",
            " people\n",
            " does\n",
            " know\n",
            " think\n",
            " use\n",
            " time\n",
            " did\n",
            " good\n",
            "Cluster 5:\n",
            " god\n",
            " jesus\n",
            " atheists\n",
            " does\n",
            " matthew\n",
            " people\n",
            " believe\n",
            " atheism\n",
            " religious\n",
            " religion\n",
            "Cluster 6:\n",
            " max\n",
            " giz\n",
            " bhj\n",
            " fij\n",
            " nrhj\n",
            " rlk\n",
            " qax\n",
            " fyn\n",
            " biz\n",
            " nuy\n",
            "Cluster 7:\n",
            " anonymous\n",
            " internet\n",
            " privacy\n",
            " information\n",
            " email\n",
            " anonymity\n",
            " use\n",
            " posting\n",
            " mail\n",
            " service\n",
            "Cluster 8:\n",
            " jpeg\n",
            " image\n",
            " file\n",
            " gif\n",
            " images\n",
            " format\n",
            " quality\n",
            " version\n",
            " files\n",
            " free\n",
            "Cluster 9:\n",
            " file\n",
            " gun\n",
            " control\n",
            " states\n",
            " firearms\n",
            " united\n",
            " house\n",
            " handgun\n",
            " amendment\n",
            " january\n",
            "Cluster 10:\n",
            " widget\n",
            " application\n",
            " resource\n",
            " type\n",
            " value\n",
            " converter\n",
            " visual\n",
            " data\n",
            " set\n",
            " widgets\n",
            "Cluster 11:\n",
            " stephanopoulos\n",
            " president\n",
            " going\n",
            " know\n",
            " think\n",
            " said\n",
            " administration\n",
            " did\n",
            " package\n",
            " russia\n",
            "Cluster 12:\n",
            " output\n",
            " file\n",
            " oname\n",
            " printf\n",
            " stream\n",
            " program\n",
            " char\n",
            " entry\n",
            " buf\n",
            " fprintf\n",
            "Cluster 13:\n",
            " available\n",
            " image\n",
            " window\n",
            " subject\n",
            " version\n",
            " data\n",
            " use\n",
            " server\n",
            " file\n",
            " information\n",
            "Cluster 14:\n",
            " wire\n",
            " wiring\n",
            " use\n",
            " neutral\n",
            " ground\n",
            " subject\n",
            " circuit\n",
            " cable\n",
            " outlets\n",
            " nec\n",
            "Cluster 15:\n",
            " war\n",
            " south\n",
            " secret\n",
            " nuclear\n",
            " rockefeller\n",
            " new\n",
            " military\n",
            " island\n",
            " georgia\n",
            " naval\n",
            "Cluster 16:\n",
            " turkish\n",
            " jews\n",
            " turkey\n",
            " armenian\n",
            " ottoman\n",
            " russian\n",
            " war\n",
            " armenians\n",
            " nazis\n",
            " people\n",
            "Cluster 17:\n",
            " hockey\n",
            " league\n",
            " nhl\n",
            " new\n",
            " team\n",
            " season\n",
            " games\n",
            " draft\n",
            " division\n",
            " teams\n",
            "Cluster 18:\n",
            " entry\n",
            " entries\n",
            " rules\n",
            " program\n",
            " section\n",
            " use\n",
            " files\n",
            " file\n",
            " source\n",
            " number\n",
            "Cluster 19:\n",
            " disk\n",
            " drives\n",
            " hard\n",
            " bios\n",
            " drive\n",
            " rom\n",
            " controller\n",
            " feature\n",
            " card\n",
            " supports\n"
          ]
        }
      ]
    },
    {
      "cell_type": "markdown",
      "source": [
        "# NMF"
      ],
      "metadata": {
        "id": "Uwqymy8xgCPL"
      }
    },
    {
      "cell_type": "code",
      "source": [
        "from sklearn.decomposition import NMF"
      ],
      "metadata": {
        "id": "0-weSgnRgmLw"
      },
      "execution_count": 181,
      "outputs": []
    },
    {
      "cell_type": "code",
      "source": [
        "d=20  # num topics\n",
        "cv = CountVectorizer(ngram_range=(1,1), max_df=0.8, min_df=2, max_features=None, stop_words=\"english\")\n",
        "TNG_cv_cleaned = cv.fit_transform(cleaned)\n",
        "nmf = NMF(n_components=d, random_state=1).fit(TNG_cv_cleaned)"
      ],
      "metadata": {
        "id": "Yn1S2SYEgEBL"
      },
      "execution_count": 182,
      "outputs": []
    },
    {
      "cell_type": "code",
      "source": [
        "def display_topics(model, feature_names, no_top_words):\n",
        "    for topic_idx, topic in enumerate(model.components_):\n",
        "        print(\"Topic %d:\" % (topic_idx))\n",
        "        print(\" \".join([feature_names[i]\n",
        "                        for i in topic.argsort()[:-no_top_words - 1:-1]]))"
      ],
      "metadata": {
        "id": "60dPPljTgsXq"
      },
      "execution_count": 183,
      "outputs": []
    },
    {
      "cell_type": "code",
      "source": [
        "display_topics(nmf, feature_names=cv.get_feature_names_out(),  no_top_words=20)"
      ],
      "metadata": {
        "colab": {
          "base_uri": "https://localhost:8080/"
        },
        "id": "PiA0t1TMg6_I",
        "outputId": "256654c6-2b65-4a4b-ff18-ba39582aa013"
      },
      "execution_count": 184,
      "outputs": [
        {
          "output_type": "stream",
          "name": "stdout",
          "text": [
            "Topic 0:\n",
            "max bhj giz qax nrhj biz ghj nuy bhjn gizw wwiz rlk fyn fij nriz vmk qtm mdi mtm air\n",
            "Topic 1:\n",
            "available widget window version server use subject set data information motif application software program sun display using resource ftp file\n",
            "Topic 2:\n",
            "did said people know went just came apartment say like armenians says told going mamma started time took saw armenian\n",
            "Topic 3:\n",
            "output file oname printf stream program char entry buf fprintf return filename uuencode int contest line stderr write section null\n",
            "Topic 4:\n",
            "file gun control firearms states united house handgun amendment crime january law directory american senate use amend journal second march\n",
            "Topic 5:\n",
            "internet anonymous privacy information email mail anonymity use computer electronic users network posting address encryption usenet security access user service\n",
            "Topic 6:\n",
            "stephanopoulos president know going think said did package groups george does working just time mean vat tax jobs yes press\n",
            "Topic 7:\n",
            "hockey league nhl team new season games draft division game teams ahl conference list defenseman mon play players cup echl\n",
            "Topic 8:\n",
            "wire wiring use ground neutral subject circuit outlets cable nec gfci does usually electrical hot wires power used need cec\n",
            "Topic 9:\n",
            "disk drive drives hard bios rom controller card feature floppy supports interface heads scsi speed cylinders systems data jumper formatting\n",
            "Topic 10:\n",
            "jpeg image gif file images format version files free quality color software programs use available display does viewer formats convert\n",
            "Topic 11:\n",
            "people like work good just think want time know does anonymous make jobs right really posting dod lot young going\n",
            "Topic 12:\n",
            "god jesus does matthew atheists bible believe people christian true religion atheism christ faith religious say lord course said life\n",
            "Topic 13:\n",
            "entry entries rules use section program files file number source info guidelines winners build year email contest does format programs\n",
            "Topic 14:\n",
            "administration president russia senior think russian official government program american package funds support money important food myers going million congress\n",
            "Topic 15:\n",
            "space launch satellite data commercial satellites nasa market year mission program lunar technology national earth new orbit services systems communications\n",
            "Topic 16:\n",
            "war south secret new nuclear military rockefeller island georgia naval time ships plan british world argentina navy attack southern bolshevik\n",
            "Topic 17:\n",
            "health use medical number april research center cancer tobacco hiv newsletter page volume aids hicnet national states children reported years\n",
            "Topic 18:\n",
            "turkish jews turkey armenian nazis ottoman jewish book history war university people government armenians eastern turks istanbul world new europe\n",
            "Topic 19:\n",
            "mov byte bits push pop offset ptr loop assembled data bit lower higher gas east west left right particle ret\n"
          ]
        }
      ]
    },
    {
      "cell_type": "code",
      "source": [
        "# Una ventaja del NMF sobre LDA es que puedo pasarle el TFIDF\n",
        "tfidf = TfidfVectorizer(ngram_range=(1,1), max_df=0.8, min_df=2, max_features=None, stop_words=\"english\")\n",
        "TNG_cv_cleaned = tfidf.fit_transform(cleaned)\n",
        "nmf_tfidf = NMF(n_components=d, random_state=1).fit(TNG_cv_cleaned )"
      ],
      "metadata": {
        "id": "n250kLsZkV9i"
      },
      "execution_count": 185,
      "outputs": []
    },
    {
      "cell_type": "code",
      "source": [
        "display_topics(nmf_tfidf, feature_names=cv.get_feature_names_out(),  no_top_words=20)"
      ],
      "metadata": {
        "colab": {
          "base_uri": "https://localhost:8080/"
        },
        "id": "0p27JVy0ku0E",
        "outputId": "c1a9e0db-05ab-4144-a98a-4a0ab3f914c8"
      },
      "execution_count": 186,
      "outputs": [
        {
          "output_type": "stream",
          "name": "stdout",
          "text": [
            "Topic 0:\n",
            "people think right government gun make say point law guns believe state person rights want good life things way case\n",
            "Topic 1:\n",
            "space nasa data information program launch shuttle list available research orbit station science lunar moon earth article technology center university\n",
            "Topic 2:\n",
            "god jesus bible believe faith christ christian christians life church heaven hell say lord sin truth man belief love christianity\n",
            "Topic 3:\n",
            "drive scsi drives hard disk ide controller floppy boot tape internal bus seagate quantum cable bios external meg mac motherboard\n",
            "Topic 4:\n",
            "key chip encryption clipper keys government escrow algorithm secure security nsa phone encrypted law number chips des secret enforcement privacy\n",
            "Topic 5:\n",
            "thanks advance looking info email address help information appreciated post mail send appreciate anybody hello reply need list interested lot\n",
            "Topic 6:\n",
            "geb chastity shameful intellect skepticism surrender gordon banks soon lyme blood patients weight medical probably usually migraine sure disease patient\n",
            "Topic 7:\n",
            "card video monitor vga drivers cards bus driver color vesa ati graphics diamond controller mode vlb ram isa svga colors\n",
            "Topic 8:\n",
            "game team games year players season hockey play win league teams baseball nhl player good runs toronto think best pitching\n",
            "Topic 9:\n",
            "sale new offer price shipping condition asking email interested sell best excellent brand old original includes used model obo selling\n",
            "Topic 10:\n",
            "armenian armenians turkish turkey armenia genocide turks government said muslim azerbaijan russian greek argic people serdar population million war kurds\n",
            "Topic 11:\n",
            "windows dos version driver drivers microsoft running using program mouse run software printer font programs mode works files apps norton\n",
            "Topic 12:\n",
            "does know anybody mean let like program info appreciated help exist say happen want work sound really heard going portable\n",
            "Topic 13:\n",
            "window application server manager display motif widget program xterm code set font using user running screen size colormap client way\n",
            "Topic 14:\n",
            "car bike cars engine good miles dealer insurance honda speed buy tires driving bikes ride oil ford new rear power\n",
            "Topic 15:\n",
            "file files directory program format ftp image try bmp site available gif cview convert disk copy formats read tiff swap\n",
            "Topic 16:\n",
            "israel israeli jews arab arabs lebanese lebanon jewish peace israelis adam war state land palestinian palestinians attacks syria palestine soldiers\n",
            "Topic 17:\n",
            "use problem memory mac using apple software port need machine simms work modem help used printer hardware serial screen computer\n",
            "Topic 18:\n",
            "just like got good stuff things really look thing think going wondering little sounds maybe sure want say deleted time\n",
            "Topic 19:\n",
            "did said got fbi say koresh time know ago went children saw told question came thought remember article heard years\n"
          ]
        }
      ]
    },
    {
      "cell_type": "markdown",
      "source": [
        "# LDA"
      ],
      "metadata": {
        "id": "MnVckX5Ck_ZY"
      }
    },
    {
      "cell_type": "code",
      "source": [
        "from sklearn.decomposition import LatentDirichletAllocation"
      ],
      "metadata": {
        "id": "Z6oF-KXUlC6Q"
      },
      "execution_count": 187,
      "outputs": []
    },
    {
      "cell_type": "code",
      "source": [
        "lda = LatentDirichletAllocation(n_components=20, max_iter=5, learning_method='online', learning_offset=50.,random_state=0).fit(TNG_cv_cleaned)"
      ],
      "metadata": {
        "id": "jxfsrJ51lAn8"
      },
      "execution_count": 188,
      "outputs": []
    },
    {
      "cell_type": "code",
      "source": [
        "display_topics(lda, feature_names=cv.get_feature_names_out(), no_top_words=20)"
      ],
      "metadata": {
        "id": "kgcL5WN8lqaH",
        "outputId": "e3772362-fb8c-4e09-a254-17e28256c616",
        "colab": {
          "base_uri": "https://localhost:8080/"
        }
      },
      "execution_count": 189,
      "outputs": [
        {
          "output_type": "stream",
          "name": "stdout",
          "text": [
            "Topic 0:\n",
            "printer version drivers current substitution roberts mvp windows doug hill callbacks ver driver ken reinforcement dialog flow print let newer\n",
            "Topic 1:\n",
            "manta kadett chevrolet lemans acne indy overdose mearly hwang hyperactivity spdcc rayssd linus ima clearasil scopes ibuprofen dyer cars appeared\n",
            "Topic 2:\n",
            "bleah intermittently mitteilungsblatt gesselschaft admonition sam thanx advance wallpaper orders motto image anybody icons yankee thanks western gifs circuits ranger\n",
            "Topic 3:\n",
            "bos det pit chi tor que cal stl nyi buf nyr van phi edm mtl ott pittsburg min ahf pitt\n",
            "Topic 4:\n",
            "smileys cindy parametric maureen tittle tog smarter derose lobotomy munge cusps jug characterizing origonal aided cubic curves xerox geometric razor\n",
            "Topic 5:\n",
            "max bhj rig omran giz sidecar rednecks steelers dirtbike jur rmw goggles qax nrhj mmw ajw fij aoj biz jvw\n",
            "Topic 6:\n",
            "resumed slimy levitical mattress suresh rushdie scriptural violation tactic fatwa yrs irrelevant legitimately searching jews priesthood disks legal memory mindless\n",
            "Topic 7:\n",
            "sepinwall wessels melido aye den posn bergman keynes carmel bowles loke mak bunnies petes seppo kemppainen marven houdini yan repo\n",
            "Topic 8:\n",
            "geb shameful chastity intellect skepticism surrender gordon banks soon meningitis purify skcgoh freehand updating neurologic neurology estrogen dystrophy reflex acad\n",
            "Topic 9:\n",
            "sandiego graig nettles flo cin window brilliant atl pitcher battery cub pull phi benefit snd project col manager prefer hou\n",
            "Topic 10:\n",
            "people just like think does know did good time god say right way make new really said believe year use\n",
            "Topic 11:\n",
            "brochures rigidly insemination weapons destruction sabbath class luke gps okay matthew mass begat differential john received term mark daughters days\n",
            "Topic 12:\n",
            "kuiper mfc chimps cookbook netanyahu scirocco fixable treble intriguing blender karla ephem elwood downey backers monolux salons duster vaccum bro\n",
            "Topic 13:\n",
            "thanks windows card drive use does know file problem using software like need program dos files mac window advance monitor\n",
            "Topic 14:\n",
            "irwin kssimon tuba honk lunacy backcountry iubacs crary ataris cabbage testing bet christianity just mail flames especially gun apostles say\n",
            "Topic 15:\n",
            "backorder squid fish kinda tradition certificate straights alive promiscuous games homosexuals married permanent marriage alternative relationship lack force break excuse\n",
            "Topic 16:\n",
            "hite rectum cockroaches grape subscribe fairchild flame clipper semiconductor reply trademark depression infinity ati launcher bulgaria export key promiscuity plus\n",
            "Topic 17:\n",
            "potassium vit schott glycemic pancreatic bloodcount anello hypoglycemic chelated manganese alexis chromium honey calcium goering breads insurance arrhythmias parent burst\n",
            "Topic 18:\n",
            "regal trinomials eau dubinski lbl regals xrn psa rus mbs boucher djb gst selector mga xew lst agv ail gfx\n",
            "Topic 19:\n",
            "rathole tinnitus razzing rubs geeky tatoo stafford depreciation genashor piney gendel winona exacerbate egan unnoticed abortion depreciate weitek cameras hijaak\n"
          ]
        }
      ]
    },
    {
      "cell_type": "code",
      "source": [
        "# Puedo hacer la transformación de manera de obtener para cada uno de los 11314 documentos, la probabilidad de pertenencia a cada uno de los 20 topics\n",
        "TNG_topics_lda = lda.transform(TNG_cv_cleaned)"
      ],
      "metadata": {
        "id": "kKCBW9ADnOw4"
      },
      "execution_count": 190,
      "outputs": []
    },
    {
      "cell_type": "code",
      "source": [
        "TNG_topics_lda.shape"
      ],
      "metadata": {
        "id": "6lEDZRsBnSre",
        "outputId": "ec2697d4-9094-4491-82f6-7782630e2c2b",
        "colab": {
          "base_uri": "https://localhost:8080/"
        }
      },
      "execution_count": 191,
      "outputs": [
        {
          "output_type": "execute_result",
          "data": {
            "text/plain": [
              "(11314, 20)"
            ]
          },
          "metadata": {},
          "execution_count": 191
        }
      ]
    },
    {
      "cell_type": "code",
      "source": [
        "# Por ejemplo, esta es la probabilidad de pertenencia del documento 0 a cada uno de los topics.\n",
        "# Es decir, que no le asignó un cluster, sino que este documento está más cercano a uno u otro topic\n",
        "TNG_topics_lda[0]"
      ],
      "metadata": {
        "id": "Dq8TQY4gnguH",
        "outputId": "170c8b5d-1ffb-40f6-db10-3981818c3749",
        "colab": {
          "base_uri": "https://localhost:8080/"
        }
      },
      "execution_count": 192,
      "outputs": [
        {
          "output_type": "execute_result",
          "data": {
            "text/plain": [
              "array([0.0085087 , 0.0085087 , 0.0085087 , 0.0085087 , 0.0085087 ,\n",
              "       0.0085087 , 0.0085087 , 0.05482173, 0.0085087 , 0.0085087 ,\n",
              "       0.79202168, 0.0085087 , 0.0085087 , 0.0085087 , 0.0085087 ,\n",
              "       0.0085087 , 0.0085087 , 0.0085087 , 0.0085087 , 0.0085087 ])"
            ]
          },
          "metadata": {},
          "execution_count": 192
        }
      ]
    },
    {
      "cell_type": "code",
      "source": [
        "import pandas as pd\n",
        "topics=pd.DataFrame(TNG_topics_lda)\n",
        "topics['max']=TNG_topics_lda.argmax(axis=1)+1"
      ],
      "metadata": {
        "id": "torSkzUaiVHi"
      },
      "execution_count": 209,
      "outputs": []
    },
    {
      "cell_type": "code",
      "source": [
        "topics"
      ],
      "metadata": {
        "colab": {
          "base_uri": "https://localhost:8080/",
          "height": 444
        },
        "id": "7-ObUDtumC6X",
        "outputId": "3d679948-3afe-47c1-bb71-848845dfa7fc"
      },
      "execution_count": 210,
      "outputs": [
        {
          "output_type": "execute_result",
          "data": {
            "text/plain": [
              "              0         1         2         3         4         5         6  \\\n",
              "0      0.008509  0.008509  0.008509  0.008509  0.008509  0.008509  0.008509   \n",
              "1      0.007075  0.007075  0.007075  0.007075  0.007075  0.007075  0.007075   \n",
              "2      0.004755  0.004755  0.004755  0.004755  0.004755  0.004755  0.004755   \n",
              "3      0.016288  0.016288  0.016288  0.016288  0.016288  0.016288  0.016288   \n",
              "4      0.008462  0.008462  0.008462  0.008462  0.008462  0.008462  0.008462   \n",
              "...         ...       ...       ...       ...       ...       ...       ...   \n",
              "11309  0.005762  0.005762  0.005762  0.005762  0.005762  0.005762  0.005762   \n",
              "11310  0.007377  0.007377  0.007377  0.007377  0.007377  0.007377  0.007377   \n",
              "11311  0.009781  0.009781  0.009781  0.009781  0.009781  0.009781  0.009781   \n",
              "11312  0.010341  0.010341  0.010341  0.010341  0.010341  0.010341  0.010341   \n",
              "11313  0.008442  0.008442  0.008442  0.008442  0.008442  0.008442  0.008442   \n",
              "\n",
              "              7         8         9  ...        11        12        13  \\\n",
              "0      0.054822  0.008509  0.008509  ...  0.008509  0.008509  0.008509   \n",
              "1      0.007075  0.007075  0.007075  ...  0.007075  0.007075  0.371910   \n",
              "2      0.004755  0.004755  0.004755  ...  0.004755  0.004755  0.341126   \n",
              "3      0.016288  0.016288  0.016288  ...  0.016288  0.016288  0.690530   \n",
              "4      0.008462  0.008462  0.008462  ...  0.008462  0.008462  0.340641   \n",
              "...         ...       ...       ...  ...       ...       ...       ...   \n",
              "11309  0.005762  0.037166  0.005762  ...  0.005762  0.005762  0.005762   \n",
              "11310  0.007377  0.007377  0.007377  ...  0.007377  0.007377  0.700395   \n",
              "11311  0.009781  0.009781  0.009781  ...  0.009781  0.009781  0.458412   \n",
              "11312  0.010341  0.010341  0.010341  ...  0.010341  0.010341  0.010341   \n",
              "11313  0.008442  0.008442  0.008442  ...  0.008442  0.008442  0.008442   \n",
              "\n",
              "             14        15        16        17        18        19  max  \n",
              "0      0.008509  0.008509  0.008509  0.008509  0.008509  0.008509   11  \n",
              "1      0.007075  0.007075  0.007075  0.007075  0.007075  0.007075   11  \n",
              "2      0.004755  0.004755  0.004755  0.004755  0.004755  0.004755   11  \n",
              "3      0.016288  0.016288  0.016288  0.016288  0.016288  0.016288   14  \n",
              "4      0.008462  0.008462  0.008462  0.008462  0.008462  0.008462   11  \n",
              "...         ...       ...       ...       ...       ...       ...  ...  \n",
              "11309  0.005762  0.005762  0.005762  0.005762  0.005762  0.005762   11  \n",
              "11310  0.007377  0.007377  0.007377  0.007377  0.007377  0.007377   14  \n",
              "11311  0.009781  0.009781  0.009781  0.009781  0.009781  0.009781   14  \n",
              "11312  0.010341  0.010341  0.010341  0.010341  0.010341  0.010341   11  \n",
              "11313  0.008442  0.008442  0.008442  0.008442  0.008442  0.008442   11  \n",
              "\n",
              "[11314 rows x 21 columns]"
            ],
            "text/html": [
              "\n",
              "  <div id=\"df-8e44606f-570b-4a1e-9e73-b2e2fdae0910\" class=\"colab-df-container\">\n",
              "    <div>\n",
              "<style scoped>\n",
              "    .dataframe tbody tr th:only-of-type {\n",
              "        vertical-align: middle;\n",
              "    }\n",
              "\n",
              "    .dataframe tbody tr th {\n",
              "        vertical-align: top;\n",
              "    }\n",
              "\n",
              "    .dataframe thead th {\n",
              "        text-align: right;\n",
              "    }\n",
              "</style>\n",
              "<table border=\"1\" class=\"dataframe\">\n",
              "  <thead>\n",
              "    <tr style=\"text-align: right;\">\n",
              "      <th></th>\n",
              "      <th>0</th>\n",
              "      <th>1</th>\n",
              "      <th>2</th>\n",
              "      <th>3</th>\n",
              "      <th>4</th>\n",
              "      <th>5</th>\n",
              "      <th>6</th>\n",
              "      <th>7</th>\n",
              "      <th>8</th>\n",
              "      <th>9</th>\n",
              "      <th>...</th>\n",
              "      <th>11</th>\n",
              "      <th>12</th>\n",
              "      <th>13</th>\n",
              "      <th>14</th>\n",
              "      <th>15</th>\n",
              "      <th>16</th>\n",
              "      <th>17</th>\n",
              "      <th>18</th>\n",
              "      <th>19</th>\n",
              "      <th>max</th>\n",
              "    </tr>\n",
              "  </thead>\n",
              "  <tbody>\n",
              "    <tr>\n",
              "      <th>0</th>\n",
              "      <td>0.008509</td>\n",
              "      <td>0.008509</td>\n",
              "      <td>0.008509</td>\n",
              "      <td>0.008509</td>\n",
              "      <td>0.008509</td>\n",
              "      <td>0.008509</td>\n",
              "      <td>0.008509</td>\n",
              "      <td>0.054822</td>\n",
              "      <td>0.008509</td>\n",
              "      <td>0.008509</td>\n",
              "      <td>...</td>\n",
              "      <td>0.008509</td>\n",
              "      <td>0.008509</td>\n",
              "      <td>0.008509</td>\n",
              "      <td>0.008509</td>\n",
              "      <td>0.008509</td>\n",
              "      <td>0.008509</td>\n",
              "      <td>0.008509</td>\n",
              "      <td>0.008509</td>\n",
              "      <td>0.008509</td>\n",
              "      <td>11</td>\n",
              "    </tr>\n",
              "    <tr>\n",
              "      <th>1</th>\n",
              "      <td>0.007075</td>\n",
              "      <td>0.007075</td>\n",
              "      <td>0.007075</td>\n",
              "      <td>0.007075</td>\n",
              "      <td>0.007075</td>\n",
              "      <td>0.007075</td>\n",
              "      <td>0.007075</td>\n",
              "      <td>0.007075</td>\n",
              "      <td>0.007075</td>\n",
              "      <td>0.007075</td>\n",
              "      <td>...</td>\n",
              "      <td>0.007075</td>\n",
              "      <td>0.007075</td>\n",
              "      <td>0.371910</td>\n",
              "      <td>0.007075</td>\n",
              "      <td>0.007075</td>\n",
              "      <td>0.007075</td>\n",
              "      <td>0.007075</td>\n",
              "      <td>0.007075</td>\n",
              "      <td>0.007075</td>\n",
              "      <td>11</td>\n",
              "    </tr>\n",
              "    <tr>\n",
              "      <th>2</th>\n",
              "      <td>0.004755</td>\n",
              "      <td>0.004755</td>\n",
              "      <td>0.004755</td>\n",
              "      <td>0.004755</td>\n",
              "      <td>0.004755</td>\n",
              "      <td>0.004755</td>\n",
              "      <td>0.004755</td>\n",
              "      <td>0.004755</td>\n",
              "      <td>0.004755</td>\n",
              "      <td>0.004755</td>\n",
              "      <td>...</td>\n",
              "      <td>0.004755</td>\n",
              "      <td>0.004755</td>\n",
              "      <td>0.341126</td>\n",
              "      <td>0.004755</td>\n",
              "      <td>0.004755</td>\n",
              "      <td>0.004755</td>\n",
              "      <td>0.004755</td>\n",
              "      <td>0.004755</td>\n",
              "      <td>0.004755</td>\n",
              "      <td>11</td>\n",
              "    </tr>\n",
              "    <tr>\n",
              "      <th>3</th>\n",
              "      <td>0.016288</td>\n",
              "      <td>0.016288</td>\n",
              "      <td>0.016288</td>\n",
              "      <td>0.016288</td>\n",
              "      <td>0.016288</td>\n",
              "      <td>0.016288</td>\n",
              "      <td>0.016288</td>\n",
              "      <td>0.016288</td>\n",
              "      <td>0.016288</td>\n",
              "      <td>0.016288</td>\n",
              "      <td>...</td>\n",
              "      <td>0.016288</td>\n",
              "      <td>0.016288</td>\n",
              "      <td>0.690530</td>\n",
              "      <td>0.016288</td>\n",
              "      <td>0.016288</td>\n",
              "      <td>0.016288</td>\n",
              "      <td>0.016288</td>\n",
              "      <td>0.016288</td>\n",
              "      <td>0.016288</td>\n",
              "      <td>14</td>\n",
              "    </tr>\n",
              "    <tr>\n",
              "      <th>4</th>\n",
              "      <td>0.008462</td>\n",
              "      <td>0.008462</td>\n",
              "      <td>0.008462</td>\n",
              "      <td>0.008462</td>\n",
              "      <td>0.008462</td>\n",
              "      <td>0.008462</td>\n",
              "      <td>0.008462</td>\n",
              "      <td>0.008462</td>\n",
              "      <td>0.008462</td>\n",
              "      <td>0.008462</td>\n",
              "      <td>...</td>\n",
              "      <td>0.008462</td>\n",
              "      <td>0.008462</td>\n",
              "      <td>0.340641</td>\n",
              "      <td>0.008462</td>\n",
              "      <td>0.008462</td>\n",
              "      <td>0.008462</td>\n",
              "      <td>0.008462</td>\n",
              "      <td>0.008462</td>\n",
              "      <td>0.008462</td>\n",
              "      <td>11</td>\n",
              "    </tr>\n",
              "    <tr>\n",
              "      <th>...</th>\n",
              "      <td>...</td>\n",
              "      <td>...</td>\n",
              "      <td>...</td>\n",
              "      <td>...</td>\n",
              "      <td>...</td>\n",
              "      <td>...</td>\n",
              "      <td>...</td>\n",
              "      <td>...</td>\n",
              "      <td>...</td>\n",
              "      <td>...</td>\n",
              "      <td>...</td>\n",
              "      <td>...</td>\n",
              "      <td>...</td>\n",
              "      <td>...</td>\n",
              "      <td>...</td>\n",
              "      <td>...</td>\n",
              "      <td>...</td>\n",
              "      <td>...</td>\n",
              "      <td>...</td>\n",
              "      <td>...</td>\n",
              "      <td>...</td>\n",
              "    </tr>\n",
              "    <tr>\n",
              "      <th>11309</th>\n",
              "      <td>0.005762</td>\n",
              "      <td>0.005762</td>\n",
              "      <td>0.005762</td>\n",
              "      <td>0.005762</td>\n",
              "      <td>0.005762</td>\n",
              "      <td>0.005762</td>\n",
              "      <td>0.005762</td>\n",
              "      <td>0.005762</td>\n",
              "      <td>0.037166</td>\n",
              "      <td>0.005762</td>\n",
              "      <td>...</td>\n",
              "      <td>0.005762</td>\n",
              "      <td>0.005762</td>\n",
              "      <td>0.005762</td>\n",
              "      <td>0.005762</td>\n",
              "      <td>0.005762</td>\n",
              "      <td>0.005762</td>\n",
              "      <td>0.005762</td>\n",
              "      <td>0.005762</td>\n",
              "      <td>0.005762</td>\n",
              "      <td>11</td>\n",
              "    </tr>\n",
              "    <tr>\n",
              "      <th>11310</th>\n",
              "      <td>0.007377</td>\n",
              "      <td>0.007377</td>\n",
              "      <td>0.007377</td>\n",
              "      <td>0.007377</td>\n",
              "      <td>0.007377</td>\n",
              "      <td>0.007377</td>\n",
              "      <td>0.007377</td>\n",
              "      <td>0.007377</td>\n",
              "      <td>0.007377</td>\n",
              "      <td>0.007377</td>\n",
              "      <td>...</td>\n",
              "      <td>0.007377</td>\n",
              "      <td>0.007377</td>\n",
              "      <td>0.700395</td>\n",
              "      <td>0.007377</td>\n",
              "      <td>0.007377</td>\n",
              "      <td>0.007377</td>\n",
              "      <td>0.007377</td>\n",
              "      <td>0.007377</td>\n",
              "      <td>0.007377</td>\n",
              "      <td>14</td>\n",
              "    </tr>\n",
              "    <tr>\n",
              "      <th>11311</th>\n",
              "      <td>0.009781</td>\n",
              "      <td>0.009781</td>\n",
              "      <td>0.009781</td>\n",
              "      <td>0.009781</td>\n",
              "      <td>0.009781</td>\n",
              "      <td>0.009781</td>\n",
              "      <td>0.009781</td>\n",
              "      <td>0.009781</td>\n",
              "      <td>0.009781</td>\n",
              "      <td>0.009781</td>\n",
              "      <td>...</td>\n",
              "      <td>0.009781</td>\n",
              "      <td>0.009781</td>\n",
              "      <td>0.458412</td>\n",
              "      <td>0.009781</td>\n",
              "      <td>0.009781</td>\n",
              "      <td>0.009781</td>\n",
              "      <td>0.009781</td>\n",
              "      <td>0.009781</td>\n",
              "      <td>0.009781</td>\n",
              "      <td>14</td>\n",
              "    </tr>\n",
              "    <tr>\n",
              "      <th>11312</th>\n",
              "      <td>0.010341</td>\n",
              "      <td>0.010341</td>\n",
              "      <td>0.010341</td>\n",
              "      <td>0.010341</td>\n",
              "      <td>0.010341</td>\n",
              "      <td>0.010341</td>\n",
              "      <td>0.010341</td>\n",
              "      <td>0.010341</td>\n",
              "      <td>0.010341</td>\n",
              "      <td>0.010341</td>\n",
              "      <td>...</td>\n",
              "      <td>0.010341</td>\n",
              "      <td>0.010341</td>\n",
              "      <td>0.010341</td>\n",
              "      <td>0.010341</td>\n",
              "      <td>0.010341</td>\n",
              "      <td>0.010341</td>\n",
              "      <td>0.010341</td>\n",
              "      <td>0.010341</td>\n",
              "      <td>0.010341</td>\n",
              "      <td>11</td>\n",
              "    </tr>\n",
              "    <tr>\n",
              "      <th>11313</th>\n",
              "      <td>0.008442</td>\n",
              "      <td>0.008442</td>\n",
              "      <td>0.008442</td>\n",
              "      <td>0.008442</td>\n",
              "      <td>0.008442</td>\n",
              "      <td>0.008442</td>\n",
              "      <td>0.008442</td>\n",
              "      <td>0.008442</td>\n",
              "      <td>0.008442</td>\n",
              "      <td>0.008442</td>\n",
              "      <td>...</td>\n",
              "      <td>0.008442</td>\n",
              "      <td>0.008442</td>\n",
              "      <td>0.008442</td>\n",
              "      <td>0.008442</td>\n",
              "      <td>0.008442</td>\n",
              "      <td>0.008442</td>\n",
              "      <td>0.008442</td>\n",
              "      <td>0.008442</td>\n",
              "      <td>0.008442</td>\n",
              "      <td>11</td>\n",
              "    </tr>\n",
              "  </tbody>\n",
              "</table>\n",
              "<p>11314 rows × 21 columns</p>\n",
              "</div>\n",
              "    <div class=\"colab-df-buttons\">\n",
              "\n",
              "  <div class=\"colab-df-container\">\n",
              "    <button class=\"colab-df-convert\" onclick=\"convertToInteractive('df-8e44606f-570b-4a1e-9e73-b2e2fdae0910')\"\n",
              "            title=\"Convert this dataframe to an interactive table.\"\n",
              "            style=\"display:none;\">\n",
              "\n",
              "  <svg xmlns=\"http://www.w3.org/2000/svg\" height=\"24px\" viewBox=\"0 -960 960 960\">\n",
              "    <path d=\"M120-120v-720h720v720H120Zm60-500h600v-160H180v160Zm220 220h160v-160H400v160Zm0 220h160v-160H400v160ZM180-400h160v-160H180v160Zm440 0h160v-160H620v160ZM180-180h160v-160H180v160Zm440 0h160v-160H620v160Z\"/>\n",
              "  </svg>\n",
              "    </button>\n",
              "\n",
              "  <style>\n",
              "    .colab-df-container {\n",
              "      display:flex;\n",
              "      gap: 12px;\n",
              "    }\n",
              "\n",
              "    .colab-df-convert {\n",
              "      background-color: #E8F0FE;\n",
              "      border: none;\n",
              "      border-radius: 50%;\n",
              "      cursor: pointer;\n",
              "      display: none;\n",
              "      fill: #1967D2;\n",
              "      height: 32px;\n",
              "      padding: 0 0 0 0;\n",
              "      width: 32px;\n",
              "    }\n",
              "\n",
              "    .colab-df-convert:hover {\n",
              "      background-color: #E2EBFA;\n",
              "      box-shadow: 0px 1px 2px rgba(60, 64, 67, 0.3), 0px 1px 3px 1px rgba(60, 64, 67, 0.15);\n",
              "      fill: #174EA6;\n",
              "    }\n",
              "\n",
              "    .colab-df-buttons div {\n",
              "      margin-bottom: 4px;\n",
              "    }\n",
              "\n",
              "    [theme=dark] .colab-df-convert {\n",
              "      background-color: #3B4455;\n",
              "      fill: #D2E3FC;\n",
              "    }\n",
              "\n",
              "    [theme=dark] .colab-df-convert:hover {\n",
              "      background-color: #434B5C;\n",
              "      box-shadow: 0px 1px 3px 1px rgba(0, 0, 0, 0.15);\n",
              "      filter: drop-shadow(0px 1px 2px rgba(0, 0, 0, 0.3));\n",
              "      fill: #FFFFFF;\n",
              "    }\n",
              "  </style>\n",
              "\n",
              "    <script>\n",
              "      const buttonEl =\n",
              "        document.querySelector('#df-8e44606f-570b-4a1e-9e73-b2e2fdae0910 button.colab-df-convert');\n",
              "      buttonEl.style.display =\n",
              "        google.colab.kernel.accessAllowed ? 'block' : 'none';\n",
              "\n",
              "      async function convertToInteractive(key) {\n",
              "        const element = document.querySelector('#df-8e44606f-570b-4a1e-9e73-b2e2fdae0910');\n",
              "        const dataTable =\n",
              "          await google.colab.kernel.invokeFunction('convertToInteractive',\n",
              "                                                    [key], {});\n",
              "        if (!dataTable) return;\n",
              "\n",
              "        const docLinkHtml = 'Like what you see? Visit the ' +\n",
              "          '<a target=\"_blank\" href=https://colab.research.google.com/notebooks/data_table.ipynb>data table notebook</a>'\n",
              "          + ' to learn more about interactive tables.';\n",
              "        element.innerHTML = '';\n",
              "        dataTable['output_type'] = 'display_data';\n",
              "        await google.colab.output.renderOutput(dataTable, element);\n",
              "        const docLink = document.createElement('div');\n",
              "        docLink.innerHTML = docLinkHtml;\n",
              "        element.appendChild(docLink);\n",
              "      }\n",
              "    </script>\n",
              "  </div>\n",
              "\n",
              "\n",
              "<div id=\"df-bcb61d43-e2ba-4efd-a966-463d2e08a07c\">\n",
              "  <button class=\"colab-df-quickchart\" onclick=\"quickchart('df-bcb61d43-e2ba-4efd-a966-463d2e08a07c')\"\n",
              "            title=\"Suggest charts.\"\n",
              "            style=\"display:none;\">\n",
              "\n",
              "<svg xmlns=\"http://www.w3.org/2000/svg\" height=\"24px\"viewBox=\"0 0 24 24\"\n",
              "     width=\"24px\">\n",
              "    <g>\n",
              "        <path d=\"M19 3H5c-1.1 0-2 .9-2 2v14c0 1.1.9 2 2 2h14c1.1 0 2-.9 2-2V5c0-1.1-.9-2-2-2zM9 17H7v-7h2v7zm4 0h-2V7h2v10zm4 0h-2v-4h2v4z\"/>\n",
              "    </g>\n",
              "</svg>\n",
              "  </button>\n",
              "\n",
              "<style>\n",
              "  .colab-df-quickchart {\n",
              "      --bg-color: #E8F0FE;\n",
              "      --fill-color: #1967D2;\n",
              "      --hover-bg-color: #E2EBFA;\n",
              "      --hover-fill-color: #174EA6;\n",
              "      --disabled-fill-color: #AAA;\n",
              "      --disabled-bg-color: #DDD;\n",
              "  }\n",
              "\n",
              "  [theme=dark] .colab-df-quickchart {\n",
              "      --bg-color: #3B4455;\n",
              "      --fill-color: #D2E3FC;\n",
              "      --hover-bg-color: #434B5C;\n",
              "      --hover-fill-color: #FFFFFF;\n",
              "      --disabled-bg-color: #3B4455;\n",
              "      --disabled-fill-color: #666;\n",
              "  }\n",
              "\n",
              "  .colab-df-quickchart {\n",
              "    background-color: var(--bg-color);\n",
              "    border: none;\n",
              "    border-radius: 50%;\n",
              "    cursor: pointer;\n",
              "    display: none;\n",
              "    fill: var(--fill-color);\n",
              "    height: 32px;\n",
              "    padding: 0;\n",
              "    width: 32px;\n",
              "  }\n",
              "\n",
              "  .colab-df-quickchart:hover {\n",
              "    background-color: var(--hover-bg-color);\n",
              "    box-shadow: 0 1px 2px rgba(60, 64, 67, 0.3), 0 1px 3px 1px rgba(60, 64, 67, 0.15);\n",
              "    fill: var(--button-hover-fill-color);\n",
              "  }\n",
              "\n",
              "  .colab-df-quickchart-complete:disabled,\n",
              "  .colab-df-quickchart-complete:disabled:hover {\n",
              "    background-color: var(--disabled-bg-color);\n",
              "    fill: var(--disabled-fill-color);\n",
              "    box-shadow: none;\n",
              "  }\n",
              "\n",
              "  .colab-df-spinner {\n",
              "    border: 2px solid var(--fill-color);\n",
              "    border-color: transparent;\n",
              "    border-bottom-color: var(--fill-color);\n",
              "    animation:\n",
              "      spin 1s steps(1) infinite;\n",
              "  }\n",
              "\n",
              "  @keyframes spin {\n",
              "    0% {\n",
              "      border-color: transparent;\n",
              "      border-bottom-color: var(--fill-color);\n",
              "      border-left-color: var(--fill-color);\n",
              "    }\n",
              "    20% {\n",
              "      border-color: transparent;\n",
              "      border-left-color: var(--fill-color);\n",
              "      border-top-color: var(--fill-color);\n",
              "    }\n",
              "    30% {\n",
              "      border-color: transparent;\n",
              "      border-left-color: var(--fill-color);\n",
              "      border-top-color: var(--fill-color);\n",
              "      border-right-color: var(--fill-color);\n",
              "    }\n",
              "    40% {\n",
              "      border-color: transparent;\n",
              "      border-right-color: var(--fill-color);\n",
              "      border-top-color: var(--fill-color);\n",
              "    }\n",
              "    60% {\n",
              "      border-color: transparent;\n",
              "      border-right-color: var(--fill-color);\n",
              "    }\n",
              "    80% {\n",
              "      border-color: transparent;\n",
              "      border-right-color: var(--fill-color);\n",
              "      border-bottom-color: var(--fill-color);\n",
              "    }\n",
              "    90% {\n",
              "      border-color: transparent;\n",
              "      border-bottom-color: var(--fill-color);\n",
              "    }\n",
              "  }\n",
              "</style>\n",
              "\n",
              "  <script>\n",
              "    async function quickchart(key) {\n",
              "      const quickchartButtonEl =\n",
              "        document.querySelector('#' + key + ' button');\n",
              "      quickchartButtonEl.disabled = true;  // To prevent multiple clicks.\n",
              "      quickchartButtonEl.classList.add('colab-df-spinner');\n",
              "      try {\n",
              "        const charts = await google.colab.kernel.invokeFunction(\n",
              "            'suggestCharts', [key], {});\n",
              "      } catch (error) {\n",
              "        console.error('Error during call to suggestCharts:', error);\n",
              "      }\n",
              "      quickchartButtonEl.classList.remove('colab-df-spinner');\n",
              "      quickchartButtonEl.classList.add('colab-df-quickchart-complete');\n",
              "    }\n",
              "    (() => {\n",
              "      let quickchartButtonEl =\n",
              "        document.querySelector('#df-bcb61d43-e2ba-4efd-a966-463d2e08a07c button');\n",
              "      quickchartButtonEl.style.display =\n",
              "        google.colab.kernel.accessAllowed ? 'block' : 'none';\n",
              "    })();\n",
              "  </script>\n",
              "</div>\n",
              "    </div>\n",
              "  </div>\n"
            ]
          },
          "metadata": {},
          "execution_count": 210
        }
      ]
    },
    {
      "cell_type": "code",
      "source": [
        "sns.histplot(topics['max'])"
      ],
      "metadata": {
        "id": "MpVenp_1m_vM",
        "outputId": "cbf0b9cc-4832-415f-c5a6-381169e475ad",
        "colab": {
          "base_uri": "https://localhost:8080/",
          "height": 466
        }
      },
      "execution_count": 213,
      "outputs": [
        {
          "output_type": "execute_result",
          "data": {
            "text/plain": [
              "<Axes: xlabel='max', ylabel='Count'>"
            ]
          },
          "metadata": {},
          "execution_count": 213
        },
        {
          "output_type": "display_data",
          "data": {
            "text/plain": [
              "<Figure size 640x480 with 1 Axes>"
            ],
            "image/png": "[encoded data removed]"
          },
          "metadata": {}
        }
      ]
    },
    {
      "cell_type": "code",
      "source": [
        "topics[topics['max']==4]"
      ],
      "metadata": {
        "id": "Ri8QpCC0oFXv",
        "outputId": "bfb9a1c4-bdca-438b-bff2-f74d6d69c9a7",
        "colab": {
          "base_uri": "https://localhost:8080/",
          "height": 350
        }
      },
      "execution_count": 224,
      "outputs": [
        {
          "output_type": "execute_result",
          "data": {
            "text/plain": [
              "              0         1         2         3         4         5         6  \\\n",
              "1492   0.004693  0.004693  0.004693  0.831800  0.004693  0.004727  0.004693   \n",
              "1541   0.004614  0.004614  0.004614  0.868185  0.004614  0.004614  0.004614   \n",
              "1988   0.011447  0.011447  0.011447  0.536395  0.011447  0.011447  0.011447   \n",
              "4073   0.015709  0.015709  0.015709  0.496827  0.015709  0.015709  0.015709   \n",
              "5634   0.008872  0.008872  0.008872  0.784367  0.008872  0.008872  0.008872   \n",
              "7003   0.008872  0.008872  0.008872  0.784367  0.008872  0.008872  0.008872   \n",
              "8213   0.005899  0.005899  0.005899  0.447547  0.005899  0.314855  0.005899   \n",
              "10275  0.004923  0.004923  0.004923  0.783786  0.004923  0.004923  0.004923   \n",
              "\n",
              "              7         8         9  ...        11        12        13  \\\n",
              "1492   0.004693  0.004693  0.004693  ...  0.004693  0.004693  0.018145   \n",
              "1541   0.004614  0.004614  0.004614  ...  0.004614  0.004614  0.015432   \n",
              "1988   0.011447  0.011447  0.011447  ...  0.011447  0.011447  0.011447   \n",
              "4073   0.015709  0.015709  0.015709  ...  0.015709  0.015709  0.015709   \n",
              "5634   0.008872  0.008872  0.008872  ...  0.008872  0.008872  0.008872   \n",
              "7003   0.008872  0.008872  0.008872  ...  0.008872  0.008872  0.008872   \n",
              "8213   0.005899  0.005899  0.005899  ...  0.005899  0.005899  0.005899   \n",
              "10275  0.004923  0.004923  0.004923  ...  0.004923  0.004923  0.067045   \n",
              "\n",
              "             14        15        16        17        18        19  max  \n",
              "1492   0.004693  0.004693  0.004693  0.004693  0.023407  0.004693    4  \n",
              "1541   0.004614  0.004614  0.004614  0.004614  0.004614  0.004614    4  \n",
              "1988   0.011447  0.011447  0.011447  0.011447  0.011447  0.011447    4  \n",
              "4073   0.015709  0.015709  0.015709  0.015709  0.015709  0.015709    4  \n",
              "5634   0.008872  0.008872  0.008872  0.008872  0.008872  0.008872    4  \n",
              "7003   0.008872  0.008872  0.008872  0.008872  0.008872  0.008872    4  \n",
              "8213   0.005899  0.005899  0.005899  0.005899  0.032271  0.005899    4  \n",
              "10275  0.004923  0.004923  0.004923  0.004923  0.004923  0.004923    4  \n",
              "\n",
              "[8 rows x 21 columns]"
            ],
            "text/html": [
              "\n",
              "  <div id=\"df-dd7ba21e-9f71-432b-a0e7-943d26e4076c\" class=\"colab-df-container\">\n",
              "    <div>\n",
              "<style scoped>\n",
              "    .dataframe tbody tr th:only-of-type {\n",
              "        vertical-align: middle;\n",
              "    }\n",
              "\n",
              "    .dataframe tbody tr th {\n",
              "        vertical-align: top;\n",
              "    }\n",
              "\n",
              "    .dataframe thead th {\n",
              "        text-align: right;\n",
              "    }\n",
              "</style>\n",
              "<table border=\"1\" class=\"dataframe\">\n",
              "  <thead>\n",
              "    <tr style=\"text-align: right;\">\n",
              "      <th></th>\n",
              "      <th>0</th>\n",
              "      <th>1</th>\n",
              "      <th>2</th>\n",
              "      <th>3</th>\n",
              "      <th>4</th>\n",
              "      <th>5</th>\n",
              "      <th>6</th>\n",
              "      <th>7</th>\n",
              "      <th>8</th>\n",
              "      <th>9</th>\n",
              "      <th>...</th>\n",
              "      <th>11</th>\n",
              "      <th>12</th>\n",
              "      <th>13</th>\n",
              "      <th>14</th>\n",
              "      <th>15</th>\n",
              "      <th>16</th>\n",
              "      <th>17</th>\n",
              "      <th>18</th>\n",
              "      <th>19</th>\n",
              "      <th>max</th>\n",
              "    </tr>\n",
              "  </thead>\n",
              "  <tbody>\n",
              "    <tr>\n",
              "      <th>1492</th>\n",
              "      <td>0.004693</td>\n",
              "      <td>0.004693</td>\n",
              "      <td>0.004693</td>\n",
              "      <td>0.831800</td>\n",
              "      <td>0.004693</td>\n",
              "      <td>0.004727</td>\n",
              "      <td>0.004693</td>\n",
              "      <td>0.004693</td>\n",
              "      <td>0.004693</td>\n",
              "      <td>0.004693</td>\n",
              "      <td>...</td>\n",
              "      <td>0.004693</td>\n",
              "      <td>0.004693</td>\n",
              "      <td>0.018145</td>\n",
              "      <td>0.004693</td>\n",
              "      <td>0.004693</td>\n",
              "      <td>0.004693</td>\n",
              "      <td>0.004693</td>\n",
              "      <td>0.023407</td>\n",
              "      <td>0.004693</td>\n",
              "      <td>4</td>\n",
              "    </tr>\n",
              "    <tr>\n",
              "      <th>1541</th>\n",
              "      <td>0.004614</td>\n",
              "      <td>0.004614</td>\n",
              "      <td>0.004614</td>\n",
              "      <td>0.868185</td>\n",
              "      <td>0.004614</td>\n",
              "      <td>0.004614</td>\n",
              "      <td>0.004614</td>\n",
              "      <td>0.004614</td>\n",
              "      <td>0.004614</td>\n",
              "      <td>0.004614</td>\n",
              "      <td>...</td>\n",
              "      <td>0.004614</td>\n",
              "      <td>0.004614</td>\n",
              "      <td>0.015432</td>\n",
              "      <td>0.004614</td>\n",
              "      <td>0.004614</td>\n",
              "      <td>0.004614</td>\n",
              "      <td>0.004614</td>\n",
              "      <td>0.004614</td>\n",
              "      <td>0.004614</td>\n",
              "      <td>4</td>\n",
              "    </tr>\n",
              "    <tr>\n",
              "      <th>1988</th>\n",
              "      <td>0.011447</td>\n",
              "      <td>0.011447</td>\n",
              "      <td>0.011447</td>\n",
              "      <td>0.536395</td>\n",
              "      <td>0.011447</td>\n",
              "      <td>0.011447</td>\n",
              "      <td>0.011447</td>\n",
              "      <td>0.011447</td>\n",
              "      <td>0.011447</td>\n",
              "      <td>0.011447</td>\n",
              "      <td>...</td>\n",
              "      <td>0.011447</td>\n",
              "      <td>0.011447</td>\n",
              "      <td>0.011447</td>\n",
              "      <td>0.011447</td>\n",
              "      <td>0.011447</td>\n",
              "      <td>0.011447</td>\n",
              "      <td>0.011447</td>\n",
              "      <td>0.011447</td>\n",
              "      <td>0.011447</td>\n",
              "      <td>4</td>\n",
              "    </tr>\n",
              "    <tr>\n",
              "      <th>4073</th>\n",
              "      <td>0.015709</td>\n",
              "      <td>0.015709</td>\n",
              "      <td>0.015709</td>\n",
              "      <td>0.496827</td>\n",
              "      <td>0.015709</td>\n",
              "      <td>0.015709</td>\n",
              "      <td>0.015709</td>\n",
              "      <td>0.015709</td>\n",
              "      <td>0.015709</td>\n",
              "      <td>0.015709</td>\n",
              "      <td>...</td>\n",
              "      <td>0.015709</td>\n",
              "      <td>0.015709</td>\n",
              "      <td>0.015709</td>\n",
              "      <td>0.015709</td>\n",
              "      <td>0.015709</td>\n",
              "      <td>0.015709</td>\n",
              "      <td>0.015709</td>\n",
              "      <td>0.015709</td>\n",
              "      <td>0.015709</td>\n",
              "      <td>4</td>\n",
              "    </tr>\n",
              "    <tr>\n",
              "      <th>5634</th>\n",
              "      <td>0.008872</td>\n",
              "      <td>0.008872</td>\n",
              "      <td>0.008872</td>\n",
              "      <td>0.784367</td>\n",
              "      <td>0.008872</td>\n",
              "      <td>0.008872</td>\n",
              "      <td>0.008872</td>\n",
              "      <td>0.008872</td>\n",
              "      <td>0.008872</td>\n",
              "      <td>0.008872</td>\n",
              "      <td>...</td>\n",
              "      <td>0.008872</td>\n",
              "      <td>0.008872</td>\n",
              "      <td>0.008872</td>\n",
              "      <td>0.008872</td>\n",
              "      <td>0.008872</td>\n",
              "      <td>0.008872</td>\n",
              "      <td>0.008872</td>\n",
              "      <td>0.008872</td>\n",
              "      <td>0.008872</td>\n",
              "      <td>4</td>\n",
              "    </tr>\n",
              "    <tr>\n",
              "      <th>7003</th>\n",
              "      <td>0.008872</td>\n",
              "      <td>0.008872</td>\n",
              "      <td>0.008872</td>\n",
              "      <td>0.784367</td>\n",
              "      <td>0.008872</td>\n",
              "      <td>0.008872</td>\n",
              "      <td>0.008872</td>\n",
              "      <td>0.008872</td>\n",
              "      <td>0.008872</td>\n",
              "      <td>0.008872</td>\n",
              "      <td>...</td>\n",
              "      <td>0.008872</td>\n",
              "      <td>0.008872</td>\n",
              "      <td>0.008872</td>\n",
              "      <td>0.008872</td>\n",
              "      <td>0.008872</td>\n",
              "      <td>0.008872</td>\n",
              "      <td>0.008872</td>\n",
              "      <td>0.008872</td>\n",
              "      <td>0.008872</td>\n",
              "      <td>4</td>\n",
              "    </tr>\n",
              "    <tr>\n",
              "      <th>8213</th>\n",
              "      <td>0.005899</td>\n",
              "      <td>0.005899</td>\n",
              "      <td>0.005899</td>\n",
              "      <td>0.447547</td>\n",
              "      <td>0.005899</td>\n",
              "      <td>0.314855</td>\n",
              "      <td>0.005899</td>\n",
              "      <td>0.005899</td>\n",
              "      <td>0.005899</td>\n",
              "      <td>0.005899</td>\n",
              "      <td>...</td>\n",
              "      <td>0.005899</td>\n",
              "      <td>0.005899</td>\n",
              "      <td>0.005899</td>\n",
              "      <td>0.005899</td>\n",
              "      <td>0.005899</td>\n",
              "      <td>0.005899</td>\n",
              "      <td>0.005899</td>\n",
              "      <td>0.032271</td>\n",
              "      <td>0.005899</td>\n",
              "      <td>4</td>\n",
              "    </tr>\n",
              "    <tr>\n",
              "      <th>10275</th>\n",
              "      <td>0.004923</td>\n",
              "      <td>0.004923</td>\n",
              "      <td>0.004923</td>\n",
              "      <td>0.783786</td>\n",
              "      <td>0.004923</td>\n",
              "      <td>0.004923</td>\n",
              "      <td>0.004923</td>\n",
              "      <td>0.004923</td>\n",
              "      <td>0.004923</td>\n",
              "      <td>0.004923</td>\n",
              "      <td>...</td>\n",
              "      <td>0.004923</td>\n",
              "      <td>0.004923</td>\n",
              "      <td>0.067045</td>\n",
              "      <td>0.004923</td>\n",
              "      <td>0.004923</td>\n",
              "      <td>0.004923</td>\n",
              "      <td>0.004923</td>\n",
              "      <td>0.004923</td>\n",
              "      <td>0.004923</td>\n",
              "      <td>4</td>\n",
              "    </tr>\n",
              "  </tbody>\n",
              "</table>\n",
              "<p>8 rows × 21 columns</p>\n",
              "</div>\n",
              "    <div class=\"colab-df-buttons\">\n",
              "\n",
              "  <div class=\"colab-df-container\">\n",
              "    <button class=\"colab-df-convert\" onclick=\"convertToInteractive('df-dd7ba21e-9f71-432b-a0e7-943d26e4076c')\"\n",
              "            title=\"Convert this dataframe to an interactive table.\"\n",
              "            style=\"display:none;\">\n",
              "\n",
              "  <svg xmlns=\"http://www.w3.org/2000/svg\" height=\"24px\" viewBox=\"0 -960 960 960\">\n",
              "    <path d=\"M120-120v-720h720v720H120Zm60-500h600v-160H180v160Zm220 220h160v-160H400v160Zm0 220h160v-160H400v160ZM180-400h160v-160H180v160Zm440 0h160v-160H620v160ZM180-180h160v-160H180v160Zm440 0h160v-160H620v160Z\"/>\n",
              "  </svg>\n",
              "    </button>\n",
              "\n",
              "  <style>\n",
              "    .colab-df-container {\n",
              "      display:flex;\n",
              "      gap: 12px;\n",
              "    }\n",
              "\n",
              "    .colab-df-convert {\n",
              "      background-color: #E8F0FE;\n",
              "      border: none;\n",
              "      border-radius: 50%;\n",
              "      cursor: pointer;\n",
              "      display: none;\n",
              "      fill: #1967D2;\n",
              "      height: 32px;\n",
              "      padding: 0 0 0 0;\n",
              "      width: 32px;\n",
              "    }\n",
              "\n",
              "    .colab-df-convert:hover {\n",
              "      background-color: #E2EBFA;\n",
              "      box-shadow: 0px 1px 2px rgba(60, 64, 67, 0.3), 0px 1px 3px 1px rgba(60, 64, 67, 0.15);\n",
              "      fill: #174EA6;\n",
              "    }\n",
              "\n",
              "    .colab-df-buttons div {\n",
              "      margin-bottom: 4px;\n",
              "    }\n",
              "\n",
              "    [theme=dark] .colab-df-convert {\n",
              "      background-color: #3B4455;\n",
              "      fill: #D2E3FC;\n",
              "    }\n",
              "\n",
              "    [theme=dark] .colab-df-convert:hover {\n",
              "      background-color: #434B5C;\n",
              "      box-shadow: 0px 1px 3px 1px rgba(0, 0, 0, 0.15);\n",
              "      filter: drop-shadow(0px 1px 2px rgba(0, 0, 0, 0.3));\n",
              "      fill: #FFFFFF;\n",
              "    }\n",
              "  </style>\n",
              "\n",
              "    <script>\n",
              "      const buttonEl =\n",
              "        document.querySelector('#df-dd7ba21e-9f71-432b-a0e7-943d26e4076c button.colab-df-convert');\n",
              "      buttonEl.style.display =\n",
              "        google.colab.kernel.accessAllowed ? 'block' : 'none';\n",
              "\n",
              "      async function convertToInteractive(key) {\n",
              "        const element = document.querySelector('#df-dd7ba21e-9f71-432b-a0e7-943d26e4076c');\n",
              "        const dataTable =\n",
              "          await google.colab.kernel.invokeFunction('convertToInteractive',\n",
              "                                                    [key], {});\n",
              "        if (!dataTable) return;\n",
              "\n",
              "        const docLinkHtml = 'Like what you see? Visit the ' +\n",
              "          '<a target=\"_blank\" href=https://colab.research.google.com/notebooks/data_table.ipynb>data table notebook</a>'\n",
              "          + ' to learn more about interactive tables.';\n",
              "        element.innerHTML = '';\n",
              "        dataTable['output_type'] = 'display_data';\n",
              "        await google.colab.output.renderOutput(dataTable, element);\n",
              "        const docLink = document.createElement('div');\n",
              "        docLink.innerHTML = docLinkHtml;\n",
              "        element.appendChild(docLink);\n",
              "      }\n",
              "    </script>\n",
              "  </div>\n",
              "\n",
              "\n",
              "<div id=\"df-1e13ed72-6c91-46b7-802c-bc1e1e2cf198\">\n",
              "  <button class=\"colab-df-quickchart\" onclick=\"quickchart('df-1e13ed72-6c91-46b7-802c-bc1e1e2cf198')\"\n",
              "            title=\"Suggest charts.\"\n",
              "            style=\"display:none;\">\n",
              "\n",
              "<svg xmlns=\"http://www.w3.org/2000/svg\" height=\"24px\"viewBox=\"0 0 24 24\"\n",
              "     width=\"24px\">\n",
              "    <g>\n",
              "        <path d=\"M19 3H5c-1.1 0-2 .9-2 2v14c0 1.1.9 2 2 2h14c1.1 0 2-.9 2-2V5c0-1.1-.9-2-2-2zM9 17H7v-7h2v7zm4 0h-2V7h2v10zm4 0h-2v-4h2v4z\"/>\n",
              "    </g>\n",
              "</svg>\n",
              "  </button>\n",
              "\n",
              "<style>\n",
              "  .colab-df-quickchart {\n",
              "      --bg-color: #E8F0FE;\n",
              "      --fill-color: #1967D2;\n",
              "      --hover-bg-color: #E2EBFA;\n",
              "      --hover-fill-color: #174EA6;\n",
              "      --disabled-fill-color: #AAA;\n",
              "      --disabled-bg-color: #DDD;\n",
              "  }\n",
              "\n",
              "  [theme=dark] .colab-df-quickchart {\n",
              "      --bg-color: #3B4455;\n",
              "      --fill-color: #D2E3FC;\n",
              "      --hover-bg-color: #434B5C;\n",
              "      --hover-fill-color: #FFFFFF;\n",
              "      --disabled-bg-color: #3B4455;\n",
              "      --disabled-fill-color: #666;\n",
              "  }\n",
              "\n",
              "  .colab-df-quickchart {\n",
              "    background-color: var(--bg-color);\n",
              "    border: none;\n",
              "    border-radius: 50%;\n",
              "    cursor: pointer;\n",
              "    display: none;\n",
              "    fill: var(--fill-color);\n",
              "    height: 32px;\n",
              "    padding: 0;\n",
              "    width: 32px;\n",
              "  }\n",
              "\n",
              "  .colab-df-quickchart:hover {\n",
              "    background-color: var(--hover-bg-color);\n",
              "    box-shadow: 0 1px 2px rgba(60, 64, 67, 0.3), 0 1px 3px 1px rgba(60, 64, 67, 0.15);\n",
              "    fill: var(--button-hover-fill-color);\n",
              "  }\n",
              "\n",
              "  .colab-df-quickchart-complete:disabled,\n",
              "  .colab-df-quickchart-complete:disabled:hover {\n",
              "    background-color: var(--disabled-bg-color);\n",
              "    fill: var(--disabled-fill-color);\n",
              "    box-shadow: none;\n",
              "  }\n",
              "\n",
              "  .colab-df-spinner {\n",
              "    border: 2px solid var(--fill-color);\n",
              "    border-color: transparent;\n",
              "    border-bottom-color: var(--fill-color);\n",
              "    animation:\n",
              "      spin 1s steps(1) infinite;\n",
              "  }\n",
              "\n",
              "  @keyframes spin {\n",
              "    0% {\n",
              "      border-color: transparent;\n",
              "      border-bottom-color: var(--fill-color);\n",
              "      border-left-color: var(--fill-color);\n",
              "    }\n",
              "    20% {\n",
              "      border-color: transparent;\n",
              "      border-left-color: var(--fill-color);\n",
              "      border-top-color: var(--fill-color);\n",
              "    }\n",
              "    30% {\n",
              "      border-color: transparent;\n",
              "      border-left-color: var(--fill-color);\n",
              "      border-top-color: var(--fill-color);\n",
              "      border-right-color: var(--fill-color);\n",
              "    }\n",
              "    40% {\n",
              "      border-color: transparent;\n",
              "      border-right-color: var(--fill-color);\n",
              "      border-top-color: var(--fill-color);\n",
              "    }\n",
              "    60% {\n",
              "      border-color: transparent;\n",
              "      border-right-color: var(--fill-color);\n",
              "    }\n",
              "    80% {\n",
              "      border-color: transparent;\n",
              "      border-right-color: var(--fill-color);\n",
              "      border-bottom-color: var(--fill-color);\n",
              "    }\n",
              "    90% {\n",
              "      border-color: transparent;\n",
              "      border-bottom-color: var(--fill-color);\n",
              "    }\n",
              "  }\n",
              "</style>\n",
              "\n",
              "  <script>\n",
              "    async function quickchart(key) {\n",
              "      const quickchartButtonEl =\n",
              "        document.querySelector('#' + key + ' button');\n",
              "      quickchartButtonEl.disabled = true;  // To prevent multiple clicks.\n",
              "      quickchartButtonEl.classList.add('colab-df-spinner');\n",
              "      try {\n",
              "        const charts = await google.colab.kernel.invokeFunction(\n",
              "            'suggestCharts', [key], {});\n",
              "      } catch (error) {\n",
              "        console.error('Error during call to suggestCharts:', error);\n",
              "      }\n",
              "      quickchartButtonEl.classList.remove('colab-df-spinner');\n",
              "      quickchartButtonEl.classList.add('colab-df-quickchart-complete');\n",
              "    }\n",
              "    (() => {\n",
              "      let quickchartButtonEl =\n",
              "        document.querySelector('#df-1e13ed72-6c91-46b7-802c-bc1e1e2cf198 button');\n",
              "      quickchartButtonEl.style.display =\n",
              "        google.colab.kernel.accessAllowed ? 'block' : 'none';\n",
              "    })();\n",
              "  </script>\n",
              "</div>\n",
              "    </div>\n",
              "  </div>\n"
            ]
          },
          "metadata": {},
          "execution_count": 224
        }
      ]
    },
    {
      "cell_type": "code",
      "source": [
        "TNG_train.data[1492]"
      ],
      "metadata": {
        "id": "3SVgPcG1oTg3",
        "outputId": "f94aac17-22d6-4a97-d7a3-3749be711f23",
        "colab": {
          "base_uri": "https://localhost:8080/",
          "height": 140
        }
      },
      "execution_count": 228,
      "outputs": [
        {
          "output_type": "execute_result",
          "data": {
            "text/plain": [
              "'\\n------------ Part 3 of 14 ------------\\nM\"`@(\"`@(\"`@(\"`@(\"`@(G.3DY.3DY.3DY.3DY.3DY.3DY.3DY.2#IJ:FIJ:F\\nM@^3DY.3DG.OKZZNKJZOKZYSDY.2#IJ9$B-RYB(C<$!\"(H#YM.LISRG-SV#HZ\\nMRG/8<]C*<VW8.MC8V#K*RLIS.M@Z<]C*<]C8V,HZ.FW*.MAM<W-S<W,Z<\\\\IM\\nM;<J6<]@\\\\RD%M<\\\\IM\"`@(\"`@(\"`@(\"`@```\"\"$Q.\"`\"MAFYN;/JZ(N;G<B*Z@\\nM/IN;\"I\\\\7]1>?@0H*FYN;FSX^/J\"@KJZNB(C<N;FYN;:VN;FYN;FYN;FY/#Q%\\nMW3S==]W1W3S=17?=/$5%=]UW147117?=W7?==W=W=]W=T7=WW=W==X6%W=UW\\nM0(5`0-W==W?==X710-W=A4!WW=V%A=W==]U`2=U)=]UW=W=W=]U`W2/=A85W\\nM0-W=A=V%W=%`T=UW0\\'?=T87=T7=W=T\"%=W=WT=\\'==W=WA=W1T7?=A=\\'=W=%W\\nM1=W=W7<\\\\T=W=W44\\\\/-$\\\\1=W=W=U%=T5%T=W1W=W=T3P\\\\/-W=/#S=T3Q%/-$\\\\\\nM/-%%T=$\\\\W3S1/-\\'=/-U%W3Q%1=W=W=W=/-W=/$71/-T\\\\W=T\\\\W45WW45%W=W1\\nMT3Q%W7?=1=U%/$7=W=%WT=T\\\\147=145%144\\\\1=\\'1145W/-%%/$5%W471T3QW\\nM=]\\'=T3P\\\\W3S=/-W=W7<\\\\/\\'=%/#P\\\\/#S=W=W=/#P\\\\T=W113S=/-\\'=/$5%/$4\\\\\\nM13P\\\\T3S=17-%<Y9%T=$\\\\199SEI;1/$5S17-%<W-M<]B6EMB6ECS*<W/*V\\',\\\\\\nMV-AMV,ISV,K*V&US/,IID89I.I&1:<<OQ\\\\>1D88OD6F1RI\\'*D<HZRCJ1.LK*\\nMD<K*V)\\'*V#K8.LK*V,HZV-C*;3J1.CK8+R_8V$$ORCK8.LK*RLHZRD$ZRH;*\\nM.I&1+\\\\II:9$Z.FF1AL?\\'QVDZD<<Z.L=ID2^1QY&1D34UQ[^&QS4UQ\\\\<L\\'L<L\\nM++^_\\'L<L?;]]\\'BQ]+\"Q]771]75U]+!XL?;JZ?;)=NG1TLL)=NEVZPL(FNK*Z\\nM7;I=NKJZ&ET:NET:NKH:PKIRNAIR)KJZNL*Z&B:Z&B:ZNB8F)AJR)EVZNKH:\\nMNB9=LL*Z7;JZNB:ZNG1TNK*ZNKJR71Y]?5TL77T>?2Q]++HL+#4L+\"PL-35]\\nM+#5]-2PU-34LQ\\\\<U+,?\\':<>_-<<UOVEI-<=I+Y%ID<>&AFG\\'QSJ&:9$ZD9$O\\nM+Y&1AI&1.I$Z.LK*.I$Z.CHZV#K*.M@Z06UMRMC80<K*V\\'-!RG-S;3IM07-M\\nMRG/8V,HZ<W-M<\\\\J6EG-!06T(\"`@(\"`@(\"`@(\"`@(G)R<G)R<G)SDY.3DY.3D\\nMY.3DY.3DY.2#IJ:FIJ:F@^3DY.3DG.OKJZNKJZOKZYSDY.2#IJ9$B+FYB(B(\\nMN1`0KJ\"NRLIS<T%SV,K8V,J6V#K8V,K*V-AM<]AM<\\\\ISV\\'-S<W/8EFU!0<IM\\nMRMC8.G-SELK8.MC*<\\\\K8<]C8;7/*<\\\\IS;98(\"`@(\"`@(\"`@(\"(*\"`(03O(0`\\nM`\"L1FYL^/JZ(N;G<B*Z@/IL*@9_U]9^!\"@J;FYM\\\\/GP^/CZ@H*ZNKHB(W-RY\\nMN;:YN;G<W-S<W-S<T471145WW45%=SQ%=W?1W=\\'=W=UWW45%=W?=1=W=T=%%\\nMW85W=]W1T=V%W7?==X5`A7=WW=V%A=V%=]V%T4#=0\\'?==W=WW7=WW7=WA=W=\\nM=TEWT85WW7>%0$!`W=V%W7?=W=W=T=U`A=UW=]\\'=0-\\'==]\\'11=V%T7?1T7?1\\nMT7>%=]&%T471T47=17?=W=UW=T5W=W?1=W=%=SS=T=%WW=%%W7?==SQ%=SQ%\\nM17=%W7<\\\\/-W=/-W=/-T\\\\W3S=W3S=T=T\\\\W7<\\\\T471=SS=/$5%/\\'=%17=%T=U%\\nM/-UWW=T\\\\/#Q%T7<\\\\W47=W=UWW=W=1=W=W=W=17?11=U%1=W=1=W=W=W1T=%%\\nMW=%%W45WT471T7?==]\\'=A46%1=UW1=\\'1T=UWW471=T5WW=W=1=U%=]W=T=%%\\nMW7?=/-W=W=$\\\\/#P\\\\1=$\\\\/#P\\\\W44\\\\/-%%W3Q%T=&61=%%/)9S13P\\\\ED5SED4\\\\\\nM<W-S<T78;3S8;44\\\\<Y9M<\\\\H\\\\<]C8V\\'-SV#S8RG-ID6G\\'D9&_+\\\\?\\'+\\\\=IQSK\\'\\nM.CHZQX8ZD3J&ACK*RH;*.B]!.CHZ.LJ1.MC*RCHZD2_8D<K8RLHORI$Z.CI!\\nMRCHZV-@Z+SK*0<K*.LK*.B\\\\ZRI$Z.I\\'*D6F1RFDO:89!+R\\\\O.I%I:2^&Q\\\\=I\\nMD<>1D9&1QY%IQ\\\\?\\'+,<LQ\\\\?\\'+,<LQS4UORPL+#5]OWUT+\\'0U\\'C4L+,+\"75U=\\nM7<)]+\\'TLPAY=PGT>?72Z?5U=PKK\"PEVRNK*RNKH:PKJZNB:RLAJRNKJZNK)=\\nM&B8:7;JZ71HF)AJZ7;)=LEU=7;I=NEU=LB:Z75U])EW\"75U]7;I=NK*ZNKI]\\nMNGTL+\\'UT77U]\\'BPL\\'BQ]770L?7TL?1XU+\"P>Q\\\\<LO\\\\>_-2PL:2S\\'-8;\\'QS7\\'\\nMD<=ID6G\\'+\\\\<O:3K\\'QY$Z:9$O.B^&:2\\\\Z.CIID9$Z.I&1+Y&1.LK*RLHO.LHO\\nMRCHZV#IM.CK*;<K8.G-SRMC*RMAM<SK8.G/8;=AS<\\\\K*V`@(\"`@(\"`@(\"`@(\\nMG)R<G)R<G)R<Y.3DY.3DY.3DY.3DY.2#IJ:FIJ:F@^3DY.3DG)SKJZNKJZOK\\nMZYSDY*&#IJ9$B+G<KJZ(B(@0B*ZNKLIS<\\\\K*V,K8RG,Z;<K*RG-SV,K8V,IS\\nMV#K8EFW*V,ISRCI!<]C*<\\\\ISRCISV\\'-SV\\'/*.D%MV&W8V&W*ELK8R@@(\"`@(\\nM\"`@(\"`@K`+R\\\\@A.\\\\@H(`*Q$1FYL^H*[<N;F(KJ`^/IL*@1?U%Y\\\\*\"IN;FWP^\\nM?#X^/CX^H*\"@KJZNB-S<N;:YN=R(B(B(B(B(W=T\\\\/$7=/$7=13S1=]U%T7?=\\nMW=W=17=%W7=%T=\\'=W7=%=]W1=W?=W7?=W45WT45WW7?1=W?=W=U`W7=W=]UW\\nMA=W=W=\\'=T=\\'==X7=W=W=T=W==X7=A4\"%0\\'?=W7>%=W?==]V%W4#1=X5WT85`\\nMW871=]%WW=V%W=W1T7=%T=W==]U%=]W=W7?1=W=WW=%%1=\\'=17?1T45%144\\\\\\nM=W?1=T4\\\\1=U%W3S=/#S=1=\\'=T=%%W=\\'1T=\\'=W7<\\\\W7?==]\\'=T=\\'=T47=T=UW\\nM13QWW7=%W7?1W=UWW7?1145W145%=]W117?1=W?==]W1A=W=1=U%A87=T7=W\\nM=X6%W7?=T=U`W7=W=]W1W86%=]UWW7?=W7=W=T!WT=&%=]UW17=W=W?=A=UW\\nMW7=WA=\\'==W=%W7=W147=1=%%W7?=W7<\\\\=SQ%/-W11=W113S1T=T\\\\T3P\\\\/);=\\nM/#S1<W,\\\\/#QS/$4\\\\T6UMV$66<SQS1=AS/#S8V\\'/8/#P\\\\<]@\\\\;<ISEG/*/,J_\\nMQVG\\'OS7\\'AH:1QY%I+\\\\>1QX9I.FF1:9$Z.FE!:3HZD3J1RI\\'*D3HZ.LJ1D=C*\\nM03HZRLI!RB_*.CHZ+R\\\\Z.CHOV)\\'*V-@Z.CJ1RCHZV-A!.B^1RCHZRLJ1.LK*\\nM+VE!.FDO.D$Z.CHZD<<Z:9&1Q\\\\=ID6G\\'Q\\\\>1:<?\\':35IQ\\\\?\\'-<=IQ\\\\<L-2PU\\nMQRS\\'\\'L<L+\"PU=\"Q]?;]T?34>-7T>?5UT?2Q=+\"PL\\'GVZ=+I]?7VZ?<)TNKHF\\nMLK)=)KJZ)K*ZNETF)KHFNL(F)G0F7;HFLETF7;I=PKJZ729=NKITNKHF)KJZ\\nMNKITPK)=PG2ZNKH>LG1]71ZZ=\"RZ?;H>72Q]+!XL75TL+\"PL+\\'TL+\"PL?36_\\nM+\"PUO[\\\\L-2PU+\"S\\':2PLQ\\\\?\\'QVG\\'OVF1D6G\\'QVEID<?\\'AI$Z:9%I+VDZ+SII\\nMD2^1D3HO+Y&1RLK*V#HZRCK*.M@ZV-@O.FW8<W,Z.LHZ.M@Z.D\\'8<W/*RFUS\\nMV,HZ07,(\"`@(\"`@(\"`@(ZYR<G)R<G)SDY.3DY.3DY.3DY.3DY.2#@Z:FIJ:F\\nM@^3DY.3DY)SKJZNKJZOKZYSDY.2FIF5$B+G<KJ\"NKJZ($(BNKJZ(;99S<VT\\\\\\nM<W-SV-A!ELK*V&W*V\\'-MV-ASV,ISRI;8<T\\'8RLISRLISV$$ZV&W8RLK*V#HZ\\nM<SK8<VUMV,J6\"`@(\"`@(\"`@(\"```@A,3O!,````1$1$1FSX^KHBYN=R(KJ`^\\nMFYL*GQ?U%Y\\\\*\"IN;?\\'P^/CX^/CX^/CZ@H*ZNB(C<N;:YW(BNKJZNKJZN1=U%\\nM1=W=/-\\'=1=\\'=W=\\'=W=U%W45WW=%WT7?==]UW=]U%=W=W=]UWW=UWT=W1T=W1\\nMT=W==W=WW7=W0-W==]UW=]UWA=W=T=W=W7?=A=\\'=W7?10(7=0-\\'==W?=A87=\\nMA=\\'=W7?=A7=WW=W1W47==]\\'1A7?==X6%W=UWT=UWW7?=17=W=]W=T=U%T=U%\\nMT45WT=\\'=/$5%W=UWW7?1/-W1=T5WW=UWW=\\'=W=\\'=W4711=W=T=%W=]W==]%%\\nMT47==]\\'=147=W=%%W7=WT871W471T=&%W=V%W7=WT=UW=]V%W7=`T=V%A=UW\\nM=]V%=W=WW=W=A=UWA4F%0-U`=]V%W7=WA=UW=T!W0(5`=]W==]W==TEWW7=W\\nMW87=W4!`0\\'?==T#=W7=W=]W=T7?1A86%=W>%W=\\'==W?=W=U%=W=WW471T47=\\nMT7?=/#S11=$\\\\T=T\\\\W3P\\\\ED4\\\\W=U%<SQS145%/-\\'1;7-%ECQM/&US<W,\\\\/-B6\\nMRCS8;99S<W.6;7/*EMC\\'Q[_\\'-34L-6EIQ\\\\<U:;\\\\UAI$OD6EI+R^&Q\\\\<ZQVF&\\nMQY$Z:6DZAFG*.H8O.I$ZRLHZ.I$ZD2\\\\ZRB^1.CHOV,HOD2_*D3K*+SHZV#HO\\nM.LK*+R_*+\\\\K*.I$ZV$\\'*+R^1D<K*D2\\\\ZACJ1:6F1AI&1.CIIQY&1+Y%I.FDO\\nM+VF1:9&1OX:&QS61QVG\\'-;^_O\\\\<U+,<LQ\\\\<L-<?\\'+,>_?7U]\\'BQ]-71]-34L\\nM?2QT72PL=!Y=NEVZ=\\'UTNBQ]NKHLLG3\"NG2Z\\'KK\")GU]NKJZ)K)]PEU]NEVR\\nMNEU]LEVZNGVZNB:Z?;JZ75VZNEUT?;I=\\'G2RNEU]NBP>\\'L)=71ZZNGVZ=\\'TL\\nM+![\"?1XL\\'BQ]-7T>+\\'V_+\"Q]OWTL+,>_+#4L-2PUQRR_O\\\\=I+,?\\'QX8UD#`P\\nMQ[]I+Y&1QVF1QX:1+\\\\<ZQVEI.FDZ.LHZ.CK*RI$Z+SK*RLJ1D3HZ+R_*+Y\\'*\\nM.CK*;6W8V,I!.FW*RD%SRG/*V`@(\"`@(\"`@(\"`@(Z^OKG)R<G)SDY.3DY.3D\\nMY.3DY.3DY.3D@Z:FIJ:F@^3DY.3DY)SKJZNKJ^OKG.3DY(.FID3HW+G<KJ\"@\\nMH*\"NN8B(KHBU<\\\\K*RFUSECS8V,IS/,K*<W.6V$%S<\\\\J6RG/*/,ISV,ISRG.6\\nMV\\'/*V#ISV,IS.FW*<VW8.MC8EMAS<P@(\"`@(\"`@(\"`@(80``O!,3$X(`*Q$1\\nM$1$11#Z@KMRYN8BNKCX^FU:!@1?U%Y^!5IN;?#X^H#X^/CX^/CZ@H*\"NB(C<\\nMN;:YW*ZNKJZNKJZN/#Q%/#S=W=W=/-W=145%13S=W7?1W3Q%=]W==W=%T45W\\nMW=%W1471T45W=]\\'1=T6%=T7=T=U%T=\\'=T=&%T7=WW=%W0\\'?=W=&%A7?1/S\\\\_\\nMFJ[=(]UW17>%A46%=W>%W7?=A7?=W=W=W7?=W7?==X5WW87=W=%WW=\\'=W7?1\\nMT=U%W47==]\\'=W45%W45WW45%W=W1W=%WW7<\\\\W=W117=%/-W=T=\\'=147=T45W\\nM=T5WW7=W17?==]%WT=&%T471=X5W=X71T=\\'1W7?=T4\"%T=UW=X5`T=W=0-UW\\nMW7=WW4!WW7=W=X7=W7=WW=UWA4!WA=V%=TE)=]V%A4F%=X5WW87=A4!)0\\'=)\\nM0$E`=T!)285W=X6%27>%A7=W=X7=W7=)A86%A7=W=]U)W=W=287=W87==]W=\\nMW85WW871T=\\'1=]UW=W?117=W/-%W/-W11=\\'1T=\\'=T47=/#P\\\\<]U%/\\'-S17,\\\\\\nM<SQM17,\\\\;7-%16USV):6/\\',\\\\/&T\\\\/)8\\\\/\\'-S<W-]OWTL+\"PL\\'C7\\'+#4L+,=I\\nM-88UD;]IQ[_\\'Q\\\\=IO\\\\=ID6EI:<<OQVEID6EI:2^1:3HZD<K*.I&&.B\\\\ZD3HZ\\nM+SK*RCK*.B\\\\Z.M@Z+SK*D9%!+Y&1V#HZ.LHZ.B_*.I\\'*.CHOD3HORB_*+R\\\\Z\\nM.CHZ+X9I.B]I.L=I.FF1D3HO.L>1.L=IQR^&O\\\\?\\':9&_Q\\\\?\\'AFG\\'Q[_\\':<?\\'\\nMQ\\\\?\\'Q\\\\?\\'Q\\\\?\\'QRS\\'?34LQ\\\\>_-34U+\\'TU=\\'U]+%TL+\"Q]PEVZ?2Q==\\'U]+\"PL\\nM?;I]NL*Z77UT77VRNGVZNA[\"NKI=7;IT\\'KH>=\\'0>?;I]7<*Z?;JZNGVZ\\'EVZ\\nM?1XLNGUTPKI=?7W\"NGU]+\"S\"=%TL?1X>-7T>=#5T+\"Q]+!XL-7U]Q\\\\<L\\'C4U\\nM-1XL+#4LO]34`FYND#!\\\\5I1@]5$UD<>_Q\\\\?\\':<<OQ\\\\<OD89I:2\\\\Z:3I!.H:1\\nM+\\\\HZ+R\\\\Z0<HZRLK8.LJ1RCHORMB1V#K8;=C8.LH(\"`@(\"`@(\"`@(\"`@(\"`@(\\nMZ^OKG)R<G)SDY.3DY.3DY.2<G)R<Y.3D@Z:FIJ:#@^3DH>2AH:$-#:OKG*&A\\nMX8.#94A*2DK3YKF(KCX^/CZ@$!\"(B(@0/&W*EMAM<VUMRLH\\\\RFW*V#QM;<K8\\nMV-AS;<IS<VUS0<K8EFW*;<K*<W/8<\\\\ISV,K*RFW8;6USRCIS\"`@(\"`@(\"`@(\\nM\"`@(80\"\"$[P3$P!A$1&0D)!$2DI*TRXNT]-*2DA(<*&AH0T-#2>A@YN;?#Z@\\nMH*\"@/CX^/CZ@H*ZNKHC<N;:YB*ZNH*\"NKJZN/)8\\\\W=\\'=/-W11=\\'1T=W=W=\\'1\\nM/-%W1=\\'==]U%=SS1=]W1=W=%1=%%=W=WW=W=T=%WW=\\'=1=W==W=%=W?1T=V%\\nMA=W==T5WW2C-!`0_/S]YI(B(W+FYN=U%=W?=T7?1=W=W1=\\'=W45WA7?1=W?1\\nMW=UWW7=%T7?=T=%WW7?1T7=%1=T\\\\W3QWW=U%T=%%W47==W=W=]W==]%%T45W\\nMT45WT=UWW=W1T7?==W?1T7?=T=\\'=W=V%W7?==]&%W=%`W=W=W=UWA4#1=]V%\\nMW=UWA7=WA=U`W7?==T!`=]U)0$F%W=U)A4E)285`0-UW=T!`A4E`24GC27=`\\nMA2-)24!W27?CA4EWA7=)0$E`(^.%=T!)=W=)=TF%=X5W27=W=]U)A4EW22-)\\nM=TEWW=U)W85WA4F%=T!W0$#=0(5W=]W1=]\\'=17=WW=U%1=W=1=T\\\\=]%WW45%\\nMW3P\\\\W=\\'=W98\\\\EI;1/-$\\\\T7-S<SP\\\\/-%M<SP\\\\17-%V#QMEG.613P\\\\V-ASV)9]\\nM\\'G1=-5TL+#4U?7U]ORS\\'Q\\\\<L+#4LQRR_OX9IAL?\\'Q[_\\'QY&_Q[^1D<<O+\\\\<Z\\nM.I%IQY$Z:2]!:3J&.I$O:3HZ:<HZD2]!.CK*+SJ1D<HO03K*RI\\'8.CI!.CHZ\\nM.I$O+SK*RH8ORH;*RH:&.FDOD4$O:9&10<II:3J1.B]I.CHZ:3HOD3II.I$O\\nM:6F&AI\\'\\':9&&QY\\'\\'O\\\\=I:;_\\'Q\\\\=IO\\\\>_+\"PU+\"R_-37\\'-<?\\'+!XLQRS\\'-2PL\\nM\\'BQ]?36_+#4>+\\'T>-35=+\"Q]\\'GW\"PAXL=%U]75UTPGT>?;I=?<*Z++IT?1YT\\nM\\'GU]75U=NL)=NEW\"PGVZNEUTNAY]?7VZ\\'EU=77T>=\"PL+\"PL?2PL75U=?34>\\nM+\\'TL\\'BPU++]T=\"PL\\'C4>QRS4U-34U-34`FYN$3!\\\\5E9@]5%@S#=65C7\\':<>1\\nMD9%IQ\\\\<OQ\\\\<ZD<=IACHOD6DOQSHZ.CHZ.H8Z:<K*RI&1.CJ103K*D0@(\"`@(\\nM\"`@(\"`@(\"`@(\"`@(\"`@(Z^OKZ^OKG)SDY.3D$8.#@Z&AY)R<Y.3DH:&A@X.#\\nM@X.#H>2AH:$-#0VKZYRAH8.#941(2$K3YN;3H#X^FSX^B!`0B+40;<IS;6UM\\nM<Y9SEG/*RG/*RLJ609;*ELHZ;6US<\\\\K8.FTZRMB6V,ISRFUSRG/*<]C*<W/*\\nM;=C8\"`@(\"`@(\"`@(\"`@(\"`@(80\"\"$X*\\\\A!&0D)!N2DI*2M/3TR[3TTI$1\\'!P\\nMX:&AH2<-#0VAH>%P&$A(2$B^ODA(OKZ^2DK3T^;F+N\"YB*ZNH*\"NKJZN/$4\\\\\\nMW9:6/#Q%/$5%/$7=T=U%T=T\\\\/#P\\\\/$7=W=U%T45%T7<\\\\T7=%=]W==]W1W=W=\\nMT=W==W?==]W=185WT=W==T4<\\'#DH*\"C-!`0_/WEYB-S<N;FVMK:YW*ZDW7?=\\nMT7?117=%=T7==T5%=T5WT=UWT=\\'1T47117=W1=U%1=W==T7=W7=WT7?=T45%\\nMW=W==W=W13QWW7?=1=W==]W=T7?=T7?=T7?1W7=W1=V%W7?=W=UWA4#=T4#1\\nM=W?==T!W=]UW=W?=W87==W=W24\"%=TF%=T!)27=)0$E`A4EWA4!W=TGC0$E`\\nM24GCXT!`A4E`24!W0\\'=W=X5`X^-)0$EW=^-)A>-)X^-`2>-)A85`XT!)XW=)\\nMA7=WA85)=TEW0.-W24E)0$E)0$F%A85WW=UW285)=X6%0-U`W=UWW4#1A=&%\\nM=]UWW=\\'1W=UWW=%WT=UWW=\\'1/#QWT3Q%/#Q%<SS=/-T\\\\/$71EG-S13P\\\\16V6\\nMECQ%145S/$5%13Q%/\\'-]\\'KH>+\\'UT?7U=+%U=?1Y]+#4L\\'K_\\'?;\\\\UQ\\\\>_-<<U\\nMQS5I++\\\\UO\\\\<UQS7\\'D<=ID6G\\':2_\\'QY&1AI&1QR\\\\ZQVF&QR_\\'+R\\\\Z.H8Z.FF&\\nM.B\\\\OD<J&+SHZRCK*RH8O+Y\\'*+SK*RI$ZRLJ&RH;*RI&1RLHZ09&&0<K*+VF1\\nM:3HZ.FDO:3HZD3J1.I&&D3HZ.B_\\'+R\\\\O.B^1D6EID9&1QVG\\'OY%ID<=ID;^_\\nM-<<U-2R&QVG\\'OVDUQVDUQ[\\\\L-1X>\\'AZ_+#7\\'-7TU?7V_=#4>?35]\\'BPL=\\'TL\\nM-70>-5U=-2Q=PBPL75U]\\'BPL+!Y=?;I]75UT+!Y]+\"Q]7;I=?;I]\\'KJZ+\\'UT\\nM\\'BQ]++K\"+%T>?5U]?5U==#5T=#5]734U=\"PUU-34U-34:]34U-34`F[9$3!<\\nM5I1@]5\\',-U965E967%Q<D<>1Q\\\\=IO\\\\>_Q\\\\?\\':2]IQSK\\':3HO.FF1QR^1.H9I\\nMD2\\\\ORCH(\"`@(\"`@(\"`@(\"`@(\"`@(\"`@(\"`@(\"`@(\")P-#0V<Z^OKZYR<H:&#\\nM@X.AH>2<G)SDY*&AY.2AH:&AH>3DG`T-#0VKJZL-#:&A@W!(2M/3YN;32CZ;\\nMFSX^KH@0M;40V&T\\\\RLIMRLJ6V,IS<]C8<SS8<\\\\ISRLIS<\\\\IS<W/*;7-M<VTZ\\nM.FTZ<W/8V&UM.FW*RFT(\"`@(\"`@(\"`@(\"`@(\"`@(\"`@(80\"\"$X*\"`&%N;FX[\\nMT]/3YN8N+N;3T]-*2DA(<(.AH:$GW@VK#:\\'A<$A$2+X[.SL[.SL[YBXNX.`N\\nM+N;3TTI*2DI*2DI%13P\\\\T=&61=W1<T66/-\\'=/-U%1=T\\\\W=$\\\\1=W=W3Q%/$5%\\nM17=W/-\\'=W45%T=UW=]UW1=U%=W?==]\\'11=U%*\"@H.1P<.2@H*,T$!#\\\\_8GEY\\nMW-PBN;:VMK:YB*ZS?)M6-Q?=W7?1W7=W1471W=UW=T5%/\\'?117=%W3S=T=W1\\nMW45W17=%W45%/\\'?=T=\\'=145W=W?11=W1W45%=W=%T=%W1471T=%W=W=W=X5W\\nMA87=W7=WW7?=W=W=A85WW7?=A4EW=TF%24!)0-U)0\\'=)=W=`285W=TGC27=)\\nMA4E)0\\'=)0$GCA85`XTE)XX6%X^/C285)2>/CX^/CA4E`24F%A4GC0$DCXTE`\\nMX^-)24!)0$E)XX5)A4GC24E`XW?CA85`XTE`=TE)XTGC24GCXW=W=W>%=TE)\\nM=W>%0\\'=)W4!)W7>%W=U`A7?=W7?1=]W1T7=WW=%W1=%%1=W=W=$\\\\1=W1W44\\\\\\nMW=U%19;=T45S/)8\\\\<]$\\\\<W-%/#Q%T7-S13P\\\\;3Q]77VZNKIT7;HL=\\'U]\\'BPL\\nM+\"S\"PBQT\\'BPU-2PLQS4UOS7\\'+,<U-<>_-;_\\'Q\\\\=I-36_:9\\'\\':9&1D88OQY$O\\nMQVG\\'+VF1:6DZ+SHZ:2\\\\ZD4&&D9$ZD88ORH:1AH:1RCII.B]!RB^1RB^1D2_*\\nMAH;*+\\\\K*AD$ZAD&&:3HO.FF1.LHZRI$O0<II:9$ZD3II+T$Z:9&1.FDZ.FF1\\nM:<<ZAB^1.FF&AL<O.I&1Q\\\\>1+Y&_:<>_-<?\\':36_Q\\\\>&Q\\\\?\\'ORPLQRPU++\\\\L\\nM+,>_+!X>++_\\'?37\\'?34U\\'BQ]?34L\\'GU=?7T>72QT-7UT+!XU+\\'U=?2PL+\"QT\\nM=%U]71Y]\\'EU==\"PL\\'BRZ+%TL+\"PL72QT+\"QT=\"P>+%W\"?34L?5?4U-34U-34\\nMU-34:]34U-34;FZ0$7Q65LQ1]5$W5E967%Q<7%Q<7%Q65E:_OVG\\'D36&Q[]I\\nM:<?\\':6G\\'+Y%I+VDO+VDZ\"`@(\"`@(\"`@(\"`@(\"`@(\"`@(\"`@(\"`@(\"`@(\"`@(\\nM\"`@(#0WKZ^NKZ^OKZ^OKZ^OKZZNKJZNKJPWUO%(HH8$W-X0YZPWU]?4<JPT7\\nM#:&AH65$2DK3V]O32D1$FSX^/JX0$+40<Y;*V\\'-SV\\'-SEG-SV,K80<K8RFUS\\nM;=AMV&W8RG/8;7/8.CHZ.LK*V\\'-M.LK8;0@(\"`@(\"`@(\"`@(\"`@(\"`@(\"`@(\\nM\"`@(80\"$$P``86&0;M,[T]/3T^;3T^8N+B[3P=,^I\"5&Y.&?S!=VJR?6?+/.\\nM1#ZNK+X[.SLAYBXNX.`N+N;FT]/3T]/3/#P\\\\ECP\\\\T7,\\\\T=%%/-%%/$5%/-U%\\nM13S1W=T\\\\T=\\'=T=\\'1W=\\'=W3Q%147=W=W=T=\\'==SQ%=SQ%T=UW=R@H*\"@H*\"@Y\\nM\\'!PY.2@HS00$!#\\\\_>7D%W\"*YN;:VMKG<B*1\\\\FU:?%_7U%V\"?-]W=W=W=W7?1\\nMT3S=W47==]U%T7=%T=W==]UWW7?=1=U%W=U%=]%%1=W=17=%W7=%=W?=W471\\nMW7=WT45W1=W==W?=0\\'?==W?1W7=W=X7=0$#=0$F%W4#=A4\"%=W=WA85W0$F%\\nM0$F%0$!)=^-)24F%A4!)0$\"%X^/CXT#C2>-`X]=)X^.%2>-)XTE)2>/CX^-)\\nMX^/CXTGCX^-`X]=`2>-)24E)24E`XTE)0\\'M`2>/C0.-)XTGCXX7C24GCA4GC\\nM2>/C24F%=W=`0$GCA4E`24E)=]UW=W?=W=V%0\\'=)=W?==]&%=]\\'=T7=W=T7=\\nM=]U%=]U%=]%%W=W=1471W=T\\\\1=%%T3S=W44\\\\T7,\\\\EG-%T3P\\\\/$5%<Y8\\\\/-&Z\\nMNB:Z75TFNB:Z?;I]?<*ZNEVZNBQTNKI=77U]+\"Q]+!XL=!Y]?2Q]?2P>++_\\'\\nMQ[\\\\LO\\\\<UOVF_O\\\\>_QX9IAL=IAI%IQ[^1:2^&AL=IQSHOQ\\\\<O:3HOD6DZAI&&\\nM+SK\\'D<HZ:3II+R^1RCK*.CJ1AI\\'*+X:&D3HO.B_*RCHOD9%!D3HZ+Y$ZD3II\\nM.B\\\\ZRH8O.LJ1.CK*RH9!:<J1.I&&.CHZ.FDZD89ID6G\\'.H:&D3II+SK\\'+Y$Z\\nMQX:1D;_\\'QY\\'\\'Q\\\\=I:6EI:;\\\\UQS7\\':2S\\'QVEI+,?\\'O[\\\\L\\'K\\\\LQRPU+,>_QRPL\\nM+\\'TU+!YT-2PU-7U]-7U=+%TL-1Y=+%TL=\"QT+\"PL?7T>+\\'TL71Y=?7TL?<(L\\nM\\'GT(;G_4U-34U-34U-34U-34U&O4U-0\";FX1$596-U\\'U4<Q65EPP,#`P,\\'Q\\\\\\nM7%Q65E965E965L>&-;^1Q\\\\>_D37\\'-;_\\':6D(\"`@(\"`@(\"`@(\"`@(\"`@(\"`@(\\nM\"`@(\"`@(\"`@(\"`@(\"`@(\"`@(\"`CKZ^N<G.2AH:&AH:&AH0$!`0%VJPWU$W8H\\nMG\"?,8\\'8YZPWU]?6KZ]Y@-Y3A5C!E2$K3V]O3TTI*93X^/J`0$!`0;<IS<VW8\\nM<]AMV-C8V)9!RG/*RLK*RG/8V#ISRLK8RCIS.G,ZRLK8.LK8\"`@(\"`@(\"`@(\\nM\"`@(\"`@(\"`@(\"`@(\"`@(\"`@(*P\"\\\\O```8<,[(2$AT]/3T]/3T]3/U-2`P4H^\\nM:B5&Y.&?8/5VZ^\\'6?+/.1#NDK*\"D\\\\3L[T]/3T^8N+N#@X.#@X$5%/$4\\\\/#R6\\nM/#S1<]$\\\\T3S1W7/1W44\\\\/-\\'=EI;=/-\\'1/#P\\\\/#Q%T3S=T=W1/-W1W3S=/$71\\nM1=W-S<W-*\"@H*\"@H*#D<\\'!PY*\"C-!`0$!#]B>7D%(KFYN;:VN;G<K*1\\\\5I_U\\nM]1=@GS<W-PH*\"@H\\\\T3Q%W3P\\\\1=\\'=T7?11=U%17<\\\\W=W=13S=/#Q%=]W==T71\\nMW=T\\\\W7?1W47==]W=1=\\'=W=\\'=W85WW871=W=`A87=W85W=W>%A4!`W7=W=X5`\\nMW4!)0$!)27=W=TEWA7=)XT!)XTGC(T!)=X5)XTGC0$E)A>-`2>-)X^/C0$#C\\nM24!)0$#CXT!`X^-[X^-)24GCX^/CXWM[X^-)XTE)>WOC2>-)XT#CXT#C0$E)\\nMX^/CXTE)A4#CX^-)0(5)X^.%24#C0$\"%=X6%=X4C0$E)=TEW285W27>%A4\"%\\nM24EW0-U)0-U`A=%W=]\\'=W7?1=W=WW7=W=T7=W=%W=]UW=T7=T=W=/-V6W=T\\\\\\nMT44\\\\/#Q%1=%%1466144F&K+\"NB:ZNB8FNKHFLK)])G2ZNK*Z=\\'VZPG2Z++HL\\nM77VZ72PL771=+\\'0L+%TLOWTUO[^_OWTLO\\\\<U-<<L-34LQRS\\'QVDUQ\\\\>&O[^&\\nM:<?\\'Q[\\\\O+\\\\<OQVF1:9$ZD<<ZACK\\':88Z:6DO:2^1+X8Z.FDZRI$Z:3J1ALHO\\nMRFDZ.CJ1RB\\\\ZRH8Z+Y\\'*RLHZ03HZ.B\\\\Z.FG*D3HZD8:103HZ.B]ID89I+Y$Z\\nM+SK*D6F1:9$Z02]I.CJ&.B\\\\OACK\\'.H9I:<>1D9$OAL?\\'D6F1Q[\\\\UQ\\\\=IQVG\\'\\nM:2S\\'-34UQRPLQ[]IO\\\\<U+#6_O[_\\'OS7\\'?34LOS4U+#5T\\'G0L-35]+\"PU+\\'1=\\nM?71T?7U]+%TL?7U=71$1$9!N;@+4U-34U-34U-34U-34U-1KU-0\";I`1,U;,\\nM4?51S%96?#`PL[,P,#`P?%Q65E965E967%Q65E96:<<UQ\\\\?\\'\"`@(\"`@(\"`@(\\nM\"`@(\"`@(\"`@(\"`@(\"`@(\"`@(\"`@(\"`@(\"`@(\"`@(\"`@(\"`@(\"(.#@X.#@X-U\\nM=75U=2M9E5)VJPWU$W8YZ]X74;P<JPWU45&K#2<W5E;A7+.S965$2M/;VXW3\\nM2DI*FSZ($!`0RFUMRD$ZRD\\'*V,K*RCIM;<IM<\\\\IS.LHZ<VW8V\\'/*RCHZ;6W*\\nMV`@(\"`@(\"`@(\"`@(\"`@(\"`@(\"`@(\"`@(\"`@(\"`@(\"`@(*P\"\\\\@@!A8=,[(2$A\\nM(>;F5U?4U,_/S]2`34H^:F%&Y\">?8/4<ZZ&.7#!C9;ZD9*\"D\\\\:R^2DK3T^;F\\nM+BXNX.#@;3Q%V$4\\\\EG,\\\\/#Q%/\\'-SEG,\\\\/$5%<SR6/\\'/1/$71W3Q%W=U%13Q%\\nM1=T\\\\W=W=W=W113P\\\\\\'#DY*\"@H*\"@H*\"@H*\"@H.3D<\\'#DH*,T$!`0$/S]B>7D%\\nM(KFYN;:VMKG<I+-\\\\5A?U8)\\\\W\"@H*\"E965@I65IM\\\\I#S1W3S=T=T\\\\W3P\\\\W=W=\\nMW=%%W3P\\\\=T4\\\\=SS=/-W=/$71=SS=T=W=T=W=1=UWW7=WT7?=W86%W=V%0\\'=W\\nMW4#=0(5W=T\"%0\"-WW85W24E)W7=W0$E`24!`A7=`24!)24!`A4F%XX7CXT#C\\nM24E)XX5)285`XTGCX^/C2>-[0.-`XTGCXWM)XTGCX^-[XXI)X^-)24GCXWOC\\nMXTGCXTE)XXI)XTE[XTE)X^/CXT!`0.-[24E)XTE)X^/CXX7CXX5`2>/C=^-)\\nM=W=W0\\'=`24!)=TE)=T!W=]UWW87=A4!W=W>%=W=`=X7=A=W1T7=%T7=WW7=W\\nM14711=W=T471T3S=W=U%/-W=/$7=13P\\\\W9;=W=&RNB8:LK*ZLAJZ<B;\"7;I=\\nMPEVRNKJRNEUT772RPK)]=%U]?;K\"77U]NBQ]NETL=%TL\\'G0U?5U=?34U?7V_\\nMOWTL-2PLQRPLO[\\\\LQS4UQS4L-6EI-6F_Q\\\\?\\'D6G\\':<>_QX:1QR_\\'Q\\\\>1.FEI\\nMQ\\\\=I:3HZQSJ&D9&1:6EI.CHZ:<HZ.LII.LHZ:<J&.B^&.LK*RLHZD3HZ.H;*\\nM.CK*+T\\'*.B^1+R\\\\O+\\\\HZD4&&D9\\'*.I\\'*0<HORI\\'*D3HZ:9$Z:3HO06DZAFF1\\nM:9$OQY&&:9&1Q\\\\?\\':<?\\'AL>_D;]IQVF_Q[]IAL=I-2S\\'+\"QI+#7\\'Q\\\\?\\'-2P>\\nM-7V_QS7\\'+\"PL++\\\\U-2P>?70L+\\'T>-1X(\"`@(*RMA$9!+2W_4U-34U-34U-34\\nMU\"`@U-34U-0\";B4S,\\\\Q1]5%@E%9\\\\,+.:FIJ:LS`P,\\'Q<5E965E9<7\\'Q<7%Q<\\nM?#`P86$(\"`@(\"`@(\"`@(\"`@(\"`@(\"`@(\"`@(\"`@(\"`@(\"`@(\"`@(\"`@(\"`@(\\nM\"`@(\"`@(\"`A!=75U=75U=75U=2N5E943JZOU$W8<JPT741,<JPWU45&KG)]6\\nM5ES6?)ID,%R#@V5*2HWF2DI*93ZN$!`0V&W*<\\\\HZRCK*0<K8V,K*03K*;<HZ\\nM.B_80<HO+SHZ.M@Z\"`@(\"`@(\"`@(\"`@(\"`@(\"`@(\"`@(\"`@(\"`@(\"`@(\"`@(\\nM\"`@(80\"\\\\@F%P2$H[.R&`\":*B%!3(U,_/@-0V34B;?&&7Y\"<74?4<ZZ&!7#!C\\nM98Y\\\\FJ\"DK/$^2DI*T^;F+N#@+I9S;99SEG/8;45S/-@\\\\<SR6/#R6<T5%145%\\nM/$71147=<SR6ECP\\\\W3QSEMW1<SS=W1P<\\'!P<\\'!PY*\"@H*\"@H*\"@Y.3DY.1P<\\nM\\'#DHS00$!`0$/S]B>7D%(KFYMK:VMKG<KK.;-_5@-U965E965E965E965GRS\\nMI-W1EMT\\\\T=U%W=T\\\\13P\\\\W47=/#P\\\\W=W1W3S=W3S1147==]%WW=\\'=17?=17=%\\nMW47=W=&%A7?=A7=`T=W=W=W=A4EW=W>%W87=0$\"%=TF%=TF%=TF%=T#CA85)\\nM24E)24#C2>-)2>-)XTE)XX5)XT!)X^/C>TGC24GCX^/CXT#7X^-)X^/CBN-)\\nMX^-)XTGCX^-)X^-)BN/CX^-)XTE)XWM)>XI)>WM)2>/CXTGCX^-`0$E`X^-`\\nM2>/C0..%XT!`XTGCXX6%XTE)=TE)XT\"%XT!`=T!)24EW=X5W=]U)24F%W7=`\\nMA85WW=UW=]\\'=W87=W=\\'=17?=W=W1T3S1W3Q%=SQWW3P\\\\1=W=/$5%T47=/-T:\\nM&G(:NAJZ&KIR)B9RNKHF)AJZNKH:NB:Z&B8FNAI=LB8FNK*ZNEVZ=+HFNL)=\\nMNGU=\\'GVZ=\"RZ+\\'U=?5U=+%TU?2PU-2R_+\\'V_?;\\\\LQWU]QS4LQ\\\\>_-;\\\\LQVG\\'\\nMQ\\\\=IO[_\\':<>_Q[]I:;]I:<=IQR]I+\\\\<OAI%IQSHZ:6DZ:3HZ:3J1:<HZ0<HZ\\nMD3HZ09\\'*RCJ1.H8ZRLK*D2^1RLJ1+R_*D<K*.M@Z+SK*.LK8V)\\'8.CK*.CJ1\\nMD<J1RD$OD<HZRD$Z.CHZD9$Z.I$Z.CHZ:6DZQY$Z.I$Z+Y%I+\\\\?\\'D<>&:<?\\'\\nMAL>&D;_\\'AFDU+&G\\'OVG\\'Q[_\\'+#7\\'QQZ_?<?\\'-37\\'QRS\\'\"`@(\"`@(\"`@(,S,1\\nM$9!N;M34U-34U-34U-34U\\'_4U\"#4U\"!ND!$S4E\\'U46`W5EPPLYJ:FIJ:FIJS\\nMLS`P7%965EQ\\\\,#`P?#`P,#\"S86&02TM_\"`@(\"`@(\"`@(\"`@(\"`@(\"`@(\"`@(\\nM\"`@(\"`@(\"`@(\"`@(\"`@(\"`@(\",HZAI&1RG5U=76IJ9Z>G@%24G:\\\\JZOU$W8<\\nMJPWU]1,<JPWU45&KG.%65GS6LYJLL[/KY(.#941*C2XNC=-*$!`0RCHZV,K8\\nM+R_*.B\\\\ZV\"_*+SK8+R\\\\O.LHO+Y%!RLH(\"`@(\"`@(\"`@(\"`@(\"`@(\"`@(\"`@(\\nM\"`@(\"`@(\"`@(\"`@(\"`@(\"`@(80\"\\\\`(-PJJJJJJJJ:\\\\#`P,#/U-34S]0V34B;\\nM?-`YG\"<74?4<ZZ&.5C!C@XY\\\\FJ`^K*2@@V5*2M/3YBYSV,H\\\\V,H\\\\<]AS/)9S\\nM198\\\\199%V\\'-%<SS113P\\\\/-\\'1/$4\\\\17-%/-W1/$7=<T4(\"#DY.3DY.1P<\\'#DY\\nM.2@H*\"@H*\"@H.3DY\\'!P<\\'#DH*,W-!`0$/S]B>7D%(KFYMK:VMKG<I+-6%_6?\\nM5E965E965E965E96FWRSI$5SW=\\'113S=W=$\\\\/#S1T9;=W=W=13S=W7?=T=W=\\nM17=W13Q%W=UW145%W45%=]U%17=W=X7=W=UWW7?1W85`0-W=0\\'?==TEWW85W\\nM=TE)W85`0\\'=)286%=^-)A>-WXX7CA86%A87CX^/CXTGC(T!`>^/CX^-)X^-[\\nMXTE)X^.*27OC24GC>WN*27OCXXJ*XWOCXWM)BDE[BHI)BHKC>^/C27OCX^-)\\nM27OCXTE[X^/C2>-`0.-)XT#CA4GC0./CX^-)2>/C0(5)0(5W=W=W0\\'=WA7>%\\nM0$!W0-UWW4#=2=UW=]U)W87=A=UWT=W==X7=A7?=A87=T47=1=W==W?113QW\\nMW3S=1=$\\\\/-%WW44\\\\W=T:)B9R&B8:NKIR)G(:)KH:NKJZNKHFNAJZ&K*Z)K(F\\nM&KHF&B8:)AH:NL)=NK*Z?;*ZNGW\")GVZ)G1]77UT7;ITNBPL75U]7;HL77TL\\nM?7U]-34U\\'C5]Q[\\\\LO\\\\>_+,?\\'+#7\\':<=IQ[\\\\UQVDU-<=IQVDUQVF&AL>1:<<O\\nMD2_\\'Q\\\\?\\'.FDO.FDZ.I$Z:3HZ.LHOALJ1D9&1RH8O.I&1D<HZRI\\'8+]C8V#J1\\nMV#HZV,K*.I\\'8.B\\\\ZV#HZV#K*RB_*+]@O.LJ1V)$ZRLHZRLK*02^&D3J1:6DZ\\nM:4$OAH9I.FG\\'+\\\\>1Q\\\\=I:6EIQR\\\\OQ\\\\>1QX8UQS4UQ\\\\?\\'Q\\\\>_Q\\\\<LQ\\\\<UQP@(\\nM\"`@(\"`@(\"`@(\"`@(,S,1$9#9;@+4U-34U-34U-34`@(\"`M34U`)N)3,S=O51\\nM8#=65EPPFIID9&1D9)J:FK,P,%Q<7\\'PP,#`P,#`P,+.:89!+2\\\\M_\"`@(\"`@(\\nM\"`@(\"`@(\"`@(\"`@(\"`@(\"`@(\"`@(\"`@(\"`@(\"`C\\'D8:&+R_\\'D89I.B_\\'4E)2\\nM4E(!`0%V=KQVJZOU$[P<JPWU]1,<JPWU45&KG(%6?+.^I/$BFK/KJYRA@Z9$\\nM1-,AC2[;TQ`0V$&1RCHZ+Y\\'8.CK*.D$ZAH:1.B^&D9$Z.@@(\"`@(\"`@(\"`@(\\nM\"`@(\"`@(\"`@(\"`@(\"`@(\"`@(\"`@(\"`@(\"`@(\"`@(\"`@(80`<\\'%(Y[N[N1NY&\\nMV:EU=774U-34S]0VY4B;F]`YG-X74?4<JZ&!5E9C@XY\\\\LSZ@K*Z@ZYRA@X-E\\nM/-C*V-AS<Y;*V,ISV&US<]AM<W-%198\\\\<T5%/&T\\\\/\\'-M;3Q%145%<Y8\\\\/$4(\\nM\"`@(\"#DH*\"@Y.3DY.3DY.2@H*\"@H*\"@H.3DY\\'!P<\\'#DH*\"C-!`0$/S]B>7EY\\nMW+FYMK:VMKG<KGQ6%Q<*5E:;FYM65E965E96FWRSI-\\'1T3P\\\\T=\\'=ECR6T=&6\\nM/#P\\\\T=T\\\\/-$\\\\/#S=1471T44\\\\T7<\\\\/$5%W471W47=W7?=17?==]U%=X5WW7?1\\nM=W?=W=W=A7=WW7=)=T#==W=`=TE`27=`A7=)2>/C=TE)24E`A4!W=^-)=T#C\\nM0$E)X^-)2>/C2>/C24GCX^-)XTGCX^/CXXKCX^-)XXI[28KC24E)XXI)>WOC\\nMX^/C27OCXTE[XWOCX^/C>TE`X^/CXT#CX^-)2==`2>.%24GCA>-`285W2>/C\\nMA>-`24F%0.-W=^-`27=`0$!)A7=`=TG=24#=0\\'?==X7==]%`=]W==T`C=]&%\\nM1=\\'1T7?1W47==]W1=W?1145W1=\\'=W=W1=]T\\\\W44:)G)R)B9RNG(:NAIR<KHF\\nM)G*Z)KIR<KH:&B8:NG*R&K)RNB8F&AJZNK(:NL+\"<KJZ&EU=LB8:NL)T)KJR\\nMNG2ZNKI]=%U]7;I=71X>\\'GW\"\\'AX>NBQ=-7TU770L+\"P>?7W\\'\\'GTUQ\\\\?\\'-37\\'\\nMO[_\\'Q\\\\<U:6DUQVG\\':89ID<<OQY%I:9&1:3K\\'AL?\\'D<>&.CHORI&1.CHZ.I&1\\nM+Y$O+Y\\'*V)$ZRLK*D4\\'*RD\\'*V#K*+Y\\'*.MAM+\\\\K*V-C*+T$ZV,K*RMC*.CK*\\nM+\\\\HZ02\\\\O.CHZD2\\\\Z.I$ZD<J1.B_*AB^1+VF1:3HZ.CHZ:<?\\'D<=I:2^1OVG\\'\\nM:<>_-37\\':8;\\'QP@(\"`@(\"`@(\"`@(\"`@(\"`@(,S,1$1\\'9;@+4U-34U-34U&O4\\nM?TM+?VO4U&YN)3-2$U%@S)165GPPFIJLK*RLK&2:FIJS,#`P,#`PL[.:FIJ:\\nMFIJ:D$M+RW\\\\@\"`@(\"`@(\"`@(\"`@(\"`@(\"`@(\"`@(\"`@(\"`@(\"`@(\"+]IQ\\\\?\\'\\nMQ\\\\?\\'AFF1+R_\\'Q\\\\>&.B\\\\!`7AXGH2\\\\$Q-VJPWU$W8<ZPWU]1,<JPWU45&KG(%6\\nM,)N^KB*YFJ2<Z^NA@X-E1$K32M.-C=.-D<J1D6DO.B\\\\ZD9&1AFDZ.L>1:2]I\\nM\"`@(\"`@(\"`@(\"`@(\"`@(\"`@(\"`@(\"`@(\"`@(\"`@(\"`@(\"`@(\"`@(\"`@(\"`@Z\\nM:2]I80?N[I4<65GN1NY&V9Z>GIX)U-34\"<ANY7\";FRLYZ]X7%_5VJR>!5E9C\\nM@XY\\\\FCZ@K*P^H9SKZ]@Z<VV6V,ISV,K*RMASV\\'-M/#QS/#P\\\\ECR613S8/\\'-S\\nM/)9M;3R6/$5S/`@(\"`@(\"`@(\"#DH*\"@H.3DY.3DY.2@H*,TH*\"@H*#DY\\'!P<\\nM\\'#DH*\"C-!`0$!#\\\\_8GEYW+FYMK:VMKG<FGQ6]1=65ER;FWR;FYM65E96FWRS\\nMI#P\\\\198\\\\/-\\'1T=W1ECQ%/-T\\\\W=V6T=&6T9;1/$5%/#Q%145W/#S1W3S=1=\\'=\\nMW=$\\\\T47==]W=W=W1A7?=W84CW4!WA=V%T4EW0$#=W=W=24!W=TE)=T!)XW=W\\nMA4GC0\\'=)A4GCX^-WA4E`XTGCX^/CU^-)X^/CX^/C0$GC0$!`0\\'M)X^/CXTE[\\nMX]=)XWOCX^/C2>-)28KCXTGCX^/C>^/CX^-)XTE)XTE)0.-)>^-)X^/C0$E)\\nMXT#C0$F%A85`2>.%XTGC0$#C0$F%=TEW=W=)27=)=TEW0(5W24!W27>%=TEW\\nM=W=WW7?=W=V%A7=WW7?=W=UW=]\\'1A=W1W45W17=W=W=%W=W=1=%W=]W1=]T:\\nMNKHF)AIR<AHFNG)R<B8:)KH:)G)R<G*R&K*RNG)R<AIR<AHF)AIR)B8:<B9R\\nM)G(FNG*Z<AJZ&KIRLAH:NB9=)KI=7;*Z)K*Z7;JZ77TF=+I]NKIT72Q=71XL\\nM=%W\"PBPL77U]+\\'TL+#5]?<<L?2PUO\\\\<LQ\\\\?\\'Q\\\\?\\'QVEI:6G\\'QY&&:8:&QY&_\\nM+X9I:3II.I$OQR^&+X9ID2\\\\Z.CK*.CHZ03HZ.B\\\\O.CHZ+SHOV,HZRCHZRFUM\\nMV#K8;=C8.MC*.LHZRM@ZRCK8.MC8V-A!+SK*.M@ZRMC*RCJ1D3J1D3HZRFDZ\\nM.LJ1.CHZ.B_\\'.B^1.L?\\':9&1:6F_QX;\\'-36_Q\\\\<UQP@(\"`@(\"`@(\"`@(,S,S\\nM$1%N;@+4U-34U-34U\"`\";FYN`M34U$M+$3.\"J^OK-U965EPPFIJ:9&2LK*RL\\nMFIJ:LS`P,#\"SFIJ:FIJ:FIIDPTO+?W\\\\@\"`@(\"`@(\"`@(\"`@(\"`@(\"`@(\"`@(\\nM\"`@(\"`@LQ\\\\?\\'+,?\\'OX9I:6G\\'QX:_D;_\\'QR_\\'D2_\\'.JEU=783O+QVJPWU$W8<\\nMZPWU]1,<JPWU45&KG(%6,\\'P[B!VYK*#KZYRA@X-E.H8Z.I%I+SK\\'D6DZQVEI\\nMQY&1QVG\\'D6EID9$(\"`@(\"`@(\"`@(\"`@(\"`@(\"`@(\"`@(\"`@(\"`@(\"`@(\"`@(\\nM\"`@(\"`@(\"`@(\"`C\\'QR^&D9&1+\\\\<OD6G\\'ACJ1QY$<4E(!`0$)U-34:W]NY7\".\\nM)\"LYZPWU]?4<JR>!5E9C@XY\\\\FCZ@\\\\8@^H:&<.LK8.M@ZV\\'/8RM@Z<]C*V#QS\\nMV-C*V#S8<VW*V);*/-@\\\\<]C813QM/`@(\"`@(\"`@(\"`@(\"#DY*\"@Y.3DY.3DY\\nM.2@HS00$!,TH*\"@Y.1P<\\'#DY*\"@HS00$!#\\\\_ODK3(2&YN;:VMKG<FGQ6]6!6\\nM5IN;?\\'Q\\\\?\\'R;5E:;?\\'RSLW.61=%%/$5S<]%S13P\\\\/#Q%13Q%T=\\'=/-W=W=T\\\\\\nM1=T\\\\1=W1/-U%/-T\\\\T3P\\\\W7=%W=W=W=\\'=1=%W=W>%T=\\'==W>%A7=WT4!WT7<C\\nMW=UWW7=)A4F%27=)24DCA7=WA4E)24!)=^-`=X7CXTE)XW?C2>/CX^-W24G7\\nM24GC2>/C0(5)2>-)XX5[>TE)2>-)XTGC24#C2>-)XTGCXTGCX^/C2==`X^-)\\nMXTGCXR-)24#C285`2>/CA4E`0./CXTE)0(7C0(5)0$E`0$F%27=W24EW0$EW\\nM24#=24!W=W=)W4G==W=`=T#==W?=286%=X5`T7?=W87=W7?==W?==W=%A7>%\\nMT7?==T5WT=W1W7?=W7>RNKJZ)KH:)B8F&AJR&AHF&B9R&G)R)G)R<AH:&AJZ\\nMLKH:)G(:)B8F&B8F&B9R<B8:<G)R<B8:&B:Z&B8:LG(:<B8:NAJZNL+\"PAJZ\\nM)KJZ)KJZ)EW\")B9])EU]?72R?70>=,(>?2PL?<)T+%T>+\"PL=\\'TL-;^_\\'BQ]\\nMO\\\\<LQ[]I+#7\\'+,?\\'-;^1D6G\\'Q\\\\>&Q\\\\?\\'.I$OD9$ZQR\\\\Z+SJ1:<I!D6DORH8Z\\nM+\\\\HO.B^1RLHZV\"_8.MC8RCK8V-AMRLK8RLK8RLIS.MASRCHZV-AM+SK8RMC*\\nM+]C*.LK*+]@O.CHZ.I&1AI%I+Y$ORLII.B^1+SJ1QY&&D9$ZD<=I:;^_Q\\\\<(\\nM\"`@(\"`@(\"`@(\"`@(,S,1$9!N;@+4U-34U-34U-1_2TMN`M34Z$1-38.AY.NK\\nMZ^ODH:$P,)J:K*RLK*RLK)J:FK.SL[.SFIJ:FIID9*RL2TM_?R#4\"`@(\"`@(\\nM\"`@(\"`@(\"`@(\"`@(\"`@(\"#4U+\"PU+&G\\'QS7\\'+,?\\'-<?\\'OVEI:<<UD<>&:6G\\'\\nMD<>1=1-V=G9VJZOU$W8YZPWU]1,<JPWU45&KG(%6,#X[B&BV\\\\:`Z:<=ID6DZ\\nMAFEI:<<Z:3J1Q\\\\=ID<=IQX:1+\\\\?\\'OP@(\"`@(\"`@(\"`@(\"`@(\"`@(\"`@(\"`@(\\nM\"`@(\"`@(\"`@(\"`@(\"`@(\"`@(\"`@(\"&F1QVF1O\\\\=IO\\\\=I:6G\\'QY\\'\\'D;_\\'+\\\\>&\\nM:6EIQX:`((#4:P*JY>&.\"@$<JPWU]?4<ZZ&!5EQC@XY\\\\FCZN\\\\8@^9=C8V$$Z\\nMV#HZ;<K*RLHZ03IM;3IM<Y9S<W-S/\\'/*/-C8RLK8<W/*/#S8/&T\\\\V#P(\"`@(\\nM\"`@(\"!PY.3DY.3D<\\'#DY.2C-!`0$!`3-*\"@H.1P<\\'#DY*\"@HS8-P2+Z^.],A\\nMX`P,#\"$A(;F(FGQ6]6\"45E:;?\\'RSLWQ\\\\FYN;?\\'Q\\\\LW,\\\\/&USEI8\\\\EG,\\\\ECQS\\nM<]$\\\\/-$\\\\13QSED5S/$5%13Q%1=%%W47=144\\\\T3S=W45%/-\\'=1=\\'=W=W117=%\\nM1=W=17?==T5%W=W1=]TCW7>%A=W=W7?=A85`=X5W0(5)=X5W=TG==W=W=T!W\\nM=T!W=X4C24E)A4#C=W>%=W?C24E)27=)A4GC24\"%24GCA4F%287C(TE`24F%\\nM24E)285)24GC24#CXTF%(X6%A>/C27>%XTGC=T!`XTEW0(5`0-=)=W=)XW=`\\nMA4E)=X5)24EW=T!)=X5WA4\"%W4E)W=U)0$!WA7=`=]W==R-WW87=A7=W=X7=\\nM=]V%=]V%=]%`W=W=T=\\'1=W=W1=W1W7=W=]%WW7<FNETF75TF7;H:PAHFLB8F\\nM<AJR<AJR<G)R<AHF)B9R&AH:<K(F&G(F<G(F<K(:&K(F&K(:<G*R&G)R<G(:\\nM)G(F&K(:NG)R<B8F)AH:<KIRNAJZNAH:&K(:NKJR)ETFNB:ZNK)]NB:Z?<*Z\\nM77TLPEU]PG1]+\"PU+\"PU?2Q]QRPU+#7\\'-2PL:34LQ\\\\<U-;]IOVEID6G\\'D2]I\\nMAH8O.L<O.FG\\'D2\\\\O+R]IRB_*+SK*+R]!RMC*.CHZ+\\\\HZV,HZ.B_*RM@O.CIM\\nMRCHZV,HZRLIM<]ASV,K8.M@ZV,K8.FW*D3HZ.B\\\\O.CJ1.LHZRI&1+Y$Z+Y&&\\nMD3J1+R^&D9%I\"`@(\"`@(\"`@(\"`@(\"`@(\"`@(,S,1$9!N;@(\"U&O4U-34U-0\"\\nM2\\\\\\'!P>A?C4K!P::FIH.AG.NKZ^ODY.2F942LK*SQK)J:FIJ:FIJ:FIJ:FF2L\\nMK*RL2\\\\M_(-0@\"`@(\"`@(\"`@(\"`@(\"`@(\"`B_+#4>QRPLORPLQRPL+\"S\\'+,=I\\nMORS\\'-34UQ\\\\?\\'-<=IQ\\\\=IQ[_\\'Q[QV=G9VJPWU$W8YZPWU]1,<JPWU]?6K#8%6\\nM,#X[W&BV(J[\\':<?\\':<?\\'Q\\\\?\\'QX:1OVF_D;^_-6G\\'QY%I\"`@(\"`@(\"`@(\"`@(\\nM\"`@(\"`@(\"`@(\"`@(\"`@(\"`@(\"`@(\"`@(\"`@(\"`@(\"`@(-2S\\'-6G\\'AL=IOS7\\'\\nM+#7\\'OS6_QS4U:6G\\'QY%I-<>1D2^`((#4-FZJY>&!\"E(<JPWU41<<ZZ&.5EQC\\nM9;Y\\\\FCZN\\\\:Z;.I\\'*RCHZD2\\\\Z.CHZV#K*V#K*.CHZ.CI!;7/80=C*;7-SV\\'/8\\nMRCQS<Y:6<SS8;<K*/#S*V`@(\"!P<\\'#DY.1P<\\'#DY*\"@$!#\\\\_/S\\\\$S2@H.1P<\\nM\\'`T-H>\\'AX65P2+X[(2\\'@\\\\@PA(3L[ODAPX>$-#6\"45E9<?+.:FK.S?)M\\\\?\\'Q\\\\\\nM?)9M/#P\\\\/&T\\\\/#P\\\\16T\\\\<T66/&T\\\\17,\\\\<SS1<Y8\\\\<W-S13QS1=$\\\\/-\\'113R6\\nM13P\\\\145%T=\\'=13Q%1=\\'=T=W1T=W==W=WW3Q%=]UWT=UWW7=%T=V%A=UWW7=`\\nMW=V%=T#==]UW=W=)0(7=2=U)27=W24F%(T!WA4EW27=W=W=W0$\"%=W=`24E)\\nM24#C0\\'>%24E)24!)=^.%0$\"%=W=)XX4C285W285`0$E`=TEW=^-)X^-)XW=W\\nM24#C0$E`=^-`=W=WA85)27=`24E`24E`27=W2=UWA4EWA4#=A85W0\\'=W=X6%\\nM=R.%W7?=A7>%=X6%=T!WW4#=W=W==]W=W87=W7?==T5%=]W1=W?1W=\\'=W=T>\\nMNK)]NGVRNKI=NK*Z=%VZ)EU=&KJZNAJZNAHF<AHF&KHF<B:Z<G(:<K)RLG)R\\nM<K(:&B8:&K)R)AJR)AIR&B9R<G(F&G)R&B9R<K(F)AIR&AH:&G)R&K(FNAH:\\nMPKH:LB:R)B:Z75U=)GVZLL)=)G2Z?;I=?5TL\\'GVZ\\'GU]72PU+\\'U]?<<L+#6_\\nM+,<>ORS\\':6EI-37\\'-<?\\':8;\\'OR_\\'QR\\\\ZD<<O:9%I.H:1+R\\\\Z.B\\\\ZRCHO.CHZ\\nM+SK*+]@ZRLHORCK*.MC8.FUM+SHZRFU!.CK8V,K*RLHZ.B\\\\ZRCK*V-C*D3K*\\nMRCHZRD\\'*+Y$O+\\\\J1D<HZ088O:0@(\"`@(\"`@(\"`@(\"`@(\"`@(\"`@(\"`@(,S,1\\nM$9!N;FX\"U-34U-2-7U]?Z.CHZ.CHZ$K!P41$1$1E@X.AH:&<ZZNKZZ&A@X.F\\nMIIJ:FIJ:FIJ:FIJ:FF2LK*SQ2\\\\M_(-0@\"`@(\"`@(\"`@(\"`@(\"+_\\'QRP>QQY]\\nMO\\\\?\\'-<<L+!XLQS6_Q\\\\>_+\"PUQ\\\\?\\'QRS\\':<=IQ[^_-<<LQW9V=G9VJPWU$W8<\\nMJPWU]1,<JPWU]?6KZY]6?#X[W+&V(HC\\'-6G\\'AI\\'\\'-<>1-;\\\\UQ\\\\=IQVG\\'Q\\\\<(\\nM\"`@(\"`@(\"`@(\"`@(\"`@(\"`@(\"`@(\"`@(\"`@(\"`@(\"`@(\"`@(\"`@(\"`@(\"`@L\\nM-<=I+\"PLQ[]I-34LO\\\\?\\'+\"S\\'Q\\\\?\\'QVDU-2PUQVDUQS7\\':<>`((`\"-DM&Y>&!\\nMGW8<JPT7S,PYG*&.7\\'S.9;ZSFCZNK*Z;RH8Z.LHO.D\\'*+T%!.CK8+SK*;<K*\\nMRLK8RCHZV$$ZRMC*V#K*V&US.MASV\\'/8RLK*\"`@(\"`@(\"!P<\\'!P<\\'!P<\\'#DY\\nM*,T$/V)Y8C\\\\$!\"BAH=X-J^L-WB?AX:\\'AX1A(.],A\\\\@PA.[Y(&.$G#0VAH8/A\\nMX>%P?+.:FJ2S?\\'Q\\\\?\\'Q\\\\?#P\\\\<]AS<]AS;45SEG,\\\\ED5SV\\',\\\\/&US/#R6<T4\\\\\\nMT44\\\\<Y8\\\\/#P\\\\<]$\\\\T3P\\\\1=\\'=T3Q%/$4\\\\/#S1/$4\\\\144\\\\/-U%W47=T=UWT44\\\\\\nM1=W=/#S==]$\\\\W=W=W87==W?1=]V%W=UWA=W1T=W==]UWT7=WA4!`W=UWW=U`\\nM=]W=W=U`W7?=0\\'?=2=V%=W=`0$!W0-W=W4#==T!`0(5)A85)W7=`0$E)A4E)\\nM27=)=X5W=]U`0-UWW=U)W4EW27>%W7=WA7=W0\\'>%=T!W24EW0$E`0-UW0$#=\\nMW=UW=]U)W=U`=W=WW4\"%A4#=A=U`(X6%A7=WW=U`W7=WA=%WT7?1W7?1=X71\\nMA7=WT7=W=W?11=\\'=1=%=NG2Z\\'KI=7;IT?;)]NETF)G1T=!JZNL*R&AH:&KJZ\\nMNK(F)KJR)AHFLG(F<B8F)G)R)G(:)AH:<K)R<G(:&G)R&B9R<G*W&D]R<G)R\\nM<B9R)B8F&AIR)AH:<B9R)G(F&K)R)KHF&KJZLAH:&ETFLL*R)B:ZNGU]?;I]\\nMNEVZ\\'GTL=%U]+\\'U=\\'BQ]+\\'2_++_\\'-<<L-<<UOS4L:35IQVG\\':;^_O\\\\=I:6EI\\nMQSHZ:6G\\':2]I.CI!.CHZ.D$Z+SJ1.CK8V-@Z.MC*.CHOV,K*.M@ORCK*+\\\\HZ\\nM;<HZ+\\\\IM.CHZ.CHZV,HZV\"^10<K*D=C*RCHZD3H(\"`@(\"`@(\"`@(\"`@(\"`@(\\nM\"`@(\"`@(\"`@(\"`@(,Q$1$9\"0;FX\"7U]?7U]?Z,\\'!IJ9-34VFID3#-DT[KO&L\\nM\\\\*;67#`PY.2#H:\\'DZZOKZ^2AH8.FIIJ:FIJ:FF2LK*SQ2TM_(-1_\"`@(\"`@(\\nM\"`AT=\"Q]QS4U-7V_ORQ]-7U]+,?\\'QS4U+\"S\\'-;\\\\>-;\\\\LQRS\\'-2PL+#7\\'QS4U\\nM-2PUQW9V=G9VJPWU$QP<JPWU]1,<JPWU]?6K#2=67#X[W+&V\\'8C\\'O[_\\':6DU\\nMAC7\\'OVF_O\\\\=IOP@(\"`@(\"`@(\"`@(\"`@(\"`@(\"`@(\"`@(\"`@(\"`@(\"`@(\"`@(\\nM\"`@(\"`@(\"`@(\"\"PU-36_QS4U++\\\\UORPU+,?\\'+#4>QS6_+\"PU+,<L-34U++\\\\U\\nM-2PU+#6`?X!N;B5&Y:&?8+PYZR>!5I0YG.&.7##.9;ZSFCZN\\\\:Z;:<<Z.I$Z\\nM:<J1D2\\\\OD3J&D3K*.LK*V\"\\\\ZRCK*.CHZV-C*RLHZRLISRG-S;<K*\"`@(\"`@(\\nM\"`@(\"!P<\\'!P<\\'!P<.3DH*`0_8GE*2DI*966#H:$G#>NK#=XW5CGD<\\'QD(FS3\\nMM;DBI.\\'6-_4-)^&#941$2DI*2DI*2DJ:?\\'Q\\\\?\\'Q\\\\FSS*<SQMV-AS/\\',\\\\<W-M\\nMV)9M/);8/#S8/\\',\\\\V$5S/)9S<W,\\\\<SQSECQS/\\'-SED5S/$5S/\\',\\\\17,\\\\W=$\\\\\\nM/$5S/-%S/#S=/#P\\\\T3S=/#S=1=U%/$7=147=W3Q%147=1=W=1=W=W=W=W=UW\\nM/$5%T7?11=UW=T5WT=%W1=UW=]UW=X6%=]UW=X5`=]W==W=W=]W1=]W=(]UW\\nMA8710-W1W2.%=X5W0-V%=W?=2=UW=T#=W87==]W=0(7=W=W=W4#==T#=A4\"%\\nM=T!`W7>%A=W=W=UW0\\'?=0-V%W=\\'==]%`W=U`W=UW0\\'?=W4!`=W=`W=V%=W=W\\nMT=V%A=UW=T5WW7?=W7?==W?=W=W=W7=WT=U%1=U]+\\'U]75TL\\'L)]+\\'W\"7;H>\\nM770>?70FPKITNB9=PKJZNB8:LB:RNK*R&KH:NAHF)B:Z<K(:&B9R<G(F<AIR\\nM&K<FMW)R<AH:)AI/<G)/<B8F<B9R<D\\\\F&G(:&G)R&G)R<G)R<AH:&B:RNB:Z\\nM&K(F&KHF)AJZPAJZ7;JR?7VZ?5UT?;I]=\"P>?71=\\'GTL=\"PU?2PU-2PU-;\\\\L\\nM++_\\'+,<U-2S\\':<<UQVF1:8;\\'QX8ZQY%I.I$O.CK\\'09&1.CII:9&&RCK*.CK8\\nM.I$Z.LHZ.LHZ.M@ZD<K8V-@ZV,HZRCHZV-@Z.LHZ.LK*.LJ103HZR@@(\"`@(\\nM\"`@(\"`@(\"`@(\"`@(\"`@(\"`@(\"`@(\"`@(\"`@(,Q$1$41$1$I*7U]?7U]?Z.C!\\nMP<##)6$$1#Y+-DV^H&2:JJ;65HQ<8X.!5HQ<X93,JZOKY.3D@X.#@Z:FFF2L\\nMK/\\'Q;FX\"U-34\"`@(\"\\'TU+!XL-34L?;_\\'-;\\\\LOWTUQ\\\\=]+#7\\'?<<L-37\\'\\'C4L\\nMQS4L-2PUO\\\\<LOVDL-<>_O\\\\?\\'-79V=G9VJPWU$W8<JPWU]1,<JPWU]?6KZR=6\\nM7\\'P[W+&G\\'8B_:34UQS7\\'OVG\\'OVD(\"`@(\"`@(\"`@(\"`@(\"`@(\"`@(\"`@(\"`@(\\nM\"`@(\"`@(\"`@(\"`@(\"`@(\"`@(\"`@(ORPLQWTU+\\'TU\\'BPU\\'C6_?2R_+#4L\\'AX>\\nM-34L+\\'TLQRPLOS4L+,?\\'++\\\\U-2R`?ZIN;F%&Y:&?%Q,YG.&.5E:7Y>&.?##.\\nM1+ZSFCZ@K*Z;D9&1.FEID3HZ+X:1+R]ID9\\'*.I&1.CI!+\\\\HZ03J1RCK8.D\\'8\\nM.M@ORD$(\"`@(\"`@(\"`@(\"`@(\"!P<\\'!P<\\'!PY.2@H@X.AH8.#@V5E@Z&AE^3A\\nMA%*K#=XW5CF<<\\'QD(FS3M;FLI.\\'6-U\\'>!EQE98.#@X.#@X.#@X.#965(2$A\\\\\\nMFSQS/\\',\\\\<SP\\\\/#P\\\\<W-S<SQM;3P\\\\/#QS<]AS/&V6/\\'/817-S/#P\\\\<T5%<SP\\\\\\nM/#P\\\\<VT\\\\/&T\\\\EG,\\\\13Q%/#P\\\\13P\\\\ECQMEM$\\\\<SQST=$\\\\/#QS199S/-&6T=$\\\\\\nMW47=/-%S17-%/$5%/#Q%T9;=13S=W=W=W44\\\\W3S=/$5%W=\\'==]W1=]UW/$7=\\nMW7?=/-T\\\\T=UW=]W=1=W=1=W=17=W17?1T=W=185WW=UWW471=W?1=W=%A7?=\\nMW7?=1=W==]V%W7?==W=W=W=WT=W=T=UW=W=W0-TC=W?==W=`W=UW=X5WW85`\\nM=]%`=]U`=]&%=]%W=W=W=]UWT=V%1=U%=]W1=]U%1=%W=W?=W7?=/#Q%/-TU\\nM+\"S\\'-34U+\\'0>+#4L+\\'1]+\\'U]?1[\"+\\'TL\\'AX>77TFNGUT=+HFNEVZ7;JZNG*Z\\nMLAIRLB8:<K(F<K)R&G)R)K)R<B9R)AHFMW(:&B9R<G*W&G)R<K<:)G*W&AIR\\nM)AIRMW(F&B8F<B9R)K)R<G)RNB8F<G(F&B:Z&KI=&B8FLKHFNKITPKJZ77U]\\nMNEU]++HL?70L72QT?7U]?7U]+\"PL+#4U+,<UQRS\\'O\\\\?\\'O\\\\?\\'-6G\\':9&1QY%I\\nMQVG\\'D3J1.H8Z.LJ&D9&1ACJ&.LHZAI&1RB\\\\ZRB_*RCK8RD&1D<HO.M@Z+R\\\\Z\\nM.LHZD<H(\"`@(\"`@(\"`@(\"`@(\"`@(\"`@(\"`@(\"`@(\"`@(\"`@(\"`@(\"`@(\"$U-\\nM1$1*7].-7U]?7^@4%!04%!0VV6$$ICY+-N5(?\"V:1H.!5HQ64*\\'65HP&X90W\\nM46#DY.3DY.3D@X.#@Z:FIJ9$;FX\"U-34-36_+\\'TUOWU]\\'GTL?2R_+\"PLQS4>\\nM+\"PLORPL+\"PU\\'BPL+\"R_Q[_\\'QS7\\'+,=IQRS\\'+,?\\'-2QI:79V=G9VJPWU$W8<\\nMJPWU]1,<JPWU]?6KZ]Z47\\'P[B&BG\\';DLQ\\\\<U-2S\\'QP@(\"`@(\"`@(\"`@(\"`@(\\nM\"`@(\"`@(\"`@(\"`@(\"`@(\"`@(\"`@(\"`@(\"`@(\"`@(\"`@>ORQ]?34U\\'BPL+\"PU\\nM=\\'T>++]]+\"Q]+\\'U]\\'C5]ORPL-37\\'++^_?7TUOWTLQS4LOWV`?ZIN$=!&8Z\\'>\\nM]1.7G.$*?%Q&Y>&;?+/.1#NDFCZ@K*Z;:<>&QY\\'\\':9&1:6DO.CK\\'.FF1.I$Z\\nM+VDZ.LII03I!.I&1RCJ1RLH(\"`@(\"`@(\"`@(\"`@(\"`@(\"!P<\\'!P<Z^OKZYR<\\nMG*&AH9P-Z^OK$Q.\\\\EZ\\'A4E*K#=XW5CGDX7R:(FS3#(BLL^&!S%$-!@KKZ^OK\\nMZ^L-#:&AH8.A@X-P<$B6/\\',\\\\RMAM<]C8<W/*;7,\\\\/-ASV#QMRG/8V\\'/8EFW8\\nM;<K8EG,\\\\EM@\\\\/#QSECQS<]C*V,H\\\\<VW8/)9MEFUMV\\'.6/#QS;7/8/-AM/#S*\\nM;3S8/#QMV#P\\\\<]AM/#QS/);8EFV6<T5M/$5%/\\',\\\\V)9S<SQS<SQ%/$4\\\\/$4\\\\\\nM<T5S/&US1466<W,\\\\144\\\\T471W=W=/-T\\\\T3S1/-U%1=W=W=W=/$5%T3S=1=W1\\nM/#P\\\\W3S=1=UWW=U%17?=T471=]W=W7?1T=%W147==]U%17=%1=W1W=\\'=17>%\\nMT=U%=]UWW7?==W=WW87=A87==W=%W=UWT7?==]UWW47==W?=T7?1W44\\\\1=W1\\nMW=\\'11=T\\\\=SQ%/-T\\\\W47\\'ORS\\'+!XU+\"PL-2Q]?2PU+\\'U]-35=75TLNEW\"\\'ETL\\nM?1ZZNG1]NGVZ=\"9TNKJZNKI=7;HFPAH:LB:Z&KH:<KJR)G(:)G)RLG(F3QHF\\nM<G(:<G(:3R9R<K=R&AHF&AHF&G)RMQHF<AH:<AI/<G)R<G)RNK*Z)K)R)KJZ\\nMNAJZLKH:NB8:)AJZLEU=7;*Z?;K\"NL)=NG1T\\'GT>+\\'U==#5TOW0>?2PU-<?\\'\\nMQRS\\'-6G\\'+,<UQ\\\\?\\'Q\\\\?\\'Q\\\\>1:<>1QVG\\'D<>&.I\\'\\'.B^&.FDZD9$Z03K*ACJ1\\nM.B^&.LHZRLHZD3K*RCJ1\"`@(\"`@(\"`@(\"`@(\"`@(\"`@(\"`@(\"`@(\"`@(\"`@(\\nM\"`@(\"`@(\"`@(\"`@(\"`@(\"`@(\".;J5U=75U>B%!1;6Q0V8=#PIILE-N48FWPP\\nME^2?-S>4S:&!5E8&X9]@46\"4E.OKZ^OKZYR<Y.2>=74XP%NB5U?4=\"PU+\"PL\\nM-34>+\"Q]++\\\\UOWTL?2PL+\\'TL+\"P>QS4>-37\\'Q\\\\<L-34>OS4L++\\\\LOVG\\'QRPU\\nM+&G\\'QW9V=KQVJPWU$W8<JPWU]1,<JPWU45&K#2=67\\'P[KAUH\\';G\\'ORS\\'\"`@(\\nM\"`@(\"`@(\"`@(\"`@(\"`@(\"`@(\"`@(\"`@(\"`@(\"`@(\"`@(\"`@(\"`@(\"`@(\"\"P>\\nMOQYT?2PL?;\\\\L?7V_+\"Q]\\'G0L+!XL71XU+#5T+\"PL=#4L-2PL?34L\\'K^_+#4L\\nM-<<U?2R`RZJ0$=#N8R<7];PHY.&;?\\'Q&Y7\";L[/.1#NDFCZ@9*Z;D;]IQVEI\\nMD9$OD;^_D<?\\'QVDZQVF1+Y$OD3IID6DZRCHZ00@(\"`@(\"`@(\"`@(\"`@(\"`@(\\nM\"`@(\")R<G)R<G*&AH8.#@V5E@X.>GIZ>=G92E^3A696KJQ<W5CGDX9N:(FR-\\nM0XB:?.&?S&`-8`J#@Z&AH:$-ZPVAH8/*;7-SV\\'/8ELK8EI:6/\\',\\\\<]C8<SQS\\nM<\\\\H\\\\V\\'/*RMC8EFW*EG-SRLK*V-C8<VW8RM@\\\\<\\\\K*RLJ6<]C*<\\\\J6<]AMELK*\\nMV);8ELIS<Y9!V-ASV-AM0<IMRLI!EMB6.G-M;4\\'8EG.6V,H\\\\<]A!<\\\\K8RG/*\\nMRLK*ELIS/,IS;=C8/-@\\\\RMC8V#P\\\\ELH\\\\V#QS/\\'.6<SP\\\\<W-M/-@\\\\/\\'-M/\\'-M\\nMEI9%;99M/$5%/$5SED5S145%1=$\\\\13Q%W3S1/#P\\\\ED4\\\\/#QW=]W=T=\\'=13Q%\\nMW3P\\\\1=W1W=T\\\\W=W=T=W117?1=]UW1471=W?==]\\'=145%W=W=1=UW=]UWW=W1\\nM=]W=W3S1W=W=13P\\\\1=\\'=W3Q%/$7=/#P\\\\/)8\\\\EM%I+,<LQ\\\\=I-2PL-34LQS7\\'\\nM+#7\\'+\"PL\\'GV_?1XU?2PL=\"S\"+!XL+\\'U]?5U]?;I]7;JZPB:R=,+\"7;JZ)KK\"\\nMNB8:&AJZ&B9RNKJZ<AIR<G)R<G(F)AJWMR8F<G)R&G*WMW)R<G*WMW(:<AHF\\nM3QH:&AHF&G)R)B8:)K(:<AJZ<B9RNAJZNKIR728:)KHFLG0FPEUTNKJZ\\'K*Z\\nMNKK\"=+I]72Q]+\\'TL-2PL++\\\\LO\\\\<>O\\\\<LQ[]I+&EIQRS\\'Q\\\\>1QVF1Q[]ID3K\\'\\nM+VEI+SHZAL?\\'D9\\'\\'.CJ1+Y&1.D$O+X9!D0@(\"`@(\"`@(\"`@(\"`@(\"\\'\\\\@(-34\\nM\"`@(\"`@(\"`@(\"`@(\"`@(\"`@(\"`@(\"`@(\"`@(\"`@(\"&G\\':;_\\'\"`@(\"-17HA04\\nM6UMN)=`H@YLE$>485E96.>O>%U%1JPT78,PW)V!1]6\"4E.N<G.3DGIYU=77`\\nM6UL45RP>?7T>?2Q]-;\\\\>+,<L-1XU+,<LOS4>?2R_+\\'T>QRR_QRPLQQXUQ[_\\'\\nMORS\\'Q\\\\<UQS6_Q[_\\'QS5IQ[\\\\L+\\':\\\\O!.\\\\JPWU$W8YZPWU]1,<JPT78%&KG)]6\\nM7\\'P[KAT=\\';D(\"`@(\"`@(\"`@(\"`@(\"`@(\"`@(\"`@(\"`@(\"`@(\"`@(\"`@(\"`@(\\nM\"`@(\"`@(\"`@(-1XUORPLORS\\'ORPL\\'GTLOQY]\\'C4U+#4U-2PL+%U]72PL-;\\\\>\\nM?;]]+\\'TL?2R_?;\\\\U+\\'0LOWT>?2R`2S:0$2ON8][U]78HY\\'\";L[-&Y1B;LYK.\\nM1#NDFCZ@FJ2;+#5I-<?\\'QVF&D;_\\'QVEI:<>1D<>1QX;\\'.L<OQR]I+P@(\"`@(\\nM\"`@(\"`@(\"`@(\"`@(\"`@(\"`@(\"`@(\"`@(\"(.#965$1\\'5U=3@X=75U=G9VE^3A\\nM!UFKJ_7,5CGD<)N:(FR-#(B:?.&?S&`-]9^#@X.AH9S*RCQS<\\\\K8RG/8ELK*\\nM/&W*ECS8<W.6V,K*;6USRLK*06W*ELK*V+Z.CHZ!X=X-J\\\\HZ<VUSV\\',Z0=@Z\\nMV\\',Z.G/8RLI!RMC8.CIMRCHZRCK*.CI!RMC*RLK8RCHZV,HO.M@ZRCHZRB\\\\Z\\nMV-@Z.I\\'*RB_*+VW*RCHZ;<HZRMC8RCHZ.B_8;<HORMC803HZ.LK*RCK*V-AM\\nMV,IS;6W*EG/*V\\'-SV#S*<\\\\K*RI9S;7/8RFW8EI:6<T66EG,\\\\/$4\\\\<SQ%T3QS\\nM/\\'/1T47=T3Q%144\\\\/-$\\\\/$5%/#S=T7=%T3S1T47=1=UWW44\\\\T=$\\\\W7=%=W=%\\nMW3S=W47=/#Q%1=\\'1/\\'<\\\\/#P\\\\W=\\'=W3Q%1471/$5%/$5%<SS119;1/$5%EI;\\'\\nM:;^_Q\\\\>&QVEIORR_QS4LQRPLQ\\\\<LQ[\\\\L+,<LOQY]-7U]71X>\\'GTL\\'EU]=%TL\\nM=\"QT?7U=NGTFNKI==\"9=NB8FNKHFLAHF&G)RNAJZ)AH:LG)RLG)RLB9R<G(:\\nM<AIR)B9R<G(F&G(:<G)R&G(:MR:W<K<:<G)R<K(:<B8:NK)R&G)RNAHFLG*Z\\nMNB:Z&B:Z728F72:RNKJZ)EVR77T>?;I=PKI=+\\'0U+!YT?1Y]+\"PU-;_\\'+#4L\\nMQ\\\\<L-2PL-<?\\'Q[\\\\UOS5IQ\\\\?\\'Q\\\\?\\'AL=IAL?\\'.CHZ+SK\\'QY$(\"`@(\"`@(\"`@(\\nM\"`@(\"`@(\"`@(2R#4U\"`@(\"!_?W]_?W]_?W]_RTL(\"`@(\"`@(\"`@(\"`AIQ[]I\\nM:0@(\"`@(\"`@(\"`@(\"`@(\"-20)6$H@YMA$>7A\"C=@\\'*L-]?7U\\'*OU45%1#?7U\\nM4<R4\"IZI=75U=3C`6[\\\\L+\"S\\'-7U]?<?\\'OWU]+\"S\\'+\"Q]-2P>O\\\\<>ORS\\'?34L\\nM+\"PU\\'AXL+\"PL-1XL-;_\\'Q\\\\<U-34LQVDU-<?\\'O\\\\?\\':6F_O[P3$W83JPT7=APY\\nMZ]X74;P<Z]Y@-\\\\RKH8%67\\'P[KAT=\\';D(\"`@(\"`@(\"`@(\"`@(\"`@(\"`@(\"`@(\\nM\"`@(\"`@(\"`@(\"`@(\"`@(\"`@(\"`C\\'QRR_O[\\\\L+,<L?<<U?;_\\'QS4L+\\'TL+#7\\'\\nM?7U]?7T>?2R_ORQ]?35]+\\'TUORPUOQY]+\\'TL?2Q]-7TL?7V`2S:0$2ONZPWU\\nM%P$HY!B;L[.JY4B;LYK.1#N:FCX^FJ0^QVDL+,<U-2PUQ\\\\=IAFEIQ\\\\?\\'Q\\\\>&\\nMQY&_AL>_\"`@(\"`@(\"`@(\"`@(\"`@(\"`@(\"`@(\"`@(\"`@(\"`@(\"`@(\"`@(V#HZ\\nMREM;%!04%!04=G:51N08,UDH#?5@E#GD<)N:(FR-#(B:?.&?S&`-]1<\\\\RFV6\\nMV,K*V,IS;7.6<W-M;<K8RMC*/\\'/*;<H\\\\V#QM0T-##`RUM4-#0T,^.SN^CHZ!\\nM@2?>#:MS<\\\\HZ0=@ZRFW8;=C*.LK*RMC*D2_8RCHZ.I\\'*.B^1RB]!+\\\\HO.LHZ\\nM0<HORCHZD3K*D<HZ:9$Z+VEIQVEI+VEID3HZD6F1:<>1:3II:2\\\\Z:4$Z.I$Z\\nMRH;*+\\\\HO+SK*RCJ1RLHO.CK*.CHZ.D$Z.LK*RLHZ.MC*RLK*<]AMV,K*RFT\\\\\\nM<]C8EMC*V,H\\\\RMAS;6T\\\\<W-SEG-M<VW1<Y:6T7/113QS/-V6/-\\'1T=U%T45%\\nMW44\\\\W47=/$7=/#S1W=\\'1T=$\\\\W3Q%/-$\\\\1=%%13S=T3S=W3P\\\\1=$\\\\/$5S/#Q%\\nM/)9%/#QS/#Q%;7-S<]B1OS7\\'QVF1AC6_-<=I-;_\\'-2S\\'Q\\\\<UQ\\\\<LQ\\\\<L+,<U\\nM++]]QWV_-34L-35T=\"Q]+\"PL=\"Q=NBP>NGTLLGVR=+*Z)GVR71I=&AH:LKJZ\\nM)KJZNKJZ&G)R)AJZ)G*R&AHF&AIRLG(F)G*R)B9R)B8:<G)R&G(:LAH:&B8:\\nM&G(:&K(:LB9RNK(:)B:R)AHFNB8:LKH:&KH:7;JZ75TFNEVZLGVZ\\'EVZ+%W\"\\nM+\"P>=,+\"-34>?7V_\\'AZ_-1[\\'Q\\\\<LQ[^_+&G\\'QRPU-6G\\'AL?\\'-<<UD9&1D2]I\\nM\"`@(\"`@(\"`@(\"`@(\"`@(\"`@(\"`@(\"`AA?R#4(\"!_?W]_?W]_?W]_?\\\\O+2TN0\\nM86$K`((3O()67\\'RS\"`@(\"`@(\"`@(\"`@(\"`@(\"`@(\"`AN)6\\'P@XYA$>7AGU\\'U\\nM\\'.O>8&!@J^OU]?7U#?51S#=65JEU=1XU++\\\\L+\\'TL?2PL+!Z_+#5]-<=]++_\\'\\nMQWTL\\'C6_-<<LORPU+,<U+![\\'+\"S\\'O\\\\?\\'-2S\\'+,?\\'O[_\\'QVDUQVDLQRS\\'+#4U\\nM+&F_:1,3O\\'9VJ]Z?4EDHG\"?,S(0YG\"<W5I0HH8%<,\\'P[KAT=\\';D(\"`@(\"`@(\\nM\"`@(\"`@(\"`@(\"`@(\"`@(\"`@(\"`@(\"`@(\"`@(\"`@(\"\"S\\':<>_+,>_QRPL-34L\\nMQ\\\\<L+,<L+\"PL+#5]QWT>+#4L+!Y]+\"PU-34L-;\\\\L?2R_?2Q]+#6_?2PL=\\'UT\\nM?35TORRJ2S:0$2ONZPWU%P\\'PY!B;FJ2J34@^FIK.1#N:FCX^FJ0^+![\\'-2PL\\nM++\\\\LQS7\\'Q\\\\?\\'Q\\\\?\\'QVEIO[]I\"`@(\"`@(\"`@(\"`@(\"`@(\"`@(\"`@(\"`@(\"`@(\\nM\"`@(\"`@(\"`@(D3J1ALHZRMB1+R\\\\Z.EM;=I4S1H,8$3-0#?5@E#GD<)N:(FR-\\nM#-RL?.&!-\\\\S>4?7*RLK*V&W*V&UMRG,\\\\RMC8RLH[.SL[/CL^0T-#0T-#0T-#\\nM0PRUM0Q#0T-#/CN^CHZ!@2?>#0TZV,K*V#I!03K*.CHZ+X8ZD3HZAD%I+SJ&\\nMD8:1.CJ&D9&1.L<O:9$Z:<>1+R]ID6G\\'D2^1:6F1Q[_\\'D9&1:<?\\'Q\\\\=IAL?\\'\\nMQ\\\\>_AFEID8:_:8:_O\\\\>_OR^1:6G\\'D9&1QY&1Q\\\\>1D9$O:8:1:9$OAFDZRCHZ\\nMD8;*.CK*RMC*.LHZV-@Z.LK*<]ASRLK*RG-S<\\\\J6V,K8ECP\\\\<W/8<Y9S/\\'-S\\nM<Y8\\\\/$66<T5%EG,\\\\13QS/#S1<SS=1=$\\\\T45%1=UST=%%1=U%W=$\\\\T7,\\\\13QS\\nM/-%SED4\\\\/$5%<Y8\\\\<W-%<W/8<W/8/#QS<]C*EFV_:6G\\':6F&-8:&D<?\\'QY\\'\\'\\nMQX;\\'QY\\'\\'Q\\\\<U-<=I:6G\\'OS4L+,<U++^_++]]-;]]-2Q]+\\'TL=!Y]+%U]\\'BPL\\nM+%VZ?;JR?;JZPGU]NKJZNK*Z&AJZ72:RPAJZ&B9R)G(F&B9R)KIR<G(:)AHF\\nM)K)R<B9R<B:R&G)R<AH:<AHF<B8:)B:RNAIR)B9R&B8:<KJZNAH:&AJZNKJZ\\nM71HF)KI=PG2ZNG2RNL)TNEU=NKH>++I=+\\'U]?7T>?;\\\\U+\\'W\\'?2P>+,<L+#7\\'\\nMQS4U++\\\\L:2PL:0@(\"`@(\"`@(\"`@(\"`@(\"`@(\"`@(\"`@(\"`@(\"`AA?R#4(\\']_\\nM?W]_?W]_?W]_RTM+PY!A86$``+P3O`!67\\'RSD&\\'#2\\\\M_?R`@U-0@(\\'\\\\(\"`@(\\nM\"`AND\"7PIHYA$9PG8/7U\\')PG-Y24*)P745%1#9\\\\W5E965GU]OS4UORS\\'ORR_\\nM\\'L<L-2P>-2PLQS4L?2Q]+\"Q]OWT>QQXU+\"S\\'Q\\\\>_Q\\\\<U+#7\\'-2PUQS7\\'QS4U\\nM-34L:;_\\'Q\\\\=IQ\\\\?\\'-<<UQ\\\\=ID1.\\\\=I528Z&!`3DHH8$WE`$HY.%65E90H8Y\\\\\\nM,+,[B!T=\\';D(\"`@(\"`@(\"`@(\"`@(\"`@(\"`@(\"`@(\"`@(\"`@(\"`@(\"`@(OVF_\\nMQ[_\\':;^1:37\\'QVEIQ\\\\<LQS4UO[_\\'++_\\':;\\\\UQRPL-<<LQ\\\\?\\'\\'C4>-<<L+#4U\\nM-;]]+,>_+\\'W\\'O[^_+#4>-2P>OS5K2S:0$2L\\'ZPWU8`\\'PY!B;FJ2J34@^FIK.\\nM1)NSFCY\\\\FK,^\\'C4U+\"S\\'+#4UQ\\\\?\\'+\"S\\'Q\\\\=IORP(\"`@(\"`@(\"`@(\"`@(\"`@(\\nM\"`@(\"`@(\"`@(\"`@(\"`@(\"`@(\"`@(AH;*.B\\\\Z.LHZD3HZ.CHZ.CHOE0`S1J88\\nM$1%0#?5@E#GD<)N:(FR-#-SQL^&!5I3>4?78RLK8RKZ.X2<-#2?ACHZ.OKX[\\nM.SL[.SL[/CY#0T-#0T-#0T,,M0Q#0T-#/CN^CHZ!@9\\\\G#0WK.LHZ.D$OD3HZ\\nMAI&1+SHZD3HZ.FEI:<?\\'D8;\\'AL?\\':;\\\\UQ\\\\=IQS4U-6G\\'-<<U:2S\\'-36_QRS\\'\\nMQRS\\'Q[\\\\LQS4LQ\\\\<UQS4L-2PU\\'C4LORS\\'-<<L+\"S\\':2PUQS7\\'+,=I+#6&QS4U\\nM-;]IQ\\\\?\\'Q\\\\?\\'Q\\\\>1:<>1:2_\\'QT%I.FG*.LJ1D<HZ.LHO.CK*;6W*V,K*RLK8\\nM.G/*RLIMECS8RI;8V-AM<Y9S;3P\\\\/$5M/\\'-MECS1T99S/#QS/#Q%/-%%13P\\\\\\nM13P\\\\17/1<]$\\\\/-%S13Q%17,\\\\19;8/#P\\\\<SQS/-@\\\\V#P\\\\/-C*V);*V$$ZRD\\'\\'\\nM:<<U:9\\'\\'QVEIQVEI:<?\\'OS4UOVEID6F1Q[_\\'-36_QS6&-36_Q\\\\<U-<<U-37\\'\\nM+\"PU-7T>ORP>\\'G1T?5TL+%U=72Q=NKH>NGVZ\\'EU=PGVRNB9=)G0F)EVZ)B8F\\nM&AI=&AH:&B8FNB8FNKH:)B8F&G(:)AH:<AIR&AHF<AJR)K(:<AIR)B:R<AHF\\nMNB9R<KHF)G(FNKH:PAH:&B:Z72:Z)KJZ770FNGVZLGT>75VZNKH>75T>PAX>\\nM?<)=-34>=\"P>=\"Q]\\'C6_\\'GU]QRS\\'\"`@(\"`@(\"`@(\"`@(\"`@(\"`@(\"`@(\"`@(\\nM\"`@(\"`@(\"&%A(\"#4(\\']_?W_+R\\\\O+R\\\\O+2TN0D&%A86$`@KP3@@!67\\'RSD-G#\\nM2\\\\M_?R`@U-0@(\\']_\"`@(\"`AN2R7PIIMA$9SA%_51\\')SA5E96S:&?8&!@)X%6\\nM5E965BQ]+#6_-2PL?2PU+\"PU?;^_?2S\\'+\"S\\'?34UQS4L-1XU\\'L>_-34LQRPL\\nM-;_\\'Q\\\\?\\'QS6_+&EI-<<LQS4UD6F_D<?\\'AL?\\'AL<UQY&&O[QV4C,S8^&.*SDH\\nMH8%6!@$HY(Y67%9CH8Y\\\\9*0^B!T=:+D(\"`@(\"`@(\"`@(\"`@(\"`@(\"`@(\"`@(\\nM\"`@(\"`@(\"`B1D<=IAFEI:<?\\'D9$OD;^1OY\\'\\':6F1:9$U:88UQ\\\\>_Q\\\\?\\':<<L\\nMO[_\\'Q[\\\\U++\\\\U-;]IQS4L++\\\\L-34UQ[\\\\>QWTU-2PL+#7\\'+\"QK2S:0$2M9ZPWU\\nM8`%&Y!B;FJ2J34@^FIK.1)NSFIM\\\\L[,^OWTU+\"PLQQXU-2PL-;\\\\U++\\\\(\"`@(\\nM\"`@(\"`@(\"`@(\"`@(\"`@(\"`@(\"`@(\"`@(\"`@(\"`@(\"`C\\'QY%ID2^&D9&1D3HZ\\nMD3K*RB_*V,K*,P`S1J88$1%C)_47E#GD<)N:(FR-#+DBI\\'\".5E8G4?5M/`@(\\nM\"+X8X2<-#2?ACHX8CKZ^OKZ^OKX[.SL^/CY#0T-#0PRUM0Q#0T-#/CN^CHZ!\\nM@>&?#0VKJSJ1:9%IAL=ID3J1QX9I+\\\\?\\'Q\\\\=I:9%I:6EIAK_\\'+&EIQ[\\\\L-2PL\\nMQQ[\\'QRS\\'+\"PU+#6_+\"Q]?2P>+%TU75TL-34L\\'BPU?34U+\\'T>?2Q]?2Q]+\\'TU\\nMOS5]-2PLQS4L-;]]O\\\\<>+\"S\\'+\"S\\'Q\\\\<UQ[]ID8;\\'O\\\\<OD9$OAI&1.H9ID89!\\nMD9$ZD8:&+SHZ.CI!0=@Z;3K*.MC8<\\\\HZEFW*/#QS<SP\\\\RG-S<W.6EFT\\\\/#P\\\\\\nM<SP\\\\<SQ%13P\\\\/&US<W-M/#S8<Y9S<SQM/-B6V-C8/-@\\\\V,IS;3P\\\\/-C*/\\'-S\\nM<SISRFW8RMC*RCK*V#IIQVG\\':36_QS5ID9\\'\\'-<>_:<?\\':<>_-6F1QS6&QS4U\\nMQS7\\'QVF_QRS\\'-6EI:34U+\"S\\'++\\\\L\\'C4LQWTL-7TL?7TU?35]+\"PL+,)]++IT\\nM=%U]++I=\\'KI=NG1TNK*R=+ITLEVZ&B8FLB:Z&KHF&K*ZNB8:&B8F&AJZ&AHF\\nM)G(:NAHF&KJR&AH:LKIR<B8F&G(:&AJZ<AJR&L*Z)AJR&K(FLAK\"LB:Z)K+\"\\nMLKI=NK)T7;*Z\\'EVZ\\'GW\"\\'AY=++K\"72Q=+\"Q==#4L?0@(\"`@(\"`@(\"`@(\"`@(\\nM\"`@(\"`@(\"`@(\"`@(\"`@(\"`@(\"`@(86%A?]34(\"!_?W_+R\\\\O+2TM+2Y\"086%A\\nM86$``;P3O()65EQ\\\\89!N;G]_?R`@U-0@?W]_\"`@(\"`AN2TOPIIMA$9PG%_51\\nM\\'.2!5E964*&?-\\\\PW)PI6?%Q<5BPU-2Q]+\\'TLQS7\\'O[\\\\L+#7\\'?7V_\\'BS\\'Q[\\\\L\\nM++\\\\L-2R_++^_Q[^_+\"PL++\\\\L+,?\\'Q\\\\<U+&DUQX:_Q[]I:36_Q\\\\?\\'OVEIQ\\\\?\\'\\nM:6G\\'QW9VE3,K8^&.*SG-H8%65@$HY(Y6?%QC@XZSK*X[W&BG[[D(\"`@(\"`@(\\nM\"`@(\"`@(\"`@(\"`@(\"`@(\"`@(\"\"\\\\Z:3HZ.CI!:6DZ:2\\\\Z+VDZD2\\\\Z.I&1+VDO\\nM:2_\\'AI&1QVDO:<<OQVF1AFF1:361O[]I:<?\\'-<>_:6G\\'QVF_-<?\\'-2PL-2S\\'\\nM+\"PU++\\\\V2VZ0$2LYZPWU8`&7Y!B;LZ2J34@^FIK.1)NSLYN;,#\";-2PU+\"PU\\nM++_\\'?<<L?;\\\\(\"`@(\"`@(\"`@(\"`@(\"`@(\"`@(\"`@(\"`@(\"`@(\"`@(\"`@(\"`C\\'\\nM+X8OQ\\\\<ZAI$Z.FDO.CHZ.CI!+R\\\\Z+\\\\K*,P`S1J88$3-CH?47-SGDX9N:(FR-\\nM#+D=I\\'\".7%8G4?4(\"`@(\"(Z.X=X-#2?ACHZ.CHZ.CHZ.CKZ^.SL[/CX^0T-#\\nM0[6U#$-#0T,^/CN^CHZ!@8&?H:&<ZT0Z+Y%I.I$ZQ\\\\=ID<>_:<<UAL?\\'-34L\\nM:2PLQRPL-<?\\'+\"PUOS4L+\\'UT-1XL-71=+\"PL=\"RZNBS\"?5U]+%VZ7;IT?7TL\\nMNGU==+I=?;I]NGT>?5U]+%U]NEU=PL)]+\\'TU-5TL=#6_-34L+\"S\\'+,?\\'-;_\\'\\nMQVG\\'QVG\\'AI\\'\\'Q\\\\=IQY&&D6F1QSIIRCHZAB^&RLHORLHZ.LK8RLHZ;<IS;3K8\\nMV-C*RI8\\\\<\\\\K8<\\\\K8/-@\\\\<\\\\J6/#P\\\\V-@\\\\RCP\\\\/\\',\\\\/\\'-S;3S*<W-S/#QM<]AM\\nMV-B6RMC*<VUM<W/8RG-!.MC80=C8V$$ZRM@Z.LK\\'QRQIO[\\\\L+&F_QX;\\'-9%I\\nMQ\\\\<UQ[_\\'Q\\\\=IAC6_:36_QX:_:6DUQVG\\'-37\\'Q\\\\<UQ\\\\?\\':;^_QRS\\'-1XUQWW\\'\\nMORPL\\'BPU\\'C5]-34>+\"PL-2Q]+,(L+%U]?;HL77U=7;*Z7;)=LG2ZNKITNEU=\\nM)KHF&B9=NB:ZNB:ZNAJZNB:R)AH:)AHF<AHF)AH:)K*RNKJZ&B8:)B:Z)K*Z\\nMNK(FLB9=7;HFPKJRNKHFNB8F)K)]NKJZ=\\'VZNEUT+\\'2Z77U]?7U==\"P(\"`@(\\nM\"`@(\"`@(\"`@(\"`@(\"`@(\"`@(\"`@(\"`@(\"`@(\"`@(\"`@(\"`AA86&0?]34U-0@\\nM?W]_R\\\\M+2TM+PY\"086%A86$``(03O(245EQ\\\\86%N;@)_?R`@(-0@?W]_\"`@(\\nM\"`@\"2TOPIIMA$9PG8%\\'U\\')R!5E:,8Z&!5I16X59\\\\,\\'PP7!Y]Q[\\\\UORPL\\'K\\\\L\\nM-2PUQWT>+,?\\'+\"S\\'+\"R_O\\\\<LQ[\\\\LQRS\\'QRS\\'ORQI+,<LOS7\\'ORS\\'Q\\\\<UQ\\\\?\\'\\nMOS6&D89IQ[^1:<?\\'Q\\\\?\\'+\\\\=ID792,S,SY>&;T`?-H8%65@$HH8Z;,#!C99NS\\nMK*Y#N;&Q[[8(\"`@(\"`@(\"`@(\"`@(\"`@(\"`@(\"`@(.MC*V)$Z.I$Z.CK*RD&1\\nM.LHZACJ102^1.CHZ.CK*:9&1.I%ID9$Z.CJ1.FDZ:2]IACK\\'D<?\\'O\\\\>1Q\\\\?\\'\\nMAK^1OVF1:;_\\'QVEIQVEI+&DL:35K;C9ND-#NZPWU%P$YY\\'\";LZ2JY4B;LYK.\\nM99M\\\\,)N;?\\'R;++\\\\>+![\\'?34U\\'@@(\"`@(\"`@(\"`@(\"`@(\"`@(\"`@(\"`@(\"`@(\\nM\"`@(\"`@(\"`@(\",=I:<>1Q\\\\>&QR^&AL>&AFDZ:6F1.I&1ACJ1.I$Z,RL11J:.\\nM$3-0H1?US#GDX9N:(FR-#+8=B$B;?%:?8/4(\"`@(\"!B.X=X-#2?ACAB.CHZ.\\nMCHZ.CKZ^OCL[.SX^0T-##+4,0T-#0T,^/IN^CHZ!@8&?H:&A#433:9&1Q\\\\=I\\nMQ[_\\'Q\\\\?\\':;\\\\U-<<L+\"PUQS4LQQXLORQ]\\'GTL+\"QT72Q=?;JZ\\'GUT\\'KJZ75VZ\\nM)K)=75VZNK)=?;)=)KI==\":Z?<+\"LEW\"NEVR771]?5UT\\'BRZ=![\"+%U]+%U]\\nM75U=+\"PL=\"P>ORPUO\\\\<LQRS\\'QVG\\'AL<UQVF1Q\\\\<OAL?\\':9&1:3HO.B\\\\ZD3K*\\nM.D%!RI$ZRLK*.CHZV-@Z<]A!<SIS.LIM<\\\\IS<Y;*RLK8V$\\'8RI;*EG.6RLK8\\nMEFUS.CK*RLISV,K*.LK*<]C*;3HZ.CK8RCHZRMC*.LHZRMB1V-C*+SHZD3J_\\nM\\'L<UORS\\'+#7\\'+,?\\':<=I+,<UQS5IQS4LQRQI:;\\\\U-<?\\'-89IO\\\\>&-6G\\'-34U\\nM:37\\'O\\\\=I++^_Q[\\\\LORPL\\'K\\\\L\\'K^_+\"PL+#4LOQXL?2PL\\'C5T\\'GTLPBPL\\'BQ]\\nM?;HL?7VZNBQ]?5VZ7;JR7;(F)GUT728F75U=7;JRNK(FNETF&KJZPK*ZNKJZ\\nMPB:ZNB:Z7;(:)B:ZNKJZNKJZNAI=)KI=&K*ZLKJRNG0F=+I=NKI=NKI=NEVZ\\nM?7VZ?70>\"`@(\"`@(\"`@(\"`@(\"`@(\"`@(\"`@(\"`@(\"`@(\"`@(\"`@(\"`@(\"`@(\\nM\"`@(\"`@K86&0?]34U-34U\"!_?\\\\M+2TM+PY\"086%A86$K`((3$X(W5E9<86&0\\nM;@(\"U\\'\\\\@(-0@?W]_\"`@(\"`@\"2V[PIIMA,YPGGU\\'U\\')R!5E9<4*&!5E96X9LP\\nMLWR:?!XL?2S\\'\\'BPL?2Q]++\\\\>+#4L-2PU+\\'T>++\\\\L+,>_+\"S\\'QRPLORS\\'Q[\\\\U\\nM:<=I+\"PLOS4LAC5IQX9ID89IQ[^1Q[^&:<?\\'D2\\\\ZQY\\'\\'+Y4S,Q%AY>&;T-G-\\nMH8%6!@$HH1A\\\\LS#.99N:\\\\8A#N;&G?K8(\"`@(\"`@(\"`@(\"`@(\"`@(\"`@(;=AS\\nMRD\\'*.LI!RLHZ.G/*V#HZ.MC*.M@Z.LK8+]@Z.LHO0<J1.LHZ.CHZ.LHORB\\\\Z\\nMAB]I:6DZ:4$Z.CHZ+Y%I:8;\\'+\\\\=ID2\\\\O:;]IQX;\\'Q\\\\<UOS5K;C9N;F\\'NG-[U\\nM]827Y.&;,+.JY7\";L[/.98Y\\\\?`I65ER;+#4L+,<>+`@(\"`@(\"`@(\"`@(\"`@(\\nM\"`@(\"`@(\"`@(\"`@(\"`@(\"`@(\"`@(\"#7\\'O\\\\>1:<>&:8:1QVDOQY&1+X8ZAB\\\\O\\nM.B\\\\O.D$Z+]C*$6$11H..,S-0H1?U8!SDX9N:(FR-#+9HB$B;?%R!S!<(\"`@(\\nM\"(Z.X2<-#2?A&(X8CHX8CHZ.CKZ^OCL[.SX^0T,,M0Q#0T-#0SX^.[Z;CHZ!\\nM@8&?H:&AH673QSHZQ\\\\=IOY%IQS7\\'Q\\\\<LORS\\'-<=]\\'BR_-2Q]+#4L?70L\\'KJZ\\nMPEVZ\\'EU]=+*Z7;HFNG3\"NEVZPETF)AH:LB;\"NKHF)K*Z)KJZNEVZNKJZ729=\\nM729=75VZPGU]LKJZ75U]?70L?5T>?5TU+\"PLOWTLQRPL-;_\\'+&G\\'QVDU-9\\'\\'\\nM+\\\\>&Q\\\\?\\'D88ZQVEI+VF&:88ORI&1D<HZ03K*02\\\\ZV,K8RMC*;<K*.MC8V#IM\\nM0=AM<\\\\K8;6TZ.LK*<]AMRLISV-C*.LK803HZV&TZV#HO.CK8+SHORM@ZRCK8\\nMRLK*D88O.D$ZRCK*ALI]+\\'TL+\\'TU+![\\'OWW\\'-<?\\'-34U++^_Q[\\\\LOS4L:<?\\'\\nMQ\\\\=IQ[\\\\L:6G\\'AC5I:;_\\'+,?\\'QS4L+\"S\\':6F_QS4UOS7\\'Q\\\\<>OS4L?2S\\'+\\'TL\\nMQRPL?7TL?2PL?7TU-7TLPC5=?7U]?7U]PKI=?2Q]7<)T?;JR=\":Z?;HFLETF\\nM7;JZ7;*Z729=LAH:75W\")EU=&K+\"7;JR&KK\")KHF72:ZNK*Z)EU=75TF)G0F\\nMNKJZ7;JZNKI=)KI]?;JZ70@(\"`@(\"`@(\"`@(\"`@(\"`@(\"`@(\"`@(\"`@(\"`@(\\nM\"`@(\"`@(\"`@(\"`@(\"`@(\"`@(\"`@`86&02]34U-34U-34?W_+2TM+2TO#PY!A\\nM86$K`(03$[Q@E%9<86&02TL\"`M1_(\"#4(\\']_\"`@(\"`C42V[PIIMA,YSAGU\\'U\\nM\\'.OA5E:,4*&!5EQ<&)LPFK.:LRPL++_\\'?<=]?<=]?34LO[\\\\LQRPL+\"S\\'Q[\\\\L\\nMORS\\'++^_+,<LQRS\\'+\"QI-2R_-6EIQ\\\\>_AC5IQS7\\'AI%IQY%IAK]IQX;\\'+R_\\'\\nM:6DZQS,S,Q%AY7\";81$$H8Y65BLHH8Y\\\\FIK.1#ZD(MQ#N;&G?K8(\"`@(\"`@(\\nM\"`@(\"`@(\"`C8RMAMV$\\'*V-ASEG/*RCK*RG,ZV&W*07/8V\\'/*<W/8V#HZ;<HZ\\nMRMC*RG-M.FW*V#K8.LI!+R_8RCHOD<HO.CHZ+Y$Z+R_*.CII:9$OQSHZ:3HO\\nM+VG\\'Q\\\\?(`C9N;B7NG\"<7]78YG.$*?\\'Q&Y>&;?##.@XZ;7`I65@:.QRPL\"`@(\\nM\"`@(\"`@(\"`@(\"`@(\"`@(\"`@(\"`@(\"`@(\"`@(\"`@(\"`@(\"\"S\\':6DU-;^_AFF1\\nMAI&1:<=I:2_\\':6F1QX9I:9&1.I$Z.I%!$6$11H..,S-0H2?U%QR<X9N:(FR-\\nM#+:GW$B;?\\'R!E&`(\"`@(\"+Z.&\"<-#=[ACHZ.CAB.CHZ.CKZ^.SL[.SX^0T,,\\nMM0Q#0T-#0SX^F[Z;CHZ!@9^?H:&#H8/3:<>1QY\\'\\'AL<U+#4L:6DL-2P>++]]\\nMOWTU=!Y=+\\'U=NETL=+*ZNEVZ772Z)B8:7;*Z)KJZ&KHFNKH:7;HFNAH:&AH:\\nM<AHF728:&AJRLL*Z)EVZ)KI=LEVZ771=\\'KH>NBPL+!Y]PEU]-2Q=+\"PU?;_\\'\\nM\\'K_\\'QRPL-6G\\'++]I-<?\\'QX;\\':9\\'\\':<?\\':9&1QVEI06DZD3HZ:<J&RI\\'*D2^1\\nMV,HZRCHZRLI!V#HZV$$ZV-@Z;3K8RLIM.MC8RCHZ.CK8;=AMV#HOD2_8RB_*\\nM.B\\\\ZD<HZV,K*RLJ1RI\\'*.I\\'*.B\\\\ZAI&&+X8ZD3H>+\\'U=+\"Q]-5U]\\'C4U?;^_\\nMOWV_?2PL-34U+\"PLQ\\\\?\\'+\"PU-2PU-<?\\'+\"PLQ\\\\?\\'OVG\\'Q[_\\'+&G\\'Q\\\\<LQS5I\\nM-2S\\'+,?\\'++\\\\L-;_\\'+#4U?2PU?<<L-1XU-7U]-1XU-2QT77TL+#4>?2PL\\'KI]\\nM?7VZ771=++I]NGU]PGU==%W\")K)TNK+\"77U]?71T)G0F7<*Z?5VZ?28FNEVR\\nMNETF)B9])B8F?;HFNGTFNB:ZNKI]?;HFNET(\"`@(\"`@(\"`@(\"`@(\"`@(\"`@(\\nM\"`@(\"`@(\"`@(\"`@(\"`@(\"`@(\"`@(\"`@(\"`@(\"`@(\"`@(\"`@`86%A2]1_?W\\\\@\\nM(\"#4(\\']_RTM+2TM+2TO#86%A`(*\\\\$Q-@-U9<86&0PTO+RW]_?R`@(\"!_\"`@(\\nM\"`C4`F[PIH[0,YPGGU\\'U\\'.LG5E:,4*&.7\\'PP&)NSFIJLH\"PL-2PL+\\'U]?7TL\\nM?2R_+\\'V_-7U]+#5]-<<U+#5]OQ[\\'-7T>+,>_QRPL+\"S\\'-37\\'Q\\\\?\\'Q\\\\?\\'OS7\\'\\nMQ\\\\>_QVF1D<?\\':2^1+SIIQP@(\"#,K$1%AY7\";81$$@XY<7\"O-@XY\\\\FIK.1#Z(\\nM(MQ#N;&Q?K8(\"`@(\"`@(\"`@(\"\\'-S<\\\\K*V\\',\\\\<SQMV-@\\\\;3S8EG/8/,J6EI8\\\\\\nMRG-S<Y;8RLIMRMAS<W-SV#S8V-AS;7.6<]A!RLIS;3HZ<]@ZRCK*.CK*RLK*\\nM.LHZ.I$ZRI\\'*.LJ&+Y%!03HZ.FG(U&L\";DNCY:$7];PYG\">!5ER7Y>&.7\\'QC\\nM@XY65@H*E#<*\"`@(\"`@(\"`@(\"`@(\"`@(\"`@(\"`@(\"`@(\"`@(\"`@(\"`@(\"`@(\\nMQ[\\\\L+,<L:2QIQVF1OS61Q[^_O\\\\?\\'+R\\\\OD<?\\'QR\\\\Z+Y%I.FDZRI$ZD&$1EX/A\\nM,S-CH9]1%QR<X9N:(FR-#+:Q(DB;LS#65@H(\"`@(\"+Z.&(\\'>#=[A@8&.CHZ.\\nMCHZ.CKZ^.SL[.SX^0T,,M0Q#0T-#H#X[.YN.CHZ!@9^?H0V#H:$N:6G\\'QVG\\'\\nM:37\\'QS6_QRP>+#6_++\\\\L-2Q]+\"PLPBPL=\"RZ?7VZ7<*ZLB9=75U=75TFPB;\"\\nMNAHF72:Z)B8FNAHFNKHF)L*Z)KJZNKJRPB8F&L(FLKHF=+I==\\'U=NKIT?7VZ\\nM\\'BQ=72PL?5U]?7TL-2P>QS7\\'+\"R_:35I+,=IQ\\\\<UAK^1D;\\\\OQX;\\'Q\\\\=IQY%I\\nM.I$ZAI&1.I&1ACHORLHZ0<J1RM@ZD3HZ+Y$ZD2\\\\O.M@OV\"_8.CJ1.B^1V-B1\\nMV#K8.LJ1+\\\\HO.I$ZD<J1.B_*RH8ZD<K*.LHZ.H;*.CJ1.I$ZD4$Z.B^&.FD>\\nM75U=?;ITNEU=+\\'1=+\"Q=-2P>+\"Q]QRQ]+#4L+\"PLO\\\\<UO\\\\<LQS7\\'Q\\\\?\\'-6G\\'\\nM+\"PLQS6_QRS\\'QVDUORPU-<<LO\\\\<U-;_\\'++\\\\LQS7\\'-34L+!Y]QS4L?2PL+\\'U]\\nMQWTL+%TU?35T+#5]+%TL+\\'T>+\"Q]\\'GU=+\\'U=72P>NKJZ?72Z\\'GT>\\'BRZNKI]\\nM77U])KI]NGU]NK*ZNKHFNEVZ?;I=?;)TLL)=?;JZ=\"9T?;IT\"`@(\"`@(\"`@(\\nM\"`@(\"`@(\"`@(\"`@(\"`@(\"`@(\"`@(\"`@(\"`@(\"`@(\"`@(\"`@(\"`@(\"`@(\"`@(\\nM\"`@(\"`B\"86%A2U=75U=75]34U,C4R,O+?W]_?\\\\M+D&%A*P\"\"O!,7-U9<86&0\\nMPTM+2\\\\O+?W\\\\@U\"!_\"`@(-<?4?V[PIH[0,^LG%U\\'U\\'.LGE%:,4*&.7#`P&\\'RS\\nMFF3QKBPUOWTU+!XU=+\\\\>ORQ]+\"PL\\'BPL+\"PU-7U]+,<L?;\\\\L\\'C6_Q\\\\?\\'+\"S\\'\\nM+#4L+#4L+#5IQ[_\\'QRR_AC6_QS4U-<>1OY\\'\\'\"`@(\"`@(\"!%A$1%AY7\";81$_\\nM@XY\\\\,-`$IKZS9*S.2J#<\\'=Q#N;&Q?K8(\"`@(\"`@(<\\\\J6<\\\\H\\\\<Y;*/#S8<W-S\\nM1=@\\\\V&UM;45M<T5MECQS;3Q%/#QMV-AS<T78/\\'.6/#Q%/\\',\\\\;7-S<W-SV#S8\\nMRG/*RG/8RG-MV&W*RLK*V$$ZRCK8.B\\\\Z.MC*RCHZV)\\'8D3K4U`EK-FXVY:$7\\nM];P<Z]Z?E%8YG*&.5EQCH8Y65H&?S,R!\"`@(\"`@(\"`@(\"`@(\"`@(\"`@(\"`@(\\nM\"`@(\"`@(\"`@(\"`@(:<<U-36_:34U:36_D8;\\':<?\\'-9%IQ\\\\=I:9%I.FG\\'+Y\\'\\'\\nM.H9I.B\\\\ZAH:1D&$1[H/A,S-CH9\\\\7%QR<X9N:(@5*0[E^N;X^FK/67%8(\"`@(\\nM\"#N^&!@G#0TGX>&!CHZ.CHZ.CKX[.SL^/CY#0T,,M0RU0R$ATTI(2&7AH:\\'D\\nMG)R<G`V#@YS3.I&1:;]IQ[\\\\UQVDLQRPLOS7\\'?7T>?1Z_+\"QT75T>=%U]NAZZ\\nM7;K\"?5UTLEVZ)EU==%VZ7;HFNKI=)L)=NB:RLL*ZNB:Z=\":ZPB8FPGTF)B9]\\nM?;I]NEU]71ZZ+\"PL\\'BPL\\'G0U770U\\'AXL+\"PUQRP>-;_\\'+,?\\':34UORQIAH;\\'\\nMQ[^_D9\\'\\'QR_\\'QR\\\\ZD2^1D2\\\\Z.FF103HO+Y$Z:9%ID9&&.H;*.B\\\\ORLHZRCHZ\\nMRLK*RCK*.B^1.I$O.B\\\\OD2\\\\ZD3HZRLHZ.LJ1RCHOD3J1RB\\\\ZD9&&.CK*RCHZ\\nM.CI!.H:1.H9I.B]I02^Z7;I]NL*Z?;K\"NG1=NBRZNBP>771]=!X>=\\'TU\\'C5T\\nM\\'BPU?1Z_-;^_-;\\\\U+,?\\'QQ[\\'-<<UQRPLO[\\\\L+,?\\'+\"PU+![\\'QQ[\\'\\'L>_+,<L\\nM?7TL+\"PLOWV_QS6_-1XUQS7\\'OS4L++\\\\LOWV_?1XU+\"PL=\\'TL\\'G1T+\\'TL+%U=\\nM?2Q=71Y=NG0L\\'KIT\\'G1]?7VZ\\'KI=\\'K*ZNL)=?;)]7;I]75U=7;I=)EVZ)EW\"\\nM7;((\"`@(\"`@(\"`@(\"`@(\"`@(\"`@(\"`@(\"`@(\"`@(\"`@(\"`@(\"`@(\"`@(\"`@(\\nM\"`@(\"`@(\"`@(\"`@(\"`@(\"`@(\"`B\"*V%A6UL4HE=75]34U-34R,C(R`(\"`FYN\\nM2R7N!UE9@A/U8%9<86&0PTM+2TM+RW]_(-0@\\'BR_+![4`F[PIHXK,^L-%U\\'U\\nM\\'.LGE%:,4*&.7#`P&\\'R:FJPBKBPU+\\'V_+\"PU-1Z_O[\\\\U+\\'U]+#5]-2P>?1Y]\\nM?7V_ORS\\'?7TL-2PU?35]\\'K\\\\L++\\\\U+\"S\\'-34U-<?\\':2S\\':<>&Q\\\\<(\"`@(\"`@(\\nM\"`@(\"!$ED)`EY7\";81$_IHY\\\\,&$$IKZDK/%-2D,B\\';E#N;&Q?K8(\"`C8<W-S\\nMRLK8/#QS<Y9MEG-SECP\\\\13QM<T4\\\\ECQM/$5%13S1/-&6T471ECQ%T7,\\\\T=%S\\nM<SQSEI9%T3P\\\\T6W1;99M/#R6199S;3P\\\\/-@\\\\V-ASRCS8;3S*0<K8;<K8;=AS\\nM.CHO;<K4\"<_4:P*JY>&?]1,<JPT78,PYZR>!5E9CH8%65H%@8%&?\"`@(\"`@(\\nM\"`@(\"`@(\"`@(\"`@(\"`@(\"`@(\"`@(\"`@(QVG\\'-6EIQVF_+#4U:34UD9\\'\\'OX;\\'\\nM+VF1D9$O:2^1:2_\\'.B^&D9%!:6F1.CJ1D!$1[H/A,S-CH9]1%QR<X9NS\\\\05*\\nM0[FQMCN@FIJ^,)L(\"`@(\"#L[OACA#0W>X8&!@8Z.CHZ.CA%$1$I*2M-*T],A\\nM(2XNX.`AT]-*2$A(2$1$966#@X.#@^O3.L=ID<=IQVEIQS5I:;\\\\LQ[]IORPL\\nM+!X>-35T+\"PU+\"PLPGU]7<*Z+%VZ77U=NEU=NKJZNKI=NEVZ?5U=LKJZ7;H>\\nMNEVZ?;K\"?1Y=?7W\"771]+%UT+\"PL72Q=-2Q]-2PL\\'G0U-34U\\'L?\\'OQX>OS7\\'\\nMQ\\\\>_:<<UOVEIQ\\\\>&D9%IQX;\\'QY\\'\\'D9&1D9$O:6G\\'+\\\\<Z:6F&RFDZ.B]I:9&1\\nMD2_*RCHZ.CHZ.LHORLJ&09\\'*RI$OD9$Z.CJ1+Y%!.LJ1+\\\\HO.LHZ:<K*.I\\'*\\nM:3J1:2^1.I&&RFG*D8:1RCJ1+SHO.LJ1.CHZRI\\'\"NB9=NB;\"NK)=NGVZ75U]\\nMLAX>?7VZ\\'BQ]+\"PLNBPL+\\'TL-7TL-2PU?2R_+\"PUOWTL-1XLOS4LO[\\\\U\\'K\\\\L\\nMQ[\\\\LQRS\\'++\\\\LQ\\\\<L\\'C7\\'O[\\\\LORPLOWTL?1X>?7TL+#4L-2PU+,<>\\'BP>-34>\\nM+#5]?5U]?1X>?2Q=77U]72PL=#6Z72Q]72PL=\"RZ75U]=\"QT\\'EVZNKJZ77VZ\\nMNBQ]77T>++IT?;I=\"`@(\"`@(\"`@(\"`@(\"`@(\"`@(\"`@(\"`@(\"`@(\"`@(\"`@(\\nM\"`@(\"`@(\"`@(\"`@(\"`@(\"`@(\"`@(\"`@(\"`@(\"`@(\"`@(\"`B\"*V%U=<!;%%=7\\nM5]3(U,C(R,@\"`FYN2TLE8=`\\'Y.2<JZMV`2LE)4MNJH\"`JJJJRW]_(-0@+\"PU\\nM?1[4?V[PIHXKE:L-]5\\'U\\'.LGE%964*&.?#`P&\\'R:K/$BB\\'W\\'\\'BR_?34U?2PU\\nM+!XU+#6_=!XU-7TL+\\'TU+\"PL\\'GU]+\\'TL-<<UOWW\\'+!XU\\'BPU-1XU+,<UQ\\\\?\\'\\nM-2PL-0@(\"`@(\"`@(\"`@(\"`@(\")`ED&XEY7\";89`_99NSFB4$ICNDK/%-2D,B\\nM\\';E#N;&Q?K9SRG/8RLISRCP\\\\<\\\\IMV#P\\\\/\\'-%1=AS198\\\\;45S/#P\\\\145S17/1\\nM<SQ%145%T3Q%EM$\\\\W=U%1=\\'=<]T\\\\<]T\\\\/\\'/1EMW=T7,\\\\13S1<W,\\\\T=%S199S\\nM/):6EI8\\\\V\\',\\\\/\\'/8V,K*/#IM<]C4U,_4\"<BJY>&!%Q,<JPWU46`<ZR>?5E9C\\nMH8$W-Y\\\\745$7\"`@(\"`@(\"`@(\"`@(\"`@(\"`@(\"`@(\"`@(\"`C\\'Q\\\\<L:37\\'Q\\\\?\\'\\nMO\\\\>_QS61OS5IOY\\'\\'D9&1O\\\\?\\'Q\\\\?\\'QY$Z+SII.I&1.LHZ.B]!.CHZD!$1[H/A\\nM,S-CH9]1]1SKX0HPF@5*0]QHMB&N(O$^FGP(\"`@(\"\"$[OABAZ^N<Y*&#97!E\\nM1$1*2DI$1$I*2DI$1*#Q(JY*M:=:N2XA(=/3TTI*2DI*2D1E9:M*+SK\\':2_\\'\\nMD<?\\'D<>1Q[_\\':<?\\'+&EI-;\\\\U-;^_QWTU?34L-2PU-7U]?2Q]+%T>?1Y]+\"Q=\\nMNGU]NEUT72PL\\'BPL+#4L?7T>?2PL-35]+\\'TL?70L-5U]+#5]?;^_+#6_?2P>\\nM+!X>+,?\\'OS7\\'QVDL:2S\\':88UQ\\\\<UOY\\'\\'D6F1D89IAFDO:<?\\'.L?\\'.FF1QR_\\'\\nMD9$ZQR^1.I$Z:9$Z+SK*:6F1RI$Z:6DO.I$ZD3HZ.CJ&ALHZ:88ZD2^1.FDZ\\nMD9&&.CHZD2\\\\ZD3HZ:3K*.H8OD<J1:88Z+Y%!D4&1:4$Z0<HZRI%ID3HZ.B\\\\F\\nM)K(F)ETFNEVZ)L)]7;JZLGU]7;I]=+)=?<+\"+%VZ72Q=?;I]+\"RZ+\"PL-5T>\\nM?34L\\'GT>?1XU+!XL+\"R_-1Z_\\'BP>ORQ]+\"PU\\'GTL?2Q]++\\\\>+\"QT?2Q]OS5]\\nM?2PL\\'BP>-2R_=\"PL?7TU?5TL+\\'U]+\\'1T+\\'U=-35T+!XL+%TL?2QT+%U=-5W\"\\nM77TL\\'GTLNKJZNG0>7;HL\\'KJZ77U]+`@(\"`@(\"`@(\"`@(\"`@(\"`@(\"`@(\"`@(\\nM\"`@(\"`@(\"`@(\"`@(\"`@(\"`@(\"`@(\"`@(\"`@(\"`@(\"`@(\"`@(\"`@(\"`@(\"`@(\\nM\"`@(\"`B$`\\'5UP,!;%!04HM34U,C(R,C(`F[#2\\\\,E80>!Y($WA!-V`0$K*]#0\\nM-JJJJJJJ%!2B5U=7\\'AXL+\"S4?V[PIHXK,ZL-]5\\'U\\'.LG5E:,4(..?#\"S2*\"L\\nM\\\\2(=B\"Q]QWT>?<<U?1XU?35]?7TU+!Z_?7U]?2PL-34U?7TU-70L-5TL+\\'TL\\nM+\"PLOS4LOQXL+\\'W\\'+!Y]\"`@(\"`@(\"`@(\"`@(\"`@(\"`@(\")\"0D&XEY4B;)9`_\\nM99NSFB4$93N:K/%-2D,B:+E#N7ZG?K;8RLIMRI;*<\\\\IS<W.6RLH\\\\/)9S<SP\\\\\\nM/#QS/\\'.6/\\'-SECP\\\\EM%S1=W=145%EMU%/-W=T44\\\\/-U%T7?=/-%WW44\\\\W=$\\\\\\nM1=W=W=\\'=W466W3Q%17,\\\\/$4\\\\/)9ST3QSECS8/):6<]@\\\\/#R`U,_4\"=2JY>&!\\nMGW8<JPWU]1<<J]Z?-S=0H2=@8-X74?7U\"`@(\"`@(\"`@(\"`@(\"`@(\"`@(\"`@(\\nM\"`@UD36&Q[^_AC5IQVEIQ\\\\=I-6G\\'QY%IQ[^_QVG\\'QY%IQX:&+VEI:3K\\'+SJ1\\nM.FDORFDZD4$O$1$1[H/A,S-0H9]1]1RK)X%\\\\FGE$.X@=N0R(\\'1U#K*0(\"`@(\\nM\"`B#H>OKH8.FIF5$2DI*2DIL(8C(Z4J@\\\\?&`2D,B(HC3M:=^N1!H:$,B.TI*\\nM2DI*2D1$9:M$RLJ&D3J1AB\\\\O:89I:<?\\'QVG\\'OY\\'\\'-;^_QY&_Q\\\\?\\'+&DL:;^_\\nMO\\\\<L++\\\\UQ\\\\<U+\"S\\'+#4LQ[_\\'Q[]]-;_\\'+\\'TL+\"PUQRR_?<<UORPLQ\\\\<>ORPL\\nM-<<U-37\\'Q\\\\?\\'-6DU+,>_:8;\\'QVEI:<>1:89IQ\\\\<UD;^_:6G\\'QY&1:6DO:6DO\\nM:3J&.L>1:<<ZQVDZD6G\\'D2^1:89ID<=I.L>1.CHZ+VG*AFF106DZ:6F1.B^1\\nM:3IID2\\\\OAFDZ:9%I:9$Z+R\\\\ZACJ&RCHZ+Y$ZD8:1.I$Z.B^1D<HZALJ1+SHZ\\nM.CHZRI\\'*.LK*.LHOV-@F&ETF&KHFNEVZNB8FPKJZ728F=+HFNKJZNGVZ7;I]\\nMNGU=NBQ=PL*Z77T>++I]PAY=NGU]?71]PBQ=?5UT+\"Q]734L+!Y=734>-2PU\\nM\\'BPL77UT+\"Q]+\"PU+#4L72Q]\\'BPU+\\'0L=#5]-7U]?34>+!Y]-7U]\\'BQ==\"QT\\nM+\\'U=?<(L77UTPBQ]+%TL?2Q=+%VZNBS\"?7U]+\\'U=\\'ET(\"`@(\"`@(\"`@(\"`@(\\nM\"`@(\"`@(\"`@(\"`@(\"`@(\"`@(\"`@(\"`@(\"`@(\"`@(\"`@(\"`@(\"`@(\"`@(\"`@(\\nM\"`@(\"`@(\"`@(\"`@(\"`@(\"`@(\"`B\"GG5U.,#`6UL4%,C(U-34R`(\";DO#2\\\\.0\\nM8=\"!Y)_,A!-2`2LK`0$![NY&HZHVP,!;6RPU-2PU\\'L?4`F[P98XK,^L-%U\\'U\\nM\\'.OA5E9<4(..?#\":OJ3Q(B(=B\\'TU\\'GV_O\\\\<U+\"R_ORQ]?;]]\\'AYT\\'BQT735]\\nM7;\\\\L=\\'TL77TU+!X>71YT?1XL=%T>?70U+\\'T(\"`@(\"`@(\"`@(\"`@(\"`@(\"`@(\\nM\"`@(\"&Z0;FXEY4@^2Y!Y1)NSFDL$93N:\\\\2)-2D,B:+E#MGZG?K;*.MC8.CIS\\nMRFW80=C8V);8RCS*/#QS<T5%<T5%<W-S/#QST7,\\\\W=W=/-$\\\\/-\\'=1=U%/#P\\\\\\nMT=W1/\\'?=/$5W/-W1T=T\\\\=]\\'1/-UW1=%%/#S=T=W=1=T\\\\147=EM$\\\\/-$\\\\EG.6\\nM198\\\\/#RJU`G4\"=2JY7\".E(0<ZPWU]?4<JPT78&\"K#1=14?474?7U\"`@(\"`@(\\nM\"`@(\"`@(\"`@(\"`@(\"`B1OR_\\':9%IQS5ID6F&-<=I-<=IAK^1-<?\\'D<>1AB^&\\nM:9$O+\\\\>1:9$O+SK\\'QY&&:6DZ:6DZD88Z$1$1[H/A,S-CH9]@]1RKWH%6,\\'FF\\nM.Z3QW`P0L;%#(JX(\"`@(\"`@(\")RA@X.FIF5$2$@V-C9L(8C(Z4J@(B*`1\"$B\\nM(HC3M:=^N;4=\\'4,B(=/32DI$98.AZ^M$D3J1.I$Z.I&&:2\\\\Z.D&&D6DZ.L?\\'\\nMD2\\\\Z:<>1D<<ZQY\\'\\'+\\\\>1:<>1QY$OQY\\'\\'QS61Q\\\\=I-6F_D6G\\'-<?\\'D<=I:9\\'\\'\\nM:<?\\'AI%IOS61Q\\\\>_Q\\\\?\\'D<>_D9&&:<>_D<?\\'Q[\\\\OQ\\\\?\\'Q[^&:<?\\'Q\\\\>1Q\\\\>&\\nMQ\\\\>1:6DO.L>1AFDZAH9I.FEI.L<Z:9$Z.CJ108:1.FEID9%I.H8Z:3J1.I$O\\nMQX:&.CHZ+SK*+SJ1:<J1:9%ID6F1D9&1D4%!RLJ&.CJ1D9&1:<HZRB\\\\ZAI\\'*\\nM.CK*RI$OD<HZ.LJ1D2\\\\ZD<K*+R_*+]C8D4$O.B^Z)KJZ&KHF&AH:)KH:NAJZ\\nM72;\"75VZ7<*ZPKJZNKHF)K)=NG2ZPEUTNGVZNEVZ\\'K)]LGU]77U=NKI]=\\'U=\\nM72Q=\\'BQ]?7VZNBQ]NG1=PGVZ72Q]-5UT\\'BQ=75TL+!XL77U]+\"PL-7TL+#4U\\nM+#4L?5TU77U]?71=\\'C5=?5U=+#5T-5TU72Q]PGUT?7VZ77TL=\\'1TPAZZ\"`@(\\nM\"`@(\"`@(\"`@(\"`@(\"`@(\"`@(\"`@(\"`@(\"`@(\"`@(\"`@(\"`@(\"`@(\"`@(\"`@(\\nM\"`@(\"`@(\"`@(\"`@(\"`@(\"`@(\"`@(\"`@(\"`@(\"`@(\"`@(\"`AXGIYU=3C`6Q04\\nM5\\\\C4U-34?VX\";FY+2VZ0)=\"!Y)_,=A-V@BLK`0%V61P<4AQ9>)ZI-2PUO\\\\<L\\nM+#74?P+P99O0,^O>%U\\'U\\')SA5EPP8X.;?+.:OJ[Q\\'2)H(L<L+#4LQ[\\\\L-2PU\\nMOS4U+#4L-34U-;\\\\U-7TU72Q]-34L+\"PL\\'ETL75U]+%TL+\"Q]P@@(\"`@(\"`@(\\nM\"`@(\"`@(\"`@(\"`@(\"`@(\"`@(\"-F0;FZ0Y4@^2VYY1)NS9$L$93N:\\\\2)-2D,B\\nM:+D,MGZV?KDZ.I&1.LHZ+R_*RMC8.LHZ;<IMV#S8;<H\\\\V)9S;3QS/#QM;=\\'1\\nM<W-%/#QSECQ%ED5%1=U%145%T7?1T=W1T44\\\\1=W=W3QW13S1T3S=1=U%/-W=\\nMT44\\\\T=T\\\\W=W=/#Q%W44\\\\/#Q%13RJ:PG4\"=2`31B;5@$YZ]X74?4<JPT745&K\\nMZ_7U]?4745\\'U\"`@(\"`@(\"`@(\"`@(\"`@(\",>&QSHZ:9\\'\\':9&1OY&&D<>1QVG\\'\\nM:<>&:6EID9&_:6G\\'D6F&+Y%IAB^1:6DO.B_\\':3J103HOD9$Z:6EI$3,S[H/A\\nM,S-CH8%@]7:K#9]6?`2FOK.:KB&(\\'6BU\\'8@(\"`@(\"`@(\"`B#941$1$IKJJHV\\nM-C9LTXC(Z4I#(AWJZ$,=\\'=S3#*>QB(@=:$,=.Z:#H9SKG*&#IF5$.LHZ.CHZ\\nMV#K8V,K8RI&1D3K*D=B1+T$ORH8O.B\\\\ORH8ZD4$ZD2]I.CHZ.CJ&.FF1D2\\\\O\\nMQR\\\\O.I%!.FDZAFDZ.CII:6DZ.CII.B^1D9$O.CHZD2]ID3J&D2\\\\Z+VDZQY$Z\\nM+X8Z.FEIAL<Z.CHOD2^&AD$OAI%ID2\\\\Z.FDZ.FEI+SK*D9$Z:3J1.I%!.CK*\\nM.FDZ.CHO.FEID6DZD9&1RFF1:<<Z+SHOD6DZ.H9I.FDZ.CII:2^1:3K*.I$Z\\nM.H8O.CHO.I&1.CJ1+\\\\HZ02\\\\ORI&1.I\\'*D=@ZRB\\\\Z.CK*+\\\\K8V-AMV,IMRCJR\\nMNAH:PAJZNKJZ&AH:NK)=75TF)B8FNAJRLEVZ7;JR)B:ZLETF)AK\"729=729]\\nM7;JR)KIT)EU]LGVZ=+K\"LGUTLGUTNL)]75U]PGVZNAZZ?7TL++HL?71]?7U]\\nM7;I=77TL++I=++HL++K\"?;IT72Q]PEUT+\"Q=NBQT+\\'W\"+\"PL72P>?2QT+\\'TL\\nM=\\'U]?1Y=?0@(\"`@(\"`@(\"`@(\"`@(\"`@(\"`@(\"`@(\"`@(\"`@(\"`@(\"`@(\"`@(\\nM\"`@(\"`@(\"`@(\"`@(\"`@(\"`@(\"`@(\"`@(\"`@(\"`@(\"`@(\"`@(\"`@(\"`@(\"`@(\\nM\"`@(\"`@(\"`@(=74XP%M;%\\'_4U-34`G\\\\\";@)N;FZ0)1&!Y)\\\\W=A.\\\\=E*5=G9V\\nMJJJJHT;NGGB_-2PLORPLQ\\\\?4U`+I1)O0,YPG%U\\'U\\')P87#`P8X.;,#\":OJXB\\nM\\'1UH\\'<>_+,<L+\"R_ORR_Q[_\\'ORS\\'OWU]?1XU+\"Q]+!X>+\"PU7<)]?5T>72Q]\\nMPAZZ\"`@(\"`@(\"`@(\"`@(\"`@(\"`@(\"`@(\"`@(\"`@(\"`@(\")\"0;FZ0Y4@^2VYY\\nM1)NS9$L$93ND(B)-2D,=L;D,MGZY?KF1+\\\\<OQSHZ.FF&.CJ&.CK*+SIMRCK*\\nMRLIM<VT\\\\<W-S;6T\\\\/&T\\\\<SR6<SS1/$71/$4\\\\<W.6T47=/-\\'=13P\\\\T7=%T3Q%\\nM=W<\\\\147==W?=W=$\\\\T=\\'=W=W=W=\\'=W=W1199%W98\\\\/#Q%T=&J`@G4\"=2`34B;\\nM5BLYG\">?4?5VJPWU]?6KJ_7U]?7U]5$7\"`@(\"`@(\"`@(\"`@(\"#K\\':2]!+VDZ\\nM:2\\\\Z:3II.I%I+R]ID6F1.B^1:<>1D6G\\'QY$OAL<Z+SJ&.FG\\':9$ZQ\\\\>1:3II\\nM.CHZD6DZD2]I,S,S.:\\'A,S-CH8\\',]1RK#9]67`2#CGRSFCN@(AVU:-P(\"`@(\\nM\"`@(\"`@(95MNR,C/@(\"0D&X%TXC(Z4I#\\';\\'J7T,=:+DNM:>QB(@=\\'0P=(:&#\\nM@Z;8;3IS;<K8RG,ZV\\'-M;<I!<]C8.CK*.MASV#I!.FTZ.D\\'*.LHZ<\\\\K*.B_*\\nMV#HZRCK*V#K*RMC*V\"\\\\Z.CHZV,HZV#HOV#K8+\\\\K8+Y\\'8D<HZ0=@Z.CHZ+SJ1\\nMRLJ1.I&1.CK*D3HZRLHOV#HOD9$Z.CK*RLJ1:<HZRCJ&.CHZ.B^1RCJ1.B^&\\nMRFDO.CIID4$O.I&1D2\\\\ZRI%I06DO.FDO.B^1QY&1D6EI+\\\\>1:9$Z.I%IRB]I\\nM.CHZ:3HZ.CJ1.I&1+VEI.LHO.CHZ.LK*.CJ1.CK*.I$ZD9&1+SK8RLHZRB\\\\O\\nMV,HZ;<IM;4\\'*;<HZ.LI=71I=&L)=&AI=7;JZ&AJZ75TF&B8:NKJZ&K(:NL(F\\nMPKJZNB:ZNEVZNB:ZPL)=7;JZNKI=75VRNKHF7;I=NEU]LK*RNB:Z)GVZ?5W\"\\nM?;I]\\'KI]=+I=NKJZNGVZ=\"Q]NGVZNBRZ\\'EU=+%U=?1ZZ71XL77TLNETL+%VZ\\nM+\"S\"770>+\"PL\\'EU]NGU=770(\"`@(\"`@(\"`@(\"`@(\"`@(\"`@(\"`@(\"`@(\"`@(\\nM\"`@(\"`@(\"`@(\"`@(\"`@(\"`@(\"`@(\"`@(\"`@(\"`@(\"`@(\"`@(\"`@(\"`@(\"`@(\\nM\"`@(\"`@(\"`@(\"`@(\"`@(\"`@(\"`@(\"`@(\"`@(\"`@(\"\\'_4U-34?W\\\\\"`@)N;F[9\\nM)1&!H8$W=KP3O\\'9V$Q,3JJJJ-JHV+\"S\\'-2S\\'QRS\\'Q[_4U`+I1)MA,YPG%U\\'U\\nM\\'.2.?#\"S8V6;,#\":OJXB\\'1UH\\';_\\'-2S\\'+#7\\'Q\\\\<L-7V_+#4L\\'BPL++\\\\L-7TL\\nM-1XL77U]-2PL?7U]\\'@@(\"`@(\"`@(\"`@(\"`@(\"`@(\"`@(\"`@(\"`@(\"`@(\"`@(\\nM\"`@(\")\"0;FZ0Y4@^2VYY1)NSFDL$93ND(B)-2D,=L;:UMK&Y?KEI:37\\'-9%I\\nMQX;\\'+\\\\>1QY$Z:3J1D3HZRCHZRLK8.FW8;3ISRI9MRFT\\\\RLISV-@\\\\<VT\\\\/)8\\\\\\nM1=$\\\\19;1ECS=T3S=W=T\\\\T=W1W=T\\\\/-T\\\\W=W=W=W=/-T\\\\1=W=1=T\\\\W3S=1=T\\\\\\nM<]$\\\\T9:J`@G4\"=2`34B;7\"N7Y.&!S!<<JPWU]?6KJ_7U]?7U]5$G\"`@(\"`@(\\nM\"`@(D2_*+SHORD$Z.I$Z.H8OQVEI:9$O+SII:3HOQY$Z.L>1QVDO.FDZAFDZ\\nMQR^1QVDO+SII:6EIAFDZ.L>1.I%I:9$O,S.5.:\\'A,S/EX8XW]1RK#1=6!LVA\\nMCILP?+X^K\"*UL;D(\"`@(\"`@(\"`@ZV-A+PVXVJJJ0PP(%TZ[(Z4H,MN\\\\.C0RV\\nML;DNM;9HKJX=\\'4,=(=AMRLH\\\\<Y;*RG/8;<K*/\\'/*V,ISRLK*RMAS<Y9S<SQS\\nMEI;8V&USV\\'/*V,K8<W-MRFW*<SS8V#QS/\\'.6<\\\\J6<\\\\H\\\\RLIM<]C*RG-S;4%S\\nMRMAMRCIMRLIM.CK*<]C8<SHZV-C8RCK*RMC8V,K*+\\\\HO.CJ1+SK8+SJ1RCHO\\nMV$$Z.B\\\\ZD2\\\\Z.H8ZAB\\\\Z.B^1RFDZ:8:1.B^1:3HZRCK*.CHZ.H9IQVF1:3HZ\\nMAFDO.I$Z:3I!:2\\\\ZAI$Z.B]IACII.B^1ACK*+Y\\'*D2^1D3HZRCJ1.M@ZV#HO\\nMRLK*09\\'8V,J1.CHZ.MA!.CK8RLIM<SK*;<K8.MBZNAH:&B:ZPAJZNAJZNAJR\\nM&AJZLB8:&AH:)AJZ&KHF&KJRPKHF&B:ZNKJZ)B8FLB:ZNKH:&B;\"PKI=&KHF\\nMPKI=729TLEU=LK)=PETF)KI]7;JZ=+JRNGVZLB:RPEVZNK*Z7;I=PBS\"77VZ\\nM+\\'T>770>PKHL75T>++H>\\'ET>+\\'T>+\\'U=7;JZ\\'@@(\"`@(\"`@(\"`@(\"`@(\"`@(\\nM\"`@(\"`@(\"`@(\"`@(\"`@(\"`@(\"`@(\"`@(\"`@(\"`@(\"`@(\"`@(\"`@(\"`@(\"`@(\\nM\"`@(\"`@(\"`@(\"`@(\"`@(\"`@(\"`@(\"`@(\"`@(\"`@(\"`@(\"`@(\"`@(\"`@(\"`@(\\nM\"\\'_4U-0@R\"#4`@(\";FY+)1\\'6H8&4E79VO!.\\\\$[QVJJJJ-JHLO[\\\\UQQ[\\'QRPL\\nMQRS4U\\'_I1)MA,YPG%_7U.>2.?#\":SF6;L[.:OJ[Q\\'1UH\\'35IQRPL:2R_-;_\\'\\nMORS\\'-36_-1XU+,<L+#5T+\"PL-71T\\'GU]\"`@(\"`@(\"`@(\"`@(\"`@(\"`@(\"`@(\\nM\"`@(\"`@(\"`@(\"`@(\"`@(\"`@(\")`ED&X1Y4@^2VX_99NSFDL$93NN(AU-TXAH\\nM?K8,N6@=L;DU+\"R_?35]\\'C7\\'-;^_-;_\\'QY&_:6G\\'Q\\\\=I.CHZ:<I!+\\\\HZD9&1\\nMRLHZRCHZV-C8V,K8V#P\\\\V#S*V-C81=AM17-S/#P\\\\/#S113QS<SQS17,\\\\<]W=\\nM/#Q%T44\\\\/#Q%/-%S/-\\'1/\\'-%19:J`FO4\"=2`34@^?&&7Y.$*5F`<JPWU45&K\\nMJ_7U4?7U]?6?\"`@(\"`@(+SK8+SHZV\"\\\\ORI$ORCII+VF1+T%I+VDO+Y$Z.FF1\\nMD2]IQR^1ACII:6DOQVG\\'D3II.I%IQY%IAFEI+SJ1.CIID2\\\\O+R^1,X)V.:\\'A\\nM,S/EX8%6%QRK#1<W5LWDX59<7$B;FJP,?KD(\"`@(\"`B1+\\\\K*RM@Z;@()@(\"0\\nMPVX%2JX\"@-.UL7X.C0RG?K8N#&AHKJXB\\'4,=(<K8EFT\\\\<]B6/#R6;98\\\\/,H\\\\\\nM<]C8EFUS<W-S;=@\\\\<W/81=AS/#S817,\\\\/#P\\\\V$5S<T5MECP\\\\144\\\\/&W8V)9S\\nM/$5S/)8\\\\/#QMRMAM;=C*RG,\\\\<SQS;=ASRI9MRMC*<W-S.LIMRCISV$%SRD\\'*\\nMV-C*RLIM;3HZRD\\'*.MC802_*D3HOD<K*.CHZ.LJ1D2\\\\ORCI!ACK*+Y$OD6DZ\\nM:6EID88O.I&&.CK\\'.I$Z.B^1.FDZD3K\\'D6F1D<<O:9$ZD2\\\\Z+X8ZRH:&.CHZ\\nM.CJ&.LJ&D2^109%!.MC*+\\\\K*+SK*.CHZV\"]!V,ISRG-M.LK*.MA!RFUS.LI=\\nMNKJZ)L*Z&KH:LK*RNAJR)AHFNKHF<G(:LKJZ<B8FNAIRNKJZ<B8:NK*ZNAHF\\nMNK(:NKJZNKH:<KHF&AHFNAJZNET:LK)=NAI=NET:)EVRLB9=&B8:)KK\"NEVZ\\nM)GVZ=+JRNKI]NKH>7;JZPGVZNKITNGU=PL(>?1Y=?1YT=!Y]77T(\"`@(\"`@(\\nM\"`@(\"`@(\"`@(\"`@(\"`@(\"`@(\"`@(\"`@(\"`@(\"`@(\"`@(\"`@(\"`@(\"`@(\"`@(\\nM\"`@(\"`@(\"`@(\"`@(\"`@(\"`@(\"`@(\"`@(\"`@(\"`@(\"`@(\"`@(\"`@(\"`@(\"`@(\\nM\"`@(\"`@(\"`@(\"`@(\"\"#4(\"#4U-0@U\"#4?\\\\@\"`FYN2Q$DH8%6,U*\"=A,3@G9V\\nM.T-#M4-#0SL,QRR_-34LQRS4U`+I1)MA,YPG%_51.>08?#\":SD2;FBUDOJ3Q\\nM(AUH\\'34L-;\\\\L-6DL++]I-2S\\'-2S\\'+\"PLQ[\\\\>+,<U?7TL+\\'T(\"`@(\"`@(\"`@(\\nM\"`@(\"`@(\"`@(\"`@(\"`@(\"`@(\"`@(\"`@(\"`@(\"`@(\"`@(\"!$ED&X1Y4@^2TL_\\nM99NSFDL$1#N((AT2TXBG?KE#(ATB:-S\"72RZ+%TL?2PU72PU+\"Q]O[]]?<<L\\nMO\\\\<U-34UO\\\\?\\'OX9ID8;\\'+Y$Z:3IID3J1RI\\'8.CK*;3K8.LIMV\\'-M<\\\\K*<W/8\\nMRI;8/&T\\\\/)8\\\\/$5%V#QS16T\\\\;7,\\\\V\\'.6ECS8/&US;7,\\\\;0BJ`FO4\"=2`33L^\\nMLV%&IAB;5C<<Z]X78%&KJ_7U]?7U]5&?\"`@(.LHZ06TOV-C*.I\\'*D9$ZRLK*\\nMRI$O.CII.LJ1.FF1.I$O:8:1+VF1:3HO:3K\\'D9$Z.B]I:2^1:9$O+SHOQY%I\\nMAI$OQR\\\\ZD9$Z,X)V.:$G,S/EX8%6%QRK#1?,5BCDX5965AB;FF1#?KD(\"`C*\\nMD9\\'*R@A+D+,P?%96S&\"0PVX%2JX\"Z=.U?GX.C0RG?K8N#&AHKJXB\\'4,=(596\\nM,\\',\\\\/&T\\\\/#S8/#QS144\\\\145S/#Q%/&U%;=%%<T4\\\\<SP\\\\13Q%144\\\\<SQ%T471\\nM/)9S13QST3Q%/$5%T471<VU%<SQ%144\\\\/$4\\\\/$4\\\\17,\\\\EG,\\\\<VUS/)8\\\\/-C8\\nMV\\',\\\\<W,\\\\/)9SED%S<\\\\K*.G/*V,K*;=C8;3K*V$\\'8.CHZRCHO.MB1D9&1D<HZ\\nM:3HO.CJ1:4&1AFF106EI.H8Z.FDZD<<ZQ\\\\<OAI\\'\\':3HZ.CJ&D3I!Q\\\\>1.H8Z\\nM:2_*.I&1+\\\\J1RCJ1.I&1RCK*.LHZ.CHORMC*RB\\\\ZV-C8D<HZ.B]!.LHO.LK*\\nM;<K*RCHZ+\\\\HZ.CK*.CJZ71I=7<(FNB:Z&K(:&B:Z)B8:)B8F&AH:&B9R<G)R\\nM&G*Z)AH:&KIR<KIR&B8:&G*RNKJZLAH:)KIRNKH:NAJR&K(FLB:Z&KJR&L(F\\nM)K*ZNK(F)B:Z)ETF&ET:71JZ=+I=7;HF)KJRNL*ZNKHF?7W\"?7VZ\\'K)=NAX>\\nM?7TL\"`@(\"`@(\"`@(\"`@(\"`@(\"`@(\"`@(\"`@(\"`@(\"`@(\"`@(\"`@(\"`@(\"`@(\\nM\"`@(\"`@(\"`@(\"`@(\"`@(\"`@(\"`@(\"`@(\"`@(\"`@(\"`@(\"`@(\"`@(\"`@(\"`@(\\nM\"`@(\"`@(\"`@(\"`@(\"`@(\"`@(\"`@(\"`@(\"`@(\"\\'\\\\@U\\'_4U-34U-34(,C(?VY+\\nM2Y\";@X%6,P$`4G9V@E)2.T,,M4-#0R$,0T,L+\"PLQQX@U`)B1)MA*YS>%_51\\nM.>2.7#\"SSF6;FIIDOJ2L(AUH\\'<=IQS6_OS6_Q\\\\?\\'-34UORS\\'-<?\\'QRPUQ\\\\<U\\nM-0@(\"`@(\"`@(\"`@(\"`@(\"`@(\"`@(\"`@(\"`@(\"`@(\"`@(\"`@(\"`@(\"`@(\"`@(\\nM\"`@(\"!$1D&X1Y4@^2Y`_99NSFDL$1#Z(\\'6C!T[5^?KE#(B(B\\'8@FLKK\"PB:Z\\nM)KI==+K\")KJRNEVZ=\"PL?7TL+\\'U==+\\\\L-2Q]\\'L<UOS4L++^&Q[^&QX9I+\\\\<Z\\nMD<<Z.I%IRCK*.LK*.B\\\\ZRCK*+]C8RCK*.D\\'*.FUSRI;8<\\\\ISRLIS<Y:6;=B6\\nM\"`@(\"`BJ;FO4\"=2`P=.@I$NJIDB;7%8YZR>?S,RKZ_474?7U45$GRLHZRMC*\\nMV,I!.CK*+\\\\J1RM@ORCHZ.LJ&+Y%I:3J1.CI!.H8Z06F1QSII+Y$Z:9%I:9&1\\nM.I$Z:9$OQ\\\\?\\':8:1:<?\\'AFG\\'QVDZQY\\'\\',X1V\\')PGE3/EX8%6%QRK#1?,E\"CD\\nM)S=65G\";LYI#L;:1.B]IA@@(84MN;IJS,%96E#>0;FX%.Z[(@-.UIWX.C0QH\\nML;8N#+:QB*XB(D,=(59<,&W8V)8\\\\/)9MED5SED5SECQS/-%%T3Q%1=%%EG/1\\nM1=U%17,\\\\/-W1/\\'/1/-\\'113S1/$4\\\\1=%S/-W1ED66/#P\\\\T471/$4\\\\<Y;1EG-S\\nM<SQS/\\'-%13QSV&T\\\\;7-S;=ASV\\'/*<]AS/,K8V\\'/*V-AS<SIM+VU!RCHZRLK*\\nMRI\\'*.CJ1.I&&RB\\\\O.LHO.LII.CK*:2\\\\Z.L=ID3IID6DZ.CHZ.FG\\'D<<O.L>1\\nMD3HZ:3HO+R^&QSII.I$OD3HZRI$Z+Y$Z+Y&&RCK*RI&1V\"^1RI$ZV#J1RB_*\\nM.LHZRLK*.CK*RCK*+\\\\HO.D\\'*02_*RD\\'*+\\\\K8V,JR)AHFNB8:&G*Z)B9R<AH:\\nM&KH:NG*ZNAHFNK(:<G(:&G*Z&B8F<G*R<G(:NK)R&B9R<KH:LAIR&K)R<G*Z\\nM<G)RNKHF)B:R&G(F&B:ZNG*ZNKH:NB:ZNKH:&L+\"LEU==++\"NB8FNEVZ)G1T\\nMPL)=PK*Z75U=NGU=70@(\"`@(\"`@(\"`@(\"`@(\"`@(\"`@(\"`@(\"`@(\"`@(\"`@(\\nM\"`@(\"`@(\"`@(\"`@(\"`@(\"`@(\"`@(\"`@(\"`@(\"`@(\"`@(\"`@(\"`@(\"`@(\"`@(\\nM\"`@(\"`@(\"`@(\"`@(\"`@(\"`@(\"`@(\"`@(\"`@(\"`@(\"`@(\"`@(\"`@(\"`@(\"\\']_\\nM(\\'_4U-34U-34U-34R`)+2VX^@XY<,P$K`7:\\\\`)52.T,,#$-#0T-#(4,,.WTU\\nM?2Q_`@)B1)MA*YPG]?51.>2!5EPP8V6;FIIDOJ2L(B(=\\'6G\\'QY\\'\\'-8;\\'-<=I\\nM-;_\\'Q\\\\>_Q[_\\'ORPL\"`@(\"`@(\"`@(\"`@(\"`@(\"`@(\"`@(\"`@(\"`@(\"`@(\"`@(\\nM\"`@(\"`@(\"`@(\"`@(\"`@(\"+JRNF$1D)`1Y7`^2Y`_99NSFDL$1#NL\\'6C!T[6Q\\nML2(^K\"*L(JYR<B8F&B9RLB9R&G)R)KHFNKH:LAI=LAI=&KH:NKHF?7U=PGU]\\nM++I=?71=?2R_+\"PL-7TU?;_\\'OS7\\'QRQIQS61Q[]I+\\\\?\\'D2^1D9&1.B\\\\ZD3HZ\\nM.D$Z.CJ1.LJ1.LHZ\"`@(\"`@(\"`@V;FO4\"=3JP3NNKDNJIKY\\\\?%8YG\">!5I2K\\nM#1=@4?7U45\\'>.LIS.M@O;3HZ;<K8V\"\\\\ZRLHZD<K*V#HORCHZACK*RLJ1ACJ&\\nM+VE!.CHZ:88Z.B^1:8:1D<=IACK\\'AL=IQR]I:6G\\'Q[_\\'D;_\\'D;^1,U)V\\')S>\\nM=C/EH8$W%QRK#1?,E\"B<)S=65G\";LYI#L;:1QP@(\"`!A86%N;IJ:,%965E9N\\nM;FX%.Z[(@-.UIWX.TT,=L;8NM:>QB*XB(D,=.UPPFFUMV#P\\\\/\\',\\\\ECP\\\\<Y8\\\\\\nMV$5S/#QS<Y9%144\\\\/\\'.6<W,\\\\/-$\\\\T=T\\\\<SQS/-\\'=19;=T3S=1=$\\\\T9;=/#P\\\\\\nMED5%T=%%<Y9%/$5S<VV6ECQS/)8\\\\V\\'-MV&USRM@\\\\;3QM<]C*V&US;7-MV\\',Z\\nMV,K8RLK*RI$ZD3K8RB_*.LHZD6DOAH:1D9$Z:2^1D<?\\'.CHO.H:1:6DZD2_\\'\\nM:3IIACHZD2_\\'.L>1:9&1QY&1:3IID3J1D<<Z03II.CJ&.LHZD2^1.I&&ACJ1\\nMRH:1.I$Z.CK*D3HZD2^1RI\\'*+SHZRCK*.I$O.H8OAB_*0<K*.LI!D3HZ.D&Z\\n-------- End of part 3 of 14 --------\\n\\n\\n\\n'"
            ],
            "application/vnd.google.colaboratory.intrinsic+json": {
              "type": "string"
            }
          },
          "metadata": {},
          "execution_count": 228
        }
      ]
    },
    {
      "cell_type": "code",
      "source": [
        "TNG_train.data[1541]"
      ],
      "metadata": {
        "id": "34esZKSHobUB",
        "outputId": "b15b1dd4-f956-4bfa-dd9a-0cc25e3c7402",
        "colab": {
          "base_uri": "https://localhost:8080/",
          "height": 140
        }
      },
      "execution_count": 229,
      "outputs": [
        {
          "output_type": "execute_result",
          "data": {
            "text/plain": [
              "'\\n------------ Part 2 of 14 ------------\\nM0./CXT!)27M)X^-)X^/CBN/C24E[X^.*X^/CX^.*X^,RBN.*,HKC,GOC,N-[\\nMBC)[XS(R6\\'OC3C)[>XJ*,EA.BN>*>S+GBE@R6(KSYXKSBHI86$Y.Y^<R\\\\_-8\\nMY_/SYS*/CT[S\\\\X_S3N>/C^>/CX_S\\\\UA.Y_/SC_./C_-8C_./C_/GCX^/Y_./\\nM\\\\X_SCX^/\\\\_./C_/S\\\\_./\\\\X^/\\\\X^/CX_SCX^/C_./CX^/\\\\X^/C_./CX^/CX^/\\nM\\\\X^OC_./\\\\X^/C_./CX_SCX_S\\\\X^/\\\\_./CX^/\\\\X_SCX_SCX^/CX^/CX^/C_./\\nMCX^/CX_SCX^/C_./CX\\\\ORI&1RI$Z0<K*D2\\\\O.MC8.CK*.D$ZRCK*V#I!V,IM\\nM;<K*.CK*;3HZ0=C8V&UMV,K*RCHZ.MC8;7/*RG-!RCK8.LIS.FW8V#K*;3I!\\nM.LHZ.CHO+T$Z.CK*+SIMRCK8+T\\'*.CI!V,K*V#HOD9&1.CHO+SHZ08;*.CHZ\\nM:9$ZAI$Z+SHZAD$ORI$Z.B\\\\ZQR^&:6EIACK\\'D9&1+SHZQY&&D9&1:2^1:2_\\'\\nMAL<OQR_\\'D<>1QX;\\'D89IQ\\\\>1D;^&:<?\\'QY&&QY$U:6G\\'QVF1:<=I:89IAK_\\'\\nMQ\\\\?\\'Q\\\\?\\'QY&1O[^&QX:1AI\\'\\'QR^&+X;\\':2\\\\O:<=IQVG\\'AFG\\'D8:1D<=I.B^1\\nM:9%I+X8Z:6E!+X8ZRI$Z.LHOAH8Z.CHO+Y&109\\'8.CHZ.CK*+\\\\K8V,K*<\\\\K8\\nM<]C*<VW803IS<Y9S<\\\\K*;<IS/-C*/)9S<]AS/#QMV#R6V-AS;99S<Y:6/#P\\\\\\nM/$4\\\\ECQ%/\\'-ST3P\\\\/#Q%<SS1T3P\\\\<]\\'1ED66W=\\'1/#S=T471W=W1/#Q%/-W=\\nM13Q%W=U%13P\\\\T45%/-\\'=W=W11=W=W3QWW471W=U%=SS1/#P\\\\W=%%T3P\\\\13S1\\nMT=%%W45%1=W=W=T\\\\T=W=13Q%/-W=T=W=/$7113P\\\\T3P\\\\144\\\\EM%%W3Q%ED5%\\nM/-$\\\\T=U%/)9%/);1W3S=W3S1ED5%/-&6<SP\\\\13QSW99SEG/11471<SP\\\\144\\\\\\nM/#P\\\\/$5S/-%%/-%%1=$\\\\/$4\\\\/-&6<T4\\\\/#Q%/)9S/-$\\\\<SS1W7-SEM%S/);1\\nM/-%%T3QS1=&6W3S1EM%%1=%%1=W=T3S=/#Q%1=$\\\\W3R6W=W1/$71/$7=/-V6\\nMT=U%1=%%/-T\\\\W=\\'1/#S=W7?=W=W=144\\\\W=T\\\\W=W1W3Q%T4711=%W=W?==T7=\\nMA7=WT7=WA45WW=W=T7?=A86%W=U`W7=W=W?==W=`A85)=]UW27=)W85WA4!`\\nMX^-)=TE`XTF%285)24E)24!)2>/C2>-`24GC2>/CXTGCX^-[27OCX^.*XXKC\\nMBN/CX^.*BGN*BGOCBC).>WOCBN.*BHJ*BGN*,HHRBHJ*3DY[YTZ*YS).\\\\T[S\\nM6/.*\\\\S).BEB*BHKS\\\\TY8\\\\T[S3O/SCU@R3N>/3H_S\\\\_-83ECS3N>/\\\\_-.\\\\X]8\\nM\\\\X_S\\\\_./C_/S\\\\_/SCX^/6//S\\\\_/SY_./\\\\_./C_./CX^/C_./C_./C_/SC_./\\nMCX^/\\\\X_SCX^/CX^/\\\\_/S\\\\_./CX^/\\\\X^/CX^/CX^/CX^/CX_SC_./\\\\X^/\\\\X^/\\nMCX^/CX^/CX_S\\\\X_SCX^/\\\\X^/\\\\X_SC_./\\\\X^/CX\\\\ZRH8ZRLHORLHZ+SK8.MC8\\nM.D$ORB\\\\OV#HZRB]M.MC*.CIM.MC8V#K*V-@Z06W*.G/8.MAS;=@ZRCK*RMAS\\nM.CHZ.CHZ.LIS;=@Z.M@ZRCIM<\\\\K8<SHZRCK*.LHZV#K*.CK8.MC*RCHORCK*\\nMV#I!.CJ1V$\\'*RCHORCJ1.LK*D9\\'*.H8Z:9$Z.FEIRI$ZD9$OD9%I+X8OQVDZ\\nM.B\\\\Z.L<ZQVDZQ\\\\<O.L?\\'D6EIQ\\\\>1D2\\\\ZD2^1:6G\\'QY\\'\\'D<>1Q\\\\<OQ\\\\=ID<>1\\nMQY&&D<>_Q[^1Q\\\\?\\'QY\\'\\'Q\\\\=IQR]I:<>1+Y&1+Y&&QY$O:6EID<?\\'AFDOQ\\\\?\\'\\nMQY%I.CIID<=IQX:&Q\\\\<OD9$Z.H:1.H9IAI&1.CHZ04$Z.CJ&+X8ZD=C*D3HZ\\nMV#K8RCHZ.LK8.FW*03K8RG/8.D%!<W-SRMAM<\\\\H\\\\RG-M;<ISV\\',\\\\<W/8;3P\\\\\\nM/-AM/#P\\\\17-S<SQSED5%144\\\\<SP\\\\1=%%<W/113P\\\\/\\'/1/#QSW3S1/-$\\\\1=W1\\nMT=U%W471/-W=/-W1/$71T3P\\\\ECP\\\\13P\\\\1=W=T3Q%/#Q%/-$\\\\/-\\'1/-W=W471\\nMW3S=1=U%1=\\'=W=$\\\\W=U%1=\\'=14711=%%1=\\'1144\\\\/-\\'1/$5%W=\\'=T3P\\\\/-\\'=\\nMT3Q%W3R6/);=ECQ%/#S1/#P\\\\13R6/\\'/=/#P\\\\W9;=13R6/-T\\\\/-%%1=U%T45%\\nMW3P\\\\W3S1/#S1/)9%W45%144\\\\T7,\\\\ED66144\\\\13S1T3S1T98\\\\1=$\\\\/-%S/$5%\\nM/#S113P\\\\1=\\'=/#P\\\\/#S1ED66T=\\'=/#QS/#R6T471/$7=/$5%/\\'/=/#S=/$5%\\nM/-&6W=\\'=W45%T471T3S=T45%T3P\\\\W=W=W=W=1=W=W=%%/#S=1=T\\\\W7=W/-T\\\\\\nM145%/$7==]T\\\\/\\'=WT=U%=]%%1=W=W=U%1=UWW7>%T7>%=W>%=]\\'=0(5WA4EW\\nM=W=)W85W27=)0$G=285W=TEWA>-W24GC24!`XW=WA2-`285)0.-)XTGC>^/C\\nMXWM)XXI)X^-)>^.*28J*>TGC>^,RXWN*X^.*BD[C,GM[,DXRBN/CBHKC3C**\\nM,HJ*,E@R,HKGBDZ*6(I.BC)8BN?G,HI.BHI.,D[S6$Y.YUCSYT[SC^?S\\\\X_S\\nM\\\\UB/\\\\UA.CX]8\\\\TY8C^>/C_/GC^?S\\\\X_G\\\\^?SY_./\\\\X_S\\\\_/S\\\\_./\\\\X^/\\\\X^/\\nMCX_SC_./CX^/\\\\_/SCX_S\\\\X_SCX^/\\\\X_SCX^/CX_SCX^/CX^/CX^/CX^/CX^/\\nM\\\\_./\\\\X^/\\\\X^/CX^/C_./CX^/C_./CX^/\\\\X^/C_/SC_./\\\\_./CX^/CX^/C_,Z\\nM.B\\\\OD<HZ.CHZRCHZ.CK*V#HORCHZV#K*V#IM.LK8;3K8;=C*.MC*RCHZRLI!\\nM;6W*.G,Z.CK*RLHZ;3HZ.LHZRCHZRLK8V-C*V&W8.LIM.LHZRMAM.LK*+SHO\\nM.M@O;<HZRM@ZV\"\\\\Z+\\\\K*.MC*RD$Z+Y$Z02\\\\Z.I&1.LHZRLK*ALHO+VG*.I$Z\\nM.B\\\\OD3J&.FDOD88O:9$Z.CII:<<Z.I$OQ\\\\>&QR^1QVG\\'AL<O:2\\\\OD8:1D8:1\\nM+R]IQY\\'\\'AL>_D<<O.L?\\'QVEIO\\\\>1:6EI:<=IQ\\\\>&D2_\\'AL?\\':2_\\'Q\\\\=IQ\\\\>_\\nM:6G\\':6DOQ\\\\=IQX;\\'AFEID6G\\'+SHZQ\\\\=IQVG\\'+\\\\=IAFF&.CHZ:3HZD6EI:9&1\\nM.I$O.CJ1.LJ1+R^1D3J1+SJ1.M@Z+]@Z+]AM.CHZ0=C8V$\\'*.LK8V,K*V&W*\\nMV\\'.6;=ASRCP\\\\V-C8<W/*;3QS/#P\\\\V#P\\\\17,\\\\/#P\\\\/);8/\\'-%<W-%/#Q%145%\\nM/#P\\\\/$4\\\\/$4\\\\<SP\\\\13R6T7-%T3P\\\\/#S1W3Q%147=/-$\\\\T=U%/-\\'=W47=13S=\\nMW=W11=T\\\\/$7=W=W=144\\\\1=\\'=145%13S=T=\\'=W3S1W3P\\\\13P\\\\W=W113S1W=$\\\\\\nMT=$\\\\/-\\'1T=$\\\\144\\\\1=$\\\\/-\\'=T=$\\\\EMW11=\\'=W44\\\\T47=T3P\\\\147=T=T\\\\/#P\\\\\\nMW=W1EM$\\\\ECS1T=T\\\\/#Q%13S1/#P\\\\/-%%W3P\\\\W=T\\\\/#S117-%/-US/-W1T3S1\\nM145%W9;=T471W47=W47=<SQ%13P\\\\W7,\\\\T45%W=$\\\\/-$\\\\/-T\\\\198\\\\19;=W=%%\\nM/\\'/11471/#P\\\\T=W1T=$\\\\ED71/);1/#S=W3S=T3P\\\\W3S=/#S=/#R6145%/-W1\\nM/-%%/-W1W=\\'=W=%%=SQ%T=UW17?=147=W=\\'=1=%%145WT7?=W=UWT=&%W=V%\\nM=]\\'=W7?==]U`A7=W=T!W=T!WW7>%=T#=2=V%W4EWW7=WXTEW24#CXX5)=X7C\\nM0$E)=^/C2>-`2>/C24GC24E)24E`XTGC>XKC2>/C2>.*XXJ*X^/CX^.*>XJ*\\nMBC+C>^.*,N-[X^-[BHHR>^-[>S**BHJ*>XI.BDY.>XKG\\\\^=8YXJ*3E@RBN?G\\nM6/-.6$[G6%CS6#+SY^=.,O./\\\\_-86$Y.CX^/\\\\_./\\\\_./\\\\_/S\\\\X_SCX]8CX^/\\nM6//SCX^/CX_GCX^/C_./C_/SYX^/C_/GCX^/CX_SC_/SCX_SCX^/\\\\X_S\\\\X^/\\nM\\\\_./\\\\_/SC_./CX^/CX^/CX_SCX^/CX^/CX^/CX^/CX^/CX^/\\\\X^/CX^/\\\\X_S\\nM\\\\X^/C_./CX^/\\\\_./CX]!.I$ZD3HO.D$OV,J1.CK*RCI!D<HZ.CHZRCI!RFW*\\nM.M@Z+\\\\K8.MC8<SK*.LK8.CK*V-AM.D%S;<HZ<VUM;<K8.FW*06W8<\\\\IS<\\\\K*\\nMRCK*V&W8RM@ZRLK*.LHZ.LK8.CI!RLHZRLK*;<J1.I$ORCHZV\"_*RD\\'*.I\\'*\\nM+SK*D<HOD9$ZD2_*+VDZ.I$Z.B\\\\ORI$O.CK*.I&&.CHZ02]I:6DZ+Y&1+SJ1\\nMQY&1AI&&:6G\\'QR_\\':6F1.H8O:2_\\':3J&D2^1AFDZAH:1AL<OQ\\\\<OQR_\\'AB^&\\nMD<>&:2^&D<?\\'Q\\\\>1QVDO.FDO+SJ1QVEI:<=I:6G\\'D89IQX;\\'QY$Z+Y%I.I%I\\nM.H9I:3J1.FDZ:88O02^1.I$ZRLK*.B\\\\ZD9\\'*0<HZRLK*RMC8.M@Z.CIMRM@Z\\nMV#HZ<]@Z;3K8.G/*V-B6.LISRLK8V\\'/8;6T\\\\RCR6V-C8V\\'-M/#P\\\\V#R6<T5%\\nMV\\'-%<Y8\\\\<W.6/&US<SP\\\\13Q%T45SEI:6ED5%<T5S/$5S<SP\\\\13R6<Y;113Q%\\nM/-UST3P\\\\1=&6W=$\\\\W=U%/-T\\\\/-\\'11=%%/$4\\\\13Q%/-$\\\\W47=/#P\\\\W=T\\\\/-T\\\\\\nMT3S1W3P\\\\W=$\\\\/#P\\\\T3Q%13Q%/#P\\\\W44\\\\T3S=/);=/-$\\\\W=\\'=/#S=1=\\'1/$4\\\\\\nM1=W=1=%%/#P\\\\T3S=/#P\\\\1=W=/#S1/#P\\\\/$7113S=1=\\'=/$4\\\\/$71W=U%/-%%\\nM/$71W47=W=%%1=%%1=T\\\\W3S=147=/-W1W=T\\\\W=U%EMW=W3S=T=$\\\\W3S=W=T\\\\\\nM/#S=/$4\\\\/$4\\\\W3P\\\\13S1W=T\\\\/#Q%T98\\\\T3R6T471/-\\'1/-W=ECS=13S1EMT\\\\\\nMW=W11=\\'=/#S11=\\'1T47=/#S=W3S==SS=/-T\\\\13QW1=T\\\\=SP\\\\/-\\'==T5WW7=W\\nM=]$\\\\/-W==W?1=]W==]W=187==X7=0(4CW86%=W?=W85WA4F%=T!`=X5WA85)\\nM=TE`=TE)A4E)24\"%2>-`=TE)A87CA>-)X^/C0$GC24![27OC27OC27M[X^-)\\nM28J*X^/CBN/CBGOCBHJ*XS)[BN-.,C+CX^-.BDZ*BN.*XUA86%A8,C**6(I[\\nM,C).BC**\\\\U@R,EA83N>*,O/SY^?S\\\\S+G3C).,N=.,ECS6//SC_/G\\\\_-.\\\\T[S\\nM\\\\UCSC^=.YUCGC_/G\\\\X^/\\\\X_SC_/SY_/S\\\\_./\\\\X^/C^>/C_./CX^/\\\\X_SCX^/\\nMC_./CX^/CX^/\\\\X^/\\\\X^/CX^/\\\\X_SCX^/CX^/C_./C_./\\\\X_S\\\\_/SC_./CX^/\\nMCX^/CX_S\\\\_./C_./CX^/C_./CX_SCX^/CX_SCX\\\\ZD3HZ.CHZAB\\\\Z.LHZ+Y$Z\\nM+SHZV-@ZD2_*+SI!0=C*+]@ORLK*RCK8;<I!.CK8<SHZRFTZRFTZ;3K8RCIS\\nM<W-MRG-!V&W*V,HZV-AM0<K*<VTZ;3K*.MC*.LHZV#HZV,IM;<K8V$\\'*.MC8\\nMRLHZ.LK8D<HZ.CK8+SK*+SHZRCHO.I&1.I$Z.B\\\\O+R^1.CJ1+\\\\K*D3K*03II\\nM.LJ&AB]I:9$Z.H;\\'.CHZD9&1.I&1.FDZQX;\\'D9$ZAI$Z.FDOD<>1QSK\\'D<=I\\nMD<=ID<>&QY&1:3IIAL?\\'QY%I+\\\\=IACHOD6EI:3K\\'Q\\\\?\\'+SK\\'AFDOQ\\\\<OD2]I\\nMQVDZ.I$OD9$Z.FDZAI$ZD3J1.H:1:3HOD3HOAH;*D3HORLK*09&1+SJ1RLHZ\\nMD3K*RLK8V#K8.B\\\\ZRFW8V-@OV-C*<\\\\HZ07/8.CK*RMC*RMC8RD\\'8RLK*RFT\\\\\\nM<\\\\IMV#S8V&W8EG,\\\\/#P\\\\/$5S/-A%13P\\\\<W-M<T5M145ST7,\\\\/#Q%T3P\\\\<W,\\\\\\nM/$5S17-S1=\\'113Q%W3S1T44\\\\/#Q%/#S1/#P\\\\W=W=/-%%1=W1/$71EM\\'=ECP\\\\\\nMT3R6T=W1/-$\\\\T=W=/#Q%W=\\'=W4711=U%/$4\\\\W44\\\\W3P\\\\/#P\\\\145%147=/-T\\\\\\nMT3S1T=T\\\\/-W1/-W=W=\\'=W3Q%T=\\'1T=$\\\\W=W=W471T471W=W=W=$\\\\145%/-W=\\nM/$71147=/-$\\\\T3P\\\\/-T\\\\W3P\\\\T47=W=T\\\\/-W=W=T\\\\W47=T4711=$\\\\1=T\\\\/-W1\\nMT=W1W3S=W=U%147=147=147=T45%/#Q%W=W=T45%/#S=13S1T3S=/-\\'=EMU%\\nM/$4\\\\T3Q%/-T\\\\1=\\'=W=U%/-$\\\\/-T\\\\147=W45%145%W3P\\\\W=U%T=U%W45%/-$\\\\\\nMT=\\'=/-UW145%W=W=W7=W147=T3S==]U%1=W=W47==]UW=W=WA87=W7=WW=UW\\nMW=%`0$G=W=W=A2-`A4G==W=`24!)A85)=W=`27<C0\\'=W2>-W0.-`24!`24#C\\nMX^,C>TE)24GC24GCX^/CXTGC28I)28J*BHKC>^/CXWOCXWN*XT[CBC+C>S(R\\nM>XI8BC)83EB*BHHRBC)[BHI8>T[G3N>*YXHR,HJ*,D[G6.=8\\\\T[SY^=8BC+S\\nMY_/SYX_S6/-8C^?SYUCSY^>/\\\\_-8\\\\UCSYUB/6%B/6//S\\\\X^/CX^/CX_S\\\\X_S\\nMY_./\\\\X^/\\\\_/S\\\\^>/\\\\X^/CX^/CX_SC_/SCX^/CX_SC_/SC_./C_/S\\\\X_SC_./\\nMCX^/CX^/C_./CX^/C_/S\\\\X_SC_./C_./\\\\_./CX^/\\\\_/S\\\\X_SCX^/\\\\X_S\\\\X_*\\nMD9%!.B^1D3J1RI&1.I\\'*D3K8.CHZ.CHZV\"_8V#HZ.CHZRB_*03HO.LK8;3HZ\\nM.LK*.LK8.FW8.CK8RFW8RFW*RLK8RD\\'*;3K8;4\\'8RCHZV#K8V#K8RMA!.MA!\\nMV&TO;<HZV#IMRM@Z.M@ZRMC*.D\\'8RLK*RLHZ.D$ORLK*V,K*RCHO.CHZD88Z\\nM.H8ORCHO.H;*.I$O+Y$O03II:6DOD6EIACIIACHZ+SHZ.CII.B]ID2\\\\O:6DZ\\nMD6EI.H8ZAB]IQY$Z:9\\'\\'QVF1:2\\\\O.I$ZQX;\\'.CK\\'QR^1+SJ1.L<ZD6F1Q\\\\?\\'\\nMD<<Z:88Z:3J1QY$OAB\\\\Z:89I:<<Z+\\\\>1:9%ID3HZ.FF1AH9I.CHZRLHZRB_*\\nM.CHZ+R\\\\Z.CHZD2_*D2_*RLHZD<HZ.B_8RCHZ;<K8.CK*V#HZV$$Z;<K8.CHZ\\nM<SK*;<K*V\\'-SRMAMEG-M;=C*/&US/-C*ECP\\\\;3S8RCS8<VT\\\\17/8<]@\\\\/#Q%\\nM<SR6/\\'-S/\\',\\\\<SQ%/)8\\\\17,\\\\<W-S<VV613S1T7-%<T71144\\\\/#S1/$5%/#Q%\\nM1=T\\\\/-$\\\\T=T\\\\/#P\\\\EM%%13P\\\\<]&6W=\\'1ECR6T=$\\\\W=$\\\\147=1=&6W47=W99%\\nMT=$\\\\/-W=T3P\\\\W3Q%W47=13S=W=W=/#S=/-W=W47=W=\\'11=T\\\\T=\\'=W=U%W3S1\\nM147=/$5%W=\\'=W=W=1=T\\\\/-W=1=W=W45%W=T\\\\T=U%W44\\\\W=U%T=W1T=W=T471\\nM/#P\\\\/-W==]W=T3S1/#Q%W3QW145%T=%%1=U%1=\\'=/#S1T3P\\\\W=%%13P\\\\/#S1\\nMW3P\\\\/-T\\\\/#S=/-T\\\\W4711=T\\\\T3S1/-T\\\\/-W1145%/#S=/#P\\\\/$71W=\\'1W=U%\\nMT=\\'113S1T45%/$5%1=\\'=/-\\'=W=U%/$5%W=W=/$7==]T\\\\/\\'?=W471=]U%=T5%\\nM1=%WA=%WW7?==X71W87=T85`=W?=W=U`=W<CW86%A=W=24F%=X6%W4!W=TE)\\nM=W=WUX7C=^-)24\"%0$GCXTGCA>/CXT#CXTGC2>-)XWOCXTGCXTE[X^-[BGOC\\nM>^.*X^/CXXKC,C**>^.*BHKCBDZ*>XKC,C**XXHR3DZ*BGN*3C**6(I8YXI.\\nM\\\\TXR\\\\XKG6/-83N>*6(KSYUCG,O-83N?G\\\\X_S\\\\_-8\\\\TZ/CUCS6/-8YX^/YX_S\\nMYX_S\\\\X_S6/./C^?SY^>/C_/G\\\\X_G\\\\^?SY^?GCX_SCX_SC^>/C_./C_/S\\\\X_S\\nMCX_SYX_S\\\\X^/\\\\X_SCX_SC_./\\\\X_S\\\\X^/C_/G\\\\X_SCX_S\\\\X_SCX_S\\\\X^/CX_S\\nMC^>/\\\\X^/CX^/YX^/\\\\X\\\\Z:3HZACHO.FF1+VDZD3HO.B_*.CHZ.I\\'*+SJ1RI\\'*\\nM.CHZ.CHZV,K8.MC*+\\\\HZ.LHZ.MAMRD%M.LHZ<SK8V#K*V-C*V#HZV#IMRLHZ\\nMRLHZV#HZ.LHZ03K*.LHZ.D%!RMC*.CK*V-@ZRCHZV$\\'8RM@ZV\"\\\\Z.LHZV)$O\\nMV-C*02]!+R_*RCK*.B^1D9&&RLJ1AD$O+Y$O.CJ1.LJ1D6DOD88ZD3HZD3II\\nM:3HZACJ1D3K\\'D88OD9%IQY%IACII+SJ&D9%ID8:1Q\\\\>&ACJ&Q\\\\<O:9%I.L>1\\nMD6F&Q\\\\>&+SJ&QY%IAI&1+R_\\'QY%I.CK\\'.B]I.FEI.FDZ:<>1:<<OAH8ZQSJ1\\nM.CHZ:3J1:9&1ACHZD88ZD88O+R\\\\ZRCJ1+SJ1+Y$ZV#HZV#K*V,HZ03K*V,HZ\\nM.FTZRCHZ;=C8<\\\\HZV-C*.CK8;=C*RLISELIS.MAS<\\\\K8/\\'-SRG-SV\\'/*<Y8\\\\\\nM/\\'-S/#S*<SS8/&US/-AS;=C8ECP\\\\V\\'-S17,\\\\/$5M17,\\\\145%T3QS/#Q%/\\'-%\\nM/)9S<SP\\\\<]$\\\\13Q%/$71/$5%17,\\\\1=%%ECP\\\\1=$\\\\W44\\\\W9;=<SS1W3S1T=T\\\\\\nM/#Q%/)8\\\\EMT\\\\W=W=ECQ%W47=EI8\\\\/#S1145%/#P\\\\W45%W3P\\\\/#S=T3P\\\\T=U%\\nM/-T\\\\T=T\\\\W=W11=%%/-%WT=W1W3Q%T3S==W=%/-$\\\\W=%%W=%%/-UW13S=13P\\\\\\nM13S1T=U%W3S117=W=]\\'1/$7=1=U%/-%%=SS1W3S1147=17=%W=W==SS1W3S1\\nMT47==SS1=T7=1=W=13Q%W=%W1=W1/$4\\\\T47=1=U%1=\\'=W45%145%/$7=/$7=\\nMT3Q%W47=1=W=145%W=T\\\\/-\\'113P\\\\/$7=/#S1/\\'?=T3S1/-%%13S=T3S=/$7=\\nM1=\\'=147=W3Q%=]U%=]W1=W?1=T5%T7=%=W?1T87=W=UW=W=WA87==W?=W=U`\\nM=W?=A86%=W>%A7>%=TE)A4!`0..%A4E)0.-)27>%2>/CXT#CXTE`X^-)24GC\\nMXT\"*27M)X^/7X^-[>^-)XTGCBGLRBHKC>XHRX^,RX^,R,HI[>S)[BHHRBC(R\\nM,C(R>XJ*BC)[BDY.6$XRBO.*6/,R3C+GYS(R6%A8,N?G,EA86.=8,O/GYX]8\\nM3DY8\\\\^?S6//S\\\\_/S6.>/6(_GC^>/CX_S6.>/\\\\UB/\\\\X^/CX_GC_./\\\\X^/\\\\X_S\\nM\\\\_/SY^?SCX^/\\\\X^/CX^/C^>/CX^/C_/SC_./CX_SCX^/CX^/CX_SC_./\\\\X^/\\nMC_./CX_SCX^/CX^/CX_GC_/SCX^/\\\\_./\\\\X^/CX_\\':2_*:6F&08;*.B^1D3HZ\\nM.CHORI$O02\\\\ZV\"\\\\Z+SHO.MC*.LK*RLHZRM@ORLK*.FTZRLK*RD\\'*V,HZ<]C*\\nM.CIMRCK8RMC*;=C*V#HZV#K8RMC8.LK*RFTZ.MA!.CHZV,K8+]C*RCK*.B_8\\nMV,HZRLHORB_*RMC8D9\\'*.CK8RCJ1.CK8.LK*D9&1+\\\\J1D3HOD<J1.CK*D2\\\\Z\\nMRCJ1:3K*.LJ&RLHZRD%I:6EIAFEI+VF1.B]I:6G\\'Q\\\\<ZD<>1D2\\\\ZD6DZ:3II\\nMD6DOQY$O.CK\\'Q\\\\<ZACJ1D9$Z.CHOQVF1.I&1:2^1ACHZD3II+VDZ.FEID6DZ\\nM.I%I+R\\\\O:2]I.B]!:88ORCHO+SK*02\\\\ORD&&:2\\\\Z+\\\\HZRLJ1.LHZD3K8RCK*\\nM0<K8.CHO+SHZV,K*.CHZRCK8V-AMRLK8RFTZV-@ZV-C8RLIS;3K*.MC*;=C*\\nM<]A!V,K*EG-MV);*V#S*RFUS<\\\\H\\\\<Y8\\\\RLH\\\\V#S8ELIMV)9S1=AMV);8;=C8\\nM<SQMV-A%<SR6/#QMED4\\\\/#Q%ED66EFU%/$5S17-%1=$\\\\/$5%<W.6/-%%T3P\\\\\\nMT45%/\\',\\\\13R6ED7=/$5S<SR6T7,\\\\ED7=1=$\\\\W=\\'1T99S/-\\'11=W1W3S=T=V6\\nMW45%ECS=/$7=T3S=W=\\'1/$4\\\\1471W=T\\\\/-T\\\\/$7=1=W=/-\\'=W3Q%T=\\'=1=W=\\nMW7?1T7=%W=$\\\\T=T\\\\W=W1T471W47=17=WT=W=W7?=T7=%=W?1W=U%=]%WW=T\\\\\\nM1=U%W45WT=W==]UW=T7113Q%=]W1W=W1W7<\\\\=]W1W=%%/-$\\\\T3Q%T=$\\\\/-\\'=\\nMW=W=W471/-%%W=\\'1W=W11=%%=]W=1=W11=\\'1/$4\\\\/#P\\\\W45%1=W=13S1T=W1\\nM/$71W=W=/$7=T3S=T=U%=W=W/\\'?=/-\\'=W7=W17=W=]W1T=V%W=U%T47=W=W1\\nM1=%WW4!WA86%W=\\'=A4!WA=V%0$EW27=W=T!W24!W=X6%0\\'=W=^-)2>-)287C\\nM24E`X^.%0$GCXTE)XTE)X^-[28KC2>-)BHKCBN-)BDF*2>/CBN/C>XJ*XWN*\\nM>^/C,DXRBGOC3HJ*XXKCXUB*BDXRBGN*YS+G>S)86/-8\\\\S).\\\\_-.6(KG\\\\UA8\\nM,EA.\\\\T[S3D[S\\\\UCS\\\\^>/6/-.,DY8CX]8\\\\^?SYUCSYX_SCUB/C_/SCX^/6//S\\nM6//S\\\\X^/C^>/C_-8\\\\^>/\\\\_./CX_SCX_G\\\\_./\\\\^>/\\\\X^/CX^/\\\\X_SC_./C^>/\\nM\\\\_/GYX_S\\\\_./\\\\X_GCX^/\\\\X_SCX^/CX_GC_./\\\\X^/CX_GC_/G\\\\_./Y_./\\\\^<Z\\nM.CHZ+X:1D3IIAI$O:9&1:9&109$Z.H8Z+SHZD2\\\\Z+Y$ZV,HZ+SHO.CK8V\"_*\\nM.MB1RLK8V-C*V\"_8RCK*.LHOV,K*;=@ORFW*03K*RCK8RLHOV\"\\\\O03K*.LHZ\\nMV,K*RM@Z06TZRB_*V$\\'*.CHZ+]C*V,HZ.MB1RCK*.CK*.MC8RCI!RCHZ+R_*\\nMRI\\'*D<J103I!+SI!D3HZ.FDZ+SHZ+X;*:<HO:3HO.LII.FF&:6EI.H9ID9&1\\nM+VDZ.B\\\\Z.CII.FF&AB\\\\ZD3J1:3J1.H8ZAFEIAFDZ0<>1D6F1.L<ZD3IID6DZ\\nMD9\\'\\'D3HO:6F1+X8Z.B]IAFDZD3J&.CJ&.I$Z.H;*.B_*D8:&AH9IACK*+X:1\\nMACHZRLHORCJ1.LHORCK*RD\\'8+]@ZV-C8RLHO.LIMRB_*0=@ZV-@ZV-C8.CI!\\nM;6TZRFTZV,K*;4\\'*;<K80<K*V-@ZRLJ607/8;7-!ELH\\\\RI;*RLH\\\\<]B6V-AS\\nM<VT\\\\V,H\\\\;=@\\\\/-@\\\\V#QS<SS8/#QS<]AM;3Q%145%<]C8V$4\\\\V#R6;99M/\\'/1\\nM/#P\\\\16U%;=$\\\\<]$\\\\/#QSEG,\\\\<SR6T=%ST45%/-$\\\\/-$\\\\T47=1=US198\\\\/-U%\\nMEG/1<]\\'=/#QST3R6W=$\\\\1=T\\\\W44\\\\/#S=/-%%T=T\\\\147=T3S1/#P\\\\T44\\\\W=U%\\nMT471W=%W1=U%W=\\'1=T711=T\\\\=]W==]W=17?=W45%=W=WW=\\'=T47=13Q%=W?=\\nM145W=W=WW=W=W=%W=]%%=]UWW7=WW7=WW7=WT=UWW471T=W=W=UW=]UW/\\'=%\\nMW7<\\\\T=%%T47==SQWT=W1T=U%1=U%T3S=W3S=T=W=W=\\'=W7<\\\\T3S=W44\\\\W=\\'=\\nMW3Q%W3P\\\\=]W1/-W=147=T=U%W471T3Q%1=\\'=T=U%1=W=147=/-\\'1W=UW1=%W\\nMW3QW1=\\'=W=W=17?=1=W=T=W1W87=W=W1W=%WA=UW=W=W=X5WW=UW0\\'=W24!W\\nM=TE)=W=`=TE)0(7CX^.%=W=`0(7CA>-)X^/CX^/C0./C0./C2>/C>XI)XTE[\\nMBN/C>XKCXWOCX^.*BN.*XXJ*XXJ*BGM[,GN*BC+CXS**>TZ*6\\'M8BGM86%A.\\nMYTY.6#**BHI8\\\\UCS\\\\XJ*Y^=8\\\\^?SYT[G3DY.6.<R,H_G\\\\UA83O/G3H].3O/S\\nM3H_GY_-.\\\\X].YX_SY^?S\\\\X_SC_./6/-86%B/YX^/CX^/CX_S\\\\_-8C^?SCX^/\\nM\\\\^?S\\\\X_S\\\\_/G\\\\^>/CUB/\\\\_./CUB/C_./C^>/CX_S\\\\_./\\\\X_S\\\\X_S\\\\^>/\\\\_./\\nMC^?S\\\\_./CX_G\\\\X^/C^?\\'.B_\\'D<=I+SHZD3J&AI&1RB\\\\ZD<HORI$OAI&&.CJ1\\nM.CK*D3HZD2\\\\ZRB\\\\Z.B^1.CHO+SK*RM@Z.B_8RM@ZV,K*RB]MV#HZV,HZRM@Z\\nMV\"\\\\Z.B_8RFTZRCHZ.FU!V,HZRLHZ.LHZ04$ORCHO+SK8+\\\\I!RLI!02]!RCHZ\\nMD=C809$ZRLK*RLHZRI\\'*D<K8.D$ORLHZ.H:1RCK*RD$OD9&104&1.I$Z.LHO\\nM.I$O.B\\\\Z:3HOAI$ZAFF&.CJ103I!+Y$Z.CII.LHORFDZ.I$O+X9I:3HZ.CI!\\nMRFDZACHZ:9\\'*ACJ1D9$Z:2\\\\Z.I&1RCJ1.CHZ.B\\\\ZD9%I.H:1.FDZD3HZ03II\\nMACHZ.I%!RI&1RCHZD2^1D3I!+Y\\'*0=@ZD3K8+\\\\J1.MA!09\\'*+\\\\K8+]@ORCJ1\\nM+SHZRCK8RM@Z.CK803HZRLIS;<K8<SK8<\\\\HZRLHZ.M@Z.CK8<T%SRG/*RCK*\\nMRCISED$\\\\RCS8<T\\'*<\\\\IMRMC*<\\\\ISV#R6RFW8/#QS/\\'.6V#QS/-AS;3QM/):6\\nM<VT\\\\;6US<SP\\\\V#R6;44\\\\V$66/$5S/\\'-M/#Q%/&V6<W-%/#P\\\\/-$\\\\EG-%1471\\nMEM\\'1/#QS145%EG-S<SS=W471/#Q%/-\\'=W7-%13QS/-T\\\\/#S=/$4\\\\/-$\\\\W=$\\\\\\nM/-W=1=$\\\\=SS1T471W=%%/$7==]W1T=W=13S=/$5WT3Q%W3S=W=%WT=UW17?1\\nM145W=W=%=W=%W7=W=]U%W7?1W=&%T7?=W=U%=W=W=T71=T7=W=UWW=W=W7=%\\nMT7=WT=\\'=T7?=T7=%W=W1T7?113QW=T7==T5%T=\\'=W7=%1=\\'1147=T3S1=T7=\\nMW7?=W=$\\\\T3Q%W=%%13QWW=\\'=144\\\\/#S1T7?=W45%/#Q%T47=1471T=\\'==SQW\\nM/#QW/#S=W=W=T7?1W=W==W?=W=W1=]%WW45WT871A=W1A=W=W=V%0\\'=WW4#=\\nM0\\'?==T!)A7=)A4#==W<C=TE)=W>%XW?C285)27?C=^/C0.-`24E`2>.%2>-)\\nM(^-)2>/CX^/CX^/C>^-[X^.*>^/CX^-)X^/C28J*XXJ*XS+CXT[CXXI[>XJ*\\nMBN/CBHI.6#)[BN.*BEA[,C**>U@R,N<RYUA.3HJ*YTZ*3EA83O/SBO-8YS+S\\nM3N=8,C+S\\\\UA.,O-.Y^?G6$[SY^>/\\\\_-.6.?S3O./YX^/C_/G6.>/CTZ/\\\\^?G\\nM6(_GYUCS\\\\_/SC_/SC^>/YX^/\\\\_./CUCS\\\\^>/C_-86//G6(_S\\\\X]8\\\\X_G\\\\^?S\\nMC_./\\\\X^/\\\\^>/\\\\X^/CX]8CX_S\\\\UCSCX_GY_/GCX_\\'AL<ZQ\\\\>&:9\\'\\'QY&1QSK\\'\\nMD88Z:<HZ.FDZ+SII+R^1+SK*.CHO.D$O03HO.LJ1.B_*D4\\'*D3HZ+T%!D2\\\\Z\\nMD9\\'*D2_*+SK8RLHZ.B_*RCHZ09$O+SK*0<K*+\\\\HZ.I\\'*.MC8RLK8RCHOD<HO\\nM09\\'8RI\\'8RB\\\\Z.I%!.M@Z+Y\\'*+\\\\HZ.CHZD<K*D2\\\\ZRM@Z.MB&+SJ1+\\\\J1RLK*\\nM.H8Z+Y&1.LJ&.H:&.CK*:8:1:9\\'*.CJ1AH8ZD9$ZALJ1+Y$O.CHZACHO:3HZ\\nMRCJ1RB^1.CK*D3K*.FF1+SHZ.FDORFDO.FEI.LII:6G*.B\\\\ZD3HZ+\\\\IIRLK*\\nM.LHZ.I\\'*:8;*+R\\\\Z.CHZRI&&.CK*D<K*RB\\\\O.I\\'*RLHZ+Y&1V,J1.LHZ.LK8\\nMRLK*.LK8V#HZV-A!.CK*+SHO.CHZRCK8RCHZ;=A!V,I!;6W8V,K8V#HZRCI!\\nMRLI!.LK*.MC*;6W8V&U!<]C*RFW*<\\\\K8RLK*<VUSEG-S<VV6<\\\\K*<\\\\K*EFW*\\nM/&US/\\'/*<Y9M/,K*;3P\\\\RCP\\\\/-@\\\\RMAM<W-SV-C8/#P\\\\V-AS<VUS<SP\\\\V&UM\\nM/#P\\\\ED4\\\\/)8\\\\;=$\\\\145S/#S1EG,\\\\<]\\'1ECQS/$5%/#P\\\\<SQ%<]T\\\\T3Q%T3P\\\\\\nMW3S1W=$\\\\/#S=T=U%1=W=T3Q%T=$\\\\1=%%W3S=/-W=1=W1W=W1/#S=13S=W7=W\\nM=W=W/\\'=%W=W1=W?==T5%W7?1W7=%1=&%T471A=U%W85%W47=W=V%A=U%W7>%\\nMW45%=W?==W?11=W=A=W=W45%=]%WW7>%T=UW=W=%W45%T45%=]%%T7=W=]W=\\nMW=UWW7=%W=UWW=W==T5%/\\'=WT=\\'=W=W=T44\\\\/#S1/-%WT3S=W3P\\\\1=T\\\\T=W1\\nMT=T\\\\W3S=T3P\\\\/\\'?==SP\\\\13S=1=%WW=W=W=W=T3S=W=%%T=UW=]\\'1W7=W=W?=\\nMT7=WT=UW1871T86%W=W=A7?1W7?=0$G=27=W=X6%=W=W27=)=TE)0$EW=TF%\\nM285WXW>%2>-)0(7C287C2>/CX^/CXT!)2>/CXXKC24E[XXKCX^/CBDE[>WN*\\nM2>-[BHKCX^-[X^.*BHJ*>TY[>XHRBC).,HKC>XI83GM[6$Z*,GM.BHI.,DY8\\nMBE@R3HI.YXKG3N>*3D[S\\\\^?S\\\\T[S\\\\TY8YT[S3O/S,O-8C_-8YX_S\\\\_-.6/./\\nM\\\\UCS6$Y8\\\\_/GC_/S3ECG\\\\UA8YUCG6%CS\\\\UCGCT[SYUCG6//G\\\\_-.CX_SC_-.\\nM6/-8CUB/\\\\X^/6%B/\\\\UA86.=8CX^/CUA86/./\\\\_-8CUB/C^?S\\\\_./\\\\_/SYX_\\'\\nMAB_\\'QR_\\':9$OQSII:3IIAI%I+R^1:8:1AI$O.CK*.I&&.FDZD3HZACHZD<HZ\\nM.CJ1.B\\\\ZRCK*RCHZD=B10=B1RLJ1V,J1RB^1.LK*RMC8+SK*D3K*RCHZ.I$Z\\nM.MC*0<J1RB_8.LK*V,HZ.B\\\\Z.LK*.I$Z.CJ1.MC*RCK8.LK*.LHZRI\\'*RM@Z\\nMRD\\'*RLJ1.CJ1.CHZ.CJ1RLHZD3HZRCHOD3J1D<HZ:3HZRCHZ.FDZ.I&1ALHO\\nMD3HZ+Y$O.I$OAI&1.H8Z+\\\\HZ.H8OD3J1RB\\\\ZD<J1+\\\\K*+\\\\HZD2\\\\Z.LJ1+\\\\K*\\nM.I$ZD<HZD<HZ.B^&RLHZ09\\'*RLJ&ACHZRCHZ.MA!+R_*RCHZRLK*03K*+R_*\\nMD<K*RLK*RCHZ+\\\\J1RB\\\\Z.M@ZV,I!+R\\\\Z.CHZV-C*RD%!RMC8.FW8+]@Z;=@Z\\nM03HZRMC*.D$ZV,K8.D%S0=ASV#IM<\\\\K*;3K*RCK*0=A!.G,Z<T%!RG/8RLIS\\nMRFUSRMAM;7/*EMC8V&U!V,K*RG/*RG-SRI9MV&USRCQSRG-SV-AS<Y8\\\\<W,\\\\\\nMV#QS/#P\\\\/\\'-%/-C8V#QS<SS8/$5%<Y;8<W,\\\\<SQ%/)8\\\\17,\\\\<T4\\\\13P\\\\<Y9S\\nM<]%%EG,\\\\/$66<]T\\\\/$5ST3S=/$7=/-$\\\\T=U%T=W=T=\\'1/-W1/$7=W3P\\\\/-W=\\nM/-W==W=W13Q%W=W==SS1=T5W=T5%T=W=1=W=W871=W?1=]\\'==X7=W7=%=X7=\\nM=W?=T=UWA7>%A87=W=%WW7?=W86%W=TCT=&%A=UWW7=W=W=WT=%W=]U%W=W1\\nMT47=A7=WT45%T7?1W=UW=W=WW=W1T7=W17?=T7<\\\\=T5WW3S=W=%%T=%%T=W=\\nM/#S1=T4\\\\W=$\\\\W=W==]U%1=T\\\\T45%144\\\\17?=T=\\'=/-%W/$7=/#P\\\\T7<\\\\W45%\\nM=T5%W7=W17?11=\\'11=U%=]UW=W=WT86%A=V%0-&%T7=W=T!W=]U`0$!)W7=)\\nMW7=W27=`2=W=24EW2==W27=)=TE)=^-)27?CXX5)24GC0..%24E`XTE)>TGC\\nMXTE)XWOCXTE)2>/CBDE[X^-[>XI[XXKCXWM[>WOCBN/CBN/CBGOCBHJ*BGN*\\nMBGN*>WN*XTZ*>XJ*YTY8BC+GBO.*3EB*BHHR6/-.BD[GBO-.Y^<R6#+S6.=8\\nM3D[G\\\\_,RY_/S6#).,C)8YS).3D[SYUA8\\\\^>/6.>/\\\\T[SC_/S6%B/Y_/GC^?G\\nMCX_GY^?SCUA8CT[GCX_S\\\\^?S3H_SY^?G\\\\_/GC^=8\\\\_-.CUA8\\\\_/S3EA83O/S\\nM\\\\X_SCX^/\\\\_/S6%B/6.?\\'Q\\\\?\\':2]I+\\\\<OD2^1.H8Z+VG\\'D2\\\\O.L<OD9$O.B]I\\nMD9%IAFF&.H8ZRLHOD9$Z+SI!.CHZD8:&.I&1.I$O02^1D<K*+SI!.CJ1D<J1\\nM.I\\'8.CJ1.LHZ.LHZD<HORCK8+Y$ZV\"\\\\ZRLHZ+Y$ZRLHZD9$O04&1D2^1D3K*\\nMRCK*D3K*D3J1D<HORB^1.LHZ09\\'*RB\\\\Z+SHZ0<J&.H;*.CHZRLJ1+R_*+SJ1\\nM.B\\\\Z.CI!D6DO.FF1D9%!.CHZRLK*RB\\\\Z.B\\\\Z0<K*+SHO.I&&.LIID2_*D9\\'*\\nMRCHZRH8ZD9&&AI\\'*03HORD\\'*D<J&.LK*D3HZD9\\'*+\\\\I!RLK*.D$ZV#HOD=@O\\nMD=@O09\\'*D3I!RI%!.M@ZRCHZRLK*V\"\\\\O.M@ZV\"\\\\O0=@ZRCK*V,K8.B_8V\"\\\\O\\nMRCHZ.M@ORCHZ.MC8RCHZRCK8RB_*;<HZRCIM.B\\\\ZV,HZV#K8.CK8RMAMRM@Z\\nM.CK8RLK*RMA!<SK*.FTZRCK*RCIS.CIMV#K*RLK8V,K*<\\\\IS.LK8<\\\\K*<VUS\\nM<VUS<]B6/\\'/*/&T\\\\;7/*RG-SRM@\\\\EFW8<]C*/#S8/-@\\\\/&T\\\\<]C8;7-S<SS8\\nM/$4\\\\/#QS/-$\\\\T44\\\\/#S1/-&6T7,\\\\T44\\\\T98\\\\144\\\\/-%%W=V6/$7=/#S1/)9%\\nMW=T\\\\1=W1T=W=/-U%T7<\\\\1471W=T\\\\W=U%=]W=W=W1W3S=147=W=U%=W?1T=&%\\nMT=UWW=\\'==]W1T=\\'=T47==X71W=W=T=W=W7?==T\"%(W?1W7>%=W?==]V%W4#1\\nM=X5WT85`W871=]%WW=V%W=W1T7=%T=W==]U%A7?==W?1=X5W=]W1T=%WT7?1\\nMT471144\\\\=W?==T4\\\\T=U%W3S=/$7=T=\\'=T=%%W471T=\\'=W7<\\\\W7?==T7=T=\\'=\\nMT47=T=UW/#QWW=U%W=U%W=W=W7=%145W145%=]W117?1=W?==]W1(]W=T=W1\\nM(X5WT7>%=T!`W7?=W7=)=T!`A7?==TE)0(5`=T\"%A4!)2>-)=W?C24!)=TGC\\nMX^-)XTGC2>/CXTE)X^-`X^-[24GC24E)XWOCXXI)BDGC27M[XXKCX^.*BHKC\\nMBN/C>^,RXWLRX^-[BHKCBC**6./CXUB*BDZ*6\\'N*6$Y[BHJ*6%CG3HKG,HI8\\nMYTZ*\\\\XI.YUA.\\\\UA8,HKGBHI.6#)8,HI.\\\\S+S3O-8\\\\U@R6//SBO/S\\\\S+GCUCS\\nM6//S\\\\_-8C_/SCU@R3DZ/3C*/C^=.\\\\^>/Y_/S\\\\X_G\\\\_-8\\\\TZ/\\\\UA8YX].3ECS\\nM\\\\T[G6$Y.3N>/\\\\TZ/CUCS\\\\X^/\\\\X^/CTY8Y^>/\\\\^?\\'QS7\\'QVG\\'OVEI+\\\\=IQVG\\'\\nMD6F1Q\\\\>&:<>&:6G\\':3HZ.CJ1AB^1+VDZACHZQY\\'*.LK*:9&1:6DZAFF1.LK*\\nMD9$ZRCJ1AH;*RLK*+SK*RLHZALK*.LHZRCJ1.I$ZRB_*.LHZRLHZ.I&1D<K*\\nMRLJ1RLJ1+SHZ+SHZD3HO+Y&&+SJ1D<J1AI&1.LHO.CHZD<J1RCHZ.LJ&+SHZ\\nMRLHZD9\\'*D3HZRD\\'*RLJ&.D\\'*+X8OD3HZRI$ZALHZ09&1RLJ&.I&&.LHZ.B_*\\nMRD$ZD<HOD<HORLHZ.LK*RCK*RLK*.CJ1RI&1.D&1.LK*.CK*.CK*.M@ZV)%!\\nM+R_*+SK*.B^1.LHZ+SHZ.I&1V)$ZRLK*03K8.CHZV#K*+Y$ZV$$Z.M@O.LI!\\nM.B_8+SHZ+SK8RLK8.LHZ;<K8.CK8.CHZV#K8RCHZ.MC*+]@Z.LK*RD\\'*;3K8\\nMRLIM.M@Z;6W8RCK8.CK*.CK*.M@ZRLIM+VUMV-@ZV\\'/8;7-M.MC8;<K8<\\\\K*\\nM<]AM0=ASV,IS<SK8<\\\\K8<W/8<W-MRG/*<W/8/-B6;9;8/#S8RG,\\\\<Y;8/-C8\\nM/,K8RMC8RLIS<SR6/\\',\\\\/$5S<SQS/#QS/$5S<]AS<SP\\\\<T5M<SP\\\\<]%%EMUS\\nMED5%/-\\'1/-$\\\\/#Q%1=U%W3P\\\\/#P\\\\1=$\\\\/\\'?=T=UW=T7=W47==]UWT45WW=W=\\nMW=%W1=W=T=W1=]W==T71W7=W=W>%W=%WW871A7>%0\\'?=A7?==W?=W=%W=]UW\\nM0$!W=X7=W=W==T#==]\\'=W7?=T=V%A=U`W=W1T=\\'10-UWA=UW=]\\'==W?==]UW\\nMA47==W?1W=U%=]W=W=\\'1T=W1T=UWW7=%=]%%W471W=U%W=%WT7?=W=T\\\\/-$\\\\\\nM1=%WT3S1T47=145W=W?11=UW1=\\'=W=%%147=/\\'=W=]W==]%%W7=WW=\\'=17>%\\nM=W?1W=W==]V%=]\\'1=]UWW7=`W87=W=%WW4!`A=UWW86%A7=)2=UW27>%W4EW\\nMA85W24EW27=)=X5)24E)XT!)A>-`X^/C2>/CA>-`A>-)24#C27M[XT!)X^-[\\nM24GCBHI)BN/C>^/CXWN*X^.*BHKCX^/C,N.*,HJ*XXKC>XI[BC)[>TY8BN.*\\nM3HI.3HI.3HJ*BDY[3DZ*YXI[BN>*,HJ*YTY83O-.,C)83HHR3N<RY^?S\\\\T[S\\nMYTY83HI.BECG6(KS,N=86.=.6$[G,O,RBN<R\\\\UCS\\\\_,R,DY.3DY.Y_/SCT[S\\nM6%CSC_/S6//S\\\\^=8\\\\_/S6%A86.?G,O/G\\\\^=.6.=.Y_/S\\\\_/GCTY83H_S\\\\X^_\\nM-<>_D6G\\':;^&:;^&D;^&Q\\\\=IO\\\\>1QR^1D9\\'\\'QY\\'\\'D3II.B_\\'QR\\\\Z:6DZ:3HZ\\nMD3HO:9$OD2\\\\Z:2\\\\Z:89ID3HZD3IID6DO.FG*:3J1.H8ZD3IIRI&&.FDZAFF1\\nM+SJ1AI&1D<J1.FF&+Y\\'*D3J&.I$Z.I&&ACHZRLJ1+X9!RFF&.D\\'*+VDZ.I\\'*\\nMD4&1RI\\'*.I\\'*+\\\\K*+\\\\J1.H;*.I%!ACJ1RCHZ:3HZRCK*RLHZRCHZRLHZD8;*\\nM+R^1.CHZRB^1RLK*.I&1RCHZ.I\\'8+Y&1D9%!.I$O+R_*D9$Z+R\\\\Z.CK*RB\\\\Z\\nM.CK8.CHZV#HZV)\\'8.LK*RMC*;3HZ;2\\\\O03HOV#K8.LHZV,K*+SHZRMC8RMAM\\nMRLI!.FU!+SHO03HZ.D$Z.MC8;6TZV-@Z.CHZ+]C*;3K8.CIMRLK8V#HZ.MA!\\nM.M@O.CHZ.MC*.CK*+]C8+\\\\HZ02\\\\Z.D$Z.M@ORM@Z+\\\\IMRD\\'*.MAMRCK8RB_*\\nMV#HZ;<HZRFTZRB_*;6TO<]AM<SK*RG/8RLK*0<IMRLK8RMAS<\\\\ISRMC*<]C*\\nMRMASRLK806U!;9;*V-C*RG/*/\\'/*V\\'-MV\\'/8/)8\\\\RG-S;=@\\\\;=B6/\\'-S/&UM\\nM/)9M145S13Q%17-%/-&617.6W99SED7=T47=/#P\\\\/$7=13S=W3P\\\\T=\\'==SQ%\\nM/-U%T3S=T3QWW47=T=\\'=1471W=%%W7=WW7=%W=V%=]W1=W>%=]W=T=%WT7=W\\nMA7?=A7=`=]UW0$!WW=UW=T#==W=W=W=WW=\\'=0\\'=W=X5W=W?=0-W=W4F%W=V%\\nMW87=W=V%=]U`W=W1W7?=A7>%W=%W=T7=A45WW=W=W=W=A7?==]\\'=W45WW=%%\\nM1=U%W47=17?1W471=W=%T47=W=W1W7=%=]W==W?=T=W=T=UWW=$\\\\T7=W=]%W\\nMW7=%=T7=W7?=W47==W?1=T5WW=UWT871=]%W=W=WT=%`A7=WW86%=W?=A=UW\\nM=]W=W7=WW4#=(TE)=X6%W4F%=TE)0(5W=TF%2>/C=TGCXT!WXTF%2>/CX^/C\\nMXTF%XTGCXT!)2>/C24E)>^-)X^-)>^/CXTE[BHI[2>-)XXKCBN.*XWM[BN-[\\nMX^,RXWLRBC)[BGOC>XI.>S).3C(RXXKC,C).BDZ*,HJ*>WM[3GN*BGN*BHI.\\nMBHHR>TY.BHKGBN<RBHKGBEA.YUA.3N>*YTY.\\\\UA.BHHR6#(RYUB*6$[G,DY.\\nM\\\\XKGYT[SBECSBN<RYT[S6.?GYXJ*Y_/G6/,R\\\\UA83C+S\\\\TY.6.?G3E@R3C(R\\nM\\\\_,R,O-8Y_/S6$[SCX_\\'-37\\'AL<U:;_\\':<?\\'-;^1O\\\\<UQY%I:<=I:<>&:<>&\\nMD6F1QVEI.I\\'\\'D6G\\'+SII.FDZD<=I:2^&+Y$Z:<<Z.B^&:8:1:2\\\\O.CHO:89I\\nMRCII.H8Z06F&.CJ&D9$Z+SK*D<J1:2^&D9$ZD8:1:3HZ+VDZD8:1D3J1RLHZ\\nMRCII:88Z.FG*D9$ZD<IID2\\\\O+\\\\J&.I\\'*.I$O:3HZ.LHZD3J1+R\\\\Z.FDZ.CHO\\nMRLJ102^1RLK*D9&1RLK*+\\\\I!.CHZ.LK*RCHZD3K8.CI!V,HOV)$ZRD$ZV-@O\\nM+SJ1V,K*03K*.CK8RCHZ+SK*V-@ORLHZ+\\\\K8;<K*V\"_8.MC*;<K*;<HZV-C8\\nMRM@Z.LHZV$\\'*RG,Z.CHZV,K8RLHZV-@Z.FTZV-C*.CK*.B_8<]@ZV-@ZRLK8\\nMRM@Z.MC*.CIMRM@Z.M@Z+\\\\HORB]M0<HO.CHZRB_*V,K8;<K*V#HO.B_8.B_*\\nM.LK80<HZ.LK*RM@Z.M@Z.CHZ.CK8.LHZV#K8RB]MRCHZ.CK*V\\',ORCK8.CK*\\nMV,I!RCK8.LHZ0=AMRCIS;7/8.CISV\\'-M<]AMV#K*RFW8V\\'-MEG,\\\\<\\\\IMV&US\\nM/\\'/*/-@\\\\;3S8;=@\\\\<SQS<T5S<SQ%V\\',\\\\<T4\\\\<Y9M/\\'.6EG/1/-&6T471/-T\\\\\\nMEG/=/$5%T=W11=U%W=U%W=W1W=%%W3S1/-UWW=%%1=W=T=U%A=V%=]W1A=\\'1\\nMA7=`A=\\'=T=&%W87=0-\\'=W7=W=T#1W7=W0-U)W87==W=W285`W=UWW85`286%\\nM=W?==TE)=W?=A=W=0$!)A7=W0$!WW=U`W=UWT=V%W=&%W=%`=]\\'==]\\'=A7?=\\nMW47=T=\\'==]%%W=\\'1=W?1145W1=W=1=\\'1=]%%T7=W147=17=WW471=]UWT=%%\\nM17=W1=W=17?11471T=W==W=%1=W==]W==]UW=]UW=W=WT7=WW46%W7=WT=W=\\nMW87=T8710$#==T!`W4\"%W=W==W?=2=UW24E)=T!WW4!)=T!W=W=W(T!`=^-)\\nM=X7C=TE`0$EWXTE)=^/C24E)A4#CX^/C2>-`2>-[2>-)XWOC24GC>^/CX^/C\\nMX^-[BN/CBGM)X^.*XXJ*BN/CXXKCXXKC>WN*,HKC>XJ*BHI[,N.*BN-.BHKC\\nM3N-[BDXRBHI[BN.*,GN*BHI.XXJ*BEA[YXHR6$Z*>TY83EA[,DY[,C)8BN=[\\nMBHI8BEA.YTY.3N?GBE@R3EA8YXJ*3C**BN>*BN<RBD[S\\\\^?S3C**\\\\TY.,O-.\\nM\\\\T[G\\\\^?G3HHR,O-.YT[G3N?S,D[S6//S,O-.\\\\UB_Q\\\\>_O\\\\>_OVG\\'Q\\\\=I:6G\\'\\nMQ[\\\\UQS6&QY%IAFEIQY&1:6EI:<?\\'Q\\\\>_:9\\'\\'+VEIAL>&AFEID<>&D<=ID<<Z\\nMQ\\\\=I:89ID9%ID2\\\\O.I&1.L=IQVG\\'AB\\\\Z+VF1:6F&.L>&.FDZD2\\\\Z+X8O.B]I\\nMD9$Z.I%!D3II03J&+Y$Z:3HZ.CJ1AD$Z.FF&+X8ZRCIID9$ZAFF1D9$O:<HZ\\nM+VEI.CJ&D3J1.LJ&.B]!.LJ&D9$O+\\\\HZD<J1D<J1RI%!V)&1RI\\'*+SK*+SHO\\nM.B\\\\ZD<K*D3HOD<HZV\"_*RMC*.FU!.CHORLK*V-C8.B_8V-C*.LK*V,K*.FW*\\nM.MC*.FTZRMC8.LIMRMC*RLK*;7/*.G,ZRM@ZV&W8RCK*RLHZ.LHZRCK*;=C*\\nM.G/*.MAMV#K8RMC*0<HZRLHZ+]C8RMC*RLK8V$\\'*.LI!RCHO.I$O+SHZV,K*\\nM.LHOD=C*.MC*V-@Z0<I!+R\\\\ZRCI!RI\\'*.I&1+SK*D<J1.M@ZRMC*.MC*0<HZ\\nM.CHZD9$ZV,K8.LK*RCK8.CK*.FTOV\"_8V,K803HZV,K8RD%SRMASV-C8.CIS\\nMV#K*RCK8.LJ6V#S*V\\',\\\\RLK*<W-S/,IM;7,\\\\/#QM/#Q%13Q%/\\'-M16T\\\\<W-S\\nM<SS1<SQS<T71/-USW3S1/)9%/$5%ECQ%W45%13S=/$5%T45%1=W11=W=17=W\\nM=]%%W=W=T7?=T=V%=]V%W=W==T#=W=UWW=UWW=W=27?==T!W=]U`=]U`=X5W\\nMW7=W27=)=W=`0$!`=]W=A7?=0-UW0\\'=WA4!`2=V%2=UWW4\"%W7=W=T#==W=W\\nM0(7==]UW0\\'=W=W=WA7>%A4\"%=]V%T7?=A85W=W=WW=%W1=\\'==T5W=W?=1=%%\\nMW7?1W=W==W=WW47=T=%%W7?=W7=%1=W1T7?=147=W=\\'==]UW=W=W=]%WW=U%\\nM=]\\'=W7?==]W1=W>%T7=WW=\\'==W?=T7=WA87=W=V%=W=W27=WW4#=A7=WA7>%\\nM0-W=24EWW4\"%A=UW=X5W0$!`286%0(5)XTE)XTE)0\\'<CXTGCA>-`A4E)0$E`\\nMXTE`X^/C24GCXTGC>WM)X^.*X^/CXWM[XXI[BN.*28KCXXJ*28KCBHJ*BN-[\\nMBHJ*BN/CX^/C,N.*>WOCBN.*X^.*BHJ*,HI.BHJ*XWN*BDY.XWN*BHKC>XJ*\\nMBN-.XXKC6%B*,N.*3D[C6#).>UB*,HJ*BDXR,C)83GN*,HI.BDY83C(R6%B*\\nMBEA86(J*6#+S6$Z*,N>*BHJ*,DY8Y_-.Y_.*6(I86.<R6$[S\\\\S(R6/-.3EC\\'\\nMQS7\\'-34LORPUQ\\\\?\\'+,?\\'Q\\\\?\\':<?\\':37\\'Q\\\\<UAK_\\'D;^1:37\\'Q[_\\'D6G\\':6F1\\nMD6F1O[_\\':<?\\'Q\\\\=ID;]ID;\\\\OQ\\\\>1:<=I+VEIQ\\\\=IQR^1D9$O:9$Z.L?\\':8:1\\nM.CK\\'Q\\\\<Z:6DZ:2_\\'D88O:9%I.FDZQR]I:<<Z+Y&&+VG\\'.CHZ:6DZD9%I:4$Z\\nM:9%I.L=IAFF&.CHZ.CI!.CHZD9$O.I$ZAI&1D3HZ+Y$ZACK*+R_*.LHZRCJ&\\nMRD&1V)&1.LHZ+Y\\'*RLJ1RCK*RCJ1RCHZRB\\\\O.MC*RFTO.LK8RLHZRLK8V&W*\\nMV#K*.LHZ.CK*;3K*.FW*.G/8RLHZRCK*V-@ZV#K*V-C*07,Z;3I!RFW8RCK8\\nMV\\'/8<VUM<W-!.CHZRCIM<\\\\HZV-C*<SK8<SK*V#I!;=C*.CK*.LK*.CK8V,HZ\\nMV#HZ.CK*RMC*.CK80=@Z.MC*RD&1V,I!D2\\\\O.I\\'*.B\\\\ORCHZRM@O.LHZRI$Z\\nM.CHOD<J1RCK*RI&1D<HZV-C8.B\\\\Z+T$O.CK8RMC*.CHZ.CK8+R^1RLHZV-@O\\nM;=C*.CK*V#K*<SIM.M@ZRCIMV#ISV,K*<]C8<\\\\IMRLISRG-SEI;*/\\'-M<W-S\\nM<VW8V&V6/$78;3S813S8;3QMEG-%/\\'-SEM\\'1<W/1/$5%EMW=W3S=T=\\'=1=W1\\nMW471W=W=1=%WW45WT471=]W1W7?==]UWW=%%W=W1=]W=A7>%A=W1W4!W0\\'=W\\nM=]UWW=V%27=`=W?==TE)W4F%=X5WW=V%0\\'=W=W=W=]U`0(7==X5WW4G=A85)\\nMA4F%0\\'=W=]UW=]UW=W>%W=UW=]U`A85WW87=W=UWA=V%(X6%A7=`A=W1T=V%\\nMW7?==]W==]V%147=W=%WT7?=1=U%W45W=T5W=W=WT45W1=UW=T7==]&%W45%\\nM=]%WT7=W1=%%W=W1=X5WW47=A=W=A=U%W=V%=W?1=T6%A86%=X7==]&%0(7=\\nMW7=WW7=W0-UW27?==W=W0$E`22-`A85W24EW285)A7=`UT!)XT!)0\\'=W=TE)\\nM27=)XT\"%=TGC0$F%0./CA4E`X^/CX^-)0$GCX^/CX^/C>WM[X^-)XXI)X^-)\\nMXXJ*XTE)X^-)XTGCX^-[BGOCX]>*28I[BGN*>^.*BHI[XXKCXXKCBGOCBGM[\\nM>XJ*BHJ*X^.*X^/C,N,RXS)[XXJ*,HI[>^.*X^.*3HI[,HHR,GM.>U@RBDY.\\nMBDZ*,EA.3HKC3C**XWM.6#**6%CG,EB*>XHRYXJ*3HKGBN?G6(I[6#(RBHJ*\\nMBDZ*6(HR\\\\S(RBECS,HJ_-<>_QS4U+,>_+,?\\'QS6_:36_Q\\\\=IQVG\\':<<U:37\\'\\nM:;]IOS4UQ\\\\>_:37\\':35I:<?\\'-<?\\'AFG\\'OVDUQ\\\\>&AL>1:<=IAK^_:6EID<>1\\nMD;^1+VG\\'D<=ID6EIQ\\\\=I:6EID<=ID<=I:9\\'\\'+R^1D<?\\':89I:<<Z.CHZ:3II\\nMD<<ZD88Z.L=I+VDO:6F&.I$ZD6DZ.CHZACHZ.FDZD6EI+Y&1D9&1AFDZD9%I\\nMRFF1.CIIRI$Z.CHZALHO.LJ1.LHZRLHZ09&1D3HZRM@ZRD\\'*V,HZD3HZ.B\\\\O\\nM+\\\\K8RFW*RCK*+]C*+\\\\HZV-C8.LK8RCIMRCIMRD\\'8V-C*RLIS<SK*V,IM07-S\\nMV,IM.LK*.FUSV,K*;7/*RLK*<W-S07-SRLK*RCK8.CI!RLK8V,K*;7,ZV,IM\\nM;=C*;3K806TZRCHZRB_*+SK8.LK803K*V\"\\\\ORLHZRLJ1RLJ1+SJ109$Z.LK*\\nMD<I!D9%!.CHORI$Z03K*.LK*D2\\\\OD<HO.LK*D3K*V)\\'*D<K*D9\\'8V,K*D9\\'*\\nMV-@ZD2^1RLK*D3HORM@ZV$\\'*RCK*RMC8V#K8V-AM;<K*RLK8;6W*V,HZ<]AS\\nMV&USRLK*V,K*RCQM/\\'-M/-B6/&T\\\\<]ASV-C8V#QS/$4\\\\;3QM<T5M19:6T3P\\\\\\nM1=%S/-\\'=/$7=/#S=W3P\\\\W=T\\\\1=\\'==W?=W47=/-W1T=UW=]V%A7?11=UWT=UW\\nMT=&%=]UW0\\'=`T=V%W7=WW7=WW=UW2=W=27?=24G=A4EW=W=W=W=)=X5W24E`\\nM0\\'=)=T!W=W>%W2-`0$\"%0\\'=WW86%=W=`285WA85WW4!`27=W27=)W7=WW=W1\\nMW=W==X7=W4#=W2.%0-UWT7?==]W1W=W=A7=WT7=WW=U%W=V%=W?=W=UW=W=W\\nMW87=W7=%=T7=145%W7?1W=W1T7?=1=W=W=W1W85%=]V%1=UWW=\\'=W=W==X7=\\nMW=V%=W>%A7?=T8710$#=W=%`=W>%W4#=A=UW0-V%=W=`A4F%A4E`27=)0$EW\\nM27=)0\\'>%XW=W0\\'=W285W24F%0$GC24F%XX6%X^-`X^/C0./CX^/CA4#C0./C\\nMX^/CXT#C24GC>^-[2>-)X^-[24GCX^-)BN/CX^-)XWOCX^.*XTGC2>/CX^.*\\nMXXJ*XTGCXXKCXXI[XXI[X^-[X^/CBN/C>^.*XXJ*>^/CX^.*X^.*>WOCBN.*\\nMBN/CBGM[>S(RBHKCBHKCBN/CX^.*BHHR>WM.,N.*3D[C,N-[3DZ*6(J*6.-.\\nM,N.*3DY8BHJ*BHJ*Y^=[,DXRBHJ*,N=8,EB*6(K\\'OS7\\'QQXL+,<L+\"S\\'QS6_\\nMQ[_\\'+#7\\'+\"R_Q[_\\'++^_+,<LO\\\\>_Q\\\\?\\'+\"QIORR_+\"S\\'QRPUQVEIQ\\\\<UOS7\\'\\nMQ\\\\?\\'QVEIQ\\\\>_:34UD9%IOVG\\'QS6&AC5I-<>_QVEI:<?\\'-;]I:9%IQ[]ID8:_\\nMAL>1Q\\\\?\\'O\\\\?\\'Q\\\\?\\':2\\\\OQY\\'\\'D6G\\'+VEID9&1.CJ&.L<Z.L<Z.L>1D<=IACK\\'\\nM+SHZD3HZ.FDZ.I$Z.CK*RI$Z+\\\\HZ:3IIRLJ103J1.CHZ.LHZ.CJ1.LK*0<HO\\nM+R]!.B_80<K*RMAMRM@O+\\\\HZ0=C8V,K*;=C8V,ISRMC*RG/*RLIMV&USRCK*\\nM;7/8;99S<VUS.FUSRM@Z<\\\\K8RMAS<W.6RFUSV);*V,IMV,K8ELK*RLK*<]@Z\\nM<\\\\IS<\\\\HZ<\\\\K*0<IS.CISRG-M.MC*.M@Z.MA!RB\\\\ZV-C8V#K*V&TO+SK*.M@O\\nM.MC*+SHZV#K8RB\\\\Z+Y\\'8.LHZRCHZ.I\\'*RLK*D2_*RLII.B^1ACJ1.FF1.CK*\\nM.CHZ+X9I.I$OD3J1D4$ZD9&1D3K*AD\\'*D<I!+SJ1+\\\\HZ.I&1+SHZD<HOV#HZ\\nMV,IMV$$ZRMC8;=A!RD\\'*RMC8;4\\'*RG-S;99!<\\\\IS<Y8\\\\RCS8/#QM;3R6/-C8\\nM<T4\\\\<Y8\\\\EG-S17-S;7,\\\\/#R6<Y8\\\\ECP\\\\W3Q%W3S=T=U%T=U%/\\'=%1=UW1=UW\\nMT7=WW7=WW=W=T45WW=U%T=UWA87==]W=W4!W2=U`=]V%A7=WA7?=24!W0\\'=`\\nM0\\'=`0(5)W4E)=]U`W4E`A=UWW7=WW4EWA4G==W=`=W=`0-UW2=U`24\"%A7=`\\nM=]U)27>%0\\'=`0\\'=W=R-`W2/=A7?=24!`=]U`W4!WT=U`W7?==R-WW7=W=W?=\\nMT7?=A=W==T7==]UWT=\\'=W=UWT7=WT=UW=]UW=W=W=]W1W471W=\\'==W?==]UW\\nMW=V%=W=W=]%%T=\\'=W7>%=]\\'==W=W=W=`T=%W=W=WW4!`A7=W0-UWT=%WA7=W\\nM=]UWA85)W86%=W?==TE)2=U)285)A7?=W4E`=R-W=TE)0$\"%0(7CXX7C=X5W\\nM=^-WA>-`A4E)0$!)X^-`A85)A4F%287CXTE)X^-)24E)X^/C0./CX^-)X^-)\\nMX^-)>^/C2>/C>TGCXWOCX^-[X^-[24E)27M[>^/CXWN*24F*24GCXWN*BN/C\\nMX^-[X^/CXXI[X^-[BN/CBDF*XXJ*>TGCBN/C>S+CXXKCXXJ*XWOCXWLRXXKC\\nMBHI[,C+CBGN*>^.*BHHR>WM[,N-[XXI.BDZ*BGLR>XJ*>TY8,N=8BHI.3DZ_\\nM+,>_+\"PLQS4U?7U]O\\\\<L+\"S\\'+#7\\'Q\\\\?\\'+,?\\'+#6_Q\\\\<L:<<L+\"R_++_\\'O\\\\<U\\nMQVDUQS4U+#4LQRS\\'QS7\\'OVG\\'QVG\\':<=IQS4UQRPU:8;\\':88UO\\\\>_:6G\\'-<?\\'\\nM-6EI:<<UD9$UQY\\'\\'-361-9&1AFEIQVF1AK_\\'O\\\\>1QX:1Q[_\\'Q\\\\?\\'+VG\\'Q\\\\?\\'\\nM:6F1+VF1:9\\'\\':<?\\'AL?\\':<=ID3HZD6F1.H:1.H:1D88O03HZ+SHZ03J&:3HZ\\nMRCHZ:2^1RD&1ALJ1RD$Z+\\\\HZ.CK*RI$ZV-@ZRCK*03IMV&W*RD$Z07/*.CI!\\nMRLIMRG-SV,HZRFW*V-C8RMC*;3IMV\\'.6RMAM<\\\\IM<Y:6RI8Z/-AMV,IS<W-S\\nMRG/8V,IMRD&6V-C8EMASELIS;9;*;7-S.LK*<\\\\K*RFUM;6W803K8.MAM.LK*\\nM;7,Z;<K*RCHORCK8.LHZV,K8.D$Z+\\\\HZ.I\\'*.LK*D2_8D8;*ACK*.FDZD3J1\\nMRI$Z.D$O.CHZD3J&.H8O.CHO:3HZ.CJ&.LK*.LI!.CJ1RCJ1.I$Z.CHZD3HZ\\nMD3K*03J1D9%!RLJ1.CK8+Y\\'8RM@ORCK8RMAS.LK8V#K8V-AM<SHZ;<HZ0=AM\\nM07-M/,IM;3QSRCR6/-AM/\\'-S;3S8;=C8<SP\\\\/#QMT3Q%EG,\\\\/-$\\\\/-U%/#Q%\\nMW44\\\\/-%%W=%%1=W==]\\'==]W==]W==]V%=]\\'=W7=W=X7==X7==W?=T=U`W=V%\\nM=]UW0\\'=)A=UW=X5W=]U)=W>%A7=)=W=W27=`A85W0\\'>%A7>%=T!)A85)=X6%\\nMA86%27=W27=W=W=W286%=TEW=T!WW4EW2=UW=T#==X5W=W=`W=W=0$\"%W4#=\\nM=]W1W=W1W871T=V%W=UWW=V%T=\\'=(W?1W85WT=%W=]%WW471T=UWA=%W=]UW\\nMW85WW85WW=\\'1=]W=W=V%=W?==W?=T7?=W=UWW471=]W=W7=W=]W1W85`=X5W\\nMW7?=W7=`T4!WA7=`2=V%0\\'=WW4!`W=U)W86%=W=W=W=WA=U`A4F%W4DC27=)\\nMW7>%=TEWUT!W0.-W27>%24!)24F%=TE)A7=)A>-`X^-)XTGCXX770..%285)\\nM27=`24E)A>.%0(5)XT#CA>-)X^-)2>/C0$!`2>/C2>-)27M[24G7XTE)XT#C\\nM2>/CX^-)XTE[>WOC24E)X^/CXT!)XTE)XTG7XTE)X^-[XXKCX^-)XXI)BHI[\\nMXTF*24GCBHI[BN/CBGO7>XKC>^/CBN.*X^-[BN-[XS**XT[CBHI.3C)[>S**\\nMBHHR,DY.XXJ*BC).XS)]++]]+,<>QS4>\\'BR_QWTL+#4LOQ[\\'+!XUQS4L-;\\\\L\\nM+#4U\\'BPLQRS\\'-34L+,?\\'+#6_+,<>QS6_+\"S\\'QRPL+,<LO[\\\\LQVDLQ\\\\?\\'Q\\\\<L\\nM+,=IO[_\\'-;\\\\U+,<LO\\\\?\\'+,?\\':34U:<<U-;\\\\LAFG\\':37\\':<?\\'AL<UD<>&-<?\\'\\nMAL>_Q[]IQ\\\\?\\'AH:_AI\\'\\':;^1Q\\\\<O:9&_AFF1QR]ID2_\\':6G\\'.CHOAB^1D9%I\\nMD2_\\'.FF1+VEIACHZ.B\\\\O:89I:2^1.B_*RB^&.H8ZRM@ZD=C*.MC*RCK8+]A!\\nM.CHZRLK8;<HZ.FW*<SHZ.LK*;<IMV\\',ZV,K*RMC*RG/8EFUSV,IM<W-S/\\'-S\\nM/,IS;99S<VUSRMC*<SR6V\\'-SEG/*RMC*RLK8V\\'/*<]C8RD%S<W-SV-C*RG/8\\nM;3K*<\\\\K*<W/8;3IM.LI!RLHZRLHZ;3K*V#HZ+\\\\K8RI\\'*RCK*V,HZ.CK*+Y&1\\nM.B_*D9$ZD3HZ.CJ&.CJ&D88ZD3J1+Y$Z.LHOAI&1:9%ID4$ZRCHO03J1.CHZ\\nM.CK*:<K*RI$Z+SII.I&1.CHZ.I$Z.CHOD3HZ.I&1D9$O+\\\\HZ.CHZV\"\\\\ZV#I!\\nMRCHZ.MAM<W/8RLK8<SIS<\\\\ISRG/*<VUSV\\'/8<W/*/&US<SP\\\\<W-S<SQS17-M\\nM16U%;3S1/$5%/)9S/#P\\\\13P\\\\19;=W47==T5W/-%%=W?=W7?1W=%%=W=W=]V%\\nM=]\\'1A=UWW=UWW4!WT7?=A4E`=X7=W7=W=TE`=X6%=T!)W7=W24G=24EWA85W\\nMA4G=A4EW24E`W4!)27=`=X5)0$#==]UW=X5`27=)A7=W=X6%2=W=A=UW27?=\\nM=]UW=TE`W=U`2=U`=W=W=X5WA7?=W=W=W7=W=]W=W=W1A=UW=T#1=X6%=W?=\\nMW7=WW86%=W>%=]W=1=W==W=W=]UW=X71W7>%=X5WW=W=W=W=T7?1A7=WA7=W\\nMA=UWW7?=W7=WW=UWT7=`W=W==W>%A=UWT7>%A=UWT7?1W7?==T!`=W=`0-W=\\nMW4EW0\\'?=W4EWA7?=W7=)A7=)=T\"%27=)0\\'=)285W24!)0$E)0\\'=`285`=TE)\\nMA7>%=W>%=TGC=^-)XW?7A7=)2>/C24#C=W?C(X7C=TF%2>-W0$GC=TE`24E`\\nM24F%2>-)X^-`24!)X^-)2>/CXTF%XT#CXTE)X^/CXTF%XT#CX^,C0$#CX^/C\\nM2>-)0./CX^/CXTE)XTGC2>-[2>/CX^.*2>/C24GCXWM[BHKCXXI)XTF*XWOC\\nMBN-[X^-[>S**,N.*BN/CX^.*BHI[XXI[>WM[3GO\\'?7W\\'OWTL-1XLORQ]-34>\\nMORPL-2Q]\\'L>_+,<L+#4LQS4L-2Q]+#6_+,=]+\"R_QRPL\\'BPL+,>_\\'K\\\\L+\"PL\\nM+\"PLQ[_\\'\\'L?\\'-<<>-<<U\\'L<>ORPLO\\\\?\\'Q\\\\<U++\\\\UORS\\'O[_\\'+,?\\'-2PL-34U\\nM-<>_+,<L+\"S\\'QS5IQVF_:35I-6G\\'++]I-<?\\'AC5IQ[_\\'-<=I-<?\\'QVEIQ\\\\?\\'\\nMQ\\\\?\\'D<?\\'D<>&:9\\'\\'D6F1.H8Z:<<OQVDZ:9$Z.CHZ+Y%I+VDZRCK*+R\\\\O.LK*\\nM03HO+Y$Z.CHZV#J1+R_8V\"\\\\O+VW*V,K8V#HZ.MC*.CK8V,HZ<W/8.LIS;9;*\\nM<]C*<VW8ELIS<VW8;7/*EG/*V-B6/,K8V,H\\\\/\\'-M/,IMEG/8V-@\\\\;7-S;7/*\\nMEMAM/\\'.6;<K*RMASRCHZ<W-!;<IM0<HZ<SK*V#K8V-C*RMA!V,K*RCK*.CHO\\nM.MC8V#K*+R_*D9&1.LK*+\\\\HO.LK*.LHZD<II.LHZD3HOD9$Z.B^1D3J1ACI!\\nM:9%I:2^1.I&&+VEI:3HZD9%I.CJ1.CJ102]I.I$OD2\\\\Z.B\\\\Z+Y$ZRCJ1D9\\'*\\nM.CJ1D2\\\\Z.M@ORI\\'8V#K*V-@Z.CI!RCIMRMC8.CIM0<K*<W/*RG,ZRI;8EFW8\\nM;3S*V-@\\\\V-C8/$4\\\\/)8\\\\<VT\\\\<SS117-%145S13S1T=US/-W=1=W==T7=W3P\\\\\\nMT=W1/\\'=WW=UWW471=W=WW7=W=]UWW7?=T=U`W7?1=]UW=W>%=]U`0$\"%A7=`\\nM24!`2=UWW=UW=TEWW=U)2=UW24E`24E)W7=)=W=W=TE`24EW=W=`2=UW=X6%\\nM=TE)0$EW=T\"%(T\"%0\\'=W0-U`W=UW=X5)=T\"%=W=)286%A7=`0-V%W=W==W=W\\nM=T!WT4!WT7=WW=UW=W?==]UWW=W1=W=WA=W=A=%WW=W1=]\\'1=]%WW7>%W86%\\nM=X71W=V%=]\\'=T871(]%W=W=WT7?=W=V%=T6%T7>%W85WT7?=T85WA=\\'=W4\"%\\nM=X7=0(7==]W==T!W0(5W=]U)=]U`W7?==W?=24F%=T\"%2=UW=W=W=T!)A7=W\\nM0-TCW4!`A7=)A=U)=]U)=]V%27=W0$E`0(6%24!)A4!)0$E`0$!WA4EW=TE`\\nM0..%27=W24E)A4!WA4E`=T!`A>-)=TE`=TEW285)A4E)=^-`24E)=TEW=TGC\\nM=^/C=^/CA2-)0$DC24GCA7=)A4E)A4E)XX7CA>-`0./CX^-`2>/CXT#CXWOC\\nM27OCXTGC>XJ*XTGCX^-)BHJ*>^/CBHI[X^/C>XKCXWN*XWOC>^,R>WM[>^,>\\nM\\'L<LOS5]-2Q]QS7\\'OS4L-2R_?;^_+\\'TU?36_O\\\\=]+\\'TUOWTL\\'C5]-;\\\\LQRP>\\nM+#4L-<?\\'?<<L+#4L+\\'U]-7TU-2P>ORS\\'ORPU-2PL+#4U++^_-<=]\\'K]]+,>_\\nM-<>_ORS\\'\\'BS\\'++\\\\U+\"S\\'+,?\\'+#7\\'QRP>Q[\\\\UQ\\\\?\\'-<<L-<=I+,<L:6G\\'QVEI\\nMOVG\\'QS5I+&G\\'QRPU:9\\'\\':9&_QY\\'\\'OY&1O[_\\'QVF&+R_\\'QX9IQY\\'\\'D9%ID88O\\nMD3HO+VDZ.H8OD<J&AI$ZD<HZRLI!D2_*09\\'*0=C8V\"\\\\ZV,K8.LK8RCK*.FW*\\nMV#K*.G-S<\\\\K*RG-MV\\',Z<W/8RLK8EG/*RI9S<\\\\K8RI8\\\\<]AMEMAS/-AM<SQS\\nMRLISV,H\\\\RG/8V&W8RLIM;7/*V\\'-MELK*<Y9S<W/*RLK8<W/*<\\\\K*V-C*;3K*\\nMRLK*.MAS.D%MV$$ZV,K8+R_*.B\\\\ZV\"_*D3K8+Y$O.LJ1+Y$ZRD&1D3HOACHO\\nM.B\\\\Z.H:1.H:1+SHZ.L<Z+SHOD3J1AI$O+SJ1:9$O+R\\\\Z.FEI.CHO.CHO:3J&\\nM.CHZ.H9I.CJ&D6DZD3J&+SHO.I\\'*ALK*D3J1.I$ZRLJ1RCI!RMC*+\\\\HZ.M@Z\\nM.MC8.LISV,ISV&USV#S*V\\'/*<SR6<W-S/#QS/\\',\\\\V#P\\\\144\\\\/-%S/-%%13Q%\\nM/-$\\\\/#P\\\\1=U%T=UWW3S1T3S1=T5W1=%WW7?=1=UWW87==W=%A=UWW86%T=UW\\nM0$!`24F%0\\'=`0-W=A4EW27?==W=)24EWA85`W7=)A4!)27>%0\\'=)A85)24F%\\nM24E)0\\'=)0\\'=`27=`W7=)0\\'=)A4F%24!W=T!W=T!WA85`=X5W=X6%=TE`0-W=\\nM2=W==X7=0(6%=]U`0\\'?=W=V%A=%`0$\"%W=U`0$!`=X6%W4!`W=\\'==W>%W=W1\\nM=]\\'10\\'?117=W=X7=W=UWW7?1T7>%A=W1=W=%=R/=T=W=W7=`T=UW=]UW=]W=\\nMT85WW871A=&%T=\\'=T=%W=W=W0\\'=WT=W=0(5W=X7==T!)A=W==W=)W4\"%W=V%\\nM0$!)W4!W=TE)=T\"%A4#=2=U`24G=24F%0\\'>%W4!W0\\'?==TF%0\\'=)A7=`W7?=\\nMW2-W27=`W7=`=T!`0$\"%A4!)=W=`=W?==]UWA7?==W=W0$!W0-UWW4!W27=W\\nMA=U)=TEW27=`W7=W24EW24F%2>.%=W>%=T!`24F%=W?C27=)A4!W=T#CXT\"%\\nMX]=)XTE`24GC24#CA4GCX^/CX^-)X]=)X^/CXWM)XTE[X^/C>TGCX^-[28KC\\nM2>-[X^.*X^.*X^-)XXI]ORQ]+,<L+,<>-34>-1[\\'\\'BPU?<=]++^_++^_OS4L\\nM?1XL+\\'U]-7V_+!X>?35]?2Q]+\\'U]+\"PL+\\'V_ORQ]-2PU=\"QT?1XL+\"PU+\"PU\\nM?34L+#5]?1XLOWT>?34L?2Q]+\"PL+\"PL+\"PL+\"PU-2Q]-;\\\\L?34U-2PU-2S\\'\\nM-<?\\'\\'C7\\'OS6_+,<>QRR_+\"PL-;_\\'QS5I-6DL:37\\'OS7\\':8;\\'D9%IOY&&Q\\\\<U\\nMQX;\\'AFEID8;\\'AFG\\'+Y\\'\\'Q\\\\>1QR]IQY$O.D&1D6G*AB^1RLHO+SHZRI\\'*.B\\\\Z\\nM.LHO.MC*V,HZ+T$Z.LIM;=C8<W/*RD%S<W/*<\\\\K*RMC*0<K*V\\'/8RG/8V,J6\\nM/&W8<SQS/#S8RCS8/\\'/*/\\'-SV,H\\\\;7,\\\\<Y9SRLK8<VW*V-AS<VUS;7/*<W-S\\nMRCS8;7-M0=AS;=ASRFW8V,IS.G,Z.MAS03HZ;3IMRMC8RCHZ.LHZRB\\\\Z.LJ1\\nM+R\\\\Z.LK*+Y$ORLHOAH8Z.D&1.CHZAI$ZAB\\\\O.B^1+SHO:9%!:3J1:6EID9$Z\\nM:6G\\'D6F&+Y%IAI&104&1+Y$Z.I%I.B^1:6DO.CHZ.FF1D3HZD3HZRCK*+SHZ\\nMD3HORLJ1D3K*+R\\\\Z.FUS0=@Z<\\\\HZRMC*RG-S;7/*<\\\\ISV-@\\\\V-C8;=@\\\\<Y9M\\nM<SS8;3R617-MT3Q%<SQS13S=<W,\\\\/#P\\\\T=W=T=U%/-T\\\\17=%T=W1T7=%=W?=\\nM=W=%W7>%17=W0-\\'1W=W=A=&%T4#=2=W==]U)W4!W=]U`=TE)W=V%24!`A4!W\\nM24E)=X5)24EWA7=)27=W=W=`27=W0\\'?==TF%A85`A=V%27=W=W=)=W>%W4!`\\nM287=285`A=U)24\"%A=U`=W=W=W>%=X5W=T#=A=W==X5W0(5`W7?=W85W0$#1\\nMA7=W=]W=W=\\'1=]W1W87=W7=WA7?=A87==W?=W=UWW=%WW7?=W7?=0\\'?==]UW\\nM(W?=A7?1T=%W0-&%=]W=W=W1=W?=T85WA7=WW84CW=&%=W=WT7=W0-W==]UW\\nM0-%WW4#1=]UWT=%W0(7=A7>%A=UW0-W=0\\'=`W7=W=X5W=X7=0-%`A=$C=]UW\\nM=]UWT4!WW7=W0$!WW4#1W=W==]UWT7=`=]V%A=W=W4G==W>%A7=`=]%`W7?=\\nMW7=`=T#=0-UW=]U`A7=WW4`CA=V%=X7==W=`W4!W=]UW=X5W0\\'=)=]W==T!W\\nM285)0-V%2=U)0\\'=`=W=)=^.%0$GC0.-)=^-W24#C=W?C285)XTE`287CX^/C\\nMX^-)24GC24#C0./C0./C2>-)>^-[27OCX^-)>XHLQQXL+#5]+\\'W\\'O\\\\?\\'OQX>\\nM?2P>+\"S\\'OWTL?34L?7UT+#6_+\"Q]+\\'U]OWTU-34L+\\'0>?34U?2QT77U=-7TU\\nM\\'AY]-5U]734L+\\'U]+\\'TL?2QT77TL77TL?5U=\\'ETU=\\'TU+!XL?34L=%U=\\'BQ]\\nM+\"PL+\"Q]+\"R_-35T+!XL?2Q]\\'BPL-;\\\\U?7U]+,<U+,<LQRS\\'OS7\\'OS4UORS\\'\\nMQVDUQ[]I-<<LQS5I:<>&QS7\\':8:_AK_\\'+VF&:<<OQY\\'\\'QY%I+\\\\=I+Y%I.I$Z\\nM.CHZ.B\\\\ZRCK*.CHZRLHZ+\\\\HZ+\\\\K8.LHZ;3HZ.LK8RMC*RLI!.MAM.MA!V,J6\\nMRG/*V\\'/*V,J6<Y;8V\\',\\\\V\\'/*/#S8ECS8/#R6/#S8/\\'.6EG-SV#S8V\\'-S<W-S\\nM;9:6<VW*/-B6/,K*/&US<]@\\\\<\\\\K8<]ASRLISV&W*RG-SV&UMRLK*RLIMRLK*\\nM.CK*+VW*;<HZV#HO+R\\\\Z.CHZ.LK*.LK*RCI!.LHZ:3J1D3HO:6DZD3HZD3J1\\nM:9%ID9%I+SHZAL>1D6F1:88Z+Y%I.I&1:3HZD2^&.B\\\\O.FDO:3K\\'D3HZ.I%I\\nM.FDZ.CII.CJ&D<K*RH:1RCK*D<J1D=@ZRI\\'8.LHZ.CHZ.CK8RCHZV-C8RLHZ\\nM<\\\\IS;<IS;7-M;=B6<W-S;7/81=A%/\\',\\\\13QS<SQM/#QSECS=/#S=/$66T=W=\\nM/#P\\\\/$5%/$7=T=U%T=UW=W=W=]\\'==]V%T86%T7>%T7?1=]UW=]W==W?=2=W=\\nM=X7=0-UW0$!WW7?=A4EWA86%=TE`=W=)27=)A4EW2=U)0$E)W7?==TE)=W=)\\nM27<C24EW=W=`285WA7<C24E)W7=`=TF%24E`285)=T!)285)A=UWA=W=W=U)\\nMW4!WA4#=24!WW85`=W=W=]V%W=U`A7?=W7=W=R.%=W=WW87=W7?=T=%WW4!W\\nMW2-WA=W=W7?1=]W=T=\\'1W7=WT7=WA=W=A=UWW=%WT=W1A87==]&%T7?=W2-W\\nMW87==]V%=]W=W=\\'=T=\\'=A7=W=]W=W=W==W?=W4#=W=W1A=%WA86%T7=WW=\\'=\\nMA7=WW2-WW7=WT=UWW86%T7?1W7>%W4\"%A85`W87=A=UWA7=W=]UWW=W=W=W1\\nMT7=WA7?==R/=W=TC=T6%W45W=W=W=]W=W=&%0-W=W=\\'1=]\\'==]W=W86%=]V%\\nMW4\"%W85`=]V%0-UW=TE`0\\'=WW7=`W=UWA86%W7>%0$!W0(7=24!)=]UWW4F%\\nM24EW2>-`27=)XTGC287CA86%0.-W0$E`A4#C2>-`XT![XWM)0./C27OCX^,L\\nM-2PLO[\\\\L?;]]+,<L-;^_-2P>+#4>-;^_+,<L?;]]?;\\\\U=#6_ORQ]-2PL-1XL\\nM?5U==%U=+%U]72PL\\'GU=\\'C5]771T?2Q]?7T>=\\'W\"72QT=%W\"?2Q]NGUT72P>\\nM\\'BQT72S\"++I=?2RZ+\"Q=+\\'0>734L+%TL\\'BQ=?2Q]=\\'TU-71]?2P>++\\\\L+\\'T>\\nM-71]-34L\\'AXL+\"PL-2R_+\"R_QS7\\'+,?\\'QRR_:34U:6G\\'+&F_OS4UD<=IAL?\\'\\nM:9&_:<<OQ\\\\=IQY&1QVG\\'+VF&.CJ&:4$Z.CHZRI\\'*03J1.LK*D3K*.LIM.B\\\\Z\\nMRD\\'80<K8RM@ZV-C8<VW*<]@\\\\RG-S<\\\\J6<W/*/&UMRMAMEMAS/\\',\\\\/)9SRG.6\\nMECQSEG,\\\\<SP\\\\<SP\\\\<W-S<W,\\\\<\\\\K8<SS8ELIS/\\'/8<\\\\H\\\\;=AM/\\'/8V,K8/,IM\\nMV#K*;3ISRG/*.CISV#K8V\\'/8.CK*.B_*.CK*.M@O.LK8RCJ1ACK*.LHZ.B]I\\nMRH9ID6DZ+Y&1:9$ZD9$Z:2]I:6DO+Y&1QY&1QVDZ.L<Z:8:1D<?\\'+Y$ZAB^1\\nM.I$ZQY$OQSII:3HZD9$Z:2\\\\O.LK*RFEI:3HZRI$ZD<K*D2]!.B\\\\ZRCK80<HZ\\nMRCHOV#K8.CK*RFW8V,K*RMC8V&V6RMC*/\\'/*V)8\\\\EG,\\\\V-@\\\\V#QS<W-S/#P\\\\\\nM/$71T9;=T=\\'=/$71/$7=T9;=13S=/-$\\\\/\\'=W17?=W=W=W47==W=WA=\\'1W7=W\\nMA86%=]%`=]%W(]W==]W=285)A4EW24E`A7?=W7=)24\"%0-U)A7=W24E`A4G=\\nM285)24E)W7>%0(4C0(5`0\\'?==W=)=TG=24F%A7=)=TEW0\\'=W0\\'=`=T!W24\"%\\nM24!)27>%=TE)=X5W287==W?=0\\'?=W7=)0-V%=W>%0$!W=W?=0-W==W=W=W<C\\nMW4#=T86%W7>%T85WT4!WW=W=0-V%T=W=A=UWW=W=T4!W=W>%A45WW=%WW=UW\\nMW7=WW7=W185WA=&%=W=%A=W=T7=WW7=WW=U%T7=WW85%W87=W46%=W?1A7>%\\nMT46%W=UWW871=]%W185WW=W==W?=W7>%A45WW45WA=W11=UW=T7=T=UWT=\\'1\\nM=W?==]W1W=UW=W?=T7=WW45W17?1=T5%W=W=T45%=T5%W7=W=]W==]W==W?=\\nMT7=WT=UWT7=WW7?=A=%WW=UW=]V%T=W1T7?1W7>%=T#=W7=WA7?=W=W=W=W=\\nM0$#1=X6%0-UW0$!W0$EW0-W=A7=)2=U`24E)0\\'<CA4E)24GC24`C27=)0$F%\\nMA4!`285`24F%XR/C0$DUORPUORP>\\'L?\\'-2Q]O\\\\=]-34UQRS\\'?7TU+#6_+!Z_\\nM+\"Q]?1Y]-2PL?2Q=+!Y=+!Y]+\"PL+%TL\\'BPL?5TL72PL-2Q]771]++I=?<(L\\nM?7TL+\\'TL?7U]75VZ?;HL?7VZ=\\'VZ?7VZNEU]?1Y]+\\'2ZNAY]?<(L\\'KI]=\"PL\\nM+\"Q=PETL72Q]=\\'U]=#5]-2QT71XL?1Y]+#6_?7U]+,<L-<<>-34>+#6_-34L\\nMQRS\\'+\"QI-<?\\'O\\\\<UQ[\\\\U:<?\\':<>1D9&1O\\\\=ID88ZQVF1:6F1.CHZ+X:1D<HZ\\nM.CHZ+SK*.LK*.CHO.B_8.D$ZV-C*RG-S;3K8;=AS<VW*;<J6<W/8V);8RCQM\\nM;=C8RMC*EI;*ECP\\\\/#P\\\\/#P\\\\V#QM;=C8;3QSV#P\\\\V#QS/-@\\\\/);8V\\'-SV-C8\\nMRFW8<Y;8<W/8/\\'/8RLK8RG/*RG/8V&USRLK8RLK*V$\\'*V-@Z;6W*RLHZ+SI!\\nMRMC8RLK*D2\\\\Z.CJ1D9\\'*+VF&RFDZ+VF1D3II.I$Z+VDZD9$ZQR\\\\Z:6DZ.CJ1\\nM.L>1ACII.L=I+SII.FF&:2^1.FEID<<ZD89I+T\\'\\'QR\\\\ZRCJ1+VDZD8;*D<J&\\nMALHZ.I%!.H:1.CHZ.CHZ.LHZ.MA!.FW*V,HZ.M@Z0=C8;=AMV\\'/8/&T\\\\;6W*\\nM<\\\\H\\\\/\\'-SRG,\\\\;98\\\\/#QS<T5S<SP\\\\<]$\\\\T7-S144\\\\T3S=/$7=W45%1=$\\\\W=W=\\nMW=W1=]UWT=W1T85%T=W1W7?1W=W1W=W=A7=WW7=`W=W=W=U`A86%A=V%W7=)\\nMA7?=A85)W87==]U)=X5W0\\'?=A85`A7>%0$!)A7=)27?==W=W=TE)0\\'=W24E)\\nM=W=W24G=A7>%A4E`=W<C27>%=T!`=W=)0$!W=X5`W85W=X5WW4!)W=U)0$!W\\nMA=V%W=W==X5WW87=A7=W=X7==]V%=]U`=]U`W7=WT=W==W<CT=W==X5W=]V%\\nMW7?1A7?==]W1T=UWA471T7?==X5W=]\\'1T=%WW7=WA=%%W=W11=UW=]W1=]W=\\nMT7=%W45W=T5W1=%WT7=%W471W=%WT=UW=]W=T=\\'==]W==W=%=]%WT47=T7?=\\nMT7=WT45%/-UW1=%%W47=W=T\\\\/\\'?1/$7=W=T\\\\W=W=W=W=W7=WW=W1T7?=T=W=\\nM/-T\\\\W=%%T=U%=]\\'=/-U%T44\\\\1=\\'=T=%WT=W1W=U%T45%W=W=1=%%=]W1W47=\\nMW7=W=T5WA7=WT7?=T7?1W7?1W=V%W86%A4!WT=V%=T!W0$F%0\\'?=W87=W7>%\\nM2=V%24EW0$E)24!W24E)XW=W0$E)24EW0.-`=W<L++\\\\U+#4LQS7\\'+\"PL-2R_\\nMQRPUQRPLQ[_\\'-7W\\'+\\'U]\\'BQ]-2R_\\'GT>?5V_++]=?7TU+#4U-2PU?71=PGTL\\nM75TL72QT?5U=?;I=PEU=77TLNGVZ++JZNGW\"NBQ]NKI=NGU]+\\'U]NKI=LKI=\\nMNKJZ7;JZ?7UT71Y]NKHL\\'BRZ?2Q]\\'AZZ?;HL=,*Z?2PL+\"Q]+%TL?2PL?7TU\\nM?7TU-;]]\\'C6_+\"P>-1XU+!Z_-1X>Q[\\\\L+\"PLQ[^_-<?\\'-8;\\'-361Q[^&D<?\\'\\nMQ\\\\?\\':6G\\'.L<O+VF1AFEI:6F1.LHZD3HO0<K*.LHZ.FW*RMC8V&W*RCHZ<W,Z\\nMRLISV,K8RG/8V\\',\\\\<Y8\\\\V#QS/);8/-B6/\\',\\\\V\\'-M<W-SV#QS<]@\\\\<T4\\\\V#P\\\\\\nM<Y9S/#P\\\\<]@\\\\/&T\\\\V&T\\\\RMC8;3QS/#P\\\\RG,\\\\<W-SRG-SRLIMV)9SED%MV#K8\\nM.CK8V\\'-S.LHZ.CK8.FTZ.CHZD3HORD\\'*+\\\\K8D3HO+SI!RCK*RI$Z:9\\'*06F1\\nM+VDZ:<>1.FDZ.B^1D6DZD3HZQR^1D2\\\\ZQY%I.H8OQX8Z:9%IACK\\':8;\\':<<Z\\nMD<<Z.I&&.CHO:6DZD8:1+SHZ.D&1D2\\\\O.LHZRCHZRLK*V-C*D3K8RM@ZRMA!\\nMV#HZRG-SRMC*V);*RG-S/,IMRFUM;3P\\\\EM@\\\\V#P\\\\EG-%13P\\\\/#P\\\\T7/1EI:6\\nM/#Q%13P\\\\EM\\'=W=W=T=W1/$7=W=UWT7=%=]\\'=W=%%T7>%W=UWW=&%W7=WA=W1\\nM=]\\'1285`0$!)W=V%A4EW27=W287==W=W=T!`=T!)0$!)24!)=W=)W7=`285`\\nM27=`0(5)A4!W0$\"%24EWA7=`A4E`24!`285W27=W=W>%=W=W27=W(W>%W=U)\\nM=]U)0\\'=W=W>%0\\'>%0$!W2=UW=W=W=X5W=W?=A=UWW=UWW=\\'==W=W=T!`0\\'=W\\nMW7>%=W?==X5W=]\\'=A7?1W=\\'1=W=W=X7==]UW1=\\'1W=&%T7>%A86%17?1=]W1\\nMW=W1=W=%17=%=W=W=T5WW7?=T7?==W?=1=%W/-W=W=U%1=W==W=%T3S==T7=\\nMT7=%1=T\\\\W=$\\\\17?=W3S11=T\\\\/$5WT=W1T=T\\\\T=\\'1W44\\\\W=T\\\\/$7=/$4\\\\T3Q%\\nM/#S=W3S=/-T\\\\W=U%/-W=W=U%T=%%T=U%1=T\\\\W=U%/#S=W=V6/-U%W=$\\\\W=%%\\nMW=$\\\\W3S1T=\\'1/#P\\\\13S11=%W=T7=W=\\'==]T\\\\W=W=W7=W1=W=147=W=V%=]UW\\nMW=\\'==]U`T7=`0(5`W=W=24!)W4#=W4#==X5)0\\'=`=W<CW4E)=W=`2>-`0\\'?\\'\\nMO[_\\'+\"PLQ\\\\?\\'-;\\\\LQS7\\'Q[\\\\>+,<>+\\'TU++\\\\LQRR_-7TLO\\\\=]?7TU++\\\\>?5TL\\nM+\"QT=\"PL+\"PL-71TPET>+%U]PGT>71Y=\\'GTL72RZ=%U=?;I]\\'KJZNEVR7;H>\\nMNGVZNEU]?;I])ETF?29]LKITPGU]PEU]7;JZLKJZNEVZ?1ZR?;JZ75T>NAZZ\\nM?70L771]+%U]?5U=+%UT?2P>+\\'T>+\\'UT72Q]?1XL+\"Q]+\"PUQWTUORR_-2PL\\nM+\"QI+&F_:<?\\'QVG\\'QVDU:<=IO[_\\':<<Z:3II+SIIQVF1+R]!+T&1.CK*+\\\\HO\\nMRI$ZD3K*RCHZRLHZV\\'/80=@Z<W-MRLI!<Y;*<\\\\K*<\\\\IMV\\',\\\\EFT\\\\<W/8/#QM\\nM/&T\\\\<VU%;7/8;3QSEMA%V#Q%V#QS/$4\\\\;3P\\\\<\\\\H\\\\<W-S<]C8<SP\\\\ELH\\\\<Y9M\\nM/-ASELK*<W/*RLK*RLK*<\\\\K*RMC*<\\\\HZ.LK8.CK*RCHZV,K8RCHZ.CHZ.CJ1\\nMRB_*.CHZ0<I!D3J1+X:1:3J&D6F1D6G\\'.I$ZD3J1+SJ1:<=I+SK\\'QSHZ:<>&\\nMAI&1.H8O.FDZD3J1:2\\\\ZAL=I:88ZD3K\\'D2\\\\Z.D%ID3J1:3HOD8:&D<J&.I\\'*\\nM.I\\'8+\\\\HZ.LK*V,K8+SHZV#I!V-C8V\\'/8V\\'-!RFUS<W-M/)8\\\\V#S8<VUSV#P\\\\\\nMV\\'/8V$5M19;1/#QS/)9%/#S1/$4\\\\T3S=W47=W=W=/-\\'=W3Q%/-W=17=%T7?=\\nMW=W1=W=WA=%WW86%=X5W=W?==T!W=W=`W4#==]UWA=U`2=U)24!W24E)27?=\\nM=X5WA7>%2=U)27=)27=)W85`A7?==T!W=TEW=W?==T!`0\\'>%0$!W24F%=T!W\\nM=TEW24\"%24F%285W=TF%W7?==W=`W4\"%27=)=]W=A7>%=W?=2=V%W4!`W=W=\\nM=]UWA7?=0-UWT=W=W4#=T=V%W=UW=X7=W7?1W=UW=T!W=W?1W=%`W7?==X5W\\nMT=&%W45W=]\\'1T7?1W7=WW=UW=]W=W7=W17=W147=W=W=W3QWT7?1W7=%1=W=\\nM=]W11=$\\\\W=%WT3Q%/-W1W3Q%/-W1/#S=T3S1T=W=W=W=1=T\\\\T3S11=U%W45S\\nM/#Q%/#P\\\\199%W3S=/#P\\\\/-$\\\\/#P\\\\T3Q%13Q%13P\\\\<T4\\\\W3S=/#P\\\\/-T\\\\EM$\\\\\\nM13R6T=\\'1/$5%T3P\\\\1=W1145%W3P\\\\145%T3P\\\\147=145%T=W=W=$\\\\W=T\\\\1=W1\\nM1=UW147=T7?=W7=W17=%17?==X5W=]\\'=W=W1=W?==]&%W=UWT=V%W=W=W7?=\\nM0$EWW7?=W=V%=X7==T#\\'+&G\\'QS4UOS7\\'++^_-2R_-34L-2PU+,?\\'QQXUQRS\\'\\nM+!XL+\\'W\\'-34L+\"Q]+\"PL+\"PU=#4U770L-2PL\\'GTL+!Y]?1Y]?1ZZ=!ZZNKI]\\nMPGU=+!ZZNEU]NGVZNK)T7;I=)GVZNKJZNKHFLKITNG1=?2:Z72:ZNB:R75VZ\\nMNKHFPKI]NGU]=+JZNK)TNGU=NGW\"PAZZPKJZNEVZPKHL+\\'UT?7VZPAXL=%TU\\nM-7TU-7TU++\\\\L+\\'TU-2PUORS\\'OS7\\'+,?\\'Q\\\\=IQ\\\\?\\'QX:_-;\\\\U:<>1AB]ID<>1\\nMACII.CHOAB\\\\Z:<HZ.B\\\\ZRCHZV#J1D3K*.LK*.CIMV#IMV\\'/*;<I!<VUSRLIM\\nMV\\'-SRLK*/,IMEMC8V\\',\\\\;3QS<VW8EFT\\\\EM@\\\\/-@\\\\;3S817-S<W-MV)9M<]AS\\nM<VUS;6US/-AS/,ISV-B6RFT\\\\/-C8;<K8<\\\\K8RI;*RLIMRG/*RG/*;<HZRG/*\\nMRFW*.CHZ.M@ZV,HZ0<HZRLHZ.LJ&D9&1RI&&+T$Z:3J&ACIID3HZ+SHZ.CHZ\\nMAI$O.CJ1D6DZD9$O:<<O:88Z:2\\\\O+\\\\<ZAL=I.CHO.I$Z:3HOD8;*AI&1.FF1\\nM.FF1:9\\'*.I&1D9&&RI$ZRI\\'*RLHZV-@ORLK8.CHZ.LIMRCISRMC*.LK8.G/*\\nMRG/*RG,\\\\<\\\\K8/#QS<SS8<SP\\\\/#QM<T5%/#Q%;44\\\\T3P\\\\T3Q%T45%T=%%W=U%\\nMW3P\\\\T7=%/-U%=T7=W7?1T=UW=]W=A871=W=WT7>%T7?=W7?=A87==T#=W7?=\\nM0\\'=)=]UW27>%0\\'=`27=)A4E)0\\'=`27=W=TE`W7=`27=W24!`0\\'>%=W=WW7=W\\nM24!)=W=)2=V%A85W=TE)24EW285W(T#=27=)=X5`=TE`A=U`=W?=A4F%=]W=\\nM27=WA85W2=V%=X5)24#=W7?==]UW0-W=2=W=0$!WW87==]U`W=UW=W=WW7>%\\nM=]UWW7?==W?1A=UW=T7=W7?=A7?1A85%1=\\'==]W117=WW=W=W471147=1=UW\\nM=]T\\\\1=W=T=%WW7=%/$5%W44\\\\=]W=/-$\\\\/-U%W47=1=\\'=T=%%/#P\\\\1=W=W3QS\\nM1=\\'=/-T\\\\/#P\\\\T3P\\\\T7/1/-$\\\\<W-S/#Q%EM%S<T7117,\\\\/$4\\\\<SP\\\\;3R6ECP\\\\\\nM145%145S/\\',\\\\13S1T7,\\\\EG/1EG-S<]%S<SQ%T=\\'1T=$\\\\EMUS<T71W47=/#QS\\nM<]U%1=\\'113R61=\\'=W=$\\\\1=U%W45%13S1/-%%W=T\\\\147=W45%14711=UW=]UW\\nMW7?1=T7=W46%=T6%T=W1T=V%=W?==W?=A87=0(5I-<=IQX8UQ\\\\?\\'-6DUQRS\\'\\nM-<>_Q\\\\<LOVG\\'O\\\\?\\'+,>_O\\\\?\\'-;\\\\>-37\\'ORPU?37\\'-7UT+\"PLOWU]\\'BPU+\\'1]\\nM?1Y=770L?5VZ\\'G1]NGU=?5VZ=,)]NEU]NG0FPKHF7;JZLEVZ)GVZ?72Z)K*R\\nMNAJR=\\'2RLB:ZNKK\"7;I=&AJRPKJZNB8:NKJZ75U=NKI=PKK\"NB8F75U=7;I=\\nM71Y]=+)]\\'KK\"?;HL+%TL+!YT+\"Q]?7TL77U]?5TL-;\\\\L-37\\'QS4LQRS\\'+,<L\\nM+\"S\\'QVDUO\\\\<UQ\\\\>_OY%I:2^&+X8ZD3HZ.CHZD9$O+SJ1+\\\\K*RLHZ.B\\\\ZV#K*\\nMV,HO<\\\\K*V&W8RG-SRMAM<W-SV,IS<\\\\IS;6US/\\',\\\\<Y:6/#P\\\\<Y;8;3R6V\\'/8\\nM144\\\\<W/8/&UM<T5M/#QS199%<SS8<\\\\IS<W-SV&USELH\\\\;=@\\\\/#R6/-C*ELH\\\\\\nMRMC8<]AS<W/*<]AS.CK8V\\'/*.LHO.MC8V,K*+\\\\HZ+\\\\K*D=C*D<HOD3HZ:<HZ\\nM.B\\\\Z.FF&.CII.CII.B^1D3J1QY&1+X8ZD3II+R^1+Y$OQY%I:9$O+R\\\\O.H8Z\\nM+Y&&D2]!:8:1+SHZD3K*+VG*.I\\'*.H;*088Z.LK*03K*D3K8D4&1V#HZV,HO\\nM+\\\\ISV\\'/8RG/8.D\\'*RFW*0=C*<\\\\K8V,ISELH\\\\<SS*RCP\\\\1=@\\\\ECR6;6US<]\\'1\\nMT3P\\\\1=%%/#Q%T3Q%/-\\'1W44\\\\W471W=W=/\\'=%1=\\'=W=\\'1W7?=W=%%=T5%1=\\'=\\nMT87==X6%=]W1=W=WW7?1=]%WW87=A4!W=X5)A=W=W4EW=T!W=]UW=TE)27=)\\nM=X5W285)=W=W27?=A4!W0-U)A4E)0$EWA4\"%(W?=27=)A4!W0\\'?=W7=`A85W\\nMW4E)=W?==T!W0$E)0(5`0$`C=W?==W=)24EW=TE`=W?=0(5WW4#==W>%W7?=\\nM0\\'?=W7=`W7?=W=UW0\\'?=A=\\'1=W>%T85W=W?=T7>%T=W=145%=]\\'=T=\\'==]U%\\nMT7?=W=%W=SQ%W3S=W=\\'==]$\\\\T7<\\\\=]W=/-\\'=1=%%13S1/-$\\\\/#S=/-T\\\\W=U%\\nMT44\\\\1=W=1=\\'1T99%17,\\\\<W-%13Q%/-%%13Q%<]&6<]\\'1<SQS;6V6;=$\\\\/$5M\\nM145S;3QMV\\'-%1466/\\'-S198\\\\V)8\\\\;3QS/\\'/8<VUS/#QS<W-M<SQS;45%/\\'-S\\nM1471<W-%T3Q%13QS/$4\\\\<]\\'=<Y;1198\\\\/-W=1=W=/-%%ECQ%W=W1/-$\\\\/#S1\\nMW3S=W7?=W=W=T45%T7=W17=%W=UWW=W==]W1W=W==W=W=]%W=W?1W=UW=]UI\\nMAI%I-;_\\'OS5I:6G\\'Q\\\\?\\':;_\\'QVF_O\\\\=I:2QI++_\\'O\\\\>_+,?\\'QRS\\'O\\\\<U+![\\'\\nM-7TU-34U\\'C4L\\'GT>=\"PL+,)=\\'GTL+%TL?7TL+\"P>772Z?;JZ?7U=NK*ZNK)=\\nMLEUT=\"8:NAHF)EVZNKHF7;HFLB:ZNKJR)B:ZLAI=&AH:)B8F&AJZ7;+\"&AJR\\nM&KJRNEVR&EVZLKK\"7;JZLK(F?29=7;JR=\\'U=\\'KJZ772ZNGU]NG1]+\"Q=\\'G0L\\nM?5T>=\\'TL?34L?2Q]++\\\\UQ\\\\<LQVG\\'O\\\\=IQ\\\\>_-;\\\\UD<?\\'QY&&:9%I:<>1+SHZ\\nMD88OACJ1D3K*AB_*+\\\\K*.CK*V$$O.MC8RMC8.MA!V-B6RFV6EG/*<\\\\K8V-AS\\nMV-AS/\\',\\\\EG,\\\\<]@\\\\V\\'/*V#P\\\\;=C8<SP\\\\<SP\\\\/$5%17,\\\\V#QM/\\'-%<W,\\\\/#P\\\\\\nM/-AM<W/*EMB6<\\\\K*RI;*;<IM/\\'-SRLISV-C*RG/8RLISRCI!;3HORMC*+Y\\'8\\nM+Y$Z+SJ1.I\\'*RI$ZACJ1.CI!D3HZ.I\\'*D<I!D3HZ:9$O.H8ZD3HO.I%I+SHZ\\nMD88ZD3IIQVDZD2^1D9$OQT%ID6DZACJ1D3J1D6F&03II.CHZD9%IRCHZRLI!\\nMACHZRCJ1RLHZRLHZ+T$ZRMC*RCIM0=C*V-C8<SISV-AS.CK8<]ASRG/*/,IS\\nMV&V6/#P\\\\V\\'-S;6U%13Q%/#QST3QS13P\\\\/#P\\\\EI8\\\\/)9%T471W=W1W47=T47=\\nMT=$\\\\W7<\\\\W7?=T7>%W85W=X7==W>%=W?=W7=W=]UW0-UWA85WA86%W7>%A=V%\\nM=W?=A4!WW7=`285`=W=`27=`=TF%0$E)W4EW=T!`W=UWW4F%27>%27=W=W=`\\nM=W=)A85)=]U`24E)=TF%=T\"%=TE)A7=`=W=`0(5)W85WA4!W=W=`W4\"%W7=`\\nMW4\"%(W=)W4F%=]UWA7=WW4!`W7=W0$!WW=TC0(5W=]W1W=U`W7>%T=UWT86%\\nMW45W=W?==X7117=W1=\\'1=T7=1=W==]\\'=T=\\'1W7=W1=W1/-W=W3Q%/-\\'=/#R6\\nM/-T\\\\T=V6T3P\\\\W44\\\\1=\\'1/);1W471/-%S1=\\'1;98\\\\T6U%/#P\\\\T6T\\\\<T4\\\\<Y9S\\nM<SQ%;3Q%V\\',\\\\<Y8\\\\/\\',\\\\<VUS;=C8<W,\\\\;3S8<W-S/)9%/#P\\\\<SR6;3P\\\\17-S\\nM<W-%/#QS144\\\\<T5S16US;7-%/#P\\\\/$5S16U%<SP\\\\13S1<W-%ED4\\\\T=$\\\\T=$\\\\\\nM/-V613R613P\\\\13S1T3Q%W3S113P\\\\/-\\'1/-$\\\\T=W11=W1147=W47=T=$\\\\T47=\\nM=T5W1=\\'=1=\\'==]UWT=$O+Y&_OY&_Q\\\\?\\'D;_\\':6EI:6F1O\\\\>_:9%I:6G\\'QVG\\'\\nMQ[]I+#4LQRPL+,?\\'QRPLQS7\\'\\'C4L\\'C5]OQXL?7U]?34L?5U=+\"PL+%U]NGT>\\nM?5U]77U]?7U=PB9]7;HFNL)=)ETFNKHF729=)KJZNKK\")AJZ)KJZ)KHFLAHF\\nMLK(FLB:Z<B:ZNKJZNKJR&B:RPKJR&ETFNAH:)B:ZNAI=NKHF)B:ZLK+\"NKJR\\nMNGU=NK*ZNAY]7;I]PBP>=\\'TL75T>-7TU=#4UOWTL++\\\\L+#4>++\\\\L-2QIOVDL\\nM:<?\\'-<>1:9\\'\\'QR^1:<>1QVEI+VEI:6DZACK*:3HZ+SK8+]@O.CHZ;6W8.G,Z\\nM;=AMV-C8;7/8RLISRG-MV,ISV,IM;3S*;<ISECQM/-AMEM@\\\\EI8\\\\/&V6V)9%\\nM<SQM<VW8<VW8V$5%/#QS<SQMRFT\\\\RLK8EMB6<\\\\IS;6W8;=C*/,IS;7-!.LIS\\nM<\\\\IS0<HZ.CK*RLHORMC8RFW*RCK8.LK*D3K*.LHOD88O.LK*D2^1+SJ1D2\\\\O\\nM:2^&.CHO+\\\\HZ.CHZ:9$O.B\\\\Z:9$ZD2^1.FDZ+T$Z04$O.FF&03HZ.H8O.CI!\\nM.CHZ:3HZD88Z.CJ1RCJ&RH8ZD9\\'*V#HZV#K8RM@ORMC*V#K*RCK8RLK*.FUS\\nMRCIS<]AS<]A!RI9S/#QM/&T\\\\/-C8;6U%/#QMV#QS/$5S1=%SEI8\\\\/\\',\\\\/-%%\\nM/#Q%W=V61=\\'=/-U%1=T\\\\W3S1144\\\\1471T=\\'1W=W1=]W=17?=W=W=W=W1=]UW\\nM=X7==]W=W=%WA7=`W4!`2=UW=W?=A=U`0\"/==]U)=X5`=T!`=TE`A=W=27>%\\nM285W=X5W27=W24!W24E)=TEWW4EW=X5`=]U)0$EWW4!`W=UW=R-)(W=)W=UW\\nM2=TC=X5W24#=2=W=A85W=T\"%W4E)=X6%0\\'?=24G=0(5`0-UW0$#=0$\"%=W?=\\nMT=UWW7=WA85W17?==]W=T85W=T71=]\\'=W7=W=]U%=W=%145%T471=T7117?=\\nM14711=T\\\\145%T3Q%/#P\\\\T=W1W=$\\\\17/1W45S199%199ST=$\\\\;3S1;7,\\\\16UM\\nMEG,\\\\/&U%;3P\\\\;45%EG,\\\\199S<T5MED5S;99SV&T\\\\<SS8/$4\\\\V,K*RFUM<SQ%\\nM/-@\\\\V\\'/81=AMV#P\\\\;7/8ECQM/\\'-MV#P\\\\<Y9SEI8\\\\V-AS<T5S<SQM/&UM<T5M\\nM198\\\\1471/$5%;7-%17,\\\\T46617,\\\\<W-%13Q%<T7=17.6T=USW3R6T3P\\\\/#Q%\\nMW=U%/-$\\\\W=U%1=U%W44\\\\W=W=/\\'<\\\\/$7=T4711=V1AL<O:3K\\'+R^&AK]IQ\\\\?\\'\\nMQ\\\\>1Q\\\\?\\':6F1D;_\\'QVEIQ\\\\=I:<=I-<<L:2S\\'+,<UQS6_+,>_-2PLQ[]]-2PL\\nM\\'AXU+\\'TU72PL?70>+![\"?7U]?7VZNL*ZNKJZNKI]=\"8F72;\"7<+\")B9=NEVZ\\nM&K)=NB8:)AHF&B8F&K(FLK(:&KJR)AH:<B8:NG(:NB8:NKH:LK*Z)AH:)K*Z\\nM&AH:&KH:728FLB8FNAJZ75VZNGVZ77U=NGUT7;JZ\\'GTL?1ZZPGVZ?2Q=734L\\nM\\'BQ]+#4U+\\'W\\'-2P>-2PU-2R_O\\\\?\\'QVF&:<?\\'D6F_QSIIAFF&D<=I.CJ1D6DZ\\nM.H8ZAMC*RCHZV,HZRMC8V#HZRCK8<\\\\HZV\\'-MRLK*RFW8V,IM<W.6<VT\\\\EI;8\\nM/#QM<SP\\\\;478EMC8V#QS<W-MV&UMEI:6;45S<W,\\\\/#P\\\\V)8\\\\/\\'/8;<H\\\\/\\',\\\\\\nM/-AS<VW*RG/8RMC8RCISV);*V#K*V,K8.MASRCHZRD$ZV-@ZV-@ZV\"]!RCK*\\nMD9$Z.CHZD<J1AI&&RCHZ.FDO+SHZD3HOD2\\\\Z:2\\\\Z.I%!+SHZD9$Z+Y$Z:6DZ\\nMD2^1.B]I:9$Z+VF1.LII:89!:9&1.B_*.LJ1D3K*D=@ORI\\'*RCK*RD\\'8V-@Z\\nMV#HZRLK806W*.G-M;3K8;4\\'*ELIS.G.6V-ASV,J6RCQS<\\\\K8/#Q%/#Q%/&US\\nMV#Q%;44\\\\/#QM<SQS/\\',\\\\W=\\'=1=%S1=W=W3S=T=T\\\\W44\\\\13S=17?=W45%=]\\'1\\nMT=\\'11=W==]W==]U%T7?1A47=T=UW=X6%A=UW=T!WW7?==W=W=W?=W7=`A7>%\\nMW7?=A=UW0\\'?=0(5W0\\'=)=W>%285)W4!WA7?=0$EW24F%W85)27=WW4#=A7=W\\nM=W=W=T!WA7=W=T!`W4F%W4EWA4EW24!)W4EW=]UWW=W=24!W=T#=0\\'=)A4EW\\nMW=UW0-U`=W=WW=\\'==]\\'=A7=WT=UWT7=WW=UW=W?=W=W1T7?==T711=\\'1T471\\nMT=%%=]T\\\\T=W=W=T\\\\144\\\\T=$\\\\/$4\\\\1=W=T3Q%/-W113Q%/\\',\\\\EI9S13R6EG/1\\nMED5%/$5ST3QS145%;7-M<W,\\\\EFT\\\\/#QSEG,\\\\<SQSV-AS;3P\\\\<]ASEMASV#S8\\nM/-AM/\\',\\\\<]@\\\\;6T\\\\V,K8<VW8/\\'/8V#QSEMAMRCQS;7/*<SR6/-AS/#S8/\\',\\\\\\nM<W-M/)9S144\\\\/#P\\\\13QM/$66144\\\\;3Q%/-%S;=\\'1<]%%/\\'/1T3P\\\\EG-S13S1\\nM13S=/#P\\\\EI;=/#R6EG.6W=\\'=T47=/$5%W=T\\\\T3P\\\\W=T\\\\T3P\\\\T=T\\\\W471T=W\\'\\nMD<?\\'AI\\'\\'QSII+VEIAFEIQY%IAL?\\'.B^1D2^_D;_\\'D37\\'D9$UO\\\\?\\'QS6_QVEI\\nM:6G\\'Q[\\\\U-37\\'-<<LORP>QRPL++]]-7TU+#5]77U=+%U==,(LNEW\"=+H>772R\\nM?7U]?7U=PK)=7;JZNET:&KJRNAH:&AJR)KJZ&K)R&G(:&G)R)B8FNKH:&KH:\\nM<G(:&K(FLKJR)B8F<AIR)G*ZNG(F&L(FPK(F&B:RPAI=NK(:NK)=72:RLG1]\\nM?;JZ=\\'VZ\\'KI]772Z?5U]+\"Q]77TU-35]?34UQ\\\\<L+\"R_+#7\\'QVEIQS7\\'QVF1\\nMAC7\\'+Y\\'\\':6G\\'.FEIQSJ1.I$ZD3K*.LK*.M@ZRCK*V#IMRB]!V,HZ.CHZ.MA!\\nMRMAS<]C*V,K*V,ISV,IS<]@\\\\/#QM<SS8/\\',\\\\<W-S/#R6;3P\\\\;7.6/\\'-S<W-S\\nM<W.6EG-SV-B6<VUS;3QSEG/8RLIS/\\'/8V\\'/80<I!<SK*V,K*V,K*RLK*.CHZ\\nM<SHZ.M@OV,HZ+SK8+SK*RLK80<HZ.M@ZD<HZRI$ZRI&1.LHZ.CHZD3II+X8Z\\nMACHZD2^1.CJ1.D&&D3HZD2\\\\Z:9$Z.B^1.CHOD3HZRI$O.I&1RI$ZD<K*RB^1\\nMACHZD<HZRB_*V#K*RCHOV#HZ;4\\'*RCK8.FW8<W/8V&W8;6W*<VW8V&W*V#QS\\nMECR6EFT\\\\/#QS;=C8/\\',\\\\V$5%16T\\\\;7-S<VUS1=$\\\\<W/1T3P\\\\EM$\\\\EG-%/$5%\\nM/#Q%W=\\'=W3S=W=\\'==]T\\\\T7?=W=UWW=\\'==T7=T7?1=W>%187=T=UWW=V%T7>%\\nMA7?=W4#1T=W=W7?==]U)=W?==TF%A85)=T!)W4!`W4F%2=U)24#==X5W27>%\\nM27?=(TE)W4EW=TE)27?=W7=WW4E`=X5WA4!)A7=W27>%=T!WA=UW0-U`0\\'?=\\nM=]W==]UW0\\'?==X5W0\\'?=A4EW=W=)=W?=A7?=W85`W=W1W7?==W?=W7?=W=UW\\nMT=W1W=\\'=W=\\'=W=%%1=%%W47==T71=]\\'=1=%%W47=T3R6/-%%ECS=/-\\'=/);1\\nM<SS11=$\\\\<]\\'113S1/#Q%/$5%<]%%EG/8<VT\\\\16T\\\\/)9S/#S8/\\',\\\\<W/8/#P\\\\\\nM/-@\\\\<VW8RCS8<]C8<SQM/#P\\\\<VW8V#S8V#S*<W,\\\\ELK8V-@\\\\/\\'/8<]AS;7/8\\nM<SQM<SQS/#QS<VW8<SQM;7,\\\\/#P\\\\/#QS<SS8;=@\\\\/$5%<W-%<SQS/\\'.617-%\\nM13S8/$5MEG,\\\\<W-M;6T\\\\<W,\\\\17-ST44\\\\17,\\\\13R6/-\\'11=$\\\\EG-S<SP\\\\ECQ%\\nM145ST45%17,\\\\198\\\\13PZ:6G\\'.CII+R^1D6DO:3K\\'D6EID<>1.I$ZQ\\\\?\\'+R]I\\nMD<?\\':<>1:;_\\'QVF_AL>&:6G\\'Q\\\\?\\'QVEI-37\\'+,<L\\'L<LQ\\\\=]\\'GTL+\\'0L+\"P>\\nM+!Y]\\'EU=\\'BPL77VZ75T>NKJZ7;JZ)KJZ)KJZ728:NB:Z)K(F)KH:&KJZNAIR\\nM&AIR<B9R<AIR&K*R)G*Z)AIR<G)R<AIR&AH:<B:Z<AH:<G(:<G(:<AJZ&G*Z\\nM&G*ZPAH:&B:ZNKHFLAHFNKJZ)KK\"NKIT?5VZ?;H>+%U=77T>PG0U\\'BPU-7V_\\nM-<<L-;^_O\\\\<U\\'K\\\\U:34U:<?\\'AFEIAL=I:6F1:6F1:<>1:2^1:3II.CJ1+Y$Z\\nMRM@Z.D\\'*V#K8.LISRCK8<W/*;=C*<Y9S;=B6RLK8ECP\\\\<]ASV-AS/&UM;7/8\\nM/)9S/#S8<SS8RG/*V#P\\\\<W/8/#R6RG.6V,IS<W.6V&USV-ASV,IS/\\'-SRLJ6\\nM;6UM<Y;8RFW*<VW*.LK*<]AS04\\'*.MC8V\"_8.B\\\\ZRLK8.CHO.CHZRCHO.CK*\\nM.LHO+\\\\K*D9$O.CII.I\\'*:9\\'*.D&1.CHZ.LIIRCHZ.LHZRLHZRFF1.CJ1+\\\\II\\nMD4$Z.LK*+SHZ+R_*+SJ1.CJ1RLK*.CJ1RCK*RCHZ.LIMV-C803K*RCHZV#HZ\\nM<W,Z<]C*RI;*<\\\\K*<\\\\K*RMAM;=@\\\\<]AS;=@\\\\<SR6/#P\\\\<T78<SP\\\\17-%/\\'-S\\nM/$4\\\\/)8\\\\/\\'-ST3S=13P\\\\W3P\\\\W45%W=T\\\\14711=U%=]W1T=%WW=UWT47=W=UW\\nM17=%W45WT45%T85WT7?=(X7==]\\'=0-UW=]%`0-V%W7>%2=UW0-UW=W?=W87=\\nMA4!)A=UW=]UW27=)27=W=W?=(X5`0$E)=W=W0$EW=]W==X6%0\\'?=W=U`A7=W\\nM=]UWA=V%A=W=24E)0$G=W7>%W=U`(W=`=W=W=W=W27?=A7=WW=%W0(5WW=W1\\nMT85`A=W==]UW=W?=W=UWW7?=17=W=T7=17?=W7?=/-W=T=%%=]T\\\\/#S=W=T\\\\\\nMED5%W44\\\\EM$\\\\/-\\'=EM$\\\\W7-%EI8\\\\/\\'-SEG-S<Y9M<Y8\\\\13P\\\\<W-S;45%<W,\\\\\\nM/\\'.6/#Q%<W-S/#P\\\\/-@\\\\/#P\\\\;=@\\\\RMAS/);8<VT\\\\;=C8<SQM<SS*<SP\\\\V)8\\\\\\nM;=AS/\\',\\\\/&USV\\'/*V#QS;7/8/-@\\\\EMC8/&T\\\\/#QMECP\\\\V\\',\\\\<]A%/-@\\\\13P\\\\\\nM<W/8EG,\\\\16UM;6W8<VUS144\\\\<VT\\\\<Y9S144\\\\1=&6<SQS/\\',\\\\<T5S/\\'-S199%\\nM/#QS<T66/-%S/#R6<]$\\\\1=$\\\\ED4\\\\<SQ%19:6T3S\\'+R^1+Y&1AFEI.FF1AB\\\\Z\\nM+SJ1.H:1.B\\\\O.CHOD3J1D2^1QSK\\':3K\\'+\\\\>&+X:1OVEID6F&O\\\\>_-6DLOVEI\\nMO\\\\=I:<<L-2PL\\'BPL+\\'TU+\\'UT+%U=\\'BPL?5TL?5U]7;JZ?;I]LGVRNL)TNKK\"\\nM)KIT7<*R)K(:&KJZNB:ZLK*ZNKH:NAH:<KHFLG(F<G*Z)G(F<AIRLG(:)KIR\\nM&K)R<AH:)AH:&KIRLK)R&AH:)AJZNKIRNK(F75T:LETFNKJR)KI=)KJZPEU]\\nMPGT>?;K\"75U=\\'GW\"\\'EU]+%U=\\'BPU+\\'U]\\'L<U++\\\\LQRS\\'-37\\':36&:;^1D6G\\'\\nM+VG\\'D2^&+Y%I+VF1:2^1.I%!+\\\\J1D3K8V\"\\\\ZV#K*.MAM.CISV$$Z.LIMRMC8\\nMRMC*RLISV,ISV);*RCS*<\\\\H\\\\<SS8V#QS<W/8;6US/#QSEG-M;6USRCS8V-AS\\nM/#S8RI;8V-C8;7-MV)9S<SS*;<K*V&V6EMC*;=C*V-AMRG-MV,K*V,K*;3IS\\nM.FW*06TZV,K8V#K*V#J1RMC8.LHZRI\\'*+]C*RB^1+\\\\J1.I&&+Y$(\"`@(\"`@(\\nM\"`@(\"`@(\"`@(\",J1D3HO0<K*D9&1.LJ1.D&1D4$Z03K*RB_8RI$ZV#HORB_8\\nM+]C8RD\\'8V#HZV,K8V-C*V$$Z<VW*;98Z<SISRLK*/,J6RCS*RLIM<SQM/#P\\\\\\nM/#QSV-@\\\\<T4\\\\<T4\\\\/#P\\\\\"`@(\"`@(\"`@(\"`@(\"`@(\"`@(\"`@(13S=/-W=/\\'?=\\nM=T7=W=\\'1147=T=UWW=W==]W=W=W==]UW=]&%=]UW=W?=W7>%W=%W=]W==]%`\\nM=W>%0-UWA=W=27=)=]U)=]U`0(5WW=U)27?=W4EW=TE`W4E)0\\'=)A87=24E)\\nMW7=W24!)=X7==]U)24E)286%=TEWW7=WA7=WW4E`=W>%A7>%W=U`0(6%0$G=\\nMA=W=W=UWW=W==]UW=T!WW7?=T7?1W7?1=W?11=\\'1T7?=1=%WW=\\'=W7?=T45%\\nM1=\\'1W47=T=T\\\\T=T\\\\T=W=W3Q%/-\\'11=$\\\\13P\\\\/-T\\\\/\\'/1/\\'-%/$5%/\\'-%<T5%\\nM/#P\\\\/$5S1478/&T\\\\V&W8V#QM/\\'-S<T66/#QMV-C8<SQMEI8\\\\<SS8/)8\\\\RFT\\\\\\nM<SP\\\\V#P\\\\<W-M;=@\\\\<VUS<SQSV-ASECQMV\\'/8<SS8ECQS/-B6/$78/#P\\\\<]@\\\\\\nM<SS8V\\'-S<SP\\\\<]A%V&US<W.6V$78;7,\\\\<W-M;99S/#P\\\\<SQ%/\\',\\\\16V6;99%\\nM17,\\\\/&US;7,\\\\V$4\\\\<SQ%<T5M<VT\\\\/\\'-%/$4\\\\/\\'-S/#QS<Y9M<SQ%/$5%16TO\\nM03J&09&1.B_*+\\\\J1+VDZ+Y$Z+VF&RI$ZD<I!03II:8:1:3HZAL>&+R^1.CII\\nM+\\\\?\\':6DOD9&1-6EIQY\\'\\'-;]IQRPU-36_-2PUORP>+!XL?1XLORQT\\'GTL=%UT\\nM71Y]+\\'U]?7TLNGVZ\\'GU=PKJZ)K)=)EU=)ETFLKHFNKHF)AH:LAHF<K)R<B:Z\\nMNB8:)KH:LK(:<AIR&G)R)G(:<K*RLG(F)B:Z)AH:)G(FNG)R&B9R<B:ZLAJZ\\nM&KJZNB8:LEVZPEVZ7;I=NK*ZNGVZNGVZNKI=771]?7U]+\\'0U?2QT+\"S\\'\\'GW\\'\\nM-1[\\'Q\\\\?\\'QVDLQ\\\\?\\'QVEIQY%ID9%IAI%ID3HZ.CHO:9&1D89!09$Z.CHZRB_*\\nM.LHZ+SIM.M@Z.LK*<W-SRLJ6<W-S07/8<W/8;=AMRFT\\\\V-B6<W.6<SS*/#P\\\\\\nM<VUM/&US/\\'-S/\\'-S;=C8<SP\\\\/\\'-M;<K8/&W8<W/8ELIS<\\\\ISV,K8RFW*V,IS\\nMRMAM<W-SRLK8.CIM0<K*;6W*RLI!.M@O+]AM.LK8.M@Z.@@(\"`@(\"`@(\"`@(\\nM\"`@(\"`@(\"`@(\"`@(\"`@(\"`@(\"`@(\"`@(\"`B1.I$Z.LJ1RM@Z+R\\\\ZRD\\'*RMB1\\nM.LHZD<K8RB\\\\O.LK*+\\\\K8.MC*V,IM<\\\\HZRM@ZRLK*.G-S<T$ZRCIM;7-M<SK*\\nMRG-S<Y9MV\\'/*V&USRFUMRM@\\\\/-AM/\\'-S<P@(\"`@(\"`@(\"`@(\"`@(\"`@(\"`@(\\nM\"`@(\"`@(\"`@(\"`@(\"`@(\"`@(\"`@(\"`@(\"$7117?=W3QW1=%%T7=%T=UW=]W=\\nMT=W1A45%A7>%=]UW=]W==]W==X7=0-V%A=W=0(7=A4EWA4E`2=UW=X7=A=UW\\nM=T#=A4F%2=U`W7=WW=UW=T\"%0\\'=)=TF%A7?=W4F%0$EW24!W27=)=T!WW85W\\nM=TF%=]UWW7=WW2/=W4#==]UW0(5`=X4C=]UW=W?1W7?==W?=W=W=187=W7?=\\nM=W?=W47=1=\\'==W?1W3QW/#S=/-W=/#P\\\\13S=/-W=/$7=W3P\\\\/-U%/$4\\\\/\\'-S\\nM/\\',\\\\<]$\\\\<T5S<SP\\\\/#QM<VUS16U%/$5S17-M13P\\\\;3QMEFUS/&U%/-AS<SP\\\\\\nM<W/8/-C8<W,\\\\V\\'-S17-M/-C*<SS8/#Q%V\\'/8<SS8;7.6/#S8;44\\\\<]@\\\\/#P\\\\\\nM<SQM/\\'-M/#Q%<T5%EI:6;7,\\\\13QS/-B6<W-S/\\'-S/$5M<W,\\\\EG,\\\\/#Q%/-AS\\nMV&T\\\\<Y9%;3Q%/$4\\\\;3QS<T5M17-M<Y9S<T66V#P\\\\;3P\\\\EI9%<Y8\\\\/$4\\\\<W-%\\nM/$5%/&US;44\\\\EI8\\\\17,ZD2\\\\ZRCHZ+R^&RB\\\\ZRI&&0<I!+\\\\J&ALJ1.I%!RB^&\\nM+VDZ.CK*D3HO+X:1+VDZ:2\\\\Z+VF1.L>1Q\\\\?\\'Q[_\\'D<>1D35I-6F&Q\\\\<UO[]I\\nM-<?\\'+#6_-<<L+#4>-;\\\\>?7U]72Q]?<)TNGVZ+\\'U]LKJR?72R=%VZNKI=NKH:\\nMNB:ZNG*RLK(:&KJZ)G(:LG(:NAJZ&G(FNK*Z<G*R<K(FNAJR)AH:<KIR&AHF\\nMLK(:)G(:&AJZ<AH:NB:RNKJR&KH:&KJZ)KJZ7;(FPETFNEVZ=+HF=\\'VZ77UT\\nM77U]?5U]7<+\"72PL-2R_+\\'TL\\'AXL-2S\\'+\"PUO\\\\>_OVG\\'Q\\\\>1O\\\\=I:;_\\'+X9I\\nM:<?\\':<<O.FEIACJ1AH;*D<J1V#K*.M@ZRB_*.FTZ.FW8RLK*.D&6RLK*RMAM\\nMEG-SECQM<VUSV-AS<VW8V\\'/8;7.6V\\',\\\\/#QMRFW8EI8\\\\RMAS/\\'/*RCQM;<IM\\nM<W/*/,K*RMAS/,IMRFW8<W/*V\\'/*.G-SV,I!0<IM\"`@(\"`@(\"`@(\"`@(\"`@(\\nM\"`@(\"`@(\"`@(\"`@(\"`@(\"`@(\"`@(\"`@(\"`@(\"`@(Y.3D@Z:FID1$KH@0$-B1\\nMV,K*.B\\\\Z.LK8.LJ1V,K*+\\\\K*+\\\\HZRB\\\\ZV$$Z+SK*+]@Z.MAMV,K*RMA!03I!\\nMV#IS<VW*RMC*;<K8<]C*;4%S;=C*V\\'-S<VW8RMAS;=B6RCP\\\\\"`@(\"`@(\"`@(\\nM````GX$*FSZ@KHC<N;D(\"`@(\"`@(\"`@(\"`@(\"`@(\"`@(\"`@(\"`@(\"`@(\"`@(\\nM\"`@(\"`@(\"`@(\"`@(T47=W7=W=W=WT=U%A871=]%WW=U`A=U`=]U`=W<C=]%W\\nM0(7=W=W=24EWW=U)W=W==]W=W85)W85`=TG==T!W0\"/=W7=)W85)W=U`W=U)\\nM=]V%W4F%=X7=0-U`W=V%=TG=W=V%W85WW7=W=W=W=]V%A4!`W8710-UW=X5W\\nM0-%WA=\\'==]W=W7=WW471W=UWT45%W45%W7=WT3P\\\\W3Q%T=\\'=W3S=/-%%144\\\\\\nMT=U%/#QST=T\\\\/$71<SS1<]%S13QST=\\'113S1<SQ%ECP\\\\;3P\\\\17.6/$5%V$5S\\nM/\\',\\\\/-ASV#S8;3P\\\\144\\\\/#QS/\\'-%13P\\\\;6T\\\\1=@\\\\<Y9S/-@\\\\/\\'-S/#P\\\\<SS8\\nMV)9M<SQS<W-S<SP\\\\;99%17,\\\\144\\\\;3Q%<W,\\\\;6US/#QS;3P\\\\13P\\\\ED66/$5S\\nM16V6<SP\\\\198\\\\145S13QM/&U%V#QS<SQSECQM/\\',\\\\/)9%<SQMV&T\\\\<T5M<SQ%\\nM13QS<W-%<]C8V#Q%V\\'-S/-C8/)8\\\\;=AM13QS/):&03HZRI&1.CJ1AI$Z03HO\\nM.I\\'*RI\\'*ACI!RI$ZRCHZD<HZ+SJ1.CK*RCHZRLII.CJ&RI$O.FF&:6G\\'D2^1\\nMQVG\\'+\\\\>&AB^_D<=IAH9IAL<LO\\\\?\\'-2S\\'ORP>+#4U?<<L-2PL?2PU?2P>++I=\\nM\\'AY]NKJZ?7VZ?5VZ?29])B:Z72:ZNETF&AHF)G(:<KH:NKJZ<G(:NB:R<G)R\\nM&G(F&AH:<G)RNAIR)G)R<G(F&G)R)B8:<B9R)KIRNKHF&B8F&B:ZLKJRNAHF\\nMLAJZ772Z&KHF7;JZ7<*ZLG0>PKH>7;JZ7;I]?2QT+%TL?;^_ORPL?2S\\'+#4L\\nM++\\\\U:2S\\'QS7\\'O[^&OY\\'\\'D9&1+\\\\=I.L>&D88ZRFDORB\\\\Z+T\\'*+Y$ZV$\\'8.MA!\\nM+SHZRLIM.MC*RMAM<\\\\K*RMC8RMASRMAS;<K8EMAS;3R6V-C8<SS*V\\'-SV,K8\\nMV-@\\\\RLISV#P\\\\;=AMRFW8V,J6V,ISRLISRFUSV,ISV$\\'*EMC*<W/*<P@(\"`@(\\nM\"`@(\"`@(\"`@(\"`@(\"`@(\"`@(\"`CDY.3DY(.#@X.#Y.3DY.2<Z^NKJZNKJ^N<\\nMY.3DY*:FID1$KHBY$!#*.LK*.CHZRLHZD4$O0=C*;=C8.LK*;2\\\\ZV#HZV-C*\\nM.CK8.LHZV$\\'8V-C*V#HZ.CK*.CK8V-C8RD&6RFV6RMC*<W/*RFUMV,IS<\\\\K8\\nM;7,(\"`@(\"`@(\"`@(\"+P3````@0J;FSZ@B-RYN;F(KJ`^FYL*@1?U]?7U%Y^!\\nM\"@J;FYN;/CZ@\"`@(\"`@(\"`@(\"`@(\"`@(\"\\'?==T5%W=\\'==]W1=]UW=X7=W7?=\\nM=]V%T7=W=]UWA7?=0\\'=W0(5W0\\'?=2=W=0(5W=]UW=T!)=W=)=W=`A7=WW7?=\\nM0-W==]U`W85)=W=W=W=W2=U)2=UW=W=W(]V%=W?==W=`2=W==X5WW7>%W4\"%\\nMW=V%=X5W=X7=W7=WW=UWA=%WA=UW=]%%=]%W=]%WW7?1T=W1=W<\\\\=]$\\\\W45W\\nMT=T\\\\/-U%T=W=/$7=W=\\'1T=U%/$4\\\\T=W=W45%13R6/#P\\\\EG,\\\\/\\',\\\\T3P\\\\/\\'-%\\nM/\\',\\\\/)8\\\\145M;6T\\\\EFUM<SQS<T5%/$5%145S13QS/#P\\\\<W-%EG-S199%ECQS\\nMV#Q%<SQS;98\\\\<T5%13S1<SQMT45M<SP\\\\144\\\\17-%/\\',\\\\<VUS/\\'-%<SS1ED4\\\\\\nM<SQ%/$71<SQS<VU%/&T\\\\<SQM/$5%16V6<W-S13P\\\\T=%%199%/#P\\\\EG,\\\\/#R6\\nMV\\'-%;6T\\\\/#QSV#R6;6T\\\\/\\'-S198\\\\;=AS/&W8/&W8/&T\\\\V-C*/,K8EFW8<SQ!\\nM+R^&.B^104$ZRI$ZD<K*D9$ZD<K*.I$Z.CJ1.I\\'*.LJ1+SK8RCHZ0<K*.B_*\\nMRI%I+SHORCI!.H8O.I%ID3HOD3J1+SII:<?\\':<>1:6G\\'Q\\\\?\\'OVG\\'QVG\\'O\\\\>_\\nMQRR_OWTU-2P>++\\\\L77U=?7T>?5T>=+ITPKH>?5W\"?2:Z?;(FNKK\")EVZNKH:\\nM&L(:PAJR<AIRLB:Z<AIR)G)R<G(:LG)R<K(:&AH:&G(:)B8F&B8:NAH:<B8F\\nM)G*R<B:RNAHFNKH:&AHFNKJZ)B;\"NKHF)K+\"LB8F77VZ7;*RNKH>NEVZ?2Q]\\nM+\\'TL+\"PL75U]+#4LQS6_\\'L>_QQ[\\'O[\\\\L+&F_QY\\'\\'OY&1:6F_Q\\\\?\\'QX8O.L=I\\nM+\\\\=ID4&104%I.LHZD2\\\\Z.LHORLK8V$\\'*V#K8RCK*;3IM;<K*RLISRG/*<W/8\\nM<W-SEG/8/,J6/-AS<]@\\\\V#QS;<K*<\\\\ISRCQM<W,\\\\<SP\\\\RFW8RLH\\\\<]AM<]AS\\nMELJ6<]AM\"`@(\"`@(\"`@(\".3DY.3DY.3DY.3DY.3DY.3DY.3DY.3D@Z:FIJ:F\\nMY.3DY.2<Z^OKJZNKJ^OKG.3DY*:FID1$B(BY$+FU.M@ZRMC8.MA!.CK*.MC*\\nM.CK*RLHZ.B]SV-C8RLHZ;<K8.MAM.CK*<W/*RFTZ0=C8<\\\\ISV#IMRG-SRG/8\\nMRI;*<\\\\K8V\\'/8RG-S<]AM<P@(\"`@(\"`@(\"`@(`+R\\\\````@0J;FSZNB-RYN=R(\\nMKCX^FPJ!GQ?U]1<7GX&!\"IN;FSX^/J\"NKHB(B-S<B(B(KJZNKHB(B(B(W=W=\\nMW7=%T=%WW47=W7=W=]UWW87==]UW0-%WW=W1T7?=W=V%W4#=A4\"%W7=W0\"-W\\nM0$#=0-U`=T!WA4G=0\\'?==]UWW7=W=]U`W4\"%W85W0-UW=]UWW85WA7=)=X5W\\nM=]V%W7?=0-UWW7?=W=UW(X5`W2-WT7?=T7?1T7>%=]V%W7?=A=%W=]\\'==W?=\\nM=]\\'1W45WW=U%T=%%W44\\\\1=U%13S1/-$\\\\145%T=W1/#Q%T=$\\\\13P\\\\W3S11=$\\\\\\nMW7,\\\\/$4\\\\T7.6T=%%/)9%EG/113S1/)9S<W-M145S<T66EG.6/#R6/-$\\\\EG,\\\\\\nM<W-%/#Q%/#QS<T5%ED4\\\\/$5M/)9%/#QS;3R6/-$\\\\1=$\\\\/#QS/#P\\\\<W,\\\\/-$\\\\\\nM<W-%/#R6T7,\\\\/#P\\\\<W,\\\\1=$\\\\<T4\\\\/#P\\\\145S<SP\\\\145S145S17-S17/1<W,\\\\\\nM<VT\\\\<W-%;466/#P\\\\;3QS;7-S;3P\\\\<VV6;=AS<W,\\\\/\\'/8<Y;8V-AS/\\'-M/-AS\\nM/\\'-M<]B6/)9MV#S8<]@Z:3II06DZ.CJ1.D&103HZACHZ0<HZD=B1RCJ1RCHZ\\nMV)\\'*D2^1+R_*+R\\\\Z.CHZD<K*.LK*RI\\'*D2^1.CHZRB^&.I$ZACJ&:<=IQSHZ\\nMQX;\\'Q\\\\>1OY\\'\\'AK_\\'OVG\\'ORR_:;\\\\L+\"PU+#6_+\\'U]?34>+\\'0L\\'ETL77T>NBP>\\nM71ZZNKJRLB8FNGVZ)B8:NK+\"NB;\"NAHFNAJZ)KJZ)KH:NAJZNKHF)G)R&KHF\\nM<B8:)G*RLG(FLB8:<AJZLG(:LG(F&AJZ&B:Z&B8:&AJR)G(:&ET:NK*ZPAI=\\nM&GTF=+*R)GU=NGVZPGUT72RZNBQ]72PL?35]+\"P>OWV_-2PL+\"PLQ\\\\?\\':<<U\\nM+\"PL:6DUQ\\\\>_Q[^1QSJ1D9$ZQSK\\'.I&&02^1+X:1D3J1.B_*RB_8RLHZV#I!\\nMV#IMRG/8<SK8.LK*<]@Z.FTZ<W/*RCIMRD&6<\\\\K8/,ISV,K*RG/*<]AMELK8\\nMV)9MRFW*RLISV,IS<]C8V`@(\"`@(\"`@(\"`@(\"`@(Y.3DY.3DY.3DY.3DY.2#\\nMY.3DY.3DY.3D@Z:FIJ:F@^3DY.2<G.OKJZNKJZOKG.3DH8.FIJ9$B-RYW+D0\\nMB*[*.MAM.CIMRMC8.CIM.CISV,HZ;6W*RMC*<SIM0<K*.LI!V-C*V,I!;6W*\\nMRG,ZRMASV\\'-!RG-M.G,ZRMC8;6W*<]C*V-C*V,K8\"`@(\"`@(\"`@(\"`@``1.\\\\\\nM`\"LK\"@J;/J\"NB+FYW(BNH#Z;FPJ?%_7U%Y^?@0H*FYN;/CZ@H*ZNB(C<W+FY\\nMN=S<W-S<W-S<W-S<17?1/\\'=W=]UWW=UWT=%%17>%=W>%145W=]V%=R-WW7?=\\nMW=W==]W10\\'>%W=W=0\\'?=0-W==T#=0\\'=W=]UW0-UW0\\'=W=W=W27=)=T#==]W=\\nMW4#=24!)0$\"%A7=W=]U`W7=`0$EWW7=WA7?=W=W=W4\"%T7?==X6%T7=WW7=`\\nMT85W=]W=T7?==]W1=]\\'=1=W1W=UW1=W1T7=WW3Q%W=W=/#P\\\\T7<\\\\/#S=/-W1\\nM13P\\\\T45%13S=/#S1/#S=/$4\\\\/#P\\\\W44\\\\145%13Q%T7-%144\\\\W3Q%/$4\\\\/#Q%\\nM13S=T3R6EMT\\\\/-%%13S1T3Q%<W-%<T4\\\\1=$\\\\13Q%W3P\\\\T3P\\\\/#S11=%ST45%\\nMED4\\\\EM\\'113Q%13Q%ED5%W=US<]$\\\\/-W1/\\',\\\\1=U%T=US<SP\\\\W3P\\\\13R6W3Q%\\nM1=&6/$71199S1=%%T7/1T471T7-M<W-S<VT\\\\<W-%/\\'-S;=C8V#QSV\\'-S/$5S\\nMV$78/&US;9;8<Y8\\\\/,K*RCQM/\\'-S;98\\\\/\\'/*V-AIQSJ1.H9!.CHZ:<HZD9\\'*\\nM.B\\\\ZRCK*D3HZD<K*V\"_*+SHZV#K8RCK*RCHZ03HZ.B_*.B\\\\O.MB1RCHZ.CHZ\\nMD3I!.I&&RLHZ:9$Z.CHZ.H8ZQSK\\'+SIID<>1D6EI-;^&QX9IQS4L+\"S\\'QRR_\\nM+#4UORPL\\'BPL\\'C5=+\\'U=?1Y=NL)]\\'L(>?1Y=PEUT7;)]?;I])KI=LKJZ)AH:\\nMNKJZNKK\"&KH:NK(:&KH:LAH:&B9R&K*Z&AJZ)AJRLB8F&K)R&G*R<AHF<KH:\\nM)KJZLG(:LKJZ&KJZ&AJZNK(FLB8FNEVZLGU=\\'KJZ72RZ\\'KI=+\\'U]NBQ=+\"Q=\\nM-5TL?5U]+\\'TU+,<UORPL+,<U-2S\\'OVEIQVF1OX:1Q[]I:<?\\'AL?\\'QY$Z:3II\\nM09&1:9&1ALK*AM@OV#K*D3K*.LHO.CK8.LI!<]@ZRD%M<]ASRFU!<]ASRMC*\\nM<\\\\IS;6W8RG/*RMC*<W/*<VW*/\\'/*EMASEMAMV`@(\"`@(\"`@(\"`@(\"`@(\"`@(\\nMY.3DY.3DY.3DY.3DY.3DY.3DY.3DY.3DIJ:FIJ:F@^3DY.2<G.OKZZNKJZOK\\nMZYSDY.2FIF5$B-RYB+6Y$(BN.MAM.LHZ<T\\'8RLK8.G-M;6TZ.G,ZRLK*;<K*\\nMRLIM.LIS<\\\\I!V,ISV,IM.MC8RLIMRCHZEG,Z;7/*RLK8<W.6RLK8V-C*<VT(\\nM\"`@(\"`@(\"`@(````@A.\"`\"LK\"IN;/J\"(W+FYB(BN/IN;\"H$7]?47GX$*\"@J;\\nMFYL^/CZ@KJZ(B(C<N;FYN;FYN;FYN;FYMKFY1=T\\\\=W=%T=%W/\\'=WT7?=17=%\\nM=X7==]UWW=\\'==]\\'==]W1=]W=A85W=W?==X5`W87=A4\"%=W?=W=UW=W?=(X5W\\nM0$#=2=W=2=W==W=W=X5WW=UW=T!)A=UWW=UW0-UW=]W=A7=W0\\'<CA7=WW=V%\\nM=]UW=W?=0(71A=UWW7?==]W117=WW=%%=]\\'=W=W11=W=W7?=W45%T=T\\\\W7=%\\nMW=W=T44\\\\17?=/\\'=%144\\\\W3P\\\\/$5%T47=1=\\'1/-T\\\\W45%1=%%ECP\\\\/-W=199S\\nM/#QST44\\\\T98\\\\W3P\\\\/$7=1=$\\\\W=T\\\\/-U%T=W1T99%W3P\\\\/$7=W3P\\\\/#S=T=W=\\nMW=W1145%W3P\\\\/$4\\\\/#P\\\\/$7=/-\\'1/-%%1=$\\\\/$4\\\\/-\\'=W44\\\\/#Q%/-W=/-$\\\\\\nMW9;1T=W=W=\\'1/-U%/$4\\\\T7/=147=T7-%W44\\\\/#P\\\\/$5%17-%<W,\\\\ECQS/\\'-%\\nM/#P\\\\17.616T\\\\V#P\\\\<SQM;7/8/)8\\\\EFUM/,IS<Y9S;7-M/#P\\\\V\\',\\\\;=C*V\\'-I\\nMQR]IQR^1.L=I:6DO.CHZ.LK*RCHZ.I&1RB\\\\ZD3J1V)$O.CK*+Y\\'*RI\\'8+SHZ\\nMRCK8RLJ1RCI!D3HZ.CK*RD$Z.CK*.D$ZD3HZ:9&1RFDZ.FF1AFF1D<?\\':<?\\'\\nMAK_\\'D;_\\'D6EIQ[\\\\U:<<U-;\\\\L+\"PUQS4U-7V_\\'BQT-1XU-2PL+\"Q]PKH>NGVZ\\nM+\\'2Z\\'GVZNKHF7;I]LB8F7;*ZLKJZ)AJZNAHFLKI=NB;\"<AHF&AJZ&KJZNB9R\\nMLAH:<K*Z<K)R<K(FNG(:&G(:NKJR&AH:NB8:NAI=)K(FNL*Z729=NB9==\\'U=\\nMNGU=NGUT\\'KH>+\\'VZ770L\\'AY=?35=\\'BQ==\"R_?7U]Q[\\\\LQRPUQS7\\'+&EI:<>1\\nM:<>_D36_D<?\\':6F&D3K\\'QX:1.L<Z.LJ1D9%I.LK*.B^1D=C*D3K8.CK*V,K*\\nMRLK*;6TZRG-MRLK*V#I!.LK*.FTZ<]C*RI9SRG/8V):6<W/8<VW*RFW*V-C8\\n-------- End of part 2 of 14 --------\\n \\n\\n\\n'"
            ],
            "application/vnd.google.colaboratory.intrinsic+json": {
              "type": "string"
            }
          },
          "metadata": {},
          "execution_count": 229
        }
      ]
    }
  ],
  "metadata": {
    "kernelspec": {
      "display_name": "Python [conda env:NLP]",
      "language": "python",
      "name": "conda-env-NLP-py"
    },
    "language_info": {
      "codemirror_mode": {
        "name": "ipython",
        "version": 3
      },
      "file_extension": ".py",
      "mimetype": "text/x-python",
      "name": "python",
      "nbconvert_exporter": "python",
      "pygments_lexer": "ipython3",
      "version": "3.7.3"
    },
    "colab": {
      "provenance": [],
      "include_colab_link": true
    }
  },
  "nbformat": 4,
  "nbformat_minor": 0
}